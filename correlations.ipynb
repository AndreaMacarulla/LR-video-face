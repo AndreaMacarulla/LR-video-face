{
 "cells": [
  {
   "attachments": {},
   "cell_type": "markdown",
   "metadata": {},
   "source": [
    "Con este programa generamos un dataframe con datos de imagenes"
   ]
  },
  {
   "cell_type": "code",
   "execution_count": 1,
   "metadata": {},
   "outputs": [],
   "source": [
    "import os\n",
    "\n",
    "home = os.path.expanduser(\"~\")\n",
    "\n",
    "db_name=  'colab_main_dataset' #'test_new_creators_4'\n",
    "input_dir = os.path.join(home, 'video_resources', 'image_datasets')\n",
    "output_dir = os.path.join(home, 'video_resources', 'sql_database')\n",
    "#output_dir = os.path.join(home, 'drive', '.shared','LR_face_video')\n",
    "database_names=['enfsi','lfw','forenface'] # 'lfw', 'scface',  'enfsi', 'enfsi2015', 'xqlfw', 'utkface','chokepoint','forenface'\n",
    "detector_names=['mtcnn'] # 'dlib', 'mtcnn', 'mtcnn_serfiq'\n",
    "embedding_model_names=[\"QMagFace\"] # , \"Dlib\", \"ArcFace\",\n",
    "attributes_to_update=[]  # 'gender', 'age', 'emotion', 'race'\n",
    "quality_model_names = ['ser_fiq', 'tface'] # 'confusion_score', 'ser_fiq',"
   ]
  },
  {
   "cell_type": "code",
   "execution_count": 2,
   "metadata": {},
   "outputs": [
    {
     "name": "stderr",
     "output_type": "stream",
     "text": [
      "2023-05-15 20:18:18.230017: I tensorflow/core/platform/cpu_feature_guard.cc:193] This TensorFlow binary is optimized with oneAPI Deep Neural Network Library (oneDNN) to use the following CPU instructions in performance-critical operations:  SSE4.1 SSE4.2 AVX AVX2 FMA\n",
      "To enable them in other operations, rebuild TensorFlow with the appropriate compiler flags.\n",
      "INFO: Created TensorFlow Lite XNNPACK delegate for CPU.\n"
     ]
    }
   ],
   "source": [
    "from sql_face.sqldb import SQLDataBase\n",
    "\n",
    "database = SQLDataBase(db_name=db_name,\n",
    "                        input_dir = input_dir,\n",
    "                        output_dir_name = output_dir,\n",
    "                        database_names = database_names,\n",
    "                        detector_names = detector_names,\n",
    "                        embedding_model_names = embedding_model_names,\n",
    "                        quality_model_names = quality_model_names)"
   ]
  },
  {
   "cell_type": "code",
   "execution_count": 3,
   "metadata": {},
   "outputs": [],
   "source": [
    "#session.close()\n"
   ]
  },
  {
   "cell_type": "code",
   "execution_count": 6,
   "metadata": {},
   "outputs": [
    {
     "ename": "",
     "evalue": "",
     "output_type": "error",
     "traceback": [
      "\u001b[1;31mCanceled future for execute_request message before replies were done"
     ]
    },
    {
     "ename": "",
     "evalue": "",
     "output_type": "error",
     "traceback": [
      "\u001b[1;31mThe Kernel crashed while executing code in the the current cell or a previous cell. Please review the code in the cell(s) to identify a possible cause of the failure. Click <a href='https://aka.ms/vscodeJupyterKernelCrash'>here</a> for more info. View Jupyter <a href='command:jupyter.viewOutput'>log</a> for further details."
     ]
    }
   ],
   "source": [
    "\n",
    "\n",
    "import pandas as pd\n",
    "import numpy as np\n",
    "from tqdm import tqdm\n",
    "from sql_face.tables import EnfsiPair, EnfsiPair2015, QualityImage, FaceImage, CroppedImage, Image, QualityModel, QualityGroup,Detector, EmbeddingModel\n",
    "\n",
    "session = database.session\n",
    "\n",
    "results = session.query(Image,Detector.name,EmbeddingModel.name,QualityModel.name,QualityImage.quality_group) \\\n",
    "                        .select_from(Image)\\\n",
    "                        .join(CroppedImage).join(Detector) \\\n",
    "                        .join(FaceImage).join(EmbeddingModel) \\\n",
    "                        .join(QualityImage).join(QualityModel) \\\n",
    "                        .filter(CroppedImage.face_detected == True,QualityImage.quality_group != None) \\\n",
    "                        .limit(2000000) \\\n",
    "                        .all()\n",
    "                        #\n",
    "\n",
    "im_cols = ['identity', 'pitch', 'angle_pitch', 'yaw', 'angle_yaw', 'roll','angle_roll',\n",
    "           'source', 'gender', 'headgear',  'age','age_number',\n",
    "            'glasses', 'type',  'beard', 'emotion', 'other_occlusions',\n",
    "            'race',  'image_id']\n",
    "\n",
    "\n",
    "df = pd.DataFrame([ [getattr(r[0],attr)   for attr in im_cols]  + list(r[1:5])\n",
    "                   for r in results],\n",
    "                   columns=im_cols + ['Detector','E_Model','Q_model','Q_group']  )\n",
    "\n",
    "session.commit() \n",
    "df.to_pickle(os.path.join(output_dir,'df_test2.pkl'))\n",
    "\n",
    "\n"
   ]
  },
  {
   "cell_type": "code",
   "execution_count": 5,
   "metadata": {},
   "outputs": [],
   "source": [
    "# query = (session.query(EnfsiPair).limit(100).all())\n",
    "\n",
    "# for img in query:\n",
    "#     filter = ['image_quality']\n",
    "#     cat = img.get_category(im_category_list = filter,fi_cat_list=[],detector='mtcnn',embedding_model='Arcface')\n",
    "\n",
    "#     cat2 = img.get_category([],[],'mtcnn','Arcface')\n",
    "\n",
    "#     a = 5\n"
   ]
  }
 ],
 "metadata": {
  "kernelspec": {
   "display_name": "sql-face",
   "language": "python",
   "name": "python3"
  },
  "language_info": {
   "codemirror_mode": {
    "name": "ipython",
    "version": 3
   },
   "file_extension": ".py",
   "mimetype": "text/x-python",
   "name": "python",
   "nbconvert_exporter": "python",
   "pygments_lexer": "ipython3",
   "version": "3.8.15"
  },
  "orig_nbformat": 4,
  "vscode": {
   "interpreter": {
    "hash": "edd2314f85f22963f985d48f57a085e9a58a34ab11a3cd413d34968a1f6f2e55"
   }
  }
 },
 "nbformat": 4,
 "nbformat_minor": 2
}
