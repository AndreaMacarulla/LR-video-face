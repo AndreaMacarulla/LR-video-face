{
 "cells": [
  {
   "attachments": {},
   "cell_type": "markdown",
   "metadata": {},
   "source": [
    "# Tratamiento del dataframe \n",
    "Se ha extraido de a base de datos un daframe en formato pickle"
   ]
  },
  {
   "attachments": {},
   "cell_type": "markdown",
   "metadata": {},
   "source": [
    "## Imports"
   ]
  },
  {
   "cell_type": "code",
   "execution_count": 1,
   "metadata": {},
   "outputs": [],
   "source": [
    "import pandas as pd\n",
    "import numpy as np\n",
    "\n",
    "import seaborn as sns\n",
    "import matplotlib.pyplot as plt\n",
    "\n",
    "from sql_face.tables import *\n",
    "import os\n",
    "import plotly.express as px\n",
    "import plotly.io as pio\n"
   ]
  },
  {
   "attachments": {},
   "cell_type": "markdown",
   "metadata": {},
   "source": [
    "## Leer dataframe del disco\n",
    "se especifica directorio y fichero pkl. No necesitamos la base de datos."
   ]
  },
  {
   "cell_type": "code",
   "execution_count": 2,
   "metadata": {},
   "outputs": [],
   "source": [
    "home = os.path.expanduser(\"~\")\n",
    "\n",
    "input_dir = os.path.join(home, 'video_resources', 'sql_database')\n",
    "df = pd.read_pickle(os.path.join(input_dir,'df_colab_20.pkl'))\n",
    "output_dir = os.path.join(home, 'video_resources', 'sunburst_20')\n",
    "if not os.path.exists(output_dir):\n",
    "    os.makedirs(output_dir)\n"
   ]
  },
  {
   "cell_type": "code",
   "execution_count": 3,
   "metadata": {},
   "outputs": [
    {
     "data": {
      "text/plain": [
       "Index(['index', 'identity', 'pitch', 'angle_pitch', 'yaw', 'angle_yaw', 'roll',\n",
       "       'angle_roll', 'source', 'gender', 'headgear', 'age', 'age_number',\n",
       "       'glasses', 'type', 'beard', 'emotion', 'other_occlusions', 'race',\n",
       "       'image_id', 'Detector', 'E_Model', 'Q_Model', 'Q_group', 'Quality'],\n",
       "      dtype='object')"
      ]
     },
     "execution_count": 3,
     "metadata": {},
     "output_type": "execute_result"
    }
   ],
   "source": [
    "df.columns"
   ]
  },
  {
   "cell_type": "code",
   "execution_count": 4,
   "metadata": {},
   "outputs": [
    {
     "data": {
      "text/plain": [
       "QMagFace    484136\n",
       "Name: E_Model, dtype: int64"
      ]
     },
     "execution_count": 4,
     "metadata": {},
     "output_type": "execute_result"
    }
   ],
   "source": [
    "df.E_Model.value_counts()"
   ]
  },
  {
   "attachments": {},
   "cell_type": "markdown",
   "metadata": {},
   "source": [
    "### Quitamos los Embedding Models\n",
    "y los registros repetidos"
   ]
  },
  {
   "cell_type": "code",
   "execution_count": 5,
   "metadata": {},
   "outputs": [],
   "source": [
    "df2 = df.copy()\n",
    "# #df2 = df.loc[df['type'] == 'enfsiImage']\n",
    "# df2.drop('E_Model', axis = 1,inplace = True)\n",
    "# df2 = df2.drop_duplicates(subset = ['image_id','Detector','Q_model'])\n",
    "# df2 = df2.reset_index(drop=True)"
   ]
  },
  {
   "cell_type": "code",
   "execution_count": 6,
   "metadata": {},
   "outputs": [
    {
     "data": {
      "text/plain": [
       "484136"
      ]
     },
     "execution_count": 6,
     "metadata": {},
     "output_type": "execute_result"
    }
   ],
   "source": [
    "len(df2)"
   ]
  },
  {
   "cell_type": "code",
   "execution_count": 7,
   "metadata": {},
   "outputs": [
    {
     "data": {
      "text/plain": [
       "mtcnn           229466\n",
       "mtcnn_serfiq    158437\n",
       "mediapipe        96233\n",
       "Name: Detector, dtype: int64"
      ]
     },
     "execution_count": 7,
     "metadata": {},
     "output_type": "execute_result"
    }
   ],
   "source": [
    "\n",
    "df2.Detector.value_counts()"
   ]
  },
  {
   "cell_type": "code",
   "execution_count": 8,
   "metadata": {},
   "outputs": [
    {
     "data": {
      "text/plain": [
       "ser_fiq    286623\n",
       "tface      197513\n",
       "Name: Q_Model, dtype: int64"
      ]
     },
     "execution_count": 8,
     "metadata": {},
     "output_type": "execute_result"
    }
   ],
   "source": [
    "df2.Q_Model.value_counts()"
   ]
  },
  {
   "attachments": {},
   "cell_type": "markdown",
   "metadata": {},
   "source": [
    "### Nos quedamos con Un solo detector y quality Model"
   ]
  },
  {
   "cell_type": "code",
   "execution_count": 9,
   "metadata": {},
   "outputs": [],
   "source": [
    "df3 = df2.loc[(df2.Detector == 'mtcnn_serfiq') & (df2.Q_Model=='ser_fiq')]\n",
    "df3.reset_index(drop=True, inplace = True)\n"
   ]
  },
  {
   "cell_type": "code",
   "execution_count": 10,
   "metadata": {},
   "outputs": [
    {
     "data": {
      "text/html": [
       "<div>\n",
       "<style scoped>\n",
       "    .dataframe tbody tr th:only-of-type {\n",
       "        vertical-align: middle;\n",
       "    }\n",
       "\n",
       "    .dataframe tbody tr th {\n",
       "        vertical-align: top;\n",
       "    }\n",
       "\n",
       "    .dataframe thead th {\n",
       "        text-align: right;\n",
       "    }\n",
       "</style>\n",
       "<table border=\"1\" class=\"dataframe\">\n",
       "  <thead>\n",
       "    <tr style=\"text-align: right;\">\n",
       "      <th></th>\n",
       "      <th>index</th>\n",
       "      <th>identity</th>\n",
       "      <th>pitch</th>\n",
       "      <th>angle_pitch</th>\n",
       "      <th>yaw</th>\n",
       "      <th>angle_yaw</th>\n",
       "      <th>roll</th>\n",
       "      <th>angle_roll</th>\n",
       "      <th>source</th>\n",
       "      <th>gender</th>\n",
       "      <th>...</th>\n",
       "      <th>beard</th>\n",
       "      <th>emotion</th>\n",
       "      <th>other_occlusions</th>\n",
       "      <th>race</th>\n",
       "      <th>image_id</th>\n",
       "      <th>Detector</th>\n",
       "      <th>E_Model</th>\n",
       "      <th>Q_Model</th>\n",
       "      <th>Q_group</th>\n",
       "      <th>Quality</th>\n",
       "    </tr>\n",
       "  </thead>\n",
       "  <tbody>\n",
       "    <tr>\n",
       "      <th>0</th>\n",
       "      <td>3882</td>\n",
       "      <td>060</td>\n",
       "      <td>Pitch.HALF_UP</td>\n",
       "      <td>NaN</td>\n",
       "      <td>Yaw.FRONTAL</td>\n",
       "      <td>NaN</td>\n",
       "      <td>Roll.FRONTAL</td>\n",
       "      <td>NaN</td>\n",
       "      <td>SCFace</td>\n",
       "      <td>Gender.MALE</td>\n",
       "      <td>...</td>\n",
       "      <td>False</td>\n",
       "      <td>Emotion.NEUTRAL</td>\n",
       "      <td>None</td>\n",
       "      <td>Race.WHITE</td>\n",
       "      <td>391</td>\n",
       "      <td>mtcnn_serfiq</td>\n",
       "      <td>QMagFace</td>\n",
       "      <td>ser_fiq</td>\n",
       "      <td>QualityGroup.VERY_HIGH</td>\n",
       "      <td>0.820794</td>\n",
       "    </tr>\n",
       "    <tr>\n",
       "      <th>1</th>\n",
       "      <td>3883</td>\n",
       "      <td>030</td>\n",
       "      <td>Pitch.HALF_DOWN</td>\n",
       "      <td>NaN</td>\n",
       "      <td>Yaw.FRONTAL</td>\n",
       "      <td>NaN</td>\n",
       "      <td>Roll.FRONTAL</td>\n",
       "      <td>NaN</td>\n",
       "      <td>SCFace</td>\n",
       "      <td>Gender.MALE</td>\n",
       "      <td>...</td>\n",
       "      <td>False</td>\n",
       "      <td>Emotion.NEUTRAL</td>\n",
       "      <td>None</td>\n",
       "      <td>Race.WHITE</td>\n",
       "      <td>392</td>\n",
       "      <td>mtcnn_serfiq</td>\n",
       "      <td>QMagFace</td>\n",
       "      <td>ser_fiq</td>\n",
       "      <td>QualityGroup.LOW</td>\n",
       "      <td>0.022044</td>\n",
       "    </tr>\n",
       "    <tr>\n",
       "      <th>2</th>\n",
       "      <td>3884</td>\n",
       "      <td>047</td>\n",
       "      <td>Pitch.DOWN</td>\n",
       "      <td>NaN</td>\n",
       "      <td>Yaw.FRONTAL</td>\n",
       "      <td>NaN</td>\n",
       "      <td>Roll.FRONTAL</td>\n",
       "      <td>NaN</td>\n",
       "      <td>SCFace</td>\n",
       "      <td>Gender.MALE</td>\n",
       "      <td>...</td>\n",
       "      <td>False</td>\n",
       "      <td>Emotion.NEUTRAL</td>\n",
       "      <td>None</td>\n",
       "      <td>Race.WHITE</td>\n",
       "      <td>393</td>\n",
       "      <td>mtcnn_serfiq</td>\n",
       "      <td>QMagFace</td>\n",
       "      <td>ser_fiq</td>\n",
       "      <td>QualityGroup.VERY_HIGH</td>\n",
       "      <td>0.869096</td>\n",
       "    </tr>\n",
       "    <tr>\n",
       "      <th>3</th>\n",
       "      <td>3885</td>\n",
       "      <td>014</td>\n",
       "      <td>Pitch.FRONTAL</td>\n",
       "      <td>NaN</td>\n",
       "      <td>Yaw.PROFILE</td>\n",
       "      <td>NaN</td>\n",
       "      <td>None</td>\n",
       "      <td>NaN</td>\n",
       "      <td>SCFace</td>\n",
       "      <td>Gender.FEMALE</td>\n",
       "      <td>...</td>\n",
       "      <td>False</td>\n",
       "      <td>Emotion.NEUTRAL</td>\n",
       "      <td>None</td>\n",
       "      <td>Race.WHITE</td>\n",
       "      <td>394</td>\n",
       "      <td>mtcnn_serfiq</td>\n",
       "      <td>QMagFace</td>\n",
       "      <td>ser_fiq</td>\n",
       "      <td>QualityGroup.LOW</td>\n",
       "      <td>0.038777</td>\n",
       "    </tr>\n",
       "    <tr>\n",
       "      <th>4</th>\n",
       "      <td>3886</td>\n",
       "      <td>035</td>\n",
       "      <td>Pitch.FRONTAL</td>\n",
       "      <td>NaN</td>\n",
       "      <td>Yaw.FRONTAL</td>\n",
       "      <td>NaN</td>\n",
       "      <td>Roll.HALF_LEANING</td>\n",
       "      <td>NaN</td>\n",
       "      <td>SCFace</td>\n",
       "      <td>Gender.MALE</td>\n",
       "      <td>...</td>\n",
       "      <td>True</td>\n",
       "      <td>Emotion.NEUTRAL</td>\n",
       "      <td>None</td>\n",
       "      <td>Race.WHITE</td>\n",
       "      <td>395</td>\n",
       "      <td>mtcnn_serfiq</td>\n",
       "      <td>QMagFace</td>\n",
       "      <td>ser_fiq</td>\n",
       "      <td>QualityGroup.VERY_HIGH</td>\n",
       "      <td>0.841657</td>\n",
       "    </tr>\n",
       "    <tr>\n",
       "      <th>...</th>\n",
       "      <td>...</td>\n",
       "      <td>...</td>\n",
       "      <td>...</td>\n",
       "      <td>...</td>\n",
       "      <td>...</td>\n",
       "      <td>...</td>\n",
       "      <td>...</td>\n",
       "      <td>...</td>\n",
       "      <td>...</td>\n",
       "      <td>...</td>\n",
       "      <td>...</td>\n",
       "      <td>...</td>\n",
       "      <td>...</td>\n",
       "      <td>...</td>\n",
       "      <td>...</td>\n",
       "      <td>...</td>\n",
       "      <td>...</td>\n",
       "      <td>...</td>\n",
       "      <td>...</td>\n",
       "      <td>...</td>\n",
       "      <td>...</td>\n",
       "    </tr>\n",
       "    <tr>\n",
       "      <th>114996</th>\n",
       "      <td>317</td>\n",
       "      <td>2015-17</td>\n",
       "      <td>Pitch.FRONTAL</td>\n",
       "      <td>-3.240460</td>\n",
       "      <td>Yaw.PROFILE</td>\n",
       "      <td>-36.129102</td>\n",
       "      <td>Roll.FRONTAL</td>\n",
       "      <td>1.442869</td>\n",
       "      <td>ENFSI</td>\n",
       "      <td>Gender.FEMALE</td>\n",
       "      <td>...</td>\n",
       "      <td>None</td>\n",
       "      <td>Emotion.NEUTRAL</td>\n",
       "      <td>None</td>\n",
       "      <td>Race.WHITE</td>\n",
       "      <td>8589</td>\n",
       "      <td>mtcnn_serfiq</td>\n",
       "      <td>QMagFace</td>\n",
       "      <td>ser_fiq</td>\n",
       "      <td>QualityGroup.VERY_HIGH</td>\n",
       "      <td>0.808182</td>\n",
       "    </tr>\n",
       "    <tr>\n",
       "      <th>114997</th>\n",
       "      <td>318</td>\n",
       "      <td>2015-17</td>\n",
       "      <td>Pitch.FRONTAL</td>\n",
       "      <td>-6.424410</td>\n",
       "      <td>Yaw.PROFILE</td>\n",
       "      <td>25.806312</td>\n",
       "      <td>Roll.FRONTAL</td>\n",
       "      <td>0.167557</td>\n",
       "      <td>ENFSI</td>\n",
       "      <td>Gender.FEMALE</td>\n",
       "      <td>...</td>\n",
       "      <td>None</td>\n",
       "      <td>Emotion.SAD</td>\n",
       "      <td>None</td>\n",
       "      <td>Race.WHITE</td>\n",
       "      <td>8590</td>\n",
       "      <td>mtcnn_serfiq</td>\n",
       "      <td>QMagFace</td>\n",
       "      <td>ser_fiq</td>\n",
       "      <td>QualityGroup.VERY_HIGH</td>\n",
       "      <td>0.774945</td>\n",
       "    </tr>\n",
       "    <tr>\n",
       "      <th>114998</th>\n",
       "      <td>319</td>\n",
       "      <td>2015-17</td>\n",
       "      <td>Pitch.DOWN</td>\n",
       "      <td>22.755557</td>\n",
       "      <td>Yaw.PROFILE</td>\n",
       "      <td>21.899967</td>\n",
       "      <td>Roll.HALF_LEANING</td>\n",
       "      <td>10.146845</td>\n",
       "      <td>ENFSI</td>\n",
       "      <td>Gender.FEMALE</td>\n",
       "      <td>...</td>\n",
       "      <td>None</td>\n",
       "      <td>Emotion.FEAR</td>\n",
       "      <td>None</td>\n",
       "      <td>Race.WHITE</td>\n",
       "      <td>8591</td>\n",
       "      <td>mtcnn_serfiq</td>\n",
       "      <td>QMagFace</td>\n",
       "      <td>ser_fiq</td>\n",
       "      <td>QualityGroup.VERY_HIGH</td>\n",
       "      <td>0.840112</td>\n",
       "    </tr>\n",
       "    <tr>\n",
       "      <th>114999</th>\n",
       "      <td>320</td>\n",
       "      <td>2015-17</td>\n",
       "      <td>Pitch.FRONTAL</td>\n",
       "      <td>-7.860651</td>\n",
       "      <td>Yaw.FRONTAL</td>\n",
       "      <td>-7.253606</td>\n",
       "      <td>Roll.FRONTAL</td>\n",
       "      <td>2.571381</td>\n",
       "      <td>ENFSI</td>\n",
       "      <td>Gender.FEMALE</td>\n",
       "      <td>...</td>\n",
       "      <td>None</td>\n",
       "      <td>Emotion.FEAR</td>\n",
       "      <td>None</td>\n",
       "      <td>Race.WHITE</td>\n",
       "      <td>8592</td>\n",
       "      <td>mtcnn_serfiq</td>\n",
       "      <td>QMagFace</td>\n",
       "      <td>ser_fiq</td>\n",
       "      <td>QualityGroup.VERY_HIGH</td>\n",
       "      <td>0.875079</td>\n",
       "    </tr>\n",
       "    <tr>\n",
       "      <th>115000</th>\n",
       "      <td>321</td>\n",
       "      <td>2015-17</td>\n",
       "      <td>Pitch.DOWN</td>\n",
       "      <td>16.872445</td>\n",
       "      <td>Yaw.PROFILE</td>\n",
       "      <td>46.194136</td>\n",
       "      <td>Roll.HORIZONTAL</td>\n",
       "      <td>27.124986</td>\n",
       "      <td>ENFSI</td>\n",
       "      <td>Gender.FEMALE</td>\n",
       "      <td>...</td>\n",
       "      <td>None</td>\n",
       "      <td>Emotion.SAD</td>\n",
       "      <td>None</td>\n",
       "      <td>Race.WHITE</td>\n",
       "      <td>8593</td>\n",
       "      <td>mtcnn_serfiq</td>\n",
       "      <td>QMagFace</td>\n",
       "      <td>ser_fiq</td>\n",
       "      <td>QualityGroup.MEDIUM</td>\n",
       "      <td>0.252301</td>\n",
       "    </tr>\n",
       "  </tbody>\n",
       "</table>\n",
       "<p>115001 rows × 25 columns</p>\n",
       "</div>"
      ],
      "text/plain": [
       "        index identity            pitch  angle_pitch          yaw  angle_yaw  \\\n",
       "0        3882      060    Pitch.HALF_UP          NaN  Yaw.FRONTAL        NaN   \n",
       "1        3883      030  Pitch.HALF_DOWN          NaN  Yaw.FRONTAL        NaN   \n",
       "2        3884      047       Pitch.DOWN          NaN  Yaw.FRONTAL        NaN   \n",
       "3        3885      014    Pitch.FRONTAL          NaN  Yaw.PROFILE        NaN   \n",
       "4        3886      035    Pitch.FRONTAL          NaN  Yaw.FRONTAL        NaN   \n",
       "...       ...      ...              ...          ...          ...        ...   \n",
       "114996    317  2015-17    Pitch.FRONTAL    -3.240460  Yaw.PROFILE -36.129102   \n",
       "114997    318  2015-17    Pitch.FRONTAL    -6.424410  Yaw.PROFILE  25.806312   \n",
       "114998    319  2015-17       Pitch.DOWN    22.755557  Yaw.PROFILE  21.899967   \n",
       "114999    320  2015-17    Pitch.FRONTAL    -7.860651  Yaw.FRONTAL  -7.253606   \n",
       "115000    321  2015-17       Pitch.DOWN    16.872445  Yaw.PROFILE  46.194136   \n",
       "\n",
       "                     roll  angle_roll  source         gender  ...  beard  \\\n",
       "0            Roll.FRONTAL         NaN  SCFace    Gender.MALE  ...  False   \n",
       "1            Roll.FRONTAL         NaN  SCFace    Gender.MALE  ...  False   \n",
       "2            Roll.FRONTAL         NaN  SCFace    Gender.MALE  ...  False   \n",
       "3                    None         NaN  SCFace  Gender.FEMALE  ...  False   \n",
       "4       Roll.HALF_LEANING         NaN  SCFace    Gender.MALE  ...   True   \n",
       "...                   ...         ...     ...            ...  ...    ...   \n",
       "114996       Roll.FRONTAL    1.442869   ENFSI  Gender.FEMALE  ...   None   \n",
       "114997       Roll.FRONTAL    0.167557   ENFSI  Gender.FEMALE  ...   None   \n",
       "114998  Roll.HALF_LEANING   10.146845   ENFSI  Gender.FEMALE  ...   None   \n",
       "114999       Roll.FRONTAL    2.571381   ENFSI  Gender.FEMALE  ...   None   \n",
       "115000    Roll.HORIZONTAL   27.124986   ENFSI  Gender.FEMALE  ...   None   \n",
       "\n",
       "                emotion  other_occlusions        race image_id      Detector  \\\n",
       "0       Emotion.NEUTRAL              None  Race.WHITE      391  mtcnn_serfiq   \n",
       "1       Emotion.NEUTRAL              None  Race.WHITE      392  mtcnn_serfiq   \n",
       "2       Emotion.NEUTRAL              None  Race.WHITE      393  mtcnn_serfiq   \n",
       "3       Emotion.NEUTRAL              None  Race.WHITE      394  mtcnn_serfiq   \n",
       "4       Emotion.NEUTRAL              None  Race.WHITE      395  mtcnn_serfiq   \n",
       "...                 ...               ...         ...      ...           ...   \n",
       "114996  Emotion.NEUTRAL              None  Race.WHITE     8589  mtcnn_serfiq   \n",
       "114997      Emotion.SAD              None  Race.WHITE     8590  mtcnn_serfiq   \n",
       "114998     Emotion.FEAR              None  Race.WHITE     8591  mtcnn_serfiq   \n",
       "114999     Emotion.FEAR              None  Race.WHITE     8592  mtcnn_serfiq   \n",
       "115000      Emotion.SAD              None  Race.WHITE     8593  mtcnn_serfiq   \n",
       "\n",
       "         E_Model  Q_Model                 Q_group   Quality  \n",
       "0       QMagFace  ser_fiq  QualityGroup.VERY_HIGH  0.820794  \n",
       "1       QMagFace  ser_fiq        QualityGroup.LOW  0.022044  \n",
       "2       QMagFace  ser_fiq  QualityGroup.VERY_HIGH  0.869096  \n",
       "3       QMagFace  ser_fiq        QualityGroup.LOW  0.038777  \n",
       "4       QMagFace  ser_fiq  QualityGroup.VERY_HIGH  0.841657  \n",
       "...          ...      ...                     ...       ...  \n",
       "114996  QMagFace  ser_fiq  QualityGroup.VERY_HIGH  0.808182  \n",
       "114997  QMagFace  ser_fiq  QualityGroup.VERY_HIGH  0.774945  \n",
       "114998  QMagFace  ser_fiq  QualityGroup.VERY_HIGH  0.840112  \n",
       "114999  QMagFace  ser_fiq  QualityGroup.VERY_HIGH  0.875079  \n",
       "115000  QMagFace  ser_fiq     QualityGroup.MEDIUM  0.252301  \n",
       "\n",
       "[115001 rows x 25 columns]"
      ]
     },
     "execution_count": 10,
     "metadata": {},
     "output_type": "execute_result"
    }
   ],
   "source": [
    "df3"
   ]
  },
  {
   "attachments": {},
   "cell_type": "markdown",
   "metadata": {},
   "source": [
    "### Convertimos en string los Enums y nos quedamos con las columnas que queremos"
   ]
  },
  {
   "cell_type": "code",
   "execution_count": 11,
   "metadata": {},
   "outputs": [],
   "source": [
    "#df3 = df2.copy()\n",
    "#convertimos a String los Enum\n",
    "variables = ['gender','yaw','pitch','emotion','race']#'Q_group','pitch','roll',\n",
    "#df_plot = df.Quality\n",
    "for var in variables:\n",
    "    df3[var] = df3[var].apply(lambda x: x.value if x else None)\n",
    "\n",
    "\n",
    "variables += ['source','Quality','Detector', 'E_Model','Q_Model']\n",
    "df_plot = df3[variables]"
   ]
  },
  {
   "cell_type": "code",
   "execution_count": 12,
   "metadata": {},
   "outputs": [
    {
     "data": {
      "text/plain": [
       "Index(['index', 'identity', 'pitch', 'angle_pitch', 'yaw', 'angle_yaw', 'roll',\n",
       "       'angle_roll', 'source', 'gender', 'headgear', 'age', 'age_number',\n",
       "       'glasses', 'type', 'beard', 'emotion', 'other_occlusions', 'race',\n",
       "       'image_id', 'Detector', 'E_Model', 'Q_Model', 'Q_group', 'Quality'],\n",
       "      dtype='object')"
      ]
     },
     "execution_count": 12,
     "metadata": {},
     "output_type": "execute_result"
    }
   ],
   "source": [
    "df3.columns"
   ]
  },
  {
   "cell_type": "code",
   "execution_count": 13,
   "metadata": {},
   "outputs": [
    {
     "data": {
      "text/plain": [
       "Index(['gender', 'yaw', 'pitch', 'emotion', 'race', 'source', 'Quality',\n",
       "       'Detector', 'E_Model', 'Q_Model'],\n",
       "      dtype='object')"
      ]
     },
     "execution_count": 13,
     "metadata": {},
     "output_type": "execute_result"
    }
   ],
   "source": [
    "df_plot.columns"
   ]
  },
  {
   "cell_type": "code",
   "execution_count": 14,
   "metadata": {},
   "outputs": [
    {
     "data": {
      "text/plain": [
       "Q_Model  E_Model   Detector      source    \n",
       "ser_fiq  QMagFace  mtcnn_serfiq  ChokePoint    71565\n",
       "                                 UTKface       23955\n",
       "                                 XQLFW         13140\n",
       "                                 SCFace         3841\n",
       "                                 ForenFace      2342\n",
       "                                 ENFSI           158\n",
       "dtype: int64"
      ]
     },
     "execution_count": 14,
     "metadata": {},
     "output_type": "execute_result"
    }
   ],
   "source": [
    "df_plot[['Q_Model','E_Model','Detector','source']].groupby(['Q_Model','E_Model','Detector']).value_counts()"
   ]
  },
  {
   "attachments": {},
   "cell_type": "markdown",
   "metadata": {},
   "source": [
    "## definimos la función de ploteo\n",
    "-['gender', 'yaw', 'pitch', 'race']"
   ]
  },
  {
   "cell_type": "code",
   "execution_count": 15,
   "metadata": {},
   "outputs": [],
   "source": [
    "def plot_sun(source,e_model):\n",
    "    df_x = df_plot.loc[((df_plot.source==source) & (df_plot.E_Model==e_model))]\n",
    "    df_x.dropna(inplace=True)\n",
    "    fig = px.sunburst(df_x, path=['gender', 'yaw', 'pitch', 'race'],   color=\"Quality\",\n",
    "                  color_continuous_scale=\"Viridis\",\n",
    "                  range_color=[0, 1],title=f'{source}, Model {e_model}') #values=\"gender\"#\"Q_model\", \"Detector\",\n",
    "    #fig.update_layout(title=source)\n",
    "    #img_data = pio.to_image(fig,format='png',scale=3)\n",
    "\n",
    "    pio.write_image(fig,os.path.join(output_dir,source+\"_sunburst_21.png\"),format='png', scale=6)\n",
    "    fig.show()"
   ]
  },
  {
   "cell_type": "code",
   "execution_count": 16,
   "metadata": {},
   "outputs": [],
   "source": [
    "df_y = df_plot.loc[((df_plot.source=='UTKface') & (df_plot.E_Model=='QMagFace_SR'))]\n",
    "df_y.to_excel(os.path.join(output_dir,'UTKFace_plot.xlsx'))"
   ]
  },
  {
   "cell_type": "code",
   "execution_count": 17,
   "metadata": {},
   "outputs": [
    {
     "data": {
      "text/plain": [
       "Series([], Name: gender, dtype: int64)"
      ]
     },
     "execution_count": 17,
     "metadata": {},
     "output_type": "execute_result"
    }
   ],
   "source": [
    "df_y.gender.value_counts()"
   ]
  },
  {
   "attachments": {},
   "cell_type": "markdown",
   "metadata": {},
   "source": [
    "## Definimos las sources que queremos y hacemos el plot (y se guarden en disco)"
   ]
  },
  {
   "cell_type": "code",
   "execution_count": 22,
   "metadata": {},
   "outputs": [],
   "source": [
    "sources = [ 'ForenFace', 'ChokePoint', 'SCFace',  'XQLFW']"
   ]
  },
  {
   "cell_type": "code",
   "execution_count": 23,
   "metadata": {},
   "outputs": [
    {
     "data": {
      "application/vnd.plotly.v1+json": {
       "config": {
        "plotlyServerURL": "https://plot.ly"
       },
       "data": [
        {
         "branchvalues": "total",
         "customdata": [],
         "domain": {
          "x": [
           0,
           1
          ],
          "y": [
           0,
           1
          ]
         },
         "hovertemplate": "labels=%{label}<br>count=%{value}<br>parent=%{parent}<br>id=%{id}<br>Quality=%{color}<extra></extra>",
         "ids": [],
         "labels": [],
         "marker": {
          "coloraxis": "coloraxis",
          "colors": []
         },
         "name": "",
         "parents": [],
         "type": "sunburst",
         "values": []
        }
       ],
       "layout": {
        "coloraxis": {
         "cmax": 1,
         "cmin": 0,
         "colorbar": {
          "title": {
           "text": "Quality"
          }
         },
         "colorscale": [
          [
           0,
           "#440154"
          ],
          [
           0.1111111111111111,
           "#482878"
          ],
          [
           0.2222222222222222,
           "#3e4989"
          ],
          [
           0.3333333333333333,
           "#31688e"
          ],
          [
           0.4444444444444444,
           "#26828e"
          ],
          [
           0.5555555555555556,
           "#1f9e89"
          ],
          [
           0.6666666666666666,
           "#35b779"
          ],
          [
           0.7777777777777778,
           "#6ece58"
          ],
          [
           0.8888888888888888,
           "#b5de2b"
          ],
          [
           1,
           "#fde725"
          ]
         ]
        },
        "legend": {
         "tracegroupgap": 0
        },
        "template": {
         "data": {
          "bar": [
           {
            "error_x": {
             "color": "#2a3f5f"
            },
            "error_y": {
             "color": "#2a3f5f"
            },
            "marker": {
             "line": {
              "color": "#E5ECF6",
              "width": 0.5
             },
             "pattern": {
              "fillmode": "overlay",
              "size": 10,
              "solidity": 0.2
             }
            },
            "type": "bar"
           }
          ],
          "barpolar": [
           {
            "marker": {
             "line": {
              "color": "#E5ECF6",
              "width": 0.5
             },
             "pattern": {
              "fillmode": "overlay",
              "size": 10,
              "solidity": 0.2
             }
            },
            "type": "barpolar"
           }
          ],
          "carpet": [
           {
            "aaxis": {
             "endlinecolor": "#2a3f5f",
             "gridcolor": "white",
             "linecolor": "white",
             "minorgridcolor": "white",
             "startlinecolor": "#2a3f5f"
            },
            "baxis": {
             "endlinecolor": "#2a3f5f",
             "gridcolor": "white",
             "linecolor": "white",
             "minorgridcolor": "white",
             "startlinecolor": "#2a3f5f"
            },
            "type": "carpet"
           }
          ],
          "choropleth": [
           {
            "colorbar": {
             "outlinewidth": 0,
             "ticks": ""
            },
            "type": "choropleth"
           }
          ],
          "contour": [
           {
            "colorbar": {
             "outlinewidth": 0,
             "ticks": ""
            },
            "colorscale": [
             [
              0,
              "#0d0887"
             ],
             [
              0.1111111111111111,
              "#46039f"
             ],
             [
              0.2222222222222222,
              "#7201a8"
             ],
             [
              0.3333333333333333,
              "#9c179e"
             ],
             [
              0.4444444444444444,
              "#bd3786"
             ],
             [
              0.5555555555555556,
              "#d8576b"
             ],
             [
              0.6666666666666666,
              "#ed7953"
             ],
             [
              0.7777777777777778,
              "#fb9f3a"
             ],
             [
              0.8888888888888888,
              "#fdca26"
             ],
             [
              1,
              "#f0f921"
             ]
            ],
            "type": "contour"
           }
          ],
          "contourcarpet": [
           {
            "colorbar": {
             "outlinewidth": 0,
             "ticks": ""
            },
            "type": "contourcarpet"
           }
          ],
          "heatmap": [
           {
            "colorbar": {
             "outlinewidth": 0,
             "ticks": ""
            },
            "colorscale": [
             [
              0,
              "#0d0887"
             ],
             [
              0.1111111111111111,
              "#46039f"
             ],
             [
              0.2222222222222222,
              "#7201a8"
             ],
             [
              0.3333333333333333,
              "#9c179e"
             ],
             [
              0.4444444444444444,
              "#bd3786"
             ],
             [
              0.5555555555555556,
              "#d8576b"
             ],
             [
              0.6666666666666666,
              "#ed7953"
             ],
             [
              0.7777777777777778,
              "#fb9f3a"
             ],
             [
              0.8888888888888888,
              "#fdca26"
             ],
             [
              1,
              "#f0f921"
             ]
            ],
            "type": "heatmap"
           }
          ],
          "heatmapgl": [
           {
            "colorbar": {
             "outlinewidth": 0,
             "ticks": ""
            },
            "colorscale": [
             [
              0,
              "#0d0887"
             ],
             [
              0.1111111111111111,
              "#46039f"
             ],
             [
              0.2222222222222222,
              "#7201a8"
             ],
             [
              0.3333333333333333,
              "#9c179e"
             ],
             [
              0.4444444444444444,
              "#bd3786"
             ],
             [
              0.5555555555555556,
              "#d8576b"
             ],
             [
              0.6666666666666666,
              "#ed7953"
             ],
             [
              0.7777777777777778,
              "#fb9f3a"
             ],
             [
              0.8888888888888888,
              "#fdca26"
             ],
             [
              1,
              "#f0f921"
             ]
            ],
            "type": "heatmapgl"
           }
          ],
          "histogram": [
           {
            "marker": {
             "pattern": {
              "fillmode": "overlay",
              "size": 10,
              "solidity": 0.2
             }
            },
            "type": "histogram"
           }
          ],
          "histogram2d": [
           {
            "colorbar": {
             "outlinewidth": 0,
             "ticks": ""
            },
            "colorscale": [
             [
              0,
              "#0d0887"
             ],
             [
              0.1111111111111111,
              "#46039f"
             ],
             [
              0.2222222222222222,
              "#7201a8"
             ],
             [
              0.3333333333333333,
              "#9c179e"
             ],
             [
              0.4444444444444444,
              "#bd3786"
             ],
             [
              0.5555555555555556,
              "#d8576b"
             ],
             [
              0.6666666666666666,
              "#ed7953"
             ],
             [
              0.7777777777777778,
              "#fb9f3a"
             ],
             [
              0.8888888888888888,
              "#fdca26"
             ],
             [
              1,
              "#f0f921"
             ]
            ],
            "type": "histogram2d"
           }
          ],
          "histogram2dcontour": [
           {
            "colorbar": {
             "outlinewidth": 0,
             "ticks": ""
            },
            "colorscale": [
             [
              0,
              "#0d0887"
             ],
             [
              0.1111111111111111,
              "#46039f"
             ],
             [
              0.2222222222222222,
              "#7201a8"
             ],
             [
              0.3333333333333333,
              "#9c179e"
             ],
             [
              0.4444444444444444,
              "#bd3786"
             ],
             [
              0.5555555555555556,
              "#d8576b"
             ],
             [
              0.6666666666666666,
              "#ed7953"
             ],
             [
              0.7777777777777778,
              "#fb9f3a"
             ],
             [
              0.8888888888888888,
              "#fdca26"
             ],
             [
              1,
              "#f0f921"
             ]
            ],
            "type": "histogram2dcontour"
           }
          ],
          "mesh3d": [
           {
            "colorbar": {
             "outlinewidth": 0,
             "ticks": ""
            },
            "type": "mesh3d"
           }
          ],
          "parcoords": [
           {
            "line": {
             "colorbar": {
              "outlinewidth": 0,
              "ticks": ""
             }
            },
            "type": "parcoords"
           }
          ],
          "pie": [
           {
            "automargin": true,
            "type": "pie"
           }
          ],
          "scatter": [
           {
            "fillpattern": {
             "fillmode": "overlay",
             "size": 10,
             "solidity": 0.2
            },
            "type": "scatter"
           }
          ],
          "scatter3d": [
           {
            "line": {
             "colorbar": {
              "outlinewidth": 0,
              "ticks": ""
             }
            },
            "marker": {
             "colorbar": {
              "outlinewidth": 0,
              "ticks": ""
             }
            },
            "type": "scatter3d"
           }
          ],
          "scattercarpet": [
           {
            "marker": {
             "colorbar": {
              "outlinewidth": 0,
              "ticks": ""
             }
            },
            "type": "scattercarpet"
           }
          ],
          "scattergeo": [
           {
            "marker": {
             "colorbar": {
              "outlinewidth": 0,
              "ticks": ""
             }
            },
            "type": "scattergeo"
           }
          ],
          "scattergl": [
           {
            "marker": {
             "colorbar": {
              "outlinewidth": 0,
              "ticks": ""
             }
            },
            "type": "scattergl"
           }
          ],
          "scattermapbox": [
           {
            "marker": {
             "colorbar": {
              "outlinewidth": 0,
              "ticks": ""
             }
            },
            "type": "scattermapbox"
           }
          ],
          "scatterpolar": [
           {
            "marker": {
             "colorbar": {
              "outlinewidth": 0,
              "ticks": ""
             }
            },
            "type": "scatterpolar"
           }
          ],
          "scatterpolargl": [
           {
            "marker": {
             "colorbar": {
              "outlinewidth": 0,
              "ticks": ""
             }
            },
            "type": "scatterpolargl"
           }
          ],
          "scatterternary": [
           {
            "marker": {
             "colorbar": {
              "outlinewidth": 0,
              "ticks": ""
             }
            },
            "type": "scatterternary"
           }
          ],
          "surface": [
           {
            "colorbar": {
             "outlinewidth": 0,
             "ticks": ""
            },
            "colorscale": [
             [
              0,
              "#0d0887"
             ],
             [
              0.1111111111111111,
              "#46039f"
             ],
             [
              0.2222222222222222,
              "#7201a8"
             ],
             [
              0.3333333333333333,
              "#9c179e"
             ],
             [
              0.4444444444444444,
              "#bd3786"
             ],
             [
              0.5555555555555556,
              "#d8576b"
             ],
             [
              0.6666666666666666,
              "#ed7953"
             ],
             [
              0.7777777777777778,
              "#fb9f3a"
             ],
             [
              0.8888888888888888,
              "#fdca26"
             ],
             [
              1,
              "#f0f921"
             ]
            ],
            "type": "surface"
           }
          ],
          "table": [
           {
            "cells": {
             "fill": {
              "color": "#EBF0F8"
             },
             "line": {
              "color": "white"
             }
            },
            "header": {
             "fill": {
              "color": "#C8D4E3"
             },
             "line": {
              "color": "white"
             }
            },
            "type": "table"
           }
          ]
         },
         "layout": {
          "annotationdefaults": {
           "arrowcolor": "#2a3f5f",
           "arrowhead": 0,
           "arrowwidth": 1
          },
          "autotypenumbers": "strict",
          "coloraxis": {
           "colorbar": {
            "outlinewidth": 0,
            "ticks": ""
           }
          },
          "colorscale": {
           "diverging": [
            [
             0,
             "#8e0152"
            ],
            [
             0.1,
             "#c51b7d"
            ],
            [
             0.2,
             "#de77ae"
            ],
            [
             0.3,
             "#f1b6da"
            ],
            [
             0.4,
             "#fde0ef"
            ],
            [
             0.5,
             "#f7f7f7"
            ],
            [
             0.6,
             "#e6f5d0"
            ],
            [
             0.7,
             "#b8e186"
            ],
            [
             0.8,
             "#7fbc41"
            ],
            [
             0.9,
             "#4d9221"
            ],
            [
             1,
             "#276419"
            ]
           ],
           "sequential": [
            [
             0,
             "#0d0887"
            ],
            [
             0.1111111111111111,
             "#46039f"
            ],
            [
             0.2222222222222222,
             "#7201a8"
            ],
            [
             0.3333333333333333,
             "#9c179e"
            ],
            [
             0.4444444444444444,
             "#bd3786"
            ],
            [
             0.5555555555555556,
             "#d8576b"
            ],
            [
             0.6666666666666666,
             "#ed7953"
            ],
            [
             0.7777777777777778,
             "#fb9f3a"
            ],
            [
             0.8888888888888888,
             "#fdca26"
            ],
            [
             1,
             "#f0f921"
            ]
           ],
           "sequentialminus": [
            [
             0,
             "#0d0887"
            ],
            [
             0.1111111111111111,
             "#46039f"
            ],
            [
             0.2222222222222222,
             "#7201a8"
            ],
            [
             0.3333333333333333,
             "#9c179e"
            ],
            [
             0.4444444444444444,
             "#bd3786"
            ],
            [
             0.5555555555555556,
             "#d8576b"
            ],
            [
             0.6666666666666666,
             "#ed7953"
            ],
            [
             0.7777777777777778,
             "#fb9f3a"
            ],
            [
             0.8888888888888888,
             "#fdca26"
            ],
            [
             1,
             "#f0f921"
            ]
           ]
          },
          "colorway": [
           "#636efa",
           "#EF553B",
           "#00cc96",
           "#ab63fa",
           "#FFA15A",
           "#19d3f3",
           "#FF6692",
           "#B6E880",
           "#FF97FF",
           "#FECB52"
          ],
          "font": {
           "color": "#2a3f5f"
          },
          "geo": {
           "bgcolor": "white",
           "lakecolor": "white",
           "landcolor": "#E5ECF6",
           "showlakes": true,
           "showland": true,
           "subunitcolor": "white"
          },
          "hoverlabel": {
           "align": "left"
          },
          "hovermode": "closest",
          "mapbox": {
           "style": "light"
          },
          "paper_bgcolor": "white",
          "plot_bgcolor": "#E5ECF6",
          "polar": {
           "angularaxis": {
            "gridcolor": "white",
            "linecolor": "white",
            "ticks": ""
           },
           "bgcolor": "#E5ECF6",
           "radialaxis": {
            "gridcolor": "white",
            "linecolor": "white",
            "ticks": ""
           }
          },
          "scene": {
           "xaxis": {
            "backgroundcolor": "#E5ECF6",
            "gridcolor": "white",
            "gridwidth": 2,
            "linecolor": "white",
            "showbackground": true,
            "ticks": "",
            "zerolinecolor": "white"
           },
           "yaxis": {
            "backgroundcolor": "#E5ECF6",
            "gridcolor": "white",
            "gridwidth": 2,
            "linecolor": "white",
            "showbackground": true,
            "ticks": "",
            "zerolinecolor": "white"
           },
           "zaxis": {
            "backgroundcolor": "#E5ECF6",
            "gridcolor": "white",
            "gridwidth": 2,
            "linecolor": "white",
            "showbackground": true,
            "ticks": "",
            "zerolinecolor": "white"
           }
          },
          "shapedefaults": {
           "line": {
            "color": "#2a3f5f"
           }
          },
          "ternary": {
           "aaxis": {
            "gridcolor": "white",
            "linecolor": "white",
            "ticks": ""
           },
           "baxis": {
            "gridcolor": "white",
            "linecolor": "white",
            "ticks": ""
           },
           "bgcolor": "#E5ECF6",
           "caxis": {
            "gridcolor": "white",
            "linecolor": "white",
            "ticks": ""
           }
          },
          "title": {
           "x": 0.05
          },
          "xaxis": {
           "automargin": true,
           "gridcolor": "white",
           "linecolor": "white",
           "ticks": "",
           "title": {
            "standoff": 15
           },
           "zerolinecolor": "white",
           "zerolinewidth": 2
          },
          "yaxis": {
           "automargin": true,
           "gridcolor": "white",
           "linecolor": "white",
           "ticks": "",
           "title": {
            "standoff": 15
           },
           "zerolinecolor": "white",
           "zerolinewidth": 2
          }
         }
        },
        "title": {
         "text": "ForenFace, Model QMagFace_SR"
        }
       }
      },
      "text/html": [
       "<div>                            <div id=\"0bfaf160-8344-4fea-9b32-bdad34e5c961\" class=\"plotly-graph-div\" style=\"height:525px; width:100%;\"></div>            <script type=\"text/javascript\">                require([\"plotly\"], function(Plotly) {                    window.PLOTLYENV=window.PLOTLYENV || {};                                    if (document.getElementById(\"0bfaf160-8344-4fea-9b32-bdad34e5c961\")) {                    Plotly.newPlot(                        \"0bfaf160-8344-4fea-9b32-bdad34e5c961\",                        [{\"branchvalues\":\"total\",\"customdata\":[],\"domain\":{\"x\":[0.0,1.0],\"y\":[0.0,1.0]},\"hovertemplate\":\"labels=%{label}<br>count=%{value}<br>parent=%{parent}<br>id=%{id}<br>Quality=%{color}<extra></extra>\",\"ids\":[],\"labels\":[],\"marker\":{\"coloraxis\":\"coloraxis\",\"colors\":[]},\"name\":\"\",\"parents\":[],\"values\":[],\"type\":\"sunburst\"}],                        {\"template\":{\"data\":{\"histogram2dcontour\":[{\"type\":\"histogram2dcontour\",\"colorbar\":{\"outlinewidth\":0,\"ticks\":\"\"},\"colorscale\":[[0.0,\"#0d0887\"],[0.1111111111111111,\"#46039f\"],[0.2222222222222222,\"#7201a8\"],[0.3333333333333333,\"#9c179e\"],[0.4444444444444444,\"#bd3786\"],[0.5555555555555556,\"#d8576b\"],[0.6666666666666666,\"#ed7953\"],[0.7777777777777778,\"#fb9f3a\"],[0.8888888888888888,\"#fdca26\"],[1.0,\"#f0f921\"]]}],\"choropleth\":[{\"type\":\"choropleth\",\"colorbar\":{\"outlinewidth\":0,\"ticks\":\"\"}}],\"histogram2d\":[{\"type\":\"histogram2d\",\"colorbar\":{\"outlinewidth\":0,\"ticks\":\"\"},\"colorscale\":[[0.0,\"#0d0887\"],[0.1111111111111111,\"#46039f\"],[0.2222222222222222,\"#7201a8\"],[0.3333333333333333,\"#9c179e\"],[0.4444444444444444,\"#bd3786\"],[0.5555555555555556,\"#d8576b\"],[0.6666666666666666,\"#ed7953\"],[0.7777777777777778,\"#fb9f3a\"],[0.8888888888888888,\"#fdca26\"],[1.0,\"#f0f921\"]]}],\"heatmap\":[{\"type\":\"heatmap\",\"colorbar\":{\"outlinewidth\":0,\"ticks\":\"\"},\"colorscale\":[[0.0,\"#0d0887\"],[0.1111111111111111,\"#46039f\"],[0.2222222222222222,\"#7201a8\"],[0.3333333333333333,\"#9c179e\"],[0.4444444444444444,\"#bd3786\"],[0.5555555555555556,\"#d8576b\"],[0.6666666666666666,\"#ed7953\"],[0.7777777777777778,\"#fb9f3a\"],[0.8888888888888888,\"#fdca26\"],[1.0,\"#f0f921\"]]}],\"heatmapgl\":[{\"type\":\"heatmapgl\",\"colorbar\":{\"outlinewidth\":0,\"ticks\":\"\"},\"colorscale\":[[0.0,\"#0d0887\"],[0.1111111111111111,\"#46039f\"],[0.2222222222222222,\"#7201a8\"],[0.3333333333333333,\"#9c179e\"],[0.4444444444444444,\"#bd3786\"],[0.5555555555555556,\"#d8576b\"],[0.6666666666666666,\"#ed7953\"],[0.7777777777777778,\"#fb9f3a\"],[0.8888888888888888,\"#fdca26\"],[1.0,\"#f0f921\"]]}],\"contourcarpet\":[{\"type\":\"contourcarpet\",\"colorbar\":{\"outlinewidth\":0,\"ticks\":\"\"}}],\"contour\":[{\"type\":\"contour\",\"colorbar\":{\"outlinewidth\":0,\"ticks\":\"\"},\"colorscale\":[[0.0,\"#0d0887\"],[0.1111111111111111,\"#46039f\"],[0.2222222222222222,\"#7201a8\"],[0.3333333333333333,\"#9c179e\"],[0.4444444444444444,\"#bd3786\"],[0.5555555555555556,\"#d8576b\"],[0.6666666666666666,\"#ed7953\"],[0.7777777777777778,\"#fb9f3a\"],[0.8888888888888888,\"#fdca26\"],[1.0,\"#f0f921\"]]}],\"surface\":[{\"type\":\"surface\",\"colorbar\":{\"outlinewidth\":0,\"ticks\":\"\"},\"colorscale\":[[0.0,\"#0d0887\"],[0.1111111111111111,\"#46039f\"],[0.2222222222222222,\"#7201a8\"],[0.3333333333333333,\"#9c179e\"],[0.4444444444444444,\"#bd3786\"],[0.5555555555555556,\"#d8576b\"],[0.6666666666666666,\"#ed7953\"],[0.7777777777777778,\"#fb9f3a\"],[0.8888888888888888,\"#fdca26\"],[1.0,\"#f0f921\"]]}],\"mesh3d\":[{\"type\":\"mesh3d\",\"colorbar\":{\"outlinewidth\":0,\"ticks\":\"\"}}],\"scatter\":[{\"fillpattern\":{\"fillmode\":\"overlay\",\"size\":10,\"solidity\":0.2},\"type\":\"scatter\"}],\"parcoords\":[{\"type\":\"parcoords\",\"line\":{\"colorbar\":{\"outlinewidth\":0,\"ticks\":\"\"}}}],\"scatterpolargl\":[{\"type\":\"scatterpolargl\",\"marker\":{\"colorbar\":{\"outlinewidth\":0,\"ticks\":\"\"}}}],\"bar\":[{\"error_x\":{\"color\":\"#2a3f5f\"},\"error_y\":{\"color\":\"#2a3f5f\"},\"marker\":{\"line\":{\"color\":\"#E5ECF6\",\"width\":0.5},\"pattern\":{\"fillmode\":\"overlay\",\"size\":10,\"solidity\":0.2}},\"type\":\"bar\"}],\"scattergeo\":[{\"type\":\"scattergeo\",\"marker\":{\"colorbar\":{\"outlinewidth\":0,\"ticks\":\"\"}}}],\"scatterpolar\":[{\"type\":\"scatterpolar\",\"marker\":{\"colorbar\":{\"outlinewidth\":0,\"ticks\":\"\"}}}],\"histogram\":[{\"marker\":{\"pattern\":{\"fillmode\":\"overlay\",\"size\":10,\"solidity\":0.2}},\"type\":\"histogram\"}],\"scattergl\":[{\"type\":\"scattergl\",\"marker\":{\"colorbar\":{\"outlinewidth\":0,\"ticks\":\"\"}}}],\"scatter3d\":[{\"type\":\"scatter3d\",\"line\":{\"colorbar\":{\"outlinewidth\":0,\"ticks\":\"\"}},\"marker\":{\"colorbar\":{\"outlinewidth\":0,\"ticks\":\"\"}}}],\"scattermapbox\":[{\"type\":\"scattermapbox\",\"marker\":{\"colorbar\":{\"outlinewidth\":0,\"ticks\":\"\"}}}],\"scatterternary\":[{\"type\":\"scatterternary\",\"marker\":{\"colorbar\":{\"outlinewidth\":0,\"ticks\":\"\"}}}],\"scattercarpet\":[{\"type\":\"scattercarpet\",\"marker\":{\"colorbar\":{\"outlinewidth\":0,\"ticks\":\"\"}}}],\"carpet\":[{\"aaxis\":{\"endlinecolor\":\"#2a3f5f\",\"gridcolor\":\"white\",\"linecolor\":\"white\",\"minorgridcolor\":\"white\",\"startlinecolor\":\"#2a3f5f\"},\"baxis\":{\"endlinecolor\":\"#2a3f5f\",\"gridcolor\":\"white\",\"linecolor\":\"white\",\"minorgridcolor\":\"white\",\"startlinecolor\":\"#2a3f5f\"},\"type\":\"carpet\"}],\"table\":[{\"cells\":{\"fill\":{\"color\":\"#EBF0F8\"},\"line\":{\"color\":\"white\"}},\"header\":{\"fill\":{\"color\":\"#C8D4E3\"},\"line\":{\"color\":\"white\"}},\"type\":\"table\"}],\"barpolar\":[{\"marker\":{\"line\":{\"color\":\"#E5ECF6\",\"width\":0.5},\"pattern\":{\"fillmode\":\"overlay\",\"size\":10,\"solidity\":0.2}},\"type\":\"barpolar\"}],\"pie\":[{\"automargin\":true,\"type\":\"pie\"}]},\"layout\":{\"autotypenumbers\":\"strict\",\"colorway\":[\"#636efa\",\"#EF553B\",\"#00cc96\",\"#ab63fa\",\"#FFA15A\",\"#19d3f3\",\"#FF6692\",\"#B6E880\",\"#FF97FF\",\"#FECB52\"],\"font\":{\"color\":\"#2a3f5f\"},\"hovermode\":\"closest\",\"hoverlabel\":{\"align\":\"left\"},\"paper_bgcolor\":\"white\",\"plot_bgcolor\":\"#E5ECF6\",\"polar\":{\"bgcolor\":\"#E5ECF6\",\"angularaxis\":{\"gridcolor\":\"white\",\"linecolor\":\"white\",\"ticks\":\"\"},\"radialaxis\":{\"gridcolor\":\"white\",\"linecolor\":\"white\",\"ticks\":\"\"}},\"ternary\":{\"bgcolor\":\"#E5ECF6\",\"aaxis\":{\"gridcolor\":\"white\",\"linecolor\":\"white\",\"ticks\":\"\"},\"baxis\":{\"gridcolor\":\"white\",\"linecolor\":\"white\",\"ticks\":\"\"},\"caxis\":{\"gridcolor\":\"white\",\"linecolor\":\"white\",\"ticks\":\"\"}},\"coloraxis\":{\"colorbar\":{\"outlinewidth\":0,\"ticks\":\"\"}},\"colorscale\":{\"sequential\":[[0.0,\"#0d0887\"],[0.1111111111111111,\"#46039f\"],[0.2222222222222222,\"#7201a8\"],[0.3333333333333333,\"#9c179e\"],[0.4444444444444444,\"#bd3786\"],[0.5555555555555556,\"#d8576b\"],[0.6666666666666666,\"#ed7953\"],[0.7777777777777778,\"#fb9f3a\"],[0.8888888888888888,\"#fdca26\"],[1.0,\"#f0f921\"]],\"sequentialminus\":[[0.0,\"#0d0887\"],[0.1111111111111111,\"#46039f\"],[0.2222222222222222,\"#7201a8\"],[0.3333333333333333,\"#9c179e\"],[0.4444444444444444,\"#bd3786\"],[0.5555555555555556,\"#d8576b\"],[0.6666666666666666,\"#ed7953\"],[0.7777777777777778,\"#fb9f3a\"],[0.8888888888888888,\"#fdca26\"],[1.0,\"#f0f921\"]],\"diverging\":[[0,\"#8e0152\"],[0.1,\"#c51b7d\"],[0.2,\"#de77ae\"],[0.3,\"#f1b6da\"],[0.4,\"#fde0ef\"],[0.5,\"#f7f7f7\"],[0.6,\"#e6f5d0\"],[0.7,\"#b8e186\"],[0.8,\"#7fbc41\"],[0.9,\"#4d9221\"],[1,\"#276419\"]]},\"xaxis\":{\"gridcolor\":\"white\",\"linecolor\":\"white\",\"ticks\":\"\",\"title\":{\"standoff\":15},\"zerolinecolor\":\"white\",\"automargin\":true,\"zerolinewidth\":2},\"yaxis\":{\"gridcolor\":\"white\",\"linecolor\":\"white\",\"ticks\":\"\",\"title\":{\"standoff\":15},\"zerolinecolor\":\"white\",\"automargin\":true,\"zerolinewidth\":2},\"scene\":{\"xaxis\":{\"backgroundcolor\":\"#E5ECF6\",\"gridcolor\":\"white\",\"linecolor\":\"white\",\"showbackground\":true,\"ticks\":\"\",\"zerolinecolor\":\"white\",\"gridwidth\":2},\"yaxis\":{\"backgroundcolor\":\"#E5ECF6\",\"gridcolor\":\"white\",\"linecolor\":\"white\",\"showbackground\":true,\"ticks\":\"\",\"zerolinecolor\":\"white\",\"gridwidth\":2},\"zaxis\":{\"backgroundcolor\":\"#E5ECF6\",\"gridcolor\":\"white\",\"linecolor\":\"white\",\"showbackground\":true,\"ticks\":\"\",\"zerolinecolor\":\"white\",\"gridwidth\":2}},\"shapedefaults\":{\"line\":{\"color\":\"#2a3f5f\"}},\"annotationdefaults\":{\"arrowcolor\":\"#2a3f5f\",\"arrowhead\":0,\"arrowwidth\":1},\"geo\":{\"bgcolor\":\"white\",\"landcolor\":\"#E5ECF6\",\"subunitcolor\":\"white\",\"showland\":true,\"showlakes\":true,\"lakecolor\":\"white\"},\"title\":{\"x\":0.05},\"mapbox\":{\"style\":\"light\"}}},\"coloraxis\":{\"colorbar\":{\"title\":{\"text\":\"Quality\"}},\"colorscale\":[[0.0,\"#440154\"],[0.1111111111111111,\"#482878\"],[0.2222222222222222,\"#3e4989\"],[0.3333333333333333,\"#31688e\"],[0.4444444444444444,\"#26828e\"],[0.5555555555555556,\"#1f9e89\"],[0.6666666666666666,\"#35b779\"],[0.7777777777777778,\"#6ece58\"],[0.8888888888888888,\"#b5de2b\"],[1.0,\"#fde725\"]],\"cmin\":0,\"cmax\":1},\"legend\":{\"tracegroupgap\":0},\"title\":{\"text\":\"ForenFace, Model QMagFace_SR\"}},                        {\"responsive\": true}                    ).then(function(){\n",
       "                            \n",
       "var gd = document.getElementById('0bfaf160-8344-4fea-9b32-bdad34e5c961');\n",
       "var x = new MutationObserver(function (mutations, observer) {{\n",
       "        var display = window.getComputedStyle(gd).display;\n",
       "        if (!display || display === 'none') {{\n",
       "            console.log([gd, 'removed!']);\n",
       "            Plotly.purge(gd);\n",
       "            observer.disconnect();\n",
       "        }}\n",
       "}});\n",
       "\n",
       "// Listen for the removal of the full notebook cells\n",
       "var notebookContainer = gd.closest('#notebook-container');\n",
       "if (notebookContainer) {{\n",
       "    x.observe(notebookContainer, {childList: true});\n",
       "}}\n",
       "\n",
       "// Listen for the clearing of the current output cell\n",
       "var outputEl = gd.closest('.output');\n",
       "if (outputEl) {{\n",
       "    x.observe(outputEl, {childList: true});\n",
       "}}\n",
       "\n",
       "                        })                };                });            </script>        </div>"
      ]
     },
     "metadata": {},
     "output_type": "display_data"
    }
   ],
   "source": [
    "plot_sun('ForenFace','QMagFace_SR')"
   ]
  },
  {
   "cell_type": "code",
   "execution_count": 24,
   "metadata": {},
   "outputs": [
    {
     "data": {
      "application/vnd.plotly.v1+json": {
       "config": {
        "plotlyServerURL": "https://plot.ly"
       },
       "data": [
        {
         "branchvalues": "total",
         "customdata": [
          [
           0.5030912173008514
          ],
          [
           0.6102133584433657
          ],
          [
           0.6557417265970429
          ],
          [
           0.5714305220334075
          ],
          [
           0.6200506425479693
          ],
          [
           0.6726619693737252
          ],
          [
           0.6105665672268029
          ],
          [
           0.7372741434365573
          ],
          [
           0.6645441265801301
          ],
          [
           0.6146760543962274
          ],
          [
           0.6568993328439102
          ],
          [
           0.671491289041235
          ],
          [
           0.6629079588903591
          ],
          [
           0.756610027848949
          ],
          [
           0.7996023024928308
          ],
          [
           0.7107419258053558
          ],
          [
           0.7711793351658822
          ],
          [
           0.7985302200471472
          ],
          [
           0.6770027242645983
          ],
          [
           0.703066873990858
          ],
          [
           0.7863057232400554
          ],
          [
           0.8244808921946906
          ],
          [
           0.7116138676546976
          ],
          [
           0.7937543878577187
          ],
          [
           0.8377539847119736
          ],
          [
           0.7593559572467649
          ],
          [
           0.7719854342254227
          ],
          [
           0.8095148063170607
          ],
          [
           0.695142014326706
          ],
          [
           0.5748744734161666
          ],
          [
           0.792637286428219
          ],
          [
           0.6179175103128836
          ],
          [
           0.8336526169604606
          ],
          [
           0.6767881081842594
          ],
          [
           0.7318363569748806
          ],
          [
           0.5439728822095605
          ],
          [
           0.8048189953579566
          ],
          [
           0.5976109319089841
          ],
          [
           0.838265131494733
          ],
          [
           0.7002061280289166
          ],
          [
           0.7558437863263081
          ],
          [
           0.8413211238267753
          ],
          [
           0.759567199015034
          ],
          [
           0.7895241619852522
          ],
          [
           0.8190840272384872
          ],
          [
           0.6503966945383386
          ],
          [
           0.5748744734161666
          ],
          [
           0.7397111611233286
          ],
          [
           0.6179175103128836
          ],
          [
           0.7752635646552372
          ],
          [
           0.6767881081842594
          ],
          [
           0.6833104762672264
          ],
          [
           0.5439728822095605
          ],
          [
           0.7278024237944462
          ],
          [
           0.5976109319089841
          ],
          [
           0.7720866011514561
          ],
          [
           0.7002061280289166
          ],
          [
           0.7013648291639938
          ],
          [
           0.7372741434365573
          ],
          [
           0.7234697923290119
          ],
          [
           0.6965321475308988
          ],
          [
           0.7083048776669367
          ],
          [
           0.7517574006713981
          ],
          [
           0.6596705758127873
          ],
          [
           0.5594236778128635
          ],
          [
           0.7341654764938256
          ],
          [
           0.6145330805789002
          ],
          [
           0.7729544559662493
          ],
          [
           0.6771918671470984
          ],
          [
           0.738517752006231
          ],
          [
           0.6580008858994169
          ]
         ],
         "domain": {
          "x": [
           0,
           1
          ],
          "y": [
           0,
           1
          ]
         },
         "hovertemplate": "labels=%{label}<br>count=%{value}<br>parent=%{parent}<br>id=%{id}<br>Quality=%{color}<extra></extra>",
         "ids": [
          "Man/sideways/downwards/asian",
          "Man/slightly_turned/downwards/asian",
          "Man/straight/downwards/asian",
          "Man/sideways/slightly_downwards/asian",
          "Man/slightly_turned/slightly_downwards/asian",
          "Man/straight/slightly_downwards/asian",
          "Man/sideways/slightly_upwards/asian",
          "Man/slightly_turned/slightly_upwards/asian",
          "Man/straight/slightly_upwards/asian",
          "Man/sideways/straight/asian",
          "Man/slightly_turned/straight/asian",
          "Man/straight/straight/asian",
          "Man/sideways/downwards/indian",
          "Man/slightly_turned/downwards/indian",
          "Man/straight/downwards/indian",
          "Man/sideways/slightly_downwards/indian",
          "Man/slightly_turned/slightly_downwards/indian",
          "Man/straight/slightly_downwards/indian",
          "Man/sideways/straight/indian",
          "Man/sideways/downwards/middle eastern",
          "Man/slightly_turned/downwards/middle eastern",
          "Man/straight/downwards/middle eastern",
          "Man/sideways/slightly_downwards/middle eastern",
          "Man/slightly_turned/slightly_downwards/middle eastern",
          "Man/straight/slightly_downwards/middle eastern",
          "Man/sideways/straight/middle eastern",
          "Man/slightly_turned/straight/middle eastern",
          "Man/straight/straight/middle eastern",
          "Man/sideways/downwards/white",
          "Woman/sideways/downwards/white",
          "Man/slightly_turned/downwards/white",
          "Woman/slightly_turned/downwards/white",
          "Man/straight/downwards/white",
          "Woman/straight/downwards/white",
          "Man/sideways/slightly_downwards/white",
          "Woman/sideways/slightly_downwards/white",
          "Man/slightly_turned/slightly_downwards/white",
          "Woman/slightly_turned/slightly_downwards/white",
          "Man/straight/slightly_downwards/white",
          "Woman/straight/slightly_downwards/white",
          "Man/sideways/slightly_upwards/white",
          "Man/straight/slightly_upwards/white",
          "Man/sideways/straight/white",
          "Man/slightly_turned/straight/white",
          "Man/straight/straight/white",
          "Man/sideways/downwards",
          "Woman/sideways/downwards",
          "Man/slightly_turned/downwards",
          "Woman/slightly_turned/downwards",
          "Man/straight/downwards",
          "Woman/straight/downwards",
          "Man/sideways/slightly_downwards",
          "Woman/sideways/slightly_downwards",
          "Man/slightly_turned/slightly_downwards",
          "Woman/slightly_turned/slightly_downwards",
          "Man/straight/slightly_downwards",
          "Woman/straight/slightly_downwards",
          "Man/sideways/slightly_upwards",
          "Man/slightly_turned/slightly_upwards",
          "Man/straight/slightly_upwards",
          "Man/sideways/straight",
          "Man/slightly_turned/straight",
          "Man/straight/straight",
          "Man/sideways",
          "Woman/sideways",
          "Man/slightly_turned",
          "Woman/slightly_turned",
          "Man/straight",
          "Woman/straight",
          "Man",
          "Woman"
         ],
         "labels": [
          "asian",
          "asian",
          "asian",
          "asian",
          "asian",
          "asian",
          "asian",
          "asian",
          "asian",
          "asian",
          "asian",
          "asian",
          "indian",
          "indian",
          "indian",
          "indian",
          "indian",
          "indian",
          "indian",
          "middle eastern",
          "middle eastern",
          "middle eastern",
          "middle eastern",
          "middle eastern",
          "middle eastern",
          "middle eastern",
          "middle eastern",
          "middle eastern",
          "white",
          "white",
          "white",
          "white",
          "white",
          "white",
          "white",
          "white",
          "white",
          "white",
          "white",
          "white",
          "white",
          "white",
          "white",
          "white",
          "white",
          "downwards",
          "downwards",
          "downwards",
          "downwards",
          "downwards",
          "downwards",
          "slightly_downwards",
          "slightly_downwards",
          "slightly_downwards",
          "slightly_downwards",
          "slightly_downwards",
          "slightly_downwards",
          "slightly_upwards",
          "slightly_upwards",
          "slightly_upwards",
          "straight",
          "straight",
          "straight",
          "sideways",
          "sideways",
          "slightly_turned",
          "slightly_turned",
          "straight",
          "straight",
          "Man",
          "Woman"
         ],
         "marker": {
          "coloraxis": "coloraxis",
          "colors": [
           0.5030912173008514,
           0.6102133584433657,
           0.6557417265970429,
           0.5714305220334075,
           0.6200506425479693,
           0.6726619693737252,
           0.6105665672268029,
           0.7372741434365573,
           0.6645441265801301,
           0.6146760543962274,
           0.6568993328439102,
           0.671491289041235,
           0.6629079588903591,
           0.756610027848949,
           0.7996023024928308,
           0.7107419258053558,
           0.7711793351658822,
           0.7985302200471472,
           0.6770027242645983,
           0.703066873990858,
           0.7863057232400554,
           0.8244808921946906,
           0.7116138676546976,
           0.7937543878577187,
           0.8377539847119736,
           0.7593559572467649,
           0.7719854342254227,
           0.8095148063170607,
           0.695142014326706,
           0.5748744734161666,
           0.792637286428219,
           0.6179175103128836,
           0.8336526169604606,
           0.6767881081842594,
           0.7318363569748806,
           0.5439728822095605,
           0.8048189953579566,
           0.5976109319089841,
           0.838265131494733,
           0.7002061280289166,
           0.7558437863263081,
           0.8413211238267753,
           0.759567199015034,
           0.7895241619852522,
           0.8190840272384872,
           0.6503966945383386,
           0.5748744734161666,
           0.7397111611233286,
           0.6179175103128836,
           0.7752635646552372,
           0.6767881081842594,
           0.6833104762672264,
           0.5439728822095605,
           0.7278024237944462,
           0.5976109319089841,
           0.7720866011514561,
           0.7002061280289166,
           0.7013648291639938,
           0.7372741434365573,
           0.7234697923290119,
           0.6965321475308988,
           0.7083048776669367,
           0.7517574006713981,
           0.6596705758127873,
           0.5594236778128635,
           0.7341654764938256,
           0.6145330805789002,
           0.7729544559662493,
           0.6771918671470984,
           0.738517752006231,
           0.6580008858994169
          ]
         },
         "name": "",
         "parents": [
          "Man/sideways/downwards",
          "Man/slightly_turned/downwards",
          "Man/straight/downwards",
          "Man/sideways/slightly_downwards",
          "Man/slightly_turned/slightly_downwards",
          "Man/straight/slightly_downwards",
          "Man/sideways/slightly_upwards",
          "Man/slightly_turned/slightly_upwards",
          "Man/straight/slightly_upwards",
          "Man/sideways/straight",
          "Man/slightly_turned/straight",
          "Man/straight/straight",
          "Man/sideways/downwards",
          "Man/slightly_turned/downwards",
          "Man/straight/downwards",
          "Man/sideways/slightly_downwards",
          "Man/slightly_turned/slightly_downwards",
          "Man/straight/slightly_downwards",
          "Man/sideways/straight",
          "Man/sideways/downwards",
          "Man/slightly_turned/downwards",
          "Man/straight/downwards",
          "Man/sideways/slightly_downwards",
          "Man/slightly_turned/slightly_downwards",
          "Man/straight/slightly_downwards",
          "Man/sideways/straight",
          "Man/slightly_turned/straight",
          "Man/straight/straight",
          "Man/sideways/downwards",
          "Woman/sideways/downwards",
          "Man/slightly_turned/downwards",
          "Woman/slightly_turned/downwards",
          "Man/straight/downwards",
          "Woman/straight/downwards",
          "Man/sideways/slightly_downwards",
          "Woman/sideways/slightly_downwards",
          "Man/slightly_turned/slightly_downwards",
          "Woman/slightly_turned/slightly_downwards",
          "Man/straight/slightly_downwards",
          "Woman/straight/slightly_downwards",
          "Man/sideways/slightly_upwards",
          "Man/straight/slightly_upwards",
          "Man/sideways/straight",
          "Man/slightly_turned/straight",
          "Man/straight/straight",
          "Man/sideways",
          "Woman/sideways",
          "Man/slightly_turned",
          "Woman/slightly_turned",
          "Man/straight",
          "Woman/straight",
          "Man/sideways",
          "Woman/sideways",
          "Man/slightly_turned",
          "Woman/slightly_turned",
          "Man/straight",
          "Woman/straight",
          "Man/sideways",
          "Man/slightly_turned",
          "Man/straight",
          "Man/sideways",
          "Man/slightly_turned",
          "Man/straight",
          "Man",
          "Woman",
          "Man",
          "Woman",
          "Man",
          "Woman",
          "",
          ""
         ],
         "type": "sunburst",
         "values": [
          423,
          549,
          1142,
          155,
          407,
          765,
          3,
          2,
          4,
          28,
          106,
          137,
          52,
          68,
          126,
          7,
          12,
          27,
          2,
          480,
          547,
          884,
          143,
          239,
          450,
          6,
          32,
          61,
          813,
          3,
          840,
          10,
          1540,
          57,
          270,
          3,
          358,
          2,
          692,
          1,
          5,
          2,
          31,
          42,
          111,
          1768,
          3,
          2004,
          10,
          3692,
          57,
          575,
          3,
          1016,
          2,
          1934,
          1,
          8,
          2,
          6,
          67,
          180,
          309,
          2418,
          6,
          3202,
          12,
          5941,
          58,
          11561,
          76
         ]
        }
       ],
       "layout": {
        "coloraxis": {
         "cmax": 1,
         "cmin": 0,
         "colorbar": {
          "title": {
           "text": "Quality"
          }
         },
         "colorscale": [
          [
           0,
           "#440154"
          ],
          [
           0.1111111111111111,
           "#482878"
          ],
          [
           0.2222222222222222,
           "#3e4989"
          ],
          [
           0.3333333333333333,
           "#31688e"
          ],
          [
           0.4444444444444444,
           "#26828e"
          ],
          [
           0.5555555555555556,
           "#1f9e89"
          ],
          [
           0.6666666666666666,
           "#35b779"
          ],
          [
           0.7777777777777778,
           "#6ece58"
          ],
          [
           0.8888888888888888,
           "#b5de2b"
          ],
          [
           1,
           "#fde725"
          ]
         ]
        },
        "legend": {
         "tracegroupgap": 0
        },
        "template": {
         "data": {
          "bar": [
           {
            "error_x": {
             "color": "#2a3f5f"
            },
            "error_y": {
             "color": "#2a3f5f"
            },
            "marker": {
             "line": {
              "color": "#E5ECF6",
              "width": 0.5
             },
             "pattern": {
              "fillmode": "overlay",
              "size": 10,
              "solidity": 0.2
             }
            },
            "type": "bar"
           }
          ],
          "barpolar": [
           {
            "marker": {
             "line": {
              "color": "#E5ECF6",
              "width": 0.5
             },
             "pattern": {
              "fillmode": "overlay",
              "size": 10,
              "solidity": 0.2
             }
            },
            "type": "barpolar"
           }
          ],
          "carpet": [
           {
            "aaxis": {
             "endlinecolor": "#2a3f5f",
             "gridcolor": "white",
             "linecolor": "white",
             "minorgridcolor": "white",
             "startlinecolor": "#2a3f5f"
            },
            "baxis": {
             "endlinecolor": "#2a3f5f",
             "gridcolor": "white",
             "linecolor": "white",
             "minorgridcolor": "white",
             "startlinecolor": "#2a3f5f"
            },
            "type": "carpet"
           }
          ],
          "choropleth": [
           {
            "colorbar": {
             "outlinewidth": 0,
             "ticks": ""
            },
            "type": "choropleth"
           }
          ],
          "contour": [
           {
            "colorbar": {
             "outlinewidth": 0,
             "ticks": ""
            },
            "colorscale": [
             [
              0,
              "#0d0887"
             ],
             [
              0.1111111111111111,
              "#46039f"
             ],
             [
              0.2222222222222222,
              "#7201a8"
             ],
             [
              0.3333333333333333,
              "#9c179e"
             ],
             [
              0.4444444444444444,
              "#bd3786"
             ],
             [
              0.5555555555555556,
              "#d8576b"
             ],
             [
              0.6666666666666666,
              "#ed7953"
             ],
             [
              0.7777777777777778,
              "#fb9f3a"
             ],
             [
              0.8888888888888888,
              "#fdca26"
             ],
             [
              1,
              "#f0f921"
             ]
            ],
            "type": "contour"
           }
          ],
          "contourcarpet": [
           {
            "colorbar": {
             "outlinewidth": 0,
             "ticks": ""
            },
            "type": "contourcarpet"
           }
          ],
          "heatmap": [
           {
            "colorbar": {
             "outlinewidth": 0,
             "ticks": ""
            },
            "colorscale": [
             [
              0,
              "#0d0887"
             ],
             [
              0.1111111111111111,
              "#46039f"
             ],
             [
              0.2222222222222222,
              "#7201a8"
             ],
             [
              0.3333333333333333,
              "#9c179e"
             ],
             [
              0.4444444444444444,
              "#bd3786"
             ],
             [
              0.5555555555555556,
              "#d8576b"
             ],
             [
              0.6666666666666666,
              "#ed7953"
             ],
             [
              0.7777777777777778,
              "#fb9f3a"
             ],
             [
              0.8888888888888888,
              "#fdca26"
             ],
             [
              1,
              "#f0f921"
             ]
            ],
            "type": "heatmap"
           }
          ],
          "heatmapgl": [
           {
            "colorbar": {
             "outlinewidth": 0,
             "ticks": ""
            },
            "colorscale": [
             [
              0,
              "#0d0887"
             ],
             [
              0.1111111111111111,
              "#46039f"
             ],
             [
              0.2222222222222222,
              "#7201a8"
             ],
             [
              0.3333333333333333,
              "#9c179e"
             ],
             [
              0.4444444444444444,
              "#bd3786"
             ],
             [
              0.5555555555555556,
              "#d8576b"
             ],
             [
              0.6666666666666666,
              "#ed7953"
             ],
             [
              0.7777777777777778,
              "#fb9f3a"
             ],
             [
              0.8888888888888888,
              "#fdca26"
             ],
             [
              1,
              "#f0f921"
             ]
            ],
            "type": "heatmapgl"
           }
          ],
          "histogram": [
           {
            "marker": {
             "pattern": {
              "fillmode": "overlay",
              "size": 10,
              "solidity": 0.2
             }
            },
            "type": "histogram"
           }
          ],
          "histogram2d": [
           {
            "colorbar": {
             "outlinewidth": 0,
             "ticks": ""
            },
            "colorscale": [
             [
              0,
              "#0d0887"
             ],
             [
              0.1111111111111111,
              "#46039f"
             ],
             [
              0.2222222222222222,
              "#7201a8"
             ],
             [
              0.3333333333333333,
              "#9c179e"
             ],
             [
              0.4444444444444444,
              "#bd3786"
             ],
             [
              0.5555555555555556,
              "#d8576b"
             ],
             [
              0.6666666666666666,
              "#ed7953"
             ],
             [
              0.7777777777777778,
              "#fb9f3a"
             ],
             [
              0.8888888888888888,
              "#fdca26"
             ],
             [
              1,
              "#f0f921"
             ]
            ],
            "type": "histogram2d"
           }
          ],
          "histogram2dcontour": [
           {
            "colorbar": {
             "outlinewidth": 0,
             "ticks": ""
            },
            "colorscale": [
             [
              0,
              "#0d0887"
             ],
             [
              0.1111111111111111,
              "#46039f"
             ],
             [
              0.2222222222222222,
              "#7201a8"
             ],
             [
              0.3333333333333333,
              "#9c179e"
             ],
             [
              0.4444444444444444,
              "#bd3786"
             ],
             [
              0.5555555555555556,
              "#d8576b"
             ],
             [
              0.6666666666666666,
              "#ed7953"
             ],
             [
              0.7777777777777778,
              "#fb9f3a"
             ],
             [
              0.8888888888888888,
              "#fdca26"
             ],
             [
              1,
              "#f0f921"
             ]
            ],
            "type": "histogram2dcontour"
           }
          ],
          "mesh3d": [
           {
            "colorbar": {
             "outlinewidth": 0,
             "ticks": ""
            },
            "type": "mesh3d"
           }
          ],
          "parcoords": [
           {
            "line": {
             "colorbar": {
              "outlinewidth": 0,
              "ticks": ""
             }
            },
            "type": "parcoords"
           }
          ],
          "pie": [
           {
            "automargin": true,
            "type": "pie"
           }
          ],
          "scatter": [
           {
            "fillpattern": {
             "fillmode": "overlay",
             "size": 10,
             "solidity": 0.2
            },
            "type": "scatter"
           }
          ],
          "scatter3d": [
           {
            "line": {
             "colorbar": {
              "outlinewidth": 0,
              "ticks": ""
             }
            },
            "marker": {
             "colorbar": {
              "outlinewidth": 0,
              "ticks": ""
             }
            },
            "type": "scatter3d"
           }
          ],
          "scattercarpet": [
           {
            "marker": {
             "colorbar": {
              "outlinewidth": 0,
              "ticks": ""
             }
            },
            "type": "scattercarpet"
           }
          ],
          "scattergeo": [
           {
            "marker": {
             "colorbar": {
              "outlinewidth": 0,
              "ticks": ""
             }
            },
            "type": "scattergeo"
           }
          ],
          "scattergl": [
           {
            "marker": {
             "colorbar": {
              "outlinewidth": 0,
              "ticks": ""
             }
            },
            "type": "scattergl"
           }
          ],
          "scattermapbox": [
           {
            "marker": {
             "colorbar": {
              "outlinewidth": 0,
              "ticks": ""
             }
            },
            "type": "scattermapbox"
           }
          ],
          "scatterpolar": [
           {
            "marker": {
             "colorbar": {
              "outlinewidth": 0,
              "ticks": ""
             }
            },
            "type": "scatterpolar"
           }
          ],
          "scatterpolargl": [
           {
            "marker": {
             "colorbar": {
              "outlinewidth": 0,
              "ticks": ""
             }
            },
            "type": "scatterpolargl"
           }
          ],
          "scatterternary": [
           {
            "marker": {
             "colorbar": {
              "outlinewidth": 0,
              "ticks": ""
             }
            },
            "type": "scatterternary"
           }
          ],
          "surface": [
           {
            "colorbar": {
             "outlinewidth": 0,
             "ticks": ""
            },
            "colorscale": [
             [
              0,
              "#0d0887"
             ],
             [
              0.1111111111111111,
              "#46039f"
             ],
             [
              0.2222222222222222,
              "#7201a8"
             ],
             [
              0.3333333333333333,
              "#9c179e"
             ],
             [
              0.4444444444444444,
              "#bd3786"
             ],
             [
              0.5555555555555556,
              "#d8576b"
             ],
             [
              0.6666666666666666,
              "#ed7953"
             ],
             [
              0.7777777777777778,
              "#fb9f3a"
             ],
             [
              0.8888888888888888,
              "#fdca26"
             ],
             [
              1,
              "#f0f921"
             ]
            ],
            "type": "surface"
           }
          ],
          "table": [
           {
            "cells": {
             "fill": {
              "color": "#EBF0F8"
             },
             "line": {
              "color": "white"
             }
            },
            "header": {
             "fill": {
              "color": "#C8D4E3"
             },
             "line": {
              "color": "white"
             }
            },
            "type": "table"
           }
          ]
         },
         "layout": {
          "annotationdefaults": {
           "arrowcolor": "#2a3f5f",
           "arrowhead": 0,
           "arrowwidth": 1
          },
          "autotypenumbers": "strict",
          "coloraxis": {
           "colorbar": {
            "outlinewidth": 0,
            "ticks": ""
           }
          },
          "colorscale": {
           "diverging": [
            [
             0,
             "#8e0152"
            ],
            [
             0.1,
             "#c51b7d"
            ],
            [
             0.2,
             "#de77ae"
            ],
            [
             0.3,
             "#f1b6da"
            ],
            [
             0.4,
             "#fde0ef"
            ],
            [
             0.5,
             "#f7f7f7"
            ],
            [
             0.6,
             "#e6f5d0"
            ],
            [
             0.7,
             "#b8e186"
            ],
            [
             0.8,
             "#7fbc41"
            ],
            [
             0.9,
             "#4d9221"
            ],
            [
             1,
             "#276419"
            ]
           ],
           "sequential": [
            [
             0,
             "#0d0887"
            ],
            [
             0.1111111111111111,
             "#46039f"
            ],
            [
             0.2222222222222222,
             "#7201a8"
            ],
            [
             0.3333333333333333,
             "#9c179e"
            ],
            [
             0.4444444444444444,
             "#bd3786"
            ],
            [
             0.5555555555555556,
             "#d8576b"
            ],
            [
             0.6666666666666666,
             "#ed7953"
            ],
            [
             0.7777777777777778,
             "#fb9f3a"
            ],
            [
             0.8888888888888888,
             "#fdca26"
            ],
            [
             1,
             "#f0f921"
            ]
           ],
           "sequentialminus": [
            [
             0,
             "#0d0887"
            ],
            [
             0.1111111111111111,
             "#46039f"
            ],
            [
             0.2222222222222222,
             "#7201a8"
            ],
            [
             0.3333333333333333,
             "#9c179e"
            ],
            [
             0.4444444444444444,
             "#bd3786"
            ],
            [
             0.5555555555555556,
             "#d8576b"
            ],
            [
             0.6666666666666666,
             "#ed7953"
            ],
            [
             0.7777777777777778,
             "#fb9f3a"
            ],
            [
             0.8888888888888888,
             "#fdca26"
            ],
            [
             1,
             "#f0f921"
            ]
           ]
          },
          "colorway": [
           "#636efa",
           "#EF553B",
           "#00cc96",
           "#ab63fa",
           "#FFA15A",
           "#19d3f3",
           "#FF6692",
           "#B6E880",
           "#FF97FF",
           "#FECB52"
          ],
          "font": {
           "color": "#2a3f5f"
          },
          "geo": {
           "bgcolor": "white",
           "lakecolor": "white",
           "landcolor": "#E5ECF6",
           "showlakes": true,
           "showland": true,
           "subunitcolor": "white"
          },
          "hoverlabel": {
           "align": "left"
          },
          "hovermode": "closest",
          "mapbox": {
           "style": "light"
          },
          "paper_bgcolor": "white",
          "plot_bgcolor": "#E5ECF6",
          "polar": {
           "angularaxis": {
            "gridcolor": "white",
            "linecolor": "white",
            "ticks": ""
           },
           "bgcolor": "#E5ECF6",
           "radialaxis": {
            "gridcolor": "white",
            "linecolor": "white",
            "ticks": ""
           }
          },
          "scene": {
           "xaxis": {
            "backgroundcolor": "#E5ECF6",
            "gridcolor": "white",
            "gridwidth": 2,
            "linecolor": "white",
            "showbackground": true,
            "ticks": "",
            "zerolinecolor": "white"
           },
           "yaxis": {
            "backgroundcolor": "#E5ECF6",
            "gridcolor": "white",
            "gridwidth": 2,
            "linecolor": "white",
            "showbackground": true,
            "ticks": "",
            "zerolinecolor": "white"
           },
           "zaxis": {
            "backgroundcolor": "#E5ECF6",
            "gridcolor": "white",
            "gridwidth": 2,
            "linecolor": "white",
            "showbackground": true,
            "ticks": "",
            "zerolinecolor": "white"
           }
          },
          "shapedefaults": {
           "line": {
            "color": "#2a3f5f"
           }
          },
          "ternary": {
           "aaxis": {
            "gridcolor": "white",
            "linecolor": "white",
            "ticks": ""
           },
           "baxis": {
            "gridcolor": "white",
            "linecolor": "white",
            "ticks": ""
           },
           "bgcolor": "#E5ECF6",
           "caxis": {
            "gridcolor": "white",
            "linecolor": "white",
            "ticks": ""
           }
          },
          "title": {
           "x": 0.05
          },
          "xaxis": {
           "automargin": true,
           "gridcolor": "white",
           "linecolor": "white",
           "ticks": "",
           "title": {
            "standoff": 15
           },
           "zerolinecolor": "white",
           "zerolinewidth": 2
          },
          "yaxis": {
           "automargin": true,
           "gridcolor": "white",
           "linecolor": "white",
           "ticks": "",
           "title": {
            "standoff": 15
           },
           "zerolinecolor": "white",
           "zerolinewidth": 2
          }
         }
        },
        "title": {
         "text": "ChokePoint, Model QMagFace"
        }
       }
      },
      "text/html": [
       "<div>                            <div id=\"d8d06b0b-9c8b-4246-a7ba-1877d1c2ea95\" class=\"plotly-graph-div\" style=\"height:525px; width:100%;\"></div>            <script type=\"text/javascript\">                require([\"plotly\"], function(Plotly) {                    window.PLOTLYENV=window.PLOTLYENV || {};                                    if (document.getElementById(\"d8d06b0b-9c8b-4246-a7ba-1877d1c2ea95\")) {                    Plotly.newPlot(                        \"d8d06b0b-9c8b-4246-a7ba-1877d1c2ea95\",                        [{\"branchvalues\":\"total\",\"customdata\":[[0.5030912173008514],[0.6102133584433657],[0.6557417265970429],[0.5714305220334075],[0.6200506425479693],[0.6726619693737252],[0.6105665672268029],[0.7372741434365573],[0.6645441265801301],[0.6146760543962274],[0.6568993328439102],[0.671491289041235],[0.6629079588903591],[0.756610027848949],[0.7996023024928308],[0.7107419258053558],[0.7711793351658822],[0.7985302200471472],[0.6770027242645983],[0.703066873990858],[0.7863057232400554],[0.8244808921946906],[0.7116138676546976],[0.7937543878577187],[0.8377539847119736],[0.7593559572467649],[0.7719854342254227],[0.8095148063170607],[0.695142014326706],[0.5748744734161666],[0.792637286428219],[0.6179175103128836],[0.8336526169604606],[0.6767881081842594],[0.7318363569748806],[0.5439728822095605],[0.8048189953579566],[0.5976109319089841],[0.838265131494733],[0.7002061280289166],[0.7558437863263081],[0.8413211238267753],[0.759567199015034],[0.7895241619852522],[0.8190840272384872],[0.6503966945383386],[0.5748744734161666],[0.7397111611233286],[0.6179175103128836],[0.7752635646552372],[0.6767881081842594],[0.6833104762672264],[0.5439728822095605],[0.7278024237944462],[0.5976109319089841],[0.7720866011514561],[0.7002061280289166],[0.7013648291639938],[0.7372741434365573],[0.7234697923290119],[0.6965321475308988],[0.7083048776669367],[0.7517574006713981],[0.6596705758127873],[0.5594236778128635],[0.7341654764938256],[0.6145330805789002],[0.7729544559662493],[0.6771918671470984],[0.738517752006231],[0.6580008858994169]],\"domain\":{\"x\":[0.0,1.0],\"y\":[0.0,1.0]},\"hovertemplate\":\"labels=%{label}<br>count=%{value}<br>parent=%{parent}<br>id=%{id}<br>Quality=%{color}<extra></extra>\",\"ids\":[\"Man/sideways/downwards/asian\",\"Man/slightly_turned/downwards/asian\",\"Man/straight/downwards/asian\",\"Man/sideways/slightly_downwards/asian\",\"Man/slightly_turned/slightly_downwards/asian\",\"Man/straight/slightly_downwards/asian\",\"Man/sideways/slightly_upwards/asian\",\"Man/slightly_turned/slightly_upwards/asian\",\"Man/straight/slightly_upwards/asian\",\"Man/sideways/straight/asian\",\"Man/slightly_turned/straight/asian\",\"Man/straight/straight/asian\",\"Man/sideways/downwards/indian\",\"Man/slightly_turned/downwards/indian\",\"Man/straight/downwards/indian\",\"Man/sideways/slightly_downwards/indian\",\"Man/slightly_turned/slightly_downwards/indian\",\"Man/straight/slightly_downwards/indian\",\"Man/sideways/straight/indian\",\"Man/sideways/downwards/middle eastern\",\"Man/slightly_turned/downwards/middle eastern\",\"Man/straight/downwards/middle eastern\",\"Man/sideways/slightly_downwards/middle eastern\",\"Man/slightly_turned/slightly_downwards/middle eastern\",\"Man/straight/slightly_downwards/middle eastern\",\"Man/sideways/straight/middle eastern\",\"Man/slightly_turned/straight/middle eastern\",\"Man/straight/straight/middle eastern\",\"Man/sideways/downwards/white\",\"Woman/sideways/downwards/white\",\"Man/slightly_turned/downwards/white\",\"Woman/slightly_turned/downwards/white\",\"Man/straight/downwards/white\",\"Woman/straight/downwards/white\",\"Man/sideways/slightly_downwards/white\",\"Woman/sideways/slightly_downwards/white\",\"Man/slightly_turned/slightly_downwards/white\",\"Woman/slightly_turned/slightly_downwards/white\",\"Man/straight/slightly_downwards/white\",\"Woman/straight/slightly_downwards/white\",\"Man/sideways/slightly_upwards/white\",\"Man/straight/slightly_upwards/white\",\"Man/sideways/straight/white\",\"Man/slightly_turned/straight/white\",\"Man/straight/straight/white\",\"Man/sideways/downwards\",\"Woman/sideways/downwards\",\"Man/slightly_turned/downwards\",\"Woman/slightly_turned/downwards\",\"Man/straight/downwards\",\"Woman/straight/downwards\",\"Man/sideways/slightly_downwards\",\"Woman/sideways/slightly_downwards\",\"Man/slightly_turned/slightly_downwards\",\"Woman/slightly_turned/slightly_downwards\",\"Man/straight/slightly_downwards\",\"Woman/straight/slightly_downwards\",\"Man/sideways/slightly_upwards\",\"Man/slightly_turned/slightly_upwards\",\"Man/straight/slightly_upwards\",\"Man/sideways/straight\",\"Man/slightly_turned/straight\",\"Man/straight/straight\",\"Man/sideways\",\"Woman/sideways\",\"Man/slightly_turned\",\"Woman/slightly_turned\",\"Man/straight\",\"Woman/straight\",\"Man\",\"Woman\"],\"labels\":[\"asian\",\"asian\",\"asian\",\"asian\",\"asian\",\"asian\",\"asian\",\"asian\",\"asian\",\"asian\",\"asian\",\"asian\",\"indian\",\"indian\",\"indian\",\"indian\",\"indian\",\"indian\",\"indian\",\"middle eastern\",\"middle eastern\",\"middle eastern\",\"middle eastern\",\"middle eastern\",\"middle eastern\",\"middle eastern\",\"middle eastern\",\"middle eastern\",\"white\",\"white\",\"white\",\"white\",\"white\",\"white\",\"white\",\"white\",\"white\",\"white\",\"white\",\"white\",\"white\",\"white\",\"white\",\"white\",\"white\",\"downwards\",\"downwards\",\"downwards\",\"downwards\",\"downwards\",\"downwards\",\"slightly_downwards\",\"slightly_downwards\",\"slightly_downwards\",\"slightly_downwards\",\"slightly_downwards\",\"slightly_downwards\",\"slightly_upwards\",\"slightly_upwards\",\"slightly_upwards\",\"straight\",\"straight\",\"straight\",\"sideways\",\"sideways\",\"slightly_turned\",\"slightly_turned\",\"straight\",\"straight\",\"Man\",\"Woman\"],\"marker\":{\"coloraxis\":\"coloraxis\",\"colors\":[0.5030912173008514,0.6102133584433657,0.6557417265970429,0.5714305220334075,0.6200506425479693,0.6726619693737252,0.6105665672268029,0.7372741434365573,0.6645441265801301,0.6146760543962274,0.6568993328439102,0.671491289041235,0.6629079588903591,0.756610027848949,0.7996023024928308,0.7107419258053558,0.7711793351658822,0.7985302200471472,0.6770027242645983,0.703066873990858,0.7863057232400554,0.8244808921946906,0.7116138676546976,0.7937543878577187,0.8377539847119736,0.7593559572467649,0.7719854342254227,0.8095148063170607,0.695142014326706,0.5748744734161666,0.792637286428219,0.6179175103128836,0.8336526169604606,0.6767881081842594,0.7318363569748806,0.5439728822095605,0.8048189953579566,0.5976109319089841,0.838265131494733,0.7002061280289166,0.7558437863263081,0.8413211238267753,0.759567199015034,0.7895241619852522,0.8190840272384872,0.6503966945383386,0.5748744734161666,0.7397111611233286,0.6179175103128836,0.7752635646552372,0.6767881081842594,0.6833104762672264,0.5439728822095605,0.7278024237944462,0.5976109319089841,0.7720866011514561,0.7002061280289166,0.7013648291639938,0.7372741434365573,0.7234697923290119,0.6965321475308988,0.7083048776669367,0.7517574006713981,0.6596705758127873,0.5594236778128635,0.7341654764938256,0.6145330805789002,0.7729544559662493,0.6771918671470984,0.738517752006231,0.6580008858994169]},\"name\":\"\",\"parents\":[\"Man/sideways/downwards\",\"Man/slightly_turned/downwards\",\"Man/straight/downwards\",\"Man/sideways/slightly_downwards\",\"Man/slightly_turned/slightly_downwards\",\"Man/straight/slightly_downwards\",\"Man/sideways/slightly_upwards\",\"Man/slightly_turned/slightly_upwards\",\"Man/straight/slightly_upwards\",\"Man/sideways/straight\",\"Man/slightly_turned/straight\",\"Man/straight/straight\",\"Man/sideways/downwards\",\"Man/slightly_turned/downwards\",\"Man/straight/downwards\",\"Man/sideways/slightly_downwards\",\"Man/slightly_turned/slightly_downwards\",\"Man/straight/slightly_downwards\",\"Man/sideways/straight\",\"Man/sideways/downwards\",\"Man/slightly_turned/downwards\",\"Man/straight/downwards\",\"Man/sideways/slightly_downwards\",\"Man/slightly_turned/slightly_downwards\",\"Man/straight/slightly_downwards\",\"Man/sideways/straight\",\"Man/slightly_turned/straight\",\"Man/straight/straight\",\"Man/sideways/downwards\",\"Woman/sideways/downwards\",\"Man/slightly_turned/downwards\",\"Woman/slightly_turned/downwards\",\"Man/straight/downwards\",\"Woman/straight/downwards\",\"Man/sideways/slightly_downwards\",\"Woman/sideways/slightly_downwards\",\"Man/slightly_turned/slightly_downwards\",\"Woman/slightly_turned/slightly_downwards\",\"Man/straight/slightly_downwards\",\"Woman/straight/slightly_downwards\",\"Man/sideways/slightly_upwards\",\"Man/straight/slightly_upwards\",\"Man/sideways/straight\",\"Man/slightly_turned/straight\",\"Man/straight/straight\",\"Man/sideways\",\"Woman/sideways\",\"Man/slightly_turned\",\"Woman/slightly_turned\",\"Man/straight\",\"Woman/straight\",\"Man/sideways\",\"Woman/sideways\",\"Man/slightly_turned\",\"Woman/slightly_turned\",\"Man/straight\",\"Woman/straight\",\"Man/sideways\",\"Man/slightly_turned\",\"Man/straight\",\"Man/sideways\",\"Man/slightly_turned\",\"Man/straight\",\"Man\",\"Woman\",\"Man\",\"Woman\",\"Man\",\"Woman\",\"\",\"\"],\"values\":[423,549,1142,155,407,765,3,2,4,28,106,137,52,68,126,7,12,27,2,480,547,884,143,239,450,6,32,61,813,3,840,10,1540,57,270,3,358,2,692,1,5,2,31,42,111,1768,3,2004,10,3692,57,575,3,1016,2,1934,1,8,2,6,67,180,309,2418,6,3202,12,5941,58,11561,76],\"type\":\"sunburst\"}],                        {\"template\":{\"data\":{\"histogram2dcontour\":[{\"type\":\"histogram2dcontour\",\"colorbar\":{\"outlinewidth\":0,\"ticks\":\"\"},\"colorscale\":[[0.0,\"#0d0887\"],[0.1111111111111111,\"#46039f\"],[0.2222222222222222,\"#7201a8\"],[0.3333333333333333,\"#9c179e\"],[0.4444444444444444,\"#bd3786\"],[0.5555555555555556,\"#d8576b\"],[0.6666666666666666,\"#ed7953\"],[0.7777777777777778,\"#fb9f3a\"],[0.8888888888888888,\"#fdca26\"],[1.0,\"#f0f921\"]]}],\"choropleth\":[{\"type\":\"choropleth\",\"colorbar\":{\"outlinewidth\":0,\"ticks\":\"\"}}],\"histogram2d\":[{\"type\":\"histogram2d\",\"colorbar\":{\"outlinewidth\":0,\"ticks\":\"\"},\"colorscale\":[[0.0,\"#0d0887\"],[0.1111111111111111,\"#46039f\"],[0.2222222222222222,\"#7201a8\"],[0.3333333333333333,\"#9c179e\"],[0.4444444444444444,\"#bd3786\"],[0.5555555555555556,\"#d8576b\"],[0.6666666666666666,\"#ed7953\"],[0.7777777777777778,\"#fb9f3a\"],[0.8888888888888888,\"#fdca26\"],[1.0,\"#f0f921\"]]}],\"heatmap\":[{\"type\":\"heatmap\",\"colorbar\":{\"outlinewidth\":0,\"ticks\":\"\"},\"colorscale\":[[0.0,\"#0d0887\"],[0.1111111111111111,\"#46039f\"],[0.2222222222222222,\"#7201a8\"],[0.3333333333333333,\"#9c179e\"],[0.4444444444444444,\"#bd3786\"],[0.5555555555555556,\"#d8576b\"],[0.6666666666666666,\"#ed7953\"],[0.7777777777777778,\"#fb9f3a\"],[0.8888888888888888,\"#fdca26\"],[1.0,\"#f0f921\"]]}],\"heatmapgl\":[{\"type\":\"heatmapgl\",\"colorbar\":{\"outlinewidth\":0,\"ticks\":\"\"},\"colorscale\":[[0.0,\"#0d0887\"],[0.1111111111111111,\"#46039f\"],[0.2222222222222222,\"#7201a8\"],[0.3333333333333333,\"#9c179e\"],[0.4444444444444444,\"#bd3786\"],[0.5555555555555556,\"#d8576b\"],[0.6666666666666666,\"#ed7953\"],[0.7777777777777778,\"#fb9f3a\"],[0.8888888888888888,\"#fdca26\"],[1.0,\"#f0f921\"]]}],\"contourcarpet\":[{\"type\":\"contourcarpet\",\"colorbar\":{\"outlinewidth\":0,\"ticks\":\"\"}}],\"contour\":[{\"type\":\"contour\",\"colorbar\":{\"outlinewidth\":0,\"ticks\":\"\"},\"colorscale\":[[0.0,\"#0d0887\"],[0.1111111111111111,\"#46039f\"],[0.2222222222222222,\"#7201a8\"],[0.3333333333333333,\"#9c179e\"],[0.4444444444444444,\"#bd3786\"],[0.5555555555555556,\"#d8576b\"],[0.6666666666666666,\"#ed7953\"],[0.7777777777777778,\"#fb9f3a\"],[0.8888888888888888,\"#fdca26\"],[1.0,\"#f0f921\"]]}],\"surface\":[{\"type\":\"surface\",\"colorbar\":{\"outlinewidth\":0,\"ticks\":\"\"},\"colorscale\":[[0.0,\"#0d0887\"],[0.1111111111111111,\"#46039f\"],[0.2222222222222222,\"#7201a8\"],[0.3333333333333333,\"#9c179e\"],[0.4444444444444444,\"#bd3786\"],[0.5555555555555556,\"#d8576b\"],[0.6666666666666666,\"#ed7953\"],[0.7777777777777778,\"#fb9f3a\"],[0.8888888888888888,\"#fdca26\"],[1.0,\"#f0f921\"]]}],\"mesh3d\":[{\"type\":\"mesh3d\",\"colorbar\":{\"outlinewidth\":0,\"ticks\":\"\"}}],\"scatter\":[{\"fillpattern\":{\"fillmode\":\"overlay\",\"size\":10,\"solidity\":0.2},\"type\":\"scatter\"}],\"parcoords\":[{\"type\":\"parcoords\",\"line\":{\"colorbar\":{\"outlinewidth\":0,\"ticks\":\"\"}}}],\"scatterpolargl\":[{\"type\":\"scatterpolargl\",\"marker\":{\"colorbar\":{\"outlinewidth\":0,\"ticks\":\"\"}}}],\"bar\":[{\"error_x\":{\"color\":\"#2a3f5f\"},\"error_y\":{\"color\":\"#2a3f5f\"},\"marker\":{\"line\":{\"color\":\"#E5ECF6\",\"width\":0.5},\"pattern\":{\"fillmode\":\"overlay\",\"size\":10,\"solidity\":0.2}},\"type\":\"bar\"}],\"scattergeo\":[{\"type\":\"scattergeo\",\"marker\":{\"colorbar\":{\"outlinewidth\":0,\"ticks\":\"\"}}}],\"scatterpolar\":[{\"type\":\"scatterpolar\",\"marker\":{\"colorbar\":{\"outlinewidth\":0,\"ticks\":\"\"}}}],\"histogram\":[{\"marker\":{\"pattern\":{\"fillmode\":\"overlay\",\"size\":10,\"solidity\":0.2}},\"type\":\"histogram\"}],\"scattergl\":[{\"type\":\"scattergl\",\"marker\":{\"colorbar\":{\"outlinewidth\":0,\"ticks\":\"\"}}}],\"scatter3d\":[{\"type\":\"scatter3d\",\"line\":{\"colorbar\":{\"outlinewidth\":0,\"ticks\":\"\"}},\"marker\":{\"colorbar\":{\"outlinewidth\":0,\"ticks\":\"\"}}}],\"scattermapbox\":[{\"type\":\"scattermapbox\",\"marker\":{\"colorbar\":{\"outlinewidth\":0,\"ticks\":\"\"}}}],\"scatterternary\":[{\"type\":\"scatterternary\",\"marker\":{\"colorbar\":{\"outlinewidth\":0,\"ticks\":\"\"}}}],\"scattercarpet\":[{\"type\":\"scattercarpet\",\"marker\":{\"colorbar\":{\"outlinewidth\":0,\"ticks\":\"\"}}}],\"carpet\":[{\"aaxis\":{\"endlinecolor\":\"#2a3f5f\",\"gridcolor\":\"white\",\"linecolor\":\"white\",\"minorgridcolor\":\"white\",\"startlinecolor\":\"#2a3f5f\"},\"baxis\":{\"endlinecolor\":\"#2a3f5f\",\"gridcolor\":\"white\",\"linecolor\":\"white\",\"minorgridcolor\":\"white\",\"startlinecolor\":\"#2a3f5f\"},\"type\":\"carpet\"}],\"table\":[{\"cells\":{\"fill\":{\"color\":\"#EBF0F8\"},\"line\":{\"color\":\"white\"}},\"header\":{\"fill\":{\"color\":\"#C8D4E3\"},\"line\":{\"color\":\"white\"}},\"type\":\"table\"}],\"barpolar\":[{\"marker\":{\"line\":{\"color\":\"#E5ECF6\",\"width\":0.5},\"pattern\":{\"fillmode\":\"overlay\",\"size\":10,\"solidity\":0.2}},\"type\":\"barpolar\"}],\"pie\":[{\"automargin\":true,\"type\":\"pie\"}]},\"layout\":{\"autotypenumbers\":\"strict\",\"colorway\":[\"#636efa\",\"#EF553B\",\"#00cc96\",\"#ab63fa\",\"#FFA15A\",\"#19d3f3\",\"#FF6692\",\"#B6E880\",\"#FF97FF\",\"#FECB52\"],\"font\":{\"color\":\"#2a3f5f\"},\"hovermode\":\"closest\",\"hoverlabel\":{\"align\":\"left\"},\"paper_bgcolor\":\"white\",\"plot_bgcolor\":\"#E5ECF6\",\"polar\":{\"bgcolor\":\"#E5ECF6\",\"angularaxis\":{\"gridcolor\":\"white\",\"linecolor\":\"white\",\"ticks\":\"\"},\"radialaxis\":{\"gridcolor\":\"white\",\"linecolor\":\"white\",\"ticks\":\"\"}},\"ternary\":{\"bgcolor\":\"#E5ECF6\",\"aaxis\":{\"gridcolor\":\"white\",\"linecolor\":\"white\",\"ticks\":\"\"},\"baxis\":{\"gridcolor\":\"white\",\"linecolor\":\"white\",\"ticks\":\"\"},\"caxis\":{\"gridcolor\":\"white\",\"linecolor\":\"white\",\"ticks\":\"\"}},\"coloraxis\":{\"colorbar\":{\"outlinewidth\":0,\"ticks\":\"\"}},\"colorscale\":{\"sequential\":[[0.0,\"#0d0887\"],[0.1111111111111111,\"#46039f\"],[0.2222222222222222,\"#7201a8\"],[0.3333333333333333,\"#9c179e\"],[0.4444444444444444,\"#bd3786\"],[0.5555555555555556,\"#d8576b\"],[0.6666666666666666,\"#ed7953\"],[0.7777777777777778,\"#fb9f3a\"],[0.8888888888888888,\"#fdca26\"],[1.0,\"#f0f921\"]],\"sequentialminus\":[[0.0,\"#0d0887\"],[0.1111111111111111,\"#46039f\"],[0.2222222222222222,\"#7201a8\"],[0.3333333333333333,\"#9c179e\"],[0.4444444444444444,\"#bd3786\"],[0.5555555555555556,\"#d8576b\"],[0.6666666666666666,\"#ed7953\"],[0.7777777777777778,\"#fb9f3a\"],[0.8888888888888888,\"#fdca26\"],[1.0,\"#f0f921\"]],\"diverging\":[[0,\"#8e0152\"],[0.1,\"#c51b7d\"],[0.2,\"#de77ae\"],[0.3,\"#f1b6da\"],[0.4,\"#fde0ef\"],[0.5,\"#f7f7f7\"],[0.6,\"#e6f5d0\"],[0.7,\"#b8e186\"],[0.8,\"#7fbc41\"],[0.9,\"#4d9221\"],[1,\"#276419\"]]},\"xaxis\":{\"gridcolor\":\"white\",\"linecolor\":\"white\",\"ticks\":\"\",\"title\":{\"standoff\":15},\"zerolinecolor\":\"white\",\"automargin\":true,\"zerolinewidth\":2},\"yaxis\":{\"gridcolor\":\"white\",\"linecolor\":\"white\",\"ticks\":\"\",\"title\":{\"standoff\":15},\"zerolinecolor\":\"white\",\"automargin\":true,\"zerolinewidth\":2},\"scene\":{\"xaxis\":{\"backgroundcolor\":\"#E5ECF6\",\"gridcolor\":\"white\",\"linecolor\":\"white\",\"showbackground\":true,\"ticks\":\"\",\"zerolinecolor\":\"white\",\"gridwidth\":2},\"yaxis\":{\"backgroundcolor\":\"#E5ECF6\",\"gridcolor\":\"white\",\"linecolor\":\"white\",\"showbackground\":true,\"ticks\":\"\",\"zerolinecolor\":\"white\",\"gridwidth\":2},\"zaxis\":{\"backgroundcolor\":\"#E5ECF6\",\"gridcolor\":\"white\",\"linecolor\":\"white\",\"showbackground\":true,\"ticks\":\"\",\"zerolinecolor\":\"white\",\"gridwidth\":2}},\"shapedefaults\":{\"line\":{\"color\":\"#2a3f5f\"}},\"annotationdefaults\":{\"arrowcolor\":\"#2a3f5f\",\"arrowhead\":0,\"arrowwidth\":1},\"geo\":{\"bgcolor\":\"white\",\"landcolor\":\"#E5ECF6\",\"subunitcolor\":\"white\",\"showland\":true,\"showlakes\":true,\"lakecolor\":\"white\"},\"title\":{\"x\":0.05},\"mapbox\":{\"style\":\"light\"}}},\"coloraxis\":{\"colorbar\":{\"title\":{\"text\":\"Quality\"}},\"colorscale\":[[0.0,\"#440154\"],[0.1111111111111111,\"#482878\"],[0.2222222222222222,\"#3e4989\"],[0.3333333333333333,\"#31688e\"],[0.4444444444444444,\"#26828e\"],[0.5555555555555556,\"#1f9e89\"],[0.6666666666666666,\"#35b779\"],[0.7777777777777778,\"#6ece58\"],[0.8888888888888888,\"#b5de2b\"],[1.0,\"#fde725\"]],\"cmin\":0,\"cmax\":1},\"legend\":{\"tracegroupgap\":0},\"title\":{\"text\":\"ChokePoint, Model QMagFace\"}},                        {\"responsive\": true}                    ).then(function(){\n",
       "                            \n",
       "var gd = document.getElementById('d8d06b0b-9c8b-4246-a7ba-1877d1c2ea95');\n",
       "var x = new MutationObserver(function (mutations, observer) {{\n",
       "        var display = window.getComputedStyle(gd).display;\n",
       "        if (!display || display === 'none') {{\n",
       "            console.log([gd, 'removed!']);\n",
       "            Plotly.purge(gd);\n",
       "            observer.disconnect();\n",
       "        }}\n",
       "}});\n",
       "\n",
       "// Listen for the removal of the full notebook cells\n",
       "var notebookContainer = gd.closest('#notebook-container');\n",
       "if (notebookContainer) {{\n",
       "    x.observe(notebookContainer, {childList: true});\n",
       "}}\n",
       "\n",
       "// Listen for the clearing of the current output cell\n",
       "var outputEl = gd.closest('.output');\n",
       "if (outputEl) {{\n",
       "    x.observe(outputEl, {childList: true});\n",
       "}}\n",
       "\n",
       "                        })                };                });            </script>        </div>"
      ]
     },
     "metadata": {},
     "output_type": "display_data"
    },
    {
     "data": {
      "application/vnd.plotly.v1+json": {
       "config": {
        "plotlyServerURL": "https://plot.ly"
       },
       "data": [
        {
         "branchvalues": "total",
         "customdata": [
          [
           0.3679764630661976
          ],
          [
           0.7442673594883648
          ],
          [
           0.3965098209328211
          ],
          [
           0.7382863973026769
          ],
          [
           0.7573582386683911
          ],
          [
           0.7800381352093095
          ],
          [
           0.9237140210593584
          ],
          [
           0.9202831101562335
          ],
          [
           0.44193867737948805
          ],
          [
           0.32261927895581766
          ],
          [
           0.3887617427557184
          ],
          [
           0.6887166381402212
          ],
          [
           0.502325434054673
          ],
          [
           0.5155089138627181
          ],
          [
           0.733805159098419
          ],
          [
           0.8713675175377625
          ],
          [
           0.8024878575368918
          ],
          [
           0.6261117266677051
          ],
          [
           0.8121737344146313
          ],
          [
           0.6379475418481688
          ],
          [
           0.8573006767804419
          ],
          [
           0.8093990985521343
          ],
          [
           0.6197702790307908
          ],
          [
           0.7865691010238739
          ],
          [
           0.7616009753030466
          ],
          [
           0.7674433758623967
          ],
          [
           0.8535287005486549
          ],
          [
           0.6126201291792976
          ],
          [
           0.512214114185087
          ],
          [
           0.7911167048010407
          ],
          [
           0.47993393888992714
          ],
          [
           0.5155089138627181
          ],
          [
           0.733805159098419
          ],
          [
           0.839592478025413
          ],
          [
           0.8024878575368918
          ],
          [
           0.5728631498606304
          ],
          [
           0.7973962669922404
          ],
          [
           0.6201368540234298
          ],
          [
           0.8573006767804419
          ],
          [
           0.8093990985521343
          ],
          [
           0.5964896605015295
          ],
          [
           0.7865691010238739
          ],
          [
           0.7616009753030466
          ],
          [
           0.7561966990449431
          ],
          [
           0.8535287005486549
          ],
          [
           0.6126201291792976
          ],
          [
           0.512214114185087
          ],
          [
           0.9237140210593584
          ],
          [
           0.8556999074786371
          ],
          [
           0.5411519300060331
          ],
          [
           0.6055877429433008
          ],
          [
           0.7951802826909677
          ],
          [
           0.7976669410850513
          ],
          [
           0.829736089296584
          ],
          [
           0.6108444399509154
          ],
          [
           0.6616248295316216
          ]
         ],
         "domain": {
          "x": [
           0,
           1
          ],
          "y": [
           0,
           1
          ]
         },
         "hovertemplate": "labels=%{label}<br>count=%{value}<br>parent=%{parent}<br>id=%{id}<br>Quality=%{color}<extra></extra>",
         "ids": [
          "Man/sideways/downwards/asian",
          "Man/straight/downwards/asian",
          "Man/sideways/slightly_downwards/asian",
          "Man/straight/slightly_downwards/asian",
          "Man/sideways/slightly_upwards/asian",
          "Man/sideways/straight/asian",
          "Man/slightly_turned/upwards/asian",
          "Man/straight/upwards/asian",
          "Man/sideways/slightly_downwards/middle eastern",
          "Man/sideways/slightly_upwards/middle eastern",
          "Man/sideways/straight/middle eastern",
          "Man/straight/straight/middle eastern",
          "Man/sideways/downwards/white",
          "Woman/sideways/downwards/white",
          "Man/slightly_turned/downwards/white",
          "Man/straight/downwards/white",
          "Woman/straight/downwards/white",
          "Man/sideways/slightly_downwards/white",
          "Man/straight/slightly_downwards/white",
          "Man/sideways/slightly_upwards/white",
          "Man/straight/slightly_upwards/white",
          "Woman/straight/slightly_upwards/white",
          "Man/sideways/straight/white",
          "Woman/sideways/straight/white",
          "Man/slightly_turned/straight/white",
          "Man/straight/straight/white",
          "Woman/straight/straight/white",
          "Man/sideways/upwards/white",
          "Woman/sideways/upwards/white",
          "Man/straight/upwards/white",
          "Man/sideways/downwards",
          "Woman/sideways/downwards",
          "Man/slightly_turned/downwards",
          "Man/straight/downwards",
          "Woman/straight/downwards",
          "Man/sideways/slightly_downwards",
          "Man/straight/slightly_downwards",
          "Man/sideways/slightly_upwards",
          "Man/straight/slightly_upwards",
          "Woman/straight/slightly_upwards",
          "Man/sideways/straight",
          "Woman/sideways/straight",
          "Man/slightly_turned/straight",
          "Man/straight/straight",
          "Woman/straight/straight",
          "Man/sideways/upwards",
          "Woman/sideways/upwards",
          "Man/slightly_turned/upwards",
          "Man/straight/upwards",
          "Man/sideways",
          "Woman/sideways",
          "Man/slightly_turned",
          "Man/straight",
          "Woman/straight",
          "Man",
          "Woman"
         ],
         "labels": [
          "asian",
          "asian",
          "asian",
          "asian",
          "asian",
          "asian",
          "asian",
          "asian",
          "middle eastern",
          "middle eastern",
          "middle eastern",
          "middle eastern",
          "white",
          "white",
          "white",
          "white",
          "white",
          "white",
          "white",
          "white",
          "white",
          "white",
          "white",
          "white",
          "white",
          "white",
          "white",
          "white",
          "white",
          "white",
          "downwards",
          "downwards",
          "downwards",
          "downwards",
          "downwards",
          "slightly_downwards",
          "slightly_downwards",
          "slightly_upwards",
          "slightly_upwards",
          "slightly_upwards",
          "straight",
          "straight",
          "straight",
          "straight",
          "straight",
          "upwards",
          "upwards",
          "upwards",
          "upwards",
          "sideways",
          "sideways",
          "slightly_turned",
          "straight",
          "straight",
          "Man",
          "Woman"
         ],
         "marker": {
          "coloraxis": "coloraxis",
          "colors": [
           0.3679764630661976,
           0.7442673594883648,
           0.3965098209328211,
           0.7382863973026769,
           0.7573582386683911,
           0.7800381352093095,
           0.9237140210593584,
           0.9202831101562335,
           0.44193867737948805,
           0.32261927895581766,
           0.3887617427557184,
           0.6887166381402212,
           0.502325434054673,
           0.5155089138627181,
           0.733805159098419,
           0.8713675175377625,
           0.8024878575368918,
           0.6261117266677051,
           0.8121737344146313,
           0.6379475418481688,
           0.8573006767804419,
           0.8093990985521343,
           0.6197702790307908,
           0.7865691010238739,
           0.7616009753030466,
           0.7674433758623967,
           0.8535287005486549,
           0.6126201291792976,
           0.512214114185087,
           0.7911167048010407,
           0.47993393888992714,
           0.5155089138627181,
           0.733805159098419,
           0.839592478025413,
           0.8024878575368918,
           0.5728631498606304,
           0.7973962669922404,
           0.6201368540234298,
           0.8573006767804419,
           0.8093990985521343,
           0.5964896605015295,
           0.7865691010238739,
           0.7616009753030466,
           0.7561966990449431,
           0.8535287005486549,
           0.6126201291792976,
           0.512214114185087,
           0.9237140210593584,
           0.8556999074786371,
           0.5411519300060331,
           0.6055877429433008,
           0.7951802826909677,
           0.7976669410850513,
           0.829736089296584,
           0.6108444399509154,
           0.6616248295316216
          ]
         },
         "name": "",
         "parents": [
          "Man/sideways/downwards",
          "Man/straight/downwards",
          "Man/sideways/slightly_downwards",
          "Man/straight/slightly_downwards",
          "Man/sideways/slightly_upwards",
          "Man/sideways/straight",
          "Man/slightly_turned/upwards",
          "Man/straight/upwards",
          "Man/sideways/slightly_downwards",
          "Man/sideways/slightly_upwards",
          "Man/sideways/straight",
          "Man/straight/straight",
          "Man/sideways/downwards",
          "Woman/sideways/downwards",
          "Man/slightly_turned/downwards",
          "Man/straight/downwards",
          "Woman/straight/downwards",
          "Man/sideways/slightly_downwards",
          "Man/straight/slightly_downwards",
          "Man/sideways/slightly_upwards",
          "Man/straight/slightly_upwards",
          "Woman/straight/slightly_upwards",
          "Man/sideways/straight",
          "Woman/sideways/straight",
          "Man/slightly_turned/straight",
          "Man/straight/straight",
          "Woman/straight/straight",
          "Man/sideways/upwards",
          "Woman/sideways/upwards",
          "Man/straight/upwards",
          "Man/sideways",
          "Woman/sideways",
          "Man/slightly_turned",
          "Man/straight",
          "Woman/straight",
          "Man/sideways",
          "Man/straight",
          "Man/sideways",
          "Man/straight",
          "Woman/straight",
          "Man/sideways",
          "Woman/sideways",
          "Man/slightly_turned",
          "Man/straight",
          "Woman/straight",
          "Man/sideways",
          "Woman/sideways",
          "Man/slightly_turned",
          "Man/straight",
          "Man",
          "Woman",
          "Man",
          "Man",
          "Woman",
          "",
          ""
         ],
         "type": "sunburst",
         "values": [
          7,
          1,
          2,
          1,
          1,
          2,
          1,
          1,
          3,
          1,
          3,
          2,
          35,
          7,
          1,
          3,
          1,
          14,
          4,
          9,
          5,
          1,
          11,
          4,
          2,
          12,
          2,
          3,
          1,
          1,
          42,
          7,
          1,
          4,
          1,
          19,
          5,
          11,
          5,
          1,
          16,
          4,
          2,
          14,
          2,
          3,
          1,
          1,
          2,
          91,
          12,
          4,
          30,
          4,
          125,
          16
         ]
        }
       ],
       "layout": {
        "coloraxis": {
         "cmax": 1,
         "cmin": 0,
         "colorbar": {
          "title": {
           "text": "Quality"
          }
         },
         "colorscale": [
          [
           0,
           "#440154"
          ],
          [
           0.1111111111111111,
           "#482878"
          ],
          [
           0.2222222222222222,
           "#3e4989"
          ],
          [
           0.3333333333333333,
           "#31688e"
          ],
          [
           0.4444444444444444,
           "#26828e"
          ],
          [
           0.5555555555555556,
           "#1f9e89"
          ],
          [
           0.6666666666666666,
           "#35b779"
          ],
          [
           0.7777777777777778,
           "#6ece58"
          ],
          [
           0.8888888888888888,
           "#b5de2b"
          ],
          [
           1,
           "#fde725"
          ]
         ]
        },
        "legend": {
         "tracegroupgap": 0
        },
        "template": {
         "data": {
          "bar": [
           {
            "error_x": {
             "color": "#2a3f5f"
            },
            "error_y": {
             "color": "#2a3f5f"
            },
            "marker": {
             "line": {
              "color": "#E5ECF6",
              "width": 0.5
             },
             "pattern": {
              "fillmode": "overlay",
              "size": 10,
              "solidity": 0.2
             }
            },
            "type": "bar"
           }
          ],
          "barpolar": [
           {
            "marker": {
             "line": {
              "color": "#E5ECF6",
              "width": 0.5
             },
             "pattern": {
              "fillmode": "overlay",
              "size": 10,
              "solidity": 0.2
             }
            },
            "type": "barpolar"
           }
          ],
          "carpet": [
           {
            "aaxis": {
             "endlinecolor": "#2a3f5f",
             "gridcolor": "white",
             "linecolor": "white",
             "minorgridcolor": "white",
             "startlinecolor": "#2a3f5f"
            },
            "baxis": {
             "endlinecolor": "#2a3f5f",
             "gridcolor": "white",
             "linecolor": "white",
             "minorgridcolor": "white",
             "startlinecolor": "#2a3f5f"
            },
            "type": "carpet"
           }
          ],
          "choropleth": [
           {
            "colorbar": {
             "outlinewidth": 0,
             "ticks": ""
            },
            "type": "choropleth"
           }
          ],
          "contour": [
           {
            "colorbar": {
             "outlinewidth": 0,
             "ticks": ""
            },
            "colorscale": [
             [
              0,
              "#0d0887"
             ],
             [
              0.1111111111111111,
              "#46039f"
             ],
             [
              0.2222222222222222,
              "#7201a8"
             ],
             [
              0.3333333333333333,
              "#9c179e"
             ],
             [
              0.4444444444444444,
              "#bd3786"
             ],
             [
              0.5555555555555556,
              "#d8576b"
             ],
             [
              0.6666666666666666,
              "#ed7953"
             ],
             [
              0.7777777777777778,
              "#fb9f3a"
             ],
             [
              0.8888888888888888,
              "#fdca26"
             ],
             [
              1,
              "#f0f921"
             ]
            ],
            "type": "contour"
           }
          ],
          "contourcarpet": [
           {
            "colorbar": {
             "outlinewidth": 0,
             "ticks": ""
            },
            "type": "contourcarpet"
           }
          ],
          "heatmap": [
           {
            "colorbar": {
             "outlinewidth": 0,
             "ticks": ""
            },
            "colorscale": [
             [
              0,
              "#0d0887"
             ],
             [
              0.1111111111111111,
              "#46039f"
             ],
             [
              0.2222222222222222,
              "#7201a8"
             ],
             [
              0.3333333333333333,
              "#9c179e"
             ],
             [
              0.4444444444444444,
              "#bd3786"
             ],
             [
              0.5555555555555556,
              "#d8576b"
             ],
             [
              0.6666666666666666,
              "#ed7953"
             ],
             [
              0.7777777777777778,
              "#fb9f3a"
             ],
             [
              0.8888888888888888,
              "#fdca26"
             ],
             [
              1,
              "#f0f921"
             ]
            ],
            "type": "heatmap"
           }
          ],
          "heatmapgl": [
           {
            "colorbar": {
             "outlinewidth": 0,
             "ticks": ""
            },
            "colorscale": [
             [
              0,
              "#0d0887"
             ],
             [
              0.1111111111111111,
              "#46039f"
             ],
             [
              0.2222222222222222,
              "#7201a8"
             ],
             [
              0.3333333333333333,
              "#9c179e"
             ],
             [
              0.4444444444444444,
              "#bd3786"
             ],
             [
              0.5555555555555556,
              "#d8576b"
             ],
             [
              0.6666666666666666,
              "#ed7953"
             ],
             [
              0.7777777777777778,
              "#fb9f3a"
             ],
             [
              0.8888888888888888,
              "#fdca26"
             ],
             [
              1,
              "#f0f921"
             ]
            ],
            "type": "heatmapgl"
           }
          ],
          "histogram": [
           {
            "marker": {
             "pattern": {
              "fillmode": "overlay",
              "size": 10,
              "solidity": 0.2
             }
            },
            "type": "histogram"
           }
          ],
          "histogram2d": [
           {
            "colorbar": {
             "outlinewidth": 0,
             "ticks": ""
            },
            "colorscale": [
             [
              0,
              "#0d0887"
             ],
             [
              0.1111111111111111,
              "#46039f"
             ],
             [
              0.2222222222222222,
              "#7201a8"
             ],
             [
              0.3333333333333333,
              "#9c179e"
             ],
             [
              0.4444444444444444,
              "#bd3786"
             ],
             [
              0.5555555555555556,
              "#d8576b"
             ],
             [
              0.6666666666666666,
              "#ed7953"
             ],
             [
              0.7777777777777778,
              "#fb9f3a"
             ],
             [
              0.8888888888888888,
              "#fdca26"
             ],
             [
              1,
              "#f0f921"
             ]
            ],
            "type": "histogram2d"
           }
          ],
          "histogram2dcontour": [
           {
            "colorbar": {
             "outlinewidth": 0,
             "ticks": ""
            },
            "colorscale": [
             [
              0,
              "#0d0887"
             ],
             [
              0.1111111111111111,
              "#46039f"
             ],
             [
              0.2222222222222222,
              "#7201a8"
             ],
             [
              0.3333333333333333,
              "#9c179e"
             ],
             [
              0.4444444444444444,
              "#bd3786"
             ],
             [
              0.5555555555555556,
              "#d8576b"
             ],
             [
              0.6666666666666666,
              "#ed7953"
             ],
             [
              0.7777777777777778,
              "#fb9f3a"
             ],
             [
              0.8888888888888888,
              "#fdca26"
             ],
             [
              1,
              "#f0f921"
             ]
            ],
            "type": "histogram2dcontour"
           }
          ],
          "mesh3d": [
           {
            "colorbar": {
             "outlinewidth": 0,
             "ticks": ""
            },
            "type": "mesh3d"
           }
          ],
          "parcoords": [
           {
            "line": {
             "colorbar": {
              "outlinewidth": 0,
              "ticks": ""
             }
            },
            "type": "parcoords"
           }
          ],
          "pie": [
           {
            "automargin": true,
            "type": "pie"
           }
          ],
          "scatter": [
           {
            "fillpattern": {
             "fillmode": "overlay",
             "size": 10,
             "solidity": 0.2
            },
            "type": "scatter"
           }
          ],
          "scatter3d": [
           {
            "line": {
             "colorbar": {
              "outlinewidth": 0,
              "ticks": ""
             }
            },
            "marker": {
             "colorbar": {
              "outlinewidth": 0,
              "ticks": ""
             }
            },
            "type": "scatter3d"
           }
          ],
          "scattercarpet": [
           {
            "marker": {
             "colorbar": {
              "outlinewidth": 0,
              "ticks": ""
             }
            },
            "type": "scattercarpet"
           }
          ],
          "scattergeo": [
           {
            "marker": {
             "colorbar": {
              "outlinewidth": 0,
              "ticks": ""
             }
            },
            "type": "scattergeo"
           }
          ],
          "scattergl": [
           {
            "marker": {
             "colorbar": {
              "outlinewidth": 0,
              "ticks": ""
             }
            },
            "type": "scattergl"
           }
          ],
          "scattermapbox": [
           {
            "marker": {
             "colorbar": {
              "outlinewidth": 0,
              "ticks": ""
             }
            },
            "type": "scattermapbox"
           }
          ],
          "scatterpolar": [
           {
            "marker": {
             "colorbar": {
              "outlinewidth": 0,
              "ticks": ""
             }
            },
            "type": "scatterpolar"
           }
          ],
          "scatterpolargl": [
           {
            "marker": {
             "colorbar": {
              "outlinewidth": 0,
              "ticks": ""
             }
            },
            "type": "scatterpolargl"
           }
          ],
          "scatterternary": [
           {
            "marker": {
             "colorbar": {
              "outlinewidth": 0,
              "ticks": ""
             }
            },
            "type": "scatterternary"
           }
          ],
          "surface": [
           {
            "colorbar": {
             "outlinewidth": 0,
             "ticks": ""
            },
            "colorscale": [
             [
              0,
              "#0d0887"
             ],
             [
              0.1111111111111111,
              "#46039f"
             ],
             [
              0.2222222222222222,
              "#7201a8"
             ],
             [
              0.3333333333333333,
              "#9c179e"
             ],
             [
              0.4444444444444444,
              "#bd3786"
             ],
             [
              0.5555555555555556,
              "#d8576b"
             ],
             [
              0.6666666666666666,
              "#ed7953"
             ],
             [
              0.7777777777777778,
              "#fb9f3a"
             ],
             [
              0.8888888888888888,
              "#fdca26"
             ],
             [
              1,
              "#f0f921"
             ]
            ],
            "type": "surface"
           }
          ],
          "table": [
           {
            "cells": {
             "fill": {
              "color": "#EBF0F8"
             },
             "line": {
              "color": "white"
             }
            },
            "header": {
             "fill": {
              "color": "#C8D4E3"
             },
             "line": {
              "color": "white"
             }
            },
            "type": "table"
           }
          ]
         },
         "layout": {
          "annotationdefaults": {
           "arrowcolor": "#2a3f5f",
           "arrowhead": 0,
           "arrowwidth": 1
          },
          "autotypenumbers": "strict",
          "coloraxis": {
           "colorbar": {
            "outlinewidth": 0,
            "ticks": ""
           }
          },
          "colorscale": {
           "diverging": [
            [
             0,
             "#8e0152"
            ],
            [
             0.1,
             "#c51b7d"
            ],
            [
             0.2,
             "#de77ae"
            ],
            [
             0.3,
             "#f1b6da"
            ],
            [
             0.4,
             "#fde0ef"
            ],
            [
             0.5,
             "#f7f7f7"
            ],
            [
             0.6,
             "#e6f5d0"
            ],
            [
             0.7,
             "#b8e186"
            ],
            [
             0.8,
             "#7fbc41"
            ],
            [
             0.9,
             "#4d9221"
            ],
            [
             1,
             "#276419"
            ]
           ],
           "sequential": [
            [
             0,
             "#0d0887"
            ],
            [
             0.1111111111111111,
             "#46039f"
            ],
            [
             0.2222222222222222,
             "#7201a8"
            ],
            [
             0.3333333333333333,
             "#9c179e"
            ],
            [
             0.4444444444444444,
             "#bd3786"
            ],
            [
             0.5555555555555556,
             "#d8576b"
            ],
            [
             0.6666666666666666,
             "#ed7953"
            ],
            [
             0.7777777777777778,
             "#fb9f3a"
            ],
            [
             0.8888888888888888,
             "#fdca26"
            ],
            [
             1,
             "#f0f921"
            ]
           ],
           "sequentialminus": [
            [
             0,
             "#0d0887"
            ],
            [
             0.1111111111111111,
             "#46039f"
            ],
            [
             0.2222222222222222,
             "#7201a8"
            ],
            [
             0.3333333333333333,
             "#9c179e"
            ],
            [
             0.4444444444444444,
             "#bd3786"
            ],
            [
             0.5555555555555556,
             "#d8576b"
            ],
            [
             0.6666666666666666,
             "#ed7953"
            ],
            [
             0.7777777777777778,
             "#fb9f3a"
            ],
            [
             0.8888888888888888,
             "#fdca26"
            ],
            [
             1,
             "#f0f921"
            ]
           ]
          },
          "colorway": [
           "#636efa",
           "#EF553B",
           "#00cc96",
           "#ab63fa",
           "#FFA15A",
           "#19d3f3",
           "#FF6692",
           "#B6E880",
           "#FF97FF",
           "#FECB52"
          ],
          "font": {
           "color": "#2a3f5f"
          },
          "geo": {
           "bgcolor": "white",
           "lakecolor": "white",
           "landcolor": "#E5ECF6",
           "showlakes": true,
           "showland": true,
           "subunitcolor": "white"
          },
          "hoverlabel": {
           "align": "left"
          },
          "hovermode": "closest",
          "mapbox": {
           "style": "light"
          },
          "paper_bgcolor": "white",
          "plot_bgcolor": "#E5ECF6",
          "polar": {
           "angularaxis": {
            "gridcolor": "white",
            "linecolor": "white",
            "ticks": ""
           },
           "bgcolor": "#E5ECF6",
           "radialaxis": {
            "gridcolor": "white",
            "linecolor": "white",
            "ticks": ""
           }
          },
          "scene": {
           "xaxis": {
            "backgroundcolor": "#E5ECF6",
            "gridcolor": "white",
            "gridwidth": 2,
            "linecolor": "white",
            "showbackground": true,
            "ticks": "",
            "zerolinecolor": "white"
           },
           "yaxis": {
            "backgroundcolor": "#E5ECF6",
            "gridcolor": "white",
            "gridwidth": 2,
            "linecolor": "white",
            "showbackground": true,
            "ticks": "",
            "zerolinecolor": "white"
           },
           "zaxis": {
            "backgroundcolor": "#E5ECF6",
            "gridcolor": "white",
            "gridwidth": 2,
            "linecolor": "white",
            "showbackground": true,
            "ticks": "",
            "zerolinecolor": "white"
           }
          },
          "shapedefaults": {
           "line": {
            "color": "#2a3f5f"
           }
          },
          "ternary": {
           "aaxis": {
            "gridcolor": "white",
            "linecolor": "white",
            "ticks": ""
           },
           "baxis": {
            "gridcolor": "white",
            "linecolor": "white",
            "ticks": ""
           },
           "bgcolor": "#E5ECF6",
           "caxis": {
            "gridcolor": "white",
            "linecolor": "white",
            "ticks": ""
           }
          },
          "title": {
           "x": 0.05
          },
          "xaxis": {
           "automargin": true,
           "gridcolor": "white",
           "linecolor": "white",
           "ticks": "",
           "title": {
            "standoff": 15
           },
           "zerolinecolor": "white",
           "zerolinewidth": 2
          },
          "yaxis": {
           "automargin": true,
           "gridcolor": "white",
           "linecolor": "white",
           "ticks": "",
           "title": {
            "standoff": 15
           },
           "zerolinecolor": "white",
           "zerolinewidth": 2
          }
         }
        },
        "title": {
         "text": "ENFSI, Model QMagFace"
        }
       }
      },
      "text/html": [
       "<div>                            <div id=\"b43dc904-fe72-42ae-8c87-ff4066f55c81\" class=\"plotly-graph-div\" style=\"height:525px; width:100%;\"></div>            <script type=\"text/javascript\">                require([\"plotly\"], function(Plotly) {                    window.PLOTLYENV=window.PLOTLYENV || {};                                    if (document.getElementById(\"b43dc904-fe72-42ae-8c87-ff4066f55c81\")) {                    Plotly.newPlot(                        \"b43dc904-fe72-42ae-8c87-ff4066f55c81\",                        [{\"branchvalues\":\"total\",\"customdata\":[[0.3679764630661976],[0.7442673594883648],[0.3965098209328211],[0.7382863973026769],[0.7573582386683911],[0.7800381352093095],[0.9237140210593584],[0.9202831101562335],[0.44193867737948805],[0.32261927895581766],[0.3887617427557184],[0.6887166381402212],[0.502325434054673],[0.5155089138627181],[0.733805159098419],[0.8713675175377625],[0.8024878575368918],[0.6261117266677051],[0.8121737344146313],[0.6379475418481688],[0.8573006767804419],[0.8093990985521343],[0.6197702790307908],[0.7865691010238739],[0.7616009753030466],[0.7674433758623967],[0.8535287005486549],[0.6126201291792976],[0.512214114185087],[0.7911167048010407],[0.47993393888992714],[0.5155089138627181],[0.733805159098419],[0.839592478025413],[0.8024878575368918],[0.5728631498606304],[0.7973962669922404],[0.6201368540234298],[0.8573006767804419],[0.8093990985521343],[0.5964896605015295],[0.7865691010238739],[0.7616009753030466],[0.7561966990449431],[0.8535287005486549],[0.6126201291792976],[0.512214114185087],[0.9237140210593584],[0.8556999074786371],[0.5411519300060331],[0.6055877429433008],[0.7951802826909677],[0.7976669410850513],[0.829736089296584],[0.6108444399509154],[0.6616248295316216]],\"domain\":{\"x\":[0.0,1.0],\"y\":[0.0,1.0]},\"hovertemplate\":\"labels=%{label}<br>count=%{value}<br>parent=%{parent}<br>id=%{id}<br>Quality=%{color}<extra></extra>\",\"ids\":[\"Man/sideways/downwards/asian\",\"Man/straight/downwards/asian\",\"Man/sideways/slightly_downwards/asian\",\"Man/straight/slightly_downwards/asian\",\"Man/sideways/slightly_upwards/asian\",\"Man/sideways/straight/asian\",\"Man/slightly_turned/upwards/asian\",\"Man/straight/upwards/asian\",\"Man/sideways/slightly_downwards/middle eastern\",\"Man/sideways/slightly_upwards/middle eastern\",\"Man/sideways/straight/middle eastern\",\"Man/straight/straight/middle eastern\",\"Man/sideways/downwards/white\",\"Woman/sideways/downwards/white\",\"Man/slightly_turned/downwards/white\",\"Man/straight/downwards/white\",\"Woman/straight/downwards/white\",\"Man/sideways/slightly_downwards/white\",\"Man/straight/slightly_downwards/white\",\"Man/sideways/slightly_upwards/white\",\"Man/straight/slightly_upwards/white\",\"Woman/straight/slightly_upwards/white\",\"Man/sideways/straight/white\",\"Woman/sideways/straight/white\",\"Man/slightly_turned/straight/white\",\"Man/straight/straight/white\",\"Woman/straight/straight/white\",\"Man/sideways/upwards/white\",\"Woman/sideways/upwards/white\",\"Man/straight/upwards/white\",\"Man/sideways/downwards\",\"Woman/sideways/downwards\",\"Man/slightly_turned/downwards\",\"Man/straight/downwards\",\"Woman/straight/downwards\",\"Man/sideways/slightly_downwards\",\"Man/straight/slightly_downwards\",\"Man/sideways/slightly_upwards\",\"Man/straight/slightly_upwards\",\"Woman/straight/slightly_upwards\",\"Man/sideways/straight\",\"Woman/sideways/straight\",\"Man/slightly_turned/straight\",\"Man/straight/straight\",\"Woman/straight/straight\",\"Man/sideways/upwards\",\"Woman/sideways/upwards\",\"Man/slightly_turned/upwards\",\"Man/straight/upwards\",\"Man/sideways\",\"Woman/sideways\",\"Man/slightly_turned\",\"Man/straight\",\"Woman/straight\",\"Man\",\"Woman\"],\"labels\":[\"asian\",\"asian\",\"asian\",\"asian\",\"asian\",\"asian\",\"asian\",\"asian\",\"middle eastern\",\"middle eastern\",\"middle eastern\",\"middle eastern\",\"white\",\"white\",\"white\",\"white\",\"white\",\"white\",\"white\",\"white\",\"white\",\"white\",\"white\",\"white\",\"white\",\"white\",\"white\",\"white\",\"white\",\"white\",\"downwards\",\"downwards\",\"downwards\",\"downwards\",\"downwards\",\"slightly_downwards\",\"slightly_downwards\",\"slightly_upwards\",\"slightly_upwards\",\"slightly_upwards\",\"straight\",\"straight\",\"straight\",\"straight\",\"straight\",\"upwards\",\"upwards\",\"upwards\",\"upwards\",\"sideways\",\"sideways\",\"slightly_turned\",\"straight\",\"straight\",\"Man\",\"Woman\"],\"marker\":{\"coloraxis\":\"coloraxis\",\"colors\":[0.3679764630661976,0.7442673594883648,0.3965098209328211,0.7382863973026769,0.7573582386683911,0.7800381352093095,0.9237140210593584,0.9202831101562335,0.44193867737948805,0.32261927895581766,0.3887617427557184,0.6887166381402212,0.502325434054673,0.5155089138627181,0.733805159098419,0.8713675175377625,0.8024878575368918,0.6261117266677051,0.8121737344146313,0.6379475418481688,0.8573006767804419,0.8093990985521343,0.6197702790307908,0.7865691010238739,0.7616009753030466,0.7674433758623967,0.8535287005486549,0.6126201291792976,0.512214114185087,0.7911167048010407,0.47993393888992714,0.5155089138627181,0.733805159098419,0.839592478025413,0.8024878575368918,0.5728631498606304,0.7973962669922404,0.6201368540234298,0.8573006767804419,0.8093990985521343,0.5964896605015295,0.7865691010238739,0.7616009753030466,0.7561966990449431,0.8535287005486549,0.6126201291792976,0.512214114185087,0.9237140210593584,0.8556999074786371,0.5411519300060331,0.6055877429433008,0.7951802826909677,0.7976669410850513,0.829736089296584,0.6108444399509154,0.6616248295316216]},\"name\":\"\",\"parents\":[\"Man/sideways/downwards\",\"Man/straight/downwards\",\"Man/sideways/slightly_downwards\",\"Man/straight/slightly_downwards\",\"Man/sideways/slightly_upwards\",\"Man/sideways/straight\",\"Man/slightly_turned/upwards\",\"Man/straight/upwards\",\"Man/sideways/slightly_downwards\",\"Man/sideways/slightly_upwards\",\"Man/sideways/straight\",\"Man/straight/straight\",\"Man/sideways/downwards\",\"Woman/sideways/downwards\",\"Man/slightly_turned/downwards\",\"Man/straight/downwards\",\"Woman/straight/downwards\",\"Man/sideways/slightly_downwards\",\"Man/straight/slightly_downwards\",\"Man/sideways/slightly_upwards\",\"Man/straight/slightly_upwards\",\"Woman/straight/slightly_upwards\",\"Man/sideways/straight\",\"Woman/sideways/straight\",\"Man/slightly_turned/straight\",\"Man/straight/straight\",\"Woman/straight/straight\",\"Man/sideways/upwards\",\"Woman/sideways/upwards\",\"Man/straight/upwards\",\"Man/sideways\",\"Woman/sideways\",\"Man/slightly_turned\",\"Man/straight\",\"Woman/straight\",\"Man/sideways\",\"Man/straight\",\"Man/sideways\",\"Man/straight\",\"Woman/straight\",\"Man/sideways\",\"Woman/sideways\",\"Man/slightly_turned\",\"Man/straight\",\"Woman/straight\",\"Man/sideways\",\"Woman/sideways\",\"Man/slightly_turned\",\"Man/straight\",\"Man\",\"Woman\",\"Man\",\"Man\",\"Woman\",\"\",\"\"],\"values\":[7,1,2,1,1,2,1,1,3,1,3,2,35,7,1,3,1,14,4,9,5,1,11,4,2,12,2,3,1,1,42,7,1,4,1,19,5,11,5,1,16,4,2,14,2,3,1,1,2,91,12,4,30,4,125,16],\"type\":\"sunburst\"}],                        {\"template\":{\"data\":{\"histogram2dcontour\":[{\"type\":\"histogram2dcontour\",\"colorbar\":{\"outlinewidth\":0,\"ticks\":\"\"},\"colorscale\":[[0.0,\"#0d0887\"],[0.1111111111111111,\"#46039f\"],[0.2222222222222222,\"#7201a8\"],[0.3333333333333333,\"#9c179e\"],[0.4444444444444444,\"#bd3786\"],[0.5555555555555556,\"#d8576b\"],[0.6666666666666666,\"#ed7953\"],[0.7777777777777778,\"#fb9f3a\"],[0.8888888888888888,\"#fdca26\"],[1.0,\"#f0f921\"]]}],\"choropleth\":[{\"type\":\"choropleth\",\"colorbar\":{\"outlinewidth\":0,\"ticks\":\"\"}}],\"histogram2d\":[{\"type\":\"histogram2d\",\"colorbar\":{\"outlinewidth\":0,\"ticks\":\"\"},\"colorscale\":[[0.0,\"#0d0887\"],[0.1111111111111111,\"#46039f\"],[0.2222222222222222,\"#7201a8\"],[0.3333333333333333,\"#9c179e\"],[0.4444444444444444,\"#bd3786\"],[0.5555555555555556,\"#d8576b\"],[0.6666666666666666,\"#ed7953\"],[0.7777777777777778,\"#fb9f3a\"],[0.8888888888888888,\"#fdca26\"],[1.0,\"#f0f921\"]]}],\"heatmap\":[{\"type\":\"heatmap\",\"colorbar\":{\"outlinewidth\":0,\"ticks\":\"\"},\"colorscale\":[[0.0,\"#0d0887\"],[0.1111111111111111,\"#46039f\"],[0.2222222222222222,\"#7201a8\"],[0.3333333333333333,\"#9c179e\"],[0.4444444444444444,\"#bd3786\"],[0.5555555555555556,\"#d8576b\"],[0.6666666666666666,\"#ed7953\"],[0.7777777777777778,\"#fb9f3a\"],[0.8888888888888888,\"#fdca26\"],[1.0,\"#f0f921\"]]}],\"heatmapgl\":[{\"type\":\"heatmapgl\",\"colorbar\":{\"outlinewidth\":0,\"ticks\":\"\"},\"colorscale\":[[0.0,\"#0d0887\"],[0.1111111111111111,\"#46039f\"],[0.2222222222222222,\"#7201a8\"],[0.3333333333333333,\"#9c179e\"],[0.4444444444444444,\"#bd3786\"],[0.5555555555555556,\"#d8576b\"],[0.6666666666666666,\"#ed7953\"],[0.7777777777777778,\"#fb9f3a\"],[0.8888888888888888,\"#fdca26\"],[1.0,\"#f0f921\"]]}],\"contourcarpet\":[{\"type\":\"contourcarpet\",\"colorbar\":{\"outlinewidth\":0,\"ticks\":\"\"}}],\"contour\":[{\"type\":\"contour\",\"colorbar\":{\"outlinewidth\":0,\"ticks\":\"\"},\"colorscale\":[[0.0,\"#0d0887\"],[0.1111111111111111,\"#46039f\"],[0.2222222222222222,\"#7201a8\"],[0.3333333333333333,\"#9c179e\"],[0.4444444444444444,\"#bd3786\"],[0.5555555555555556,\"#d8576b\"],[0.6666666666666666,\"#ed7953\"],[0.7777777777777778,\"#fb9f3a\"],[0.8888888888888888,\"#fdca26\"],[1.0,\"#f0f921\"]]}],\"surface\":[{\"type\":\"surface\",\"colorbar\":{\"outlinewidth\":0,\"ticks\":\"\"},\"colorscale\":[[0.0,\"#0d0887\"],[0.1111111111111111,\"#46039f\"],[0.2222222222222222,\"#7201a8\"],[0.3333333333333333,\"#9c179e\"],[0.4444444444444444,\"#bd3786\"],[0.5555555555555556,\"#d8576b\"],[0.6666666666666666,\"#ed7953\"],[0.7777777777777778,\"#fb9f3a\"],[0.8888888888888888,\"#fdca26\"],[1.0,\"#f0f921\"]]}],\"mesh3d\":[{\"type\":\"mesh3d\",\"colorbar\":{\"outlinewidth\":0,\"ticks\":\"\"}}],\"scatter\":[{\"fillpattern\":{\"fillmode\":\"overlay\",\"size\":10,\"solidity\":0.2},\"type\":\"scatter\"}],\"parcoords\":[{\"type\":\"parcoords\",\"line\":{\"colorbar\":{\"outlinewidth\":0,\"ticks\":\"\"}}}],\"scatterpolargl\":[{\"type\":\"scatterpolargl\",\"marker\":{\"colorbar\":{\"outlinewidth\":0,\"ticks\":\"\"}}}],\"bar\":[{\"error_x\":{\"color\":\"#2a3f5f\"},\"error_y\":{\"color\":\"#2a3f5f\"},\"marker\":{\"line\":{\"color\":\"#E5ECF6\",\"width\":0.5},\"pattern\":{\"fillmode\":\"overlay\",\"size\":10,\"solidity\":0.2}},\"type\":\"bar\"}],\"scattergeo\":[{\"type\":\"scattergeo\",\"marker\":{\"colorbar\":{\"outlinewidth\":0,\"ticks\":\"\"}}}],\"scatterpolar\":[{\"type\":\"scatterpolar\",\"marker\":{\"colorbar\":{\"outlinewidth\":0,\"ticks\":\"\"}}}],\"histogram\":[{\"marker\":{\"pattern\":{\"fillmode\":\"overlay\",\"size\":10,\"solidity\":0.2}},\"type\":\"histogram\"}],\"scattergl\":[{\"type\":\"scattergl\",\"marker\":{\"colorbar\":{\"outlinewidth\":0,\"ticks\":\"\"}}}],\"scatter3d\":[{\"type\":\"scatter3d\",\"line\":{\"colorbar\":{\"outlinewidth\":0,\"ticks\":\"\"}},\"marker\":{\"colorbar\":{\"outlinewidth\":0,\"ticks\":\"\"}}}],\"scattermapbox\":[{\"type\":\"scattermapbox\",\"marker\":{\"colorbar\":{\"outlinewidth\":0,\"ticks\":\"\"}}}],\"scatterternary\":[{\"type\":\"scatterternary\",\"marker\":{\"colorbar\":{\"outlinewidth\":0,\"ticks\":\"\"}}}],\"scattercarpet\":[{\"type\":\"scattercarpet\",\"marker\":{\"colorbar\":{\"outlinewidth\":0,\"ticks\":\"\"}}}],\"carpet\":[{\"aaxis\":{\"endlinecolor\":\"#2a3f5f\",\"gridcolor\":\"white\",\"linecolor\":\"white\",\"minorgridcolor\":\"white\",\"startlinecolor\":\"#2a3f5f\"},\"baxis\":{\"endlinecolor\":\"#2a3f5f\",\"gridcolor\":\"white\",\"linecolor\":\"white\",\"minorgridcolor\":\"white\",\"startlinecolor\":\"#2a3f5f\"},\"type\":\"carpet\"}],\"table\":[{\"cells\":{\"fill\":{\"color\":\"#EBF0F8\"},\"line\":{\"color\":\"white\"}},\"header\":{\"fill\":{\"color\":\"#C8D4E3\"},\"line\":{\"color\":\"white\"}},\"type\":\"table\"}],\"barpolar\":[{\"marker\":{\"line\":{\"color\":\"#E5ECF6\",\"width\":0.5},\"pattern\":{\"fillmode\":\"overlay\",\"size\":10,\"solidity\":0.2}},\"type\":\"barpolar\"}],\"pie\":[{\"automargin\":true,\"type\":\"pie\"}]},\"layout\":{\"autotypenumbers\":\"strict\",\"colorway\":[\"#636efa\",\"#EF553B\",\"#00cc96\",\"#ab63fa\",\"#FFA15A\",\"#19d3f3\",\"#FF6692\",\"#B6E880\",\"#FF97FF\",\"#FECB52\"],\"font\":{\"color\":\"#2a3f5f\"},\"hovermode\":\"closest\",\"hoverlabel\":{\"align\":\"left\"},\"paper_bgcolor\":\"white\",\"plot_bgcolor\":\"#E5ECF6\",\"polar\":{\"bgcolor\":\"#E5ECF6\",\"angularaxis\":{\"gridcolor\":\"white\",\"linecolor\":\"white\",\"ticks\":\"\"},\"radialaxis\":{\"gridcolor\":\"white\",\"linecolor\":\"white\",\"ticks\":\"\"}},\"ternary\":{\"bgcolor\":\"#E5ECF6\",\"aaxis\":{\"gridcolor\":\"white\",\"linecolor\":\"white\",\"ticks\":\"\"},\"baxis\":{\"gridcolor\":\"white\",\"linecolor\":\"white\",\"ticks\":\"\"},\"caxis\":{\"gridcolor\":\"white\",\"linecolor\":\"white\",\"ticks\":\"\"}},\"coloraxis\":{\"colorbar\":{\"outlinewidth\":0,\"ticks\":\"\"}},\"colorscale\":{\"sequential\":[[0.0,\"#0d0887\"],[0.1111111111111111,\"#46039f\"],[0.2222222222222222,\"#7201a8\"],[0.3333333333333333,\"#9c179e\"],[0.4444444444444444,\"#bd3786\"],[0.5555555555555556,\"#d8576b\"],[0.6666666666666666,\"#ed7953\"],[0.7777777777777778,\"#fb9f3a\"],[0.8888888888888888,\"#fdca26\"],[1.0,\"#f0f921\"]],\"sequentialminus\":[[0.0,\"#0d0887\"],[0.1111111111111111,\"#46039f\"],[0.2222222222222222,\"#7201a8\"],[0.3333333333333333,\"#9c179e\"],[0.4444444444444444,\"#bd3786\"],[0.5555555555555556,\"#d8576b\"],[0.6666666666666666,\"#ed7953\"],[0.7777777777777778,\"#fb9f3a\"],[0.8888888888888888,\"#fdca26\"],[1.0,\"#f0f921\"]],\"diverging\":[[0,\"#8e0152\"],[0.1,\"#c51b7d\"],[0.2,\"#de77ae\"],[0.3,\"#f1b6da\"],[0.4,\"#fde0ef\"],[0.5,\"#f7f7f7\"],[0.6,\"#e6f5d0\"],[0.7,\"#b8e186\"],[0.8,\"#7fbc41\"],[0.9,\"#4d9221\"],[1,\"#276419\"]]},\"xaxis\":{\"gridcolor\":\"white\",\"linecolor\":\"white\",\"ticks\":\"\",\"title\":{\"standoff\":15},\"zerolinecolor\":\"white\",\"automargin\":true,\"zerolinewidth\":2},\"yaxis\":{\"gridcolor\":\"white\",\"linecolor\":\"white\",\"ticks\":\"\",\"title\":{\"standoff\":15},\"zerolinecolor\":\"white\",\"automargin\":true,\"zerolinewidth\":2},\"scene\":{\"xaxis\":{\"backgroundcolor\":\"#E5ECF6\",\"gridcolor\":\"white\",\"linecolor\":\"white\",\"showbackground\":true,\"ticks\":\"\",\"zerolinecolor\":\"white\",\"gridwidth\":2},\"yaxis\":{\"backgroundcolor\":\"#E5ECF6\",\"gridcolor\":\"white\",\"linecolor\":\"white\",\"showbackground\":true,\"ticks\":\"\",\"zerolinecolor\":\"white\",\"gridwidth\":2},\"zaxis\":{\"backgroundcolor\":\"#E5ECF6\",\"gridcolor\":\"white\",\"linecolor\":\"white\",\"showbackground\":true,\"ticks\":\"\",\"zerolinecolor\":\"white\",\"gridwidth\":2}},\"shapedefaults\":{\"line\":{\"color\":\"#2a3f5f\"}},\"annotationdefaults\":{\"arrowcolor\":\"#2a3f5f\",\"arrowhead\":0,\"arrowwidth\":1},\"geo\":{\"bgcolor\":\"white\",\"landcolor\":\"#E5ECF6\",\"subunitcolor\":\"white\",\"showland\":true,\"showlakes\":true,\"lakecolor\":\"white\"},\"title\":{\"x\":0.05},\"mapbox\":{\"style\":\"light\"}}},\"coloraxis\":{\"colorbar\":{\"title\":{\"text\":\"Quality\"}},\"colorscale\":[[0.0,\"#440154\"],[0.1111111111111111,\"#482878\"],[0.2222222222222222,\"#3e4989\"],[0.3333333333333333,\"#31688e\"],[0.4444444444444444,\"#26828e\"],[0.5555555555555556,\"#1f9e89\"],[0.6666666666666666,\"#35b779\"],[0.7777777777777778,\"#6ece58\"],[0.8888888888888888,\"#b5de2b\"],[1.0,\"#fde725\"]],\"cmin\":0,\"cmax\":1},\"legend\":{\"tracegroupgap\":0},\"title\":{\"text\":\"ENFSI, Model QMagFace\"}},                        {\"responsive\": true}                    ).then(function(){\n",
       "                            \n",
       "var gd = document.getElementById('b43dc904-fe72-42ae-8c87-ff4066f55c81');\n",
       "var x = new MutationObserver(function (mutations, observer) {{\n",
       "        var display = window.getComputedStyle(gd).display;\n",
       "        if (!display || display === 'none') {{\n",
       "            console.log([gd, 'removed!']);\n",
       "            Plotly.purge(gd);\n",
       "            observer.disconnect();\n",
       "        }}\n",
       "}});\n",
       "\n",
       "// Listen for the removal of the full notebook cells\n",
       "var notebookContainer = gd.closest('#notebook-container');\n",
       "if (notebookContainer) {{\n",
       "    x.observe(notebookContainer, {childList: true});\n",
       "}}\n",
       "\n",
       "// Listen for the clearing of the current output cell\n",
       "var outputEl = gd.closest('.output');\n",
       "if (outputEl) {{\n",
       "    x.observe(outputEl, {childList: true});\n",
       "}}\n",
       "\n",
       "                        })                };                });            </script>        </div>"
      ]
     },
     "metadata": {},
     "output_type": "display_data"
    },
    {
     "data": {
      "application/vnd.plotly.v1+json": {
       "config": {
        "plotlyServerURL": "https://plot.ly"
       },
       "data": [
        {
         "branchvalues": "total",
         "customdata": [
          [
           0.49032594693403203
          ],
          [
           0.5058097513354831
          ],
          [
           0.22820521322983597
          ],
          [
           0.25664738839680523
          ],
          [
           0.6524560939589216
          ],
          [
           0.6688720030242458
          ],
          [
           0.5560578336714171
          ],
          [
           0.5705224996591886
          ],
          [
           0.49032594693403203
          ],
          [
           0.5058097513354831
          ],
          [
           0.22820521322983597
          ],
          [
           0.25664738839680523
          ],
          [
           0.6524560939589216
          ],
          [
           0.6688720030242458
          ],
          [
           0.5560578336714171
          ],
          [
           0.5705224996591886
          ],
          [
           0.22820521322983597
          ],
          [
           0.25664738839680523
          ],
          [
           0.6524560939589216
          ],
          [
           0.6688720030242458
          ],
          [
           0.5500425814368288
          ],
          [
           0.5649529598444434
          ],
          [
           0.5322295006790556
          ],
          [
           0.5497853905684
          ]
         ],
         "domain": {
          "x": [
           0,
           1
          ],
          "y": [
           0,
           1
          ]
         },
         "hovertemplate": "labels=%{label}<br>count=%{value}<br>parent=%{parent}<br>id=%{id}<br>Quality=%{color}<extra></extra>",
         "ids": [
          "Man/straight/slightly_downwards/white",
          "Woman/straight/slightly_downwards/white",
          "Man/sideways/straight/white",
          "Woman/sideways/straight/white",
          "Man/slightly_turned/straight/white",
          "Woman/slightly_turned/straight/white",
          "Man/straight/straight/white",
          "Woman/straight/straight/white",
          "Man/straight/slightly_downwards",
          "Woman/straight/slightly_downwards",
          "Man/sideways/straight",
          "Woman/sideways/straight",
          "Man/slightly_turned/straight",
          "Woman/slightly_turned/straight",
          "Man/straight/straight",
          "Woman/straight/straight",
          "Man/sideways",
          "Woman/sideways",
          "Man/slightly_turned",
          "Woman/slightly_turned",
          "Man/straight",
          "Woman/straight",
          "Man",
          "Woman"
         ],
         "labels": [
          "white",
          "white",
          "white",
          "white",
          "white",
          "white",
          "white",
          "white",
          "slightly_downwards",
          "slightly_downwards",
          "straight",
          "straight",
          "straight",
          "straight",
          "straight",
          "straight",
          "sideways",
          "sideways",
          "slightly_turned",
          "slightly_turned",
          "straight",
          "straight",
          "Man",
          "Woman"
         ],
         "marker": {
          "coloraxis": "coloraxis",
          "colors": [
           0.49032594693403203,
           0.5058097513354831,
           0.22820521322983597,
           0.25664738839680523,
           0.6524560939589216,
           0.6688720030242458,
           0.5560578336714171,
           0.5705224996591886,
           0.49032594693403203,
           0.5058097513354831,
           0.22820521322983597,
           0.25664738839680523,
           0.6524560939589216,
           0.6688720030242458,
           0.5560578336714171,
           0.5705224996591886,
           0.22820521322983597,
           0.25664738839680523,
           0.6524560939589216,
           0.6688720030242458,
           0.5500425814368288,
           0.5649529598444434,
           0.5322295006790556,
           0.5497853905684
          ]
         },
         "name": "",
         "parents": [
          "Man/straight/slightly_downwards",
          "Woman/straight/slightly_downwards",
          "Man/sideways/straight",
          "Woman/sideways/straight",
          "Man/slightly_turned/straight",
          "Woman/slightly_turned/straight",
          "Man/straight/straight",
          "Woman/straight/straight",
          "Man/straight",
          "Woman/straight",
          "Man/sideways",
          "Woman/sideways",
          "Man/slightly_turned",
          "Woman/slightly_turned",
          "Man/straight",
          "Woman/straight",
          "Man",
          "Woman",
          "Man",
          "Woman",
          "Man",
          "Woman",
          "",
          ""
         ],
         "type": "sunburst",
         "values": [
          138,
          21,
          154,
          24,
          166,
          28,
          1370,
          223,
          138,
          21,
          154,
          24,
          166,
          28,
          1370,
          223,
          154,
          24,
          166,
          28,
          1508,
          244,
          1828,
          296
         ]
        }
       ],
       "layout": {
        "coloraxis": {
         "cmax": 1,
         "cmin": 0,
         "colorbar": {
          "title": {
           "text": "Quality"
          }
         },
         "colorscale": [
          [
           0,
           "#440154"
          ],
          [
           0.1111111111111111,
           "#482878"
          ],
          [
           0.2222222222222222,
           "#3e4989"
          ],
          [
           0.3333333333333333,
           "#31688e"
          ],
          [
           0.4444444444444444,
           "#26828e"
          ],
          [
           0.5555555555555556,
           "#1f9e89"
          ],
          [
           0.6666666666666666,
           "#35b779"
          ],
          [
           0.7777777777777778,
           "#6ece58"
          ],
          [
           0.8888888888888888,
           "#b5de2b"
          ],
          [
           1,
           "#fde725"
          ]
         ]
        },
        "legend": {
         "tracegroupgap": 0
        },
        "template": {
         "data": {
          "bar": [
           {
            "error_x": {
             "color": "#2a3f5f"
            },
            "error_y": {
             "color": "#2a3f5f"
            },
            "marker": {
             "line": {
              "color": "#E5ECF6",
              "width": 0.5
             },
             "pattern": {
              "fillmode": "overlay",
              "size": 10,
              "solidity": 0.2
             }
            },
            "type": "bar"
           }
          ],
          "barpolar": [
           {
            "marker": {
             "line": {
              "color": "#E5ECF6",
              "width": 0.5
             },
             "pattern": {
              "fillmode": "overlay",
              "size": 10,
              "solidity": 0.2
             }
            },
            "type": "barpolar"
           }
          ],
          "carpet": [
           {
            "aaxis": {
             "endlinecolor": "#2a3f5f",
             "gridcolor": "white",
             "linecolor": "white",
             "minorgridcolor": "white",
             "startlinecolor": "#2a3f5f"
            },
            "baxis": {
             "endlinecolor": "#2a3f5f",
             "gridcolor": "white",
             "linecolor": "white",
             "minorgridcolor": "white",
             "startlinecolor": "#2a3f5f"
            },
            "type": "carpet"
           }
          ],
          "choropleth": [
           {
            "colorbar": {
             "outlinewidth": 0,
             "ticks": ""
            },
            "type": "choropleth"
           }
          ],
          "contour": [
           {
            "colorbar": {
             "outlinewidth": 0,
             "ticks": ""
            },
            "colorscale": [
             [
              0,
              "#0d0887"
             ],
             [
              0.1111111111111111,
              "#46039f"
             ],
             [
              0.2222222222222222,
              "#7201a8"
             ],
             [
              0.3333333333333333,
              "#9c179e"
             ],
             [
              0.4444444444444444,
              "#bd3786"
             ],
             [
              0.5555555555555556,
              "#d8576b"
             ],
             [
              0.6666666666666666,
              "#ed7953"
             ],
             [
              0.7777777777777778,
              "#fb9f3a"
             ],
             [
              0.8888888888888888,
              "#fdca26"
             ],
             [
              1,
              "#f0f921"
             ]
            ],
            "type": "contour"
           }
          ],
          "contourcarpet": [
           {
            "colorbar": {
             "outlinewidth": 0,
             "ticks": ""
            },
            "type": "contourcarpet"
           }
          ],
          "heatmap": [
           {
            "colorbar": {
             "outlinewidth": 0,
             "ticks": ""
            },
            "colorscale": [
             [
              0,
              "#0d0887"
             ],
             [
              0.1111111111111111,
              "#46039f"
             ],
             [
              0.2222222222222222,
              "#7201a8"
             ],
             [
              0.3333333333333333,
              "#9c179e"
             ],
             [
              0.4444444444444444,
              "#bd3786"
             ],
             [
              0.5555555555555556,
              "#d8576b"
             ],
             [
              0.6666666666666666,
              "#ed7953"
             ],
             [
              0.7777777777777778,
              "#fb9f3a"
             ],
             [
              0.8888888888888888,
              "#fdca26"
             ],
             [
              1,
              "#f0f921"
             ]
            ],
            "type": "heatmap"
           }
          ],
          "heatmapgl": [
           {
            "colorbar": {
             "outlinewidth": 0,
             "ticks": ""
            },
            "colorscale": [
             [
              0,
              "#0d0887"
             ],
             [
              0.1111111111111111,
              "#46039f"
             ],
             [
              0.2222222222222222,
              "#7201a8"
             ],
             [
              0.3333333333333333,
              "#9c179e"
             ],
             [
              0.4444444444444444,
              "#bd3786"
             ],
             [
              0.5555555555555556,
              "#d8576b"
             ],
             [
              0.6666666666666666,
              "#ed7953"
             ],
             [
              0.7777777777777778,
              "#fb9f3a"
             ],
             [
              0.8888888888888888,
              "#fdca26"
             ],
             [
              1,
              "#f0f921"
             ]
            ],
            "type": "heatmapgl"
           }
          ],
          "histogram": [
           {
            "marker": {
             "pattern": {
              "fillmode": "overlay",
              "size": 10,
              "solidity": 0.2
             }
            },
            "type": "histogram"
           }
          ],
          "histogram2d": [
           {
            "colorbar": {
             "outlinewidth": 0,
             "ticks": ""
            },
            "colorscale": [
             [
              0,
              "#0d0887"
             ],
             [
              0.1111111111111111,
              "#46039f"
             ],
             [
              0.2222222222222222,
              "#7201a8"
             ],
             [
              0.3333333333333333,
              "#9c179e"
             ],
             [
              0.4444444444444444,
              "#bd3786"
             ],
             [
              0.5555555555555556,
              "#d8576b"
             ],
             [
              0.6666666666666666,
              "#ed7953"
             ],
             [
              0.7777777777777778,
              "#fb9f3a"
             ],
             [
              0.8888888888888888,
              "#fdca26"
             ],
             [
              1,
              "#f0f921"
             ]
            ],
            "type": "histogram2d"
           }
          ],
          "histogram2dcontour": [
           {
            "colorbar": {
             "outlinewidth": 0,
             "ticks": ""
            },
            "colorscale": [
             [
              0,
              "#0d0887"
             ],
             [
              0.1111111111111111,
              "#46039f"
             ],
             [
              0.2222222222222222,
              "#7201a8"
             ],
             [
              0.3333333333333333,
              "#9c179e"
             ],
             [
              0.4444444444444444,
              "#bd3786"
             ],
             [
              0.5555555555555556,
              "#d8576b"
             ],
             [
              0.6666666666666666,
              "#ed7953"
             ],
             [
              0.7777777777777778,
              "#fb9f3a"
             ],
             [
              0.8888888888888888,
              "#fdca26"
             ],
             [
              1,
              "#f0f921"
             ]
            ],
            "type": "histogram2dcontour"
           }
          ],
          "mesh3d": [
           {
            "colorbar": {
             "outlinewidth": 0,
             "ticks": ""
            },
            "type": "mesh3d"
           }
          ],
          "parcoords": [
           {
            "line": {
             "colorbar": {
              "outlinewidth": 0,
              "ticks": ""
             }
            },
            "type": "parcoords"
           }
          ],
          "pie": [
           {
            "automargin": true,
            "type": "pie"
           }
          ],
          "scatter": [
           {
            "fillpattern": {
             "fillmode": "overlay",
             "size": 10,
             "solidity": 0.2
            },
            "type": "scatter"
           }
          ],
          "scatter3d": [
           {
            "line": {
             "colorbar": {
              "outlinewidth": 0,
              "ticks": ""
             }
            },
            "marker": {
             "colorbar": {
              "outlinewidth": 0,
              "ticks": ""
             }
            },
            "type": "scatter3d"
           }
          ],
          "scattercarpet": [
           {
            "marker": {
             "colorbar": {
              "outlinewidth": 0,
              "ticks": ""
             }
            },
            "type": "scattercarpet"
           }
          ],
          "scattergeo": [
           {
            "marker": {
             "colorbar": {
              "outlinewidth": 0,
              "ticks": ""
             }
            },
            "type": "scattergeo"
           }
          ],
          "scattergl": [
           {
            "marker": {
             "colorbar": {
              "outlinewidth": 0,
              "ticks": ""
             }
            },
            "type": "scattergl"
           }
          ],
          "scattermapbox": [
           {
            "marker": {
             "colorbar": {
              "outlinewidth": 0,
              "ticks": ""
             }
            },
            "type": "scattermapbox"
           }
          ],
          "scatterpolar": [
           {
            "marker": {
             "colorbar": {
              "outlinewidth": 0,
              "ticks": ""
             }
            },
            "type": "scatterpolar"
           }
          ],
          "scatterpolargl": [
           {
            "marker": {
             "colorbar": {
              "outlinewidth": 0,
              "ticks": ""
             }
            },
            "type": "scatterpolargl"
           }
          ],
          "scatterternary": [
           {
            "marker": {
             "colorbar": {
              "outlinewidth": 0,
              "ticks": ""
             }
            },
            "type": "scatterternary"
           }
          ],
          "surface": [
           {
            "colorbar": {
             "outlinewidth": 0,
             "ticks": ""
            },
            "colorscale": [
             [
              0,
              "#0d0887"
             ],
             [
              0.1111111111111111,
              "#46039f"
             ],
             [
              0.2222222222222222,
              "#7201a8"
             ],
             [
              0.3333333333333333,
              "#9c179e"
             ],
             [
              0.4444444444444444,
              "#bd3786"
             ],
             [
              0.5555555555555556,
              "#d8576b"
             ],
             [
              0.6666666666666666,
              "#ed7953"
             ],
             [
              0.7777777777777778,
              "#fb9f3a"
             ],
             [
              0.8888888888888888,
              "#fdca26"
             ],
             [
              1,
              "#f0f921"
             ]
            ],
            "type": "surface"
           }
          ],
          "table": [
           {
            "cells": {
             "fill": {
              "color": "#EBF0F8"
             },
             "line": {
              "color": "white"
             }
            },
            "header": {
             "fill": {
              "color": "#C8D4E3"
             },
             "line": {
              "color": "white"
             }
            },
            "type": "table"
           }
          ]
         },
         "layout": {
          "annotationdefaults": {
           "arrowcolor": "#2a3f5f",
           "arrowhead": 0,
           "arrowwidth": 1
          },
          "autotypenumbers": "strict",
          "coloraxis": {
           "colorbar": {
            "outlinewidth": 0,
            "ticks": ""
           }
          },
          "colorscale": {
           "diverging": [
            [
             0,
             "#8e0152"
            ],
            [
             0.1,
             "#c51b7d"
            ],
            [
             0.2,
             "#de77ae"
            ],
            [
             0.3,
             "#f1b6da"
            ],
            [
             0.4,
             "#fde0ef"
            ],
            [
             0.5,
             "#f7f7f7"
            ],
            [
             0.6,
             "#e6f5d0"
            ],
            [
             0.7,
             "#b8e186"
            ],
            [
             0.8,
             "#7fbc41"
            ],
            [
             0.9,
             "#4d9221"
            ],
            [
             1,
             "#276419"
            ]
           ],
           "sequential": [
            [
             0,
             "#0d0887"
            ],
            [
             0.1111111111111111,
             "#46039f"
            ],
            [
             0.2222222222222222,
             "#7201a8"
            ],
            [
             0.3333333333333333,
             "#9c179e"
            ],
            [
             0.4444444444444444,
             "#bd3786"
            ],
            [
             0.5555555555555556,
             "#d8576b"
            ],
            [
             0.6666666666666666,
             "#ed7953"
            ],
            [
             0.7777777777777778,
             "#fb9f3a"
            ],
            [
             0.8888888888888888,
             "#fdca26"
            ],
            [
             1,
             "#f0f921"
            ]
           ],
           "sequentialminus": [
            [
             0,
             "#0d0887"
            ],
            [
             0.1111111111111111,
             "#46039f"
            ],
            [
             0.2222222222222222,
             "#7201a8"
            ],
            [
             0.3333333333333333,
             "#9c179e"
            ],
            [
             0.4444444444444444,
             "#bd3786"
            ],
            [
             0.5555555555555556,
             "#d8576b"
            ],
            [
             0.6666666666666666,
             "#ed7953"
            ],
            [
             0.7777777777777778,
             "#fb9f3a"
            ],
            [
             0.8888888888888888,
             "#fdca26"
            ],
            [
             1,
             "#f0f921"
            ]
           ]
          },
          "colorway": [
           "#636efa",
           "#EF553B",
           "#00cc96",
           "#ab63fa",
           "#FFA15A",
           "#19d3f3",
           "#FF6692",
           "#B6E880",
           "#FF97FF",
           "#FECB52"
          ],
          "font": {
           "color": "#2a3f5f"
          },
          "geo": {
           "bgcolor": "white",
           "lakecolor": "white",
           "landcolor": "#E5ECF6",
           "showlakes": true,
           "showland": true,
           "subunitcolor": "white"
          },
          "hoverlabel": {
           "align": "left"
          },
          "hovermode": "closest",
          "mapbox": {
           "style": "light"
          },
          "paper_bgcolor": "white",
          "plot_bgcolor": "#E5ECF6",
          "polar": {
           "angularaxis": {
            "gridcolor": "white",
            "linecolor": "white",
            "ticks": ""
           },
           "bgcolor": "#E5ECF6",
           "radialaxis": {
            "gridcolor": "white",
            "linecolor": "white",
            "ticks": ""
           }
          },
          "scene": {
           "xaxis": {
            "backgroundcolor": "#E5ECF6",
            "gridcolor": "white",
            "gridwidth": 2,
            "linecolor": "white",
            "showbackground": true,
            "ticks": "",
            "zerolinecolor": "white"
           },
           "yaxis": {
            "backgroundcolor": "#E5ECF6",
            "gridcolor": "white",
            "gridwidth": 2,
            "linecolor": "white",
            "showbackground": true,
            "ticks": "",
            "zerolinecolor": "white"
           },
           "zaxis": {
            "backgroundcolor": "#E5ECF6",
            "gridcolor": "white",
            "gridwidth": 2,
            "linecolor": "white",
            "showbackground": true,
            "ticks": "",
            "zerolinecolor": "white"
           }
          },
          "shapedefaults": {
           "line": {
            "color": "#2a3f5f"
           }
          },
          "ternary": {
           "aaxis": {
            "gridcolor": "white",
            "linecolor": "white",
            "ticks": ""
           },
           "baxis": {
            "gridcolor": "white",
            "linecolor": "white",
            "ticks": ""
           },
           "bgcolor": "#E5ECF6",
           "caxis": {
            "gridcolor": "white",
            "linecolor": "white",
            "ticks": ""
           }
          },
          "title": {
           "x": 0.05
          },
          "xaxis": {
           "automargin": true,
           "gridcolor": "white",
           "linecolor": "white",
           "ticks": "",
           "title": {
            "standoff": 15
           },
           "zerolinecolor": "white",
           "zerolinewidth": 2
          },
          "yaxis": {
           "automargin": true,
           "gridcolor": "white",
           "linecolor": "white",
           "ticks": "",
           "title": {
            "standoff": 15
           },
           "zerolinecolor": "white",
           "zerolinewidth": 2
          }
         }
        },
        "title": {
         "text": "ForenFace, Model QMagFace"
        }
       }
      },
      "text/html": [
       "<div>                            <div id=\"e1778835-9dcd-4bb1-ae79-cd096690553d\" class=\"plotly-graph-div\" style=\"height:525px; width:100%;\"></div>            <script type=\"text/javascript\">                require([\"plotly\"], function(Plotly) {                    window.PLOTLYENV=window.PLOTLYENV || {};                                    if (document.getElementById(\"e1778835-9dcd-4bb1-ae79-cd096690553d\")) {                    Plotly.newPlot(                        \"e1778835-9dcd-4bb1-ae79-cd096690553d\",                        [{\"branchvalues\":\"total\",\"customdata\":[[0.49032594693403203],[0.5058097513354831],[0.22820521322983597],[0.25664738839680523],[0.6524560939589216],[0.6688720030242458],[0.5560578336714171],[0.5705224996591886],[0.49032594693403203],[0.5058097513354831],[0.22820521322983597],[0.25664738839680523],[0.6524560939589216],[0.6688720030242458],[0.5560578336714171],[0.5705224996591886],[0.22820521322983597],[0.25664738839680523],[0.6524560939589216],[0.6688720030242458],[0.5500425814368288],[0.5649529598444434],[0.5322295006790556],[0.5497853905684]],\"domain\":{\"x\":[0.0,1.0],\"y\":[0.0,1.0]},\"hovertemplate\":\"labels=%{label}<br>count=%{value}<br>parent=%{parent}<br>id=%{id}<br>Quality=%{color}<extra></extra>\",\"ids\":[\"Man/straight/slightly_downwards/white\",\"Woman/straight/slightly_downwards/white\",\"Man/sideways/straight/white\",\"Woman/sideways/straight/white\",\"Man/slightly_turned/straight/white\",\"Woman/slightly_turned/straight/white\",\"Man/straight/straight/white\",\"Woman/straight/straight/white\",\"Man/straight/slightly_downwards\",\"Woman/straight/slightly_downwards\",\"Man/sideways/straight\",\"Woman/sideways/straight\",\"Man/slightly_turned/straight\",\"Woman/slightly_turned/straight\",\"Man/straight/straight\",\"Woman/straight/straight\",\"Man/sideways\",\"Woman/sideways\",\"Man/slightly_turned\",\"Woman/slightly_turned\",\"Man/straight\",\"Woman/straight\",\"Man\",\"Woman\"],\"labels\":[\"white\",\"white\",\"white\",\"white\",\"white\",\"white\",\"white\",\"white\",\"slightly_downwards\",\"slightly_downwards\",\"straight\",\"straight\",\"straight\",\"straight\",\"straight\",\"straight\",\"sideways\",\"sideways\",\"slightly_turned\",\"slightly_turned\",\"straight\",\"straight\",\"Man\",\"Woman\"],\"marker\":{\"coloraxis\":\"coloraxis\",\"colors\":[0.49032594693403203,0.5058097513354831,0.22820521322983597,0.25664738839680523,0.6524560939589216,0.6688720030242458,0.5560578336714171,0.5705224996591886,0.49032594693403203,0.5058097513354831,0.22820521322983597,0.25664738839680523,0.6524560939589216,0.6688720030242458,0.5560578336714171,0.5705224996591886,0.22820521322983597,0.25664738839680523,0.6524560939589216,0.6688720030242458,0.5500425814368288,0.5649529598444434,0.5322295006790556,0.5497853905684]},\"name\":\"\",\"parents\":[\"Man/straight/slightly_downwards\",\"Woman/straight/slightly_downwards\",\"Man/sideways/straight\",\"Woman/sideways/straight\",\"Man/slightly_turned/straight\",\"Woman/slightly_turned/straight\",\"Man/straight/straight\",\"Woman/straight/straight\",\"Man/straight\",\"Woman/straight\",\"Man/sideways\",\"Woman/sideways\",\"Man/slightly_turned\",\"Woman/slightly_turned\",\"Man/straight\",\"Woman/straight\",\"Man\",\"Woman\",\"Man\",\"Woman\",\"Man\",\"Woman\",\"\",\"\"],\"values\":[138,21,154,24,166,28,1370,223,138,21,154,24,166,28,1370,223,154,24,166,28,1508,244,1828,296],\"type\":\"sunburst\"}],                        {\"template\":{\"data\":{\"histogram2dcontour\":[{\"type\":\"histogram2dcontour\",\"colorbar\":{\"outlinewidth\":0,\"ticks\":\"\"},\"colorscale\":[[0.0,\"#0d0887\"],[0.1111111111111111,\"#46039f\"],[0.2222222222222222,\"#7201a8\"],[0.3333333333333333,\"#9c179e\"],[0.4444444444444444,\"#bd3786\"],[0.5555555555555556,\"#d8576b\"],[0.6666666666666666,\"#ed7953\"],[0.7777777777777778,\"#fb9f3a\"],[0.8888888888888888,\"#fdca26\"],[1.0,\"#f0f921\"]]}],\"choropleth\":[{\"type\":\"choropleth\",\"colorbar\":{\"outlinewidth\":0,\"ticks\":\"\"}}],\"histogram2d\":[{\"type\":\"histogram2d\",\"colorbar\":{\"outlinewidth\":0,\"ticks\":\"\"},\"colorscale\":[[0.0,\"#0d0887\"],[0.1111111111111111,\"#46039f\"],[0.2222222222222222,\"#7201a8\"],[0.3333333333333333,\"#9c179e\"],[0.4444444444444444,\"#bd3786\"],[0.5555555555555556,\"#d8576b\"],[0.6666666666666666,\"#ed7953\"],[0.7777777777777778,\"#fb9f3a\"],[0.8888888888888888,\"#fdca26\"],[1.0,\"#f0f921\"]]}],\"heatmap\":[{\"type\":\"heatmap\",\"colorbar\":{\"outlinewidth\":0,\"ticks\":\"\"},\"colorscale\":[[0.0,\"#0d0887\"],[0.1111111111111111,\"#46039f\"],[0.2222222222222222,\"#7201a8\"],[0.3333333333333333,\"#9c179e\"],[0.4444444444444444,\"#bd3786\"],[0.5555555555555556,\"#d8576b\"],[0.6666666666666666,\"#ed7953\"],[0.7777777777777778,\"#fb9f3a\"],[0.8888888888888888,\"#fdca26\"],[1.0,\"#f0f921\"]]}],\"heatmapgl\":[{\"type\":\"heatmapgl\",\"colorbar\":{\"outlinewidth\":0,\"ticks\":\"\"},\"colorscale\":[[0.0,\"#0d0887\"],[0.1111111111111111,\"#46039f\"],[0.2222222222222222,\"#7201a8\"],[0.3333333333333333,\"#9c179e\"],[0.4444444444444444,\"#bd3786\"],[0.5555555555555556,\"#d8576b\"],[0.6666666666666666,\"#ed7953\"],[0.7777777777777778,\"#fb9f3a\"],[0.8888888888888888,\"#fdca26\"],[1.0,\"#f0f921\"]]}],\"contourcarpet\":[{\"type\":\"contourcarpet\",\"colorbar\":{\"outlinewidth\":0,\"ticks\":\"\"}}],\"contour\":[{\"type\":\"contour\",\"colorbar\":{\"outlinewidth\":0,\"ticks\":\"\"},\"colorscale\":[[0.0,\"#0d0887\"],[0.1111111111111111,\"#46039f\"],[0.2222222222222222,\"#7201a8\"],[0.3333333333333333,\"#9c179e\"],[0.4444444444444444,\"#bd3786\"],[0.5555555555555556,\"#d8576b\"],[0.6666666666666666,\"#ed7953\"],[0.7777777777777778,\"#fb9f3a\"],[0.8888888888888888,\"#fdca26\"],[1.0,\"#f0f921\"]]}],\"surface\":[{\"type\":\"surface\",\"colorbar\":{\"outlinewidth\":0,\"ticks\":\"\"},\"colorscale\":[[0.0,\"#0d0887\"],[0.1111111111111111,\"#46039f\"],[0.2222222222222222,\"#7201a8\"],[0.3333333333333333,\"#9c179e\"],[0.4444444444444444,\"#bd3786\"],[0.5555555555555556,\"#d8576b\"],[0.6666666666666666,\"#ed7953\"],[0.7777777777777778,\"#fb9f3a\"],[0.8888888888888888,\"#fdca26\"],[1.0,\"#f0f921\"]]}],\"mesh3d\":[{\"type\":\"mesh3d\",\"colorbar\":{\"outlinewidth\":0,\"ticks\":\"\"}}],\"scatter\":[{\"fillpattern\":{\"fillmode\":\"overlay\",\"size\":10,\"solidity\":0.2},\"type\":\"scatter\"}],\"parcoords\":[{\"type\":\"parcoords\",\"line\":{\"colorbar\":{\"outlinewidth\":0,\"ticks\":\"\"}}}],\"scatterpolargl\":[{\"type\":\"scatterpolargl\",\"marker\":{\"colorbar\":{\"outlinewidth\":0,\"ticks\":\"\"}}}],\"bar\":[{\"error_x\":{\"color\":\"#2a3f5f\"},\"error_y\":{\"color\":\"#2a3f5f\"},\"marker\":{\"line\":{\"color\":\"#E5ECF6\",\"width\":0.5},\"pattern\":{\"fillmode\":\"overlay\",\"size\":10,\"solidity\":0.2}},\"type\":\"bar\"}],\"scattergeo\":[{\"type\":\"scattergeo\",\"marker\":{\"colorbar\":{\"outlinewidth\":0,\"ticks\":\"\"}}}],\"scatterpolar\":[{\"type\":\"scatterpolar\",\"marker\":{\"colorbar\":{\"outlinewidth\":0,\"ticks\":\"\"}}}],\"histogram\":[{\"marker\":{\"pattern\":{\"fillmode\":\"overlay\",\"size\":10,\"solidity\":0.2}},\"type\":\"histogram\"}],\"scattergl\":[{\"type\":\"scattergl\",\"marker\":{\"colorbar\":{\"outlinewidth\":0,\"ticks\":\"\"}}}],\"scatter3d\":[{\"type\":\"scatter3d\",\"line\":{\"colorbar\":{\"outlinewidth\":0,\"ticks\":\"\"}},\"marker\":{\"colorbar\":{\"outlinewidth\":0,\"ticks\":\"\"}}}],\"scattermapbox\":[{\"type\":\"scattermapbox\",\"marker\":{\"colorbar\":{\"outlinewidth\":0,\"ticks\":\"\"}}}],\"scatterternary\":[{\"type\":\"scatterternary\",\"marker\":{\"colorbar\":{\"outlinewidth\":0,\"ticks\":\"\"}}}],\"scattercarpet\":[{\"type\":\"scattercarpet\",\"marker\":{\"colorbar\":{\"outlinewidth\":0,\"ticks\":\"\"}}}],\"carpet\":[{\"aaxis\":{\"endlinecolor\":\"#2a3f5f\",\"gridcolor\":\"white\",\"linecolor\":\"white\",\"minorgridcolor\":\"white\",\"startlinecolor\":\"#2a3f5f\"},\"baxis\":{\"endlinecolor\":\"#2a3f5f\",\"gridcolor\":\"white\",\"linecolor\":\"white\",\"minorgridcolor\":\"white\",\"startlinecolor\":\"#2a3f5f\"},\"type\":\"carpet\"}],\"table\":[{\"cells\":{\"fill\":{\"color\":\"#EBF0F8\"},\"line\":{\"color\":\"white\"}},\"header\":{\"fill\":{\"color\":\"#C8D4E3\"},\"line\":{\"color\":\"white\"}},\"type\":\"table\"}],\"barpolar\":[{\"marker\":{\"line\":{\"color\":\"#E5ECF6\",\"width\":0.5},\"pattern\":{\"fillmode\":\"overlay\",\"size\":10,\"solidity\":0.2}},\"type\":\"barpolar\"}],\"pie\":[{\"automargin\":true,\"type\":\"pie\"}]},\"layout\":{\"autotypenumbers\":\"strict\",\"colorway\":[\"#636efa\",\"#EF553B\",\"#00cc96\",\"#ab63fa\",\"#FFA15A\",\"#19d3f3\",\"#FF6692\",\"#B6E880\",\"#FF97FF\",\"#FECB52\"],\"font\":{\"color\":\"#2a3f5f\"},\"hovermode\":\"closest\",\"hoverlabel\":{\"align\":\"left\"},\"paper_bgcolor\":\"white\",\"plot_bgcolor\":\"#E5ECF6\",\"polar\":{\"bgcolor\":\"#E5ECF6\",\"angularaxis\":{\"gridcolor\":\"white\",\"linecolor\":\"white\",\"ticks\":\"\"},\"radialaxis\":{\"gridcolor\":\"white\",\"linecolor\":\"white\",\"ticks\":\"\"}},\"ternary\":{\"bgcolor\":\"#E5ECF6\",\"aaxis\":{\"gridcolor\":\"white\",\"linecolor\":\"white\",\"ticks\":\"\"},\"baxis\":{\"gridcolor\":\"white\",\"linecolor\":\"white\",\"ticks\":\"\"},\"caxis\":{\"gridcolor\":\"white\",\"linecolor\":\"white\",\"ticks\":\"\"}},\"coloraxis\":{\"colorbar\":{\"outlinewidth\":0,\"ticks\":\"\"}},\"colorscale\":{\"sequential\":[[0.0,\"#0d0887\"],[0.1111111111111111,\"#46039f\"],[0.2222222222222222,\"#7201a8\"],[0.3333333333333333,\"#9c179e\"],[0.4444444444444444,\"#bd3786\"],[0.5555555555555556,\"#d8576b\"],[0.6666666666666666,\"#ed7953\"],[0.7777777777777778,\"#fb9f3a\"],[0.8888888888888888,\"#fdca26\"],[1.0,\"#f0f921\"]],\"sequentialminus\":[[0.0,\"#0d0887\"],[0.1111111111111111,\"#46039f\"],[0.2222222222222222,\"#7201a8\"],[0.3333333333333333,\"#9c179e\"],[0.4444444444444444,\"#bd3786\"],[0.5555555555555556,\"#d8576b\"],[0.6666666666666666,\"#ed7953\"],[0.7777777777777778,\"#fb9f3a\"],[0.8888888888888888,\"#fdca26\"],[1.0,\"#f0f921\"]],\"diverging\":[[0,\"#8e0152\"],[0.1,\"#c51b7d\"],[0.2,\"#de77ae\"],[0.3,\"#f1b6da\"],[0.4,\"#fde0ef\"],[0.5,\"#f7f7f7\"],[0.6,\"#e6f5d0\"],[0.7,\"#b8e186\"],[0.8,\"#7fbc41\"],[0.9,\"#4d9221\"],[1,\"#276419\"]]},\"xaxis\":{\"gridcolor\":\"white\",\"linecolor\":\"white\",\"ticks\":\"\",\"title\":{\"standoff\":15},\"zerolinecolor\":\"white\",\"automargin\":true,\"zerolinewidth\":2},\"yaxis\":{\"gridcolor\":\"white\",\"linecolor\":\"white\",\"ticks\":\"\",\"title\":{\"standoff\":15},\"zerolinecolor\":\"white\",\"automargin\":true,\"zerolinewidth\":2},\"scene\":{\"xaxis\":{\"backgroundcolor\":\"#E5ECF6\",\"gridcolor\":\"white\",\"linecolor\":\"white\",\"showbackground\":true,\"ticks\":\"\",\"zerolinecolor\":\"white\",\"gridwidth\":2},\"yaxis\":{\"backgroundcolor\":\"#E5ECF6\",\"gridcolor\":\"white\",\"linecolor\":\"white\",\"showbackground\":true,\"ticks\":\"\",\"zerolinecolor\":\"white\",\"gridwidth\":2},\"zaxis\":{\"backgroundcolor\":\"#E5ECF6\",\"gridcolor\":\"white\",\"linecolor\":\"white\",\"showbackground\":true,\"ticks\":\"\",\"zerolinecolor\":\"white\",\"gridwidth\":2}},\"shapedefaults\":{\"line\":{\"color\":\"#2a3f5f\"}},\"annotationdefaults\":{\"arrowcolor\":\"#2a3f5f\",\"arrowhead\":0,\"arrowwidth\":1},\"geo\":{\"bgcolor\":\"white\",\"landcolor\":\"#E5ECF6\",\"subunitcolor\":\"white\",\"showland\":true,\"showlakes\":true,\"lakecolor\":\"white\"},\"title\":{\"x\":0.05},\"mapbox\":{\"style\":\"light\"}}},\"coloraxis\":{\"colorbar\":{\"title\":{\"text\":\"Quality\"}},\"colorscale\":[[0.0,\"#440154\"],[0.1111111111111111,\"#482878\"],[0.2222222222222222,\"#3e4989\"],[0.3333333333333333,\"#31688e\"],[0.4444444444444444,\"#26828e\"],[0.5555555555555556,\"#1f9e89\"],[0.6666666666666666,\"#35b779\"],[0.7777777777777778,\"#6ece58\"],[0.8888888888888888,\"#b5de2b\"],[1.0,\"#fde725\"]],\"cmin\":0,\"cmax\":1},\"legend\":{\"tracegroupgap\":0},\"title\":{\"text\":\"ForenFace, Model QMagFace\"}},                        {\"responsive\": true}                    ).then(function(){\n",
       "                            \n",
       "var gd = document.getElementById('e1778835-9dcd-4bb1-ae79-cd096690553d');\n",
       "var x = new MutationObserver(function (mutations, observer) {{\n",
       "        var display = window.getComputedStyle(gd).display;\n",
       "        if (!display || display === 'none') {{\n",
       "            console.log([gd, 'removed!']);\n",
       "            Plotly.purge(gd);\n",
       "            observer.disconnect();\n",
       "        }}\n",
       "}});\n",
       "\n",
       "// Listen for the removal of the full notebook cells\n",
       "var notebookContainer = gd.closest('#notebook-container');\n",
       "if (notebookContainer) {{\n",
       "    x.observe(notebookContainer, {childList: true});\n",
       "}}\n",
       "\n",
       "// Listen for the clearing of the current output cell\n",
       "var outputEl = gd.closest('.output');\n",
       "if (outputEl) {{\n",
       "    x.observe(outputEl, {childList: true});\n",
       "}}\n",
       "\n",
       "                        })                };                });            </script>        </div>"
      ]
     },
     "metadata": {},
     "output_type": "display_data"
    },
    {
     "data": {
      "application/vnd.plotly.v1+json": {
       "config": {
        "plotlyServerURL": "https://plot.ly"
       },
       "data": [
        {
         "branchvalues": "total",
         "customdata": [
          [
           0.48445692858787304
          ],
          [
           0.6179495948439531
          ],
          [
           0.5868118562652216
          ],
          [
           0.6784547680476248
          ],
          [
           0.634123433095821
          ],
          [
           0.5951466283351275
          ],
          [
           0.6278861146621136
          ],
          [
           0.6542113893581272
          ],
          [
           0.5806486286267466
          ],
          [
           0.47570942488017565
          ],
          [
           0.361926903233524
          ],
          [
           0.6791245298474224
          ],
          [
           0.4739831503344338
          ],
          [
           0.44990190514230277
          ],
          [
           0.4322016885596707
          ],
          [
           0.7479438897633967
          ],
          [
           0.6958576743509319
          ],
          [
           0.7204824860776798
          ],
          [
           0.6466409785968336
          ],
          [
           0.2921659893824292
          ],
          [
           0.11063015565713448
          ],
          [
           0.7263166738227144
          ],
          [
           0.35937938387511975
          ],
          [
           0.48445692858787304
          ],
          [
           0.6179495948439531
          ],
          [
           0.5868118562652216
          ],
          [
           0.6784547680476248
          ],
          [
           0.634123433095821
          ],
          [
           0.5951466283351275
          ],
          [
           0.6278861146621136
          ],
          [
           0.6542113893581272
          ],
          [
           0.5806486286267466
          ],
          [
           0.47570942488017565
          ],
          [
           0.361926903233524
          ],
          [
           0.6791245298474224
          ],
          [
           0.4739831503344338
          ],
          [
           0.44990190514230277
          ],
          [
           0.4322016885596707
          ],
          [
           0.7479438897633967
          ],
          [
           0.6958576743509319
          ],
          [
           0.7204824860776798
          ],
          [
           0.6466409785968336
          ],
          [
           0.2921659893824292
          ],
          [
           0.11063015565713448
          ],
          [
           0.7263166738227144
          ],
          [
           0.35937938387511975
          ],
          [
           0.4500029432225529
          ],
          [
           0.4322016885596707
          ],
          [
           0.7001494472846537
          ],
          [
           0.6257267479756878
          ],
          [
           0.6852357871770791
          ],
          [
           0.6061519556835552
          ],
          [
           0.6368048485262745
          ],
          [
           0.5714458470886961
          ]
         ],
         "domain": {
          "x": [
           0,
           1
          ],
          "y": [
           0,
           1
          ]
         },
         "hovertemplate": "labels=%{label}<br>count=%{value}<br>parent=%{parent}<br>id=%{id}<br>Quality=%{color}<extra></extra>",
         "ids": [
          "Man/sideways/downwards/white",
          "Man/slightly_turned/downwards/white",
          "Woman/slightly_turned/downwards/white",
          "Man/straight/downwards/white",
          "Woman/straight/downwards/white",
          "Man/slightly_turned/slightly_downwards/white",
          "Woman/slightly_turned/slightly_downwards/white",
          "Man/straight/slightly_downwards/white",
          "Woman/straight/slightly_downwards/white",
          "Man/slightly_turned/slightly_upwards/white",
          "Woman/slightly_turned/slightly_upwards/white",
          "Man/straight/slightly_upwards/white",
          "Woman/straight/slightly_upwards/white",
          "Man/sideways/straight/white",
          "Woman/sideways/straight/white",
          "Man/slightly_turned/straight/white",
          "Woman/slightly_turned/straight/white",
          "Man/straight/straight/white",
          "Woman/straight/straight/white",
          "Man/slightly_turned/upwards/white",
          "Woman/slightly_turned/upwards/white",
          "Man/straight/upwards/white",
          "Woman/straight/upwards/white",
          "Man/sideways/downwards",
          "Man/slightly_turned/downwards",
          "Woman/slightly_turned/downwards",
          "Man/straight/downwards",
          "Woman/straight/downwards",
          "Man/slightly_turned/slightly_downwards",
          "Woman/slightly_turned/slightly_downwards",
          "Man/straight/slightly_downwards",
          "Woman/straight/slightly_downwards",
          "Man/slightly_turned/slightly_upwards",
          "Woman/slightly_turned/slightly_upwards",
          "Man/straight/slightly_upwards",
          "Woman/straight/slightly_upwards",
          "Man/sideways/straight",
          "Woman/sideways/straight",
          "Man/slightly_turned/straight",
          "Woman/slightly_turned/straight",
          "Man/straight/straight",
          "Woman/straight/straight",
          "Man/slightly_turned/upwards",
          "Woman/slightly_turned/upwards",
          "Man/straight/upwards",
          "Woman/straight/upwards",
          "Man/sideways",
          "Woman/sideways",
          "Man/slightly_turned",
          "Woman/slightly_turned",
          "Man/straight",
          "Woman/straight",
          "Man",
          "Woman"
         ],
         "labels": [
          "white",
          "white",
          "white",
          "white",
          "white",
          "white",
          "white",
          "white",
          "white",
          "white",
          "white",
          "white",
          "white",
          "white",
          "white",
          "white",
          "white",
          "white",
          "white",
          "white",
          "white",
          "white",
          "white",
          "downwards",
          "downwards",
          "downwards",
          "downwards",
          "downwards",
          "slightly_downwards",
          "slightly_downwards",
          "slightly_downwards",
          "slightly_downwards",
          "slightly_upwards",
          "slightly_upwards",
          "slightly_upwards",
          "slightly_upwards",
          "straight",
          "straight",
          "straight",
          "straight",
          "straight",
          "straight",
          "upwards",
          "upwards",
          "upwards",
          "upwards",
          "sideways",
          "sideways",
          "slightly_turned",
          "slightly_turned",
          "straight",
          "straight",
          "Man",
          "Woman"
         ],
         "marker": {
          "coloraxis": "coloraxis",
          "colors": [
           0.48445692858787304,
           0.6179495948439531,
           0.5868118562652216,
           0.6784547680476248,
           0.634123433095821,
           0.5951466283351275,
           0.6278861146621136,
           0.6542113893581272,
           0.5806486286267466,
           0.47570942488017565,
           0.361926903233524,
           0.6791245298474224,
           0.4739831503344338,
           0.44990190514230277,
           0.4322016885596707,
           0.7479438897633967,
           0.6958576743509319,
           0.7204824860776798,
           0.6466409785968336,
           0.2921659893824292,
           0.11063015565713448,
           0.7263166738227144,
           0.35937938387511975,
           0.48445692858787304,
           0.6179495948439531,
           0.5868118562652216,
           0.6784547680476248,
           0.634123433095821,
           0.5951466283351275,
           0.6278861146621136,
           0.6542113893581272,
           0.5806486286267466,
           0.47570942488017565,
           0.361926903233524,
           0.6791245298474224,
           0.4739831503344338,
           0.44990190514230277,
           0.4322016885596707,
           0.7479438897633967,
           0.6958576743509319,
           0.7204824860776798,
           0.6466409785968336,
           0.2921659893824292,
           0.11063015565713448,
           0.7263166738227144,
           0.35937938387511975,
           0.4500029432225529,
           0.4322016885596707,
           0.7001494472846537,
           0.6257267479756878,
           0.6852357871770791,
           0.6061519556835552,
           0.6368048485262745,
           0.5714458470886961
          ]
         },
         "name": "",
         "parents": [
          "Man/sideways/downwards",
          "Man/slightly_turned/downwards",
          "Woman/slightly_turned/downwards",
          "Man/straight/downwards",
          "Woman/straight/downwards",
          "Man/slightly_turned/slightly_downwards",
          "Woman/slightly_turned/slightly_downwards",
          "Man/straight/slightly_downwards",
          "Woman/straight/slightly_downwards",
          "Man/slightly_turned/slightly_upwards",
          "Woman/slightly_turned/slightly_upwards",
          "Man/straight/slightly_upwards",
          "Woman/straight/slightly_upwards",
          "Man/sideways/straight",
          "Woman/sideways/straight",
          "Man/slightly_turned/straight",
          "Woman/slightly_turned/straight",
          "Man/straight/straight",
          "Woman/straight/straight",
          "Man/slightly_turned/upwards",
          "Woman/slightly_turned/upwards",
          "Man/straight/upwards",
          "Woman/straight/upwards",
          "Man/sideways",
          "Man/slightly_turned",
          "Woman/slightly_turned",
          "Man/straight",
          "Woman/straight",
          "Man/slightly_turned",
          "Woman/slightly_turned",
          "Man/straight",
          "Woman/straight",
          "Man/slightly_turned",
          "Woman/slightly_turned",
          "Man/straight",
          "Woman/straight",
          "Man/sideways",
          "Woman/sideways",
          "Man/slightly_turned",
          "Woman/slightly_turned",
          "Man/straight",
          "Woman/straight",
          "Man/slightly_turned",
          "Woman/slightly_turned",
          "Man/straight",
          "Woman/straight",
          "Man",
          "Woman",
          "Man",
          "Woman",
          "Man",
          "Woman",
          "",
          ""
         ],
         "type": "sunburst",
         "values": [
          2,
          78,
          4,
          1088,
          112,
          23,
          2,
          410,
          69,
          6,
          5,
          90,
          24,
          682,
          95,
          247,
          43,
          559,
          81,
          4,
          3,
          23,
          6,
          2,
          78,
          4,
          1088,
          112,
          23,
          2,
          410,
          69,
          6,
          5,
          90,
          24,
          682,
          95,
          247,
          43,
          559,
          81,
          4,
          3,
          23,
          6,
          684,
          95,
          358,
          57,
          2170,
          292,
          3212,
          444
         ]
        }
       ],
       "layout": {
        "coloraxis": {
         "cmax": 1,
         "cmin": 0,
         "colorbar": {
          "title": {
           "text": "Quality"
          }
         },
         "colorscale": [
          [
           0,
           "#440154"
          ],
          [
           0.1111111111111111,
           "#482878"
          ],
          [
           0.2222222222222222,
           "#3e4989"
          ],
          [
           0.3333333333333333,
           "#31688e"
          ],
          [
           0.4444444444444444,
           "#26828e"
          ],
          [
           0.5555555555555556,
           "#1f9e89"
          ],
          [
           0.6666666666666666,
           "#35b779"
          ],
          [
           0.7777777777777778,
           "#6ece58"
          ],
          [
           0.8888888888888888,
           "#b5de2b"
          ],
          [
           1,
           "#fde725"
          ]
         ]
        },
        "legend": {
         "tracegroupgap": 0
        },
        "template": {
         "data": {
          "bar": [
           {
            "error_x": {
             "color": "#2a3f5f"
            },
            "error_y": {
             "color": "#2a3f5f"
            },
            "marker": {
             "line": {
              "color": "#E5ECF6",
              "width": 0.5
             },
             "pattern": {
              "fillmode": "overlay",
              "size": 10,
              "solidity": 0.2
             }
            },
            "type": "bar"
           }
          ],
          "barpolar": [
           {
            "marker": {
             "line": {
              "color": "#E5ECF6",
              "width": 0.5
             },
             "pattern": {
              "fillmode": "overlay",
              "size": 10,
              "solidity": 0.2
             }
            },
            "type": "barpolar"
           }
          ],
          "carpet": [
           {
            "aaxis": {
             "endlinecolor": "#2a3f5f",
             "gridcolor": "white",
             "linecolor": "white",
             "minorgridcolor": "white",
             "startlinecolor": "#2a3f5f"
            },
            "baxis": {
             "endlinecolor": "#2a3f5f",
             "gridcolor": "white",
             "linecolor": "white",
             "minorgridcolor": "white",
             "startlinecolor": "#2a3f5f"
            },
            "type": "carpet"
           }
          ],
          "choropleth": [
           {
            "colorbar": {
             "outlinewidth": 0,
             "ticks": ""
            },
            "type": "choropleth"
           }
          ],
          "contour": [
           {
            "colorbar": {
             "outlinewidth": 0,
             "ticks": ""
            },
            "colorscale": [
             [
              0,
              "#0d0887"
             ],
             [
              0.1111111111111111,
              "#46039f"
             ],
             [
              0.2222222222222222,
              "#7201a8"
             ],
             [
              0.3333333333333333,
              "#9c179e"
             ],
             [
              0.4444444444444444,
              "#bd3786"
             ],
             [
              0.5555555555555556,
              "#d8576b"
             ],
             [
              0.6666666666666666,
              "#ed7953"
             ],
             [
              0.7777777777777778,
              "#fb9f3a"
             ],
             [
              0.8888888888888888,
              "#fdca26"
             ],
             [
              1,
              "#f0f921"
             ]
            ],
            "type": "contour"
           }
          ],
          "contourcarpet": [
           {
            "colorbar": {
             "outlinewidth": 0,
             "ticks": ""
            },
            "type": "contourcarpet"
           }
          ],
          "heatmap": [
           {
            "colorbar": {
             "outlinewidth": 0,
             "ticks": ""
            },
            "colorscale": [
             [
              0,
              "#0d0887"
             ],
             [
              0.1111111111111111,
              "#46039f"
             ],
             [
              0.2222222222222222,
              "#7201a8"
             ],
             [
              0.3333333333333333,
              "#9c179e"
             ],
             [
              0.4444444444444444,
              "#bd3786"
             ],
             [
              0.5555555555555556,
              "#d8576b"
             ],
             [
              0.6666666666666666,
              "#ed7953"
             ],
             [
              0.7777777777777778,
              "#fb9f3a"
             ],
             [
              0.8888888888888888,
              "#fdca26"
             ],
             [
              1,
              "#f0f921"
             ]
            ],
            "type": "heatmap"
           }
          ],
          "heatmapgl": [
           {
            "colorbar": {
             "outlinewidth": 0,
             "ticks": ""
            },
            "colorscale": [
             [
              0,
              "#0d0887"
             ],
             [
              0.1111111111111111,
              "#46039f"
             ],
             [
              0.2222222222222222,
              "#7201a8"
             ],
             [
              0.3333333333333333,
              "#9c179e"
             ],
             [
              0.4444444444444444,
              "#bd3786"
             ],
             [
              0.5555555555555556,
              "#d8576b"
             ],
             [
              0.6666666666666666,
              "#ed7953"
             ],
             [
              0.7777777777777778,
              "#fb9f3a"
             ],
             [
              0.8888888888888888,
              "#fdca26"
             ],
             [
              1,
              "#f0f921"
             ]
            ],
            "type": "heatmapgl"
           }
          ],
          "histogram": [
           {
            "marker": {
             "pattern": {
              "fillmode": "overlay",
              "size": 10,
              "solidity": 0.2
             }
            },
            "type": "histogram"
           }
          ],
          "histogram2d": [
           {
            "colorbar": {
             "outlinewidth": 0,
             "ticks": ""
            },
            "colorscale": [
             [
              0,
              "#0d0887"
             ],
             [
              0.1111111111111111,
              "#46039f"
             ],
             [
              0.2222222222222222,
              "#7201a8"
             ],
             [
              0.3333333333333333,
              "#9c179e"
             ],
             [
              0.4444444444444444,
              "#bd3786"
             ],
             [
              0.5555555555555556,
              "#d8576b"
             ],
             [
              0.6666666666666666,
              "#ed7953"
             ],
             [
              0.7777777777777778,
              "#fb9f3a"
             ],
             [
              0.8888888888888888,
              "#fdca26"
             ],
             [
              1,
              "#f0f921"
             ]
            ],
            "type": "histogram2d"
           }
          ],
          "histogram2dcontour": [
           {
            "colorbar": {
             "outlinewidth": 0,
             "ticks": ""
            },
            "colorscale": [
             [
              0,
              "#0d0887"
             ],
             [
              0.1111111111111111,
              "#46039f"
             ],
             [
              0.2222222222222222,
              "#7201a8"
             ],
             [
              0.3333333333333333,
              "#9c179e"
             ],
             [
              0.4444444444444444,
              "#bd3786"
             ],
             [
              0.5555555555555556,
              "#d8576b"
             ],
             [
              0.6666666666666666,
              "#ed7953"
             ],
             [
              0.7777777777777778,
              "#fb9f3a"
             ],
             [
              0.8888888888888888,
              "#fdca26"
             ],
             [
              1,
              "#f0f921"
             ]
            ],
            "type": "histogram2dcontour"
           }
          ],
          "mesh3d": [
           {
            "colorbar": {
             "outlinewidth": 0,
             "ticks": ""
            },
            "type": "mesh3d"
           }
          ],
          "parcoords": [
           {
            "line": {
             "colorbar": {
              "outlinewidth": 0,
              "ticks": ""
             }
            },
            "type": "parcoords"
           }
          ],
          "pie": [
           {
            "automargin": true,
            "type": "pie"
           }
          ],
          "scatter": [
           {
            "fillpattern": {
             "fillmode": "overlay",
             "size": 10,
             "solidity": 0.2
            },
            "type": "scatter"
           }
          ],
          "scatter3d": [
           {
            "line": {
             "colorbar": {
              "outlinewidth": 0,
              "ticks": ""
             }
            },
            "marker": {
             "colorbar": {
              "outlinewidth": 0,
              "ticks": ""
             }
            },
            "type": "scatter3d"
           }
          ],
          "scattercarpet": [
           {
            "marker": {
             "colorbar": {
              "outlinewidth": 0,
              "ticks": ""
             }
            },
            "type": "scattercarpet"
           }
          ],
          "scattergeo": [
           {
            "marker": {
             "colorbar": {
              "outlinewidth": 0,
              "ticks": ""
             }
            },
            "type": "scattergeo"
           }
          ],
          "scattergl": [
           {
            "marker": {
             "colorbar": {
              "outlinewidth": 0,
              "ticks": ""
             }
            },
            "type": "scattergl"
           }
          ],
          "scattermapbox": [
           {
            "marker": {
             "colorbar": {
              "outlinewidth": 0,
              "ticks": ""
             }
            },
            "type": "scattermapbox"
           }
          ],
          "scatterpolar": [
           {
            "marker": {
             "colorbar": {
              "outlinewidth": 0,
              "ticks": ""
             }
            },
            "type": "scatterpolar"
           }
          ],
          "scatterpolargl": [
           {
            "marker": {
             "colorbar": {
              "outlinewidth": 0,
              "ticks": ""
             }
            },
            "type": "scatterpolargl"
           }
          ],
          "scatterternary": [
           {
            "marker": {
             "colorbar": {
              "outlinewidth": 0,
              "ticks": ""
             }
            },
            "type": "scatterternary"
           }
          ],
          "surface": [
           {
            "colorbar": {
             "outlinewidth": 0,
             "ticks": ""
            },
            "colorscale": [
             [
              0,
              "#0d0887"
             ],
             [
              0.1111111111111111,
              "#46039f"
             ],
             [
              0.2222222222222222,
              "#7201a8"
             ],
             [
              0.3333333333333333,
              "#9c179e"
             ],
             [
              0.4444444444444444,
              "#bd3786"
             ],
             [
              0.5555555555555556,
              "#d8576b"
             ],
             [
              0.6666666666666666,
              "#ed7953"
             ],
             [
              0.7777777777777778,
              "#fb9f3a"
             ],
             [
              0.8888888888888888,
              "#fdca26"
             ],
             [
              1,
              "#f0f921"
             ]
            ],
            "type": "surface"
           }
          ],
          "table": [
           {
            "cells": {
             "fill": {
              "color": "#EBF0F8"
             },
             "line": {
              "color": "white"
             }
            },
            "header": {
             "fill": {
              "color": "#C8D4E3"
             },
             "line": {
              "color": "white"
             }
            },
            "type": "table"
           }
          ]
         },
         "layout": {
          "annotationdefaults": {
           "arrowcolor": "#2a3f5f",
           "arrowhead": 0,
           "arrowwidth": 1
          },
          "autotypenumbers": "strict",
          "coloraxis": {
           "colorbar": {
            "outlinewidth": 0,
            "ticks": ""
           }
          },
          "colorscale": {
           "diverging": [
            [
             0,
             "#8e0152"
            ],
            [
             0.1,
             "#c51b7d"
            ],
            [
             0.2,
             "#de77ae"
            ],
            [
             0.3,
             "#f1b6da"
            ],
            [
             0.4,
             "#fde0ef"
            ],
            [
             0.5,
             "#f7f7f7"
            ],
            [
             0.6,
             "#e6f5d0"
            ],
            [
             0.7,
             "#b8e186"
            ],
            [
             0.8,
             "#7fbc41"
            ],
            [
             0.9,
             "#4d9221"
            ],
            [
             1,
             "#276419"
            ]
           ],
           "sequential": [
            [
             0,
             "#0d0887"
            ],
            [
             0.1111111111111111,
             "#46039f"
            ],
            [
             0.2222222222222222,
             "#7201a8"
            ],
            [
             0.3333333333333333,
             "#9c179e"
            ],
            [
             0.4444444444444444,
             "#bd3786"
            ],
            [
             0.5555555555555556,
             "#d8576b"
            ],
            [
             0.6666666666666666,
             "#ed7953"
            ],
            [
             0.7777777777777778,
             "#fb9f3a"
            ],
            [
             0.8888888888888888,
             "#fdca26"
            ],
            [
             1,
             "#f0f921"
            ]
           ],
           "sequentialminus": [
            [
             0,
             "#0d0887"
            ],
            [
             0.1111111111111111,
             "#46039f"
            ],
            [
             0.2222222222222222,
             "#7201a8"
            ],
            [
             0.3333333333333333,
             "#9c179e"
            ],
            [
             0.4444444444444444,
             "#bd3786"
            ],
            [
             0.5555555555555556,
             "#d8576b"
            ],
            [
             0.6666666666666666,
             "#ed7953"
            ],
            [
             0.7777777777777778,
             "#fb9f3a"
            ],
            [
             0.8888888888888888,
             "#fdca26"
            ],
            [
             1,
             "#f0f921"
            ]
           ]
          },
          "colorway": [
           "#636efa",
           "#EF553B",
           "#00cc96",
           "#ab63fa",
           "#FFA15A",
           "#19d3f3",
           "#FF6692",
           "#B6E880",
           "#FF97FF",
           "#FECB52"
          ],
          "font": {
           "color": "#2a3f5f"
          },
          "geo": {
           "bgcolor": "white",
           "lakecolor": "white",
           "landcolor": "#E5ECF6",
           "showlakes": true,
           "showland": true,
           "subunitcolor": "white"
          },
          "hoverlabel": {
           "align": "left"
          },
          "hovermode": "closest",
          "mapbox": {
           "style": "light"
          },
          "paper_bgcolor": "white",
          "plot_bgcolor": "#E5ECF6",
          "polar": {
           "angularaxis": {
            "gridcolor": "white",
            "linecolor": "white",
            "ticks": ""
           },
           "bgcolor": "#E5ECF6",
           "radialaxis": {
            "gridcolor": "white",
            "linecolor": "white",
            "ticks": ""
           }
          },
          "scene": {
           "xaxis": {
            "backgroundcolor": "#E5ECF6",
            "gridcolor": "white",
            "gridwidth": 2,
            "linecolor": "white",
            "showbackground": true,
            "ticks": "",
            "zerolinecolor": "white"
           },
           "yaxis": {
            "backgroundcolor": "#E5ECF6",
            "gridcolor": "white",
            "gridwidth": 2,
            "linecolor": "white",
            "showbackground": true,
            "ticks": "",
            "zerolinecolor": "white"
           },
           "zaxis": {
            "backgroundcolor": "#E5ECF6",
            "gridcolor": "white",
            "gridwidth": 2,
            "linecolor": "white",
            "showbackground": true,
            "ticks": "",
            "zerolinecolor": "white"
           }
          },
          "shapedefaults": {
           "line": {
            "color": "#2a3f5f"
           }
          },
          "ternary": {
           "aaxis": {
            "gridcolor": "white",
            "linecolor": "white",
            "ticks": ""
           },
           "baxis": {
            "gridcolor": "white",
            "linecolor": "white",
            "ticks": ""
           },
           "bgcolor": "#E5ECF6",
           "caxis": {
            "gridcolor": "white",
            "linecolor": "white",
            "ticks": ""
           }
          },
          "title": {
           "x": 0.05
          },
          "xaxis": {
           "automargin": true,
           "gridcolor": "white",
           "linecolor": "white",
           "ticks": "",
           "title": {
            "standoff": 15
           },
           "zerolinecolor": "white",
           "zerolinewidth": 2
          },
          "yaxis": {
           "automargin": true,
           "gridcolor": "white",
           "linecolor": "white",
           "ticks": "",
           "title": {
            "standoff": 15
           },
           "zerolinecolor": "white",
           "zerolinewidth": 2
          }
         }
        },
        "title": {
         "text": "SCFace, Model QMagFace"
        }
       }
      },
      "text/html": [
       "<div>                            <div id=\"d3915147-5983-4fa6-b844-f4c475aadec4\" class=\"plotly-graph-div\" style=\"height:525px; width:100%;\"></div>            <script type=\"text/javascript\">                require([\"plotly\"], function(Plotly) {                    window.PLOTLYENV=window.PLOTLYENV || {};                                    if (document.getElementById(\"d3915147-5983-4fa6-b844-f4c475aadec4\")) {                    Plotly.newPlot(                        \"d3915147-5983-4fa6-b844-f4c475aadec4\",                        [{\"branchvalues\":\"total\",\"customdata\":[[0.48445692858787304],[0.6179495948439531],[0.5868118562652216],[0.6784547680476248],[0.634123433095821],[0.5951466283351275],[0.6278861146621136],[0.6542113893581272],[0.5806486286267466],[0.47570942488017565],[0.361926903233524],[0.6791245298474224],[0.4739831503344338],[0.44990190514230277],[0.4322016885596707],[0.7479438897633967],[0.6958576743509319],[0.7204824860776798],[0.6466409785968336],[0.2921659893824292],[0.11063015565713448],[0.7263166738227144],[0.35937938387511975],[0.48445692858787304],[0.6179495948439531],[0.5868118562652216],[0.6784547680476248],[0.634123433095821],[0.5951466283351275],[0.6278861146621136],[0.6542113893581272],[0.5806486286267466],[0.47570942488017565],[0.361926903233524],[0.6791245298474224],[0.4739831503344338],[0.44990190514230277],[0.4322016885596707],[0.7479438897633967],[0.6958576743509319],[0.7204824860776798],[0.6466409785968336],[0.2921659893824292],[0.11063015565713448],[0.7263166738227144],[0.35937938387511975],[0.4500029432225529],[0.4322016885596707],[0.7001494472846537],[0.6257267479756878],[0.6852357871770791],[0.6061519556835552],[0.6368048485262745],[0.5714458470886961]],\"domain\":{\"x\":[0.0,1.0],\"y\":[0.0,1.0]},\"hovertemplate\":\"labels=%{label}<br>count=%{value}<br>parent=%{parent}<br>id=%{id}<br>Quality=%{color}<extra></extra>\",\"ids\":[\"Man/sideways/downwards/white\",\"Man/slightly_turned/downwards/white\",\"Woman/slightly_turned/downwards/white\",\"Man/straight/downwards/white\",\"Woman/straight/downwards/white\",\"Man/slightly_turned/slightly_downwards/white\",\"Woman/slightly_turned/slightly_downwards/white\",\"Man/straight/slightly_downwards/white\",\"Woman/straight/slightly_downwards/white\",\"Man/slightly_turned/slightly_upwards/white\",\"Woman/slightly_turned/slightly_upwards/white\",\"Man/straight/slightly_upwards/white\",\"Woman/straight/slightly_upwards/white\",\"Man/sideways/straight/white\",\"Woman/sideways/straight/white\",\"Man/slightly_turned/straight/white\",\"Woman/slightly_turned/straight/white\",\"Man/straight/straight/white\",\"Woman/straight/straight/white\",\"Man/slightly_turned/upwards/white\",\"Woman/slightly_turned/upwards/white\",\"Man/straight/upwards/white\",\"Woman/straight/upwards/white\",\"Man/sideways/downwards\",\"Man/slightly_turned/downwards\",\"Woman/slightly_turned/downwards\",\"Man/straight/downwards\",\"Woman/straight/downwards\",\"Man/slightly_turned/slightly_downwards\",\"Woman/slightly_turned/slightly_downwards\",\"Man/straight/slightly_downwards\",\"Woman/straight/slightly_downwards\",\"Man/slightly_turned/slightly_upwards\",\"Woman/slightly_turned/slightly_upwards\",\"Man/straight/slightly_upwards\",\"Woman/straight/slightly_upwards\",\"Man/sideways/straight\",\"Woman/sideways/straight\",\"Man/slightly_turned/straight\",\"Woman/slightly_turned/straight\",\"Man/straight/straight\",\"Woman/straight/straight\",\"Man/slightly_turned/upwards\",\"Woman/slightly_turned/upwards\",\"Man/straight/upwards\",\"Woman/straight/upwards\",\"Man/sideways\",\"Woman/sideways\",\"Man/slightly_turned\",\"Woman/slightly_turned\",\"Man/straight\",\"Woman/straight\",\"Man\",\"Woman\"],\"labels\":[\"white\",\"white\",\"white\",\"white\",\"white\",\"white\",\"white\",\"white\",\"white\",\"white\",\"white\",\"white\",\"white\",\"white\",\"white\",\"white\",\"white\",\"white\",\"white\",\"white\",\"white\",\"white\",\"white\",\"downwards\",\"downwards\",\"downwards\",\"downwards\",\"downwards\",\"slightly_downwards\",\"slightly_downwards\",\"slightly_downwards\",\"slightly_downwards\",\"slightly_upwards\",\"slightly_upwards\",\"slightly_upwards\",\"slightly_upwards\",\"straight\",\"straight\",\"straight\",\"straight\",\"straight\",\"straight\",\"upwards\",\"upwards\",\"upwards\",\"upwards\",\"sideways\",\"sideways\",\"slightly_turned\",\"slightly_turned\",\"straight\",\"straight\",\"Man\",\"Woman\"],\"marker\":{\"coloraxis\":\"coloraxis\",\"colors\":[0.48445692858787304,0.6179495948439531,0.5868118562652216,0.6784547680476248,0.634123433095821,0.5951466283351275,0.6278861146621136,0.6542113893581272,0.5806486286267466,0.47570942488017565,0.361926903233524,0.6791245298474224,0.4739831503344338,0.44990190514230277,0.4322016885596707,0.7479438897633967,0.6958576743509319,0.7204824860776798,0.6466409785968336,0.2921659893824292,0.11063015565713448,0.7263166738227144,0.35937938387511975,0.48445692858787304,0.6179495948439531,0.5868118562652216,0.6784547680476248,0.634123433095821,0.5951466283351275,0.6278861146621136,0.6542113893581272,0.5806486286267466,0.47570942488017565,0.361926903233524,0.6791245298474224,0.4739831503344338,0.44990190514230277,0.4322016885596707,0.7479438897633967,0.6958576743509319,0.7204824860776798,0.6466409785968336,0.2921659893824292,0.11063015565713448,0.7263166738227144,0.35937938387511975,0.4500029432225529,0.4322016885596707,0.7001494472846537,0.6257267479756878,0.6852357871770791,0.6061519556835552,0.6368048485262745,0.5714458470886961]},\"name\":\"\",\"parents\":[\"Man/sideways/downwards\",\"Man/slightly_turned/downwards\",\"Woman/slightly_turned/downwards\",\"Man/straight/downwards\",\"Woman/straight/downwards\",\"Man/slightly_turned/slightly_downwards\",\"Woman/slightly_turned/slightly_downwards\",\"Man/straight/slightly_downwards\",\"Woman/straight/slightly_downwards\",\"Man/slightly_turned/slightly_upwards\",\"Woman/slightly_turned/slightly_upwards\",\"Man/straight/slightly_upwards\",\"Woman/straight/slightly_upwards\",\"Man/sideways/straight\",\"Woman/sideways/straight\",\"Man/slightly_turned/straight\",\"Woman/slightly_turned/straight\",\"Man/straight/straight\",\"Woman/straight/straight\",\"Man/slightly_turned/upwards\",\"Woman/slightly_turned/upwards\",\"Man/straight/upwards\",\"Woman/straight/upwards\",\"Man/sideways\",\"Man/slightly_turned\",\"Woman/slightly_turned\",\"Man/straight\",\"Woman/straight\",\"Man/slightly_turned\",\"Woman/slightly_turned\",\"Man/straight\",\"Woman/straight\",\"Man/slightly_turned\",\"Woman/slightly_turned\",\"Man/straight\",\"Woman/straight\",\"Man/sideways\",\"Woman/sideways\",\"Man/slightly_turned\",\"Woman/slightly_turned\",\"Man/straight\",\"Woman/straight\",\"Man/slightly_turned\",\"Woman/slightly_turned\",\"Man/straight\",\"Woman/straight\",\"Man\",\"Woman\",\"Man\",\"Woman\",\"Man\",\"Woman\",\"\",\"\"],\"values\":[2,78,4,1088,112,23,2,410,69,6,5,90,24,682,95,247,43,559,81,4,3,23,6,2,78,4,1088,112,23,2,410,69,6,5,90,24,682,95,247,43,559,81,4,3,23,6,684,95,358,57,2170,292,3212,444],\"type\":\"sunburst\"}],                        {\"template\":{\"data\":{\"histogram2dcontour\":[{\"type\":\"histogram2dcontour\",\"colorbar\":{\"outlinewidth\":0,\"ticks\":\"\"},\"colorscale\":[[0.0,\"#0d0887\"],[0.1111111111111111,\"#46039f\"],[0.2222222222222222,\"#7201a8\"],[0.3333333333333333,\"#9c179e\"],[0.4444444444444444,\"#bd3786\"],[0.5555555555555556,\"#d8576b\"],[0.6666666666666666,\"#ed7953\"],[0.7777777777777778,\"#fb9f3a\"],[0.8888888888888888,\"#fdca26\"],[1.0,\"#f0f921\"]]}],\"choropleth\":[{\"type\":\"choropleth\",\"colorbar\":{\"outlinewidth\":0,\"ticks\":\"\"}}],\"histogram2d\":[{\"type\":\"histogram2d\",\"colorbar\":{\"outlinewidth\":0,\"ticks\":\"\"},\"colorscale\":[[0.0,\"#0d0887\"],[0.1111111111111111,\"#46039f\"],[0.2222222222222222,\"#7201a8\"],[0.3333333333333333,\"#9c179e\"],[0.4444444444444444,\"#bd3786\"],[0.5555555555555556,\"#d8576b\"],[0.6666666666666666,\"#ed7953\"],[0.7777777777777778,\"#fb9f3a\"],[0.8888888888888888,\"#fdca26\"],[1.0,\"#f0f921\"]]}],\"heatmap\":[{\"type\":\"heatmap\",\"colorbar\":{\"outlinewidth\":0,\"ticks\":\"\"},\"colorscale\":[[0.0,\"#0d0887\"],[0.1111111111111111,\"#46039f\"],[0.2222222222222222,\"#7201a8\"],[0.3333333333333333,\"#9c179e\"],[0.4444444444444444,\"#bd3786\"],[0.5555555555555556,\"#d8576b\"],[0.6666666666666666,\"#ed7953\"],[0.7777777777777778,\"#fb9f3a\"],[0.8888888888888888,\"#fdca26\"],[1.0,\"#f0f921\"]]}],\"heatmapgl\":[{\"type\":\"heatmapgl\",\"colorbar\":{\"outlinewidth\":0,\"ticks\":\"\"},\"colorscale\":[[0.0,\"#0d0887\"],[0.1111111111111111,\"#46039f\"],[0.2222222222222222,\"#7201a8\"],[0.3333333333333333,\"#9c179e\"],[0.4444444444444444,\"#bd3786\"],[0.5555555555555556,\"#d8576b\"],[0.6666666666666666,\"#ed7953\"],[0.7777777777777778,\"#fb9f3a\"],[0.8888888888888888,\"#fdca26\"],[1.0,\"#f0f921\"]]}],\"contourcarpet\":[{\"type\":\"contourcarpet\",\"colorbar\":{\"outlinewidth\":0,\"ticks\":\"\"}}],\"contour\":[{\"type\":\"contour\",\"colorbar\":{\"outlinewidth\":0,\"ticks\":\"\"},\"colorscale\":[[0.0,\"#0d0887\"],[0.1111111111111111,\"#46039f\"],[0.2222222222222222,\"#7201a8\"],[0.3333333333333333,\"#9c179e\"],[0.4444444444444444,\"#bd3786\"],[0.5555555555555556,\"#d8576b\"],[0.6666666666666666,\"#ed7953\"],[0.7777777777777778,\"#fb9f3a\"],[0.8888888888888888,\"#fdca26\"],[1.0,\"#f0f921\"]]}],\"surface\":[{\"type\":\"surface\",\"colorbar\":{\"outlinewidth\":0,\"ticks\":\"\"},\"colorscale\":[[0.0,\"#0d0887\"],[0.1111111111111111,\"#46039f\"],[0.2222222222222222,\"#7201a8\"],[0.3333333333333333,\"#9c179e\"],[0.4444444444444444,\"#bd3786\"],[0.5555555555555556,\"#d8576b\"],[0.6666666666666666,\"#ed7953\"],[0.7777777777777778,\"#fb9f3a\"],[0.8888888888888888,\"#fdca26\"],[1.0,\"#f0f921\"]]}],\"mesh3d\":[{\"type\":\"mesh3d\",\"colorbar\":{\"outlinewidth\":0,\"ticks\":\"\"}}],\"scatter\":[{\"fillpattern\":{\"fillmode\":\"overlay\",\"size\":10,\"solidity\":0.2},\"type\":\"scatter\"}],\"parcoords\":[{\"type\":\"parcoords\",\"line\":{\"colorbar\":{\"outlinewidth\":0,\"ticks\":\"\"}}}],\"scatterpolargl\":[{\"type\":\"scatterpolargl\",\"marker\":{\"colorbar\":{\"outlinewidth\":0,\"ticks\":\"\"}}}],\"bar\":[{\"error_x\":{\"color\":\"#2a3f5f\"},\"error_y\":{\"color\":\"#2a3f5f\"},\"marker\":{\"line\":{\"color\":\"#E5ECF6\",\"width\":0.5},\"pattern\":{\"fillmode\":\"overlay\",\"size\":10,\"solidity\":0.2}},\"type\":\"bar\"}],\"scattergeo\":[{\"type\":\"scattergeo\",\"marker\":{\"colorbar\":{\"outlinewidth\":0,\"ticks\":\"\"}}}],\"scatterpolar\":[{\"type\":\"scatterpolar\",\"marker\":{\"colorbar\":{\"outlinewidth\":0,\"ticks\":\"\"}}}],\"histogram\":[{\"marker\":{\"pattern\":{\"fillmode\":\"overlay\",\"size\":10,\"solidity\":0.2}},\"type\":\"histogram\"}],\"scattergl\":[{\"type\":\"scattergl\",\"marker\":{\"colorbar\":{\"outlinewidth\":0,\"ticks\":\"\"}}}],\"scatter3d\":[{\"type\":\"scatter3d\",\"line\":{\"colorbar\":{\"outlinewidth\":0,\"ticks\":\"\"}},\"marker\":{\"colorbar\":{\"outlinewidth\":0,\"ticks\":\"\"}}}],\"scattermapbox\":[{\"type\":\"scattermapbox\",\"marker\":{\"colorbar\":{\"outlinewidth\":0,\"ticks\":\"\"}}}],\"scatterternary\":[{\"type\":\"scatterternary\",\"marker\":{\"colorbar\":{\"outlinewidth\":0,\"ticks\":\"\"}}}],\"scattercarpet\":[{\"type\":\"scattercarpet\",\"marker\":{\"colorbar\":{\"outlinewidth\":0,\"ticks\":\"\"}}}],\"carpet\":[{\"aaxis\":{\"endlinecolor\":\"#2a3f5f\",\"gridcolor\":\"white\",\"linecolor\":\"white\",\"minorgridcolor\":\"white\",\"startlinecolor\":\"#2a3f5f\"},\"baxis\":{\"endlinecolor\":\"#2a3f5f\",\"gridcolor\":\"white\",\"linecolor\":\"white\",\"minorgridcolor\":\"white\",\"startlinecolor\":\"#2a3f5f\"},\"type\":\"carpet\"}],\"table\":[{\"cells\":{\"fill\":{\"color\":\"#EBF0F8\"},\"line\":{\"color\":\"white\"}},\"header\":{\"fill\":{\"color\":\"#C8D4E3\"},\"line\":{\"color\":\"white\"}},\"type\":\"table\"}],\"barpolar\":[{\"marker\":{\"line\":{\"color\":\"#E5ECF6\",\"width\":0.5},\"pattern\":{\"fillmode\":\"overlay\",\"size\":10,\"solidity\":0.2}},\"type\":\"barpolar\"}],\"pie\":[{\"automargin\":true,\"type\":\"pie\"}]},\"layout\":{\"autotypenumbers\":\"strict\",\"colorway\":[\"#636efa\",\"#EF553B\",\"#00cc96\",\"#ab63fa\",\"#FFA15A\",\"#19d3f3\",\"#FF6692\",\"#B6E880\",\"#FF97FF\",\"#FECB52\"],\"font\":{\"color\":\"#2a3f5f\"},\"hovermode\":\"closest\",\"hoverlabel\":{\"align\":\"left\"},\"paper_bgcolor\":\"white\",\"plot_bgcolor\":\"#E5ECF6\",\"polar\":{\"bgcolor\":\"#E5ECF6\",\"angularaxis\":{\"gridcolor\":\"white\",\"linecolor\":\"white\",\"ticks\":\"\"},\"radialaxis\":{\"gridcolor\":\"white\",\"linecolor\":\"white\",\"ticks\":\"\"}},\"ternary\":{\"bgcolor\":\"#E5ECF6\",\"aaxis\":{\"gridcolor\":\"white\",\"linecolor\":\"white\",\"ticks\":\"\"},\"baxis\":{\"gridcolor\":\"white\",\"linecolor\":\"white\",\"ticks\":\"\"},\"caxis\":{\"gridcolor\":\"white\",\"linecolor\":\"white\",\"ticks\":\"\"}},\"coloraxis\":{\"colorbar\":{\"outlinewidth\":0,\"ticks\":\"\"}},\"colorscale\":{\"sequential\":[[0.0,\"#0d0887\"],[0.1111111111111111,\"#46039f\"],[0.2222222222222222,\"#7201a8\"],[0.3333333333333333,\"#9c179e\"],[0.4444444444444444,\"#bd3786\"],[0.5555555555555556,\"#d8576b\"],[0.6666666666666666,\"#ed7953\"],[0.7777777777777778,\"#fb9f3a\"],[0.8888888888888888,\"#fdca26\"],[1.0,\"#f0f921\"]],\"sequentialminus\":[[0.0,\"#0d0887\"],[0.1111111111111111,\"#46039f\"],[0.2222222222222222,\"#7201a8\"],[0.3333333333333333,\"#9c179e\"],[0.4444444444444444,\"#bd3786\"],[0.5555555555555556,\"#d8576b\"],[0.6666666666666666,\"#ed7953\"],[0.7777777777777778,\"#fb9f3a\"],[0.8888888888888888,\"#fdca26\"],[1.0,\"#f0f921\"]],\"diverging\":[[0,\"#8e0152\"],[0.1,\"#c51b7d\"],[0.2,\"#de77ae\"],[0.3,\"#f1b6da\"],[0.4,\"#fde0ef\"],[0.5,\"#f7f7f7\"],[0.6,\"#e6f5d0\"],[0.7,\"#b8e186\"],[0.8,\"#7fbc41\"],[0.9,\"#4d9221\"],[1,\"#276419\"]]},\"xaxis\":{\"gridcolor\":\"white\",\"linecolor\":\"white\",\"ticks\":\"\",\"title\":{\"standoff\":15},\"zerolinecolor\":\"white\",\"automargin\":true,\"zerolinewidth\":2},\"yaxis\":{\"gridcolor\":\"white\",\"linecolor\":\"white\",\"ticks\":\"\",\"title\":{\"standoff\":15},\"zerolinecolor\":\"white\",\"automargin\":true,\"zerolinewidth\":2},\"scene\":{\"xaxis\":{\"backgroundcolor\":\"#E5ECF6\",\"gridcolor\":\"white\",\"linecolor\":\"white\",\"showbackground\":true,\"ticks\":\"\",\"zerolinecolor\":\"white\",\"gridwidth\":2},\"yaxis\":{\"backgroundcolor\":\"#E5ECF6\",\"gridcolor\":\"white\",\"linecolor\":\"white\",\"showbackground\":true,\"ticks\":\"\",\"zerolinecolor\":\"white\",\"gridwidth\":2},\"zaxis\":{\"backgroundcolor\":\"#E5ECF6\",\"gridcolor\":\"white\",\"linecolor\":\"white\",\"showbackground\":true,\"ticks\":\"\",\"zerolinecolor\":\"white\",\"gridwidth\":2}},\"shapedefaults\":{\"line\":{\"color\":\"#2a3f5f\"}},\"annotationdefaults\":{\"arrowcolor\":\"#2a3f5f\",\"arrowhead\":0,\"arrowwidth\":1},\"geo\":{\"bgcolor\":\"white\",\"landcolor\":\"#E5ECF6\",\"subunitcolor\":\"white\",\"showland\":true,\"showlakes\":true,\"lakecolor\":\"white\"},\"title\":{\"x\":0.05},\"mapbox\":{\"style\":\"light\"}}},\"coloraxis\":{\"colorbar\":{\"title\":{\"text\":\"Quality\"}},\"colorscale\":[[0.0,\"#440154\"],[0.1111111111111111,\"#482878\"],[0.2222222222222222,\"#3e4989\"],[0.3333333333333333,\"#31688e\"],[0.4444444444444444,\"#26828e\"],[0.5555555555555556,\"#1f9e89\"],[0.6666666666666666,\"#35b779\"],[0.7777777777777778,\"#6ece58\"],[0.8888888888888888,\"#b5de2b\"],[1.0,\"#fde725\"]],\"cmin\":0,\"cmax\":1},\"legend\":{\"tracegroupgap\":0},\"title\":{\"text\":\"SCFace, Model QMagFace\"}},                        {\"responsive\": true}                    ).then(function(){\n",
       "                            \n",
       "var gd = document.getElementById('d3915147-5983-4fa6-b844-f4c475aadec4');\n",
       "var x = new MutationObserver(function (mutations, observer) {{\n",
       "        var display = window.getComputedStyle(gd).display;\n",
       "        if (!display || display === 'none') {{\n",
       "            console.log([gd, 'removed!']);\n",
       "            Plotly.purge(gd);\n",
       "            observer.disconnect();\n",
       "        }}\n",
       "}});\n",
       "\n",
       "// Listen for the removal of the full notebook cells\n",
       "var notebookContainer = gd.closest('#notebook-container');\n",
       "if (notebookContainer) {{\n",
       "    x.observe(notebookContainer, {childList: true});\n",
       "}}\n",
       "\n",
       "// Listen for the clearing of the current output cell\n",
       "var outputEl = gd.closest('.output');\n",
       "if (outputEl) {{\n",
       "    x.observe(outputEl, {childList: true});\n",
       "}}\n",
       "\n",
       "                        })                };                });            </script>        </div>"
      ]
     },
     "metadata": {},
     "output_type": "display_data"
    },
    {
     "data": {
      "application/vnd.plotly.v1+json": {
       "config": {
        "plotlyServerURL": "https://plot.ly"
       },
       "data": [
        {
         "branchvalues": "total",
         "customdata": [
          [
           0.5349761549592503
          ],
          [
           0.49194151724116963
          ],
          [
           0.5483647281624529
          ],
          [
           0.5676667399903186
          ],
          [
           0.6116918350869224
          ],
          [
           0.5540686652226915
          ],
          [
           0.543790274275885
          ],
          [
           0.5672490962987226
          ],
          [
           0.574746836693351
          ],
          [
           0.5275653478882396
          ],
          [
           0.5457513503913385
          ],
          [
           0.5125748762874905
          ],
          [
           0.4611365669043092
          ],
          [
           0.49272921631582933
          ],
          [
           0.34429915821148344
          ],
          [
           0.3580486587415625
          ],
          [
           0.35049874721414387
          ],
          [
           0.33875233906117025
          ],
          [
           0.5297956882458141
          ],
          [
           0.5504401749125695
          ],
          [
           0.4444671452324194
          ],
          [
           0.41987667032389
          ],
          [
           0.48014695821096326
          ],
          [
           0.3981356396156634
          ],
          [
           0.44954277103189555
          ],
          [
           0.4441893749083597
          ],
          [
           0.4444154679606169
          ],
          [
           0.36813344719939967
          ],
          [
           0.24848163821687033
          ],
          [
           0.2587139922510924
          ],
          [
           0.6030058891794726
          ],
          [
           0.5285727093170922
          ],
          [
           0.6707514652752321
          ],
          [
           0.5793102364288197
          ],
          [
           0.7093640802024814
          ],
          [
           0.5900630584931674
          ],
          [
           0.6406186069633779
          ],
          [
           0.49440339224791713
          ],
          [
           0.6742925915430777
          ],
          [
           0.5888435133245481
          ],
          [
           0.698343737945444
          ],
          [
           0.6020273587905357
          ],
          [
           0.57947725054114
          ],
          [
           0.49908560431605037
          ],
          [
           0.62396568591661
          ],
          [
           0.5345062841901208
          ],
          [
           0.67390880829847
          ],
          [
           0.5570816056120481
          ],
          [
           0.6026012381658905
          ],
          [
           0.5359531912026337
          ],
          [
           0.6591369818653887
          ],
          [
           0.5673906371904017
          ],
          [
           0.6879061765037302
          ],
          [
           0.586608160902093
          ],
          [
           0.5670226043105095
          ],
          [
           0.5081669053657084
          ],
          [
           0.6153034144069311
          ],
          [
           0.5225861945129443
          ],
          [
           0.6802981235868469
          ],
          [
           0.5186291042341663
          ],
          [
           0.561297701025814
          ],
          [
           0.5260710064829447
          ],
          [
           0.6156962469592001
          ],
          [
           0.5976103257230251
          ],
          [
           0.6996955252852033
          ],
          [
           0.6235223278275095
          ],
          [
           0.5750911901062581
          ],
          [
           0.5558168646079443
          ],
          [
           0.6869977176633184
          ],
          [
           0.5882880627139555
          ],
          [
           0.7094640817381954
          ],
          [
           0.6284453338552312
          ],
          [
           0.5664640846056166
          ],
          [
           0.5181739599251846
          ],
          [
           0.5596610827448721
          ],
          [
           0.5270190185918266
          ],
          [
           0.6358983231647876
          ],
          [
           0.5575916753963664
          ],
          [
           0.5565759564894144
          ],
          [
           0.5354618108025482
          ],
          [
           0.6716225810783254
          ],
          [
           0.5782495972021442
          ],
          [
           0.6757070658306813
          ],
          [
           0.5798904752767992
          ],
          [
           0.5983076913693123
          ],
          [
           0.5031736582119999
          ],
          [
           0.49829411460779965
          ],
          [
           0.5468253676177808
          ],
          [
           0.5534283064356885
          ],
          [
           0.4467202815677959
          ],
          [
           0.7785998179804104
          ],
          [
           0.6755300019056985
          ],
          [
           0.7656521798108948
          ],
          [
           0.644209961117762
          ],
          [
           0.7282362629365786
          ],
          [
           0.6664923086012918
          ],
          [
           0.7990767490775841
          ],
          [
           0.7361156088033506
          ],
          [
           0.7532953999497275
          ],
          [
           0.6737280405445628
          ],
          [
           0.7772469982921517
          ],
          [
           0.7033355647159246
          ],
          [
           0.7536449988774883
          ],
          [
           0.3001497801683213
          ],
          [
           0.6902144555329315
          ],
          [
           0.4722031531046896
          ],
          [
           0.6278861793138633
          ],
          [
           0.5510270019682765
          ],
          [
           0.36561808697473996
          ],
          [
           0.6958230660457183
          ],
          [
           0.6836485782435705
          ],
          [
           0.6929023724403828
          ],
          [
           0.6624222880147311
          ],
          [
           0.660325959856018
          ],
          [
           0.5517191563387316
          ],
          [
           0.2762586403325267
          ],
          [
           0.7568097916108607
          ],
          [
           0.6906378841348637
          ],
          [
           0.7371599617501747
          ],
          [
           0.4639258400174629
          ],
          [
           0.7865164043385591
          ],
          [
           0.7139235063827738
          ],
          [
           0.8315177315535794
          ],
          [
           0.7245538286685965
          ],
          [
           0.7424997756104013
          ],
          [
           0.8084719700168613
          ],
          [
           0.6592639073270953
          ],
          [
           0.7589864372299382
          ],
          [
           0.7874743843112135
          ],
          [
           0.709568214889106
          ],
          [
           0.838088793063914
          ],
          [
           0.6694574020654934
          ],
          [
           0.7557703401637396
          ],
          [
           0.40533323472915717
          ],
          [
           0.7390991121563887
          ],
          [
           0.6581249228720392
          ],
          [
           0.6928686004433965
          ],
          [
           0.623775782285343
          ],
          [
           0.6330764717337988
          ],
          [
           0.727991880314837
          ],
          [
           0.6845829710179001
          ],
          [
           0.772074999020662
          ],
          [
           0.7075973351553632
          ],
          [
           0.674247603348898
          ],
          [
           0.6420021330774188
          ],
          [
           0.7358663608546944
          ],
          [
           0.6709638505312959
          ],
          [
           0.7627835565142707
          ],
          [
           0.6952926569428003
          ],
          [
           0.6806838694690037
          ],
          [
           0.6106384328598858
          ],
          [
           0.6577102892852418
          ],
          [
           0.6039396524198893
          ],
          [
           0.6984646377138026
          ],
          [
           0.5665750021823832
          ],
          [
           0.6665693370443437
          ],
          [
           0.6367341759815057
          ],
          [
           0.7183148898229099
          ],
          [
           0.6629472791934796
          ],
          [
           0.727737348422006
          ],
          [
           0.6619324098101461
          ],
          [
           0.7231278492228828
          ],
          [
           0.6670871846513068
          ],
          [
           0.6684468034185148
          ],
          [
           0.5723619600331209
          ],
          [
           0.6014370674736967
          ],
          [
           0.4831258868100341
          ],
          [
           0.5998530148602601
          ],
          [
           0.5542091467422738
          ],
          [
           0.6835293351367611
          ],
          [
           0.623930593996621
          ],
          [
           0.7373045242675487
          ],
          [
           0.6506132006270481
          ],
          [
           0.6335330325394208
          ],
          [
           0.5682183230421536
          ],
          [
           0.6940299946873899
          ],
          [
           0.6125680715333769
          ],
          [
           0.715229829921185
          ],
          [
           0.641585459612254
          ],
          [
           0.5899587824024016
          ],
          [
           0.5246394387261164
          ],
          [
           0.5643613466256
          ],
          [
           0.5185420010394687
          ],
          [
           0.6182944855066806
          ],
          [
           0.5053635525574346
          ],
          [
           0.6037774653894235
          ],
          [
           0.5762639429998384
          ],
          [
           0.6598178477511958
          ],
          [
           0.5814368476631462
          ],
          [
           0.6675818977408494
          ],
          [
           0.5818434619787434
          ],
          [
           0.6121712824966589
          ],
          [
           0.5469660307996925
          ],
          [
           0.5736020044312401
          ],
          [
           0.5078173837614
          ],
          [
           0.5389018770066248
          ],
          [
           0.41535263253741467
          ],
          [
           0.6070910846020983
          ],
          [
           0.5578051391855255
          ],
          [
           0.6575164579447612
          ],
          [
           0.5956513938718331
          ],
          [
           0.6849743080415108
          ],
          [
           0.6081965537107297
          ],
          [
           0.6731235979090946
          ],
          [
           0.5998193964283159
          ]
         ],
         "domain": {
          "x": [
           0,
           1
          ],
          "y": [
           0,
           1
          ]
         },
         "hovertemplate": "labels=%{label}<br>count=%{value}<br>parent=%{parent}<br>id=%{id}<br>Quality=%{color}<extra></extra>",
         "ids": [
          "Man/sideways/downwards/asian",
          "Woman/sideways/downwards/asian",
          "Man/slightly_turned/downwards/asian",
          "Woman/slightly_turned/downwards/asian",
          "Man/straight/downwards/asian",
          "Woman/straight/downwards/asian",
          "Man/sideways/slightly_downwards/asian",
          "Woman/sideways/slightly_downwards/asian",
          "Man/slightly_turned/slightly_downwards/asian",
          "Woman/slightly_turned/slightly_downwards/asian",
          "Man/straight/slightly_downwards/asian",
          "Woman/straight/slightly_downwards/asian",
          "Man/sideways/slightly_upwards/asian",
          "Woman/sideways/slightly_upwards/asian",
          "Man/slightly_turned/slightly_upwards/asian",
          "Woman/slightly_turned/slightly_upwards/asian",
          "Man/straight/slightly_upwards/asian",
          "Woman/straight/slightly_upwards/asian",
          "Man/sideways/straight/asian",
          "Woman/sideways/straight/asian",
          "Man/slightly_turned/straight/asian",
          "Woman/slightly_turned/straight/asian",
          "Man/straight/straight/asian",
          "Woman/straight/straight/asian",
          "Man/sideways/upwards/asian",
          "Woman/sideways/upwards/asian",
          "Man/slightly_turned/upwards/asian",
          "Woman/slightly_turned/upwards/asian",
          "Man/straight/upwards/asian",
          "Woman/straight/upwards/asian",
          "Man/sideways/downwards/black",
          "Woman/sideways/downwards/black",
          "Man/slightly_turned/downwards/black",
          "Woman/slightly_turned/downwards/black",
          "Man/straight/downwards/black",
          "Woman/straight/downwards/black",
          "Man/sideways/slightly_downwards/black",
          "Woman/sideways/slightly_downwards/black",
          "Man/slightly_turned/slightly_downwards/black",
          "Woman/slightly_turned/slightly_downwards/black",
          "Man/straight/slightly_downwards/black",
          "Woman/straight/slightly_downwards/black",
          "Man/sideways/slightly_upwards/black",
          "Woman/sideways/slightly_upwards/black",
          "Man/slightly_turned/slightly_upwards/black",
          "Woman/slightly_turned/slightly_upwards/black",
          "Man/straight/slightly_upwards/black",
          "Woman/straight/slightly_upwards/black",
          "Man/sideways/straight/black",
          "Woman/sideways/straight/black",
          "Man/slightly_turned/straight/black",
          "Woman/slightly_turned/straight/black",
          "Man/straight/straight/black",
          "Woman/straight/straight/black",
          "Man/sideways/upwards/black",
          "Woman/sideways/upwards/black",
          "Man/slightly_turned/upwards/black",
          "Woman/slightly_turned/upwards/black",
          "Man/straight/upwards/black",
          "Woman/straight/upwards/black",
          "Man/sideways/downwards/indian",
          "Woman/sideways/downwards/indian",
          "Man/slightly_turned/downwards/indian",
          "Woman/slightly_turned/downwards/indian",
          "Man/straight/downwards/indian",
          "Woman/straight/downwards/indian",
          "Man/sideways/slightly_downwards/indian",
          "Woman/sideways/slightly_downwards/indian",
          "Man/slightly_turned/slightly_downwards/indian",
          "Woman/slightly_turned/slightly_downwards/indian",
          "Man/straight/slightly_downwards/indian",
          "Woman/straight/slightly_downwards/indian",
          "Man/sideways/slightly_upwards/indian",
          "Woman/sideways/slightly_upwards/indian",
          "Man/slightly_turned/slightly_upwards/indian",
          "Woman/slightly_turned/slightly_upwards/indian",
          "Man/straight/slightly_upwards/indian",
          "Woman/straight/slightly_upwards/indian",
          "Man/sideways/straight/indian",
          "Woman/sideways/straight/indian",
          "Man/slightly_turned/straight/indian",
          "Woman/slightly_turned/straight/indian",
          "Man/straight/straight/indian",
          "Woman/straight/straight/indian",
          "Man/sideways/upwards/indian",
          "Woman/sideways/upwards/indian",
          "Man/slightly_turned/upwards/indian",
          "Woman/slightly_turned/upwards/indian",
          "Man/straight/upwards/indian",
          "Woman/straight/upwards/indian",
          "Man/sideways/downwards/latino hispanic",
          "Woman/sideways/downwards/latino hispanic",
          "Man/slightly_turned/downwards/latino hispanic",
          "Woman/slightly_turned/downwards/latino hispanic",
          "Man/straight/downwards/latino hispanic",
          "Woman/straight/downwards/latino hispanic",
          "Man/sideways/slightly_downwards/latino hispanic",
          "Woman/sideways/slightly_downwards/latino hispanic",
          "Man/slightly_turned/slightly_downwards/latino hispanic",
          "Woman/slightly_turned/slightly_downwards/latino hispanic",
          "Man/straight/slightly_downwards/latino hispanic",
          "Woman/straight/slightly_downwards/latino hispanic",
          "Man/sideways/slightly_upwards/latino hispanic",
          "Woman/sideways/slightly_upwards/latino hispanic",
          "Man/slightly_turned/slightly_upwards/latino hispanic",
          "Woman/slightly_turned/slightly_upwards/latino hispanic",
          "Man/straight/slightly_upwards/latino hispanic",
          "Woman/straight/slightly_upwards/latino hispanic",
          "Man/sideways/straight/latino hispanic",
          "Woman/sideways/straight/latino hispanic",
          "Man/slightly_turned/straight/latino hispanic",
          "Woman/slightly_turned/straight/latino hispanic",
          "Man/straight/straight/latino hispanic",
          "Woman/straight/straight/latino hispanic",
          "Man/straight/upwards/latino hispanic",
          "Woman/straight/upwards/latino hispanic",
          "Man/sideways/downwards/middle eastern",
          "Woman/sideways/downwards/middle eastern",
          "Man/slightly_turned/downwards/middle eastern",
          "Woman/slightly_turned/downwards/middle eastern",
          "Man/straight/downwards/middle eastern",
          "Woman/straight/downwards/middle eastern",
          "Man/sideways/slightly_downwards/middle eastern",
          "Man/slightly_turned/slightly_downwards/middle eastern",
          "Woman/slightly_turned/slightly_downwards/middle eastern",
          "Man/straight/slightly_downwards/middle eastern",
          "Woman/straight/slightly_downwards/middle eastern",
          "Man/sideways/slightly_upwards/middle eastern",
          "Man/slightly_turned/slightly_upwards/middle eastern",
          "Man/straight/slightly_upwards/middle eastern",
          "Woman/straight/slightly_upwards/middle eastern",
          "Woman/sideways/straight/middle eastern",
          "Man/slightly_turned/straight/middle eastern",
          "Woman/slightly_turned/straight/middle eastern",
          "Man/straight/straight/middle eastern",
          "Woman/straight/straight/middle eastern",
          "Man/straight/upwards/middle eastern",
          "Man/sideways/downwards/white",
          "Woman/sideways/downwards/white",
          "Man/slightly_turned/downwards/white",
          "Woman/slightly_turned/downwards/white",
          "Man/straight/downwards/white",
          "Woman/straight/downwards/white",
          "Man/sideways/slightly_downwards/white",
          "Woman/sideways/slightly_downwards/white",
          "Man/slightly_turned/slightly_downwards/white",
          "Woman/slightly_turned/slightly_downwards/white",
          "Man/straight/slightly_downwards/white",
          "Woman/straight/slightly_downwards/white",
          "Man/sideways/slightly_upwards/white",
          "Woman/sideways/slightly_upwards/white",
          "Man/slightly_turned/slightly_upwards/white",
          "Woman/slightly_turned/slightly_upwards/white",
          "Man/straight/slightly_upwards/white",
          "Woman/straight/slightly_upwards/white",
          "Man/sideways/straight/white",
          "Woman/sideways/straight/white",
          "Man/slightly_turned/straight/white",
          "Woman/slightly_turned/straight/white",
          "Man/straight/straight/white",
          "Woman/straight/straight/white",
          "Man/sideways/upwards/white",
          "Woman/sideways/upwards/white",
          "Man/slightly_turned/upwards/white",
          "Woman/slightly_turned/upwards/white",
          "Man/straight/upwards/white",
          "Woman/straight/upwards/white",
          "Man/sideways/downwards",
          "Woman/sideways/downwards",
          "Man/slightly_turned/downwards",
          "Woman/slightly_turned/downwards",
          "Man/straight/downwards",
          "Woman/straight/downwards",
          "Man/sideways/slightly_downwards",
          "Woman/sideways/slightly_downwards",
          "Man/slightly_turned/slightly_downwards",
          "Woman/slightly_turned/slightly_downwards",
          "Man/straight/slightly_downwards",
          "Woman/straight/slightly_downwards",
          "Man/sideways/slightly_upwards",
          "Woman/sideways/slightly_upwards",
          "Man/slightly_turned/slightly_upwards",
          "Woman/slightly_turned/slightly_upwards",
          "Man/straight/slightly_upwards",
          "Woman/straight/slightly_upwards",
          "Man/sideways/straight",
          "Woman/sideways/straight",
          "Man/slightly_turned/straight",
          "Woman/slightly_turned/straight",
          "Man/straight/straight",
          "Woman/straight/straight",
          "Man/sideways/upwards",
          "Woman/sideways/upwards",
          "Man/slightly_turned/upwards",
          "Woman/slightly_turned/upwards",
          "Man/straight/upwards",
          "Woman/straight/upwards",
          "Man/sideways",
          "Woman/sideways",
          "Man/slightly_turned",
          "Woman/slightly_turned",
          "Man/straight",
          "Woman/straight",
          "Man",
          "Woman"
         ],
         "labels": [
          "asian",
          "asian",
          "asian",
          "asian",
          "asian",
          "asian",
          "asian",
          "asian",
          "asian",
          "asian",
          "asian",
          "asian",
          "asian",
          "asian",
          "asian",
          "asian",
          "asian",
          "asian",
          "asian",
          "asian",
          "asian",
          "asian",
          "asian",
          "asian",
          "asian",
          "asian",
          "asian",
          "asian",
          "asian",
          "asian",
          "black",
          "black",
          "black",
          "black",
          "black",
          "black",
          "black",
          "black",
          "black",
          "black",
          "black",
          "black",
          "black",
          "black",
          "black",
          "black",
          "black",
          "black",
          "black",
          "black",
          "black",
          "black",
          "black",
          "black",
          "black",
          "black",
          "black",
          "black",
          "black",
          "black",
          "indian",
          "indian",
          "indian",
          "indian",
          "indian",
          "indian",
          "indian",
          "indian",
          "indian",
          "indian",
          "indian",
          "indian",
          "indian",
          "indian",
          "indian",
          "indian",
          "indian",
          "indian",
          "indian",
          "indian",
          "indian",
          "indian",
          "indian",
          "indian",
          "indian",
          "indian",
          "indian",
          "indian",
          "indian",
          "indian",
          "latino hispanic",
          "latino hispanic",
          "latino hispanic",
          "latino hispanic",
          "latino hispanic",
          "latino hispanic",
          "latino hispanic",
          "latino hispanic",
          "latino hispanic",
          "latino hispanic",
          "latino hispanic",
          "latino hispanic",
          "latino hispanic",
          "latino hispanic",
          "latino hispanic",
          "latino hispanic",
          "latino hispanic",
          "latino hispanic",
          "latino hispanic",
          "latino hispanic",
          "latino hispanic",
          "latino hispanic",
          "latino hispanic",
          "latino hispanic",
          "latino hispanic",
          "latino hispanic",
          "middle eastern",
          "middle eastern",
          "middle eastern",
          "middle eastern",
          "middle eastern",
          "middle eastern",
          "middle eastern",
          "middle eastern",
          "middle eastern",
          "middle eastern",
          "middle eastern",
          "middle eastern",
          "middle eastern",
          "middle eastern",
          "middle eastern",
          "middle eastern",
          "middle eastern",
          "middle eastern",
          "middle eastern",
          "middle eastern",
          "middle eastern",
          "white",
          "white",
          "white",
          "white",
          "white",
          "white",
          "white",
          "white",
          "white",
          "white",
          "white",
          "white",
          "white",
          "white",
          "white",
          "white",
          "white",
          "white",
          "white",
          "white",
          "white",
          "white",
          "white",
          "white",
          "white",
          "white",
          "white",
          "white",
          "white",
          "white",
          "downwards",
          "downwards",
          "downwards",
          "downwards",
          "downwards",
          "downwards",
          "slightly_downwards",
          "slightly_downwards",
          "slightly_downwards",
          "slightly_downwards",
          "slightly_downwards",
          "slightly_downwards",
          "slightly_upwards",
          "slightly_upwards",
          "slightly_upwards",
          "slightly_upwards",
          "slightly_upwards",
          "slightly_upwards",
          "straight",
          "straight",
          "straight",
          "straight",
          "straight",
          "straight",
          "upwards",
          "upwards",
          "upwards",
          "upwards",
          "upwards",
          "upwards",
          "sideways",
          "sideways",
          "slightly_turned",
          "slightly_turned",
          "straight",
          "straight",
          "Man",
          "Woman"
         ],
         "marker": {
          "coloraxis": "coloraxis",
          "colors": [
           0.5349761549592503,
           0.49194151724116963,
           0.5483647281624529,
           0.5676667399903186,
           0.6116918350869224,
           0.5540686652226915,
           0.543790274275885,
           0.5672490962987226,
           0.574746836693351,
           0.5275653478882396,
           0.5457513503913385,
           0.5125748762874905,
           0.4611365669043092,
           0.49272921631582933,
           0.34429915821148344,
           0.3580486587415625,
           0.35049874721414387,
           0.33875233906117025,
           0.5297956882458141,
           0.5504401749125695,
           0.4444671452324194,
           0.41987667032389,
           0.48014695821096326,
           0.3981356396156634,
           0.44954277103189555,
           0.4441893749083597,
           0.4444154679606169,
           0.36813344719939967,
           0.24848163821687033,
           0.2587139922510924,
           0.6030058891794726,
           0.5285727093170922,
           0.6707514652752321,
           0.5793102364288197,
           0.7093640802024814,
           0.5900630584931674,
           0.6406186069633779,
           0.49440339224791713,
           0.6742925915430777,
           0.5888435133245481,
           0.698343737945444,
           0.6020273587905357,
           0.57947725054114,
           0.49908560431605037,
           0.62396568591661,
           0.5345062841901208,
           0.67390880829847,
           0.5570816056120481,
           0.6026012381658905,
           0.5359531912026337,
           0.6591369818653887,
           0.5673906371904017,
           0.6879061765037302,
           0.586608160902093,
           0.5670226043105095,
           0.5081669053657084,
           0.6153034144069311,
           0.5225861945129443,
           0.6802981235868469,
           0.5186291042341663,
           0.561297701025814,
           0.5260710064829447,
           0.6156962469592001,
           0.5976103257230251,
           0.6996955252852033,
           0.6235223278275095,
           0.5750911901062581,
           0.5558168646079443,
           0.6869977176633184,
           0.5882880627139555,
           0.7094640817381954,
           0.6284453338552312,
           0.5664640846056166,
           0.5181739599251846,
           0.5596610827448721,
           0.5270190185918266,
           0.6358983231647876,
           0.5575916753963664,
           0.5565759564894144,
           0.5354618108025482,
           0.6716225810783254,
           0.5782495972021442,
           0.6757070658306813,
           0.5798904752767992,
           0.5983076913693123,
           0.5031736582119999,
           0.49829411460779965,
           0.5468253676177808,
           0.5534283064356885,
           0.4467202815677959,
           0.7785998179804104,
           0.6755300019056985,
           0.7656521798108948,
           0.644209961117762,
           0.7282362629365786,
           0.6664923086012918,
           0.7990767490775841,
           0.7361156088033506,
           0.7532953999497275,
           0.6737280405445628,
           0.7772469982921517,
           0.7033355647159246,
           0.7536449988774883,
           0.3001497801683213,
           0.6902144555329315,
           0.4722031531046896,
           0.6278861793138633,
           0.5510270019682765,
           0.36561808697473996,
           0.6958230660457183,
           0.6836485782435705,
           0.6929023724403828,
           0.6624222880147311,
           0.660325959856018,
           0.5517191563387316,
           0.2762586403325267,
           0.7568097916108607,
           0.6906378841348637,
           0.7371599617501747,
           0.4639258400174629,
           0.7865164043385591,
           0.7139235063827738,
           0.8315177315535794,
           0.7245538286685965,
           0.7424997756104013,
           0.8084719700168613,
           0.6592639073270953,
           0.7589864372299382,
           0.7874743843112135,
           0.709568214889106,
           0.838088793063914,
           0.6694574020654934,
           0.7557703401637396,
           0.40533323472915717,
           0.7390991121563887,
           0.6581249228720392,
           0.6928686004433965,
           0.623775782285343,
           0.6330764717337988,
           0.727991880314837,
           0.6845829710179001,
           0.772074999020662,
           0.7075973351553632,
           0.674247603348898,
           0.6420021330774188,
           0.7358663608546944,
           0.6709638505312959,
           0.7627835565142707,
           0.6952926569428003,
           0.6806838694690037,
           0.6106384328598858,
           0.6577102892852418,
           0.6039396524198893,
           0.6984646377138026,
           0.5665750021823832,
           0.6665693370443437,
           0.6367341759815057,
           0.7183148898229099,
           0.6629472791934796,
           0.727737348422006,
           0.6619324098101461,
           0.7231278492228828,
           0.6670871846513068,
           0.6684468034185148,
           0.5723619600331209,
           0.6014370674736967,
           0.4831258868100341,
           0.5998530148602601,
           0.5542091467422738,
           0.6835293351367611,
           0.623930593996621,
           0.7373045242675487,
           0.6506132006270481,
           0.6335330325394208,
           0.5682183230421536,
           0.6940299946873899,
           0.6125680715333769,
           0.715229829921185,
           0.641585459612254,
           0.5899587824024016,
           0.5246394387261164,
           0.5643613466256,
           0.5185420010394687,
           0.6182944855066806,
           0.5053635525574346,
           0.6037774653894235,
           0.5762639429998384,
           0.6598178477511958,
           0.5814368476631462,
           0.6675818977408494,
           0.5818434619787434,
           0.6121712824966589,
           0.5469660307996925,
           0.5736020044312401,
           0.5078173837614,
           0.5389018770066248,
           0.41535263253741467,
           0.6070910846020983,
           0.5578051391855255,
           0.6575164579447612,
           0.5956513938718331,
           0.6849743080415108,
           0.6081965537107297,
           0.6731235979090946,
           0.5998193964283159
          ]
         },
         "name": "",
         "parents": [
          "Man/sideways/downwards",
          "Woman/sideways/downwards",
          "Man/slightly_turned/downwards",
          "Woman/slightly_turned/downwards",
          "Man/straight/downwards",
          "Woman/straight/downwards",
          "Man/sideways/slightly_downwards",
          "Woman/sideways/slightly_downwards",
          "Man/slightly_turned/slightly_downwards",
          "Woman/slightly_turned/slightly_downwards",
          "Man/straight/slightly_downwards",
          "Woman/straight/slightly_downwards",
          "Man/sideways/slightly_upwards",
          "Woman/sideways/slightly_upwards",
          "Man/slightly_turned/slightly_upwards",
          "Woman/slightly_turned/slightly_upwards",
          "Man/straight/slightly_upwards",
          "Woman/straight/slightly_upwards",
          "Man/sideways/straight",
          "Woman/sideways/straight",
          "Man/slightly_turned/straight",
          "Woman/slightly_turned/straight",
          "Man/straight/straight",
          "Woman/straight/straight",
          "Man/sideways/upwards",
          "Woman/sideways/upwards",
          "Man/slightly_turned/upwards",
          "Woman/slightly_turned/upwards",
          "Man/straight/upwards",
          "Woman/straight/upwards",
          "Man/sideways/downwards",
          "Woman/sideways/downwards",
          "Man/slightly_turned/downwards",
          "Woman/slightly_turned/downwards",
          "Man/straight/downwards",
          "Woman/straight/downwards",
          "Man/sideways/slightly_downwards",
          "Woman/sideways/slightly_downwards",
          "Man/slightly_turned/slightly_downwards",
          "Woman/slightly_turned/slightly_downwards",
          "Man/straight/slightly_downwards",
          "Woman/straight/slightly_downwards",
          "Man/sideways/slightly_upwards",
          "Woman/sideways/slightly_upwards",
          "Man/slightly_turned/slightly_upwards",
          "Woman/slightly_turned/slightly_upwards",
          "Man/straight/slightly_upwards",
          "Woman/straight/slightly_upwards",
          "Man/sideways/straight",
          "Woman/sideways/straight",
          "Man/slightly_turned/straight",
          "Woman/slightly_turned/straight",
          "Man/straight/straight",
          "Woman/straight/straight",
          "Man/sideways/upwards",
          "Woman/sideways/upwards",
          "Man/slightly_turned/upwards",
          "Woman/slightly_turned/upwards",
          "Man/straight/upwards",
          "Woman/straight/upwards",
          "Man/sideways/downwards",
          "Woman/sideways/downwards",
          "Man/slightly_turned/downwards",
          "Woman/slightly_turned/downwards",
          "Man/straight/downwards",
          "Woman/straight/downwards",
          "Man/sideways/slightly_downwards",
          "Woman/sideways/slightly_downwards",
          "Man/slightly_turned/slightly_downwards",
          "Woman/slightly_turned/slightly_downwards",
          "Man/straight/slightly_downwards",
          "Woman/straight/slightly_downwards",
          "Man/sideways/slightly_upwards",
          "Woman/sideways/slightly_upwards",
          "Man/slightly_turned/slightly_upwards",
          "Woman/slightly_turned/slightly_upwards",
          "Man/straight/slightly_upwards",
          "Woman/straight/slightly_upwards",
          "Man/sideways/straight",
          "Woman/sideways/straight",
          "Man/slightly_turned/straight",
          "Woman/slightly_turned/straight",
          "Man/straight/straight",
          "Woman/straight/straight",
          "Man/sideways/upwards",
          "Woman/sideways/upwards",
          "Man/slightly_turned/upwards",
          "Woman/slightly_turned/upwards",
          "Man/straight/upwards",
          "Woman/straight/upwards",
          "Man/sideways/downwards",
          "Woman/sideways/downwards",
          "Man/slightly_turned/downwards",
          "Woman/slightly_turned/downwards",
          "Man/straight/downwards",
          "Woman/straight/downwards",
          "Man/sideways/slightly_downwards",
          "Woman/sideways/slightly_downwards",
          "Man/slightly_turned/slightly_downwards",
          "Woman/slightly_turned/slightly_downwards",
          "Man/straight/slightly_downwards",
          "Woman/straight/slightly_downwards",
          "Man/sideways/slightly_upwards",
          "Woman/sideways/slightly_upwards",
          "Man/slightly_turned/slightly_upwards",
          "Woman/slightly_turned/slightly_upwards",
          "Man/straight/slightly_upwards",
          "Woman/straight/slightly_upwards",
          "Man/sideways/straight",
          "Woman/sideways/straight",
          "Man/slightly_turned/straight",
          "Woman/slightly_turned/straight",
          "Man/straight/straight",
          "Woman/straight/straight",
          "Man/straight/upwards",
          "Woman/straight/upwards",
          "Man/sideways/downwards",
          "Woman/sideways/downwards",
          "Man/slightly_turned/downwards",
          "Woman/slightly_turned/downwards",
          "Man/straight/downwards",
          "Woman/straight/downwards",
          "Man/sideways/slightly_downwards",
          "Man/slightly_turned/slightly_downwards",
          "Woman/slightly_turned/slightly_downwards",
          "Man/straight/slightly_downwards",
          "Woman/straight/slightly_downwards",
          "Man/sideways/slightly_upwards",
          "Man/slightly_turned/slightly_upwards",
          "Man/straight/slightly_upwards",
          "Woman/straight/slightly_upwards",
          "Woman/sideways/straight",
          "Man/slightly_turned/straight",
          "Woman/slightly_turned/straight",
          "Man/straight/straight",
          "Woman/straight/straight",
          "Man/straight/upwards",
          "Man/sideways/downwards",
          "Woman/sideways/downwards",
          "Man/slightly_turned/downwards",
          "Woman/slightly_turned/downwards",
          "Man/straight/downwards",
          "Woman/straight/downwards",
          "Man/sideways/slightly_downwards",
          "Woman/sideways/slightly_downwards",
          "Man/slightly_turned/slightly_downwards",
          "Woman/slightly_turned/slightly_downwards",
          "Man/straight/slightly_downwards",
          "Woman/straight/slightly_downwards",
          "Man/sideways/slightly_upwards",
          "Woman/sideways/slightly_upwards",
          "Man/slightly_turned/slightly_upwards",
          "Woman/slightly_turned/slightly_upwards",
          "Man/straight/slightly_upwards",
          "Woman/straight/slightly_upwards",
          "Man/sideways/straight",
          "Woman/sideways/straight",
          "Man/slightly_turned/straight",
          "Woman/slightly_turned/straight",
          "Man/straight/straight",
          "Woman/straight/straight",
          "Man/sideways/upwards",
          "Woman/sideways/upwards",
          "Man/slightly_turned/upwards",
          "Woman/slightly_turned/upwards",
          "Man/straight/upwards",
          "Woman/straight/upwards",
          "Man/sideways",
          "Woman/sideways",
          "Man/slightly_turned",
          "Woman/slightly_turned",
          "Man/straight",
          "Woman/straight",
          "Man/sideways",
          "Woman/sideways",
          "Man/slightly_turned",
          "Woman/slightly_turned",
          "Man/straight",
          "Woman/straight",
          "Man/sideways",
          "Woman/sideways",
          "Man/slightly_turned",
          "Woman/slightly_turned",
          "Man/straight",
          "Woman/straight",
          "Man/sideways",
          "Woman/sideways",
          "Man/slightly_turned",
          "Woman/slightly_turned",
          "Man/straight",
          "Woman/straight",
          "Man/sideways",
          "Woman/sideways",
          "Man/slightly_turned",
          "Woman/slightly_turned",
          "Man/straight",
          "Woman/straight",
          "Man",
          "Woman",
          "Man",
          "Woman",
          "Man",
          "Woman",
          "",
          ""
         ],
         "type": "sunburst",
         "values": [
          35,
          82,
          77,
          169,
          255,
          463,
          29,
          46,
          73,
          104,
          285,
          270,
          33,
          40,
          62,
          54,
          199,
          199,
          53,
          48,
          89,
          103,
          425,
          376,
          4,
          13,
          21,
          26,
          100,
          88,
          64,
          146,
          104,
          215,
          400,
          631,
          44,
          79,
          110,
          94,
          379,
          282,
          46,
          59,
          63,
          48,
          224,
          112,
          82,
          94,
          157,
          105,
          493,
          275,
          20,
          28,
          31,
          20,
          116,
          51,
          50,
          104,
          82,
          177,
          287,
          339,
          45,
          52,
          98,
          93,
          373,
          227,
          40,
          32,
          79,
          61,
          308,
          137,
          57,
          53,
          157,
          105,
          557,
          284,
          16,
          16,
          29,
          21,
          117,
          50,
          2,
          9,
          9,
          27,
          43,
          96,
          2,
          5,
          9,
          12,
          39,
          39,
          1,
          2,
          5,
          1,
          18,
          13,
          4,
          7,
          9,
          10,
          50,
          34,
          5,
          9,
          2,
          2,
          7,
          2,
          32,
          21,
          2,
          12,
          3,
          34,
          6,
          2,
          3,
          4,
          1,
          2,
          8,
          2,
          25,
          6,
          2,
          139,
          132,
          364,
          388,
          1519,
          1566,
          103,
          77,
          255,
          209,
          1078,
          865,
          57,
          40,
          96,
          87,
          435,
          315,
          122,
          102,
          281,
          217,
          1057,
          814,
          16,
          26,
          38,
          39,
          169,
          121,
          292,
          475,
          643,
          978,
          2536,
          3116,
          225,
          259,
          557,
          515,
          2188,
          1689,
          179,
          173,
          308,
          251,
          1188,
          777,
          318,
          306,
          701,
          542,
          2607,
          1789,
          56,
          83,
          119,
          106,
          509,
          319,
          1070,
          1296,
          2328,
          2392,
          9028,
          7690,
          12426,
          11378
         ]
        }
       ],
       "layout": {
        "coloraxis": {
         "cmax": 1,
         "cmin": 0,
         "colorbar": {
          "title": {
           "text": "Quality"
          }
         },
         "colorscale": [
          [
           0,
           "#440154"
          ],
          [
           0.1111111111111111,
           "#482878"
          ],
          [
           0.2222222222222222,
           "#3e4989"
          ],
          [
           0.3333333333333333,
           "#31688e"
          ],
          [
           0.4444444444444444,
           "#26828e"
          ],
          [
           0.5555555555555556,
           "#1f9e89"
          ],
          [
           0.6666666666666666,
           "#35b779"
          ],
          [
           0.7777777777777778,
           "#6ece58"
          ],
          [
           0.8888888888888888,
           "#b5de2b"
          ],
          [
           1,
           "#fde725"
          ]
         ]
        },
        "legend": {
         "tracegroupgap": 0
        },
        "template": {
         "data": {
          "bar": [
           {
            "error_x": {
             "color": "#2a3f5f"
            },
            "error_y": {
             "color": "#2a3f5f"
            },
            "marker": {
             "line": {
              "color": "#E5ECF6",
              "width": 0.5
             },
             "pattern": {
              "fillmode": "overlay",
              "size": 10,
              "solidity": 0.2
             }
            },
            "type": "bar"
           }
          ],
          "barpolar": [
           {
            "marker": {
             "line": {
              "color": "#E5ECF6",
              "width": 0.5
             },
             "pattern": {
              "fillmode": "overlay",
              "size": 10,
              "solidity": 0.2
             }
            },
            "type": "barpolar"
           }
          ],
          "carpet": [
           {
            "aaxis": {
             "endlinecolor": "#2a3f5f",
             "gridcolor": "white",
             "linecolor": "white",
             "minorgridcolor": "white",
             "startlinecolor": "#2a3f5f"
            },
            "baxis": {
             "endlinecolor": "#2a3f5f",
             "gridcolor": "white",
             "linecolor": "white",
             "minorgridcolor": "white",
             "startlinecolor": "#2a3f5f"
            },
            "type": "carpet"
           }
          ],
          "choropleth": [
           {
            "colorbar": {
             "outlinewidth": 0,
             "ticks": ""
            },
            "type": "choropleth"
           }
          ],
          "contour": [
           {
            "colorbar": {
             "outlinewidth": 0,
             "ticks": ""
            },
            "colorscale": [
             [
              0,
              "#0d0887"
             ],
             [
              0.1111111111111111,
              "#46039f"
             ],
             [
              0.2222222222222222,
              "#7201a8"
             ],
             [
              0.3333333333333333,
              "#9c179e"
             ],
             [
              0.4444444444444444,
              "#bd3786"
             ],
             [
              0.5555555555555556,
              "#d8576b"
             ],
             [
              0.6666666666666666,
              "#ed7953"
             ],
             [
              0.7777777777777778,
              "#fb9f3a"
             ],
             [
              0.8888888888888888,
              "#fdca26"
             ],
             [
              1,
              "#f0f921"
             ]
            ],
            "type": "contour"
           }
          ],
          "contourcarpet": [
           {
            "colorbar": {
             "outlinewidth": 0,
             "ticks": ""
            },
            "type": "contourcarpet"
           }
          ],
          "heatmap": [
           {
            "colorbar": {
             "outlinewidth": 0,
             "ticks": ""
            },
            "colorscale": [
             [
              0,
              "#0d0887"
             ],
             [
              0.1111111111111111,
              "#46039f"
             ],
             [
              0.2222222222222222,
              "#7201a8"
             ],
             [
              0.3333333333333333,
              "#9c179e"
             ],
             [
              0.4444444444444444,
              "#bd3786"
             ],
             [
              0.5555555555555556,
              "#d8576b"
             ],
             [
              0.6666666666666666,
              "#ed7953"
             ],
             [
              0.7777777777777778,
              "#fb9f3a"
             ],
             [
              0.8888888888888888,
              "#fdca26"
             ],
             [
              1,
              "#f0f921"
             ]
            ],
            "type": "heatmap"
           }
          ],
          "heatmapgl": [
           {
            "colorbar": {
             "outlinewidth": 0,
             "ticks": ""
            },
            "colorscale": [
             [
              0,
              "#0d0887"
             ],
             [
              0.1111111111111111,
              "#46039f"
             ],
             [
              0.2222222222222222,
              "#7201a8"
             ],
             [
              0.3333333333333333,
              "#9c179e"
             ],
             [
              0.4444444444444444,
              "#bd3786"
             ],
             [
              0.5555555555555556,
              "#d8576b"
             ],
             [
              0.6666666666666666,
              "#ed7953"
             ],
             [
              0.7777777777777778,
              "#fb9f3a"
             ],
             [
              0.8888888888888888,
              "#fdca26"
             ],
             [
              1,
              "#f0f921"
             ]
            ],
            "type": "heatmapgl"
           }
          ],
          "histogram": [
           {
            "marker": {
             "pattern": {
              "fillmode": "overlay",
              "size": 10,
              "solidity": 0.2
             }
            },
            "type": "histogram"
           }
          ],
          "histogram2d": [
           {
            "colorbar": {
             "outlinewidth": 0,
             "ticks": ""
            },
            "colorscale": [
             [
              0,
              "#0d0887"
             ],
             [
              0.1111111111111111,
              "#46039f"
             ],
             [
              0.2222222222222222,
              "#7201a8"
             ],
             [
              0.3333333333333333,
              "#9c179e"
             ],
             [
              0.4444444444444444,
              "#bd3786"
             ],
             [
              0.5555555555555556,
              "#d8576b"
             ],
             [
              0.6666666666666666,
              "#ed7953"
             ],
             [
              0.7777777777777778,
              "#fb9f3a"
             ],
             [
              0.8888888888888888,
              "#fdca26"
             ],
             [
              1,
              "#f0f921"
             ]
            ],
            "type": "histogram2d"
           }
          ],
          "histogram2dcontour": [
           {
            "colorbar": {
             "outlinewidth": 0,
             "ticks": ""
            },
            "colorscale": [
             [
              0,
              "#0d0887"
             ],
             [
              0.1111111111111111,
              "#46039f"
             ],
             [
              0.2222222222222222,
              "#7201a8"
             ],
             [
              0.3333333333333333,
              "#9c179e"
             ],
             [
              0.4444444444444444,
              "#bd3786"
             ],
             [
              0.5555555555555556,
              "#d8576b"
             ],
             [
              0.6666666666666666,
              "#ed7953"
             ],
             [
              0.7777777777777778,
              "#fb9f3a"
             ],
             [
              0.8888888888888888,
              "#fdca26"
             ],
             [
              1,
              "#f0f921"
             ]
            ],
            "type": "histogram2dcontour"
           }
          ],
          "mesh3d": [
           {
            "colorbar": {
             "outlinewidth": 0,
             "ticks": ""
            },
            "type": "mesh3d"
           }
          ],
          "parcoords": [
           {
            "line": {
             "colorbar": {
              "outlinewidth": 0,
              "ticks": ""
             }
            },
            "type": "parcoords"
           }
          ],
          "pie": [
           {
            "automargin": true,
            "type": "pie"
           }
          ],
          "scatter": [
           {
            "fillpattern": {
             "fillmode": "overlay",
             "size": 10,
             "solidity": 0.2
            },
            "type": "scatter"
           }
          ],
          "scatter3d": [
           {
            "line": {
             "colorbar": {
              "outlinewidth": 0,
              "ticks": ""
             }
            },
            "marker": {
             "colorbar": {
              "outlinewidth": 0,
              "ticks": ""
             }
            },
            "type": "scatter3d"
           }
          ],
          "scattercarpet": [
           {
            "marker": {
             "colorbar": {
              "outlinewidth": 0,
              "ticks": ""
             }
            },
            "type": "scattercarpet"
           }
          ],
          "scattergeo": [
           {
            "marker": {
             "colorbar": {
              "outlinewidth": 0,
              "ticks": ""
             }
            },
            "type": "scattergeo"
           }
          ],
          "scattergl": [
           {
            "marker": {
             "colorbar": {
              "outlinewidth": 0,
              "ticks": ""
             }
            },
            "type": "scattergl"
           }
          ],
          "scattermapbox": [
           {
            "marker": {
             "colorbar": {
              "outlinewidth": 0,
              "ticks": ""
             }
            },
            "type": "scattermapbox"
           }
          ],
          "scatterpolar": [
           {
            "marker": {
             "colorbar": {
              "outlinewidth": 0,
              "ticks": ""
             }
            },
            "type": "scatterpolar"
           }
          ],
          "scatterpolargl": [
           {
            "marker": {
             "colorbar": {
              "outlinewidth": 0,
              "ticks": ""
             }
            },
            "type": "scatterpolargl"
           }
          ],
          "scatterternary": [
           {
            "marker": {
             "colorbar": {
              "outlinewidth": 0,
              "ticks": ""
             }
            },
            "type": "scatterternary"
           }
          ],
          "surface": [
           {
            "colorbar": {
             "outlinewidth": 0,
             "ticks": ""
            },
            "colorscale": [
             [
              0,
              "#0d0887"
             ],
             [
              0.1111111111111111,
              "#46039f"
             ],
             [
              0.2222222222222222,
              "#7201a8"
             ],
             [
              0.3333333333333333,
              "#9c179e"
             ],
             [
              0.4444444444444444,
              "#bd3786"
             ],
             [
              0.5555555555555556,
              "#d8576b"
             ],
             [
              0.6666666666666666,
              "#ed7953"
             ],
             [
              0.7777777777777778,
              "#fb9f3a"
             ],
             [
              0.8888888888888888,
              "#fdca26"
             ],
             [
              1,
              "#f0f921"
             ]
            ],
            "type": "surface"
           }
          ],
          "table": [
           {
            "cells": {
             "fill": {
              "color": "#EBF0F8"
             },
             "line": {
              "color": "white"
             }
            },
            "header": {
             "fill": {
              "color": "#C8D4E3"
             },
             "line": {
              "color": "white"
             }
            },
            "type": "table"
           }
          ]
         },
         "layout": {
          "annotationdefaults": {
           "arrowcolor": "#2a3f5f",
           "arrowhead": 0,
           "arrowwidth": 1
          },
          "autotypenumbers": "strict",
          "coloraxis": {
           "colorbar": {
            "outlinewidth": 0,
            "ticks": ""
           }
          },
          "colorscale": {
           "diverging": [
            [
             0,
             "#8e0152"
            ],
            [
             0.1,
             "#c51b7d"
            ],
            [
             0.2,
             "#de77ae"
            ],
            [
             0.3,
             "#f1b6da"
            ],
            [
             0.4,
             "#fde0ef"
            ],
            [
             0.5,
             "#f7f7f7"
            ],
            [
             0.6,
             "#e6f5d0"
            ],
            [
             0.7,
             "#b8e186"
            ],
            [
             0.8,
             "#7fbc41"
            ],
            [
             0.9,
             "#4d9221"
            ],
            [
             1,
             "#276419"
            ]
           ],
           "sequential": [
            [
             0,
             "#0d0887"
            ],
            [
             0.1111111111111111,
             "#46039f"
            ],
            [
             0.2222222222222222,
             "#7201a8"
            ],
            [
             0.3333333333333333,
             "#9c179e"
            ],
            [
             0.4444444444444444,
             "#bd3786"
            ],
            [
             0.5555555555555556,
             "#d8576b"
            ],
            [
             0.6666666666666666,
             "#ed7953"
            ],
            [
             0.7777777777777778,
             "#fb9f3a"
            ],
            [
             0.8888888888888888,
             "#fdca26"
            ],
            [
             1,
             "#f0f921"
            ]
           ],
           "sequentialminus": [
            [
             0,
             "#0d0887"
            ],
            [
             0.1111111111111111,
             "#46039f"
            ],
            [
             0.2222222222222222,
             "#7201a8"
            ],
            [
             0.3333333333333333,
             "#9c179e"
            ],
            [
             0.4444444444444444,
             "#bd3786"
            ],
            [
             0.5555555555555556,
             "#d8576b"
            ],
            [
             0.6666666666666666,
             "#ed7953"
            ],
            [
             0.7777777777777778,
             "#fb9f3a"
            ],
            [
             0.8888888888888888,
             "#fdca26"
            ],
            [
             1,
             "#f0f921"
            ]
           ]
          },
          "colorway": [
           "#636efa",
           "#EF553B",
           "#00cc96",
           "#ab63fa",
           "#FFA15A",
           "#19d3f3",
           "#FF6692",
           "#B6E880",
           "#FF97FF",
           "#FECB52"
          ],
          "font": {
           "color": "#2a3f5f"
          },
          "geo": {
           "bgcolor": "white",
           "lakecolor": "white",
           "landcolor": "#E5ECF6",
           "showlakes": true,
           "showland": true,
           "subunitcolor": "white"
          },
          "hoverlabel": {
           "align": "left"
          },
          "hovermode": "closest",
          "mapbox": {
           "style": "light"
          },
          "paper_bgcolor": "white",
          "plot_bgcolor": "#E5ECF6",
          "polar": {
           "angularaxis": {
            "gridcolor": "white",
            "linecolor": "white",
            "ticks": ""
           },
           "bgcolor": "#E5ECF6",
           "radialaxis": {
            "gridcolor": "white",
            "linecolor": "white",
            "ticks": ""
           }
          },
          "scene": {
           "xaxis": {
            "backgroundcolor": "#E5ECF6",
            "gridcolor": "white",
            "gridwidth": 2,
            "linecolor": "white",
            "showbackground": true,
            "ticks": "",
            "zerolinecolor": "white"
           },
           "yaxis": {
            "backgroundcolor": "#E5ECF6",
            "gridcolor": "white",
            "gridwidth": 2,
            "linecolor": "white",
            "showbackground": true,
            "ticks": "",
            "zerolinecolor": "white"
           },
           "zaxis": {
            "backgroundcolor": "#E5ECF6",
            "gridcolor": "white",
            "gridwidth": 2,
            "linecolor": "white",
            "showbackground": true,
            "ticks": "",
            "zerolinecolor": "white"
           }
          },
          "shapedefaults": {
           "line": {
            "color": "#2a3f5f"
           }
          },
          "ternary": {
           "aaxis": {
            "gridcolor": "white",
            "linecolor": "white",
            "ticks": ""
           },
           "baxis": {
            "gridcolor": "white",
            "linecolor": "white",
            "ticks": ""
           },
           "bgcolor": "#E5ECF6",
           "caxis": {
            "gridcolor": "white",
            "linecolor": "white",
            "ticks": ""
           }
          },
          "title": {
           "x": 0.05
          },
          "xaxis": {
           "automargin": true,
           "gridcolor": "white",
           "linecolor": "white",
           "ticks": "",
           "title": {
            "standoff": 15
           },
           "zerolinecolor": "white",
           "zerolinewidth": 2
          },
          "yaxis": {
           "automargin": true,
           "gridcolor": "white",
           "linecolor": "white",
           "ticks": "",
           "title": {
            "standoff": 15
           },
           "zerolinecolor": "white",
           "zerolinewidth": 2
          }
         }
        },
        "title": {
         "text": "UTKface, Model QMagFace"
        }
       }
      },
      "text/html": [
       "<div>                            <div id=\"cb2668f5-4722-4480-9793-d36556ad7169\" class=\"plotly-graph-div\" style=\"height:525px; width:100%;\"></div>            <script type=\"text/javascript\">                require([\"plotly\"], function(Plotly) {                    window.PLOTLYENV=window.PLOTLYENV || {};                                    if (document.getElementById(\"cb2668f5-4722-4480-9793-d36556ad7169\")) {                    Plotly.newPlot(                        \"cb2668f5-4722-4480-9793-d36556ad7169\",                        [{\"branchvalues\":\"total\",\"customdata\":[[0.5349761549592503],[0.49194151724116963],[0.5483647281624529],[0.5676667399903186],[0.6116918350869224],[0.5540686652226915],[0.543790274275885],[0.5672490962987226],[0.574746836693351],[0.5275653478882396],[0.5457513503913385],[0.5125748762874905],[0.4611365669043092],[0.49272921631582933],[0.34429915821148344],[0.3580486587415625],[0.35049874721414387],[0.33875233906117025],[0.5297956882458141],[0.5504401749125695],[0.4444671452324194],[0.41987667032389],[0.48014695821096326],[0.3981356396156634],[0.44954277103189555],[0.4441893749083597],[0.4444154679606169],[0.36813344719939967],[0.24848163821687033],[0.2587139922510924],[0.6030058891794726],[0.5285727093170922],[0.6707514652752321],[0.5793102364288197],[0.7093640802024814],[0.5900630584931674],[0.6406186069633779],[0.49440339224791713],[0.6742925915430777],[0.5888435133245481],[0.698343737945444],[0.6020273587905357],[0.57947725054114],[0.49908560431605037],[0.62396568591661],[0.5345062841901208],[0.67390880829847],[0.5570816056120481],[0.6026012381658905],[0.5359531912026337],[0.6591369818653887],[0.5673906371904017],[0.6879061765037302],[0.586608160902093],[0.5670226043105095],[0.5081669053657084],[0.6153034144069311],[0.5225861945129443],[0.6802981235868469],[0.5186291042341663],[0.561297701025814],[0.5260710064829447],[0.6156962469592001],[0.5976103257230251],[0.6996955252852033],[0.6235223278275095],[0.5750911901062581],[0.5558168646079443],[0.6869977176633184],[0.5882880627139555],[0.7094640817381954],[0.6284453338552312],[0.5664640846056166],[0.5181739599251846],[0.5596610827448721],[0.5270190185918266],[0.6358983231647876],[0.5575916753963664],[0.5565759564894144],[0.5354618108025482],[0.6716225810783254],[0.5782495972021442],[0.6757070658306813],[0.5798904752767992],[0.5983076913693123],[0.5031736582119999],[0.49829411460779965],[0.5468253676177808],[0.5534283064356885],[0.4467202815677959],[0.7785998179804104],[0.6755300019056985],[0.7656521798108948],[0.644209961117762],[0.7282362629365786],[0.6664923086012918],[0.7990767490775841],[0.7361156088033506],[0.7532953999497275],[0.6737280405445628],[0.7772469982921517],[0.7033355647159246],[0.7536449988774883],[0.3001497801683213],[0.6902144555329315],[0.4722031531046896],[0.6278861793138633],[0.5510270019682765],[0.36561808697473996],[0.6958230660457183],[0.6836485782435705],[0.6929023724403828],[0.6624222880147311],[0.660325959856018],[0.5517191563387316],[0.2762586403325267],[0.7568097916108607],[0.6906378841348637],[0.7371599617501747],[0.4639258400174629],[0.7865164043385591],[0.7139235063827738],[0.8315177315535794],[0.7245538286685965],[0.7424997756104013],[0.8084719700168613],[0.6592639073270953],[0.7589864372299382],[0.7874743843112135],[0.709568214889106],[0.838088793063914],[0.6694574020654934],[0.7557703401637396],[0.40533323472915717],[0.7390991121563887],[0.6581249228720392],[0.6928686004433965],[0.623775782285343],[0.6330764717337988],[0.727991880314837],[0.6845829710179001],[0.772074999020662],[0.7075973351553632],[0.674247603348898],[0.6420021330774188],[0.7358663608546944],[0.6709638505312959],[0.7627835565142707],[0.6952926569428003],[0.6806838694690037],[0.6106384328598858],[0.6577102892852418],[0.6039396524198893],[0.6984646377138026],[0.5665750021823832],[0.6665693370443437],[0.6367341759815057],[0.7183148898229099],[0.6629472791934796],[0.727737348422006],[0.6619324098101461],[0.7231278492228828],[0.6670871846513068],[0.6684468034185148],[0.5723619600331209],[0.6014370674736967],[0.4831258868100341],[0.5998530148602601],[0.5542091467422738],[0.6835293351367611],[0.623930593996621],[0.7373045242675487],[0.6506132006270481],[0.6335330325394208],[0.5682183230421536],[0.6940299946873899],[0.6125680715333769],[0.715229829921185],[0.641585459612254],[0.5899587824024016],[0.5246394387261164],[0.5643613466256],[0.5185420010394687],[0.6182944855066806],[0.5053635525574346],[0.6037774653894235],[0.5762639429998384],[0.6598178477511958],[0.5814368476631462],[0.6675818977408494],[0.5818434619787434],[0.6121712824966589],[0.5469660307996925],[0.5736020044312401],[0.5078173837614],[0.5389018770066248],[0.41535263253741467],[0.6070910846020983],[0.5578051391855255],[0.6575164579447612],[0.5956513938718331],[0.6849743080415108],[0.6081965537107297],[0.6731235979090946],[0.5998193964283159]],\"domain\":{\"x\":[0.0,1.0],\"y\":[0.0,1.0]},\"hovertemplate\":\"labels=%{label}<br>count=%{value}<br>parent=%{parent}<br>id=%{id}<br>Quality=%{color}<extra></extra>\",\"ids\":[\"Man/sideways/downwards/asian\",\"Woman/sideways/downwards/asian\",\"Man/slightly_turned/downwards/asian\",\"Woman/slightly_turned/downwards/asian\",\"Man/straight/downwards/asian\",\"Woman/straight/downwards/asian\",\"Man/sideways/slightly_downwards/asian\",\"Woman/sideways/slightly_downwards/asian\",\"Man/slightly_turned/slightly_downwards/asian\",\"Woman/slightly_turned/slightly_downwards/asian\",\"Man/straight/slightly_downwards/asian\",\"Woman/straight/slightly_downwards/asian\",\"Man/sideways/slightly_upwards/asian\",\"Woman/sideways/slightly_upwards/asian\",\"Man/slightly_turned/slightly_upwards/asian\",\"Woman/slightly_turned/slightly_upwards/asian\",\"Man/straight/slightly_upwards/asian\",\"Woman/straight/slightly_upwards/asian\",\"Man/sideways/straight/asian\",\"Woman/sideways/straight/asian\",\"Man/slightly_turned/straight/asian\",\"Woman/slightly_turned/straight/asian\",\"Man/straight/straight/asian\",\"Woman/straight/straight/asian\",\"Man/sideways/upwards/asian\",\"Woman/sideways/upwards/asian\",\"Man/slightly_turned/upwards/asian\",\"Woman/slightly_turned/upwards/asian\",\"Man/straight/upwards/asian\",\"Woman/straight/upwards/asian\",\"Man/sideways/downwards/black\",\"Woman/sideways/downwards/black\",\"Man/slightly_turned/downwards/black\",\"Woman/slightly_turned/downwards/black\",\"Man/straight/downwards/black\",\"Woman/straight/downwards/black\",\"Man/sideways/slightly_downwards/black\",\"Woman/sideways/slightly_downwards/black\",\"Man/slightly_turned/slightly_downwards/black\",\"Woman/slightly_turned/slightly_downwards/black\",\"Man/straight/slightly_downwards/black\",\"Woman/straight/slightly_downwards/black\",\"Man/sideways/slightly_upwards/black\",\"Woman/sideways/slightly_upwards/black\",\"Man/slightly_turned/slightly_upwards/black\",\"Woman/slightly_turned/slightly_upwards/black\",\"Man/straight/slightly_upwards/black\",\"Woman/straight/slightly_upwards/black\",\"Man/sideways/straight/black\",\"Woman/sideways/straight/black\",\"Man/slightly_turned/straight/black\",\"Woman/slightly_turned/straight/black\",\"Man/straight/straight/black\",\"Woman/straight/straight/black\",\"Man/sideways/upwards/black\",\"Woman/sideways/upwards/black\",\"Man/slightly_turned/upwards/black\",\"Woman/slightly_turned/upwards/black\",\"Man/straight/upwards/black\",\"Woman/straight/upwards/black\",\"Man/sideways/downwards/indian\",\"Woman/sideways/downwards/indian\",\"Man/slightly_turned/downwards/indian\",\"Woman/slightly_turned/downwards/indian\",\"Man/straight/downwards/indian\",\"Woman/straight/downwards/indian\",\"Man/sideways/slightly_downwards/indian\",\"Woman/sideways/slightly_downwards/indian\",\"Man/slightly_turned/slightly_downwards/indian\",\"Woman/slightly_turned/slightly_downwards/indian\",\"Man/straight/slightly_downwards/indian\",\"Woman/straight/slightly_downwards/indian\",\"Man/sideways/slightly_upwards/indian\",\"Woman/sideways/slightly_upwards/indian\",\"Man/slightly_turned/slightly_upwards/indian\",\"Woman/slightly_turned/slightly_upwards/indian\",\"Man/straight/slightly_upwards/indian\",\"Woman/straight/slightly_upwards/indian\",\"Man/sideways/straight/indian\",\"Woman/sideways/straight/indian\",\"Man/slightly_turned/straight/indian\",\"Woman/slightly_turned/straight/indian\",\"Man/straight/straight/indian\",\"Woman/straight/straight/indian\",\"Man/sideways/upwards/indian\",\"Woman/sideways/upwards/indian\",\"Man/slightly_turned/upwards/indian\",\"Woman/slightly_turned/upwards/indian\",\"Man/straight/upwards/indian\",\"Woman/straight/upwards/indian\",\"Man/sideways/downwards/latino hispanic\",\"Woman/sideways/downwards/latino hispanic\",\"Man/slightly_turned/downwards/latino hispanic\",\"Woman/slightly_turned/downwards/latino hispanic\",\"Man/straight/downwards/latino hispanic\",\"Woman/straight/downwards/latino hispanic\",\"Man/sideways/slightly_downwards/latino hispanic\",\"Woman/sideways/slightly_downwards/latino hispanic\",\"Man/slightly_turned/slightly_downwards/latino hispanic\",\"Woman/slightly_turned/slightly_downwards/latino hispanic\",\"Man/straight/slightly_downwards/latino hispanic\",\"Woman/straight/slightly_downwards/latino hispanic\",\"Man/sideways/slightly_upwards/latino hispanic\",\"Woman/sideways/slightly_upwards/latino hispanic\",\"Man/slightly_turned/slightly_upwards/latino hispanic\",\"Woman/slightly_turned/slightly_upwards/latino hispanic\",\"Man/straight/slightly_upwards/latino hispanic\",\"Woman/straight/slightly_upwards/latino hispanic\",\"Man/sideways/straight/latino hispanic\",\"Woman/sideways/straight/latino hispanic\",\"Man/slightly_turned/straight/latino hispanic\",\"Woman/slightly_turned/straight/latino hispanic\",\"Man/straight/straight/latino hispanic\",\"Woman/straight/straight/latino hispanic\",\"Man/straight/upwards/latino hispanic\",\"Woman/straight/upwards/latino hispanic\",\"Man/sideways/downwards/middle eastern\",\"Woman/sideways/downwards/middle eastern\",\"Man/slightly_turned/downwards/middle eastern\",\"Woman/slightly_turned/downwards/middle eastern\",\"Man/straight/downwards/middle eastern\",\"Woman/straight/downwards/middle eastern\",\"Man/sideways/slightly_downwards/middle eastern\",\"Man/slightly_turned/slightly_downwards/middle eastern\",\"Woman/slightly_turned/slightly_downwards/middle eastern\",\"Man/straight/slightly_downwards/middle eastern\",\"Woman/straight/slightly_downwards/middle eastern\",\"Man/sideways/slightly_upwards/middle eastern\",\"Man/slightly_turned/slightly_upwards/middle eastern\",\"Man/straight/slightly_upwards/middle eastern\",\"Woman/straight/slightly_upwards/middle eastern\",\"Woman/sideways/straight/middle eastern\",\"Man/slightly_turned/straight/middle eastern\",\"Woman/slightly_turned/straight/middle eastern\",\"Man/straight/straight/middle eastern\",\"Woman/straight/straight/middle eastern\",\"Man/straight/upwards/middle eastern\",\"Man/sideways/downwards/white\",\"Woman/sideways/downwards/white\",\"Man/slightly_turned/downwards/white\",\"Woman/slightly_turned/downwards/white\",\"Man/straight/downwards/white\",\"Woman/straight/downwards/white\",\"Man/sideways/slightly_downwards/white\",\"Woman/sideways/slightly_downwards/white\",\"Man/slightly_turned/slightly_downwards/white\",\"Woman/slightly_turned/slightly_downwards/white\",\"Man/straight/slightly_downwards/white\",\"Woman/straight/slightly_downwards/white\",\"Man/sideways/slightly_upwards/white\",\"Woman/sideways/slightly_upwards/white\",\"Man/slightly_turned/slightly_upwards/white\",\"Woman/slightly_turned/slightly_upwards/white\",\"Man/straight/slightly_upwards/white\",\"Woman/straight/slightly_upwards/white\",\"Man/sideways/straight/white\",\"Woman/sideways/straight/white\",\"Man/slightly_turned/straight/white\",\"Woman/slightly_turned/straight/white\",\"Man/straight/straight/white\",\"Woman/straight/straight/white\",\"Man/sideways/upwards/white\",\"Woman/sideways/upwards/white\",\"Man/slightly_turned/upwards/white\",\"Woman/slightly_turned/upwards/white\",\"Man/straight/upwards/white\",\"Woman/straight/upwards/white\",\"Man/sideways/downwards\",\"Woman/sideways/downwards\",\"Man/slightly_turned/downwards\",\"Woman/slightly_turned/downwards\",\"Man/straight/downwards\",\"Woman/straight/downwards\",\"Man/sideways/slightly_downwards\",\"Woman/sideways/slightly_downwards\",\"Man/slightly_turned/slightly_downwards\",\"Woman/slightly_turned/slightly_downwards\",\"Man/straight/slightly_downwards\",\"Woman/straight/slightly_downwards\",\"Man/sideways/slightly_upwards\",\"Woman/sideways/slightly_upwards\",\"Man/slightly_turned/slightly_upwards\",\"Woman/slightly_turned/slightly_upwards\",\"Man/straight/slightly_upwards\",\"Woman/straight/slightly_upwards\",\"Man/sideways/straight\",\"Woman/sideways/straight\",\"Man/slightly_turned/straight\",\"Woman/slightly_turned/straight\",\"Man/straight/straight\",\"Woman/straight/straight\",\"Man/sideways/upwards\",\"Woman/sideways/upwards\",\"Man/slightly_turned/upwards\",\"Woman/slightly_turned/upwards\",\"Man/straight/upwards\",\"Woman/straight/upwards\",\"Man/sideways\",\"Woman/sideways\",\"Man/slightly_turned\",\"Woman/slightly_turned\",\"Man/straight\",\"Woman/straight\",\"Man\",\"Woman\"],\"labels\":[\"asian\",\"asian\",\"asian\",\"asian\",\"asian\",\"asian\",\"asian\",\"asian\",\"asian\",\"asian\",\"asian\",\"asian\",\"asian\",\"asian\",\"asian\",\"asian\",\"asian\",\"asian\",\"asian\",\"asian\",\"asian\",\"asian\",\"asian\",\"asian\",\"asian\",\"asian\",\"asian\",\"asian\",\"asian\",\"asian\",\"black\",\"black\",\"black\",\"black\",\"black\",\"black\",\"black\",\"black\",\"black\",\"black\",\"black\",\"black\",\"black\",\"black\",\"black\",\"black\",\"black\",\"black\",\"black\",\"black\",\"black\",\"black\",\"black\",\"black\",\"black\",\"black\",\"black\",\"black\",\"black\",\"black\",\"indian\",\"indian\",\"indian\",\"indian\",\"indian\",\"indian\",\"indian\",\"indian\",\"indian\",\"indian\",\"indian\",\"indian\",\"indian\",\"indian\",\"indian\",\"indian\",\"indian\",\"indian\",\"indian\",\"indian\",\"indian\",\"indian\",\"indian\",\"indian\",\"indian\",\"indian\",\"indian\",\"indian\",\"indian\",\"indian\",\"latino hispanic\",\"latino hispanic\",\"latino hispanic\",\"latino hispanic\",\"latino hispanic\",\"latino hispanic\",\"latino hispanic\",\"latino hispanic\",\"latino hispanic\",\"latino hispanic\",\"latino hispanic\",\"latino hispanic\",\"latino hispanic\",\"latino hispanic\",\"latino hispanic\",\"latino hispanic\",\"latino hispanic\",\"latino hispanic\",\"latino hispanic\",\"latino hispanic\",\"latino hispanic\",\"latino hispanic\",\"latino hispanic\",\"latino hispanic\",\"latino hispanic\",\"latino hispanic\",\"middle eastern\",\"middle eastern\",\"middle eastern\",\"middle eastern\",\"middle eastern\",\"middle eastern\",\"middle eastern\",\"middle eastern\",\"middle eastern\",\"middle eastern\",\"middle eastern\",\"middle eastern\",\"middle eastern\",\"middle eastern\",\"middle eastern\",\"middle eastern\",\"middle eastern\",\"middle eastern\",\"middle eastern\",\"middle eastern\",\"middle eastern\",\"white\",\"white\",\"white\",\"white\",\"white\",\"white\",\"white\",\"white\",\"white\",\"white\",\"white\",\"white\",\"white\",\"white\",\"white\",\"white\",\"white\",\"white\",\"white\",\"white\",\"white\",\"white\",\"white\",\"white\",\"white\",\"white\",\"white\",\"white\",\"white\",\"white\",\"downwards\",\"downwards\",\"downwards\",\"downwards\",\"downwards\",\"downwards\",\"slightly_downwards\",\"slightly_downwards\",\"slightly_downwards\",\"slightly_downwards\",\"slightly_downwards\",\"slightly_downwards\",\"slightly_upwards\",\"slightly_upwards\",\"slightly_upwards\",\"slightly_upwards\",\"slightly_upwards\",\"slightly_upwards\",\"straight\",\"straight\",\"straight\",\"straight\",\"straight\",\"straight\",\"upwards\",\"upwards\",\"upwards\",\"upwards\",\"upwards\",\"upwards\",\"sideways\",\"sideways\",\"slightly_turned\",\"slightly_turned\",\"straight\",\"straight\",\"Man\",\"Woman\"],\"marker\":{\"coloraxis\":\"coloraxis\",\"colors\":[0.5349761549592503,0.49194151724116963,0.5483647281624529,0.5676667399903186,0.6116918350869224,0.5540686652226915,0.543790274275885,0.5672490962987226,0.574746836693351,0.5275653478882396,0.5457513503913385,0.5125748762874905,0.4611365669043092,0.49272921631582933,0.34429915821148344,0.3580486587415625,0.35049874721414387,0.33875233906117025,0.5297956882458141,0.5504401749125695,0.4444671452324194,0.41987667032389,0.48014695821096326,0.3981356396156634,0.44954277103189555,0.4441893749083597,0.4444154679606169,0.36813344719939967,0.24848163821687033,0.2587139922510924,0.6030058891794726,0.5285727093170922,0.6707514652752321,0.5793102364288197,0.7093640802024814,0.5900630584931674,0.6406186069633779,0.49440339224791713,0.6742925915430777,0.5888435133245481,0.698343737945444,0.6020273587905357,0.57947725054114,0.49908560431605037,0.62396568591661,0.5345062841901208,0.67390880829847,0.5570816056120481,0.6026012381658905,0.5359531912026337,0.6591369818653887,0.5673906371904017,0.6879061765037302,0.586608160902093,0.5670226043105095,0.5081669053657084,0.6153034144069311,0.5225861945129443,0.6802981235868469,0.5186291042341663,0.561297701025814,0.5260710064829447,0.6156962469592001,0.5976103257230251,0.6996955252852033,0.6235223278275095,0.5750911901062581,0.5558168646079443,0.6869977176633184,0.5882880627139555,0.7094640817381954,0.6284453338552312,0.5664640846056166,0.5181739599251846,0.5596610827448721,0.5270190185918266,0.6358983231647876,0.5575916753963664,0.5565759564894144,0.5354618108025482,0.6716225810783254,0.5782495972021442,0.6757070658306813,0.5798904752767992,0.5983076913693123,0.5031736582119999,0.49829411460779965,0.5468253676177808,0.5534283064356885,0.4467202815677959,0.7785998179804104,0.6755300019056985,0.7656521798108948,0.644209961117762,0.7282362629365786,0.6664923086012918,0.7990767490775841,0.7361156088033506,0.7532953999497275,0.6737280405445628,0.7772469982921517,0.7033355647159246,0.7536449988774883,0.3001497801683213,0.6902144555329315,0.4722031531046896,0.6278861793138633,0.5510270019682765,0.36561808697473996,0.6958230660457183,0.6836485782435705,0.6929023724403828,0.6624222880147311,0.660325959856018,0.5517191563387316,0.2762586403325267,0.7568097916108607,0.6906378841348637,0.7371599617501747,0.4639258400174629,0.7865164043385591,0.7139235063827738,0.8315177315535794,0.7245538286685965,0.7424997756104013,0.8084719700168613,0.6592639073270953,0.7589864372299382,0.7874743843112135,0.709568214889106,0.838088793063914,0.6694574020654934,0.7557703401637396,0.40533323472915717,0.7390991121563887,0.6581249228720392,0.6928686004433965,0.623775782285343,0.6330764717337988,0.727991880314837,0.6845829710179001,0.772074999020662,0.7075973351553632,0.674247603348898,0.6420021330774188,0.7358663608546944,0.6709638505312959,0.7627835565142707,0.6952926569428003,0.6806838694690037,0.6106384328598858,0.6577102892852418,0.6039396524198893,0.6984646377138026,0.5665750021823832,0.6665693370443437,0.6367341759815057,0.7183148898229099,0.6629472791934796,0.727737348422006,0.6619324098101461,0.7231278492228828,0.6670871846513068,0.6684468034185148,0.5723619600331209,0.6014370674736967,0.4831258868100341,0.5998530148602601,0.5542091467422738,0.6835293351367611,0.623930593996621,0.7373045242675487,0.6506132006270481,0.6335330325394208,0.5682183230421536,0.6940299946873899,0.6125680715333769,0.715229829921185,0.641585459612254,0.5899587824024016,0.5246394387261164,0.5643613466256,0.5185420010394687,0.6182944855066806,0.5053635525574346,0.6037774653894235,0.5762639429998384,0.6598178477511958,0.5814368476631462,0.6675818977408494,0.5818434619787434,0.6121712824966589,0.5469660307996925,0.5736020044312401,0.5078173837614,0.5389018770066248,0.41535263253741467,0.6070910846020983,0.5578051391855255,0.6575164579447612,0.5956513938718331,0.6849743080415108,0.6081965537107297,0.6731235979090946,0.5998193964283159]},\"name\":\"\",\"parents\":[\"Man/sideways/downwards\",\"Woman/sideways/downwards\",\"Man/slightly_turned/downwards\",\"Woman/slightly_turned/downwards\",\"Man/straight/downwards\",\"Woman/straight/downwards\",\"Man/sideways/slightly_downwards\",\"Woman/sideways/slightly_downwards\",\"Man/slightly_turned/slightly_downwards\",\"Woman/slightly_turned/slightly_downwards\",\"Man/straight/slightly_downwards\",\"Woman/straight/slightly_downwards\",\"Man/sideways/slightly_upwards\",\"Woman/sideways/slightly_upwards\",\"Man/slightly_turned/slightly_upwards\",\"Woman/slightly_turned/slightly_upwards\",\"Man/straight/slightly_upwards\",\"Woman/straight/slightly_upwards\",\"Man/sideways/straight\",\"Woman/sideways/straight\",\"Man/slightly_turned/straight\",\"Woman/slightly_turned/straight\",\"Man/straight/straight\",\"Woman/straight/straight\",\"Man/sideways/upwards\",\"Woman/sideways/upwards\",\"Man/slightly_turned/upwards\",\"Woman/slightly_turned/upwards\",\"Man/straight/upwards\",\"Woman/straight/upwards\",\"Man/sideways/downwards\",\"Woman/sideways/downwards\",\"Man/slightly_turned/downwards\",\"Woman/slightly_turned/downwards\",\"Man/straight/downwards\",\"Woman/straight/downwards\",\"Man/sideways/slightly_downwards\",\"Woman/sideways/slightly_downwards\",\"Man/slightly_turned/slightly_downwards\",\"Woman/slightly_turned/slightly_downwards\",\"Man/straight/slightly_downwards\",\"Woman/straight/slightly_downwards\",\"Man/sideways/slightly_upwards\",\"Woman/sideways/slightly_upwards\",\"Man/slightly_turned/slightly_upwards\",\"Woman/slightly_turned/slightly_upwards\",\"Man/straight/slightly_upwards\",\"Woman/straight/slightly_upwards\",\"Man/sideways/straight\",\"Woman/sideways/straight\",\"Man/slightly_turned/straight\",\"Woman/slightly_turned/straight\",\"Man/straight/straight\",\"Woman/straight/straight\",\"Man/sideways/upwards\",\"Woman/sideways/upwards\",\"Man/slightly_turned/upwards\",\"Woman/slightly_turned/upwards\",\"Man/straight/upwards\",\"Woman/straight/upwards\",\"Man/sideways/downwards\",\"Woman/sideways/downwards\",\"Man/slightly_turned/downwards\",\"Woman/slightly_turned/downwards\",\"Man/straight/downwards\",\"Woman/straight/downwards\",\"Man/sideways/slightly_downwards\",\"Woman/sideways/slightly_downwards\",\"Man/slightly_turned/slightly_downwards\",\"Woman/slightly_turned/slightly_downwards\",\"Man/straight/slightly_downwards\",\"Woman/straight/slightly_downwards\",\"Man/sideways/slightly_upwards\",\"Woman/sideways/slightly_upwards\",\"Man/slightly_turned/slightly_upwards\",\"Woman/slightly_turned/slightly_upwards\",\"Man/straight/slightly_upwards\",\"Woman/straight/slightly_upwards\",\"Man/sideways/straight\",\"Woman/sideways/straight\",\"Man/slightly_turned/straight\",\"Woman/slightly_turned/straight\",\"Man/straight/straight\",\"Woman/straight/straight\",\"Man/sideways/upwards\",\"Woman/sideways/upwards\",\"Man/slightly_turned/upwards\",\"Woman/slightly_turned/upwards\",\"Man/straight/upwards\",\"Woman/straight/upwards\",\"Man/sideways/downwards\",\"Woman/sideways/downwards\",\"Man/slightly_turned/downwards\",\"Woman/slightly_turned/downwards\",\"Man/straight/downwards\",\"Woman/straight/downwards\",\"Man/sideways/slightly_downwards\",\"Woman/sideways/slightly_downwards\",\"Man/slightly_turned/slightly_downwards\",\"Woman/slightly_turned/slightly_downwards\",\"Man/straight/slightly_downwards\",\"Woman/straight/slightly_downwards\",\"Man/sideways/slightly_upwards\",\"Woman/sideways/slightly_upwards\",\"Man/slightly_turned/slightly_upwards\",\"Woman/slightly_turned/slightly_upwards\",\"Man/straight/slightly_upwards\",\"Woman/straight/slightly_upwards\",\"Man/sideways/straight\",\"Woman/sideways/straight\",\"Man/slightly_turned/straight\",\"Woman/slightly_turned/straight\",\"Man/straight/straight\",\"Woman/straight/straight\",\"Man/straight/upwards\",\"Woman/straight/upwards\",\"Man/sideways/downwards\",\"Woman/sideways/downwards\",\"Man/slightly_turned/downwards\",\"Woman/slightly_turned/downwards\",\"Man/straight/downwards\",\"Woman/straight/downwards\",\"Man/sideways/slightly_downwards\",\"Man/slightly_turned/slightly_downwards\",\"Woman/slightly_turned/slightly_downwards\",\"Man/straight/slightly_downwards\",\"Woman/straight/slightly_downwards\",\"Man/sideways/slightly_upwards\",\"Man/slightly_turned/slightly_upwards\",\"Man/straight/slightly_upwards\",\"Woman/straight/slightly_upwards\",\"Woman/sideways/straight\",\"Man/slightly_turned/straight\",\"Woman/slightly_turned/straight\",\"Man/straight/straight\",\"Woman/straight/straight\",\"Man/straight/upwards\",\"Man/sideways/downwards\",\"Woman/sideways/downwards\",\"Man/slightly_turned/downwards\",\"Woman/slightly_turned/downwards\",\"Man/straight/downwards\",\"Woman/straight/downwards\",\"Man/sideways/slightly_downwards\",\"Woman/sideways/slightly_downwards\",\"Man/slightly_turned/slightly_downwards\",\"Woman/slightly_turned/slightly_downwards\",\"Man/straight/slightly_downwards\",\"Woman/straight/slightly_downwards\",\"Man/sideways/slightly_upwards\",\"Woman/sideways/slightly_upwards\",\"Man/slightly_turned/slightly_upwards\",\"Woman/slightly_turned/slightly_upwards\",\"Man/straight/slightly_upwards\",\"Woman/straight/slightly_upwards\",\"Man/sideways/straight\",\"Woman/sideways/straight\",\"Man/slightly_turned/straight\",\"Woman/slightly_turned/straight\",\"Man/straight/straight\",\"Woman/straight/straight\",\"Man/sideways/upwards\",\"Woman/sideways/upwards\",\"Man/slightly_turned/upwards\",\"Woman/slightly_turned/upwards\",\"Man/straight/upwards\",\"Woman/straight/upwards\",\"Man/sideways\",\"Woman/sideways\",\"Man/slightly_turned\",\"Woman/slightly_turned\",\"Man/straight\",\"Woman/straight\",\"Man/sideways\",\"Woman/sideways\",\"Man/slightly_turned\",\"Woman/slightly_turned\",\"Man/straight\",\"Woman/straight\",\"Man/sideways\",\"Woman/sideways\",\"Man/slightly_turned\",\"Woman/slightly_turned\",\"Man/straight\",\"Woman/straight\",\"Man/sideways\",\"Woman/sideways\",\"Man/slightly_turned\",\"Woman/slightly_turned\",\"Man/straight\",\"Woman/straight\",\"Man/sideways\",\"Woman/sideways\",\"Man/slightly_turned\",\"Woman/slightly_turned\",\"Man/straight\",\"Woman/straight\",\"Man\",\"Woman\",\"Man\",\"Woman\",\"Man\",\"Woman\",\"\",\"\"],\"values\":[35,82,77,169,255,463,29,46,73,104,285,270,33,40,62,54,199,199,53,48,89,103,425,376,4,13,21,26,100,88,64,146,104,215,400,631,44,79,110,94,379,282,46,59,63,48,224,112,82,94,157,105,493,275,20,28,31,20,116,51,50,104,82,177,287,339,45,52,98,93,373,227,40,32,79,61,308,137,57,53,157,105,557,284,16,16,29,21,117,50,2,9,9,27,43,96,2,5,9,12,39,39,1,2,5,1,18,13,4,7,9,10,50,34,5,9,2,2,7,2,32,21,2,12,3,34,6,2,3,4,1,2,8,2,25,6,2,139,132,364,388,1519,1566,103,77,255,209,1078,865,57,40,96,87,435,315,122,102,281,217,1057,814,16,26,38,39,169,121,292,475,643,978,2536,3116,225,259,557,515,2188,1689,179,173,308,251,1188,777,318,306,701,542,2607,1789,56,83,119,106,509,319,1070,1296,2328,2392,9028,7690,12426,11378],\"type\":\"sunburst\"}],                        {\"template\":{\"data\":{\"histogram2dcontour\":[{\"type\":\"histogram2dcontour\",\"colorbar\":{\"outlinewidth\":0,\"ticks\":\"\"},\"colorscale\":[[0.0,\"#0d0887\"],[0.1111111111111111,\"#46039f\"],[0.2222222222222222,\"#7201a8\"],[0.3333333333333333,\"#9c179e\"],[0.4444444444444444,\"#bd3786\"],[0.5555555555555556,\"#d8576b\"],[0.6666666666666666,\"#ed7953\"],[0.7777777777777778,\"#fb9f3a\"],[0.8888888888888888,\"#fdca26\"],[1.0,\"#f0f921\"]]}],\"choropleth\":[{\"type\":\"choropleth\",\"colorbar\":{\"outlinewidth\":0,\"ticks\":\"\"}}],\"histogram2d\":[{\"type\":\"histogram2d\",\"colorbar\":{\"outlinewidth\":0,\"ticks\":\"\"},\"colorscale\":[[0.0,\"#0d0887\"],[0.1111111111111111,\"#46039f\"],[0.2222222222222222,\"#7201a8\"],[0.3333333333333333,\"#9c179e\"],[0.4444444444444444,\"#bd3786\"],[0.5555555555555556,\"#d8576b\"],[0.6666666666666666,\"#ed7953\"],[0.7777777777777778,\"#fb9f3a\"],[0.8888888888888888,\"#fdca26\"],[1.0,\"#f0f921\"]]}],\"heatmap\":[{\"type\":\"heatmap\",\"colorbar\":{\"outlinewidth\":0,\"ticks\":\"\"},\"colorscale\":[[0.0,\"#0d0887\"],[0.1111111111111111,\"#46039f\"],[0.2222222222222222,\"#7201a8\"],[0.3333333333333333,\"#9c179e\"],[0.4444444444444444,\"#bd3786\"],[0.5555555555555556,\"#d8576b\"],[0.6666666666666666,\"#ed7953\"],[0.7777777777777778,\"#fb9f3a\"],[0.8888888888888888,\"#fdca26\"],[1.0,\"#f0f921\"]]}],\"heatmapgl\":[{\"type\":\"heatmapgl\",\"colorbar\":{\"outlinewidth\":0,\"ticks\":\"\"},\"colorscale\":[[0.0,\"#0d0887\"],[0.1111111111111111,\"#46039f\"],[0.2222222222222222,\"#7201a8\"],[0.3333333333333333,\"#9c179e\"],[0.4444444444444444,\"#bd3786\"],[0.5555555555555556,\"#d8576b\"],[0.6666666666666666,\"#ed7953\"],[0.7777777777777778,\"#fb9f3a\"],[0.8888888888888888,\"#fdca26\"],[1.0,\"#f0f921\"]]}],\"contourcarpet\":[{\"type\":\"contourcarpet\",\"colorbar\":{\"outlinewidth\":0,\"ticks\":\"\"}}],\"contour\":[{\"type\":\"contour\",\"colorbar\":{\"outlinewidth\":0,\"ticks\":\"\"},\"colorscale\":[[0.0,\"#0d0887\"],[0.1111111111111111,\"#46039f\"],[0.2222222222222222,\"#7201a8\"],[0.3333333333333333,\"#9c179e\"],[0.4444444444444444,\"#bd3786\"],[0.5555555555555556,\"#d8576b\"],[0.6666666666666666,\"#ed7953\"],[0.7777777777777778,\"#fb9f3a\"],[0.8888888888888888,\"#fdca26\"],[1.0,\"#f0f921\"]]}],\"surface\":[{\"type\":\"surface\",\"colorbar\":{\"outlinewidth\":0,\"ticks\":\"\"},\"colorscale\":[[0.0,\"#0d0887\"],[0.1111111111111111,\"#46039f\"],[0.2222222222222222,\"#7201a8\"],[0.3333333333333333,\"#9c179e\"],[0.4444444444444444,\"#bd3786\"],[0.5555555555555556,\"#d8576b\"],[0.6666666666666666,\"#ed7953\"],[0.7777777777777778,\"#fb9f3a\"],[0.8888888888888888,\"#fdca26\"],[1.0,\"#f0f921\"]]}],\"mesh3d\":[{\"type\":\"mesh3d\",\"colorbar\":{\"outlinewidth\":0,\"ticks\":\"\"}}],\"scatter\":[{\"fillpattern\":{\"fillmode\":\"overlay\",\"size\":10,\"solidity\":0.2},\"type\":\"scatter\"}],\"parcoords\":[{\"type\":\"parcoords\",\"line\":{\"colorbar\":{\"outlinewidth\":0,\"ticks\":\"\"}}}],\"scatterpolargl\":[{\"type\":\"scatterpolargl\",\"marker\":{\"colorbar\":{\"outlinewidth\":0,\"ticks\":\"\"}}}],\"bar\":[{\"error_x\":{\"color\":\"#2a3f5f\"},\"error_y\":{\"color\":\"#2a3f5f\"},\"marker\":{\"line\":{\"color\":\"#E5ECF6\",\"width\":0.5},\"pattern\":{\"fillmode\":\"overlay\",\"size\":10,\"solidity\":0.2}},\"type\":\"bar\"}],\"scattergeo\":[{\"type\":\"scattergeo\",\"marker\":{\"colorbar\":{\"outlinewidth\":0,\"ticks\":\"\"}}}],\"scatterpolar\":[{\"type\":\"scatterpolar\",\"marker\":{\"colorbar\":{\"outlinewidth\":0,\"ticks\":\"\"}}}],\"histogram\":[{\"marker\":{\"pattern\":{\"fillmode\":\"overlay\",\"size\":10,\"solidity\":0.2}},\"type\":\"histogram\"}],\"scattergl\":[{\"type\":\"scattergl\",\"marker\":{\"colorbar\":{\"outlinewidth\":0,\"ticks\":\"\"}}}],\"scatter3d\":[{\"type\":\"scatter3d\",\"line\":{\"colorbar\":{\"outlinewidth\":0,\"ticks\":\"\"}},\"marker\":{\"colorbar\":{\"outlinewidth\":0,\"ticks\":\"\"}}}],\"scattermapbox\":[{\"type\":\"scattermapbox\",\"marker\":{\"colorbar\":{\"outlinewidth\":0,\"ticks\":\"\"}}}],\"scatterternary\":[{\"type\":\"scatterternary\",\"marker\":{\"colorbar\":{\"outlinewidth\":0,\"ticks\":\"\"}}}],\"scattercarpet\":[{\"type\":\"scattercarpet\",\"marker\":{\"colorbar\":{\"outlinewidth\":0,\"ticks\":\"\"}}}],\"carpet\":[{\"aaxis\":{\"endlinecolor\":\"#2a3f5f\",\"gridcolor\":\"white\",\"linecolor\":\"white\",\"minorgridcolor\":\"white\",\"startlinecolor\":\"#2a3f5f\"},\"baxis\":{\"endlinecolor\":\"#2a3f5f\",\"gridcolor\":\"white\",\"linecolor\":\"white\",\"minorgridcolor\":\"white\",\"startlinecolor\":\"#2a3f5f\"},\"type\":\"carpet\"}],\"table\":[{\"cells\":{\"fill\":{\"color\":\"#EBF0F8\"},\"line\":{\"color\":\"white\"}},\"header\":{\"fill\":{\"color\":\"#C8D4E3\"},\"line\":{\"color\":\"white\"}},\"type\":\"table\"}],\"barpolar\":[{\"marker\":{\"line\":{\"color\":\"#E5ECF6\",\"width\":0.5},\"pattern\":{\"fillmode\":\"overlay\",\"size\":10,\"solidity\":0.2}},\"type\":\"barpolar\"}],\"pie\":[{\"automargin\":true,\"type\":\"pie\"}]},\"layout\":{\"autotypenumbers\":\"strict\",\"colorway\":[\"#636efa\",\"#EF553B\",\"#00cc96\",\"#ab63fa\",\"#FFA15A\",\"#19d3f3\",\"#FF6692\",\"#B6E880\",\"#FF97FF\",\"#FECB52\"],\"font\":{\"color\":\"#2a3f5f\"},\"hovermode\":\"closest\",\"hoverlabel\":{\"align\":\"left\"},\"paper_bgcolor\":\"white\",\"plot_bgcolor\":\"#E5ECF6\",\"polar\":{\"bgcolor\":\"#E5ECF6\",\"angularaxis\":{\"gridcolor\":\"white\",\"linecolor\":\"white\",\"ticks\":\"\"},\"radialaxis\":{\"gridcolor\":\"white\",\"linecolor\":\"white\",\"ticks\":\"\"}},\"ternary\":{\"bgcolor\":\"#E5ECF6\",\"aaxis\":{\"gridcolor\":\"white\",\"linecolor\":\"white\",\"ticks\":\"\"},\"baxis\":{\"gridcolor\":\"white\",\"linecolor\":\"white\",\"ticks\":\"\"},\"caxis\":{\"gridcolor\":\"white\",\"linecolor\":\"white\",\"ticks\":\"\"}},\"coloraxis\":{\"colorbar\":{\"outlinewidth\":0,\"ticks\":\"\"}},\"colorscale\":{\"sequential\":[[0.0,\"#0d0887\"],[0.1111111111111111,\"#46039f\"],[0.2222222222222222,\"#7201a8\"],[0.3333333333333333,\"#9c179e\"],[0.4444444444444444,\"#bd3786\"],[0.5555555555555556,\"#d8576b\"],[0.6666666666666666,\"#ed7953\"],[0.7777777777777778,\"#fb9f3a\"],[0.8888888888888888,\"#fdca26\"],[1.0,\"#f0f921\"]],\"sequentialminus\":[[0.0,\"#0d0887\"],[0.1111111111111111,\"#46039f\"],[0.2222222222222222,\"#7201a8\"],[0.3333333333333333,\"#9c179e\"],[0.4444444444444444,\"#bd3786\"],[0.5555555555555556,\"#d8576b\"],[0.6666666666666666,\"#ed7953\"],[0.7777777777777778,\"#fb9f3a\"],[0.8888888888888888,\"#fdca26\"],[1.0,\"#f0f921\"]],\"diverging\":[[0,\"#8e0152\"],[0.1,\"#c51b7d\"],[0.2,\"#de77ae\"],[0.3,\"#f1b6da\"],[0.4,\"#fde0ef\"],[0.5,\"#f7f7f7\"],[0.6,\"#e6f5d0\"],[0.7,\"#b8e186\"],[0.8,\"#7fbc41\"],[0.9,\"#4d9221\"],[1,\"#276419\"]]},\"xaxis\":{\"gridcolor\":\"white\",\"linecolor\":\"white\",\"ticks\":\"\",\"title\":{\"standoff\":15},\"zerolinecolor\":\"white\",\"automargin\":true,\"zerolinewidth\":2},\"yaxis\":{\"gridcolor\":\"white\",\"linecolor\":\"white\",\"ticks\":\"\",\"title\":{\"standoff\":15},\"zerolinecolor\":\"white\",\"automargin\":true,\"zerolinewidth\":2},\"scene\":{\"xaxis\":{\"backgroundcolor\":\"#E5ECF6\",\"gridcolor\":\"white\",\"linecolor\":\"white\",\"showbackground\":true,\"ticks\":\"\",\"zerolinecolor\":\"white\",\"gridwidth\":2},\"yaxis\":{\"backgroundcolor\":\"#E5ECF6\",\"gridcolor\":\"white\",\"linecolor\":\"white\",\"showbackground\":true,\"ticks\":\"\",\"zerolinecolor\":\"white\",\"gridwidth\":2},\"zaxis\":{\"backgroundcolor\":\"#E5ECF6\",\"gridcolor\":\"white\",\"linecolor\":\"white\",\"showbackground\":true,\"ticks\":\"\",\"zerolinecolor\":\"white\",\"gridwidth\":2}},\"shapedefaults\":{\"line\":{\"color\":\"#2a3f5f\"}},\"annotationdefaults\":{\"arrowcolor\":\"#2a3f5f\",\"arrowhead\":0,\"arrowwidth\":1},\"geo\":{\"bgcolor\":\"white\",\"landcolor\":\"#E5ECF6\",\"subunitcolor\":\"white\",\"showland\":true,\"showlakes\":true,\"lakecolor\":\"white\"},\"title\":{\"x\":0.05},\"mapbox\":{\"style\":\"light\"}}},\"coloraxis\":{\"colorbar\":{\"title\":{\"text\":\"Quality\"}},\"colorscale\":[[0.0,\"#440154\"],[0.1111111111111111,\"#482878\"],[0.2222222222222222,\"#3e4989\"],[0.3333333333333333,\"#31688e\"],[0.4444444444444444,\"#26828e\"],[0.5555555555555556,\"#1f9e89\"],[0.6666666666666666,\"#35b779\"],[0.7777777777777778,\"#6ece58\"],[0.8888888888888888,\"#b5de2b\"],[1.0,\"#fde725\"]],\"cmin\":0,\"cmax\":1},\"legend\":{\"tracegroupgap\":0},\"title\":{\"text\":\"UTKface, Model QMagFace\"}},                        {\"responsive\": true}                    ).then(function(){\n",
       "                            \n",
       "var gd = document.getElementById('cb2668f5-4722-4480-9793-d36556ad7169');\n",
       "var x = new MutationObserver(function (mutations, observer) {{\n",
       "        var display = window.getComputedStyle(gd).display;\n",
       "        if (!display || display === 'none') {{\n",
       "            console.log([gd, 'removed!']);\n",
       "            Plotly.purge(gd);\n",
       "            observer.disconnect();\n",
       "        }}\n",
       "}});\n",
       "\n",
       "// Listen for the removal of the full notebook cells\n",
       "var notebookContainer = gd.closest('#notebook-container');\n",
       "if (notebookContainer) {{\n",
       "    x.observe(notebookContainer, {childList: true});\n",
       "}}\n",
       "\n",
       "// Listen for the clearing of the current output cell\n",
       "var outputEl = gd.closest('.output');\n",
       "if (outputEl) {{\n",
       "    x.observe(outputEl, {childList: true});\n",
       "}}\n",
       "\n",
       "                        })                };                });            </script>        </div>"
      ]
     },
     "metadata": {},
     "output_type": "display_data"
    },
    {
     "data": {
      "application/vnd.plotly.v1+json": {
       "config": {
        "plotlyServerURL": "https://plot.ly"
       },
       "data": [
        {
         "branchvalues": "total",
         "customdata": [
          [
           0.4791129029685571
          ],
          [
           0.2615402567368098
          ],
          [
           0.604672795912845
          ],
          [
           0.5131546323648305
          ],
          [
           0.6365541974431466
          ],
          [
           0.61976313748047
          ],
          [
           0.4973365921584557
          ],
          [
           0.48357903067454877
          ],
          [
           0.5547859654818542
          ],
          [
           0.4742442624187966
          ],
          [
           0.6141939486733552
          ],
          [
           0.5003733557275118
          ],
          [
           0.5015067958222407
          ],
          [
           0.6180842037755174
          ],
          [
           0.585831086940937
          ],
          [
           0.514962334585154
          ],
          [
           0.5627470830323467
          ],
          [
           0.625197575174777
          ],
          [
           0.4678481543722029
          ],
          [
           0.5410976759130826
          ],
          [
           0.5603756977504739
          ],
          [
           0.5195783428963704
          ],
          [
           0.5933094954280783
          ],
          [
           0.4868880786873589
          ],
          [
           0.35777545638950825
          ],
          [
           0.6897999087852702
          ],
          [
           0.5515546585040636
          ],
          [
           0.5164789219455957
          ],
          [
           0.6326044528176271
          ],
          [
           0.5954801121753459
          ],
          [
           0.3831116383630817
          ],
          [
           0.5523695695285595
          ],
          [
           0.3703428906296073
          ],
          [
           0.5974299618376492
          ],
          [
           0.6526248415595817
          ],
          [
           0.4559488848371287
          ],
          [
           0.5719252003764508
          ],
          [
           0.6506231136607749
          ],
          [
           0.5435428982466426
          ],
          [
           0.5796261712961422
          ],
          [
           0.5071196790937624
          ],
          [
           0.5672478951122878
          ],
          [
           0.5903654109492242
          ],
          [
           0.43028115260016114
          ],
          [
           0.4626087266356224
          ],
          [
           0.5453070516860271
          ],
          [
           0.4306097695628652
          ],
          [
           0.6005986083196156
          ],
          [
           0.35784172461352537
          ],
          [
           0.5171340268442115
          ],
          [
           0.593795950796916
          ],
          [
           0.4276717102518074
          ],
          [
           0.6570866104050506
          ],
          [
           0.6272069510500871
          ],
          [
           0.7558625615157148
          ],
          [
           0.6838833139746944
          ],
          [
           0.6101657598222695
          ],
          [
           0.6835872935361854
          ],
          [
           0.8448267026204193
          ],
          [
           0.6054896756016136
          ],
          [
           0.6814030164952033
          ],
          [
           0.6995317319492232
          ],
          [
           0.23475154057656103
          ],
          [
           0.5104544312957207
          ],
          [
           0.6283874312932574
          ],
          [
           0.6527032496679619
          ],
          [
           0.4435931587729718
          ],
          [
           0.7017126270924466
          ],
          [
           0.6718643195758709
          ],
          [
           0.7130269603102164
          ],
          [
           0.5751895683364967
          ],
          [
           0.544221615863098
          ],
          [
           0.6127735813473967
          ],
          [
           0.5296913334350503
          ],
          [
           0.6938553789239817
          ],
          [
           0.5758589775299001
          ],
          [
           0.5428201500631278
          ],
          [
           0.6351658714039933
          ],
          [
           0.3529917811847468
          ],
          [
           0.7056757519513314
          ],
          [
           0.6190390926949204
          ],
          [
           0.5044576537717296
          ],
          [
           0.8168661934292715
          ],
          [
           0.6661445234957816
          ],
          [
           0.678859448779745
          ],
          [
           0.6717613456077461
          ],
          [
           0.5451825627368614
          ],
          [
           0.6290201177100945
          ],
          [
           0.7513122457169392
          ],
          [
           0.8357938341008702
          ],
          [
           0.7266326194290824
          ],
          [
           0.6833725347069163
          ],
          [
           0.5987850871367679
          ],
          [
           0.6382738717437708
          ],
          [
           0.7072914680510509
          ],
          [
           0.663904236040216
          ],
          [
           0.6619290643384139
          ],
          [
           0.5088040940498204
          ],
          [
           0.5601242545478786
          ],
          [
           0.6660271640260375
          ],
          [
           0.5979476797602311
          ],
          [
           0.6795038668014014
          ],
          [
           0.6316810303624253
          ],
          [
           0.5367761298428604
          ],
          [
           0.432070742938089
          ],
          [
           0.6078893133714112
          ],
          [
           0.7443383285176102
          ],
          [
           0.6179542243972439
          ],
          [
           0.559925056520429
          ],
          [
           0.7708086809358974
          ],
          [
           0.6994201598034736
          ],
          [
           0.6801857280538638
          ],
          [
           0.5595629137229965
          ],
          [
           0.5685469831543217
          ],
          [
           0.6329877512515955
          ],
          [
           0.6513226364909547
          ],
          [
           0.6815106461589298
          ],
          [
           0.6574531134579178
          ],
          [
           0.5797897018278984
          ],
          [
           0.5594670582104594
          ],
          [
           0.6223987001873603
          ],
          [
           0.5968822377627365
          ],
          [
           0.6590068014904706
          ],
          [
           0.5971239351816431
          ],
          [
           0.5442472118911712
          ],
          [
           0.5133210139173089
          ],
          [
           0.6309101276345811
          ],
          [
           0.6258761871252876
          ],
          [
           0.6545571357639206
          ],
          [
           0.556811017946608
          ],
          [
           0.5670644799569038
          ],
          [
           0.5503249757831423
          ],
          [
           0.6091085483067388
          ],
          [
           0.6033927207738349
          ],
          [
           0.6507269630775074
          ],
          [
           0.5609103874581636
          ],
          [
           0.5873151441934052
          ],
          [
           0.6318006679072079
          ],
          [
           0.6205016706474473
          ],
          [
           0.6370951666640425
          ],
          [
           0.6775009817584571
          ],
          [
           0.6255709659466212
          ],
          [
           0.5396499514714557
          ],
          [
           0.5328485265941459
          ],
          [
           0.6314501493133526
          ],
          [
           0.6336805510549713
          ],
          [
           0.6713262276253249
          ],
          [
           0.6481213731119179
          ],
          [
           0.5591994885031338
          ],
          [
           0.5463829155318541
          ],
          [
           0.603714592363535
          ],
          [
           0.5781520632868111
          ],
          [
           0.6543252058423402
          ],
          [
           0.5837767348824312
          ],
          [
           0.539122104948555
          ],
          [
           0.5291028916139837
          ],
          [
           0.6221497554523133
          ],
          [
           0.5928608681520589
          ],
          [
           0.6375394857986358
          ],
          [
           0.5660932091419053
          ],
          [
           0.5420711624161512
          ],
          [
           0.5489418591888184
          ],
          [
           0.5994710607351391
          ],
          [
           0.5947271492472903
          ],
          [
           0.6366719911057224
          ],
          [
           0.5501266523645939
          ],
          [
           0.5641335485267137
          ],
          [
           0.6446893881023329
          ],
          [
           0.6116934149167235
          ],
          [
           0.626194767196836
          ],
          [
           0.6704470431798759
          ],
          [
           0.619905878845051
          ],
          [
           0.5464579157675999
          ],
          [
           0.5455283030508693
          ],
          [
           0.6123050317173727
          ],
          [
           0.6035342724383791
          ],
          [
           0.651998926532008
          ],
          [
           0.5907828574789985
          ],
          [
           0.6292466248114046
          ],
          [
           0.5898191260458483
          ]
         ],
         "domain": {
          "x": [
           0,
           1
          ],
          "y": [
           0,
           1
          ]
         },
         "hovertemplate": "labels=%{label}<br>count=%{value}<br>parent=%{parent}<br>id=%{id}<br>Quality=%{color}<extra></extra>",
         "ids": [
          "Man/sideways/downwards/asian",
          "Woman/sideways/downwards/asian",
          "Man/slightly_turned/downwards/asian",
          "Woman/slightly_turned/downwards/asian",
          "Man/straight/downwards/asian",
          "Woman/straight/downwards/asian",
          "Man/sideways/slightly_downwards/asian",
          "Woman/sideways/slightly_downwards/asian",
          "Man/slightly_turned/slightly_downwards/asian",
          "Woman/slightly_turned/slightly_downwards/asian",
          "Man/straight/slightly_downwards/asian",
          "Woman/straight/slightly_downwards/asian",
          "Man/sideways/slightly_upwards/asian",
          "Woman/sideways/slightly_upwards/asian",
          "Man/slightly_turned/slightly_upwards/asian",
          "Woman/slightly_turned/slightly_upwards/asian",
          "Man/straight/slightly_upwards/asian",
          "Woman/straight/slightly_upwards/asian",
          "Man/sideways/straight/asian",
          "Woman/sideways/straight/asian",
          "Man/slightly_turned/straight/asian",
          "Woman/slightly_turned/straight/asian",
          "Man/straight/straight/asian",
          "Woman/straight/straight/asian",
          "Man/sideways/upwards/asian",
          "Woman/sideways/upwards/asian",
          "Man/slightly_turned/upwards/asian",
          "Woman/slightly_turned/upwards/asian",
          "Man/straight/upwards/asian",
          "Woman/straight/upwards/asian",
          "Man/sideways/downwards/black",
          "Man/slightly_turned/downwards/black",
          "Woman/slightly_turned/downwards/black",
          "Man/straight/downwards/black",
          "Woman/straight/downwards/black",
          "Man/sideways/slightly_downwards/black",
          "Man/slightly_turned/slightly_downwards/black",
          "Man/straight/slightly_downwards/black",
          "Woman/straight/slightly_downwards/black",
          "Man/sideways/slightly_upwards/black",
          "Woman/sideways/slightly_upwards/black",
          "Man/slightly_turned/slightly_upwards/black",
          "Man/straight/slightly_upwards/black",
          "Woman/straight/slightly_upwards/black",
          "Man/sideways/straight/black",
          "Man/slightly_turned/straight/black",
          "Woman/slightly_turned/straight/black",
          "Man/straight/straight/black",
          "Woman/straight/straight/black",
          "Man/slightly_turned/upwards/black",
          "Man/straight/upwards/black",
          "Man/sideways/downwards/indian",
          "Man/slightly_turned/downwards/indian",
          "Man/straight/downwards/indian",
          "Woman/straight/downwards/indian",
          "Man/sideways/slightly_downwards/indian",
          "Man/slightly_turned/slightly_downwards/indian",
          "Man/straight/slightly_downwards/indian",
          "Woman/straight/slightly_downwards/indian",
          "Woman/sideways/slightly_upwards/indian",
          "Man/slightly_turned/slightly_upwards/indian",
          "Man/straight/slightly_upwards/indian",
          "Man/sideways/straight/indian",
          "Man/slightly_turned/straight/indian",
          "Man/straight/straight/indian",
          "Man/straight/upwards/indian",
          "Man/sideways/downwards/latino hispanic",
          "Man/slightly_turned/downwards/latino hispanic",
          "Woman/slightly_turned/downwards/latino hispanic",
          "Man/straight/downwards/latino hispanic",
          "Woman/straight/downwards/latino hispanic",
          "Man/sideways/slightly_downwards/latino hispanic",
          "Man/slightly_turned/slightly_downwards/latino hispanic",
          "Woman/slightly_turned/slightly_downwards/latino hispanic",
          "Man/straight/slightly_downwards/latino hispanic",
          "Woman/straight/slightly_downwards/latino hispanic",
          "Man/sideways/slightly_upwards/latino hispanic",
          "Man/slightly_turned/slightly_upwards/latino hispanic",
          "Woman/slightly_turned/slightly_upwards/latino hispanic",
          "Man/straight/slightly_upwards/latino hispanic",
          "Woman/straight/slightly_upwards/latino hispanic",
          "Man/sideways/straight/latino hispanic",
          "Woman/sideways/straight/latino hispanic",
          "Man/slightly_turned/straight/latino hispanic",
          "Woman/slightly_turned/straight/latino hispanic",
          "Man/straight/straight/latino hispanic",
          "Woman/straight/straight/latino hispanic",
          "Man/sideways/upwards/latino hispanic",
          "Man/slightly_turned/upwards/latino hispanic",
          "Woman/slightly_turned/upwards/latino hispanic",
          "Man/straight/upwards/latino hispanic",
          "Woman/straight/upwards/latino hispanic",
          "Man/sideways/downwards/middle eastern",
          "Man/slightly_turned/downwards/middle eastern",
          "Woman/slightly_turned/downwards/middle eastern",
          "Man/straight/downwards/middle eastern",
          "Woman/straight/downwards/middle eastern",
          "Man/sideways/slightly_downwards/middle eastern",
          "Man/slightly_turned/slightly_downwards/middle eastern",
          "Man/straight/slightly_downwards/middle eastern",
          "Man/sideways/slightly_upwards/middle eastern",
          "Man/slightly_turned/slightly_upwards/middle eastern",
          "Man/straight/slightly_upwards/middle eastern",
          "Man/sideways/straight/middle eastern",
          "Woman/sideways/straight/middle eastern",
          "Man/slightly_turned/straight/middle eastern",
          "Woman/slightly_turned/straight/middle eastern",
          "Man/straight/straight/middle eastern",
          "Woman/straight/straight/middle eastern",
          "Man/sideways/upwards/middle eastern",
          "Man/slightly_turned/upwards/middle eastern",
          "Man/straight/upwards/middle eastern",
          "Man/sideways/downwards/white",
          "Woman/sideways/downwards/white",
          "Man/slightly_turned/downwards/white",
          "Woman/slightly_turned/downwards/white",
          "Man/straight/downwards/white",
          "Woman/straight/downwards/white",
          "Man/sideways/slightly_downwards/white",
          "Woman/sideways/slightly_downwards/white",
          "Man/slightly_turned/slightly_downwards/white",
          "Woman/slightly_turned/slightly_downwards/white",
          "Man/straight/slightly_downwards/white",
          "Woman/straight/slightly_downwards/white",
          "Man/sideways/slightly_upwards/white",
          "Woman/sideways/slightly_upwards/white",
          "Man/slightly_turned/slightly_upwards/white",
          "Woman/slightly_turned/slightly_upwards/white",
          "Man/straight/slightly_upwards/white",
          "Woman/straight/slightly_upwards/white",
          "Man/sideways/straight/white",
          "Woman/sideways/straight/white",
          "Man/slightly_turned/straight/white",
          "Woman/slightly_turned/straight/white",
          "Man/straight/straight/white",
          "Woman/straight/straight/white",
          "Man/sideways/upwards/white",
          "Woman/sideways/upwards/white",
          "Man/slightly_turned/upwards/white",
          "Woman/slightly_turned/upwards/white",
          "Man/straight/upwards/white",
          "Woman/straight/upwards/white",
          "Man/sideways/downwards",
          "Woman/sideways/downwards",
          "Man/slightly_turned/downwards",
          "Woman/slightly_turned/downwards",
          "Man/straight/downwards",
          "Woman/straight/downwards",
          "Man/sideways/slightly_downwards",
          "Woman/sideways/slightly_downwards",
          "Man/slightly_turned/slightly_downwards",
          "Woman/slightly_turned/slightly_downwards",
          "Man/straight/slightly_downwards",
          "Woman/straight/slightly_downwards",
          "Man/sideways/slightly_upwards",
          "Woman/sideways/slightly_upwards",
          "Man/slightly_turned/slightly_upwards",
          "Woman/slightly_turned/slightly_upwards",
          "Man/straight/slightly_upwards",
          "Woman/straight/slightly_upwards",
          "Man/sideways/straight",
          "Woman/sideways/straight",
          "Man/slightly_turned/straight",
          "Woman/slightly_turned/straight",
          "Man/straight/straight",
          "Woman/straight/straight",
          "Man/sideways/upwards",
          "Woman/sideways/upwards",
          "Man/slightly_turned/upwards",
          "Woman/slightly_turned/upwards",
          "Man/straight/upwards",
          "Woman/straight/upwards",
          "Man/sideways",
          "Woman/sideways",
          "Man/slightly_turned",
          "Woman/slightly_turned",
          "Man/straight",
          "Woman/straight",
          "Man",
          "Woman"
         ],
         "labels": [
          "asian",
          "asian",
          "asian",
          "asian",
          "asian",
          "asian",
          "asian",
          "asian",
          "asian",
          "asian",
          "asian",
          "asian",
          "asian",
          "asian",
          "asian",
          "asian",
          "asian",
          "asian",
          "asian",
          "asian",
          "asian",
          "asian",
          "asian",
          "asian",
          "asian",
          "asian",
          "asian",
          "asian",
          "asian",
          "asian",
          "black",
          "black",
          "black",
          "black",
          "black",
          "black",
          "black",
          "black",
          "black",
          "black",
          "black",
          "black",
          "black",
          "black",
          "black",
          "black",
          "black",
          "black",
          "black",
          "black",
          "black",
          "indian",
          "indian",
          "indian",
          "indian",
          "indian",
          "indian",
          "indian",
          "indian",
          "indian",
          "indian",
          "indian",
          "indian",
          "indian",
          "indian",
          "indian",
          "latino hispanic",
          "latino hispanic",
          "latino hispanic",
          "latino hispanic",
          "latino hispanic",
          "latino hispanic",
          "latino hispanic",
          "latino hispanic",
          "latino hispanic",
          "latino hispanic",
          "latino hispanic",
          "latino hispanic",
          "latino hispanic",
          "latino hispanic",
          "latino hispanic",
          "latino hispanic",
          "latino hispanic",
          "latino hispanic",
          "latino hispanic",
          "latino hispanic",
          "latino hispanic",
          "latino hispanic",
          "latino hispanic",
          "latino hispanic",
          "latino hispanic",
          "latino hispanic",
          "middle eastern",
          "middle eastern",
          "middle eastern",
          "middle eastern",
          "middle eastern",
          "middle eastern",
          "middle eastern",
          "middle eastern",
          "middle eastern",
          "middle eastern",
          "middle eastern",
          "middle eastern",
          "middle eastern",
          "middle eastern",
          "middle eastern",
          "middle eastern",
          "middle eastern",
          "middle eastern",
          "middle eastern",
          "middle eastern",
          "white",
          "white",
          "white",
          "white",
          "white",
          "white",
          "white",
          "white",
          "white",
          "white",
          "white",
          "white",
          "white",
          "white",
          "white",
          "white",
          "white",
          "white",
          "white",
          "white",
          "white",
          "white",
          "white",
          "white",
          "white",
          "white",
          "white",
          "white",
          "white",
          "white",
          "downwards",
          "downwards",
          "downwards",
          "downwards",
          "downwards",
          "downwards",
          "slightly_downwards",
          "slightly_downwards",
          "slightly_downwards",
          "slightly_downwards",
          "slightly_downwards",
          "slightly_downwards",
          "slightly_upwards",
          "slightly_upwards",
          "slightly_upwards",
          "slightly_upwards",
          "slightly_upwards",
          "slightly_upwards",
          "straight",
          "straight",
          "straight",
          "straight",
          "straight",
          "straight",
          "upwards",
          "upwards",
          "upwards",
          "upwards",
          "upwards",
          "upwards",
          "sideways",
          "sideways",
          "slightly_turned",
          "slightly_turned",
          "straight",
          "straight",
          "Man",
          "Woman"
         ],
         "marker": {
          "coloraxis": "coloraxis",
          "colors": [
           0.4791129029685571,
           0.2615402567368098,
           0.604672795912845,
           0.5131546323648305,
           0.6365541974431466,
           0.61976313748047,
           0.4973365921584557,
           0.48357903067454877,
           0.5547859654818542,
           0.4742442624187966,
           0.6141939486733552,
           0.5003733557275118,
           0.5015067958222407,
           0.6180842037755174,
           0.585831086940937,
           0.514962334585154,
           0.5627470830323467,
           0.625197575174777,
           0.4678481543722029,
           0.5410976759130826,
           0.5603756977504739,
           0.5195783428963704,
           0.5933094954280783,
           0.4868880786873589,
           0.35777545638950825,
           0.6897999087852702,
           0.5515546585040636,
           0.5164789219455957,
           0.6326044528176271,
           0.5954801121753459,
           0.3831116383630817,
           0.5523695695285595,
           0.3703428906296073,
           0.5974299618376492,
           0.6526248415595817,
           0.4559488848371287,
           0.5719252003764508,
           0.6506231136607749,
           0.5435428982466426,
           0.5796261712961422,
           0.5071196790937624,
           0.5672478951122878,
           0.5903654109492242,
           0.43028115260016114,
           0.4626087266356224,
           0.5453070516860271,
           0.4306097695628652,
           0.6005986083196156,
           0.35784172461352537,
           0.5171340268442115,
           0.593795950796916,
           0.4276717102518074,
           0.6570866104050506,
           0.6272069510500871,
           0.7558625615157148,
           0.6838833139746944,
           0.6101657598222695,
           0.6835872935361854,
           0.8448267026204193,
           0.6054896756016136,
           0.6814030164952033,
           0.6995317319492232,
           0.23475154057656103,
           0.5104544312957207,
           0.6283874312932574,
           0.6527032496679619,
           0.4435931587729718,
           0.7017126270924466,
           0.6718643195758709,
           0.7130269603102164,
           0.5751895683364967,
           0.544221615863098,
           0.6127735813473967,
           0.5296913334350503,
           0.6938553789239817,
           0.5758589775299001,
           0.5428201500631278,
           0.6351658714039933,
           0.3529917811847468,
           0.7056757519513314,
           0.6190390926949204,
           0.5044576537717296,
           0.8168661934292715,
           0.6661445234957816,
           0.678859448779745,
           0.6717613456077461,
           0.5451825627368614,
           0.6290201177100945,
           0.7513122457169392,
           0.8357938341008702,
           0.7266326194290824,
           0.6833725347069163,
           0.5987850871367679,
           0.6382738717437708,
           0.7072914680510509,
           0.663904236040216,
           0.6619290643384139,
           0.5088040940498204,
           0.5601242545478786,
           0.6660271640260375,
           0.5979476797602311,
           0.6795038668014014,
           0.6316810303624253,
           0.5367761298428604,
           0.432070742938089,
           0.6078893133714112,
           0.7443383285176102,
           0.6179542243972439,
           0.559925056520429,
           0.7708086809358974,
           0.6994201598034736,
           0.6801857280538638,
           0.5595629137229965,
           0.5685469831543217,
           0.6329877512515955,
           0.6513226364909547,
           0.6815106461589298,
           0.6574531134579178,
           0.5797897018278984,
           0.5594670582104594,
           0.6223987001873603,
           0.5968822377627365,
           0.6590068014904706,
           0.5971239351816431,
           0.5442472118911712,
           0.5133210139173089,
           0.6309101276345811,
           0.6258761871252876,
           0.6545571357639206,
           0.556811017946608,
           0.5670644799569038,
           0.5503249757831423,
           0.6091085483067388,
           0.6033927207738349,
           0.6507269630775074,
           0.5609103874581636,
           0.5873151441934052,
           0.6318006679072079,
           0.6205016706474473,
           0.6370951666640425,
           0.6775009817584571,
           0.6255709659466212,
           0.5396499514714557,
           0.5328485265941459,
           0.6314501493133526,
           0.6336805510549713,
           0.6713262276253249,
           0.6481213731119179,
           0.5591994885031338,
           0.5463829155318541,
           0.603714592363535,
           0.5781520632868111,
           0.6543252058423402,
           0.5837767348824312,
           0.539122104948555,
           0.5291028916139837,
           0.6221497554523133,
           0.5928608681520589,
           0.6375394857986358,
           0.5660932091419053,
           0.5420711624161512,
           0.5489418591888184,
           0.5994710607351391,
           0.5947271492472903,
           0.6366719911057224,
           0.5501266523645939,
           0.5641335485267137,
           0.6446893881023329,
           0.6116934149167235,
           0.626194767196836,
           0.6704470431798759,
           0.619905878845051,
           0.5464579157675999,
           0.5455283030508693,
           0.6123050317173727,
           0.6035342724383791,
           0.651998926532008,
           0.5907828574789985,
           0.6292466248114046,
           0.5898191260458483
          ]
         },
         "name": "",
         "parents": [
          "Man/sideways/downwards",
          "Woman/sideways/downwards",
          "Man/slightly_turned/downwards",
          "Woman/slightly_turned/downwards",
          "Man/straight/downwards",
          "Woman/straight/downwards",
          "Man/sideways/slightly_downwards",
          "Woman/sideways/slightly_downwards",
          "Man/slightly_turned/slightly_downwards",
          "Woman/slightly_turned/slightly_downwards",
          "Man/straight/slightly_downwards",
          "Woman/straight/slightly_downwards",
          "Man/sideways/slightly_upwards",
          "Woman/sideways/slightly_upwards",
          "Man/slightly_turned/slightly_upwards",
          "Woman/slightly_turned/slightly_upwards",
          "Man/straight/slightly_upwards",
          "Woman/straight/slightly_upwards",
          "Man/sideways/straight",
          "Woman/sideways/straight",
          "Man/slightly_turned/straight",
          "Woman/slightly_turned/straight",
          "Man/straight/straight",
          "Woman/straight/straight",
          "Man/sideways/upwards",
          "Woman/sideways/upwards",
          "Man/slightly_turned/upwards",
          "Woman/slightly_turned/upwards",
          "Man/straight/upwards",
          "Woman/straight/upwards",
          "Man/sideways/downwards",
          "Man/slightly_turned/downwards",
          "Woman/slightly_turned/downwards",
          "Man/straight/downwards",
          "Woman/straight/downwards",
          "Man/sideways/slightly_downwards",
          "Man/slightly_turned/slightly_downwards",
          "Man/straight/slightly_downwards",
          "Woman/straight/slightly_downwards",
          "Man/sideways/slightly_upwards",
          "Woman/sideways/slightly_upwards",
          "Man/slightly_turned/slightly_upwards",
          "Man/straight/slightly_upwards",
          "Woman/straight/slightly_upwards",
          "Man/sideways/straight",
          "Man/slightly_turned/straight",
          "Woman/slightly_turned/straight",
          "Man/straight/straight",
          "Woman/straight/straight",
          "Man/slightly_turned/upwards",
          "Man/straight/upwards",
          "Man/sideways/downwards",
          "Man/slightly_turned/downwards",
          "Man/straight/downwards",
          "Woman/straight/downwards",
          "Man/sideways/slightly_downwards",
          "Man/slightly_turned/slightly_downwards",
          "Man/straight/slightly_downwards",
          "Woman/straight/slightly_downwards",
          "Woman/sideways/slightly_upwards",
          "Man/slightly_turned/slightly_upwards",
          "Man/straight/slightly_upwards",
          "Man/sideways/straight",
          "Man/slightly_turned/straight",
          "Man/straight/straight",
          "Man/straight/upwards",
          "Man/sideways/downwards",
          "Man/slightly_turned/downwards",
          "Woman/slightly_turned/downwards",
          "Man/straight/downwards",
          "Woman/straight/downwards",
          "Man/sideways/slightly_downwards",
          "Man/slightly_turned/slightly_downwards",
          "Woman/slightly_turned/slightly_downwards",
          "Man/straight/slightly_downwards",
          "Woman/straight/slightly_downwards",
          "Man/sideways/slightly_upwards",
          "Man/slightly_turned/slightly_upwards",
          "Woman/slightly_turned/slightly_upwards",
          "Man/straight/slightly_upwards",
          "Woman/straight/slightly_upwards",
          "Man/sideways/straight",
          "Woman/sideways/straight",
          "Man/slightly_turned/straight",
          "Woman/slightly_turned/straight",
          "Man/straight/straight",
          "Woman/straight/straight",
          "Man/sideways/upwards",
          "Man/slightly_turned/upwards",
          "Woman/slightly_turned/upwards",
          "Man/straight/upwards",
          "Woman/straight/upwards",
          "Man/sideways/downwards",
          "Man/slightly_turned/downwards",
          "Woman/slightly_turned/downwards",
          "Man/straight/downwards",
          "Woman/straight/downwards",
          "Man/sideways/slightly_downwards",
          "Man/slightly_turned/slightly_downwards",
          "Man/straight/slightly_downwards",
          "Man/sideways/slightly_upwards",
          "Man/slightly_turned/slightly_upwards",
          "Man/straight/slightly_upwards",
          "Man/sideways/straight",
          "Woman/sideways/straight",
          "Man/slightly_turned/straight",
          "Woman/slightly_turned/straight",
          "Man/straight/straight",
          "Woman/straight/straight",
          "Man/sideways/upwards",
          "Man/slightly_turned/upwards",
          "Man/straight/upwards",
          "Man/sideways/downwards",
          "Woman/sideways/downwards",
          "Man/slightly_turned/downwards",
          "Woman/slightly_turned/downwards",
          "Man/straight/downwards",
          "Woman/straight/downwards",
          "Man/sideways/slightly_downwards",
          "Woman/sideways/slightly_downwards",
          "Man/slightly_turned/slightly_downwards",
          "Woman/slightly_turned/slightly_downwards",
          "Man/straight/slightly_downwards",
          "Woman/straight/slightly_downwards",
          "Man/sideways/slightly_upwards",
          "Woman/sideways/slightly_upwards",
          "Man/slightly_turned/slightly_upwards",
          "Woman/slightly_turned/slightly_upwards",
          "Man/straight/slightly_upwards",
          "Woman/straight/slightly_upwards",
          "Man/sideways/straight",
          "Woman/sideways/straight",
          "Man/slightly_turned/straight",
          "Woman/slightly_turned/straight",
          "Man/straight/straight",
          "Woman/straight/straight",
          "Man/sideways/upwards",
          "Woman/sideways/upwards",
          "Man/slightly_turned/upwards",
          "Woman/slightly_turned/upwards",
          "Man/straight/upwards",
          "Woman/straight/upwards",
          "Man/sideways",
          "Woman/sideways",
          "Man/slightly_turned",
          "Woman/slightly_turned",
          "Man/straight",
          "Woman/straight",
          "Man/sideways",
          "Woman/sideways",
          "Man/slightly_turned",
          "Woman/slightly_turned",
          "Man/straight",
          "Woman/straight",
          "Man/sideways",
          "Woman/sideways",
          "Man/slightly_turned",
          "Woman/slightly_turned",
          "Man/straight",
          "Woman/straight",
          "Man/sideways",
          "Woman/sideways",
          "Man/slightly_turned",
          "Woman/slightly_turned",
          "Man/straight",
          "Woman/straight",
          "Man/sideways",
          "Woman/sideways",
          "Man/slightly_turned",
          "Woman/slightly_turned",
          "Man/straight",
          "Woman/straight",
          "Man",
          "Woman",
          "Man",
          "Woman",
          "Man",
          "Woman",
          "",
          ""
         ],
         "type": "sunburst",
         "values": [
          28,
          5,
          74,
          11,
          236,
          24,
          40,
          5,
          85,
          10,
          201,
          32,
          29,
          4,
          57,
          13,
          138,
          23,
          58,
          10,
          141,
          14,
          299,
          27,
          7,
          2,
          18,
          7,
          36,
          18,
          9,
          18,
          2,
          45,
          9,
          7,
          23,
          76,
          5,
          3,
          1,
          25,
          61,
          6,
          14,
          34,
          3,
          101,
          5,
          11,
          24,
          2,
          5,
          11,
          2,
          5,
          6,
          7,
          2,
          1,
          1,
          3,
          1,
          4,
          17,
          4,
          11,
          30,
          4,
          64,
          22,
          23,
          35,
          6,
          73,
          17,
          17,
          24,
          5,
          52,
          9,
          19,
          1,
          31,
          7,
          83,
          14,
          3,
          6,
          2,
          22,
          3,
          27,
          85,
          2,
          147,
          3,
          14,
          52,
          112,
          6,
          12,
          48,
          30,
          2,
          51,
          1,
          110,
          1,
          1,
          3,
          23,
          140,
          38,
          383,
          88,
          1025,
          213,
          176,
          24,
          364,
          71,
          843,
          186,
          108,
          26,
          272,
          67,
          573,
          110,
          264,
          32,
          541,
          93,
          1131,
          253,
          45,
          7,
          116,
          32,
          257,
          44,
          217,
          43,
          595,
          107,
          1528,
          273,
          265,
          29,
          565,
          87,
          1312,
          242,
          163,
          32,
          391,
          85,
          875,
          148,
          386,
          45,
          802,
          118,
          1741,
          300,
          56,
          9,
          154,
          41,
          366,
          65,
          1087,
          158,
          2507,
          438,
          5822,
          1028,
          9416,
          1624
         ]
        }
       ],
       "layout": {
        "coloraxis": {
         "cmax": 1,
         "cmin": 0,
         "colorbar": {
          "title": {
           "text": "Quality"
          }
         },
         "colorscale": [
          [
           0,
           "#440154"
          ],
          [
           0.1111111111111111,
           "#482878"
          ],
          [
           0.2222222222222222,
           "#3e4989"
          ],
          [
           0.3333333333333333,
           "#31688e"
          ],
          [
           0.4444444444444444,
           "#26828e"
          ],
          [
           0.5555555555555556,
           "#1f9e89"
          ],
          [
           0.6666666666666666,
           "#35b779"
          ],
          [
           0.7777777777777778,
           "#6ece58"
          ],
          [
           0.8888888888888888,
           "#b5de2b"
          ],
          [
           1,
           "#fde725"
          ]
         ]
        },
        "legend": {
         "tracegroupgap": 0
        },
        "template": {
         "data": {
          "bar": [
           {
            "error_x": {
             "color": "#2a3f5f"
            },
            "error_y": {
             "color": "#2a3f5f"
            },
            "marker": {
             "line": {
              "color": "#E5ECF6",
              "width": 0.5
             },
             "pattern": {
              "fillmode": "overlay",
              "size": 10,
              "solidity": 0.2
             }
            },
            "type": "bar"
           }
          ],
          "barpolar": [
           {
            "marker": {
             "line": {
              "color": "#E5ECF6",
              "width": 0.5
             },
             "pattern": {
              "fillmode": "overlay",
              "size": 10,
              "solidity": 0.2
             }
            },
            "type": "barpolar"
           }
          ],
          "carpet": [
           {
            "aaxis": {
             "endlinecolor": "#2a3f5f",
             "gridcolor": "white",
             "linecolor": "white",
             "minorgridcolor": "white",
             "startlinecolor": "#2a3f5f"
            },
            "baxis": {
             "endlinecolor": "#2a3f5f",
             "gridcolor": "white",
             "linecolor": "white",
             "minorgridcolor": "white",
             "startlinecolor": "#2a3f5f"
            },
            "type": "carpet"
           }
          ],
          "choropleth": [
           {
            "colorbar": {
             "outlinewidth": 0,
             "ticks": ""
            },
            "type": "choropleth"
           }
          ],
          "contour": [
           {
            "colorbar": {
             "outlinewidth": 0,
             "ticks": ""
            },
            "colorscale": [
             [
              0,
              "#0d0887"
             ],
             [
              0.1111111111111111,
              "#46039f"
             ],
             [
              0.2222222222222222,
              "#7201a8"
             ],
             [
              0.3333333333333333,
              "#9c179e"
             ],
             [
              0.4444444444444444,
              "#bd3786"
             ],
             [
              0.5555555555555556,
              "#d8576b"
             ],
             [
              0.6666666666666666,
              "#ed7953"
             ],
             [
              0.7777777777777778,
              "#fb9f3a"
             ],
             [
              0.8888888888888888,
              "#fdca26"
             ],
             [
              1,
              "#f0f921"
             ]
            ],
            "type": "contour"
           }
          ],
          "contourcarpet": [
           {
            "colorbar": {
             "outlinewidth": 0,
             "ticks": ""
            },
            "type": "contourcarpet"
           }
          ],
          "heatmap": [
           {
            "colorbar": {
             "outlinewidth": 0,
             "ticks": ""
            },
            "colorscale": [
             [
              0,
              "#0d0887"
             ],
             [
              0.1111111111111111,
              "#46039f"
             ],
             [
              0.2222222222222222,
              "#7201a8"
             ],
             [
              0.3333333333333333,
              "#9c179e"
             ],
             [
              0.4444444444444444,
              "#bd3786"
             ],
             [
              0.5555555555555556,
              "#d8576b"
             ],
             [
              0.6666666666666666,
              "#ed7953"
             ],
             [
              0.7777777777777778,
              "#fb9f3a"
             ],
             [
              0.8888888888888888,
              "#fdca26"
             ],
             [
              1,
              "#f0f921"
             ]
            ],
            "type": "heatmap"
           }
          ],
          "heatmapgl": [
           {
            "colorbar": {
             "outlinewidth": 0,
             "ticks": ""
            },
            "colorscale": [
             [
              0,
              "#0d0887"
             ],
             [
              0.1111111111111111,
              "#46039f"
             ],
             [
              0.2222222222222222,
              "#7201a8"
             ],
             [
              0.3333333333333333,
              "#9c179e"
             ],
             [
              0.4444444444444444,
              "#bd3786"
             ],
             [
              0.5555555555555556,
              "#d8576b"
             ],
             [
              0.6666666666666666,
              "#ed7953"
             ],
             [
              0.7777777777777778,
              "#fb9f3a"
             ],
             [
              0.8888888888888888,
              "#fdca26"
             ],
             [
              1,
              "#f0f921"
             ]
            ],
            "type": "heatmapgl"
           }
          ],
          "histogram": [
           {
            "marker": {
             "pattern": {
              "fillmode": "overlay",
              "size": 10,
              "solidity": 0.2
             }
            },
            "type": "histogram"
           }
          ],
          "histogram2d": [
           {
            "colorbar": {
             "outlinewidth": 0,
             "ticks": ""
            },
            "colorscale": [
             [
              0,
              "#0d0887"
             ],
             [
              0.1111111111111111,
              "#46039f"
             ],
             [
              0.2222222222222222,
              "#7201a8"
             ],
             [
              0.3333333333333333,
              "#9c179e"
             ],
             [
              0.4444444444444444,
              "#bd3786"
             ],
             [
              0.5555555555555556,
              "#d8576b"
             ],
             [
              0.6666666666666666,
              "#ed7953"
             ],
             [
              0.7777777777777778,
              "#fb9f3a"
             ],
             [
              0.8888888888888888,
              "#fdca26"
             ],
             [
              1,
              "#f0f921"
             ]
            ],
            "type": "histogram2d"
           }
          ],
          "histogram2dcontour": [
           {
            "colorbar": {
             "outlinewidth": 0,
             "ticks": ""
            },
            "colorscale": [
             [
              0,
              "#0d0887"
             ],
             [
              0.1111111111111111,
              "#46039f"
             ],
             [
              0.2222222222222222,
              "#7201a8"
             ],
             [
              0.3333333333333333,
              "#9c179e"
             ],
             [
              0.4444444444444444,
              "#bd3786"
             ],
             [
              0.5555555555555556,
              "#d8576b"
             ],
             [
              0.6666666666666666,
              "#ed7953"
             ],
             [
              0.7777777777777778,
              "#fb9f3a"
             ],
             [
              0.8888888888888888,
              "#fdca26"
             ],
             [
              1,
              "#f0f921"
             ]
            ],
            "type": "histogram2dcontour"
           }
          ],
          "mesh3d": [
           {
            "colorbar": {
             "outlinewidth": 0,
             "ticks": ""
            },
            "type": "mesh3d"
           }
          ],
          "parcoords": [
           {
            "line": {
             "colorbar": {
              "outlinewidth": 0,
              "ticks": ""
             }
            },
            "type": "parcoords"
           }
          ],
          "pie": [
           {
            "automargin": true,
            "type": "pie"
           }
          ],
          "scatter": [
           {
            "fillpattern": {
             "fillmode": "overlay",
             "size": 10,
             "solidity": 0.2
            },
            "type": "scatter"
           }
          ],
          "scatter3d": [
           {
            "line": {
             "colorbar": {
              "outlinewidth": 0,
              "ticks": ""
             }
            },
            "marker": {
             "colorbar": {
              "outlinewidth": 0,
              "ticks": ""
             }
            },
            "type": "scatter3d"
           }
          ],
          "scattercarpet": [
           {
            "marker": {
             "colorbar": {
              "outlinewidth": 0,
              "ticks": ""
             }
            },
            "type": "scattercarpet"
           }
          ],
          "scattergeo": [
           {
            "marker": {
             "colorbar": {
              "outlinewidth": 0,
              "ticks": ""
             }
            },
            "type": "scattergeo"
           }
          ],
          "scattergl": [
           {
            "marker": {
             "colorbar": {
              "outlinewidth": 0,
              "ticks": ""
             }
            },
            "type": "scattergl"
           }
          ],
          "scattermapbox": [
           {
            "marker": {
             "colorbar": {
              "outlinewidth": 0,
              "ticks": ""
             }
            },
            "type": "scattermapbox"
           }
          ],
          "scatterpolar": [
           {
            "marker": {
             "colorbar": {
              "outlinewidth": 0,
              "ticks": ""
             }
            },
            "type": "scatterpolar"
           }
          ],
          "scatterpolargl": [
           {
            "marker": {
             "colorbar": {
              "outlinewidth": 0,
              "ticks": ""
             }
            },
            "type": "scatterpolargl"
           }
          ],
          "scatterternary": [
           {
            "marker": {
             "colorbar": {
              "outlinewidth": 0,
              "ticks": ""
             }
            },
            "type": "scatterternary"
           }
          ],
          "surface": [
           {
            "colorbar": {
             "outlinewidth": 0,
             "ticks": ""
            },
            "colorscale": [
             [
              0,
              "#0d0887"
             ],
             [
              0.1111111111111111,
              "#46039f"
             ],
             [
              0.2222222222222222,
              "#7201a8"
             ],
             [
              0.3333333333333333,
              "#9c179e"
             ],
             [
              0.4444444444444444,
              "#bd3786"
             ],
             [
              0.5555555555555556,
              "#d8576b"
             ],
             [
              0.6666666666666666,
              "#ed7953"
             ],
             [
              0.7777777777777778,
              "#fb9f3a"
             ],
             [
              0.8888888888888888,
              "#fdca26"
             ],
             [
              1,
              "#f0f921"
             ]
            ],
            "type": "surface"
           }
          ],
          "table": [
           {
            "cells": {
             "fill": {
              "color": "#EBF0F8"
             },
             "line": {
              "color": "white"
             }
            },
            "header": {
             "fill": {
              "color": "#C8D4E3"
             },
             "line": {
              "color": "white"
             }
            },
            "type": "table"
           }
          ]
         },
         "layout": {
          "annotationdefaults": {
           "arrowcolor": "#2a3f5f",
           "arrowhead": 0,
           "arrowwidth": 1
          },
          "autotypenumbers": "strict",
          "coloraxis": {
           "colorbar": {
            "outlinewidth": 0,
            "ticks": ""
           }
          },
          "colorscale": {
           "diverging": [
            [
             0,
             "#8e0152"
            ],
            [
             0.1,
             "#c51b7d"
            ],
            [
             0.2,
             "#de77ae"
            ],
            [
             0.3,
             "#f1b6da"
            ],
            [
             0.4,
             "#fde0ef"
            ],
            [
             0.5,
             "#f7f7f7"
            ],
            [
             0.6,
             "#e6f5d0"
            ],
            [
             0.7,
             "#b8e186"
            ],
            [
             0.8,
             "#7fbc41"
            ],
            [
             0.9,
             "#4d9221"
            ],
            [
             1,
             "#276419"
            ]
           ],
           "sequential": [
            [
             0,
             "#0d0887"
            ],
            [
             0.1111111111111111,
             "#46039f"
            ],
            [
             0.2222222222222222,
             "#7201a8"
            ],
            [
             0.3333333333333333,
             "#9c179e"
            ],
            [
             0.4444444444444444,
             "#bd3786"
            ],
            [
             0.5555555555555556,
             "#d8576b"
            ],
            [
             0.6666666666666666,
             "#ed7953"
            ],
            [
             0.7777777777777778,
             "#fb9f3a"
            ],
            [
             0.8888888888888888,
             "#fdca26"
            ],
            [
             1,
             "#f0f921"
            ]
           ],
           "sequentialminus": [
            [
             0,
             "#0d0887"
            ],
            [
             0.1111111111111111,
             "#46039f"
            ],
            [
             0.2222222222222222,
             "#7201a8"
            ],
            [
             0.3333333333333333,
             "#9c179e"
            ],
            [
             0.4444444444444444,
             "#bd3786"
            ],
            [
             0.5555555555555556,
             "#d8576b"
            ],
            [
             0.6666666666666666,
             "#ed7953"
            ],
            [
             0.7777777777777778,
             "#fb9f3a"
            ],
            [
             0.8888888888888888,
             "#fdca26"
            ],
            [
             1,
             "#f0f921"
            ]
           ]
          },
          "colorway": [
           "#636efa",
           "#EF553B",
           "#00cc96",
           "#ab63fa",
           "#FFA15A",
           "#19d3f3",
           "#FF6692",
           "#B6E880",
           "#FF97FF",
           "#FECB52"
          ],
          "font": {
           "color": "#2a3f5f"
          },
          "geo": {
           "bgcolor": "white",
           "lakecolor": "white",
           "landcolor": "#E5ECF6",
           "showlakes": true,
           "showland": true,
           "subunitcolor": "white"
          },
          "hoverlabel": {
           "align": "left"
          },
          "hovermode": "closest",
          "mapbox": {
           "style": "light"
          },
          "paper_bgcolor": "white",
          "plot_bgcolor": "#E5ECF6",
          "polar": {
           "angularaxis": {
            "gridcolor": "white",
            "linecolor": "white",
            "ticks": ""
           },
           "bgcolor": "#E5ECF6",
           "radialaxis": {
            "gridcolor": "white",
            "linecolor": "white",
            "ticks": ""
           }
          },
          "scene": {
           "xaxis": {
            "backgroundcolor": "#E5ECF6",
            "gridcolor": "white",
            "gridwidth": 2,
            "linecolor": "white",
            "showbackground": true,
            "ticks": "",
            "zerolinecolor": "white"
           },
           "yaxis": {
            "backgroundcolor": "#E5ECF6",
            "gridcolor": "white",
            "gridwidth": 2,
            "linecolor": "white",
            "showbackground": true,
            "ticks": "",
            "zerolinecolor": "white"
           },
           "zaxis": {
            "backgroundcolor": "#E5ECF6",
            "gridcolor": "white",
            "gridwidth": 2,
            "linecolor": "white",
            "showbackground": true,
            "ticks": "",
            "zerolinecolor": "white"
           }
          },
          "shapedefaults": {
           "line": {
            "color": "#2a3f5f"
           }
          },
          "ternary": {
           "aaxis": {
            "gridcolor": "white",
            "linecolor": "white",
            "ticks": ""
           },
           "baxis": {
            "gridcolor": "white",
            "linecolor": "white",
            "ticks": ""
           },
           "bgcolor": "#E5ECF6",
           "caxis": {
            "gridcolor": "white",
            "linecolor": "white",
            "ticks": ""
           }
          },
          "title": {
           "x": 0.05
          },
          "xaxis": {
           "automargin": true,
           "gridcolor": "white",
           "linecolor": "white",
           "ticks": "",
           "title": {
            "standoff": 15
           },
           "zerolinecolor": "white",
           "zerolinewidth": 2
          },
          "yaxis": {
           "automargin": true,
           "gridcolor": "white",
           "linecolor": "white",
           "ticks": "",
           "title": {
            "standoff": 15
           },
           "zerolinecolor": "white",
           "zerolinewidth": 2
          }
         }
        },
        "title": {
         "text": "XQLFW, Model QMagFace"
        }
       }
      },
      "text/html": [
       "<div>                            <div id=\"dbfe001f-6b93-4c70-8126-6f8e78dfef4b\" class=\"plotly-graph-div\" style=\"height:525px; width:100%;\"></div>            <script type=\"text/javascript\">                require([\"plotly\"], function(Plotly) {                    window.PLOTLYENV=window.PLOTLYENV || {};                                    if (document.getElementById(\"dbfe001f-6b93-4c70-8126-6f8e78dfef4b\")) {                    Plotly.newPlot(                        \"dbfe001f-6b93-4c70-8126-6f8e78dfef4b\",                        [{\"branchvalues\":\"total\",\"customdata\":[[0.4791129029685571],[0.2615402567368098],[0.604672795912845],[0.5131546323648305],[0.6365541974431466],[0.61976313748047],[0.4973365921584557],[0.48357903067454877],[0.5547859654818542],[0.4742442624187966],[0.6141939486733552],[0.5003733557275118],[0.5015067958222407],[0.6180842037755174],[0.585831086940937],[0.514962334585154],[0.5627470830323467],[0.625197575174777],[0.4678481543722029],[0.5410976759130826],[0.5603756977504739],[0.5195783428963704],[0.5933094954280783],[0.4868880786873589],[0.35777545638950825],[0.6897999087852702],[0.5515546585040636],[0.5164789219455957],[0.6326044528176271],[0.5954801121753459],[0.3831116383630817],[0.5523695695285595],[0.3703428906296073],[0.5974299618376492],[0.6526248415595817],[0.4559488848371287],[0.5719252003764508],[0.6506231136607749],[0.5435428982466426],[0.5796261712961422],[0.5071196790937624],[0.5672478951122878],[0.5903654109492242],[0.43028115260016114],[0.4626087266356224],[0.5453070516860271],[0.4306097695628652],[0.6005986083196156],[0.35784172461352537],[0.5171340268442115],[0.593795950796916],[0.4276717102518074],[0.6570866104050506],[0.6272069510500871],[0.7558625615157148],[0.6838833139746944],[0.6101657598222695],[0.6835872935361854],[0.8448267026204193],[0.6054896756016136],[0.6814030164952033],[0.6995317319492232],[0.23475154057656103],[0.5104544312957207],[0.6283874312932574],[0.6527032496679619],[0.4435931587729718],[0.7017126270924466],[0.6718643195758709],[0.7130269603102164],[0.5751895683364967],[0.544221615863098],[0.6127735813473967],[0.5296913334350503],[0.6938553789239817],[0.5758589775299001],[0.5428201500631278],[0.6351658714039933],[0.3529917811847468],[0.7056757519513314],[0.6190390926949204],[0.5044576537717296],[0.8168661934292715],[0.6661445234957816],[0.678859448779745],[0.6717613456077461],[0.5451825627368614],[0.6290201177100945],[0.7513122457169392],[0.8357938341008702],[0.7266326194290824],[0.6833725347069163],[0.5987850871367679],[0.6382738717437708],[0.7072914680510509],[0.663904236040216],[0.6619290643384139],[0.5088040940498204],[0.5601242545478786],[0.6660271640260375],[0.5979476797602311],[0.6795038668014014],[0.6316810303624253],[0.5367761298428604],[0.432070742938089],[0.6078893133714112],[0.7443383285176102],[0.6179542243972439],[0.559925056520429],[0.7708086809358974],[0.6994201598034736],[0.6801857280538638],[0.5595629137229965],[0.5685469831543217],[0.6329877512515955],[0.6513226364909547],[0.6815106461589298],[0.6574531134579178],[0.5797897018278984],[0.5594670582104594],[0.6223987001873603],[0.5968822377627365],[0.6590068014904706],[0.5971239351816431],[0.5442472118911712],[0.5133210139173089],[0.6309101276345811],[0.6258761871252876],[0.6545571357639206],[0.556811017946608],[0.5670644799569038],[0.5503249757831423],[0.6091085483067388],[0.6033927207738349],[0.6507269630775074],[0.5609103874581636],[0.5873151441934052],[0.6318006679072079],[0.6205016706474473],[0.6370951666640425],[0.6775009817584571],[0.6255709659466212],[0.5396499514714557],[0.5328485265941459],[0.6314501493133526],[0.6336805510549713],[0.6713262276253249],[0.6481213731119179],[0.5591994885031338],[0.5463829155318541],[0.603714592363535],[0.5781520632868111],[0.6543252058423402],[0.5837767348824312],[0.539122104948555],[0.5291028916139837],[0.6221497554523133],[0.5928608681520589],[0.6375394857986358],[0.5660932091419053],[0.5420711624161512],[0.5489418591888184],[0.5994710607351391],[0.5947271492472903],[0.6366719911057224],[0.5501266523645939],[0.5641335485267137],[0.6446893881023329],[0.6116934149167235],[0.626194767196836],[0.6704470431798759],[0.619905878845051],[0.5464579157675999],[0.5455283030508693],[0.6123050317173727],[0.6035342724383791],[0.651998926532008],[0.5907828574789985],[0.6292466248114046],[0.5898191260458483]],\"domain\":{\"x\":[0.0,1.0],\"y\":[0.0,1.0]},\"hovertemplate\":\"labels=%{label}<br>count=%{value}<br>parent=%{parent}<br>id=%{id}<br>Quality=%{color}<extra></extra>\",\"ids\":[\"Man/sideways/downwards/asian\",\"Woman/sideways/downwards/asian\",\"Man/slightly_turned/downwards/asian\",\"Woman/slightly_turned/downwards/asian\",\"Man/straight/downwards/asian\",\"Woman/straight/downwards/asian\",\"Man/sideways/slightly_downwards/asian\",\"Woman/sideways/slightly_downwards/asian\",\"Man/slightly_turned/slightly_downwards/asian\",\"Woman/slightly_turned/slightly_downwards/asian\",\"Man/straight/slightly_downwards/asian\",\"Woman/straight/slightly_downwards/asian\",\"Man/sideways/slightly_upwards/asian\",\"Woman/sideways/slightly_upwards/asian\",\"Man/slightly_turned/slightly_upwards/asian\",\"Woman/slightly_turned/slightly_upwards/asian\",\"Man/straight/slightly_upwards/asian\",\"Woman/straight/slightly_upwards/asian\",\"Man/sideways/straight/asian\",\"Woman/sideways/straight/asian\",\"Man/slightly_turned/straight/asian\",\"Woman/slightly_turned/straight/asian\",\"Man/straight/straight/asian\",\"Woman/straight/straight/asian\",\"Man/sideways/upwards/asian\",\"Woman/sideways/upwards/asian\",\"Man/slightly_turned/upwards/asian\",\"Woman/slightly_turned/upwards/asian\",\"Man/straight/upwards/asian\",\"Woman/straight/upwards/asian\",\"Man/sideways/downwards/black\",\"Man/slightly_turned/downwards/black\",\"Woman/slightly_turned/downwards/black\",\"Man/straight/downwards/black\",\"Woman/straight/downwards/black\",\"Man/sideways/slightly_downwards/black\",\"Man/slightly_turned/slightly_downwards/black\",\"Man/straight/slightly_downwards/black\",\"Woman/straight/slightly_downwards/black\",\"Man/sideways/slightly_upwards/black\",\"Woman/sideways/slightly_upwards/black\",\"Man/slightly_turned/slightly_upwards/black\",\"Man/straight/slightly_upwards/black\",\"Woman/straight/slightly_upwards/black\",\"Man/sideways/straight/black\",\"Man/slightly_turned/straight/black\",\"Woman/slightly_turned/straight/black\",\"Man/straight/straight/black\",\"Woman/straight/straight/black\",\"Man/slightly_turned/upwards/black\",\"Man/straight/upwards/black\",\"Man/sideways/downwards/indian\",\"Man/slightly_turned/downwards/indian\",\"Man/straight/downwards/indian\",\"Woman/straight/downwards/indian\",\"Man/sideways/slightly_downwards/indian\",\"Man/slightly_turned/slightly_downwards/indian\",\"Man/straight/slightly_downwards/indian\",\"Woman/straight/slightly_downwards/indian\",\"Woman/sideways/slightly_upwards/indian\",\"Man/slightly_turned/slightly_upwards/indian\",\"Man/straight/slightly_upwards/indian\",\"Man/sideways/straight/indian\",\"Man/slightly_turned/straight/indian\",\"Man/straight/straight/indian\",\"Man/straight/upwards/indian\",\"Man/sideways/downwards/latino hispanic\",\"Man/slightly_turned/downwards/latino hispanic\",\"Woman/slightly_turned/downwards/latino hispanic\",\"Man/straight/downwards/latino hispanic\",\"Woman/straight/downwards/latino hispanic\",\"Man/sideways/slightly_downwards/latino hispanic\",\"Man/slightly_turned/slightly_downwards/latino hispanic\",\"Woman/slightly_turned/slightly_downwards/latino hispanic\",\"Man/straight/slightly_downwards/latino hispanic\",\"Woman/straight/slightly_downwards/latino hispanic\",\"Man/sideways/slightly_upwards/latino hispanic\",\"Man/slightly_turned/slightly_upwards/latino hispanic\",\"Woman/slightly_turned/slightly_upwards/latino hispanic\",\"Man/straight/slightly_upwards/latino hispanic\",\"Woman/straight/slightly_upwards/latino hispanic\",\"Man/sideways/straight/latino hispanic\",\"Woman/sideways/straight/latino hispanic\",\"Man/slightly_turned/straight/latino hispanic\",\"Woman/slightly_turned/straight/latino hispanic\",\"Man/straight/straight/latino hispanic\",\"Woman/straight/straight/latino hispanic\",\"Man/sideways/upwards/latino hispanic\",\"Man/slightly_turned/upwards/latino hispanic\",\"Woman/slightly_turned/upwards/latino hispanic\",\"Man/straight/upwards/latino hispanic\",\"Woman/straight/upwards/latino hispanic\",\"Man/sideways/downwards/middle eastern\",\"Man/slightly_turned/downwards/middle eastern\",\"Woman/slightly_turned/downwards/middle eastern\",\"Man/straight/downwards/middle eastern\",\"Woman/straight/downwards/middle eastern\",\"Man/sideways/slightly_downwards/middle eastern\",\"Man/slightly_turned/slightly_downwards/middle eastern\",\"Man/straight/slightly_downwards/middle eastern\",\"Man/sideways/slightly_upwards/middle eastern\",\"Man/slightly_turned/slightly_upwards/middle eastern\",\"Man/straight/slightly_upwards/middle eastern\",\"Man/sideways/straight/middle eastern\",\"Woman/sideways/straight/middle eastern\",\"Man/slightly_turned/straight/middle eastern\",\"Woman/slightly_turned/straight/middle eastern\",\"Man/straight/straight/middle eastern\",\"Woman/straight/straight/middle eastern\",\"Man/sideways/upwards/middle eastern\",\"Man/slightly_turned/upwards/middle eastern\",\"Man/straight/upwards/middle eastern\",\"Man/sideways/downwards/white\",\"Woman/sideways/downwards/white\",\"Man/slightly_turned/downwards/white\",\"Woman/slightly_turned/downwards/white\",\"Man/straight/downwards/white\",\"Woman/straight/downwards/white\",\"Man/sideways/slightly_downwards/white\",\"Woman/sideways/slightly_downwards/white\",\"Man/slightly_turned/slightly_downwards/white\",\"Woman/slightly_turned/slightly_downwards/white\",\"Man/straight/slightly_downwards/white\",\"Woman/straight/slightly_downwards/white\",\"Man/sideways/slightly_upwards/white\",\"Woman/sideways/slightly_upwards/white\",\"Man/slightly_turned/slightly_upwards/white\",\"Woman/slightly_turned/slightly_upwards/white\",\"Man/straight/slightly_upwards/white\",\"Woman/straight/slightly_upwards/white\",\"Man/sideways/straight/white\",\"Woman/sideways/straight/white\",\"Man/slightly_turned/straight/white\",\"Woman/slightly_turned/straight/white\",\"Man/straight/straight/white\",\"Woman/straight/straight/white\",\"Man/sideways/upwards/white\",\"Woman/sideways/upwards/white\",\"Man/slightly_turned/upwards/white\",\"Woman/slightly_turned/upwards/white\",\"Man/straight/upwards/white\",\"Woman/straight/upwards/white\",\"Man/sideways/downwards\",\"Woman/sideways/downwards\",\"Man/slightly_turned/downwards\",\"Woman/slightly_turned/downwards\",\"Man/straight/downwards\",\"Woman/straight/downwards\",\"Man/sideways/slightly_downwards\",\"Woman/sideways/slightly_downwards\",\"Man/slightly_turned/slightly_downwards\",\"Woman/slightly_turned/slightly_downwards\",\"Man/straight/slightly_downwards\",\"Woman/straight/slightly_downwards\",\"Man/sideways/slightly_upwards\",\"Woman/sideways/slightly_upwards\",\"Man/slightly_turned/slightly_upwards\",\"Woman/slightly_turned/slightly_upwards\",\"Man/straight/slightly_upwards\",\"Woman/straight/slightly_upwards\",\"Man/sideways/straight\",\"Woman/sideways/straight\",\"Man/slightly_turned/straight\",\"Woman/slightly_turned/straight\",\"Man/straight/straight\",\"Woman/straight/straight\",\"Man/sideways/upwards\",\"Woman/sideways/upwards\",\"Man/slightly_turned/upwards\",\"Woman/slightly_turned/upwards\",\"Man/straight/upwards\",\"Woman/straight/upwards\",\"Man/sideways\",\"Woman/sideways\",\"Man/slightly_turned\",\"Woman/slightly_turned\",\"Man/straight\",\"Woman/straight\",\"Man\",\"Woman\"],\"labels\":[\"asian\",\"asian\",\"asian\",\"asian\",\"asian\",\"asian\",\"asian\",\"asian\",\"asian\",\"asian\",\"asian\",\"asian\",\"asian\",\"asian\",\"asian\",\"asian\",\"asian\",\"asian\",\"asian\",\"asian\",\"asian\",\"asian\",\"asian\",\"asian\",\"asian\",\"asian\",\"asian\",\"asian\",\"asian\",\"asian\",\"black\",\"black\",\"black\",\"black\",\"black\",\"black\",\"black\",\"black\",\"black\",\"black\",\"black\",\"black\",\"black\",\"black\",\"black\",\"black\",\"black\",\"black\",\"black\",\"black\",\"black\",\"indian\",\"indian\",\"indian\",\"indian\",\"indian\",\"indian\",\"indian\",\"indian\",\"indian\",\"indian\",\"indian\",\"indian\",\"indian\",\"indian\",\"indian\",\"latino hispanic\",\"latino hispanic\",\"latino hispanic\",\"latino hispanic\",\"latino hispanic\",\"latino hispanic\",\"latino hispanic\",\"latino hispanic\",\"latino hispanic\",\"latino hispanic\",\"latino hispanic\",\"latino hispanic\",\"latino hispanic\",\"latino hispanic\",\"latino hispanic\",\"latino hispanic\",\"latino hispanic\",\"latino hispanic\",\"latino hispanic\",\"latino hispanic\",\"latino hispanic\",\"latino hispanic\",\"latino hispanic\",\"latino hispanic\",\"latino hispanic\",\"latino hispanic\",\"middle eastern\",\"middle eastern\",\"middle eastern\",\"middle eastern\",\"middle eastern\",\"middle eastern\",\"middle eastern\",\"middle eastern\",\"middle eastern\",\"middle eastern\",\"middle eastern\",\"middle eastern\",\"middle eastern\",\"middle eastern\",\"middle eastern\",\"middle eastern\",\"middle eastern\",\"middle eastern\",\"middle eastern\",\"middle eastern\",\"white\",\"white\",\"white\",\"white\",\"white\",\"white\",\"white\",\"white\",\"white\",\"white\",\"white\",\"white\",\"white\",\"white\",\"white\",\"white\",\"white\",\"white\",\"white\",\"white\",\"white\",\"white\",\"white\",\"white\",\"white\",\"white\",\"white\",\"white\",\"white\",\"white\",\"downwards\",\"downwards\",\"downwards\",\"downwards\",\"downwards\",\"downwards\",\"slightly_downwards\",\"slightly_downwards\",\"slightly_downwards\",\"slightly_downwards\",\"slightly_downwards\",\"slightly_downwards\",\"slightly_upwards\",\"slightly_upwards\",\"slightly_upwards\",\"slightly_upwards\",\"slightly_upwards\",\"slightly_upwards\",\"straight\",\"straight\",\"straight\",\"straight\",\"straight\",\"straight\",\"upwards\",\"upwards\",\"upwards\",\"upwards\",\"upwards\",\"upwards\",\"sideways\",\"sideways\",\"slightly_turned\",\"slightly_turned\",\"straight\",\"straight\",\"Man\",\"Woman\"],\"marker\":{\"coloraxis\":\"coloraxis\",\"colors\":[0.4791129029685571,0.2615402567368098,0.604672795912845,0.5131546323648305,0.6365541974431466,0.61976313748047,0.4973365921584557,0.48357903067454877,0.5547859654818542,0.4742442624187966,0.6141939486733552,0.5003733557275118,0.5015067958222407,0.6180842037755174,0.585831086940937,0.514962334585154,0.5627470830323467,0.625197575174777,0.4678481543722029,0.5410976759130826,0.5603756977504739,0.5195783428963704,0.5933094954280783,0.4868880786873589,0.35777545638950825,0.6897999087852702,0.5515546585040636,0.5164789219455957,0.6326044528176271,0.5954801121753459,0.3831116383630817,0.5523695695285595,0.3703428906296073,0.5974299618376492,0.6526248415595817,0.4559488848371287,0.5719252003764508,0.6506231136607749,0.5435428982466426,0.5796261712961422,0.5071196790937624,0.5672478951122878,0.5903654109492242,0.43028115260016114,0.4626087266356224,0.5453070516860271,0.4306097695628652,0.6005986083196156,0.35784172461352537,0.5171340268442115,0.593795950796916,0.4276717102518074,0.6570866104050506,0.6272069510500871,0.7558625615157148,0.6838833139746944,0.6101657598222695,0.6835872935361854,0.8448267026204193,0.6054896756016136,0.6814030164952033,0.6995317319492232,0.23475154057656103,0.5104544312957207,0.6283874312932574,0.6527032496679619,0.4435931587729718,0.7017126270924466,0.6718643195758709,0.7130269603102164,0.5751895683364967,0.544221615863098,0.6127735813473967,0.5296913334350503,0.6938553789239817,0.5758589775299001,0.5428201500631278,0.6351658714039933,0.3529917811847468,0.7056757519513314,0.6190390926949204,0.5044576537717296,0.8168661934292715,0.6661445234957816,0.678859448779745,0.6717613456077461,0.5451825627368614,0.6290201177100945,0.7513122457169392,0.8357938341008702,0.7266326194290824,0.6833725347069163,0.5987850871367679,0.6382738717437708,0.7072914680510509,0.663904236040216,0.6619290643384139,0.5088040940498204,0.5601242545478786,0.6660271640260375,0.5979476797602311,0.6795038668014014,0.6316810303624253,0.5367761298428604,0.432070742938089,0.6078893133714112,0.7443383285176102,0.6179542243972439,0.559925056520429,0.7708086809358974,0.6994201598034736,0.6801857280538638,0.5595629137229965,0.5685469831543217,0.6329877512515955,0.6513226364909547,0.6815106461589298,0.6574531134579178,0.5797897018278984,0.5594670582104594,0.6223987001873603,0.5968822377627365,0.6590068014904706,0.5971239351816431,0.5442472118911712,0.5133210139173089,0.6309101276345811,0.6258761871252876,0.6545571357639206,0.556811017946608,0.5670644799569038,0.5503249757831423,0.6091085483067388,0.6033927207738349,0.6507269630775074,0.5609103874581636,0.5873151441934052,0.6318006679072079,0.6205016706474473,0.6370951666640425,0.6775009817584571,0.6255709659466212,0.5396499514714557,0.5328485265941459,0.6314501493133526,0.6336805510549713,0.6713262276253249,0.6481213731119179,0.5591994885031338,0.5463829155318541,0.603714592363535,0.5781520632868111,0.6543252058423402,0.5837767348824312,0.539122104948555,0.5291028916139837,0.6221497554523133,0.5928608681520589,0.6375394857986358,0.5660932091419053,0.5420711624161512,0.5489418591888184,0.5994710607351391,0.5947271492472903,0.6366719911057224,0.5501266523645939,0.5641335485267137,0.6446893881023329,0.6116934149167235,0.626194767196836,0.6704470431798759,0.619905878845051,0.5464579157675999,0.5455283030508693,0.6123050317173727,0.6035342724383791,0.651998926532008,0.5907828574789985,0.6292466248114046,0.5898191260458483]},\"name\":\"\",\"parents\":[\"Man/sideways/downwards\",\"Woman/sideways/downwards\",\"Man/slightly_turned/downwards\",\"Woman/slightly_turned/downwards\",\"Man/straight/downwards\",\"Woman/straight/downwards\",\"Man/sideways/slightly_downwards\",\"Woman/sideways/slightly_downwards\",\"Man/slightly_turned/slightly_downwards\",\"Woman/slightly_turned/slightly_downwards\",\"Man/straight/slightly_downwards\",\"Woman/straight/slightly_downwards\",\"Man/sideways/slightly_upwards\",\"Woman/sideways/slightly_upwards\",\"Man/slightly_turned/slightly_upwards\",\"Woman/slightly_turned/slightly_upwards\",\"Man/straight/slightly_upwards\",\"Woman/straight/slightly_upwards\",\"Man/sideways/straight\",\"Woman/sideways/straight\",\"Man/slightly_turned/straight\",\"Woman/slightly_turned/straight\",\"Man/straight/straight\",\"Woman/straight/straight\",\"Man/sideways/upwards\",\"Woman/sideways/upwards\",\"Man/slightly_turned/upwards\",\"Woman/slightly_turned/upwards\",\"Man/straight/upwards\",\"Woman/straight/upwards\",\"Man/sideways/downwards\",\"Man/slightly_turned/downwards\",\"Woman/slightly_turned/downwards\",\"Man/straight/downwards\",\"Woman/straight/downwards\",\"Man/sideways/slightly_downwards\",\"Man/slightly_turned/slightly_downwards\",\"Man/straight/slightly_downwards\",\"Woman/straight/slightly_downwards\",\"Man/sideways/slightly_upwards\",\"Woman/sideways/slightly_upwards\",\"Man/slightly_turned/slightly_upwards\",\"Man/straight/slightly_upwards\",\"Woman/straight/slightly_upwards\",\"Man/sideways/straight\",\"Man/slightly_turned/straight\",\"Woman/slightly_turned/straight\",\"Man/straight/straight\",\"Woman/straight/straight\",\"Man/slightly_turned/upwards\",\"Man/straight/upwards\",\"Man/sideways/downwards\",\"Man/slightly_turned/downwards\",\"Man/straight/downwards\",\"Woman/straight/downwards\",\"Man/sideways/slightly_downwards\",\"Man/slightly_turned/slightly_downwards\",\"Man/straight/slightly_downwards\",\"Woman/straight/slightly_downwards\",\"Woman/sideways/slightly_upwards\",\"Man/slightly_turned/slightly_upwards\",\"Man/straight/slightly_upwards\",\"Man/sideways/straight\",\"Man/slightly_turned/straight\",\"Man/straight/straight\",\"Man/straight/upwards\",\"Man/sideways/downwards\",\"Man/slightly_turned/downwards\",\"Woman/slightly_turned/downwards\",\"Man/straight/downwards\",\"Woman/straight/downwards\",\"Man/sideways/slightly_downwards\",\"Man/slightly_turned/slightly_downwards\",\"Woman/slightly_turned/slightly_downwards\",\"Man/straight/slightly_downwards\",\"Woman/straight/slightly_downwards\",\"Man/sideways/slightly_upwards\",\"Man/slightly_turned/slightly_upwards\",\"Woman/slightly_turned/slightly_upwards\",\"Man/straight/slightly_upwards\",\"Woman/straight/slightly_upwards\",\"Man/sideways/straight\",\"Woman/sideways/straight\",\"Man/slightly_turned/straight\",\"Woman/slightly_turned/straight\",\"Man/straight/straight\",\"Woman/straight/straight\",\"Man/sideways/upwards\",\"Man/slightly_turned/upwards\",\"Woman/slightly_turned/upwards\",\"Man/straight/upwards\",\"Woman/straight/upwards\",\"Man/sideways/downwards\",\"Man/slightly_turned/downwards\",\"Woman/slightly_turned/downwards\",\"Man/straight/downwards\",\"Woman/straight/downwards\",\"Man/sideways/slightly_downwards\",\"Man/slightly_turned/slightly_downwards\",\"Man/straight/slightly_downwards\",\"Man/sideways/slightly_upwards\",\"Man/slightly_turned/slightly_upwards\",\"Man/straight/slightly_upwards\",\"Man/sideways/straight\",\"Woman/sideways/straight\",\"Man/slightly_turned/straight\",\"Woman/slightly_turned/straight\",\"Man/straight/straight\",\"Woman/straight/straight\",\"Man/sideways/upwards\",\"Man/slightly_turned/upwards\",\"Man/straight/upwards\",\"Man/sideways/downwards\",\"Woman/sideways/downwards\",\"Man/slightly_turned/downwards\",\"Woman/slightly_turned/downwards\",\"Man/straight/downwards\",\"Woman/straight/downwards\",\"Man/sideways/slightly_downwards\",\"Woman/sideways/slightly_downwards\",\"Man/slightly_turned/slightly_downwards\",\"Woman/slightly_turned/slightly_downwards\",\"Man/straight/slightly_downwards\",\"Woman/straight/slightly_downwards\",\"Man/sideways/slightly_upwards\",\"Woman/sideways/slightly_upwards\",\"Man/slightly_turned/slightly_upwards\",\"Woman/slightly_turned/slightly_upwards\",\"Man/straight/slightly_upwards\",\"Woman/straight/slightly_upwards\",\"Man/sideways/straight\",\"Woman/sideways/straight\",\"Man/slightly_turned/straight\",\"Woman/slightly_turned/straight\",\"Man/straight/straight\",\"Woman/straight/straight\",\"Man/sideways/upwards\",\"Woman/sideways/upwards\",\"Man/slightly_turned/upwards\",\"Woman/slightly_turned/upwards\",\"Man/straight/upwards\",\"Woman/straight/upwards\",\"Man/sideways\",\"Woman/sideways\",\"Man/slightly_turned\",\"Woman/slightly_turned\",\"Man/straight\",\"Woman/straight\",\"Man/sideways\",\"Woman/sideways\",\"Man/slightly_turned\",\"Woman/slightly_turned\",\"Man/straight\",\"Woman/straight\",\"Man/sideways\",\"Woman/sideways\",\"Man/slightly_turned\",\"Woman/slightly_turned\",\"Man/straight\",\"Woman/straight\",\"Man/sideways\",\"Woman/sideways\",\"Man/slightly_turned\",\"Woman/slightly_turned\",\"Man/straight\",\"Woman/straight\",\"Man/sideways\",\"Woman/sideways\",\"Man/slightly_turned\",\"Woman/slightly_turned\",\"Man/straight\",\"Woman/straight\",\"Man\",\"Woman\",\"Man\",\"Woman\",\"Man\",\"Woman\",\"\",\"\"],\"values\":[28,5,74,11,236,24,40,5,85,10,201,32,29,4,57,13,138,23,58,10,141,14,299,27,7,2,18,7,36,18,9,18,2,45,9,7,23,76,5,3,1,25,61,6,14,34,3,101,5,11,24,2,5,11,2,5,6,7,2,1,1,3,1,4,17,4,11,30,4,64,22,23,35,6,73,17,17,24,5,52,9,19,1,31,7,83,14,3,6,2,22,3,27,85,2,147,3,14,52,112,6,12,48,30,2,51,1,110,1,1,3,23,140,38,383,88,1025,213,176,24,364,71,843,186,108,26,272,67,573,110,264,32,541,93,1131,253,45,7,116,32,257,44,217,43,595,107,1528,273,265,29,565,87,1312,242,163,32,391,85,875,148,386,45,802,118,1741,300,56,9,154,41,366,65,1087,158,2507,438,5822,1028,9416,1624],\"type\":\"sunburst\"}],                        {\"template\":{\"data\":{\"histogram2dcontour\":[{\"type\":\"histogram2dcontour\",\"colorbar\":{\"outlinewidth\":0,\"ticks\":\"\"},\"colorscale\":[[0.0,\"#0d0887\"],[0.1111111111111111,\"#46039f\"],[0.2222222222222222,\"#7201a8\"],[0.3333333333333333,\"#9c179e\"],[0.4444444444444444,\"#bd3786\"],[0.5555555555555556,\"#d8576b\"],[0.6666666666666666,\"#ed7953\"],[0.7777777777777778,\"#fb9f3a\"],[0.8888888888888888,\"#fdca26\"],[1.0,\"#f0f921\"]]}],\"choropleth\":[{\"type\":\"choropleth\",\"colorbar\":{\"outlinewidth\":0,\"ticks\":\"\"}}],\"histogram2d\":[{\"type\":\"histogram2d\",\"colorbar\":{\"outlinewidth\":0,\"ticks\":\"\"},\"colorscale\":[[0.0,\"#0d0887\"],[0.1111111111111111,\"#46039f\"],[0.2222222222222222,\"#7201a8\"],[0.3333333333333333,\"#9c179e\"],[0.4444444444444444,\"#bd3786\"],[0.5555555555555556,\"#d8576b\"],[0.6666666666666666,\"#ed7953\"],[0.7777777777777778,\"#fb9f3a\"],[0.8888888888888888,\"#fdca26\"],[1.0,\"#f0f921\"]]}],\"heatmap\":[{\"type\":\"heatmap\",\"colorbar\":{\"outlinewidth\":0,\"ticks\":\"\"},\"colorscale\":[[0.0,\"#0d0887\"],[0.1111111111111111,\"#46039f\"],[0.2222222222222222,\"#7201a8\"],[0.3333333333333333,\"#9c179e\"],[0.4444444444444444,\"#bd3786\"],[0.5555555555555556,\"#d8576b\"],[0.6666666666666666,\"#ed7953\"],[0.7777777777777778,\"#fb9f3a\"],[0.8888888888888888,\"#fdca26\"],[1.0,\"#f0f921\"]]}],\"heatmapgl\":[{\"type\":\"heatmapgl\",\"colorbar\":{\"outlinewidth\":0,\"ticks\":\"\"},\"colorscale\":[[0.0,\"#0d0887\"],[0.1111111111111111,\"#46039f\"],[0.2222222222222222,\"#7201a8\"],[0.3333333333333333,\"#9c179e\"],[0.4444444444444444,\"#bd3786\"],[0.5555555555555556,\"#d8576b\"],[0.6666666666666666,\"#ed7953\"],[0.7777777777777778,\"#fb9f3a\"],[0.8888888888888888,\"#fdca26\"],[1.0,\"#f0f921\"]]}],\"contourcarpet\":[{\"type\":\"contourcarpet\",\"colorbar\":{\"outlinewidth\":0,\"ticks\":\"\"}}],\"contour\":[{\"type\":\"contour\",\"colorbar\":{\"outlinewidth\":0,\"ticks\":\"\"},\"colorscale\":[[0.0,\"#0d0887\"],[0.1111111111111111,\"#46039f\"],[0.2222222222222222,\"#7201a8\"],[0.3333333333333333,\"#9c179e\"],[0.4444444444444444,\"#bd3786\"],[0.5555555555555556,\"#d8576b\"],[0.6666666666666666,\"#ed7953\"],[0.7777777777777778,\"#fb9f3a\"],[0.8888888888888888,\"#fdca26\"],[1.0,\"#f0f921\"]]}],\"surface\":[{\"type\":\"surface\",\"colorbar\":{\"outlinewidth\":0,\"ticks\":\"\"},\"colorscale\":[[0.0,\"#0d0887\"],[0.1111111111111111,\"#46039f\"],[0.2222222222222222,\"#7201a8\"],[0.3333333333333333,\"#9c179e\"],[0.4444444444444444,\"#bd3786\"],[0.5555555555555556,\"#d8576b\"],[0.6666666666666666,\"#ed7953\"],[0.7777777777777778,\"#fb9f3a\"],[0.8888888888888888,\"#fdca26\"],[1.0,\"#f0f921\"]]}],\"mesh3d\":[{\"type\":\"mesh3d\",\"colorbar\":{\"outlinewidth\":0,\"ticks\":\"\"}}],\"scatter\":[{\"fillpattern\":{\"fillmode\":\"overlay\",\"size\":10,\"solidity\":0.2},\"type\":\"scatter\"}],\"parcoords\":[{\"type\":\"parcoords\",\"line\":{\"colorbar\":{\"outlinewidth\":0,\"ticks\":\"\"}}}],\"scatterpolargl\":[{\"type\":\"scatterpolargl\",\"marker\":{\"colorbar\":{\"outlinewidth\":0,\"ticks\":\"\"}}}],\"bar\":[{\"error_x\":{\"color\":\"#2a3f5f\"},\"error_y\":{\"color\":\"#2a3f5f\"},\"marker\":{\"line\":{\"color\":\"#E5ECF6\",\"width\":0.5},\"pattern\":{\"fillmode\":\"overlay\",\"size\":10,\"solidity\":0.2}},\"type\":\"bar\"}],\"scattergeo\":[{\"type\":\"scattergeo\",\"marker\":{\"colorbar\":{\"outlinewidth\":0,\"ticks\":\"\"}}}],\"scatterpolar\":[{\"type\":\"scatterpolar\",\"marker\":{\"colorbar\":{\"outlinewidth\":0,\"ticks\":\"\"}}}],\"histogram\":[{\"marker\":{\"pattern\":{\"fillmode\":\"overlay\",\"size\":10,\"solidity\":0.2}},\"type\":\"histogram\"}],\"scattergl\":[{\"type\":\"scattergl\",\"marker\":{\"colorbar\":{\"outlinewidth\":0,\"ticks\":\"\"}}}],\"scatter3d\":[{\"type\":\"scatter3d\",\"line\":{\"colorbar\":{\"outlinewidth\":0,\"ticks\":\"\"}},\"marker\":{\"colorbar\":{\"outlinewidth\":0,\"ticks\":\"\"}}}],\"scattermapbox\":[{\"type\":\"scattermapbox\",\"marker\":{\"colorbar\":{\"outlinewidth\":0,\"ticks\":\"\"}}}],\"scatterternary\":[{\"type\":\"scatterternary\",\"marker\":{\"colorbar\":{\"outlinewidth\":0,\"ticks\":\"\"}}}],\"scattercarpet\":[{\"type\":\"scattercarpet\",\"marker\":{\"colorbar\":{\"outlinewidth\":0,\"ticks\":\"\"}}}],\"carpet\":[{\"aaxis\":{\"endlinecolor\":\"#2a3f5f\",\"gridcolor\":\"white\",\"linecolor\":\"white\",\"minorgridcolor\":\"white\",\"startlinecolor\":\"#2a3f5f\"},\"baxis\":{\"endlinecolor\":\"#2a3f5f\",\"gridcolor\":\"white\",\"linecolor\":\"white\",\"minorgridcolor\":\"white\",\"startlinecolor\":\"#2a3f5f\"},\"type\":\"carpet\"}],\"table\":[{\"cells\":{\"fill\":{\"color\":\"#EBF0F8\"},\"line\":{\"color\":\"white\"}},\"header\":{\"fill\":{\"color\":\"#C8D4E3\"},\"line\":{\"color\":\"white\"}},\"type\":\"table\"}],\"barpolar\":[{\"marker\":{\"line\":{\"color\":\"#E5ECF6\",\"width\":0.5},\"pattern\":{\"fillmode\":\"overlay\",\"size\":10,\"solidity\":0.2}},\"type\":\"barpolar\"}],\"pie\":[{\"automargin\":true,\"type\":\"pie\"}]},\"layout\":{\"autotypenumbers\":\"strict\",\"colorway\":[\"#636efa\",\"#EF553B\",\"#00cc96\",\"#ab63fa\",\"#FFA15A\",\"#19d3f3\",\"#FF6692\",\"#B6E880\",\"#FF97FF\",\"#FECB52\"],\"font\":{\"color\":\"#2a3f5f\"},\"hovermode\":\"closest\",\"hoverlabel\":{\"align\":\"left\"},\"paper_bgcolor\":\"white\",\"plot_bgcolor\":\"#E5ECF6\",\"polar\":{\"bgcolor\":\"#E5ECF6\",\"angularaxis\":{\"gridcolor\":\"white\",\"linecolor\":\"white\",\"ticks\":\"\"},\"radialaxis\":{\"gridcolor\":\"white\",\"linecolor\":\"white\",\"ticks\":\"\"}},\"ternary\":{\"bgcolor\":\"#E5ECF6\",\"aaxis\":{\"gridcolor\":\"white\",\"linecolor\":\"white\",\"ticks\":\"\"},\"baxis\":{\"gridcolor\":\"white\",\"linecolor\":\"white\",\"ticks\":\"\"},\"caxis\":{\"gridcolor\":\"white\",\"linecolor\":\"white\",\"ticks\":\"\"}},\"coloraxis\":{\"colorbar\":{\"outlinewidth\":0,\"ticks\":\"\"}},\"colorscale\":{\"sequential\":[[0.0,\"#0d0887\"],[0.1111111111111111,\"#46039f\"],[0.2222222222222222,\"#7201a8\"],[0.3333333333333333,\"#9c179e\"],[0.4444444444444444,\"#bd3786\"],[0.5555555555555556,\"#d8576b\"],[0.6666666666666666,\"#ed7953\"],[0.7777777777777778,\"#fb9f3a\"],[0.8888888888888888,\"#fdca26\"],[1.0,\"#f0f921\"]],\"sequentialminus\":[[0.0,\"#0d0887\"],[0.1111111111111111,\"#46039f\"],[0.2222222222222222,\"#7201a8\"],[0.3333333333333333,\"#9c179e\"],[0.4444444444444444,\"#bd3786\"],[0.5555555555555556,\"#d8576b\"],[0.6666666666666666,\"#ed7953\"],[0.7777777777777778,\"#fb9f3a\"],[0.8888888888888888,\"#fdca26\"],[1.0,\"#f0f921\"]],\"diverging\":[[0,\"#8e0152\"],[0.1,\"#c51b7d\"],[0.2,\"#de77ae\"],[0.3,\"#f1b6da\"],[0.4,\"#fde0ef\"],[0.5,\"#f7f7f7\"],[0.6,\"#e6f5d0\"],[0.7,\"#b8e186\"],[0.8,\"#7fbc41\"],[0.9,\"#4d9221\"],[1,\"#276419\"]]},\"xaxis\":{\"gridcolor\":\"white\",\"linecolor\":\"white\",\"ticks\":\"\",\"title\":{\"standoff\":15},\"zerolinecolor\":\"white\",\"automargin\":true,\"zerolinewidth\":2},\"yaxis\":{\"gridcolor\":\"white\",\"linecolor\":\"white\",\"ticks\":\"\",\"title\":{\"standoff\":15},\"zerolinecolor\":\"white\",\"automargin\":true,\"zerolinewidth\":2},\"scene\":{\"xaxis\":{\"backgroundcolor\":\"#E5ECF6\",\"gridcolor\":\"white\",\"linecolor\":\"white\",\"showbackground\":true,\"ticks\":\"\",\"zerolinecolor\":\"white\",\"gridwidth\":2},\"yaxis\":{\"backgroundcolor\":\"#E5ECF6\",\"gridcolor\":\"white\",\"linecolor\":\"white\",\"showbackground\":true,\"ticks\":\"\",\"zerolinecolor\":\"white\",\"gridwidth\":2},\"zaxis\":{\"backgroundcolor\":\"#E5ECF6\",\"gridcolor\":\"white\",\"linecolor\":\"white\",\"showbackground\":true,\"ticks\":\"\",\"zerolinecolor\":\"white\",\"gridwidth\":2}},\"shapedefaults\":{\"line\":{\"color\":\"#2a3f5f\"}},\"annotationdefaults\":{\"arrowcolor\":\"#2a3f5f\",\"arrowhead\":0,\"arrowwidth\":1},\"geo\":{\"bgcolor\":\"white\",\"landcolor\":\"#E5ECF6\",\"subunitcolor\":\"white\",\"showland\":true,\"showlakes\":true,\"lakecolor\":\"white\"},\"title\":{\"x\":0.05},\"mapbox\":{\"style\":\"light\"}}},\"coloraxis\":{\"colorbar\":{\"title\":{\"text\":\"Quality\"}},\"colorscale\":[[0.0,\"#440154\"],[0.1111111111111111,\"#482878\"],[0.2222222222222222,\"#3e4989\"],[0.3333333333333333,\"#31688e\"],[0.4444444444444444,\"#26828e\"],[0.5555555555555556,\"#1f9e89\"],[0.6666666666666666,\"#35b779\"],[0.7777777777777778,\"#6ece58\"],[0.8888888888888888,\"#b5de2b\"],[1.0,\"#fde725\"]],\"cmin\":0,\"cmax\":1},\"legend\":{\"tracegroupgap\":0},\"title\":{\"text\":\"XQLFW, Model QMagFace\"}},                        {\"responsive\": true}                    ).then(function(){\n",
       "                            \n",
       "var gd = document.getElementById('dbfe001f-6b93-4c70-8126-6f8e78dfef4b');\n",
       "var x = new MutationObserver(function (mutations, observer) {{\n",
       "        var display = window.getComputedStyle(gd).display;\n",
       "        if (!display || display === 'none') {{\n",
       "            console.log([gd, 'removed!']);\n",
       "            Plotly.purge(gd);\n",
       "            observer.disconnect();\n",
       "        }}\n",
       "}});\n",
       "\n",
       "// Listen for the removal of the full notebook cells\n",
       "var notebookContainer = gd.closest('#notebook-container');\n",
       "if (notebookContainer) {{\n",
       "    x.observe(notebookContainer, {childList: true});\n",
       "}}\n",
       "\n",
       "// Listen for the clearing of the current output cell\n",
       "var outputEl = gd.closest('.output');\n",
       "if (outputEl) {{\n",
       "    x.observe(outputEl, {childList: true});\n",
       "}}\n",
       "\n",
       "                        })                };                });            </script>        </div>"
      ]
     },
     "metadata": {},
     "output_type": "display_data"
    }
   ],
   "source": [
    "#for source in dict.keys():\n",
    "for source in np.unique(df_plot.source):\n",
    "    for model in np.unique(df_plot.E_Model):\n",
    "        plot_sun(source,model)"
   ]
  },
  {
   "attachments": {},
   "cell_type": "markdown",
   "metadata": {},
   "source": [
    "### de aqui para abajo son pruebas\n"
   ]
  },
  {
   "cell_type": "code",
   "execution_count": null,
   "metadata": {},
   "outputs": [],
   "source": []
  },
  {
   "cell_type": "code",
   "execution_count": 21,
   "metadata": {},
   "outputs": [
    {
     "ename": "TypeError",
     "evalue": "'type' object is not subscriptable",
     "output_type": "error",
     "traceback": [
      "\u001b[0;31m---------------------------------------------------------------------------\u001b[0m",
      "\u001b[0;31mTypeError\u001b[0m                                 Traceback (most recent call last)",
      "\u001b[1;32m/home/jmacarulla/lr-video-face/correlations_draw.ipynb Cell 31\u001b[0m in \u001b[0;36m2\n\u001b[1;32m      <a href='vscode-notebook-cell://wsl%2Bubuntu/home/jmacarulla/lr-video-face/correlations_draw.ipynb#X42sdnNjb2RlLXJlbW90ZQ%3D%3D?line=0'>1</a>\u001b[0m source \u001b[39m=\u001b[39m \u001b[39m'\u001b[39m\u001b[39mXQLFW\u001b[39m\u001b[39m'\u001b[39m\n\u001b[0;32m----> <a href='vscode-notebook-cell://wsl%2Bubuntu/home/jmacarulla/lr-video-face/correlations_draw.ipynb#X42sdnNjb2RlLXJlbW90ZQ%3D%3D?line=1'>2</a>\u001b[0m df_plot \u001b[39m=\u001b[39m \u001b[39mdict\u001b[39;49m[source]\n\u001b[1;32m      <a href='vscode-notebook-cell://wsl%2Bubuntu/home/jmacarulla/lr-video-face/correlations_draw.ipynb#X42sdnNjb2RlLXJlbW90ZQ%3D%3D?line=2'>3</a>\u001b[0m df_plot\u001b[39m.\u001b[39mdropna(inplace\u001b[39m=\u001b[39m\u001b[39mTrue\u001b[39;00m)\n",
      "\u001b[0;31mTypeError\u001b[0m: 'type' object is not subscriptable"
     ]
    }
   ],
   "source": [
    "source = 'XQLFW'\n",
    "df_plot = dict[source]\n",
    "df_plot.dropna(inplace=True)"
   ]
  },
  {
   "cell_type": "code",
   "execution_count": null,
   "metadata": {},
   "outputs": [],
   "source": [
    "\n",
    "# Ajustar el tamaño de la figura\n",
    "plt.figure(figsize=(10, 6))\n",
    "\n",
    "# Crear el stripplot\n",
    "sns.swarmplot(x='yaw', hue='emotion', y= 'Quality',  data=df_plot)#,jitter=True,dodge=True,\n",
    "#sns.scatterplot(x='yaw2', hue='emotion2', y= 'Quality',  data=df2)#,dodge=True,\n",
    "# Mostrar el gráfico\n",
    "plt.show()\n"
   ]
  },
  {
   "cell_type": "code",
   "execution_count": null,
   "metadata": {},
   "outputs": [],
   "source": [
    "sns.swarmplot(x='race', hue='gender', y= 'Quality',  data=df_plot)#,jitter=True,dodge=True,"
   ]
  },
  {
   "cell_type": "code",
   "execution_count": null,
   "metadata": {},
   "outputs": [],
   "source": [
    "import plotly.express as px\n",
    "\n",
    "fig = px.treemap(df_plot, path=['Q_group', 'Q_model', 'Detector', 'gender'], title=\"Mosaic Plot\")\n",
    "fig.show()"
   ]
  },
  {
   "cell_type": "code",
   "execution_count": null,
   "metadata": {},
   "outputs": [],
   "source": [
    "\n",
    "\n",
    "# # Tabla de contingencia para Quality_group y Detector\n",
    "# contingency_table_detector = pd.crosstab(df_plot['Q_group'], df_plot['Detector'])\n",
    "\n",
    "# # Tabla de contingencia para Quality_group y Quality_model\n",
    "# contingency_table_quality_model = pd.crosstab(df_plot['Q_group'], df_plot['Q_model'])\n",
    "\n",
    "# # Tabla de contingencia para Quality_group y yaw\n",
    "# contingency_table_yaw = pd.crosstab(df_plot['Q_group'], df_plot['yaw'])\n",
    "\n",
    "# # Tabla de contingencia para Quality_group y gender\n",
    "# contingency_table_gender = pd.crosstab(df_plot['Q_group'], df_plot['gender'])\n",
    "\n",
    "\n",
    "# # Tabla de contingencia para Quality_group y emotion\n",
    "# contingency_table_emotion = pd.crosstab(df_plot['Q_group'], df_plot['emotion'])\n",
    "\n",
    "# # Tabla de contingencia para Quality_group y race\n",
    "# contingency_table_race = pd.crosstab(df_plot['Q_group'], df_plot['race'])\n"
   ]
  },
  {
   "cell_type": "code",
   "execution_count": null,
   "metadata": {},
   "outputs": [],
   "source": [
    "\n",
    "# def norm_table (df):\n",
    "#     for col in df.columns:\n",
    "#         df[col] = df[col]/sum(df[col])\n",
    "\n"
   ]
  },
  {
   "cell_type": "code",
   "execution_count": null,
   "metadata": {},
   "outputs": [],
   "source": [
    "# norm_table(contingency_table_quality_model)\n"
   ]
  },
  {
   "cell_type": "code",
   "execution_count": null,
   "metadata": {},
   "outputs": [],
   "source": [
    "# norm_table(contingency_table_detector)\n",
    "# contingency_table_detector"
   ]
  },
  {
   "cell_type": "code",
   "execution_count": null,
   "metadata": {},
   "outputs": [],
   "source": [
    "# norm_table(contingency_table_gender)\n",
    "# contingency_table_gender"
   ]
  },
  {
   "cell_type": "code",
   "execution_count": null,
   "metadata": {},
   "outputs": [],
   "source": [
    "# norm_table(contingency_table_yaw)\n",
    "# contingency_table_yaw"
   ]
  },
  {
   "cell_type": "code",
   "execution_count": null,
   "metadata": {},
   "outputs": [],
   "source": [
    "# norm_table(contingency_table_race)\n",
    "# contingency_table_race"
   ]
  },
  {
   "cell_type": "code",
   "execution_count": null,
   "metadata": {},
   "outputs": [],
   "source": [
    "# norm_table(contingency_table_emotion)\n",
    "# contingency_table_emotion"
   ]
  },
  {
   "cell_type": "code",
   "execution_count": null,
   "metadata": {},
   "outputs": [],
   "source": [
    "# contingency_table_emotion.plot(kind='bar', subplots=False)\n",
    "# plt.legend(loc='best')\n"
   ]
  },
  {
   "cell_type": "code",
   "execution_count": null,
   "metadata": {},
   "outputs": [],
   "source": [
    "# contingency_table_race.plot(kind='bar', subplots=False)\n",
    "# plt.legend(loc='best')\n"
   ]
  },
  {
   "cell_type": "code",
   "execution_count": null,
   "metadata": {},
   "outputs": [],
   "source": [
    "# contingency_table_yaw.plot(kind='bar', subplots=False)\n",
    "# plt.legend(loc='best')\n"
   ]
  },
  {
   "cell_type": "code",
   "execution_count": null,
   "metadata": {},
   "outputs": [],
   "source": [
    "import matplotlib.pyplot as plt\n",
    "\n",
    "def plot_stacked_bar(contingency_table, title, xlabel, ylabel):\n",
    "    ax = contingency_table.plot(kind='bar', stacked=True, figsize=(10, 7))\n",
    "    plt.title(title)\n",
    "    plt.xlabel(xlabel)\n",
    "    plt.ylabel(ylabel)\n",
    "    plt.legend(loc='best')\n",
    "    plt.show()\n",
    "\n",
    "# plot_stacked_bar(contingency_table_detector, 'Quality_group vs Detector', 'Quality_group', 'Frequency')\n",
    "# plot_stacked_bar(contingency_table_quality_model, 'Quality_group vs Quality_model', 'Quality_group', 'Frequency')\n",
    "# plot_stacked_bar(contingency_table_yaw, 'Quality_group vs yaw', 'Quality_group', 'Frequency')\n",
    "# plot_stacked_bar(contingency_table_gender, 'Quality_group vs gender', 'Quality_group', 'Frequency')\n"
   ]
  },
  {
   "cell_type": "code",
   "execution_count": null,
   "metadata": {},
   "outputs": [],
   "source": [
    "df_plot.head()\n"
   ]
  },
  {
   "cell_type": "code",
   "execution_count": null,
   "metadata": {},
   "outputs": [],
   "source": [
    "import plotly.io as pio\n",
    "\n",
    "#fig = ...  # tu figura de plotly aquí\n",
    "#pio.write_image(fig, 'figure.png', format='png', scale=2) "
   ]
  },
  {
   "cell_type": "code",
   "execution_count": null,
   "metadata": {},
   "outputs": [],
   "source": []
  },
  {
   "cell_type": "code",
   "execution_count": null,
   "metadata": {},
   "outputs": [],
   "source": [
    "# Crear un gráfico sunburst con Plotly\n",
    "fig1 = px.sunburst(df_plot1, path=['race','gender'],   color=\"Quality\",\n",
    "                  color_continuous_scale=\"Viridis\") #values=\"gender\"#\"Q_model\", \"Detector\",\n",
    "fig2 = px.sunburst(df_plot1, path=['yaw','emotion'],   color=\"Quality\",\n",
    "                  color_continuous_scale=\"Viridis\") #values=\"gender\"#\"Q_model\", \"Detector\",\n",
    "fig3 = px.sunburst(df_plot1, path=['Detector','yaw','emotion'],   color=\"Quality\",\n",
    "                  color_continuous_scale=\"Viridis\") #values=\"gender\"#\"Q_model\", \"Detector\",\n",
    "fig4 = px.sunburst(df_plot1, path=['gender','race','yaw','emotion'],   color=\"Quality\",\n",
    "                  color_continuous_scale=\"Viridis\") #values=\"gender\"#\"Q_model\", \"Detector\",\n",
    "fig5 = px.sunburst(df_plot1, path=['Detector','gender','yaw','race','emotion'],   color=\"Quality\",\n",
    "                  color_continuous_scale=\"Viridis\") #values=\"gender\"#\"Q_model\", \"Detector\",\n",
    "\n",
    "fig1.show()\n",
    "fig2.show()\n",
    "fig3.show()\n",
    "fig4.show()\n",
    "fig5.show()"
   ]
  },
  {
   "cell_type": "code",
   "execution_count": null,
   "metadata": {},
   "outputs": [],
   "source": [
    "# Crear un gráfico sunburst con Plotly\n",
    "fig1 = px.sunburst(df_plot1, path=['race','gender'],   color=\"Quality\",\n",
    "                  color_continuous_scale=\"Viridis\") #values=\"gender\"#\"Q_model\", \"Detector\",\n",
    "fig2 = px.sunburst(df_plot1, path=['yaw','emotion'],   color=\"Quality\",\n",
    "                  color_continuous_scale=\"Viridis\") #values=\"gender\"#\"Q_model\", \"Detector\",\n",
    "fig3 = px.sunburst(df_plot1, path=['Detector','yaw','emotion'],   color=\"Quality\",\n",
    "                  color_continuous_scale=\"Viridis\") #values=\"gender\"#\"Q_model\", \"Detector\",\n",
    "fig4 = px.sunburst(df_plot1, path=['gender','race','yaw','emotion'],   color=\"Quality\",\n",
    "                  color_continuous_scale=\"Viridis\") #values=\"gender\"#\"Q_model\", \"Detector\",\n",
    "fig5 = px.sunburst(df_plot1, path=['Detector','gender','yaw','race','emotion'],   color=\"Quality\",\n",
    "                  color_continuous_scale=\"Viridis\") #values=\"gender\"#\"Q_model\", \"Detector\",\n",
    "\n",
    "fig1.show()\n",
    "fig2.show()\n",
    "fig3.show()\n",
    "fig4.show()\n",
    "fig5.show()"
   ]
  },
  {
   "cell_type": "code",
   "execution_count": null,
   "metadata": {},
   "outputs": [],
   "source": [
    "tabla1 =df_plot1.groupby(['Q_model','Detector',\"gender\",'race','yaw','emotion']).agg({\"Quality\":[\"count\",\"mean\"]})"
   ]
  },
  {
   "cell_type": "code",
   "execution_count": null,
   "metadata": {},
   "outputs": [],
   "source": [
    "type(tabla)"
   ]
  },
  {
   "cell_type": "code",
   "execution_count": null,
   "metadata": {},
   "outputs": [],
   "source": [
    "tabla1.to_excel(\"tabla_serfiq.xlsx\")"
   ]
  },
  {
   "cell_type": "code",
   "execution_count": null,
   "metadata": {},
   "outputs": [],
   "source": [
    "df.angle_yaw"
   ]
  },
  {
   "cell_type": "code",
   "execution_count": null,
   "metadata": {},
   "outputs": [],
   "source": [
    "df_plot.yaw.value_counts()"
   ]
  }
 ],
 "metadata": {
  "kernelspec": {
   "display_name": "lr-video",
   "language": "python",
   "name": "python3"
  },
  "language_info": {
   "codemirror_mode": {
    "name": "ipython",
    "version": 3
   },
   "file_extension": ".py",
   "mimetype": "text/x-python",
   "name": "python",
   "nbconvert_exporter": "python",
   "pygments_lexer": "ipython3",
   "version": "3.8.15"
  },
  "orig_nbformat": 4
 },
 "nbformat": 4,
 "nbformat_minor": 2
}
