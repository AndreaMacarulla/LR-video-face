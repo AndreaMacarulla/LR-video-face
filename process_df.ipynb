{
 "cells": [
  {
   "attachments": {},
   "cell_type": "markdown",
   "metadata": {},
   "source": [
    "# Tratamiento del dataframe \n",
    "Se ha extraido de a base de datos un daframe en formato pickle"
   ]
  },
  {
   "attachments": {},
   "cell_type": "markdown",
   "metadata": {},
   "source": [
    "## Imports"
   ]
  },
  {
   "cell_type": "code",
   "execution_count": 44,
   "metadata": {},
   "outputs": [],
   "source": [
    "import pandas as pd\n",
    "import numpy as np\n",
    "\n",
    "import seaborn as sns\n",
    "import matplotlib.pyplot as plt\n",
    "\n",
    "from sql_face.tables import *\n",
    "import os\n",
    "import plotly.express as px\n",
    "import plotly.io as pio\n"
   ]
  },
  {
   "attachments": {},
   "cell_type": "markdown",
   "metadata": {},
   "source": [
    "## Leer dataframe del disco\n",
    "se especifica directorio y fichero"
   ]
  },
  {
   "cell_type": "code",
   "execution_count": 45,
   "metadata": {},
   "outputs": [],
   "source": [
    "home = os.path.expanduser(\"~\")\n",
    "\n",
    "input_dir = os.path.join(home, 'video_resources', 'sql_database')\n",
    "df = pd.read_pickle(os.path.join(input_dir,'df_all.pkl'))\n"
   ]
  },
  {
   "cell_type": "code",
   "execution_count": 46,
   "metadata": {},
   "outputs": [
    {
     "data": {
      "text/plain": [
       "Index(['identity', 'pitch', 'angle_pitch', 'yaw', 'angle_yaw', 'roll',\n",
       "       'angle_roll', 'source', 'gender', 'headgear', 'age', 'age_number',\n",
       "       'glasses', 'type', 'beard', 'emotion', 'other_occlusions', 'race',\n",
       "       'image_id', 'Detector', 'E_Model', 'Q_model', 'Q_group', 'Quality'],\n",
       "      dtype='object')"
      ]
     },
     "execution_count": 46,
     "metadata": {},
     "output_type": "execute_result"
    }
   ],
   "source": [
    "df.columns"
   ]
  },
  {
   "cell_type": "code",
   "execution_count": 47,
   "metadata": {},
   "outputs": [
    {
     "data": {
      "text/plain": [
       "LFW          396760\n",
       "XQLFW        333030\n",
       "SCFace       111150\n",
       "ForenFace     69118\n",
       "ENFSI         16630\n",
       "Name: source, dtype: int64"
      ]
     },
     "execution_count": 47,
     "metadata": {},
     "output_type": "execute_result"
    }
   ],
   "source": [
    "df.source.value_counts()"
   ]
  },
  {
   "attachments": {},
   "cell_type": "markdown",
   "metadata": {},
   "source": [
    "### Quitamos los Embedding Models\n",
    "y los registros repetidos"
   ]
  },
  {
   "cell_type": "code",
   "execution_count": 48,
   "metadata": {},
   "outputs": [
    {
     "data": {
      "text/plain": [
       "185338"
      ]
     },
     "execution_count": 48,
     "metadata": {},
     "output_type": "execute_result"
    }
   ],
   "source": [
    "df2 = df.copy()\n",
    "#df2 = df.loc[df['type'] == 'enfsiImage']\n",
    "df2.drop('E_Model', axis = 1,inplace = True)\n",
    "df2 = df2.drop_duplicates(subset = ['image_id','Detector','Q_model'])\n",
    "df2 = df2.reset_index(drop=True)\n",
    "\n",
    "len(df2)"
   ]
  },
  {
   "cell_type": "code",
   "execution_count": 49,
   "metadata": {},
   "outputs": [
    {
     "data": {
      "text/plain": [
       "926688"
      ]
     },
     "execution_count": 49,
     "metadata": {},
     "output_type": "execute_result"
    }
   ],
   "source": [
    "len(df)"
   ]
  },
  {
   "cell_type": "code",
   "execution_count": 50,
   "metadata": {},
   "outputs": [
    {
     "data": {
      "text/html": [
       "<div>\n",
       "<style scoped>\n",
       "    .dataframe tbody tr th:only-of-type {\n",
       "        vertical-align: middle;\n",
       "    }\n",
       "\n",
       "    .dataframe tbody tr th {\n",
       "        vertical-align: top;\n",
       "    }\n",
       "\n",
       "    .dataframe thead th {\n",
       "        text-align: right;\n",
       "    }\n",
       "</style>\n",
       "<table border=\"1\" class=\"dataframe\">\n",
       "  <thead>\n",
       "    <tr style=\"text-align: right;\">\n",
       "      <th></th>\n",
       "      <th>identity</th>\n",
       "      <th>pitch</th>\n",
       "      <th>angle_pitch</th>\n",
       "      <th>yaw</th>\n",
       "      <th>angle_yaw</th>\n",
       "      <th>roll</th>\n",
       "      <th>angle_roll</th>\n",
       "      <th>source</th>\n",
       "      <th>gender</th>\n",
       "      <th>headgear</th>\n",
       "      <th>...</th>\n",
       "      <th>type</th>\n",
       "      <th>beard</th>\n",
       "      <th>emotion</th>\n",
       "      <th>other_occlusions</th>\n",
       "      <th>race</th>\n",
       "      <th>image_id</th>\n",
       "      <th>Detector</th>\n",
       "      <th>Q_model</th>\n",
       "      <th>Q_group</th>\n",
       "      <th>Quality</th>\n",
       "    </tr>\n",
       "  </thead>\n",
       "  <tbody>\n",
       "    <tr>\n",
       "      <th>0</th>\n",
       "      <td>2011-1-unknown</td>\n",
       "      <td>Pitch.FRONTAL</td>\n",
       "      <td>NaN</td>\n",
       "      <td>Yaw.FRONTAL</td>\n",
       "      <td>NaN</td>\n",
       "      <td>Roll.FRONTAL</td>\n",
       "      <td>NaN</td>\n",
       "      <td>ENFSI</td>\n",
       "      <td>Gender.MALE</td>\n",
       "      <td>False</td>\n",
       "      <td>...</td>\n",
       "      <td>enfsiImage</td>\n",
       "      <td>False</td>\n",
       "      <td>Emotion.NEUTRAL</td>\n",
       "      <td>False</td>\n",
       "      <td>Race.WHITE</td>\n",
       "      <td>1</td>\n",
       "      <td>mtcnn</td>\n",
       "      <td>ser_fiq</td>\n",
       "      <td>QualityGroup.HIGH</td>\n",
       "      <td>0.632035</td>\n",
       "    </tr>\n",
       "    <tr>\n",
       "      <th>1</th>\n",
       "      <td>2011-1</td>\n",
       "      <td>Pitch.FRONTAL</td>\n",
       "      <td>NaN</td>\n",
       "      <td>Yaw.FRONTAL</td>\n",
       "      <td>NaN</td>\n",
       "      <td>Roll.FRONTAL</td>\n",
       "      <td>NaN</td>\n",
       "      <td>ENFSI</td>\n",
       "      <td>Gender.MALE</td>\n",
       "      <td>False</td>\n",
       "      <td>...</td>\n",
       "      <td>enfsiImage</td>\n",
       "      <td>False</td>\n",
       "      <td>Emotion.FEAR</td>\n",
       "      <td>False</td>\n",
       "      <td>Race.LATINO</td>\n",
       "      <td>2</td>\n",
       "      <td>mtcnn</td>\n",
       "      <td>ser_fiq</td>\n",
       "      <td>QualityGroup.VERY_HIGH</td>\n",
       "      <td>0.771966</td>\n",
       "    </tr>\n",
       "    <tr>\n",
       "      <th>2</th>\n",
       "      <td>2011-2-unknown</td>\n",
       "      <td>Pitch.FRONTAL</td>\n",
       "      <td>NaN</td>\n",
       "      <td>Yaw.FRONTAL</td>\n",
       "      <td>NaN</td>\n",
       "      <td>Roll.FRONTAL</td>\n",
       "      <td>NaN</td>\n",
       "      <td>ENFSI</td>\n",
       "      <td>Gender.MALE</td>\n",
       "      <td>False</td>\n",
       "      <td>...</td>\n",
       "      <td>enfsiImage</td>\n",
       "      <td>True</td>\n",
       "      <td>Emotion.NEUTRAL</td>\n",
       "      <td>False</td>\n",
       "      <td>Race.WHITE</td>\n",
       "      <td>3</td>\n",
       "      <td>mtcnn</td>\n",
       "      <td>ser_fiq</td>\n",
       "      <td>QualityGroup.MEDIUM</td>\n",
       "      <td>0.491990</td>\n",
       "    </tr>\n",
       "    <tr>\n",
       "      <th>3</th>\n",
       "      <td>2011-2</td>\n",
       "      <td>Pitch.FRONTAL</td>\n",
       "      <td>NaN</td>\n",
       "      <td>Yaw.FRONTAL</td>\n",
       "      <td>NaN</td>\n",
       "      <td>Roll.HALF_LEANING</td>\n",
       "      <td>NaN</td>\n",
       "      <td>ENFSI</td>\n",
       "      <td>Gender.MALE</td>\n",
       "      <td>False</td>\n",
       "      <td>...</td>\n",
       "      <td>enfsiImage</td>\n",
       "      <td>False</td>\n",
       "      <td>Emotion.SAD</td>\n",
       "      <td>False</td>\n",
       "      <td>Race.ASIAN</td>\n",
       "      <td>4</td>\n",
       "      <td>mtcnn</td>\n",
       "      <td>ser_fiq</td>\n",
       "      <td>QualityGroup.HIGH</td>\n",
       "      <td>0.702496</td>\n",
       "    </tr>\n",
       "    <tr>\n",
       "      <th>4</th>\n",
       "      <td>2011-3</td>\n",
       "      <td>Pitch.FRONTAL</td>\n",
       "      <td>NaN</td>\n",
       "      <td>Yaw.FRONTAL</td>\n",
       "      <td>NaN</td>\n",
       "      <td>Roll.FRONTAL</td>\n",
       "      <td>NaN</td>\n",
       "      <td>ENFSI</td>\n",
       "      <td>Gender.MALE</td>\n",
       "      <td>False</td>\n",
       "      <td>...</td>\n",
       "      <td>enfsiImage</td>\n",
       "      <td>False</td>\n",
       "      <td>Emotion.SAD</td>\n",
       "      <td>False</td>\n",
       "      <td>Race.WHITE</td>\n",
       "      <td>5</td>\n",
       "      <td>mtcnn</td>\n",
       "      <td>ser_fiq</td>\n",
       "      <td>QualityGroup.LOW</td>\n",
       "      <td>0.053961</td>\n",
       "    </tr>\n",
       "    <tr>\n",
       "      <th>...</th>\n",
       "      <td>...</td>\n",
       "      <td>...</td>\n",
       "      <td>...</td>\n",
       "      <td>...</td>\n",
       "      <td>...</td>\n",
       "      <td>...</td>\n",
       "      <td>...</td>\n",
       "      <td>...</td>\n",
       "      <td>...</td>\n",
       "      <td>...</td>\n",
       "      <td>...</td>\n",
       "      <td>...</td>\n",
       "      <td>...</td>\n",
       "      <td>...</td>\n",
       "      <td>...</td>\n",
       "      <td>...</td>\n",
       "      <td>...</td>\n",
       "      <td>...</td>\n",
       "      <td>...</td>\n",
       "      <td>...</td>\n",
       "      <td>...</td>\n",
       "    </tr>\n",
       "    <tr>\n",
       "      <th>185333</th>\n",
       "      <td>064</td>\n",
       "      <td>Pitch.FRONTAL</td>\n",
       "      <td>NaN</td>\n",
       "      <td>Yaw.FRONTAL</td>\n",
       "      <td>NaN</td>\n",
       "      <td>Roll.FRONTAL</td>\n",
       "      <td>NaN</td>\n",
       "      <td>ForenFace</td>\n",
       "      <td>Gender.MALE</td>\n",
       "      <td>True</td>\n",
       "      <td>...</td>\n",
       "      <td>image</td>\n",
       "      <td>None</td>\n",
       "      <td>Emotion.NEUTRAL</td>\n",
       "      <td>None</td>\n",
       "      <td>None</td>\n",
       "      <td>61639</td>\n",
       "      <td>mediapipe</td>\n",
       "      <td>tface</td>\n",
       "      <td>QualityGroup.VERY_LOW</td>\n",
       "      <td>29.594591</td>\n",
       "    </tr>\n",
       "    <tr>\n",
       "      <th>185334</th>\n",
       "      <td>073</td>\n",
       "      <td>Pitch.FRONTAL</td>\n",
       "      <td>NaN</td>\n",
       "      <td>Yaw.FRONTAL</td>\n",
       "      <td>NaN</td>\n",
       "      <td>Roll.FRONTAL</td>\n",
       "      <td>NaN</td>\n",
       "      <td>ForenFace</td>\n",
       "      <td>Gender.MALE</td>\n",
       "      <td>False</td>\n",
       "      <td>...</td>\n",
       "      <td>image</td>\n",
       "      <td>None</td>\n",
       "      <td>Emotion.NEUTRAL</td>\n",
       "      <td>None</td>\n",
       "      <td>None</td>\n",
       "      <td>61640</td>\n",
       "      <td>mediapipe</td>\n",
       "      <td>tface</td>\n",
       "      <td>QualityGroup.VERY_LOW</td>\n",
       "      <td>28.830376</td>\n",
       "    </tr>\n",
       "    <tr>\n",
       "      <th>185335</th>\n",
       "      <td>001</td>\n",
       "      <td>Pitch.FRONTAL</td>\n",
       "      <td>NaN</td>\n",
       "      <td>Yaw.PROFILE</td>\n",
       "      <td>NaN</td>\n",
       "      <td>None</td>\n",
       "      <td>NaN</td>\n",
       "      <td>ForenFace</td>\n",
       "      <td>Gender.MALE</td>\n",
       "      <td>False</td>\n",
       "      <td>...</td>\n",
       "      <td>image</td>\n",
       "      <td>None</td>\n",
       "      <td>Emotion.SAD</td>\n",
       "      <td>None</td>\n",
       "      <td>None</td>\n",
       "      <td>61641</td>\n",
       "      <td>mediapipe</td>\n",
       "      <td>tface</td>\n",
       "      <td>QualityGroup.VERY_LOW</td>\n",
       "      <td>28.940865</td>\n",
       "    </tr>\n",
       "    <tr>\n",
       "      <th>185336</th>\n",
       "      <td>053</td>\n",
       "      <td>Pitch.FRONTAL</td>\n",
       "      <td>NaN</td>\n",
       "      <td>Yaw.FRONTAL</td>\n",
       "      <td>NaN</td>\n",
       "      <td>Roll.FRONTAL</td>\n",
       "      <td>NaN</td>\n",
       "      <td>ForenFace</td>\n",
       "      <td>Gender.MALE</td>\n",
       "      <td>False</td>\n",
       "      <td>...</td>\n",
       "      <td>image</td>\n",
       "      <td>None</td>\n",
       "      <td>Emotion.NEUTRAL</td>\n",
       "      <td>None</td>\n",
       "      <td>None</td>\n",
       "      <td>61642</td>\n",
       "      <td>mediapipe</td>\n",
       "      <td>tface</td>\n",
       "      <td>QualityGroup.VERY_LOW</td>\n",
       "      <td>27.658789</td>\n",
       "    </tr>\n",
       "    <tr>\n",
       "      <th>185337</th>\n",
       "      <td>006</td>\n",
       "      <td>Pitch.FRONTAL</td>\n",
       "      <td>NaN</td>\n",
       "      <td>Yaw.FRONTAL</td>\n",
       "      <td>NaN</td>\n",
       "      <td>Roll.FRONTAL</td>\n",
       "      <td>NaN</td>\n",
       "      <td>ForenFace</td>\n",
       "      <td>Gender.MALE</td>\n",
       "      <td>True</td>\n",
       "      <td>...</td>\n",
       "      <td>image</td>\n",
       "      <td>None</td>\n",
       "      <td>Emotion.SAD</td>\n",
       "      <td>None</td>\n",
       "      <td>None</td>\n",
       "      <td>61643</td>\n",
       "      <td>mediapipe</td>\n",
       "      <td>tface</td>\n",
       "      <td>QualityGroup.VERY_LOW</td>\n",
       "      <td>29.496002</td>\n",
       "    </tr>\n",
       "  </tbody>\n",
       "</table>\n",
       "<p>185338 rows × 23 columns</p>\n",
       "</div>"
      ],
      "text/plain": [
       "              identity          pitch  angle_pitch          yaw  angle_yaw  \\\n",
       "0       2011-1-unknown  Pitch.FRONTAL          NaN  Yaw.FRONTAL        NaN   \n",
       "1               2011-1  Pitch.FRONTAL          NaN  Yaw.FRONTAL        NaN   \n",
       "2       2011-2-unknown  Pitch.FRONTAL          NaN  Yaw.FRONTAL        NaN   \n",
       "3               2011-2  Pitch.FRONTAL          NaN  Yaw.FRONTAL        NaN   \n",
       "4               2011-3  Pitch.FRONTAL          NaN  Yaw.FRONTAL        NaN   \n",
       "...                ...            ...          ...          ...        ...   \n",
       "185333             064  Pitch.FRONTAL          NaN  Yaw.FRONTAL        NaN   \n",
       "185334             073  Pitch.FRONTAL          NaN  Yaw.FRONTAL        NaN   \n",
       "185335             001  Pitch.FRONTAL          NaN  Yaw.PROFILE        NaN   \n",
       "185336             053  Pitch.FRONTAL          NaN  Yaw.FRONTAL        NaN   \n",
       "185337             006  Pitch.FRONTAL          NaN  Yaw.FRONTAL        NaN   \n",
       "\n",
       "                     roll  angle_roll     source       gender headgear  ...  \\\n",
       "0            Roll.FRONTAL         NaN      ENFSI  Gender.MALE    False  ...   \n",
       "1            Roll.FRONTAL         NaN      ENFSI  Gender.MALE    False  ...   \n",
       "2            Roll.FRONTAL         NaN      ENFSI  Gender.MALE    False  ...   \n",
       "3       Roll.HALF_LEANING         NaN      ENFSI  Gender.MALE    False  ...   \n",
       "4            Roll.FRONTAL         NaN      ENFSI  Gender.MALE    False  ...   \n",
       "...                   ...         ...        ...          ...      ...  ...   \n",
       "185333       Roll.FRONTAL         NaN  ForenFace  Gender.MALE     True  ...   \n",
       "185334       Roll.FRONTAL         NaN  ForenFace  Gender.MALE    False  ...   \n",
       "185335               None         NaN  ForenFace  Gender.MALE    False  ...   \n",
       "185336       Roll.FRONTAL         NaN  ForenFace  Gender.MALE    False  ...   \n",
       "185337       Roll.FRONTAL         NaN  ForenFace  Gender.MALE     True  ...   \n",
       "\n",
       "              type  beard          emotion other_occlusions         race  \\\n",
       "0       enfsiImage  False  Emotion.NEUTRAL            False   Race.WHITE   \n",
       "1       enfsiImage  False     Emotion.FEAR            False  Race.LATINO   \n",
       "2       enfsiImage   True  Emotion.NEUTRAL            False   Race.WHITE   \n",
       "3       enfsiImage  False      Emotion.SAD            False   Race.ASIAN   \n",
       "4       enfsiImage  False      Emotion.SAD            False   Race.WHITE   \n",
       "...            ...    ...              ...              ...          ...   \n",
       "185333       image   None  Emotion.NEUTRAL             None         None   \n",
       "185334       image   None  Emotion.NEUTRAL             None         None   \n",
       "185335       image   None      Emotion.SAD             None         None   \n",
       "185336       image   None  Emotion.NEUTRAL             None         None   \n",
       "185337       image   None      Emotion.SAD             None         None   \n",
       "\n",
       "       image_id   Detector  Q_model                 Q_group    Quality  \n",
       "0             1      mtcnn  ser_fiq       QualityGroup.HIGH   0.632035  \n",
       "1             2      mtcnn  ser_fiq  QualityGroup.VERY_HIGH   0.771966  \n",
       "2             3      mtcnn  ser_fiq     QualityGroup.MEDIUM   0.491990  \n",
       "3             4      mtcnn  ser_fiq       QualityGroup.HIGH   0.702496  \n",
       "4             5      mtcnn  ser_fiq        QualityGroup.LOW   0.053961  \n",
       "...         ...        ...      ...                     ...        ...  \n",
       "185333    61639  mediapipe    tface   QualityGroup.VERY_LOW  29.594591  \n",
       "185334    61640  mediapipe    tface   QualityGroup.VERY_LOW  28.830376  \n",
       "185335    61641  mediapipe    tface   QualityGroup.VERY_LOW  28.940865  \n",
       "185336    61642  mediapipe    tface   QualityGroup.VERY_LOW  27.658789  \n",
       "185337    61643  mediapipe    tface   QualityGroup.VERY_LOW  29.496002  \n",
       "\n",
       "[185338 rows x 23 columns]"
      ]
     },
     "execution_count": 50,
     "metadata": {},
     "output_type": "execute_result"
    }
   ],
   "source": [
    "\n",
    "df2"
   ]
  },
  {
   "cell_type": "code",
   "execution_count": 51,
   "metadata": {},
   "outputs": [
    {
     "data": {
      "text/plain": [
       "ser_fiq    92669\n",
       "tface      92669\n",
       "Name: Q_model, dtype: int64"
      ]
     },
     "execution_count": 51,
     "metadata": {},
     "output_type": "execute_result"
    }
   ],
   "source": [
    "df2.Q_model.value_counts()"
   ]
  },
  {
   "cell_type": "code",
   "execution_count": 52,
   "metadata": {},
   "outputs": [
    {
     "data": {
      "text/plain": [
       "31433"
      ]
     },
     "execution_count": 52,
     "metadata": {},
     "output_type": "execute_result"
    }
   ],
   "source": [
    "len(np.unique(df2.image_id))"
   ]
  },
  {
   "attachments": {},
   "cell_type": "markdown",
   "metadata": {},
   "source": [
    "### Un solo detector y quality Model"
   ]
  },
  {
   "cell_type": "code",
   "execution_count": 53,
   "metadata": {},
   "outputs": [],
   "source": [
    "df3 = df2.loc[(df2.Detector == 'mtcnn') & (df2.Q_model=='ser_fiq')]\n",
    "df3.reset_index(drop=True, inplace = True)\n"
   ]
  },
  {
   "cell_type": "code",
   "execution_count": 54,
   "metadata": {},
   "outputs": [
    {
     "data": {
      "text/html": [
       "<div>\n",
       "<style scoped>\n",
       "    .dataframe tbody tr th:only-of-type {\n",
       "        vertical-align: middle;\n",
       "    }\n",
       "\n",
       "    .dataframe tbody tr th {\n",
       "        vertical-align: top;\n",
       "    }\n",
       "\n",
       "    .dataframe thead th {\n",
       "        text-align: right;\n",
       "    }\n",
       "</style>\n",
       "<table border=\"1\" class=\"dataframe\">\n",
       "  <thead>\n",
       "    <tr style=\"text-align: right;\">\n",
       "      <th></th>\n",
       "      <th>identity</th>\n",
       "      <th>pitch</th>\n",
       "      <th>angle_pitch</th>\n",
       "      <th>yaw</th>\n",
       "      <th>angle_yaw</th>\n",
       "      <th>roll</th>\n",
       "      <th>angle_roll</th>\n",
       "      <th>source</th>\n",
       "      <th>gender</th>\n",
       "      <th>headgear</th>\n",
       "      <th>...</th>\n",
       "      <th>type</th>\n",
       "      <th>beard</th>\n",
       "      <th>emotion</th>\n",
       "      <th>other_occlusions</th>\n",
       "      <th>race</th>\n",
       "      <th>image_id</th>\n",
       "      <th>Detector</th>\n",
       "      <th>Q_model</th>\n",
       "      <th>Q_group</th>\n",
       "      <th>Quality</th>\n",
       "    </tr>\n",
       "  </thead>\n",
       "  <tbody>\n",
       "    <tr>\n",
       "      <th>0</th>\n",
       "      <td>2011-1-unknown</td>\n",
       "      <td>Pitch.FRONTAL</td>\n",
       "      <td>NaN</td>\n",
       "      <td>Yaw.FRONTAL</td>\n",
       "      <td>NaN</td>\n",
       "      <td>Roll.FRONTAL</td>\n",
       "      <td>NaN</td>\n",
       "      <td>ENFSI</td>\n",
       "      <td>Gender.MALE</td>\n",
       "      <td>False</td>\n",
       "      <td>...</td>\n",
       "      <td>enfsiImage</td>\n",
       "      <td>False</td>\n",
       "      <td>Emotion.NEUTRAL</td>\n",
       "      <td>False</td>\n",
       "      <td>Race.WHITE</td>\n",
       "      <td>1</td>\n",
       "      <td>mtcnn</td>\n",
       "      <td>ser_fiq</td>\n",
       "      <td>QualityGroup.HIGH</td>\n",
       "      <td>0.632035</td>\n",
       "    </tr>\n",
       "    <tr>\n",
       "      <th>1</th>\n",
       "      <td>2011-1</td>\n",
       "      <td>Pitch.FRONTAL</td>\n",
       "      <td>NaN</td>\n",
       "      <td>Yaw.FRONTAL</td>\n",
       "      <td>NaN</td>\n",
       "      <td>Roll.FRONTAL</td>\n",
       "      <td>NaN</td>\n",
       "      <td>ENFSI</td>\n",
       "      <td>Gender.MALE</td>\n",
       "      <td>False</td>\n",
       "      <td>...</td>\n",
       "      <td>enfsiImage</td>\n",
       "      <td>False</td>\n",
       "      <td>Emotion.FEAR</td>\n",
       "      <td>False</td>\n",
       "      <td>Race.LATINO</td>\n",
       "      <td>2</td>\n",
       "      <td>mtcnn</td>\n",
       "      <td>ser_fiq</td>\n",
       "      <td>QualityGroup.VERY_HIGH</td>\n",
       "      <td>0.771966</td>\n",
       "    </tr>\n",
       "    <tr>\n",
       "      <th>2</th>\n",
       "      <td>2011-2-unknown</td>\n",
       "      <td>Pitch.FRONTAL</td>\n",
       "      <td>NaN</td>\n",
       "      <td>Yaw.FRONTAL</td>\n",
       "      <td>NaN</td>\n",
       "      <td>Roll.FRONTAL</td>\n",
       "      <td>NaN</td>\n",
       "      <td>ENFSI</td>\n",
       "      <td>Gender.MALE</td>\n",
       "      <td>False</td>\n",
       "      <td>...</td>\n",
       "      <td>enfsiImage</td>\n",
       "      <td>True</td>\n",
       "      <td>Emotion.NEUTRAL</td>\n",
       "      <td>False</td>\n",
       "      <td>Race.WHITE</td>\n",
       "      <td>3</td>\n",
       "      <td>mtcnn</td>\n",
       "      <td>ser_fiq</td>\n",
       "      <td>QualityGroup.MEDIUM</td>\n",
       "      <td>0.491990</td>\n",
       "    </tr>\n",
       "    <tr>\n",
       "      <th>3</th>\n",
       "      <td>2011-2</td>\n",
       "      <td>Pitch.FRONTAL</td>\n",
       "      <td>NaN</td>\n",
       "      <td>Yaw.FRONTAL</td>\n",
       "      <td>NaN</td>\n",
       "      <td>Roll.HALF_LEANING</td>\n",
       "      <td>NaN</td>\n",
       "      <td>ENFSI</td>\n",
       "      <td>Gender.MALE</td>\n",
       "      <td>False</td>\n",
       "      <td>...</td>\n",
       "      <td>enfsiImage</td>\n",
       "      <td>False</td>\n",
       "      <td>Emotion.SAD</td>\n",
       "      <td>False</td>\n",
       "      <td>Race.ASIAN</td>\n",
       "      <td>4</td>\n",
       "      <td>mtcnn</td>\n",
       "      <td>ser_fiq</td>\n",
       "      <td>QualityGroup.HIGH</td>\n",
       "      <td>0.702496</td>\n",
       "    </tr>\n",
       "    <tr>\n",
       "      <th>4</th>\n",
       "      <td>2011-3</td>\n",
       "      <td>Pitch.FRONTAL</td>\n",
       "      <td>NaN</td>\n",
       "      <td>Yaw.FRONTAL</td>\n",
       "      <td>NaN</td>\n",
       "      <td>Roll.FRONTAL</td>\n",
       "      <td>NaN</td>\n",
       "      <td>ENFSI</td>\n",
       "      <td>Gender.MALE</td>\n",
       "      <td>False</td>\n",
       "      <td>...</td>\n",
       "      <td>enfsiImage</td>\n",
       "      <td>False</td>\n",
       "      <td>Emotion.SAD</td>\n",
       "      <td>False</td>\n",
       "      <td>Race.WHITE</td>\n",
       "      <td>5</td>\n",
       "      <td>mtcnn</td>\n",
       "      <td>ser_fiq</td>\n",
       "      <td>QualityGroup.LOW</td>\n",
       "      <td>0.053961</td>\n",
       "    </tr>\n",
       "    <tr>\n",
       "      <th>...</th>\n",
       "      <td>...</td>\n",
       "      <td>...</td>\n",
       "      <td>...</td>\n",
       "      <td>...</td>\n",
       "      <td>...</td>\n",
       "      <td>...</td>\n",
       "      <td>...</td>\n",
       "      <td>...</td>\n",
       "      <td>...</td>\n",
       "      <td>...</td>\n",
       "      <td>...</td>\n",
       "      <td>...</td>\n",
       "      <td>...</td>\n",
       "      <td>...</td>\n",
       "      <td>...</td>\n",
       "      <td>...</td>\n",
       "      <td>...</td>\n",
       "      <td>...</td>\n",
       "      <td>...</td>\n",
       "      <td>...</td>\n",
       "      <td>...</td>\n",
       "    </tr>\n",
       "    <tr>\n",
       "      <th>31264</th>\n",
       "      <td>064</td>\n",
       "      <td>Pitch.FRONTAL</td>\n",
       "      <td>NaN</td>\n",
       "      <td>Yaw.FRONTAL</td>\n",
       "      <td>NaN</td>\n",
       "      <td>Roll.FRONTAL</td>\n",
       "      <td>NaN</td>\n",
       "      <td>ForenFace</td>\n",
       "      <td>Gender.MALE</td>\n",
       "      <td>True</td>\n",
       "      <td>...</td>\n",
       "      <td>image</td>\n",
       "      <td>None</td>\n",
       "      <td>Emotion.NEUTRAL</td>\n",
       "      <td>None</td>\n",
       "      <td>None</td>\n",
       "      <td>61639</td>\n",
       "      <td>mtcnn</td>\n",
       "      <td>ser_fiq</td>\n",
       "      <td>QualityGroup.LOW</td>\n",
       "      <td>0.014163</td>\n",
       "    </tr>\n",
       "    <tr>\n",
       "      <th>31265</th>\n",
       "      <td>073</td>\n",
       "      <td>Pitch.FRONTAL</td>\n",
       "      <td>NaN</td>\n",
       "      <td>Yaw.FRONTAL</td>\n",
       "      <td>NaN</td>\n",
       "      <td>Roll.FRONTAL</td>\n",
       "      <td>NaN</td>\n",
       "      <td>ForenFace</td>\n",
       "      <td>Gender.MALE</td>\n",
       "      <td>False</td>\n",
       "      <td>...</td>\n",
       "      <td>image</td>\n",
       "      <td>None</td>\n",
       "      <td>Emotion.NEUTRAL</td>\n",
       "      <td>None</td>\n",
       "      <td>None</td>\n",
       "      <td>61640</td>\n",
       "      <td>mtcnn</td>\n",
       "      <td>ser_fiq</td>\n",
       "      <td>QualityGroup.MEDIUM</td>\n",
       "      <td>0.426552</td>\n",
       "    </tr>\n",
       "    <tr>\n",
       "      <th>31266</th>\n",
       "      <td>001</td>\n",
       "      <td>Pitch.FRONTAL</td>\n",
       "      <td>NaN</td>\n",
       "      <td>Yaw.PROFILE</td>\n",
       "      <td>NaN</td>\n",
       "      <td>None</td>\n",
       "      <td>NaN</td>\n",
       "      <td>ForenFace</td>\n",
       "      <td>Gender.MALE</td>\n",
       "      <td>False</td>\n",
       "      <td>...</td>\n",
       "      <td>image</td>\n",
       "      <td>None</td>\n",
       "      <td>Emotion.SAD</td>\n",
       "      <td>None</td>\n",
       "      <td>None</td>\n",
       "      <td>61641</td>\n",
       "      <td>mtcnn</td>\n",
       "      <td>ser_fiq</td>\n",
       "      <td>QualityGroup.VERY_LOW</td>\n",
       "      <td>0.001988</td>\n",
       "    </tr>\n",
       "    <tr>\n",
       "      <th>31267</th>\n",
       "      <td>053</td>\n",
       "      <td>Pitch.FRONTAL</td>\n",
       "      <td>NaN</td>\n",
       "      <td>Yaw.FRONTAL</td>\n",
       "      <td>NaN</td>\n",
       "      <td>Roll.FRONTAL</td>\n",
       "      <td>NaN</td>\n",
       "      <td>ForenFace</td>\n",
       "      <td>Gender.MALE</td>\n",
       "      <td>False</td>\n",
       "      <td>...</td>\n",
       "      <td>image</td>\n",
       "      <td>None</td>\n",
       "      <td>Emotion.NEUTRAL</td>\n",
       "      <td>None</td>\n",
       "      <td>None</td>\n",
       "      <td>61642</td>\n",
       "      <td>mtcnn</td>\n",
       "      <td>ser_fiq</td>\n",
       "      <td>QualityGroup.HIGH</td>\n",
       "      <td>0.733252</td>\n",
       "    </tr>\n",
       "    <tr>\n",
       "      <th>31268</th>\n",
       "      <td>006</td>\n",
       "      <td>Pitch.FRONTAL</td>\n",
       "      <td>NaN</td>\n",
       "      <td>Yaw.FRONTAL</td>\n",
       "      <td>NaN</td>\n",
       "      <td>Roll.FRONTAL</td>\n",
       "      <td>NaN</td>\n",
       "      <td>ForenFace</td>\n",
       "      <td>Gender.MALE</td>\n",
       "      <td>True</td>\n",
       "      <td>...</td>\n",
       "      <td>image</td>\n",
       "      <td>None</td>\n",
       "      <td>Emotion.SAD</td>\n",
       "      <td>None</td>\n",
       "      <td>None</td>\n",
       "      <td>61643</td>\n",
       "      <td>mtcnn</td>\n",
       "      <td>ser_fiq</td>\n",
       "      <td>QualityGroup.LOW</td>\n",
       "      <td>0.020641</td>\n",
       "    </tr>\n",
       "  </tbody>\n",
       "</table>\n",
       "<p>31269 rows × 23 columns</p>\n",
       "</div>"
      ],
      "text/plain": [
       "             identity          pitch  angle_pitch          yaw  angle_yaw  \\\n",
       "0      2011-1-unknown  Pitch.FRONTAL          NaN  Yaw.FRONTAL        NaN   \n",
       "1              2011-1  Pitch.FRONTAL          NaN  Yaw.FRONTAL        NaN   \n",
       "2      2011-2-unknown  Pitch.FRONTAL          NaN  Yaw.FRONTAL        NaN   \n",
       "3              2011-2  Pitch.FRONTAL          NaN  Yaw.FRONTAL        NaN   \n",
       "4              2011-3  Pitch.FRONTAL          NaN  Yaw.FRONTAL        NaN   \n",
       "...               ...            ...          ...          ...        ...   \n",
       "31264             064  Pitch.FRONTAL          NaN  Yaw.FRONTAL        NaN   \n",
       "31265             073  Pitch.FRONTAL          NaN  Yaw.FRONTAL        NaN   \n",
       "31266             001  Pitch.FRONTAL          NaN  Yaw.PROFILE        NaN   \n",
       "31267             053  Pitch.FRONTAL          NaN  Yaw.FRONTAL        NaN   \n",
       "31268             006  Pitch.FRONTAL          NaN  Yaw.FRONTAL        NaN   \n",
       "\n",
       "                    roll  angle_roll     source       gender headgear  ...  \\\n",
       "0           Roll.FRONTAL         NaN      ENFSI  Gender.MALE    False  ...   \n",
       "1           Roll.FRONTAL         NaN      ENFSI  Gender.MALE    False  ...   \n",
       "2           Roll.FRONTAL         NaN      ENFSI  Gender.MALE    False  ...   \n",
       "3      Roll.HALF_LEANING         NaN      ENFSI  Gender.MALE    False  ...   \n",
       "4           Roll.FRONTAL         NaN      ENFSI  Gender.MALE    False  ...   \n",
       "...                  ...         ...        ...          ...      ...  ...   \n",
       "31264       Roll.FRONTAL         NaN  ForenFace  Gender.MALE     True  ...   \n",
       "31265       Roll.FRONTAL         NaN  ForenFace  Gender.MALE    False  ...   \n",
       "31266               None         NaN  ForenFace  Gender.MALE    False  ...   \n",
       "31267       Roll.FRONTAL         NaN  ForenFace  Gender.MALE    False  ...   \n",
       "31268       Roll.FRONTAL         NaN  ForenFace  Gender.MALE     True  ...   \n",
       "\n",
       "             type  beard          emotion other_occlusions         race  \\\n",
       "0      enfsiImage  False  Emotion.NEUTRAL            False   Race.WHITE   \n",
       "1      enfsiImage  False     Emotion.FEAR            False  Race.LATINO   \n",
       "2      enfsiImage   True  Emotion.NEUTRAL            False   Race.WHITE   \n",
       "3      enfsiImage  False      Emotion.SAD            False   Race.ASIAN   \n",
       "4      enfsiImage  False      Emotion.SAD            False   Race.WHITE   \n",
       "...           ...    ...              ...              ...          ...   \n",
       "31264       image   None  Emotion.NEUTRAL             None         None   \n",
       "31265       image   None  Emotion.NEUTRAL             None         None   \n",
       "31266       image   None      Emotion.SAD             None         None   \n",
       "31267       image   None  Emotion.NEUTRAL             None         None   \n",
       "31268       image   None      Emotion.SAD             None         None   \n",
       "\n",
       "      image_id Detector  Q_model                 Q_group   Quality  \n",
       "0            1    mtcnn  ser_fiq       QualityGroup.HIGH  0.632035  \n",
       "1            2    mtcnn  ser_fiq  QualityGroup.VERY_HIGH  0.771966  \n",
       "2            3    mtcnn  ser_fiq     QualityGroup.MEDIUM  0.491990  \n",
       "3            4    mtcnn  ser_fiq       QualityGroup.HIGH  0.702496  \n",
       "4            5    mtcnn  ser_fiq        QualityGroup.LOW  0.053961  \n",
       "...        ...      ...      ...                     ...       ...  \n",
       "31264    61639    mtcnn  ser_fiq        QualityGroup.LOW  0.014163  \n",
       "31265    61640    mtcnn  ser_fiq     QualityGroup.MEDIUM  0.426552  \n",
       "31266    61641    mtcnn  ser_fiq   QualityGroup.VERY_LOW  0.001988  \n",
       "31267    61642    mtcnn  ser_fiq       QualityGroup.HIGH  0.733252  \n",
       "31268    61643    mtcnn  ser_fiq        QualityGroup.LOW  0.020641  \n",
       "\n",
       "[31269 rows x 23 columns]"
      ]
     },
     "execution_count": 54,
     "metadata": {},
     "output_type": "execute_result"
    }
   ],
   "source": [
    "df3"
   ]
  },
  {
   "cell_type": "code",
   "execution_count": 55,
   "metadata": {},
   "outputs": [
    {
     "data": {
      "text/plain": [
       "31269"
      ]
     },
     "execution_count": 55,
     "metadata": {},
     "output_type": "execute_result"
    }
   ],
   "source": [
    "len (df3)"
   ]
  },
  {
   "cell_type": "code",
   "execution_count": 56,
   "metadata": {},
   "outputs": [
    {
     "data": {
      "text/plain": [
       "Yaw.FRONTAL        19917\n",
       "Yaw.HALF_TURNED     7395\n",
       "Yaw.PROFILE         3957\n",
       "Name: yaw, dtype: int64"
      ]
     },
     "execution_count": 56,
     "metadata": {},
     "output_type": "execute_result"
    }
   ],
   "source": [
    "df3.yaw.value_counts()"
   ]
  },
  {
   "attachments": {},
   "cell_type": "markdown",
   "metadata": {},
   "source": [
    "### Convertimos en string los Enums y nos quedamos con las columnas que queremos"
   ]
  },
  {
   "cell_type": "code",
   "execution_count": 57,
   "metadata": {},
   "outputs": [],
   "source": [
    "#df3 = df2.copy()\n",
    "#convertimos a String los Enum\n",
    "variables = ['gender','yaw','emotion','race']#'Q_group','pitch','roll',\n",
    "#df_plot = df.Quality\n",
    "for var in variables:\n",
    "    df3[var] = df3[var].apply(lambda x: x.value if x else None)\n",
    "\n",
    "\n",
    "variables += ['source','Quality','Detector', 'Q_model']\n",
    "df_plot = df3[variables]"
   ]
  },
  {
   "cell_type": "code",
   "execution_count": 58,
   "metadata": {},
   "outputs": [
    {
     "data": {
      "text/plain": [
       "Index(['gender', 'yaw', 'emotion', 'race', 'source', 'Quality', 'Detector',\n",
       "       'Q_model'],\n",
       "      dtype='object')"
      ]
     },
     "execution_count": 58,
     "metadata": {},
     "output_type": "execute_result"
    }
   ],
   "source": [
    "df_plot.columns"
   ]
  },
  {
   "cell_type": "code",
   "execution_count": 59,
   "metadata": {},
   "outputs": [
    {
     "data": {
      "text/plain": [
       "Q_model  Detector  source   \n",
       "ser_fiq  mtcnn     LFW          13230\n",
       "                   XQLFW        11403\n",
       "                   SCFace        3692\n",
       "                   ForenFace     2371\n",
       "                   ENFSI          573\n",
       "dtype: int64"
      ]
     },
     "execution_count": 59,
     "metadata": {},
     "output_type": "execute_result"
    }
   ],
   "source": [
    "df_plot[['Q_model','Detector','source']].groupby(['Q_model','Detector']).value_counts()"
   ]
  },
  {
   "attachments": {},
   "cell_type": "markdown",
   "metadata": {},
   "source": [
    "# Separamos por source"
   ]
  },
  {
   "cell_type": "code",
   "execution_count": 60,
   "metadata": {},
   "outputs": [],
   "source": [
    "dict = {}\n",
    "for source in np.unique(df_plot.source):\n",
    "    dict[source]= df_plot.loc[df_plot.source == source]"
   ]
  },
  {
   "cell_type": "code",
   "execution_count": null,
   "metadata": {},
   "outputs": [],
   "source": [
    "def plot_sun(source):\n",
    "    df_x = dict[source]\n",
    "    df_x.dropna(inplace=True)\n",
    "    fig = px.sunburst(df_x, path=['gender','yaw','race','emotion'],   color=\"Quality\",\n",
    "                  color_continuous_scale=\"Viridis\",title=source) #values=\"gender\"#\"Q_model\", \"Detector\",\n",
    "    #fig.update_layout(title=source)\n",
    "    #img_data = pio.to_image(fig,format='png',scale=3)\n",
    "\n",
    "    pio.write_image(fig,source+\"_sunburst.png\",format='png', scale=6)\n",
    "    fig.show()"
   ]
  },
  {
   "cell_type": "code",
   "execution_count": 66,
   "metadata": {},
   "outputs": [],
   "source": [
    "df_x = dict[source].drop('race',axis=1)"
   ]
  },
  {
   "cell_type": "code",
   "execution_count": 67,
   "metadata": {},
   "outputs": [
    {
     "data": {
      "application/vnd.plotly.v1+json": {
       "config": {
        "plotlyServerURL": "https://plot.ly"
       },
       "data": [
        {
         "branchvalues": "total",
         "customdata": [
          [
           0.006901927082952313
          ],
          [
           0.0009735533089507043
          ],
          [
           0.019334512960633262
          ],
          [
           0.01067841091031489
          ],
          [
           0.30874288341002776
          ],
          [
           0.3509922236131335
          ],
          [
           0.4843363693113883
          ],
          [
           0.005022409054900526
          ],
          [
           0.0014117447478178252
          ],
          [
           0.059721768115816865
          ],
          [
           0.031115044170801607
          ],
          [
           0.2547718438159028
          ],
          [
           0.33068564638614223
          ],
          [
           0.006276194714837792
          ],
          [
           0.004303692227352302
          ],
          [
           0.07553483350979597
          ],
          [
           0.3529452390665696
          ],
          [
           0.6055817606442058
          ],
          [
           0.00575540993127872
          ],
          [
           0.00368089727885809
          ],
          [
           0.04909289140228448
          ],
          [
           0.013895807400027804
          ],
          [
           0.30028876844387004
          ],
          [
           0.5669624842880541
          ],
          [
           0.004718713934620787
          ],
          [
           0.005894366441469824
          ],
          [
           0.016343850544398856
          ],
          [
           0.05110877998278622
          ],
          [
           0.23510684655880534
          ],
          [
           0.3538240983549929
          ],
          [
           0.00038900093308004197
          ],
          [
           0.03748395070757568
          ],
          [
           0.2611148770887672
          ],
          [
           0.6816973167134145
          ],
          [
           0.0052941835112359755
          ],
          [
           0.0045070257552923395
          ],
          [
           0.03534009129322269
          ],
          [
           0.02927538025561354
          ],
          [
           0.2895990520964741
          ],
          [
           0.4983181903091132
          ],
          [
           0.24597967282819475
          ],
          [
           0.299181564102886
          ]
         ],
         "domain": {
          "x": [
           0,
           1
          ],
          "y": [
           0,
           1
          ]
         },
         "hovertemplate": "labels=%{label}<br>count=%{value}<br>parent=%{parent}<br>id=%{id}<br>Quality=%{color}<extra></extra>",
         "ids": [
          "Man/sideways/angry",
          "Woman/sideways/angry",
          "Man/slightly_turned/angry",
          "Woman/slightly_turned/angry",
          "Man/straight/angry",
          "Woman/straight/angry",
          "Man/straight/disgust",
          "Man/sideways/fear",
          "Woman/sideways/fear",
          "Man/slightly_turned/fear",
          "Woman/slightly_turned/fear",
          "Man/straight/fear",
          "Woman/straight/fear",
          "Man/sideways/happy",
          "Woman/sideways/happy",
          "Man/slightly_turned/happy",
          "Man/straight/happy",
          "Woman/straight/happy",
          "Man/sideways/neutral",
          "Woman/sideways/neutral",
          "Man/slightly_turned/neutral",
          "Woman/slightly_turned/neutral",
          "Man/straight/neutral",
          "Woman/straight/neutral",
          "Man/sideways/sad",
          "Woman/sideways/sad",
          "Man/slightly_turned/sad",
          "Woman/slightly_turned/sad",
          "Man/straight/sad",
          "Woman/straight/sad",
          "Man/sideways/surprise",
          "Man/slightly_turned/surprise",
          "Man/straight/surprise",
          "Woman/straight/surprise",
          "Man/sideways",
          "Woman/sideways",
          "Man/slightly_turned",
          "Woman/slightly_turned",
          "Man/straight",
          "Woman/straight",
          "Man",
          "Woman"
         ],
         "labels": [
          "angry",
          "angry",
          "angry",
          "angry",
          "angry",
          "angry",
          "disgust",
          "fear",
          "fear",
          "fear",
          "fear",
          "fear",
          "fear",
          "happy",
          "happy",
          "happy",
          "happy",
          "happy",
          "neutral",
          "neutral",
          "neutral",
          "neutral",
          "neutral",
          "neutral",
          "sad",
          "sad",
          "sad",
          "sad",
          "sad",
          "sad",
          "surprise",
          "surprise",
          "surprise",
          "surprise",
          "sideways",
          "sideways",
          "slightly_turned",
          "slightly_turned",
          "straight",
          "straight",
          "Man",
          "Woman"
         ],
         "marker": {
          "coloraxis": "coloraxis",
          "colors": [
           0.006901927082952313,
           0.0009735533089507043,
           0.019334512960633262,
           0.01067841091031489,
           0.30874288341002776,
           0.3509922236131335,
           0.4843363693113883,
           0.005022409054900526,
           0.0014117447478178252,
           0.059721768115816865,
           0.031115044170801607,
           0.2547718438159028,
           0.33068564638614223,
           0.006276194714837792,
           0.004303692227352302,
           0.07553483350979597,
           0.3529452390665696,
           0.6055817606442058,
           0.00575540993127872,
           0.00368089727885809,
           0.04909289140228448,
           0.013895807400027804,
           0.30028876844387004,
           0.5669624842880541,
           0.004718713934620787,
           0.005894366441469824,
           0.016343850544398856,
           0.05110877998278622,
           0.23510684655880534,
           0.3538240983549929,
           0.00038900093308004197,
           0.03748395070757568,
           0.2611148770887672,
           0.6816973167134145,
           0.0052941835112359755,
           0.0045070257552923395,
           0.03534009129322269,
           0.02927538025561354,
           0.2895990520964741,
           0.4983181903091132,
           0.24597967282819475,
           0.299181564102886
          ]
         },
         "name": "",
         "parents": [
          "Man/sideways",
          "Woman/sideways",
          "Man/slightly_turned",
          "Woman/slightly_turned",
          "Man/straight",
          "Woman/straight",
          "Man/straight",
          "Man/sideways",
          "Woman/sideways",
          "Man/slightly_turned",
          "Woman/slightly_turned",
          "Man/straight",
          "Woman/straight",
          "Man/sideways",
          "Woman/sideways",
          "Man/slightly_turned",
          "Man/straight",
          "Woman/straight",
          "Man/sideways",
          "Woman/sideways",
          "Man/slightly_turned",
          "Woman/slightly_turned",
          "Man/straight",
          "Woman/straight",
          "Man/sideways",
          "Woman/sideways",
          "Man/slightly_turned",
          "Woman/slightly_turned",
          "Man/straight",
          "Woman/straight",
          "Man/sideways",
          "Man/slightly_turned",
          "Man/straight",
          "Woman/straight",
          "Man",
          "Woman",
          "Man",
          "Woman",
          "Man",
          "Woman",
          "",
          ""
         ],
         "type": "sunburst",
         "values": [
          2,
          2,
          24,
          6,
          128,
          6,
          5,
          36,
          1,
          12,
          4,
          259,
          3,
          9,
          2,
          7,
          219,
          16,
          70,
          4,
          66,
          6,
          787,
          22,
          43,
          10,
          58,
          9,
          300,
          14,
          2,
          2,
          12,
          1,
          162,
          19,
          169,
          25,
          1710,
          62,
          2041,
          106
         ]
        }
       ],
       "layout": {
        "coloraxis": {
         "colorbar": {
          "title": {
           "text": "Quality"
          }
         },
         "colorscale": [
          [
           0,
           "#440154"
          ],
          [
           0.1111111111111111,
           "#482878"
          ],
          [
           0.2222222222222222,
           "#3e4989"
          ],
          [
           0.3333333333333333,
           "#31688e"
          ],
          [
           0.4444444444444444,
           "#26828e"
          ],
          [
           0.5555555555555556,
           "#1f9e89"
          ],
          [
           0.6666666666666666,
           "#35b779"
          ],
          [
           0.7777777777777778,
           "#6ece58"
          ],
          [
           0.8888888888888888,
           "#b5de2b"
          ],
          [
           1,
           "#fde725"
          ]
         ]
        },
        "legend": {
         "tracegroupgap": 0
        },
        "template": {
         "data": {
          "bar": [
           {
            "error_x": {
             "color": "#2a3f5f"
            },
            "error_y": {
             "color": "#2a3f5f"
            },
            "marker": {
             "line": {
              "color": "#E5ECF6",
              "width": 0.5
             },
             "pattern": {
              "fillmode": "overlay",
              "size": 10,
              "solidity": 0.2
             }
            },
            "type": "bar"
           }
          ],
          "barpolar": [
           {
            "marker": {
             "line": {
              "color": "#E5ECF6",
              "width": 0.5
             },
             "pattern": {
              "fillmode": "overlay",
              "size": 10,
              "solidity": 0.2
             }
            },
            "type": "barpolar"
           }
          ],
          "carpet": [
           {
            "aaxis": {
             "endlinecolor": "#2a3f5f",
             "gridcolor": "white",
             "linecolor": "white",
             "minorgridcolor": "white",
             "startlinecolor": "#2a3f5f"
            },
            "baxis": {
             "endlinecolor": "#2a3f5f",
             "gridcolor": "white",
             "linecolor": "white",
             "minorgridcolor": "white",
             "startlinecolor": "#2a3f5f"
            },
            "type": "carpet"
           }
          ],
          "choropleth": [
           {
            "colorbar": {
             "outlinewidth": 0,
             "ticks": ""
            },
            "type": "choropleth"
           }
          ],
          "contour": [
           {
            "colorbar": {
             "outlinewidth": 0,
             "ticks": ""
            },
            "colorscale": [
             [
              0,
              "#0d0887"
             ],
             [
              0.1111111111111111,
              "#46039f"
             ],
             [
              0.2222222222222222,
              "#7201a8"
             ],
             [
              0.3333333333333333,
              "#9c179e"
             ],
             [
              0.4444444444444444,
              "#bd3786"
             ],
             [
              0.5555555555555556,
              "#d8576b"
             ],
             [
              0.6666666666666666,
              "#ed7953"
             ],
             [
              0.7777777777777778,
              "#fb9f3a"
             ],
             [
              0.8888888888888888,
              "#fdca26"
             ],
             [
              1,
              "#f0f921"
             ]
            ],
            "type": "contour"
           }
          ],
          "contourcarpet": [
           {
            "colorbar": {
             "outlinewidth": 0,
             "ticks": ""
            },
            "type": "contourcarpet"
           }
          ],
          "heatmap": [
           {
            "colorbar": {
             "outlinewidth": 0,
             "ticks": ""
            },
            "colorscale": [
             [
              0,
              "#0d0887"
             ],
             [
              0.1111111111111111,
              "#46039f"
             ],
             [
              0.2222222222222222,
              "#7201a8"
             ],
             [
              0.3333333333333333,
              "#9c179e"
             ],
             [
              0.4444444444444444,
              "#bd3786"
             ],
             [
              0.5555555555555556,
              "#d8576b"
             ],
             [
              0.6666666666666666,
              "#ed7953"
             ],
             [
              0.7777777777777778,
              "#fb9f3a"
             ],
             [
              0.8888888888888888,
              "#fdca26"
             ],
             [
              1,
              "#f0f921"
             ]
            ],
            "type": "heatmap"
           }
          ],
          "heatmapgl": [
           {
            "colorbar": {
             "outlinewidth": 0,
             "ticks": ""
            },
            "colorscale": [
             [
              0,
              "#0d0887"
             ],
             [
              0.1111111111111111,
              "#46039f"
             ],
             [
              0.2222222222222222,
              "#7201a8"
             ],
             [
              0.3333333333333333,
              "#9c179e"
             ],
             [
              0.4444444444444444,
              "#bd3786"
             ],
             [
              0.5555555555555556,
              "#d8576b"
             ],
             [
              0.6666666666666666,
              "#ed7953"
             ],
             [
              0.7777777777777778,
              "#fb9f3a"
             ],
             [
              0.8888888888888888,
              "#fdca26"
             ],
             [
              1,
              "#f0f921"
             ]
            ],
            "type": "heatmapgl"
           }
          ],
          "histogram": [
           {
            "marker": {
             "pattern": {
              "fillmode": "overlay",
              "size": 10,
              "solidity": 0.2
             }
            },
            "type": "histogram"
           }
          ],
          "histogram2d": [
           {
            "colorbar": {
             "outlinewidth": 0,
             "ticks": ""
            },
            "colorscale": [
             [
              0,
              "#0d0887"
             ],
             [
              0.1111111111111111,
              "#46039f"
             ],
             [
              0.2222222222222222,
              "#7201a8"
             ],
             [
              0.3333333333333333,
              "#9c179e"
             ],
             [
              0.4444444444444444,
              "#bd3786"
             ],
             [
              0.5555555555555556,
              "#d8576b"
             ],
             [
              0.6666666666666666,
              "#ed7953"
             ],
             [
              0.7777777777777778,
              "#fb9f3a"
             ],
             [
              0.8888888888888888,
              "#fdca26"
             ],
             [
              1,
              "#f0f921"
             ]
            ],
            "type": "histogram2d"
           }
          ],
          "histogram2dcontour": [
           {
            "colorbar": {
             "outlinewidth": 0,
             "ticks": ""
            },
            "colorscale": [
             [
              0,
              "#0d0887"
             ],
             [
              0.1111111111111111,
              "#46039f"
             ],
             [
              0.2222222222222222,
              "#7201a8"
             ],
             [
              0.3333333333333333,
              "#9c179e"
             ],
             [
              0.4444444444444444,
              "#bd3786"
             ],
             [
              0.5555555555555556,
              "#d8576b"
             ],
             [
              0.6666666666666666,
              "#ed7953"
             ],
             [
              0.7777777777777778,
              "#fb9f3a"
             ],
             [
              0.8888888888888888,
              "#fdca26"
             ],
             [
              1,
              "#f0f921"
             ]
            ],
            "type": "histogram2dcontour"
           }
          ],
          "mesh3d": [
           {
            "colorbar": {
             "outlinewidth": 0,
             "ticks": ""
            },
            "type": "mesh3d"
           }
          ],
          "parcoords": [
           {
            "line": {
             "colorbar": {
              "outlinewidth": 0,
              "ticks": ""
             }
            },
            "type": "parcoords"
           }
          ],
          "pie": [
           {
            "automargin": true,
            "type": "pie"
           }
          ],
          "scatter": [
           {
            "fillpattern": {
             "fillmode": "overlay",
             "size": 10,
             "solidity": 0.2
            },
            "type": "scatter"
           }
          ],
          "scatter3d": [
           {
            "line": {
             "colorbar": {
              "outlinewidth": 0,
              "ticks": ""
             }
            },
            "marker": {
             "colorbar": {
              "outlinewidth": 0,
              "ticks": ""
             }
            },
            "type": "scatter3d"
           }
          ],
          "scattercarpet": [
           {
            "marker": {
             "colorbar": {
              "outlinewidth": 0,
              "ticks": ""
             }
            },
            "type": "scattercarpet"
           }
          ],
          "scattergeo": [
           {
            "marker": {
             "colorbar": {
              "outlinewidth": 0,
              "ticks": ""
             }
            },
            "type": "scattergeo"
           }
          ],
          "scattergl": [
           {
            "marker": {
             "colorbar": {
              "outlinewidth": 0,
              "ticks": ""
             }
            },
            "type": "scattergl"
           }
          ],
          "scattermapbox": [
           {
            "marker": {
             "colorbar": {
              "outlinewidth": 0,
              "ticks": ""
             }
            },
            "type": "scattermapbox"
           }
          ],
          "scatterpolar": [
           {
            "marker": {
             "colorbar": {
              "outlinewidth": 0,
              "ticks": ""
             }
            },
            "type": "scatterpolar"
           }
          ],
          "scatterpolargl": [
           {
            "marker": {
             "colorbar": {
              "outlinewidth": 0,
              "ticks": ""
             }
            },
            "type": "scatterpolargl"
           }
          ],
          "scatterternary": [
           {
            "marker": {
             "colorbar": {
              "outlinewidth": 0,
              "ticks": ""
             }
            },
            "type": "scatterternary"
           }
          ],
          "surface": [
           {
            "colorbar": {
             "outlinewidth": 0,
             "ticks": ""
            },
            "colorscale": [
             [
              0,
              "#0d0887"
             ],
             [
              0.1111111111111111,
              "#46039f"
             ],
             [
              0.2222222222222222,
              "#7201a8"
             ],
             [
              0.3333333333333333,
              "#9c179e"
             ],
             [
              0.4444444444444444,
              "#bd3786"
             ],
             [
              0.5555555555555556,
              "#d8576b"
             ],
             [
              0.6666666666666666,
              "#ed7953"
             ],
             [
              0.7777777777777778,
              "#fb9f3a"
             ],
             [
              0.8888888888888888,
              "#fdca26"
             ],
             [
              1,
              "#f0f921"
             ]
            ],
            "type": "surface"
           }
          ],
          "table": [
           {
            "cells": {
             "fill": {
              "color": "#EBF0F8"
             },
             "line": {
              "color": "white"
             }
            },
            "header": {
             "fill": {
              "color": "#C8D4E3"
             },
             "line": {
              "color": "white"
             }
            },
            "type": "table"
           }
          ]
         },
         "layout": {
          "annotationdefaults": {
           "arrowcolor": "#2a3f5f",
           "arrowhead": 0,
           "arrowwidth": 1
          },
          "autotypenumbers": "strict",
          "coloraxis": {
           "colorbar": {
            "outlinewidth": 0,
            "ticks": ""
           }
          },
          "colorscale": {
           "diverging": [
            [
             0,
             "#8e0152"
            ],
            [
             0.1,
             "#c51b7d"
            ],
            [
             0.2,
             "#de77ae"
            ],
            [
             0.3,
             "#f1b6da"
            ],
            [
             0.4,
             "#fde0ef"
            ],
            [
             0.5,
             "#f7f7f7"
            ],
            [
             0.6,
             "#e6f5d0"
            ],
            [
             0.7,
             "#b8e186"
            ],
            [
             0.8,
             "#7fbc41"
            ],
            [
             0.9,
             "#4d9221"
            ],
            [
             1,
             "#276419"
            ]
           ],
           "sequential": [
            [
             0,
             "#0d0887"
            ],
            [
             0.1111111111111111,
             "#46039f"
            ],
            [
             0.2222222222222222,
             "#7201a8"
            ],
            [
             0.3333333333333333,
             "#9c179e"
            ],
            [
             0.4444444444444444,
             "#bd3786"
            ],
            [
             0.5555555555555556,
             "#d8576b"
            ],
            [
             0.6666666666666666,
             "#ed7953"
            ],
            [
             0.7777777777777778,
             "#fb9f3a"
            ],
            [
             0.8888888888888888,
             "#fdca26"
            ],
            [
             1,
             "#f0f921"
            ]
           ],
           "sequentialminus": [
            [
             0,
             "#0d0887"
            ],
            [
             0.1111111111111111,
             "#46039f"
            ],
            [
             0.2222222222222222,
             "#7201a8"
            ],
            [
             0.3333333333333333,
             "#9c179e"
            ],
            [
             0.4444444444444444,
             "#bd3786"
            ],
            [
             0.5555555555555556,
             "#d8576b"
            ],
            [
             0.6666666666666666,
             "#ed7953"
            ],
            [
             0.7777777777777778,
             "#fb9f3a"
            ],
            [
             0.8888888888888888,
             "#fdca26"
            ],
            [
             1,
             "#f0f921"
            ]
           ]
          },
          "colorway": [
           "#636efa",
           "#EF553B",
           "#00cc96",
           "#ab63fa",
           "#FFA15A",
           "#19d3f3",
           "#FF6692",
           "#B6E880",
           "#FF97FF",
           "#FECB52"
          ],
          "font": {
           "color": "#2a3f5f"
          },
          "geo": {
           "bgcolor": "white",
           "lakecolor": "white",
           "landcolor": "#E5ECF6",
           "showlakes": true,
           "showland": true,
           "subunitcolor": "white"
          },
          "hoverlabel": {
           "align": "left"
          },
          "hovermode": "closest",
          "mapbox": {
           "style": "light"
          },
          "paper_bgcolor": "white",
          "plot_bgcolor": "#E5ECF6",
          "polar": {
           "angularaxis": {
            "gridcolor": "white",
            "linecolor": "white",
            "ticks": ""
           },
           "bgcolor": "#E5ECF6",
           "radialaxis": {
            "gridcolor": "white",
            "linecolor": "white",
            "ticks": ""
           }
          },
          "scene": {
           "xaxis": {
            "backgroundcolor": "#E5ECF6",
            "gridcolor": "white",
            "gridwidth": 2,
            "linecolor": "white",
            "showbackground": true,
            "ticks": "",
            "zerolinecolor": "white"
           },
           "yaxis": {
            "backgroundcolor": "#E5ECF6",
            "gridcolor": "white",
            "gridwidth": 2,
            "linecolor": "white",
            "showbackground": true,
            "ticks": "",
            "zerolinecolor": "white"
           },
           "zaxis": {
            "backgroundcolor": "#E5ECF6",
            "gridcolor": "white",
            "gridwidth": 2,
            "linecolor": "white",
            "showbackground": true,
            "ticks": "",
            "zerolinecolor": "white"
           }
          },
          "shapedefaults": {
           "line": {
            "color": "#2a3f5f"
           }
          },
          "ternary": {
           "aaxis": {
            "gridcolor": "white",
            "linecolor": "white",
            "ticks": ""
           },
           "baxis": {
            "gridcolor": "white",
            "linecolor": "white",
            "ticks": ""
           },
           "bgcolor": "#E5ECF6",
           "caxis": {
            "gridcolor": "white",
            "linecolor": "white",
            "ticks": ""
           }
          },
          "title": {
           "x": 0.05
          },
          "xaxis": {
           "automargin": true,
           "gridcolor": "white",
           "linecolor": "white",
           "ticks": "",
           "title": {
            "standoff": 15
           },
           "zerolinecolor": "white",
           "zerolinewidth": 2
          },
          "yaxis": {
           "automargin": true,
           "gridcolor": "white",
           "linecolor": "white",
           "ticks": "",
           "title": {
            "standoff": 15
           },
           "zerolinecolor": "white",
           "zerolinewidth": 2
          }
         }
        },
        "title": {
         "text": "ForenFace"
        }
       }
      },
      "text/html": [
       "<div>                            <div id=\"b8e938a7-90dc-4b8c-adc6-2f4718b133fd\" class=\"plotly-graph-div\" style=\"height:525px; width:100%;\"></div>            <script type=\"text/javascript\">                require([\"plotly\"], function(Plotly) {                    window.PLOTLYENV=window.PLOTLYENV || {};                                    if (document.getElementById(\"b8e938a7-90dc-4b8c-adc6-2f4718b133fd\")) {                    Plotly.newPlot(                        \"b8e938a7-90dc-4b8c-adc6-2f4718b133fd\",                        [{\"branchvalues\":\"total\",\"customdata\":[[0.006901927082952313],[0.0009735533089507043],[0.019334512960633262],[0.01067841091031489],[0.30874288341002776],[0.3509922236131335],[0.4843363693113883],[0.005022409054900526],[0.0014117447478178252],[0.059721768115816865],[0.031115044170801607],[0.2547718438159028],[0.33068564638614223],[0.006276194714837792],[0.004303692227352302],[0.07553483350979597],[0.3529452390665696],[0.6055817606442058],[0.00575540993127872],[0.00368089727885809],[0.04909289140228448],[0.013895807400027804],[0.30028876844387004],[0.5669624842880541],[0.004718713934620787],[0.005894366441469824],[0.016343850544398856],[0.05110877998278622],[0.23510684655880534],[0.3538240983549929],[0.00038900093308004197],[0.03748395070757568],[0.2611148770887672],[0.6816973167134145],[0.0052941835112359755],[0.0045070257552923395],[0.03534009129322269],[0.02927538025561354],[0.2895990520964741],[0.4983181903091132],[0.24597967282819475],[0.299181564102886]],\"domain\":{\"x\":[0.0,1.0],\"y\":[0.0,1.0]},\"hovertemplate\":\"labels=%{label}<br>count=%{value}<br>parent=%{parent}<br>id=%{id}<br>Quality=%{color}<extra></extra>\",\"ids\":[\"Man/sideways/angry\",\"Woman/sideways/angry\",\"Man/slightly_turned/angry\",\"Woman/slightly_turned/angry\",\"Man/straight/angry\",\"Woman/straight/angry\",\"Man/straight/disgust\",\"Man/sideways/fear\",\"Woman/sideways/fear\",\"Man/slightly_turned/fear\",\"Woman/slightly_turned/fear\",\"Man/straight/fear\",\"Woman/straight/fear\",\"Man/sideways/happy\",\"Woman/sideways/happy\",\"Man/slightly_turned/happy\",\"Man/straight/happy\",\"Woman/straight/happy\",\"Man/sideways/neutral\",\"Woman/sideways/neutral\",\"Man/slightly_turned/neutral\",\"Woman/slightly_turned/neutral\",\"Man/straight/neutral\",\"Woman/straight/neutral\",\"Man/sideways/sad\",\"Woman/sideways/sad\",\"Man/slightly_turned/sad\",\"Woman/slightly_turned/sad\",\"Man/straight/sad\",\"Woman/straight/sad\",\"Man/sideways/surprise\",\"Man/slightly_turned/surprise\",\"Man/straight/surprise\",\"Woman/straight/surprise\",\"Man/sideways\",\"Woman/sideways\",\"Man/slightly_turned\",\"Woman/slightly_turned\",\"Man/straight\",\"Woman/straight\",\"Man\",\"Woman\"],\"labels\":[\"angry\",\"angry\",\"angry\",\"angry\",\"angry\",\"angry\",\"disgust\",\"fear\",\"fear\",\"fear\",\"fear\",\"fear\",\"fear\",\"happy\",\"happy\",\"happy\",\"happy\",\"happy\",\"neutral\",\"neutral\",\"neutral\",\"neutral\",\"neutral\",\"neutral\",\"sad\",\"sad\",\"sad\",\"sad\",\"sad\",\"sad\",\"surprise\",\"surprise\",\"surprise\",\"surprise\",\"sideways\",\"sideways\",\"slightly_turned\",\"slightly_turned\",\"straight\",\"straight\",\"Man\",\"Woman\"],\"marker\":{\"coloraxis\":\"coloraxis\",\"colors\":[0.006901927082952313,0.0009735533089507043,0.019334512960633262,0.01067841091031489,0.30874288341002776,0.3509922236131335,0.4843363693113883,0.005022409054900526,0.0014117447478178252,0.059721768115816865,0.031115044170801607,0.2547718438159028,0.33068564638614223,0.006276194714837792,0.004303692227352302,0.07553483350979597,0.3529452390665696,0.6055817606442058,0.00575540993127872,0.00368089727885809,0.04909289140228448,0.013895807400027804,0.30028876844387004,0.5669624842880541,0.004718713934620787,0.005894366441469824,0.016343850544398856,0.05110877998278622,0.23510684655880534,0.3538240983549929,0.00038900093308004197,0.03748395070757568,0.2611148770887672,0.6816973167134145,0.0052941835112359755,0.0045070257552923395,0.03534009129322269,0.02927538025561354,0.2895990520964741,0.4983181903091132,0.24597967282819475,0.299181564102886]},\"name\":\"\",\"parents\":[\"Man/sideways\",\"Woman/sideways\",\"Man/slightly_turned\",\"Woman/slightly_turned\",\"Man/straight\",\"Woman/straight\",\"Man/straight\",\"Man/sideways\",\"Woman/sideways\",\"Man/slightly_turned\",\"Woman/slightly_turned\",\"Man/straight\",\"Woman/straight\",\"Man/sideways\",\"Woman/sideways\",\"Man/slightly_turned\",\"Man/straight\",\"Woman/straight\",\"Man/sideways\",\"Woman/sideways\",\"Man/slightly_turned\",\"Woman/slightly_turned\",\"Man/straight\",\"Woman/straight\",\"Man/sideways\",\"Woman/sideways\",\"Man/slightly_turned\",\"Woman/slightly_turned\",\"Man/straight\",\"Woman/straight\",\"Man/sideways\",\"Man/slightly_turned\",\"Man/straight\",\"Woman/straight\",\"Man\",\"Woman\",\"Man\",\"Woman\",\"Man\",\"Woman\",\"\",\"\"],\"values\":[2,2,24,6,128,6,5,36,1,12,4,259,3,9,2,7,219,16,70,4,66,6,787,22,43,10,58,9,300,14,2,2,12,1,162,19,169,25,1710,62,2041,106],\"type\":\"sunburst\"}],                        {\"template\":{\"data\":{\"histogram2dcontour\":[{\"type\":\"histogram2dcontour\",\"colorbar\":{\"outlinewidth\":0,\"ticks\":\"\"},\"colorscale\":[[0.0,\"#0d0887\"],[0.1111111111111111,\"#46039f\"],[0.2222222222222222,\"#7201a8\"],[0.3333333333333333,\"#9c179e\"],[0.4444444444444444,\"#bd3786\"],[0.5555555555555556,\"#d8576b\"],[0.6666666666666666,\"#ed7953\"],[0.7777777777777778,\"#fb9f3a\"],[0.8888888888888888,\"#fdca26\"],[1.0,\"#f0f921\"]]}],\"choropleth\":[{\"type\":\"choropleth\",\"colorbar\":{\"outlinewidth\":0,\"ticks\":\"\"}}],\"histogram2d\":[{\"type\":\"histogram2d\",\"colorbar\":{\"outlinewidth\":0,\"ticks\":\"\"},\"colorscale\":[[0.0,\"#0d0887\"],[0.1111111111111111,\"#46039f\"],[0.2222222222222222,\"#7201a8\"],[0.3333333333333333,\"#9c179e\"],[0.4444444444444444,\"#bd3786\"],[0.5555555555555556,\"#d8576b\"],[0.6666666666666666,\"#ed7953\"],[0.7777777777777778,\"#fb9f3a\"],[0.8888888888888888,\"#fdca26\"],[1.0,\"#f0f921\"]]}],\"heatmap\":[{\"type\":\"heatmap\",\"colorbar\":{\"outlinewidth\":0,\"ticks\":\"\"},\"colorscale\":[[0.0,\"#0d0887\"],[0.1111111111111111,\"#46039f\"],[0.2222222222222222,\"#7201a8\"],[0.3333333333333333,\"#9c179e\"],[0.4444444444444444,\"#bd3786\"],[0.5555555555555556,\"#d8576b\"],[0.6666666666666666,\"#ed7953\"],[0.7777777777777778,\"#fb9f3a\"],[0.8888888888888888,\"#fdca26\"],[1.0,\"#f0f921\"]]}],\"heatmapgl\":[{\"type\":\"heatmapgl\",\"colorbar\":{\"outlinewidth\":0,\"ticks\":\"\"},\"colorscale\":[[0.0,\"#0d0887\"],[0.1111111111111111,\"#46039f\"],[0.2222222222222222,\"#7201a8\"],[0.3333333333333333,\"#9c179e\"],[0.4444444444444444,\"#bd3786\"],[0.5555555555555556,\"#d8576b\"],[0.6666666666666666,\"#ed7953\"],[0.7777777777777778,\"#fb9f3a\"],[0.8888888888888888,\"#fdca26\"],[1.0,\"#f0f921\"]]}],\"contourcarpet\":[{\"type\":\"contourcarpet\",\"colorbar\":{\"outlinewidth\":0,\"ticks\":\"\"}}],\"contour\":[{\"type\":\"contour\",\"colorbar\":{\"outlinewidth\":0,\"ticks\":\"\"},\"colorscale\":[[0.0,\"#0d0887\"],[0.1111111111111111,\"#46039f\"],[0.2222222222222222,\"#7201a8\"],[0.3333333333333333,\"#9c179e\"],[0.4444444444444444,\"#bd3786\"],[0.5555555555555556,\"#d8576b\"],[0.6666666666666666,\"#ed7953\"],[0.7777777777777778,\"#fb9f3a\"],[0.8888888888888888,\"#fdca26\"],[1.0,\"#f0f921\"]]}],\"surface\":[{\"type\":\"surface\",\"colorbar\":{\"outlinewidth\":0,\"ticks\":\"\"},\"colorscale\":[[0.0,\"#0d0887\"],[0.1111111111111111,\"#46039f\"],[0.2222222222222222,\"#7201a8\"],[0.3333333333333333,\"#9c179e\"],[0.4444444444444444,\"#bd3786\"],[0.5555555555555556,\"#d8576b\"],[0.6666666666666666,\"#ed7953\"],[0.7777777777777778,\"#fb9f3a\"],[0.8888888888888888,\"#fdca26\"],[1.0,\"#f0f921\"]]}],\"mesh3d\":[{\"type\":\"mesh3d\",\"colorbar\":{\"outlinewidth\":0,\"ticks\":\"\"}}],\"scatter\":[{\"fillpattern\":{\"fillmode\":\"overlay\",\"size\":10,\"solidity\":0.2},\"type\":\"scatter\"}],\"parcoords\":[{\"type\":\"parcoords\",\"line\":{\"colorbar\":{\"outlinewidth\":0,\"ticks\":\"\"}}}],\"scatterpolargl\":[{\"type\":\"scatterpolargl\",\"marker\":{\"colorbar\":{\"outlinewidth\":0,\"ticks\":\"\"}}}],\"bar\":[{\"error_x\":{\"color\":\"#2a3f5f\"},\"error_y\":{\"color\":\"#2a3f5f\"},\"marker\":{\"line\":{\"color\":\"#E5ECF6\",\"width\":0.5},\"pattern\":{\"fillmode\":\"overlay\",\"size\":10,\"solidity\":0.2}},\"type\":\"bar\"}],\"scattergeo\":[{\"type\":\"scattergeo\",\"marker\":{\"colorbar\":{\"outlinewidth\":0,\"ticks\":\"\"}}}],\"scatterpolar\":[{\"type\":\"scatterpolar\",\"marker\":{\"colorbar\":{\"outlinewidth\":0,\"ticks\":\"\"}}}],\"histogram\":[{\"marker\":{\"pattern\":{\"fillmode\":\"overlay\",\"size\":10,\"solidity\":0.2}},\"type\":\"histogram\"}],\"scattergl\":[{\"type\":\"scattergl\",\"marker\":{\"colorbar\":{\"outlinewidth\":0,\"ticks\":\"\"}}}],\"scatter3d\":[{\"type\":\"scatter3d\",\"line\":{\"colorbar\":{\"outlinewidth\":0,\"ticks\":\"\"}},\"marker\":{\"colorbar\":{\"outlinewidth\":0,\"ticks\":\"\"}}}],\"scattermapbox\":[{\"type\":\"scattermapbox\",\"marker\":{\"colorbar\":{\"outlinewidth\":0,\"ticks\":\"\"}}}],\"scatterternary\":[{\"type\":\"scatterternary\",\"marker\":{\"colorbar\":{\"outlinewidth\":0,\"ticks\":\"\"}}}],\"scattercarpet\":[{\"type\":\"scattercarpet\",\"marker\":{\"colorbar\":{\"outlinewidth\":0,\"ticks\":\"\"}}}],\"carpet\":[{\"aaxis\":{\"endlinecolor\":\"#2a3f5f\",\"gridcolor\":\"white\",\"linecolor\":\"white\",\"minorgridcolor\":\"white\",\"startlinecolor\":\"#2a3f5f\"},\"baxis\":{\"endlinecolor\":\"#2a3f5f\",\"gridcolor\":\"white\",\"linecolor\":\"white\",\"minorgridcolor\":\"white\",\"startlinecolor\":\"#2a3f5f\"},\"type\":\"carpet\"}],\"table\":[{\"cells\":{\"fill\":{\"color\":\"#EBF0F8\"},\"line\":{\"color\":\"white\"}},\"header\":{\"fill\":{\"color\":\"#C8D4E3\"},\"line\":{\"color\":\"white\"}},\"type\":\"table\"}],\"barpolar\":[{\"marker\":{\"line\":{\"color\":\"#E5ECF6\",\"width\":0.5},\"pattern\":{\"fillmode\":\"overlay\",\"size\":10,\"solidity\":0.2}},\"type\":\"barpolar\"}],\"pie\":[{\"automargin\":true,\"type\":\"pie\"}]},\"layout\":{\"autotypenumbers\":\"strict\",\"colorway\":[\"#636efa\",\"#EF553B\",\"#00cc96\",\"#ab63fa\",\"#FFA15A\",\"#19d3f3\",\"#FF6692\",\"#B6E880\",\"#FF97FF\",\"#FECB52\"],\"font\":{\"color\":\"#2a3f5f\"},\"hovermode\":\"closest\",\"hoverlabel\":{\"align\":\"left\"},\"paper_bgcolor\":\"white\",\"plot_bgcolor\":\"#E5ECF6\",\"polar\":{\"bgcolor\":\"#E5ECF6\",\"angularaxis\":{\"gridcolor\":\"white\",\"linecolor\":\"white\",\"ticks\":\"\"},\"radialaxis\":{\"gridcolor\":\"white\",\"linecolor\":\"white\",\"ticks\":\"\"}},\"ternary\":{\"bgcolor\":\"#E5ECF6\",\"aaxis\":{\"gridcolor\":\"white\",\"linecolor\":\"white\",\"ticks\":\"\"},\"baxis\":{\"gridcolor\":\"white\",\"linecolor\":\"white\",\"ticks\":\"\"},\"caxis\":{\"gridcolor\":\"white\",\"linecolor\":\"white\",\"ticks\":\"\"}},\"coloraxis\":{\"colorbar\":{\"outlinewidth\":0,\"ticks\":\"\"}},\"colorscale\":{\"sequential\":[[0.0,\"#0d0887\"],[0.1111111111111111,\"#46039f\"],[0.2222222222222222,\"#7201a8\"],[0.3333333333333333,\"#9c179e\"],[0.4444444444444444,\"#bd3786\"],[0.5555555555555556,\"#d8576b\"],[0.6666666666666666,\"#ed7953\"],[0.7777777777777778,\"#fb9f3a\"],[0.8888888888888888,\"#fdca26\"],[1.0,\"#f0f921\"]],\"sequentialminus\":[[0.0,\"#0d0887\"],[0.1111111111111111,\"#46039f\"],[0.2222222222222222,\"#7201a8\"],[0.3333333333333333,\"#9c179e\"],[0.4444444444444444,\"#bd3786\"],[0.5555555555555556,\"#d8576b\"],[0.6666666666666666,\"#ed7953\"],[0.7777777777777778,\"#fb9f3a\"],[0.8888888888888888,\"#fdca26\"],[1.0,\"#f0f921\"]],\"diverging\":[[0,\"#8e0152\"],[0.1,\"#c51b7d\"],[0.2,\"#de77ae\"],[0.3,\"#f1b6da\"],[0.4,\"#fde0ef\"],[0.5,\"#f7f7f7\"],[0.6,\"#e6f5d0\"],[0.7,\"#b8e186\"],[0.8,\"#7fbc41\"],[0.9,\"#4d9221\"],[1,\"#276419\"]]},\"xaxis\":{\"gridcolor\":\"white\",\"linecolor\":\"white\",\"ticks\":\"\",\"title\":{\"standoff\":15},\"zerolinecolor\":\"white\",\"automargin\":true,\"zerolinewidth\":2},\"yaxis\":{\"gridcolor\":\"white\",\"linecolor\":\"white\",\"ticks\":\"\",\"title\":{\"standoff\":15},\"zerolinecolor\":\"white\",\"automargin\":true,\"zerolinewidth\":2},\"scene\":{\"xaxis\":{\"backgroundcolor\":\"#E5ECF6\",\"gridcolor\":\"white\",\"linecolor\":\"white\",\"showbackground\":true,\"ticks\":\"\",\"zerolinecolor\":\"white\",\"gridwidth\":2},\"yaxis\":{\"backgroundcolor\":\"#E5ECF6\",\"gridcolor\":\"white\",\"linecolor\":\"white\",\"showbackground\":true,\"ticks\":\"\",\"zerolinecolor\":\"white\",\"gridwidth\":2},\"zaxis\":{\"backgroundcolor\":\"#E5ECF6\",\"gridcolor\":\"white\",\"linecolor\":\"white\",\"showbackground\":true,\"ticks\":\"\",\"zerolinecolor\":\"white\",\"gridwidth\":2}},\"shapedefaults\":{\"line\":{\"color\":\"#2a3f5f\"}},\"annotationdefaults\":{\"arrowcolor\":\"#2a3f5f\",\"arrowhead\":0,\"arrowwidth\":1},\"geo\":{\"bgcolor\":\"white\",\"landcolor\":\"#E5ECF6\",\"subunitcolor\":\"white\",\"showland\":true,\"showlakes\":true,\"lakecolor\":\"white\"},\"title\":{\"x\":0.05},\"mapbox\":{\"style\":\"light\"}}},\"coloraxis\":{\"colorbar\":{\"title\":{\"text\":\"Quality\"}},\"colorscale\":[[0.0,\"#440154\"],[0.1111111111111111,\"#482878\"],[0.2222222222222222,\"#3e4989\"],[0.3333333333333333,\"#31688e\"],[0.4444444444444444,\"#26828e\"],[0.5555555555555556,\"#1f9e89\"],[0.6666666666666666,\"#35b779\"],[0.7777777777777778,\"#6ece58\"],[0.8888888888888888,\"#b5de2b\"],[1.0,\"#fde725\"]]},\"legend\":{\"tracegroupgap\":0},\"title\":{\"text\":\"ForenFace\"}},                        {\"responsive\": true}                    ).then(function(){\n",
       "                            \n",
       "var gd = document.getElementById('b8e938a7-90dc-4b8c-adc6-2f4718b133fd');\n",
       "var x = new MutationObserver(function (mutations, observer) {{\n",
       "        var display = window.getComputedStyle(gd).display;\n",
       "        if (!display || display === 'none') {{\n",
       "            console.log([gd, 'removed!']);\n",
       "            Plotly.purge(gd);\n",
       "            observer.disconnect();\n",
       "        }}\n",
       "}});\n",
       "\n",
       "// Listen for the removal of the full notebook cells\n",
       "var notebookContainer = gd.closest('#notebook-container');\n",
       "if (notebookContainer) {{\n",
       "    x.observe(notebookContainer, {childList: true});\n",
       "}}\n",
       "\n",
       "// Listen for the clearing of the current output cell\n",
       "var outputEl = gd.closest('.output');\n",
       "if (outputEl) {{\n",
       "    x.observe(outputEl, {childList: true});\n",
       "}}\n",
       "\n",
       "                        })                };                });            </script>        </div>"
      ]
     },
     "metadata": {},
     "output_type": "display_data"
    }
   ],
   "source": [
    "source = 'ForenFace'\n",
    "df_x = dict[source].drop('race', axis = 1)\n",
    "df_x.dropna(inplace=True)\n",
    "fig = px.sunburst(df_x, path=['gender','yaw','emotion'],   color=\"Quality\",\n",
    "                  color_continuous_scale=\"Viridis\",title=source) #values=\"gender\"#\"Q_model\", \"Detector\",\n",
    "    #fig.update_layout(title=source)\n",
    "    #img_data = pio.to_image(fig,format='png',scale=3)\n",
    "\n",
    "pio.write_image(fig,source+\"_sunburst.png\",format='png', scale=6)\n",
    "fig.show()"
   ]
  },
  {
   "cell_type": "code",
   "execution_count": null,
   "metadata": {},
   "outputs": [],
   "source": [
    "dict.keys()"
   ]
  },
  {
   "cell_type": "code",
   "execution_count": null,
   "metadata": {},
   "outputs": [],
   "source": [
    "for source in dict.keys():\n",
    "    plot_sun(source)"
   ]
  },
  {
   "cell_type": "code",
   "execution_count": 61,
   "metadata": {},
   "outputs": [],
   "source": [
    "df = dict['ForenFace']"
   ]
  },
  {
   "cell_type": "code",
   "execution_count": 62,
   "metadata": {},
   "outputs": [
    {
     "data": {
      "text/html": [
       "<div>\n",
       "<style scoped>\n",
       "    .dataframe tbody tr th:only-of-type {\n",
       "        vertical-align: middle;\n",
       "    }\n",
       "\n",
       "    .dataframe tbody tr th {\n",
       "        vertical-align: top;\n",
       "    }\n",
       "\n",
       "    .dataframe thead th {\n",
       "        text-align: right;\n",
       "    }\n",
       "</style>\n",
       "<table border=\"1\" class=\"dataframe\">\n",
       "  <thead>\n",
       "    <tr style=\"text-align: right;\">\n",
       "      <th></th>\n",
       "      <th>gender</th>\n",
       "      <th>yaw</th>\n",
       "      <th>emotion</th>\n",
       "      <th>race</th>\n",
       "      <th>source</th>\n",
       "      <th>Quality</th>\n",
       "      <th>Detector</th>\n",
       "      <th>Q_model</th>\n",
       "    </tr>\n",
       "  </thead>\n",
       "  <tbody>\n",
       "    <tr>\n",
       "      <th>28898</th>\n",
       "      <td>Man</td>\n",
       "      <td>straight</td>\n",
       "      <td>neutral</td>\n",
       "      <td>None</td>\n",
       "      <td>ForenFace</td>\n",
       "      <td>0.003972</td>\n",
       "      <td>mtcnn</td>\n",
       "      <td>ser_fiq</td>\n",
       "    </tr>\n",
       "    <tr>\n",
       "      <th>28899</th>\n",
       "      <td>Man</td>\n",
       "      <td>straight</td>\n",
       "      <td>neutral</td>\n",
       "      <td>None</td>\n",
       "      <td>ForenFace</td>\n",
       "      <td>0.019352</td>\n",
       "      <td>mtcnn</td>\n",
       "      <td>ser_fiq</td>\n",
       "    </tr>\n",
       "    <tr>\n",
       "      <th>28900</th>\n",
       "      <td>Man</td>\n",
       "      <td>straight</td>\n",
       "      <td>sad</td>\n",
       "      <td>None</td>\n",
       "      <td>ForenFace</td>\n",
       "      <td>0.339704</td>\n",
       "      <td>mtcnn</td>\n",
       "      <td>ser_fiq</td>\n",
       "    </tr>\n",
       "    <tr>\n",
       "      <th>28901</th>\n",
       "      <td>Man</td>\n",
       "      <td>sideways</td>\n",
       "      <td>happy</td>\n",
       "      <td>None</td>\n",
       "      <td>ForenFace</td>\n",
       "      <td>0.014630</td>\n",
       "      <td>mtcnn</td>\n",
       "      <td>ser_fiq</td>\n",
       "    </tr>\n",
       "    <tr>\n",
       "      <th>28902</th>\n",
       "      <td>Man</td>\n",
       "      <td>straight</td>\n",
       "      <td>happy</td>\n",
       "      <td>None</td>\n",
       "      <td>ForenFace</td>\n",
       "      <td>0.593187</td>\n",
       "      <td>mtcnn</td>\n",
       "      <td>ser_fiq</td>\n",
       "    </tr>\n",
       "    <tr>\n",
       "      <th>...</th>\n",
       "      <td>...</td>\n",
       "      <td>...</td>\n",
       "      <td>...</td>\n",
       "      <td>...</td>\n",
       "      <td>...</td>\n",
       "      <td>...</td>\n",
       "      <td>...</td>\n",
       "      <td>...</td>\n",
       "    </tr>\n",
       "    <tr>\n",
       "      <th>31264</th>\n",
       "      <td>Man</td>\n",
       "      <td>straight</td>\n",
       "      <td>neutral</td>\n",
       "      <td>None</td>\n",
       "      <td>ForenFace</td>\n",
       "      <td>0.014163</td>\n",
       "      <td>mtcnn</td>\n",
       "      <td>ser_fiq</td>\n",
       "    </tr>\n",
       "    <tr>\n",
       "      <th>31265</th>\n",
       "      <td>Man</td>\n",
       "      <td>straight</td>\n",
       "      <td>neutral</td>\n",
       "      <td>None</td>\n",
       "      <td>ForenFace</td>\n",
       "      <td>0.426552</td>\n",
       "      <td>mtcnn</td>\n",
       "      <td>ser_fiq</td>\n",
       "    </tr>\n",
       "    <tr>\n",
       "      <th>31266</th>\n",
       "      <td>Man</td>\n",
       "      <td>sideways</td>\n",
       "      <td>sad</td>\n",
       "      <td>None</td>\n",
       "      <td>ForenFace</td>\n",
       "      <td>0.001988</td>\n",
       "      <td>mtcnn</td>\n",
       "      <td>ser_fiq</td>\n",
       "    </tr>\n",
       "    <tr>\n",
       "      <th>31267</th>\n",
       "      <td>Man</td>\n",
       "      <td>straight</td>\n",
       "      <td>neutral</td>\n",
       "      <td>None</td>\n",
       "      <td>ForenFace</td>\n",
       "      <td>0.733252</td>\n",
       "      <td>mtcnn</td>\n",
       "      <td>ser_fiq</td>\n",
       "    </tr>\n",
       "    <tr>\n",
       "      <th>31268</th>\n",
       "      <td>Man</td>\n",
       "      <td>straight</td>\n",
       "      <td>sad</td>\n",
       "      <td>None</td>\n",
       "      <td>ForenFace</td>\n",
       "      <td>0.020641</td>\n",
       "      <td>mtcnn</td>\n",
       "      <td>ser_fiq</td>\n",
       "    </tr>\n",
       "  </tbody>\n",
       "</table>\n",
       "<p>2371 rows × 8 columns</p>\n",
       "</div>"
      ],
      "text/plain": [
       "      gender       yaw  emotion  race     source   Quality Detector  Q_model\n",
       "28898    Man  straight  neutral  None  ForenFace  0.003972    mtcnn  ser_fiq\n",
       "28899    Man  straight  neutral  None  ForenFace  0.019352    mtcnn  ser_fiq\n",
       "28900    Man  straight      sad  None  ForenFace  0.339704    mtcnn  ser_fiq\n",
       "28901    Man  sideways    happy  None  ForenFace  0.014630    mtcnn  ser_fiq\n",
       "28902    Man  straight    happy  None  ForenFace  0.593187    mtcnn  ser_fiq\n",
       "...      ...       ...      ...   ...        ...       ...      ...      ...\n",
       "31264    Man  straight  neutral  None  ForenFace  0.014163    mtcnn  ser_fiq\n",
       "31265    Man  straight  neutral  None  ForenFace  0.426552    mtcnn  ser_fiq\n",
       "31266    Man  sideways      sad  None  ForenFace  0.001988    mtcnn  ser_fiq\n",
       "31267    Man  straight  neutral  None  ForenFace  0.733252    mtcnn  ser_fiq\n",
       "31268    Man  straight      sad  None  ForenFace  0.020641    mtcnn  ser_fiq\n",
       "\n",
       "[2371 rows x 8 columns]"
      ]
     },
     "execution_count": 62,
     "metadata": {},
     "output_type": "execute_result"
    }
   ],
   "source": [
    "df"
   ]
  },
  {
   "cell_type": "code",
   "execution_count": null,
   "metadata": {},
   "outputs": [],
   "source": [
    "source = 'XQLFW'\n",
    "df_plot = dict[source]\n",
    "df_plot.dropna(inplace=True)"
   ]
  },
  {
   "cell_type": "code",
   "execution_count": null,
   "metadata": {},
   "outputs": [],
   "source": [
    "fig = px.sunburst(df_plot, path=['gender','yaw','race','emotion'],   color=\"Quality\",\n",
    "                  color_continuous_scale=\"Viridis\",title=source) #values=\"gender\"#\"Q_model\", \"Detector\",\n",
    "#fig.update_layout(title=source)\n",
    "\n",
    "img_data = pio.to_image(fig,format='png',scale=3)\n",
    "\n",
    "pio.write_image(fig,source+\".png\",format='png', scale=6)\n",
    "fig.show()\n"
   ]
  },
  {
   "cell_type": "code",
   "execution_count": null,
   "metadata": {},
   "outputs": [],
   "source": [
    "type(img_data)"
   ]
  },
  {
   "cell_type": "code",
   "execution_count": null,
   "metadata": {},
   "outputs": [],
   "source": [
    "\n",
    "# Ajustar el tamaño de la figura\n",
    "plt.figure(figsize=(10, 6))\n",
    "\n",
    "# Crear el stripplot\n",
    "sns.swarmplot(x='yaw', hue='emotion', y= 'Quality',  data=df_plot)#,jitter=True,dodge=True,\n",
    "#sns.scatterplot(x='yaw2', hue='emotion2', y= 'Quality',  data=df2)#,dodge=True,\n",
    "# Mostrar el gráfico\n",
    "plt.show()\n"
   ]
  },
  {
   "cell_type": "code",
   "execution_count": null,
   "metadata": {},
   "outputs": [],
   "source": [
    "sns.swarmplot(x='race', hue='gender', y= 'Quality',  data=df_plot)#,jitter=True,dodge=True,"
   ]
  },
  {
   "cell_type": "code",
   "execution_count": null,
   "metadata": {},
   "outputs": [],
   "source": [
    "import plotly.express as px\n",
    "\n",
    "fig = px.treemap(df_plot, path=['Q_group', 'Q_model', 'Detector', 'gender'], title=\"Mosaic Plot\")\n",
    "fig.show()"
   ]
  },
  {
   "cell_type": "code",
   "execution_count": null,
   "metadata": {},
   "outputs": [],
   "source": [
    "\n",
    "\n",
    "# # Tabla de contingencia para Quality_group y Detector\n",
    "# contingency_table_detector = pd.crosstab(df_plot['Q_group'], df_plot['Detector'])\n",
    "\n",
    "# # Tabla de contingencia para Quality_group y Quality_model\n",
    "# contingency_table_quality_model = pd.crosstab(df_plot['Q_group'], df_plot['Q_model'])\n",
    "\n",
    "# # Tabla de contingencia para Quality_group y yaw\n",
    "# contingency_table_yaw = pd.crosstab(df_plot['Q_group'], df_plot['yaw'])\n",
    "\n",
    "# # Tabla de contingencia para Quality_group y gender\n",
    "# contingency_table_gender = pd.crosstab(df_plot['Q_group'], df_plot['gender'])\n",
    "\n",
    "\n",
    "# # Tabla de contingencia para Quality_group y emotion\n",
    "# contingency_table_emotion = pd.crosstab(df_plot['Q_group'], df_plot['emotion'])\n",
    "\n",
    "# # Tabla de contingencia para Quality_group y race\n",
    "# contingency_table_race = pd.crosstab(df_plot['Q_group'], df_plot['race'])\n"
   ]
  },
  {
   "cell_type": "code",
   "execution_count": null,
   "metadata": {},
   "outputs": [],
   "source": [
    "\n",
    "# def norm_table (df):\n",
    "#     for col in df.columns:\n",
    "#         df[col] = df[col]/sum(df[col])\n",
    "\n"
   ]
  },
  {
   "cell_type": "code",
   "execution_count": null,
   "metadata": {},
   "outputs": [],
   "source": [
    "# norm_table(contingency_table_quality_model)\n"
   ]
  },
  {
   "cell_type": "code",
   "execution_count": null,
   "metadata": {},
   "outputs": [],
   "source": [
    "# norm_table(contingency_table_detector)\n",
    "# contingency_table_detector"
   ]
  },
  {
   "cell_type": "code",
   "execution_count": null,
   "metadata": {},
   "outputs": [],
   "source": [
    "# norm_table(contingency_table_gender)\n",
    "# contingency_table_gender"
   ]
  },
  {
   "cell_type": "code",
   "execution_count": null,
   "metadata": {},
   "outputs": [],
   "source": [
    "# norm_table(contingency_table_yaw)\n",
    "# contingency_table_yaw"
   ]
  },
  {
   "cell_type": "code",
   "execution_count": null,
   "metadata": {},
   "outputs": [],
   "source": [
    "# norm_table(contingency_table_race)\n",
    "# contingency_table_race"
   ]
  },
  {
   "cell_type": "code",
   "execution_count": null,
   "metadata": {},
   "outputs": [],
   "source": [
    "# norm_table(contingency_table_emotion)\n",
    "# contingency_table_emotion"
   ]
  },
  {
   "cell_type": "code",
   "execution_count": null,
   "metadata": {},
   "outputs": [],
   "source": [
    "# contingency_table_emotion.plot(kind='bar', subplots=False)\n",
    "# plt.legend(loc='best')\n"
   ]
  },
  {
   "cell_type": "code",
   "execution_count": null,
   "metadata": {},
   "outputs": [],
   "source": [
    "# contingency_table_race.plot(kind='bar', subplots=False)\n",
    "# plt.legend(loc='best')\n"
   ]
  },
  {
   "cell_type": "code",
   "execution_count": null,
   "metadata": {},
   "outputs": [],
   "source": [
    "# contingency_table_yaw.plot(kind='bar', subplots=False)\n",
    "# plt.legend(loc='best')\n"
   ]
  },
  {
   "cell_type": "code",
   "execution_count": null,
   "metadata": {},
   "outputs": [],
   "source": [
    "import matplotlib.pyplot as plt\n",
    "\n",
    "def plot_stacked_bar(contingency_table, title, xlabel, ylabel):\n",
    "    ax = contingency_table.plot(kind='bar', stacked=True, figsize=(10, 7))\n",
    "    plt.title(title)\n",
    "    plt.xlabel(xlabel)\n",
    "    plt.ylabel(ylabel)\n",
    "    plt.legend(loc='best')\n",
    "    plt.show()\n",
    "\n",
    "# plot_stacked_bar(contingency_table_detector, 'Quality_group vs Detector', 'Quality_group', 'Frequency')\n",
    "# plot_stacked_bar(contingency_table_quality_model, 'Quality_group vs Quality_model', 'Quality_group', 'Frequency')\n",
    "# plot_stacked_bar(contingency_table_yaw, 'Quality_group vs yaw', 'Quality_group', 'Frequency')\n",
    "# plot_stacked_bar(contingency_table_gender, 'Quality_group vs gender', 'Quality_group', 'Frequency')\n"
   ]
  },
  {
   "cell_type": "code",
   "execution_count": null,
   "metadata": {},
   "outputs": [],
   "source": [
    "df_plot.head()\n"
   ]
  },
  {
   "cell_type": "code",
   "execution_count": null,
   "metadata": {},
   "outputs": [],
   "source": [
    "import plotly.io as pio\n",
    "\n",
    "#fig = ...  # tu figura de plotly aquí\n",
    "#pio.write_image(fig, 'figure.png', format='png', scale=2) "
   ]
  },
  {
   "cell_type": "code",
   "execution_count": null,
   "metadata": {},
   "outputs": [],
   "source": []
  },
  {
   "cell_type": "code",
   "execution_count": null,
   "metadata": {},
   "outputs": [],
   "source": [
    "# Crear un gráfico sunburst con Plotly\n",
    "fig1 = px.sunburst(df_plot1, path=['race','gender'],   color=\"Quality\",\n",
    "                  color_continuous_scale=\"Viridis\") #values=\"gender\"#\"Q_model\", \"Detector\",\n",
    "fig2 = px.sunburst(df_plot1, path=['yaw','emotion'],   color=\"Quality\",\n",
    "                  color_continuous_scale=\"Viridis\") #values=\"gender\"#\"Q_model\", \"Detector\",\n",
    "fig3 = px.sunburst(df_plot1, path=['Detector','yaw','emotion'],   color=\"Quality\",\n",
    "                  color_continuous_scale=\"Viridis\") #values=\"gender\"#\"Q_model\", \"Detector\",\n",
    "fig4 = px.sunburst(df_plot1, path=['gender','race','yaw','emotion'],   color=\"Quality\",\n",
    "                  color_continuous_scale=\"Viridis\") #values=\"gender\"#\"Q_model\", \"Detector\",\n",
    "fig5 = px.sunburst(df_plot1, path=['Detector','gender','yaw','race','emotion'],   color=\"Quality\",\n",
    "                  color_continuous_scale=\"Viridis\") #values=\"gender\"#\"Q_model\", \"Detector\",\n",
    "\n",
    "fig1.show()\n",
    "fig2.show()\n",
    "fig3.show()\n",
    "fig4.show()\n",
    "fig5.show()"
   ]
  },
  {
   "cell_type": "code",
   "execution_count": null,
   "metadata": {},
   "outputs": [],
   "source": [
    "# Crear un gráfico sunburst con Plotly\n",
    "fig1 = px.sunburst(df_plot1, path=['race','gender'],   color=\"Quality\",\n",
    "                  color_continuous_scale=\"Viridis\") #values=\"gender\"#\"Q_model\", \"Detector\",\n",
    "fig2 = px.sunburst(df_plot1, path=['yaw','emotion'],   color=\"Quality\",\n",
    "                  color_continuous_scale=\"Viridis\") #values=\"gender\"#\"Q_model\", \"Detector\",\n",
    "fig3 = px.sunburst(df_plot1, path=['Detector','yaw','emotion'],   color=\"Quality\",\n",
    "                  color_continuous_scale=\"Viridis\") #values=\"gender\"#\"Q_model\", \"Detector\",\n",
    "fig4 = px.sunburst(df_plot1, path=['gender','race','yaw','emotion'],   color=\"Quality\",\n",
    "                  color_continuous_scale=\"Viridis\") #values=\"gender\"#\"Q_model\", \"Detector\",\n",
    "fig5 = px.sunburst(df_plot1, path=['Detector','gender','yaw','race','emotion'],   color=\"Quality\",\n",
    "                  color_continuous_scale=\"Viridis\") #values=\"gender\"#\"Q_model\", \"Detector\",\n",
    "\n",
    "fig1.show()\n",
    "fig2.show()\n",
    "fig3.show()\n",
    "fig4.show()\n",
    "fig5.show()"
   ]
  },
  {
   "cell_type": "code",
   "execution_count": null,
   "metadata": {},
   "outputs": [],
   "source": [
    "tabla1 =df_plot1.groupby(['Q_model','Detector',\"gender\",'race','yaw','emotion']).agg({\"Quality\":[\"count\",\"mean\"]})"
   ]
  },
  {
   "cell_type": "code",
   "execution_count": null,
   "metadata": {},
   "outputs": [],
   "source": [
    "type(tabla)"
   ]
  },
  {
   "cell_type": "code",
   "execution_count": null,
   "metadata": {},
   "outputs": [],
   "source": [
    "tabla1.to_excel(\"tabla_serfiq.xlsx\")"
   ]
  },
  {
   "cell_type": "code",
   "execution_count": null,
   "metadata": {},
   "outputs": [],
   "source": [
    "df.angle_yaw"
   ]
  },
  {
   "cell_type": "code",
   "execution_count": null,
   "metadata": {},
   "outputs": [],
   "source": [
    "df_plot.yaw.value_counts()"
   ]
  }
 ],
 "metadata": {
  "kernelspec": {
   "display_name": "lr-video",
   "language": "python",
   "name": "python3"
  },
  "language_info": {
   "codemirror_mode": {
    "name": "ipython",
    "version": 3
   },
   "file_extension": ".py",
   "mimetype": "text/x-python",
   "name": "python",
   "nbconvert_exporter": "python",
   "pygments_lexer": "ipython3",
   "version": "3.8.15"
  },
  "orig_nbformat": 4
 },
 "nbformat": 4,
 "nbformat_minor": 2
}
