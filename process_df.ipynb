{
 "cells": [
  {
   "attachments": {},
   "cell_type": "markdown",
   "metadata": {},
   "source": [
    "# Tratamiento del dataframe \n",
    "Se ha extraido de a base de datos un daframe en formato pickle"
   ]
  },
  {
   "attachments": {},
   "cell_type": "markdown",
   "metadata": {},
   "source": [
    "## Imports"
   ]
  },
  {
   "cell_type": "code",
   "execution_count": 18,
   "metadata": {},
   "outputs": [],
   "source": [
    "import pandas as pd\n",
    "import numpy as np\n",
    "\n",
    "import seaborn as sns\n",
    "import matplotlib.pyplot as plt\n",
    "\n",
    "from sql_face.tables import *\n",
    "import os\n",
    "import plotly.express as px\n",
    "import plotly.io as pio\n"
   ]
  },
  {
   "attachments": {},
   "cell_type": "markdown",
   "metadata": {},
   "source": [
    "## Leer dataframe del disco\n",
    "se especifica directorio y fichero pkl. No necesitamos la base de datos."
   ]
  },
  {
   "cell_type": "code",
   "execution_count": 19,
   "metadata": {},
   "outputs": [],
   "source": [
    "home = os.path.expanduser(\"~\")\n",
    "\n",
    "input_dir = os.path.join(home, 'video_resources', 'sql_database')\n",
    "df = pd.read_pickle(os.path.join(input_dir,'df_all_colab_21.pkl'))\n"
   ]
  },
  {
   "cell_type": "code",
   "execution_count": 20,
   "metadata": {},
   "outputs": [
    {
     "data": {
      "text/plain": [
       "Index(['identity', 'pitch', 'angle_pitch', 'yaw', 'angle_yaw', 'roll',\n",
       "       'angle_roll', 'source', 'gender', 'headgear', 'age', 'age_number',\n",
       "       'glasses', 'type', 'beard', 'emotion', 'other_occlusions', 'race',\n",
       "       'image_id', 'Detector', 'E_Model', 'Q_model', 'Q_group', 'Quality'],\n",
       "      dtype='object')"
      ]
     },
     "execution_count": 20,
     "metadata": {},
     "output_type": "execute_result"
    }
   ],
   "source": [
    "df.columns"
   ]
  },
  {
   "cell_type": "code",
   "execution_count": 21,
   "metadata": {},
   "outputs": [
    {
     "data": {
      "text/plain": [
       "UTKface       706684\n",
       "LFW           396830\n",
       "XQLFW         374130\n",
       "SCFace        118540\n",
       "ChokePoint     71559\n",
       "ForenFace      69118\n",
       "ENFSI          54560\n",
       "Name: source, dtype: int64"
      ]
     },
     "execution_count": 21,
     "metadata": {},
     "output_type": "execute_result"
    }
   ],
   "source": [
    "df.source.value_counts()"
   ]
  },
  {
   "attachments": {},
   "cell_type": "markdown",
   "metadata": {},
   "source": [
    "### Quitamos los Embedding Models\n",
    "y los registros repetidos"
   ]
  },
  {
   "cell_type": "code",
   "execution_count": 22,
   "metadata": {},
   "outputs": [],
   "source": [
    "df2 = df.copy()\n",
    "#df2 = df.loc[df['type'] == 'enfsiImage']\n",
    "df2.drop('E_Model', axis = 1,inplace = True)\n",
    "df2 = df2.drop_duplicates(subset = ['image_id','Detector','Q_model'])\n",
    "df2 = df2.reset_index(drop=True)"
   ]
  },
  {
   "cell_type": "code",
   "execution_count": 23,
   "metadata": {},
   "outputs": [
    {
     "data": {
      "text/plain": [
       "415537"
      ]
     },
     "execution_count": 23,
     "metadata": {},
     "output_type": "execute_result"
    }
   ],
   "source": [
    "len(df2)"
   ]
  },
  {
   "cell_type": "code",
   "execution_count": 24,
   "metadata": {},
   "outputs": [
    {
     "data": {
      "text/html": [
       "<div>\n",
       "<style scoped>\n",
       "    .dataframe tbody tr th:only-of-type {\n",
       "        vertical-align: middle;\n",
       "    }\n",
       "\n",
       "    .dataframe tbody tr th {\n",
       "        vertical-align: top;\n",
       "    }\n",
       "\n",
       "    .dataframe thead th {\n",
       "        text-align: right;\n",
       "    }\n",
       "</style>\n",
       "<table border=\"1\" class=\"dataframe\">\n",
       "  <thead>\n",
       "    <tr style=\"text-align: right;\">\n",
       "      <th></th>\n",
       "      <th>identity</th>\n",
       "      <th>pitch</th>\n",
       "      <th>angle_pitch</th>\n",
       "      <th>yaw</th>\n",
       "      <th>angle_yaw</th>\n",
       "      <th>roll</th>\n",
       "      <th>angle_roll</th>\n",
       "      <th>source</th>\n",
       "      <th>gender</th>\n",
       "      <th>headgear</th>\n",
       "      <th>...</th>\n",
       "      <th>type</th>\n",
       "      <th>beard</th>\n",
       "      <th>emotion</th>\n",
       "      <th>other_occlusions</th>\n",
       "      <th>race</th>\n",
       "      <th>image_id</th>\n",
       "      <th>Detector</th>\n",
       "      <th>Q_model</th>\n",
       "      <th>Q_group</th>\n",
       "      <th>Quality</th>\n",
       "    </tr>\n",
       "  </thead>\n",
       "  <tbody>\n",
       "    <tr>\n",
       "      <th>0</th>\n",
       "      <td>2011-1-unknown</td>\n",
       "      <td>Pitch.FRONTAL</td>\n",
       "      <td>-1.539315</td>\n",
       "      <td>Yaw.FRONTAL</td>\n",
       "      <td>-2.064884</td>\n",
       "      <td>Roll.FRONTAL</td>\n",
       "      <td>1.668600</td>\n",
       "      <td>ENFSI</td>\n",
       "      <td>Gender.MALE</td>\n",
       "      <td>False</td>\n",
       "      <td>...</td>\n",
       "      <td>enfsiImage</td>\n",
       "      <td>False</td>\n",
       "      <td>Emotion.NEUTRAL</td>\n",
       "      <td>False</td>\n",
       "      <td>Race.WHITE</td>\n",
       "      <td>1</td>\n",
       "      <td>mtcnn</td>\n",
       "      <td>ser_fiq</td>\n",
       "      <td>QualityGroup.HIGH</td>\n",
       "      <td>0.632035</td>\n",
       "    </tr>\n",
       "    <tr>\n",
       "      <th>1</th>\n",
       "      <td>2011-1</td>\n",
       "      <td>Pitch.FRONTAL</td>\n",
       "      <td>8.485744</td>\n",
       "      <td>Yaw.FRONTAL</td>\n",
       "      <td>7.485447</td>\n",
       "      <td>Roll.FRONTAL</td>\n",
       "      <td>0.792988</td>\n",
       "      <td>ENFSI</td>\n",
       "      <td>Gender.MALE</td>\n",
       "      <td>False</td>\n",
       "      <td>...</td>\n",
       "      <td>enfsiImage</td>\n",
       "      <td>False</td>\n",
       "      <td>Emotion.FEAR</td>\n",
       "      <td>False</td>\n",
       "      <td>Race.LATINO</td>\n",
       "      <td>2</td>\n",
       "      <td>mtcnn</td>\n",
       "      <td>ser_fiq</td>\n",
       "      <td>QualityGroup.VERY_HIGH</td>\n",
       "      <td>0.771966</td>\n",
       "    </tr>\n",
       "    <tr>\n",
       "      <th>2</th>\n",
       "      <td>2011-2-unknown</td>\n",
       "      <td>Pitch.FRONTAL</td>\n",
       "      <td>-3.920415</td>\n",
       "      <td>Yaw.FRONTAL</td>\n",
       "      <td>1.548413</td>\n",
       "      <td>Roll.FRONTAL</td>\n",
       "      <td>-0.274244</td>\n",
       "      <td>ENFSI</td>\n",
       "      <td>Gender.MALE</td>\n",
       "      <td>False</td>\n",
       "      <td>...</td>\n",
       "      <td>enfsiImage</td>\n",
       "      <td>True</td>\n",
       "      <td>Emotion.NEUTRAL</td>\n",
       "      <td>False</td>\n",
       "      <td>Race.WHITE</td>\n",
       "      <td>3</td>\n",
       "      <td>mtcnn</td>\n",
       "      <td>ser_fiq</td>\n",
       "      <td>QualityGroup.MEDIUM</td>\n",
       "      <td>0.491990</td>\n",
       "    </tr>\n",
       "    <tr>\n",
       "      <th>3</th>\n",
       "      <td>2011-2</td>\n",
       "      <td>Pitch.FRONTAL</td>\n",
       "      <td>-8.626112</td>\n",
       "      <td>Yaw.FRONTAL</td>\n",
       "      <td>7.159441</td>\n",
       "      <td>Roll.HALF_LEANING</td>\n",
       "      <td>-7.312764</td>\n",
       "      <td>ENFSI</td>\n",
       "      <td>Gender.MALE</td>\n",
       "      <td>False</td>\n",
       "      <td>...</td>\n",
       "      <td>enfsiImage</td>\n",
       "      <td>False</td>\n",
       "      <td>Emotion.SAD</td>\n",
       "      <td>False</td>\n",
       "      <td>Race.ASIAN</td>\n",
       "      <td>4</td>\n",
       "      <td>mtcnn</td>\n",
       "      <td>ser_fiq</td>\n",
       "      <td>QualityGroup.HIGH</td>\n",
       "      <td>0.702496</td>\n",
       "    </tr>\n",
       "    <tr>\n",
       "      <th>4</th>\n",
       "      <td>2011-3</td>\n",
       "      <td>Pitch.FRONTAL</td>\n",
       "      <td>9.193484</td>\n",
       "      <td>Yaw.FRONTAL</td>\n",
       "      <td>8.528775</td>\n",
       "      <td>Roll.FRONTAL</td>\n",
       "      <td>2.590432</td>\n",
       "      <td>ENFSI</td>\n",
       "      <td>Gender.MALE</td>\n",
       "      <td>False</td>\n",
       "      <td>...</td>\n",
       "      <td>enfsiImage</td>\n",
       "      <td>False</td>\n",
       "      <td>Emotion.SAD</td>\n",
       "      <td>False</td>\n",
       "      <td>Race.WHITE</td>\n",
       "      <td>5</td>\n",
       "      <td>mtcnn</td>\n",
       "      <td>ser_fiq</td>\n",
       "      <td>QualityGroup.LOW</td>\n",
       "      <td>0.053961</td>\n",
       "    </tr>\n",
       "    <tr>\n",
       "      <th>...</th>\n",
       "      <td>...</td>\n",
       "      <td>...</td>\n",
       "      <td>...</td>\n",
       "      <td>...</td>\n",
       "      <td>...</td>\n",
       "      <td>...</td>\n",
       "      <td>...</td>\n",
       "      <td>...</td>\n",
       "      <td>...</td>\n",
       "      <td>...</td>\n",
       "      <td>...</td>\n",
       "      <td>...</td>\n",
       "      <td>...</td>\n",
       "      <td>...</td>\n",
       "      <td>...</td>\n",
       "      <td>...</td>\n",
       "      <td>...</td>\n",
       "      <td>...</td>\n",
       "      <td>...</td>\n",
       "      <td>...</td>\n",
       "      <td>...</td>\n",
       "    </tr>\n",
       "    <tr>\n",
       "      <th>415532</th>\n",
       "      <td>0001</td>\n",
       "      <td>None</td>\n",
       "      <td>NaN</td>\n",
       "      <td>None</td>\n",
       "      <td>NaN</td>\n",
       "      <td>None</td>\n",
       "      <td>NaN</td>\n",
       "      <td>ChokePoint</td>\n",
       "      <td>Gender.MALE</td>\n",
       "      <td>None</td>\n",
       "      <td>...</td>\n",
       "      <td>cpVideoFrame</td>\n",
       "      <td>None</td>\n",
       "      <td>Emotion.NEUTRAL</td>\n",
       "      <td>None</td>\n",
       "      <td>Race.ASIAN</td>\n",
       "      <td>133930</td>\n",
       "      <td>mtcnn_serfiq</td>\n",
       "      <td>ser_fiq</td>\n",
       "      <td>QualityGroup.HIGH</td>\n",
       "      <td>0.670448</td>\n",
       "    </tr>\n",
       "    <tr>\n",
       "      <th>415533</th>\n",
       "      <td>0001</td>\n",
       "      <td>None</td>\n",
       "      <td>NaN</td>\n",
       "      <td>None</td>\n",
       "      <td>NaN</td>\n",
       "      <td>None</td>\n",
       "      <td>NaN</td>\n",
       "      <td>ChokePoint</td>\n",
       "      <td>Gender.MALE</td>\n",
       "      <td>None</td>\n",
       "      <td>...</td>\n",
       "      <td>cpVideoFrame</td>\n",
       "      <td>None</td>\n",
       "      <td>Emotion.NEUTRAL</td>\n",
       "      <td>None</td>\n",
       "      <td>Race.ASIAN</td>\n",
       "      <td>133931</td>\n",
       "      <td>mtcnn_serfiq</td>\n",
       "      <td>ser_fiq</td>\n",
       "      <td>QualityGroup.HIGH</td>\n",
       "      <td>0.623821</td>\n",
       "    </tr>\n",
       "    <tr>\n",
       "      <th>415534</th>\n",
       "      <td>0001</td>\n",
       "      <td>None</td>\n",
       "      <td>NaN</td>\n",
       "      <td>None</td>\n",
       "      <td>NaN</td>\n",
       "      <td>None</td>\n",
       "      <td>NaN</td>\n",
       "      <td>ChokePoint</td>\n",
       "      <td>Gender.MALE</td>\n",
       "      <td>None</td>\n",
       "      <td>...</td>\n",
       "      <td>cpVideoFrame</td>\n",
       "      <td>None</td>\n",
       "      <td>Emotion.SAD</td>\n",
       "      <td>None</td>\n",
       "      <td>Race.ASIAN</td>\n",
       "      <td>133932</td>\n",
       "      <td>mtcnn_serfiq</td>\n",
       "      <td>ser_fiq</td>\n",
       "      <td>QualityGroup.HIGH</td>\n",
       "      <td>0.643205</td>\n",
       "    </tr>\n",
       "    <tr>\n",
       "      <th>415535</th>\n",
       "      <td>0001</td>\n",
       "      <td>None</td>\n",
       "      <td>NaN</td>\n",
       "      <td>None</td>\n",
       "      <td>NaN</td>\n",
       "      <td>None</td>\n",
       "      <td>NaN</td>\n",
       "      <td>ChokePoint</td>\n",
       "      <td>Gender.MALE</td>\n",
       "      <td>None</td>\n",
       "      <td>...</td>\n",
       "      <td>cpVideoFrame</td>\n",
       "      <td>None</td>\n",
       "      <td>Emotion.NEUTRAL</td>\n",
       "      <td>None</td>\n",
       "      <td>Race.ASIAN</td>\n",
       "      <td>133933</td>\n",
       "      <td>mtcnn_serfiq</td>\n",
       "      <td>ser_fiq</td>\n",
       "      <td>QualityGroup.MEDIUM</td>\n",
       "      <td>0.555661</td>\n",
       "    </tr>\n",
       "    <tr>\n",
       "      <th>415536</th>\n",
       "      <td>0001</td>\n",
       "      <td>None</td>\n",
       "      <td>NaN</td>\n",
       "      <td>None</td>\n",
       "      <td>NaN</td>\n",
       "      <td>None</td>\n",
       "      <td>NaN</td>\n",
       "      <td>ChokePoint</td>\n",
       "      <td>Gender.MALE</td>\n",
       "      <td>None</td>\n",
       "      <td>...</td>\n",
       "      <td>cpVideoFrame</td>\n",
       "      <td>None</td>\n",
       "      <td>Emotion.NEUTRAL</td>\n",
       "      <td>None</td>\n",
       "      <td>Race.ASIAN</td>\n",
       "      <td>133934</td>\n",
       "      <td>mtcnn_serfiq</td>\n",
       "      <td>ser_fiq</td>\n",
       "      <td>QualityGroup.HIGH</td>\n",
       "      <td>0.603462</td>\n",
       "    </tr>\n",
       "  </tbody>\n",
       "</table>\n",
       "<p>415537 rows × 23 columns</p>\n",
       "</div>"
      ],
      "text/plain": [
       "              identity          pitch  angle_pitch          yaw  angle_yaw  \\\n",
       "0       2011-1-unknown  Pitch.FRONTAL    -1.539315  Yaw.FRONTAL  -2.064884   \n",
       "1               2011-1  Pitch.FRONTAL     8.485744  Yaw.FRONTAL   7.485447   \n",
       "2       2011-2-unknown  Pitch.FRONTAL    -3.920415  Yaw.FRONTAL   1.548413   \n",
       "3               2011-2  Pitch.FRONTAL    -8.626112  Yaw.FRONTAL   7.159441   \n",
       "4               2011-3  Pitch.FRONTAL     9.193484  Yaw.FRONTAL   8.528775   \n",
       "...                ...            ...          ...          ...        ...   \n",
       "415532            0001           None          NaN         None        NaN   \n",
       "415533            0001           None          NaN         None        NaN   \n",
       "415534            0001           None          NaN         None        NaN   \n",
       "415535            0001           None          NaN         None        NaN   \n",
       "415536            0001           None          NaN         None        NaN   \n",
       "\n",
       "                     roll  angle_roll      source       gender headgear  ...  \\\n",
       "0            Roll.FRONTAL    1.668600       ENFSI  Gender.MALE    False  ...   \n",
       "1            Roll.FRONTAL    0.792988       ENFSI  Gender.MALE    False  ...   \n",
       "2            Roll.FRONTAL   -0.274244       ENFSI  Gender.MALE    False  ...   \n",
       "3       Roll.HALF_LEANING   -7.312764       ENFSI  Gender.MALE    False  ...   \n",
       "4            Roll.FRONTAL    2.590432       ENFSI  Gender.MALE    False  ...   \n",
       "...                   ...         ...         ...          ...      ...  ...   \n",
       "415532               None         NaN  ChokePoint  Gender.MALE     None  ...   \n",
       "415533               None         NaN  ChokePoint  Gender.MALE     None  ...   \n",
       "415534               None         NaN  ChokePoint  Gender.MALE     None  ...   \n",
       "415535               None         NaN  ChokePoint  Gender.MALE     None  ...   \n",
       "415536               None         NaN  ChokePoint  Gender.MALE     None  ...   \n",
       "\n",
       "                type  beard          emotion other_occlusions         race  \\\n",
       "0         enfsiImage  False  Emotion.NEUTRAL            False   Race.WHITE   \n",
       "1         enfsiImage  False     Emotion.FEAR            False  Race.LATINO   \n",
       "2         enfsiImage   True  Emotion.NEUTRAL            False   Race.WHITE   \n",
       "3         enfsiImage  False      Emotion.SAD            False   Race.ASIAN   \n",
       "4         enfsiImage  False      Emotion.SAD            False   Race.WHITE   \n",
       "...              ...    ...              ...              ...          ...   \n",
       "415532  cpVideoFrame   None  Emotion.NEUTRAL             None   Race.ASIAN   \n",
       "415533  cpVideoFrame   None  Emotion.NEUTRAL             None   Race.ASIAN   \n",
       "415534  cpVideoFrame   None      Emotion.SAD             None   Race.ASIAN   \n",
       "415535  cpVideoFrame   None  Emotion.NEUTRAL             None   Race.ASIAN   \n",
       "415536  cpVideoFrame   None  Emotion.NEUTRAL             None   Race.ASIAN   \n",
       "\n",
       "       image_id      Detector  Q_model                 Q_group   Quality  \n",
       "0             1         mtcnn  ser_fiq       QualityGroup.HIGH  0.632035  \n",
       "1             2         mtcnn  ser_fiq  QualityGroup.VERY_HIGH  0.771966  \n",
       "2             3         mtcnn  ser_fiq     QualityGroup.MEDIUM  0.491990  \n",
       "3             4         mtcnn  ser_fiq       QualityGroup.HIGH  0.702496  \n",
       "4             5         mtcnn  ser_fiq        QualityGroup.LOW  0.053961  \n",
       "...         ...           ...      ...                     ...       ...  \n",
       "415532   133930  mtcnn_serfiq  ser_fiq       QualityGroup.HIGH  0.670448  \n",
       "415533   133931  mtcnn_serfiq  ser_fiq       QualityGroup.HIGH  0.623821  \n",
       "415534   133932  mtcnn_serfiq  ser_fiq       QualityGroup.HIGH  0.643205  \n",
       "415535   133933  mtcnn_serfiq  ser_fiq     QualityGroup.MEDIUM  0.555661  \n",
       "415536   133934  mtcnn_serfiq  ser_fiq       QualityGroup.HIGH  0.603462  \n",
       "\n",
       "[415537 rows x 23 columns]"
      ]
     },
     "execution_count": 24,
     "metadata": {},
     "output_type": "execute_result"
    }
   ],
   "source": [
    "\n",
    "df2"
   ]
  },
  {
   "cell_type": "code",
   "execution_count": 25,
   "metadata": {},
   "outputs": [
    {
     "data": {
      "text/plain": [
       "ser_fiq    243548\n",
       "tface      171989\n",
       "Name: Q_model, dtype: int64"
      ]
     },
     "execution_count": 25,
     "metadata": {},
     "output_type": "execute_result"
    }
   ],
   "source": [
    "df2.Q_model.value_counts()"
   ]
  },
  {
   "attachments": {},
   "cell_type": "markdown",
   "metadata": {},
   "source": [
    "### Nos quedamos con Un solo detector y quality Model"
   ]
  },
  {
   "cell_type": "code",
   "execution_count": 27,
   "metadata": {},
   "outputs": [],
   "source": [
    "df3 = df2.loc[(df2.Detector == 'mtcnn') & (df2.Q_model=='ser_fiq')]\n",
    "df3.reset_index(drop=True, inplace = True)\n"
   ]
  },
  {
   "cell_type": "code",
   "execution_count": 28,
   "metadata": {},
   "outputs": [
    {
     "data": {
      "text/html": [
       "<div>\n",
       "<style scoped>\n",
       "    .dataframe tbody tr th:only-of-type {\n",
       "        vertical-align: middle;\n",
       "    }\n",
       "\n",
       "    .dataframe tbody tr th {\n",
       "        vertical-align: top;\n",
       "    }\n",
       "\n",
       "    .dataframe thead th {\n",
       "        text-align: right;\n",
       "    }\n",
       "</style>\n",
       "<table border=\"1\" class=\"dataframe\">\n",
       "  <thead>\n",
       "    <tr style=\"text-align: right;\">\n",
       "      <th></th>\n",
       "      <th>identity</th>\n",
       "      <th>pitch</th>\n",
       "      <th>angle_pitch</th>\n",
       "      <th>yaw</th>\n",
       "      <th>angle_yaw</th>\n",
       "      <th>roll</th>\n",
       "      <th>angle_roll</th>\n",
       "      <th>source</th>\n",
       "      <th>gender</th>\n",
       "      <th>headgear</th>\n",
       "      <th>...</th>\n",
       "      <th>type</th>\n",
       "      <th>beard</th>\n",
       "      <th>emotion</th>\n",
       "      <th>other_occlusions</th>\n",
       "      <th>race</th>\n",
       "      <th>image_id</th>\n",
       "      <th>Detector</th>\n",
       "      <th>Q_model</th>\n",
       "      <th>Q_group</th>\n",
       "      <th>Quality</th>\n",
       "    </tr>\n",
       "  </thead>\n",
       "  <tbody>\n",
       "    <tr>\n",
       "      <th>0</th>\n",
       "      <td>2011-1-unknown</td>\n",
       "      <td>Pitch.FRONTAL</td>\n",
       "      <td>-1.539315</td>\n",
       "      <td>Yaw.FRONTAL</td>\n",
       "      <td>-2.064884</td>\n",
       "      <td>Roll.FRONTAL</td>\n",
       "      <td>1.668600</td>\n",
       "      <td>ENFSI</td>\n",
       "      <td>Gender.MALE</td>\n",
       "      <td>False</td>\n",
       "      <td>...</td>\n",
       "      <td>enfsiImage</td>\n",
       "      <td>False</td>\n",
       "      <td>Emotion.NEUTRAL</td>\n",
       "      <td>False</td>\n",
       "      <td>Race.WHITE</td>\n",
       "      <td>1</td>\n",
       "      <td>mtcnn</td>\n",
       "      <td>ser_fiq</td>\n",
       "      <td>QualityGroup.HIGH</td>\n",
       "      <td>0.632035</td>\n",
       "    </tr>\n",
       "    <tr>\n",
       "      <th>1</th>\n",
       "      <td>2011-1</td>\n",
       "      <td>Pitch.FRONTAL</td>\n",
       "      <td>8.485744</td>\n",
       "      <td>Yaw.FRONTAL</td>\n",
       "      <td>7.485447</td>\n",
       "      <td>Roll.FRONTAL</td>\n",
       "      <td>0.792988</td>\n",
       "      <td>ENFSI</td>\n",
       "      <td>Gender.MALE</td>\n",
       "      <td>False</td>\n",
       "      <td>...</td>\n",
       "      <td>enfsiImage</td>\n",
       "      <td>False</td>\n",
       "      <td>Emotion.FEAR</td>\n",
       "      <td>False</td>\n",
       "      <td>Race.LATINO</td>\n",
       "      <td>2</td>\n",
       "      <td>mtcnn</td>\n",
       "      <td>ser_fiq</td>\n",
       "      <td>QualityGroup.VERY_HIGH</td>\n",
       "      <td>0.771966</td>\n",
       "    </tr>\n",
       "    <tr>\n",
       "      <th>2</th>\n",
       "      <td>2011-2-unknown</td>\n",
       "      <td>Pitch.FRONTAL</td>\n",
       "      <td>-3.920415</td>\n",
       "      <td>Yaw.FRONTAL</td>\n",
       "      <td>1.548413</td>\n",
       "      <td>Roll.FRONTAL</td>\n",
       "      <td>-0.274244</td>\n",
       "      <td>ENFSI</td>\n",
       "      <td>Gender.MALE</td>\n",
       "      <td>False</td>\n",
       "      <td>...</td>\n",
       "      <td>enfsiImage</td>\n",
       "      <td>True</td>\n",
       "      <td>Emotion.NEUTRAL</td>\n",
       "      <td>False</td>\n",
       "      <td>Race.WHITE</td>\n",
       "      <td>3</td>\n",
       "      <td>mtcnn</td>\n",
       "      <td>ser_fiq</td>\n",
       "      <td>QualityGroup.MEDIUM</td>\n",
       "      <td>0.491990</td>\n",
       "    </tr>\n",
       "    <tr>\n",
       "      <th>3</th>\n",
       "      <td>2011-2</td>\n",
       "      <td>Pitch.FRONTAL</td>\n",
       "      <td>-8.626112</td>\n",
       "      <td>Yaw.FRONTAL</td>\n",
       "      <td>7.159441</td>\n",
       "      <td>Roll.HALF_LEANING</td>\n",
       "      <td>-7.312764</td>\n",
       "      <td>ENFSI</td>\n",
       "      <td>Gender.MALE</td>\n",
       "      <td>False</td>\n",
       "      <td>...</td>\n",
       "      <td>enfsiImage</td>\n",
       "      <td>False</td>\n",
       "      <td>Emotion.SAD</td>\n",
       "      <td>False</td>\n",
       "      <td>Race.ASIAN</td>\n",
       "      <td>4</td>\n",
       "      <td>mtcnn</td>\n",
       "      <td>ser_fiq</td>\n",
       "      <td>QualityGroup.HIGH</td>\n",
       "      <td>0.702496</td>\n",
       "    </tr>\n",
       "    <tr>\n",
       "      <th>4</th>\n",
       "      <td>2011-3</td>\n",
       "      <td>Pitch.FRONTAL</td>\n",
       "      <td>9.193484</td>\n",
       "      <td>Yaw.FRONTAL</td>\n",
       "      <td>8.528775</td>\n",
       "      <td>Roll.FRONTAL</td>\n",
       "      <td>2.590432</td>\n",
       "      <td>ENFSI</td>\n",
       "      <td>Gender.MALE</td>\n",
       "      <td>False</td>\n",
       "      <td>...</td>\n",
       "      <td>enfsiImage</td>\n",
       "      <td>False</td>\n",
       "      <td>Emotion.SAD</td>\n",
       "      <td>False</td>\n",
       "      <td>Race.WHITE</td>\n",
       "      <td>5</td>\n",
       "      <td>mtcnn</td>\n",
       "      <td>ser_fiq</td>\n",
       "      <td>QualityGroup.LOW</td>\n",
       "      <td>0.053961</td>\n",
       "    </tr>\n",
       "    <tr>\n",
       "      <th>...</th>\n",
       "      <td>...</td>\n",
       "      <td>...</td>\n",
       "      <td>...</td>\n",
       "      <td>...</td>\n",
       "      <td>...</td>\n",
       "      <td>...</td>\n",
       "      <td>...</td>\n",
       "      <td>...</td>\n",
       "      <td>...</td>\n",
       "      <td>...</td>\n",
       "      <td>...</td>\n",
       "      <td>...</td>\n",
       "      <td>...</td>\n",
       "      <td>...</td>\n",
       "      <td>...</td>\n",
       "      <td>...</td>\n",
       "      <td>...</td>\n",
       "      <td>...</td>\n",
       "      <td>...</td>\n",
       "      <td>...</td>\n",
       "      <td>...</td>\n",
       "    </tr>\n",
       "    <tr>\n",
       "      <th>58929</th>\n",
       "      <td>064</td>\n",
       "      <td>Pitch.FRONTAL</td>\n",
       "      <td>NaN</td>\n",
       "      <td>Yaw.FRONTAL</td>\n",
       "      <td>NaN</td>\n",
       "      <td>Roll.FRONTAL</td>\n",
       "      <td>NaN</td>\n",
       "      <td>ForenFace</td>\n",
       "      <td>Gender.MALE</td>\n",
       "      <td>True</td>\n",
       "      <td>...</td>\n",
       "      <td>image</td>\n",
       "      <td>None</td>\n",
       "      <td>Emotion.NEUTRAL</td>\n",
       "      <td>None</td>\n",
       "      <td>Race.WHITE</td>\n",
       "      <td>61639</td>\n",
       "      <td>mtcnn</td>\n",
       "      <td>ser_fiq</td>\n",
       "      <td>QualityGroup.LOW</td>\n",
       "      <td>0.014163</td>\n",
       "    </tr>\n",
       "    <tr>\n",
       "      <th>58930</th>\n",
       "      <td>073</td>\n",
       "      <td>Pitch.FRONTAL</td>\n",
       "      <td>NaN</td>\n",
       "      <td>Yaw.FRONTAL</td>\n",
       "      <td>NaN</td>\n",
       "      <td>Roll.FRONTAL</td>\n",
       "      <td>NaN</td>\n",
       "      <td>ForenFace</td>\n",
       "      <td>Gender.MALE</td>\n",
       "      <td>False</td>\n",
       "      <td>...</td>\n",
       "      <td>image</td>\n",
       "      <td>None</td>\n",
       "      <td>Emotion.NEUTRAL</td>\n",
       "      <td>None</td>\n",
       "      <td>Race.WHITE</td>\n",
       "      <td>61640</td>\n",
       "      <td>mtcnn</td>\n",
       "      <td>ser_fiq</td>\n",
       "      <td>QualityGroup.MEDIUM</td>\n",
       "      <td>0.426552</td>\n",
       "    </tr>\n",
       "    <tr>\n",
       "      <th>58931</th>\n",
       "      <td>001</td>\n",
       "      <td>Pitch.FRONTAL</td>\n",
       "      <td>NaN</td>\n",
       "      <td>Yaw.PROFILE</td>\n",
       "      <td>NaN</td>\n",
       "      <td>None</td>\n",
       "      <td>NaN</td>\n",
       "      <td>ForenFace</td>\n",
       "      <td>Gender.MALE</td>\n",
       "      <td>False</td>\n",
       "      <td>...</td>\n",
       "      <td>image</td>\n",
       "      <td>None</td>\n",
       "      <td>Emotion.SAD</td>\n",
       "      <td>None</td>\n",
       "      <td>Race.WHITE</td>\n",
       "      <td>61641</td>\n",
       "      <td>mtcnn</td>\n",
       "      <td>ser_fiq</td>\n",
       "      <td>QualityGroup.VERY_LOW</td>\n",
       "      <td>0.001988</td>\n",
       "    </tr>\n",
       "    <tr>\n",
       "      <th>58932</th>\n",
       "      <td>053</td>\n",
       "      <td>Pitch.FRONTAL</td>\n",
       "      <td>NaN</td>\n",
       "      <td>Yaw.FRONTAL</td>\n",
       "      <td>NaN</td>\n",
       "      <td>Roll.FRONTAL</td>\n",
       "      <td>NaN</td>\n",
       "      <td>ForenFace</td>\n",
       "      <td>Gender.FEMALE</td>\n",
       "      <td>False</td>\n",
       "      <td>...</td>\n",
       "      <td>image</td>\n",
       "      <td>None</td>\n",
       "      <td>Emotion.NEUTRAL</td>\n",
       "      <td>None</td>\n",
       "      <td>Race.WHITE</td>\n",
       "      <td>61642</td>\n",
       "      <td>mtcnn</td>\n",
       "      <td>ser_fiq</td>\n",
       "      <td>QualityGroup.HIGH</td>\n",
       "      <td>0.733252</td>\n",
       "    </tr>\n",
       "    <tr>\n",
       "      <th>58933</th>\n",
       "      <td>006</td>\n",
       "      <td>Pitch.FRONTAL</td>\n",
       "      <td>NaN</td>\n",
       "      <td>Yaw.FRONTAL</td>\n",
       "      <td>NaN</td>\n",
       "      <td>Roll.FRONTAL</td>\n",
       "      <td>NaN</td>\n",
       "      <td>ForenFace</td>\n",
       "      <td>Gender.MALE</td>\n",
       "      <td>True</td>\n",
       "      <td>...</td>\n",
       "      <td>image</td>\n",
       "      <td>None</td>\n",
       "      <td>Emotion.SAD</td>\n",
       "      <td>None</td>\n",
       "      <td>Race.WHITE</td>\n",
       "      <td>61643</td>\n",
       "      <td>mtcnn</td>\n",
       "      <td>ser_fiq</td>\n",
       "      <td>QualityGroup.LOW</td>\n",
       "      <td>0.020641</td>\n",
       "    </tr>\n",
       "  </tbody>\n",
       "</table>\n",
       "<p>58934 rows × 23 columns</p>\n",
       "</div>"
      ],
      "text/plain": [
       "             identity          pitch  angle_pitch          yaw  angle_yaw  \\\n",
       "0      2011-1-unknown  Pitch.FRONTAL    -1.539315  Yaw.FRONTAL  -2.064884   \n",
       "1              2011-1  Pitch.FRONTAL     8.485744  Yaw.FRONTAL   7.485447   \n",
       "2      2011-2-unknown  Pitch.FRONTAL    -3.920415  Yaw.FRONTAL   1.548413   \n",
       "3              2011-2  Pitch.FRONTAL    -8.626112  Yaw.FRONTAL   7.159441   \n",
       "4              2011-3  Pitch.FRONTAL     9.193484  Yaw.FRONTAL   8.528775   \n",
       "...               ...            ...          ...          ...        ...   \n",
       "58929             064  Pitch.FRONTAL          NaN  Yaw.FRONTAL        NaN   \n",
       "58930             073  Pitch.FRONTAL          NaN  Yaw.FRONTAL        NaN   \n",
       "58931             001  Pitch.FRONTAL          NaN  Yaw.PROFILE        NaN   \n",
       "58932             053  Pitch.FRONTAL          NaN  Yaw.FRONTAL        NaN   \n",
       "58933             006  Pitch.FRONTAL          NaN  Yaw.FRONTAL        NaN   \n",
       "\n",
       "                    roll  angle_roll     source         gender headgear  ...  \\\n",
       "0           Roll.FRONTAL    1.668600      ENFSI    Gender.MALE    False  ...   \n",
       "1           Roll.FRONTAL    0.792988      ENFSI    Gender.MALE    False  ...   \n",
       "2           Roll.FRONTAL   -0.274244      ENFSI    Gender.MALE    False  ...   \n",
       "3      Roll.HALF_LEANING   -7.312764      ENFSI    Gender.MALE    False  ...   \n",
       "4           Roll.FRONTAL    2.590432      ENFSI    Gender.MALE    False  ...   \n",
       "...                  ...         ...        ...            ...      ...  ...   \n",
       "58929       Roll.FRONTAL         NaN  ForenFace    Gender.MALE     True  ...   \n",
       "58930       Roll.FRONTAL         NaN  ForenFace    Gender.MALE    False  ...   \n",
       "58931               None         NaN  ForenFace    Gender.MALE    False  ...   \n",
       "58932       Roll.FRONTAL         NaN  ForenFace  Gender.FEMALE    False  ...   \n",
       "58933       Roll.FRONTAL         NaN  ForenFace    Gender.MALE     True  ...   \n",
       "\n",
       "             type  beard          emotion other_occlusions         race  \\\n",
       "0      enfsiImage  False  Emotion.NEUTRAL            False   Race.WHITE   \n",
       "1      enfsiImage  False     Emotion.FEAR            False  Race.LATINO   \n",
       "2      enfsiImage   True  Emotion.NEUTRAL            False   Race.WHITE   \n",
       "3      enfsiImage  False      Emotion.SAD            False   Race.ASIAN   \n",
       "4      enfsiImage  False      Emotion.SAD            False   Race.WHITE   \n",
       "...           ...    ...              ...              ...          ...   \n",
       "58929       image   None  Emotion.NEUTRAL             None   Race.WHITE   \n",
       "58930       image   None  Emotion.NEUTRAL             None   Race.WHITE   \n",
       "58931       image   None      Emotion.SAD             None   Race.WHITE   \n",
       "58932       image   None  Emotion.NEUTRAL             None   Race.WHITE   \n",
       "58933       image   None      Emotion.SAD             None   Race.WHITE   \n",
       "\n",
       "      image_id Detector  Q_model                 Q_group   Quality  \n",
       "0            1    mtcnn  ser_fiq       QualityGroup.HIGH  0.632035  \n",
       "1            2    mtcnn  ser_fiq  QualityGroup.VERY_HIGH  0.771966  \n",
       "2            3    mtcnn  ser_fiq     QualityGroup.MEDIUM  0.491990  \n",
       "3            4    mtcnn  ser_fiq       QualityGroup.HIGH  0.702496  \n",
       "4            5    mtcnn  ser_fiq        QualityGroup.LOW  0.053961  \n",
       "...        ...      ...      ...                     ...       ...  \n",
       "58929    61639    mtcnn  ser_fiq        QualityGroup.LOW  0.014163  \n",
       "58930    61640    mtcnn  ser_fiq     QualityGroup.MEDIUM  0.426552  \n",
       "58931    61641    mtcnn  ser_fiq   QualityGroup.VERY_LOW  0.001988  \n",
       "58932    61642    mtcnn  ser_fiq       QualityGroup.HIGH  0.733252  \n",
       "58933    61643    mtcnn  ser_fiq        QualityGroup.LOW  0.020641  \n",
       "\n",
       "[58934 rows x 23 columns]"
      ]
     },
     "execution_count": 28,
     "metadata": {},
     "output_type": "execute_result"
    }
   ],
   "source": [
    "df3"
   ]
  },
  {
   "attachments": {},
   "cell_type": "markdown",
   "metadata": {},
   "source": [
    "### Convertimos en string los Enums y nos quedamos con las columnas que queremos"
   ]
  },
  {
   "cell_type": "code",
   "execution_count": 31,
   "metadata": {},
   "outputs": [],
   "source": [
    "#df3 = df2.copy()\n",
    "#convertimos a String los Enum\n",
    "variables = ['gender','yaw','emotion','race']#'Q_group','pitch','roll',\n",
    "#df_plot = df.Quality\n",
    "for var in variables:\n",
    "    df3[var] = df3[var].apply(lambda x: x.value if x else None)\n",
    "\n",
    "\n",
    "variables += ['source','Quality','Detector', 'Q_model']\n",
    "df_plot = df3[variables]"
   ]
  },
  {
   "cell_type": "code",
   "execution_count": 32,
   "metadata": {},
   "outputs": [
    {
     "data": {
      "text/plain": [
       "Index(['gender', 'yaw', 'emotion', 'race', 'source', 'Quality', 'Detector',\n",
       "       'Q_model'],\n",
       "      dtype='object')"
      ]
     },
     "execution_count": 32,
     "metadata": {},
     "output_type": "execute_result"
    }
   ],
   "source": [
    "df_plot.columns"
   ]
  },
  {
   "cell_type": "code",
   "execution_count": 33,
   "metadata": {},
   "outputs": [
    {
     "data": {
      "text/plain": [
       "Q_model  Detector  source   \n",
       "ser_fiq  mtcnn     UTKface      24059\n",
       "                   LFW          13233\n",
       "                   XQLFW        13159\n",
       "                   SCFace        3882\n",
       "                   ForenFace     2371\n",
       "                   ENFSI         2230\n",
       "dtype: int64"
      ]
     },
     "execution_count": 33,
     "metadata": {},
     "output_type": "execute_result"
    }
   ],
   "source": [
    "df_plot[['Q_model','Detector','source']].groupby(['Q_model','Detector']).value_counts()"
   ]
  },
  {
   "attachments": {},
   "cell_type": "markdown",
   "metadata": {},
   "source": [
    "# Separamos por source"
   ]
  },
  {
   "cell_type": "code",
   "execution_count": 34,
   "metadata": {},
   "outputs": [],
   "source": [
    "dict = {}\n",
    "for source in np.unique(df_plot.source):\n",
    "    dict[source]= df_plot.loc[df_plot.source == source]"
   ]
  },
  {
   "attachments": {},
   "cell_type": "markdown",
   "metadata": {},
   "source": [
    "## definimos la función de ploteo"
   ]
  },
  {
   "cell_type": "code",
   "execution_count": 47,
   "metadata": {},
   "outputs": [],
   "source": [
    "def plot_sun(source):\n",
    "    df_x = dict[source]\n",
    "    df_x.dropna(inplace=True)\n",
    "    fig = px.sunburst(df_x, path=['gender','race','yaw','emotion'],   color=\"Quality\",\n",
    "                  color_continuous_scale=\"Viridis\",\n",
    "                  range_color=[0, 1],title=source) #values=\"gender\"#\"Q_model\", \"Detector\",\n",
    "    #fig.update_layout(title=source)\n",
    "    #img_data = pio.to_image(fig,format='png',scale=3)\n",
    "\n",
    "    pio.write_image(fig,os.path.join(input_dir,source+\"_sunburst_21.png\"),format='png', scale=6)\n",
    "    fig.show()"
   ]
  },
  {
   "cell_type": "code",
   "execution_count": null,
   "metadata": {},
   "outputs": [],
   "source": [
    "# df_x = dict[source].drop('race',axis=1)"
   ]
  },
  {
   "cell_type": "code",
   "execution_count": 37,
   "metadata": {},
   "outputs": [
    {
     "data": {
      "text/plain": [
       "dict_keys(['ENFSI', 'ForenFace', 'LFW', 'SCFace', 'UTKface', 'XQLFW'])"
      ]
     },
     "execution_count": 37,
     "metadata": {},
     "output_type": "execute_result"
    }
   ],
   "source": [
    "dict.keys()"
   ]
  },
  {
   "attachments": {},
   "cell_type": "markdown",
   "metadata": {},
   "source": [
    "## Definimos las sources que queremos y hacemos el plot (y se gueardan en disco)"
   ]
  },
  {
   "cell_type": "code",
   "execution_count": 41,
   "metadata": {},
   "outputs": [],
   "source": [
    "sources = [ 'ForenFace', 'LFW', 'SCFace',  'XQLFW']"
   ]
  },
  {
   "cell_type": "code",
   "execution_count": 48,
   "metadata": {},
   "outputs": [
    {
     "data": {
      "application/vnd.plotly.v1+json": {
       "config": {
        "plotlyServerURL": "https://plot.ly"
       },
       "data": [
        {
         "branchvalues": "total",
         "customdata": [
          [
           0.004813522567412465
          ],
          [
           0.0013103930815686411
          ],
          [
           0.018640658759064094
          ],
          [
           0.003080165631646477
          ],
          [
           0.298709090581314
          ],
          [
           0.38281563164795995
          ],
          [
           0.5002538900423026
          ],
          [
           0.4206662863877307
          ],
          [
           0.005218007363602586
          ],
          [
           0.0030484470177908063
          ],
          [
           0.0393647247220493
          ],
          [
           0.09218617435210433
          ],
          [
           0.2679507461659858
          ],
          [
           0.19294769946805473
          ],
          [
           0.0069921799606205625
          ],
          [
           0.0010817586213298373
          ],
          [
           0.1298170679871032
          ],
          [
           0.003158520873386316
          ],
          [
           0.3754893640844863
          ],
          [
           0.34486289984135843
          ],
          [
           0.005541557856140338
          ],
          [
           0.006294258151196118
          ],
          [
           0.05123268843262664
          ],
          [
           0.010649589521718314
          ],
          [
           0.30614383561167574
          ],
          [
           0.31755870843811274
          ],
          [
           0.005113446072291773
          ],
          [
           0.003967911293782787
          ],
          [
           0.02251366029114906
          ],
          [
           0.011347783837062673
          ],
          [
           0.23536264481159233
          ],
          [
           0.2713108464882178
          ],
          [
           0.00038900093308004197
          ],
          [
           0.01342736575112975
          ],
          [
           0.06154053566402161
          ],
          [
           0.30742667931978346
          ],
          [
           0.2166911846305013
          ],
          [
           0.005354123876744365
          ],
          [
           0.00436161604905407
          ],
          [
           0.03650880992626537
          ],
          [
           0.022996338828032845
          ],
          [
           0.296894577725344
          ],
          [
           0.2969464458170152
          ],
          [
           0.2489483695902138
          ],
          [
           0.24652463535609598
          ],
          [
           0.2489483695902138
          ],
          [
           0.24652463535609598
          ]
         ],
         "domain": {
          "x": [
           0,
           1
          ],
          "y": [
           0,
           1
          ]
         },
         "hovertemplate": "labels=%{label}<br>count=%{value}<br>parent=%{parent}<br>id=%{id}<br>Quality=%{color}<extra></extra>",
         "ids": [
          "Man/white/sideways/angry",
          "Woman/white/sideways/angry",
          "Man/white/slightly_turned/angry",
          "Woman/white/slightly_turned/angry",
          "Man/white/straight/angry",
          "Woman/white/straight/angry",
          "Man/white/straight/disgust",
          "Woman/white/straight/disgust",
          "Man/white/sideways/fear",
          "Woman/white/sideways/fear",
          "Man/white/slightly_turned/fear",
          "Woman/white/slightly_turned/fear",
          "Man/white/straight/fear",
          "Woman/white/straight/fear",
          "Man/white/sideways/happy",
          "Woman/white/sideways/happy",
          "Man/white/slightly_turned/happy",
          "Woman/white/slightly_turned/happy",
          "Man/white/straight/happy",
          "Woman/white/straight/happy",
          "Man/white/sideways/neutral",
          "Woman/white/sideways/neutral",
          "Man/white/slightly_turned/neutral",
          "Woman/white/slightly_turned/neutral",
          "Man/white/straight/neutral",
          "Woman/white/straight/neutral",
          "Man/white/sideways/sad",
          "Woman/white/sideways/sad",
          "Man/white/slightly_turned/sad",
          "Woman/white/slightly_turned/sad",
          "Man/white/straight/sad",
          "Woman/white/straight/sad",
          "Man/white/sideways/surprise",
          "Man/white/slightly_turned/surprise",
          "Woman/white/slightly_turned/surprise",
          "Man/white/straight/surprise",
          "Woman/white/straight/surprise",
          "Man/white/sideways",
          "Woman/white/sideways",
          "Man/white/slightly_turned",
          "Woman/white/slightly_turned",
          "Man/white/straight",
          "Woman/white/straight",
          "Man/white",
          "Woman/white",
          "Man",
          "Woman"
         ],
         "labels": [
          "angry",
          "angry",
          "angry",
          "angry",
          "angry",
          "angry",
          "disgust",
          "disgust",
          "fear",
          "fear",
          "fear",
          "fear",
          "fear",
          "fear",
          "happy",
          "happy",
          "happy",
          "happy",
          "happy",
          "happy",
          "neutral",
          "neutral",
          "neutral",
          "neutral",
          "neutral",
          "neutral",
          "sad",
          "sad",
          "sad",
          "sad",
          "sad",
          "sad",
          "surprise",
          "surprise",
          "surprise",
          "surprise",
          "surprise",
          "sideways",
          "sideways",
          "slightly_turned",
          "slightly_turned",
          "straight",
          "straight",
          "white",
          "white",
          "Man",
          "Woman"
         ],
         "marker": {
          "coloraxis": "coloraxis",
          "colors": [
           0.004813522567412465,
           0.0013103930815686411,
           0.018640658759064094,
           0.003080165631646477,
           0.298709090581314,
           0.38281563164795995,
           0.5002538900423026,
           0.4206662863877307,
           0.005218007363602586,
           0.0030484470177908063,
           0.0393647247220493,
           0.09218617435210433,
           0.2679507461659858,
           0.19294769946805473,
           0.0069921799606205625,
           0.0010817586213298373,
           0.1298170679871032,
           0.003158520873386316,
           0.3754893640844863,
           0.34486289984135843,
           0.005541557856140338,
           0.006294258151196118,
           0.05123268843262664,
           0.010649589521718314,
           0.30614383561167574,
           0.31755870843811274,
           0.005113446072291773,
           0.003967911293782787,
           0.02251366029114906,
           0.011347783837062673,
           0.23536264481159233,
           0.2713108464882178,
           0.00038900093308004197,
           0.01342736575112975,
           0.06154053566402161,
           0.30742667931978346,
           0.2166911846305013,
           0.005354123876744365,
           0.00436161604905407,
           0.03650880992626537,
           0.022996338828032845,
           0.296894577725344,
           0.2969464458170152,
           0.2489483695902138,
           0.24652463535609598,
           0.2489483695902138,
           0.24652463535609598
          ]
         },
         "name": "",
         "parents": [
          "Man/white/sideways",
          "Woman/white/sideways",
          "Man/white/slightly_turned",
          "Woman/white/slightly_turned",
          "Man/white/straight",
          "Woman/white/straight",
          "Man/white/straight",
          "Woman/white/straight",
          "Man/white/sideways",
          "Woman/white/sideways",
          "Man/white/slightly_turned",
          "Woman/white/slightly_turned",
          "Man/white/straight",
          "Woman/white/straight",
          "Man/white/sideways",
          "Woman/white/sideways",
          "Man/white/slightly_turned",
          "Woman/white/slightly_turned",
          "Man/white/straight",
          "Woman/white/straight",
          "Man/white/sideways",
          "Woman/white/sideways",
          "Man/white/slightly_turned",
          "Woman/white/slightly_turned",
          "Man/white/straight",
          "Woman/white/straight",
          "Man/white/sideways",
          "Woman/white/sideways",
          "Man/white/slightly_turned",
          "Woman/white/slightly_turned",
          "Man/white/straight",
          "Woman/white/straight",
          "Man/white/sideways",
          "Man/white/slightly_turned",
          "Woman/white/slightly_turned",
          "Man/white/straight",
          "Woman/white/straight",
          "Man/white",
          "Woman/white",
          "Man/white",
          "Woman/white",
          "Man/white",
          "Woman/white",
          "Man",
          "Woman",
          "",
          ""
         ],
         "type": "sunburst",
         "values": [
          3,
          1,
          28,
          2,
          115,
          19,
          4,
          1,
          32,
          5,
          12,
          4,
          219,
          43,
          9,
          2,
          4,
          3,
          194,
          41,
          64,
          10,
          63,
          9,
          710,
          99,
          45,
          8,
          58,
          9,
          270,
          44,
          2,
          1,
          1,
          11,
          2,
          155,
          26,
          166,
          28,
          1523,
          249,
          1844,
          303,
          1844,
          303
         ]
        }
       ],
       "layout": {
        "coloraxis": {
         "cmax": 1,
         "cmin": 0,
         "colorbar": {
          "title": {
           "text": "Quality"
          }
         },
         "colorscale": [
          [
           0,
           "#440154"
          ],
          [
           0.1111111111111111,
           "#482878"
          ],
          [
           0.2222222222222222,
           "#3e4989"
          ],
          [
           0.3333333333333333,
           "#31688e"
          ],
          [
           0.4444444444444444,
           "#26828e"
          ],
          [
           0.5555555555555556,
           "#1f9e89"
          ],
          [
           0.6666666666666666,
           "#35b779"
          ],
          [
           0.7777777777777778,
           "#6ece58"
          ],
          [
           0.8888888888888888,
           "#b5de2b"
          ],
          [
           1,
           "#fde725"
          ]
         ]
        },
        "legend": {
         "tracegroupgap": 0
        },
        "template": {
         "data": {
          "bar": [
           {
            "error_x": {
             "color": "#2a3f5f"
            },
            "error_y": {
             "color": "#2a3f5f"
            },
            "marker": {
             "line": {
              "color": "#E5ECF6",
              "width": 0.5
             },
             "pattern": {
              "fillmode": "overlay",
              "size": 10,
              "solidity": 0.2
             }
            },
            "type": "bar"
           }
          ],
          "barpolar": [
           {
            "marker": {
             "line": {
              "color": "#E5ECF6",
              "width": 0.5
             },
             "pattern": {
              "fillmode": "overlay",
              "size": 10,
              "solidity": 0.2
             }
            },
            "type": "barpolar"
           }
          ],
          "carpet": [
           {
            "aaxis": {
             "endlinecolor": "#2a3f5f",
             "gridcolor": "white",
             "linecolor": "white",
             "minorgridcolor": "white",
             "startlinecolor": "#2a3f5f"
            },
            "baxis": {
             "endlinecolor": "#2a3f5f",
             "gridcolor": "white",
             "linecolor": "white",
             "minorgridcolor": "white",
             "startlinecolor": "#2a3f5f"
            },
            "type": "carpet"
           }
          ],
          "choropleth": [
           {
            "colorbar": {
             "outlinewidth": 0,
             "ticks": ""
            },
            "type": "choropleth"
           }
          ],
          "contour": [
           {
            "colorbar": {
             "outlinewidth": 0,
             "ticks": ""
            },
            "colorscale": [
             [
              0,
              "#0d0887"
             ],
             [
              0.1111111111111111,
              "#46039f"
             ],
             [
              0.2222222222222222,
              "#7201a8"
             ],
             [
              0.3333333333333333,
              "#9c179e"
             ],
             [
              0.4444444444444444,
              "#bd3786"
             ],
             [
              0.5555555555555556,
              "#d8576b"
             ],
             [
              0.6666666666666666,
              "#ed7953"
             ],
             [
              0.7777777777777778,
              "#fb9f3a"
             ],
             [
              0.8888888888888888,
              "#fdca26"
             ],
             [
              1,
              "#f0f921"
             ]
            ],
            "type": "contour"
           }
          ],
          "contourcarpet": [
           {
            "colorbar": {
             "outlinewidth": 0,
             "ticks": ""
            },
            "type": "contourcarpet"
           }
          ],
          "heatmap": [
           {
            "colorbar": {
             "outlinewidth": 0,
             "ticks": ""
            },
            "colorscale": [
             [
              0,
              "#0d0887"
             ],
             [
              0.1111111111111111,
              "#46039f"
             ],
             [
              0.2222222222222222,
              "#7201a8"
             ],
             [
              0.3333333333333333,
              "#9c179e"
             ],
             [
              0.4444444444444444,
              "#bd3786"
             ],
             [
              0.5555555555555556,
              "#d8576b"
             ],
             [
              0.6666666666666666,
              "#ed7953"
             ],
             [
              0.7777777777777778,
              "#fb9f3a"
             ],
             [
              0.8888888888888888,
              "#fdca26"
             ],
             [
              1,
              "#f0f921"
             ]
            ],
            "type": "heatmap"
           }
          ],
          "heatmapgl": [
           {
            "colorbar": {
             "outlinewidth": 0,
             "ticks": ""
            },
            "colorscale": [
             [
              0,
              "#0d0887"
             ],
             [
              0.1111111111111111,
              "#46039f"
             ],
             [
              0.2222222222222222,
              "#7201a8"
             ],
             [
              0.3333333333333333,
              "#9c179e"
             ],
             [
              0.4444444444444444,
              "#bd3786"
             ],
             [
              0.5555555555555556,
              "#d8576b"
             ],
             [
              0.6666666666666666,
              "#ed7953"
             ],
             [
              0.7777777777777778,
              "#fb9f3a"
             ],
             [
              0.8888888888888888,
              "#fdca26"
             ],
             [
              1,
              "#f0f921"
             ]
            ],
            "type": "heatmapgl"
           }
          ],
          "histogram": [
           {
            "marker": {
             "pattern": {
              "fillmode": "overlay",
              "size": 10,
              "solidity": 0.2
             }
            },
            "type": "histogram"
           }
          ],
          "histogram2d": [
           {
            "colorbar": {
             "outlinewidth": 0,
             "ticks": ""
            },
            "colorscale": [
             [
              0,
              "#0d0887"
             ],
             [
              0.1111111111111111,
              "#46039f"
             ],
             [
              0.2222222222222222,
              "#7201a8"
             ],
             [
              0.3333333333333333,
              "#9c179e"
             ],
             [
              0.4444444444444444,
              "#bd3786"
             ],
             [
              0.5555555555555556,
              "#d8576b"
             ],
             [
              0.6666666666666666,
              "#ed7953"
             ],
             [
              0.7777777777777778,
              "#fb9f3a"
             ],
             [
              0.8888888888888888,
              "#fdca26"
             ],
             [
              1,
              "#f0f921"
             ]
            ],
            "type": "histogram2d"
           }
          ],
          "histogram2dcontour": [
           {
            "colorbar": {
             "outlinewidth": 0,
             "ticks": ""
            },
            "colorscale": [
             [
              0,
              "#0d0887"
             ],
             [
              0.1111111111111111,
              "#46039f"
             ],
             [
              0.2222222222222222,
              "#7201a8"
             ],
             [
              0.3333333333333333,
              "#9c179e"
             ],
             [
              0.4444444444444444,
              "#bd3786"
             ],
             [
              0.5555555555555556,
              "#d8576b"
             ],
             [
              0.6666666666666666,
              "#ed7953"
             ],
             [
              0.7777777777777778,
              "#fb9f3a"
             ],
             [
              0.8888888888888888,
              "#fdca26"
             ],
             [
              1,
              "#f0f921"
             ]
            ],
            "type": "histogram2dcontour"
           }
          ],
          "mesh3d": [
           {
            "colorbar": {
             "outlinewidth": 0,
             "ticks": ""
            },
            "type": "mesh3d"
           }
          ],
          "parcoords": [
           {
            "line": {
             "colorbar": {
              "outlinewidth": 0,
              "ticks": ""
             }
            },
            "type": "parcoords"
           }
          ],
          "pie": [
           {
            "automargin": true,
            "type": "pie"
           }
          ],
          "scatter": [
           {
            "fillpattern": {
             "fillmode": "overlay",
             "size": 10,
             "solidity": 0.2
            },
            "type": "scatter"
           }
          ],
          "scatter3d": [
           {
            "line": {
             "colorbar": {
              "outlinewidth": 0,
              "ticks": ""
             }
            },
            "marker": {
             "colorbar": {
              "outlinewidth": 0,
              "ticks": ""
             }
            },
            "type": "scatter3d"
           }
          ],
          "scattercarpet": [
           {
            "marker": {
             "colorbar": {
              "outlinewidth": 0,
              "ticks": ""
             }
            },
            "type": "scattercarpet"
           }
          ],
          "scattergeo": [
           {
            "marker": {
             "colorbar": {
              "outlinewidth": 0,
              "ticks": ""
             }
            },
            "type": "scattergeo"
           }
          ],
          "scattergl": [
           {
            "marker": {
             "colorbar": {
              "outlinewidth": 0,
              "ticks": ""
             }
            },
            "type": "scattergl"
           }
          ],
          "scattermapbox": [
           {
            "marker": {
             "colorbar": {
              "outlinewidth": 0,
              "ticks": ""
             }
            },
            "type": "scattermapbox"
           }
          ],
          "scatterpolar": [
           {
            "marker": {
             "colorbar": {
              "outlinewidth": 0,
              "ticks": ""
             }
            },
            "type": "scatterpolar"
           }
          ],
          "scatterpolargl": [
           {
            "marker": {
             "colorbar": {
              "outlinewidth": 0,
              "ticks": ""
             }
            },
            "type": "scatterpolargl"
           }
          ],
          "scatterternary": [
           {
            "marker": {
             "colorbar": {
              "outlinewidth": 0,
              "ticks": ""
             }
            },
            "type": "scatterternary"
           }
          ],
          "surface": [
           {
            "colorbar": {
             "outlinewidth": 0,
             "ticks": ""
            },
            "colorscale": [
             [
              0,
              "#0d0887"
             ],
             [
              0.1111111111111111,
              "#46039f"
             ],
             [
              0.2222222222222222,
              "#7201a8"
             ],
             [
              0.3333333333333333,
              "#9c179e"
             ],
             [
              0.4444444444444444,
              "#bd3786"
             ],
             [
              0.5555555555555556,
              "#d8576b"
             ],
             [
              0.6666666666666666,
              "#ed7953"
             ],
             [
              0.7777777777777778,
              "#fb9f3a"
             ],
             [
              0.8888888888888888,
              "#fdca26"
             ],
             [
              1,
              "#f0f921"
             ]
            ],
            "type": "surface"
           }
          ],
          "table": [
           {
            "cells": {
             "fill": {
              "color": "#EBF0F8"
             },
             "line": {
              "color": "white"
             }
            },
            "header": {
             "fill": {
              "color": "#C8D4E3"
             },
             "line": {
              "color": "white"
             }
            },
            "type": "table"
           }
          ]
         },
         "layout": {
          "annotationdefaults": {
           "arrowcolor": "#2a3f5f",
           "arrowhead": 0,
           "arrowwidth": 1
          },
          "autotypenumbers": "strict",
          "coloraxis": {
           "colorbar": {
            "outlinewidth": 0,
            "ticks": ""
           }
          },
          "colorscale": {
           "diverging": [
            [
             0,
             "#8e0152"
            ],
            [
             0.1,
             "#c51b7d"
            ],
            [
             0.2,
             "#de77ae"
            ],
            [
             0.3,
             "#f1b6da"
            ],
            [
             0.4,
             "#fde0ef"
            ],
            [
             0.5,
             "#f7f7f7"
            ],
            [
             0.6,
             "#e6f5d0"
            ],
            [
             0.7,
             "#b8e186"
            ],
            [
             0.8,
             "#7fbc41"
            ],
            [
             0.9,
             "#4d9221"
            ],
            [
             1,
             "#276419"
            ]
           ],
           "sequential": [
            [
             0,
             "#0d0887"
            ],
            [
             0.1111111111111111,
             "#46039f"
            ],
            [
             0.2222222222222222,
             "#7201a8"
            ],
            [
             0.3333333333333333,
             "#9c179e"
            ],
            [
             0.4444444444444444,
             "#bd3786"
            ],
            [
             0.5555555555555556,
             "#d8576b"
            ],
            [
             0.6666666666666666,
             "#ed7953"
            ],
            [
             0.7777777777777778,
             "#fb9f3a"
            ],
            [
             0.8888888888888888,
             "#fdca26"
            ],
            [
             1,
             "#f0f921"
            ]
           ],
           "sequentialminus": [
            [
             0,
             "#0d0887"
            ],
            [
             0.1111111111111111,
             "#46039f"
            ],
            [
             0.2222222222222222,
             "#7201a8"
            ],
            [
             0.3333333333333333,
             "#9c179e"
            ],
            [
             0.4444444444444444,
             "#bd3786"
            ],
            [
             0.5555555555555556,
             "#d8576b"
            ],
            [
             0.6666666666666666,
             "#ed7953"
            ],
            [
             0.7777777777777778,
             "#fb9f3a"
            ],
            [
             0.8888888888888888,
             "#fdca26"
            ],
            [
             1,
             "#f0f921"
            ]
           ]
          },
          "colorway": [
           "#636efa",
           "#EF553B",
           "#00cc96",
           "#ab63fa",
           "#FFA15A",
           "#19d3f3",
           "#FF6692",
           "#B6E880",
           "#FF97FF",
           "#FECB52"
          ],
          "font": {
           "color": "#2a3f5f"
          },
          "geo": {
           "bgcolor": "white",
           "lakecolor": "white",
           "landcolor": "#E5ECF6",
           "showlakes": true,
           "showland": true,
           "subunitcolor": "white"
          },
          "hoverlabel": {
           "align": "left"
          },
          "hovermode": "closest",
          "mapbox": {
           "style": "light"
          },
          "paper_bgcolor": "white",
          "plot_bgcolor": "#E5ECF6",
          "polar": {
           "angularaxis": {
            "gridcolor": "white",
            "linecolor": "white",
            "ticks": ""
           },
           "bgcolor": "#E5ECF6",
           "radialaxis": {
            "gridcolor": "white",
            "linecolor": "white",
            "ticks": ""
           }
          },
          "scene": {
           "xaxis": {
            "backgroundcolor": "#E5ECF6",
            "gridcolor": "white",
            "gridwidth": 2,
            "linecolor": "white",
            "showbackground": true,
            "ticks": "",
            "zerolinecolor": "white"
           },
           "yaxis": {
            "backgroundcolor": "#E5ECF6",
            "gridcolor": "white",
            "gridwidth": 2,
            "linecolor": "white",
            "showbackground": true,
            "ticks": "",
            "zerolinecolor": "white"
           },
           "zaxis": {
            "backgroundcolor": "#E5ECF6",
            "gridcolor": "white",
            "gridwidth": 2,
            "linecolor": "white",
            "showbackground": true,
            "ticks": "",
            "zerolinecolor": "white"
           }
          },
          "shapedefaults": {
           "line": {
            "color": "#2a3f5f"
           }
          },
          "ternary": {
           "aaxis": {
            "gridcolor": "white",
            "linecolor": "white",
            "ticks": ""
           },
           "baxis": {
            "gridcolor": "white",
            "linecolor": "white",
            "ticks": ""
           },
           "bgcolor": "#E5ECF6",
           "caxis": {
            "gridcolor": "white",
            "linecolor": "white",
            "ticks": ""
           }
          },
          "title": {
           "x": 0.05
          },
          "xaxis": {
           "automargin": true,
           "gridcolor": "white",
           "linecolor": "white",
           "ticks": "",
           "title": {
            "standoff": 15
           },
           "zerolinecolor": "white",
           "zerolinewidth": 2
          },
          "yaxis": {
           "automargin": true,
           "gridcolor": "white",
           "linecolor": "white",
           "ticks": "",
           "title": {
            "standoff": 15
           },
           "zerolinecolor": "white",
           "zerolinewidth": 2
          }
         }
        },
        "title": {
         "text": "ForenFace"
        }
       }
      },
      "text/html": [
       "<div>                            <div id=\"7a81dd13-aeea-4f41-a883-5d74e214806a\" class=\"plotly-graph-div\" style=\"height:525px; width:100%;\"></div>            <script type=\"text/javascript\">                require([\"plotly\"], function(Plotly) {                    window.PLOTLYENV=window.PLOTLYENV || {};                                    if (document.getElementById(\"7a81dd13-aeea-4f41-a883-5d74e214806a\")) {                    Plotly.newPlot(                        \"7a81dd13-aeea-4f41-a883-5d74e214806a\",                        [{\"branchvalues\":\"total\",\"customdata\":[[0.004813522567412465],[0.0013103930815686411],[0.018640658759064094],[0.003080165631646477],[0.298709090581314],[0.38281563164795995],[0.5002538900423026],[0.4206662863877307],[0.005218007363602586],[0.0030484470177908063],[0.0393647247220493],[0.09218617435210433],[0.2679507461659858],[0.19294769946805473],[0.0069921799606205625],[0.0010817586213298373],[0.1298170679871032],[0.003158520873386316],[0.3754893640844863],[0.34486289984135843],[0.005541557856140338],[0.006294258151196118],[0.05123268843262664],[0.010649589521718314],[0.30614383561167574],[0.31755870843811274],[0.005113446072291773],[0.003967911293782787],[0.02251366029114906],[0.011347783837062673],[0.23536264481159233],[0.2713108464882178],[0.00038900093308004197],[0.01342736575112975],[0.06154053566402161],[0.30742667931978346],[0.2166911846305013],[0.005354123876744365],[0.00436161604905407],[0.03650880992626537],[0.022996338828032845],[0.296894577725344],[0.2969464458170152],[0.2489483695902138],[0.24652463535609598],[0.2489483695902138],[0.24652463535609598]],\"domain\":{\"x\":[0.0,1.0],\"y\":[0.0,1.0]},\"hovertemplate\":\"labels=%{label}<br>count=%{value}<br>parent=%{parent}<br>id=%{id}<br>Quality=%{color}<extra></extra>\",\"ids\":[\"Man/white/sideways/angry\",\"Woman/white/sideways/angry\",\"Man/white/slightly_turned/angry\",\"Woman/white/slightly_turned/angry\",\"Man/white/straight/angry\",\"Woman/white/straight/angry\",\"Man/white/straight/disgust\",\"Woman/white/straight/disgust\",\"Man/white/sideways/fear\",\"Woman/white/sideways/fear\",\"Man/white/slightly_turned/fear\",\"Woman/white/slightly_turned/fear\",\"Man/white/straight/fear\",\"Woman/white/straight/fear\",\"Man/white/sideways/happy\",\"Woman/white/sideways/happy\",\"Man/white/slightly_turned/happy\",\"Woman/white/slightly_turned/happy\",\"Man/white/straight/happy\",\"Woman/white/straight/happy\",\"Man/white/sideways/neutral\",\"Woman/white/sideways/neutral\",\"Man/white/slightly_turned/neutral\",\"Woman/white/slightly_turned/neutral\",\"Man/white/straight/neutral\",\"Woman/white/straight/neutral\",\"Man/white/sideways/sad\",\"Woman/white/sideways/sad\",\"Man/white/slightly_turned/sad\",\"Woman/white/slightly_turned/sad\",\"Man/white/straight/sad\",\"Woman/white/straight/sad\",\"Man/white/sideways/surprise\",\"Man/white/slightly_turned/surprise\",\"Woman/white/slightly_turned/surprise\",\"Man/white/straight/surprise\",\"Woman/white/straight/surprise\",\"Man/white/sideways\",\"Woman/white/sideways\",\"Man/white/slightly_turned\",\"Woman/white/slightly_turned\",\"Man/white/straight\",\"Woman/white/straight\",\"Man/white\",\"Woman/white\",\"Man\",\"Woman\"],\"labels\":[\"angry\",\"angry\",\"angry\",\"angry\",\"angry\",\"angry\",\"disgust\",\"disgust\",\"fear\",\"fear\",\"fear\",\"fear\",\"fear\",\"fear\",\"happy\",\"happy\",\"happy\",\"happy\",\"happy\",\"happy\",\"neutral\",\"neutral\",\"neutral\",\"neutral\",\"neutral\",\"neutral\",\"sad\",\"sad\",\"sad\",\"sad\",\"sad\",\"sad\",\"surprise\",\"surprise\",\"surprise\",\"surprise\",\"surprise\",\"sideways\",\"sideways\",\"slightly_turned\",\"slightly_turned\",\"straight\",\"straight\",\"white\",\"white\",\"Man\",\"Woman\"],\"marker\":{\"coloraxis\":\"coloraxis\",\"colors\":[0.004813522567412465,0.0013103930815686411,0.018640658759064094,0.003080165631646477,0.298709090581314,0.38281563164795995,0.5002538900423026,0.4206662863877307,0.005218007363602586,0.0030484470177908063,0.0393647247220493,0.09218617435210433,0.2679507461659858,0.19294769946805473,0.0069921799606205625,0.0010817586213298373,0.1298170679871032,0.003158520873386316,0.3754893640844863,0.34486289984135843,0.005541557856140338,0.006294258151196118,0.05123268843262664,0.010649589521718314,0.30614383561167574,0.31755870843811274,0.005113446072291773,0.003967911293782787,0.02251366029114906,0.011347783837062673,0.23536264481159233,0.2713108464882178,0.00038900093308004197,0.01342736575112975,0.06154053566402161,0.30742667931978346,0.2166911846305013,0.005354123876744365,0.00436161604905407,0.03650880992626537,0.022996338828032845,0.296894577725344,0.2969464458170152,0.2489483695902138,0.24652463535609598,0.2489483695902138,0.24652463535609598]},\"name\":\"\",\"parents\":[\"Man/white/sideways\",\"Woman/white/sideways\",\"Man/white/slightly_turned\",\"Woman/white/slightly_turned\",\"Man/white/straight\",\"Woman/white/straight\",\"Man/white/straight\",\"Woman/white/straight\",\"Man/white/sideways\",\"Woman/white/sideways\",\"Man/white/slightly_turned\",\"Woman/white/slightly_turned\",\"Man/white/straight\",\"Woman/white/straight\",\"Man/white/sideways\",\"Woman/white/sideways\",\"Man/white/slightly_turned\",\"Woman/white/slightly_turned\",\"Man/white/straight\",\"Woman/white/straight\",\"Man/white/sideways\",\"Woman/white/sideways\",\"Man/white/slightly_turned\",\"Woman/white/slightly_turned\",\"Man/white/straight\",\"Woman/white/straight\",\"Man/white/sideways\",\"Woman/white/sideways\",\"Man/white/slightly_turned\",\"Woman/white/slightly_turned\",\"Man/white/straight\",\"Woman/white/straight\",\"Man/white/sideways\",\"Man/white/slightly_turned\",\"Woman/white/slightly_turned\",\"Man/white/straight\",\"Woman/white/straight\",\"Man/white\",\"Woman/white\",\"Man/white\",\"Woman/white\",\"Man/white\",\"Woman/white\",\"Man\",\"Woman\",\"\",\"\"],\"values\":[3,1,28,2,115,19,4,1,32,5,12,4,219,43,9,2,4,3,194,41,64,10,63,9,710,99,45,8,58,9,270,44,2,1,1,11,2,155,26,166,28,1523,249,1844,303,1844,303],\"type\":\"sunburst\"}],                        {\"template\":{\"data\":{\"histogram2dcontour\":[{\"type\":\"histogram2dcontour\",\"colorbar\":{\"outlinewidth\":0,\"ticks\":\"\"},\"colorscale\":[[0.0,\"#0d0887\"],[0.1111111111111111,\"#46039f\"],[0.2222222222222222,\"#7201a8\"],[0.3333333333333333,\"#9c179e\"],[0.4444444444444444,\"#bd3786\"],[0.5555555555555556,\"#d8576b\"],[0.6666666666666666,\"#ed7953\"],[0.7777777777777778,\"#fb9f3a\"],[0.8888888888888888,\"#fdca26\"],[1.0,\"#f0f921\"]]}],\"choropleth\":[{\"type\":\"choropleth\",\"colorbar\":{\"outlinewidth\":0,\"ticks\":\"\"}}],\"histogram2d\":[{\"type\":\"histogram2d\",\"colorbar\":{\"outlinewidth\":0,\"ticks\":\"\"},\"colorscale\":[[0.0,\"#0d0887\"],[0.1111111111111111,\"#46039f\"],[0.2222222222222222,\"#7201a8\"],[0.3333333333333333,\"#9c179e\"],[0.4444444444444444,\"#bd3786\"],[0.5555555555555556,\"#d8576b\"],[0.6666666666666666,\"#ed7953\"],[0.7777777777777778,\"#fb9f3a\"],[0.8888888888888888,\"#fdca26\"],[1.0,\"#f0f921\"]]}],\"heatmap\":[{\"type\":\"heatmap\",\"colorbar\":{\"outlinewidth\":0,\"ticks\":\"\"},\"colorscale\":[[0.0,\"#0d0887\"],[0.1111111111111111,\"#46039f\"],[0.2222222222222222,\"#7201a8\"],[0.3333333333333333,\"#9c179e\"],[0.4444444444444444,\"#bd3786\"],[0.5555555555555556,\"#d8576b\"],[0.6666666666666666,\"#ed7953\"],[0.7777777777777778,\"#fb9f3a\"],[0.8888888888888888,\"#fdca26\"],[1.0,\"#f0f921\"]]}],\"heatmapgl\":[{\"type\":\"heatmapgl\",\"colorbar\":{\"outlinewidth\":0,\"ticks\":\"\"},\"colorscale\":[[0.0,\"#0d0887\"],[0.1111111111111111,\"#46039f\"],[0.2222222222222222,\"#7201a8\"],[0.3333333333333333,\"#9c179e\"],[0.4444444444444444,\"#bd3786\"],[0.5555555555555556,\"#d8576b\"],[0.6666666666666666,\"#ed7953\"],[0.7777777777777778,\"#fb9f3a\"],[0.8888888888888888,\"#fdca26\"],[1.0,\"#f0f921\"]]}],\"contourcarpet\":[{\"type\":\"contourcarpet\",\"colorbar\":{\"outlinewidth\":0,\"ticks\":\"\"}}],\"contour\":[{\"type\":\"contour\",\"colorbar\":{\"outlinewidth\":0,\"ticks\":\"\"},\"colorscale\":[[0.0,\"#0d0887\"],[0.1111111111111111,\"#46039f\"],[0.2222222222222222,\"#7201a8\"],[0.3333333333333333,\"#9c179e\"],[0.4444444444444444,\"#bd3786\"],[0.5555555555555556,\"#d8576b\"],[0.6666666666666666,\"#ed7953\"],[0.7777777777777778,\"#fb9f3a\"],[0.8888888888888888,\"#fdca26\"],[1.0,\"#f0f921\"]]}],\"surface\":[{\"type\":\"surface\",\"colorbar\":{\"outlinewidth\":0,\"ticks\":\"\"},\"colorscale\":[[0.0,\"#0d0887\"],[0.1111111111111111,\"#46039f\"],[0.2222222222222222,\"#7201a8\"],[0.3333333333333333,\"#9c179e\"],[0.4444444444444444,\"#bd3786\"],[0.5555555555555556,\"#d8576b\"],[0.6666666666666666,\"#ed7953\"],[0.7777777777777778,\"#fb9f3a\"],[0.8888888888888888,\"#fdca26\"],[1.0,\"#f0f921\"]]}],\"mesh3d\":[{\"type\":\"mesh3d\",\"colorbar\":{\"outlinewidth\":0,\"ticks\":\"\"}}],\"scatter\":[{\"fillpattern\":{\"fillmode\":\"overlay\",\"size\":10,\"solidity\":0.2},\"type\":\"scatter\"}],\"parcoords\":[{\"type\":\"parcoords\",\"line\":{\"colorbar\":{\"outlinewidth\":0,\"ticks\":\"\"}}}],\"scatterpolargl\":[{\"type\":\"scatterpolargl\",\"marker\":{\"colorbar\":{\"outlinewidth\":0,\"ticks\":\"\"}}}],\"bar\":[{\"error_x\":{\"color\":\"#2a3f5f\"},\"error_y\":{\"color\":\"#2a3f5f\"},\"marker\":{\"line\":{\"color\":\"#E5ECF6\",\"width\":0.5},\"pattern\":{\"fillmode\":\"overlay\",\"size\":10,\"solidity\":0.2}},\"type\":\"bar\"}],\"scattergeo\":[{\"type\":\"scattergeo\",\"marker\":{\"colorbar\":{\"outlinewidth\":0,\"ticks\":\"\"}}}],\"scatterpolar\":[{\"type\":\"scatterpolar\",\"marker\":{\"colorbar\":{\"outlinewidth\":0,\"ticks\":\"\"}}}],\"histogram\":[{\"marker\":{\"pattern\":{\"fillmode\":\"overlay\",\"size\":10,\"solidity\":0.2}},\"type\":\"histogram\"}],\"scattergl\":[{\"type\":\"scattergl\",\"marker\":{\"colorbar\":{\"outlinewidth\":0,\"ticks\":\"\"}}}],\"scatter3d\":[{\"type\":\"scatter3d\",\"line\":{\"colorbar\":{\"outlinewidth\":0,\"ticks\":\"\"}},\"marker\":{\"colorbar\":{\"outlinewidth\":0,\"ticks\":\"\"}}}],\"scattermapbox\":[{\"type\":\"scattermapbox\",\"marker\":{\"colorbar\":{\"outlinewidth\":0,\"ticks\":\"\"}}}],\"scatterternary\":[{\"type\":\"scatterternary\",\"marker\":{\"colorbar\":{\"outlinewidth\":0,\"ticks\":\"\"}}}],\"scattercarpet\":[{\"type\":\"scattercarpet\",\"marker\":{\"colorbar\":{\"outlinewidth\":0,\"ticks\":\"\"}}}],\"carpet\":[{\"aaxis\":{\"endlinecolor\":\"#2a3f5f\",\"gridcolor\":\"white\",\"linecolor\":\"white\",\"minorgridcolor\":\"white\",\"startlinecolor\":\"#2a3f5f\"},\"baxis\":{\"endlinecolor\":\"#2a3f5f\",\"gridcolor\":\"white\",\"linecolor\":\"white\",\"minorgridcolor\":\"white\",\"startlinecolor\":\"#2a3f5f\"},\"type\":\"carpet\"}],\"table\":[{\"cells\":{\"fill\":{\"color\":\"#EBF0F8\"},\"line\":{\"color\":\"white\"}},\"header\":{\"fill\":{\"color\":\"#C8D4E3\"},\"line\":{\"color\":\"white\"}},\"type\":\"table\"}],\"barpolar\":[{\"marker\":{\"line\":{\"color\":\"#E5ECF6\",\"width\":0.5},\"pattern\":{\"fillmode\":\"overlay\",\"size\":10,\"solidity\":0.2}},\"type\":\"barpolar\"}],\"pie\":[{\"automargin\":true,\"type\":\"pie\"}]},\"layout\":{\"autotypenumbers\":\"strict\",\"colorway\":[\"#636efa\",\"#EF553B\",\"#00cc96\",\"#ab63fa\",\"#FFA15A\",\"#19d3f3\",\"#FF6692\",\"#B6E880\",\"#FF97FF\",\"#FECB52\"],\"font\":{\"color\":\"#2a3f5f\"},\"hovermode\":\"closest\",\"hoverlabel\":{\"align\":\"left\"},\"paper_bgcolor\":\"white\",\"plot_bgcolor\":\"#E5ECF6\",\"polar\":{\"bgcolor\":\"#E5ECF6\",\"angularaxis\":{\"gridcolor\":\"white\",\"linecolor\":\"white\",\"ticks\":\"\"},\"radialaxis\":{\"gridcolor\":\"white\",\"linecolor\":\"white\",\"ticks\":\"\"}},\"ternary\":{\"bgcolor\":\"#E5ECF6\",\"aaxis\":{\"gridcolor\":\"white\",\"linecolor\":\"white\",\"ticks\":\"\"},\"baxis\":{\"gridcolor\":\"white\",\"linecolor\":\"white\",\"ticks\":\"\"},\"caxis\":{\"gridcolor\":\"white\",\"linecolor\":\"white\",\"ticks\":\"\"}},\"coloraxis\":{\"colorbar\":{\"outlinewidth\":0,\"ticks\":\"\"}},\"colorscale\":{\"sequential\":[[0.0,\"#0d0887\"],[0.1111111111111111,\"#46039f\"],[0.2222222222222222,\"#7201a8\"],[0.3333333333333333,\"#9c179e\"],[0.4444444444444444,\"#bd3786\"],[0.5555555555555556,\"#d8576b\"],[0.6666666666666666,\"#ed7953\"],[0.7777777777777778,\"#fb9f3a\"],[0.8888888888888888,\"#fdca26\"],[1.0,\"#f0f921\"]],\"sequentialminus\":[[0.0,\"#0d0887\"],[0.1111111111111111,\"#46039f\"],[0.2222222222222222,\"#7201a8\"],[0.3333333333333333,\"#9c179e\"],[0.4444444444444444,\"#bd3786\"],[0.5555555555555556,\"#d8576b\"],[0.6666666666666666,\"#ed7953\"],[0.7777777777777778,\"#fb9f3a\"],[0.8888888888888888,\"#fdca26\"],[1.0,\"#f0f921\"]],\"diverging\":[[0,\"#8e0152\"],[0.1,\"#c51b7d\"],[0.2,\"#de77ae\"],[0.3,\"#f1b6da\"],[0.4,\"#fde0ef\"],[0.5,\"#f7f7f7\"],[0.6,\"#e6f5d0\"],[0.7,\"#b8e186\"],[0.8,\"#7fbc41\"],[0.9,\"#4d9221\"],[1,\"#276419\"]]},\"xaxis\":{\"gridcolor\":\"white\",\"linecolor\":\"white\",\"ticks\":\"\",\"title\":{\"standoff\":15},\"zerolinecolor\":\"white\",\"automargin\":true,\"zerolinewidth\":2},\"yaxis\":{\"gridcolor\":\"white\",\"linecolor\":\"white\",\"ticks\":\"\",\"title\":{\"standoff\":15},\"zerolinecolor\":\"white\",\"automargin\":true,\"zerolinewidth\":2},\"scene\":{\"xaxis\":{\"backgroundcolor\":\"#E5ECF6\",\"gridcolor\":\"white\",\"linecolor\":\"white\",\"showbackground\":true,\"ticks\":\"\",\"zerolinecolor\":\"white\",\"gridwidth\":2},\"yaxis\":{\"backgroundcolor\":\"#E5ECF6\",\"gridcolor\":\"white\",\"linecolor\":\"white\",\"showbackground\":true,\"ticks\":\"\",\"zerolinecolor\":\"white\",\"gridwidth\":2},\"zaxis\":{\"backgroundcolor\":\"#E5ECF6\",\"gridcolor\":\"white\",\"linecolor\":\"white\",\"showbackground\":true,\"ticks\":\"\",\"zerolinecolor\":\"white\",\"gridwidth\":2}},\"shapedefaults\":{\"line\":{\"color\":\"#2a3f5f\"}},\"annotationdefaults\":{\"arrowcolor\":\"#2a3f5f\",\"arrowhead\":0,\"arrowwidth\":1},\"geo\":{\"bgcolor\":\"white\",\"landcolor\":\"#E5ECF6\",\"subunitcolor\":\"white\",\"showland\":true,\"showlakes\":true,\"lakecolor\":\"white\"},\"title\":{\"x\":0.05},\"mapbox\":{\"style\":\"light\"}}},\"coloraxis\":{\"colorbar\":{\"title\":{\"text\":\"Quality\"}},\"colorscale\":[[0.0,\"#440154\"],[0.1111111111111111,\"#482878\"],[0.2222222222222222,\"#3e4989\"],[0.3333333333333333,\"#31688e\"],[0.4444444444444444,\"#26828e\"],[0.5555555555555556,\"#1f9e89\"],[0.6666666666666666,\"#35b779\"],[0.7777777777777778,\"#6ece58\"],[0.8888888888888888,\"#b5de2b\"],[1.0,\"#fde725\"]],\"cmin\":0,\"cmax\":1},\"legend\":{\"tracegroupgap\":0},\"title\":{\"text\":\"ForenFace\"}},                        {\"responsive\": true}                    ).then(function(){\n",
       "                            \n",
       "var gd = document.getElementById('7a81dd13-aeea-4f41-a883-5d74e214806a');\n",
       "var x = new MutationObserver(function (mutations, observer) {{\n",
       "        var display = window.getComputedStyle(gd).display;\n",
       "        if (!display || display === 'none') {{\n",
       "            console.log([gd, 'removed!']);\n",
       "            Plotly.purge(gd);\n",
       "            observer.disconnect();\n",
       "        }}\n",
       "}});\n",
       "\n",
       "// Listen for the removal of the full notebook cells\n",
       "var notebookContainer = gd.closest('#notebook-container');\n",
       "if (notebookContainer) {{\n",
       "    x.observe(notebookContainer, {childList: true});\n",
       "}}\n",
       "\n",
       "// Listen for the clearing of the current output cell\n",
       "var outputEl = gd.closest('.output');\n",
       "if (outputEl) {{\n",
       "    x.observe(outputEl, {childList: true});\n",
       "}}\n",
       "\n",
       "                        })                };                });            </script>        </div>"
      ]
     },
     "metadata": {},
     "output_type": "display_data"
    },
    {
     "data": {
      "application/vnd.plotly.v1+json": {
       "config": {
        "plotlyServerURL": "https://plot.ly"
       },
       "data": [
        {
         "branchvalues": "total",
         "customdata": [
          [
           0.19120178554965062
          ],
          [
           0.1868609922315996
          ],
          [
           0.003564165838228126
          ],
          [
           0.14055901186756928
          ],
          [
           0.3936685414443646
          ],
          [
           0.19190841516027426
          ],
          [
           0.21739885158181138
          ],
          [
           0.11294821640222492
          ],
          [
           0.479423012318899
          ],
          [
           0.59622397153544
          ],
          [
           0.33622809805025755
          ],
          [
           0.2023560187618654
          ],
          [
           0.700033521806995
          ],
          [
           0.48636879626834245
          ],
          [
           0.48604707661553814
          ],
          [
           0.5049340890237217
          ],
          [
           0.42015767503119744
          ],
          [
           0.6086102123404658
          ],
          [
           0.5041789014200786
          ],
          [
           0.3920523225871951
          ],
          [
           0.7036188495661694
          ],
          [
           0.5115228692613804
          ],
          [
           0.5899819281269634
          ],
          [
           0.614485714277504
          ],
          [
           0.5989022031926524
          ],
          [
           0.5907040579437065
          ],
          [
           0.6080805408312662
          ],
          [
           0.19775180677508433
          ],
          [
           0.3477157661273298
          ],
          [
           0.542056253168666
          ],
          [
           0.3575130562174316
          ],
          [
           0.07756013168092299
          ],
          [
           0.4593127163025407
          ],
          [
           0.682132899373113
          ],
          [
           0.6070986926109495
          ],
          [
           0.26846413439447847
          ],
          [
           0.684000179311905
          ],
          [
           0.67589186825349
          ],
          [
           0.7264827536022993
          ],
          [
           0.6186599474295483
          ],
          [
           0.6720317003691463
          ],
          [
           0.21813380518187725
          ],
          [
           0.19616862036727467
          ],
          [
           0.08188660708937971
          ],
          [
           0.01930124624961819
          ],
          [
           0.21656536691686754
          ],
          [
           0.3215803095871207
          ],
          [
           0.18887113546679554
          ],
          [
           0.004778768530135224
          ],
          [
           0.2134329036526565
          ],
          [
           0.2391705315577192
          ],
          [
           0.3933280230352311
          ],
          [
           0.26444528881970053
          ],
          [
           0.33230572084114407
          ],
          [
           0.432504006432607
          ],
          [
           0.47068175935330936
          ],
          [
           0.4801797995391836
          ],
          [
           0.5000379251775955
          ],
          [
           0.6173353321494139
          ],
          [
           0.45017313927518493
          ],
          [
           0.3905276721918821
          ],
          [
           0.5095304199786339
          ],
          [
           0.38922989223112753
          ],
          [
           0.3446056931197611
          ],
          [
           0.3491703241302195
          ],
          [
           0.5320306867918313
          ],
          [
           0.5251713236174126
          ],
          [
           0.7209597803986724
          ],
          [
           0.6504275972274208
          ],
          [
           0.5689598177349856
          ],
          [
           0.5216199623439216
          ],
          [
           0.25063640113655206
          ],
          [
           0.10538688324717609
          ],
          [
           0.11127776047626137
          ],
          [
           0.1128431449989637
          ],
          [
           0.19818399609964923
          ],
          [
           0.20306863205566283
          ],
          [
           0.2272120116666469
          ],
          [
           0.19281675813304017
          ],
          [
           0.20505494024800514
          ],
          [
           0.4143966194792139
          ],
          [
           0.3974786809534453
          ],
          [
           0.29930344334399106
          ],
          [
           0.3518576114387945
          ],
          [
           0.38401619549822114
          ],
          [
           0.5229110627060591
          ],
          [
           0.5163559357563696
          ],
          [
           0.44821712576231093
          ],
          [
           0.49162115484516133
          ],
          [
           0.43413154793409825
          ],
          [
           0.4682847045241649
          ],
          [
           0.4585929437224646
          ],
          [
           0.5754712898160887
          ],
          [
           0.5344310049640038
          ],
          [
           0.43685637075664896
          ],
          [
           0.5562405409031294
          ],
          [
           0.5919611370747441
          ],
          [
           0.6505774370251953
          ],
          [
           0.6333221184913994
          ],
          [
           0.6182612546258814
          ],
          [
           0.587214219718254
          ],
          [
           0.5525264114773426
          ],
          [
           0.6309337514305453
          ],
          [
           0.6211021745297757
          ],
          [
           0.20593041193366549
          ],
          [
           0.13590810194351416
          ],
          [
           0.19415137441262123
          ],
          [
           0.2906768500599534
          ],
          [
           0.34096798537909884
          ],
          [
           0.4287116062826206
          ],
          [
           0.26903171602722387
          ],
          [
           0.02755693695767296
          ],
          [
           0.2577182426985767
          ],
          [
           0.21860653407567762
          ],
          [
           0.5111660579215951
          ],
          [
           0.46011198366667383
          ],
          [
           0.4138320005889199
          ],
          [
           0.3222246259385147
          ],
          [
           0.4297262929440866
          ],
          [
           0.5454024142040859
          ],
          [
           0.4992738491224664
          ],
          [
           0.5411120627091532
          ],
          [
           0.33697678012180426
          ],
          [
           0.5342459961238868
          ],
          [
           0.511219596377766
          ],
          [
           0.60554612593165
          ],
          [
           0.4546969811160339
          ],
          [
           0.4818672127280489
          ],
          [
           0.5154465421966269
          ],
          [
           0.5362216228666242
          ],
          [
           0.3979641801964645
          ],
          [
           0.6220395498836286
          ],
          [
           0.6211802597755212
          ],
          [
           0.6259719448928832
          ],
          [
           0.7886268824374504
          ],
          [
           0.6566769710724003
          ],
          [
           0.6532398571929418
          ],
          [
           0.1783412823113396
          ],
          [
           0.3209168583824816
          ],
          [
           0.16452188133517331
          ],
          [
           0.0043489516453619525
          ],
          [
           0.2460135493344846
          ],
          [
           0.2026395819258486
          ],
          [
           0.21696041090757337
          ],
          [
           0.21105531349288173
          ],
          [
           0.008717869252726782
          ],
          [
           0.21369430307925677
          ],
          [
           0.21007623199338427
          ],
          [
           0.4482636462270501
          ],
          [
           0.43787190543710874
          ],
          [
           0.37084490970826123
          ],
          [
           0.06413576870979978
          ],
          [
           0.4610623334454819
          ],
          [
           0.12490492700785334
          ],
          [
           0.5601038490103177
          ],
          [
           0.6334662898676112
          ],
          [
           0.5490409913677323
          ],
          [
           0.472173651918718
          ],
          [
           0.45303193157468735
          ],
          [
           0.5608879632233624
          ],
          [
           0.34977589573028156
          ],
          [
           0.4060488944531286
          ],
          [
           0.44557348084056336
          ],
          [
           0.4634536345256614
          ],
          [
           0.6708564376930815
          ],
          [
           0.5533202292365764
          ],
          [
           0.6153553259211547
          ],
          [
           0.19867686151670474
          ],
          [
           0.5807151459120886
          ],
          [
           0.5602643110336673
          ],
          [
           0.1988184739979292
          ],
          [
           0.40641822754939466
          ],
          [
           0.020672938762199583
          ],
          [
           0.16723394151032284
          ],
          [
           0.26102988035417296
          ],
          [
           0.10396494372106041
          ],
          [
           0.14539656176145976
          ],
          [
           0.34096939922300484
          ],
          [
           0.10833396021096983
          ],
          [
           0.5164130344155665
          ],
          [
           0.06623622711722504
          ],
          [
           0.6679971183702405
          ],
          [
           0.4565409139276891
          ],
          [
           0.348680006756315
          ],
          [
           0.4060825473648304
          ],
          [
           0.42822849709060234
          ],
          [
           0.5511681720066909
          ],
          [
           0.39561762848523
          ],
          [
           0.45358131421420217
          ],
          [
           0.0054442868905733716
          ],
          [
           0.47955733959157826
          ],
          [
           0.5614239581391807
          ],
          [
           0.5744403669038748
          ],
          [
           0.5474302273246046
          ],
          [
           0.5171018727025226
          ],
          [
           0.20709699357085867
          ],
          [
           0.17058074372450155
          ],
          [
           0.16230646118953843
          ],
          [
           0.06944546765752299
          ],
          [
           0.19718409268948106
          ],
          [
           0.21770587599131996
          ],
          [
           0.28213256971515455
          ],
          [
           0.22107481595361683
          ],
          [
           0.013684524913511653
          ],
          [
           0.21540569032295545
          ],
          [
           0.2075055966525276
          ],
          [
           0.4477032005941996
          ],
          [
           0.39540430673602694
          ],
          [
           0.3560183263576542
          ],
          [
           0.3016924244236096
          ],
          [
           0.43162695426599573
          ],
          [
           0.32390799485695626
          ],
          [
           0.5246277764353343
          ],
          [
           0.4675781692211685
          ],
          [
           0.5167348271515755
          ],
          [
           0.45564380203485366
          ],
          [
           0.4842674243456143
          ],
          [
           0.45314771563600564
          ],
          [
           0.5807803701372053
          ],
          [
           0.4833474423740503
          ],
          [
           0.43880030364159955
          ],
          [
           0.501681747036697
          ],
          [
           0.5254750952969944
          ],
          [
           0.5663730180822851
          ],
          [
           0.618238978267781
          ],
          [
           0.6149313356523098
          ],
          [
           0.6107159772485454
          ],
          [
           0.5919099518017521
          ],
          [
           0.6132072344719847
          ],
          [
           0.608873243595905
          ],
          [
           0.5051901710534537
          ],
          [
           0.42347689327163857
          ],
          [
           0.39801852662713005
          ],
          [
           0.41566472643516067
          ],
          [
           0.46444547841284795
          ],
          [
           0.5057567622759529
          ],
          [
           0.5406841013128875
          ],
          [
           0.5358836407563069
          ],
          [
           0.5366953416326369
          ],
          [
           0.44942614681848236
          ],
          [
           0.5291404512307788
          ],
          [
           0.5178767814831344
          ],
          [
           0.5182176445706081
          ],
          [
           0.5054254818007053
          ]
         ],
         "domain": {
          "x": [
           0,
           1
          ],
          "y": [
           0,
           1
          ]
         },
         "hovertemplate": "labels=%{label}<br>count=%{value}<br>parent=%{parent}<br>id=%{id}<br>Quality=%{color}<extra></extra>",
         "ids": [
          "Man/asian/sideways/angry",
          "Man/black/sideways/angry",
          "Man/indian/sideways/angry",
          "Man/latino hispanic/sideways/angry",
          "Woman/latino hispanic/sideways/angry",
          "Man/middle eastern/sideways/angry",
          "Man/white/sideways/angry",
          "Woman/white/sideways/angry",
          "Man/asian/slightly_turned/angry",
          "Woman/asian/slightly_turned/angry",
          "Man/black/slightly_turned/angry",
          "Woman/black/slightly_turned/angry",
          "Man/indian/slightly_turned/angry",
          "Man/latino hispanic/slightly_turned/angry",
          "Man/middle eastern/slightly_turned/angry",
          "Man/white/slightly_turned/angry",
          "Woman/white/slightly_turned/angry",
          "Man/asian/straight/angry",
          "Woman/asian/straight/angry",
          "Man/black/straight/angry",
          "Woman/black/straight/angry",
          "Man/indian/straight/angry",
          "Man/latino hispanic/straight/angry",
          "Woman/latino hispanic/straight/angry",
          "Man/middle eastern/straight/angry",
          "Man/white/straight/angry",
          "Woman/white/straight/angry",
          "Man/black/sideways/disgust",
          "Man/latino hispanic/sideways/disgust",
          "Man/white/sideways/disgust",
          "Man/asian/slightly_turned/disgust",
          "Woman/asian/slightly_turned/disgust",
          "Man/latino hispanic/slightly_turned/disgust",
          "Man/middle eastern/slightly_turned/disgust",
          "Man/white/slightly_turned/disgust",
          "Woman/white/slightly_turned/disgust",
          "Man/asian/straight/disgust",
          "Man/latino hispanic/straight/disgust",
          "Man/middle eastern/straight/disgust",
          "Man/white/straight/disgust",
          "Woman/white/straight/disgust",
          "Man/asian/sideways/fear",
          "Woman/asian/sideways/fear",
          "Man/black/sideways/fear",
          "Man/indian/sideways/fear",
          "Man/latino hispanic/sideways/fear",
          "Woman/latino hispanic/sideways/fear",
          "Man/middle eastern/sideways/fear",
          "Woman/middle eastern/sideways/fear",
          "Man/white/sideways/fear",
          "Woman/white/sideways/fear",
          "Man/asian/slightly_turned/fear",
          "Woman/asian/slightly_turned/fear",
          "Man/black/slightly_turned/fear",
          "Man/indian/slightly_turned/fear",
          "Man/latino hispanic/slightly_turned/fear",
          "Woman/latino hispanic/slightly_turned/fear",
          "Man/middle eastern/slightly_turned/fear",
          "Woman/middle eastern/slightly_turned/fear",
          "Man/white/slightly_turned/fear",
          "Woman/white/slightly_turned/fear",
          "Man/asian/straight/fear",
          "Woman/asian/straight/fear",
          "Man/black/straight/fear",
          "Woman/black/straight/fear",
          "Man/indian/straight/fear",
          "Man/latino hispanic/straight/fear",
          "Woman/latino hispanic/straight/fear",
          "Man/middle eastern/straight/fear",
          "Man/white/straight/fear",
          "Woman/white/straight/fear",
          "Man/asian/sideways/happy",
          "Woman/asian/sideways/happy",
          "Man/black/sideways/happy",
          "Woman/black/sideways/happy",
          "Man/latino hispanic/sideways/happy",
          "Woman/latino hispanic/sideways/happy",
          "Man/middle eastern/sideways/happy",
          "Man/white/sideways/happy",
          "Woman/white/sideways/happy",
          "Man/asian/slightly_turned/happy",
          "Woman/asian/slightly_turned/happy",
          "Man/black/slightly_turned/happy",
          "Woman/black/slightly_turned/happy",
          "Man/indian/slightly_turned/happy",
          "Woman/indian/slightly_turned/happy",
          "Man/latino hispanic/slightly_turned/happy",
          "Woman/latino hispanic/slightly_turned/happy",
          "Man/middle eastern/slightly_turned/happy",
          "Woman/middle eastern/slightly_turned/happy",
          "Man/white/slightly_turned/happy",
          "Woman/white/slightly_turned/happy",
          "Man/asian/straight/happy",
          "Woman/asian/straight/happy",
          "Man/black/straight/happy",
          "Woman/black/straight/happy",
          "Man/indian/straight/happy",
          "Woman/indian/straight/happy",
          "Man/latino hispanic/straight/happy",
          "Woman/latino hispanic/straight/happy",
          "Man/middle eastern/straight/happy",
          "Woman/middle eastern/straight/happy",
          "Man/white/straight/happy",
          "Woman/white/straight/happy",
          "Man/asian/sideways/neutral",
          "Woman/asian/sideways/neutral",
          "Man/black/sideways/neutral",
          "Man/indian/sideways/neutral",
          "Man/latino hispanic/sideways/neutral",
          "Woman/latino hispanic/sideways/neutral",
          "Man/middle eastern/sideways/neutral",
          "Woman/middle eastern/sideways/neutral",
          "Man/white/sideways/neutral",
          "Woman/white/sideways/neutral",
          "Man/asian/slightly_turned/neutral",
          "Woman/asian/slightly_turned/neutral",
          "Man/black/slightly_turned/neutral",
          "Woman/black/slightly_turned/neutral",
          "Man/indian/slightly_turned/neutral",
          "Man/latino hispanic/slightly_turned/neutral",
          "Woman/latino hispanic/slightly_turned/neutral",
          "Man/middle eastern/slightly_turned/neutral",
          "Woman/middle eastern/slightly_turned/neutral",
          "Man/white/slightly_turned/neutral",
          "Woman/white/slightly_turned/neutral",
          "Man/asian/straight/neutral",
          "Woman/asian/straight/neutral",
          "Man/black/straight/neutral",
          "Woman/black/straight/neutral",
          "Man/indian/straight/neutral",
          "Woman/indian/straight/neutral",
          "Man/latino hispanic/straight/neutral",
          "Woman/latino hispanic/straight/neutral",
          "Man/middle eastern/straight/neutral",
          "Woman/middle eastern/straight/neutral",
          "Man/white/straight/neutral",
          "Woman/white/straight/neutral",
          "Man/asian/sideways/sad",
          "Woman/asian/sideways/sad",
          "Man/black/sideways/sad",
          "Woman/black/sideways/sad",
          "Man/indian/sideways/sad",
          "Man/latino hispanic/sideways/sad",
          "Woman/latino hispanic/sideways/sad",
          "Man/middle eastern/sideways/sad",
          "Woman/middle eastern/sideways/sad",
          "Man/white/sideways/sad",
          "Woman/white/sideways/sad",
          "Man/asian/slightly_turned/sad",
          "Woman/asian/slightly_turned/sad",
          "Man/black/slightly_turned/sad",
          "Woman/black/slightly_turned/sad",
          "Man/indian/slightly_turned/sad",
          "Woman/indian/slightly_turned/sad",
          "Man/latino hispanic/slightly_turned/sad",
          "Woman/latino hispanic/slightly_turned/sad",
          "Man/middle eastern/slightly_turned/sad",
          "Man/white/slightly_turned/sad",
          "Woman/white/slightly_turned/sad",
          "Man/asian/straight/sad",
          "Woman/asian/straight/sad",
          "Man/black/straight/sad",
          "Woman/black/straight/sad",
          "Man/indian/straight/sad",
          "Man/latino hispanic/straight/sad",
          "Woman/latino hispanic/straight/sad",
          "Man/middle eastern/straight/sad",
          "Woman/middle eastern/straight/sad",
          "Man/white/straight/sad",
          "Woman/white/straight/sad",
          "Man/asian/sideways/surprise",
          "Woman/asian/sideways/surprise",
          "Man/black/sideways/surprise",
          "Man/latino hispanic/sideways/surprise",
          "Man/middle eastern/sideways/surprise",
          "Man/white/sideways/surprise",
          "Woman/white/sideways/surprise",
          "Man/asian/slightly_turned/surprise",
          "Woman/asian/slightly_turned/surprise",
          "Man/black/slightly_turned/surprise",
          "Woman/black/slightly_turned/surprise",
          "Man/latino hispanic/slightly_turned/surprise",
          "Woman/latino hispanic/slightly_turned/surprise",
          "Man/middle eastern/slightly_turned/surprise",
          "Man/white/slightly_turned/surprise",
          "Woman/white/slightly_turned/surprise",
          "Man/asian/straight/surprise",
          "Woman/asian/straight/surprise",
          "Man/black/straight/surprise",
          "Man/indian/straight/surprise",
          "Man/latino hispanic/straight/surprise",
          "Woman/latino hispanic/straight/surprise",
          "Man/middle eastern/straight/surprise",
          "Man/white/straight/surprise",
          "Woman/white/straight/surprise",
          "Man/asian/sideways",
          "Woman/asian/sideways",
          "Man/black/sideways",
          "Woman/black/sideways",
          "Man/indian/sideways",
          "Man/latino hispanic/sideways",
          "Woman/latino hispanic/sideways",
          "Man/middle eastern/sideways",
          "Woman/middle eastern/sideways",
          "Man/white/sideways",
          "Woman/white/sideways",
          "Man/asian/slightly_turned",
          "Woman/asian/slightly_turned",
          "Man/black/slightly_turned",
          "Woman/black/slightly_turned",
          "Man/indian/slightly_turned",
          "Woman/indian/slightly_turned",
          "Man/latino hispanic/slightly_turned",
          "Woman/latino hispanic/slightly_turned",
          "Man/middle eastern/slightly_turned",
          "Woman/middle eastern/slightly_turned",
          "Man/white/slightly_turned",
          "Woman/white/slightly_turned",
          "Man/asian/straight",
          "Woman/asian/straight",
          "Man/black/straight",
          "Woman/black/straight",
          "Man/indian/straight",
          "Woman/indian/straight",
          "Man/latino hispanic/straight",
          "Woman/latino hispanic/straight",
          "Man/middle eastern/straight",
          "Woman/middle eastern/straight",
          "Man/white/straight",
          "Woman/white/straight",
          "Man/asian",
          "Woman/asian",
          "Man/black",
          "Woman/black",
          "Man/indian",
          "Woman/indian",
          "Man/latino hispanic",
          "Woman/latino hispanic",
          "Man/middle eastern",
          "Woman/middle eastern",
          "Man/white",
          "Woman/white",
          "Man",
          "Woman"
         ],
         "labels": [
          "angry",
          "angry",
          "angry",
          "angry",
          "angry",
          "angry",
          "angry",
          "angry",
          "angry",
          "angry",
          "angry",
          "angry",
          "angry",
          "angry",
          "angry",
          "angry",
          "angry",
          "angry",
          "angry",
          "angry",
          "angry",
          "angry",
          "angry",
          "angry",
          "angry",
          "angry",
          "angry",
          "disgust",
          "disgust",
          "disgust",
          "disgust",
          "disgust",
          "disgust",
          "disgust",
          "disgust",
          "disgust",
          "disgust",
          "disgust",
          "disgust",
          "disgust",
          "disgust",
          "fear",
          "fear",
          "fear",
          "fear",
          "fear",
          "fear",
          "fear",
          "fear",
          "fear",
          "fear",
          "fear",
          "fear",
          "fear",
          "fear",
          "fear",
          "fear",
          "fear",
          "fear",
          "fear",
          "fear",
          "fear",
          "fear",
          "fear",
          "fear",
          "fear",
          "fear",
          "fear",
          "fear",
          "fear",
          "fear",
          "happy",
          "happy",
          "happy",
          "happy",
          "happy",
          "happy",
          "happy",
          "happy",
          "happy",
          "happy",
          "happy",
          "happy",
          "happy",
          "happy",
          "happy",
          "happy",
          "happy",
          "happy",
          "happy",
          "happy",
          "happy",
          "happy",
          "happy",
          "happy",
          "happy",
          "happy",
          "happy",
          "happy",
          "happy",
          "happy",
          "happy",
          "happy",
          "happy",
          "neutral",
          "neutral",
          "neutral",
          "neutral",
          "neutral",
          "neutral",
          "neutral",
          "neutral",
          "neutral",
          "neutral",
          "neutral",
          "neutral",
          "neutral",
          "neutral",
          "neutral",
          "neutral",
          "neutral",
          "neutral",
          "neutral",
          "neutral",
          "neutral",
          "neutral",
          "neutral",
          "neutral",
          "neutral",
          "neutral",
          "neutral",
          "neutral",
          "neutral",
          "neutral",
          "neutral",
          "neutral",
          "neutral",
          "sad",
          "sad",
          "sad",
          "sad",
          "sad",
          "sad",
          "sad",
          "sad",
          "sad",
          "sad",
          "sad",
          "sad",
          "sad",
          "sad",
          "sad",
          "sad",
          "sad",
          "sad",
          "sad",
          "sad",
          "sad",
          "sad",
          "sad",
          "sad",
          "sad",
          "sad",
          "sad",
          "sad",
          "sad",
          "sad",
          "sad",
          "sad",
          "sad",
          "surprise",
          "surprise",
          "surprise",
          "surprise",
          "surprise",
          "surprise",
          "surprise",
          "surprise",
          "surprise",
          "surprise",
          "surprise",
          "surprise",
          "surprise",
          "surprise",
          "surprise",
          "surprise",
          "surprise",
          "surprise",
          "surprise",
          "surprise",
          "surprise",
          "surprise",
          "surprise",
          "surprise",
          "surprise",
          "sideways",
          "sideways",
          "sideways",
          "sideways",
          "sideways",
          "sideways",
          "sideways",
          "sideways",
          "sideways",
          "sideways",
          "sideways",
          "slightly_turned",
          "slightly_turned",
          "slightly_turned",
          "slightly_turned",
          "slightly_turned",
          "slightly_turned",
          "slightly_turned",
          "slightly_turned",
          "slightly_turned",
          "slightly_turned",
          "slightly_turned",
          "slightly_turned",
          "straight",
          "straight",
          "straight",
          "straight",
          "straight",
          "straight",
          "straight",
          "straight",
          "straight",
          "straight",
          "straight",
          "straight",
          "asian",
          "asian",
          "black",
          "black",
          "indian",
          "indian",
          "latino hispanic",
          "latino hispanic",
          "middle eastern",
          "middle eastern",
          "white",
          "white",
          "Man",
          "Woman"
         ],
         "marker": {
          "coloraxis": "coloraxis",
          "colors": [
           0.19120178554965062,
           0.1868609922315996,
           0.003564165838228126,
           0.14055901186756928,
           0.3936685414443646,
           0.19190841516027426,
           0.21739885158181138,
           0.11294821640222492,
           0.479423012318899,
           0.59622397153544,
           0.33622809805025755,
           0.2023560187618654,
           0.700033521806995,
           0.48636879626834245,
           0.48604707661553814,
           0.5049340890237217,
           0.42015767503119744,
           0.6086102123404658,
           0.5041789014200786,
           0.3920523225871951,
           0.7036188495661694,
           0.5115228692613804,
           0.5899819281269634,
           0.614485714277504,
           0.5989022031926524,
           0.5907040579437065,
           0.6080805408312662,
           0.19775180677508433,
           0.3477157661273298,
           0.542056253168666,
           0.3575130562174316,
           0.07756013168092299,
           0.4593127163025407,
           0.682132899373113,
           0.6070986926109495,
           0.26846413439447847,
           0.684000179311905,
           0.67589186825349,
           0.7264827536022993,
           0.6186599474295483,
           0.6720317003691463,
           0.21813380518187725,
           0.19616862036727467,
           0.08188660708937971,
           0.01930124624961819,
           0.21656536691686754,
           0.3215803095871207,
           0.18887113546679554,
           0.004778768530135224,
           0.2134329036526565,
           0.2391705315577192,
           0.3933280230352311,
           0.26444528881970053,
           0.33230572084114407,
           0.432504006432607,
           0.47068175935330936,
           0.4801797995391836,
           0.5000379251775955,
           0.6173353321494139,
           0.45017313927518493,
           0.3905276721918821,
           0.5095304199786339,
           0.38922989223112753,
           0.3446056931197611,
           0.3491703241302195,
           0.5320306867918313,
           0.5251713236174126,
           0.7209597803986724,
           0.6504275972274208,
           0.5689598177349856,
           0.5216199623439216,
           0.25063640113655206,
           0.10538688324717609,
           0.11127776047626137,
           0.1128431449989637,
           0.19818399609964923,
           0.20306863205566283,
           0.2272120116666469,
           0.19281675813304017,
           0.20505494024800514,
           0.4143966194792139,
           0.3974786809534453,
           0.29930344334399106,
           0.3518576114387945,
           0.38401619549822114,
           0.5229110627060591,
           0.5163559357563696,
           0.44821712576231093,
           0.49162115484516133,
           0.43413154793409825,
           0.4682847045241649,
           0.4585929437224646,
           0.5754712898160887,
           0.5344310049640038,
           0.43685637075664896,
           0.5562405409031294,
           0.5919611370747441,
           0.6505774370251953,
           0.6333221184913994,
           0.6182612546258814,
           0.587214219718254,
           0.5525264114773426,
           0.6309337514305453,
           0.6211021745297757,
           0.20593041193366549,
           0.13590810194351416,
           0.19415137441262123,
           0.2906768500599534,
           0.34096798537909884,
           0.4287116062826206,
           0.26903171602722387,
           0.02755693695767296,
           0.2577182426985767,
           0.21860653407567762,
           0.5111660579215951,
           0.46011198366667383,
           0.4138320005889199,
           0.3222246259385147,
           0.4297262929440866,
           0.5454024142040859,
           0.4992738491224664,
           0.5411120627091532,
           0.33697678012180426,
           0.5342459961238868,
           0.511219596377766,
           0.60554612593165,
           0.4546969811160339,
           0.4818672127280489,
           0.5154465421966269,
           0.5362216228666242,
           0.3979641801964645,
           0.6220395498836286,
           0.6211802597755212,
           0.6259719448928832,
           0.7886268824374504,
           0.6566769710724003,
           0.6532398571929418,
           0.1783412823113396,
           0.3209168583824816,
           0.16452188133517331,
           0.0043489516453619525,
           0.2460135493344846,
           0.2026395819258486,
           0.21696041090757337,
           0.21105531349288173,
           0.008717869252726782,
           0.21369430307925677,
           0.21007623199338427,
           0.4482636462270501,
           0.43787190543710874,
           0.37084490970826123,
           0.06413576870979978,
           0.4610623334454819,
           0.12490492700785334,
           0.5601038490103177,
           0.6334662898676112,
           0.5490409913677323,
           0.472173651918718,
           0.45303193157468735,
           0.5608879632233624,
           0.34977589573028156,
           0.4060488944531286,
           0.44557348084056336,
           0.4634536345256614,
           0.6708564376930815,
           0.5533202292365764,
           0.6153553259211547,
           0.19867686151670474,
           0.5807151459120886,
           0.5602643110336673,
           0.1988184739979292,
           0.40641822754939466,
           0.020672938762199583,
           0.16723394151032284,
           0.26102988035417296,
           0.10396494372106041,
           0.14539656176145976,
           0.34096939922300484,
           0.10833396021096983,
           0.5164130344155665,
           0.06623622711722504,
           0.6679971183702405,
           0.4565409139276891,
           0.348680006756315,
           0.4060825473648304,
           0.42822849709060234,
           0.5511681720066909,
           0.39561762848523,
           0.45358131421420217,
           0.0054442868905733716,
           0.47955733959157826,
           0.5614239581391807,
           0.5744403669038748,
           0.5474302273246046,
           0.5171018727025226,
           0.20709699357085867,
           0.17058074372450155,
           0.16230646118953843,
           0.06944546765752299,
           0.19718409268948106,
           0.21770587599131996,
           0.28213256971515455,
           0.22107481595361683,
           0.013684524913511653,
           0.21540569032295545,
           0.2075055966525276,
           0.4477032005941996,
           0.39540430673602694,
           0.3560183263576542,
           0.3016924244236096,
           0.43162695426599573,
           0.32390799485695626,
           0.5246277764353343,
           0.4675781692211685,
           0.5167348271515755,
           0.45564380203485366,
           0.4842674243456143,
           0.45314771563600564,
           0.5807803701372053,
           0.4833474423740503,
           0.43880030364159955,
           0.501681747036697,
           0.5254750952969944,
           0.5663730180822851,
           0.618238978267781,
           0.6149313356523098,
           0.6107159772485454,
           0.5919099518017521,
           0.6132072344719847,
           0.608873243595905,
           0.5051901710534537,
           0.42347689327163857,
           0.39801852662713005,
           0.41566472643516067,
           0.46444547841284795,
           0.5057567622759529,
           0.5406841013128875,
           0.5358836407563069,
           0.5366953416326369,
           0.44942614681848236,
           0.5291404512307788,
           0.5178767814831344,
           0.5182176445706081,
           0.5054254818007053
          ]
         },
         "name": "",
         "parents": [
          "Man/asian/sideways",
          "Man/black/sideways",
          "Man/indian/sideways",
          "Man/latino hispanic/sideways",
          "Woman/latino hispanic/sideways",
          "Man/middle eastern/sideways",
          "Man/white/sideways",
          "Woman/white/sideways",
          "Man/asian/slightly_turned",
          "Woman/asian/slightly_turned",
          "Man/black/slightly_turned",
          "Woman/black/slightly_turned",
          "Man/indian/slightly_turned",
          "Man/latino hispanic/slightly_turned",
          "Man/middle eastern/slightly_turned",
          "Man/white/slightly_turned",
          "Woman/white/slightly_turned",
          "Man/asian/straight",
          "Woman/asian/straight",
          "Man/black/straight",
          "Woman/black/straight",
          "Man/indian/straight",
          "Man/latino hispanic/straight",
          "Woman/latino hispanic/straight",
          "Man/middle eastern/straight",
          "Man/white/straight",
          "Woman/white/straight",
          "Man/black/sideways",
          "Man/latino hispanic/sideways",
          "Man/white/sideways",
          "Man/asian/slightly_turned",
          "Woman/asian/slightly_turned",
          "Man/latino hispanic/slightly_turned",
          "Man/middle eastern/slightly_turned",
          "Man/white/slightly_turned",
          "Woman/white/slightly_turned",
          "Man/asian/straight",
          "Man/latino hispanic/straight",
          "Man/middle eastern/straight",
          "Man/white/straight",
          "Woman/white/straight",
          "Man/asian/sideways",
          "Woman/asian/sideways",
          "Man/black/sideways",
          "Man/indian/sideways",
          "Man/latino hispanic/sideways",
          "Woman/latino hispanic/sideways",
          "Man/middle eastern/sideways",
          "Woman/middle eastern/sideways",
          "Man/white/sideways",
          "Woman/white/sideways",
          "Man/asian/slightly_turned",
          "Woman/asian/slightly_turned",
          "Man/black/slightly_turned",
          "Man/indian/slightly_turned",
          "Man/latino hispanic/slightly_turned",
          "Woman/latino hispanic/slightly_turned",
          "Man/middle eastern/slightly_turned",
          "Woman/middle eastern/slightly_turned",
          "Man/white/slightly_turned",
          "Woman/white/slightly_turned",
          "Man/asian/straight",
          "Woman/asian/straight",
          "Man/black/straight",
          "Woman/black/straight",
          "Man/indian/straight",
          "Man/latino hispanic/straight",
          "Woman/latino hispanic/straight",
          "Man/middle eastern/straight",
          "Man/white/straight",
          "Woman/white/straight",
          "Man/asian/sideways",
          "Woman/asian/sideways",
          "Man/black/sideways",
          "Woman/black/sideways",
          "Man/latino hispanic/sideways",
          "Woman/latino hispanic/sideways",
          "Man/middle eastern/sideways",
          "Man/white/sideways",
          "Woman/white/sideways",
          "Man/asian/slightly_turned",
          "Woman/asian/slightly_turned",
          "Man/black/slightly_turned",
          "Woman/black/slightly_turned",
          "Man/indian/slightly_turned",
          "Woman/indian/slightly_turned",
          "Man/latino hispanic/slightly_turned",
          "Woman/latino hispanic/slightly_turned",
          "Man/middle eastern/slightly_turned",
          "Woman/middle eastern/slightly_turned",
          "Man/white/slightly_turned",
          "Woman/white/slightly_turned",
          "Man/asian/straight",
          "Woman/asian/straight",
          "Man/black/straight",
          "Woman/black/straight",
          "Man/indian/straight",
          "Woman/indian/straight",
          "Man/latino hispanic/straight",
          "Woman/latino hispanic/straight",
          "Man/middle eastern/straight",
          "Woman/middle eastern/straight",
          "Man/white/straight",
          "Woman/white/straight",
          "Man/asian/sideways",
          "Woman/asian/sideways",
          "Man/black/sideways",
          "Man/indian/sideways",
          "Man/latino hispanic/sideways",
          "Woman/latino hispanic/sideways",
          "Man/middle eastern/sideways",
          "Woman/middle eastern/sideways",
          "Man/white/sideways",
          "Woman/white/sideways",
          "Man/asian/slightly_turned",
          "Woman/asian/slightly_turned",
          "Man/black/slightly_turned",
          "Woman/black/slightly_turned",
          "Man/indian/slightly_turned",
          "Man/latino hispanic/slightly_turned",
          "Woman/latino hispanic/slightly_turned",
          "Man/middle eastern/slightly_turned",
          "Woman/middle eastern/slightly_turned",
          "Man/white/slightly_turned",
          "Woman/white/slightly_turned",
          "Man/asian/straight",
          "Woman/asian/straight",
          "Man/black/straight",
          "Woman/black/straight",
          "Man/indian/straight",
          "Woman/indian/straight",
          "Man/latino hispanic/straight",
          "Woman/latino hispanic/straight",
          "Man/middle eastern/straight",
          "Woman/middle eastern/straight",
          "Man/white/straight",
          "Woman/white/straight",
          "Man/asian/sideways",
          "Woman/asian/sideways",
          "Man/black/sideways",
          "Woman/black/sideways",
          "Man/indian/sideways",
          "Man/latino hispanic/sideways",
          "Woman/latino hispanic/sideways",
          "Man/middle eastern/sideways",
          "Woman/middle eastern/sideways",
          "Man/white/sideways",
          "Woman/white/sideways",
          "Man/asian/slightly_turned",
          "Woman/asian/slightly_turned",
          "Man/black/slightly_turned",
          "Woman/black/slightly_turned",
          "Man/indian/slightly_turned",
          "Woman/indian/slightly_turned",
          "Man/latino hispanic/slightly_turned",
          "Woman/latino hispanic/slightly_turned",
          "Man/middle eastern/slightly_turned",
          "Man/white/slightly_turned",
          "Woman/white/slightly_turned",
          "Man/asian/straight",
          "Woman/asian/straight",
          "Man/black/straight",
          "Woman/black/straight",
          "Man/indian/straight",
          "Man/latino hispanic/straight",
          "Woman/latino hispanic/straight",
          "Man/middle eastern/straight",
          "Woman/middle eastern/straight",
          "Man/white/straight",
          "Woman/white/straight",
          "Man/asian/sideways",
          "Woman/asian/sideways",
          "Man/black/sideways",
          "Man/latino hispanic/sideways",
          "Man/middle eastern/sideways",
          "Man/white/sideways",
          "Woman/white/sideways",
          "Man/asian/slightly_turned",
          "Woman/asian/slightly_turned",
          "Man/black/slightly_turned",
          "Woman/black/slightly_turned",
          "Man/latino hispanic/slightly_turned",
          "Woman/latino hispanic/slightly_turned",
          "Man/middle eastern/slightly_turned",
          "Man/white/slightly_turned",
          "Woman/white/slightly_turned",
          "Man/asian/straight",
          "Woman/asian/straight",
          "Man/black/straight",
          "Man/indian/straight",
          "Man/latino hispanic/straight",
          "Woman/latino hispanic/straight",
          "Man/middle eastern/straight",
          "Man/white/straight",
          "Woman/white/straight",
          "Man/asian",
          "Woman/asian",
          "Man/black",
          "Woman/black",
          "Man/indian",
          "Man/latino hispanic",
          "Woman/latino hispanic",
          "Man/middle eastern",
          "Woman/middle eastern",
          "Man/white",
          "Woman/white",
          "Man/asian",
          "Woman/asian",
          "Man/black",
          "Woman/black",
          "Man/indian",
          "Woman/indian",
          "Man/latino hispanic",
          "Woman/latino hispanic",
          "Man/middle eastern",
          "Woman/middle eastern",
          "Man/white",
          "Woman/white",
          "Man/asian",
          "Woman/asian",
          "Man/black",
          "Woman/black",
          "Man/indian",
          "Woman/indian",
          "Man/latino hispanic",
          "Woman/latino hispanic",
          "Man/middle eastern",
          "Woman/middle eastern",
          "Man/white",
          "Woman/white",
          "Man",
          "Woman",
          "Man",
          "Woman",
          "Man",
          "Woman",
          "Man",
          "Woman",
          "Man",
          "Woman",
          "Man",
          "Woman",
          "",
          ""
         ],
         "type": "sunburst",
         "values": [
          27,
          12,
          2,
          12,
          1,
          20,
          137,
          7,
          56,
          1,
          20,
          1,
          1,
          31,
          29,
          273,
          13,
          118,
          8,
          59,
          1,
          11,
          65,
          1,
          76,
          642,
          21,
          2,
          1,
          5,
          4,
          1,
          3,
          2,
          13,
          1,
          11,
          9,
          5,
          33,
          4,
          25,
          4,
          2,
          1,
          20,
          2,
          13,
          1,
          133,
          24,
          48,
          4,
          15,
          5,
          26,
          6,
          39,
          1,
          231,
          70,
          89,
          17,
          30,
          9,
          3,
          38,
          3,
          47,
          441,
          83,
          31,
          12,
          10,
          3,
          26,
          9,
          27,
          189,
          89,
          117,
          34,
          56,
          11,
          9,
          1,
          52,
          25,
          64,
          2,
          490,
          279,
          321,
          81,
          174,
          22,
          12,
          4,
          152,
          66,
          170,
          5,
          1223,
          597,
          43,
          7,
          13,
          5,
          15,
          4,
          21,
          1,
          119,
          33,
          93,
          8,
          57,
          1,
          11,
          52,
          8,
          83,
          1,
          407,
          66,
          276,
          23,
          171,
          6,
          27,
          2,
          134,
          10,
          169,
          3,
          999,
          146,
          39,
          3,
          15,
          2,
          2,
          28,
          1,
          33,
          1,
          236,
          25,
          77,
          8,
          21,
          1,
          6,
          1,
          44,
          1,
          61,
          471,
          53,
          139,
          14,
          49,
          2,
          7,
          68,
          8,
          97,
          1,
          707,
          111,
          3,
          2,
          1,
          2,
          4,
          18,
          5,
          8,
          1,
          2,
          1,
          4,
          1,
          7,
          79,
          14,
          15,
          2,
          11,
          1,
          11,
          2,
          16,
          127,
          15,
          168,
          28,
          55,
          5,
          10,
          104,
          17,
          118,
          3,
          837,
          183,
          403,
          57,
          171,
          15,
          32,
          2,
          212,
          41,
          285,
          4,
          1964,
          496,
          969,
          145,
          494,
          40,
          61,
          6,
          477,
          90,
          580,
          9,
          4172,
          977,
          1540,
          230,
          720,
          60,
          103,
          8,
          793,
          148,
          983,
          16,
          6973,
          1656,
          11112,
          2118
         ]
        }
       ],
       "layout": {
        "coloraxis": {
         "cmax": 1,
         "cmin": 0,
         "colorbar": {
          "title": {
           "text": "Quality"
          }
         },
         "colorscale": [
          [
           0,
           "#440154"
          ],
          [
           0.1111111111111111,
           "#482878"
          ],
          [
           0.2222222222222222,
           "#3e4989"
          ],
          [
           0.3333333333333333,
           "#31688e"
          ],
          [
           0.4444444444444444,
           "#26828e"
          ],
          [
           0.5555555555555556,
           "#1f9e89"
          ],
          [
           0.6666666666666666,
           "#35b779"
          ],
          [
           0.7777777777777778,
           "#6ece58"
          ],
          [
           0.8888888888888888,
           "#b5de2b"
          ],
          [
           1,
           "#fde725"
          ]
         ]
        },
        "legend": {
         "tracegroupgap": 0
        },
        "template": {
         "data": {
          "bar": [
           {
            "error_x": {
             "color": "#2a3f5f"
            },
            "error_y": {
             "color": "#2a3f5f"
            },
            "marker": {
             "line": {
              "color": "#E5ECF6",
              "width": 0.5
             },
             "pattern": {
              "fillmode": "overlay",
              "size": 10,
              "solidity": 0.2
             }
            },
            "type": "bar"
           }
          ],
          "barpolar": [
           {
            "marker": {
             "line": {
              "color": "#E5ECF6",
              "width": 0.5
             },
             "pattern": {
              "fillmode": "overlay",
              "size": 10,
              "solidity": 0.2
             }
            },
            "type": "barpolar"
           }
          ],
          "carpet": [
           {
            "aaxis": {
             "endlinecolor": "#2a3f5f",
             "gridcolor": "white",
             "linecolor": "white",
             "minorgridcolor": "white",
             "startlinecolor": "#2a3f5f"
            },
            "baxis": {
             "endlinecolor": "#2a3f5f",
             "gridcolor": "white",
             "linecolor": "white",
             "minorgridcolor": "white",
             "startlinecolor": "#2a3f5f"
            },
            "type": "carpet"
           }
          ],
          "choropleth": [
           {
            "colorbar": {
             "outlinewidth": 0,
             "ticks": ""
            },
            "type": "choropleth"
           }
          ],
          "contour": [
           {
            "colorbar": {
             "outlinewidth": 0,
             "ticks": ""
            },
            "colorscale": [
             [
              0,
              "#0d0887"
             ],
             [
              0.1111111111111111,
              "#46039f"
             ],
             [
              0.2222222222222222,
              "#7201a8"
             ],
             [
              0.3333333333333333,
              "#9c179e"
             ],
             [
              0.4444444444444444,
              "#bd3786"
             ],
             [
              0.5555555555555556,
              "#d8576b"
             ],
             [
              0.6666666666666666,
              "#ed7953"
             ],
             [
              0.7777777777777778,
              "#fb9f3a"
             ],
             [
              0.8888888888888888,
              "#fdca26"
             ],
             [
              1,
              "#f0f921"
             ]
            ],
            "type": "contour"
           }
          ],
          "contourcarpet": [
           {
            "colorbar": {
             "outlinewidth": 0,
             "ticks": ""
            },
            "type": "contourcarpet"
           }
          ],
          "heatmap": [
           {
            "colorbar": {
             "outlinewidth": 0,
             "ticks": ""
            },
            "colorscale": [
             [
              0,
              "#0d0887"
             ],
             [
              0.1111111111111111,
              "#46039f"
             ],
             [
              0.2222222222222222,
              "#7201a8"
             ],
             [
              0.3333333333333333,
              "#9c179e"
             ],
             [
              0.4444444444444444,
              "#bd3786"
             ],
             [
              0.5555555555555556,
              "#d8576b"
             ],
             [
              0.6666666666666666,
              "#ed7953"
             ],
             [
              0.7777777777777778,
              "#fb9f3a"
             ],
             [
              0.8888888888888888,
              "#fdca26"
             ],
             [
              1,
              "#f0f921"
             ]
            ],
            "type": "heatmap"
           }
          ],
          "heatmapgl": [
           {
            "colorbar": {
             "outlinewidth": 0,
             "ticks": ""
            },
            "colorscale": [
             [
              0,
              "#0d0887"
             ],
             [
              0.1111111111111111,
              "#46039f"
             ],
             [
              0.2222222222222222,
              "#7201a8"
             ],
             [
              0.3333333333333333,
              "#9c179e"
             ],
             [
              0.4444444444444444,
              "#bd3786"
             ],
             [
              0.5555555555555556,
              "#d8576b"
             ],
             [
              0.6666666666666666,
              "#ed7953"
             ],
             [
              0.7777777777777778,
              "#fb9f3a"
             ],
             [
              0.8888888888888888,
              "#fdca26"
             ],
             [
              1,
              "#f0f921"
             ]
            ],
            "type": "heatmapgl"
           }
          ],
          "histogram": [
           {
            "marker": {
             "pattern": {
              "fillmode": "overlay",
              "size": 10,
              "solidity": 0.2
             }
            },
            "type": "histogram"
           }
          ],
          "histogram2d": [
           {
            "colorbar": {
             "outlinewidth": 0,
             "ticks": ""
            },
            "colorscale": [
             [
              0,
              "#0d0887"
             ],
             [
              0.1111111111111111,
              "#46039f"
             ],
             [
              0.2222222222222222,
              "#7201a8"
             ],
             [
              0.3333333333333333,
              "#9c179e"
             ],
             [
              0.4444444444444444,
              "#bd3786"
             ],
             [
              0.5555555555555556,
              "#d8576b"
             ],
             [
              0.6666666666666666,
              "#ed7953"
             ],
             [
              0.7777777777777778,
              "#fb9f3a"
             ],
             [
              0.8888888888888888,
              "#fdca26"
             ],
             [
              1,
              "#f0f921"
             ]
            ],
            "type": "histogram2d"
           }
          ],
          "histogram2dcontour": [
           {
            "colorbar": {
             "outlinewidth": 0,
             "ticks": ""
            },
            "colorscale": [
             [
              0,
              "#0d0887"
             ],
             [
              0.1111111111111111,
              "#46039f"
             ],
             [
              0.2222222222222222,
              "#7201a8"
             ],
             [
              0.3333333333333333,
              "#9c179e"
             ],
             [
              0.4444444444444444,
              "#bd3786"
             ],
             [
              0.5555555555555556,
              "#d8576b"
             ],
             [
              0.6666666666666666,
              "#ed7953"
             ],
             [
              0.7777777777777778,
              "#fb9f3a"
             ],
             [
              0.8888888888888888,
              "#fdca26"
             ],
             [
              1,
              "#f0f921"
             ]
            ],
            "type": "histogram2dcontour"
           }
          ],
          "mesh3d": [
           {
            "colorbar": {
             "outlinewidth": 0,
             "ticks": ""
            },
            "type": "mesh3d"
           }
          ],
          "parcoords": [
           {
            "line": {
             "colorbar": {
              "outlinewidth": 0,
              "ticks": ""
             }
            },
            "type": "parcoords"
           }
          ],
          "pie": [
           {
            "automargin": true,
            "type": "pie"
           }
          ],
          "scatter": [
           {
            "fillpattern": {
             "fillmode": "overlay",
             "size": 10,
             "solidity": 0.2
            },
            "type": "scatter"
           }
          ],
          "scatter3d": [
           {
            "line": {
             "colorbar": {
              "outlinewidth": 0,
              "ticks": ""
             }
            },
            "marker": {
             "colorbar": {
              "outlinewidth": 0,
              "ticks": ""
             }
            },
            "type": "scatter3d"
           }
          ],
          "scattercarpet": [
           {
            "marker": {
             "colorbar": {
              "outlinewidth": 0,
              "ticks": ""
             }
            },
            "type": "scattercarpet"
           }
          ],
          "scattergeo": [
           {
            "marker": {
             "colorbar": {
              "outlinewidth": 0,
              "ticks": ""
             }
            },
            "type": "scattergeo"
           }
          ],
          "scattergl": [
           {
            "marker": {
             "colorbar": {
              "outlinewidth": 0,
              "ticks": ""
             }
            },
            "type": "scattergl"
           }
          ],
          "scattermapbox": [
           {
            "marker": {
             "colorbar": {
              "outlinewidth": 0,
              "ticks": ""
             }
            },
            "type": "scattermapbox"
           }
          ],
          "scatterpolar": [
           {
            "marker": {
             "colorbar": {
              "outlinewidth": 0,
              "ticks": ""
             }
            },
            "type": "scatterpolar"
           }
          ],
          "scatterpolargl": [
           {
            "marker": {
             "colorbar": {
              "outlinewidth": 0,
              "ticks": ""
             }
            },
            "type": "scatterpolargl"
           }
          ],
          "scatterternary": [
           {
            "marker": {
             "colorbar": {
              "outlinewidth": 0,
              "ticks": ""
             }
            },
            "type": "scatterternary"
           }
          ],
          "surface": [
           {
            "colorbar": {
             "outlinewidth": 0,
             "ticks": ""
            },
            "colorscale": [
             [
              0,
              "#0d0887"
             ],
             [
              0.1111111111111111,
              "#46039f"
             ],
             [
              0.2222222222222222,
              "#7201a8"
             ],
             [
              0.3333333333333333,
              "#9c179e"
             ],
             [
              0.4444444444444444,
              "#bd3786"
             ],
             [
              0.5555555555555556,
              "#d8576b"
             ],
             [
              0.6666666666666666,
              "#ed7953"
             ],
             [
              0.7777777777777778,
              "#fb9f3a"
             ],
             [
              0.8888888888888888,
              "#fdca26"
             ],
             [
              1,
              "#f0f921"
             ]
            ],
            "type": "surface"
           }
          ],
          "table": [
           {
            "cells": {
             "fill": {
              "color": "#EBF0F8"
             },
             "line": {
              "color": "white"
             }
            },
            "header": {
             "fill": {
              "color": "#C8D4E3"
             },
             "line": {
              "color": "white"
             }
            },
            "type": "table"
           }
          ]
         },
         "layout": {
          "annotationdefaults": {
           "arrowcolor": "#2a3f5f",
           "arrowhead": 0,
           "arrowwidth": 1
          },
          "autotypenumbers": "strict",
          "coloraxis": {
           "colorbar": {
            "outlinewidth": 0,
            "ticks": ""
           }
          },
          "colorscale": {
           "diverging": [
            [
             0,
             "#8e0152"
            ],
            [
             0.1,
             "#c51b7d"
            ],
            [
             0.2,
             "#de77ae"
            ],
            [
             0.3,
             "#f1b6da"
            ],
            [
             0.4,
             "#fde0ef"
            ],
            [
             0.5,
             "#f7f7f7"
            ],
            [
             0.6,
             "#e6f5d0"
            ],
            [
             0.7,
             "#b8e186"
            ],
            [
             0.8,
             "#7fbc41"
            ],
            [
             0.9,
             "#4d9221"
            ],
            [
             1,
             "#276419"
            ]
           ],
           "sequential": [
            [
             0,
             "#0d0887"
            ],
            [
             0.1111111111111111,
             "#46039f"
            ],
            [
             0.2222222222222222,
             "#7201a8"
            ],
            [
             0.3333333333333333,
             "#9c179e"
            ],
            [
             0.4444444444444444,
             "#bd3786"
            ],
            [
             0.5555555555555556,
             "#d8576b"
            ],
            [
             0.6666666666666666,
             "#ed7953"
            ],
            [
             0.7777777777777778,
             "#fb9f3a"
            ],
            [
             0.8888888888888888,
             "#fdca26"
            ],
            [
             1,
             "#f0f921"
            ]
           ],
           "sequentialminus": [
            [
             0,
             "#0d0887"
            ],
            [
             0.1111111111111111,
             "#46039f"
            ],
            [
             0.2222222222222222,
             "#7201a8"
            ],
            [
             0.3333333333333333,
             "#9c179e"
            ],
            [
             0.4444444444444444,
             "#bd3786"
            ],
            [
             0.5555555555555556,
             "#d8576b"
            ],
            [
             0.6666666666666666,
             "#ed7953"
            ],
            [
             0.7777777777777778,
             "#fb9f3a"
            ],
            [
             0.8888888888888888,
             "#fdca26"
            ],
            [
             1,
             "#f0f921"
            ]
           ]
          },
          "colorway": [
           "#636efa",
           "#EF553B",
           "#00cc96",
           "#ab63fa",
           "#FFA15A",
           "#19d3f3",
           "#FF6692",
           "#B6E880",
           "#FF97FF",
           "#FECB52"
          ],
          "font": {
           "color": "#2a3f5f"
          },
          "geo": {
           "bgcolor": "white",
           "lakecolor": "white",
           "landcolor": "#E5ECF6",
           "showlakes": true,
           "showland": true,
           "subunitcolor": "white"
          },
          "hoverlabel": {
           "align": "left"
          },
          "hovermode": "closest",
          "mapbox": {
           "style": "light"
          },
          "paper_bgcolor": "white",
          "plot_bgcolor": "#E5ECF6",
          "polar": {
           "angularaxis": {
            "gridcolor": "white",
            "linecolor": "white",
            "ticks": ""
           },
           "bgcolor": "#E5ECF6",
           "radialaxis": {
            "gridcolor": "white",
            "linecolor": "white",
            "ticks": ""
           }
          },
          "scene": {
           "xaxis": {
            "backgroundcolor": "#E5ECF6",
            "gridcolor": "white",
            "gridwidth": 2,
            "linecolor": "white",
            "showbackground": true,
            "ticks": "",
            "zerolinecolor": "white"
           },
           "yaxis": {
            "backgroundcolor": "#E5ECF6",
            "gridcolor": "white",
            "gridwidth": 2,
            "linecolor": "white",
            "showbackground": true,
            "ticks": "",
            "zerolinecolor": "white"
           },
           "zaxis": {
            "backgroundcolor": "#E5ECF6",
            "gridcolor": "white",
            "gridwidth": 2,
            "linecolor": "white",
            "showbackground": true,
            "ticks": "",
            "zerolinecolor": "white"
           }
          },
          "shapedefaults": {
           "line": {
            "color": "#2a3f5f"
           }
          },
          "ternary": {
           "aaxis": {
            "gridcolor": "white",
            "linecolor": "white",
            "ticks": ""
           },
           "baxis": {
            "gridcolor": "white",
            "linecolor": "white",
            "ticks": ""
           },
           "bgcolor": "#E5ECF6",
           "caxis": {
            "gridcolor": "white",
            "linecolor": "white",
            "ticks": ""
           }
          },
          "title": {
           "x": 0.05
          },
          "xaxis": {
           "automargin": true,
           "gridcolor": "white",
           "linecolor": "white",
           "ticks": "",
           "title": {
            "standoff": 15
           },
           "zerolinecolor": "white",
           "zerolinewidth": 2
          },
          "yaxis": {
           "automargin": true,
           "gridcolor": "white",
           "linecolor": "white",
           "ticks": "",
           "title": {
            "standoff": 15
           },
           "zerolinecolor": "white",
           "zerolinewidth": 2
          }
         }
        },
        "title": {
         "text": "LFW"
        }
       }
      },
      "text/html": [
       "<div>                            <div id=\"2f0b5950-54f8-40dc-a9b1-863b058015fe\" class=\"plotly-graph-div\" style=\"height:525px; width:100%;\"></div>            <script type=\"text/javascript\">                require([\"plotly\"], function(Plotly) {                    window.PLOTLYENV=window.PLOTLYENV || {};                                    if (document.getElementById(\"2f0b5950-54f8-40dc-a9b1-863b058015fe\")) {                    Plotly.newPlot(                        \"2f0b5950-54f8-40dc-a9b1-863b058015fe\",                        [{\"branchvalues\":\"total\",\"customdata\":[[0.19120178554965062],[0.1868609922315996],[0.003564165838228126],[0.14055901186756928],[0.3936685414443646],[0.19190841516027426],[0.21739885158181138],[0.11294821640222492],[0.479423012318899],[0.59622397153544],[0.33622809805025755],[0.2023560187618654],[0.700033521806995],[0.48636879626834245],[0.48604707661553814],[0.5049340890237217],[0.42015767503119744],[0.6086102123404658],[0.5041789014200786],[0.3920523225871951],[0.7036188495661694],[0.5115228692613804],[0.5899819281269634],[0.614485714277504],[0.5989022031926524],[0.5907040579437065],[0.6080805408312662],[0.19775180677508433],[0.3477157661273298],[0.542056253168666],[0.3575130562174316],[0.07756013168092299],[0.4593127163025407],[0.682132899373113],[0.6070986926109495],[0.26846413439447847],[0.684000179311905],[0.67589186825349],[0.7264827536022993],[0.6186599474295483],[0.6720317003691463],[0.21813380518187725],[0.19616862036727467],[0.08188660708937971],[0.01930124624961819],[0.21656536691686754],[0.3215803095871207],[0.18887113546679554],[0.004778768530135224],[0.2134329036526565],[0.2391705315577192],[0.3933280230352311],[0.26444528881970053],[0.33230572084114407],[0.432504006432607],[0.47068175935330936],[0.4801797995391836],[0.5000379251775955],[0.6173353321494139],[0.45017313927518493],[0.3905276721918821],[0.5095304199786339],[0.38922989223112753],[0.3446056931197611],[0.3491703241302195],[0.5320306867918313],[0.5251713236174126],[0.7209597803986724],[0.6504275972274208],[0.5689598177349856],[0.5216199623439216],[0.25063640113655206],[0.10538688324717609],[0.11127776047626137],[0.1128431449989637],[0.19818399609964923],[0.20306863205566283],[0.2272120116666469],[0.19281675813304017],[0.20505494024800514],[0.4143966194792139],[0.3974786809534453],[0.29930344334399106],[0.3518576114387945],[0.38401619549822114],[0.5229110627060591],[0.5163559357563696],[0.44821712576231093],[0.49162115484516133],[0.43413154793409825],[0.4682847045241649],[0.4585929437224646],[0.5754712898160887],[0.5344310049640038],[0.43685637075664896],[0.5562405409031294],[0.5919611370747441],[0.6505774370251953],[0.6333221184913994],[0.6182612546258814],[0.587214219718254],[0.5525264114773426],[0.6309337514305453],[0.6211021745297757],[0.20593041193366549],[0.13590810194351416],[0.19415137441262123],[0.2906768500599534],[0.34096798537909884],[0.4287116062826206],[0.26903171602722387],[0.02755693695767296],[0.2577182426985767],[0.21860653407567762],[0.5111660579215951],[0.46011198366667383],[0.4138320005889199],[0.3222246259385147],[0.4297262929440866],[0.5454024142040859],[0.4992738491224664],[0.5411120627091532],[0.33697678012180426],[0.5342459961238868],[0.511219596377766],[0.60554612593165],[0.4546969811160339],[0.4818672127280489],[0.5154465421966269],[0.5362216228666242],[0.3979641801964645],[0.6220395498836286],[0.6211802597755212],[0.6259719448928832],[0.7886268824374504],[0.6566769710724003],[0.6532398571929418],[0.1783412823113396],[0.3209168583824816],[0.16452188133517331],[0.0043489516453619525],[0.2460135493344846],[0.2026395819258486],[0.21696041090757337],[0.21105531349288173],[0.008717869252726782],[0.21369430307925677],[0.21007623199338427],[0.4482636462270501],[0.43787190543710874],[0.37084490970826123],[0.06413576870979978],[0.4610623334454819],[0.12490492700785334],[0.5601038490103177],[0.6334662898676112],[0.5490409913677323],[0.472173651918718],[0.45303193157468735],[0.5608879632233624],[0.34977589573028156],[0.4060488944531286],[0.44557348084056336],[0.4634536345256614],[0.6708564376930815],[0.5533202292365764],[0.6153553259211547],[0.19867686151670474],[0.5807151459120886],[0.5602643110336673],[0.1988184739979292],[0.40641822754939466],[0.020672938762199583],[0.16723394151032284],[0.26102988035417296],[0.10396494372106041],[0.14539656176145976],[0.34096939922300484],[0.10833396021096983],[0.5164130344155665],[0.06623622711722504],[0.6679971183702405],[0.4565409139276891],[0.348680006756315],[0.4060825473648304],[0.42822849709060234],[0.5511681720066909],[0.39561762848523],[0.45358131421420217],[0.0054442868905733716],[0.47955733959157826],[0.5614239581391807],[0.5744403669038748],[0.5474302273246046],[0.5171018727025226],[0.20709699357085867],[0.17058074372450155],[0.16230646118953843],[0.06944546765752299],[0.19718409268948106],[0.21770587599131996],[0.28213256971515455],[0.22107481595361683],[0.013684524913511653],[0.21540569032295545],[0.2075055966525276],[0.4477032005941996],[0.39540430673602694],[0.3560183263576542],[0.3016924244236096],[0.43162695426599573],[0.32390799485695626],[0.5246277764353343],[0.4675781692211685],[0.5167348271515755],[0.45564380203485366],[0.4842674243456143],[0.45314771563600564],[0.5807803701372053],[0.4833474423740503],[0.43880030364159955],[0.501681747036697],[0.5254750952969944],[0.5663730180822851],[0.618238978267781],[0.6149313356523098],[0.6107159772485454],[0.5919099518017521],[0.6132072344719847],[0.608873243595905],[0.5051901710534537],[0.42347689327163857],[0.39801852662713005],[0.41566472643516067],[0.46444547841284795],[0.5057567622759529],[0.5406841013128875],[0.5358836407563069],[0.5366953416326369],[0.44942614681848236],[0.5291404512307788],[0.5178767814831344],[0.5182176445706081],[0.5054254818007053]],\"domain\":{\"x\":[0.0,1.0],\"y\":[0.0,1.0]},\"hovertemplate\":\"labels=%{label}<br>count=%{value}<br>parent=%{parent}<br>id=%{id}<br>Quality=%{color}<extra></extra>\",\"ids\":[\"Man/asian/sideways/angry\",\"Man/black/sideways/angry\",\"Man/indian/sideways/angry\",\"Man/latino hispanic/sideways/angry\",\"Woman/latino hispanic/sideways/angry\",\"Man/middle eastern/sideways/angry\",\"Man/white/sideways/angry\",\"Woman/white/sideways/angry\",\"Man/asian/slightly_turned/angry\",\"Woman/asian/slightly_turned/angry\",\"Man/black/slightly_turned/angry\",\"Woman/black/slightly_turned/angry\",\"Man/indian/slightly_turned/angry\",\"Man/latino hispanic/slightly_turned/angry\",\"Man/middle eastern/slightly_turned/angry\",\"Man/white/slightly_turned/angry\",\"Woman/white/slightly_turned/angry\",\"Man/asian/straight/angry\",\"Woman/asian/straight/angry\",\"Man/black/straight/angry\",\"Woman/black/straight/angry\",\"Man/indian/straight/angry\",\"Man/latino hispanic/straight/angry\",\"Woman/latino hispanic/straight/angry\",\"Man/middle eastern/straight/angry\",\"Man/white/straight/angry\",\"Woman/white/straight/angry\",\"Man/black/sideways/disgust\",\"Man/latino hispanic/sideways/disgust\",\"Man/white/sideways/disgust\",\"Man/asian/slightly_turned/disgust\",\"Woman/asian/slightly_turned/disgust\",\"Man/latino hispanic/slightly_turned/disgust\",\"Man/middle eastern/slightly_turned/disgust\",\"Man/white/slightly_turned/disgust\",\"Woman/white/slightly_turned/disgust\",\"Man/asian/straight/disgust\",\"Man/latino hispanic/straight/disgust\",\"Man/middle eastern/straight/disgust\",\"Man/white/straight/disgust\",\"Woman/white/straight/disgust\",\"Man/asian/sideways/fear\",\"Woman/asian/sideways/fear\",\"Man/black/sideways/fear\",\"Man/indian/sideways/fear\",\"Man/latino hispanic/sideways/fear\",\"Woman/latino hispanic/sideways/fear\",\"Man/middle eastern/sideways/fear\",\"Woman/middle eastern/sideways/fear\",\"Man/white/sideways/fear\",\"Woman/white/sideways/fear\",\"Man/asian/slightly_turned/fear\",\"Woman/asian/slightly_turned/fear\",\"Man/black/slightly_turned/fear\",\"Man/indian/slightly_turned/fear\",\"Man/latino hispanic/slightly_turned/fear\",\"Woman/latino hispanic/slightly_turned/fear\",\"Man/middle eastern/slightly_turned/fear\",\"Woman/middle eastern/slightly_turned/fear\",\"Man/white/slightly_turned/fear\",\"Woman/white/slightly_turned/fear\",\"Man/asian/straight/fear\",\"Woman/asian/straight/fear\",\"Man/black/straight/fear\",\"Woman/black/straight/fear\",\"Man/indian/straight/fear\",\"Man/latino hispanic/straight/fear\",\"Woman/latino hispanic/straight/fear\",\"Man/middle eastern/straight/fear\",\"Man/white/straight/fear\",\"Woman/white/straight/fear\",\"Man/asian/sideways/happy\",\"Woman/asian/sideways/happy\",\"Man/black/sideways/happy\",\"Woman/black/sideways/happy\",\"Man/latino hispanic/sideways/happy\",\"Woman/latino hispanic/sideways/happy\",\"Man/middle eastern/sideways/happy\",\"Man/white/sideways/happy\",\"Woman/white/sideways/happy\",\"Man/asian/slightly_turned/happy\",\"Woman/asian/slightly_turned/happy\",\"Man/black/slightly_turned/happy\",\"Woman/black/slightly_turned/happy\",\"Man/indian/slightly_turned/happy\",\"Woman/indian/slightly_turned/happy\",\"Man/latino hispanic/slightly_turned/happy\",\"Woman/latino hispanic/slightly_turned/happy\",\"Man/middle eastern/slightly_turned/happy\",\"Woman/middle eastern/slightly_turned/happy\",\"Man/white/slightly_turned/happy\",\"Woman/white/slightly_turned/happy\",\"Man/asian/straight/happy\",\"Woman/asian/straight/happy\",\"Man/black/straight/happy\",\"Woman/black/straight/happy\",\"Man/indian/straight/happy\",\"Woman/indian/straight/happy\",\"Man/latino hispanic/straight/happy\",\"Woman/latino hispanic/straight/happy\",\"Man/middle eastern/straight/happy\",\"Woman/middle eastern/straight/happy\",\"Man/white/straight/happy\",\"Woman/white/straight/happy\",\"Man/asian/sideways/neutral\",\"Woman/asian/sideways/neutral\",\"Man/black/sideways/neutral\",\"Man/indian/sideways/neutral\",\"Man/latino hispanic/sideways/neutral\",\"Woman/latino hispanic/sideways/neutral\",\"Man/middle eastern/sideways/neutral\",\"Woman/middle eastern/sideways/neutral\",\"Man/white/sideways/neutral\",\"Woman/white/sideways/neutral\",\"Man/asian/slightly_turned/neutral\",\"Woman/asian/slightly_turned/neutral\",\"Man/black/slightly_turned/neutral\",\"Woman/black/slightly_turned/neutral\",\"Man/indian/slightly_turned/neutral\",\"Man/latino hispanic/slightly_turned/neutral\",\"Woman/latino hispanic/slightly_turned/neutral\",\"Man/middle eastern/slightly_turned/neutral\",\"Woman/middle eastern/slightly_turned/neutral\",\"Man/white/slightly_turned/neutral\",\"Woman/white/slightly_turned/neutral\",\"Man/asian/straight/neutral\",\"Woman/asian/straight/neutral\",\"Man/black/straight/neutral\",\"Woman/black/straight/neutral\",\"Man/indian/straight/neutral\",\"Woman/indian/straight/neutral\",\"Man/latino hispanic/straight/neutral\",\"Woman/latino hispanic/straight/neutral\",\"Man/middle eastern/straight/neutral\",\"Woman/middle eastern/straight/neutral\",\"Man/white/straight/neutral\",\"Woman/white/straight/neutral\",\"Man/asian/sideways/sad\",\"Woman/asian/sideways/sad\",\"Man/black/sideways/sad\",\"Woman/black/sideways/sad\",\"Man/indian/sideways/sad\",\"Man/latino hispanic/sideways/sad\",\"Woman/latino hispanic/sideways/sad\",\"Man/middle eastern/sideways/sad\",\"Woman/middle eastern/sideways/sad\",\"Man/white/sideways/sad\",\"Woman/white/sideways/sad\",\"Man/asian/slightly_turned/sad\",\"Woman/asian/slightly_turned/sad\",\"Man/black/slightly_turned/sad\",\"Woman/black/slightly_turned/sad\",\"Man/indian/slightly_turned/sad\",\"Woman/indian/slightly_turned/sad\",\"Man/latino hispanic/slightly_turned/sad\",\"Woman/latino hispanic/slightly_turned/sad\",\"Man/middle eastern/slightly_turned/sad\",\"Man/white/slightly_turned/sad\",\"Woman/white/slightly_turned/sad\",\"Man/asian/straight/sad\",\"Woman/asian/straight/sad\",\"Man/black/straight/sad\",\"Woman/black/straight/sad\",\"Man/indian/straight/sad\",\"Man/latino hispanic/straight/sad\",\"Woman/latino hispanic/straight/sad\",\"Man/middle eastern/straight/sad\",\"Woman/middle eastern/straight/sad\",\"Man/white/straight/sad\",\"Woman/white/straight/sad\",\"Man/asian/sideways/surprise\",\"Woman/asian/sideways/surprise\",\"Man/black/sideways/surprise\",\"Man/latino hispanic/sideways/surprise\",\"Man/middle eastern/sideways/surprise\",\"Man/white/sideways/surprise\",\"Woman/white/sideways/surprise\",\"Man/asian/slightly_turned/surprise\",\"Woman/asian/slightly_turned/surprise\",\"Man/black/slightly_turned/surprise\",\"Woman/black/slightly_turned/surprise\",\"Man/latino hispanic/slightly_turned/surprise\",\"Woman/latino hispanic/slightly_turned/surprise\",\"Man/middle eastern/slightly_turned/surprise\",\"Man/white/slightly_turned/surprise\",\"Woman/white/slightly_turned/surprise\",\"Man/asian/straight/surprise\",\"Woman/asian/straight/surprise\",\"Man/black/straight/surprise\",\"Man/indian/straight/surprise\",\"Man/latino hispanic/straight/surprise\",\"Woman/latino hispanic/straight/surprise\",\"Man/middle eastern/straight/surprise\",\"Man/white/straight/surprise\",\"Woman/white/straight/surprise\",\"Man/asian/sideways\",\"Woman/asian/sideways\",\"Man/black/sideways\",\"Woman/black/sideways\",\"Man/indian/sideways\",\"Man/latino hispanic/sideways\",\"Woman/latino hispanic/sideways\",\"Man/middle eastern/sideways\",\"Woman/middle eastern/sideways\",\"Man/white/sideways\",\"Woman/white/sideways\",\"Man/asian/slightly_turned\",\"Woman/asian/slightly_turned\",\"Man/black/slightly_turned\",\"Woman/black/slightly_turned\",\"Man/indian/slightly_turned\",\"Woman/indian/slightly_turned\",\"Man/latino hispanic/slightly_turned\",\"Woman/latino hispanic/slightly_turned\",\"Man/middle eastern/slightly_turned\",\"Woman/middle eastern/slightly_turned\",\"Man/white/slightly_turned\",\"Woman/white/slightly_turned\",\"Man/asian/straight\",\"Woman/asian/straight\",\"Man/black/straight\",\"Woman/black/straight\",\"Man/indian/straight\",\"Woman/indian/straight\",\"Man/latino hispanic/straight\",\"Woman/latino hispanic/straight\",\"Man/middle eastern/straight\",\"Woman/middle eastern/straight\",\"Man/white/straight\",\"Woman/white/straight\",\"Man/asian\",\"Woman/asian\",\"Man/black\",\"Woman/black\",\"Man/indian\",\"Woman/indian\",\"Man/latino hispanic\",\"Woman/latino hispanic\",\"Man/middle eastern\",\"Woman/middle eastern\",\"Man/white\",\"Woman/white\",\"Man\",\"Woman\"],\"labels\":[\"angry\",\"angry\",\"angry\",\"angry\",\"angry\",\"angry\",\"angry\",\"angry\",\"angry\",\"angry\",\"angry\",\"angry\",\"angry\",\"angry\",\"angry\",\"angry\",\"angry\",\"angry\",\"angry\",\"angry\",\"angry\",\"angry\",\"angry\",\"angry\",\"angry\",\"angry\",\"angry\",\"disgust\",\"disgust\",\"disgust\",\"disgust\",\"disgust\",\"disgust\",\"disgust\",\"disgust\",\"disgust\",\"disgust\",\"disgust\",\"disgust\",\"disgust\",\"disgust\",\"fear\",\"fear\",\"fear\",\"fear\",\"fear\",\"fear\",\"fear\",\"fear\",\"fear\",\"fear\",\"fear\",\"fear\",\"fear\",\"fear\",\"fear\",\"fear\",\"fear\",\"fear\",\"fear\",\"fear\",\"fear\",\"fear\",\"fear\",\"fear\",\"fear\",\"fear\",\"fear\",\"fear\",\"fear\",\"fear\",\"happy\",\"happy\",\"happy\",\"happy\",\"happy\",\"happy\",\"happy\",\"happy\",\"happy\",\"happy\",\"happy\",\"happy\",\"happy\",\"happy\",\"happy\",\"happy\",\"happy\",\"happy\",\"happy\",\"happy\",\"happy\",\"happy\",\"happy\",\"happy\",\"happy\",\"happy\",\"happy\",\"happy\",\"happy\",\"happy\",\"happy\",\"happy\",\"happy\",\"neutral\",\"neutral\",\"neutral\",\"neutral\",\"neutral\",\"neutral\",\"neutral\",\"neutral\",\"neutral\",\"neutral\",\"neutral\",\"neutral\",\"neutral\",\"neutral\",\"neutral\",\"neutral\",\"neutral\",\"neutral\",\"neutral\",\"neutral\",\"neutral\",\"neutral\",\"neutral\",\"neutral\",\"neutral\",\"neutral\",\"neutral\",\"neutral\",\"neutral\",\"neutral\",\"neutral\",\"neutral\",\"neutral\",\"sad\",\"sad\",\"sad\",\"sad\",\"sad\",\"sad\",\"sad\",\"sad\",\"sad\",\"sad\",\"sad\",\"sad\",\"sad\",\"sad\",\"sad\",\"sad\",\"sad\",\"sad\",\"sad\",\"sad\",\"sad\",\"sad\",\"sad\",\"sad\",\"sad\",\"sad\",\"sad\",\"sad\",\"sad\",\"sad\",\"sad\",\"sad\",\"sad\",\"surprise\",\"surprise\",\"surprise\",\"surprise\",\"surprise\",\"surprise\",\"surprise\",\"surprise\",\"surprise\",\"surprise\",\"surprise\",\"surprise\",\"surprise\",\"surprise\",\"surprise\",\"surprise\",\"surprise\",\"surprise\",\"surprise\",\"surprise\",\"surprise\",\"surprise\",\"surprise\",\"surprise\",\"surprise\",\"sideways\",\"sideways\",\"sideways\",\"sideways\",\"sideways\",\"sideways\",\"sideways\",\"sideways\",\"sideways\",\"sideways\",\"sideways\",\"slightly_turned\",\"slightly_turned\",\"slightly_turned\",\"slightly_turned\",\"slightly_turned\",\"slightly_turned\",\"slightly_turned\",\"slightly_turned\",\"slightly_turned\",\"slightly_turned\",\"slightly_turned\",\"slightly_turned\",\"straight\",\"straight\",\"straight\",\"straight\",\"straight\",\"straight\",\"straight\",\"straight\",\"straight\",\"straight\",\"straight\",\"straight\",\"asian\",\"asian\",\"black\",\"black\",\"indian\",\"indian\",\"latino hispanic\",\"latino hispanic\",\"middle eastern\",\"middle eastern\",\"white\",\"white\",\"Man\",\"Woman\"],\"marker\":{\"coloraxis\":\"coloraxis\",\"colors\":[0.19120178554965062,0.1868609922315996,0.003564165838228126,0.14055901186756928,0.3936685414443646,0.19190841516027426,0.21739885158181138,0.11294821640222492,0.479423012318899,0.59622397153544,0.33622809805025755,0.2023560187618654,0.700033521806995,0.48636879626834245,0.48604707661553814,0.5049340890237217,0.42015767503119744,0.6086102123404658,0.5041789014200786,0.3920523225871951,0.7036188495661694,0.5115228692613804,0.5899819281269634,0.614485714277504,0.5989022031926524,0.5907040579437065,0.6080805408312662,0.19775180677508433,0.3477157661273298,0.542056253168666,0.3575130562174316,0.07756013168092299,0.4593127163025407,0.682132899373113,0.6070986926109495,0.26846413439447847,0.684000179311905,0.67589186825349,0.7264827536022993,0.6186599474295483,0.6720317003691463,0.21813380518187725,0.19616862036727467,0.08188660708937971,0.01930124624961819,0.21656536691686754,0.3215803095871207,0.18887113546679554,0.004778768530135224,0.2134329036526565,0.2391705315577192,0.3933280230352311,0.26444528881970053,0.33230572084114407,0.432504006432607,0.47068175935330936,0.4801797995391836,0.5000379251775955,0.6173353321494139,0.45017313927518493,0.3905276721918821,0.5095304199786339,0.38922989223112753,0.3446056931197611,0.3491703241302195,0.5320306867918313,0.5251713236174126,0.7209597803986724,0.6504275972274208,0.5689598177349856,0.5216199623439216,0.25063640113655206,0.10538688324717609,0.11127776047626137,0.1128431449989637,0.19818399609964923,0.20306863205566283,0.2272120116666469,0.19281675813304017,0.20505494024800514,0.4143966194792139,0.3974786809534453,0.29930344334399106,0.3518576114387945,0.38401619549822114,0.5229110627060591,0.5163559357563696,0.44821712576231093,0.49162115484516133,0.43413154793409825,0.4682847045241649,0.4585929437224646,0.5754712898160887,0.5344310049640038,0.43685637075664896,0.5562405409031294,0.5919611370747441,0.6505774370251953,0.6333221184913994,0.6182612546258814,0.587214219718254,0.5525264114773426,0.6309337514305453,0.6211021745297757,0.20593041193366549,0.13590810194351416,0.19415137441262123,0.2906768500599534,0.34096798537909884,0.4287116062826206,0.26903171602722387,0.02755693695767296,0.2577182426985767,0.21860653407567762,0.5111660579215951,0.46011198366667383,0.4138320005889199,0.3222246259385147,0.4297262929440866,0.5454024142040859,0.4992738491224664,0.5411120627091532,0.33697678012180426,0.5342459961238868,0.511219596377766,0.60554612593165,0.4546969811160339,0.4818672127280489,0.5154465421966269,0.5362216228666242,0.3979641801964645,0.6220395498836286,0.6211802597755212,0.6259719448928832,0.7886268824374504,0.6566769710724003,0.6532398571929418,0.1783412823113396,0.3209168583824816,0.16452188133517331,0.0043489516453619525,0.2460135493344846,0.2026395819258486,0.21696041090757337,0.21105531349288173,0.008717869252726782,0.21369430307925677,0.21007623199338427,0.4482636462270501,0.43787190543710874,0.37084490970826123,0.06413576870979978,0.4610623334454819,0.12490492700785334,0.5601038490103177,0.6334662898676112,0.5490409913677323,0.472173651918718,0.45303193157468735,0.5608879632233624,0.34977589573028156,0.4060488944531286,0.44557348084056336,0.4634536345256614,0.6708564376930815,0.5533202292365764,0.6153553259211547,0.19867686151670474,0.5807151459120886,0.5602643110336673,0.1988184739979292,0.40641822754939466,0.020672938762199583,0.16723394151032284,0.26102988035417296,0.10396494372106041,0.14539656176145976,0.34096939922300484,0.10833396021096983,0.5164130344155665,0.06623622711722504,0.6679971183702405,0.4565409139276891,0.348680006756315,0.4060825473648304,0.42822849709060234,0.5511681720066909,0.39561762848523,0.45358131421420217,0.0054442868905733716,0.47955733959157826,0.5614239581391807,0.5744403669038748,0.5474302273246046,0.5171018727025226,0.20709699357085867,0.17058074372450155,0.16230646118953843,0.06944546765752299,0.19718409268948106,0.21770587599131996,0.28213256971515455,0.22107481595361683,0.013684524913511653,0.21540569032295545,0.2075055966525276,0.4477032005941996,0.39540430673602694,0.3560183263576542,0.3016924244236096,0.43162695426599573,0.32390799485695626,0.5246277764353343,0.4675781692211685,0.5167348271515755,0.45564380203485366,0.4842674243456143,0.45314771563600564,0.5807803701372053,0.4833474423740503,0.43880030364159955,0.501681747036697,0.5254750952969944,0.5663730180822851,0.618238978267781,0.6149313356523098,0.6107159772485454,0.5919099518017521,0.6132072344719847,0.608873243595905,0.5051901710534537,0.42347689327163857,0.39801852662713005,0.41566472643516067,0.46444547841284795,0.5057567622759529,0.5406841013128875,0.5358836407563069,0.5366953416326369,0.44942614681848236,0.5291404512307788,0.5178767814831344,0.5182176445706081,0.5054254818007053]},\"name\":\"\",\"parents\":[\"Man/asian/sideways\",\"Man/black/sideways\",\"Man/indian/sideways\",\"Man/latino hispanic/sideways\",\"Woman/latino hispanic/sideways\",\"Man/middle eastern/sideways\",\"Man/white/sideways\",\"Woman/white/sideways\",\"Man/asian/slightly_turned\",\"Woman/asian/slightly_turned\",\"Man/black/slightly_turned\",\"Woman/black/slightly_turned\",\"Man/indian/slightly_turned\",\"Man/latino hispanic/slightly_turned\",\"Man/middle eastern/slightly_turned\",\"Man/white/slightly_turned\",\"Woman/white/slightly_turned\",\"Man/asian/straight\",\"Woman/asian/straight\",\"Man/black/straight\",\"Woman/black/straight\",\"Man/indian/straight\",\"Man/latino hispanic/straight\",\"Woman/latino hispanic/straight\",\"Man/middle eastern/straight\",\"Man/white/straight\",\"Woman/white/straight\",\"Man/black/sideways\",\"Man/latino hispanic/sideways\",\"Man/white/sideways\",\"Man/asian/slightly_turned\",\"Woman/asian/slightly_turned\",\"Man/latino hispanic/slightly_turned\",\"Man/middle eastern/slightly_turned\",\"Man/white/slightly_turned\",\"Woman/white/slightly_turned\",\"Man/asian/straight\",\"Man/latino hispanic/straight\",\"Man/middle eastern/straight\",\"Man/white/straight\",\"Woman/white/straight\",\"Man/asian/sideways\",\"Woman/asian/sideways\",\"Man/black/sideways\",\"Man/indian/sideways\",\"Man/latino hispanic/sideways\",\"Woman/latino hispanic/sideways\",\"Man/middle eastern/sideways\",\"Woman/middle eastern/sideways\",\"Man/white/sideways\",\"Woman/white/sideways\",\"Man/asian/slightly_turned\",\"Woman/asian/slightly_turned\",\"Man/black/slightly_turned\",\"Man/indian/slightly_turned\",\"Man/latino hispanic/slightly_turned\",\"Woman/latino hispanic/slightly_turned\",\"Man/middle eastern/slightly_turned\",\"Woman/middle eastern/slightly_turned\",\"Man/white/slightly_turned\",\"Woman/white/slightly_turned\",\"Man/asian/straight\",\"Woman/asian/straight\",\"Man/black/straight\",\"Woman/black/straight\",\"Man/indian/straight\",\"Man/latino hispanic/straight\",\"Woman/latino hispanic/straight\",\"Man/middle eastern/straight\",\"Man/white/straight\",\"Woman/white/straight\",\"Man/asian/sideways\",\"Woman/asian/sideways\",\"Man/black/sideways\",\"Woman/black/sideways\",\"Man/latino hispanic/sideways\",\"Woman/latino hispanic/sideways\",\"Man/middle eastern/sideways\",\"Man/white/sideways\",\"Woman/white/sideways\",\"Man/asian/slightly_turned\",\"Woman/asian/slightly_turned\",\"Man/black/slightly_turned\",\"Woman/black/slightly_turned\",\"Man/indian/slightly_turned\",\"Woman/indian/slightly_turned\",\"Man/latino hispanic/slightly_turned\",\"Woman/latino hispanic/slightly_turned\",\"Man/middle eastern/slightly_turned\",\"Woman/middle eastern/slightly_turned\",\"Man/white/slightly_turned\",\"Woman/white/slightly_turned\",\"Man/asian/straight\",\"Woman/asian/straight\",\"Man/black/straight\",\"Woman/black/straight\",\"Man/indian/straight\",\"Woman/indian/straight\",\"Man/latino hispanic/straight\",\"Woman/latino hispanic/straight\",\"Man/middle eastern/straight\",\"Woman/middle eastern/straight\",\"Man/white/straight\",\"Woman/white/straight\",\"Man/asian/sideways\",\"Woman/asian/sideways\",\"Man/black/sideways\",\"Man/indian/sideways\",\"Man/latino hispanic/sideways\",\"Woman/latino hispanic/sideways\",\"Man/middle eastern/sideways\",\"Woman/middle eastern/sideways\",\"Man/white/sideways\",\"Woman/white/sideways\",\"Man/asian/slightly_turned\",\"Woman/asian/slightly_turned\",\"Man/black/slightly_turned\",\"Woman/black/slightly_turned\",\"Man/indian/slightly_turned\",\"Man/latino hispanic/slightly_turned\",\"Woman/latino hispanic/slightly_turned\",\"Man/middle eastern/slightly_turned\",\"Woman/middle eastern/slightly_turned\",\"Man/white/slightly_turned\",\"Woman/white/slightly_turned\",\"Man/asian/straight\",\"Woman/asian/straight\",\"Man/black/straight\",\"Woman/black/straight\",\"Man/indian/straight\",\"Woman/indian/straight\",\"Man/latino hispanic/straight\",\"Woman/latino hispanic/straight\",\"Man/middle eastern/straight\",\"Woman/middle eastern/straight\",\"Man/white/straight\",\"Woman/white/straight\",\"Man/asian/sideways\",\"Woman/asian/sideways\",\"Man/black/sideways\",\"Woman/black/sideways\",\"Man/indian/sideways\",\"Man/latino hispanic/sideways\",\"Woman/latino hispanic/sideways\",\"Man/middle eastern/sideways\",\"Woman/middle eastern/sideways\",\"Man/white/sideways\",\"Woman/white/sideways\",\"Man/asian/slightly_turned\",\"Woman/asian/slightly_turned\",\"Man/black/slightly_turned\",\"Woman/black/slightly_turned\",\"Man/indian/slightly_turned\",\"Woman/indian/slightly_turned\",\"Man/latino hispanic/slightly_turned\",\"Woman/latino hispanic/slightly_turned\",\"Man/middle eastern/slightly_turned\",\"Man/white/slightly_turned\",\"Woman/white/slightly_turned\",\"Man/asian/straight\",\"Woman/asian/straight\",\"Man/black/straight\",\"Woman/black/straight\",\"Man/indian/straight\",\"Man/latino hispanic/straight\",\"Woman/latino hispanic/straight\",\"Man/middle eastern/straight\",\"Woman/middle eastern/straight\",\"Man/white/straight\",\"Woman/white/straight\",\"Man/asian/sideways\",\"Woman/asian/sideways\",\"Man/black/sideways\",\"Man/latino hispanic/sideways\",\"Man/middle eastern/sideways\",\"Man/white/sideways\",\"Woman/white/sideways\",\"Man/asian/slightly_turned\",\"Woman/asian/slightly_turned\",\"Man/black/slightly_turned\",\"Woman/black/slightly_turned\",\"Man/latino hispanic/slightly_turned\",\"Woman/latino hispanic/slightly_turned\",\"Man/middle eastern/slightly_turned\",\"Man/white/slightly_turned\",\"Woman/white/slightly_turned\",\"Man/asian/straight\",\"Woman/asian/straight\",\"Man/black/straight\",\"Man/indian/straight\",\"Man/latino hispanic/straight\",\"Woman/latino hispanic/straight\",\"Man/middle eastern/straight\",\"Man/white/straight\",\"Woman/white/straight\",\"Man/asian\",\"Woman/asian\",\"Man/black\",\"Woman/black\",\"Man/indian\",\"Man/latino hispanic\",\"Woman/latino hispanic\",\"Man/middle eastern\",\"Woman/middle eastern\",\"Man/white\",\"Woman/white\",\"Man/asian\",\"Woman/asian\",\"Man/black\",\"Woman/black\",\"Man/indian\",\"Woman/indian\",\"Man/latino hispanic\",\"Woman/latino hispanic\",\"Man/middle eastern\",\"Woman/middle eastern\",\"Man/white\",\"Woman/white\",\"Man/asian\",\"Woman/asian\",\"Man/black\",\"Woman/black\",\"Man/indian\",\"Woman/indian\",\"Man/latino hispanic\",\"Woman/latino hispanic\",\"Man/middle eastern\",\"Woman/middle eastern\",\"Man/white\",\"Woman/white\",\"Man\",\"Woman\",\"Man\",\"Woman\",\"Man\",\"Woman\",\"Man\",\"Woman\",\"Man\",\"Woman\",\"Man\",\"Woman\",\"\",\"\"],\"values\":[27,12,2,12,1,20,137,7,56,1,20,1,1,31,29,273,13,118,8,59,1,11,65,1,76,642,21,2,1,5,4,1,3,2,13,1,11,9,5,33,4,25,4,2,1,20,2,13,1,133,24,48,4,15,5,26,6,39,1,231,70,89,17,30,9,3,38,3,47,441,83,31,12,10,3,26,9,27,189,89,117,34,56,11,9,1,52,25,64,2,490,279,321,81,174,22,12,4,152,66,170,5,1223,597,43,7,13,5,15,4,21,1,119,33,93,8,57,1,11,52,8,83,1,407,66,276,23,171,6,27,2,134,10,169,3,999,146,39,3,15,2,2,28,1,33,1,236,25,77,8,21,1,6,1,44,1,61,471,53,139,14,49,2,7,68,8,97,1,707,111,3,2,1,2,4,18,5,8,1,2,1,4,1,7,79,14,15,2,11,1,11,2,16,127,15,168,28,55,5,10,104,17,118,3,837,183,403,57,171,15,32,2,212,41,285,4,1964,496,969,145,494,40,61,6,477,90,580,9,4172,977,1540,230,720,60,103,8,793,148,983,16,6973,1656,11112,2118],\"type\":\"sunburst\"}],                        {\"template\":{\"data\":{\"histogram2dcontour\":[{\"type\":\"histogram2dcontour\",\"colorbar\":{\"outlinewidth\":0,\"ticks\":\"\"},\"colorscale\":[[0.0,\"#0d0887\"],[0.1111111111111111,\"#46039f\"],[0.2222222222222222,\"#7201a8\"],[0.3333333333333333,\"#9c179e\"],[0.4444444444444444,\"#bd3786\"],[0.5555555555555556,\"#d8576b\"],[0.6666666666666666,\"#ed7953\"],[0.7777777777777778,\"#fb9f3a\"],[0.8888888888888888,\"#fdca26\"],[1.0,\"#f0f921\"]]}],\"choropleth\":[{\"type\":\"choropleth\",\"colorbar\":{\"outlinewidth\":0,\"ticks\":\"\"}}],\"histogram2d\":[{\"type\":\"histogram2d\",\"colorbar\":{\"outlinewidth\":0,\"ticks\":\"\"},\"colorscale\":[[0.0,\"#0d0887\"],[0.1111111111111111,\"#46039f\"],[0.2222222222222222,\"#7201a8\"],[0.3333333333333333,\"#9c179e\"],[0.4444444444444444,\"#bd3786\"],[0.5555555555555556,\"#d8576b\"],[0.6666666666666666,\"#ed7953\"],[0.7777777777777778,\"#fb9f3a\"],[0.8888888888888888,\"#fdca26\"],[1.0,\"#f0f921\"]]}],\"heatmap\":[{\"type\":\"heatmap\",\"colorbar\":{\"outlinewidth\":0,\"ticks\":\"\"},\"colorscale\":[[0.0,\"#0d0887\"],[0.1111111111111111,\"#46039f\"],[0.2222222222222222,\"#7201a8\"],[0.3333333333333333,\"#9c179e\"],[0.4444444444444444,\"#bd3786\"],[0.5555555555555556,\"#d8576b\"],[0.6666666666666666,\"#ed7953\"],[0.7777777777777778,\"#fb9f3a\"],[0.8888888888888888,\"#fdca26\"],[1.0,\"#f0f921\"]]}],\"heatmapgl\":[{\"type\":\"heatmapgl\",\"colorbar\":{\"outlinewidth\":0,\"ticks\":\"\"},\"colorscale\":[[0.0,\"#0d0887\"],[0.1111111111111111,\"#46039f\"],[0.2222222222222222,\"#7201a8\"],[0.3333333333333333,\"#9c179e\"],[0.4444444444444444,\"#bd3786\"],[0.5555555555555556,\"#d8576b\"],[0.6666666666666666,\"#ed7953\"],[0.7777777777777778,\"#fb9f3a\"],[0.8888888888888888,\"#fdca26\"],[1.0,\"#f0f921\"]]}],\"contourcarpet\":[{\"type\":\"contourcarpet\",\"colorbar\":{\"outlinewidth\":0,\"ticks\":\"\"}}],\"contour\":[{\"type\":\"contour\",\"colorbar\":{\"outlinewidth\":0,\"ticks\":\"\"},\"colorscale\":[[0.0,\"#0d0887\"],[0.1111111111111111,\"#46039f\"],[0.2222222222222222,\"#7201a8\"],[0.3333333333333333,\"#9c179e\"],[0.4444444444444444,\"#bd3786\"],[0.5555555555555556,\"#d8576b\"],[0.6666666666666666,\"#ed7953\"],[0.7777777777777778,\"#fb9f3a\"],[0.8888888888888888,\"#fdca26\"],[1.0,\"#f0f921\"]]}],\"surface\":[{\"type\":\"surface\",\"colorbar\":{\"outlinewidth\":0,\"ticks\":\"\"},\"colorscale\":[[0.0,\"#0d0887\"],[0.1111111111111111,\"#46039f\"],[0.2222222222222222,\"#7201a8\"],[0.3333333333333333,\"#9c179e\"],[0.4444444444444444,\"#bd3786\"],[0.5555555555555556,\"#d8576b\"],[0.6666666666666666,\"#ed7953\"],[0.7777777777777778,\"#fb9f3a\"],[0.8888888888888888,\"#fdca26\"],[1.0,\"#f0f921\"]]}],\"mesh3d\":[{\"type\":\"mesh3d\",\"colorbar\":{\"outlinewidth\":0,\"ticks\":\"\"}}],\"scatter\":[{\"fillpattern\":{\"fillmode\":\"overlay\",\"size\":10,\"solidity\":0.2},\"type\":\"scatter\"}],\"parcoords\":[{\"type\":\"parcoords\",\"line\":{\"colorbar\":{\"outlinewidth\":0,\"ticks\":\"\"}}}],\"scatterpolargl\":[{\"type\":\"scatterpolargl\",\"marker\":{\"colorbar\":{\"outlinewidth\":0,\"ticks\":\"\"}}}],\"bar\":[{\"error_x\":{\"color\":\"#2a3f5f\"},\"error_y\":{\"color\":\"#2a3f5f\"},\"marker\":{\"line\":{\"color\":\"#E5ECF6\",\"width\":0.5},\"pattern\":{\"fillmode\":\"overlay\",\"size\":10,\"solidity\":0.2}},\"type\":\"bar\"}],\"scattergeo\":[{\"type\":\"scattergeo\",\"marker\":{\"colorbar\":{\"outlinewidth\":0,\"ticks\":\"\"}}}],\"scatterpolar\":[{\"type\":\"scatterpolar\",\"marker\":{\"colorbar\":{\"outlinewidth\":0,\"ticks\":\"\"}}}],\"histogram\":[{\"marker\":{\"pattern\":{\"fillmode\":\"overlay\",\"size\":10,\"solidity\":0.2}},\"type\":\"histogram\"}],\"scattergl\":[{\"type\":\"scattergl\",\"marker\":{\"colorbar\":{\"outlinewidth\":0,\"ticks\":\"\"}}}],\"scatter3d\":[{\"type\":\"scatter3d\",\"line\":{\"colorbar\":{\"outlinewidth\":0,\"ticks\":\"\"}},\"marker\":{\"colorbar\":{\"outlinewidth\":0,\"ticks\":\"\"}}}],\"scattermapbox\":[{\"type\":\"scattermapbox\",\"marker\":{\"colorbar\":{\"outlinewidth\":0,\"ticks\":\"\"}}}],\"scatterternary\":[{\"type\":\"scatterternary\",\"marker\":{\"colorbar\":{\"outlinewidth\":0,\"ticks\":\"\"}}}],\"scattercarpet\":[{\"type\":\"scattercarpet\",\"marker\":{\"colorbar\":{\"outlinewidth\":0,\"ticks\":\"\"}}}],\"carpet\":[{\"aaxis\":{\"endlinecolor\":\"#2a3f5f\",\"gridcolor\":\"white\",\"linecolor\":\"white\",\"minorgridcolor\":\"white\",\"startlinecolor\":\"#2a3f5f\"},\"baxis\":{\"endlinecolor\":\"#2a3f5f\",\"gridcolor\":\"white\",\"linecolor\":\"white\",\"minorgridcolor\":\"white\",\"startlinecolor\":\"#2a3f5f\"},\"type\":\"carpet\"}],\"table\":[{\"cells\":{\"fill\":{\"color\":\"#EBF0F8\"},\"line\":{\"color\":\"white\"}},\"header\":{\"fill\":{\"color\":\"#C8D4E3\"},\"line\":{\"color\":\"white\"}},\"type\":\"table\"}],\"barpolar\":[{\"marker\":{\"line\":{\"color\":\"#E5ECF6\",\"width\":0.5},\"pattern\":{\"fillmode\":\"overlay\",\"size\":10,\"solidity\":0.2}},\"type\":\"barpolar\"}],\"pie\":[{\"automargin\":true,\"type\":\"pie\"}]},\"layout\":{\"autotypenumbers\":\"strict\",\"colorway\":[\"#636efa\",\"#EF553B\",\"#00cc96\",\"#ab63fa\",\"#FFA15A\",\"#19d3f3\",\"#FF6692\",\"#B6E880\",\"#FF97FF\",\"#FECB52\"],\"font\":{\"color\":\"#2a3f5f\"},\"hovermode\":\"closest\",\"hoverlabel\":{\"align\":\"left\"},\"paper_bgcolor\":\"white\",\"plot_bgcolor\":\"#E5ECF6\",\"polar\":{\"bgcolor\":\"#E5ECF6\",\"angularaxis\":{\"gridcolor\":\"white\",\"linecolor\":\"white\",\"ticks\":\"\"},\"radialaxis\":{\"gridcolor\":\"white\",\"linecolor\":\"white\",\"ticks\":\"\"}},\"ternary\":{\"bgcolor\":\"#E5ECF6\",\"aaxis\":{\"gridcolor\":\"white\",\"linecolor\":\"white\",\"ticks\":\"\"},\"baxis\":{\"gridcolor\":\"white\",\"linecolor\":\"white\",\"ticks\":\"\"},\"caxis\":{\"gridcolor\":\"white\",\"linecolor\":\"white\",\"ticks\":\"\"}},\"coloraxis\":{\"colorbar\":{\"outlinewidth\":0,\"ticks\":\"\"}},\"colorscale\":{\"sequential\":[[0.0,\"#0d0887\"],[0.1111111111111111,\"#46039f\"],[0.2222222222222222,\"#7201a8\"],[0.3333333333333333,\"#9c179e\"],[0.4444444444444444,\"#bd3786\"],[0.5555555555555556,\"#d8576b\"],[0.6666666666666666,\"#ed7953\"],[0.7777777777777778,\"#fb9f3a\"],[0.8888888888888888,\"#fdca26\"],[1.0,\"#f0f921\"]],\"sequentialminus\":[[0.0,\"#0d0887\"],[0.1111111111111111,\"#46039f\"],[0.2222222222222222,\"#7201a8\"],[0.3333333333333333,\"#9c179e\"],[0.4444444444444444,\"#bd3786\"],[0.5555555555555556,\"#d8576b\"],[0.6666666666666666,\"#ed7953\"],[0.7777777777777778,\"#fb9f3a\"],[0.8888888888888888,\"#fdca26\"],[1.0,\"#f0f921\"]],\"diverging\":[[0,\"#8e0152\"],[0.1,\"#c51b7d\"],[0.2,\"#de77ae\"],[0.3,\"#f1b6da\"],[0.4,\"#fde0ef\"],[0.5,\"#f7f7f7\"],[0.6,\"#e6f5d0\"],[0.7,\"#b8e186\"],[0.8,\"#7fbc41\"],[0.9,\"#4d9221\"],[1,\"#276419\"]]},\"xaxis\":{\"gridcolor\":\"white\",\"linecolor\":\"white\",\"ticks\":\"\",\"title\":{\"standoff\":15},\"zerolinecolor\":\"white\",\"automargin\":true,\"zerolinewidth\":2},\"yaxis\":{\"gridcolor\":\"white\",\"linecolor\":\"white\",\"ticks\":\"\",\"title\":{\"standoff\":15},\"zerolinecolor\":\"white\",\"automargin\":true,\"zerolinewidth\":2},\"scene\":{\"xaxis\":{\"backgroundcolor\":\"#E5ECF6\",\"gridcolor\":\"white\",\"linecolor\":\"white\",\"showbackground\":true,\"ticks\":\"\",\"zerolinecolor\":\"white\",\"gridwidth\":2},\"yaxis\":{\"backgroundcolor\":\"#E5ECF6\",\"gridcolor\":\"white\",\"linecolor\":\"white\",\"showbackground\":true,\"ticks\":\"\",\"zerolinecolor\":\"white\",\"gridwidth\":2},\"zaxis\":{\"backgroundcolor\":\"#E5ECF6\",\"gridcolor\":\"white\",\"linecolor\":\"white\",\"showbackground\":true,\"ticks\":\"\",\"zerolinecolor\":\"white\",\"gridwidth\":2}},\"shapedefaults\":{\"line\":{\"color\":\"#2a3f5f\"}},\"annotationdefaults\":{\"arrowcolor\":\"#2a3f5f\",\"arrowhead\":0,\"arrowwidth\":1},\"geo\":{\"bgcolor\":\"white\",\"landcolor\":\"#E5ECF6\",\"subunitcolor\":\"white\",\"showland\":true,\"showlakes\":true,\"lakecolor\":\"white\"},\"title\":{\"x\":0.05},\"mapbox\":{\"style\":\"light\"}}},\"coloraxis\":{\"colorbar\":{\"title\":{\"text\":\"Quality\"}},\"colorscale\":[[0.0,\"#440154\"],[0.1111111111111111,\"#482878\"],[0.2222222222222222,\"#3e4989\"],[0.3333333333333333,\"#31688e\"],[0.4444444444444444,\"#26828e\"],[0.5555555555555556,\"#1f9e89\"],[0.6666666666666666,\"#35b779\"],[0.7777777777777778,\"#6ece58\"],[0.8888888888888888,\"#b5de2b\"],[1.0,\"#fde725\"]],\"cmin\":0,\"cmax\":1},\"legend\":{\"tracegroupgap\":0},\"title\":{\"text\":\"LFW\"}},                        {\"responsive\": true}                    ).then(function(){\n",
       "                            \n",
       "var gd = document.getElementById('2f0b5950-54f8-40dc-a9b1-863b058015fe');\n",
       "var x = new MutationObserver(function (mutations, observer) {{\n",
       "        var display = window.getComputedStyle(gd).display;\n",
       "        if (!display || display === 'none') {{\n",
       "            console.log([gd, 'removed!']);\n",
       "            Plotly.purge(gd);\n",
       "            observer.disconnect();\n",
       "        }}\n",
       "}});\n",
       "\n",
       "// Listen for the removal of the full notebook cells\n",
       "var notebookContainer = gd.closest('#notebook-container');\n",
       "if (notebookContainer) {{\n",
       "    x.observe(notebookContainer, {childList: true});\n",
       "}}\n",
       "\n",
       "// Listen for the clearing of the current output cell\n",
       "var outputEl = gd.closest('.output');\n",
       "if (outputEl) {{\n",
       "    x.observe(outputEl, {childList: true});\n",
       "}}\n",
       "\n",
       "                        })                };                });            </script>        </div>"
      ]
     },
     "metadata": {},
     "output_type": "display_data"
    },
    {
     "data": {
      "application/vnd.plotly.v1+json": {
       "config": {
        "plotlyServerURL": "https://plot.ly"
       },
       "data": [
        {
         "branchvalues": "total",
         "customdata": [
          [
           0.011682202579652117
          ],
          [
           0.004065874326233463
          ],
          [
           0.2909981844514314
          ],
          [
           0.2902516668170455
          ],
          [
           0.39354779558121356
          ],
          [
           0.2891565123601924
          ],
          [
           0.0026986543271425986
          ],
          [
           0.6185938963053843
          ],
          [
           0.008662201737451577
          ],
          [
           0.006834003062796696
          ],
          [
           0.23202277309064576
          ],
          [
           0.12936421806994047
          ],
          [
           0.34009586059692715
          ],
          [
           0.2866641535620586
          ],
          [
           0.01141917583622157
          ],
          [
           0.00421320708292203
          ],
          [
           0.2094649490446792
          ],
          [
           0.2989378971429056
          ],
          [
           0.4905184337054272
          ],
          [
           0.4361868167848353
          ],
          [
           0.010600657041773827
          ],
          [
           0.006570374607918724
          ],
          [
           0.33006814997973
          ],
          [
           0.26454970605624045
          ],
          [
           0.5280104193155069
          ],
          [
           0.4758475168267229
          ],
          [
           0.015534941184094724
          ],
          [
           0.007331585570231754
          ],
          [
           0.2204666957888944
          ],
          [
           0.23615077166981657
          ],
          [
           0.40296113542312373
          ],
          [
           0.3671135276857078
          ],
          [
           0.0076270971872749
          ],
          [
           0.004319936829406713
          ],
          [
           0.20519323231829095
          ],
          [
           0.3611120463202652
          ],
          [
           0.546621417140997
          ],
          [
           0.010872472893286534
          ],
          [
           0.006126195313046065
          ],
          [
           0.25885234356596154
          ],
          [
           0.22063165560853729
          ],
          [
           0.46628380253289
          ],
          [
           0.40154667476295725
          ],
          [
           0.3470486086122723
          ],
          [
           0.29467814431754774
          ],
          [
           0.3470486086122723
          ],
          [
           0.29467814431754774
          ]
         ],
         "domain": {
          "x": [
           0,
           1
          ],
          "y": [
           0,
           1
          ]
         },
         "hovertemplate": "labels=%{label}<br>count=%{value}<br>parent=%{parent}<br>id=%{id}<br>Quality=%{color}<extra></extra>",
         "ids": [
          "Man/white/sideways/angry",
          "Woman/white/sideways/angry",
          "Man/white/slightly_turned/angry",
          "Woman/white/slightly_turned/angry",
          "Man/white/straight/angry",
          "Woman/white/straight/angry",
          "Man/white/sideways/disgust",
          "Man/white/straight/disgust",
          "Man/white/sideways/fear",
          "Woman/white/sideways/fear",
          "Man/white/slightly_turned/fear",
          "Woman/white/slightly_turned/fear",
          "Man/white/straight/fear",
          "Woman/white/straight/fear",
          "Man/white/sideways/happy",
          "Woman/white/sideways/happy",
          "Man/white/slightly_turned/happy",
          "Woman/white/slightly_turned/happy",
          "Man/white/straight/happy",
          "Woman/white/straight/happy",
          "Man/white/sideways/neutral",
          "Woman/white/sideways/neutral",
          "Man/white/slightly_turned/neutral",
          "Woman/white/slightly_turned/neutral",
          "Man/white/straight/neutral",
          "Woman/white/straight/neutral",
          "Man/white/sideways/sad",
          "Woman/white/sideways/sad",
          "Man/white/slightly_turned/sad",
          "Woman/white/slightly_turned/sad",
          "Man/white/straight/sad",
          "Woman/white/straight/sad",
          "Man/white/sideways/surprise",
          "Woman/white/sideways/surprise",
          "Man/white/slightly_turned/surprise",
          "Man/white/straight/surprise",
          "Woman/white/straight/surprise",
          "Man/white/sideways",
          "Woman/white/sideways",
          "Man/white/slightly_turned",
          "Woman/white/slightly_turned",
          "Man/white/straight",
          "Woman/white/straight",
          "Man/white",
          "Woman/white",
          "Man",
          "Woman"
         ],
         "labels": [
          "angry",
          "angry",
          "angry",
          "angry",
          "angry",
          "angry",
          "disgust",
          "disgust",
          "fear",
          "fear",
          "fear",
          "fear",
          "fear",
          "fear",
          "happy",
          "happy",
          "happy",
          "happy",
          "happy",
          "happy",
          "neutral",
          "neutral",
          "neutral",
          "neutral",
          "neutral",
          "neutral",
          "sad",
          "sad",
          "sad",
          "sad",
          "sad",
          "sad",
          "surprise",
          "surprise",
          "surprise",
          "surprise",
          "surprise",
          "sideways",
          "sideways",
          "slightly_turned",
          "slightly_turned",
          "straight",
          "straight",
          "white",
          "white",
          "Man",
          "Woman"
         ],
         "marker": {
          "coloraxis": "coloraxis",
          "colors": [
           0.011682202579652117,
           0.004065874326233463,
           0.2909981844514314,
           0.2902516668170455,
           0.39354779558121356,
           0.2891565123601924,
           0.0026986543271425986,
           0.6185938963053843,
           0.008662201737451577,
           0.006834003062796696,
           0.23202277309064576,
           0.12936421806994047,
           0.34009586059692715,
           0.2866641535620586,
           0.01141917583622157,
           0.00421320708292203,
           0.2094649490446792,
           0.2989378971429056,
           0.4905184337054272,
           0.4361868167848353,
           0.010600657041773827,
           0.006570374607918724,
           0.33006814997973,
           0.26454970605624045,
           0.5280104193155069,
           0.4758475168267229,
           0.015534941184094724,
           0.007331585570231754,
           0.2204666957888944,
           0.23615077166981657,
           0.40296113542312373,
           0.3671135276857078,
           0.0076270971872749,
           0.004319936829406713,
           0.20519323231829095,
           0.3611120463202652,
           0.546621417140997,
           0.010872472893286534,
           0.006126195313046065,
           0.25885234356596154,
           0.22063165560853729,
           0.46628380253289,
           0.40154667476295725,
           0.3470486086122723,
           0.29467814431754774,
           0.3470486086122723,
           0.29467814431754774
          ]
         },
         "name": "",
         "parents": [
          "Man/white/sideways",
          "Woman/white/sideways",
          "Man/white/slightly_turned",
          "Woman/white/slightly_turned",
          "Man/white/straight",
          "Woman/white/straight",
          "Man/white/sideways",
          "Man/white/straight",
          "Man/white/sideways",
          "Woman/white/sideways",
          "Man/white/slightly_turned",
          "Woman/white/slightly_turned",
          "Man/white/straight",
          "Woman/white/straight",
          "Man/white/sideways",
          "Woman/white/sideways",
          "Man/white/slightly_turned",
          "Woman/white/slightly_turned",
          "Man/white/straight",
          "Woman/white/straight",
          "Man/white/sideways",
          "Woman/white/sideways",
          "Man/white/slightly_turned",
          "Woman/white/slightly_turned",
          "Man/white/straight",
          "Woman/white/straight",
          "Man/white/sideways",
          "Woman/white/sideways",
          "Man/white/slightly_turned",
          "Woman/white/slightly_turned",
          "Man/white/straight",
          "Woman/white/straight",
          "Man/white/sideways",
          "Woman/white/sideways",
          "Man/white/slightly_turned",
          "Man/white/straight",
          "Woman/white/straight",
          "Man/white",
          "Woman/white",
          "Man/white",
          "Woman/white",
          "Man/white",
          "Woman/white",
          "Man",
          "Woman",
          "",
          ""
         ],
         "type": "sunburst",
         "values": [
          57,
          5,
          27,
          5,
          180,
          21,
          2,
          1,
          272,
          38,
          52,
          20,
          252,
          50,
          60,
          15,
          26,
          12,
          141,
          69,
          102,
          15,
          108,
          8,
          1159,
          97,
          150,
          15,
          142,
          12,
          444,
          56,
          41,
          7,
          8,
          20,
          3,
          684,
          95,
          363,
          57,
          2197,
          296,
          3244,
          448,
          3244,
          448
         ]
        }
       ],
       "layout": {
        "coloraxis": {
         "cmax": 1,
         "cmin": 0,
         "colorbar": {
          "title": {
           "text": "Quality"
          }
         },
         "colorscale": [
          [
           0,
           "#440154"
          ],
          [
           0.1111111111111111,
           "#482878"
          ],
          [
           0.2222222222222222,
           "#3e4989"
          ],
          [
           0.3333333333333333,
           "#31688e"
          ],
          [
           0.4444444444444444,
           "#26828e"
          ],
          [
           0.5555555555555556,
           "#1f9e89"
          ],
          [
           0.6666666666666666,
           "#35b779"
          ],
          [
           0.7777777777777778,
           "#6ece58"
          ],
          [
           0.8888888888888888,
           "#b5de2b"
          ],
          [
           1,
           "#fde725"
          ]
         ]
        },
        "legend": {
         "tracegroupgap": 0
        },
        "template": {
         "data": {
          "bar": [
           {
            "error_x": {
             "color": "#2a3f5f"
            },
            "error_y": {
             "color": "#2a3f5f"
            },
            "marker": {
             "line": {
              "color": "#E5ECF6",
              "width": 0.5
             },
             "pattern": {
              "fillmode": "overlay",
              "size": 10,
              "solidity": 0.2
             }
            },
            "type": "bar"
           }
          ],
          "barpolar": [
           {
            "marker": {
             "line": {
              "color": "#E5ECF6",
              "width": 0.5
             },
             "pattern": {
              "fillmode": "overlay",
              "size": 10,
              "solidity": 0.2
             }
            },
            "type": "barpolar"
           }
          ],
          "carpet": [
           {
            "aaxis": {
             "endlinecolor": "#2a3f5f",
             "gridcolor": "white",
             "linecolor": "white",
             "minorgridcolor": "white",
             "startlinecolor": "#2a3f5f"
            },
            "baxis": {
             "endlinecolor": "#2a3f5f",
             "gridcolor": "white",
             "linecolor": "white",
             "minorgridcolor": "white",
             "startlinecolor": "#2a3f5f"
            },
            "type": "carpet"
           }
          ],
          "choropleth": [
           {
            "colorbar": {
             "outlinewidth": 0,
             "ticks": ""
            },
            "type": "choropleth"
           }
          ],
          "contour": [
           {
            "colorbar": {
             "outlinewidth": 0,
             "ticks": ""
            },
            "colorscale": [
             [
              0,
              "#0d0887"
             ],
             [
              0.1111111111111111,
              "#46039f"
             ],
             [
              0.2222222222222222,
              "#7201a8"
             ],
             [
              0.3333333333333333,
              "#9c179e"
             ],
             [
              0.4444444444444444,
              "#bd3786"
             ],
             [
              0.5555555555555556,
              "#d8576b"
             ],
             [
              0.6666666666666666,
              "#ed7953"
             ],
             [
              0.7777777777777778,
              "#fb9f3a"
             ],
             [
              0.8888888888888888,
              "#fdca26"
             ],
             [
              1,
              "#f0f921"
             ]
            ],
            "type": "contour"
           }
          ],
          "contourcarpet": [
           {
            "colorbar": {
             "outlinewidth": 0,
             "ticks": ""
            },
            "type": "contourcarpet"
           }
          ],
          "heatmap": [
           {
            "colorbar": {
             "outlinewidth": 0,
             "ticks": ""
            },
            "colorscale": [
             [
              0,
              "#0d0887"
             ],
             [
              0.1111111111111111,
              "#46039f"
             ],
             [
              0.2222222222222222,
              "#7201a8"
             ],
             [
              0.3333333333333333,
              "#9c179e"
             ],
             [
              0.4444444444444444,
              "#bd3786"
             ],
             [
              0.5555555555555556,
              "#d8576b"
             ],
             [
              0.6666666666666666,
              "#ed7953"
             ],
             [
              0.7777777777777778,
              "#fb9f3a"
             ],
             [
              0.8888888888888888,
              "#fdca26"
             ],
             [
              1,
              "#f0f921"
             ]
            ],
            "type": "heatmap"
           }
          ],
          "heatmapgl": [
           {
            "colorbar": {
             "outlinewidth": 0,
             "ticks": ""
            },
            "colorscale": [
             [
              0,
              "#0d0887"
             ],
             [
              0.1111111111111111,
              "#46039f"
             ],
             [
              0.2222222222222222,
              "#7201a8"
             ],
             [
              0.3333333333333333,
              "#9c179e"
             ],
             [
              0.4444444444444444,
              "#bd3786"
             ],
             [
              0.5555555555555556,
              "#d8576b"
             ],
             [
              0.6666666666666666,
              "#ed7953"
             ],
             [
              0.7777777777777778,
              "#fb9f3a"
             ],
             [
              0.8888888888888888,
              "#fdca26"
             ],
             [
              1,
              "#f0f921"
             ]
            ],
            "type": "heatmapgl"
           }
          ],
          "histogram": [
           {
            "marker": {
             "pattern": {
              "fillmode": "overlay",
              "size": 10,
              "solidity": 0.2
             }
            },
            "type": "histogram"
           }
          ],
          "histogram2d": [
           {
            "colorbar": {
             "outlinewidth": 0,
             "ticks": ""
            },
            "colorscale": [
             [
              0,
              "#0d0887"
             ],
             [
              0.1111111111111111,
              "#46039f"
             ],
             [
              0.2222222222222222,
              "#7201a8"
             ],
             [
              0.3333333333333333,
              "#9c179e"
             ],
             [
              0.4444444444444444,
              "#bd3786"
             ],
             [
              0.5555555555555556,
              "#d8576b"
             ],
             [
              0.6666666666666666,
              "#ed7953"
             ],
             [
              0.7777777777777778,
              "#fb9f3a"
             ],
             [
              0.8888888888888888,
              "#fdca26"
             ],
             [
              1,
              "#f0f921"
             ]
            ],
            "type": "histogram2d"
           }
          ],
          "histogram2dcontour": [
           {
            "colorbar": {
             "outlinewidth": 0,
             "ticks": ""
            },
            "colorscale": [
             [
              0,
              "#0d0887"
             ],
             [
              0.1111111111111111,
              "#46039f"
             ],
             [
              0.2222222222222222,
              "#7201a8"
             ],
             [
              0.3333333333333333,
              "#9c179e"
             ],
             [
              0.4444444444444444,
              "#bd3786"
             ],
             [
              0.5555555555555556,
              "#d8576b"
             ],
             [
              0.6666666666666666,
              "#ed7953"
             ],
             [
              0.7777777777777778,
              "#fb9f3a"
             ],
             [
              0.8888888888888888,
              "#fdca26"
             ],
             [
              1,
              "#f0f921"
             ]
            ],
            "type": "histogram2dcontour"
           }
          ],
          "mesh3d": [
           {
            "colorbar": {
             "outlinewidth": 0,
             "ticks": ""
            },
            "type": "mesh3d"
           }
          ],
          "parcoords": [
           {
            "line": {
             "colorbar": {
              "outlinewidth": 0,
              "ticks": ""
             }
            },
            "type": "parcoords"
           }
          ],
          "pie": [
           {
            "automargin": true,
            "type": "pie"
           }
          ],
          "scatter": [
           {
            "fillpattern": {
             "fillmode": "overlay",
             "size": 10,
             "solidity": 0.2
            },
            "type": "scatter"
           }
          ],
          "scatter3d": [
           {
            "line": {
             "colorbar": {
              "outlinewidth": 0,
              "ticks": ""
             }
            },
            "marker": {
             "colorbar": {
              "outlinewidth": 0,
              "ticks": ""
             }
            },
            "type": "scatter3d"
           }
          ],
          "scattercarpet": [
           {
            "marker": {
             "colorbar": {
              "outlinewidth": 0,
              "ticks": ""
             }
            },
            "type": "scattercarpet"
           }
          ],
          "scattergeo": [
           {
            "marker": {
             "colorbar": {
              "outlinewidth": 0,
              "ticks": ""
             }
            },
            "type": "scattergeo"
           }
          ],
          "scattergl": [
           {
            "marker": {
             "colorbar": {
              "outlinewidth": 0,
              "ticks": ""
             }
            },
            "type": "scattergl"
           }
          ],
          "scattermapbox": [
           {
            "marker": {
             "colorbar": {
              "outlinewidth": 0,
              "ticks": ""
             }
            },
            "type": "scattermapbox"
           }
          ],
          "scatterpolar": [
           {
            "marker": {
             "colorbar": {
              "outlinewidth": 0,
              "ticks": ""
             }
            },
            "type": "scatterpolar"
           }
          ],
          "scatterpolargl": [
           {
            "marker": {
             "colorbar": {
              "outlinewidth": 0,
              "ticks": ""
             }
            },
            "type": "scatterpolargl"
           }
          ],
          "scatterternary": [
           {
            "marker": {
             "colorbar": {
              "outlinewidth": 0,
              "ticks": ""
             }
            },
            "type": "scatterternary"
           }
          ],
          "surface": [
           {
            "colorbar": {
             "outlinewidth": 0,
             "ticks": ""
            },
            "colorscale": [
             [
              0,
              "#0d0887"
             ],
             [
              0.1111111111111111,
              "#46039f"
             ],
             [
              0.2222222222222222,
              "#7201a8"
             ],
             [
              0.3333333333333333,
              "#9c179e"
             ],
             [
              0.4444444444444444,
              "#bd3786"
             ],
             [
              0.5555555555555556,
              "#d8576b"
             ],
             [
              0.6666666666666666,
              "#ed7953"
             ],
             [
              0.7777777777777778,
              "#fb9f3a"
             ],
             [
              0.8888888888888888,
              "#fdca26"
             ],
             [
              1,
              "#f0f921"
             ]
            ],
            "type": "surface"
           }
          ],
          "table": [
           {
            "cells": {
             "fill": {
              "color": "#EBF0F8"
             },
             "line": {
              "color": "white"
             }
            },
            "header": {
             "fill": {
              "color": "#C8D4E3"
             },
             "line": {
              "color": "white"
             }
            },
            "type": "table"
           }
          ]
         },
         "layout": {
          "annotationdefaults": {
           "arrowcolor": "#2a3f5f",
           "arrowhead": 0,
           "arrowwidth": 1
          },
          "autotypenumbers": "strict",
          "coloraxis": {
           "colorbar": {
            "outlinewidth": 0,
            "ticks": ""
           }
          },
          "colorscale": {
           "diverging": [
            [
             0,
             "#8e0152"
            ],
            [
             0.1,
             "#c51b7d"
            ],
            [
             0.2,
             "#de77ae"
            ],
            [
             0.3,
             "#f1b6da"
            ],
            [
             0.4,
             "#fde0ef"
            ],
            [
             0.5,
             "#f7f7f7"
            ],
            [
             0.6,
             "#e6f5d0"
            ],
            [
             0.7,
             "#b8e186"
            ],
            [
             0.8,
             "#7fbc41"
            ],
            [
             0.9,
             "#4d9221"
            ],
            [
             1,
             "#276419"
            ]
           ],
           "sequential": [
            [
             0,
             "#0d0887"
            ],
            [
             0.1111111111111111,
             "#46039f"
            ],
            [
             0.2222222222222222,
             "#7201a8"
            ],
            [
             0.3333333333333333,
             "#9c179e"
            ],
            [
             0.4444444444444444,
             "#bd3786"
            ],
            [
             0.5555555555555556,
             "#d8576b"
            ],
            [
             0.6666666666666666,
             "#ed7953"
            ],
            [
             0.7777777777777778,
             "#fb9f3a"
            ],
            [
             0.8888888888888888,
             "#fdca26"
            ],
            [
             1,
             "#f0f921"
            ]
           ],
           "sequentialminus": [
            [
             0,
             "#0d0887"
            ],
            [
             0.1111111111111111,
             "#46039f"
            ],
            [
             0.2222222222222222,
             "#7201a8"
            ],
            [
             0.3333333333333333,
             "#9c179e"
            ],
            [
             0.4444444444444444,
             "#bd3786"
            ],
            [
             0.5555555555555556,
             "#d8576b"
            ],
            [
             0.6666666666666666,
             "#ed7953"
            ],
            [
             0.7777777777777778,
             "#fb9f3a"
            ],
            [
             0.8888888888888888,
             "#fdca26"
            ],
            [
             1,
             "#f0f921"
            ]
           ]
          },
          "colorway": [
           "#636efa",
           "#EF553B",
           "#00cc96",
           "#ab63fa",
           "#FFA15A",
           "#19d3f3",
           "#FF6692",
           "#B6E880",
           "#FF97FF",
           "#FECB52"
          ],
          "font": {
           "color": "#2a3f5f"
          },
          "geo": {
           "bgcolor": "white",
           "lakecolor": "white",
           "landcolor": "#E5ECF6",
           "showlakes": true,
           "showland": true,
           "subunitcolor": "white"
          },
          "hoverlabel": {
           "align": "left"
          },
          "hovermode": "closest",
          "mapbox": {
           "style": "light"
          },
          "paper_bgcolor": "white",
          "plot_bgcolor": "#E5ECF6",
          "polar": {
           "angularaxis": {
            "gridcolor": "white",
            "linecolor": "white",
            "ticks": ""
           },
           "bgcolor": "#E5ECF6",
           "radialaxis": {
            "gridcolor": "white",
            "linecolor": "white",
            "ticks": ""
           }
          },
          "scene": {
           "xaxis": {
            "backgroundcolor": "#E5ECF6",
            "gridcolor": "white",
            "gridwidth": 2,
            "linecolor": "white",
            "showbackground": true,
            "ticks": "",
            "zerolinecolor": "white"
           },
           "yaxis": {
            "backgroundcolor": "#E5ECF6",
            "gridcolor": "white",
            "gridwidth": 2,
            "linecolor": "white",
            "showbackground": true,
            "ticks": "",
            "zerolinecolor": "white"
           },
           "zaxis": {
            "backgroundcolor": "#E5ECF6",
            "gridcolor": "white",
            "gridwidth": 2,
            "linecolor": "white",
            "showbackground": true,
            "ticks": "",
            "zerolinecolor": "white"
           }
          },
          "shapedefaults": {
           "line": {
            "color": "#2a3f5f"
           }
          },
          "ternary": {
           "aaxis": {
            "gridcolor": "white",
            "linecolor": "white",
            "ticks": ""
           },
           "baxis": {
            "gridcolor": "white",
            "linecolor": "white",
            "ticks": ""
           },
           "bgcolor": "#E5ECF6",
           "caxis": {
            "gridcolor": "white",
            "linecolor": "white",
            "ticks": ""
           }
          },
          "title": {
           "x": 0.05
          },
          "xaxis": {
           "automargin": true,
           "gridcolor": "white",
           "linecolor": "white",
           "ticks": "",
           "title": {
            "standoff": 15
           },
           "zerolinecolor": "white",
           "zerolinewidth": 2
          },
          "yaxis": {
           "automargin": true,
           "gridcolor": "white",
           "linecolor": "white",
           "ticks": "",
           "title": {
            "standoff": 15
           },
           "zerolinecolor": "white",
           "zerolinewidth": 2
          }
         }
        },
        "title": {
         "text": "SCFace"
        }
       }
      },
      "text/html": [
       "<div>                            <div id=\"f346c70f-1cbe-44e0-b9a7-816e61f7b0f9\" class=\"plotly-graph-div\" style=\"height:525px; width:100%;\"></div>            <script type=\"text/javascript\">                require([\"plotly\"], function(Plotly) {                    window.PLOTLYENV=window.PLOTLYENV || {};                                    if (document.getElementById(\"f346c70f-1cbe-44e0-b9a7-816e61f7b0f9\")) {                    Plotly.newPlot(                        \"f346c70f-1cbe-44e0-b9a7-816e61f7b0f9\",                        [{\"branchvalues\":\"total\",\"customdata\":[[0.011682202579652117],[0.004065874326233463],[0.2909981844514314],[0.2902516668170455],[0.39354779558121356],[0.2891565123601924],[0.0026986543271425986],[0.6185938963053843],[0.008662201737451577],[0.006834003062796696],[0.23202277309064576],[0.12936421806994047],[0.34009586059692715],[0.2866641535620586],[0.01141917583622157],[0.00421320708292203],[0.2094649490446792],[0.2989378971429056],[0.4905184337054272],[0.4361868167848353],[0.010600657041773827],[0.006570374607918724],[0.33006814997973],[0.26454970605624045],[0.5280104193155069],[0.4758475168267229],[0.015534941184094724],[0.007331585570231754],[0.2204666957888944],[0.23615077166981657],[0.40296113542312373],[0.3671135276857078],[0.0076270971872749],[0.004319936829406713],[0.20519323231829095],[0.3611120463202652],[0.546621417140997],[0.010872472893286534],[0.006126195313046065],[0.25885234356596154],[0.22063165560853729],[0.46628380253289],[0.40154667476295725],[0.3470486086122723],[0.29467814431754774],[0.3470486086122723],[0.29467814431754774]],\"domain\":{\"x\":[0.0,1.0],\"y\":[0.0,1.0]},\"hovertemplate\":\"labels=%{label}<br>count=%{value}<br>parent=%{parent}<br>id=%{id}<br>Quality=%{color}<extra></extra>\",\"ids\":[\"Man/white/sideways/angry\",\"Woman/white/sideways/angry\",\"Man/white/slightly_turned/angry\",\"Woman/white/slightly_turned/angry\",\"Man/white/straight/angry\",\"Woman/white/straight/angry\",\"Man/white/sideways/disgust\",\"Man/white/straight/disgust\",\"Man/white/sideways/fear\",\"Woman/white/sideways/fear\",\"Man/white/slightly_turned/fear\",\"Woman/white/slightly_turned/fear\",\"Man/white/straight/fear\",\"Woman/white/straight/fear\",\"Man/white/sideways/happy\",\"Woman/white/sideways/happy\",\"Man/white/slightly_turned/happy\",\"Woman/white/slightly_turned/happy\",\"Man/white/straight/happy\",\"Woman/white/straight/happy\",\"Man/white/sideways/neutral\",\"Woman/white/sideways/neutral\",\"Man/white/slightly_turned/neutral\",\"Woman/white/slightly_turned/neutral\",\"Man/white/straight/neutral\",\"Woman/white/straight/neutral\",\"Man/white/sideways/sad\",\"Woman/white/sideways/sad\",\"Man/white/slightly_turned/sad\",\"Woman/white/slightly_turned/sad\",\"Man/white/straight/sad\",\"Woman/white/straight/sad\",\"Man/white/sideways/surprise\",\"Woman/white/sideways/surprise\",\"Man/white/slightly_turned/surprise\",\"Man/white/straight/surprise\",\"Woman/white/straight/surprise\",\"Man/white/sideways\",\"Woman/white/sideways\",\"Man/white/slightly_turned\",\"Woman/white/slightly_turned\",\"Man/white/straight\",\"Woman/white/straight\",\"Man/white\",\"Woman/white\",\"Man\",\"Woman\"],\"labels\":[\"angry\",\"angry\",\"angry\",\"angry\",\"angry\",\"angry\",\"disgust\",\"disgust\",\"fear\",\"fear\",\"fear\",\"fear\",\"fear\",\"fear\",\"happy\",\"happy\",\"happy\",\"happy\",\"happy\",\"happy\",\"neutral\",\"neutral\",\"neutral\",\"neutral\",\"neutral\",\"neutral\",\"sad\",\"sad\",\"sad\",\"sad\",\"sad\",\"sad\",\"surprise\",\"surprise\",\"surprise\",\"surprise\",\"surprise\",\"sideways\",\"sideways\",\"slightly_turned\",\"slightly_turned\",\"straight\",\"straight\",\"white\",\"white\",\"Man\",\"Woman\"],\"marker\":{\"coloraxis\":\"coloraxis\",\"colors\":[0.011682202579652117,0.004065874326233463,0.2909981844514314,0.2902516668170455,0.39354779558121356,0.2891565123601924,0.0026986543271425986,0.6185938963053843,0.008662201737451577,0.006834003062796696,0.23202277309064576,0.12936421806994047,0.34009586059692715,0.2866641535620586,0.01141917583622157,0.00421320708292203,0.2094649490446792,0.2989378971429056,0.4905184337054272,0.4361868167848353,0.010600657041773827,0.006570374607918724,0.33006814997973,0.26454970605624045,0.5280104193155069,0.4758475168267229,0.015534941184094724,0.007331585570231754,0.2204666957888944,0.23615077166981657,0.40296113542312373,0.3671135276857078,0.0076270971872749,0.004319936829406713,0.20519323231829095,0.3611120463202652,0.546621417140997,0.010872472893286534,0.006126195313046065,0.25885234356596154,0.22063165560853729,0.46628380253289,0.40154667476295725,0.3470486086122723,0.29467814431754774,0.3470486086122723,0.29467814431754774]},\"name\":\"\",\"parents\":[\"Man/white/sideways\",\"Woman/white/sideways\",\"Man/white/slightly_turned\",\"Woman/white/slightly_turned\",\"Man/white/straight\",\"Woman/white/straight\",\"Man/white/sideways\",\"Man/white/straight\",\"Man/white/sideways\",\"Woman/white/sideways\",\"Man/white/slightly_turned\",\"Woman/white/slightly_turned\",\"Man/white/straight\",\"Woman/white/straight\",\"Man/white/sideways\",\"Woman/white/sideways\",\"Man/white/slightly_turned\",\"Woman/white/slightly_turned\",\"Man/white/straight\",\"Woman/white/straight\",\"Man/white/sideways\",\"Woman/white/sideways\",\"Man/white/slightly_turned\",\"Woman/white/slightly_turned\",\"Man/white/straight\",\"Woman/white/straight\",\"Man/white/sideways\",\"Woman/white/sideways\",\"Man/white/slightly_turned\",\"Woman/white/slightly_turned\",\"Man/white/straight\",\"Woman/white/straight\",\"Man/white/sideways\",\"Woman/white/sideways\",\"Man/white/slightly_turned\",\"Man/white/straight\",\"Woman/white/straight\",\"Man/white\",\"Woman/white\",\"Man/white\",\"Woman/white\",\"Man/white\",\"Woman/white\",\"Man\",\"Woman\",\"\",\"\"],\"values\":[57,5,27,5,180,21,2,1,272,38,52,20,252,50,60,15,26,12,141,69,102,15,108,8,1159,97,150,15,142,12,444,56,41,7,8,20,3,684,95,363,57,2197,296,3244,448,3244,448],\"type\":\"sunburst\"}],                        {\"template\":{\"data\":{\"histogram2dcontour\":[{\"type\":\"histogram2dcontour\",\"colorbar\":{\"outlinewidth\":0,\"ticks\":\"\"},\"colorscale\":[[0.0,\"#0d0887\"],[0.1111111111111111,\"#46039f\"],[0.2222222222222222,\"#7201a8\"],[0.3333333333333333,\"#9c179e\"],[0.4444444444444444,\"#bd3786\"],[0.5555555555555556,\"#d8576b\"],[0.6666666666666666,\"#ed7953\"],[0.7777777777777778,\"#fb9f3a\"],[0.8888888888888888,\"#fdca26\"],[1.0,\"#f0f921\"]]}],\"choropleth\":[{\"type\":\"choropleth\",\"colorbar\":{\"outlinewidth\":0,\"ticks\":\"\"}}],\"histogram2d\":[{\"type\":\"histogram2d\",\"colorbar\":{\"outlinewidth\":0,\"ticks\":\"\"},\"colorscale\":[[0.0,\"#0d0887\"],[0.1111111111111111,\"#46039f\"],[0.2222222222222222,\"#7201a8\"],[0.3333333333333333,\"#9c179e\"],[0.4444444444444444,\"#bd3786\"],[0.5555555555555556,\"#d8576b\"],[0.6666666666666666,\"#ed7953\"],[0.7777777777777778,\"#fb9f3a\"],[0.8888888888888888,\"#fdca26\"],[1.0,\"#f0f921\"]]}],\"heatmap\":[{\"type\":\"heatmap\",\"colorbar\":{\"outlinewidth\":0,\"ticks\":\"\"},\"colorscale\":[[0.0,\"#0d0887\"],[0.1111111111111111,\"#46039f\"],[0.2222222222222222,\"#7201a8\"],[0.3333333333333333,\"#9c179e\"],[0.4444444444444444,\"#bd3786\"],[0.5555555555555556,\"#d8576b\"],[0.6666666666666666,\"#ed7953\"],[0.7777777777777778,\"#fb9f3a\"],[0.8888888888888888,\"#fdca26\"],[1.0,\"#f0f921\"]]}],\"heatmapgl\":[{\"type\":\"heatmapgl\",\"colorbar\":{\"outlinewidth\":0,\"ticks\":\"\"},\"colorscale\":[[0.0,\"#0d0887\"],[0.1111111111111111,\"#46039f\"],[0.2222222222222222,\"#7201a8\"],[0.3333333333333333,\"#9c179e\"],[0.4444444444444444,\"#bd3786\"],[0.5555555555555556,\"#d8576b\"],[0.6666666666666666,\"#ed7953\"],[0.7777777777777778,\"#fb9f3a\"],[0.8888888888888888,\"#fdca26\"],[1.0,\"#f0f921\"]]}],\"contourcarpet\":[{\"type\":\"contourcarpet\",\"colorbar\":{\"outlinewidth\":0,\"ticks\":\"\"}}],\"contour\":[{\"type\":\"contour\",\"colorbar\":{\"outlinewidth\":0,\"ticks\":\"\"},\"colorscale\":[[0.0,\"#0d0887\"],[0.1111111111111111,\"#46039f\"],[0.2222222222222222,\"#7201a8\"],[0.3333333333333333,\"#9c179e\"],[0.4444444444444444,\"#bd3786\"],[0.5555555555555556,\"#d8576b\"],[0.6666666666666666,\"#ed7953\"],[0.7777777777777778,\"#fb9f3a\"],[0.8888888888888888,\"#fdca26\"],[1.0,\"#f0f921\"]]}],\"surface\":[{\"type\":\"surface\",\"colorbar\":{\"outlinewidth\":0,\"ticks\":\"\"},\"colorscale\":[[0.0,\"#0d0887\"],[0.1111111111111111,\"#46039f\"],[0.2222222222222222,\"#7201a8\"],[0.3333333333333333,\"#9c179e\"],[0.4444444444444444,\"#bd3786\"],[0.5555555555555556,\"#d8576b\"],[0.6666666666666666,\"#ed7953\"],[0.7777777777777778,\"#fb9f3a\"],[0.8888888888888888,\"#fdca26\"],[1.0,\"#f0f921\"]]}],\"mesh3d\":[{\"type\":\"mesh3d\",\"colorbar\":{\"outlinewidth\":0,\"ticks\":\"\"}}],\"scatter\":[{\"fillpattern\":{\"fillmode\":\"overlay\",\"size\":10,\"solidity\":0.2},\"type\":\"scatter\"}],\"parcoords\":[{\"type\":\"parcoords\",\"line\":{\"colorbar\":{\"outlinewidth\":0,\"ticks\":\"\"}}}],\"scatterpolargl\":[{\"type\":\"scatterpolargl\",\"marker\":{\"colorbar\":{\"outlinewidth\":0,\"ticks\":\"\"}}}],\"bar\":[{\"error_x\":{\"color\":\"#2a3f5f\"},\"error_y\":{\"color\":\"#2a3f5f\"},\"marker\":{\"line\":{\"color\":\"#E5ECF6\",\"width\":0.5},\"pattern\":{\"fillmode\":\"overlay\",\"size\":10,\"solidity\":0.2}},\"type\":\"bar\"}],\"scattergeo\":[{\"type\":\"scattergeo\",\"marker\":{\"colorbar\":{\"outlinewidth\":0,\"ticks\":\"\"}}}],\"scatterpolar\":[{\"type\":\"scatterpolar\",\"marker\":{\"colorbar\":{\"outlinewidth\":0,\"ticks\":\"\"}}}],\"histogram\":[{\"marker\":{\"pattern\":{\"fillmode\":\"overlay\",\"size\":10,\"solidity\":0.2}},\"type\":\"histogram\"}],\"scattergl\":[{\"type\":\"scattergl\",\"marker\":{\"colorbar\":{\"outlinewidth\":0,\"ticks\":\"\"}}}],\"scatter3d\":[{\"type\":\"scatter3d\",\"line\":{\"colorbar\":{\"outlinewidth\":0,\"ticks\":\"\"}},\"marker\":{\"colorbar\":{\"outlinewidth\":0,\"ticks\":\"\"}}}],\"scattermapbox\":[{\"type\":\"scattermapbox\",\"marker\":{\"colorbar\":{\"outlinewidth\":0,\"ticks\":\"\"}}}],\"scatterternary\":[{\"type\":\"scatterternary\",\"marker\":{\"colorbar\":{\"outlinewidth\":0,\"ticks\":\"\"}}}],\"scattercarpet\":[{\"type\":\"scattercarpet\",\"marker\":{\"colorbar\":{\"outlinewidth\":0,\"ticks\":\"\"}}}],\"carpet\":[{\"aaxis\":{\"endlinecolor\":\"#2a3f5f\",\"gridcolor\":\"white\",\"linecolor\":\"white\",\"minorgridcolor\":\"white\",\"startlinecolor\":\"#2a3f5f\"},\"baxis\":{\"endlinecolor\":\"#2a3f5f\",\"gridcolor\":\"white\",\"linecolor\":\"white\",\"minorgridcolor\":\"white\",\"startlinecolor\":\"#2a3f5f\"},\"type\":\"carpet\"}],\"table\":[{\"cells\":{\"fill\":{\"color\":\"#EBF0F8\"},\"line\":{\"color\":\"white\"}},\"header\":{\"fill\":{\"color\":\"#C8D4E3\"},\"line\":{\"color\":\"white\"}},\"type\":\"table\"}],\"barpolar\":[{\"marker\":{\"line\":{\"color\":\"#E5ECF6\",\"width\":0.5},\"pattern\":{\"fillmode\":\"overlay\",\"size\":10,\"solidity\":0.2}},\"type\":\"barpolar\"}],\"pie\":[{\"automargin\":true,\"type\":\"pie\"}]},\"layout\":{\"autotypenumbers\":\"strict\",\"colorway\":[\"#636efa\",\"#EF553B\",\"#00cc96\",\"#ab63fa\",\"#FFA15A\",\"#19d3f3\",\"#FF6692\",\"#B6E880\",\"#FF97FF\",\"#FECB52\"],\"font\":{\"color\":\"#2a3f5f\"},\"hovermode\":\"closest\",\"hoverlabel\":{\"align\":\"left\"},\"paper_bgcolor\":\"white\",\"plot_bgcolor\":\"#E5ECF6\",\"polar\":{\"bgcolor\":\"#E5ECF6\",\"angularaxis\":{\"gridcolor\":\"white\",\"linecolor\":\"white\",\"ticks\":\"\"},\"radialaxis\":{\"gridcolor\":\"white\",\"linecolor\":\"white\",\"ticks\":\"\"}},\"ternary\":{\"bgcolor\":\"#E5ECF6\",\"aaxis\":{\"gridcolor\":\"white\",\"linecolor\":\"white\",\"ticks\":\"\"},\"baxis\":{\"gridcolor\":\"white\",\"linecolor\":\"white\",\"ticks\":\"\"},\"caxis\":{\"gridcolor\":\"white\",\"linecolor\":\"white\",\"ticks\":\"\"}},\"coloraxis\":{\"colorbar\":{\"outlinewidth\":0,\"ticks\":\"\"}},\"colorscale\":{\"sequential\":[[0.0,\"#0d0887\"],[0.1111111111111111,\"#46039f\"],[0.2222222222222222,\"#7201a8\"],[0.3333333333333333,\"#9c179e\"],[0.4444444444444444,\"#bd3786\"],[0.5555555555555556,\"#d8576b\"],[0.6666666666666666,\"#ed7953\"],[0.7777777777777778,\"#fb9f3a\"],[0.8888888888888888,\"#fdca26\"],[1.0,\"#f0f921\"]],\"sequentialminus\":[[0.0,\"#0d0887\"],[0.1111111111111111,\"#46039f\"],[0.2222222222222222,\"#7201a8\"],[0.3333333333333333,\"#9c179e\"],[0.4444444444444444,\"#bd3786\"],[0.5555555555555556,\"#d8576b\"],[0.6666666666666666,\"#ed7953\"],[0.7777777777777778,\"#fb9f3a\"],[0.8888888888888888,\"#fdca26\"],[1.0,\"#f0f921\"]],\"diverging\":[[0,\"#8e0152\"],[0.1,\"#c51b7d\"],[0.2,\"#de77ae\"],[0.3,\"#f1b6da\"],[0.4,\"#fde0ef\"],[0.5,\"#f7f7f7\"],[0.6,\"#e6f5d0\"],[0.7,\"#b8e186\"],[0.8,\"#7fbc41\"],[0.9,\"#4d9221\"],[1,\"#276419\"]]},\"xaxis\":{\"gridcolor\":\"white\",\"linecolor\":\"white\",\"ticks\":\"\",\"title\":{\"standoff\":15},\"zerolinecolor\":\"white\",\"automargin\":true,\"zerolinewidth\":2},\"yaxis\":{\"gridcolor\":\"white\",\"linecolor\":\"white\",\"ticks\":\"\",\"title\":{\"standoff\":15},\"zerolinecolor\":\"white\",\"automargin\":true,\"zerolinewidth\":2},\"scene\":{\"xaxis\":{\"backgroundcolor\":\"#E5ECF6\",\"gridcolor\":\"white\",\"linecolor\":\"white\",\"showbackground\":true,\"ticks\":\"\",\"zerolinecolor\":\"white\",\"gridwidth\":2},\"yaxis\":{\"backgroundcolor\":\"#E5ECF6\",\"gridcolor\":\"white\",\"linecolor\":\"white\",\"showbackground\":true,\"ticks\":\"\",\"zerolinecolor\":\"white\",\"gridwidth\":2},\"zaxis\":{\"backgroundcolor\":\"#E5ECF6\",\"gridcolor\":\"white\",\"linecolor\":\"white\",\"showbackground\":true,\"ticks\":\"\",\"zerolinecolor\":\"white\",\"gridwidth\":2}},\"shapedefaults\":{\"line\":{\"color\":\"#2a3f5f\"}},\"annotationdefaults\":{\"arrowcolor\":\"#2a3f5f\",\"arrowhead\":0,\"arrowwidth\":1},\"geo\":{\"bgcolor\":\"white\",\"landcolor\":\"#E5ECF6\",\"subunitcolor\":\"white\",\"showland\":true,\"showlakes\":true,\"lakecolor\":\"white\"},\"title\":{\"x\":0.05},\"mapbox\":{\"style\":\"light\"}}},\"coloraxis\":{\"colorbar\":{\"title\":{\"text\":\"Quality\"}},\"colorscale\":[[0.0,\"#440154\"],[0.1111111111111111,\"#482878\"],[0.2222222222222222,\"#3e4989\"],[0.3333333333333333,\"#31688e\"],[0.4444444444444444,\"#26828e\"],[0.5555555555555556,\"#1f9e89\"],[0.6666666666666666,\"#35b779\"],[0.7777777777777778,\"#6ece58\"],[0.8888888888888888,\"#b5de2b\"],[1.0,\"#fde725\"]],\"cmin\":0,\"cmax\":1},\"legend\":{\"tracegroupgap\":0},\"title\":{\"text\":\"SCFace\"}},                        {\"responsive\": true}                    ).then(function(){\n",
       "                            \n",
       "var gd = document.getElementById('f346c70f-1cbe-44e0-b9a7-816e61f7b0f9');\n",
       "var x = new MutationObserver(function (mutations, observer) {{\n",
       "        var display = window.getComputedStyle(gd).display;\n",
       "        if (!display || display === 'none') {{\n",
       "            console.log([gd, 'removed!']);\n",
       "            Plotly.purge(gd);\n",
       "            observer.disconnect();\n",
       "        }}\n",
       "}});\n",
       "\n",
       "// Listen for the removal of the full notebook cells\n",
       "var notebookContainer = gd.closest('#notebook-container');\n",
       "if (notebookContainer) {{\n",
       "    x.observe(notebookContainer, {childList: true});\n",
       "}}\n",
       "\n",
       "// Listen for the clearing of the current output cell\n",
       "var outputEl = gd.closest('.output');\n",
       "if (outputEl) {{\n",
       "    x.observe(outputEl, {childList: true});\n",
       "}}\n",
       "\n",
       "                        })                };                });            </script>        </div>"
      ]
     },
     "metadata": {},
     "output_type": "display_data"
    },
    {
     "data": {
      "application/vnd.plotly.v1+json": {
       "config": {
        "plotlyServerURL": "https://plot.ly"
       },
       "data": [
        {
         "branchvalues": "total",
         "customdata": [
          [
           0.15365745007768505
          ],
          [
           0.10394324649851978
          ],
          [
           0.20535656710721287
          ],
          [
           0.11502949913885858
          ],
          [
           0.1309217855111476
          ],
          [
           0.19433597663466076
          ],
          [
           0.21131640394617204
          ],
          [
           0.4122134549149966
          ],
          [
           0.06003596367034732
          ],
          [
           0.20735205067888748
          ],
          [
           0.03875411652371777
          ],
          [
           0.6064655069985452
          ],
          [
           0.3630500609214472
          ],
          [
           0.031820788471568634
          ],
          [
           0.4714714980619317
          ],
          [
           0.4436757781243473
          ],
          [
           0.32456233866596274
          ],
          [
           0.5048242884675315
          ],
          [
           0.3644648355577507
          ],
          [
           0.3916736677687608
          ],
          [
           0.20639045061619585
          ],
          [
           0.41137040558331833
          ],
          [
           0.625963984513462
          ],
          [
           0.5587393967711156
          ],
          [
           0.5514254068969465
          ],
          [
           0.38316898211098743
          ],
          [
           0.24789212858538315
          ],
          [
           0.37791231421122
          ],
          [
           0.5180663529966564
          ],
          [
           0.5111363612587955
          ],
          [
           0.5331357685240493
          ],
          [
           0.4888610671247065
          ],
          [
           0.7083472460032965
          ],
          [
           0.7446592831871505
          ],
          [
           0.2461718838254595
          ],
          [
           0.7079357607338703
          ],
          [
           0.7109789172422691
          ],
          [
           0.615403929078353
          ],
          [
           0.7844455996276023
          ],
          [
           0.09137616963597481
          ],
          [
           0.08503528793908598
          ],
          [
           0.09144447212991295
          ],
          [
           0.04705187202717995
          ],
          [
           0.20719791665180906
          ],
          [
           0.17243714217523612
          ],
          [
           0.6412298127972529
          ],
          [
           0.18718423911770285
          ],
          [
           0.17504247885606308
          ],
          [
           0.15436973975584778
          ],
          [
           0.24180850796376815
          ],
          [
           0.15651066890943857
          ],
          [
           0.20003067110266554
          ],
          [
           0.42941637927207804
          ],
          [
           0.3879996110965839
          ],
          [
           0.29939155778640986
          ],
          [
           0.3914810538493698
          ],
          [
           0.32485684589547825
          ],
          [
           0.26234340258953864
          ],
          [
           0.31175738601663333
          ],
          [
           0.21525469814282572
          ],
          [
           0.22482067582530957
          ],
          [
           0.17197462503171676
          ],
          [
           0.2616346948177303
          ],
          [
           0.3801007045437949
          ],
          [
           0.3411405307394968
          ],
          [
           0.4568515692001756
          ],
          [
           0.38969252945651106
          ],
          [
           0.31770203886141996
          ],
          [
           0.09321191991076587
          ],
          [
           0.07912253287557837
          ],
          [
           0.1295729166720889
          ],
          [
           0.29235082390598055
          ],
          [
           0.2599694613967371
          ],
          [
           0.11013150350750416
          ],
          [
           0.1627983113104176
          ],
          [
           0.15870436762161316
          ],
          [
           0.3142324590185257
          ],
          [
           0.21664516887396815
          ],
          [
           0.30543230023188955
          ],
          [
           0.30081870618421025
          ],
          [
           0.7158269976623503
          ],
          [
           0.430914776928484
          ],
          [
           0.45505250427172134
          ],
          [
           0.3535807384289613
          ],
          [
           0.5256048366002886
          ],
          [
           0.3716083190986546
          ],
          [
           0.40465219156491444
          ],
          [
           0.43428836733471327
          ],
          [
           0.4588337612397564
          ],
          [
           0.35825564827169876
          ],
          [
           0.4874665149358784
          ],
          [
           0.43020215808311635
          ],
          [
           0.2740490639406637
          ],
          [
           0.5717382308449351
          ],
          [
           0.5771662014919031
          ],
          [
           0.44333220426431713
          ],
          [
           0.5920245534839341
          ],
          [
           0.5284802999725702
          ],
          [
           0.5127063641021062
          ],
          [
           0.13671125988057403
          ],
          [
           0.09269281783073187
          ],
          [
           0.06519526636133341
          ],
          [
           0.14713412997542147
          ],
          [
           0.16252390246515402
          ],
          [
           0.16544346041758612
          ],
          [
           0.005573600987103115
          ],
          [
           0.18401784938068289
          ],
          [
           0.22019969976442058
          ],
          [
           0.32240486114466904
          ],
          [
           0.3374193783479723
          ],
          [
           0.33221877972282365
          ],
          [
           0.41221539625119513
          ],
          [
           0.5084736325715532
          ],
          [
           0.7647529269239018
          ],
          [
           0.43939517041941273
          ],
          [
           0.11660489770817535
          ],
          [
           0.3680454968209591
          ],
          [
           0.31935474401041647
          ],
          [
           0.43275081411393906
          ],
          [
           0.2249218690118403
          ],
          [
           0.38147752688309144
          ],
          [
           0.41523456798176867
          ],
          [
           0.50018810887615
          ],
          [
           0.7429434297600068
          ],
          [
           0.5389461919904255
          ],
          [
           0.21281809465847687
          ],
          [
           0.5156886168024178
          ],
          [
           0.5046251235788685
          ],
          [
           0.468190822071332
          ],
          [
           0.4279646225878609
          ],
          [
           0.12206210113304042
          ],
          [
           0.09473804438332782
          ],
          [
           0.10739308642962359
          ],
          [
           0.23237202910518925
          ],
          [
           0.10517076846412012
          ],
          [
           0.24575423505907015
          ],
          [
           0.03259122485435704
          ],
          [
           0.14038951827207696
          ],
          [
           0.08728255679586552
          ],
          [
           0.24972403352727868
          ],
          [
           0.16069880013918444
          ],
          [
           0.24171577144966477
          ],
          [
           0.1279418093048612
          ],
          [
           0.20911783912095794
          ],
          [
           0.38875129787537205
          ],
          [
           0.1609502792539209
          ],
          [
           0.39172403049396937
          ],
          [
           0.3336084398953672
          ],
          [
           0.2792412188360937
          ],
          [
           0.4098693661533087
          ],
          [
           0.2462340880266525
          ],
          [
           0.2897795187418653
          ],
          [
           0.23581269561252338
          ],
          [
           0.30230348823542813
          ],
          [
           0.783142096234012
          ],
          [
           0.45268212082696024
          ],
          [
           0.2780384947386478
          ],
          [
           0.4082772862699015
          ],
          [
           0.4367342244302616
          ],
          [
           0.3356782187808507
          ],
          [
           0.13327079326866448
          ],
          [
           0.0008504556898859847
          ],
          [
           0.0002104926544507126
          ],
          [
           0.10151019801276417
          ],
          [
           0.1546239092470965
          ],
          [
           0.44635841949032484
          ],
          [
           0.2637918629529593
          ],
          [
           0.06877224369811728
          ],
          [
           0.27241191084488986
          ],
          [
           0.32892333095953874
          ],
          [
           0.19190225050653992
          ],
          [
           0.3304777813349799
          ],
          [
           0.2556248025254218
          ],
          [
           0.4770354623507135
          ],
          [
           0.09383471858259854
          ],
          [
           0.420557124499429
          ],
          [
           0.029446903784023384
          ],
          [
           0.45036968021467083
          ],
          [
           0.6187937598358665
          ],
          [
           0.4089963899197862
          ],
          [
           0.44884445001044754
          ],
          [
           0.4352501848725261
          ],
          [
           0.11936142269319028
          ],
          [
           0.08880514876836622
          ],
          [
           0.11188682928838353
          ],
          [
           0.0008504556898859847
          ],
          [
           0.16547599890384979
          ],
          [
           0.20719791665180906
          ],
          [
           0.1504263410035058
          ],
          [
           0.6412298127972529
          ],
          [
           0.18339683638514948
          ],
          [
           0.019082412920730076
          ],
          [
           0.1663014240750242
          ],
          [
           0.15515430470984745
          ],
          [
           0.29194071079089723
          ],
          [
           0.20327340505198738
          ],
          [
           0.26560132013912907
          ],
          [
           0.14467965012450232
          ],
          [
           0.39685760973376316
          ],
          [
           0.4238054325738088
          ],
          [
           0.3597322789932675
          ],
          [
           0.4059632300447276
          ],
          [
           0.3892715236362508
          ],
          [
           0.35844792706211015
          ],
          [
           0.33418219322170206
          ],
          [
           0.41644455384202167
          ],
          [
           0.34403011003653805
          ],
          [
           0.34521093412913845
          ],
          [
           0.3894320008483618
          ],
          [
           0.40695285899954714
          ],
          [
           0.5185459134688365
          ],
          [
           0.5182892251854797
          ],
          [
           0.436891778976808
          ],
          [
           0.46775764688436194
          ],
          [
           0.5264749810551349
          ],
          [
           0.47010619196261605
          ],
          [
           0.42952416138318156
          ],
          [
           0.35091835592199244
          ],
          [
           0.2738961209286222
          ],
          [
           0.3086260610923333
          ],
          [
           0.33742092669424006
          ],
          [
           0.3752356034083635
          ],
          [
           0.456276314105431
          ],
          [
           0.4396706685640707
          ],
          [
           0.4185863349125355
          ],
          [
           0.41959619079922417
          ],
          [
           0.3679865912189725
          ],
          [
           0.40437991766730513
          ],
          [
           0.3763232247615361
          ],
          [
           0.3943795063032297
          ],
          [
           0.3651932297692903
          ]
         ],
         "domain": {
          "x": [
           0,
           1
          ],
          "y": [
           0,
           1
          ]
         },
         "hovertemplate": "labels=%{label}<br>count=%{value}<br>parent=%{parent}<br>id=%{id}<br>Quality=%{color}<extra></extra>",
         "ids": [
          "Man/asian/sideways/angry",
          "Man/black/sideways/angry",
          "Man/indian/sideways/angry",
          "Man/latino hispanic/sideways/angry",
          "Man/middle eastern/sideways/angry",
          "Man/white/sideways/angry",
          "Woman/white/sideways/angry",
          "Man/asian/slightly_turned/angry",
          "Woman/asian/slightly_turned/angry",
          "Man/black/slightly_turned/angry",
          "Woman/black/slightly_turned/angry",
          "Man/indian/slightly_turned/angry",
          "Man/latino hispanic/slightly_turned/angry",
          "Woman/latino hispanic/slightly_turned/angry",
          "Man/middle eastern/slightly_turned/angry",
          "Man/white/slightly_turned/angry",
          "Woman/white/slightly_turned/angry",
          "Man/asian/straight/angry",
          "Woman/asian/straight/angry",
          "Man/black/straight/angry",
          "Woman/black/straight/angry",
          "Man/indian/straight/angry",
          "Man/latino hispanic/straight/angry",
          "Man/middle eastern/straight/angry",
          "Man/white/straight/angry",
          "Woman/white/straight/angry",
          "Man/black/sideways/disgust",
          "Man/white/sideways/disgust",
          "Man/asian/slightly_turned/disgust",
          "Man/latino hispanic/slightly_turned/disgust",
          "Man/middle eastern/slightly_turned/disgust",
          "Man/white/slightly_turned/disgust",
          "Woman/white/slightly_turned/disgust",
          "Man/asian/straight/disgust",
          "Man/black/straight/disgust",
          "Man/latino hispanic/straight/disgust",
          "Man/middle eastern/straight/disgust",
          "Man/white/straight/disgust",
          "Woman/white/straight/disgust",
          "Man/asian/sideways/fear",
          "Woman/asian/sideways/fear",
          "Man/black/sideways/fear",
          "Man/indian/sideways/fear",
          "Woman/indian/sideways/fear",
          "Man/latino hispanic/sideways/fear",
          "Woman/latino hispanic/sideways/fear",
          "Man/middle eastern/sideways/fear",
          "Man/white/sideways/fear",
          "Woman/white/sideways/fear",
          "Man/asian/slightly_turned/fear",
          "Woman/asian/slightly_turned/fear",
          "Man/black/slightly_turned/fear",
          "Man/indian/slightly_turned/fear",
          "Man/latino hispanic/slightly_turned/fear",
          "Woman/latino hispanic/slightly_turned/fear",
          "Man/middle eastern/slightly_turned/fear",
          "Man/white/slightly_turned/fear",
          "Woman/white/slightly_turned/fear",
          "Man/asian/straight/fear",
          "Woman/asian/straight/fear",
          "Man/black/straight/fear",
          "Woman/black/straight/fear",
          "Man/indian/straight/fear",
          "Man/latino hispanic/straight/fear",
          "Woman/latino hispanic/straight/fear",
          "Man/middle eastern/straight/fear",
          "Man/white/straight/fear",
          "Woman/white/straight/fear",
          "Man/asian/sideways/happy",
          "Woman/asian/sideways/happy",
          "Man/black/sideways/happy",
          "Man/indian/sideways/happy",
          "Man/latino hispanic/sideways/happy",
          "Man/middle eastern/sideways/happy",
          "Man/white/sideways/happy",
          "Woman/white/sideways/happy",
          "Man/asian/slightly_turned/happy",
          "Woman/asian/slightly_turned/happy",
          "Man/black/slightly_turned/happy",
          "Woman/black/slightly_turned/happy",
          "Man/indian/slightly_turned/happy",
          "Man/latino hispanic/slightly_turned/happy",
          "Woman/latino hispanic/slightly_turned/happy",
          "Man/middle eastern/slightly_turned/happy",
          "Woman/middle eastern/slightly_turned/happy",
          "Man/white/slightly_turned/happy",
          "Woman/white/slightly_turned/happy",
          "Man/asian/straight/happy",
          "Woman/asian/straight/happy",
          "Man/black/straight/happy",
          "Woman/black/straight/happy",
          "Man/indian/straight/happy",
          "Woman/indian/straight/happy",
          "Man/latino hispanic/straight/happy",
          "Woman/latino hispanic/straight/happy",
          "Man/middle eastern/straight/happy",
          "Woman/middle eastern/straight/happy",
          "Man/white/straight/happy",
          "Woman/white/straight/happy",
          "Man/asian/sideways/neutral",
          "Woman/asian/sideways/neutral",
          "Man/black/sideways/neutral",
          "Man/indian/sideways/neutral",
          "Man/latino hispanic/sideways/neutral",
          "Man/middle eastern/sideways/neutral",
          "Woman/middle eastern/sideways/neutral",
          "Man/white/sideways/neutral",
          "Woman/white/sideways/neutral",
          "Man/asian/slightly_turned/neutral",
          "Woman/asian/slightly_turned/neutral",
          "Man/black/slightly_turned/neutral",
          "Man/indian/slightly_turned/neutral",
          "Man/latino hispanic/slightly_turned/neutral",
          "Woman/latino hispanic/slightly_turned/neutral",
          "Man/middle eastern/slightly_turned/neutral",
          "Woman/middle eastern/slightly_turned/neutral",
          "Man/white/slightly_turned/neutral",
          "Woman/white/slightly_turned/neutral",
          "Man/asian/straight/neutral",
          "Woman/asian/straight/neutral",
          "Man/black/straight/neutral",
          "Woman/black/straight/neutral",
          "Man/indian/straight/neutral",
          "Woman/indian/straight/neutral",
          "Man/latino hispanic/straight/neutral",
          "Woman/latino hispanic/straight/neutral",
          "Man/middle eastern/straight/neutral",
          "Woman/middle eastern/straight/neutral",
          "Man/white/straight/neutral",
          "Woman/white/straight/neutral",
          "Man/asian/sideways/sad",
          "Woman/asian/sideways/sad",
          "Man/black/sideways/sad",
          "Man/indian/sideways/sad",
          "Man/latino hispanic/sideways/sad",
          "Man/middle eastern/sideways/sad",
          "Woman/middle eastern/sideways/sad",
          "Man/white/sideways/sad",
          "Woman/white/sideways/sad",
          "Man/asian/slightly_turned/sad",
          "Woman/asian/slightly_turned/sad",
          "Man/black/slightly_turned/sad",
          "Woman/black/slightly_turned/sad",
          "Man/indian/slightly_turned/sad",
          "Man/latino hispanic/slightly_turned/sad",
          "Woman/latino hispanic/slightly_turned/sad",
          "Man/middle eastern/slightly_turned/sad",
          "Man/white/slightly_turned/sad",
          "Woman/white/slightly_turned/sad",
          "Man/asian/straight/sad",
          "Woman/asian/straight/sad",
          "Man/black/straight/sad",
          "Woman/black/straight/sad",
          "Man/indian/straight/sad",
          "Woman/indian/straight/sad",
          "Man/latino hispanic/straight/sad",
          "Woman/latino hispanic/straight/sad",
          "Man/middle eastern/straight/sad",
          "Man/white/straight/sad",
          "Woman/white/straight/sad",
          "Man/asian/sideways/surprise",
          "Woman/black/sideways/surprise",
          "Man/latino hispanic/sideways/surprise",
          "Man/middle eastern/sideways/surprise",
          "Man/white/sideways/surprise",
          "Woman/white/sideways/surprise",
          "Man/asian/slightly_turned/surprise",
          "Woman/asian/slightly_turned/surprise",
          "Man/latino hispanic/slightly_turned/surprise",
          "Woman/latino hispanic/slightly_turned/surprise",
          "Man/middle eastern/slightly_turned/surprise",
          "Man/white/slightly_turned/surprise",
          "Woman/white/slightly_turned/surprise",
          "Man/asian/straight/surprise",
          "Woman/asian/straight/surprise",
          "Man/black/straight/surprise",
          "Man/indian/straight/surprise",
          "Man/latino hispanic/straight/surprise",
          "Woman/latino hispanic/straight/surprise",
          "Man/middle eastern/straight/surprise",
          "Man/white/straight/surprise",
          "Woman/white/straight/surprise",
          "Man/asian/sideways",
          "Woman/asian/sideways",
          "Man/black/sideways",
          "Woman/black/sideways",
          "Man/indian/sideways",
          "Woman/indian/sideways",
          "Man/latino hispanic/sideways",
          "Woman/latino hispanic/sideways",
          "Man/middle eastern/sideways",
          "Woman/middle eastern/sideways",
          "Man/white/sideways",
          "Woman/white/sideways",
          "Man/asian/slightly_turned",
          "Woman/asian/slightly_turned",
          "Man/black/slightly_turned",
          "Woman/black/slightly_turned",
          "Man/indian/slightly_turned",
          "Man/latino hispanic/slightly_turned",
          "Woman/latino hispanic/slightly_turned",
          "Man/middle eastern/slightly_turned",
          "Woman/middle eastern/slightly_turned",
          "Man/white/slightly_turned",
          "Woman/white/slightly_turned",
          "Man/asian/straight",
          "Woman/asian/straight",
          "Man/black/straight",
          "Woman/black/straight",
          "Man/indian/straight",
          "Woman/indian/straight",
          "Man/latino hispanic/straight",
          "Woman/latino hispanic/straight",
          "Man/middle eastern/straight",
          "Woman/middle eastern/straight",
          "Man/white/straight",
          "Woman/white/straight",
          "Man/asian",
          "Woman/asian",
          "Man/black",
          "Woman/black",
          "Man/indian",
          "Woman/indian",
          "Man/latino hispanic",
          "Woman/latino hispanic",
          "Man/middle eastern",
          "Woman/middle eastern",
          "Man/white",
          "Woman/white",
          "Man",
          "Woman"
         ],
         "labels": [
          "angry",
          "angry",
          "angry",
          "angry",
          "angry",
          "angry",
          "angry",
          "angry",
          "angry",
          "angry",
          "angry",
          "angry",
          "angry",
          "angry",
          "angry",
          "angry",
          "angry",
          "angry",
          "angry",
          "angry",
          "angry",
          "angry",
          "angry",
          "angry",
          "angry",
          "angry",
          "disgust",
          "disgust",
          "disgust",
          "disgust",
          "disgust",
          "disgust",
          "disgust",
          "disgust",
          "disgust",
          "disgust",
          "disgust",
          "disgust",
          "disgust",
          "fear",
          "fear",
          "fear",
          "fear",
          "fear",
          "fear",
          "fear",
          "fear",
          "fear",
          "fear",
          "fear",
          "fear",
          "fear",
          "fear",
          "fear",
          "fear",
          "fear",
          "fear",
          "fear",
          "fear",
          "fear",
          "fear",
          "fear",
          "fear",
          "fear",
          "fear",
          "fear",
          "fear",
          "fear",
          "happy",
          "happy",
          "happy",
          "happy",
          "happy",
          "happy",
          "happy",
          "happy",
          "happy",
          "happy",
          "happy",
          "happy",
          "happy",
          "happy",
          "happy",
          "happy",
          "happy",
          "happy",
          "happy",
          "happy",
          "happy",
          "happy",
          "happy",
          "happy",
          "happy",
          "happy",
          "happy",
          "happy",
          "happy",
          "happy",
          "happy",
          "neutral",
          "neutral",
          "neutral",
          "neutral",
          "neutral",
          "neutral",
          "neutral",
          "neutral",
          "neutral",
          "neutral",
          "neutral",
          "neutral",
          "neutral",
          "neutral",
          "neutral",
          "neutral",
          "neutral",
          "neutral",
          "neutral",
          "neutral",
          "neutral",
          "neutral",
          "neutral",
          "neutral",
          "neutral",
          "neutral",
          "neutral",
          "neutral",
          "neutral",
          "neutral",
          "neutral",
          "sad",
          "sad",
          "sad",
          "sad",
          "sad",
          "sad",
          "sad",
          "sad",
          "sad",
          "sad",
          "sad",
          "sad",
          "sad",
          "sad",
          "sad",
          "sad",
          "sad",
          "sad",
          "sad",
          "sad",
          "sad",
          "sad",
          "sad",
          "sad",
          "sad",
          "sad",
          "sad",
          "sad",
          "sad",
          "sad",
          "surprise",
          "surprise",
          "surprise",
          "surprise",
          "surprise",
          "surprise",
          "surprise",
          "surprise",
          "surprise",
          "surprise",
          "surprise",
          "surprise",
          "surprise",
          "surprise",
          "surprise",
          "surprise",
          "surprise",
          "surprise",
          "surprise",
          "surprise",
          "surprise",
          "surprise",
          "sideways",
          "sideways",
          "sideways",
          "sideways",
          "sideways",
          "sideways",
          "sideways",
          "sideways",
          "sideways",
          "sideways",
          "sideways",
          "sideways",
          "slightly_turned",
          "slightly_turned",
          "slightly_turned",
          "slightly_turned",
          "slightly_turned",
          "slightly_turned",
          "slightly_turned",
          "slightly_turned",
          "slightly_turned",
          "slightly_turned",
          "slightly_turned",
          "straight",
          "straight",
          "straight",
          "straight",
          "straight",
          "straight",
          "straight",
          "straight",
          "straight",
          "straight",
          "straight",
          "straight",
          "asian",
          "asian",
          "black",
          "black",
          "indian",
          "indian",
          "latino hispanic",
          "latino hispanic",
          "middle eastern",
          "middle eastern",
          "white",
          "white",
          "Man",
          "Woman"
         ],
         "marker": {
          "coloraxis": "coloraxis",
          "colors": [
           0.15365745007768505,
           0.10394324649851978,
           0.20535656710721287,
           0.11502949913885858,
           0.1309217855111476,
           0.19433597663466076,
           0.21131640394617204,
           0.4122134549149966,
           0.06003596367034732,
           0.20735205067888748,
           0.03875411652371777,
           0.6064655069985452,
           0.3630500609214472,
           0.031820788471568634,
           0.4714714980619317,
           0.4436757781243473,
           0.32456233866596274,
           0.5048242884675315,
           0.3644648355577507,
           0.3916736677687608,
           0.20639045061619585,
           0.41137040558331833,
           0.625963984513462,
           0.5587393967711156,
           0.5514254068969465,
           0.38316898211098743,
           0.24789212858538315,
           0.37791231421122,
           0.5180663529966564,
           0.5111363612587955,
           0.5331357685240493,
           0.4888610671247065,
           0.7083472460032965,
           0.7446592831871505,
           0.2461718838254595,
           0.7079357607338703,
           0.7109789172422691,
           0.615403929078353,
           0.7844455996276023,
           0.09137616963597481,
           0.08503528793908598,
           0.09144447212991295,
           0.04705187202717995,
           0.20719791665180906,
           0.17243714217523612,
           0.6412298127972529,
           0.18718423911770285,
           0.17504247885606308,
           0.15436973975584778,
           0.24180850796376815,
           0.15651066890943857,
           0.20003067110266554,
           0.42941637927207804,
           0.3879996110965839,
           0.29939155778640986,
           0.3914810538493698,
           0.32485684589547825,
           0.26234340258953864,
           0.31175738601663333,
           0.21525469814282572,
           0.22482067582530957,
           0.17197462503171676,
           0.2616346948177303,
           0.3801007045437949,
           0.3411405307394968,
           0.4568515692001756,
           0.38969252945651106,
           0.31770203886141996,
           0.09321191991076587,
           0.07912253287557837,
           0.1295729166720889,
           0.29235082390598055,
           0.2599694613967371,
           0.11013150350750416,
           0.1627983113104176,
           0.15870436762161316,
           0.3142324590185257,
           0.21664516887396815,
           0.30543230023188955,
           0.30081870618421025,
           0.7158269976623503,
           0.430914776928484,
           0.45505250427172134,
           0.3535807384289613,
           0.5256048366002886,
           0.3716083190986546,
           0.40465219156491444,
           0.43428836733471327,
           0.4588337612397564,
           0.35825564827169876,
           0.4874665149358784,
           0.43020215808311635,
           0.2740490639406637,
           0.5717382308449351,
           0.5771662014919031,
           0.44333220426431713,
           0.5920245534839341,
           0.5284802999725702,
           0.5127063641021062,
           0.13671125988057403,
           0.09269281783073187,
           0.06519526636133341,
           0.14713412997542147,
           0.16252390246515402,
           0.16544346041758612,
           0.005573600987103115,
           0.18401784938068289,
           0.22019969976442058,
           0.32240486114466904,
           0.3374193783479723,
           0.33221877972282365,
           0.41221539625119513,
           0.5084736325715532,
           0.7647529269239018,
           0.43939517041941273,
           0.11660489770817535,
           0.3680454968209591,
           0.31935474401041647,
           0.43275081411393906,
           0.2249218690118403,
           0.38147752688309144,
           0.41523456798176867,
           0.50018810887615,
           0.7429434297600068,
           0.5389461919904255,
           0.21281809465847687,
           0.5156886168024178,
           0.5046251235788685,
           0.468190822071332,
           0.4279646225878609,
           0.12206210113304042,
           0.09473804438332782,
           0.10739308642962359,
           0.23237202910518925,
           0.10517076846412012,
           0.24575423505907015,
           0.03259122485435704,
           0.14038951827207696,
           0.08728255679586552,
           0.24972403352727868,
           0.16069880013918444,
           0.24171577144966477,
           0.1279418093048612,
           0.20911783912095794,
           0.38875129787537205,
           0.1609502792539209,
           0.39172403049396937,
           0.3336084398953672,
           0.2792412188360937,
           0.4098693661533087,
           0.2462340880266525,
           0.2897795187418653,
           0.23581269561252338,
           0.30230348823542813,
           0.783142096234012,
           0.45268212082696024,
           0.2780384947386478,
           0.4082772862699015,
           0.4367342244302616,
           0.3356782187808507,
           0.13327079326866448,
           0.0008504556898859847,
           0.0002104926544507126,
           0.10151019801276417,
           0.1546239092470965,
           0.44635841949032484,
           0.2637918629529593,
           0.06877224369811728,
           0.27241191084488986,
           0.32892333095953874,
           0.19190225050653992,
           0.3304777813349799,
           0.2556248025254218,
           0.4770354623507135,
           0.09383471858259854,
           0.420557124499429,
           0.029446903784023384,
           0.45036968021467083,
           0.6187937598358665,
           0.4089963899197862,
           0.44884445001044754,
           0.4352501848725261,
           0.11936142269319028,
           0.08880514876836622,
           0.11188682928838353,
           0.0008504556898859847,
           0.16547599890384979,
           0.20719791665180906,
           0.1504263410035058,
           0.6412298127972529,
           0.18339683638514948,
           0.019082412920730076,
           0.1663014240750242,
           0.15515430470984745,
           0.29194071079089723,
           0.20327340505198738,
           0.26560132013912907,
           0.14467965012450232,
           0.39685760973376316,
           0.4238054325738088,
           0.3597322789932675,
           0.4059632300447276,
           0.3892715236362508,
           0.35844792706211015,
           0.33418219322170206,
           0.41644455384202167,
           0.34403011003653805,
           0.34521093412913845,
           0.3894320008483618,
           0.40695285899954714,
           0.5185459134688365,
           0.5182892251854797,
           0.436891778976808,
           0.46775764688436194,
           0.5264749810551349,
           0.47010619196261605,
           0.42952416138318156,
           0.35091835592199244,
           0.2738961209286222,
           0.3086260610923333,
           0.33742092669424006,
           0.3752356034083635,
           0.456276314105431,
           0.4396706685640707,
           0.4185863349125355,
           0.41959619079922417,
           0.3679865912189725,
           0.40437991766730513,
           0.3763232247615361,
           0.3943795063032297,
           0.3651932297692903
          ]
         },
         "name": "",
         "parents": [
          "Man/asian/sideways",
          "Man/black/sideways",
          "Man/indian/sideways",
          "Man/latino hispanic/sideways",
          "Man/middle eastern/sideways",
          "Man/white/sideways",
          "Woman/white/sideways",
          "Man/asian/slightly_turned",
          "Woman/asian/slightly_turned",
          "Man/black/slightly_turned",
          "Woman/black/slightly_turned",
          "Man/indian/slightly_turned",
          "Man/latino hispanic/slightly_turned",
          "Woman/latino hispanic/slightly_turned",
          "Man/middle eastern/slightly_turned",
          "Man/white/slightly_turned",
          "Woman/white/slightly_turned",
          "Man/asian/straight",
          "Woman/asian/straight",
          "Man/black/straight",
          "Woman/black/straight",
          "Man/indian/straight",
          "Man/latino hispanic/straight",
          "Man/middle eastern/straight",
          "Man/white/straight",
          "Woman/white/straight",
          "Man/black/sideways",
          "Man/white/sideways",
          "Man/asian/slightly_turned",
          "Man/latino hispanic/slightly_turned",
          "Man/middle eastern/slightly_turned",
          "Man/white/slightly_turned",
          "Woman/white/slightly_turned",
          "Man/asian/straight",
          "Man/black/straight",
          "Man/latino hispanic/straight",
          "Man/middle eastern/straight",
          "Man/white/straight",
          "Woman/white/straight",
          "Man/asian/sideways",
          "Woman/asian/sideways",
          "Man/black/sideways",
          "Man/indian/sideways",
          "Woman/indian/sideways",
          "Man/latino hispanic/sideways",
          "Woman/latino hispanic/sideways",
          "Man/middle eastern/sideways",
          "Man/white/sideways",
          "Woman/white/sideways",
          "Man/asian/slightly_turned",
          "Woman/asian/slightly_turned",
          "Man/black/slightly_turned",
          "Man/indian/slightly_turned",
          "Man/latino hispanic/slightly_turned",
          "Woman/latino hispanic/slightly_turned",
          "Man/middle eastern/slightly_turned",
          "Man/white/slightly_turned",
          "Woman/white/slightly_turned",
          "Man/asian/straight",
          "Woman/asian/straight",
          "Man/black/straight",
          "Woman/black/straight",
          "Man/indian/straight",
          "Man/latino hispanic/straight",
          "Woman/latino hispanic/straight",
          "Man/middle eastern/straight",
          "Man/white/straight",
          "Woman/white/straight",
          "Man/asian/sideways",
          "Woman/asian/sideways",
          "Man/black/sideways",
          "Man/indian/sideways",
          "Man/latino hispanic/sideways",
          "Man/middle eastern/sideways",
          "Man/white/sideways",
          "Woman/white/sideways",
          "Man/asian/slightly_turned",
          "Woman/asian/slightly_turned",
          "Man/black/slightly_turned",
          "Woman/black/slightly_turned",
          "Man/indian/slightly_turned",
          "Man/latino hispanic/slightly_turned",
          "Woman/latino hispanic/slightly_turned",
          "Man/middle eastern/slightly_turned",
          "Woman/middle eastern/slightly_turned",
          "Man/white/slightly_turned",
          "Woman/white/slightly_turned",
          "Man/asian/straight",
          "Woman/asian/straight",
          "Man/black/straight",
          "Woman/black/straight",
          "Man/indian/straight",
          "Woman/indian/straight",
          "Man/latino hispanic/straight",
          "Woman/latino hispanic/straight",
          "Man/middle eastern/straight",
          "Woman/middle eastern/straight",
          "Man/white/straight",
          "Woman/white/straight",
          "Man/asian/sideways",
          "Woman/asian/sideways",
          "Man/black/sideways",
          "Man/indian/sideways",
          "Man/latino hispanic/sideways",
          "Man/middle eastern/sideways",
          "Woman/middle eastern/sideways",
          "Man/white/sideways",
          "Woman/white/sideways",
          "Man/asian/slightly_turned",
          "Woman/asian/slightly_turned",
          "Man/black/slightly_turned",
          "Man/indian/slightly_turned",
          "Man/latino hispanic/slightly_turned",
          "Woman/latino hispanic/slightly_turned",
          "Man/middle eastern/slightly_turned",
          "Woman/middle eastern/slightly_turned",
          "Man/white/slightly_turned",
          "Woman/white/slightly_turned",
          "Man/asian/straight",
          "Woman/asian/straight",
          "Man/black/straight",
          "Woman/black/straight",
          "Man/indian/straight",
          "Woman/indian/straight",
          "Man/latino hispanic/straight",
          "Woman/latino hispanic/straight",
          "Man/middle eastern/straight",
          "Woman/middle eastern/straight",
          "Man/white/straight",
          "Woman/white/straight",
          "Man/asian/sideways",
          "Woman/asian/sideways",
          "Man/black/sideways",
          "Man/indian/sideways",
          "Man/latino hispanic/sideways",
          "Man/middle eastern/sideways",
          "Woman/middle eastern/sideways",
          "Man/white/sideways",
          "Woman/white/sideways",
          "Man/asian/slightly_turned",
          "Woman/asian/slightly_turned",
          "Man/black/slightly_turned",
          "Woman/black/slightly_turned",
          "Man/indian/slightly_turned",
          "Man/latino hispanic/slightly_turned",
          "Woman/latino hispanic/slightly_turned",
          "Man/middle eastern/slightly_turned",
          "Man/white/slightly_turned",
          "Woman/white/slightly_turned",
          "Man/asian/straight",
          "Woman/asian/straight",
          "Man/black/straight",
          "Woman/black/straight",
          "Man/indian/straight",
          "Woman/indian/straight",
          "Man/latino hispanic/straight",
          "Woman/latino hispanic/straight",
          "Man/middle eastern/straight",
          "Man/white/straight",
          "Woman/white/straight",
          "Man/asian/sideways",
          "Woman/black/sideways",
          "Man/latino hispanic/sideways",
          "Man/middle eastern/sideways",
          "Man/white/sideways",
          "Woman/white/sideways",
          "Man/asian/slightly_turned",
          "Woman/asian/slightly_turned",
          "Man/latino hispanic/slightly_turned",
          "Woman/latino hispanic/slightly_turned",
          "Man/middle eastern/slightly_turned",
          "Man/white/slightly_turned",
          "Woman/white/slightly_turned",
          "Man/asian/straight",
          "Woman/asian/straight",
          "Man/black/straight",
          "Man/indian/straight",
          "Man/latino hispanic/straight",
          "Woman/latino hispanic/straight",
          "Man/middle eastern/straight",
          "Man/white/straight",
          "Woman/white/straight",
          "Man/asian",
          "Woman/asian",
          "Man/black",
          "Woman/black",
          "Man/indian",
          "Woman/indian",
          "Man/latino hispanic",
          "Woman/latino hispanic",
          "Man/middle eastern",
          "Woman/middle eastern",
          "Man/white",
          "Woman/white",
          "Man/asian",
          "Woman/asian",
          "Man/black",
          "Woman/black",
          "Man/indian",
          "Man/latino hispanic",
          "Woman/latino hispanic",
          "Man/middle eastern",
          "Woman/middle eastern",
          "Man/white",
          "Woman/white",
          "Man/asian",
          "Woman/asian",
          "Man/black",
          "Woman/black",
          "Man/indian",
          "Woman/indian",
          "Man/latino hispanic",
          "Woman/latino hispanic",
          "Man/middle eastern",
          "Woman/middle eastern",
          "Man/white",
          "Woman/white",
          "Man",
          "Woman",
          "Man",
          "Woman",
          "Man",
          "Woman",
          "Man",
          "Woman",
          "Man",
          "Woman",
          "Man",
          "Woman",
          "",
          ""
         ],
         "type": "sunburst",
         "values": [
          18,
          5,
          2,
          8,
          6,
          73,
          7,
          31,
          1,
          13,
          1,
          1,
          16,
          1,
          20,
          168,
          9,
          73,
          7,
          28,
          1,
          7,
          27,
          41,
          402,
          19,
          2,
          6,
          2,
          3,
          2,
          10,
          2,
          4,
          1,
          4,
          3,
          20,
          2,
          33,
          4,
          5,
          2,
          1,
          16,
          1,
          18,
          148,
          26,
          77,
          13,
          23,
          4,
          15,
          3,
          31,
          298,
          71,
          148,
          16,
          34,
          3,
          7,
          36,
          8,
          60,
          635,
          124,
          20,
          7,
          6,
          1,
          9,
          12,
          129,
          40,
          68,
          21,
          31,
          1,
          1,
          32,
          10,
          38,
          2,
          315,
          138,
          224,
          58,
          99,
          14,
          8,
          2,
          79,
          33,
          106,
          1,
          827,
          363,
          36,
          3,
          4,
          2,
          15,
          15,
          1,
          123,
          21,
          88,
          8,
          23,
          6,
          29,
          2,
          56,
          1,
          359,
          50,
          231,
          18,
          100,
          3,
          16,
          1,
          79,
          6,
          116,
          3,
          983,
          115,
          50,
          12,
          11,
          1,
          24,
          25,
          1,
          236,
          32,
          103,
          11,
          21,
          3,
          4,
          28,
          6,
          55,
          482,
          77,
          208,
          24,
          42,
          4,
          3,
          1,
          61,
          17,
          108,
          863,
          171,
          5,
          1,
          1,
          2,
          19,
          1,
          6,
          1,
          3,
          2,
          1,
          44,
          4,
          22,
          1,
          4,
          1,
          8,
          1,
          6,
          100,
          12,
          162,
          26,
          33,
          1,
          8,
          1,
          73,
          1,
          78,
          2,
          734,
          127,
          375,
          55,
          111,
          5,
          16,
          126,
          24,
          203,
          3,
          1676,
          351,
          910,
          124,
          308,
          25,
          42,
          4,
          294,
          65,
          440,
          4,
          3830,
          806,
          1447,
          205,
          452,
          31,
          66,
          5,
          493,
          90,
          721,
          9,
          6240,
          1284,
          9419,
          1624
         ]
        }
       ],
       "layout": {
        "coloraxis": {
         "cmax": 1,
         "cmin": 0,
         "colorbar": {
          "title": {
           "text": "Quality"
          }
         },
         "colorscale": [
          [
           0,
           "#440154"
          ],
          [
           0.1111111111111111,
           "#482878"
          ],
          [
           0.2222222222222222,
           "#3e4989"
          ],
          [
           0.3333333333333333,
           "#31688e"
          ],
          [
           0.4444444444444444,
           "#26828e"
          ],
          [
           0.5555555555555556,
           "#1f9e89"
          ],
          [
           0.6666666666666666,
           "#35b779"
          ],
          [
           0.7777777777777778,
           "#6ece58"
          ],
          [
           0.8888888888888888,
           "#b5de2b"
          ],
          [
           1,
           "#fde725"
          ]
         ]
        },
        "legend": {
         "tracegroupgap": 0
        },
        "template": {
         "data": {
          "bar": [
           {
            "error_x": {
             "color": "#2a3f5f"
            },
            "error_y": {
             "color": "#2a3f5f"
            },
            "marker": {
             "line": {
              "color": "#E5ECF6",
              "width": 0.5
             },
             "pattern": {
              "fillmode": "overlay",
              "size": 10,
              "solidity": 0.2
             }
            },
            "type": "bar"
           }
          ],
          "barpolar": [
           {
            "marker": {
             "line": {
              "color": "#E5ECF6",
              "width": 0.5
             },
             "pattern": {
              "fillmode": "overlay",
              "size": 10,
              "solidity": 0.2
             }
            },
            "type": "barpolar"
           }
          ],
          "carpet": [
           {
            "aaxis": {
             "endlinecolor": "#2a3f5f",
             "gridcolor": "white",
             "linecolor": "white",
             "minorgridcolor": "white",
             "startlinecolor": "#2a3f5f"
            },
            "baxis": {
             "endlinecolor": "#2a3f5f",
             "gridcolor": "white",
             "linecolor": "white",
             "minorgridcolor": "white",
             "startlinecolor": "#2a3f5f"
            },
            "type": "carpet"
           }
          ],
          "choropleth": [
           {
            "colorbar": {
             "outlinewidth": 0,
             "ticks": ""
            },
            "type": "choropleth"
           }
          ],
          "contour": [
           {
            "colorbar": {
             "outlinewidth": 0,
             "ticks": ""
            },
            "colorscale": [
             [
              0,
              "#0d0887"
             ],
             [
              0.1111111111111111,
              "#46039f"
             ],
             [
              0.2222222222222222,
              "#7201a8"
             ],
             [
              0.3333333333333333,
              "#9c179e"
             ],
             [
              0.4444444444444444,
              "#bd3786"
             ],
             [
              0.5555555555555556,
              "#d8576b"
             ],
             [
              0.6666666666666666,
              "#ed7953"
             ],
             [
              0.7777777777777778,
              "#fb9f3a"
             ],
             [
              0.8888888888888888,
              "#fdca26"
             ],
             [
              1,
              "#f0f921"
             ]
            ],
            "type": "contour"
           }
          ],
          "contourcarpet": [
           {
            "colorbar": {
             "outlinewidth": 0,
             "ticks": ""
            },
            "type": "contourcarpet"
           }
          ],
          "heatmap": [
           {
            "colorbar": {
             "outlinewidth": 0,
             "ticks": ""
            },
            "colorscale": [
             [
              0,
              "#0d0887"
             ],
             [
              0.1111111111111111,
              "#46039f"
             ],
             [
              0.2222222222222222,
              "#7201a8"
             ],
             [
              0.3333333333333333,
              "#9c179e"
             ],
             [
              0.4444444444444444,
              "#bd3786"
             ],
             [
              0.5555555555555556,
              "#d8576b"
             ],
             [
              0.6666666666666666,
              "#ed7953"
             ],
             [
              0.7777777777777778,
              "#fb9f3a"
             ],
             [
              0.8888888888888888,
              "#fdca26"
             ],
             [
              1,
              "#f0f921"
             ]
            ],
            "type": "heatmap"
           }
          ],
          "heatmapgl": [
           {
            "colorbar": {
             "outlinewidth": 0,
             "ticks": ""
            },
            "colorscale": [
             [
              0,
              "#0d0887"
             ],
             [
              0.1111111111111111,
              "#46039f"
             ],
             [
              0.2222222222222222,
              "#7201a8"
             ],
             [
              0.3333333333333333,
              "#9c179e"
             ],
             [
              0.4444444444444444,
              "#bd3786"
             ],
             [
              0.5555555555555556,
              "#d8576b"
             ],
             [
              0.6666666666666666,
              "#ed7953"
             ],
             [
              0.7777777777777778,
              "#fb9f3a"
             ],
             [
              0.8888888888888888,
              "#fdca26"
             ],
             [
              1,
              "#f0f921"
             ]
            ],
            "type": "heatmapgl"
           }
          ],
          "histogram": [
           {
            "marker": {
             "pattern": {
              "fillmode": "overlay",
              "size": 10,
              "solidity": 0.2
             }
            },
            "type": "histogram"
           }
          ],
          "histogram2d": [
           {
            "colorbar": {
             "outlinewidth": 0,
             "ticks": ""
            },
            "colorscale": [
             [
              0,
              "#0d0887"
             ],
             [
              0.1111111111111111,
              "#46039f"
             ],
             [
              0.2222222222222222,
              "#7201a8"
             ],
             [
              0.3333333333333333,
              "#9c179e"
             ],
             [
              0.4444444444444444,
              "#bd3786"
             ],
             [
              0.5555555555555556,
              "#d8576b"
             ],
             [
              0.6666666666666666,
              "#ed7953"
             ],
             [
              0.7777777777777778,
              "#fb9f3a"
             ],
             [
              0.8888888888888888,
              "#fdca26"
             ],
             [
              1,
              "#f0f921"
             ]
            ],
            "type": "histogram2d"
           }
          ],
          "histogram2dcontour": [
           {
            "colorbar": {
             "outlinewidth": 0,
             "ticks": ""
            },
            "colorscale": [
             [
              0,
              "#0d0887"
             ],
             [
              0.1111111111111111,
              "#46039f"
             ],
             [
              0.2222222222222222,
              "#7201a8"
             ],
             [
              0.3333333333333333,
              "#9c179e"
             ],
             [
              0.4444444444444444,
              "#bd3786"
             ],
             [
              0.5555555555555556,
              "#d8576b"
             ],
             [
              0.6666666666666666,
              "#ed7953"
             ],
             [
              0.7777777777777778,
              "#fb9f3a"
             ],
             [
              0.8888888888888888,
              "#fdca26"
             ],
             [
              1,
              "#f0f921"
             ]
            ],
            "type": "histogram2dcontour"
           }
          ],
          "mesh3d": [
           {
            "colorbar": {
             "outlinewidth": 0,
             "ticks": ""
            },
            "type": "mesh3d"
           }
          ],
          "parcoords": [
           {
            "line": {
             "colorbar": {
              "outlinewidth": 0,
              "ticks": ""
             }
            },
            "type": "parcoords"
           }
          ],
          "pie": [
           {
            "automargin": true,
            "type": "pie"
           }
          ],
          "scatter": [
           {
            "fillpattern": {
             "fillmode": "overlay",
             "size": 10,
             "solidity": 0.2
            },
            "type": "scatter"
           }
          ],
          "scatter3d": [
           {
            "line": {
             "colorbar": {
              "outlinewidth": 0,
              "ticks": ""
             }
            },
            "marker": {
             "colorbar": {
              "outlinewidth": 0,
              "ticks": ""
             }
            },
            "type": "scatter3d"
           }
          ],
          "scattercarpet": [
           {
            "marker": {
             "colorbar": {
              "outlinewidth": 0,
              "ticks": ""
             }
            },
            "type": "scattercarpet"
           }
          ],
          "scattergeo": [
           {
            "marker": {
             "colorbar": {
              "outlinewidth": 0,
              "ticks": ""
             }
            },
            "type": "scattergeo"
           }
          ],
          "scattergl": [
           {
            "marker": {
             "colorbar": {
              "outlinewidth": 0,
              "ticks": ""
             }
            },
            "type": "scattergl"
           }
          ],
          "scattermapbox": [
           {
            "marker": {
             "colorbar": {
              "outlinewidth": 0,
              "ticks": ""
             }
            },
            "type": "scattermapbox"
           }
          ],
          "scatterpolar": [
           {
            "marker": {
             "colorbar": {
              "outlinewidth": 0,
              "ticks": ""
             }
            },
            "type": "scatterpolar"
           }
          ],
          "scatterpolargl": [
           {
            "marker": {
             "colorbar": {
              "outlinewidth": 0,
              "ticks": ""
             }
            },
            "type": "scatterpolargl"
           }
          ],
          "scatterternary": [
           {
            "marker": {
             "colorbar": {
              "outlinewidth": 0,
              "ticks": ""
             }
            },
            "type": "scatterternary"
           }
          ],
          "surface": [
           {
            "colorbar": {
             "outlinewidth": 0,
             "ticks": ""
            },
            "colorscale": [
             [
              0,
              "#0d0887"
             ],
             [
              0.1111111111111111,
              "#46039f"
             ],
             [
              0.2222222222222222,
              "#7201a8"
             ],
             [
              0.3333333333333333,
              "#9c179e"
             ],
             [
              0.4444444444444444,
              "#bd3786"
             ],
             [
              0.5555555555555556,
              "#d8576b"
             ],
             [
              0.6666666666666666,
              "#ed7953"
             ],
             [
              0.7777777777777778,
              "#fb9f3a"
             ],
             [
              0.8888888888888888,
              "#fdca26"
             ],
             [
              1,
              "#f0f921"
             ]
            ],
            "type": "surface"
           }
          ],
          "table": [
           {
            "cells": {
             "fill": {
              "color": "#EBF0F8"
             },
             "line": {
              "color": "white"
             }
            },
            "header": {
             "fill": {
              "color": "#C8D4E3"
             },
             "line": {
              "color": "white"
             }
            },
            "type": "table"
           }
          ]
         },
         "layout": {
          "annotationdefaults": {
           "arrowcolor": "#2a3f5f",
           "arrowhead": 0,
           "arrowwidth": 1
          },
          "autotypenumbers": "strict",
          "coloraxis": {
           "colorbar": {
            "outlinewidth": 0,
            "ticks": ""
           }
          },
          "colorscale": {
           "diverging": [
            [
             0,
             "#8e0152"
            ],
            [
             0.1,
             "#c51b7d"
            ],
            [
             0.2,
             "#de77ae"
            ],
            [
             0.3,
             "#f1b6da"
            ],
            [
             0.4,
             "#fde0ef"
            ],
            [
             0.5,
             "#f7f7f7"
            ],
            [
             0.6,
             "#e6f5d0"
            ],
            [
             0.7,
             "#b8e186"
            ],
            [
             0.8,
             "#7fbc41"
            ],
            [
             0.9,
             "#4d9221"
            ],
            [
             1,
             "#276419"
            ]
           ],
           "sequential": [
            [
             0,
             "#0d0887"
            ],
            [
             0.1111111111111111,
             "#46039f"
            ],
            [
             0.2222222222222222,
             "#7201a8"
            ],
            [
             0.3333333333333333,
             "#9c179e"
            ],
            [
             0.4444444444444444,
             "#bd3786"
            ],
            [
             0.5555555555555556,
             "#d8576b"
            ],
            [
             0.6666666666666666,
             "#ed7953"
            ],
            [
             0.7777777777777778,
             "#fb9f3a"
            ],
            [
             0.8888888888888888,
             "#fdca26"
            ],
            [
             1,
             "#f0f921"
            ]
           ],
           "sequentialminus": [
            [
             0,
             "#0d0887"
            ],
            [
             0.1111111111111111,
             "#46039f"
            ],
            [
             0.2222222222222222,
             "#7201a8"
            ],
            [
             0.3333333333333333,
             "#9c179e"
            ],
            [
             0.4444444444444444,
             "#bd3786"
            ],
            [
             0.5555555555555556,
             "#d8576b"
            ],
            [
             0.6666666666666666,
             "#ed7953"
            ],
            [
             0.7777777777777778,
             "#fb9f3a"
            ],
            [
             0.8888888888888888,
             "#fdca26"
            ],
            [
             1,
             "#f0f921"
            ]
           ]
          },
          "colorway": [
           "#636efa",
           "#EF553B",
           "#00cc96",
           "#ab63fa",
           "#FFA15A",
           "#19d3f3",
           "#FF6692",
           "#B6E880",
           "#FF97FF",
           "#FECB52"
          ],
          "font": {
           "color": "#2a3f5f"
          },
          "geo": {
           "bgcolor": "white",
           "lakecolor": "white",
           "landcolor": "#E5ECF6",
           "showlakes": true,
           "showland": true,
           "subunitcolor": "white"
          },
          "hoverlabel": {
           "align": "left"
          },
          "hovermode": "closest",
          "mapbox": {
           "style": "light"
          },
          "paper_bgcolor": "white",
          "plot_bgcolor": "#E5ECF6",
          "polar": {
           "angularaxis": {
            "gridcolor": "white",
            "linecolor": "white",
            "ticks": ""
           },
           "bgcolor": "#E5ECF6",
           "radialaxis": {
            "gridcolor": "white",
            "linecolor": "white",
            "ticks": ""
           }
          },
          "scene": {
           "xaxis": {
            "backgroundcolor": "#E5ECF6",
            "gridcolor": "white",
            "gridwidth": 2,
            "linecolor": "white",
            "showbackground": true,
            "ticks": "",
            "zerolinecolor": "white"
           },
           "yaxis": {
            "backgroundcolor": "#E5ECF6",
            "gridcolor": "white",
            "gridwidth": 2,
            "linecolor": "white",
            "showbackground": true,
            "ticks": "",
            "zerolinecolor": "white"
           },
           "zaxis": {
            "backgroundcolor": "#E5ECF6",
            "gridcolor": "white",
            "gridwidth": 2,
            "linecolor": "white",
            "showbackground": true,
            "ticks": "",
            "zerolinecolor": "white"
           }
          },
          "shapedefaults": {
           "line": {
            "color": "#2a3f5f"
           }
          },
          "ternary": {
           "aaxis": {
            "gridcolor": "white",
            "linecolor": "white",
            "ticks": ""
           },
           "baxis": {
            "gridcolor": "white",
            "linecolor": "white",
            "ticks": ""
           },
           "bgcolor": "#E5ECF6",
           "caxis": {
            "gridcolor": "white",
            "linecolor": "white",
            "ticks": ""
           }
          },
          "title": {
           "x": 0.05
          },
          "xaxis": {
           "automargin": true,
           "gridcolor": "white",
           "linecolor": "white",
           "ticks": "",
           "title": {
            "standoff": 15
           },
           "zerolinecolor": "white",
           "zerolinewidth": 2
          },
          "yaxis": {
           "automargin": true,
           "gridcolor": "white",
           "linecolor": "white",
           "ticks": "",
           "title": {
            "standoff": 15
           },
           "zerolinecolor": "white",
           "zerolinewidth": 2
          }
         }
        },
        "title": {
         "text": "XQLFW"
        }
       }
      },
      "text/html": [
       "<div>                            <div id=\"26637fde-1e16-437f-ab35-be6b4a131d86\" class=\"plotly-graph-div\" style=\"height:525px; width:100%;\"></div>            <script type=\"text/javascript\">                require([\"plotly\"], function(Plotly) {                    window.PLOTLYENV=window.PLOTLYENV || {};                                    if (document.getElementById(\"26637fde-1e16-437f-ab35-be6b4a131d86\")) {                    Plotly.newPlot(                        \"26637fde-1e16-437f-ab35-be6b4a131d86\",                        [{\"branchvalues\":\"total\",\"customdata\":[[0.15365745007768505],[0.10394324649851978],[0.20535656710721287],[0.11502949913885858],[0.1309217855111476],[0.19433597663466076],[0.21131640394617204],[0.4122134549149966],[0.06003596367034732],[0.20735205067888748],[0.03875411652371777],[0.6064655069985452],[0.3630500609214472],[0.031820788471568634],[0.4714714980619317],[0.4436757781243473],[0.32456233866596274],[0.5048242884675315],[0.3644648355577507],[0.3916736677687608],[0.20639045061619585],[0.41137040558331833],[0.625963984513462],[0.5587393967711156],[0.5514254068969465],[0.38316898211098743],[0.24789212858538315],[0.37791231421122],[0.5180663529966564],[0.5111363612587955],[0.5331357685240493],[0.4888610671247065],[0.7083472460032965],[0.7446592831871505],[0.2461718838254595],[0.7079357607338703],[0.7109789172422691],[0.615403929078353],[0.7844455996276023],[0.09137616963597481],[0.08503528793908598],[0.09144447212991295],[0.04705187202717995],[0.20719791665180906],[0.17243714217523612],[0.6412298127972529],[0.18718423911770285],[0.17504247885606308],[0.15436973975584778],[0.24180850796376815],[0.15651066890943857],[0.20003067110266554],[0.42941637927207804],[0.3879996110965839],[0.29939155778640986],[0.3914810538493698],[0.32485684589547825],[0.26234340258953864],[0.31175738601663333],[0.21525469814282572],[0.22482067582530957],[0.17197462503171676],[0.2616346948177303],[0.3801007045437949],[0.3411405307394968],[0.4568515692001756],[0.38969252945651106],[0.31770203886141996],[0.09321191991076587],[0.07912253287557837],[0.1295729166720889],[0.29235082390598055],[0.2599694613967371],[0.11013150350750416],[0.1627983113104176],[0.15870436762161316],[0.3142324590185257],[0.21664516887396815],[0.30543230023188955],[0.30081870618421025],[0.7158269976623503],[0.430914776928484],[0.45505250427172134],[0.3535807384289613],[0.5256048366002886],[0.3716083190986546],[0.40465219156491444],[0.43428836733471327],[0.4588337612397564],[0.35825564827169876],[0.4874665149358784],[0.43020215808311635],[0.2740490639406637],[0.5717382308449351],[0.5771662014919031],[0.44333220426431713],[0.5920245534839341],[0.5284802999725702],[0.5127063641021062],[0.13671125988057403],[0.09269281783073187],[0.06519526636133341],[0.14713412997542147],[0.16252390246515402],[0.16544346041758612],[0.005573600987103115],[0.18401784938068289],[0.22019969976442058],[0.32240486114466904],[0.3374193783479723],[0.33221877972282365],[0.41221539625119513],[0.5084736325715532],[0.7647529269239018],[0.43939517041941273],[0.11660489770817535],[0.3680454968209591],[0.31935474401041647],[0.43275081411393906],[0.2249218690118403],[0.38147752688309144],[0.41523456798176867],[0.50018810887615],[0.7429434297600068],[0.5389461919904255],[0.21281809465847687],[0.5156886168024178],[0.5046251235788685],[0.468190822071332],[0.4279646225878609],[0.12206210113304042],[0.09473804438332782],[0.10739308642962359],[0.23237202910518925],[0.10517076846412012],[0.24575423505907015],[0.03259122485435704],[0.14038951827207696],[0.08728255679586552],[0.24972403352727868],[0.16069880013918444],[0.24171577144966477],[0.1279418093048612],[0.20911783912095794],[0.38875129787537205],[0.1609502792539209],[0.39172403049396937],[0.3336084398953672],[0.2792412188360937],[0.4098693661533087],[0.2462340880266525],[0.2897795187418653],[0.23581269561252338],[0.30230348823542813],[0.783142096234012],[0.45268212082696024],[0.2780384947386478],[0.4082772862699015],[0.4367342244302616],[0.3356782187808507],[0.13327079326866448],[0.0008504556898859847],[0.0002104926544507126],[0.10151019801276417],[0.1546239092470965],[0.44635841949032484],[0.2637918629529593],[0.06877224369811728],[0.27241191084488986],[0.32892333095953874],[0.19190225050653992],[0.3304777813349799],[0.2556248025254218],[0.4770354623507135],[0.09383471858259854],[0.420557124499429],[0.029446903784023384],[0.45036968021467083],[0.6187937598358665],[0.4089963899197862],[0.44884445001044754],[0.4352501848725261],[0.11936142269319028],[0.08880514876836622],[0.11188682928838353],[0.0008504556898859847],[0.16547599890384979],[0.20719791665180906],[0.1504263410035058],[0.6412298127972529],[0.18339683638514948],[0.019082412920730076],[0.1663014240750242],[0.15515430470984745],[0.29194071079089723],[0.20327340505198738],[0.26560132013912907],[0.14467965012450232],[0.39685760973376316],[0.4238054325738088],[0.3597322789932675],[0.4059632300447276],[0.3892715236362508],[0.35844792706211015],[0.33418219322170206],[0.41644455384202167],[0.34403011003653805],[0.34521093412913845],[0.3894320008483618],[0.40695285899954714],[0.5185459134688365],[0.5182892251854797],[0.436891778976808],[0.46775764688436194],[0.5264749810551349],[0.47010619196261605],[0.42952416138318156],[0.35091835592199244],[0.2738961209286222],[0.3086260610923333],[0.33742092669424006],[0.3752356034083635],[0.456276314105431],[0.4396706685640707],[0.4185863349125355],[0.41959619079922417],[0.3679865912189725],[0.40437991766730513],[0.3763232247615361],[0.3943795063032297],[0.3651932297692903]],\"domain\":{\"x\":[0.0,1.0],\"y\":[0.0,1.0]},\"hovertemplate\":\"labels=%{label}<br>count=%{value}<br>parent=%{parent}<br>id=%{id}<br>Quality=%{color}<extra></extra>\",\"ids\":[\"Man/asian/sideways/angry\",\"Man/black/sideways/angry\",\"Man/indian/sideways/angry\",\"Man/latino hispanic/sideways/angry\",\"Man/middle eastern/sideways/angry\",\"Man/white/sideways/angry\",\"Woman/white/sideways/angry\",\"Man/asian/slightly_turned/angry\",\"Woman/asian/slightly_turned/angry\",\"Man/black/slightly_turned/angry\",\"Woman/black/slightly_turned/angry\",\"Man/indian/slightly_turned/angry\",\"Man/latino hispanic/slightly_turned/angry\",\"Woman/latino hispanic/slightly_turned/angry\",\"Man/middle eastern/slightly_turned/angry\",\"Man/white/slightly_turned/angry\",\"Woman/white/slightly_turned/angry\",\"Man/asian/straight/angry\",\"Woman/asian/straight/angry\",\"Man/black/straight/angry\",\"Woman/black/straight/angry\",\"Man/indian/straight/angry\",\"Man/latino hispanic/straight/angry\",\"Man/middle eastern/straight/angry\",\"Man/white/straight/angry\",\"Woman/white/straight/angry\",\"Man/black/sideways/disgust\",\"Man/white/sideways/disgust\",\"Man/asian/slightly_turned/disgust\",\"Man/latino hispanic/slightly_turned/disgust\",\"Man/middle eastern/slightly_turned/disgust\",\"Man/white/slightly_turned/disgust\",\"Woman/white/slightly_turned/disgust\",\"Man/asian/straight/disgust\",\"Man/black/straight/disgust\",\"Man/latino hispanic/straight/disgust\",\"Man/middle eastern/straight/disgust\",\"Man/white/straight/disgust\",\"Woman/white/straight/disgust\",\"Man/asian/sideways/fear\",\"Woman/asian/sideways/fear\",\"Man/black/sideways/fear\",\"Man/indian/sideways/fear\",\"Woman/indian/sideways/fear\",\"Man/latino hispanic/sideways/fear\",\"Woman/latino hispanic/sideways/fear\",\"Man/middle eastern/sideways/fear\",\"Man/white/sideways/fear\",\"Woman/white/sideways/fear\",\"Man/asian/slightly_turned/fear\",\"Woman/asian/slightly_turned/fear\",\"Man/black/slightly_turned/fear\",\"Man/indian/slightly_turned/fear\",\"Man/latino hispanic/slightly_turned/fear\",\"Woman/latino hispanic/slightly_turned/fear\",\"Man/middle eastern/slightly_turned/fear\",\"Man/white/slightly_turned/fear\",\"Woman/white/slightly_turned/fear\",\"Man/asian/straight/fear\",\"Woman/asian/straight/fear\",\"Man/black/straight/fear\",\"Woman/black/straight/fear\",\"Man/indian/straight/fear\",\"Man/latino hispanic/straight/fear\",\"Woman/latino hispanic/straight/fear\",\"Man/middle eastern/straight/fear\",\"Man/white/straight/fear\",\"Woman/white/straight/fear\",\"Man/asian/sideways/happy\",\"Woman/asian/sideways/happy\",\"Man/black/sideways/happy\",\"Man/indian/sideways/happy\",\"Man/latino hispanic/sideways/happy\",\"Man/middle eastern/sideways/happy\",\"Man/white/sideways/happy\",\"Woman/white/sideways/happy\",\"Man/asian/slightly_turned/happy\",\"Woman/asian/slightly_turned/happy\",\"Man/black/slightly_turned/happy\",\"Woman/black/slightly_turned/happy\",\"Man/indian/slightly_turned/happy\",\"Man/latino hispanic/slightly_turned/happy\",\"Woman/latino hispanic/slightly_turned/happy\",\"Man/middle eastern/slightly_turned/happy\",\"Woman/middle eastern/slightly_turned/happy\",\"Man/white/slightly_turned/happy\",\"Woman/white/slightly_turned/happy\",\"Man/asian/straight/happy\",\"Woman/asian/straight/happy\",\"Man/black/straight/happy\",\"Woman/black/straight/happy\",\"Man/indian/straight/happy\",\"Woman/indian/straight/happy\",\"Man/latino hispanic/straight/happy\",\"Woman/latino hispanic/straight/happy\",\"Man/middle eastern/straight/happy\",\"Woman/middle eastern/straight/happy\",\"Man/white/straight/happy\",\"Woman/white/straight/happy\",\"Man/asian/sideways/neutral\",\"Woman/asian/sideways/neutral\",\"Man/black/sideways/neutral\",\"Man/indian/sideways/neutral\",\"Man/latino hispanic/sideways/neutral\",\"Man/middle eastern/sideways/neutral\",\"Woman/middle eastern/sideways/neutral\",\"Man/white/sideways/neutral\",\"Woman/white/sideways/neutral\",\"Man/asian/slightly_turned/neutral\",\"Woman/asian/slightly_turned/neutral\",\"Man/black/slightly_turned/neutral\",\"Man/indian/slightly_turned/neutral\",\"Man/latino hispanic/slightly_turned/neutral\",\"Woman/latino hispanic/slightly_turned/neutral\",\"Man/middle eastern/slightly_turned/neutral\",\"Woman/middle eastern/slightly_turned/neutral\",\"Man/white/slightly_turned/neutral\",\"Woman/white/slightly_turned/neutral\",\"Man/asian/straight/neutral\",\"Woman/asian/straight/neutral\",\"Man/black/straight/neutral\",\"Woman/black/straight/neutral\",\"Man/indian/straight/neutral\",\"Woman/indian/straight/neutral\",\"Man/latino hispanic/straight/neutral\",\"Woman/latino hispanic/straight/neutral\",\"Man/middle eastern/straight/neutral\",\"Woman/middle eastern/straight/neutral\",\"Man/white/straight/neutral\",\"Woman/white/straight/neutral\",\"Man/asian/sideways/sad\",\"Woman/asian/sideways/sad\",\"Man/black/sideways/sad\",\"Man/indian/sideways/sad\",\"Man/latino hispanic/sideways/sad\",\"Man/middle eastern/sideways/sad\",\"Woman/middle eastern/sideways/sad\",\"Man/white/sideways/sad\",\"Woman/white/sideways/sad\",\"Man/asian/slightly_turned/sad\",\"Woman/asian/slightly_turned/sad\",\"Man/black/slightly_turned/sad\",\"Woman/black/slightly_turned/sad\",\"Man/indian/slightly_turned/sad\",\"Man/latino hispanic/slightly_turned/sad\",\"Woman/latino hispanic/slightly_turned/sad\",\"Man/middle eastern/slightly_turned/sad\",\"Man/white/slightly_turned/sad\",\"Woman/white/slightly_turned/sad\",\"Man/asian/straight/sad\",\"Woman/asian/straight/sad\",\"Man/black/straight/sad\",\"Woman/black/straight/sad\",\"Man/indian/straight/sad\",\"Woman/indian/straight/sad\",\"Man/latino hispanic/straight/sad\",\"Woman/latino hispanic/straight/sad\",\"Man/middle eastern/straight/sad\",\"Man/white/straight/sad\",\"Woman/white/straight/sad\",\"Man/asian/sideways/surprise\",\"Woman/black/sideways/surprise\",\"Man/latino hispanic/sideways/surprise\",\"Man/middle eastern/sideways/surprise\",\"Man/white/sideways/surprise\",\"Woman/white/sideways/surprise\",\"Man/asian/slightly_turned/surprise\",\"Woman/asian/slightly_turned/surprise\",\"Man/latino hispanic/slightly_turned/surprise\",\"Woman/latino hispanic/slightly_turned/surprise\",\"Man/middle eastern/slightly_turned/surprise\",\"Man/white/slightly_turned/surprise\",\"Woman/white/slightly_turned/surprise\",\"Man/asian/straight/surprise\",\"Woman/asian/straight/surprise\",\"Man/black/straight/surprise\",\"Man/indian/straight/surprise\",\"Man/latino hispanic/straight/surprise\",\"Woman/latino hispanic/straight/surprise\",\"Man/middle eastern/straight/surprise\",\"Man/white/straight/surprise\",\"Woman/white/straight/surprise\",\"Man/asian/sideways\",\"Woman/asian/sideways\",\"Man/black/sideways\",\"Woman/black/sideways\",\"Man/indian/sideways\",\"Woman/indian/sideways\",\"Man/latino hispanic/sideways\",\"Woman/latino hispanic/sideways\",\"Man/middle eastern/sideways\",\"Woman/middle eastern/sideways\",\"Man/white/sideways\",\"Woman/white/sideways\",\"Man/asian/slightly_turned\",\"Woman/asian/slightly_turned\",\"Man/black/slightly_turned\",\"Woman/black/slightly_turned\",\"Man/indian/slightly_turned\",\"Man/latino hispanic/slightly_turned\",\"Woman/latino hispanic/slightly_turned\",\"Man/middle eastern/slightly_turned\",\"Woman/middle eastern/slightly_turned\",\"Man/white/slightly_turned\",\"Woman/white/slightly_turned\",\"Man/asian/straight\",\"Woman/asian/straight\",\"Man/black/straight\",\"Woman/black/straight\",\"Man/indian/straight\",\"Woman/indian/straight\",\"Man/latino hispanic/straight\",\"Woman/latino hispanic/straight\",\"Man/middle eastern/straight\",\"Woman/middle eastern/straight\",\"Man/white/straight\",\"Woman/white/straight\",\"Man/asian\",\"Woman/asian\",\"Man/black\",\"Woman/black\",\"Man/indian\",\"Woman/indian\",\"Man/latino hispanic\",\"Woman/latino hispanic\",\"Man/middle eastern\",\"Woman/middle eastern\",\"Man/white\",\"Woman/white\",\"Man\",\"Woman\"],\"labels\":[\"angry\",\"angry\",\"angry\",\"angry\",\"angry\",\"angry\",\"angry\",\"angry\",\"angry\",\"angry\",\"angry\",\"angry\",\"angry\",\"angry\",\"angry\",\"angry\",\"angry\",\"angry\",\"angry\",\"angry\",\"angry\",\"angry\",\"angry\",\"angry\",\"angry\",\"angry\",\"disgust\",\"disgust\",\"disgust\",\"disgust\",\"disgust\",\"disgust\",\"disgust\",\"disgust\",\"disgust\",\"disgust\",\"disgust\",\"disgust\",\"disgust\",\"fear\",\"fear\",\"fear\",\"fear\",\"fear\",\"fear\",\"fear\",\"fear\",\"fear\",\"fear\",\"fear\",\"fear\",\"fear\",\"fear\",\"fear\",\"fear\",\"fear\",\"fear\",\"fear\",\"fear\",\"fear\",\"fear\",\"fear\",\"fear\",\"fear\",\"fear\",\"fear\",\"fear\",\"fear\",\"happy\",\"happy\",\"happy\",\"happy\",\"happy\",\"happy\",\"happy\",\"happy\",\"happy\",\"happy\",\"happy\",\"happy\",\"happy\",\"happy\",\"happy\",\"happy\",\"happy\",\"happy\",\"happy\",\"happy\",\"happy\",\"happy\",\"happy\",\"happy\",\"happy\",\"happy\",\"happy\",\"happy\",\"happy\",\"happy\",\"happy\",\"neutral\",\"neutral\",\"neutral\",\"neutral\",\"neutral\",\"neutral\",\"neutral\",\"neutral\",\"neutral\",\"neutral\",\"neutral\",\"neutral\",\"neutral\",\"neutral\",\"neutral\",\"neutral\",\"neutral\",\"neutral\",\"neutral\",\"neutral\",\"neutral\",\"neutral\",\"neutral\",\"neutral\",\"neutral\",\"neutral\",\"neutral\",\"neutral\",\"neutral\",\"neutral\",\"neutral\",\"sad\",\"sad\",\"sad\",\"sad\",\"sad\",\"sad\",\"sad\",\"sad\",\"sad\",\"sad\",\"sad\",\"sad\",\"sad\",\"sad\",\"sad\",\"sad\",\"sad\",\"sad\",\"sad\",\"sad\",\"sad\",\"sad\",\"sad\",\"sad\",\"sad\",\"sad\",\"sad\",\"sad\",\"sad\",\"sad\",\"surprise\",\"surprise\",\"surprise\",\"surprise\",\"surprise\",\"surprise\",\"surprise\",\"surprise\",\"surprise\",\"surprise\",\"surprise\",\"surprise\",\"surprise\",\"surprise\",\"surprise\",\"surprise\",\"surprise\",\"surprise\",\"surprise\",\"surprise\",\"surprise\",\"surprise\",\"sideways\",\"sideways\",\"sideways\",\"sideways\",\"sideways\",\"sideways\",\"sideways\",\"sideways\",\"sideways\",\"sideways\",\"sideways\",\"sideways\",\"slightly_turned\",\"slightly_turned\",\"slightly_turned\",\"slightly_turned\",\"slightly_turned\",\"slightly_turned\",\"slightly_turned\",\"slightly_turned\",\"slightly_turned\",\"slightly_turned\",\"slightly_turned\",\"straight\",\"straight\",\"straight\",\"straight\",\"straight\",\"straight\",\"straight\",\"straight\",\"straight\",\"straight\",\"straight\",\"straight\",\"asian\",\"asian\",\"black\",\"black\",\"indian\",\"indian\",\"latino hispanic\",\"latino hispanic\",\"middle eastern\",\"middle eastern\",\"white\",\"white\",\"Man\",\"Woman\"],\"marker\":{\"coloraxis\":\"coloraxis\",\"colors\":[0.15365745007768505,0.10394324649851978,0.20535656710721287,0.11502949913885858,0.1309217855111476,0.19433597663466076,0.21131640394617204,0.4122134549149966,0.06003596367034732,0.20735205067888748,0.03875411652371777,0.6064655069985452,0.3630500609214472,0.031820788471568634,0.4714714980619317,0.4436757781243473,0.32456233866596274,0.5048242884675315,0.3644648355577507,0.3916736677687608,0.20639045061619585,0.41137040558331833,0.625963984513462,0.5587393967711156,0.5514254068969465,0.38316898211098743,0.24789212858538315,0.37791231421122,0.5180663529966564,0.5111363612587955,0.5331357685240493,0.4888610671247065,0.7083472460032965,0.7446592831871505,0.2461718838254595,0.7079357607338703,0.7109789172422691,0.615403929078353,0.7844455996276023,0.09137616963597481,0.08503528793908598,0.09144447212991295,0.04705187202717995,0.20719791665180906,0.17243714217523612,0.6412298127972529,0.18718423911770285,0.17504247885606308,0.15436973975584778,0.24180850796376815,0.15651066890943857,0.20003067110266554,0.42941637927207804,0.3879996110965839,0.29939155778640986,0.3914810538493698,0.32485684589547825,0.26234340258953864,0.31175738601663333,0.21525469814282572,0.22482067582530957,0.17197462503171676,0.2616346948177303,0.3801007045437949,0.3411405307394968,0.4568515692001756,0.38969252945651106,0.31770203886141996,0.09321191991076587,0.07912253287557837,0.1295729166720889,0.29235082390598055,0.2599694613967371,0.11013150350750416,0.1627983113104176,0.15870436762161316,0.3142324590185257,0.21664516887396815,0.30543230023188955,0.30081870618421025,0.7158269976623503,0.430914776928484,0.45505250427172134,0.3535807384289613,0.5256048366002886,0.3716083190986546,0.40465219156491444,0.43428836733471327,0.4588337612397564,0.35825564827169876,0.4874665149358784,0.43020215808311635,0.2740490639406637,0.5717382308449351,0.5771662014919031,0.44333220426431713,0.5920245534839341,0.5284802999725702,0.5127063641021062,0.13671125988057403,0.09269281783073187,0.06519526636133341,0.14713412997542147,0.16252390246515402,0.16544346041758612,0.005573600987103115,0.18401784938068289,0.22019969976442058,0.32240486114466904,0.3374193783479723,0.33221877972282365,0.41221539625119513,0.5084736325715532,0.7647529269239018,0.43939517041941273,0.11660489770817535,0.3680454968209591,0.31935474401041647,0.43275081411393906,0.2249218690118403,0.38147752688309144,0.41523456798176867,0.50018810887615,0.7429434297600068,0.5389461919904255,0.21281809465847687,0.5156886168024178,0.5046251235788685,0.468190822071332,0.4279646225878609,0.12206210113304042,0.09473804438332782,0.10739308642962359,0.23237202910518925,0.10517076846412012,0.24575423505907015,0.03259122485435704,0.14038951827207696,0.08728255679586552,0.24972403352727868,0.16069880013918444,0.24171577144966477,0.1279418093048612,0.20911783912095794,0.38875129787537205,0.1609502792539209,0.39172403049396937,0.3336084398953672,0.2792412188360937,0.4098693661533087,0.2462340880266525,0.2897795187418653,0.23581269561252338,0.30230348823542813,0.783142096234012,0.45268212082696024,0.2780384947386478,0.4082772862699015,0.4367342244302616,0.3356782187808507,0.13327079326866448,0.0008504556898859847,0.0002104926544507126,0.10151019801276417,0.1546239092470965,0.44635841949032484,0.2637918629529593,0.06877224369811728,0.27241191084488986,0.32892333095953874,0.19190225050653992,0.3304777813349799,0.2556248025254218,0.4770354623507135,0.09383471858259854,0.420557124499429,0.029446903784023384,0.45036968021467083,0.6187937598358665,0.4089963899197862,0.44884445001044754,0.4352501848725261,0.11936142269319028,0.08880514876836622,0.11188682928838353,0.0008504556898859847,0.16547599890384979,0.20719791665180906,0.1504263410035058,0.6412298127972529,0.18339683638514948,0.019082412920730076,0.1663014240750242,0.15515430470984745,0.29194071079089723,0.20327340505198738,0.26560132013912907,0.14467965012450232,0.39685760973376316,0.4238054325738088,0.3597322789932675,0.4059632300447276,0.3892715236362508,0.35844792706211015,0.33418219322170206,0.41644455384202167,0.34403011003653805,0.34521093412913845,0.3894320008483618,0.40695285899954714,0.5185459134688365,0.5182892251854797,0.436891778976808,0.46775764688436194,0.5264749810551349,0.47010619196261605,0.42952416138318156,0.35091835592199244,0.2738961209286222,0.3086260610923333,0.33742092669424006,0.3752356034083635,0.456276314105431,0.4396706685640707,0.4185863349125355,0.41959619079922417,0.3679865912189725,0.40437991766730513,0.3763232247615361,0.3943795063032297,0.3651932297692903]},\"name\":\"\",\"parents\":[\"Man/asian/sideways\",\"Man/black/sideways\",\"Man/indian/sideways\",\"Man/latino hispanic/sideways\",\"Man/middle eastern/sideways\",\"Man/white/sideways\",\"Woman/white/sideways\",\"Man/asian/slightly_turned\",\"Woman/asian/slightly_turned\",\"Man/black/slightly_turned\",\"Woman/black/slightly_turned\",\"Man/indian/slightly_turned\",\"Man/latino hispanic/slightly_turned\",\"Woman/latino hispanic/slightly_turned\",\"Man/middle eastern/slightly_turned\",\"Man/white/slightly_turned\",\"Woman/white/slightly_turned\",\"Man/asian/straight\",\"Woman/asian/straight\",\"Man/black/straight\",\"Woman/black/straight\",\"Man/indian/straight\",\"Man/latino hispanic/straight\",\"Man/middle eastern/straight\",\"Man/white/straight\",\"Woman/white/straight\",\"Man/black/sideways\",\"Man/white/sideways\",\"Man/asian/slightly_turned\",\"Man/latino hispanic/slightly_turned\",\"Man/middle eastern/slightly_turned\",\"Man/white/slightly_turned\",\"Woman/white/slightly_turned\",\"Man/asian/straight\",\"Man/black/straight\",\"Man/latino hispanic/straight\",\"Man/middle eastern/straight\",\"Man/white/straight\",\"Woman/white/straight\",\"Man/asian/sideways\",\"Woman/asian/sideways\",\"Man/black/sideways\",\"Man/indian/sideways\",\"Woman/indian/sideways\",\"Man/latino hispanic/sideways\",\"Woman/latino hispanic/sideways\",\"Man/middle eastern/sideways\",\"Man/white/sideways\",\"Woman/white/sideways\",\"Man/asian/slightly_turned\",\"Woman/asian/slightly_turned\",\"Man/black/slightly_turned\",\"Man/indian/slightly_turned\",\"Man/latino hispanic/slightly_turned\",\"Woman/latino hispanic/slightly_turned\",\"Man/middle eastern/slightly_turned\",\"Man/white/slightly_turned\",\"Woman/white/slightly_turned\",\"Man/asian/straight\",\"Woman/asian/straight\",\"Man/black/straight\",\"Woman/black/straight\",\"Man/indian/straight\",\"Man/latino hispanic/straight\",\"Woman/latino hispanic/straight\",\"Man/middle eastern/straight\",\"Man/white/straight\",\"Woman/white/straight\",\"Man/asian/sideways\",\"Woman/asian/sideways\",\"Man/black/sideways\",\"Man/indian/sideways\",\"Man/latino hispanic/sideways\",\"Man/middle eastern/sideways\",\"Man/white/sideways\",\"Woman/white/sideways\",\"Man/asian/slightly_turned\",\"Woman/asian/slightly_turned\",\"Man/black/slightly_turned\",\"Woman/black/slightly_turned\",\"Man/indian/slightly_turned\",\"Man/latino hispanic/slightly_turned\",\"Woman/latino hispanic/slightly_turned\",\"Man/middle eastern/slightly_turned\",\"Woman/middle eastern/slightly_turned\",\"Man/white/slightly_turned\",\"Woman/white/slightly_turned\",\"Man/asian/straight\",\"Woman/asian/straight\",\"Man/black/straight\",\"Woman/black/straight\",\"Man/indian/straight\",\"Woman/indian/straight\",\"Man/latino hispanic/straight\",\"Woman/latino hispanic/straight\",\"Man/middle eastern/straight\",\"Woman/middle eastern/straight\",\"Man/white/straight\",\"Woman/white/straight\",\"Man/asian/sideways\",\"Woman/asian/sideways\",\"Man/black/sideways\",\"Man/indian/sideways\",\"Man/latino hispanic/sideways\",\"Man/middle eastern/sideways\",\"Woman/middle eastern/sideways\",\"Man/white/sideways\",\"Woman/white/sideways\",\"Man/asian/slightly_turned\",\"Woman/asian/slightly_turned\",\"Man/black/slightly_turned\",\"Man/indian/slightly_turned\",\"Man/latino hispanic/slightly_turned\",\"Woman/latino hispanic/slightly_turned\",\"Man/middle eastern/slightly_turned\",\"Woman/middle eastern/slightly_turned\",\"Man/white/slightly_turned\",\"Woman/white/slightly_turned\",\"Man/asian/straight\",\"Woman/asian/straight\",\"Man/black/straight\",\"Woman/black/straight\",\"Man/indian/straight\",\"Woman/indian/straight\",\"Man/latino hispanic/straight\",\"Woman/latino hispanic/straight\",\"Man/middle eastern/straight\",\"Woman/middle eastern/straight\",\"Man/white/straight\",\"Woman/white/straight\",\"Man/asian/sideways\",\"Woman/asian/sideways\",\"Man/black/sideways\",\"Man/indian/sideways\",\"Man/latino hispanic/sideways\",\"Man/middle eastern/sideways\",\"Woman/middle eastern/sideways\",\"Man/white/sideways\",\"Woman/white/sideways\",\"Man/asian/slightly_turned\",\"Woman/asian/slightly_turned\",\"Man/black/slightly_turned\",\"Woman/black/slightly_turned\",\"Man/indian/slightly_turned\",\"Man/latino hispanic/slightly_turned\",\"Woman/latino hispanic/slightly_turned\",\"Man/middle eastern/slightly_turned\",\"Man/white/slightly_turned\",\"Woman/white/slightly_turned\",\"Man/asian/straight\",\"Woman/asian/straight\",\"Man/black/straight\",\"Woman/black/straight\",\"Man/indian/straight\",\"Woman/indian/straight\",\"Man/latino hispanic/straight\",\"Woman/latino hispanic/straight\",\"Man/middle eastern/straight\",\"Man/white/straight\",\"Woman/white/straight\",\"Man/asian/sideways\",\"Woman/black/sideways\",\"Man/latino hispanic/sideways\",\"Man/middle eastern/sideways\",\"Man/white/sideways\",\"Woman/white/sideways\",\"Man/asian/slightly_turned\",\"Woman/asian/slightly_turned\",\"Man/latino hispanic/slightly_turned\",\"Woman/latino hispanic/slightly_turned\",\"Man/middle eastern/slightly_turned\",\"Man/white/slightly_turned\",\"Woman/white/slightly_turned\",\"Man/asian/straight\",\"Woman/asian/straight\",\"Man/black/straight\",\"Man/indian/straight\",\"Man/latino hispanic/straight\",\"Woman/latino hispanic/straight\",\"Man/middle eastern/straight\",\"Man/white/straight\",\"Woman/white/straight\",\"Man/asian\",\"Woman/asian\",\"Man/black\",\"Woman/black\",\"Man/indian\",\"Woman/indian\",\"Man/latino hispanic\",\"Woman/latino hispanic\",\"Man/middle eastern\",\"Woman/middle eastern\",\"Man/white\",\"Woman/white\",\"Man/asian\",\"Woman/asian\",\"Man/black\",\"Woman/black\",\"Man/indian\",\"Man/latino hispanic\",\"Woman/latino hispanic\",\"Man/middle eastern\",\"Woman/middle eastern\",\"Man/white\",\"Woman/white\",\"Man/asian\",\"Woman/asian\",\"Man/black\",\"Woman/black\",\"Man/indian\",\"Woman/indian\",\"Man/latino hispanic\",\"Woman/latino hispanic\",\"Man/middle eastern\",\"Woman/middle eastern\",\"Man/white\",\"Woman/white\",\"Man\",\"Woman\",\"Man\",\"Woman\",\"Man\",\"Woman\",\"Man\",\"Woman\",\"Man\",\"Woman\",\"Man\",\"Woman\",\"\",\"\"],\"values\":[18,5,2,8,6,73,7,31,1,13,1,1,16,1,20,168,9,73,7,28,1,7,27,41,402,19,2,6,2,3,2,10,2,4,1,4,3,20,2,33,4,5,2,1,16,1,18,148,26,77,13,23,4,15,3,31,298,71,148,16,34,3,7,36,8,60,635,124,20,7,6,1,9,12,129,40,68,21,31,1,1,32,10,38,2,315,138,224,58,99,14,8,2,79,33,106,1,827,363,36,3,4,2,15,15,1,123,21,88,8,23,6,29,2,56,1,359,50,231,18,100,3,16,1,79,6,116,3,983,115,50,12,11,1,24,25,1,236,32,103,11,21,3,4,28,6,55,482,77,208,24,42,4,3,1,61,17,108,863,171,5,1,1,2,19,1,6,1,3,2,1,44,4,22,1,4,1,8,1,6,100,12,162,26,33,1,8,1,73,1,78,2,734,127,375,55,111,5,16,126,24,203,3,1676,351,910,124,308,25,42,4,294,65,440,4,3830,806,1447,205,452,31,66,5,493,90,721,9,6240,1284,9419,1624],\"type\":\"sunburst\"}],                        {\"template\":{\"data\":{\"histogram2dcontour\":[{\"type\":\"histogram2dcontour\",\"colorbar\":{\"outlinewidth\":0,\"ticks\":\"\"},\"colorscale\":[[0.0,\"#0d0887\"],[0.1111111111111111,\"#46039f\"],[0.2222222222222222,\"#7201a8\"],[0.3333333333333333,\"#9c179e\"],[0.4444444444444444,\"#bd3786\"],[0.5555555555555556,\"#d8576b\"],[0.6666666666666666,\"#ed7953\"],[0.7777777777777778,\"#fb9f3a\"],[0.8888888888888888,\"#fdca26\"],[1.0,\"#f0f921\"]]}],\"choropleth\":[{\"type\":\"choropleth\",\"colorbar\":{\"outlinewidth\":0,\"ticks\":\"\"}}],\"histogram2d\":[{\"type\":\"histogram2d\",\"colorbar\":{\"outlinewidth\":0,\"ticks\":\"\"},\"colorscale\":[[0.0,\"#0d0887\"],[0.1111111111111111,\"#46039f\"],[0.2222222222222222,\"#7201a8\"],[0.3333333333333333,\"#9c179e\"],[0.4444444444444444,\"#bd3786\"],[0.5555555555555556,\"#d8576b\"],[0.6666666666666666,\"#ed7953\"],[0.7777777777777778,\"#fb9f3a\"],[0.8888888888888888,\"#fdca26\"],[1.0,\"#f0f921\"]]}],\"heatmap\":[{\"type\":\"heatmap\",\"colorbar\":{\"outlinewidth\":0,\"ticks\":\"\"},\"colorscale\":[[0.0,\"#0d0887\"],[0.1111111111111111,\"#46039f\"],[0.2222222222222222,\"#7201a8\"],[0.3333333333333333,\"#9c179e\"],[0.4444444444444444,\"#bd3786\"],[0.5555555555555556,\"#d8576b\"],[0.6666666666666666,\"#ed7953\"],[0.7777777777777778,\"#fb9f3a\"],[0.8888888888888888,\"#fdca26\"],[1.0,\"#f0f921\"]]}],\"heatmapgl\":[{\"type\":\"heatmapgl\",\"colorbar\":{\"outlinewidth\":0,\"ticks\":\"\"},\"colorscale\":[[0.0,\"#0d0887\"],[0.1111111111111111,\"#46039f\"],[0.2222222222222222,\"#7201a8\"],[0.3333333333333333,\"#9c179e\"],[0.4444444444444444,\"#bd3786\"],[0.5555555555555556,\"#d8576b\"],[0.6666666666666666,\"#ed7953\"],[0.7777777777777778,\"#fb9f3a\"],[0.8888888888888888,\"#fdca26\"],[1.0,\"#f0f921\"]]}],\"contourcarpet\":[{\"type\":\"contourcarpet\",\"colorbar\":{\"outlinewidth\":0,\"ticks\":\"\"}}],\"contour\":[{\"type\":\"contour\",\"colorbar\":{\"outlinewidth\":0,\"ticks\":\"\"},\"colorscale\":[[0.0,\"#0d0887\"],[0.1111111111111111,\"#46039f\"],[0.2222222222222222,\"#7201a8\"],[0.3333333333333333,\"#9c179e\"],[0.4444444444444444,\"#bd3786\"],[0.5555555555555556,\"#d8576b\"],[0.6666666666666666,\"#ed7953\"],[0.7777777777777778,\"#fb9f3a\"],[0.8888888888888888,\"#fdca26\"],[1.0,\"#f0f921\"]]}],\"surface\":[{\"type\":\"surface\",\"colorbar\":{\"outlinewidth\":0,\"ticks\":\"\"},\"colorscale\":[[0.0,\"#0d0887\"],[0.1111111111111111,\"#46039f\"],[0.2222222222222222,\"#7201a8\"],[0.3333333333333333,\"#9c179e\"],[0.4444444444444444,\"#bd3786\"],[0.5555555555555556,\"#d8576b\"],[0.6666666666666666,\"#ed7953\"],[0.7777777777777778,\"#fb9f3a\"],[0.8888888888888888,\"#fdca26\"],[1.0,\"#f0f921\"]]}],\"mesh3d\":[{\"type\":\"mesh3d\",\"colorbar\":{\"outlinewidth\":0,\"ticks\":\"\"}}],\"scatter\":[{\"fillpattern\":{\"fillmode\":\"overlay\",\"size\":10,\"solidity\":0.2},\"type\":\"scatter\"}],\"parcoords\":[{\"type\":\"parcoords\",\"line\":{\"colorbar\":{\"outlinewidth\":0,\"ticks\":\"\"}}}],\"scatterpolargl\":[{\"type\":\"scatterpolargl\",\"marker\":{\"colorbar\":{\"outlinewidth\":0,\"ticks\":\"\"}}}],\"bar\":[{\"error_x\":{\"color\":\"#2a3f5f\"},\"error_y\":{\"color\":\"#2a3f5f\"},\"marker\":{\"line\":{\"color\":\"#E5ECF6\",\"width\":0.5},\"pattern\":{\"fillmode\":\"overlay\",\"size\":10,\"solidity\":0.2}},\"type\":\"bar\"}],\"scattergeo\":[{\"type\":\"scattergeo\",\"marker\":{\"colorbar\":{\"outlinewidth\":0,\"ticks\":\"\"}}}],\"scatterpolar\":[{\"type\":\"scatterpolar\",\"marker\":{\"colorbar\":{\"outlinewidth\":0,\"ticks\":\"\"}}}],\"histogram\":[{\"marker\":{\"pattern\":{\"fillmode\":\"overlay\",\"size\":10,\"solidity\":0.2}},\"type\":\"histogram\"}],\"scattergl\":[{\"type\":\"scattergl\",\"marker\":{\"colorbar\":{\"outlinewidth\":0,\"ticks\":\"\"}}}],\"scatter3d\":[{\"type\":\"scatter3d\",\"line\":{\"colorbar\":{\"outlinewidth\":0,\"ticks\":\"\"}},\"marker\":{\"colorbar\":{\"outlinewidth\":0,\"ticks\":\"\"}}}],\"scattermapbox\":[{\"type\":\"scattermapbox\",\"marker\":{\"colorbar\":{\"outlinewidth\":0,\"ticks\":\"\"}}}],\"scatterternary\":[{\"type\":\"scatterternary\",\"marker\":{\"colorbar\":{\"outlinewidth\":0,\"ticks\":\"\"}}}],\"scattercarpet\":[{\"type\":\"scattercarpet\",\"marker\":{\"colorbar\":{\"outlinewidth\":0,\"ticks\":\"\"}}}],\"carpet\":[{\"aaxis\":{\"endlinecolor\":\"#2a3f5f\",\"gridcolor\":\"white\",\"linecolor\":\"white\",\"minorgridcolor\":\"white\",\"startlinecolor\":\"#2a3f5f\"},\"baxis\":{\"endlinecolor\":\"#2a3f5f\",\"gridcolor\":\"white\",\"linecolor\":\"white\",\"minorgridcolor\":\"white\",\"startlinecolor\":\"#2a3f5f\"},\"type\":\"carpet\"}],\"table\":[{\"cells\":{\"fill\":{\"color\":\"#EBF0F8\"},\"line\":{\"color\":\"white\"}},\"header\":{\"fill\":{\"color\":\"#C8D4E3\"},\"line\":{\"color\":\"white\"}},\"type\":\"table\"}],\"barpolar\":[{\"marker\":{\"line\":{\"color\":\"#E5ECF6\",\"width\":0.5},\"pattern\":{\"fillmode\":\"overlay\",\"size\":10,\"solidity\":0.2}},\"type\":\"barpolar\"}],\"pie\":[{\"automargin\":true,\"type\":\"pie\"}]},\"layout\":{\"autotypenumbers\":\"strict\",\"colorway\":[\"#636efa\",\"#EF553B\",\"#00cc96\",\"#ab63fa\",\"#FFA15A\",\"#19d3f3\",\"#FF6692\",\"#B6E880\",\"#FF97FF\",\"#FECB52\"],\"font\":{\"color\":\"#2a3f5f\"},\"hovermode\":\"closest\",\"hoverlabel\":{\"align\":\"left\"},\"paper_bgcolor\":\"white\",\"plot_bgcolor\":\"#E5ECF6\",\"polar\":{\"bgcolor\":\"#E5ECF6\",\"angularaxis\":{\"gridcolor\":\"white\",\"linecolor\":\"white\",\"ticks\":\"\"},\"radialaxis\":{\"gridcolor\":\"white\",\"linecolor\":\"white\",\"ticks\":\"\"}},\"ternary\":{\"bgcolor\":\"#E5ECF6\",\"aaxis\":{\"gridcolor\":\"white\",\"linecolor\":\"white\",\"ticks\":\"\"},\"baxis\":{\"gridcolor\":\"white\",\"linecolor\":\"white\",\"ticks\":\"\"},\"caxis\":{\"gridcolor\":\"white\",\"linecolor\":\"white\",\"ticks\":\"\"}},\"coloraxis\":{\"colorbar\":{\"outlinewidth\":0,\"ticks\":\"\"}},\"colorscale\":{\"sequential\":[[0.0,\"#0d0887\"],[0.1111111111111111,\"#46039f\"],[0.2222222222222222,\"#7201a8\"],[0.3333333333333333,\"#9c179e\"],[0.4444444444444444,\"#bd3786\"],[0.5555555555555556,\"#d8576b\"],[0.6666666666666666,\"#ed7953\"],[0.7777777777777778,\"#fb9f3a\"],[0.8888888888888888,\"#fdca26\"],[1.0,\"#f0f921\"]],\"sequentialminus\":[[0.0,\"#0d0887\"],[0.1111111111111111,\"#46039f\"],[0.2222222222222222,\"#7201a8\"],[0.3333333333333333,\"#9c179e\"],[0.4444444444444444,\"#bd3786\"],[0.5555555555555556,\"#d8576b\"],[0.6666666666666666,\"#ed7953\"],[0.7777777777777778,\"#fb9f3a\"],[0.8888888888888888,\"#fdca26\"],[1.0,\"#f0f921\"]],\"diverging\":[[0,\"#8e0152\"],[0.1,\"#c51b7d\"],[0.2,\"#de77ae\"],[0.3,\"#f1b6da\"],[0.4,\"#fde0ef\"],[0.5,\"#f7f7f7\"],[0.6,\"#e6f5d0\"],[0.7,\"#b8e186\"],[0.8,\"#7fbc41\"],[0.9,\"#4d9221\"],[1,\"#276419\"]]},\"xaxis\":{\"gridcolor\":\"white\",\"linecolor\":\"white\",\"ticks\":\"\",\"title\":{\"standoff\":15},\"zerolinecolor\":\"white\",\"automargin\":true,\"zerolinewidth\":2},\"yaxis\":{\"gridcolor\":\"white\",\"linecolor\":\"white\",\"ticks\":\"\",\"title\":{\"standoff\":15},\"zerolinecolor\":\"white\",\"automargin\":true,\"zerolinewidth\":2},\"scene\":{\"xaxis\":{\"backgroundcolor\":\"#E5ECF6\",\"gridcolor\":\"white\",\"linecolor\":\"white\",\"showbackground\":true,\"ticks\":\"\",\"zerolinecolor\":\"white\",\"gridwidth\":2},\"yaxis\":{\"backgroundcolor\":\"#E5ECF6\",\"gridcolor\":\"white\",\"linecolor\":\"white\",\"showbackground\":true,\"ticks\":\"\",\"zerolinecolor\":\"white\",\"gridwidth\":2},\"zaxis\":{\"backgroundcolor\":\"#E5ECF6\",\"gridcolor\":\"white\",\"linecolor\":\"white\",\"showbackground\":true,\"ticks\":\"\",\"zerolinecolor\":\"white\",\"gridwidth\":2}},\"shapedefaults\":{\"line\":{\"color\":\"#2a3f5f\"}},\"annotationdefaults\":{\"arrowcolor\":\"#2a3f5f\",\"arrowhead\":0,\"arrowwidth\":1},\"geo\":{\"bgcolor\":\"white\",\"landcolor\":\"#E5ECF6\",\"subunitcolor\":\"white\",\"showland\":true,\"showlakes\":true,\"lakecolor\":\"white\"},\"title\":{\"x\":0.05},\"mapbox\":{\"style\":\"light\"}}},\"coloraxis\":{\"colorbar\":{\"title\":{\"text\":\"Quality\"}},\"colorscale\":[[0.0,\"#440154\"],[0.1111111111111111,\"#482878\"],[0.2222222222222222,\"#3e4989\"],[0.3333333333333333,\"#31688e\"],[0.4444444444444444,\"#26828e\"],[0.5555555555555556,\"#1f9e89\"],[0.6666666666666666,\"#35b779\"],[0.7777777777777778,\"#6ece58\"],[0.8888888888888888,\"#b5de2b\"],[1.0,\"#fde725\"]],\"cmin\":0,\"cmax\":1},\"legend\":{\"tracegroupgap\":0},\"title\":{\"text\":\"XQLFW\"}},                        {\"responsive\": true}                    ).then(function(){\n",
       "                            \n",
       "var gd = document.getElementById('26637fde-1e16-437f-ab35-be6b4a131d86');\n",
       "var x = new MutationObserver(function (mutations, observer) {{\n",
       "        var display = window.getComputedStyle(gd).display;\n",
       "        if (!display || display === 'none') {{\n",
       "            console.log([gd, 'removed!']);\n",
       "            Plotly.purge(gd);\n",
       "            observer.disconnect();\n",
       "        }}\n",
       "}});\n",
       "\n",
       "// Listen for the removal of the full notebook cells\n",
       "var notebookContainer = gd.closest('#notebook-container');\n",
       "if (notebookContainer) {{\n",
       "    x.observe(notebookContainer, {childList: true});\n",
       "}}\n",
       "\n",
       "// Listen for the clearing of the current output cell\n",
       "var outputEl = gd.closest('.output');\n",
       "if (outputEl) {{\n",
       "    x.observe(outputEl, {childList: true});\n",
       "}}\n",
       "\n",
       "                        })                };                });            </script>        </div>"
      ]
     },
     "metadata": {},
     "output_type": "display_data"
    }
   ],
   "source": [
    "#for source in dict.keys():\n",
    "for source in sources:\n",
    "    plot_sun(source)"
   ]
  },
  {
   "cell_type": "code",
   "execution_count": 38,
   "metadata": {},
   "outputs": [],
   "source": [
    "df = dict['ForenFace']"
   ]
  },
  {
   "cell_type": "code",
   "execution_count": 39,
   "metadata": {},
   "outputs": [
    {
     "data": {
      "text/html": [
       "<div>\n",
       "<style scoped>\n",
       "    .dataframe tbody tr th:only-of-type {\n",
       "        vertical-align: middle;\n",
       "    }\n",
       "\n",
       "    .dataframe tbody tr th {\n",
       "        vertical-align: top;\n",
       "    }\n",
       "\n",
       "    .dataframe thead th {\n",
       "        text-align: right;\n",
       "    }\n",
       "</style>\n",
       "<table border=\"1\" class=\"dataframe\">\n",
       "  <thead>\n",
       "    <tr style=\"text-align: right;\">\n",
       "      <th></th>\n",
       "      <th>gender</th>\n",
       "      <th>yaw</th>\n",
       "      <th>emotion</th>\n",
       "      <th>race</th>\n",
       "      <th>source</th>\n",
       "      <th>Quality</th>\n",
       "      <th>Detector</th>\n",
       "      <th>Q_model</th>\n",
       "    </tr>\n",
       "  </thead>\n",
       "  <tbody>\n",
       "    <tr>\n",
       "      <th>56563</th>\n",
       "      <td>Man</td>\n",
       "      <td>straight</td>\n",
       "      <td>neutral</td>\n",
       "      <td>white</td>\n",
       "      <td>ForenFace</td>\n",
       "      <td>0.003972</td>\n",
       "      <td>mtcnn</td>\n",
       "      <td>ser_fiq</td>\n",
       "    </tr>\n",
       "    <tr>\n",
       "      <th>56564</th>\n",
       "      <td>Man</td>\n",
       "      <td>straight</td>\n",
       "      <td>neutral</td>\n",
       "      <td>white</td>\n",
       "      <td>ForenFace</td>\n",
       "      <td>0.019352</td>\n",
       "      <td>mtcnn</td>\n",
       "      <td>ser_fiq</td>\n",
       "    </tr>\n",
       "    <tr>\n",
       "      <th>56565</th>\n",
       "      <td>Man</td>\n",
       "      <td>straight</td>\n",
       "      <td>sad</td>\n",
       "      <td>white</td>\n",
       "      <td>ForenFace</td>\n",
       "      <td>0.339704</td>\n",
       "      <td>mtcnn</td>\n",
       "      <td>ser_fiq</td>\n",
       "    </tr>\n",
       "    <tr>\n",
       "      <th>56566</th>\n",
       "      <td>Man</td>\n",
       "      <td>sideways</td>\n",
       "      <td>happy</td>\n",
       "      <td>white</td>\n",
       "      <td>ForenFace</td>\n",
       "      <td>0.014630</td>\n",
       "      <td>mtcnn</td>\n",
       "      <td>ser_fiq</td>\n",
       "    </tr>\n",
       "    <tr>\n",
       "      <th>56567</th>\n",
       "      <td>Woman</td>\n",
       "      <td>straight</td>\n",
       "      <td>happy</td>\n",
       "      <td>white</td>\n",
       "      <td>ForenFace</td>\n",
       "      <td>0.593187</td>\n",
       "      <td>mtcnn</td>\n",
       "      <td>ser_fiq</td>\n",
       "    </tr>\n",
       "    <tr>\n",
       "      <th>...</th>\n",
       "      <td>...</td>\n",
       "      <td>...</td>\n",
       "      <td>...</td>\n",
       "      <td>...</td>\n",
       "      <td>...</td>\n",
       "      <td>...</td>\n",
       "      <td>...</td>\n",
       "      <td>...</td>\n",
       "    </tr>\n",
       "    <tr>\n",
       "      <th>58929</th>\n",
       "      <td>Man</td>\n",
       "      <td>straight</td>\n",
       "      <td>neutral</td>\n",
       "      <td>white</td>\n",
       "      <td>ForenFace</td>\n",
       "      <td>0.014163</td>\n",
       "      <td>mtcnn</td>\n",
       "      <td>ser_fiq</td>\n",
       "    </tr>\n",
       "    <tr>\n",
       "      <th>58930</th>\n",
       "      <td>Man</td>\n",
       "      <td>straight</td>\n",
       "      <td>neutral</td>\n",
       "      <td>white</td>\n",
       "      <td>ForenFace</td>\n",
       "      <td>0.426552</td>\n",
       "      <td>mtcnn</td>\n",
       "      <td>ser_fiq</td>\n",
       "    </tr>\n",
       "    <tr>\n",
       "      <th>58931</th>\n",
       "      <td>Man</td>\n",
       "      <td>sideways</td>\n",
       "      <td>sad</td>\n",
       "      <td>white</td>\n",
       "      <td>ForenFace</td>\n",
       "      <td>0.001988</td>\n",
       "      <td>mtcnn</td>\n",
       "      <td>ser_fiq</td>\n",
       "    </tr>\n",
       "    <tr>\n",
       "      <th>58932</th>\n",
       "      <td>Woman</td>\n",
       "      <td>straight</td>\n",
       "      <td>neutral</td>\n",
       "      <td>white</td>\n",
       "      <td>ForenFace</td>\n",
       "      <td>0.733252</td>\n",
       "      <td>mtcnn</td>\n",
       "      <td>ser_fiq</td>\n",
       "    </tr>\n",
       "    <tr>\n",
       "      <th>58933</th>\n",
       "      <td>Man</td>\n",
       "      <td>straight</td>\n",
       "      <td>sad</td>\n",
       "      <td>white</td>\n",
       "      <td>ForenFace</td>\n",
       "      <td>0.020641</td>\n",
       "      <td>mtcnn</td>\n",
       "      <td>ser_fiq</td>\n",
       "    </tr>\n",
       "  </tbody>\n",
       "</table>\n",
       "<p>2371 rows × 8 columns</p>\n",
       "</div>"
      ],
      "text/plain": [
       "      gender       yaw  emotion   race     source   Quality Detector  Q_model\n",
       "56563    Man  straight  neutral  white  ForenFace  0.003972    mtcnn  ser_fiq\n",
       "56564    Man  straight  neutral  white  ForenFace  0.019352    mtcnn  ser_fiq\n",
       "56565    Man  straight      sad  white  ForenFace  0.339704    mtcnn  ser_fiq\n",
       "56566    Man  sideways    happy  white  ForenFace  0.014630    mtcnn  ser_fiq\n",
       "56567  Woman  straight    happy  white  ForenFace  0.593187    mtcnn  ser_fiq\n",
       "...      ...       ...      ...    ...        ...       ...      ...      ...\n",
       "58929    Man  straight  neutral  white  ForenFace  0.014163    mtcnn  ser_fiq\n",
       "58930    Man  straight  neutral  white  ForenFace  0.426552    mtcnn  ser_fiq\n",
       "58931    Man  sideways      sad  white  ForenFace  0.001988    mtcnn  ser_fiq\n",
       "58932  Woman  straight  neutral  white  ForenFace  0.733252    mtcnn  ser_fiq\n",
       "58933    Man  straight      sad  white  ForenFace  0.020641    mtcnn  ser_fiq\n",
       "\n",
       "[2371 rows x 8 columns]"
      ]
     },
     "execution_count": 39,
     "metadata": {},
     "output_type": "execute_result"
    }
   ],
   "source": [
    "df"
   ]
  },
  {
   "cell_type": "code",
   "execution_count": null,
   "metadata": {},
   "outputs": [],
   "source": [
    "source = 'XQLFW'\n",
    "df_plot = dict[source]\n",
    "df_plot.dropna(inplace=True)"
   ]
  },
  {
   "cell_type": "code",
   "execution_count": null,
   "metadata": {},
   "outputs": [],
   "source": [
    "fig = px.sunburst(df_plot, path=['gender','yaw','race','emotion'],   color=\"Quality\",\n",
    "                  color_continuous_scale=\"Viridis\",title=source) #values=\"gender\"#\"Q_model\", \"Detector\",\n",
    "#fig.update_layout(title=source)\n",
    "\n",
    "img_data = pio.to_image(fig,format='png',scale=3)\n",
    "\n",
    "pio.write_image(fig,source+\".png\",format='png', scale=6)\n",
    "fig.show()\n"
   ]
  },
  {
   "cell_type": "code",
   "execution_count": null,
   "metadata": {},
   "outputs": [],
   "source": [
    "type(img_data)"
   ]
  },
  {
   "cell_type": "code",
   "execution_count": null,
   "metadata": {},
   "outputs": [],
   "source": [
    "\n",
    "# Ajustar el tamaño de la figura\n",
    "plt.figure(figsize=(10, 6))\n",
    "\n",
    "# Crear el stripplot\n",
    "sns.swarmplot(x='yaw', hue='emotion', y= 'Quality',  data=df_plot)#,jitter=True,dodge=True,\n",
    "#sns.scatterplot(x='yaw2', hue='emotion2', y= 'Quality',  data=df2)#,dodge=True,\n",
    "# Mostrar el gráfico\n",
    "plt.show()\n"
   ]
  },
  {
   "cell_type": "code",
   "execution_count": null,
   "metadata": {},
   "outputs": [],
   "source": [
    "sns.swarmplot(x='race', hue='gender', y= 'Quality',  data=df_plot)#,jitter=True,dodge=True,"
   ]
  },
  {
   "cell_type": "code",
   "execution_count": null,
   "metadata": {},
   "outputs": [],
   "source": [
    "import plotly.express as px\n",
    "\n",
    "fig = px.treemap(df_plot, path=['Q_group', 'Q_model', 'Detector', 'gender'], title=\"Mosaic Plot\")\n",
    "fig.show()"
   ]
  },
  {
   "cell_type": "code",
   "execution_count": null,
   "metadata": {},
   "outputs": [],
   "source": [
    "\n",
    "\n",
    "# # Tabla de contingencia para Quality_group y Detector\n",
    "# contingency_table_detector = pd.crosstab(df_plot['Q_group'], df_plot['Detector'])\n",
    "\n",
    "# # Tabla de contingencia para Quality_group y Quality_model\n",
    "# contingency_table_quality_model = pd.crosstab(df_plot['Q_group'], df_plot['Q_model'])\n",
    "\n",
    "# # Tabla de contingencia para Quality_group y yaw\n",
    "# contingency_table_yaw = pd.crosstab(df_plot['Q_group'], df_plot['yaw'])\n",
    "\n",
    "# # Tabla de contingencia para Quality_group y gender\n",
    "# contingency_table_gender = pd.crosstab(df_plot['Q_group'], df_plot['gender'])\n",
    "\n",
    "\n",
    "# # Tabla de contingencia para Quality_group y emotion\n",
    "# contingency_table_emotion = pd.crosstab(df_plot['Q_group'], df_plot['emotion'])\n",
    "\n",
    "# # Tabla de contingencia para Quality_group y race\n",
    "# contingency_table_race = pd.crosstab(df_plot['Q_group'], df_plot['race'])\n"
   ]
  },
  {
   "cell_type": "code",
   "execution_count": null,
   "metadata": {},
   "outputs": [],
   "source": [
    "\n",
    "# def norm_table (df):\n",
    "#     for col in df.columns:\n",
    "#         df[col] = df[col]/sum(df[col])\n",
    "\n"
   ]
  },
  {
   "cell_type": "code",
   "execution_count": null,
   "metadata": {},
   "outputs": [],
   "source": [
    "# norm_table(contingency_table_quality_model)\n"
   ]
  },
  {
   "cell_type": "code",
   "execution_count": null,
   "metadata": {},
   "outputs": [],
   "source": [
    "# norm_table(contingency_table_detector)\n",
    "# contingency_table_detector"
   ]
  },
  {
   "cell_type": "code",
   "execution_count": null,
   "metadata": {},
   "outputs": [],
   "source": [
    "# norm_table(contingency_table_gender)\n",
    "# contingency_table_gender"
   ]
  },
  {
   "cell_type": "code",
   "execution_count": null,
   "metadata": {},
   "outputs": [],
   "source": [
    "# norm_table(contingency_table_yaw)\n",
    "# contingency_table_yaw"
   ]
  },
  {
   "cell_type": "code",
   "execution_count": null,
   "metadata": {},
   "outputs": [],
   "source": [
    "# norm_table(contingency_table_race)\n",
    "# contingency_table_race"
   ]
  },
  {
   "cell_type": "code",
   "execution_count": null,
   "metadata": {},
   "outputs": [],
   "source": [
    "# norm_table(contingency_table_emotion)\n",
    "# contingency_table_emotion"
   ]
  },
  {
   "cell_type": "code",
   "execution_count": null,
   "metadata": {},
   "outputs": [],
   "source": [
    "# contingency_table_emotion.plot(kind='bar', subplots=False)\n",
    "# plt.legend(loc='best')\n"
   ]
  },
  {
   "cell_type": "code",
   "execution_count": null,
   "metadata": {},
   "outputs": [],
   "source": [
    "# contingency_table_race.plot(kind='bar', subplots=False)\n",
    "# plt.legend(loc='best')\n"
   ]
  },
  {
   "cell_type": "code",
   "execution_count": null,
   "metadata": {},
   "outputs": [],
   "source": [
    "# contingency_table_yaw.plot(kind='bar', subplots=False)\n",
    "# plt.legend(loc='best')\n"
   ]
  },
  {
   "cell_type": "code",
   "execution_count": null,
   "metadata": {},
   "outputs": [],
   "source": [
    "import matplotlib.pyplot as plt\n",
    "\n",
    "def plot_stacked_bar(contingency_table, title, xlabel, ylabel):\n",
    "    ax = contingency_table.plot(kind='bar', stacked=True, figsize=(10, 7))\n",
    "    plt.title(title)\n",
    "    plt.xlabel(xlabel)\n",
    "    plt.ylabel(ylabel)\n",
    "    plt.legend(loc='best')\n",
    "    plt.show()\n",
    "\n",
    "# plot_stacked_bar(contingency_table_detector, 'Quality_group vs Detector', 'Quality_group', 'Frequency')\n",
    "# plot_stacked_bar(contingency_table_quality_model, 'Quality_group vs Quality_model', 'Quality_group', 'Frequency')\n",
    "# plot_stacked_bar(contingency_table_yaw, 'Quality_group vs yaw', 'Quality_group', 'Frequency')\n",
    "# plot_stacked_bar(contingency_table_gender, 'Quality_group vs gender', 'Quality_group', 'Frequency')\n"
   ]
  },
  {
   "cell_type": "code",
   "execution_count": null,
   "metadata": {},
   "outputs": [],
   "source": [
    "df_plot.head()\n"
   ]
  },
  {
   "cell_type": "code",
   "execution_count": null,
   "metadata": {},
   "outputs": [],
   "source": [
    "import plotly.io as pio\n",
    "\n",
    "#fig = ...  # tu figura de plotly aquí\n",
    "#pio.write_image(fig, 'figure.png', format='png', scale=2) "
   ]
  },
  {
   "cell_type": "code",
   "execution_count": null,
   "metadata": {},
   "outputs": [],
   "source": []
  },
  {
   "cell_type": "code",
   "execution_count": null,
   "metadata": {},
   "outputs": [],
   "source": [
    "# Crear un gráfico sunburst con Plotly\n",
    "fig1 = px.sunburst(df_plot1, path=['race','gender'],   color=\"Quality\",\n",
    "                  color_continuous_scale=\"Viridis\") #values=\"gender\"#\"Q_model\", \"Detector\",\n",
    "fig2 = px.sunburst(df_plot1, path=['yaw','emotion'],   color=\"Quality\",\n",
    "                  color_continuous_scale=\"Viridis\") #values=\"gender\"#\"Q_model\", \"Detector\",\n",
    "fig3 = px.sunburst(df_plot1, path=['Detector','yaw','emotion'],   color=\"Quality\",\n",
    "                  color_continuous_scale=\"Viridis\") #values=\"gender\"#\"Q_model\", \"Detector\",\n",
    "fig4 = px.sunburst(df_plot1, path=['gender','race','yaw','emotion'],   color=\"Quality\",\n",
    "                  color_continuous_scale=\"Viridis\") #values=\"gender\"#\"Q_model\", \"Detector\",\n",
    "fig5 = px.sunburst(df_plot1, path=['Detector','gender','yaw','race','emotion'],   color=\"Quality\",\n",
    "                  color_continuous_scale=\"Viridis\") #values=\"gender\"#\"Q_model\", \"Detector\",\n",
    "\n",
    "fig1.show()\n",
    "fig2.show()\n",
    "fig3.show()\n",
    "fig4.show()\n",
    "fig5.show()"
   ]
  },
  {
   "cell_type": "code",
   "execution_count": null,
   "metadata": {},
   "outputs": [],
   "source": [
    "# Crear un gráfico sunburst con Plotly\n",
    "fig1 = px.sunburst(df_plot1, path=['race','gender'],   color=\"Quality\",\n",
    "                  color_continuous_scale=\"Viridis\") #values=\"gender\"#\"Q_model\", \"Detector\",\n",
    "fig2 = px.sunburst(df_plot1, path=['yaw','emotion'],   color=\"Quality\",\n",
    "                  color_continuous_scale=\"Viridis\") #values=\"gender\"#\"Q_model\", \"Detector\",\n",
    "fig3 = px.sunburst(df_plot1, path=['Detector','yaw','emotion'],   color=\"Quality\",\n",
    "                  color_continuous_scale=\"Viridis\") #values=\"gender\"#\"Q_model\", \"Detector\",\n",
    "fig4 = px.sunburst(df_plot1, path=['gender','race','yaw','emotion'],   color=\"Quality\",\n",
    "                  color_continuous_scale=\"Viridis\") #values=\"gender\"#\"Q_model\", \"Detector\",\n",
    "fig5 = px.sunburst(df_plot1, path=['Detector','gender','yaw','race','emotion'],   color=\"Quality\",\n",
    "                  color_continuous_scale=\"Viridis\") #values=\"gender\"#\"Q_model\", \"Detector\",\n",
    "\n",
    "fig1.show()\n",
    "fig2.show()\n",
    "fig3.show()\n",
    "fig4.show()\n",
    "fig5.show()"
   ]
  },
  {
   "cell_type": "code",
   "execution_count": null,
   "metadata": {},
   "outputs": [],
   "source": [
    "tabla1 =df_plot1.groupby(['Q_model','Detector',\"gender\",'race','yaw','emotion']).agg({\"Quality\":[\"count\",\"mean\"]})"
   ]
  },
  {
   "cell_type": "code",
   "execution_count": null,
   "metadata": {},
   "outputs": [],
   "source": [
    "type(tabla)"
   ]
  },
  {
   "cell_type": "code",
   "execution_count": null,
   "metadata": {},
   "outputs": [],
   "source": [
    "tabla1.to_excel(\"tabla_serfiq.xlsx\")"
   ]
  },
  {
   "cell_type": "code",
   "execution_count": null,
   "metadata": {},
   "outputs": [],
   "source": [
    "df.angle_yaw"
   ]
  },
  {
   "cell_type": "code",
   "execution_count": null,
   "metadata": {},
   "outputs": [],
   "source": [
    "df_plot.yaw.value_counts()"
   ]
  }
 ],
 "metadata": {
  "kernelspec": {
   "display_name": "lr-video",
   "language": "python",
   "name": "python3"
  },
  "language_info": {
   "codemirror_mode": {
    "name": "ipython",
    "version": 3
   },
   "file_extension": ".py",
   "mimetype": "text/x-python",
   "name": "python",
   "nbconvert_exporter": "python",
   "pygments_lexer": "ipython3",
   "version": "3.8.15"
  },
  "orig_nbformat": 4
 },
 "nbformat": 4,
 "nbformat_minor": 2
}
