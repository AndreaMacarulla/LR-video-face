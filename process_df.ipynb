{
 "cells": [
  {
   "attachments": {},
   "cell_type": "markdown",
   "metadata": {},
   "source": [
    "# Tratamiento del dataframe \n",
    "Se ha extraido de a base de datos un daframe en formato pickle"
   ]
  },
  {
   "attachments": {},
   "cell_type": "markdown",
   "metadata": {},
   "source": [
    "## Imports"
   ]
  },
  {
   "cell_type": "code",
   "execution_count": null,
   "metadata": {},
   "outputs": [],
   "source": [
    "import pandas as pd\n",
    "import numpy as np\n",
    "\n",
    "import seaborn as sns\n",
    "import matplotlib.pyplot as plt\n",
    "\n",
    "from sql_face.tables import *\n",
    "import os\n",
    "import plotly.express as px\n",
    "import plotly.io as pio\n"
   ]
  },
  {
   "attachments": {},
   "cell_type": "markdown",
   "metadata": {},
   "source": [
    "## Leer dataframe del disco\n",
    "se especifica directorio y fichero pkl. No necesitamos la base de datos."
   ]
  },
  {
   "cell_type": "code",
   "execution_count": 59,
   "metadata": {},
   "outputs": [],
   "source": [
    "home = os.path.expanduser(\"~\")\n",
    "\n",
    "input_dir = os.path.join(home, 'video_resources', 'sql_database')\n",
    "df = pd.read_pickle(os.path.join(input_dir,'df_colab_21b.pkl'))\n"
   ]
  },
  {
   "cell_type": "code",
   "execution_count": 60,
   "metadata": {},
   "outputs": [
    {
     "data": {
      "text/plain": [
       "Index(['index', 'identity', 'pitch', 'angle_pitch', 'yaw', 'angle_yaw', 'roll',\n",
       "       'angle_roll', 'source', 'gender', 'headgear', 'age', 'age_number',\n",
       "       'glasses', 'type', 'beard', 'emotion', 'other_occlusions', 'race',\n",
       "       'image_id', 'Detector', 'E_Model', 'Q_Model', 'Q_group', 'Quality'],\n",
       "      dtype='object')"
      ]
     },
     "execution_count": 60,
     "metadata": {},
     "output_type": "execute_result"
    }
   ],
   "source": [
    "df.columns"
   ]
  },
  {
   "cell_type": "code",
   "execution_count": 61,
   "metadata": {},
   "outputs": [
    {
     "data": {
      "text/plain": [
       "QMagFace       254626\n",
       "QMagFace_SR     43174\n",
       "Name: E_Model, dtype: int64"
      ]
     },
     "execution_count": 61,
     "metadata": {},
     "output_type": "execute_result"
    }
   ],
   "source": [
    "df.E_Model.value_counts()"
   ]
  },
  {
   "attachments": {},
   "cell_type": "markdown",
   "metadata": {},
   "source": [
    "### Quitamos los Embedding Models\n",
    "y los registros repetidos"
   ]
  },
  {
   "cell_type": "code",
   "execution_count": 62,
   "metadata": {},
   "outputs": [],
   "source": [
    "df2 = df.copy()\n",
    "# #df2 = df.loc[df['type'] == 'enfsiImage']\n",
    "# df2.drop('E_Model', axis = 1,inplace = True)\n",
    "# df2 = df2.drop_duplicates(subset = ['image_id','Detector','Q_model'])\n",
    "# df2 = df2.reset_index(drop=True)"
   ]
  },
  {
   "cell_type": "code",
   "execution_count": 63,
   "metadata": {},
   "outputs": [
    {
     "data": {
      "text/plain": [
       "297800"
      ]
     },
     "execution_count": 63,
     "metadata": {},
     "output_type": "execute_result"
    }
   ],
   "source": [
    "len(df2)"
   ]
  },
  {
   "cell_type": "code",
   "execution_count": 65,
   "metadata": {},
   "outputs": [
    {
     "data": {
      "text/plain": [
       "mtcnn_serfiq    130046\n",
       "mtcnn            87244\n",
       "mediapipe        80510\n",
       "Name: Detector, dtype: int64"
      ]
     },
     "execution_count": 65,
     "metadata": {},
     "output_type": "execute_result"
    }
   ],
   "source": [
    "\n",
    "df2.Detector.value_counts()"
   ]
  },
  {
   "cell_type": "code",
   "execution_count": 66,
   "metadata": {},
   "outputs": [
    {
     "data": {
      "text/plain": [
       "ser_fiq    170487\n",
       "tface      127313\n",
       "Name: Q_Model, dtype: int64"
      ]
     },
     "execution_count": 66,
     "metadata": {},
     "output_type": "execute_result"
    }
   ],
   "source": [
    "df2.Q_Model.value_counts()"
   ]
  },
  {
   "attachments": {},
   "cell_type": "markdown",
   "metadata": {},
   "source": [
    "### Nos quedamos con Un solo detector y quality Model"
   ]
  },
  {
   "cell_type": "code",
   "execution_count": 67,
   "metadata": {},
   "outputs": [],
   "source": [
    "df3 = df2.loc[(df2.Detector == 'mtcnn_serfiq') & (df2.Q_Model=='ser_fiq')]\n",
    "df3.reset_index(drop=True, inplace = True)\n"
   ]
  },
  {
   "cell_type": "code",
   "execution_count": 68,
   "metadata": {},
   "outputs": [
    {
     "data": {
      "text/html": [
       "<div>\n",
       "<style scoped>\n",
       "    .dataframe tbody tr th:only-of-type {\n",
       "        vertical-align: middle;\n",
       "    }\n",
       "\n",
       "    .dataframe tbody tr th {\n",
       "        vertical-align: top;\n",
       "    }\n",
       "\n",
       "    .dataframe thead th {\n",
       "        text-align: right;\n",
       "    }\n",
       "</style>\n",
       "<table border=\"1\" class=\"dataframe\">\n",
       "  <thead>\n",
       "    <tr style=\"text-align: right;\">\n",
       "      <th></th>\n",
       "      <th>index</th>\n",
       "      <th>identity</th>\n",
       "      <th>pitch</th>\n",
       "      <th>angle_pitch</th>\n",
       "      <th>yaw</th>\n",
       "      <th>angle_yaw</th>\n",
       "      <th>roll</th>\n",
       "      <th>angle_roll</th>\n",
       "      <th>source</th>\n",
       "      <th>gender</th>\n",
       "      <th>...</th>\n",
       "      <th>beard</th>\n",
       "      <th>emotion</th>\n",
       "      <th>other_occlusions</th>\n",
       "      <th>race</th>\n",
       "      <th>image_id</th>\n",
       "      <th>Detector</th>\n",
       "      <th>E_Model</th>\n",
       "      <th>Q_Model</th>\n",
       "      <th>Q_group</th>\n",
       "      <th>Quality</th>\n",
       "    </tr>\n",
       "  </thead>\n",
       "  <tbody>\n",
       "    <tr>\n",
       "      <th>0</th>\n",
       "      <td>3882</td>\n",
       "      <td>060</td>\n",
       "      <td>Pitch.HALF_UP</td>\n",
       "      <td>None</td>\n",
       "      <td>Yaw.FRONTAL</td>\n",
       "      <td>None</td>\n",
       "      <td>Roll.FRONTAL</td>\n",
       "      <td>None</td>\n",
       "      <td>SCFace</td>\n",
       "      <td>Gender.MALE</td>\n",
       "      <td>...</td>\n",
       "      <td>False</td>\n",
       "      <td>Emotion.NEUTRAL</td>\n",
       "      <td>None</td>\n",
       "      <td>Race.WHITE</td>\n",
       "      <td>391</td>\n",
       "      <td>mtcnn_serfiq</td>\n",
       "      <td>QMagFace</td>\n",
       "      <td>ser_fiq</td>\n",
       "      <td>QualityGroup.VERY_HIGH</td>\n",
       "      <td>0.820794</td>\n",
       "    </tr>\n",
       "    <tr>\n",
       "      <th>1</th>\n",
       "      <td>3883</td>\n",
       "      <td>030</td>\n",
       "      <td>Pitch.HALF_DOWN</td>\n",
       "      <td>None</td>\n",
       "      <td>Yaw.FRONTAL</td>\n",
       "      <td>None</td>\n",
       "      <td>Roll.FRONTAL</td>\n",
       "      <td>None</td>\n",
       "      <td>SCFace</td>\n",
       "      <td>Gender.MALE</td>\n",
       "      <td>...</td>\n",
       "      <td>False</td>\n",
       "      <td>Emotion.NEUTRAL</td>\n",
       "      <td>None</td>\n",
       "      <td>Race.WHITE</td>\n",
       "      <td>392</td>\n",
       "      <td>mtcnn_serfiq</td>\n",
       "      <td>QMagFace</td>\n",
       "      <td>ser_fiq</td>\n",
       "      <td>QualityGroup.LOW</td>\n",
       "      <td>0.022044</td>\n",
       "    </tr>\n",
       "    <tr>\n",
       "      <th>2</th>\n",
       "      <td>3884</td>\n",
       "      <td>047</td>\n",
       "      <td>Pitch.DOWN</td>\n",
       "      <td>None</td>\n",
       "      <td>Yaw.FRONTAL</td>\n",
       "      <td>None</td>\n",
       "      <td>Roll.FRONTAL</td>\n",
       "      <td>None</td>\n",
       "      <td>SCFace</td>\n",
       "      <td>Gender.MALE</td>\n",
       "      <td>...</td>\n",
       "      <td>False</td>\n",
       "      <td>Emotion.NEUTRAL</td>\n",
       "      <td>None</td>\n",
       "      <td>Race.WHITE</td>\n",
       "      <td>393</td>\n",
       "      <td>mtcnn_serfiq</td>\n",
       "      <td>QMagFace</td>\n",
       "      <td>ser_fiq</td>\n",
       "      <td>QualityGroup.VERY_HIGH</td>\n",
       "      <td>0.869096</td>\n",
       "    </tr>\n",
       "    <tr>\n",
       "      <th>3</th>\n",
       "      <td>3885</td>\n",
       "      <td>014</td>\n",
       "      <td>Pitch.FRONTAL</td>\n",
       "      <td>None</td>\n",
       "      <td>Yaw.PROFILE</td>\n",
       "      <td>None</td>\n",
       "      <td>None</td>\n",
       "      <td>None</td>\n",
       "      <td>SCFace</td>\n",
       "      <td>Gender.FEMALE</td>\n",
       "      <td>...</td>\n",
       "      <td>False</td>\n",
       "      <td>Emotion.NEUTRAL</td>\n",
       "      <td>None</td>\n",
       "      <td>Race.WHITE</td>\n",
       "      <td>394</td>\n",
       "      <td>mtcnn_serfiq</td>\n",
       "      <td>QMagFace</td>\n",
       "      <td>ser_fiq</td>\n",
       "      <td>QualityGroup.LOW</td>\n",
       "      <td>0.038777</td>\n",
       "    </tr>\n",
       "    <tr>\n",
       "      <th>4</th>\n",
       "      <td>3886</td>\n",
       "      <td>035</td>\n",
       "      <td>Pitch.FRONTAL</td>\n",
       "      <td>None</td>\n",
       "      <td>Yaw.FRONTAL</td>\n",
       "      <td>None</td>\n",
       "      <td>Roll.HALF_LEANING</td>\n",
       "      <td>None</td>\n",
       "      <td>SCFace</td>\n",
       "      <td>Gender.MALE</td>\n",
       "      <td>...</td>\n",
       "      <td>True</td>\n",
       "      <td>Emotion.NEUTRAL</td>\n",
       "      <td>None</td>\n",
       "      <td>Race.WHITE</td>\n",
       "      <td>395</td>\n",
       "      <td>mtcnn_serfiq</td>\n",
       "      <td>QMagFace</td>\n",
       "      <td>ser_fiq</td>\n",
       "      <td>QualityGroup.VERY_HIGH</td>\n",
       "      <td>0.841657</td>\n",
       "    </tr>\n",
       "    <tr>\n",
       "      <th>...</th>\n",
       "      <td>...</td>\n",
       "      <td>...</td>\n",
       "      <td>...</td>\n",
       "      <td>...</td>\n",
       "      <td>...</td>\n",
       "      <td>...</td>\n",
       "      <td>...</td>\n",
       "      <td>...</td>\n",
       "      <td>...</td>\n",
       "      <td>...</td>\n",
       "      <td>...</td>\n",
       "      <td>...</td>\n",
       "      <td>...</td>\n",
       "      <td>...</td>\n",
       "      <td>...</td>\n",
       "      <td>...</td>\n",
       "      <td>...</td>\n",
       "      <td>...</td>\n",
       "      <td>...</td>\n",
       "      <td>...</td>\n",
       "      <td>...</td>\n",
       "    </tr>\n",
       "    <tr>\n",
       "      <th>86605</th>\n",
       "      <td>1105</td>\n",
       "      <td>2015-7</td>\n",
       "      <td>Pitch.FRONTAL</td>\n",
       "      <td>0.567765</td>\n",
       "      <td>Yaw.PROFILE</td>\n",
       "      <td>-55.055234</td>\n",
       "      <td>Roll.FRONTAL</td>\n",
       "      <td>-3.960244</td>\n",
       "      <td>ENFSI</td>\n",
       "      <td>Gender.MALE</td>\n",
       "      <td>...</td>\n",
       "      <td>None</td>\n",
       "      <td>Emotion.FEAR</td>\n",
       "      <td>None</td>\n",
       "      <td>Race.WHITE</td>\n",
       "      <td>6019</td>\n",
       "      <td>mtcnn_serfiq</td>\n",
       "      <td>QMagFace_SR</td>\n",
       "      <td>ser_fiq</td>\n",
       "      <td>QualityGroup.MEDIUM</td>\n",
       "      <td>0.189554</td>\n",
       "    </tr>\n",
       "    <tr>\n",
       "      <th>86606</th>\n",
       "      <td>1106</td>\n",
       "      <td>2015-1</td>\n",
       "      <td>Pitch.HALF_UP</td>\n",
       "      <td>-13.37915</td>\n",
       "      <td>Yaw.FRONTAL</td>\n",
       "      <td>-7.0075</td>\n",
       "      <td>Roll.FRONTAL</td>\n",
       "      <td>1.321452</td>\n",
       "      <td>ENFSI</td>\n",
       "      <td>Gender.FEMALE</td>\n",
       "      <td>...</td>\n",
       "      <td>None</td>\n",
       "      <td>Emotion.NEUTRAL</td>\n",
       "      <td>None</td>\n",
       "      <td>Race.WHITE</td>\n",
       "      <td>4676</td>\n",
       "      <td>mtcnn_serfiq</td>\n",
       "      <td>QMagFace_SR</td>\n",
       "      <td>ser_fiq</td>\n",
       "      <td>QualityGroup.HIGH</td>\n",
       "      <td>0.734290</td>\n",
       "    </tr>\n",
       "    <tr>\n",
       "      <th>86607</th>\n",
       "      <td>1107</td>\n",
       "      <td>2015-1</td>\n",
       "      <td>Pitch.FRONTAL</td>\n",
       "      <td>-5.347922</td>\n",
       "      <td>Yaw.FRONTAL</td>\n",
       "      <td>-3.339354</td>\n",
       "      <td>Roll.FRONTAL</td>\n",
       "      <td>-0.575616</td>\n",
       "      <td>ENFSI</td>\n",
       "      <td>Gender.FEMALE</td>\n",
       "      <td>...</td>\n",
       "      <td>None</td>\n",
       "      <td>Emotion.ANGRY</td>\n",
       "      <td>None</td>\n",
       "      <td>Race.WHITE</td>\n",
       "      <td>4684</td>\n",
       "      <td>mtcnn_serfiq</td>\n",
       "      <td>QMagFace_SR</td>\n",
       "      <td>ser_fiq</td>\n",
       "      <td>QualityGroup.VERY_HIGH</td>\n",
       "      <td>0.794687</td>\n",
       "    </tr>\n",
       "    <tr>\n",
       "      <th>86608</th>\n",
       "      <td>1108</td>\n",
       "      <td>2015-14</td>\n",
       "      <td>Pitch.HALF_DOWN</td>\n",
       "      <td>2.94304</td>\n",
       "      <td>Yaw.PROFILE</td>\n",
       "      <td>44.091928</td>\n",
       "      <td>Roll.HALF_LEANING</td>\n",
       "      <td>7.73719</td>\n",
       "      <td>ENFSI</td>\n",
       "      <td>Gender.MALE</td>\n",
       "      <td>...</td>\n",
       "      <td>None</td>\n",
       "      <td>Emotion.HAPPY</td>\n",
       "      <td>None</td>\n",
       "      <td>Race.WHITE</td>\n",
       "      <td>7712</td>\n",
       "      <td>mtcnn_serfiq</td>\n",
       "      <td>QMagFace_SR</td>\n",
       "      <td>ser_fiq</td>\n",
       "      <td>QualityGroup.HIGH</td>\n",
       "      <td>0.728360</td>\n",
       "    </tr>\n",
       "    <tr>\n",
       "      <th>86609</th>\n",
       "      <td>1109</td>\n",
       "      <td>2015-15</td>\n",
       "      <td>Pitch.DOWN</td>\n",
       "      <td>11.148352</td>\n",
       "      <td>Yaw.PROFILE</td>\n",
       "      <td>56.222591</td>\n",
       "      <td>Roll.HALF_LEANING</td>\n",
       "      <td>9.515001</td>\n",
       "      <td>ENFSI</td>\n",
       "      <td>Gender.MALE</td>\n",
       "      <td>...</td>\n",
       "      <td>None</td>\n",
       "      <td>Emotion.NEUTRAL</td>\n",
       "      <td>None</td>\n",
       "      <td>Race.WHITE</td>\n",
       "      <td>8054</td>\n",
       "      <td>mtcnn_serfiq</td>\n",
       "      <td>QMagFace_SR</td>\n",
       "      <td>ser_fiq</td>\n",
       "      <td>QualityGroup.MEDIUM</td>\n",
       "      <td>0.409552</td>\n",
       "    </tr>\n",
       "  </tbody>\n",
       "</table>\n",
       "<p>86610 rows × 25 columns</p>\n",
       "</div>"
      ],
      "text/plain": [
       "       index identity            pitch angle_pitch          yaw  angle_yaw  \\\n",
       "0       3882      060    Pitch.HALF_UP        None  Yaw.FRONTAL       None   \n",
       "1       3883      030  Pitch.HALF_DOWN        None  Yaw.FRONTAL       None   \n",
       "2       3884      047       Pitch.DOWN        None  Yaw.FRONTAL       None   \n",
       "3       3885      014    Pitch.FRONTAL        None  Yaw.PROFILE       None   \n",
       "4       3886      035    Pitch.FRONTAL        None  Yaw.FRONTAL       None   \n",
       "...      ...      ...              ...         ...          ...        ...   \n",
       "86605   1105   2015-7    Pitch.FRONTAL    0.567765  Yaw.PROFILE -55.055234   \n",
       "86606   1106   2015-1    Pitch.HALF_UP   -13.37915  Yaw.FRONTAL    -7.0075   \n",
       "86607   1107   2015-1    Pitch.FRONTAL   -5.347922  Yaw.FRONTAL  -3.339354   \n",
       "86608   1108  2015-14  Pitch.HALF_DOWN     2.94304  Yaw.PROFILE  44.091928   \n",
       "86609   1109  2015-15       Pitch.DOWN   11.148352  Yaw.PROFILE  56.222591   \n",
       "\n",
       "                    roll angle_roll  source         gender  ...  beard  \\\n",
       "0           Roll.FRONTAL       None  SCFace    Gender.MALE  ...  False   \n",
       "1           Roll.FRONTAL       None  SCFace    Gender.MALE  ...  False   \n",
       "2           Roll.FRONTAL       None  SCFace    Gender.MALE  ...  False   \n",
       "3                   None       None  SCFace  Gender.FEMALE  ...  False   \n",
       "4      Roll.HALF_LEANING       None  SCFace    Gender.MALE  ...   True   \n",
       "...                  ...        ...     ...            ...  ...    ...   \n",
       "86605       Roll.FRONTAL  -3.960244   ENFSI    Gender.MALE  ...   None   \n",
       "86606       Roll.FRONTAL   1.321452   ENFSI  Gender.FEMALE  ...   None   \n",
       "86607       Roll.FRONTAL  -0.575616   ENFSI  Gender.FEMALE  ...   None   \n",
       "86608  Roll.HALF_LEANING    7.73719   ENFSI    Gender.MALE  ...   None   \n",
       "86609  Roll.HALF_LEANING   9.515001   ENFSI    Gender.MALE  ...   None   \n",
       "\n",
       "               emotion  other_occlusions        race image_id      Detector  \\\n",
       "0      Emotion.NEUTRAL              None  Race.WHITE      391  mtcnn_serfiq   \n",
       "1      Emotion.NEUTRAL              None  Race.WHITE      392  mtcnn_serfiq   \n",
       "2      Emotion.NEUTRAL              None  Race.WHITE      393  mtcnn_serfiq   \n",
       "3      Emotion.NEUTRAL              None  Race.WHITE      394  mtcnn_serfiq   \n",
       "4      Emotion.NEUTRAL              None  Race.WHITE      395  mtcnn_serfiq   \n",
       "...                ...               ...         ...      ...           ...   \n",
       "86605     Emotion.FEAR              None  Race.WHITE     6019  mtcnn_serfiq   \n",
       "86606  Emotion.NEUTRAL              None  Race.WHITE     4676  mtcnn_serfiq   \n",
       "86607    Emotion.ANGRY              None  Race.WHITE     4684  mtcnn_serfiq   \n",
       "86608    Emotion.HAPPY              None  Race.WHITE     7712  mtcnn_serfiq   \n",
       "86609  Emotion.NEUTRAL              None  Race.WHITE     8054  mtcnn_serfiq   \n",
       "\n",
       "           E_Model  Q_Model                 Q_group   Quality  \n",
       "0         QMagFace  ser_fiq  QualityGroup.VERY_HIGH  0.820794  \n",
       "1         QMagFace  ser_fiq        QualityGroup.LOW  0.022044  \n",
       "2         QMagFace  ser_fiq  QualityGroup.VERY_HIGH  0.869096  \n",
       "3         QMagFace  ser_fiq        QualityGroup.LOW  0.038777  \n",
       "4         QMagFace  ser_fiq  QualityGroup.VERY_HIGH  0.841657  \n",
       "...            ...      ...                     ...       ...  \n",
       "86605  QMagFace_SR  ser_fiq     QualityGroup.MEDIUM  0.189554  \n",
       "86606  QMagFace_SR  ser_fiq       QualityGroup.HIGH  0.734290  \n",
       "86607  QMagFace_SR  ser_fiq  QualityGroup.VERY_HIGH  0.794687  \n",
       "86608  QMagFace_SR  ser_fiq       QualityGroup.HIGH  0.728360  \n",
       "86609  QMagFace_SR  ser_fiq     QualityGroup.MEDIUM  0.409552  \n",
       "\n",
       "[86610 rows x 25 columns]"
      ]
     },
     "execution_count": 68,
     "metadata": {},
     "output_type": "execute_result"
    }
   ],
   "source": [
    "df3"
   ]
  },
  {
   "attachments": {},
   "cell_type": "markdown",
   "metadata": {},
   "source": [
    "### Convertimos en string los Enums y nos quedamos con las columnas que queremos"
   ]
  },
  {
   "cell_type": "code",
   "execution_count": 69,
   "metadata": {},
   "outputs": [],
   "source": [
    "#df3 = df2.copy()\n",
    "#convertimos a String los Enum\n",
    "variables = ['gender','yaw','pitch','emotion','race']#'Q_group','pitch','roll',\n",
    "#df_plot = df.Quality\n",
    "for var in variables:\n",
    "    df3[var] = df3[var].apply(lambda x: x.value if x else None)\n",
    "\n",
    "\n",
    "variables += ['source','Quality','Detector', 'E_Model','Q_Model']\n",
    "df_plot = df3[variables]"
   ]
  },
  {
   "cell_type": "code",
   "execution_count": 70,
   "metadata": {},
   "outputs": [
    {
     "data": {
      "text/plain": [
       "Index(['index', 'identity', 'pitch', 'angle_pitch', 'yaw', 'angle_yaw', 'roll',\n",
       "       'angle_roll', 'source', 'gender', 'headgear', 'age', 'age_number',\n",
       "       'glasses', 'type', 'beard', 'emotion', 'other_occlusions', 'race',\n",
       "       'image_id', 'Detector', 'E_Model', 'Q_Model', 'Q_group', 'Quality'],\n",
       "      dtype='object')"
      ]
     },
     "execution_count": 70,
     "metadata": {},
     "output_type": "execute_result"
    }
   ],
   "source": [
    "df3.columns"
   ]
  },
  {
   "cell_type": "code",
   "execution_count": 71,
   "metadata": {},
   "outputs": [
    {
     "data": {
      "text/plain": [
       "Index(['gender', 'yaw', 'pitch', 'emotion', 'race', 'source', 'Quality',\n",
       "       'Detector', 'E_Model', 'Q_Model'],\n",
       "      dtype='object')"
      ]
     },
     "execution_count": 71,
     "metadata": {},
     "output_type": "execute_result"
    }
   ],
   "source": [
    "df_plot.columns"
   ]
  },
  {
   "cell_type": "code",
   "execution_count": 72,
   "metadata": {},
   "outputs": [
    {
     "data": {
      "text/plain": [
       "Q_Model  E_Model      Detector      source   \n",
       "ser_fiq  QMagFace     mtcnn_serfiq  UTKface      23955\n",
       "                                    XQLFW        13140\n",
       "                                    SCFace        3841\n",
       "                                    ForenFace     2342\n",
       "                                    ENFSI          158\n",
       "         QMagFace_SR  mtcnn_serfiq  UTKface      23955\n",
       "                                    XQLFW        13140\n",
       "                                    SCFace        3841\n",
       "                                    ForenFace     2080\n",
       "                                    ENFSI          158\n",
       "dtype: int64"
      ]
     },
     "execution_count": 72,
     "metadata": {},
     "output_type": "execute_result"
    }
   ],
   "source": [
    "df_plot[['Q_Model','E_Model','Detector','source']].groupby(['Q_Model','E_Model','Detector']).value_counts()"
   ]
  },
  {
   "attachments": {},
   "cell_type": "markdown",
   "metadata": {},
   "source": [
    "## definimos la función de ploteo\n",
    "-['gender', 'yaw', 'pitch', 'race']"
   ]
  },
  {
   "cell_type": "code",
   "execution_count": 73,
   "metadata": {},
   "outputs": [],
   "source": [
    "def plot_sun(source,e_model):\n",
    "    df_x = df_plot.loc[((df_plot.source==source) & (df_plot.E_Model==e_model))]\n",
    "    df_x.dropna(inplace=True)\n",
    "    fig = px.sunburst(df_x, path=['gender', 'yaw', 'pitch', 'race'],   color=\"Quality\",\n",
    "                  color_continuous_scale=\"Viridis\",\n",
    "                  range_color=[0, 1],title=f'{source}, Model {e_model}') #values=\"gender\"#\"Q_model\", \"Detector\",\n",
    "    #fig.update_layout(title=source)\n",
    "    #img_data = pio.to_image(fig,format='png',scale=3)\n",
    "\n",
    "    pio.write_image(fig,os.path.join(input_dir,source+\"_sunburst_21.png\"),format='png', scale=6)\n",
    "    fig.show()"
   ]
  },
  {
   "cell_type": "code",
   "execution_count": 78,
   "metadata": {},
   "outputs": [],
   "source": [
    "df_y = df_plot.loc[((df_plot.source=='UTKface') & (df_plot.E_Model=='QMagFace_SR'))]"
   ]
  },
  {
   "cell_type": "code",
   "execution_count": 87,
   "metadata": {},
   "outputs": [
    {
     "data": {
      "text/plain": [
       "Man      12496\n",
       "Woman    11459\n",
       "Name: gender, dtype: int64"
      ]
     },
     "execution_count": 87,
     "metadata": {},
     "output_type": "execute_result"
    }
   ],
   "source": [
    "df_y.gender.value_counts()"
   ]
  },
  {
   "attachments": {},
   "cell_type": "markdown",
   "metadata": {},
   "source": [
    "## Definimos las sources que queremos y hacemos el plot (y se gueardan en disco)"
   ]
  },
  {
   "cell_type": "code",
   "execution_count": null,
   "metadata": {},
   "outputs": [],
   "source": [
    "df_y.to_excel('UTKFace_plot.xlsx')"
   ]
  },
  {
   "cell_type": "code",
   "execution_count": 49,
   "metadata": {},
   "outputs": [],
   "source": [
    "sources = [ 'ForenFace', 'LFW', 'SCFace',  'XQLFW']"
   ]
  },
  {
   "cell_type": "code",
   "execution_count": 74,
   "metadata": {},
   "outputs": [
    {
     "data": {
      "application/vnd.plotly.v1+json": {
       "config": {
        "plotlyServerURL": "https://plot.ly"
       },
       "data": [
        {
         "branchvalues": "total",
         "customdata": [
          [
           0.5270025305944172
          ],
          [
           0.5282042452049557
          ],
          [
           0.21376978726468424
          ],
          [
           0.20383446385220336
          ],
          [
           0.6329127640342985
          ],
          [
           0.6186841076750307
          ],
          [
           0.5895305819634149
          ],
          [
           0.590100455991898
          ],
          [
           0.5270025305944172
          ],
          [
           0.5282042452049557
          ],
          [
           0.21376978726468424
          ],
          [
           0.20383446385220336
          ],
          [
           0.6329127640342985
          ],
          [
           0.6186841076750307
          ],
          [
           0.5895305819634149
          ],
          [
           0.590100455991898
          ],
          [
           0.21376978726468424
          ],
          [
           0.20383446385220336
          ],
          [
           0.6329127640342985
          ],
          [
           0.6186841076750307
          ],
          [
           0.5834102321581222
          ],
          [
           0.58432347631845
          ],
          [
           0.5549301432706765
          ],
          [
           0.554830196097491
          ]
         ],
         "domain": {
          "x": [
           0,
           1
          ],
          "y": [
           0,
           1
          ]
         },
         "hovertemplate": "labels=%{label}<br>count=%{value}<br>parent=%{parent}<br>id=%{id}<br>Quality=%{color}<extra></extra>",
         "ids": [
          "Man/straight/slightly_downwards/white",
          "Woman/straight/slightly_downwards/white",
          "Man/sideways/straight/white",
          "Woman/sideways/straight/white",
          "Man/slightly_turned/straight/white",
          "Woman/slightly_turned/straight/white",
          "Man/straight/straight/white",
          "Woman/straight/straight/white",
          "Man/straight/slightly_downwards",
          "Woman/straight/slightly_downwards",
          "Man/sideways/straight",
          "Woman/sideways/straight",
          "Man/slightly_turned/straight",
          "Woman/slightly_turned/straight",
          "Man/straight/straight",
          "Woman/straight/straight",
          "Man/sideways",
          "Woman/sideways",
          "Man/slightly_turned",
          "Woman/slightly_turned",
          "Man/straight",
          "Woman/straight",
          "Man",
          "Woman"
         ],
         "labels": [
          "white",
          "white",
          "white",
          "white",
          "white",
          "white",
          "white",
          "white",
          "slightly_downwards",
          "slightly_downwards",
          "straight",
          "straight",
          "straight",
          "straight",
          "straight",
          "straight",
          "sideways",
          "sideways",
          "slightly_turned",
          "slightly_turned",
          "straight",
          "straight",
          "Man",
          "Woman"
         ],
         "marker": {
          "coloraxis": "coloraxis",
          "colors": [
           0.5270025305944172,
           0.5282042452049557,
           0.21376978726468424,
           0.20383446385220336,
           0.6329127640342985,
           0.6186841076750307,
           0.5895305819634149,
           0.590100455991898,
           0.5270025305944172,
           0.5282042452049557,
           0.21376978726468424,
           0.20383446385220336,
           0.6329127640342985,
           0.6186841076750307,
           0.5895305819634149,
           0.590100455991898,
           0.21376978726468424,
           0.20383446385220336,
           0.6329127640342985,
           0.6186841076750307,
           0.5834102321581222,
           0.58432347631845,
           0.5549301432706765,
           0.554830196097491
          ]
         },
         "name": "",
         "parents": [
          "Man/straight/slightly_downwards",
          "Woman/straight/slightly_downwards",
          "Man/sideways/straight",
          "Woman/sideways/straight",
          "Man/slightly_turned/straight",
          "Woman/slightly_turned/straight",
          "Man/straight/straight",
          "Woman/straight/straight",
          "Man/straight",
          "Woman/straight",
          "Man/sideways",
          "Woman/sideways",
          "Man/slightly_turned",
          "Woman/slightly_turned",
          "Man/straight",
          "Woman/straight",
          "Man",
          "Woman",
          "Man",
          "Woman",
          "Man",
          "Woman",
          "",
          ""
         ],
         "type": "sunburst",
         "values": [
          134,
          21,
          152,
          24,
          165,
          28,
          1235,
          204,
          134,
          21,
          152,
          24,
          165,
          28,
          1235,
          204,
          152,
          24,
          165,
          28,
          1369,
          225,
          1686,
          277
         ]
        }
       ],
       "layout": {
        "coloraxis": {
         "cmax": 1,
         "cmin": 0,
         "colorbar": {
          "title": {
           "text": "Quality"
          }
         },
         "colorscale": [
          [
           0,
           "#440154"
          ],
          [
           0.1111111111111111,
           "#482878"
          ],
          [
           0.2222222222222222,
           "#3e4989"
          ],
          [
           0.3333333333333333,
           "#31688e"
          ],
          [
           0.4444444444444444,
           "#26828e"
          ],
          [
           0.5555555555555556,
           "#1f9e89"
          ],
          [
           0.6666666666666666,
           "#35b779"
          ],
          [
           0.7777777777777778,
           "#6ece58"
          ],
          [
           0.8888888888888888,
           "#b5de2b"
          ],
          [
           1,
           "#fde725"
          ]
         ]
        },
        "legend": {
         "tracegroupgap": 0
        },
        "template": {
         "data": {
          "bar": [
           {
            "error_x": {
             "color": "#2a3f5f"
            },
            "error_y": {
             "color": "#2a3f5f"
            },
            "marker": {
             "line": {
              "color": "#E5ECF6",
              "width": 0.5
             },
             "pattern": {
              "fillmode": "overlay",
              "size": 10,
              "solidity": 0.2
             }
            },
            "type": "bar"
           }
          ],
          "barpolar": [
           {
            "marker": {
             "line": {
              "color": "#E5ECF6",
              "width": 0.5
             },
             "pattern": {
              "fillmode": "overlay",
              "size": 10,
              "solidity": 0.2
             }
            },
            "type": "barpolar"
           }
          ],
          "carpet": [
           {
            "aaxis": {
             "endlinecolor": "#2a3f5f",
             "gridcolor": "white",
             "linecolor": "white",
             "minorgridcolor": "white",
             "startlinecolor": "#2a3f5f"
            },
            "baxis": {
             "endlinecolor": "#2a3f5f",
             "gridcolor": "white",
             "linecolor": "white",
             "minorgridcolor": "white",
             "startlinecolor": "#2a3f5f"
            },
            "type": "carpet"
           }
          ],
          "choropleth": [
           {
            "colorbar": {
             "outlinewidth": 0,
             "ticks": ""
            },
            "type": "choropleth"
           }
          ],
          "contour": [
           {
            "colorbar": {
             "outlinewidth": 0,
             "ticks": ""
            },
            "colorscale": [
             [
              0,
              "#0d0887"
             ],
             [
              0.1111111111111111,
              "#46039f"
             ],
             [
              0.2222222222222222,
              "#7201a8"
             ],
             [
              0.3333333333333333,
              "#9c179e"
             ],
             [
              0.4444444444444444,
              "#bd3786"
             ],
             [
              0.5555555555555556,
              "#d8576b"
             ],
             [
              0.6666666666666666,
              "#ed7953"
             ],
             [
              0.7777777777777778,
              "#fb9f3a"
             ],
             [
              0.8888888888888888,
              "#fdca26"
             ],
             [
              1,
              "#f0f921"
             ]
            ],
            "type": "contour"
           }
          ],
          "contourcarpet": [
           {
            "colorbar": {
             "outlinewidth": 0,
             "ticks": ""
            },
            "type": "contourcarpet"
           }
          ],
          "heatmap": [
           {
            "colorbar": {
             "outlinewidth": 0,
             "ticks": ""
            },
            "colorscale": [
             [
              0,
              "#0d0887"
             ],
             [
              0.1111111111111111,
              "#46039f"
             ],
             [
              0.2222222222222222,
              "#7201a8"
             ],
             [
              0.3333333333333333,
              "#9c179e"
             ],
             [
              0.4444444444444444,
              "#bd3786"
             ],
             [
              0.5555555555555556,
              "#d8576b"
             ],
             [
              0.6666666666666666,
              "#ed7953"
             ],
             [
              0.7777777777777778,
              "#fb9f3a"
             ],
             [
              0.8888888888888888,
              "#fdca26"
             ],
             [
              1,
              "#f0f921"
             ]
            ],
            "type": "heatmap"
           }
          ],
          "heatmapgl": [
           {
            "colorbar": {
             "outlinewidth": 0,
             "ticks": ""
            },
            "colorscale": [
             [
              0,
              "#0d0887"
             ],
             [
              0.1111111111111111,
              "#46039f"
             ],
             [
              0.2222222222222222,
              "#7201a8"
             ],
             [
              0.3333333333333333,
              "#9c179e"
             ],
             [
              0.4444444444444444,
              "#bd3786"
             ],
             [
              0.5555555555555556,
              "#d8576b"
             ],
             [
              0.6666666666666666,
              "#ed7953"
             ],
             [
              0.7777777777777778,
              "#fb9f3a"
             ],
             [
              0.8888888888888888,
              "#fdca26"
             ],
             [
              1,
              "#f0f921"
             ]
            ],
            "type": "heatmapgl"
           }
          ],
          "histogram": [
           {
            "marker": {
             "pattern": {
              "fillmode": "overlay",
              "size": 10,
              "solidity": 0.2
             }
            },
            "type": "histogram"
           }
          ],
          "histogram2d": [
           {
            "colorbar": {
             "outlinewidth": 0,
             "ticks": ""
            },
            "colorscale": [
             [
              0,
              "#0d0887"
             ],
             [
              0.1111111111111111,
              "#46039f"
             ],
             [
              0.2222222222222222,
              "#7201a8"
             ],
             [
              0.3333333333333333,
              "#9c179e"
             ],
             [
              0.4444444444444444,
              "#bd3786"
             ],
             [
              0.5555555555555556,
              "#d8576b"
             ],
             [
              0.6666666666666666,
              "#ed7953"
             ],
             [
              0.7777777777777778,
              "#fb9f3a"
             ],
             [
              0.8888888888888888,
              "#fdca26"
             ],
             [
              1,
              "#f0f921"
             ]
            ],
            "type": "histogram2d"
           }
          ],
          "histogram2dcontour": [
           {
            "colorbar": {
             "outlinewidth": 0,
             "ticks": ""
            },
            "colorscale": [
             [
              0,
              "#0d0887"
             ],
             [
              0.1111111111111111,
              "#46039f"
             ],
             [
              0.2222222222222222,
              "#7201a8"
             ],
             [
              0.3333333333333333,
              "#9c179e"
             ],
             [
              0.4444444444444444,
              "#bd3786"
             ],
             [
              0.5555555555555556,
              "#d8576b"
             ],
             [
              0.6666666666666666,
              "#ed7953"
             ],
             [
              0.7777777777777778,
              "#fb9f3a"
             ],
             [
              0.8888888888888888,
              "#fdca26"
             ],
             [
              1,
              "#f0f921"
             ]
            ],
            "type": "histogram2dcontour"
           }
          ],
          "mesh3d": [
           {
            "colorbar": {
             "outlinewidth": 0,
             "ticks": ""
            },
            "type": "mesh3d"
           }
          ],
          "parcoords": [
           {
            "line": {
             "colorbar": {
              "outlinewidth": 0,
              "ticks": ""
             }
            },
            "type": "parcoords"
           }
          ],
          "pie": [
           {
            "automargin": true,
            "type": "pie"
           }
          ],
          "scatter": [
           {
            "fillpattern": {
             "fillmode": "overlay",
             "size": 10,
             "solidity": 0.2
            },
            "type": "scatter"
           }
          ],
          "scatter3d": [
           {
            "line": {
             "colorbar": {
              "outlinewidth": 0,
              "ticks": ""
             }
            },
            "marker": {
             "colorbar": {
              "outlinewidth": 0,
              "ticks": ""
             }
            },
            "type": "scatter3d"
           }
          ],
          "scattercarpet": [
           {
            "marker": {
             "colorbar": {
              "outlinewidth": 0,
              "ticks": ""
             }
            },
            "type": "scattercarpet"
           }
          ],
          "scattergeo": [
           {
            "marker": {
             "colorbar": {
              "outlinewidth": 0,
              "ticks": ""
             }
            },
            "type": "scattergeo"
           }
          ],
          "scattergl": [
           {
            "marker": {
             "colorbar": {
              "outlinewidth": 0,
              "ticks": ""
             }
            },
            "type": "scattergl"
           }
          ],
          "scattermapbox": [
           {
            "marker": {
             "colorbar": {
              "outlinewidth": 0,
              "ticks": ""
             }
            },
            "type": "scattermapbox"
           }
          ],
          "scatterpolar": [
           {
            "marker": {
             "colorbar": {
              "outlinewidth": 0,
              "ticks": ""
             }
            },
            "type": "scatterpolar"
           }
          ],
          "scatterpolargl": [
           {
            "marker": {
             "colorbar": {
              "outlinewidth": 0,
              "ticks": ""
             }
            },
            "type": "scatterpolargl"
           }
          ],
          "scatterternary": [
           {
            "marker": {
             "colorbar": {
              "outlinewidth": 0,
              "ticks": ""
             }
            },
            "type": "scatterternary"
           }
          ],
          "surface": [
           {
            "colorbar": {
             "outlinewidth": 0,
             "ticks": ""
            },
            "colorscale": [
             [
              0,
              "#0d0887"
             ],
             [
              0.1111111111111111,
              "#46039f"
             ],
             [
              0.2222222222222222,
              "#7201a8"
             ],
             [
              0.3333333333333333,
              "#9c179e"
             ],
             [
              0.4444444444444444,
              "#bd3786"
             ],
             [
              0.5555555555555556,
              "#d8576b"
             ],
             [
              0.6666666666666666,
              "#ed7953"
             ],
             [
              0.7777777777777778,
              "#fb9f3a"
             ],
             [
              0.8888888888888888,
              "#fdca26"
             ],
             [
              1,
              "#f0f921"
             ]
            ],
            "type": "surface"
           }
          ],
          "table": [
           {
            "cells": {
             "fill": {
              "color": "#EBF0F8"
             },
             "line": {
              "color": "white"
             }
            },
            "header": {
             "fill": {
              "color": "#C8D4E3"
             },
             "line": {
              "color": "white"
             }
            },
            "type": "table"
           }
          ]
         },
         "layout": {
          "annotationdefaults": {
           "arrowcolor": "#2a3f5f",
           "arrowhead": 0,
           "arrowwidth": 1
          },
          "autotypenumbers": "strict",
          "coloraxis": {
           "colorbar": {
            "outlinewidth": 0,
            "ticks": ""
           }
          },
          "colorscale": {
           "diverging": [
            [
             0,
             "#8e0152"
            ],
            [
             0.1,
             "#c51b7d"
            ],
            [
             0.2,
             "#de77ae"
            ],
            [
             0.3,
             "#f1b6da"
            ],
            [
             0.4,
             "#fde0ef"
            ],
            [
             0.5,
             "#f7f7f7"
            ],
            [
             0.6,
             "#e6f5d0"
            ],
            [
             0.7,
             "#b8e186"
            ],
            [
             0.8,
             "#7fbc41"
            ],
            [
             0.9,
             "#4d9221"
            ],
            [
             1,
             "#276419"
            ]
           ],
           "sequential": [
            [
             0,
             "#0d0887"
            ],
            [
             0.1111111111111111,
             "#46039f"
            ],
            [
             0.2222222222222222,
             "#7201a8"
            ],
            [
             0.3333333333333333,
             "#9c179e"
            ],
            [
             0.4444444444444444,
             "#bd3786"
            ],
            [
             0.5555555555555556,
             "#d8576b"
            ],
            [
             0.6666666666666666,
             "#ed7953"
            ],
            [
             0.7777777777777778,
             "#fb9f3a"
            ],
            [
             0.8888888888888888,
             "#fdca26"
            ],
            [
             1,
             "#f0f921"
            ]
           ],
           "sequentialminus": [
            [
             0,
             "#0d0887"
            ],
            [
             0.1111111111111111,
             "#46039f"
            ],
            [
             0.2222222222222222,
             "#7201a8"
            ],
            [
             0.3333333333333333,
             "#9c179e"
            ],
            [
             0.4444444444444444,
             "#bd3786"
            ],
            [
             0.5555555555555556,
             "#d8576b"
            ],
            [
             0.6666666666666666,
             "#ed7953"
            ],
            [
             0.7777777777777778,
             "#fb9f3a"
            ],
            [
             0.8888888888888888,
             "#fdca26"
            ],
            [
             1,
             "#f0f921"
            ]
           ]
          },
          "colorway": [
           "#636efa",
           "#EF553B",
           "#00cc96",
           "#ab63fa",
           "#FFA15A",
           "#19d3f3",
           "#FF6692",
           "#B6E880",
           "#FF97FF",
           "#FECB52"
          ],
          "font": {
           "color": "#2a3f5f"
          },
          "geo": {
           "bgcolor": "white",
           "lakecolor": "white",
           "landcolor": "#E5ECF6",
           "showlakes": true,
           "showland": true,
           "subunitcolor": "white"
          },
          "hoverlabel": {
           "align": "left"
          },
          "hovermode": "closest",
          "mapbox": {
           "style": "light"
          },
          "paper_bgcolor": "white",
          "plot_bgcolor": "#E5ECF6",
          "polar": {
           "angularaxis": {
            "gridcolor": "white",
            "linecolor": "white",
            "ticks": ""
           },
           "bgcolor": "#E5ECF6",
           "radialaxis": {
            "gridcolor": "white",
            "linecolor": "white",
            "ticks": ""
           }
          },
          "scene": {
           "xaxis": {
            "backgroundcolor": "#E5ECF6",
            "gridcolor": "white",
            "gridwidth": 2,
            "linecolor": "white",
            "showbackground": true,
            "ticks": "",
            "zerolinecolor": "white"
           },
           "yaxis": {
            "backgroundcolor": "#E5ECF6",
            "gridcolor": "white",
            "gridwidth": 2,
            "linecolor": "white",
            "showbackground": true,
            "ticks": "",
            "zerolinecolor": "white"
           },
           "zaxis": {
            "backgroundcolor": "#E5ECF6",
            "gridcolor": "white",
            "gridwidth": 2,
            "linecolor": "white",
            "showbackground": true,
            "ticks": "",
            "zerolinecolor": "white"
           }
          },
          "shapedefaults": {
           "line": {
            "color": "#2a3f5f"
           }
          },
          "ternary": {
           "aaxis": {
            "gridcolor": "white",
            "linecolor": "white",
            "ticks": ""
           },
           "baxis": {
            "gridcolor": "white",
            "linecolor": "white",
            "ticks": ""
           },
           "bgcolor": "#E5ECF6",
           "caxis": {
            "gridcolor": "white",
            "linecolor": "white",
            "ticks": ""
           }
          },
          "title": {
           "x": 0.05
          },
          "xaxis": {
           "automargin": true,
           "gridcolor": "white",
           "linecolor": "white",
           "ticks": "",
           "title": {
            "standoff": 15
           },
           "zerolinecolor": "white",
           "zerolinewidth": 2
          },
          "yaxis": {
           "automargin": true,
           "gridcolor": "white",
           "linecolor": "white",
           "ticks": "",
           "title": {
            "standoff": 15
           },
           "zerolinecolor": "white",
           "zerolinewidth": 2
          }
         }
        },
        "title": {
         "text": "ForenFace, Model QMagFace_SR"
        }
       }
      },
      "text/html": [
       "<div>                            <div id=\"db1388e2-f9d6-4715-a98a-15b048c21c55\" class=\"plotly-graph-div\" style=\"height:525px; width:100%;\"></div>            <script type=\"text/javascript\">                require([\"plotly\"], function(Plotly) {                    window.PLOTLYENV=window.PLOTLYENV || {};                                    if (document.getElementById(\"db1388e2-f9d6-4715-a98a-15b048c21c55\")) {                    Plotly.newPlot(                        \"db1388e2-f9d6-4715-a98a-15b048c21c55\",                        [{\"branchvalues\":\"total\",\"customdata\":[[0.5270025305944172],[0.5282042452049557],[0.21376978726468424],[0.20383446385220336],[0.6329127640342985],[0.6186841076750307],[0.5895305819634149],[0.590100455991898],[0.5270025305944172],[0.5282042452049557],[0.21376978726468424],[0.20383446385220336],[0.6329127640342985],[0.6186841076750307],[0.5895305819634149],[0.590100455991898],[0.21376978726468424],[0.20383446385220336],[0.6329127640342985],[0.6186841076750307],[0.5834102321581222],[0.58432347631845],[0.5549301432706765],[0.554830196097491]],\"domain\":{\"x\":[0.0,1.0],\"y\":[0.0,1.0]},\"hovertemplate\":\"labels=%{label}<br>count=%{value}<br>parent=%{parent}<br>id=%{id}<br>Quality=%{color}<extra></extra>\",\"ids\":[\"Man/straight/slightly_downwards/white\",\"Woman/straight/slightly_downwards/white\",\"Man/sideways/straight/white\",\"Woman/sideways/straight/white\",\"Man/slightly_turned/straight/white\",\"Woman/slightly_turned/straight/white\",\"Man/straight/straight/white\",\"Woman/straight/straight/white\",\"Man/straight/slightly_downwards\",\"Woman/straight/slightly_downwards\",\"Man/sideways/straight\",\"Woman/sideways/straight\",\"Man/slightly_turned/straight\",\"Woman/slightly_turned/straight\",\"Man/straight/straight\",\"Woman/straight/straight\",\"Man/sideways\",\"Woman/sideways\",\"Man/slightly_turned\",\"Woman/slightly_turned\",\"Man/straight\",\"Woman/straight\",\"Man\",\"Woman\"],\"labels\":[\"white\",\"white\",\"white\",\"white\",\"white\",\"white\",\"white\",\"white\",\"slightly_downwards\",\"slightly_downwards\",\"straight\",\"straight\",\"straight\",\"straight\",\"straight\",\"straight\",\"sideways\",\"sideways\",\"slightly_turned\",\"slightly_turned\",\"straight\",\"straight\",\"Man\",\"Woman\"],\"marker\":{\"coloraxis\":\"coloraxis\",\"colors\":[0.5270025305944172,0.5282042452049557,0.21376978726468424,0.20383446385220336,0.6329127640342985,0.6186841076750307,0.5895305819634149,0.590100455991898,0.5270025305944172,0.5282042452049557,0.21376978726468424,0.20383446385220336,0.6329127640342985,0.6186841076750307,0.5895305819634149,0.590100455991898,0.21376978726468424,0.20383446385220336,0.6329127640342985,0.6186841076750307,0.5834102321581222,0.58432347631845,0.5549301432706765,0.554830196097491]},\"name\":\"\",\"parents\":[\"Man/straight/slightly_downwards\",\"Woman/straight/slightly_downwards\",\"Man/sideways/straight\",\"Woman/sideways/straight\",\"Man/slightly_turned/straight\",\"Woman/slightly_turned/straight\",\"Man/straight/straight\",\"Woman/straight/straight\",\"Man/straight\",\"Woman/straight\",\"Man/sideways\",\"Woman/sideways\",\"Man/slightly_turned\",\"Woman/slightly_turned\",\"Man/straight\",\"Woman/straight\",\"Man\",\"Woman\",\"Man\",\"Woman\",\"Man\",\"Woman\",\"\",\"\"],\"values\":[134,21,152,24,165,28,1235,204,134,21,152,24,165,28,1235,204,152,24,165,28,1369,225,1686,277],\"type\":\"sunburst\"}],                        {\"template\":{\"data\":{\"histogram2dcontour\":[{\"type\":\"histogram2dcontour\",\"colorbar\":{\"outlinewidth\":0,\"ticks\":\"\"},\"colorscale\":[[0.0,\"#0d0887\"],[0.1111111111111111,\"#46039f\"],[0.2222222222222222,\"#7201a8\"],[0.3333333333333333,\"#9c179e\"],[0.4444444444444444,\"#bd3786\"],[0.5555555555555556,\"#d8576b\"],[0.6666666666666666,\"#ed7953\"],[0.7777777777777778,\"#fb9f3a\"],[0.8888888888888888,\"#fdca26\"],[1.0,\"#f0f921\"]]}],\"choropleth\":[{\"type\":\"choropleth\",\"colorbar\":{\"outlinewidth\":0,\"ticks\":\"\"}}],\"histogram2d\":[{\"type\":\"histogram2d\",\"colorbar\":{\"outlinewidth\":0,\"ticks\":\"\"},\"colorscale\":[[0.0,\"#0d0887\"],[0.1111111111111111,\"#46039f\"],[0.2222222222222222,\"#7201a8\"],[0.3333333333333333,\"#9c179e\"],[0.4444444444444444,\"#bd3786\"],[0.5555555555555556,\"#d8576b\"],[0.6666666666666666,\"#ed7953\"],[0.7777777777777778,\"#fb9f3a\"],[0.8888888888888888,\"#fdca26\"],[1.0,\"#f0f921\"]]}],\"heatmap\":[{\"type\":\"heatmap\",\"colorbar\":{\"outlinewidth\":0,\"ticks\":\"\"},\"colorscale\":[[0.0,\"#0d0887\"],[0.1111111111111111,\"#46039f\"],[0.2222222222222222,\"#7201a8\"],[0.3333333333333333,\"#9c179e\"],[0.4444444444444444,\"#bd3786\"],[0.5555555555555556,\"#d8576b\"],[0.6666666666666666,\"#ed7953\"],[0.7777777777777778,\"#fb9f3a\"],[0.8888888888888888,\"#fdca26\"],[1.0,\"#f0f921\"]]}],\"heatmapgl\":[{\"type\":\"heatmapgl\",\"colorbar\":{\"outlinewidth\":0,\"ticks\":\"\"},\"colorscale\":[[0.0,\"#0d0887\"],[0.1111111111111111,\"#46039f\"],[0.2222222222222222,\"#7201a8\"],[0.3333333333333333,\"#9c179e\"],[0.4444444444444444,\"#bd3786\"],[0.5555555555555556,\"#d8576b\"],[0.6666666666666666,\"#ed7953\"],[0.7777777777777778,\"#fb9f3a\"],[0.8888888888888888,\"#fdca26\"],[1.0,\"#f0f921\"]]}],\"contourcarpet\":[{\"type\":\"contourcarpet\",\"colorbar\":{\"outlinewidth\":0,\"ticks\":\"\"}}],\"contour\":[{\"type\":\"contour\",\"colorbar\":{\"outlinewidth\":0,\"ticks\":\"\"},\"colorscale\":[[0.0,\"#0d0887\"],[0.1111111111111111,\"#46039f\"],[0.2222222222222222,\"#7201a8\"],[0.3333333333333333,\"#9c179e\"],[0.4444444444444444,\"#bd3786\"],[0.5555555555555556,\"#d8576b\"],[0.6666666666666666,\"#ed7953\"],[0.7777777777777778,\"#fb9f3a\"],[0.8888888888888888,\"#fdca26\"],[1.0,\"#f0f921\"]]}],\"surface\":[{\"type\":\"surface\",\"colorbar\":{\"outlinewidth\":0,\"ticks\":\"\"},\"colorscale\":[[0.0,\"#0d0887\"],[0.1111111111111111,\"#46039f\"],[0.2222222222222222,\"#7201a8\"],[0.3333333333333333,\"#9c179e\"],[0.4444444444444444,\"#bd3786\"],[0.5555555555555556,\"#d8576b\"],[0.6666666666666666,\"#ed7953\"],[0.7777777777777778,\"#fb9f3a\"],[0.8888888888888888,\"#fdca26\"],[1.0,\"#f0f921\"]]}],\"mesh3d\":[{\"type\":\"mesh3d\",\"colorbar\":{\"outlinewidth\":0,\"ticks\":\"\"}}],\"scatter\":[{\"fillpattern\":{\"fillmode\":\"overlay\",\"size\":10,\"solidity\":0.2},\"type\":\"scatter\"}],\"parcoords\":[{\"type\":\"parcoords\",\"line\":{\"colorbar\":{\"outlinewidth\":0,\"ticks\":\"\"}}}],\"scatterpolargl\":[{\"type\":\"scatterpolargl\",\"marker\":{\"colorbar\":{\"outlinewidth\":0,\"ticks\":\"\"}}}],\"bar\":[{\"error_x\":{\"color\":\"#2a3f5f\"},\"error_y\":{\"color\":\"#2a3f5f\"},\"marker\":{\"line\":{\"color\":\"#E5ECF6\",\"width\":0.5},\"pattern\":{\"fillmode\":\"overlay\",\"size\":10,\"solidity\":0.2}},\"type\":\"bar\"}],\"scattergeo\":[{\"type\":\"scattergeo\",\"marker\":{\"colorbar\":{\"outlinewidth\":0,\"ticks\":\"\"}}}],\"scatterpolar\":[{\"type\":\"scatterpolar\",\"marker\":{\"colorbar\":{\"outlinewidth\":0,\"ticks\":\"\"}}}],\"histogram\":[{\"marker\":{\"pattern\":{\"fillmode\":\"overlay\",\"size\":10,\"solidity\":0.2}},\"type\":\"histogram\"}],\"scattergl\":[{\"type\":\"scattergl\",\"marker\":{\"colorbar\":{\"outlinewidth\":0,\"ticks\":\"\"}}}],\"scatter3d\":[{\"type\":\"scatter3d\",\"line\":{\"colorbar\":{\"outlinewidth\":0,\"ticks\":\"\"}},\"marker\":{\"colorbar\":{\"outlinewidth\":0,\"ticks\":\"\"}}}],\"scattermapbox\":[{\"type\":\"scattermapbox\",\"marker\":{\"colorbar\":{\"outlinewidth\":0,\"ticks\":\"\"}}}],\"scatterternary\":[{\"type\":\"scatterternary\",\"marker\":{\"colorbar\":{\"outlinewidth\":0,\"ticks\":\"\"}}}],\"scattercarpet\":[{\"type\":\"scattercarpet\",\"marker\":{\"colorbar\":{\"outlinewidth\":0,\"ticks\":\"\"}}}],\"carpet\":[{\"aaxis\":{\"endlinecolor\":\"#2a3f5f\",\"gridcolor\":\"white\",\"linecolor\":\"white\",\"minorgridcolor\":\"white\",\"startlinecolor\":\"#2a3f5f\"},\"baxis\":{\"endlinecolor\":\"#2a3f5f\",\"gridcolor\":\"white\",\"linecolor\":\"white\",\"minorgridcolor\":\"white\",\"startlinecolor\":\"#2a3f5f\"},\"type\":\"carpet\"}],\"table\":[{\"cells\":{\"fill\":{\"color\":\"#EBF0F8\"},\"line\":{\"color\":\"white\"}},\"header\":{\"fill\":{\"color\":\"#C8D4E3\"},\"line\":{\"color\":\"white\"}},\"type\":\"table\"}],\"barpolar\":[{\"marker\":{\"line\":{\"color\":\"#E5ECF6\",\"width\":0.5},\"pattern\":{\"fillmode\":\"overlay\",\"size\":10,\"solidity\":0.2}},\"type\":\"barpolar\"}],\"pie\":[{\"automargin\":true,\"type\":\"pie\"}]},\"layout\":{\"autotypenumbers\":\"strict\",\"colorway\":[\"#636efa\",\"#EF553B\",\"#00cc96\",\"#ab63fa\",\"#FFA15A\",\"#19d3f3\",\"#FF6692\",\"#B6E880\",\"#FF97FF\",\"#FECB52\"],\"font\":{\"color\":\"#2a3f5f\"},\"hovermode\":\"closest\",\"hoverlabel\":{\"align\":\"left\"},\"paper_bgcolor\":\"white\",\"plot_bgcolor\":\"#E5ECF6\",\"polar\":{\"bgcolor\":\"#E5ECF6\",\"angularaxis\":{\"gridcolor\":\"white\",\"linecolor\":\"white\",\"ticks\":\"\"},\"radialaxis\":{\"gridcolor\":\"white\",\"linecolor\":\"white\",\"ticks\":\"\"}},\"ternary\":{\"bgcolor\":\"#E5ECF6\",\"aaxis\":{\"gridcolor\":\"white\",\"linecolor\":\"white\",\"ticks\":\"\"},\"baxis\":{\"gridcolor\":\"white\",\"linecolor\":\"white\",\"ticks\":\"\"},\"caxis\":{\"gridcolor\":\"white\",\"linecolor\":\"white\",\"ticks\":\"\"}},\"coloraxis\":{\"colorbar\":{\"outlinewidth\":0,\"ticks\":\"\"}},\"colorscale\":{\"sequential\":[[0.0,\"#0d0887\"],[0.1111111111111111,\"#46039f\"],[0.2222222222222222,\"#7201a8\"],[0.3333333333333333,\"#9c179e\"],[0.4444444444444444,\"#bd3786\"],[0.5555555555555556,\"#d8576b\"],[0.6666666666666666,\"#ed7953\"],[0.7777777777777778,\"#fb9f3a\"],[0.8888888888888888,\"#fdca26\"],[1.0,\"#f0f921\"]],\"sequentialminus\":[[0.0,\"#0d0887\"],[0.1111111111111111,\"#46039f\"],[0.2222222222222222,\"#7201a8\"],[0.3333333333333333,\"#9c179e\"],[0.4444444444444444,\"#bd3786\"],[0.5555555555555556,\"#d8576b\"],[0.6666666666666666,\"#ed7953\"],[0.7777777777777778,\"#fb9f3a\"],[0.8888888888888888,\"#fdca26\"],[1.0,\"#f0f921\"]],\"diverging\":[[0,\"#8e0152\"],[0.1,\"#c51b7d\"],[0.2,\"#de77ae\"],[0.3,\"#f1b6da\"],[0.4,\"#fde0ef\"],[0.5,\"#f7f7f7\"],[0.6,\"#e6f5d0\"],[0.7,\"#b8e186\"],[0.8,\"#7fbc41\"],[0.9,\"#4d9221\"],[1,\"#276419\"]]},\"xaxis\":{\"gridcolor\":\"white\",\"linecolor\":\"white\",\"ticks\":\"\",\"title\":{\"standoff\":15},\"zerolinecolor\":\"white\",\"automargin\":true,\"zerolinewidth\":2},\"yaxis\":{\"gridcolor\":\"white\",\"linecolor\":\"white\",\"ticks\":\"\",\"title\":{\"standoff\":15},\"zerolinecolor\":\"white\",\"automargin\":true,\"zerolinewidth\":2},\"scene\":{\"xaxis\":{\"backgroundcolor\":\"#E5ECF6\",\"gridcolor\":\"white\",\"linecolor\":\"white\",\"showbackground\":true,\"ticks\":\"\",\"zerolinecolor\":\"white\",\"gridwidth\":2},\"yaxis\":{\"backgroundcolor\":\"#E5ECF6\",\"gridcolor\":\"white\",\"linecolor\":\"white\",\"showbackground\":true,\"ticks\":\"\",\"zerolinecolor\":\"white\",\"gridwidth\":2},\"zaxis\":{\"backgroundcolor\":\"#E5ECF6\",\"gridcolor\":\"white\",\"linecolor\":\"white\",\"showbackground\":true,\"ticks\":\"\",\"zerolinecolor\":\"white\",\"gridwidth\":2}},\"shapedefaults\":{\"line\":{\"color\":\"#2a3f5f\"}},\"annotationdefaults\":{\"arrowcolor\":\"#2a3f5f\",\"arrowhead\":0,\"arrowwidth\":1},\"geo\":{\"bgcolor\":\"white\",\"landcolor\":\"#E5ECF6\",\"subunitcolor\":\"white\",\"showland\":true,\"showlakes\":true,\"lakecolor\":\"white\"},\"title\":{\"x\":0.05},\"mapbox\":{\"style\":\"light\"}}},\"coloraxis\":{\"colorbar\":{\"title\":{\"text\":\"Quality\"}},\"colorscale\":[[0.0,\"#440154\"],[0.1111111111111111,\"#482878\"],[0.2222222222222222,\"#3e4989\"],[0.3333333333333333,\"#31688e\"],[0.4444444444444444,\"#26828e\"],[0.5555555555555556,\"#1f9e89\"],[0.6666666666666666,\"#35b779\"],[0.7777777777777778,\"#6ece58\"],[0.8888888888888888,\"#b5de2b\"],[1.0,\"#fde725\"]],\"cmin\":0,\"cmax\":1},\"legend\":{\"tracegroupgap\":0},\"title\":{\"text\":\"ForenFace, Model QMagFace_SR\"}},                        {\"responsive\": true}                    ).then(function(){\n",
       "                            \n",
       "var gd = document.getElementById('db1388e2-f9d6-4715-a98a-15b048c21c55');\n",
       "var x = new MutationObserver(function (mutations, observer) {{\n",
       "        var display = window.getComputedStyle(gd).display;\n",
       "        if (!display || display === 'none') {{\n",
       "            console.log([gd, 'removed!']);\n",
       "            Plotly.purge(gd);\n",
       "            observer.disconnect();\n",
       "        }}\n",
       "}});\n",
       "\n",
       "// Listen for the removal of the full notebook cells\n",
       "var notebookContainer = gd.closest('#notebook-container');\n",
       "if (notebookContainer) {{\n",
       "    x.observe(notebookContainer, {childList: true});\n",
       "}}\n",
       "\n",
       "// Listen for the clearing of the current output cell\n",
       "var outputEl = gd.closest('.output');\n",
       "if (outputEl) {{\n",
       "    x.observe(outputEl, {childList: true});\n",
       "}}\n",
       "\n",
       "                        })                };                });            </script>        </div>"
      ]
     },
     "metadata": {},
     "output_type": "display_data"
    }
   ],
   "source": [
    "plot_sun('ForenFace','QMagFace_SR')"
   ]
  },
  {
   "cell_type": "code",
   "execution_count": 75,
   "metadata": {},
   "outputs": [
    {
     "data": {
      "application/vnd.plotly.v1+json": {
       "config": {
        "plotlyServerURL": "https://plot.ly"
       },
       "data": [
        {
         "branchvalues": "total",
         "customdata": [
          [
           0.3679764630661976
          ],
          [
           0.7442673594883648
          ],
          [
           0.3965098209328211
          ],
          [
           0.7382863973026769
          ],
          [
           0.7573582386683911
          ],
          [
           0.7800381352093095
          ],
          [
           0.9237140210593584
          ],
          [
           0.9202831101562335
          ],
          [
           0.44193867737948805
          ],
          [
           0.32261927895581766
          ],
          [
           0.3887617427557184
          ],
          [
           0.6887166381402212
          ],
          [
           0.502325434054673
          ],
          [
           0.5155089138627181
          ],
          [
           0.733805159098419
          ],
          [
           0.8713675175377625
          ],
          [
           0.8024878575368918
          ],
          [
           0.6261117266677051
          ],
          [
           0.8121737344146313
          ],
          [
           0.6379475418481688
          ],
          [
           0.8573006767804419
          ],
          [
           0.8093990985521343
          ],
          [
           0.6197702790307908
          ],
          [
           0.7865691010238739
          ],
          [
           0.7616009753030466
          ],
          [
           0.7674433758623967
          ],
          [
           0.8535287005486549
          ],
          [
           0.6126201291792976
          ],
          [
           0.512214114185087
          ],
          [
           0.7911167048010407
          ],
          [
           0.47993393888992714
          ],
          [
           0.5155089138627181
          ],
          [
           0.733805159098419
          ],
          [
           0.839592478025413
          ],
          [
           0.8024878575368918
          ],
          [
           0.5728631498606304
          ],
          [
           0.7973962669922404
          ],
          [
           0.6201368540234298
          ],
          [
           0.8573006767804419
          ],
          [
           0.8093990985521343
          ],
          [
           0.5964896605015295
          ],
          [
           0.7865691010238739
          ],
          [
           0.7616009753030466
          ],
          [
           0.7561966990449431
          ],
          [
           0.8535287005486549
          ],
          [
           0.6126201291792976
          ],
          [
           0.512214114185087
          ],
          [
           0.9237140210593584
          ],
          [
           0.8556999074786371
          ],
          [
           0.5411519300060331
          ],
          [
           0.6055877429433008
          ],
          [
           0.7951802826909677
          ],
          [
           0.7976669410850513
          ],
          [
           0.829736089296584
          ],
          [
           0.6108444399509154
          ],
          [
           0.6616248295316216
          ]
         ],
         "domain": {
          "x": [
           0,
           1
          ],
          "y": [
           0,
           1
          ]
         },
         "hovertemplate": "labels=%{label}<br>count=%{value}<br>parent=%{parent}<br>id=%{id}<br>Quality=%{color}<extra></extra>",
         "ids": [
          "Man/sideways/downwards/asian",
          "Man/straight/downwards/asian",
          "Man/sideways/slightly_downwards/asian",
          "Man/straight/slightly_downwards/asian",
          "Man/sideways/slightly_upwards/asian",
          "Man/sideways/straight/asian",
          "Man/slightly_turned/upwards/asian",
          "Man/straight/upwards/asian",
          "Man/sideways/slightly_downwards/middle eastern",
          "Man/sideways/slightly_upwards/middle eastern",
          "Man/sideways/straight/middle eastern",
          "Man/straight/straight/middle eastern",
          "Man/sideways/downwards/white",
          "Woman/sideways/downwards/white",
          "Man/slightly_turned/downwards/white",
          "Man/straight/downwards/white",
          "Woman/straight/downwards/white",
          "Man/sideways/slightly_downwards/white",
          "Man/straight/slightly_downwards/white",
          "Man/sideways/slightly_upwards/white",
          "Man/straight/slightly_upwards/white",
          "Woman/straight/slightly_upwards/white",
          "Man/sideways/straight/white",
          "Woman/sideways/straight/white",
          "Man/slightly_turned/straight/white",
          "Man/straight/straight/white",
          "Woman/straight/straight/white",
          "Man/sideways/upwards/white",
          "Woman/sideways/upwards/white",
          "Man/straight/upwards/white",
          "Man/sideways/downwards",
          "Woman/sideways/downwards",
          "Man/slightly_turned/downwards",
          "Man/straight/downwards",
          "Woman/straight/downwards",
          "Man/sideways/slightly_downwards",
          "Man/straight/slightly_downwards",
          "Man/sideways/slightly_upwards",
          "Man/straight/slightly_upwards",
          "Woman/straight/slightly_upwards",
          "Man/sideways/straight",
          "Woman/sideways/straight",
          "Man/slightly_turned/straight",
          "Man/straight/straight",
          "Woman/straight/straight",
          "Man/sideways/upwards",
          "Woman/sideways/upwards",
          "Man/slightly_turned/upwards",
          "Man/straight/upwards",
          "Man/sideways",
          "Woman/sideways",
          "Man/slightly_turned",
          "Man/straight",
          "Woman/straight",
          "Man",
          "Woman"
         ],
         "labels": [
          "asian",
          "asian",
          "asian",
          "asian",
          "asian",
          "asian",
          "asian",
          "asian",
          "middle eastern",
          "middle eastern",
          "middle eastern",
          "middle eastern",
          "white",
          "white",
          "white",
          "white",
          "white",
          "white",
          "white",
          "white",
          "white",
          "white",
          "white",
          "white",
          "white",
          "white",
          "white",
          "white",
          "white",
          "white",
          "downwards",
          "downwards",
          "downwards",
          "downwards",
          "downwards",
          "slightly_downwards",
          "slightly_downwards",
          "slightly_upwards",
          "slightly_upwards",
          "slightly_upwards",
          "straight",
          "straight",
          "straight",
          "straight",
          "straight",
          "upwards",
          "upwards",
          "upwards",
          "upwards",
          "sideways",
          "sideways",
          "slightly_turned",
          "straight",
          "straight",
          "Man",
          "Woman"
         ],
         "marker": {
          "coloraxis": "coloraxis",
          "colors": [
           0.3679764630661976,
           0.7442673594883648,
           0.3965098209328211,
           0.7382863973026769,
           0.7573582386683911,
           0.7800381352093095,
           0.9237140210593584,
           0.9202831101562335,
           0.44193867737948805,
           0.32261927895581766,
           0.3887617427557184,
           0.6887166381402212,
           0.502325434054673,
           0.5155089138627181,
           0.733805159098419,
           0.8713675175377625,
           0.8024878575368918,
           0.6261117266677051,
           0.8121737344146313,
           0.6379475418481688,
           0.8573006767804419,
           0.8093990985521343,
           0.6197702790307908,
           0.7865691010238739,
           0.7616009753030466,
           0.7674433758623967,
           0.8535287005486549,
           0.6126201291792976,
           0.512214114185087,
           0.7911167048010407,
           0.47993393888992714,
           0.5155089138627181,
           0.733805159098419,
           0.839592478025413,
           0.8024878575368918,
           0.5728631498606304,
           0.7973962669922404,
           0.6201368540234298,
           0.8573006767804419,
           0.8093990985521343,
           0.5964896605015295,
           0.7865691010238739,
           0.7616009753030466,
           0.7561966990449431,
           0.8535287005486549,
           0.6126201291792976,
           0.512214114185087,
           0.9237140210593584,
           0.8556999074786371,
           0.5411519300060331,
           0.6055877429433008,
           0.7951802826909677,
           0.7976669410850513,
           0.829736089296584,
           0.6108444399509154,
           0.6616248295316216
          ]
         },
         "name": "",
         "parents": [
          "Man/sideways/downwards",
          "Man/straight/downwards",
          "Man/sideways/slightly_downwards",
          "Man/straight/slightly_downwards",
          "Man/sideways/slightly_upwards",
          "Man/sideways/straight",
          "Man/slightly_turned/upwards",
          "Man/straight/upwards",
          "Man/sideways/slightly_downwards",
          "Man/sideways/slightly_upwards",
          "Man/sideways/straight",
          "Man/straight/straight",
          "Man/sideways/downwards",
          "Woman/sideways/downwards",
          "Man/slightly_turned/downwards",
          "Man/straight/downwards",
          "Woman/straight/downwards",
          "Man/sideways/slightly_downwards",
          "Man/straight/slightly_downwards",
          "Man/sideways/slightly_upwards",
          "Man/straight/slightly_upwards",
          "Woman/straight/slightly_upwards",
          "Man/sideways/straight",
          "Woman/sideways/straight",
          "Man/slightly_turned/straight",
          "Man/straight/straight",
          "Woman/straight/straight",
          "Man/sideways/upwards",
          "Woman/sideways/upwards",
          "Man/straight/upwards",
          "Man/sideways",
          "Woman/sideways",
          "Man/slightly_turned",
          "Man/straight",
          "Woman/straight",
          "Man/sideways",
          "Man/straight",
          "Man/sideways",
          "Man/straight",
          "Woman/straight",
          "Man/sideways",
          "Woman/sideways",
          "Man/slightly_turned",
          "Man/straight",
          "Woman/straight",
          "Man/sideways",
          "Woman/sideways",
          "Man/slightly_turned",
          "Man/straight",
          "Man",
          "Woman",
          "Man",
          "Man",
          "Woman",
          "",
          ""
         ],
         "type": "sunburst",
         "values": [
          7,
          1,
          2,
          1,
          1,
          2,
          1,
          1,
          3,
          1,
          3,
          2,
          35,
          7,
          1,
          3,
          1,
          14,
          4,
          9,
          5,
          1,
          11,
          4,
          2,
          12,
          2,
          3,
          1,
          1,
          42,
          7,
          1,
          4,
          1,
          19,
          5,
          11,
          5,
          1,
          16,
          4,
          2,
          14,
          2,
          3,
          1,
          1,
          2,
          91,
          12,
          4,
          30,
          4,
          125,
          16
         ]
        }
       ],
       "layout": {
        "coloraxis": {
         "cmax": 1,
         "cmin": 0,
         "colorbar": {
          "title": {
           "text": "Quality"
          }
         },
         "colorscale": [
          [
           0,
           "#440154"
          ],
          [
           0.1111111111111111,
           "#482878"
          ],
          [
           0.2222222222222222,
           "#3e4989"
          ],
          [
           0.3333333333333333,
           "#31688e"
          ],
          [
           0.4444444444444444,
           "#26828e"
          ],
          [
           0.5555555555555556,
           "#1f9e89"
          ],
          [
           0.6666666666666666,
           "#35b779"
          ],
          [
           0.7777777777777778,
           "#6ece58"
          ],
          [
           0.8888888888888888,
           "#b5de2b"
          ],
          [
           1,
           "#fde725"
          ]
         ]
        },
        "legend": {
         "tracegroupgap": 0
        },
        "template": {
         "data": {
          "bar": [
           {
            "error_x": {
             "color": "#2a3f5f"
            },
            "error_y": {
             "color": "#2a3f5f"
            },
            "marker": {
             "line": {
              "color": "#E5ECF6",
              "width": 0.5
             },
             "pattern": {
              "fillmode": "overlay",
              "size": 10,
              "solidity": 0.2
             }
            },
            "type": "bar"
           }
          ],
          "barpolar": [
           {
            "marker": {
             "line": {
              "color": "#E5ECF6",
              "width": 0.5
             },
             "pattern": {
              "fillmode": "overlay",
              "size": 10,
              "solidity": 0.2
             }
            },
            "type": "barpolar"
           }
          ],
          "carpet": [
           {
            "aaxis": {
             "endlinecolor": "#2a3f5f",
             "gridcolor": "white",
             "linecolor": "white",
             "minorgridcolor": "white",
             "startlinecolor": "#2a3f5f"
            },
            "baxis": {
             "endlinecolor": "#2a3f5f",
             "gridcolor": "white",
             "linecolor": "white",
             "minorgridcolor": "white",
             "startlinecolor": "#2a3f5f"
            },
            "type": "carpet"
           }
          ],
          "choropleth": [
           {
            "colorbar": {
             "outlinewidth": 0,
             "ticks": ""
            },
            "type": "choropleth"
           }
          ],
          "contour": [
           {
            "colorbar": {
             "outlinewidth": 0,
             "ticks": ""
            },
            "colorscale": [
             [
              0,
              "#0d0887"
             ],
             [
              0.1111111111111111,
              "#46039f"
             ],
             [
              0.2222222222222222,
              "#7201a8"
             ],
             [
              0.3333333333333333,
              "#9c179e"
             ],
             [
              0.4444444444444444,
              "#bd3786"
             ],
             [
              0.5555555555555556,
              "#d8576b"
             ],
             [
              0.6666666666666666,
              "#ed7953"
             ],
             [
              0.7777777777777778,
              "#fb9f3a"
             ],
             [
              0.8888888888888888,
              "#fdca26"
             ],
             [
              1,
              "#f0f921"
             ]
            ],
            "type": "contour"
           }
          ],
          "contourcarpet": [
           {
            "colorbar": {
             "outlinewidth": 0,
             "ticks": ""
            },
            "type": "contourcarpet"
           }
          ],
          "heatmap": [
           {
            "colorbar": {
             "outlinewidth": 0,
             "ticks": ""
            },
            "colorscale": [
             [
              0,
              "#0d0887"
             ],
             [
              0.1111111111111111,
              "#46039f"
             ],
             [
              0.2222222222222222,
              "#7201a8"
             ],
             [
              0.3333333333333333,
              "#9c179e"
             ],
             [
              0.4444444444444444,
              "#bd3786"
             ],
             [
              0.5555555555555556,
              "#d8576b"
             ],
             [
              0.6666666666666666,
              "#ed7953"
             ],
             [
              0.7777777777777778,
              "#fb9f3a"
             ],
             [
              0.8888888888888888,
              "#fdca26"
             ],
             [
              1,
              "#f0f921"
             ]
            ],
            "type": "heatmap"
           }
          ],
          "heatmapgl": [
           {
            "colorbar": {
             "outlinewidth": 0,
             "ticks": ""
            },
            "colorscale": [
             [
              0,
              "#0d0887"
             ],
             [
              0.1111111111111111,
              "#46039f"
             ],
             [
              0.2222222222222222,
              "#7201a8"
             ],
             [
              0.3333333333333333,
              "#9c179e"
             ],
             [
              0.4444444444444444,
              "#bd3786"
             ],
             [
              0.5555555555555556,
              "#d8576b"
             ],
             [
              0.6666666666666666,
              "#ed7953"
             ],
             [
              0.7777777777777778,
              "#fb9f3a"
             ],
             [
              0.8888888888888888,
              "#fdca26"
             ],
             [
              1,
              "#f0f921"
             ]
            ],
            "type": "heatmapgl"
           }
          ],
          "histogram": [
           {
            "marker": {
             "pattern": {
              "fillmode": "overlay",
              "size": 10,
              "solidity": 0.2
             }
            },
            "type": "histogram"
           }
          ],
          "histogram2d": [
           {
            "colorbar": {
             "outlinewidth": 0,
             "ticks": ""
            },
            "colorscale": [
             [
              0,
              "#0d0887"
             ],
             [
              0.1111111111111111,
              "#46039f"
             ],
             [
              0.2222222222222222,
              "#7201a8"
             ],
             [
              0.3333333333333333,
              "#9c179e"
             ],
             [
              0.4444444444444444,
              "#bd3786"
             ],
             [
              0.5555555555555556,
              "#d8576b"
             ],
             [
              0.6666666666666666,
              "#ed7953"
             ],
             [
              0.7777777777777778,
              "#fb9f3a"
             ],
             [
              0.8888888888888888,
              "#fdca26"
             ],
             [
              1,
              "#f0f921"
             ]
            ],
            "type": "histogram2d"
           }
          ],
          "histogram2dcontour": [
           {
            "colorbar": {
             "outlinewidth": 0,
             "ticks": ""
            },
            "colorscale": [
             [
              0,
              "#0d0887"
             ],
             [
              0.1111111111111111,
              "#46039f"
             ],
             [
              0.2222222222222222,
              "#7201a8"
             ],
             [
              0.3333333333333333,
              "#9c179e"
             ],
             [
              0.4444444444444444,
              "#bd3786"
             ],
             [
              0.5555555555555556,
              "#d8576b"
             ],
             [
              0.6666666666666666,
              "#ed7953"
             ],
             [
              0.7777777777777778,
              "#fb9f3a"
             ],
             [
              0.8888888888888888,
              "#fdca26"
             ],
             [
              1,
              "#f0f921"
             ]
            ],
            "type": "histogram2dcontour"
           }
          ],
          "mesh3d": [
           {
            "colorbar": {
             "outlinewidth": 0,
             "ticks": ""
            },
            "type": "mesh3d"
           }
          ],
          "parcoords": [
           {
            "line": {
             "colorbar": {
              "outlinewidth": 0,
              "ticks": ""
             }
            },
            "type": "parcoords"
           }
          ],
          "pie": [
           {
            "automargin": true,
            "type": "pie"
           }
          ],
          "scatter": [
           {
            "fillpattern": {
             "fillmode": "overlay",
             "size": 10,
             "solidity": 0.2
            },
            "type": "scatter"
           }
          ],
          "scatter3d": [
           {
            "line": {
             "colorbar": {
              "outlinewidth": 0,
              "ticks": ""
             }
            },
            "marker": {
             "colorbar": {
              "outlinewidth": 0,
              "ticks": ""
             }
            },
            "type": "scatter3d"
           }
          ],
          "scattercarpet": [
           {
            "marker": {
             "colorbar": {
              "outlinewidth": 0,
              "ticks": ""
             }
            },
            "type": "scattercarpet"
           }
          ],
          "scattergeo": [
           {
            "marker": {
             "colorbar": {
              "outlinewidth": 0,
              "ticks": ""
             }
            },
            "type": "scattergeo"
           }
          ],
          "scattergl": [
           {
            "marker": {
             "colorbar": {
              "outlinewidth": 0,
              "ticks": ""
             }
            },
            "type": "scattergl"
           }
          ],
          "scattermapbox": [
           {
            "marker": {
             "colorbar": {
              "outlinewidth": 0,
              "ticks": ""
             }
            },
            "type": "scattermapbox"
           }
          ],
          "scatterpolar": [
           {
            "marker": {
             "colorbar": {
              "outlinewidth": 0,
              "ticks": ""
             }
            },
            "type": "scatterpolar"
           }
          ],
          "scatterpolargl": [
           {
            "marker": {
             "colorbar": {
              "outlinewidth": 0,
              "ticks": ""
             }
            },
            "type": "scatterpolargl"
           }
          ],
          "scatterternary": [
           {
            "marker": {
             "colorbar": {
              "outlinewidth": 0,
              "ticks": ""
             }
            },
            "type": "scatterternary"
           }
          ],
          "surface": [
           {
            "colorbar": {
             "outlinewidth": 0,
             "ticks": ""
            },
            "colorscale": [
             [
              0,
              "#0d0887"
             ],
             [
              0.1111111111111111,
              "#46039f"
             ],
             [
              0.2222222222222222,
              "#7201a8"
             ],
             [
              0.3333333333333333,
              "#9c179e"
             ],
             [
              0.4444444444444444,
              "#bd3786"
             ],
             [
              0.5555555555555556,
              "#d8576b"
             ],
             [
              0.6666666666666666,
              "#ed7953"
             ],
             [
              0.7777777777777778,
              "#fb9f3a"
             ],
             [
              0.8888888888888888,
              "#fdca26"
             ],
             [
              1,
              "#f0f921"
             ]
            ],
            "type": "surface"
           }
          ],
          "table": [
           {
            "cells": {
             "fill": {
              "color": "#EBF0F8"
             },
             "line": {
              "color": "white"
             }
            },
            "header": {
             "fill": {
              "color": "#C8D4E3"
             },
             "line": {
              "color": "white"
             }
            },
            "type": "table"
           }
          ]
         },
         "layout": {
          "annotationdefaults": {
           "arrowcolor": "#2a3f5f",
           "arrowhead": 0,
           "arrowwidth": 1
          },
          "autotypenumbers": "strict",
          "coloraxis": {
           "colorbar": {
            "outlinewidth": 0,
            "ticks": ""
           }
          },
          "colorscale": {
           "diverging": [
            [
             0,
             "#8e0152"
            ],
            [
             0.1,
             "#c51b7d"
            ],
            [
             0.2,
             "#de77ae"
            ],
            [
             0.3,
             "#f1b6da"
            ],
            [
             0.4,
             "#fde0ef"
            ],
            [
             0.5,
             "#f7f7f7"
            ],
            [
             0.6,
             "#e6f5d0"
            ],
            [
             0.7,
             "#b8e186"
            ],
            [
             0.8,
             "#7fbc41"
            ],
            [
             0.9,
             "#4d9221"
            ],
            [
             1,
             "#276419"
            ]
           ],
           "sequential": [
            [
             0,
             "#0d0887"
            ],
            [
             0.1111111111111111,
             "#46039f"
            ],
            [
             0.2222222222222222,
             "#7201a8"
            ],
            [
             0.3333333333333333,
             "#9c179e"
            ],
            [
             0.4444444444444444,
             "#bd3786"
            ],
            [
             0.5555555555555556,
             "#d8576b"
            ],
            [
             0.6666666666666666,
             "#ed7953"
            ],
            [
             0.7777777777777778,
             "#fb9f3a"
            ],
            [
             0.8888888888888888,
             "#fdca26"
            ],
            [
             1,
             "#f0f921"
            ]
           ],
           "sequentialminus": [
            [
             0,
             "#0d0887"
            ],
            [
             0.1111111111111111,
             "#46039f"
            ],
            [
             0.2222222222222222,
             "#7201a8"
            ],
            [
             0.3333333333333333,
             "#9c179e"
            ],
            [
             0.4444444444444444,
             "#bd3786"
            ],
            [
             0.5555555555555556,
             "#d8576b"
            ],
            [
             0.6666666666666666,
             "#ed7953"
            ],
            [
             0.7777777777777778,
             "#fb9f3a"
            ],
            [
             0.8888888888888888,
             "#fdca26"
            ],
            [
             1,
             "#f0f921"
            ]
           ]
          },
          "colorway": [
           "#636efa",
           "#EF553B",
           "#00cc96",
           "#ab63fa",
           "#FFA15A",
           "#19d3f3",
           "#FF6692",
           "#B6E880",
           "#FF97FF",
           "#FECB52"
          ],
          "font": {
           "color": "#2a3f5f"
          },
          "geo": {
           "bgcolor": "white",
           "lakecolor": "white",
           "landcolor": "#E5ECF6",
           "showlakes": true,
           "showland": true,
           "subunitcolor": "white"
          },
          "hoverlabel": {
           "align": "left"
          },
          "hovermode": "closest",
          "mapbox": {
           "style": "light"
          },
          "paper_bgcolor": "white",
          "plot_bgcolor": "#E5ECF6",
          "polar": {
           "angularaxis": {
            "gridcolor": "white",
            "linecolor": "white",
            "ticks": ""
           },
           "bgcolor": "#E5ECF6",
           "radialaxis": {
            "gridcolor": "white",
            "linecolor": "white",
            "ticks": ""
           }
          },
          "scene": {
           "xaxis": {
            "backgroundcolor": "#E5ECF6",
            "gridcolor": "white",
            "gridwidth": 2,
            "linecolor": "white",
            "showbackground": true,
            "ticks": "",
            "zerolinecolor": "white"
           },
           "yaxis": {
            "backgroundcolor": "#E5ECF6",
            "gridcolor": "white",
            "gridwidth": 2,
            "linecolor": "white",
            "showbackground": true,
            "ticks": "",
            "zerolinecolor": "white"
           },
           "zaxis": {
            "backgroundcolor": "#E5ECF6",
            "gridcolor": "white",
            "gridwidth": 2,
            "linecolor": "white",
            "showbackground": true,
            "ticks": "",
            "zerolinecolor": "white"
           }
          },
          "shapedefaults": {
           "line": {
            "color": "#2a3f5f"
           }
          },
          "ternary": {
           "aaxis": {
            "gridcolor": "white",
            "linecolor": "white",
            "ticks": ""
           },
           "baxis": {
            "gridcolor": "white",
            "linecolor": "white",
            "ticks": ""
           },
           "bgcolor": "#E5ECF6",
           "caxis": {
            "gridcolor": "white",
            "linecolor": "white",
            "ticks": ""
           }
          },
          "title": {
           "x": 0.05
          },
          "xaxis": {
           "automargin": true,
           "gridcolor": "white",
           "linecolor": "white",
           "ticks": "",
           "title": {
            "standoff": 15
           },
           "zerolinecolor": "white",
           "zerolinewidth": 2
          },
          "yaxis": {
           "automargin": true,
           "gridcolor": "white",
           "linecolor": "white",
           "ticks": "",
           "title": {
            "standoff": 15
           },
           "zerolinecolor": "white",
           "zerolinewidth": 2
          }
         }
        },
        "title": {
         "text": "ENFSI, Model QMagFace"
        }
       }
      },
      "text/html": [
       "<div>                            <div id=\"5ef66b39-a754-45b1-9ad7-67da1ca020fb\" class=\"plotly-graph-div\" style=\"height:525px; width:100%;\"></div>            <script type=\"text/javascript\">                require([\"plotly\"], function(Plotly) {                    window.PLOTLYENV=window.PLOTLYENV || {};                                    if (document.getElementById(\"5ef66b39-a754-45b1-9ad7-67da1ca020fb\")) {                    Plotly.newPlot(                        \"5ef66b39-a754-45b1-9ad7-67da1ca020fb\",                        [{\"branchvalues\":\"total\",\"customdata\":[[0.3679764630661976],[0.7442673594883648],[0.3965098209328211],[0.7382863973026769],[0.7573582386683911],[0.7800381352093095],[0.9237140210593584],[0.9202831101562335],[0.44193867737948805],[0.32261927895581766],[0.3887617427557184],[0.6887166381402212],[0.502325434054673],[0.5155089138627181],[0.733805159098419],[0.8713675175377625],[0.8024878575368918],[0.6261117266677051],[0.8121737344146313],[0.6379475418481688],[0.8573006767804419],[0.8093990985521343],[0.6197702790307908],[0.7865691010238739],[0.7616009753030466],[0.7674433758623967],[0.8535287005486549],[0.6126201291792976],[0.512214114185087],[0.7911167048010407],[0.47993393888992714],[0.5155089138627181],[0.733805159098419],[0.839592478025413],[0.8024878575368918],[0.5728631498606304],[0.7973962669922404],[0.6201368540234298],[0.8573006767804419],[0.8093990985521343],[0.5964896605015295],[0.7865691010238739],[0.7616009753030466],[0.7561966990449431],[0.8535287005486549],[0.6126201291792976],[0.512214114185087],[0.9237140210593584],[0.8556999074786371],[0.5411519300060331],[0.6055877429433008],[0.7951802826909677],[0.7976669410850513],[0.829736089296584],[0.6108444399509154],[0.6616248295316216]],\"domain\":{\"x\":[0.0,1.0],\"y\":[0.0,1.0]},\"hovertemplate\":\"labels=%{label}<br>count=%{value}<br>parent=%{parent}<br>id=%{id}<br>Quality=%{color}<extra></extra>\",\"ids\":[\"Man/sideways/downwards/asian\",\"Man/straight/downwards/asian\",\"Man/sideways/slightly_downwards/asian\",\"Man/straight/slightly_downwards/asian\",\"Man/sideways/slightly_upwards/asian\",\"Man/sideways/straight/asian\",\"Man/slightly_turned/upwards/asian\",\"Man/straight/upwards/asian\",\"Man/sideways/slightly_downwards/middle eastern\",\"Man/sideways/slightly_upwards/middle eastern\",\"Man/sideways/straight/middle eastern\",\"Man/straight/straight/middle eastern\",\"Man/sideways/downwards/white\",\"Woman/sideways/downwards/white\",\"Man/slightly_turned/downwards/white\",\"Man/straight/downwards/white\",\"Woman/straight/downwards/white\",\"Man/sideways/slightly_downwards/white\",\"Man/straight/slightly_downwards/white\",\"Man/sideways/slightly_upwards/white\",\"Man/straight/slightly_upwards/white\",\"Woman/straight/slightly_upwards/white\",\"Man/sideways/straight/white\",\"Woman/sideways/straight/white\",\"Man/slightly_turned/straight/white\",\"Man/straight/straight/white\",\"Woman/straight/straight/white\",\"Man/sideways/upwards/white\",\"Woman/sideways/upwards/white\",\"Man/straight/upwards/white\",\"Man/sideways/downwards\",\"Woman/sideways/downwards\",\"Man/slightly_turned/downwards\",\"Man/straight/downwards\",\"Woman/straight/downwards\",\"Man/sideways/slightly_downwards\",\"Man/straight/slightly_downwards\",\"Man/sideways/slightly_upwards\",\"Man/straight/slightly_upwards\",\"Woman/straight/slightly_upwards\",\"Man/sideways/straight\",\"Woman/sideways/straight\",\"Man/slightly_turned/straight\",\"Man/straight/straight\",\"Woman/straight/straight\",\"Man/sideways/upwards\",\"Woman/sideways/upwards\",\"Man/slightly_turned/upwards\",\"Man/straight/upwards\",\"Man/sideways\",\"Woman/sideways\",\"Man/slightly_turned\",\"Man/straight\",\"Woman/straight\",\"Man\",\"Woman\"],\"labels\":[\"asian\",\"asian\",\"asian\",\"asian\",\"asian\",\"asian\",\"asian\",\"asian\",\"middle eastern\",\"middle eastern\",\"middle eastern\",\"middle eastern\",\"white\",\"white\",\"white\",\"white\",\"white\",\"white\",\"white\",\"white\",\"white\",\"white\",\"white\",\"white\",\"white\",\"white\",\"white\",\"white\",\"white\",\"white\",\"downwards\",\"downwards\",\"downwards\",\"downwards\",\"downwards\",\"slightly_downwards\",\"slightly_downwards\",\"slightly_upwards\",\"slightly_upwards\",\"slightly_upwards\",\"straight\",\"straight\",\"straight\",\"straight\",\"straight\",\"upwards\",\"upwards\",\"upwards\",\"upwards\",\"sideways\",\"sideways\",\"slightly_turned\",\"straight\",\"straight\",\"Man\",\"Woman\"],\"marker\":{\"coloraxis\":\"coloraxis\",\"colors\":[0.3679764630661976,0.7442673594883648,0.3965098209328211,0.7382863973026769,0.7573582386683911,0.7800381352093095,0.9237140210593584,0.9202831101562335,0.44193867737948805,0.32261927895581766,0.3887617427557184,0.6887166381402212,0.502325434054673,0.5155089138627181,0.733805159098419,0.8713675175377625,0.8024878575368918,0.6261117266677051,0.8121737344146313,0.6379475418481688,0.8573006767804419,0.8093990985521343,0.6197702790307908,0.7865691010238739,0.7616009753030466,0.7674433758623967,0.8535287005486549,0.6126201291792976,0.512214114185087,0.7911167048010407,0.47993393888992714,0.5155089138627181,0.733805159098419,0.839592478025413,0.8024878575368918,0.5728631498606304,0.7973962669922404,0.6201368540234298,0.8573006767804419,0.8093990985521343,0.5964896605015295,0.7865691010238739,0.7616009753030466,0.7561966990449431,0.8535287005486549,0.6126201291792976,0.512214114185087,0.9237140210593584,0.8556999074786371,0.5411519300060331,0.6055877429433008,0.7951802826909677,0.7976669410850513,0.829736089296584,0.6108444399509154,0.6616248295316216]},\"name\":\"\",\"parents\":[\"Man/sideways/downwards\",\"Man/straight/downwards\",\"Man/sideways/slightly_downwards\",\"Man/straight/slightly_downwards\",\"Man/sideways/slightly_upwards\",\"Man/sideways/straight\",\"Man/slightly_turned/upwards\",\"Man/straight/upwards\",\"Man/sideways/slightly_downwards\",\"Man/sideways/slightly_upwards\",\"Man/sideways/straight\",\"Man/straight/straight\",\"Man/sideways/downwards\",\"Woman/sideways/downwards\",\"Man/slightly_turned/downwards\",\"Man/straight/downwards\",\"Woman/straight/downwards\",\"Man/sideways/slightly_downwards\",\"Man/straight/slightly_downwards\",\"Man/sideways/slightly_upwards\",\"Man/straight/slightly_upwards\",\"Woman/straight/slightly_upwards\",\"Man/sideways/straight\",\"Woman/sideways/straight\",\"Man/slightly_turned/straight\",\"Man/straight/straight\",\"Woman/straight/straight\",\"Man/sideways/upwards\",\"Woman/sideways/upwards\",\"Man/straight/upwards\",\"Man/sideways\",\"Woman/sideways\",\"Man/slightly_turned\",\"Man/straight\",\"Woman/straight\",\"Man/sideways\",\"Man/straight\",\"Man/sideways\",\"Man/straight\",\"Woman/straight\",\"Man/sideways\",\"Woman/sideways\",\"Man/slightly_turned\",\"Man/straight\",\"Woman/straight\",\"Man/sideways\",\"Woman/sideways\",\"Man/slightly_turned\",\"Man/straight\",\"Man\",\"Woman\",\"Man\",\"Man\",\"Woman\",\"\",\"\"],\"values\":[7,1,2,1,1,2,1,1,3,1,3,2,35,7,1,3,1,14,4,9,5,1,11,4,2,12,2,3,1,1,42,7,1,4,1,19,5,11,5,1,16,4,2,14,2,3,1,1,2,91,12,4,30,4,125,16],\"type\":\"sunburst\"}],                        {\"template\":{\"data\":{\"histogram2dcontour\":[{\"type\":\"histogram2dcontour\",\"colorbar\":{\"outlinewidth\":0,\"ticks\":\"\"},\"colorscale\":[[0.0,\"#0d0887\"],[0.1111111111111111,\"#46039f\"],[0.2222222222222222,\"#7201a8\"],[0.3333333333333333,\"#9c179e\"],[0.4444444444444444,\"#bd3786\"],[0.5555555555555556,\"#d8576b\"],[0.6666666666666666,\"#ed7953\"],[0.7777777777777778,\"#fb9f3a\"],[0.8888888888888888,\"#fdca26\"],[1.0,\"#f0f921\"]]}],\"choropleth\":[{\"type\":\"choropleth\",\"colorbar\":{\"outlinewidth\":0,\"ticks\":\"\"}}],\"histogram2d\":[{\"type\":\"histogram2d\",\"colorbar\":{\"outlinewidth\":0,\"ticks\":\"\"},\"colorscale\":[[0.0,\"#0d0887\"],[0.1111111111111111,\"#46039f\"],[0.2222222222222222,\"#7201a8\"],[0.3333333333333333,\"#9c179e\"],[0.4444444444444444,\"#bd3786\"],[0.5555555555555556,\"#d8576b\"],[0.6666666666666666,\"#ed7953\"],[0.7777777777777778,\"#fb9f3a\"],[0.8888888888888888,\"#fdca26\"],[1.0,\"#f0f921\"]]}],\"heatmap\":[{\"type\":\"heatmap\",\"colorbar\":{\"outlinewidth\":0,\"ticks\":\"\"},\"colorscale\":[[0.0,\"#0d0887\"],[0.1111111111111111,\"#46039f\"],[0.2222222222222222,\"#7201a8\"],[0.3333333333333333,\"#9c179e\"],[0.4444444444444444,\"#bd3786\"],[0.5555555555555556,\"#d8576b\"],[0.6666666666666666,\"#ed7953\"],[0.7777777777777778,\"#fb9f3a\"],[0.8888888888888888,\"#fdca26\"],[1.0,\"#f0f921\"]]}],\"heatmapgl\":[{\"type\":\"heatmapgl\",\"colorbar\":{\"outlinewidth\":0,\"ticks\":\"\"},\"colorscale\":[[0.0,\"#0d0887\"],[0.1111111111111111,\"#46039f\"],[0.2222222222222222,\"#7201a8\"],[0.3333333333333333,\"#9c179e\"],[0.4444444444444444,\"#bd3786\"],[0.5555555555555556,\"#d8576b\"],[0.6666666666666666,\"#ed7953\"],[0.7777777777777778,\"#fb9f3a\"],[0.8888888888888888,\"#fdca26\"],[1.0,\"#f0f921\"]]}],\"contourcarpet\":[{\"type\":\"contourcarpet\",\"colorbar\":{\"outlinewidth\":0,\"ticks\":\"\"}}],\"contour\":[{\"type\":\"contour\",\"colorbar\":{\"outlinewidth\":0,\"ticks\":\"\"},\"colorscale\":[[0.0,\"#0d0887\"],[0.1111111111111111,\"#46039f\"],[0.2222222222222222,\"#7201a8\"],[0.3333333333333333,\"#9c179e\"],[0.4444444444444444,\"#bd3786\"],[0.5555555555555556,\"#d8576b\"],[0.6666666666666666,\"#ed7953\"],[0.7777777777777778,\"#fb9f3a\"],[0.8888888888888888,\"#fdca26\"],[1.0,\"#f0f921\"]]}],\"surface\":[{\"type\":\"surface\",\"colorbar\":{\"outlinewidth\":0,\"ticks\":\"\"},\"colorscale\":[[0.0,\"#0d0887\"],[0.1111111111111111,\"#46039f\"],[0.2222222222222222,\"#7201a8\"],[0.3333333333333333,\"#9c179e\"],[0.4444444444444444,\"#bd3786\"],[0.5555555555555556,\"#d8576b\"],[0.6666666666666666,\"#ed7953\"],[0.7777777777777778,\"#fb9f3a\"],[0.8888888888888888,\"#fdca26\"],[1.0,\"#f0f921\"]]}],\"mesh3d\":[{\"type\":\"mesh3d\",\"colorbar\":{\"outlinewidth\":0,\"ticks\":\"\"}}],\"scatter\":[{\"fillpattern\":{\"fillmode\":\"overlay\",\"size\":10,\"solidity\":0.2},\"type\":\"scatter\"}],\"parcoords\":[{\"type\":\"parcoords\",\"line\":{\"colorbar\":{\"outlinewidth\":0,\"ticks\":\"\"}}}],\"scatterpolargl\":[{\"type\":\"scatterpolargl\",\"marker\":{\"colorbar\":{\"outlinewidth\":0,\"ticks\":\"\"}}}],\"bar\":[{\"error_x\":{\"color\":\"#2a3f5f\"},\"error_y\":{\"color\":\"#2a3f5f\"},\"marker\":{\"line\":{\"color\":\"#E5ECF6\",\"width\":0.5},\"pattern\":{\"fillmode\":\"overlay\",\"size\":10,\"solidity\":0.2}},\"type\":\"bar\"}],\"scattergeo\":[{\"type\":\"scattergeo\",\"marker\":{\"colorbar\":{\"outlinewidth\":0,\"ticks\":\"\"}}}],\"scatterpolar\":[{\"type\":\"scatterpolar\",\"marker\":{\"colorbar\":{\"outlinewidth\":0,\"ticks\":\"\"}}}],\"histogram\":[{\"marker\":{\"pattern\":{\"fillmode\":\"overlay\",\"size\":10,\"solidity\":0.2}},\"type\":\"histogram\"}],\"scattergl\":[{\"type\":\"scattergl\",\"marker\":{\"colorbar\":{\"outlinewidth\":0,\"ticks\":\"\"}}}],\"scatter3d\":[{\"type\":\"scatter3d\",\"line\":{\"colorbar\":{\"outlinewidth\":0,\"ticks\":\"\"}},\"marker\":{\"colorbar\":{\"outlinewidth\":0,\"ticks\":\"\"}}}],\"scattermapbox\":[{\"type\":\"scattermapbox\",\"marker\":{\"colorbar\":{\"outlinewidth\":0,\"ticks\":\"\"}}}],\"scatterternary\":[{\"type\":\"scatterternary\",\"marker\":{\"colorbar\":{\"outlinewidth\":0,\"ticks\":\"\"}}}],\"scattercarpet\":[{\"type\":\"scattercarpet\",\"marker\":{\"colorbar\":{\"outlinewidth\":0,\"ticks\":\"\"}}}],\"carpet\":[{\"aaxis\":{\"endlinecolor\":\"#2a3f5f\",\"gridcolor\":\"white\",\"linecolor\":\"white\",\"minorgridcolor\":\"white\",\"startlinecolor\":\"#2a3f5f\"},\"baxis\":{\"endlinecolor\":\"#2a3f5f\",\"gridcolor\":\"white\",\"linecolor\":\"white\",\"minorgridcolor\":\"white\",\"startlinecolor\":\"#2a3f5f\"},\"type\":\"carpet\"}],\"table\":[{\"cells\":{\"fill\":{\"color\":\"#EBF0F8\"},\"line\":{\"color\":\"white\"}},\"header\":{\"fill\":{\"color\":\"#C8D4E3\"},\"line\":{\"color\":\"white\"}},\"type\":\"table\"}],\"barpolar\":[{\"marker\":{\"line\":{\"color\":\"#E5ECF6\",\"width\":0.5},\"pattern\":{\"fillmode\":\"overlay\",\"size\":10,\"solidity\":0.2}},\"type\":\"barpolar\"}],\"pie\":[{\"automargin\":true,\"type\":\"pie\"}]},\"layout\":{\"autotypenumbers\":\"strict\",\"colorway\":[\"#636efa\",\"#EF553B\",\"#00cc96\",\"#ab63fa\",\"#FFA15A\",\"#19d3f3\",\"#FF6692\",\"#B6E880\",\"#FF97FF\",\"#FECB52\"],\"font\":{\"color\":\"#2a3f5f\"},\"hovermode\":\"closest\",\"hoverlabel\":{\"align\":\"left\"},\"paper_bgcolor\":\"white\",\"plot_bgcolor\":\"#E5ECF6\",\"polar\":{\"bgcolor\":\"#E5ECF6\",\"angularaxis\":{\"gridcolor\":\"white\",\"linecolor\":\"white\",\"ticks\":\"\"},\"radialaxis\":{\"gridcolor\":\"white\",\"linecolor\":\"white\",\"ticks\":\"\"}},\"ternary\":{\"bgcolor\":\"#E5ECF6\",\"aaxis\":{\"gridcolor\":\"white\",\"linecolor\":\"white\",\"ticks\":\"\"},\"baxis\":{\"gridcolor\":\"white\",\"linecolor\":\"white\",\"ticks\":\"\"},\"caxis\":{\"gridcolor\":\"white\",\"linecolor\":\"white\",\"ticks\":\"\"}},\"coloraxis\":{\"colorbar\":{\"outlinewidth\":0,\"ticks\":\"\"}},\"colorscale\":{\"sequential\":[[0.0,\"#0d0887\"],[0.1111111111111111,\"#46039f\"],[0.2222222222222222,\"#7201a8\"],[0.3333333333333333,\"#9c179e\"],[0.4444444444444444,\"#bd3786\"],[0.5555555555555556,\"#d8576b\"],[0.6666666666666666,\"#ed7953\"],[0.7777777777777778,\"#fb9f3a\"],[0.8888888888888888,\"#fdca26\"],[1.0,\"#f0f921\"]],\"sequentialminus\":[[0.0,\"#0d0887\"],[0.1111111111111111,\"#46039f\"],[0.2222222222222222,\"#7201a8\"],[0.3333333333333333,\"#9c179e\"],[0.4444444444444444,\"#bd3786\"],[0.5555555555555556,\"#d8576b\"],[0.6666666666666666,\"#ed7953\"],[0.7777777777777778,\"#fb9f3a\"],[0.8888888888888888,\"#fdca26\"],[1.0,\"#f0f921\"]],\"diverging\":[[0,\"#8e0152\"],[0.1,\"#c51b7d\"],[0.2,\"#de77ae\"],[0.3,\"#f1b6da\"],[0.4,\"#fde0ef\"],[0.5,\"#f7f7f7\"],[0.6,\"#e6f5d0\"],[0.7,\"#b8e186\"],[0.8,\"#7fbc41\"],[0.9,\"#4d9221\"],[1,\"#276419\"]]},\"xaxis\":{\"gridcolor\":\"white\",\"linecolor\":\"white\",\"ticks\":\"\",\"title\":{\"standoff\":15},\"zerolinecolor\":\"white\",\"automargin\":true,\"zerolinewidth\":2},\"yaxis\":{\"gridcolor\":\"white\",\"linecolor\":\"white\",\"ticks\":\"\",\"title\":{\"standoff\":15},\"zerolinecolor\":\"white\",\"automargin\":true,\"zerolinewidth\":2},\"scene\":{\"xaxis\":{\"backgroundcolor\":\"#E5ECF6\",\"gridcolor\":\"white\",\"linecolor\":\"white\",\"showbackground\":true,\"ticks\":\"\",\"zerolinecolor\":\"white\",\"gridwidth\":2},\"yaxis\":{\"backgroundcolor\":\"#E5ECF6\",\"gridcolor\":\"white\",\"linecolor\":\"white\",\"showbackground\":true,\"ticks\":\"\",\"zerolinecolor\":\"white\",\"gridwidth\":2},\"zaxis\":{\"backgroundcolor\":\"#E5ECF6\",\"gridcolor\":\"white\",\"linecolor\":\"white\",\"showbackground\":true,\"ticks\":\"\",\"zerolinecolor\":\"white\",\"gridwidth\":2}},\"shapedefaults\":{\"line\":{\"color\":\"#2a3f5f\"}},\"annotationdefaults\":{\"arrowcolor\":\"#2a3f5f\",\"arrowhead\":0,\"arrowwidth\":1},\"geo\":{\"bgcolor\":\"white\",\"landcolor\":\"#E5ECF6\",\"subunitcolor\":\"white\",\"showland\":true,\"showlakes\":true,\"lakecolor\":\"white\"},\"title\":{\"x\":0.05},\"mapbox\":{\"style\":\"light\"}}},\"coloraxis\":{\"colorbar\":{\"title\":{\"text\":\"Quality\"}},\"colorscale\":[[0.0,\"#440154\"],[0.1111111111111111,\"#482878\"],[0.2222222222222222,\"#3e4989\"],[0.3333333333333333,\"#31688e\"],[0.4444444444444444,\"#26828e\"],[0.5555555555555556,\"#1f9e89\"],[0.6666666666666666,\"#35b779\"],[0.7777777777777778,\"#6ece58\"],[0.8888888888888888,\"#b5de2b\"],[1.0,\"#fde725\"]],\"cmin\":0,\"cmax\":1},\"legend\":{\"tracegroupgap\":0},\"title\":{\"text\":\"ENFSI, Model QMagFace\"}},                        {\"responsive\": true}                    ).then(function(){\n",
       "                            \n",
       "var gd = document.getElementById('5ef66b39-a754-45b1-9ad7-67da1ca020fb');\n",
       "var x = new MutationObserver(function (mutations, observer) {{\n",
       "        var display = window.getComputedStyle(gd).display;\n",
       "        if (!display || display === 'none') {{\n",
       "            console.log([gd, 'removed!']);\n",
       "            Plotly.purge(gd);\n",
       "            observer.disconnect();\n",
       "        }}\n",
       "}});\n",
       "\n",
       "// Listen for the removal of the full notebook cells\n",
       "var notebookContainer = gd.closest('#notebook-container');\n",
       "if (notebookContainer) {{\n",
       "    x.observe(notebookContainer, {childList: true});\n",
       "}}\n",
       "\n",
       "// Listen for the clearing of the current output cell\n",
       "var outputEl = gd.closest('.output');\n",
       "if (outputEl) {{\n",
       "    x.observe(outputEl, {childList: true});\n",
       "}}\n",
       "\n",
       "                        })                };                });            </script>        </div>"
      ]
     },
     "metadata": {},
     "output_type": "display_data"
    },
    {
     "data": {
      "application/vnd.plotly.v1+json": {
       "config": {
        "plotlyServerURL": "https://plot.ly"
       },
       "data": [
        {
         "branchvalues": "total",
         "customdata": [
          [
           0.36204370042690437
          ],
          [
           0.6478183408861056
          ],
          [
           0.3857005976959085
          ],
          [
           0.6686361785461569
          ],
          [
           0.6114190491452359
          ],
          [
           0.6728733382158915
          ],
          [
           0.8649354732513189
          ],
          [
           0.8739965261091415
          ],
          [
           0.4888490361412236
          ],
          [
           0.4923627465141892
          ],
          [
           0.5205118199918664
          ],
          [
           0.7669200408695579
          ],
          [
           0.48125522483978705
          ],
          [
           0.4872781214615459
          ],
          [
           0.6981376915568619
          ],
          [
           0.859351201342348
          ],
          [
           0.8290207590431581
          ],
          [
           0.6151662179285857
          ],
          [
           0.7826909153782248
          ],
          [
           0.6231519691762323
          ],
          [
           0.8438647637102035
          ],
          [
           0.7342904313454778
          ],
          [
           0.6171264906263171
          ],
          [
           0.7519361843957112
          ],
          [
           0.7631156936535283
          ],
          [
           0.7384459051064716
          ],
          [
           0.836735269366838
          ],
          [
           0.6021402909446499
          ],
          [
           0.3995428042603334
          ],
          [
           0.7960320386888596
          ],
          [
           0.46138663743763997
          ],
          [
           0.4872781214615459
          ],
          [
           0.6981376915568619
          ],
          [
           0.8064679862282874
          ],
          [
           0.8290207590431581
          ],
          [
           0.5710671239376678
          ],
          [
           0.7598799680118112
          ],
          [
           0.6101954107495925
          ],
          [
           0.8438647637102035
          ],
          [
           0.7342904313454778
          ],
          [
           0.6059795958310543
          ],
          [
           0.7519361843957112
          ],
          [
           0.7631156936535283
          ],
          [
           0.7425136387869123
          ],
          [
           0.836735269366838
          ],
          [
           0.6021402909446499
          ],
          [
           0.3995428042603334
          ],
          [
           0.8649354732513189
          ],
          [
           0.8350142823990006
          ],
          [
           0.5323380005667353
          ],
          [
           0.5681861993394999
          ],
          [
           0.7723261380288093
          ],
          [
           0.7769938370446
          ],
          [
           0.809195432280578
          ],
          [
           0.5987350217202091
          ],
          [
           0.6284385075747694
          ]
         ],
         "domain": {
          "x": [
           0,
           1
          ],
          "y": [
           0,
           1
          ]
         },
         "hovertemplate": "labels=%{label}<br>count=%{value}<br>parent=%{parent}<br>id=%{id}<br>Quality=%{color}<extra></extra>",
         "ids": [
          "Man/sideways/downwards/asian",
          "Man/straight/downwards/asian",
          "Man/sideways/slightly_downwards/asian",
          "Man/straight/slightly_downwards/asian",
          "Man/sideways/slightly_upwards/asian",
          "Man/sideways/straight/asian",
          "Man/slightly_turned/upwards/asian",
          "Man/straight/upwards/asian",
          "Man/sideways/slightly_downwards/middle eastern",
          "Man/sideways/slightly_upwards/middle eastern",
          "Man/sideways/straight/middle eastern",
          "Man/straight/straight/middle eastern",
          "Man/sideways/downwards/white",
          "Woman/sideways/downwards/white",
          "Man/slightly_turned/downwards/white",
          "Man/straight/downwards/white",
          "Woman/straight/downwards/white",
          "Man/sideways/slightly_downwards/white",
          "Man/straight/slightly_downwards/white",
          "Man/sideways/slightly_upwards/white",
          "Man/straight/slightly_upwards/white",
          "Woman/straight/slightly_upwards/white",
          "Man/sideways/straight/white",
          "Woman/sideways/straight/white",
          "Man/slightly_turned/straight/white",
          "Man/straight/straight/white",
          "Woman/straight/straight/white",
          "Man/sideways/upwards/white",
          "Woman/sideways/upwards/white",
          "Man/straight/upwards/white",
          "Man/sideways/downwards",
          "Woman/sideways/downwards",
          "Man/slightly_turned/downwards",
          "Man/straight/downwards",
          "Woman/straight/downwards",
          "Man/sideways/slightly_downwards",
          "Man/straight/slightly_downwards",
          "Man/sideways/slightly_upwards",
          "Man/straight/slightly_upwards",
          "Woman/straight/slightly_upwards",
          "Man/sideways/straight",
          "Woman/sideways/straight",
          "Man/slightly_turned/straight",
          "Man/straight/straight",
          "Woman/straight/straight",
          "Man/sideways/upwards",
          "Woman/sideways/upwards",
          "Man/slightly_turned/upwards",
          "Man/straight/upwards",
          "Man/sideways",
          "Woman/sideways",
          "Man/slightly_turned",
          "Man/straight",
          "Woman/straight",
          "Man",
          "Woman"
         ],
         "labels": [
          "asian",
          "asian",
          "asian",
          "asian",
          "asian",
          "asian",
          "asian",
          "asian",
          "middle eastern",
          "middle eastern",
          "middle eastern",
          "middle eastern",
          "white",
          "white",
          "white",
          "white",
          "white",
          "white",
          "white",
          "white",
          "white",
          "white",
          "white",
          "white",
          "white",
          "white",
          "white",
          "white",
          "white",
          "white",
          "downwards",
          "downwards",
          "downwards",
          "downwards",
          "downwards",
          "slightly_downwards",
          "slightly_downwards",
          "slightly_upwards",
          "slightly_upwards",
          "slightly_upwards",
          "straight",
          "straight",
          "straight",
          "straight",
          "straight",
          "upwards",
          "upwards",
          "upwards",
          "upwards",
          "sideways",
          "sideways",
          "slightly_turned",
          "straight",
          "straight",
          "Man",
          "Woman"
         ],
         "marker": {
          "coloraxis": "coloraxis",
          "colors": [
           0.36204370042690437,
           0.6478183408861056,
           0.3857005976959085,
           0.6686361785461569,
           0.6114190491452359,
           0.6728733382158915,
           0.8649354732513189,
           0.8739965261091415,
           0.4888490361412236,
           0.4923627465141892,
           0.5205118199918664,
           0.7669200408695579,
           0.48125522483978705,
           0.4872781214615459,
           0.6981376915568619,
           0.859351201342348,
           0.8290207590431581,
           0.6151662179285857,
           0.7826909153782248,
           0.6231519691762323,
           0.8438647637102035,
           0.7342904313454778,
           0.6171264906263171,
           0.7519361843957112,
           0.7631156936535283,
           0.7384459051064716,
           0.836735269366838,
           0.6021402909446499,
           0.3995428042603334,
           0.7960320386888596,
           0.46138663743763997,
           0.4872781214615459,
           0.6981376915568619,
           0.8064679862282874,
           0.8290207590431581,
           0.5710671239376678,
           0.7598799680118112,
           0.6101954107495925,
           0.8438647637102035,
           0.7342904313454778,
           0.6059795958310543,
           0.7519361843957112,
           0.7631156936535283,
           0.7425136387869123,
           0.836735269366838,
           0.6021402909446499,
           0.3995428042603334,
           0.8649354732513189,
           0.8350142823990006,
           0.5323380005667353,
           0.5681861993394999,
           0.7723261380288093,
           0.7769938370446,
           0.809195432280578,
           0.5987350217202091,
           0.6284385075747694
          ]
         },
         "name": "",
         "parents": [
          "Man/sideways/downwards",
          "Man/straight/downwards",
          "Man/sideways/slightly_downwards",
          "Man/straight/slightly_downwards",
          "Man/sideways/slightly_upwards",
          "Man/sideways/straight",
          "Man/slightly_turned/upwards",
          "Man/straight/upwards",
          "Man/sideways/slightly_downwards",
          "Man/sideways/slightly_upwards",
          "Man/sideways/straight",
          "Man/straight/straight",
          "Man/sideways/downwards",
          "Woman/sideways/downwards",
          "Man/slightly_turned/downwards",
          "Man/straight/downwards",
          "Woman/straight/downwards",
          "Man/sideways/slightly_downwards",
          "Man/straight/slightly_downwards",
          "Man/sideways/slightly_upwards",
          "Man/straight/slightly_upwards",
          "Woman/straight/slightly_upwards",
          "Man/sideways/straight",
          "Woman/sideways/straight",
          "Man/slightly_turned/straight",
          "Man/straight/straight",
          "Woman/straight/straight",
          "Man/sideways/upwards",
          "Woman/sideways/upwards",
          "Man/straight/upwards",
          "Man/sideways",
          "Woman/sideways",
          "Man/slightly_turned",
          "Man/straight",
          "Woman/straight",
          "Man/sideways",
          "Man/straight",
          "Man/sideways",
          "Man/straight",
          "Woman/straight",
          "Man/sideways",
          "Woman/sideways",
          "Man/slightly_turned",
          "Man/straight",
          "Woman/straight",
          "Man/sideways",
          "Woman/sideways",
          "Man/slightly_turned",
          "Man/straight",
          "Man",
          "Woman",
          "Man",
          "Man",
          "Woman",
          "",
          ""
         ],
         "type": "sunburst",
         "values": [
          7,
          1,
          2,
          1,
          1,
          2,
          1,
          1,
          3,
          1,
          3,
          2,
          35,
          7,
          1,
          3,
          1,
          14,
          4,
          9,
          5,
          1,
          11,
          4,
          2,
          12,
          2,
          3,
          1,
          1,
          42,
          7,
          1,
          4,
          1,
          19,
          5,
          11,
          5,
          1,
          16,
          4,
          2,
          14,
          2,
          3,
          1,
          1,
          2,
          91,
          12,
          4,
          30,
          4,
          125,
          16
         ]
        }
       ],
       "layout": {
        "coloraxis": {
         "cmax": 1,
         "cmin": 0,
         "colorbar": {
          "title": {
           "text": "Quality"
          }
         },
         "colorscale": [
          [
           0,
           "#440154"
          ],
          [
           0.1111111111111111,
           "#482878"
          ],
          [
           0.2222222222222222,
           "#3e4989"
          ],
          [
           0.3333333333333333,
           "#31688e"
          ],
          [
           0.4444444444444444,
           "#26828e"
          ],
          [
           0.5555555555555556,
           "#1f9e89"
          ],
          [
           0.6666666666666666,
           "#35b779"
          ],
          [
           0.7777777777777778,
           "#6ece58"
          ],
          [
           0.8888888888888888,
           "#b5de2b"
          ],
          [
           1,
           "#fde725"
          ]
         ]
        },
        "legend": {
         "tracegroupgap": 0
        },
        "template": {
         "data": {
          "bar": [
           {
            "error_x": {
             "color": "#2a3f5f"
            },
            "error_y": {
             "color": "#2a3f5f"
            },
            "marker": {
             "line": {
              "color": "#E5ECF6",
              "width": 0.5
             },
             "pattern": {
              "fillmode": "overlay",
              "size": 10,
              "solidity": 0.2
             }
            },
            "type": "bar"
           }
          ],
          "barpolar": [
           {
            "marker": {
             "line": {
              "color": "#E5ECF6",
              "width": 0.5
             },
             "pattern": {
              "fillmode": "overlay",
              "size": 10,
              "solidity": 0.2
             }
            },
            "type": "barpolar"
           }
          ],
          "carpet": [
           {
            "aaxis": {
             "endlinecolor": "#2a3f5f",
             "gridcolor": "white",
             "linecolor": "white",
             "minorgridcolor": "white",
             "startlinecolor": "#2a3f5f"
            },
            "baxis": {
             "endlinecolor": "#2a3f5f",
             "gridcolor": "white",
             "linecolor": "white",
             "minorgridcolor": "white",
             "startlinecolor": "#2a3f5f"
            },
            "type": "carpet"
           }
          ],
          "choropleth": [
           {
            "colorbar": {
             "outlinewidth": 0,
             "ticks": ""
            },
            "type": "choropleth"
           }
          ],
          "contour": [
           {
            "colorbar": {
             "outlinewidth": 0,
             "ticks": ""
            },
            "colorscale": [
             [
              0,
              "#0d0887"
             ],
             [
              0.1111111111111111,
              "#46039f"
             ],
             [
              0.2222222222222222,
              "#7201a8"
             ],
             [
              0.3333333333333333,
              "#9c179e"
             ],
             [
              0.4444444444444444,
              "#bd3786"
             ],
             [
              0.5555555555555556,
              "#d8576b"
             ],
             [
              0.6666666666666666,
              "#ed7953"
             ],
             [
              0.7777777777777778,
              "#fb9f3a"
             ],
             [
              0.8888888888888888,
              "#fdca26"
             ],
             [
              1,
              "#f0f921"
             ]
            ],
            "type": "contour"
           }
          ],
          "contourcarpet": [
           {
            "colorbar": {
             "outlinewidth": 0,
             "ticks": ""
            },
            "type": "contourcarpet"
           }
          ],
          "heatmap": [
           {
            "colorbar": {
             "outlinewidth": 0,
             "ticks": ""
            },
            "colorscale": [
             [
              0,
              "#0d0887"
             ],
             [
              0.1111111111111111,
              "#46039f"
             ],
             [
              0.2222222222222222,
              "#7201a8"
             ],
             [
              0.3333333333333333,
              "#9c179e"
             ],
             [
              0.4444444444444444,
              "#bd3786"
             ],
             [
              0.5555555555555556,
              "#d8576b"
             ],
             [
              0.6666666666666666,
              "#ed7953"
             ],
             [
              0.7777777777777778,
              "#fb9f3a"
             ],
             [
              0.8888888888888888,
              "#fdca26"
             ],
             [
              1,
              "#f0f921"
             ]
            ],
            "type": "heatmap"
           }
          ],
          "heatmapgl": [
           {
            "colorbar": {
             "outlinewidth": 0,
             "ticks": ""
            },
            "colorscale": [
             [
              0,
              "#0d0887"
             ],
             [
              0.1111111111111111,
              "#46039f"
             ],
             [
              0.2222222222222222,
              "#7201a8"
             ],
             [
              0.3333333333333333,
              "#9c179e"
             ],
             [
              0.4444444444444444,
              "#bd3786"
             ],
             [
              0.5555555555555556,
              "#d8576b"
             ],
             [
              0.6666666666666666,
              "#ed7953"
             ],
             [
              0.7777777777777778,
              "#fb9f3a"
             ],
             [
              0.8888888888888888,
              "#fdca26"
             ],
             [
              1,
              "#f0f921"
             ]
            ],
            "type": "heatmapgl"
           }
          ],
          "histogram": [
           {
            "marker": {
             "pattern": {
              "fillmode": "overlay",
              "size": 10,
              "solidity": 0.2
             }
            },
            "type": "histogram"
           }
          ],
          "histogram2d": [
           {
            "colorbar": {
             "outlinewidth": 0,
             "ticks": ""
            },
            "colorscale": [
             [
              0,
              "#0d0887"
             ],
             [
              0.1111111111111111,
              "#46039f"
             ],
             [
              0.2222222222222222,
              "#7201a8"
             ],
             [
              0.3333333333333333,
              "#9c179e"
             ],
             [
              0.4444444444444444,
              "#bd3786"
             ],
             [
              0.5555555555555556,
              "#d8576b"
             ],
             [
              0.6666666666666666,
              "#ed7953"
             ],
             [
              0.7777777777777778,
              "#fb9f3a"
             ],
             [
              0.8888888888888888,
              "#fdca26"
             ],
             [
              1,
              "#f0f921"
             ]
            ],
            "type": "histogram2d"
           }
          ],
          "histogram2dcontour": [
           {
            "colorbar": {
             "outlinewidth": 0,
             "ticks": ""
            },
            "colorscale": [
             [
              0,
              "#0d0887"
             ],
             [
              0.1111111111111111,
              "#46039f"
             ],
             [
              0.2222222222222222,
              "#7201a8"
             ],
             [
              0.3333333333333333,
              "#9c179e"
             ],
             [
              0.4444444444444444,
              "#bd3786"
             ],
             [
              0.5555555555555556,
              "#d8576b"
             ],
             [
              0.6666666666666666,
              "#ed7953"
             ],
             [
              0.7777777777777778,
              "#fb9f3a"
             ],
             [
              0.8888888888888888,
              "#fdca26"
             ],
             [
              1,
              "#f0f921"
             ]
            ],
            "type": "histogram2dcontour"
           }
          ],
          "mesh3d": [
           {
            "colorbar": {
             "outlinewidth": 0,
             "ticks": ""
            },
            "type": "mesh3d"
           }
          ],
          "parcoords": [
           {
            "line": {
             "colorbar": {
              "outlinewidth": 0,
              "ticks": ""
             }
            },
            "type": "parcoords"
           }
          ],
          "pie": [
           {
            "automargin": true,
            "type": "pie"
           }
          ],
          "scatter": [
           {
            "fillpattern": {
             "fillmode": "overlay",
             "size": 10,
             "solidity": 0.2
            },
            "type": "scatter"
           }
          ],
          "scatter3d": [
           {
            "line": {
             "colorbar": {
              "outlinewidth": 0,
              "ticks": ""
             }
            },
            "marker": {
             "colorbar": {
              "outlinewidth": 0,
              "ticks": ""
             }
            },
            "type": "scatter3d"
           }
          ],
          "scattercarpet": [
           {
            "marker": {
             "colorbar": {
              "outlinewidth": 0,
              "ticks": ""
             }
            },
            "type": "scattercarpet"
           }
          ],
          "scattergeo": [
           {
            "marker": {
             "colorbar": {
              "outlinewidth": 0,
              "ticks": ""
             }
            },
            "type": "scattergeo"
           }
          ],
          "scattergl": [
           {
            "marker": {
             "colorbar": {
              "outlinewidth": 0,
              "ticks": ""
             }
            },
            "type": "scattergl"
           }
          ],
          "scattermapbox": [
           {
            "marker": {
             "colorbar": {
              "outlinewidth": 0,
              "ticks": ""
             }
            },
            "type": "scattermapbox"
           }
          ],
          "scatterpolar": [
           {
            "marker": {
             "colorbar": {
              "outlinewidth": 0,
              "ticks": ""
             }
            },
            "type": "scatterpolar"
           }
          ],
          "scatterpolargl": [
           {
            "marker": {
             "colorbar": {
              "outlinewidth": 0,
              "ticks": ""
             }
            },
            "type": "scatterpolargl"
           }
          ],
          "scatterternary": [
           {
            "marker": {
             "colorbar": {
              "outlinewidth": 0,
              "ticks": ""
             }
            },
            "type": "scatterternary"
           }
          ],
          "surface": [
           {
            "colorbar": {
             "outlinewidth": 0,
             "ticks": ""
            },
            "colorscale": [
             [
              0,
              "#0d0887"
             ],
             [
              0.1111111111111111,
              "#46039f"
             ],
             [
              0.2222222222222222,
              "#7201a8"
             ],
             [
              0.3333333333333333,
              "#9c179e"
             ],
             [
              0.4444444444444444,
              "#bd3786"
             ],
             [
              0.5555555555555556,
              "#d8576b"
             ],
             [
              0.6666666666666666,
              "#ed7953"
             ],
             [
              0.7777777777777778,
              "#fb9f3a"
             ],
             [
              0.8888888888888888,
              "#fdca26"
             ],
             [
              1,
              "#f0f921"
             ]
            ],
            "type": "surface"
           }
          ],
          "table": [
           {
            "cells": {
             "fill": {
              "color": "#EBF0F8"
             },
             "line": {
              "color": "white"
             }
            },
            "header": {
             "fill": {
              "color": "#C8D4E3"
             },
             "line": {
              "color": "white"
             }
            },
            "type": "table"
           }
          ]
         },
         "layout": {
          "annotationdefaults": {
           "arrowcolor": "#2a3f5f",
           "arrowhead": 0,
           "arrowwidth": 1
          },
          "autotypenumbers": "strict",
          "coloraxis": {
           "colorbar": {
            "outlinewidth": 0,
            "ticks": ""
           }
          },
          "colorscale": {
           "diverging": [
            [
             0,
             "#8e0152"
            ],
            [
             0.1,
             "#c51b7d"
            ],
            [
             0.2,
             "#de77ae"
            ],
            [
             0.3,
             "#f1b6da"
            ],
            [
             0.4,
             "#fde0ef"
            ],
            [
             0.5,
             "#f7f7f7"
            ],
            [
             0.6,
             "#e6f5d0"
            ],
            [
             0.7,
             "#b8e186"
            ],
            [
             0.8,
             "#7fbc41"
            ],
            [
             0.9,
             "#4d9221"
            ],
            [
             1,
             "#276419"
            ]
           ],
           "sequential": [
            [
             0,
             "#0d0887"
            ],
            [
             0.1111111111111111,
             "#46039f"
            ],
            [
             0.2222222222222222,
             "#7201a8"
            ],
            [
             0.3333333333333333,
             "#9c179e"
            ],
            [
             0.4444444444444444,
             "#bd3786"
            ],
            [
             0.5555555555555556,
             "#d8576b"
            ],
            [
             0.6666666666666666,
             "#ed7953"
            ],
            [
             0.7777777777777778,
             "#fb9f3a"
            ],
            [
             0.8888888888888888,
             "#fdca26"
            ],
            [
             1,
             "#f0f921"
            ]
           ],
           "sequentialminus": [
            [
             0,
             "#0d0887"
            ],
            [
             0.1111111111111111,
             "#46039f"
            ],
            [
             0.2222222222222222,
             "#7201a8"
            ],
            [
             0.3333333333333333,
             "#9c179e"
            ],
            [
             0.4444444444444444,
             "#bd3786"
            ],
            [
             0.5555555555555556,
             "#d8576b"
            ],
            [
             0.6666666666666666,
             "#ed7953"
            ],
            [
             0.7777777777777778,
             "#fb9f3a"
            ],
            [
             0.8888888888888888,
             "#fdca26"
            ],
            [
             1,
             "#f0f921"
            ]
           ]
          },
          "colorway": [
           "#636efa",
           "#EF553B",
           "#00cc96",
           "#ab63fa",
           "#FFA15A",
           "#19d3f3",
           "#FF6692",
           "#B6E880",
           "#FF97FF",
           "#FECB52"
          ],
          "font": {
           "color": "#2a3f5f"
          },
          "geo": {
           "bgcolor": "white",
           "lakecolor": "white",
           "landcolor": "#E5ECF6",
           "showlakes": true,
           "showland": true,
           "subunitcolor": "white"
          },
          "hoverlabel": {
           "align": "left"
          },
          "hovermode": "closest",
          "mapbox": {
           "style": "light"
          },
          "paper_bgcolor": "white",
          "plot_bgcolor": "#E5ECF6",
          "polar": {
           "angularaxis": {
            "gridcolor": "white",
            "linecolor": "white",
            "ticks": ""
           },
           "bgcolor": "#E5ECF6",
           "radialaxis": {
            "gridcolor": "white",
            "linecolor": "white",
            "ticks": ""
           }
          },
          "scene": {
           "xaxis": {
            "backgroundcolor": "#E5ECF6",
            "gridcolor": "white",
            "gridwidth": 2,
            "linecolor": "white",
            "showbackground": true,
            "ticks": "",
            "zerolinecolor": "white"
           },
           "yaxis": {
            "backgroundcolor": "#E5ECF6",
            "gridcolor": "white",
            "gridwidth": 2,
            "linecolor": "white",
            "showbackground": true,
            "ticks": "",
            "zerolinecolor": "white"
           },
           "zaxis": {
            "backgroundcolor": "#E5ECF6",
            "gridcolor": "white",
            "gridwidth": 2,
            "linecolor": "white",
            "showbackground": true,
            "ticks": "",
            "zerolinecolor": "white"
           }
          },
          "shapedefaults": {
           "line": {
            "color": "#2a3f5f"
           }
          },
          "ternary": {
           "aaxis": {
            "gridcolor": "white",
            "linecolor": "white",
            "ticks": ""
           },
           "baxis": {
            "gridcolor": "white",
            "linecolor": "white",
            "ticks": ""
           },
           "bgcolor": "#E5ECF6",
           "caxis": {
            "gridcolor": "white",
            "linecolor": "white",
            "ticks": ""
           }
          },
          "title": {
           "x": 0.05
          },
          "xaxis": {
           "automargin": true,
           "gridcolor": "white",
           "linecolor": "white",
           "ticks": "",
           "title": {
            "standoff": 15
           },
           "zerolinecolor": "white",
           "zerolinewidth": 2
          },
          "yaxis": {
           "automargin": true,
           "gridcolor": "white",
           "linecolor": "white",
           "ticks": "",
           "title": {
            "standoff": 15
           },
           "zerolinecolor": "white",
           "zerolinewidth": 2
          }
         }
        },
        "title": {
         "text": "ENFSI, Model QMagFace_SR"
        }
       }
      },
      "text/html": [
       "<div>                            <div id=\"43cfd15a-cfb1-4eb1-90c5-611193145052\" class=\"plotly-graph-div\" style=\"height:525px; width:100%;\"></div>            <script type=\"text/javascript\">                require([\"plotly\"], function(Plotly) {                    window.PLOTLYENV=window.PLOTLYENV || {};                                    if (document.getElementById(\"43cfd15a-cfb1-4eb1-90c5-611193145052\")) {                    Plotly.newPlot(                        \"43cfd15a-cfb1-4eb1-90c5-611193145052\",                        [{\"branchvalues\":\"total\",\"customdata\":[[0.36204370042690437],[0.6478183408861056],[0.3857005976959085],[0.6686361785461569],[0.6114190491452359],[0.6728733382158915],[0.8649354732513189],[0.8739965261091415],[0.4888490361412236],[0.4923627465141892],[0.5205118199918664],[0.7669200408695579],[0.48125522483978705],[0.4872781214615459],[0.6981376915568619],[0.859351201342348],[0.8290207590431581],[0.6151662179285857],[0.7826909153782248],[0.6231519691762323],[0.8438647637102035],[0.7342904313454778],[0.6171264906263171],[0.7519361843957112],[0.7631156936535283],[0.7384459051064716],[0.836735269366838],[0.6021402909446499],[0.3995428042603334],[0.7960320386888596],[0.46138663743763997],[0.4872781214615459],[0.6981376915568619],[0.8064679862282874],[0.8290207590431581],[0.5710671239376678],[0.7598799680118112],[0.6101954107495925],[0.8438647637102035],[0.7342904313454778],[0.6059795958310543],[0.7519361843957112],[0.7631156936535283],[0.7425136387869123],[0.836735269366838],[0.6021402909446499],[0.3995428042603334],[0.8649354732513189],[0.8350142823990006],[0.5323380005667353],[0.5681861993394999],[0.7723261380288093],[0.7769938370446],[0.809195432280578],[0.5987350217202091],[0.6284385075747694]],\"domain\":{\"x\":[0.0,1.0],\"y\":[0.0,1.0]},\"hovertemplate\":\"labels=%{label}<br>count=%{value}<br>parent=%{parent}<br>id=%{id}<br>Quality=%{color}<extra></extra>\",\"ids\":[\"Man/sideways/downwards/asian\",\"Man/straight/downwards/asian\",\"Man/sideways/slightly_downwards/asian\",\"Man/straight/slightly_downwards/asian\",\"Man/sideways/slightly_upwards/asian\",\"Man/sideways/straight/asian\",\"Man/slightly_turned/upwards/asian\",\"Man/straight/upwards/asian\",\"Man/sideways/slightly_downwards/middle eastern\",\"Man/sideways/slightly_upwards/middle eastern\",\"Man/sideways/straight/middle eastern\",\"Man/straight/straight/middle eastern\",\"Man/sideways/downwards/white\",\"Woman/sideways/downwards/white\",\"Man/slightly_turned/downwards/white\",\"Man/straight/downwards/white\",\"Woman/straight/downwards/white\",\"Man/sideways/slightly_downwards/white\",\"Man/straight/slightly_downwards/white\",\"Man/sideways/slightly_upwards/white\",\"Man/straight/slightly_upwards/white\",\"Woman/straight/slightly_upwards/white\",\"Man/sideways/straight/white\",\"Woman/sideways/straight/white\",\"Man/slightly_turned/straight/white\",\"Man/straight/straight/white\",\"Woman/straight/straight/white\",\"Man/sideways/upwards/white\",\"Woman/sideways/upwards/white\",\"Man/straight/upwards/white\",\"Man/sideways/downwards\",\"Woman/sideways/downwards\",\"Man/slightly_turned/downwards\",\"Man/straight/downwards\",\"Woman/straight/downwards\",\"Man/sideways/slightly_downwards\",\"Man/straight/slightly_downwards\",\"Man/sideways/slightly_upwards\",\"Man/straight/slightly_upwards\",\"Woman/straight/slightly_upwards\",\"Man/sideways/straight\",\"Woman/sideways/straight\",\"Man/slightly_turned/straight\",\"Man/straight/straight\",\"Woman/straight/straight\",\"Man/sideways/upwards\",\"Woman/sideways/upwards\",\"Man/slightly_turned/upwards\",\"Man/straight/upwards\",\"Man/sideways\",\"Woman/sideways\",\"Man/slightly_turned\",\"Man/straight\",\"Woman/straight\",\"Man\",\"Woman\"],\"labels\":[\"asian\",\"asian\",\"asian\",\"asian\",\"asian\",\"asian\",\"asian\",\"asian\",\"middle eastern\",\"middle eastern\",\"middle eastern\",\"middle eastern\",\"white\",\"white\",\"white\",\"white\",\"white\",\"white\",\"white\",\"white\",\"white\",\"white\",\"white\",\"white\",\"white\",\"white\",\"white\",\"white\",\"white\",\"white\",\"downwards\",\"downwards\",\"downwards\",\"downwards\",\"downwards\",\"slightly_downwards\",\"slightly_downwards\",\"slightly_upwards\",\"slightly_upwards\",\"slightly_upwards\",\"straight\",\"straight\",\"straight\",\"straight\",\"straight\",\"upwards\",\"upwards\",\"upwards\",\"upwards\",\"sideways\",\"sideways\",\"slightly_turned\",\"straight\",\"straight\",\"Man\",\"Woman\"],\"marker\":{\"coloraxis\":\"coloraxis\",\"colors\":[0.36204370042690437,0.6478183408861056,0.3857005976959085,0.6686361785461569,0.6114190491452359,0.6728733382158915,0.8649354732513189,0.8739965261091415,0.4888490361412236,0.4923627465141892,0.5205118199918664,0.7669200408695579,0.48125522483978705,0.4872781214615459,0.6981376915568619,0.859351201342348,0.8290207590431581,0.6151662179285857,0.7826909153782248,0.6231519691762323,0.8438647637102035,0.7342904313454778,0.6171264906263171,0.7519361843957112,0.7631156936535283,0.7384459051064716,0.836735269366838,0.6021402909446499,0.3995428042603334,0.7960320386888596,0.46138663743763997,0.4872781214615459,0.6981376915568619,0.8064679862282874,0.8290207590431581,0.5710671239376678,0.7598799680118112,0.6101954107495925,0.8438647637102035,0.7342904313454778,0.6059795958310543,0.7519361843957112,0.7631156936535283,0.7425136387869123,0.836735269366838,0.6021402909446499,0.3995428042603334,0.8649354732513189,0.8350142823990006,0.5323380005667353,0.5681861993394999,0.7723261380288093,0.7769938370446,0.809195432280578,0.5987350217202091,0.6284385075747694]},\"name\":\"\",\"parents\":[\"Man/sideways/downwards\",\"Man/straight/downwards\",\"Man/sideways/slightly_downwards\",\"Man/straight/slightly_downwards\",\"Man/sideways/slightly_upwards\",\"Man/sideways/straight\",\"Man/slightly_turned/upwards\",\"Man/straight/upwards\",\"Man/sideways/slightly_downwards\",\"Man/sideways/slightly_upwards\",\"Man/sideways/straight\",\"Man/straight/straight\",\"Man/sideways/downwards\",\"Woman/sideways/downwards\",\"Man/slightly_turned/downwards\",\"Man/straight/downwards\",\"Woman/straight/downwards\",\"Man/sideways/slightly_downwards\",\"Man/straight/slightly_downwards\",\"Man/sideways/slightly_upwards\",\"Man/straight/slightly_upwards\",\"Woman/straight/slightly_upwards\",\"Man/sideways/straight\",\"Woman/sideways/straight\",\"Man/slightly_turned/straight\",\"Man/straight/straight\",\"Woman/straight/straight\",\"Man/sideways/upwards\",\"Woman/sideways/upwards\",\"Man/straight/upwards\",\"Man/sideways\",\"Woman/sideways\",\"Man/slightly_turned\",\"Man/straight\",\"Woman/straight\",\"Man/sideways\",\"Man/straight\",\"Man/sideways\",\"Man/straight\",\"Woman/straight\",\"Man/sideways\",\"Woman/sideways\",\"Man/slightly_turned\",\"Man/straight\",\"Woman/straight\",\"Man/sideways\",\"Woman/sideways\",\"Man/slightly_turned\",\"Man/straight\",\"Man\",\"Woman\",\"Man\",\"Man\",\"Woman\",\"\",\"\"],\"values\":[7,1,2,1,1,2,1,1,3,1,3,2,35,7,1,3,1,14,4,9,5,1,11,4,2,12,2,3,1,1,42,7,1,4,1,19,5,11,5,1,16,4,2,14,2,3,1,1,2,91,12,4,30,4,125,16],\"type\":\"sunburst\"}],                        {\"template\":{\"data\":{\"histogram2dcontour\":[{\"type\":\"histogram2dcontour\",\"colorbar\":{\"outlinewidth\":0,\"ticks\":\"\"},\"colorscale\":[[0.0,\"#0d0887\"],[0.1111111111111111,\"#46039f\"],[0.2222222222222222,\"#7201a8\"],[0.3333333333333333,\"#9c179e\"],[0.4444444444444444,\"#bd3786\"],[0.5555555555555556,\"#d8576b\"],[0.6666666666666666,\"#ed7953\"],[0.7777777777777778,\"#fb9f3a\"],[0.8888888888888888,\"#fdca26\"],[1.0,\"#f0f921\"]]}],\"choropleth\":[{\"type\":\"choropleth\",\"colorbar\":{\"outlinewidth\":0,\"ticks\":\"\"}}],\"histogram2d\":[{\"type\":\"histogram2d\",\"colorbar\":{\"outlinewidth\":0,\"ticks\":\"\"},\"colorscale\":[[0.0,\"#0d0887\"],[0.1111111111111111,\"#46039f\"],[0.2222222222222222,\"#7201a8\"],[0.3333333333333333,\"#9c179e\"],[0.4444444444444444,\"#bd3786\"],[0.5555555555555556,\"#d8576b\"],[0.6666666666666666,\"#ed7953\"],[0.7777777777777778,\"#fb9f3a\"],[0.8888888888888888,\"#fdca26\"],[1.0,\"#f0f921\"]]}],\"heatmap\":[{\"type\":\"heatmap\",\"colorbar\":{\"outlinewidth\":0,\"ticks\":\"\"},\"colorscale\":[[0.0,\"#0d0887\"],[0.1111111111111111,\"#46039f\"],[0.2222222222222222,\"#7201a8\"],[0.3333333333333333,\"#9c179e\"],[0.4444444444444444,\"#bd3786\"],[0.5555555555555556,\"#d8576b\"],[0.6666666666666666,\"#ed7953\"],[0.7777777777777778,\"#fb9f3a\"],[0.8888888888888888,\"#fdca26\"],[1.0,\"#f0f921\"]]}],\"heatmapgl\":[{\"type\":\"heatmapgl\",\"colorbar\":{\"outlinewidth\":0,\"ticks\":\"\"},\"colorscale\":[[0.0,\"#0d0887\"],[0.1111111111111111,\"#46039f\"],[0.2222222222222222,\"#7201a8\"],[0.3333333333333333,\"#9c179e\"],[0.4444444444444444,\"#bd3786\"],[0.5555555555555556,\"#d8576b\"],[0.6666666666666666,\"#ed7953\"],[0.7777777777777778,\"#fb9f3a\"],[0.8888888888888888,\"#fdca26\"],[1.0,\"#f0f921\"]]}],\"contourcarpet\":[{\"type\":\"contourcarpet\",\"colorbar\":{\"outlinewidth\":0,\"ticks\":\"\"}}],\"contour\":[{\"type\":\"contour\",\"colorbar\":{\"outlinewidth\":0,\"ticks\":\"\"},\"colorscale\":[[0.0,\"#0d0887\"],[0.1111111111111111,\"#46039f\"],[0.2222222222222222,\"#7201a8\"],[0.3333333333333333,\"#9c179e\"],[0.4444444444444444,\"#bd3786\"],[0.5555555555555556,\"#d8576b\"],[0.6666666666666666,\"#ed7953\"],[0.7777777777777778,\"#fb9f3a\"],[0.8888888888888888,\"#fdca26\"],[1.0,\"#f0f921\"]]}],\"surface\":[{\"type\":\"surface\",\"colorbar\":{\"outlinewidth\":0,\"ticks\":\"\"},\"colorscale\":[[0.0,\"#0d0887\"],[0.1111111111111111,\"#46039f\"],[0.2222222222222222,\"#7201a8\"],[0.3333333333333333,\"#9c179e\"],[0.4444444444444444,\"#bd3786\"],[0.5555555555555556,\"#d8576b\"],[0.6666666666666666,\"#ed7953\"],[0.7777777777777778,\"#fb9f3a\"],[0.8888888888888888,\"#fdca26\"],[1.0,\"#f0f921\"]]}],\"mesh3d\":[{\"type\":\"mesh3d\",\"colorbar\":{\"outlinewidth\":0,\"ticks\":\"\"}}],\"scatter\":[{\"fillpattern\":{\"fillmode\":\"overlay\",\"size\":10,\"solidity\":0.2},\"type\":\"scatter\"}],\"parcoords\":[{\"type\":\"parcoords\",\"line\":{\"colorbar\":{\"outlinewidth\":0,\"ticks\":\"\"}}}],\"scatterpolargl\":[{\"type\":\"scatterpolargl\",\"marker\":{\"colorbar\":{\"outlinewidth\":0,\"ticks\":\"\"}}}],\"bar\":[{\"error_x\":{\"color\":\"#2a3f5f\"},\"error_y\":{\"color\":\"#2a3f5f\"},\"marker\":{\"line\":{\"color\":\"#E5ECF6\",\"width\":0.5},\"pattern\":{\"fillmode\":\"overlay\",\"size\":10,\"solidity\":0.2}},\"type\":\"bar\"}],\"scattergeo\":[{\"type\":\"scattergeo\",\"marker\":{\"colorbar\":{\"outlinewidth\":0,\"ticks\":\"\"}}}],\"scatterpolar\":[{\"type\":\"scatterpolar\",\"marker\":{\"colorbar\":{\"outlinewidth\":0,\"ticks\":\"\"}}}],\"histogram\":[{\"marker\":{\"pattern\":{\"fillmode\":\"overlay\",\"size\":10,\"solidity\":0.2}},\"type\":\"histogram\"}],\"scattergl\":[{\"type\":\"scattergl\",\"marker\":{\"colorbar\":{\"outlinewidth\":0,\"ticks\":\"\"}}}],\"scatter3d\":[{\"type\":\"scatter3d\",\"line\":{\"colorbar\":{\"outlinewidth\":0,\"ticks\":\"\"}},\"marker\":{\"colorbar\":{\"outlinewidth\":0,\"ticks\":\"\"}}}],\"scattermapbox\":[{\"type\":\"scattermapbox\",\"marker\":{\"colorbar\":{\"outlinewidth\":0,\"ticks\":\"\"}}}],\"scatterternary\":[{\"type\":\"scatterternary\",\"marker\":{\"colorbar\":{\"outlinewidth\":0,\"ticks\":\"\"}}}],\"scattercarpet\":[{\"type\":\"scattercarpet\",\"marker\":{\"colorbar\":{\"outlinewidth\":0,\"ticks\":\"\"}}}],\"carpet\":[{\"aaxis\":{\"endlinecolor\":\"#2a3f5f\",\"gridcolor\":\"white\",\"linecolor\":\"white\",\"minorgridcolor\":\"white\",\"startlinecolor\":\"#2a3f5f\"},\"baxis\":{\"endlinecolor\":\"#2a3f5f\",\"gridcolor\":\"white\",\"linecolor\":\"white\",\"minorgridcolor\":\"white\",\"startlinecolor\":\"#2a3f5f\"},\"type\":\"carpet\"}],\"table\":[{\"cells\":{\"fill\":{\"color\":\"#EBF0F8\"},\"line\":{\"color\":\"white\"}},\"header\":{\"fill\":{\"color\":\"#C8D4E3\"},\"line\":{\"color\":\"white\"}},\"type\":\"table\"}],\"barpolar\":[{\"marker\":{\"line\":{\"color\":\"#E5ECF6\",\"width\":0.5},\"pattern\":{\"fillmode\":\"overlay\",\"size\":10,\"solidity\":0.2}},\"type\":\"barpolar\"}],\"pie\":[{\"automargin\":true,\"type\":\"pie\"}]},\"layout\":{\"autotypenumbers\":\"strict\",\"colorway\":[\"#636efa\",\"#EF553B\",\"#00cc96\",\"#ab63fa\",\"#FFA15A\",\"#19d3f3\",\"#FF6692\",\"#B6E880\",\"#FF97FF\",\"#FECB52\"],\"font\":{\"color\":\"#2a3f5f\"},\"hovermode\":\"closest\",\"hoverlabel\":{\"align\":\"left\"},\"paper_bgcolor\":\"white\",\"plot_bgcolor\":\"#E5ECF6\",\"polar\":{\"bgcolor\":\"#E5ECF6\",\"angularaxis\":{\"gridcolor\":\"white\",\"linecolor\":\"white\",\"ticks\":\"\"},\"radialaxis\":{\"gridcolor\":\"white\",\"linecolor\":\"white\",\"ticks\":\"\"}},\"ternary\":{\"bgcolor\":\"#E5ECF6\",\"aaxis\":{\"gridcolor\":\"white\",\"linecolor\":\"white\",\"ticks\":\"\"},\"baxis\":{\"gridcolor\":\"white\",\"linecolor\":\"white\",\"ticks\":\"\"},\"caxis\":{\"gridcolor\":\"white\",\"linecolor\":\"white\",\"ticks\":\"\"}},\"coloraxis\":{\"colorbar\":{\"outlinewidth\":0,\"ticks\":\"\"}},\"colorscale\":{\"sequential\":[[0.0,\"#0d0887\"],[0.1111111111111111,\"#46039f\"],[0.2222222222222222,\"#7201a8\"],[0.3333333333333333,\"#9c179e\"],[0.4444444444444444,\"#bd3786\"],[0.5555555555555556,\"#d8576b\"],[0.6666666666666666,\"#ed7953\"],[0.7777777777777778,\"#fb9f3a\"],[0.8888888888888888,\"#fdca26\"],[1.0,\"#f0f921\"]],\"sequentialminus\":[[0.0,\"#0d0887\"],[0.1111111111111111,\"#46039f\"],[0.2222222222222222,\"#7201a8\"],[0.3333333333333333,\"#9c179e\"],[0.4444444444444444,\"#bd3786\"],[0.5555555555555556,\"#d8576b\"],[0.6666666666666666,\"#ed7953\"],[0.7777777777777778,\"#fb9f3a\"],[0.8888888888888888,\"#fdca26\"],[1.0,\"#f0f921\"]],\"diverging\":[[0,\"#8e0152\"],[0.1,\"#c51b7d\"],[0.2,\"#de77ae\"],[0.3,\"#f1b6da\"],[0.4,\"#fde0ef\"],[0.5,\"#f7f7f7\"],[0.6,\"#e6f5d0\"],[0.7,\"#b8e186\"],[0.8,\"#7fbc41\"],[0.9,\"#4d9221\"],[1,\"#276419\"]]},\"xaxis\":{\"gridcolor\":\"white\",\"linecolor\":\"white\",\"ticks\":\"\",\"title\":{\"standoff\":15},\"zerolinecolor\":\"white\",\"automargin\":true,\"zerolinewidth\":2},\"yaxis\":{\"gridcolor\":\"white\",\"linecolor\":\"white\",\"ticks\":\"\",\"title\":{\"standoff\":15},\"zerolinecolor\":\"white\",\"automargin\":true,\"zerolinewidth\":2},\"scene\":{\"xaxis\":{\"backgroundcolor\":\"#E5ECF6\",\"gridcolor\":\"white\",\"linecolor\":\"white\",\"showbackground\":true,\"ticks\":\"\",\"zerolinecolor\":\"white\",\"gridwidth\":2},\"yaxis\":{\"backgroundcolor\":\"#E5ECF6\",\"gridcolor\":\"white\",\"linecolor\":\"white\",\"showbackground\":true,\"ticks\":\"\",\"zerolinecolor\":\"white\",\"gridwidth\":2},\"zaxis\":{\"backgroundcolor\":\"#E5ECF6\",\"gridcolor\":\"white\",\"linecolor\":\"white\",\"showbackground\":true,\"ticks\":\"\",\"zerolinecolor\":\"white\",\"gridwidth\":2}},\"shapedefaults\":{\"line\":{\"color\":\"#2a3f5f\"}},\"annotationdefaults\":{\"arrowcolor\":\"#2a3f5f\",\"arrowhead\":0,\"arrowwidth\":1},\"geo\":{\"bgcolor\":\"white\",\"landcolor\":\"#E5ECF6\",\"subunitcolor\":\"white\",\"showland\":true,\"showlakes\":true,\"lakecolor\":\"white\"},\"title\":{\"x\":0.05},\"mapbox\":{\"style\":\"light\"}}},\"coloraxis\":{\"colorbar\":{\"title\":{\"text\":\"Quality\"}},\"colorscale\":[[0.0,\"#440154\"],[0.1111111111111111,\"#482878\"],[0.2222222222222222,\"#3e4989\"],[0.3333333333333333,\"#31688e\"],[0.4444444444444444,\"#26828e\"],[0.5555555555555556,\"#1f9e89\"],[0.6666666666666666,\"#35b779\"],[0.7777777777777778,\"#6ece58\"],[0.8888888888888888,\"#b5de2b\"],[1.0,\"#fde725\"]],\"cmin\":0,\"cmax\":1},\"legend\":{\"tracegroupgap\":0},\"title\":{\"text\":\"ENFSI, Model QMagFace_SR\"}},                        {\"responsive\": true}                    ).then(function(){\n",
       "                            \n",
       "var gd = document.getElementById('43cfd15a-cfb1-4eb1-90c5-611193145052');\n",
       "var x = new MutationObserver(function (mutations, observer) {{\n",
       "        var display = window.getComputedStyle(gd).display;\n",
       "        if (!display || display === 'none') {{\n",
       "            console.log([gd, 'removed!']);\n",
       "            Plotly.purge(gd);\n",
       "            observer.disconnect();\n",
       "        }}\n",
       "}});\n",
       "\n",
       "// Listen for the removal of the full notebook cells\n",
       "var notebookContainer = gd.closest('#notebook-container');\n",
       "if (notebookContainer) {{\n",
       "    x.observe(notebookContainer, {childList: true});\n",
       "}}\n",
       "\n",
       "// Listen for the clearing of the current output cell\n",
       "var outputEl = gd.closest('.output');\n",
       "if (outputEl) {{\n",
       "    x.observe(outputEl, {childList: true});\n",
       "}}\n",
       "\n",
       "                        })                };                });            </script>        </div>"
      ]
     },
     "metadata": {},
     "output_type": "display_data"
    },
    {
     "data": {
      "application/vnd.plotly.v1+json": {
       "config": {
        "plotlyServerURL": "https://plot.ly"
       },
       "data": [
        {
         "branchvalues": "total",
         "customdata": [
          [
           0.49032594693403203
          ],
          [
           0.5058097513354831
          ],
          [
           0.22820521322983597
          ],
          [
           0.25664738839680523
          ],
          [
           0.6524560939589216
          ],
          [
           0.6688720030242458
          ],
          [
           0.5560578336714171
          ],
          [
           0.5705224996591886
          ],
          [
           0.49032594693403203
          ],
          [
           0.5058097513354831
          ],
          [
           0.22820521322983597
          ],
          [
           0.25664738839680523
          ],
          [
           0.6524560939589216
          ],
          [
           0.6688720030242458
          ],
          [
           0.5560578336714171
          ],
          [
           0.5705224996591886
          ],
          [
           0.22820521322983597
          ],
          [
           0.25664738839680523
          ],
          [
           0.6524560939589216
          ],
          [
           0.6688720030242458
          ],
          [
           0.5500425814368288
          ],
          [
           0.5649529598444434
          ],
          [
           0.5322295006790556
          ],
          [
           0.5497853905684
          ]
         ],
         "domain": {
          "x": [
           0,
           1
          ],
          "y": [
           0,
           1
          ]
         },
         "hovertemplate": "labels=%{label}<br>count=%{value}<br>parent=%{parent}<br>id=%{id}<br>Quality=%{color}<extra></extra>",
         "ids": [
          "Man/straight/slightly_downwards/white",
          "Woman/straight/slightly_downwards/white",
          "Man/sideways/straight/white",
          "Woman/sideways/straight/white",
          "Man/slightly_turned/straight/white",
          "Woman/slightly_turned/straight/white",
          "Man/straight/straight/white",
          "Woman/straight/straight/white",
          "Man/straight/slightly_downwards",
          "Woman/straight/slightly_downwards",
          "Man/sideways/straight",
          "Woman/sideways/straight",
          "Man/slightly_turned/straight",
          "Woman/slightly_turned/straight",
          "Man/straight/straight",
          "Woman/straight/straight",
          "Man/sideways",
          "Woman/sideways",
          "Man/slightly_turned",
          "Woman/slightly_turned",
          "Man/straight",
          "Woman/straight",
          "Man",
          "Woman"
         ],
         "labels": [
          "white",
          "white",
          "white",
          "white",
          "white",
          "white",
          "white",
          "white",
          "slightly_downwards",
          "slightly_downwards",
          "straight",
          "straight",
          "straight",
          "straight",
          "straight",
          "straight",
          "sideways",
          "sideways",
          "slightly_turned",
          "slightly_turned",
          "straight",
          "straight",
          "Man",
          "Woman"
         ],
         "marker": {
          "coloraxis": "coloraxis",
          "colors": [
           0.49032594693403203,
           0.5058097513354831,
           0.22820521322983597,
           0.25664738839680523,
           0.6524560939589216,
           0.6688720030242458,
           0.5560578336714171,
           0.5705224996591886,
           0.49032594693403203,
           0.5058097513354831,
           0.22820521322983597,
           0.25664738839680523,
           0.6524560939589216,
           0.6688720030242458,
           0.5560578336714171,
           0.5705224996591886,
           0.22820521322983597,
           0.25664738839680523,
           0.6524560939589216,
           0.6688720030242458,
           0.5500425814368288,
           0.5649529598444434,
           0.5322295006790556,
           0.5497853905684
          ]
         },
         "name": "",
         "parents": [
          "Man/straight/slightly_downwards",
          "Woman/straight/slightly_downwards",
          "Man/sideways/straight",
          "Woman/sideways/straight",
          "Man/slightly_turned/straight",
          "Woman/slightly_turned/straight",
          "Man/straight/straight",
          "Woman/straight/straight",
          "Man/straight",
          "Woman/straight",
          "Man/sideways",
          "Woman/sideways",
          "Man/slightly_turned",
          "Woman/slightly_turned",
          "Man/straight",
          "Woman/straight",
          "Man",
          "Woman",
          "Man",
          "Woman",
          "Man",
          "Woman",
          "",
          ""
         ],
         "type": "sunburst",
         "values": [
          138,
          21,
          154,
          24,
          166,
          28,
          1370,
          223,
          138,
          21,
          154,
          24,
          166,
          28,
          1370,
          223,
          154,
          24,
          166,
          28,
          1508,
          244,
          1828,
          296
         ]
        }
       ],
       "layout": {
        "coloraxis": {
         "cmax": 1,
         "cmin": 0,
         "colorbar": {
          "title": {
           "text": "Quality"
          }
         },
         "colorscale": [
          [
           0,
           "#440154"
          ],
          [
           0.1111111111111111,
           "#482878"
          ],
          [
           0.2222222222222222,
           "#3e4989"
          ],
          [
           0.3333333333333333,
           "#31688e"
          ],
          [
           0.4444444444444444,
           "#26828e"
          ],
          [
           0.5555555555555556,
           "#1f9e89"
          ],
          [
           0.6666666666666666,
           "#35b779"
          ],
          [
           0.7777777777777778,
           "#6ece58"
          ],
          [
           0.8888888888888888,
           "#b5de2b"
          ],
          [
           1,
           "#fde725"
          ]
         ]
        },
        "legend": {
         "tracegroupgap": 0
        },
        "template": {
         "data": {
          "bar": [
           {
            "error_x": {
             "color": "#2a3f5f"
            },
            "error_y": {
             "color": "#2a3f5f"
            },
            "marker": {
             "line": {
              "color": "#E5ECF6",
              "width": 0.5
             },
             "pattern": {
              "fillmode": "overlay",
              "size": 10,
              "solidity": 0.2
             }
            },
            "type": "bar"
           }
          ],
          "barpolar": [
           {
            "marker": {
             "line": {
              "color": "#E5ECF6",
              "width": 0.5
             },
             "pattern": {
              "fillmode": "overlay",
              "size": 10,
              "solidity": 0.2
             }
            },
            "type": "barpolar"
           }
          ],
          "carpet": [
           {
            "aaxis": {
             "endlinecolor": "#2a3f5f",
             "gridcolor": "white",
             "linecolor": "white",
             "minorgridcolor": "white",
             "startlinecolor": "#2a3f5f"
            },
            "baxis": {
             "endlinecolor": "#2a3f5f",
             "gridcolor": "white",
             "linecolor": "white",
             "minorgridcolor": "white",
             "startlinecolor": "#2a3f5f"
            },
            "type": "carpet"
           }
          ],
          "choropleth": [
           {
            "colorbar": {
             "outlinewidth": 0,
             "ticks": ""
            },
            "type": "choropleth"
           }
          ],
          "contour": [
           {
            "colorbar": {
             "outlinewidth": 0,
             "ticks": ""
            },
            "colorscale": [
             [
              0,
              "#0d0887"
             ],
             [
              0.1111111111111111,
              "#46039f"
             ],
             [
              0.2222222222222222,
              "#7201a8"
             ],
             [
              0.3333333333333333,
              "#9c179e"
             ],
             [
              0.4444444444444444,
              "#bd3786"
             ],
             [
              0.5555555555555556,
              "#d8576b"
             ],
             [
              0.6666666666666666,
              "#ed7953"
             ],
             [
              0.7777777777777778,
              "#fb9f3a"
             ],
             [
              0.8888888888888888,
              "#fdca26"
             ],
             [
              1,
              "#f0f921"
             ]
            ],
            "type": "contour"
           }
          ],
          "contourcarpet": [
           {
            "colorbar": {
             "outlinewidth": 0,
             "ticks": ""
            },
            "type": "contourcarpet"
           }
          ],
          "heatmap": [
           {
            "colorbar": {
             "outlinewidth": 0,
             "ticks": ""
            },
            "colorscale": [
             [
              0,
              "#0d0887"
             ],
             [
              0.1111111111111111,
              "#46039f"
             ],
             [
              0.2222222222222222,
              "#7201a8"
             ],
             [
              0.3333333333333333,
              "#9c179e"
             ],
             [
              0.4444444444444444,
              "#bd3786"
             ],
             [
              0.5555555555555556,
              "#d8576b"
             ],
             [
              0.6666666666666666,
              "#ed7953"
             ],
             [
              0.7777777777777778,
              "#fb9f3a"
             ],
             [
              0.8888888888888888,
              "#fdca26"
             ],
             [
              1,
              "#f0f921"
             ]
            ],
            "type": "heatmap"
           }
          ],
          "heatmapgl": [
           {
            "colorbar": {
             "outlinewidth": 0,
             "ticks": ""
            },
            "colorscale": [
             [
              0,
              "#0d0887"
             ],
             [
              0.1111111111111111,
              "#46039f"
             ],
             [
              0.2222222222222222,
              "#7201a8"
             ],
             [
              0.3333333333333333,
              "#9c179e"
             ],
             [
              0.4444444444444444,
              "#bd3786"
             ],
             [
              0.5555555555555556,
              "#d8576b"
             ],
             [
              0.6666666666666666,
              "#ed7953"
             ],
             [
              0.7777777777777778,
              "#fb9f3a"
             ],
             [
              0.8888888888888888,
              "#fdca26"
             ],
             [
              1,
              "#f0f921"
             ]
            ],
            "type": "heatmapgl"
           }
          ],
          "histogram": [
           {
            "marker": {
             "pattern": {
              "fillmode": "overlay",
              "size": 10,
              "solidity": 0.2
             }
            },
            "type": "histogram"
           }
          ],
          "histogram2d": [
           {
            "colorbar": {
             "outlinewidth": 0,
             "ticks": ""
            },
            "colorscale": [
             [
              0,
              "#0d0887"
             ],
             [
              0.1111111111111111,
              "#46039f"
             ],
             [
              0.2222222222222222,
              "#7201a8"
             ],
             [
              0.3333333333333333,
              "#9c179e"
             ],
             [
              0.4444444444444444,
              "#bd3786"
             ],
             [
              0.5555555555555556,
              "#d8576b"
             ],
             [
              0.6666666666666666,
              "#ed7953"
             ],
             [
              0.7777777777777778,
              "#fb9f3a"
             ],
             [
              0.8888888888888888,
              "#fdca26"
             ],
             [
              1,
              "#f0f921"
             ]
            ],
            "type": "histogram2d"
           }
          ],
          "histogram2dcontour": [
           {
            "colorbar": {
             "outlinewidth": 0,
             "ticks": ""
            },
            "colorscale": [
             [
              0,
              "#0d0887"
             ],
             [
              0.1111111111111111,
              "#46039f"
             ],
             [
              0.2222222222222222,
              "#7201a8"
             ],
             [
              0.3333333333333333,
              "#9c179e"
             ],
             [
              0.4444444444444444,
              "#bd3786"
             ],
             [
              0.5555555555555556,
              "#d8576b"
             ],
             [
              0.6666666666666666,
              "#ed7953"
             ],
             [
              0.7777777777777778,
              "#fb9f3a"
             ],
             [
              0.8888888888888888,
              "#fdca26"
             ],
             [
              1,
              "#f0f921"
             ]
            ],
            "type": "histogram2dcontour"
           }
          ],
          "mesh3d": [
           {
            "colorbar": {
             "outlinewidth": 0,
             "ticks": ""
            },
            "type": "mesh3d"
           }
          ],
          "parcoords": [
           {
            "line": {
             "colorbar": {
              "outlinewidth": 0,
              "ticks": ""
             }
            },
            "type": "parcoords"
           }
          ],
          "pie": [
           {
            "automargin": true,
            "type": "pie"
           }
          ],
          "scatter": [
           {
            "fillpattern": {
             "fillmode": "overlay",
             "size": 10,
             "solidity": 0.2
            },
            "type": "scatter"
           }
          ],
          "scatter3d": [
           {
            "line": {
             "colorbar": {
              "outlinewidth": 0,
              "ticks": ""
             }
            },
            "marker": {
             "colorbar": {
              "outlinewidth": 0,
              "ticks": ""
             }
            },
            "type": "scatter3d"
           }
          ],
          "scattercarpet": [
           {
            "marker": {
             "colorbar": {
              "outlinewidth": 0,
              "ticks": ""
             }
            },
            "type": "scattercarpet"
           }
          ],
          "scattergeo": [
           {
            "marker": {
             "colorbar": {
              "outlinewidth": 0,
              "ticks": ""
             }
            },
            "type": "scattergeo"
           }
          ],
          "scattergl": [
           {
            "marker": {
             "colorbar": {
              "outlinewidth": 0,
              "ticks": ""
             }
            },
            "type": "scattergl"
           }
          ],
          "scattermapbox": [
           {
            "marker": {
             "colorbar": {
              "outlinewidth": 0,
              "ticks": ""
             }
            },
            "type": "scattermapbox"
           }
          ],
          "scatterpolar": [
           {
            "marker": {
             "colorbar": {
              "outlinewidth": 0,
              "ticks": ""
             }
            },
            "type": "scatterpolar"
           }
          ],
          "scatterpolargl": [
           {
            "marker": {
             "colorbar": {
              "outlinewidth": 0,
              "ticks": ""
             }
            },
            "type": "scatterpolargl"
           }
          ],
          "scatterternary": [
           {
            "marker": {
             "colorbar": {
              "outlinewidth": 0,
              "ticks": ""
             }
            },
            "type": "scatterternary"
           }
          ],
          "surface": [
           {
            "colorbar": {
             "outlinewidth": 0,
             "ticks": ""
            },
            "colorscale": [
             [
              0,
              "#0d0887"
             ],
             [
              0.1111111111111111,
              "#46039f"
             ],
             [
              0.2222222222222222,
              "#7201a8"
             ],
             [
              0.3333333333333333,
              "#9c179e"
             ],
             [
              0.4444444444444444,
              "#bd3786"
             ],
             [
              0.5555555555555556,
              "#d8576b"
             ],
             [
              0.6666666666666666,
              "#ed7953"
             ],
             [
              0.7777777777777778,
              "#fb9f3a"
             ],
             [
              0.8888888888888888,
              "#fdca26"
             ],
             [
              1,
              "#f0f921"
             ]
            ],
            "type": "surface"
           }
          ],
          "table": [
           {
            "cells": {
             "fill": {
              "color": "#EBF0F8"
             },
             "line": {
              "color": "white"
             }
            },
            "header": {
             "fill": {
              "color": "#C8D4E3"
             },
             "line": {
              "color": "white"
             }
            },
            "type": "table"
           }
          ]
         },
         "layout": {
          "annotationdefaults": {
           "arrowcolor": "#2a3f5f",
           "arrowhead": 0,
           "arrowwidth": 1
          },
          "autotypenumbers": "strict",
          "coloraxis": {
           "colorbar": {
            "outlinewidth": 0,
            "ticks": ""
           }
          },
          "colorscale": {
           "diverging": [
            [
             0,
             "#8e0152"
            ],
            [
             0.1,
             "#c51b7d"
            ],
            [
             0.2,
             "#de77ae"
            ],
            [
             0.3,
             "#f1b6da"
            ],
            [
             0.4,
             "#fde0ef"
            ],
            [
             0.5,
             "#f7f7f7"
            ],
            [
             0.6,
             "#e6f5d0"
            ],
            [
             0.7,
             "#b8e186"
            ],
            [
             0.8,
             "#7fbc41"
            ],
            [
             0.9,
             "#4d9221"
            ],
            [
             1,
             "#276419"
            ]
           ],
           "sequential": [
            [
             0,
             "#0d0887"
            ],
            [
             0.1111111111111111,
             "#46039f"
            ],
            [
             0.2222222222222222,
             "#7201a8"
            ],
            [
             0.3333333333333333,
             "#9c179e"
            ],
            [
             0.4444444444444444,
             "#bd3786"
            ],
            [
             0.5555555555555556,
             "#d8576b"
            ],
            [
             0.6666666666666666,
             "#ed7953"
            ],
            [
             0.7777777777777778,
             "#fb9f3a"
            ],
            [
             0.8888888888888888,
             "#fdca26"
            ],
            [
             1,
             "#f0f921"
            ]
           ],
           "sequentialminus": [
            [
             0,
             "#0d0887"
            ],
            [
             0.1111111111111111,
             "#46039f"
            ],
            [
             0.2222222222222222,
             "#7201a8"
            ],
            [
             0.3333333333333333,
             "#9c179e"
            ],
            [
             0.4444444444444444,
             "#bd3786"
            ],
            [
             0.5555555555555556,
             "#d8576b"
            ],
            [
             0.6666666666666666,
             "#ed7953"
            ],
            [
             0.7777777777777778,
             "#fb9f3a"
            ],
            [
             0.8888888888888888,
             "#fdca26"
            ],
            [
             1,
             "#f0f921"
            ]
           ]
          },
          "colorway": [
           "#636efa",
           "#EF553B",
           "#00cc96",
           "#ab63fa",
           "#FFA15A",
           "#19d3f3",
           "#FF6692",
           "#B6E880",
           "#FF97FF",
           "#FECB52"
          ],
          "font": {
           "color": "#2a3f5f"
          },
          "geo": {
           "bgcolor": "white",
           "lakecolor": "white",
           "landcolor": "#E5ECF6",
           "showlakes": true,
           "showland": true,
           "subunitcolor": "white"
          },
          "hoverlabel": {
           "align": "left"
          },
          "hovermode": "closest",
          "mapbox": {
           "style": "light"
          },
          "paper_bgcolor": "white",
          "plot_bgcolor": "#E5ECF6",
          "polar": {
           "angularaxis": {
            "gridcolor": "white",
            "linecolor": "white",
            "ticks": ""
           },
           "bgcolor": "#E5ECF6",
           "radialaxis": {
            "gridcolor": "white",
            "linecolor": "white",
            "ticks": ""
           }
          },
          "scene": {
           "xaxis": {
            "backgroundcolor": "#E5ECF6",
            "gridcolor": "white",
            "gridwidth": 2,
            "linecolor": "white",
            "showbackground": true,
            "ticks": "",
            "zerolinecolor": "white"
           },
           "yaxis": {
            "backgroundcolor": "#E5ECF6",
            "gridcolor": "white",
            "gridwidth": 2,
            "linecolor": "white",
            "showbackground": true,
            "ticks": "",
            "zerolinecolor": "white"
           },
           "zaxis": {
            "backgroundcolor": "#E5ECF6",
            "gridcolor": "white",
            "gridwidth": 2,
            "linecolor": "white",
            "showbackground": true,
            "ticks": "",
            "zerolinecolor": "white"
           }
          },
          "shapedefaults": {
           "line": {
            "color": "#2a3f5f"
           }
          },
          "ternary": {
           "aaxis": {
            "gridcolor": "white",
            "linecolor": "white",
            "ticks": ""
           },
           "baxis": {
            "gridcolor": "white",
            "linecolor": "white",
            "ticks": ""
           },
           "bgcolor": "#E5ECF6",
           "caxis": {
            "gridcolor": "white",
            "linecolor": "white",
            "ticks": ""
           }
          },
          "title": {
           "x": 0.05
          },
          "xaxis": {
           "automargin": true,
           "gridcolor": "white",
           "linecolor": "white",
           "ticks": "",
           "title": {
            "standoff": 15
           },
           "zerolinecolor": "white",
           "zerolinewidth": 2
          },
          "yaxis": {
           "automargin": true,
           "gridcolor": "white",
           "linecolor": "white",
           "ticks": "",
           "title": {
            "standoff": 15
           },
           "zerolinecolor": "white",
           "zerolinewidth": 2
          }
         }
        },
        "title": {
         "text": "ForenFace, Model QMagFace"
        }
       }
      },
      "text/html": [
       "<div>                            <div id=\"6d3d3f9c-cd22-4098-b673-2550a0adac33\" class=\"plotly-graph-div\" style=\"height:525px; width:100%;\"></div>            <script type=\"text/javascript\">                require([\"plotly\"], function(Plotly) {                    window.PLOTLYENV=window.PLOTLYENV || {};                                    if (document.getElementById(\"6d3d3f9c-cd22-4098-b673-2550a0adac33\")) {                    Plotly.newPlot(                        \"6d3d3f9c-cd22-4098-b673-2550a0adac33\",                        [{\"branchvalues\":\"total\",\"customdata\":[[0.49032594693403203],[0.5058097513354831],[0.22820521322983597],[0.25664738839680523],[0.6524560939589216],[0.6688720030242458],[0.5560578336714171],[0.5705224996591886],[0.49032594693403203],[0.5058097513354831],[0.22820521322983597],[0.25664738839680523],[0.6524560939589216],[0.6688720030242458],[0.5560578336714171],[0.5705224996591886],[0.22820521322983597],[0.25664738839680523],[0.6524560939589216],[0.6688720030242458],[0.5500425814368288],[0.5649529598444434],[0.5322295006790556],[0.5497853905684]],\"domain\":{\"x\":[0.0,1.0],\"y\":[0.0,1.0]},\"hovertemplate\":\"labels=%{label}<br>count=%{value}<br>parent=%{parent}<br>id=%{id}<br>Quality=%{color}<extra></extra>\",\"ids\":[\"Man/straight/slightly_downwards/white\",\"Woman/straight/slightly_downwards/white\",\"Man/sideways/straight/white\",\"Woman/sideways/straight/white\",\"Man/slightly_turned/straight/white\",\"Woman/slightly_turned/straight/white\",\"Man/straight/straight/white\",\"Woman/straight/straight/white\",\"Man/straight/slightly_downwards\",\"Woman/straight/slightly_downwards\",\"Man/sideways/straight\",\"Woman/sideways/straight\",\"Man/slightly_turned/straight\",\"Woman/slightly_turned/straight\",\"Man/straight/straight\",\"Woman/straight/straight\",\"Man/sideways\",\"Woman/sideways\",\"Man/slightly_turned\",\"Woman/slightly_turned\",\"Man/straight\",\"Woman/straight\",\"Man\",\"Woman\"],\"labels\":[\"white\",\"white\",\"white\",\"white\",\"white\",\"white\",\"white\",\"white\",\"slightly_downwards\",\"slightly_downwards\",\"straight\",\"straight\",\"straight\",\"straight\",\"straight\",\"straight\",\"sideways\",\"sideways\",\"slightly_turned\",\"slightly_turned\",\"straight\",\"straight\",\"Man\",\"Woman\"],\"marker\":{\"coloraxis\":\"coloraxis\",\"colors\":[0.49032594693403203,0.5058097513354831,0.22820521322983597,0.25664738839680523,0.6524560939589216,0.6688720030242458,0.5560578336714171,0.5705224996591886,0.49032594693403203,0.5058097513354831,0.22820521322983597,0.25664738839680523,0.6524560939589216,0.6688720030242458,0.5560578336714171,0.5705224996591886,0.22820521322983597,0.25664738839680523,0.6524560939589216,0.6688720030242458,0.5500425814368288,0.5649529598444434,0.5322295006790556,0.5497853905684]},\"name\":\"\",\"parents\":[\"Man/straight/slightly_downwards\",\"Woman/straight/slightly_downwards\",\"Man/sideways/straight\",\"Woman/sideways/straight\",\"Man/slightly_turned/straight\",\"Woman/slightly_turned/straight\",\"Man/straight/straight\",\"Woman/straight/straight\",\"Man/straight\",\"Woman/straight\",\"Man/sideways\",\"Woman/sideways\",\"Man/slightly_turned\",\"Woman/slightly_turned\",\"Man/straight\",\"Woman/straight\",\"Man\",\"Woman\",\"Man\",\"Woman\",\"Man\",\"Woman\",\"\",\"\"],\"values\":[138,21,154,24,166,28,1370,223,138,21,154,24,166,28,1370,223,154,24,166,28,1508,244,1828,296],\"type\":\"sunburst\"}],                        {\"template\":{\"data\":{\"histogram2dcontour\":[{\"type\":\"histogram2dcontour\",\"colorbar\":{\"outlinewidth\":0,\"ticks\":\"\"},\"colorscale\":[[0.0,\"#0d0887\"],[0.1111111111111111,\"#46039f\"],[0.2222222222222222,\"#7201a8\"],[0.3333333333333333,\"#9c179e\"],[0.4444444444444444,\"#bd3786\"],[0.5555555555555556,\"#d8576b\"],[0.6666666666666666,\"#ed7953\"],[0.7777777777777778,\"#fb9f3a\"],[0.8888888888888888,\"#fdca26\"],[1.0,\"#f0f921\"]]}],\"choropleth\":[{\"type\":\"choropleth\",\"colorbar\":{\"outlinewidth\":0,\"ticks\":\"\"}}],\"histogram2d\":[{\"type\":\"histogram2d\",\"colorbar\":{\"outlinewidth\":0,\"ticks\":\"\"},\"colorscale\":[[0.0,\"#0d0887\"],[0.1111111111111111,\"#46039f\"],[0.2222222222222222,\"#7201a8\"],[0.3333333333333333,\"#9c179e\"],[0.4444444444444444,\"#bd3786\"],[0.5555555555555556,\"#d8576b\"],[0.6666666666666666,\"#ed7953\"],[0.7777777777777778,\"#fb9f3a\"],[0.8888888888888888,\"#fdca26\"],[1.0,\"#f0f921\"]]}],\"heatmap\":[{\"type\":\"heatmap\",\"colorbar\":{\"outlinewidth\":0,\"ticks\":\"\"},\"colorscale\":[[0.0,\"#0d0887\"],[0.1111111111111111,\"#46039f\"],[0.2222222222222222,\"#7201a8\"],[0.3333333333333333,\"#9c179e\"],[0.4444444444444444,\"#bd3786\"],[0.5555555555555556,\"#d8576b\"],[0.6666666666666666,\"#ed7953\"],[0.7777777777777778,\"#fb9f3a\"],[0.8888888888888888,\"#fdca26\"],[1.0,\"#f0f921\"]]}],\"heatmapgl\":[{\"type\":\"heatmapgl\",\"colorbar\":{\"outlinewidth\":0,\"ticks\":\"\"},\"colorscale\":[[0.0,\"#0d0887\"],[0.1111111111111111,\"#46039f\"],[0.2222222222222222,\"#7201a8\"],[0.3333333333333333,\"#9c179e\"],[0.4444444444444444,\"#bd3786\"],[0.5555555555555556,\"#d8576b\"],[0.6666666666666666,\"#ed7953\"],[0.7777777777777778,\"#fb9f3a\"],[0.8888888888888888,\"#fdca26\"],[1.0,\"#f0f921\"]]}],\"contourcarpet\":[{\"type\":\"contourcarpet\",\"colorbar\":{\"outlinewidth\":0,\"ticks\":\"\"}}],\"contour\":[{\"type\":\"contour\",\"colorbar\":{\"outlinewidth\":0,\"ticks\":\"\"},\"colorscale\":[[0.0,\"#0d0887\"],[0.1111111111111111,\"#46039f\"],[0.2222222222222222,\"#7201a8\"],[0.3333333333333333,\"#9c179e\"],[0.4444444444444444,\"#bd3786\"],[0.5555555555555556,\"#d8576b\"],[0.6666666666666666,\"#ed7953\"],[0.7777777777777778,\"#fb9f3a\"],[0.8888888888888888,\"#fdca26\"],[1.0,\"#f0f921\"]]}],\"surface\":[{\"type\":\"surface\",\"colorbar\":{\"outlinewidth\":0,\"ticks\":\"\"},\"colorscale\":[[0.0,\"#0d0887\"],[0.1111111111111111,\"#46039f\"],[0.2222222222222222,\"#7201a8\"],[0.3333333333333333,\"#9c179e\"],[0.4444444444444444,\"#bd3786\"],[0.5555555555555556,\"#d8576b\"],[0.6666666666666666,\"#ed7953\"],[0.7777777777777778,\"#fb9f3a\"],[0.8888888888888888,\"#fdca26\"],[1.0,\"#f0f921\"]]}],\"mesh3d\":[{\"type\":\"mesh3d\",\"colorbar\":{\"outlinewidth\":0,\"ticks\":\"\"}}],\"scatter\":[{\"fillpattern\":{\"fillmode\":\"overlay\",\"size\":10,\"solidity\":0.2},\"type\":\"scatter\"}],\"parcoords\":[{\"type\":\"parcoords\",\"line\":{\"colorbar\":{\"outlinewidth\":0,\"ticks\":\"\"}}}],\"scatterpolargl\":[{\"type\":\"scatterpolargl\",\"marker\":{\"colorbar\":{\"outlinewidth\":0,\"ticks\":\"\"}}}],\"bar\":[{\"error_x\":{\"color\":\"#2a3f5f\"},\"error_y\":{\"color\":\"#2a3f5f\"},\"marker\":{\"line\":{\"color\":\"#E5ECF6\",\"width\":0.5},\"pattern\":{\"fillmode\":\"overlay\",\"size\":10,\"solidity\":0.2}},\"type\":\"bar\"}],\"scattergeo\":[{\"type\":\"scattergeo\",\"marker\":{\"colorbar\":{\"outlinewidth\":0,\"ticks\":\"\"}}}],\"scatterpolar\":[{\"type\":\"scatterpolar\",\"marker\":{\"colorbar\":{\"outlinewidth\":0,\"ticks\":\"\"}}}],\"histogram\":[{\"marker\":{\"pattern\":{\"fillmode\":\"overlay\",\"size\":10,\"solidity\":0.2}},\"type\":\"histogram\"}],\"scattergl\":[{\"type\":\"scattergl\",\"marker\":{\"colorbar\":{\"outlinewidth\":0,\"ticks\":\"\"}}}],\"scatter3d\":[{\"type\":\"scatter3d\",\"line\":{\"colorbar\":{\"outlinewidth\":0,\"ticks\":\"\"}},\"marker\":{\"colorbar\":{\"outlinewidth\":0,\"ticks\":\"\"}}}],\"scattermapbox\":[{\"type\":\"scattermapbox\",\"marker\":{\"colorbar\":{\"outlinewidth\":0,\"ticks\":\"\"}}}],\"scatterternary\":[{\"type\":\"scatterternary\",\"marker\":{\"colorbar\":{\"outlinewidth\":0,\"ticks\":\"\"}}}],\"scattercarpet\":[{\"type\":\"scattercarpet\",\"marker\":{\"colorbar\":{\"outlinewidth\":0,\"ticks\":\"\"}}}],\"carpet\":[{\"aaxis\":{\"endlinecolor\":\"#2a3f5f\",\"gridcolor\":\"white\",\"linecolor\":\"white\",\"minorgridcolor\":\"white\",\"startlinecolor\":\"#2a3f5f\"},\"baxis\":{\"endlinecolor\":\"#2a3f5f\",\"gridcolor\":\"white\",\"linecolor\":\"white\",\"minorgridcolor\":\"white\",\"startlinecolor\":\"#2a3f5f\"},\"type\":\"carpet\"}],\"table\":[{\"cells\":{\"fill\":{\"color\":\"#EBF0F8\"},\"line\":{\"color\":\"white\"}},\"header\":{\"fill\":{\"color\":\"#C8D4E3\"},\"line\":{\"color\":\"white\"}},\"type\":\"table\"}],\"barpolar\":[{\"marker\":{\"line\":{\"color\":\"#E5ECF6\",\"width\":0.5},\"pattern\":{\"fillmode\":\"overlay\",\"size\":10,\"solidity\":0.2}},\"type\":\"barpolar\"}],\"pie\":[{\"automargin\":true,\"type\":\"pie\"}]},\"layout\":{\"autotypenumbers\":\"strict\",\"colorway\":[\"#636efa\",\"#EF553B\",\"#00cc96\",\"#ab63fa\",\"#FFA15A\",\"#19d3f3\",\"#FF6692\",\"#B6E880\",\"#FF97FF\",\"#FECB52\"],\"font\":{\"color\":\"#2a3f5f\"},\"hovermode\":\"closest\",\"hoverlabel\":{\"align\":\"left\"},\"paper_bgcolor\":\"white\",\"plot_bgcolor\":\"#E5ECF6\",\"polar\":{\"bgcolor\":\"#E5ECF6\",\"angularaxis\":{\"gridcolor\":\"white\",\"linecolor\":\"white\",\"ticks\":\"\"},\"radialaxis\":{\"gridcolor\":\"white\",\"linecolor\":\"white\",\"ticks\":\"\"}},\"ternary\":{\"bgcolor\":\"#E5ECF6\",\"aaxis\":{\"gridcolor\":\"white\",\"linecolor\":\"white\",\"ticks\":\"\"},\"baxis\":{\"gridcolor\":\"white\",\"linecolor\":\"white\",\"ticks\":\"\"},\"caxis\":{\"gridcolor\":\"white\",\"linecolor\":\"white\",\"ticks\":\"\"}},\"coloraxis\":{\"colorbar\":{\"outlinewidth\":0,\"ticks\":\"\"}},\"colorscale\":{\"sequential\":[[0.0,\"#0d0887\"],[0.1111111111111111,\"#46039f\"],[0.2222222222222222,\"#7201a8\"],[0.3333333333333333,\"#9c179e\"],[0.4444444444444444,\"#bd3786\"],[0.5555555555555556,\"#d8576b\"],[0.6666666666666666,\"#ed7953\"],[0.7777777777777778,\"#fb9f3a\"],[0.8888888888888888,\"#fdca26\"],[1.0,\"#f0f921\"]],\"sequentialminus\":[[0.0,\"#0d0887\"],[0.1111111111111111,\"#46039f\"],[0.2222222222222222,\"#7201a8\"],[0.3333333333333333,\"#9c179e\"],[0.4444444444444444,\"#bd3786\"],[0.5555555555555556,\"#d8576b\"],[0.6666666666666666,\"#ed7953\"],[0.7777777777777778,\"#fb9f3a\"],[0.8888888888888888,\"#fdca26\"],[1.0,\"#f0f921\"]],\"diverging\":[[0,\"#8e0152\"],[0.1,\"#c51b7d\"],[0.2,\"#de77ae\"],[0.3,\"#f1b6da\"],[0.4,\"#fde0ef\"],[0.5,\"#f7f7f7\"],[0.6,\"#e6f5d0\"],[0.7,\"#b8e186\"],[0.8,\"#7fbc41\"],[0.9,\"#4d9221\"],[1,\"#276419\"]]},\"xaxis\":{\"gridcolor\":\"white\",\"linecolor\":\"white\",\"ticks\":\"\",\"title\":{\"standoff\":15},\"zerolinecolor\":\"white\",\"automargin\":true,\"zerolinewidth\":2},\"yaxis\":{\"gridcolor\":\"white\",\"linecolor\":\"white\",\"ticks\":\"\",\"title\":{\"standoff\":15},\"zerolinecolor\":\"white\",\"automargin\":true,\"zerolinewidth\":2},\"scene\":{\"xaxis\":{\"backgroundcolor\":\"#E5ECF6\",\"gridcolor\":\"white\",\"linecolor\":\"white\",\"showbackground\":true,\"ticks\":\"\",\"zerolinecolor\":\"white\",\"gridwidth\":2},\"yaxis\":{\"backgroundcolor\":\"#E5ECF6\",\"gridcolor\":\"white\",\"linecolor\":\"white\",\"showbackground\":true,\"ticks\":\"\",\"zerolinecolor\":\"white\",\"gridwidth\":2},\"zaxis\":{\"backgroundcolor\":\"#E5ECF6\",\"gridcolor\":\"white\",\"linecolor\":\"white\",\"showbackground\":true,\"ticks\":\"\",\"zerolinecolor\":\"white\",\"gridwidth\":2}},\"shapedefaults\":{\"line\":{\"color\":\"#2a3f5f\"}},\"annotationdefaults\":{\"arrowcolor\":\"#2a3f5f\",\"arrowhead\":0,\"arrowwidth\":1},\"geo\":{\"bgcolor\":\"white\",\"landcolor\":\"#E5ECF6\",\"subunitcolor\":\"white\",\"showland\":true,\"showlakes\":true,\"lakecolor\":\"white\"},\"title\":{\"x\":0.05},\"mapbox\":{\"style\":\"light\"}}},\"coloraxis\":{\"colorbar\":{\"title\":{\"text\":\"Quality\"}},\"colorscale\":[[0.0,\"#440154\"],[0.1111111111111111,\"#482878\"],[0.2222222222222222,\"#3e4989\"],[0.3333333333333333,\"#31688e\"],[0.4444444444444444,\"#26828e\"],[0.5555555555555556,\"#1f9e89\"],[0.6666666666666666,\"#35b779\"],[0.7777777777777778,\"#6ece58\"],[0.8888888888888888,\"#b5de2b\"],[1.0,\"#fde725\"]],\"cmin\":0,\"cmax\":1},\"legend\":{\"tracegroupgap\":0},\"title\":{\"text\":\"ForenFace, Model QMagFace\"}},                        {\"responsive\": true}                    ).then(function(){\n",
       "                            \n",
       "var gd = document.getElementById('6d3d3f9c-cd22-4098-b673-2550a0adac33');\n",
       "var x = new MutationObserver(function (mutations, observer) {{\n",
       "        var display = window.getComputedStyle(gd).display;\n",
       "        if (!display || display === 'none') {{\n",
       "            console.log([gd, 'removed!']);\n",
       "            Plotly.purge(gd);\n",
       "            observer.disconnect();\n",
       "        }}\n",
       "}});\n",
       "\n",
       "// Listen for the removal of the full notebook cells\n",
       "var notebookContainer = gd.closest('#notebook-container');\n",
       "if (notebookContainer) {{\n",
       "    x.observe(notebookContainer, {childList: true});\n",
       "}}\n",
       "\n",
       "// Listen for the clearing of the current output cell\n",
       "var outputEl = gd.closest('.output');\n",
       "if (outputEl) {{\n",
       "    x.observe(outputEl, {childList: true});\n",
       "}}\n",
       "\n",
       "                        })                };                });            </script>        </div>"
      ]
     },
     "metadata": {},
     "output_type": "display_data"
    },
    {
     "data": {
      "application/vnd.plotly.v1+json": {
       "config": {
        "plotlyServerURL": "https://plot.ly"
       },
       "data": [
        {
         "branchvalues": "total",
         "customdata": [
          [
           0.5270025305944172
          ],
          [
           0.5282042452049557
          ],
          [
           0.21376978726468424
          ],
          [
           0.20383446385220336
          ],
          [
           0.6329127640342985
          ],
          [
           0.6186841076750307
          ],
          [
           0.5895305819634149
          ],
          [
           0.590100455991898
          ],
          [
           0.5270025305944172
          ],
          [
           0.5282042452049557
          ],
          [
           0.21376978726468424
          ],
          [
           0.20383446385220336
          ],
          [
           0.6329127640342985
          ],
          [
           0.6186841076750307
          ],
          [
           0.5895305819634149
          ],
          [
           0.590100455991898
          ],
          [
           0.21376978726468424
          ],
          [
           0.20383446385220336
          ],
          [
           0.6329127640342985
          ],
          [
           0.6186841076750307
          ],
          [
           0.5834102321581222
          ],
          [
           0.58432347631845
          ],
          [
           0.5549301432706765
          ],
          [
           0.554830196097491
          ]
         ],
         "domain": {
          "x": [
           0,
           1
          ],
          "y": [
           0,
           1
          ]
         },
         "hovertemplate": "labels=%{label}<br>count=%{value}<br>parent=%{parent}<br>id=%{id}<br>Quality=%{color}<extra></extra>",
         "ids": [
          "Man/straight/slightly_downwards/white",
          "Woman/straight/slightly_downwards/white",
          "Man/sideways/straight/white",
          "Woman/sideways/straight/white",
          "Man/slightly_turned/straight/white",
          "Woman/slightly_turned/straight/white",
          "Man/straight/straight/white",
          "Woman/straight/straight/white",
          "Man/straight/slightly_downwards",
          "Woman/straight/slightly_downwards",
          "Man/sideways/straight",
          "Woman/sideways/straight",
          "Man/slightly_turned/straight",
          "Woman/slightly_turned/straight",
          "Man/straight/straight",
          "Woman/straight/straight",
          "Man/sideways",
          "Woman/sideways",
          "Man/slightly_turned",
          "Woman/slightly_turned",
          "Man/straight",
          "Woman/straight",
          "Man",
          "Woman"
         ],
         "labels": [
          "white",
          "white",
          "white",
          "white",
          "white",
          "white",
          "white",
          "white",
          "slightly_downwards",
          "slightly_downwards",
          "straight",
          "straight",
          "straight",
          "straight",
          "straight",
          "straight",
          "sideways",
          "sideways",
          "slightly_turned",
          "slightly_turned",
          "straight",
          "straight",
          "Man",
          "Woman"
         ],
         "marker": {
          "coloraxis": "coloraxis",
          "colors": [
           0.5270025305944172,
           0.5282042452049557,
           0.21376978726468424,
           0.20383446385220336,
           0.6329127640342985,
           0.6186841076750307,
           0.5895305819634149,
           0.590100455991898,
           0.5270025305944172,
           0.5282042452049557,
           0.21376978726468424,
           0.20383446385220336,
           0.6329127640342985,
           0.6186841076750307,
           0.5895305819634149,
           0.590100455991898,
           0.21376978726468424,
           0.20383446385220336,
           0.6329127640342985,
           0.6186841076750307,
           0.5834102321581222,
           0.58432347631845,
           0.5549301432706765,
           0.554830196097491
          ]
         },
         "name": "",
         "parents": [
          "Man/straight/slightly_downwards",
          "Woman/straight/slightly_downwards",
          "Man/sideways/straight",
          "Woman/sideways/straight",
          "Man/slightly_turned/straight",
          "Woman/slightly_turned/straight",
          "Man/straight/straight",
          "Woman/straight/straight",
          "Man/straight",
          "Woman/straight",
          "Man/sideways",
          "Woman/sideways",
          "Man/slightly_turned",
          "Woman/slightly_turned",
          "Man/straight",
          "Woman/straight",
          "Man",
          "Woman",
          "Man",
          "Woman",
          "Man",
          "Woman",
          "",
          ""
         ],
         "type": "sunburst",
         "values": [
          134,
          21,
          152,
          24,
          165,
          28,
          1235,
          204,
          134,
          21,
          152,
          24,
          165,
          28,
          1235,
          204,
          152,
          24,
          165,
          28,
          1369,
          225,
          1686,
          277
         ]
        }
       ],
       "layout": {
        "coloraxis": {
         "cmax": 1,
         "cmin": 0,
         "colorbar": {
          "title": {
           "text": "Quality"
          }
         },
         "colorscale": [
          [
           0,
           "#440154"
          ],
          [
           0.1111111111111111,
           "#482878"
          ],
          [
           0.2222222222222222,
           "#3e4989"
          ],
          [
           0.3333333333333333,
           "#31688e"
          ],
          [
           0.4444444444444444,
           "#26828e"
          ],
          [
           0.5555555555555556,
           "#1f9e89"
          ],
          [
           0.6666666666666666,
           "#35b779"
          ],
          [
           0.7777777777777778,
           "#6ece58"
          ],
          [
           0.8888888888888888,
           "#b5de2b"
          ],
          [
           1,
           "#fde725"
          ]
         ]
        },
        "legend": {
         "tracegroupgap": 0
        },
        "template": {
         "data": {
          "bar": [
           {
            "error_x": {
             "color": "#2a3f5f"
            },
            "error_y": {
             "color": "#2a3f5f"
            },
            "marker": {
             "line": {
              "color": "#E5ECF6",
              "width": 0.5
             },
             "pattern": {
              "fillmode": "overlay",
              "size": 10,
              "solidity": 0.2
             }
            },
            "type": "bar"
           }
          ],
          "barpolar": [
           {
            "marker": {
             "line": {
              "color": "#E5ECF6",
              "width": 0.5
             },
             "pattern": {
              "fillmode": "overlay",
              "size": 10,
              "solidity": 0.2
             }
            },
            "type": "barpolar"
           }
          ],
          "carpet": [
           {
            "aaxis": {
             "endlinecolor": "#2a3f5f",
             "gridcolor": "white",
             "linecolor": "white",
             "minorgridcolor": "white",
             "startlinecolor": "#2a3f5f"
            },
            "baxis": {
             "endlinecolor": "#2a3f5f",
             "gridcolor": "white",
             "linecolor": "white",
             "minorgridcolor": "white",
             "startlinecolor": "#2a3f5f"
            },
            "type": "carpet"
           }
          ],
          "choropleth": [
           {
            "colorbar": {
             "outlinewidth": 0,
             "ticks": ""
            },
            "type": "choropleth"
           }
          ],
          "contour": [
           {
            "colorbar": {
             "outlinewidth": 0,
             "ticks": ""
            },
            "colorscale": [
             [
              0,
              "#0d0887"
             ],
             [
              0.1111111111111111,
              "#46039f"
             ],
             [
              0.2222222222222222,
              "#7201a8"
             ],
             [
              0.3333333333333333,
              "#9c179e"
             ],
             [
              0.4444444444444444,
              "#bd3786"
             ],
             [
              0.5555555555555556,
              "#d8576b"
             ],
             [
              0.6666666666666666,
              "#ed7953"
             ],
             [
              0.7777777777777778,
              "#fb9f3a"
             ],
             [
              0.8888888888888888,
              "#fdca26"
             ],
             [
              1,
              "#f0f921"
             ]
            ],
            "type": "contour"
           }
          ],
          "contourcarpet": [
           {
            "colorbar": {
             "outlinewidth": 0,
             "ticks": ""
            },
            "type": "contourcarpet"
           }
          ],
          "heatmap": [
           {
            "colorbar": {
             "outlinewidth": 0,
             "ticks": ""
            },
            "colorscale": [
             [
              0,
              "#0d0887"
             ],
             [
              0.1111111111111111,
              "#46039f"
             ],
             [
              0.2222222222222222,
              "#7201a8"
             ],
             [
              0.3333333333333333,
              "#9c179e"
             ],
             [
              0.4444444444444444,
              "#bd3786"
             ],
             [
              0.5555555555555556,
              "#d8576b"
             ],
             [
              0.6666666666666666,
              "#ed7953"
             ],
             [
              0.7777777777777778,
              "#fb9f3a"
             ],
             [
              0.8888888888888888,
              "#fdca26"
             ],
             [
              1,
              "#f0f921"
             ]
            ],
            "type": "heatmap"
           }
          ],
          "heatmapgl": [
           {
            "colorbar": {
             "outlinewidth": 0,
             "ticks": ""
            },
            "colorscale": [
             [
              0,
              "#0d0887"
             ],
             [
              0.1111111111111111,
              "#46039f"
             ],
             [
              0.2222222222222222,
              "#7201a8"
             ],
             [
              0.3333333333333333,
              "#9c179e"
             ],
             [
              0.4444444444444444,
              "#bd3786"
             ],
             [
              0.5555555555555556,
              "#d8576b"
             ],
             [
              0.6666666666666666,
              "#ed7953"
             ],
             [
              0.7777777777777778,
              "#fb9f3a"
             ],
             [
              0.8888888888888888,
              "#fdca26"
             ],
             [
              1,
              "#f0f921"
             ]
            ],
            "type": "heatmapgl"
           }
          ],
          "histogram": [
           {
            "marker": {
             "pattern": {
              "fillmode": "overlay",
              "size": 10,
              "solidity": 0.2
             }
            },
            "type": "histogram"
           }
          ],
          "histogram2d": [
           {
            "colorbar": {
             "outlinewidth": 0,
             "ticks": ""
            },
            "colorscale": [
             [
              0,
              "#0d0887"
             ],
             [
              0.1111111111111111,
              "#46039f"
             ],
             [
              0.2222222222222222,
              "#7201a8"
             ],
             [
              0.3333333333333333,
              "#9c179e"
             ],
             [
              0.4444444444444444,
              "#bd3786"
             ],
             [
              0.5555555555555556,
              "#d8576b"
             ],
             [
              0.6666666666666666,
              "#ed7953"
             ],
             [
              0.7777777777777778,
              "#fb9f3a"
             ],
             [
              0.8888888888888888,
              "#fdca26"
             ],
             [
              1,
              "#f0f921"
             ]
            ],
            "type": "histogram2d"
           }
          ],
          "histogram2dcontour": [
           {
            "colorbar": {
             "outlinewidth": 0,
             "ticks": ""
            },
            "colorscale": [
             [
              0,
              "#0d0887"
             ],
             [
              0.1111111111111111,
              "#46039f"
             ],
             [
              0.2222222222222222,
              "#7201a8"
             ],
             [
              0.3333333333333333,
              "#9c179e"
             ],
             [
              0.4444444444444444,
              "#bd3786"
             ],
             [
              0.5555555555555556,
              "#d8576b"
             ],
             [
              0.6666666666666666,
              "#ed7953"
             ],
             [
              0.7777777777777778,
              "#fb9f3a"
             ],
             [
              0.8888888888888888,
              "#fdca26"
             ],
             [
              1,
              "#f0f921"
             ]
            ],
            "type": "histogram2dcontour"
           }
          ],
          "mesh3d": [
           {
            "colorbar": {
             "outlinewidth": 0,
             "ticks": ""
            },
            "type": "mesh3d"
           }
          ],
          "parcoords": [
           {
            "line": {
             "colorbar": {
              "outlinewidth": 0,
              "ticks": ""
             }
            },
            "type": "parcoords"
           }
          ],
          "pie": [
           {
            "automargin": true,
            "type": "pie"
           }
          ],
          "scatter": [
           {
            "fillpattern": {
             "fillmode": "overlay",
             "size": 10,
             "solidity": 0.2
            },
            "type": "scatter"
           }
          ],
          "scatter3d": [
           {
            "line": {
             "colorbar": {
              "outlinewidth": 0,
              "ticks": ""
             }
            },
            "marker": {
             "colorbar": {
              "outlinewidth": 0,
              "ticks": ""
             }
            },
            "type": "scatter3d"
           }
          ],
          "scattercarpet": [
           {
            "marker": {
             "colorbar": {
              "outlinewidth": 0,
              "ticks": ""
             }
            },
            "type": "scattercarpet"
           }
          ],
          "scattergeo": [
           {
            "marker": {
             "colorbar": {
              "outlinewidth": 0,
              "ticks": ""
             }
            },
            "type": "scattergeo"
           }
          ],
          "scattergl": [
           {
            "marker": {
             "colorbar": {
              "outlinewidth": 0,
              "ticks": ""
             }
            },
            "type": "scattergl"
           }
          ],
          "scattermapbox": [
           {
            "marker": {
             "colorbar": {
              "outlinewidth": 0,
              "ticks": ""
             }
            },
            "type": "scattermapbox"
           }
          ],
          "scatterpolar": [
           {
            "marker": {
             "colorbar": {
              "outlinewidth": 0,
              "ticks": ""
             }
            },
            "type": "scatterpolar"
           }
          ],
          "scatterpolargl": [
           {
            "marker": {
             "colorbar": {
              "outlinewidth": 0,
              "ticks": ""
             }
            },
            "type": "scatterpolargl"
           }
          ],
          "scatterternary": [
           {
            "marker": {
             "colorbar": {
              "outlinewidth": 0,
              "ticks": ""
             }
            },
            "type": "scatterternary"
           }
          ],
          "surface": [
           {
            "colorbar": {
             "outlinewidth": 0,
             "ticks": ""
            },
            "colorscale": [
             [
              0,
              "#0d0887"
             ],
             [
              0.1111111111111111,
              "#46039f"
             ],
             [
              0.2222222222222222,
              "#7201a8"
             ],
             [
              0.3333333333333333,
              "#9c179e"
             ],
             [
              0.4444444444444444,
              "#bd3786"
             ],
             [
              0.5555555555555556,
              "#d8576b"
             ],
             [
              0.6666666666666666,
              "#ed7953"
             ],
             [
              0.7777777777777778,
              "#fb9f3a"
             ],
             [
              0.8888888888888888,
              "#fdca26"
             ],
             [
              1,
              "#f0f921"
             ]
            ],
            "type": "surface"
           }
          ],
          "table": [
           {
            "cells": {
             "fill": {
              "color": "#EBF0F8"
             },
             "line": {
              "color": "white"
             }
            },
            "header": {
             "fill": {
              "color": "#C8D4E3"
             },
             "line": {
              "color": "white"
             }
            },
            "type": "table"
           }
          ]
         },
         "layout": {
          "annotationdefaults": {
           "arrowcolor": "#2a3f5f",
           "arrowhead": 0,
           "arrowwidth": 1
          },
          "autotypenumbers": "strict",
          "coloraxis": {
           "colorbar": {
            "outlinewidth": 0,
            "ticks": ""
           }
          },
          "colorscale": {
           "diverging": [
            [
             0,
             "#8e0152"
            ],
            [
             0.1,
             "#c51b7d"
            ],
            [
             0.2,
             "#de77ae"
            ],
            [
             0.3,
             "#f1b6da"
            ],
            [
             0.4,
             "#fde0ef"
            ],
            [
             0.5,
             "#f7f7f7"
            ],
            [
             0.6,
             "#e6f5d0"
            ],
            [
             0.7,
             "#b8e186"
            ],
            [
             0.8,
             "#7fbc41"
            ],
            [
             0.9,
             "#4d9221"
            ],
            [
             1,
             "#276419"
            ]
           ],
           "sequential": [
            [
             0,
             "#0d0887"
            ],
            [
             0.1111111111111111,
             "#46039f"
            ],
            [
             0.2222222222222222,
             "#7201a8"
            ],
            [
             0.3333333333333333,
             "#9c179e"
            ],
            [
             0.4444444444444444,
             "#bd3786"
            ],
            [
             0.5555555555555556,
             "#d8576b"
            ],
            [
             0.6666666666666666,
             "#ed7953"
            ],
            [
             0.7777777777777778,
             "#fb9f3a"
            ],
            [
             0.8888888888888888,
             "#fdca26"
            ],
            [
             1,
             "#f0f921"
            ]
           ],
           "sequentialminus": [
            [
             0,
             "#0d0887"
            ],
            [
             0.1111111111111111,
             "#46039f"
            ],
            [
             0.2222222222222222,
             "#7201a8"
            ],
            [
             0.3333333333333333,
             "#9c179e"
            ],
            [
             0.4444444444444444,
             "#bd3786"
            ],
            [
             0.5555555555555556,
             "#d8576b"
            ],
            [
             0.6666666666666666,
             "#ed7953"
            ],
            [
             0.7777777777777778,
             "#fb9f3a"
            ],
            [
             0.8888888888888888,
             "#fdca26"
            ],
            [
             1,
             "#f0f921"
            ]
           ]
          },
          "colorway": [
           "#636efa",
           "#EF553B",
           "#00cc96",
           "#ab63fa",
           "#FFA15A",
           "#19d3f3",
           "#FF6692",
           "#B6E880",
           "#FF97FF",
           "#FECB52"
          ],
          "font": {
           "color": "#2a3f5f"
          },
          "geo": {
           "bgcolor": "white",
           "lakecolor": "white",
           "landcolor": "#E5ECF6",
           "showlakes": true,
           "showland": true,
           "subunitcolor": "white"
          },
          "hoverlabel": {
           "align": "left"
          },
          "hovermode": "closest",
          "mapbox": {
           "style": "light"
          },
          "paper_bgcolor": "white",
          "plot_bgcolor": "#E5ECF6",
          "polar": {
           "angularaxis": {
            "gridcolor": "white",
            "linecolor": "white",
            "ticks": ""
           },
           "bgcolor": "#E5ECF6",
           "radialaxis": {
            "gridcolor": "white",
            "linecolor": "white",
            "ticks": ""
           }
          },
          "scene": {
           "xaxis": {
            "backgroundcolor": "#E5ECF6",
            "gridcolor": "white",
            "gridwidth": 2,
            "linecolor": "white",
            "showbackground": true,
            "ticks": "",
            "zerolinecolor": "white"
           },
           "yaxis": {
            "backgroundcolor": "#E5ECF6",
            "gridcolor": "white",
            "gridwidth": 2,
            "linecolor": "white",
            "showbackground": true,
            "ticks": "",
            "zerolinecolor": "white"
           },
           "zaxis": {
            "backgroundcolor": "#E5ECF6",
            "gridcolor": "white",
            "gridwidth": 2,
            "linecolor": "white",
            "showbackground": true,
            "ticks": "",
            "zerolinecolor": "white"
           }
          },
          "shapedefaults": {
           "line": {
            "color": "#2a3f5f"
           }
          },
          "ternary": {
           "aaxis": {
            "gridcolor": "white",
            "linecolor": "white",
            "ticks": ""
           },
           "baxis": {
            "gridcolor": "white",
            "linecolor": "white",
            "ticks": ""
           },
           "bgcolor": "#E5ECF6",
           "caxis": {
            "gridcolor": "white",
            "linecolor": "white",
            "ticks": ""
           }
          },
          "title": {
           "x": 0.05
          },
          "xaxis": {
           "automargin": true,
           "gridcolor": "white",
           "linecolor": "white",
           "ticks": "",
           "title": {
            "standoff": 15
           },
           "zerolinecolor": "white",
           "zerolinewidth": 2
          },
          "yaxis": {
           "automargin": true,
           "gridcolor": "white",
           "linecolor": "white",
           "ticks": "",
           "title": {
            "standoff": 15
           },
           "zerolinecolor": "white",
           "zerolinewidth": 2
          }
         }
        },
        "title": {
         "text": "ForenFace, Model QMagFace_SR"
        }
       }
      },
      "text/html": [
       "<div>                            <div id=\"1e27b7c6-22a1-476e-a959-e1db5741bf74\" class=\"plotly-graph-div\" style=\"height:525px; width:100%;\"></div>            <script type=\"text/javascript\">                require([\"plotly\"], function(Plotly) {                    window.PLOTLYENV=window.PLOTLYENV || {};                                    if (document.getElementById(\"1e27b7c6-22a1-476e-a959-e1db5741bf74\")) {                    Plotly.newPlot(                        \"1e27b7c6-22a1-476e-a959-e1db5741bf74\",                        [{\"branchvalues\":\"total\",\"customdata\":[[0.5270025305944172],[0.5282042452049557],[0.21376978726468424],[0.20383446385220336],[0.6329127640342985],[0.6186841076750307],[0.5895305819634149],[0.590100455991898],[0.5270025305944172],[0.5282042452049557],[0.21376978726468424],[0.20383446385220336],[0.6329127640342985],[0.6186841076750307],[0.5895305819634149],[0.590100455991898],[0.21376978726468424],[0.20383446385220336],[0.6329127640342985],[0.6186841076750307],[0.5834102321581222],[0.58432347631845],[0.5549301432706765],[0.554830196097491]],\"domain\":{\"x\":[0.0,1.0],\"y\":[0.0,1.0]},\"hovertemplate\":\"labels=%{label}<br>count=%{value}<br>parent=%{parent}<br>id=%{id}<br>Quality=%{color}<extra></extra>\",\"ids\":[\"Man/straight/slightly_downwards/white\",\"Woman/straight/slightly_downwards/white\",\"Man/sideways/straight/white\",\"Woman/sideways/straight/white\",\"Man/slightly_turned/straight/white\",\"Woman/slightly_turned/straight/white\",\"Man/straight/straight/white\",\"Woman/straight/straight/white\",\"Man/straight/slightly_downwards\",\"Woman/straight/slightly_downwards\",\"Man/sideways/straight\",\"Woman/sideways/straight\",\"Man/slightly_turned/straight\",\"Woman/slightly_turned/straight\",\"Man/straight/straight\",\"Woman/straight/straight\",\"Man/sideways\",\"Woman/sideways\",\"Man/slightly_turned\",\"Woman/slightly_turned\",\"Man/straight\",\"Woman/straight\",\"Man\",\"Woman\"],\"labels\":[\"white\",\"white\",\"white\",\"white\",\"white\",\"white\",\"white\",\"white\",\"slightly_downwards\",\"slightly_downwards\",\"straight\",\"straight\",\"straight\",\"straight\",\"straight\",\"straight\",\"sideways\",\"sideways\",\"slightly_turned\",\"slightly_turned\",\"straight\",\"straight\",\"Man\",\"Woman\"],\"marker\":{\"coloraxis\":\"coloraxis\",\"colors\":[0.5270025305944172,0.5282042452049557,0.21376978726468424,0.20383446385220336,0.6329127640342985,0.6186841076750307,0.5895305819634149,0.590100455991898,0.5270025305944172,0.5282042452049557,0.21376978726468424,0.20383446385220336,0.6329127640342985,0.6186841076750307,0.5895305819634149,0.590100455991898,0.21376978726468424,0.20383446385220336,0.6329127640342985,0.6186841076750307,0.5834102321581222,0.58432347631845,0.5549301432706765,0.554830196097491]},\"name\":\"\",\"parents\":[\"Man/straight/slightly_downwards\",\"Woman/straight/slightly_downwards\",\"Man/sideways/straight\",\"Woman/sideways/straight\",\"Man/slightly_turned/straight\",\"Woman/slightly_turned/straight\",\"Man/straight/straight\",\"Woman/straight/straight\",\"Man/straight\",\"Woman/straight\",\"Man/sideways\",\"Woman/sideways\",\"Man/slightly_turned\",\"Woman/slightly_turned\",\"Man/straight\",\"Woman/straight\",\"Man\",\"Woman\",\"Man\",\"Woman\",\"Man\",\"Woman\",\"\",\"\"],\"values\":[134,21,152,24,165,28,1235,204,134,21,152,24,165,28,1235,204,152,24,165,28,1369,225,1686,277],\"type\":\"sunburst\"}],                        {\"template\":{\"data\":{\"histogram2dcontour\":[{\"type\":\"histogram2dcontour\",\"colorbar\":{\"outlinewidth\":0,\"ticks\":\"\"},\"colorscale\":[[0.0,\"#0d0887\"],[0.1111111111111111,\"#46039f\"],[0.2222222222222222,\"#7201a8\"],[0.3333333333333333,\"#9c179e\"],[0.4444444444444444,\"#bd3786\"],[0.5555555555555556,\"#d8576b\"],[0.6666666666666666,\"#ed7953\"],[0.7777777777777778,\"#fb9f3a\"],[0.8888888888888888,\"#fdca26\"],[1.0,\"#f0f921\"]]}],\"choropleth\":[{\"type\":\"choropleth\",\"colorbar\":{\"outlinewidth\":0,\"ticks\":\"\"}}],\"histogram2d\":[{\"type\":\"histogram2d\",\"colorbar\":{\"outlinewidth\":0,\"ticks\":\"\"},\"colorscale\":[[0.0,\"#0d0887\"],[0.1111111111111111,\"#46039f\"],[0.2222222222222222,\"#7201a8\"],[0.3333333333333333,\"#9c179e\"],[0.4444444444444444,\"#bd3786\"],[0.5555555555555556,\"#d8576b\"],[0.6666666666666666,\"#ed7953\"],[0.7777777777777778,\"#fb9f3a\"],[0.8888888888888888,\"#fdca26\"],[1.0,\"#f0f921\"]]}],\"heatmap\":[{\"type\":\"heatmap\",\"colorbar\":{\"outlinewidth\":0,\"ticks\":\"\"},\"colorscale\":[[0.0,\"#0d0887\"],[0.1111111111111111,\"#46039f\"],[0.2222222222222222,\"#7201a8\"],[0.3333333333333333,\"#9c179e\"],[0.4444444444444444,\"#bd3786\"],[0.5555555555555556,\"#d8576b\"],[0.6666666666666666,\"#ed7953\"],[0.7777777777777778,\"#fb9f3a\"],[0.8888888888888888,\"#fdca26\"],[1.0,\"#f0f921\"]]}],\"heatmapgl\":[{\"type\":\"heatmapgl\",\"colorbar\":{\"outlinewidth\":0,\"ticks\":\"\"},\"colorscale\":[[0.0,\"#0d0887\"],[0.1111111111111111,\"#46039f\"],[0.2222222222222222,\"#7201a8\"],[0.3333333333333333,\"#9c179e\"],[0.4444444444444444,\"#bd3786\"],[0.5555555555555556,\"#d8576b\"],[0.6666666666666666,\"#ed7953\"],[0.7777777777777778,\"#fb9f3a\"],[0.8888888888888888,\"#fdca26\"],[1.0,\"#f0f921\"]]}],\"contourcarpet\":[{\"type\":\"contourcarpet\",\"colorbar\":{\"outlinewidth\":0,\"ticks\":\"\"}}],\"contour\":[{\"type\":\"contour\",\"colorbar\":{\"outlinewidth\":0,\"ticks\":\"\"},\"colorscale\":[[0.0,\"#0d0887\"],[0.1111111111111111,\"#46039f\"],[0.2222222222222222,\"#7201a8\"],[0.3333333333333333,\"#9c179e\"],[0.4444444444444444,\"#bd3786\"],[0.5555555555555556,\"#d8576b\"],[0.6666666666666666,\"#ed7953\"],[0.7777777777777778,\"#fb9f3a\"],[0.8888888888888888,\"#fdca26\"],[1.0,\"#f0f921\"]]}],\"surface\":[{\"type\":\"surface\",\"colorbar\":{\"outlinewidth\":0,\"ticks\":\"\"},\"colorscale\":[[0.0,\"#0d0887\"],[0.1111111111111111,\"#46039f\"],[0.2222222222222222,\"#7201a8\"],[0.3333333333333333,\"#9c179e\"],[0.4444444444444444,\"#bd3786\"],[0.5555555555555556,\"#d8576b\"],[0.6666666666666666,\"#ed7953\"],[0.7777777777777778,\"#fb9f3a\"],[0.8888888888888888,\"#fdca26\"],[1.0,\"#f0f921\"]]}],\"mesh3d\":[{\"type\":\"mesh3d\",\"colorbar\":{\"outlinewidth\":0,\"ticks\":\"\"}}],\"scatter\":[{\"fillpattern\":{\"fillmode\":\"overlay\",\"size\":10,\"solidity\":0.2},\"type\":\"scatter\"}],\"parcoords\":[{\"type\":\"parcoords\",\"line\":{\"colorbar\":{\"outlinewidth\":0,\"ticks\":\"\"}}}],\"scatterpolargl\":[{\"type\":\"scatterpolargl\",\"marker\":{\"colorbar\":{\"outlinewidth\":0,\"ticks\":\"\"}}}],\"bar\":[{\"error_x\":{\"color\":\"#2a3f5f\"},\"error_y\":{\"color\":\"#2a3f5f\"},\"marker\":{\"line\":{\"color\":\"#E5ECF6\",\"width\":0.5},\"pattern\":{\"fillmode\":\"overlay\",\"size\":10,\"solidity\":0.2}},\"type\":\"bar\"}],\"scattergeo\":[{\"type\":\"scattergeo\",\"marker\":{\"colorbar\":{\"outlinewidth\":0,\"ticks\":\"\"}}}],\"scatterpolar\":[{\"type\":\"scatterpolar\",\"marker\":{\"colorbar\":{\"outlinewidth\":0,\"ticks\":\"\"}}}],\"histogram\":[{\"marker\":{\"pattern\":{\"fillmode\":\"overlay\",\"size\":10,\"solidity\":0.2}},\"type\":\"histogram\"}],\"scattergl\":[{\"type\":\"scattergl\",\"marker\":{\"colorbar\":{\"outlinewidth\":0,\"ticks\":\"\"}}}],\"scatter3d\":[{\"type\":\"scatter3d\",\"line\":{\"colorbar\":{\"outlinewidth\":0,\"ticks\":\"\"}},\"marker\":{\"colorbar\":{\"outlinewidth\":0,\"ticks\":\"\"}}}],\"scattermapbox\":[{\"type\":\"scattermapbox\",\"marker\":{\"colorbar\":{\"outlinewidth\":0,\"ticks\":\"\"}}}],\"scatterternary\":[{\"type\":\"scatterternary\",\"marker\":{\"colorbar\":{\"outlinewidth\":0,\"ticks\":\"\"}}}],\"scattercarpet\":[{\"type\":\"scattercarpet\",\"marker\":{\"colorbar\":{\"outlinewidth\":0,\"ticks\":\"\"}}}],\"carpet\":[{\"aaxis\":{\"endlinecolor\":\"#2a3f5f\",\"gridcolor\":\"white\",\"linecolor\":\"white\",\"minorgridcolor\":\"white\",\"startlinecolor\":\"#2a3f5f\"},\"baxis\":{\"endlinecolor\":\"#2a3f5f\",\"gridcolor\":\"white\",\"linecolor\":\"white\",\"minorgridcolor\":\"white\",\"startlinecolor\":\"#2a3f5f\"},\"type\":\"carpet\"}],\"table\":[{\"cells\":{\"fill\":{\"color\":\"#EBF0F8\"},\"line\":{\"color\":\"white\"}},\"header\":{\"fill\":{\"color\":\"#C8D4E3\"},\"line\":{\"color\":\"white\"}},\"type\":\"table\"}],\"barpolar\":[{\"marker\":{\"line\":{\"color\":\"#E5ECF6\",\"width\":0.5},\"pattern\":{\"fillmode\":\"overlay\",\"size\":10,\"solidity\":0.2}},\"type\":\"barpolar\"}],\"pie\":[{\"automargin\":true,\"type\":\"pie\"}]},\"layout\":{\"autotypenumbers\":\"strict\",\"colorway\":[\"#636efa\",\"#EF553B\",\"#00cc96\",\"#ab63fa\",\"#FFA15A\",\"#19d3f3\",\"#FF6692\",\"#B6E880\",\"#FF97FF\",\"#FECB52\"],\"font\":{\"color\":\"#2a3f5f\"},\"hovermode\":\"closest\",\"hoverlabel\":{\"align\":\"left\"},\"paper_bgcolor\":\"white\",\"plot_bgcolor\":\"#E5ECF6\",\"polar\":{\"bgcolor\":\"#E5ECF6\",\"angularaxis\":{\"gridcolor\":\"white\",\"linecolor\":\"white\",\"ticks\":\"\"},\"radialaxis\":{\"gridcolor\":\"white\",\"linecolor\":\"white\",\"ticks\":\"\"}},\"ternary\":{\"bgcolor\":\"#E5ECF6\",\"aaxis\":{\"gridcolor\":\"white\",\"linecolor\":\"white\",\"ticks\":\"\"},\"baxis\":{\"gridcolor\":\"white\",\"linecolor\":\"white\",\"ticks\":\"\"},\"caxis\":{\"gridcolor\":\"white\",\"linecolor\":\"white\",\"ticks\":\"\"}},\"coloraxis\":{\"colorbar\":{\"outlinewidth\":0,\"ticks\":\"\"}},\"colorscale\":{\"sequential\":[[0.0,\"#0d0887\"],[0.1111111111111111,\"#46039f\"],[0.2222222222222222,\"#7201a8\"],[0.3333333333333333,\"#9c179e\"],[0.4444444444444444,\"#bd3786\"],[0.5555555555555556,\"#d8576b\"],[0.6666666666666666,\"#ed7953\"],[0.7777777777777778,\"#fb9f3a\"],[0.8888888888888888,\"#fdca26\"],[1.0,\"#f0f921\"]],\"sequentialminus\":[[0.0,\"#0d0887\"],[0.1111111111111111,\"#46039f\"],[0.2222222222222222,\"#7201a8\"],[0.3333333333333333,\"#9c179e\"],[0.4444444444444444,\"#bd3786\"],[0.5555555555555556,\"#d8576b\"],[0.6666666666666666,\"#ed7953\"],[0.7777777777777778,\"#fb9f3a\"],[0.8888888888888888,\"#fdca26\"],[1.0,\"#f0f921\"]],\"diverging\":[[0,\"#8e0152\"],[0.1,\"#c51b7d\"],[0.2,\"#de77ae\"],[0.3,\"#f1b6da\"],[0.4,\"#fde0ef\"],[0.5,\"#f7f7f7\"],[0.6,\"#e6f5d0\"],[0.7,\"#b8e186\"],[0.8,\"#7fbc41\"],[0.9,\"#4d9221\"],[1,\"#276419\"]]},\"xaxis\":{\"gridcolor\":\"white\",\"linecolor\":\"white\",\"ticks\":\"\",\"title\":{\"standoff\":15},\"zerolinecolor\":\"white\",\"automargin\":true,\"zerolinewidth\":2},\"yaxis\":{\"gridcolor\":\"white\",\"linecolor\":\"white\",\"ticks\":\"\",\"title\":{\"standoff\":15},\"zerolinecolor\":\"white\",\"automargin\":true,\"zerolinewidth\":2},\"scene\":{\"xaxis\":{\"backgroundcolor\":\"#E5ECF6\",\"gridcolor\":\"white\",\"linecolor\":\"white\",\"showbackground\":true,\"ticks\":\"\",\"zerolinecolor\":\"white\",\"gridwidth\":2},\"yaxis\":{\"backgroundcolor\":\"#E5ECF6\",\"gridcolor\":\"white\",\"linecolor\":\"white\",\"showbackground\":true,\"ticks\":\"\",\"zerolinecolor\":\"white\",\"gridwidth\":2},\"zaxis\":{\"backgroundcolor\":\"#E5ECF6\",\"gridcolor\":\"white\",\"linecolor\":\"white\",\"showbackground\":true,\"ticks\":\"\",\"zerolinecolor\":\"white\",\"gridwidth\":2}},\"shapedefaults\":{\"line\":{\"color\":\"#2a3f5f\"}},\"annotationdefaults\":{\"arrowcolor\":\"#2a3f5f\",\"arrowhead\":0,\"arrowwidth\":1},\"geo\":{\"bgcolor\":\"white\",\"landcolor\":\"#E5ECF6\",\"subunitcolor\":\"white\",\"showland\":true,\"showlakes\":true,\"lakecolor\":\"white\"},\"title\":{\"x\":0.05},\"mapbox\":{\"style\":\"light\"}}},\"coloraxis\":{\"colorbar\":{\"title\":{\"text\":\"Quality\"}},\"colorscale\":[[0.0,\"#440154\"],[0.1111111111111111,\"#482878\"],[0.2222222222222222,\"#3e4989\"],[0.3333333333333333,\"#31688e\"],[0.4444444444444444,\"#26828e\"],[0.5555555555555556,\"#1f9e89\"],[0.6666666666666666,\"#35b779\"],[0.7777777777777778,\"#6ece58\"],[0.8888888888888888,\"#b5de2b\"],[1.0,\"#fde725\"]],\"cmin\":0,\"cmax\":1},\"legend\":{\"tracegroupgap\":0},\"title\":{\"text\":\"ForenFace, Model QMagFace_SR\"}},                        {\"responsive\": true}                    ).then(function(){\n",
       "                            \n",
       "var gd = document.getElementById('1e27b7c6-22a1-476e-a959-e1db5741bf74');\n",
       "var x = new MutationObserver(function (mutations, observer) {{\n",
       "        var display = window.getComputedStyle(gd).display;\n",
       "        if (!display || display === 'none') {{\n",
       "            console.log([gd, 'removed!']);\n",
       "            Plotly.purge(gd);\n",
       "            observer.disconnect();\n",
       "        }}\n",
       "}});\n",
       "\n",
       "// Listen for the removal of the full notebook cells\n",
       "var notebookContainer = gd.closest('#notebook-container');\n",
       "if (notebookContainer) {{\n",
       "    x.observe(notebookContainer, {childList: true});\n",
       "}}\n",
       "\n",
       "// Listen for the clearing of the current output cell\n",
       "var outputEl = gd.closest('.output');\n",
       "if (outputEl) {{\n",
       "    x.observe(outputEl, {childList: true});\n",
       "}}\n",
       "\n",
       "                        })                };                });            </script>        </div>"
      ]
     },
     "metadata": {},
     "output_type": "display_data"
    },
    {
     "data": {
      "application/vnd.plotly.v1+json": {
       "config": {
        "plotlyServerURL": "https://plot.ly"
       },
       "data": [
        {
         "branchvalues": "total",
         "customdata": [
          [
           0.48445692858787304
          ],
          [
           0.6179495948439531
          ],
          [
           0.5868118562652216
          ],
          [
           0.6784547680476248
          ],
          [
           0.634123433095821
          ],
          [
           0.5951466283351275
          ],
          [
           0.6278861146621136
          ],
          [
           0.6542113893581272
          ],
          [
           0.5806486286267466
          ],
          [
           0.47570942488017565
          ],
          [
           0.361926903233524
          ],
          [
           0.6791245298474224
          ],
          [
           0.4739831503344338
          ],
          [
           0.44990190514230277
          ],
          [
           0.4322016885596707
          ],
          [
           0.7479438897633967
          ],
          [
           0.6958576743509319
          ],
          [
           0.7204824860776798
          ],
          [
           0.6466409785968336
          ],
          [
           0.2921659893824292
          ],
          [
           0.11063015565713448
          ],
          [
           0.7263166738227144
          ],
          [
           0.35937938387511975
          ],
          [
           0.48445692858787304
          ],
          [
           0.6179495948439531
          ],
          [
           0.5868118562652216
          ],
          [
           0.6784547680476248
          ],
          [
           0.634123433095821
          ],
          [
           0.5951466283351275
          ],
          [
           0.6278861146621136
          ],
          [
           0.6542113893581272
          ],
          [
           0.5806486286267466
          ],
          [
           0.47570942488017565
          ],
          [
           0.361926903233524
          ],
          [
           0.6791245298474224
          ],
          [
           0.4739831503344338
          ],
          [
           0.44990190514230277
          ],
          [
           0.4322016885596707
          ],
          [
           0.7479438897633967
          ],
          [
           0.6958576743509319
          ],
          [
           0.7204824860776798
          ],
          [
           0.6466409785968336
          ],
          [
           0.2921659893824292
          ],
          [
           0.11063015565713448
          ],
          [
           0.7263166738227144
          ],
          [
           0.35937938387511975
          ],
          [
           0.4500029432225529
          ],
          [
           0.4322016885596707
          ],
          [
           0.7001494472846537
          ],
          [
           0.6257267479756878
          ],
          [
           0.6852357871770791
          ],
          [
           0.6061519556835552
          ],
          [
           0.6368048485262745
          ],
          [
           0.5714458470886961
          ]
         ],
         "domain": {
          "x": [
           0,
           1
          ],
          "y": [
           0,
           1
          ]
         },
         "hovertemplate": "labels=%{label}<br>count=%{value}<br>parent=%{parent}<br>id=%{id}<br>Quality=%{color}<extra></extra>",
         "ids": [
          "Man/sideways/downwards/white",
          "Man/slightly_turned/downwards/white",
          "Woman/slightly_turned/downwards/white",
          "Man/straight/downwards/white",
          "Woman/straight/downwards/white",
          "Man/slightly_turned/slightly_downwards/white",
          "Woman/slightly_turned/slightly_downwards/white",
          "Man/straight/slightly_downwards/white",
          "Woman/straight/slightly_downwards/white",
          "Man/slightly_turned/slightly_upwards/white",
          "Woman/slightly_turned/slightly_upwards/white",
          "Man/straight/slightly_upwards/white",
          "Woman/straight/slightly_upwards/white",
          "Man/sideways/straight/white",
          "Woman/sideways/straight/white",
          "Man/slightly_turned/straight/white",
          "Woman/slightly_turned/straight/white",
          "Man/straight/straight/white",
          "Woman/straight/straight/white",
          "Man/slightly_turned/upwards/white",
          "Woman/slightly_turned/upwards/white",
          "Man/straight/upwards/white",
          "Woman/straight/upwards/white",
          "Man/sideways/downwards",
          "Man/slightly_turned/downwards",
          "Woman/slightly_turned/downwards",
          "Man/straight/downwards",
          "Woman/straight/downwards",
          "Man/slightly_turned/slightly_downwards",
          "Woman/slightly_turned/slightly_downwards",
          "Man/straight/slightly_downwards",
          "Woman/straight/slightly_downwards",
          "Man/slightly_turned/slightly_upwards",
          "Woman/slightly_turned/slightly_upwards",
          "Man/straight/slightly_upwards",
          "Woman/straight/slightly_upwards",
          "Man/sideways/straight",
          "Woman/sideways/straight",
          "Man/slightly_turned/straight",
          "Woman/slightly_turned/straight",
          "Man/straight/straight",
          "Woman/straight/straight",
          "Man/slightly_turned/upwards",
          "Woman/slightly_turned/upwards",
          "Man/straight/upwards",
          "Woman/straight/upwards",
          "Man/sideways",
          "Woman/sideways",
          "Man/slightly_turned",
          "Woman/slightly_turned",
          "Man/straight",
          "Woman/straight",
          "Man",
          "Woman"
         ],
         "labels": [
          "white",
          "white",
          "white",
          "white",
          "white",
          "white",
          "white",
          "white",
          "white",
          "white",
          "white",
          "white",
          "white",
          "white",
          "white",
          "white",
          "white",
          "white",
          "white",
          "white",
          "white",
          "white",
          "white",
          "downwards",
          "downwards",
          "downwards",
          "downwards",
          "downwards",
          "slightly_downwards",
          "slightly_downwards",
          "slightly_downwards",
          "slightly_downwards",
          "slightly_upwards",
          "slightly_upwards",
          "slightly_upwards",
          "slightly_upwards",
          "straight",
          "straight",
          "straight",
          "straight",
          "straight",
          "straight",
          "upwards",
          "upwards",
          "upwards",
          "upwards",
          "sideways",
          "sideways",
          "slightly_turned",
          "slightly_turned",
          "straight",
          "straight",
          "Man",
          "Woman"
         ],
         "marker": {
          "coloraxis": "coloraxis",
          "colors": [
           0.48445692858787304,
           0.6179495948439531,
           0.5868118562652216,
           0.6784547680476248,
           0.634123433095821,
           0.5951466283351275,
           0.6278861146621136,
           0.6542113893581272,
           0.5806486286267466,
           0.47570942488017565,
           0.361926903233524,
           0.6791245298474224,
           0.4739831503344338,
           0.44990190514230277,
           0.4322016885596707,
           0.7479438897633967,
           0.6958576743509319,
           0.7204824860776798,
           0.6466409785968336,
           0.2921659893824292,
           0.11063015565713448,
           0.7263166738227144,
           0.35937938387511975,
           0.48445692858787304,
           0.6179495948439531,
           0.5868118562652216,
           0.6784547680476248,
           0.634123433095821,
           0.5951466283351275,
           0.6278861146621136,
           0.6542113893581272,
           0.5806486286267466,
           0.47570942488017565,
           0.361926903233524,
           0.6791245298474224,
           0.4739831503344338,
           0.44990190514230277,
           0.4322016885596707,
           0.7479438897633967,
           0.6958576743509319,
           0.7204824860776798,
           0.6466409785968336,
           0.2921659893824292,
           0.11063015565713448,
           0.7263166738227144,
           0.35937938387511975,
           0.4500029432225529,
           0.4322016885596707,
           0.7001494472846537,
           0.6257267479756878,
           0.6852357871770791,
           0.6061519556835552,
           0.6368048485262745,
           0.5714458470886961
          ]
         },
         "name": "",
         "parents": [
          "Man/sideways/downwards",
          "Man/slightly_turned/downwards",
          "Woman/slightly_turned/downwards",
          "Man/straight/downwards",
          "Woman/straight/downwards",
          "Man/slightly_turned/slightly_downwards",
          "Woman/slightly_turned/slightly_downwards",
          "Man/straight/slightly_downwards",
          "Woman/straight/slightly_downwards",
          "Man/slightly_turned/slightly_upwards",
          "Woman/slightly_turned/slightly_upwards",
          "Man/straight/slightly_upwards",
          "Woman/straight/slightly_upwards",
          "Man/sideways/straight",
          "Woman/sideways/straight",
          "Man/slightly_turned/straight",
          "Woman/slightly_turned/straight",
          "Man/straight/straight",
          "Woman/straight/straight",
          "Man/slightly_turned/upwards",
          "Woman/slightly_turned/upwards",
          "Man/straight/upwards",
          "Woman/straight/upwards",
          "Man/sideways",
          "Man/slightly_turned",
          "Woman/slightly_turned",
          "Man/straight",
          "Woman/straight",
          "Man/slightly_turned",
          "Woman/slightly_turned",
          "Man/straight",
          "Woman/straight",
          "Man/slightly_turned",
          "Woman/slightly_turned",
          "Man/straight",
          "Woman/straight",
          "Man/sideways",
          "Woman/sideways",
          "Man/slightly_turned",
          "Woman/slightly_turned",
          "Man/straight",
          "Woman/straight",
          "Man/slightly_turned",
          "Woman/slightly_turned",
          "Man/straight",
          "Woman/straight",
          "Man",
          "Woman",
          "Man",
          "Woman",
          "Man",
          "Woman",
          "",
          ""
         ],
         "type": "sunburst",
         "values": [
          2,
          78,
          4,
          1088,
          112,
          23,
          2,
          410,
          69,
          6,
          5,
          90,
          24,
          682,
          95,
          247,
          43,
          559,
          81,
          4,
          3,
          23,
          6,
          2,
          78,
          4,
          1088,
          112,
          23,
          2,
          410,
          69,
          6,
          5,
          90,
          24,
          682,
          95,
          247,
          43,
          559,
          81,
          4,
          3,
          23,
          6,
          684,
          95,
          358,
          57,
          2170,
          292,
          3212,
          444
         ]
        }
       ],
       "layout": {
        "coloraxis": {
         "cmax": 1,
         "cmin": 0,
         "colorbar": {
          "title": {
           "text": "Quality"
          }
         },
         "colorscale": [
          [
           0,
           "#440154"
          ],
          [
           0.1111111111111111,
           "#482878"
          ],
          [
           0.2222222222222222,
           "#3e4989"
          ],
          [
           0.3333333333333333,
           "#31688e"
          ],
          [
           0.4444444444444444,
           "#26828e"
          ],
          [
           0.5555555555555556,
           "#1f9e89"
          ],
          [
           0.6666666666666666,
           "#35b779"
          ],
          [
           0.7777777777777778,
           "#6ece58"
          ],
          [
           0.8888888888888888,
           "#b5de2b"
          ],
          [
           1,
           "#fde725"
          ]
         ]
        },
        "legend": {
         "tracegroupgap": 0
        },
        "template": {
         "data": {
          "bar": [
           {
            "error_x": {
             "color": "#2a3f5f"
            },
            "error_y": {
             "color": "#2a3f5f"
            },
            "marker": {
             "line": {
              "color": "#E5ECF6",
              "width": 0.5
             },
             "pattern": {
              "fillmode": "overlay",
              "size": 10,
              "solidity": 0.2
             }
            },
            "type": "bar"
           }
          ],
          "barpolar": [
           {
            "marker": {
             "line": {
              "color": "#E5ECF6",
              "width": 0.5
             },
             "pattern": {
              "fillmode": "overlay",
              "size": 10,
              "solidity": 0.2
             }
            },
            "type": "barpolar"
           }
          ],
          "carpet": [
           {
            "aaxis": {
             "endlinecolor": "#2a3f5f",
             "gridcolor": "white",
             "linecolor": "white",
             "minorgridcolor": "white",
             "startlinecolor": "#2a3f5f"
            },
            "baxis": {
             "endlinecolor": "#2a3f5f",
             "gridcolor": "white",
             "linecolor": "white",
             "minorgridcolor": "white",
             "startlinecolor": "#2a3f5f"
            },
            "type": "carpet"
           }
          ],
          "choropleth": [
           {
            "colorbar": {
             "outlinewidth": 0,
             "ticks": ""
            },
            "type": "choropleth"
           }
          ],
          "contour": [
           {
            "colorbar": {
             "outlinewidth": 0,
             "ticks": ""
            },
            "colorscale": [
             [
              0,
              "#0d0887"
             ],
             [
              0.1111111111111111,
              "#46039f"
             ],
             [
              0.2222222222222222,
              "#7201a8"
             ],
             [
              0.3333333333333333,
              "#9c179e"
             ],
             [
              0.4444444444444444,
              "#bd3786"
             ],
             [
              0.5555555555555556,
              "#d8576b"
             ],
             [
              0.6666666666666666,
              "#ed7953"
             ],
             [
              0.7777777777777778,
              "#fb9f3a"
             ],
             [
              0.8888888888888888,
              "#fdca26"
             ],
             [
              1,
              "#f0f921"
             ]
            ],
            "type": "contour"
           }
          ],
          "contourcarpet": [
           {
            "colorbar": {
             "outlinewidth": 0,
             "ticks": ""
            },
            "type": "contourcarpet"
           }
          ],
          "heatmap": [
           {
            "colorbar": {
             "outlinewidth": 0,
             "ticks": ""
            },
            "colorscale": [
             [
              0,
              "#0d0887"
             ],
             [
              0.1111111111111111,
              "#46039f"
             ],
             [
              0.2222222222222222,
              "#7201a8"
             ],
             [
              0.3333333333333333,
              "#9c179e"
             ],
             [
              0.4444444444444444,
              "#bd3786"
             ],
             [
              0.5555555555555556,
              "#d8576b"
             ],
             [
              0.6666666666666666,
              "#ed7953"
             ],
             [
              0.7777777777777778,
              "#fb9f3a"
             ],
             [
              0.8888888888888888,
              "#fdca26"
             ],
             [
              1,
              "#f0f921"
             ]
            ],
            "type": "heatmap"
           }
          ],
          "heatmapgl": [
           {
            "colorbar": {
             "outlinewidth": 0,
             "ticks": ""
            },
            "colorscale": [
             [
              0,
              "#0d0887"
             ],
             [
              0.1111111111111111,
              "#46039f"
             ],
             [
              0.2222222222222222,
              "#7201a8"
             ],
             [
              0.3333333333333333,
              "#9c179e"
             ],
             [
              0.4444444444444444,
              "#bd3786"
             ],
             [
              0.5555555555555556,
              "#d8576b"
             ],
             [
              0.6666666666666666,
              "#ed7953"
             ],
             [
              0.7777777777777778,
              "#fb9f3a"
             ],
             [
              0.8888888888888888,
              "#fdca26"
             ],
             [
              1,
              "#f0f921"
             ]
            ],
            "type": "heatmapgl"
           }
          ],
          "histogram": [
           {
            "marker": {
             "pattern": {
              "fillmode": "overlay",
              "size": 10,
              "solidity": 0.2
             }
            },
            "type": "histogram"
           }
          ],
          "histogram2d": [
           {
            "colorbar": {
             "outlinewidth": 0,
             "ticks": ""
            },
            "colorscale": [
             [
              0,
              "#0d0887"
             ],
             [
              0.1111111111111111,
              "#46039f"
             ],
             [
              0.2222222222222222,
              "#7201a8"
             ],
             [
              0.3333333333333333,
              "#9c179e"
             ],
             [
              0.4444444444444444,
              "#bd3786"
             ],
             [
              0.5555555555555556,
              "#d8576b"
             ],
             [
              0.6666666666666666,
              "#ed7953"
             ],
             [
              0.7777777777777778,
              "#fb9f3a"
             ],
             [
              0.8888888888888888,
              "#fdca26"
             ],
             [
              1,
              "#f0f921"
             ]
            ],
            "type": "histogram2d"
           }
          ],
          "histogram2dcontour": [
           {
            "colorbar": {
             "outlinewidth": 0,
             "ticks": ""
            },
            "colorscale": [
             [
              0,
              "#0d0887"
             ],
             [
              0.1111111111111111,
              "#46039f"
             ],
             [
              0.2222222222222222,
              "#7201a8"
             ],
             [
              0.3333333333333333,
              "#9c179e"
             ],
             [
              0.4444444444444444,
              "#bd3786"
             ],
             [
              0.5555555555555556,
              "#d8576b"
             ],
             [
              0.6666666666666666,
              "#ed7953"
             ],
             [
              0.7777777777777778,
              "#fb9f3a"
             ],
             [
              0.8888888888888888,
              "#fdca26"
             ],
             [
              1,
              "#f0f921"
             ]
            ],
            "type": "histogram2dcontour"
           }
          ],
          "mesh3d": [
           {
            "colorbar": {
             "outlinewidth": 0,
             "ticks": ""
            },
            "type": "mesh3d"
           }
          ],
          "parcoords": [
           {
            "line": {
             "colorbar": {
              "outlinewidth": 0,
              "ticks": ""
             }
            },
            "type": "parcoords"
           }
          ],
          "pie": [
           {
            "automargin": true,
            "type": "pie"
           }
          ],
          "scatter": [
           {
            "fillpattern": {
             "fillmode": "overlay",
             "size": 10,
             "solidity": 0.2
            },
            "type": "scatter"
           }
          ],
          "scatter3d": [
           {
            "line": {
             "colorbar": {
              "outlinewidth": 0,
              "ticks": ""
             }
            },
            "marker": {
             "colorbar": {
              "outlinewidth": 0,
              "ticks": ""
             }
            },
            "type": "scatter3d"
           }
          ],
          "scattercarpet": [
           {
            "marker": {
             "colorbar": {
              "outlinewidth": 0,
              "ticks": ""
             }
            },
            "type": "scattercarpet"
           }
          ],
          "scattergeo": [
           {
            "marker": {
             "colorbar": {
              "outlinewidth": 0,
              "ticks": ""
             }
            },
            "type": "scattergeo"
           }
          ],
          "scattergl": [
           {
            "marker": {
             "colorbar": {
              "outlinewidth": 0,
              "ticks": ""
             }
            },
            "type": "scattergl"
           }
          ],
          "scattermapbox": [
           {
            "marker": {
             "colorbar": {
              "outlinewidth": 0,
              "ticks": ""
             }
            },
            "type": "scattermapbox"
           }
          ],
          "scatterpolar": [
           {
            "marker": {
             "colorbar": {
              "outlinewidth": 0,
              "ticks": ""
             }
            },
            "type": "scatterpolar"
           }
          ],
          "scatterpolargl": [
           {
            "marker": {
             "colorbar": {
              "outlinewidth": 0,
              "ticks": ""
             }
            },
            "type": "scatterpolargl"
           }
          ],
          "scatterternary": [
           {
            "marker": {
             "colorbar": {
              "outlinewidth": 0,
              "ticks": ""
             }
            },
            "type": "scatterternary"
           }
          ],
          "surface": [
           {
            "colorbar": {
             "outlinewidth": 0,
             "ticks": ""
            },
            "colorscale": [
             [
              0,
              "#0d0887"
             ],
             [
              0.1111111111111111,
              "#46039f"
             ],
             [
              0.2222222222222222,
              "#7201a8"
             ],
             [
              0.3333333333333333,
              "#9c179e"
             ],
             [
              0.4444444444444444,
              "#bd3786"
             ],
             [
              0.5555555555555556,
              "#d8576b"
             ],
             [
              0.6666666666666666,
              "#ed7953"
             ],
             [
              0.7777777777777778,
              "#fb9f3a"
             ],
             [
              0.8888888888888888,
              "#fdca26"
             ],
             [
              1,
              "#f0f921"
             ]
            ],
            "type": "surface"
           }
          ],
          "table": [
           {
            "cells": {
             "fill": {
              "color": "#EBF0F8"
             },
             "line": {
              "color": "white"
             }
            },
            "header": {
             "fill": {
              "color": "#C8D4E3"
             },
             "line": {
              "color": "white"
             }
            },
            "type": "table"
           }
          ]
         },
         "layout": {
          "annotationdefaults": {
           "arrowcolor": "#2a3f5f",
           "arrowhead": 0,
           "arrowwidth": 1
          },
          "autotypenumbers": "strict",
          "coloraxis": {
           "colorbar": {
            "outlinewidth": 0,
            "ticks": ""
           }
          },
          "colorscale": {
           "diverging": [
            [
             0,
             "#8e0152"
            ],
            [
             0.1,
             "#c51b7d"
            ],
            [
             0.2,
             "#de77ae"
            ],
            [
             0.3,
             "#f1b6da"
            ],
            [
             0.4,
             "#fde0ef"
            ],
            [
             0.5,
             "#f7f7f7"
            ],
            [
             0.6,
             "#e6f5d0"
            ],
            [
             0.7,
             "#b8e186"
            ],
            [
             0.8,
             "#7fbc41"
            ],
            [
             0.9,
             "#4d9221"
            ],
            [
             1,
             "#276419"
            ]
           ],
           "sequential": [
            [
             0,
             "#0d0887"
            ],
            [
             0.1111111111111111,
             "#46039f"
            ],
            [
             0.2222222222222222,
             "#7201a8"
            ],
            [
             0.3333333333333333,
             "#9c179e"
            ],
            [
             0.4444444444444444,
             "#bd3786"
            ],
            [
             0.5555555555555556,
             "#d8576b"
            ],
            [
             0.6666666666666666,
             "#ed7953"
            ],
            [
             0.7777777777777778,
             "#fb9f3a"
            ],
            [
             0.8888888888888888,
             "#fdca26"
            ],
            [
             1,
             "#f0f921"
            ]
           ],
           "sequentialminus": [
            [
             0,
             "#0d0887"
            ],
            [
             0.1111111111111111,
             "#46039f"
            ],
            [
             0.2222222222222222,
             "#7201a8"
            ],
            [
             0.3333333333333333,
             "#9c179e"
            ],
            [
             0.4444444444444444,
             "#bd3786"
            ],
            [
             0.5555555555555556,
             "#d8576b"
            ],
            [
             0.6666666666666666,
             "#ed7953"
            ],
            [
             0.7777777777777778,
             "#fb9f3a"
            ],
            [
             0.8888888888888888,
             "#fdca26"
            ],
            [
             1,
             "#f0f921"
            ]
           ]
          },
          "colorway": [
           "#636efa",
           "#EF553B",
           "#00cc96",
           "#ab63fa",
           "#FFA15A",
           "#19d3f3",
           "#FF6692",
           "#B6E880",
           "#FF97FF",
           "#FECB52"
          ],
          "font": {
           "color": "#2a3f5f"
          },
          "geo": {
           "bgcolor": "white",
           "lakecolor": "white",
           "landcolor": "#E5ECF6",
           "showlakes": true,
           "showland": true,
           "subunitcolor": "white"
          },
          "hoverlabel": {
           "align": "left"
          },
          "hovermode": "closest",
          "mapbox": {
           "style": "light"
          },
          "paper_bgcolor": "white",
          "plot_bgcolor": "#E5ECF6",
          "polar": {
           "angularaxis": {
            "gridcolor": "white",
            "linecolor": "white",
            "ticks": ""
           },
           "bgcolor": "#E5ECF6",
           "radialaxis": {
            "gridcolor": "white",
            "linecolor": "white",
            "ticks": ""
           }
          },
          "scene": {
           "xaxis": {
            "backgroundcolor": "#E5ECF6",
            "gridcolor": "white",
            "gridwidth": 2,
            "linecolor": "white",
            "showbackground": true,
            "ticks": "",
            "zerolinecolor": "white"
           },
           "yaxis": {
            "backgroundcolor": "#E5ECF6",
            "gridcolor": "white",
            "gridwidth": 2,
            "linecolor": "white",
            "showbackground": true,
            "ticks": "",
            "zerolinecolor": "white"
           },
           "zaxis": {
            "backgroundcolor": "#E5ECF6",
            "gridcolor": "white",
            "gridwidth": 2,
            "linecolor": "white",
            "showbackground": true,
            "ticks": "",
            "zerolinecolor": "white"
           }
          },
          "shapedefaults": {
           "line": {
            "color": "#2a3f5f"
           }
          },
          "ternary": {
           "aaxis": {
            "gridcolor": "white",
            "linecolor": "white",
            "ticks": ""
           },
           "baxis": {
            "gridcolor": "white",
            "linecolor": "white",
            "ticks": ""
           },
           "bgcolor": "#E5ECF6",
           "caxis": {
            "gridcolor": "white",
            "linecolor": "white",
            "ticks": ""
           }
          },
          "title": {
           "x": 0.05
          },
          "xaxis": {
           "automargin": true,
           "gridcolor": "white",
           "linecolor": "white",
           "ticks": "",
           "title": {
            "standoff": 15
           },
           "zerolinecolor": "white",
           "zerolinewidth": 2
          },
          "yaxis": {
           "automargin": true,
           "gridcolor": "white",
           "linecolor": "white",
           "ticks": "",
           "title": {
            "standoff": 15
           },
           "zerolinecolor": "white",
           "zerolinewidth": 2
          }
         }
        },
        "title": {
         "text": "SCFace, Model QMagFace"
        }
       }
      },
      "text/html": [
       "<div>                            <div id=\"8c018aa3-afc0-47fc-8334-2a5f10675247\" class=\"plotly-graph-div\" style=\"height:525px; width:100%;\"></div>            <script type=\"text/javascript\">                require([\"plotly\"], function(Plotly) {                    window.PLOTLYENV=window.PLOTLYENV || {};                                    if (document.getElementById(\"8c018aa3-afc0-47fc-8334-2a5f10675247\")) {                    Plotly.newPlot(                        \"8c018aa3-afc0-47fc-8334-2a5f10675247\",                        [{\"branchvalues\":\"total\",\"customdata\":[[0.48445692858787304],[0.6179495948439531],[0.5868118562652216],[0.6784547680476248],[0.634123433095821],[0.5951466283351275],[0.6278861146621136],[0.6542113893581272],[0.5806486286267466],[0.47570942488017565],[0.361926903233524],[0.6791245298474224],[0.4739831503344338],[0.44990190514230277],[0.4322016885596707],[0.7479438897633967],[0.6958576743509319],[0.7204824860776798],[0.6466409785968336],[0.2921659893824292],[0.11063015565713448],[0.7263166738227144],[0.35937938387511975],[0.48445692858787304],[0.6179495948439531],[0.5868118562652216],[0.6784547680476248],[0.634123433095821],[0.5951466283351275],[0.6278861146621136],[0.6542113893581272],[0.5806486286267466],[0.47570942488017565],[0.361926903233524],[0.6791245298474224],[0.4739831503344338],[0.44990190514230277],[0.4322016885596707],[0.7479438897633967],[0.6958576743509319],[0.7204824860776798],[0.6466409785968336],[0.2921659893824292],[0.11063015565713448],[0.7263166738227144],[0.35937938387511975],[0.4500029432225529],[0.4322016885596707],[0.7001494472846537],[0.6257267479756878],[0.6852357871770791],[0.6061519556835552],[0.6368048485262745],[0.5714458470886961]],\"domain\":{\"x\":[0.0,1.0],\"y\":[0.0,1.0]},\"hovertemplate\":\"labels=%{label}<br>count=%{value}<br>parent=%{parent}<br>id=%{id}<br>Quality=%{color}<extra></extra>\",\"ids\":[\"Man/sideways/downwards/white\",\"Man/slightly_turned/downwards/white\",\"Woman/slightly_turned/downwards/white\",\"Man/straight/downwards/white\",\"Woman/straight/downwards/white\",\"Man/slightly_turned/slightly_downwards/white\",\"Woman/slightly_turned/slightly_downwards/white\",\"Man/straight/slightly_downwards/white\",\"Woman/straight/slightly_downwards/white\",\"Man/slightly_turned/slightly_upwards/white\",\"Woman/slightly_turned/slightly_upwards/white\",\"Man/straight/slightly_upwards/white\",\"Woman/straight/slightly_upwards/white\",\"Man/sideways/straight/white\",\"Woman/sideways/straight/white\",\"Man/slightly_turned/straight/white\",\"Woman/slightly_turned/straight/white\",\"Man/straight/straight/white\",\"Woman/straight/straight/white\",\"Man/slightly_turned/upwards/white\",\"Woman/slightly_turned/upwards/white\",\"Man/straight/upwards/white\",\"Woman/straight/upwards/white\",\"Man/sideways/downwards\",\"Man/slightly_turned/downwards\",\"Woman/slightly_turned/downwards\",\"Man/straight/downwards\",\"Woman/straight/downwards\",\"Man/slightly_turned/slightly_downwards\",\"Woman/slightly_turned/slightly_downwards\",\"Man/straight/slightly_downwards\",\"Woman/straight/slightly_downwards\",\"Man/slightly_turned/slightly_upwards\",\"Woman/slightly_turned/slightly_upwards\",\"Man/straight/slightly_upwards\",\"Woman/straight/slightly_upwards\",\"Man/sideways/straight\",\"Woman/sideways/straight\",\"Man/slightly_turned/straight\",\"Woman/slightly_turned/straight\",\"Man/straight/straight\",\"Woman/straight/straight\",\"Man/slightly_turned/upwards\",\"Woman/slightly_turned/upwards\",\"Man/straight/upwards\",\"Woman/straight/upwards\",\"Man/sideways\",\"Woman/sideways\",\"Man/slightly_turned\",\"Woman/slightly_turned\",\"Man/straight\",\"Woman/straight\",\"Man\",\"Woman\"],\"labels\":[\"white\",\"white\",\"white\",\"white\",\"white\",\"white\",\"white\",\"white\",\"white\",\"white\",\"white\",\"white\",\"white\",\"white\",\"white\",\"white\",\"white\",\"white\",\"white\",\"white\",\"white\",\"white\",\"white\",\"downwards\",\"downwards\",\"downwards\",\"downwards\",\"downwards\",\"slightly_downwards\",\"slightly_downwards\",\"slightly_downwards\",\"slightly_downwards\",\"slightly_upwards\",\"slightly_upwards\",\"slightly_upwards\",\"slightly_upwards\",\"straight\",\"straight\",\"straight\",\"straight\",\"straight\",\"straight\",\"upwards\",\"upwards\",\"upwards\",\"upwards\",\"sideways\",\"sideways\",\"slightly_turned\",\"slightly_turned\",\"straight\",\"straight\",\"Man\",\"Woman\"],\"marker\":{\"coloraxis\":\"coloraxis\",\"colors\":[0.48445692858787304,0.6179495948439531,0.5868118562652216,0.6784547680476248,0.634123433095821,0.5951466283351275,0.6278861146621136,0.6542113893581272,0.5806486286267466,0.47570942488017565,0.361926903233524,0.6791245298474224,0.4739831503344338,0.44990190514230277,0.4322016885596707,0.7479438897633967,0.6958576743509319,0.7204824860776798,0.6466409785968336,0.2921659893824292,0.11063015565713448,0.7263166738227144,0.35937938387511975,0.48445692858787304,0.6179495948439531,0.5868118562652216,0.6784547680476248,0.634123433095821,0.5951466283351275,0.6278861146621136,0.6542113893581272,0.5806486286267466,0.47570942488017565,0.361926903233524,0.6791245298474224,0.4739831503344338,0.44990190514230277,0.4322016885596707,0.7479438897633967,0.6958576743509319,0.7204824860776798,0.6466409785968336,0.2921659893824292,0.11063015565713448,0.7263166738227144,0.35937938387511975,0.4500029432225529,0.4322016885596707,0.7001494472846537,0.6257267479756878,0.6852357871770791,0.6061519556835552,0.6368048485262745,0.5714458470886961]},\"name\":\"\",\"parents\":[\"Man/sideways/downwards\",\"Man/slightly_turned/downwards\",\"Woman/slightly_turned/downwards\",\"Man/straight/downwards\",\"Woman/straight/downwards\",\"Man/slightly_turned/slightly_downwards\",\"Woman/slightly_turned/slightly_downwards\",\"Man/straight/slightly_downwards\",\"Woman/straight/slightly_downwards\",\"Man/slightly_turned/slightly_upwards\",\"Woman/slightly_turned/slightly_upwards\",\"Man/straight/slightly_upwards\",\"Woman/straight/slightly_upwards\",\"Man/sideways/straight\",\"Woman/sideways/straight\",\"Man/slightly_turned/straight\",\"Woman/slightly_turned/straight\",\"Man/straight/straight\",\"Woman/straight/straight\",\"Man/slightly_turned/upwards\",\"Woman/slightly_turned/upwards\",\"Man/straight/upwards\",\"Woman/straight/upwards\",\"Man/sideways\",\"Man/slightly_turned\",\"Woman/slightly_turned\",\"Man/straight\",\"Woman/straight\",\"Man/slightly_turned\",\"Woman/slightly_turned\",\"Man/straight\",\"Woman/straight\",\"Man/slightly_turned\",\"Woman/slightly_turned\",\"Man/straight\",\"Woman/straight\",\"Man/sideways\",\"Woman/sideways\",\"Man/slightly_turned\",\"Woman/slightly_turned\",\"Man/straight\",\"Woman/straight\",\"Man/slightly_turned\",\"Woman/slightly_turned\",\"Man/straight\",\"Woman/straight\",\"Man\",\"Woman\",\"Man\",\"Woman\",\"Man\",\"Woman\",\"\",\"\"],\"values\":[2,78,4,1088,112,23,2,410,69,6,5,90,24,682,95,247,43,559,81,4,3,23,6,2,78,4,1088,112,23,2,410,69,6,5,90,24,682,95,247,43,559,81,4,3,23,6,684,95,358,57,2170,292,3212,444],\"type\":\"sunburst\"}],                        {\"template\":{\"data\":{\"histogram2dcontour\":[{\"type\":\"histogram2dcontour\",\"colorbar\":{\"outlinewidth\":0,\"ticks\":\"\"},\"colorscale\":[[0.0,\"#0d0887\"],[0.1111111111111111,\"#46039f\"],[0.2222222222222222,\"#7201a8\"],[0.3333333333333333,\"#9c179e\"],[0.4444444444444444,\"#bd3786\"],[0.5555555555555556,\"#d8576b\"],[0.6666666666666666,\"#ed7953\"],[0.7777777777777778,\"#fb9f3a\"],[0.8888888888888888,\"#fdca26\"],[1.0,\"#f0f921\"]]}],\"choropleth\":[{\"type\":\"choropleth\",\"colorbar\":{\"outlinewidth\":0,\"ticks\":\"\"}}],\"histogram2d\":[{\"type\":\"histogram2d\",\"colorbar\":{\"outlinewidth\":0,\"ticks\":\"\"},\"colorscale\":[[0.0,\"#0d0887\"],[0.1111111111111111,\"#46039f\"],[0.2222222222222222,\"#7201a8\"],[0.3333333333333333,\"#9c179e\"],[0.4444444444444444,\"#bd3786\"],[0.5555555555555556,\"#d8576b\"],[0.6666666666666666,\"#ed7953\"],[0.7777777777777778,\"#fb9f3a\"],[0.8888888888888888,\"#fdca26\"],[1.0,\"#f0f921\"]]}],\"heatmap\":[{\"type\":\"heatmap\",\"colorbar\":{\"outlinewidth\":0,\"ticks\":\"\"},\"colorscale\":[[0.0,\"#0d0887\"],[0.1111111111111111,\"#46039f\"],[0.2222222222222222,\"#7201a8\"],[0.3333333333333333,\"#9c179e\"],[0.4444444444444444,\"#bd3786\"],[0.5555555555555556,\"#d8576b\"],[0.6666666666666666,\"#ed7953\"],[0.7777777777777778,\"#fb9f3a\"],[0.8888888888888888,\"#fdca26\"],[1.0,\"#f0f921\"]]}],\"heatmapgl\":[{\"type\":\"heatmapgl\",\"colorbar\":{\"outlinewidth\":0,\"ticks\":\"\"},\"colorscale\":[[0.0,\"#0d0887\"],[0.1111111111111111,\"#46039f\"],[0.2222222222222222,\"#7201a8\"],[0.3333333333333333,\"#9c179e\"],[0.4444444444444444,\"#bd3786\"],[0.5555555555555556,\"#d8576b\"],[0.6666666666666666,\"#ed7953\"],[0.7777777777777778,\"#fb9f3a\"],[0.8888888888888888,\"#fdca26\"],[1.0,\"#f0f921\"]]}],\"contourcarpet\":[{\"type\":\"contourcarpet\",\"colorbar\":{\"outlinewidth\":0,\"ticks\":\"\"}}],\"contour\":[{\"type\":\"contour\",\"colorbar\":{\"outlinewidth\":0,\"ticks\":\"\"},\"colorscale\":[[0.0,\"#0d0887\"],[0.1111111111111111,\"#46039f\"],[0.2222222222222222,\"#7201a8\"],[0.3333333333333333,\"#9c179e\"],[0.4444444444444444,\"#bd3786\"],[0.5555555555555556,\"#d8576b\"],[0.6666666666666666,\"#ed7953\"],[0.7777777777777778,\"#fb9f3a\"],[0.8888888888888888,\"#fdca26\"],[1.0,\"#f0f921\"]]}],\"surface\":[{\"type\":\"surface\",\"colorbar\":{\"outlinewidth\":0,\"ticks\":\"\"},\"colorscale\":[[0.0,\"#0d0887\"],[0.1111111111111111,\"#46039f\"],[0.2222222222222222,\"#7201a8\"],[0.3333333333333333,\"#9c179e\"],[0.4444444444444444,\"#bd3786\"],[0.5555555555555556,\"#d8576b\"],[0.6666666666666666,\"#ed7953\"],[0.7777777777777778,\"#fb9f3a\"],[0.8888888888888888,\"#fdca26\"],[1.0,\"#f0f921\"]]}],\"mesh3d\":[{\"type\":\"mesh3d\",\"colorbar\":{\"outlinewidth\":0,\"ticks\":\"\"}}],\"scatter\":[{\"fillpattern\":{\"fillmode\":\"overlay\",\"size\":10,\"solidity\":0.2},\"type\":\"scatter\"}],\"parcoords\":[{\"type\":\"parcoords\",\"line\":{\"colorbar\":{\"outlinewidth\":0,\"ticks\":\"\"}}}],\"scatterpolargl\":[{\"type\":\"scatterpolargl\",\"marker\":{\"colorbar\":{\"outlinewidth\":0,\"ticks\":\"\"}}}],\"bar\":[{\"error_x\":{\"color\":\"#2a3f5f\"},\"error_y\":{\"color\":\"#2a3f5f\"},\"marker\":{\"line\":{\"color\":\"#E5ECF6\",\"width\":0.5},\"pattern\":{\"fillmode\":\"overlay\",\"size\":10,\"solidity\":0.2}},\"type\":\"bar\"}],\"scattergeo\":[{\"type\":\"scattergeo\",\"marker\":{\"colorbar\":{\"outlinewidth\":0,\"ticks\":\"\"}}}],\"scatterpolar\":[{\"type\":\"scatterpolar\",\"marker\":{\"colorbar\":{\"outlinewidth\":0,\"ticks\":\"\"}}}],\"histogram\":[{\"marker\":{\"pattern\":{\"fillmode\":\"overlay\",\"size\":10,\"solidity\":0.2}},\"type\":\"histogram\"}],\"scattergl\":[{\"type\":\"scattergl\",\"marker\":{\"colorbar\":{\"outlinewidth\":0,\"ticks\":\"\"}}}],\"scatter3d\":[{\"type\":\"scatter3d\",\"line\":{\"colorbar\":{\"outlinewidth\":0,\"ticks\":\"\"}},\"marker\":{\"colorbar\":{\"outlinewidth\":0,\"ticks\":\"\"}}}],\"scattermapbox\":[{\"type\":\"scattermapbox\",\"marker\":{\"colorbar\":{\"outlinewidth\":0,\"ticks\":\"\"}}}],\"scatterternary\":[{\"type\":\"scatterternary\",\"marker\":{\"colorbar\":{\"outlinewidth\":0,\"ticks\":\"\"}}}],\"scattercarpet\":[{\"type\":\"scattercarpet\",\"marker\":{\"colorbar\":{\"outlinewidth\":0,\"ticks\":\"\"}}}],\"carpet\":[{\"aaxis\":{\"endlinecolor\":\"#2a3f5f\",\"gridcolor\":\"white\",\"linecolor\":\"white\",\"minorgridcolor\":\"white\",\"startlinecolor\":\"#2a3f5f\"},\"baxis\":{\"endlinecolor\":\"#2a3f5f\",\"gridcolor\":\"white\",\"linecolor\":\"white\",\"minorgridcolor\":\"white\",\"startlinecolor\":\"#2a3f5f\"},\"type\":\"carpet\"}],\"table\":[{\"cells\":{\"fill\":{\"color\":\"#EBF0F8\"},\"line\":{\"color\":\"white\"}},\"header\":{\"fill\":{\"color\":\"#C8D4E3\"},\"line\":{\"color\":\"white\"}},\"type\":\"table\"}],\"barpolar\":[{\"marker\":{\"line\":{\"color\":\"#E5ECF6\",\"width\":0.5},\"pattern\":{\"fillmode\":\"overlay\",\"size\":10,\"solidity\":0.2}},\"type\":\"barpolar\"}],\"pie\":[{\"automargin\":true,\"type\":\"pie\"}]},\"layout\":{\"autotypenumbers\":\"strict\",\"colorway\":[\"#636efa\",\"#EF553B\",\"#00cc96\",\"#ab63fa\",\"#FFA15A\",\"#19d3f3\",\"#FF6692\",\"#B6E880\",\"#FF97FF\",\"#FECB52\"],\"font\":{\"color\":\"#2a3f5f\"},\"hovermode\":\"closest\",\"hoverlabel\":{\"align\":\"left\"},\"paper_bgcolor\":\"white\",\"plot_bgcolor\":\"#E5ECF6\",\"polar\":{\"bgcolor\":\"#E5ECF6\",\"angularaxis\":{\"gridcolor\":\"white\",\"linecolor\":\"white\",\"ticks\":\"\"},\"radialaxis\":{\"gridcolor\":\"white\",\"linecolor\":\"white\",\"ticks\":\"\"}},\"ternary\":{\"bgcolor\":\"#E5ECF6\",\"aaxis\":{\"gridcolor\":\"white\",\"linecolor\":\"white\",\"ticks\":\"\"},\"baxis\":{\"gridcolor\":\"white\",\"linecolor\":\"white\",\"ticks\":\"\"},\"caxis\":{\"gridcolor\":\"white\",\"linecolor\":\"white\",\"ticks\":\"\"}},\"coloraxis\":{\"colorbar\":{\"outlinewidth\":0,\"ticks\":\"\"}},\"colorscale\":{\"sequential\":[[0.0,\"#0d0887\"],[0.1111111111111111,\"#46039f\"],[0.2222222222222222,\"#7201a8\"],[0.3333333333333333,\"#9c179e\"],[0.4444444444444444,\"#bd3786\"],[0.5555555555555556,\"#d8576b\"],[0.6666666666666666,\"#ed7953\"],[0.7777777777777778,\"#fb9f3a\"],[0.8888888888888888,\"#fdca26\"],[1.0,\"#f0f921\"]],\"sequentialminus\":[[0.0,\"#0d0887\"],[0.1111111111111111,\"#46039f\"],[0.2222222222222222,\"#7201a8\"],[0.3333333333333333,\"#9c179e\"],[0.4444444444444444,\"#bd3786\"],[0.5555555555555556,\"#d8576b\"],[0.6666666666666666,\"#ed7953\"],[0.7777777777777778,\"#fb9f3a\"],[0.8888888888888888,\"#fdca26\"],[1.0,\"#f0f921\"]],\"diverging\":[[0,\"#8e0152\"],[0.1,\"#c51b7d\"],[0.2,\"#de77ae\"],[0.3,\"#f1b6da\"],[0.4,\"#fde0ef\"],[0.5,\"#f7f7f7\"],[0.6,\"#e6f5d0\"],[0.7,\"#b8e186\"],[0.8,\"#7fbc41\"],[0.9,\"#4d9221\"],[1,\"#276419\"]]},\"xaxis\":{\"gridcolor\":\"white\",\"linecolor\":\"white\",\"ticks\":\"\",\"title\":{\"standoff\":15},\"zerolinecolor\":\"white\",\"automargin\":true,\"zerolinewidth\":2},\"yaxis\":{\"gridcolor\":\"white\",\"linecolor\":\"white\",\"ticks\":\"\",\"title\":{\"standoff\":15},\"zerolinecolor\":\"white\",\"automargin\":true,\"zerolinewidth\":2},\"scene\":{\"xaxis\":{\"backgroundcolor\":\"#E5ECF6\",\"gridcolor\":\"white\",\"linecolor\":\"white\",\"showbackground\":true,\"ticks\":\"\",\"zerolinecolor\":\"white\",\"gridwidth\":2},\"yaxis\":{\"backgroundcolor\":\"#E5ECF6\",\"gridcolor\":\"white\",\"linecolor\":\"white\",\"showbackground\":true,\"ticks\":\"\",\"zerolinecolor\":\"white\",\"gridwidth\":2},\"zaxis\":{\"backgroundcolor\":\"#E5ECF6\",\"gridcolor\":\"white\",\"linecolor\":\"white\",\"showbackground\":true,\"ticks\":\"\",\"zerolinecolor\":\"white\",\"gridwidth\":2}},\"shapedefaults\":{\"line\":{\"color\":\"#2a3f5f\"}},\"annotationdefaults\":{\"arrowcolor\":\"#2a3f5f\",\"arrowhead\":0,\"arrowwidth\":1},\"geo\":{\"bgcolor\":\"white\",\"landcolor\":\"#E5ECF6\",\"subunitcolor\":\"white\",\"showland\":true,\"showlakes\":true,\"lakecolor\":\"white\"},\"title\":{\"x\":0.05},\"mapbox\":{\"style\":\"light\"}}},\"coloraxis\":{\"colorbar\":{\"title\":{\"text\":\"Quality\"}},\"colorscale\":[[0.0,\"#440154\"],[0.1111111111111111,\"#482878\"],[0.2222222222222222,\"#3e4989\"],[0.3333333333333333,\"#31688e\"],[0.4444444444444444,\"#26828e\"],[0.5555555555555556,\"#1f9e89\"],[0.6666666666666666,\"#35b779\"],[0.7777777777777778,\"#6ece58\"],[0.8888888888888888,\"#b5de2b\"],[1.0,\"#fde725\"]],\"cmin\":0,\"cmax\":1},\"legend\":{\"tracegroupgap\":0},\"title\":{\"text\":\"SCFace, Model QMagFace\"}},                        {\"responsive\": true}                    ).then(function(){\n",
       "                            \n",
       "var gd = document.getElementById('8c018aa3-afc0-47fc-8334-2a5f10675247');\n",
       "var x = new MutationObserver(function (mutations, observer) {{\n",
       "        var display = window.getComputedStyle(gd).display;\n",
       "        if (!display || display === 'none') {{\n",
       "            console.log([gd, 'removed!']);\n",
       "            Plotly.purge(gd);\n",
       "            observer.disconnect();\n",
       "        }}\n",
       "}});\n",
       "\n",
       "// Listen for the removal of the full notebook cells\n",
       "var notebookContainer = gd.closest('#notebook-container');\n",
       "if (notebookContainer) {{\n",
       "    x.observe(notebookContainer, {childList: true});\n",
       "}}\n",
       "\n",
       "// Listen for the clearing of the current output cell\n",
       "var outputEl = gd.closest('.output');\n",
       "if (outputEl) {{\n",
       "    x.observe(outputEl, {childList: true});\n",
       "}}\n",
       "\n",
       "                        })                };                });            </script>        </div>"
      ]
     },
     "metadata": {},
     "output_type": "display_data"
    },
    {
     "data": {
      "application/vnd.plotly.v1+json": {
       "config": {
        "plotlyServerURL": "https://plot.ly"
       },
       "data": [
        {
         "branchvalues": "total",
         "customdata": [
          [
           0.4627861824444297
          ],
          [
           0.5711300308317925
          ],
          [
           0.5258003300822296
          ],
          [
           0.6060804299106884
          ],
          [
           0.5885267275693737
          ],
          [
           0.5328826299801616
          ],
          [
           0.48141393434133295
          ],
          [
           0.564316222751524
          ],
          [
           0.5509337724069667
          ],
          [
           0.5163563136297185
          ],
          [
           0.3000419302426194
          ],
          [
           0.628316548399186
          ],
          [
           0.43359936933533616
          ],
          [
           0.4445666567124914
          ],
          [
           0.41252548097392233
          ],
          [
           0.7293703585847628
          ],
          [
           0.6754368733807214
          ],
          [
           0.6768873919378751
          ],
          [
           0.605308936434786
          ],
          [
           0.15658836392036313
          ],
          [
           0.09603601275937733
          ],
          [
           0.7100424544863857
          ],
          [
           0.4372695594480039
          ],
          [
           0.4627861824444297
          ],
          [
           0.5711300308317925
          ],
          [
           0.5258003300822296
          ],
          [
           0.6060804299106884
          ],
          [
           0.5885267275693737
          ],
          [
           0.5328826299801616
          ],
          [
           0.48141393434133295
          ],
          [
           0.564316222751524
          ],
          [
           0.5509337724069667
          ],
          [
           0.5163563136297185
          ],
          [
           0.3000419302426194
          ],
          [
           0.628316548399186
          ],
          [
           0.43359936933533616
          ],
          [
           0.4445666567124914
          ],
          [
           0.41252548097392233
          ],
          [
           0.7293703585847628
          ],
          [
           0.6754368733807214
          ],
          [
           0.6768873919378751
          ],
          [
           0.605308936434786
          ],
          [
           0.15658836392036313
          ],
          [
           0.09603601275937733
          ],
          [
           0.7100424544863857
          ],
          [
           0.4372695594480039
          ],
          [
           0.4446199301795439
          ],
          [
           0.41252548097392233
          ],
          [
           0.6723000357606695
          ],
          [
           0.5947040777872602
          ],
          [
           0.6184537681904791
          ],
          [
           0.5684570200541245
          ],
          [
           0.5874371488226859
          ],
          [
           0.5384628445545062
          ]
         ],
         "domain": {
          "x": [
           0,
           1
          ],
          "y": [
           0,
           1
          ]
         },
         "hovertemplate": "labels=%{label}<br>count=%{value}<br>parent=%{parent}<br>id=%{id}<br>Quality=%{color}<extra></extra>",
         "ids": [
          "Man/sideways/downwards/white",
          "Man/slightly_turned/downwards/white",
          "Woman/slightly_turned/downwards/white",
          "Man/straight/downwards/white",
          "Woman/straight/downwards/white",
          "Man/slightly_turned/slightly_downwards/white",
          "Woman/slightly_turned/slightly_downwards/white",
          "Man/straight/slightly_downwards/white",
          "Woman/straight/slightly_downwards/white",
          "Man/slightly_turned/slightly_upwards/white",
          "Woman/slightly_turned/slightly_upwards/white",
          "Man/straight/slightly_upwards/white",
          "Woman/straight/slightly_upwards/white",
          "Man/sideways/straight/white",
          "Woman/sideways/straight/white",
          "Man/slightly_turned/straight/white",
          "Woman/slightly_turned/straight/white",
          "Man/straight/straight/white",
          "Woman/straight/straight/white",
          "Man/slightly_turned/upwards/white",
          "Woman/slightly_turned/upwards/white",
          "Man/straight/upwards/white",
          "Woman/straight/upwards/white",
          "Man/sideways/downwards",
          "Man/slightly_turned/downwards",
          "Woman/slightly_turned/downwards",
          "Man/straight/downwards",
          "Woman/straight/downwards",
          "Man/slightly_turned/slightly_downwards",
          "Woman/slightly_turned/slightly_downwards",
          "Man/straight/slightly_downwards",
          "Woman/straight/slightly_downwards",
          "Man/slightly_turned/slightly_upwards",
          "Woman/slightly_turned/slightly_upwards",
          "Man/straight/slightly_upwards",
          "Woman/straight/slightly_upwards",
          "Man/sideways/straight",
          "Woman/sideways/straight",
          "Man/slightly_turned/straight",
          "Woman/slightly_turned/straight",
          "Man/straight/straight",
          "Woman/straight/straight",
          "Man/slightly_turned/upwards",
          "Woman/slightly_turned/upwards",
          "Man/straight/upwards",
          "Woman/straight/upwards",
          "Man/sideways",
          "Woman/sideways",
          "Man/slightly_turned",
          "Woman/slightly_turned",
          "Man/straight",
          "Woman/straight",
          "Man",
          "Woman"
         ],
         "labels": [
          "white",
          "white",
          "white",
          "white",
          "white",
          "white",
          "white",
          "white",
          "white",
          "white",
          "white",
          "white",
          "white",
          "white",
          "white",
          "white",
          "white",
          "white",
          "white",
          "white",
          "white",
          "white",
          "white",
          "downwards",
          "downwards",
          "downwards",
          "downwards",
          "downwards",
          "slightly_downwards",
          "slightly_downwards",
          "slightly_downwards",
          "slightly_downwards",
          "slightly_upwards",
          "slightly_upwards",
          "slightly_upwards",
          "slightly_upwards",
          "straight",
          "straight",
          "straight",
          "straight",
          "straight",
          "straight",
          "upwards",
          "upwards",
          "upwards",
          "upwards",
          "sideways",
          "sideways",
          "slightly_turned",
          "slightly_turned",
          "straight",
          "straight",
          "Man",
          "Woman"
         ],
         "marker": {
          "coloraxis": "coloraxis",
          "colors": [
           0.4627861824444297,
           0.5711300308317925,
           0.5258003300822296,
           0.6060804299106884,
           0.5885267275693737,
           0.5328826299801616,
           0.48141393434133295,
           0.564316222751524,
           0.5509337724069667,
           0.5163563136297185,
           0.3000419302426194,
           0.628316548399186,
           0.43359936933533616,
           0.4445666567124914,
           0.41252548097392233,
           0.7293703585847628,
           0.6754368733807214,
           0.6768873919378751,
           0.605308936434786,
           0.15658836392036313,
           0.09603601275937733,
           0.7100424544863857,
           0.4372695594480039,
           0.4627861824444297,
           0.5711300308317925,
           0.5258003300822296,
           0.6060804299106884,
           0.5885267275693737,
           0.5328826299801616,
           0.48141393434133295,
           0.564316222751524,
           0.5509337724069667,
           0.5163563136297185,
           0.3000419302426194,
           0.628316548399186,
           0.43359936933533616,
           0.4445666567124914,
           0.41252548097392233,
           0.7293703585847628,
           0.6754368733807214,
           0.6768873919378751,
           0.605308936434786,
           0.15658836392036313,
           0.09603601275937733,
           0.7100424544863857,
           0.4372695594480039,
           0.4446199301795439,
           0.41252548097392233,
           0.6723000357606695,
           0.5947040777872602,
           0.6184537681904791,
           0.5684570200541245,
           0.5874371488226859,
           0.5384628445545062
          ]
         },
         "name": "",
         "parents": [
          "Man/sideways/downwards",
          "Man/slightly_turned/downwards",
          "Woman/slightly_turned/downwards",
          "Man/straight/downwards",
          "Woman/straight/downwards",
          "Man/slightly_turned/slightly_downwards",
          "Woman/slightly_turned/slightly_downwards",
          "Man/straight/slightly_downwards",
          "Woman/straight/slightly_downwards",
          "Man/slightly_turned/slightly_upwards",
          "Woman/slightly_turned/slightly_upwards",
          "Man/straight/slightly_upwards",
          "Woman/straight/slightly_upwards",
          "Man/sideways/straight",
          "Woman/sideways/straight",
          "Man/slightly_turned/straight",
          "Woman/slightly_turned/straight",
          "Man/straight/straight",
          "Woman/straight/straight",
          "Man/slightly_turned/upwards",
          "Woman/slightly_turned/upwards",
          "Man/straight/upwards",
          "Woman/straight/upwards",
          "Man/sideways",
          "Man/slightly_turned",
          "Woman/slightly_turned",
          "Man/straight",
          "Woman/straight",
          "Man/slightly_turned",
          "Woman/slightly_turned",
          "Man/straight",
          "Woman/straight",
          "Man/slightly_turned",
          "Woman/slightly_turned",
          "Man/straight",
          "Woman/straight",
          "Man/sideways",
          "Woman/sideways",
          "Man/slightly_turned",
          "Woman/slightly_turned",
          "Man/straight",
          "Woman/straight",
          "Man/slightly_turned",
          "Woman/slightly_turned",
          "Man/straight",
          "Woman/straight",
          "Man",
          "Woman",
          "Man",
          "Woman",
          "Man",
          "Woman",
          "",
          ""
         ],
         "type": "sunburst",
         "values": [
          2,
          78,
          4,
          1088,
          112,
          23,
          2,
          410,
          69,
          6,
          5,
          90,
          24,
          682,
          95,
          247,
          43,
          559,
          81,
          4,
          3,
          23,
          6,
          2,
          78,
          4,
          1088,
          112,
          23,
          2,
          410,
          69,
          6,
          5,
          90,
          24,
          682,
          95,
          247,
          43,
          559,
          81,
          4,
          3,
          23,
          6,
          684,
          95,
          358,
          57,
          2170,
          292,
          3212,
          444
         ]
        }
       ],
       "layout": {
        "coloraxis": {
         "cmax": 1,
         "cmin": 0,
         "colorbar": {
          "title": {
           "text": "Quality"
          }
         },
         "colorscale": [
          [
           0,
           "#440154"
          ],
          [
           0.1111111111111111,
           "#482878"
          ],
          [
           0.2222222222222222,
           "#3e4989"
          ],
          [
           0.3333333333333333,
           "#31688e"
          ],
          [
           0.4444444444444444,
           "#26828e"
          ],
          [
           0.5555555555555556,
           "#1f9e89"
          ],
          [
           0.6666666666666666,
           "#35b779"
          ],
          [
           0.7777777777777778,
           "#6ece58"
          ],
          [
           0.8888888888888888,
           "#b5de2b"
          ],
          [
           1,
           "#fde725"
          ]
         ]
        },
        "legend": {
         "tracegroupgap": 0
        },
        "template": {
         "data": {
          "bar": [
           {
            "error_x": {
             "color": "#2a3f5f"
            },
            "error_y": {
             "color": "#2a3f5f"
            },
            "marker": {
             "line": {
              "color": "#E5ECF6",
              "width": 0.5
             },
             "pattern": {
              "fillmode": "overlay",
              "size": 10,
              "solidity": 0.2
             }
            },
            "type": "bar"
           }
          ],
          "barpolar": [
           {
            "marker": {
             "line": {
              "color": "#E5ECF6",
              "width": 0.5
             },
             "pattern": {
              "fillmode": "overlay",
              "size": 10,
              "solidity": 0.2
             }
            },
            "type": "barpolar"
           }
          ],
          "carpet": [
           {
            "aaxis": {
             "endlinecolor": "#2a3f5f",
             "gridcolor": "white",
             "linecolor": "white",
             "minorgridcolor": "white",
             "startlinecolor": "#2a3f5f"
            },
            "baxis": {
             "endlinecolor": "#2a3f5f",
             "gridcolor": "white",
             "linecolor": "white",
             "minorgridcolor": "white",
             "startlinecolor": "#2a3f5f"
            },
            "type": "carpet"
           }
          ],
          "choropleth": [
           {
            "colorbar": {
             "outlinewidth": 0,
             "ticks": ""
            },
            "type": "choropleth"
           }
          ],
          "contour": [
           {
            "colorbar": {
             "outlinewidth": 0,
             "ticks": ""
            },
            "colorscale": [
             [
              0,
              "#0d0887"
             ],
             [
              0.1111111111111111,
              "#46039f"
             ],
             [
              0.2222222222222222,
              "#7201a8"
             ],
             [
              0.3333333333333333,
              "#9c179e"
             ],
             [
              0.4444444444444444,
              "#bd3786"
             ],
             [
              0.5555555555555556,
              "#d8576b"
             ],
             [
              0.6666666666666666,
              "#ed7953"
             ],
             [
              0.7777777777777778,
              "#fb9f3a"
             ],
             [
              0.8888888888888888,
              "#fdca26"
             ],
             [
              1,
              "#f0f921"
             ]
            ],
            "type": "contour"
           }
          ],
          "contourcarpet": [
           {
            "colorbar": {
             "outlinewidth": 0,
             "ticks": ""
            },
            "type": "contourcarpet"
           }
          ],
          "heatmap": [
           {
            "colorbar": {
             "outlinewidth": 0,
             "ticks": ""
            },
            "colorscale": [
             [
              0,
              "#0d0887"
             ],
             [
              0.1111111111111111,
              "#46039f"
             ],
             [
              0.2222222222222222,
              "#7201a8"
             ],
             [
              0.3333333333333333,
              "#9c179e"
             ],
             [
              0.4444444444444444,
              "#bd3786"
             ],
             [
              0.5555555555555556,
              "#d8576b"
             ],
             [
              0.6666666666666666,
              "#ed7953"
             ],
             [
              0.7777777777777778,
              "#fb9f3a"
             ],
             [
              0.8888888888888888,
              "#fdca26"
             ],
             [
              1,
              "#f0f921"
             ]
            ],
            "type": "heatmap"
           }
          ],
          "heatmapgl": [
           {
            "colorbar": {
             "outlinewidth": 0,
             "ticks": ""
            },
            "colorscale": [
             [
              0,
              "#0d0887"
             ],
             [
              0.1111111111111111,
              "#46039f"
             ],
             [
              0.2222222222222222,
              "#7201a8"
             ],
             [
              0.3333333333333333,
              "#9c179e"
             ],
             [
              0.4444444444444444,
              "#bd3786"
             ],
             [
              0.5555555555555556,
              "#d8576b"
             ],
             [
              0.6666666666666666,
              "#ed7953"
             ],
             [
              0.7777777777777778,
              "#fb9f3a"
             ],
             [
              0.8888888888888888,
              "#fdca26"
             ],
             [
              1,
              "#f0f921"
             ]
            ],
            "type": "heatmapgl"
           }
          ],
          "histogram": [
           {
            "marker": {
             "pattern": {
              "fillmode": "overlay",
              "size": 10,
              "solidity": 0.2
             }
            },
            "type": "histogram"
           }
          ],
          "histogram2d": [
           {
            "colorbar": {
             "outlinewidth": 0,
             "ticks": ""
            },
            "colorscale": [
             [
              0,
              "#0d0887"
             ],
             [
              0.1111111111111111,
              "#46039f"
             ],
             [
              0.2222222222222222,
              "#7201a8"
             ],
             [
              0.3333333333333333,
              "#9c179e"
             ],
             [
              0.4444444444444444,
              "#bd3786"
             ],
             [
              0.5555555555555556,
              "#d8576b"
             ],
             [
              0.6666666666666666,
              "#ed7953"
             ],
             [
              0.7777777777777778,
              "#fb9f3a"
             ],
             [
              0.8888888888888888,
              "#fdca26"
             ],
             [
              1,
              "#f0f921"
             ]
            ],
            "type": "histogram2d"
           }
          ],
          "histogram2dcontour": [
           {
            "colorbar": {
             "outlinewidth": 0,
             "ticks": ""
            },
            "colorscale": [
             [
              0,
              "#0d0887"
             ],
             [
              0.1111111111111111,
              "#46039f"
             ],
             [
              0.2222222222222222,
              "#7201a8"
             ],
             [
              0.3333333333333333,
              "#9c179e"
             ],
             [
              0.4444444444444444,
              "#bd3786"
             ],
             [
              0.5555555555555556,
              "#d8576b"
             ],
             [
              0.6666666666666666,
              "#ed7953"
             ],
             [
              0.7777777777777778,
              "#fb9f3a"
             ],
             [
              0.8888888888888888,
              "#fdca26"
             ],
             [
              1,
              "#f0f921"
             ]
            ],
            "type": "histogram2dcontour"
           }
          ],
          "mesh3d": [
           {
            "colorbar": {
             "outlinewidth": 0,
             "ticks": ""
            },
            "type": "mesh3d"
           }
          ],
          "parcoords": [
           {
            "line": {
             "colorbar": {
              "outlinewidth": 0,
              "ticks": ""
             }
            },
            "type": "parcoords"
           }
          ],
          "pie": [
           {
            "automargin": true,
            "type": "pie"
           }
          ],
          "scatter": [
           {
            "fillpattern": {
             "fillmode": "overlay",
             "size": 10,
             "solidity": 0.2
            },
            "type": "scatter"
           }
          ],
          "scatter3d": [
           {
            "line": {
             "colorbar": {
              "outlinewidth": 0,
              "ticks": ""
             }
            },
            "marker": {
             "colorbar": {
              "outlinewidth": 0,
              "ticks": ""
             }
            },
            "type": "scatter3d"
           }
          ],
          "scattercarpet": [
           {
            "marker": {
             "colorbar": {
              "outlinewidth": 0,
              "ticks": ""
             }
            },
            "type": "scattercarpet"
           }
          ],
          "scattergeo": [
           {
            "marker": {
             "colorbar": {
              "outlinewidth": 0,
              "ticks": ""
             }
            },
            "type": "scattergeo"
           }
          ],
          "scattergl": [
           {
            "marker": {
             "colorbar": {
              "outlinewidth": 0,
              "ticks": ""
             }
            },
            "type": "scattergl"
           }
          ],
          "scattermapbox": [
           {
            "marker": {
             "colorbar": {
              "outlinewidth": 0,
              "ticks": ""
             }
            },
            "type": "scattermapbox"
           }
          ],
          "scatterpolar": [
           {
            "marker": {
             "colorbar": {
              "outlinewidth": 0,
              "ticks": ""
             }
            },
            "type": "scatterpolar"
           }
          ],
          "scatterpolargl": [
           {
            "marker": {
             "colorbar": {
              "outlinewidth": 0,
              "ticks": ""
             }
            },
            "type": "scatterpolargl"
           }
          ],
          "scatterternary": [
           {
            "marker": {
             "colorbar": {
              "outlinewidth": 0,
              "ticks": ""
             }
            },
            "type": "scatterternary"
           }
          ],
          "surface": [
           {
            "colorbar": {
             "outlinewidth": 0,
             "ticks": ""
            },
            "colorscale": [
             [
              0,
              "#0d0887"
             ],
             [
              0.1111111111111111,
              "#46039f"
             ],
             [
              0.2222222222222222,
              "#7201a8"
             ],
             [
              0.3333333333333333,
              "#9c179e"
             ],
             [
              0.4444444444444444,
              "#bd3786"
             ],
             [
              0.5555555555555556,
              "#d8576b"
             ],
             [
              0.6666666666666666,
              "#ed7953"
             ],
             [
              0.7777777777777778,
              "#fb9f3a"
             ],
             [
              0.8888888888888888,
              "#fdca26"
             ],
             [
              1,
              "#f0f921"
             ]
            ],
            "type": "surface"
           }
          ],
          "table": [
           {
            "cells": {
             "fill": {
              "color": "#EBF0F8"
             },
             "line": {
              "color": "white"
             }
            },
            "header": {
             "fill": {
              "color": "#C8D4E3"
             },
             "line": {
              "color": "white"
             }
            },
            "type": "table"
           }
          ]
         },
         "layout": {
          "annotationdefaults": {
           "arrowcolor": "#2a3f5f",
           "arrowhead": 0,
           "arrowwidth": 1
          },
          "autotypenumbers": "strict",
          "coloraxis": {
           "colorbar": {
            "outlinewidth": 0,
            "ticks": ""
           }
          },
          "colorscale": {
           "diverging": [
            [
             0,
             "#8e0152"
            ],
            [
             0.1,
             "#c51b7d"
            ],
            [
             0.2,
             "#de77ae"
            ],
            [
             0.3,
             "#f1b6da"
            ],
            [
             0.4,
             "#fde0ef"
            ],
            [
             0.5,
             "#f7f7f7"
            ],
            [
             0.6,
             "#e6f5d0"
            ],
            [
             0.7,
             "#b8e186"
            ],
            [
             0.8,
             "#7fbc41"
            ],
            [
             0.9,
             "#4d9221"
            ],
            [
             1,
             "#276419"
            ]
           ],
           "sequential": [
            [
             0,
             "#0d0887"
            ],
            [
             0.1111111111111111,
             "#46039f"
            ],
            [
             0.2222222222222222,
             "#7201a8"
            ],
            [
             0.3333333333333333,
             "#9c179e"
            ],
            [
             0.4444444444444444,
             "#bd3786"
            ],
            [
             0.5555555555555556,
             "#d8576b"
            ],
            [
             0.6666666666666666,
             "#ed7953"
            ],
            [
             0.7777777777777778,
             "#fb9f3a"
            ],
            [
             0.8888888888888888,
             "#fdca26"
            ],
            [
             1,
             "#f0f921"
            ]
           ],
           "sequentialminus": [
            [
             0,
             "#0d0887"
            ],
            [
             0.1111111111111111,
             "#46039f"
            ],
            [
             0.2222222222222222,
             "#7201a8"
            ],
            [
             0.3333333333333333,
             "#9c179e"
            ],
            [
             0.4444444444444444,
             "#bd3786"
            ],
            [
             0.5555555555555556,
             "#d8576b"
            ],
            [
             0.6666666666666666,
             "#ed7953"
            ],
            [
             0.7777777777777778,
             "#fb9f3a"
            ],
            [
             0.8888888888888888,
             "#fdca26"
            ],
            [
             1,
             "#f0f921"
            ]
           ]
          },
          "colorway": [
           "#636efa",
           "#EF553B",
           "#00cc96",
           "#ab63fa",
           "#FFA15A",
           "#19d3f3",
           "#FF6692",
           "#B6E880",
           "#FF97FF",
           "#FECB52"
          ],
          "font": {
           "color": "#2a3f5f"
          },
          "geo": {
           "bgcolor": "white",
           "lakecolor": "white",
           "landcolor": "#E5ECF6",
           "showlakes": true,
           "showland": true,
           "subunitcolor": "white"
          },
          "hoverlabel": {
           "align": "left"
          },
          "hovermode": "closest",
          "mapbox": {
           "style": "light"
          },
          "paper_bgcolor": "white",
          "plot_bgcolor": "#E5ECF6",
          "polar": {
           "angularaxis": {
            "gridcolor": "white",
            "linecolor": "white",
            "ticks": ""
           },
           "bgcolor": "#E5ECF6",
           "radialaxis": {
            "gridcolor": "white",
            "linecolor": "white",
            "ticks": ""
           }
          },
          "scene": {
           "xaxis": {
            "backgroundcolor": "#E5ECF6",
            "gridcolor": "white",
            "gridwidth": 2,
            "linecolor": "white",
            "showbackground": true,
            "ticks": "",
            "zerolinecolor": "white"
           },
           "yaxis": {
            "backgroundcolor": "#E5ECF6",
            "gridcolor": "white",
            "gridwidth": 2,
            "linecolor": "white",
            "showbackground": true,
            "ticks": "",
            "zerolinecolor": "white"
           },
           "zaxis": {
            "backgroundcolor": "#E5ECF6",
            "gridcolor": "white",
            "gridwidth": 2,
            "linecolor": "white",
            "showbackground": true,
            "ticks": "",
            "zerolinecolor": "white"
           }
          },
          "shapedefaults": {
           "line": {
            "color": "#2a3f5f"
           }
          },
          "ternary": {
           "aaxis": {
            "gridcolor": "white",
            "linecolor": "white",
            "ticks": ""
           },
           "baxis": {
            "gridcolor": "white",
            "linecolor": "white",
            "ticks": ""
           },
           "bgcolor": "#E5ECF6",
           "caxis": {
            "gridcolor": "white",
            "linecolor": "white",
            "ticks": ""
           }
          },
          "title": {
           "x": 0.05
          },
          "xaxis": {
           "automargin": true,
           "gridcolor": "white",
           "linecolor": "white",
           "ticks": "",
           "title": {
            "standoff": 15
           },
           "zerolinecolor": "white",
           "zerolinewidth": 2
          },
          "yaxis": {
           "automargin": true,
           "gridcolor": "white",
           "linecolor": "white",
           "ticks": "",
           "title": {
            "standoff": 15
           },
           "zerolinecolor": "white",
           "zerolinewidth": 2
          }
         }
        },
        "title": {
         "text": "SCFace, Model QMagFace_SR"
        }
       }
      },
      "text/html": [
       "<div>                            <div id=\"e1ad484c-ef63-4252-b783-5c1b7640a64e\" class=\"plotly-graph-div\" style=\"height:525px; width:100%;\"></div>            <script type=\"text/javascript\">                require([\"plotly\"], function(Plotly) {                    window.PLOTLYENV=window.PLOTLYENV || {};                                    if (document.getElementById(\"e1ad484c-ef63-4252-b783-5c1b7640a64e\")) {                    Plotly.newPlot(                        \"e1ad484c-ef63-4252-b783-5c1b7640a64e\",                        [{\"branchvalues\":\"total\",\"customdata\":[[0.4627861824444297],[0.5711300308317925],[0.5258003300822296],[0.6060804299106884],[0.5885267275693737],[0.5328826299801616],[0.48141393434133295],[0.564316222751524],[0.5509337724069667],[0.5163563136297185],[0.3000419302426194],[0.628316548399186],[0.43359936933533616],[0.4445666567124914],[0.41252548097392233],[0.7293703585847628],[0.6754368733807214],[0.6768873919378751],[0.605308936434786],[0.15658836392036313],[0.09603601275937733],[0.7100424544863857],[0.4372695594480039],[0.4627861824444297],[0.5711300308317925],[0.5258003300822296],[0.6060804299106884],[0.5885267275693737],[0.5328826299801616],[0.48141393434133295],[0.564316222751524],[0.5509337724069667],[0.5163563136297185],[0.3000419302426194],[0.628316548399186],[0.43359936933533616],[0.4445666567124914],[0.41252548097392233],[0.7293703585847628],[0.6754368733807214],[0.6768873919378751],[0.605308936434786],[0.15658836392036313],[0.09603601275937733],[0.7100424544863857],[0.4372695594480039],[0.4446199301795439],[0.41252548097392233],[0.6723000357606695],[0.5947040777872602],[0.6184537681904791],[0.5684570200541245],[0.5874371488226859],[0.5384628445545062]],\"domain\":{\"x\":[0.0,1.0],\"y\":[0.0,1.0]},\"hovertemplate\":\"labels=%{label}<br>count=%{value}<br>parent=%{parent}<br>id=%{id}<br>Quality=%{color}<extra></extra>\",\"ids\":[\"Man/sideways/downwards/white\",\"Man/slightly_turned/downwards/white\",\"Woman/slightly_turned/downwards/white\",\"Man/straight/downwards/white\",\"Woman/straight/downwards/white\",\"Man/slightly_turned/slightly_downwards/white\",\"Woman/slightly_turned/slightly_downwards/white\",\"Man/straight/slightly_downwards/white\",\"Woman/straight/slightly_downwards/white\",\"Man/slightly_turned/slightly_upwards/white\",\"Woman/slightly_turned/slightly_upwards/white\",\"Man/straight/slightly_upwards/white\",\"Woman/straight/slightly_upwards/white\",\"Man/sideways/straight/white\",\"Woman/sideways/straight/white\",\"Man/slightly_turned/straight/white\",\"Woman/slightly_turned/straight/white\",\"Man/straight/straight/white\",\"Woman/straight/straight/white\",\"Man/slightly_turned/upwards/white\",\"Woman/slightly_turned/upwards/white\",\"Man/straight/upwards/white\",\"Woman/straight/upwards/white\",\"Man/sideways/downwards\",\"Man/slightly_turned/downwards\",\"Woman/slightly_turned/downwards\",\"Man/straight/downwards\",\"Woman/straight/downwards\",\"Man/slightly_turned/slightly_downwards\",\"Woman/slightly_turned/slightly_downwards\",\"Man/straight/slightly_downwards\",\"Woman/straight/slightly_downwards\",\"Man/slightly_turned/slightly_upwards\",\"Woman/slightly_turned/slightly_upwards\",\"Man/straight/slightly_upwards\",\"Woman/straight/slightly_upwards\",\"Man/sideways/straight\",\"Woman/sideways/straight\",\"Man/slightly_turned/straight\",\"Woman/slightly_turned/straight\",\"Man/straight/straight\",\"Woman/straight/straight\",\"Man/slightly_turned/upwards\",\"Woman/slightly_turned/upwards\",\"Man/straight/upwards\",\"Woman/straight/upwards\",\"Man/sideways\",\"Woman/sideways\",\"Man/slightly_turned\",\"Woman/slightly_turned\",\"Man/straight\",\"Woman/straight\",\"Man\",\"Woman\"],\"labels\":[\"white\",\"white\",\"white\",\"white\",\"white\",\"white\",\"white\",\"white\",\"white\",\"white\",\"white\",\"white\",\"white\",\"white\",\"white\",\"white\",\"white\",\"white\",\"white\",\"white\",\"white\",\"white\",\"white\",\"downwards\",\"downwards\",\"downwards\",\"downwards\",\"downwards\",\"slightly_downwards\",\"slightly_downwards\",\"slightly_downwards\",\"slightly_downwards\",\"slightly_upwards\",\"slightly_upwards\",\"slightly_upwards\",\"slightly_upwards\",\"straight\",\"straight\",\"straight\",\"straight\",\"straight\",\"straight\",\"upwards\",\"upwards\",\"upwards\",\"upwards\",\"sideways\",\"sideways\",\"slightly_turned\",\"slightly_turned\",\"straight\",\"straight\",\"Man\",\"Woman\"],\"marker\":{\"coloraxis\":\"coloraxis\",\"colors\":[0.4627861824444297,0.5711300308317925,0.5258003300822296,0.6060804299106884,0.5885267275693737,0.5328826299801616,0.48141393434133295,0.564316222751524,0.5509337724069667,0.5163563136297185,0.3000419302426194,0.628316548399186,0.43359936933533616,0.4445666567124914,0.41252548097392233,0.7293703585847628,0.6754368733807214,0.6768873919378751,0.605308936434786,0.15658836392036313,0.09603601275937733,0.7100424544863857,0.4372695594480039,0.4627861824444297,0.5711300308317925,0.5258003300822296,0.6060804299106884,0.5885267275693737,0.5328826299801616,0.48141393434133295,0.564316222751524,0.5509337724069667,0.5163563136297185,0.3000419302426194,0.628316548399186,0.43359936933533616,0.4445666567124914,0.41252548097392233,0.7293703585847628,0.6754368733807214,0.6768873919378751,0.605308936434786,0.15658836392036313,0.09603601275937733,0.7100424544863857,0.4372695594480039,0.4446199301795439,0.41252548097392233,0.6723000357606695,0.5947040777872602,0.6184537681904791,0.5684570200541245,0.5874371488226859,0.5384628445545062]},\"name\":\"\",\"parents\":[\"Man/sideways/downwards\",\"Man/slightly_turned/downwards\",\"Woman/slightly_turned/downwards\",\"Man/straight/downwards\",\"Woman/straight/downwards\",\"Man/slightly_turned/slightly_downwards\",\"Woman/slightly_turned/slightly_downwards\",\"Man/straight/slightly_downwards\",\"Woman/straight/slightly_downwards\",\"Man/slightly_turned/slightly_upwards\",\"Woman/slightly_turned/slightly_upwards\",\"Man/straight/slightly_upwards\",\"Woman/straight/slightly_upwards\",\"Man/sideways/straight\",\"Woman/sideways/straight\",\"Man/slightly_turned/straight\",\"Woman/slightly_turned/straight\",\"Man/straight/straight\",\"Woman/straight/straight\",\"Man/slightly_turned/upwards\",\"Woman/slightly_turned/upwards\",\"Man/straight/upwards\",\"Woman/straight/upwards\",\"Man/sideways\",\"Man/slightly_turned\",\"Woman/slightly_turned\",\"Man/straight\",\"Woman/straight\",\"Man/slightly_turned\",\"Woman/slightly_turned\",\"Man/straight\",\"Woman/straight\",\"Man/slightly_turned\",\"Woman/slightly_turned\",\"Man/straight\",\"Woman/straight\",\"Man/sideways\",\"Woman/sideways\",\"Man/slightly_turned\",\"Woman/slightly_turned\",\"Man/straight\",\"Woman/straight\",\"Man/slightly_turned\",\"Woman/slightly_turned\",\"Man/straight\",\"Woman/straight\",\"Man\",\"Woman\",\"Man\",\"Woman\",\"Man\",\"Woman\",\"\",\"\"],\"values\":[2,78,4,1088,112,23,2,410,69,6,5,90,24,682,95,247,43,559,81,4,3,23,6,2,78,4,1088,112,23,2,410,69,6,5,90,24,682,95,247,43,559,81,4,3,23,6,684,95,358,57,2170,292,3212,444],\"type\":\"sunburst\"}],                        {\"template\":{\"data\":{\"histogram2dcontour\":[{\"type\":\"histogram2dcontour\",\"colorbar\":{\"outlinewidth\":0,\"ticks\":\"\"},\"colorscale\":[[0.0,\"#0d0887\"],[0.1111111111111111,\"#46039f\"],[0.2222222222222222,\"#7201a8\"],[0.3333333333333333,\"#9c179e\"],[0.4444444444444444,\"#bd3786\"],[0.5555555555555556,\"#d8576b\"],[0.6666666666666666,\"#ed7953\"],[0.7777777777777778,\"#fb9f3a\"],[0.8888888888888888,\"#fdca26\"],[1.0,\"#f0f921\"]]}],\"choropleth\":[{\"type\":\"choropleth\",\"colorbar\":{\"outlinewidth\":0,\"ticks\":\"\"}}],\"histogram2d\":[{\"type\":\"histogram2d\",\"colorbar\":{\"outlinewidth\":0,\"ticks\":\"\"},\"colorscale\":[[0.0,\"#0d0887\"],[0.1111111111111111,\"#46039f\"],[0.2222222222222222,\"#7201a8\"],[0.3333333333333333,\"#9c179e\"],[0.4444444444444444,\"#bd3786\"],[0.5555555555555556,\"#d8576b\"],[0.6666666666666666,\"#ed7953\"],[0.7777777777777778,\"#fb9f3a\"],[0.8888888888888888,\"#fdca26\"],[1.0,\"#f0f921\"]]}],\"heatmap\":[{\"type\":\"heatmap\",\"colorbar\":{\"outlinewidth\":0,\"ticks\":\"\"},\"colorscale\":[[0.0,\"#0d0887\"],[0.1111111111111111,\"#46039f\"],[0.2222222222222222,\"#7201a8\"],[0.3333333333333333,\"#9c179e\"],[0.4444444444444444,\"#bd3786\"],[0.5555555555555556,\"#d8576b\"],[0.6666666666666666,\"#ed7953\"],[0.7777777777777778,\"#fb9f3a\"],[0.8888888888888888,\"#fdca26\"],[1.0,\"#f0f921\"]]}],\"heatmapgl\":[{\"type\":\"heatmapgl\",\"colorbar\":{\"outlinewidth\":0,\"ticks\":\"\"},\"colorscale\":[[0.0,\"#0d0887\"],[0.1111111111111111,\"#46039f\"],[0.2222222222222222,\"#7201a8\"],[0.3333333333333333,\"#9c179e\"],[0.4444444444444444,\"#bd3786\"],[0.5555555555555556,\"#d8576b\"],[0.6666666666666666,\"#ed7953\"],[0.7777777777777778,\"#fb9f3a\"],[0.8888888888888888,\"#fdca26\"],[1.0,\"#f0f921\"]]}],\"contourcarpet\":[{\"type\":\"contourcarpet\",\"colorbar\":{\"outlinewidth\":0,\"ticks\":\"\"}}],\"contour\":[{\"type\":\"contour\",\"colorbar\":{\"outlinewidth\":0,\"ticks\":\"\"},\"colorscale\":[[0.0,\"#0d0887\"],[0.1111111111111111,\"#46039f\"],[0.2222222222222222,\"#7201a8\"],[0.3333333333333333,\"#9c179e\"],[0.4444444444444444,\"#bd3786\"],[0.5555555555555556,\"#d8576b\"],[0.6666666666666666,\"#ed7953\"],[0.7777777777777778,\"#fb9f3a\"],[0.8888888888888888,\"#fdca26\"],[1.0,\"#f0f921\"]]}],\"surface\":[{\"type\":\"surface\",\"colorbar\":{\"outlinewidth\":0,\"ticks\":\"\"},\"colorscale\":[[0.0,\"#0d0887\"],[0.1111111111111111,\"#46039f\"],[0.2222222222222222,\"#7201a8\"],[0.3333333333333333,\"#9c179e\"],[0.4444444444444444,\"#bd3786\"],[0.5555555555555556,\"#d8576b\"],[0.6666666666666666,\"#ed7953\"],[0.7777777777777778,\"#fb9f3a\"],[0.8888888888888888,\"#fdca26\"],[1.0,\"#f0f921\"]]}],\"mesh3d\":[{\"type\":\"mesh3d\",\"colorbar\":{\"outlinewidth\":0,\"ticks\":\"\"}}],\"scatter\":[{\"fillpattern\":{\"fillmode\":\"overlay\",\"size\":10,\"solidity\":0.2},\"type\":\"scatter\"}],\"parcoords\":[{\"type\":\"parcoords\",\"line\":{\"colorbar\":{\"outlinewidth\":0,\"ticks\":\"\"}}}],\"scatterpolargl\":[{\"type\":\"scatterpolargl\",\"marker\":{\"colorbar\":{\"outlinewidth\":0,\"ticks\":\"\"}}}],\"bar\":[{\"error_x\":{\"color\":\"#2a3f5f\"},\"error_y\":{\"color\":\"#2a3f5f\"},\"marker\":{\"line\":{\"color\":\"#E5ECF6\",\"width\":0.5},\"pattern\":{\"fillmode\":\"overlay\",\"size\":10,\"solidity\":0.2}},\"type\":\"bar\"}],\"scattergeo\":[{\"type\":\"scattergeo\",\"marker\":{\"colorbar\":{\"outlinewidth\":0,\"ticks\":\"\"}}}],\"scatterpolar\":[{\"type\":\"scatterpolar\",\"marker\":{\"colorbar\":{\"outlinewidth\":0,\"ticks\":\"\"}}}],\"histogram\":[{\"marker\":{\"pattern\":{\"fillmode\":\"overlay\",\"size\":10,\"solidity\":0.2}},\"type\":\"histogram\"}],\"scattergl\":[{\"type\":\"scattergl\",\"marker\":{\"colorbar\":{\"outlinewidth\":0,\"ticks\":\"\"}}}],\"scatter3d\":[{\"type\":\"scatter3d\",\"line\":{\"colorbar\":{\"outlinewidth\":0,\"ticks\":\"\"}},\"marker\":{\"colorbar\":{\"outlinewidth\":0,\"ticks\":\"\"}}}],\"scattermapbox\":[{\"type\":\"scattermapbox\",\"marker\":{\"colorbar\":{\"outlinewidth\":0,\"ticks\":\"\"}}}],\"scatterternary\":[{\"type\":\"scatterternary\",\"marker\":{\"colorbar\":{\"outlinewidth\":0,\"ticks\":\"\"}}}],\"scattercarpet\":[{\"type\":\"scattercarpet\",\"marker\":{\"colorbar\":{\"outlinewidth\":0,\"ticks\":\"\"}}}],\"carpet\":[{\"aaxis\":{\"endlinecolor\":\"#2a3f5f\",\"gridcolor\":\"white\",\"linecolor\":\"white\",\"minorgridcolor\":\"white\",\"startlinecolor\":\"#2a3f5f\"},\"baxis\":{\"endlinecolor\":\"#2a3f5f\",\"gridcolor\":\"white\",\"linecolor\":\"white\",\"minorgridcolor\":\"white\",\"startlinecolor\":\"#2a3f5f\"},\"type\":\"carpet\"}],\"table\":[{\"cells\":{\"fill\":{\"color\":\"#EBF0F8\"},\"line\":{\"color\":\"white\"}},\"header\":{\"fill\":{\"color\":\"#C8D4E3\"},\"line\":{\"color\":\"white\"}},\"type\":\"table\"}],\"barpolar\":[{\"marker\":{\"line\":{\"color\":\"#E5ECF6\",\"width\":0.5},\"pattern\":{\"fillmode\":\"overlay\",\"size\":10,\"solidity\":0.2}},\"type\":\"barpolar\"}],\"pie\":[{\"automargin\":true,\"type\":\"pie\"}]},\"layout\":{\"autotypenumbers\":\"strict\",\"colorway\":[\"#636efa\",\"#EF553B\",\"#00cc96\",\"#ab63fa\",\"#FFA15A\",\"#19d3f3\",\"#FF6692\",\"#B6E880\",\"#FF97FF\",\"#FECB52\"],\"font\":{\"color\":\"#2a3f5f\"},\"hovermode\":\"closest\",\"hoverlabel\":{\"align\":\"left\"},\"paper_bgcolor\":\"white\",\"plot_bgcolor\":\"#E5ECF6\",\"polar\":{\"bgcolor\":\"#E5ECF6\",\"angularaxis\":{\"gridcolor\":\"white\",\"linecolor\":\"white\",\"ticks\":\"\"},\"radialaxis\":{\"gridcolor\":\"white\",\"linecolor\":\"white\",\"ticks\":\"\"}},\"ternary\":{\"bgcolor\":\"#E5ECF6\",\"aaxis\":{\"gridcolor\":\"white\",\"linecolor\":\"white\",\"ticks\":\"\"},\"baxis\":{\"gridcolor\":\"white\",\"linecolor\":\"white\",\"ticks\":\"\"},\"caxis\":{\"gridcolor\":\"white\",\"linecolor\":\"white\",\"ticks\":\"\"}},\"coloraxis\":{\"colorbar\":{\"outlinewidth\":0,\"ticks\":\"\"}},\"colorscale\":{\"sequential\":[[0.0,\"#0d0887\"],[0.1111111111111111,\"#46039f\"],[0.2222222222222222,\"#7201a8\"],[0.3333333333333333,\"#9c179e\"],[0.4444444444444444,\"#bd3786\"],[0.5555555555555556,\"#d8576b\"],[0.6666666666666666,\"#ed7953\"],[0.7777777777777778,\"#fb9f3a\"],[0.8888888888888888,\"#fdca26\"],[1.0,\"#f0f921\"]],\"sequentialminus\":[[0.0,\"#0d0887\"],[0.1111111111111111,\"#46039f\"],[0.2222222222222222,\"#7201a8\"],[0.3333333333333333,\"#9c179e\"],[0.4444444444444444,\"#bd3786\"],[0.5555555555555556,\"#d8576b\"],[0.6666666666666666,\"#ed7953\"],[0.7777777777777778,\"#fb9f3a\"],[0.8888888888888888,\"#fdca26\"],[1.0,\"#f0f921\"]],\"diverging\":[[0,\"#8e0152\"],[0.1,\"#c51b7d\"],[0.2,\"#de77ae\"],[0.3,\"#f1b6da\"],[0.4,\"#fde0ef\"],[0.5,\"#f7f7f7\"],[0.6,\"#e6f5d0\"],[0.7,\"#b8e186\"],[0.8,\"#7fbc41\"],[0.9,\"#4d9221\"],[1,\"#276419\"]]},\"xaxis\":{\"gridcolor\":\"white\",\"linecolor\":\"white\",\"ticks\":\"\",\"title\":{\"standoff\":15},\"zerolinecolor\":\"white\",\"automargin\":true,\"zerolinewidth\":2},\"yaxis\":{\"gridcolor\":\"white\",\"linecolor\":\"white\",\"ticks\":\"\",\"title\":{\"standoff\":15},\"zerolinecolor\":\"white\",\"automargin\":true,\"zerolinewidth\":2},\"scene\":{\"xaxis\":{\"backgroundcolor\":\"#E5ECF6\",\"gridcolor\":\"white\",\"linecolor\":\"white\",\"showbackground\":true,\"ticks\":\"\",\"zerolinecolor\":\"white\",\"gridwidth\":2},\"yaxis\":{\"backgroundcolor\":\"#E5ECF6\",\"gridcolor\":\"white\",\"linecolor\":\"white\",\"showbackground\":true,\"ticks\":\"\",\"zerolinecolor\":\"white\",\"gridwidth\":2},\"zaxis\":{\"backgroundcolor\":\"#E5ECF6\",\"gridcolor\":\"white\",\"linecolor\":\"white\",\"showbackground\":true,\"ticks\":\"\",\"zerolinecolor\":\"white\",\"gridwidth\":2}},\"shapedefaults\":{\"line\":{\"color\":\"#2a3f5f\"}},\"annotationdefaults\":{\"arrowcolor\":\"#2a3f5f\",\"arrowhead\":0,\"arrowwidth\":1},\"geo\":{\"bgcolor\":\"white\",\"landcolor\":\"#E5ECF6\",\"subunitcolor\":\"white\",\"showland\":true,\"showlakes\":true,\"lakecolor\":\"white\"},\"title\":{\"x\":0.05},\"mapbox\":{\"style\":\"light\"}}},\"coloraxis\":{\"colorbar\":{\"title\":{\"text\":\"Quality\"}},\"colorscale\":[[0.0,\"#440154\"],[0.1111111111111111,\"#482878\"],[0.2222222222222222,\"#3e4989\"],[0.3333333333333333,\"#31688e\"],[0.4444444444444444,\"#26828e\"],[0.5555555555555556,\"#1f9e89\"],[0.6666666666666666,\"#35b779\"],[0.7777777777777778,\"#6ece58\"],[0.8888888888888888,\"#b5de2b\"],[1.0,\"#fde725\"]],\"cmin\":0,\"cmax\":1},\"legend\":{\"tracegroupgap\":0},\"title\":{\"text\":\"SCFace, Model QMagFace_SR\"}},                        {\"responsive\": true}                    ).then(function(){\n",
       "                            \n",
       "var gd = document.getElementById('e1ad484c-ef63-4252-b783-5c1b7640a64e');\n",
       "var x = new MutationObserver(function (mutations, observer) {{\n",
       "        var display = window.getComputedStyle(gd).display;\n",
       "        if (!display || display === 'none') {{\n",
       "            console.log([gd, 'removed!']);\n",
       "            Plotly.purge(gd);\n",
       "            observer.disconnect();\n",
       "        }}\n",
       "}});\n",
       "\n",
       "// Listen for the removal of the full notebook cells\n",
       "var notebookContainer = gd.closest('#notebook-container');\n",
       "if (notebookContainer) {{\n",
       "    x.observe(notebookContainer, {childList: true});\n",
       "}}\n",
       "\n",
       "// Listen for the clearing of the current output cell\n",
       "var outputEl = gd.closest('.output');\n",
       "if (outputEl) {{\n",
       "    x.observe(outputEl, {childList: true});\n",
       "}}\n",
       "\n",
       "                        })                };                });            </script>        </div>"
      ]
     },
     "metadata": {},
     "output_type": "display_data"
    },
    {
     "data": {
      "application/vnd.plotly.v1+json": {
       "config": {
        "plotlyServerURL": "https://plot.ly"
       },
       "data": [
        {
         "branchvalues": "total",
         "customdata": [],
         "domain": {
          "x": [
           0,
           1
          ],
          "y": [
           0,
           1
          ]
         },
         "hovertemplate": "labels=%{label}<br>count=%{value}<br>parent=%{parent}<br>id=%{id}<br>Quality=%{color}<extra></extra>",
         "ids": [],
         "labels": [],
         "marker": {
          "coloraxis": "coloraxis",
          "colors": []
         },
         "name": "",
         "parents": [],
         "type": "sunburst",
         "values": []
        }
       ],
       "layout": {
        "coloraxis": {
         "cmax": 1,
         "cmin": 0,
         "colorbar": {
          "title": {
           "text": "Quality"
          }
         },
         "colorscale": [
          [
           0,
           "#440154"
          ],
          [
           0.1111111111111111,
           "#482878"
          ],
          [
           0.2222222222222222,
           "#3e4989"
          ],
          [
           0.3333333333333333,
           "#31688e"
          ],
          [
           0.4444444444444444,
           "#26828e"
          ],
          [
           0.5555555555555556,
           "#1f9e89"
          ],
          [
           0.6666666666666666,
           "#35b779"
          ],
          [
           0.7777777777777778,
           "#6ece58"
          ],
          [
           0.8888888888888888,
           "#b5de2b"
          ],
          [
           1,
           "#fde725"
          ]
         ]
        },
        "legend": {
         "tracegroupgap": 0
        },
        "template": {
         "data": {
          "bar": [
           {
            "error_x": {
             "color": "#2a3f5f"
            },
            "error_y": {
             "color": "#2a3f5f"
            },
            "marker": {
             "line": {
              "color": "#E5ECF6",
              "width": 0.5
             },
             "pattern": {
              "fillmode": "overlay",
              "size": 10,
              "solidity": 0.2
             }
            },
            "type": "bar"
           }
          ],
          "barpolar": [
           {
            "marker": {
             "line": {
              "color": "#E5ECF6",
              "width": 0.5
             },
             "pattern": {
              "fillmode": "overlay",
              "size": 10,
              "solidity": 0.2
             }
            },
            "type": "barpolar"
           }
          ],
          "carpet": [
           {
            "aaxis": {
             "endlinecolor": "#2a3f5f",
             "gridcolor": "white",
             "linecolor": "white",
             "minorgridcolor": "white",
             "startlinecolor": "#2a3f5f"
            },
            "baxis": {
             "endlinecolor": "#2a3f5f",
             "gridcolor": "white",
             "linecolor": "white",
             "minorgridcolor": "white",
             "startlinecolor": "#2a3f5f"
            },
            "type": "carpet"
           }
          ],
          "choropleth": [
           {
            "colorbar": {
             "outlinewidth": 0,
             "ticks": ""
            },
            "type": "choropleth"
           }
          ],
          "contour": [
           {
            "colorbar": {
             "outlinewidth": 0,
             "ticks": ""
            },
            "colorscale": [
             [
              0,
              "#0d0887"
             ],
             [
              0.1111111111111111,
              "#46039f"
             ],
             [
              0.2222222222222222,
              "#7201a8"
             ],
             [
              0.3333333333333333,
              "#9c179e"
             ],
             [
              0.4444444444444444,
              "#bd3786"
             ],
             [
              0.5555555555555556,
              "#d8576b"
             ],
             [
              0.6666666666666666,
              "#ed7953"
             ],
             [
              0.7777777777777778,
              "#fb9f3a"
             ],
             [
              0.8888888888888888,
              "#fdca26"
             ],
             [
              1,
              "#f0f921"
             ]
            ],
            "type": "contour"
           }
          ],
          "contourcarpet": [
           {
            "colorbar": {
             "outlinewidth": 0,
             "ticks": ""
            },
            "type": "contourcarpet"
           }
          ],
          "heatmap": [
           {
            "colorbar": {
             "outlinewidth": 0,
             "ticks": ""
            },
            "colorscale": [
             [
              0,
              "#0d0887"
             ],
             [
              0.1111111111111111,
              "#46039f"
             ],
             [
              0.2222222222222222,
              "#7201a8"
             ],
             [
              0.3333333333333333,
              "#9c179e"
             ],
             [
              0.4444444444444444,
              "#bd3786"
             ],
             [
              0.5555555555555556,
              "#d8576b"
             ],
             [
              0.6666666666666666,
              "#ed7953"
             ],
             [
              0.7777777777777778,
              "#fb9f3a"
             ],
             [
              0.8888888888888888,
              "#fdca26"
             ],
             [
              1,
              "#f0f921"
             ]
            ],
            "type": "heatmap"
           }
          ],
          "heatmapgl": [
           {
            "colorbar": {
             "outlinewidth": 0,
             "ticks": ""
            },
            "colorscale": [
             [
              0,
              "#0d0887"
             ],
             [
              0.1111111111111111,
              "#46039f"
             ],
             [
              0.2222222222222222,
              "#7201a8"
             ],
             [
              0.3333333333333333,
              "#9c179e"
             ],
             [
              0.4444444444444444,
              "#bd3786"
             ],
             [
              0.5555555555555556,
              "#d8576b"
             ],
             [
              0.6666666666666666,
              "#ed7953"
             ],
             [
              0.7777777777777778,
              "#fb9f3a"
             ],
             [
              0.8888888888888888,
              "#fdca26"
             ],
             [
              1,
              "#f0f921"
             ]
            ],
            "type": "heatmapgl"
           }
          ],
          "histogram": [
           {
            "marker": {
             "pattern": {
              "fillmode": "overlay",
              "size": 10,
              "solidity": 0.2
             }
            },
            "type": "histogram"
           }
          ],
          "histogram2d": [
           {
            "colorbar": {
             "outlinewidth": 0,
             "ticks": ""
            },
            "colorscale": [
             [
              0,
              "#0d0887"
             ],
             [
              0.1111111111111111,
              "#46039f"
             ],
             [
              0.2222222222222222,
              "#7201a8"
             ],
             [
              0.3333333333333333,
              "#9c179e"
             ],
             [
              0.4444444444444444,
              "#bd3786"
             ],
             [
              0.5555555555555556,
              "#d8576b"
             ],
             [
              0.6666666666666666,
              "#ed7953"
             ],
             [
              0.7777777777777778,
              "#fb9f3a"
             ],
             [
              0.8888888888888888,
              "#fdca26"
             ],
             [
              1,
              "#f0f921"
             ]
            ],
            "type": "histogram2d"
           }
          ],
          "histogram2dcontour": [
           {
            "colorbar": {
             "outlinewidth": 0,
             "ticks": ""
            },
            "colorscale": [
             [
              0,
              "#0d0887"
             ],
             [
              0.1111111111111111,
              "#46039f"
             ],
             [
              0.2222222222222222,
              "#7201a8"
             ],
             [
              0.3333333333333333,
              "#9c179e"
             ],
             [
              0.4444444444444444,
              "#bd3786"
             ],
             [
              0.5555555555555556,
              "#d8576b"
             ],
             [
              0.6666666666666666,
              "#ed7953"
             ],
             [
              0.7777777777777778,
              "#fb9f3a"
             ],
             [
              0.8888888888888888,
              "#fdca26"
             ],
             [
              1,
              "#f0f921"
             ]
            ],
            "type": "histogram2dcontour"
           }
          ],
          "mesh3d": [
           {
            "colorbar": {
             "outlinewidth": 0,
             "ticks": ""
            },
            "type": "mesh3d"
           }
          ],
          "parcoords": [
           {
            "line": {
             "colorbar": {
              "outlinewidth": 0,
              "ticks": ""
             }
            },
            "type": "parcoords"
           }
          ],
          "pie": [
           {
            "automargin": true,
            "type": "pie"
           }
          ],
          "scatter": [
           {
            "fillpattern": {
             "fillmode": "overlay",
             "size": 10,
             "solidity": 0.2
            },
            "type": "scatter"
           }
          ],
          "scatter3d": [
           {
            "line": {
             "colorbar": {
              "outlinewidth": 0,
              "ticks": ""
             }
            },
            "marker": {
             "colorbar": {
              "outlinewidth": 0,
              "ticks": ""
             }
            },
            "type": "scatter3d"
           }
          ],
          "scattercarpet": [
           {
            "marker": {
             "colorbar": {
              "outlinewidth": 0,
              "ticks": ""
             }
            },
            "type": "scattercarpet"
           }
          ],
          "scattergeo": [
           {
            "marker": {
             "colorbar": {
              "outlinewidth": 0,
              "ticks": ""
             }
            },
            "type": "scattergeo"
           }
          ],
          "scattergl": [
           {
            "marker": {
             "colorbar": {
              "outlinewidth": 0,
              "ticks": ""
             }
            },
            "type": "scattergl"
           }
          ],
          "scattermapbox": [
           {
            "marker": {
             "colorbar": {
              "outlinewidth": 0,
              "ticks": ""
             }
            },
            "type": "scattermapbox"
           }
          ],
          "scatterpolar": [
           {
            "marker": {
             "colorbar": {
              "outlinewidth": 0,
              "ticks": ""
             }
            },
            "type": "scatterpolar"
           }
          ],
          "scatterpolargl": [
           {
            "marker": {
             "colorbar": {
              "outlinewidth": 0,
              "ticks": ""
             }
            },
            "type": "scatterpolargl"
           }
          ],
          "scatterternary": [
           {
            "marker": {
             "colorbar": {
              "outlinewidth": 0,
              "ticks": ""
             }
            },
            "type": "scatterternary"
           }
          ],
          "surface": [
           {
            "colorbar": {
             "outlinewidth": 0,
             "ticks": ""
            },
            "colorscale": [
             [
              0,
              "#0d0887"
             ],
             [
              0.1111111111111111,
              "#46039f"
             ],
             [
              0.2222222222222222,
              "#7201a8"
             ],
             [
              0.3333333333333333,
              "#9c179e"
             ],
             [
              0.4444444444444444,
              "#bd3786"
             ],
             [
              0.5555555555555556,
              "#d8576b"
             ],
             [
              0.6666666666666666,
              "#ed7953"
             ],
             [
              0.7777777777777778,
              "#fb9f3a"
             ],
             [
              0.8888888888888888,
              "#fdca26"
             ],
             [
              1,
              "#f0f921"
             ]
            ],
            "type": "surface"
           }
          ],
          "table": [
           {
            "cells": {
             "fill": {
              "color": "#EBF0F8"
             },
             "line": {
              "color": "white"
             }
            },
            "header": {
             "fill": {
              "color": "#C8D4E3"
             },
             "line": {
              "color": "white"
             }
            },
            "type": "table"
           }
          ]
         },
         "layout": {
          "annotationdefaults": {
           "arrowcolor": "#2a3f5f",
           "arrowhead": 0,
           "arrowwidth": 1
          },
          "autotypenumbers": "strict",
          "coloraxis": {
           "colorbar": {
            "outlinewidth": 0,
            "ticks": ""
           }
          },
          "colorscale": {
           "diverging": [
            [
             0,
             "#8e0152"
            ],
            [
             0.1,
             "#c51b7d"
            ],
            [
             0.2,
             "#de77ae"
            ],
            [
             0.3,
             "#f1b6da"
            ],
            [
             0.4,
             "#fde0ef"
            ],
            [
             0.5,
             "#f7f7f7"
            ],
            [
             0.6,
             "#e6f5d0"
            ],
            [
             0.7,
             "#b8e186"
            ],
            [
             0.8,
             "#7fbc41"
            ],
            [
             0.9,
             "#4d9221"
            ],
            [
             1,
             "#276419"
            ]
           ],
           "sequential": [
            [
             0,
             "#0d0887"
            ],
            [
             0.1111111111111111,
             "#46039f"
            ],
            [
             0.2222222222222222,
             "#7201a8"
            ],
            [
             0.3333333333333333,
             "#9c179e"
            ],
            [
             0.4444444444444444,
             "#bd3786"
            ],
            [
             0.5555555555555556,
             "#d8576b"
            ],
            [
             0.6666666666666666,
             "#ed7953"
            ],
            [
             0.7777777777777778,
             "#fb9f3a"
            ],
            [
             0.8888888888888888,
             "#fdca26"
            ],
            [
             1,
             "#f0f921"
            ]
           ],
           "sequentialminus": [
            [
             0,
             "#0d0887"
            ],
            [
             0.1111111111111111,
             "#46039f"
            ],
            [
             0.2222222222222222,
             "#7201a8"
            ],
            [
             0.3333333333333333,
             "#9c179e"
            ],
            [
             0.4444444444444444,
             "#bd3786"
            ],
            [
             0.5555555555555556,
             "#d8576b"
            ],
            [
             0.6666666666666666,
             "#ed7953"
            ],
            [
             0.7777777777777778,
             "#fb9f3a"
            ],
            [
             0.8888888888888888,
             "#fdca26"
            ],
            [
             1,
             "#f0f921"
            ]
           ]
          },
          "colorway": [
           "#636efa",
           "#EF553B",
           "#00cc96",
           "#ab63fa",
           "#FFA15A",
           "#19d3f3",
           "#FF6692",
           "#B6E880",
           "#FF97FF",
           "#FECB52"
          ],
          "font": {
           "color": "#2a3f5f"
          },
          "geo": {
           "bgcolor": "white",
           "lakecolor": "white",
           "landcolor": "#E5ECF6",
           "showlakes": true,
           "showland": true,
           "subunitcolor": "white"
          },
          "hoverlabel": {
           "align": "left"
          },
          "hovermode": "closest",
          "mapbox": {
           "style": "light"
          },
          "paper_bgcolor": "white",
          "plot_bgcolor": "#E5ECF6",
          "polar": {
           "angularaxis": {
            "gridcolor": "white",
            "linecolor": "white",
            "ticks": ""
           },
           "bgcolor": "#E5ECF6",
           "radialaxis": {
            "gridcolor": "white",
            "linecolor": "white",
            "ticks": ""
           }
          },
          "scene": {
           "xaxis": {
            "backgroundcolor": "#E5ECF6",
            "gridcolor": "white",
            "gridwidth": 2,
            "linecolor": "white",
            "showbackground": true,
            "ticks": "",
            "zerolinecolor": "white"
           },
           "yaxis": {
            "backgroundcolor": "#E5ECF6",
            "gridcolor": "white",
            "gridwidth": 2,
            "linecolor": "white",
            "showbackground": true,
            "ticks": "",
            "zerolinecolor": "white"
           },
           "zaxis": {
            "backgroundcolor": "#E5ECF6",
            "gridcolor": "white",
            "gridwidth": 2,
            "linecolor": "white",
            "showbackground": true,
            "ticks": "",
            "zerolinecolor": "white"
           }
          },
          "shapedefaults": {
           "line": {
            "color": "#2a3f5f"
           }
          },
          "ternary": {
           "aaxis": {
            "gridcolor": "white",
            "linecolor": "white",
            "ticks": ""
           },
           "baxis": {
            "gridcolor": "white",
            "linecolor": "white",
            "ticks": ""
           },
           "bgcolor": "#E5ECF6",
           "caxis": {
            "gridcolor": "white",
            "linecolor": "white",
            "ticks": ""
           }
          },
          "title": {
           "x": 0.05
          },
          "xaxis": {
           "automargin": true,
           "gridcolor": "white",
           "linecolor": "white",
           "ticks": "",
           "title": {
            "standoff": 15
           },
           "zerolinecolor": "white",
           "zerolinewidth": 2
          },
          "yaxis": {
           "automargin": true,
           "gridcolor": "white",
           "linecolor": "white",
           "ticks": "",
           "title": {
            "standoff": 15
           },
           "zerolinecolor": "white",
           "zerolinewidth": 2
          }
         }
        },
        "title": {
         "text": "UTKface, Model QMagFace"
        }
       }
      },
      "text/html": [
       "<div>                            <div id=\"61514be8-e16f-4f3f-bcd1-52c89ac189d3\" class=\"plotly-graph-div\" style=\"height:525px; width:100%;\"></div>            <script type=\"text/javascript\">                require([\"plotly\"], function(Plotly) {                    window.PLOTLYENV=window.PLOTLYENV || {};                                    if (document.getElementById(\"61514be8-e16f-4f3f-bcd1-52c89ac189d3\")) {                    Plotly.newPlot(                        \"61514be8-e16f-4f3f-bcd1-52c89ac189d3\",                        [{\"branchvalues\":\"total\",\"customdata\":[],\"domain\":{\"x\":[0.0,1.0],\"y\":[0.0,1.0]},\"hovertemplate\":\"labels=%{label}<br>count=%{value}<br>parent=%{parent}<br>id=%{id}<br>Quality=%{color}<extra></extra>\",\"ids\":[],\"labels\":[],\"marker\":{\"coloraxis\":\"coloraxis\",\"colors\":[]},\"name\":\"\",\"parents\":[],\"values\":[],\"type\":\"sunburst\"}],                        {\"template\":{\"data\":{\"histogram2dcontour\":[{\"type\":\"histogram2dcontour\",\"colorbar\":{\"outlinewidth\":0,\"ticks\":\"\"},\"colorscale\":[[0.0,\"#0d0887\"],[0.1111111111111111,\"#46039f\"],[0.2222222222222222,\"#7201a8\"],[0.3333333333333333,\"#9c179e\"],[0.4444444444444444,\"#bd3786\"],[0.5555555555555556,\"#d8576b\"],[0.6666666666666666,\"#ed7953\"],[0.7777777777777778,\"#fb9f3a\"],[0.8888888888888888,\"#fdca26\"],[1.0,\"#f0f921\"]]}],\"choropleth\":[{\"type\":\"choropleth\",\"colorbar\":{\"outlinewidth\":0,\"ticks\":\"\"}}],\"histogram2d\":[{\"type\":\"histogram2d\",\"colorbar\":{\"outlinewidth\":0,\"ticks\":\"\"},\"colorscale\":[[0.0,\"#0d0887\"],[0.1111111111111111,\"#46039f\"],[0.2222222222222222,\"#7201a8\"],[0.3333333333333333,\"#9c179e\"],[0.4444444444444444,\"#bd3786\"],[0.5555555555555556,\"#d8576b\"],[0.6666666666666666,\"#ed7953\"],[0.7777777777777778,\"#fb9f3a\"],[0.8888888888888888,\"#fdca26\"],[1.0,\"#f0f921\"]]}],\"heatmap\":[{\"type\":\"heatmap\",\"colorbar\":{\"outlinewidth\":0,\"ticks\":\"\"},\"colorscale\":[[0.0,\"#0d0887\"],[0.1111111111111111,\"#46039f\"],[0.2222222222222222,\"#7201a8\"],[0.3333333333333333,\"#9c179e\"],[0.4444444444444444,\"#bd3786\"],[0.5555555555555556,\"#d8576b\"],[0.6666666666666666,\"#ed7953\"],[0.7777777777777778,\"#fb9f3a\"],[0.8888888888888888,\"#fdca26\"],[1.0,\"#f0f921\"]]}],\"heatmapgl\":[{\"type\":\"heatmapgl\",\"colorbar\":{\"outlinewidth\":0,\"ticks\":\"\"},\"colorscale\":[[0.0,\"#0d0887\"],[0.1111111111111111,\"#46039f\"],[0.2222222222222222,\"#7201a8\"],[0.3333333333333333,\"#9c179e\"],[0.4444444444444444,\"#bd3786\"],[0.5555555555555556,\"#d8576b\"],[0.6666666666666666,\"#ed7953\"],[0.7777777777777778,\"#fb9f3a\"],[0.8888888888888888,\"#fdca26\"],[1.0,\"#f0f921\"]]}],\"contourcarpet\":[{\"type\":\"contourcarpet\",\"colorbar\":{\"outlinewidth\":0,\"ticks\":\"\"}}],\"contour\":[{\"type\":\"contour\",\"colorbar\":{\"outlinewidth\":0,\"ticks\":\"\"},\"colorscale\":[[0.0,\"#0d0887\"],[0.1111111111111111,\"#46039f\"],[0.2222222222222222,\"#7201a8\"],[0.3333333333333333,\"#9c179e\"],[0.4444444444444444,\"#bd3786\"],[0.5555555555555556,\"#d8576b\"],[0.6666666666666666,\"#ed7953\"],[0.7777777777777778,\"#fb9f3a\"],[0.8888888888888888,\"#fdca26\"],[1.0,\"#f0f921\"]]}],\"surface\":[{\"type\":\"surface\",\"colorbar\":{\"outlinewidth\":0,\"ticks\":\"\"},\"colorscale\":[[0.0,\"#0d0887\"],[0.1111111111111111,\"#46039f\"],[0.2222222222222222,\"#7201a8\"],[0.3333333333333333,\"#9c179e\"],[0.4444444444444444,\"#bd3786\"],[0.5555555555555556,\"#d8576b\"],[0.6666666666666666,\"#ed7953\"],[0.7777777777777778,\"#fb9f3a\"],[0.8888888888888888,\"#fdca26\"],[1.0,\"#f0f921\"]]}],\"mesh3d\":[{\"type\":\"mesh3d\",\"colorbar\":{\"outlinewidth\":0,\"ticks\":\"\"}}],\"scatter\":[{\"fillpattern\":{\"fillmode\":\"overlay\",\"size\":10,\"solidity\":0.2},\"type\":\"scatter\"}],\"parcoords\":[{\"type\":\"parcoords\",\"line\":{\"colorbar\":{\"outlinewidth\":0,\"ticks\":\"\"}}}],\"scatterpolargl\":[{\"type\":\"scatterpolargl\",\"marker\":{\"colorbar\":{\"outlinewidth\":0,\"ticks\":\"\"}}}],\"bar\":[{\"error_x\":{\"color\":\"#2a3f5f\"},\"error_y\":{\"color\":\"#2a3f5f\"},\"marker\":{\"line\":{\"color\":\"#E5ECF6\",\"width\":0.5},\"pattern\":{\"fillmode\":\"overlay\",\"size\":10,\"solidity\":0.2}},\"type\":\"bar\"}],\"scattergeo\":[{\"type\":\"scattergeo\",\"marker\":{\"colorbar\":{\"outlinewidth\":0,\"ticks\":\"\"}}}],\"scatterpolar\":[{\"type\":\"scatterpolar\",\"marker\":{\"colorbar\":{\"outlinewidth\":0,\"ticks\":\"\"}}}],\"histogram\":[{\"marker\":{\"pattern\":{\"fillmode\":\"overlay\",\"size\":10,\"solidity\":0.2}},\"type\":\"histogram\"}],\"scattergl\":[{\"type\":\"scattergl\",\"marker\":{\"colorbar\":{\"outlinewidth\":0,\"ticks\":\"\"}}}],\"scatter3d\":[{\"type\":\"scatter3d\",\"line\":{\"colorbar\":{\"outlinewidth\":0,\"ticks\":\"\"}},\"marker\":{\"colorbar\":{\"outlinewidth\":0,\"ticks\":\"\"}}}],\"scattermapbox\":[{\"type\":\"scattermapbox\",\"marker\":{\"colorbar\":{\"outlinewidth\":0,\"ticks\":\"\"}}}],\"scatterternary\":[{\"type\":\"scatterternary\",\"marker\":{\"colorbar\":{\"outlinewidth\":0,\"ticks\":\"\"}}}],\"scattercarpet\":[{\"type\":\"scattercarpet\",\"marker\":{\"colorbar\":{\"outlinewidth\":0,\"ticks\":\"\"}}}],\"carpet\":[{\"aaxis\":{\"endlinecolor\":\"#2a3f5f\",\"gridcolor\":\"white\",\"linecolor\":\"white\",\"minorgridcolor\":\"white\",\"startlinecolor\":\"#2a3f5f\"},\"baxis\":{\"endlinecolor\":\"#2a3f5f\",\"gridcolor\":\"white\",\"linecolor\":\"white\",\"minorgridcolor\":\"white\",\"startlinecolor\":\"#2a3f5f\"},\"type\":\"carpet\"}],\"table\":[{\"cells\":{\"fill\":{\"color\":\"#EBF0F8\"},\"line\":{\"color\":\"white\"}},\"header\":{\"fill\":{\"color\":\"#C8D4E3\"},\"line\":{\"color\":\"white\"}},\"type\":\"table\"}],\"barpolar\":[{\"marker\":{\"line\":{\"color\":\"#E5ECF6\",\"width\":0.5},\"pattern\":{\"fillmode\":\"overlay\",\"size\":10,\"solidity\":0.2}},\"type\":\"barpolar\"}],\"pie\":[{\"automargin\":true,\"type\":\"pie\"}]},\"layout\":{\"autotypenumbers\":\"strict\",\"colorway\":[\"#636efa\",\"#EF553B\",\"#00cc96\",\"#ab63fa\",\"#FFA15A\",\"#19d3f3\",\"#FF6692\",\"#B6E880\",\"#FF97FF\",\"#FECB52\"],\"font\":{\"color\":\"#2a3f5f\"},\"hovermode\":\"closest\",\"hoverlabel\":{\"align\":\"left\"},\"paper_bgcolor\":\"white\",\"plot_bgcolor\":\"#E5ECF6\",\"polar\":{\"bgcolor\":\"#E5ECF6\",\"angularaxis\":{\"gridcolor\":\"white\",\"linecolor\":\"white\",\"ticks\":\"\"},\"radialaxis\":{\"gridcolor\":\"white\",\"linecolor\":\"white\",\"ticks\":\"\"}},\"ternary\":{\"bgcolor\":\"#E5ECF6\",\"aaxis\":{\"gridcolor\":\"white\",\"linecolor\":\"white\",\"ticks\":\"\"},\"baxis\":{\"gridcolor\":\"white\",\"linecolor\":\"white\",\"ticks\":\"\"},\"caxis\":{\"gridcolor\":\"white\",\"linecolor\":\"white\",\"ticks\":\"\"}},\"coloraxis\":{\"colorbar\":{\"outlinewidth\":0,\"ticks\":\"\"}},\"colorscale\":{\"sequential\":[[0.0,\"#0d0887\"],[0.1111111111111111,\"#46039f\"],[0.2222222222222222,\"#7201a8\"],[0.3333333333333333,\"#9c179e\"],[0.4444444444444444,\"#bd3786\"],[0.5555555555555556,\"#d8576b\"],[0.6666666666666666,\"#ed7953\"],[0.7777777777777778,\"#fb9f3a\"],[0.8888888888888888,\"#fdca26\"],[1.0,\"#f0f921\"]],\"sequentialminus\":[[0.0,\"#0d0887\"],[0.1111111111111111,\"#46039f\"],[0.2222222222222222,\"#7201a8\"],[0.3333333333333333,\"#9c179e\"],[0.4444444444444444,\"#bd3786\"],[0.5555555555555556,\"#d8576b\"],[0.6666666666666666,\"#ed7953\"],[0.7777777777777778,\"#fb9f3a\"],[0.8888888888888888,\"#fdca26\"],[1.0,\"#f0f921\"]],\"diverging\":[[0,\"#8e0152\"],[0.1,\"#c51b7d\"],[0.2,\"#de77ae\"],[0.3,\"#f1b6da\"],[0.4,\"#fde0ef\"],[0.5,\"#f7f7f7\"],[0.6,\"#e6f5d0\"],[0.7,\"#b8e186\"],[0.8,\"#7fbc41\"],[0.9,\"#4d9221\"],[1,\"#276419\"]]},\"xaxis\":{\"gridcolor\":\"white\",\"linecolor\":\"white\",\"ticks\":\"\",\"title\":{\"standoff\":15},\"zerolinecolor\":\"white\",\"automargin\":true,\"zerolinewidth\":2},\"yaxis\":{\"gridcolor\":\"white\",\"linecolor\":\"white\",\"ticks\":\"\",\"title\":{\"standoff\":15},\"zerolinecolor\":\"white\",\"automargin\":true,\"zerolinewidth\":2},\"scene\":{\"xaxis\":{\"backgroundcolor\":\"#E5ECF6\",\"gridcolor\":\"white\",\"linecolor\":\"white\",\"showbackground\":true,\"ticks\":\"\",\"zerolinecolor\":\"white\",\"gridwidth\":2},\"yaxis\":{\"backgroundcolor\":\"#E5ECF6\",\"gridcolor\":\"white\",\"linecolor\":\"white\",\"showbackground\":true,\"ticks\":\"\",\"zerolinecolor\":\"white\",\"gridwidth\":2},\"zaxis\":{\"backgroundcolor\":\"#E5ECF6\",\"gridcolor\":\"white\",\"linecolor\":\"white\",\"showbackground\":true,\"ticks\":\"\",\"zerolinecolor\":\"white\",\"gridwidth\":2}},\"shapedefaults\":{\"line\":{\"color\":\"#2a3f5f\"}},\"annotationdefaults\":{\"arrowcolor\":\"#2a3f5f\",\"arrowhead\":0,\"arrowwidth\":1},\"geo\":{\"bgcolor\":\"white\",\"landcolor\":\"#E5ECF6\",\"subunitcolor\":\"white\",\"showland\":true,\"showlakes\":true,\"lakecolor\":\"white\"},\"title\":{\"x\":0.05},\"mapbox\":{\"style\":\"light\"}}},\"coloraxis\":{\"colorbar\":{\"title\":{\"text\":\"Quality\"}},\"colorscale\":[[0.0,\"#440154\"],[0.1111111111111111,\"#482878\"],[0.2222222222222222,\"#3e4989\"],[0.3333333333333333,\"#31688e\"],[0.4444444444444444,\"#26828e\"],[0.5555555555555556,\"#1f9e89\"],[0.6666666666666666,\"#35b779\"],[0.7777777777777778,\"#6ece58\"],[0.8888888888888888,\"#b5de2b\"],[1.0,\"#fde725\"]],\"cmin\":0,\"cmax\":1},\"legend\":{\"tracegroupgap\":0},\"title\":{\"text\":\"UTKface, Model QMagFace\"}},                        {\"responsive\": true}                    ).then(function(){\n",
       "                            \n",
       "var gd = document.getElementById('61514be8-e16f-4f3f-bcd1-52c89ac189d3');\n",
       "var x = new MutationObserver(function (mutations, observer) {{\n",
       "        var display = window.getComputedStyle(gd).display;\n",
       "        if (!display || display === 'none') {{\n",
       "            console.log([gd, 'removed!']);\n",
       "            Plotly.purge(gd);\n",
       "            observer.disconnect();\n",
       "        }}\n",
       "}});\n",
       "\n",
       "// Listen for the removal of the full notebook cells\n",
       "var notebookContainer = gd.closest('#notebook-container');\n",
       "if (notebookContainer) {{\n",
       "    x.observe(notebookContainer, {childList: true});\n",
       "}}\n",
       "\n",
       "// Listen for the clearing of the current output cell\n",
       "var outputEl = gd.closest('.output');\n",
       "if (outputEl) {{\n",
       "    x.observe(outputEl, {childList: true});\n",
       "}}\n",
       "\n",
       "                        })                };                });            </script>        </div>"
      ]
     },
     "metadata": {},
     "output_type": "display_data"
    },
    {
     "data": {
      "application/vnd.plotly.v1+json": {
       "config": {
        "plotlyServerURL": "https://plot.ly"
       },
       "data": [
        {
         "branchvalues": "total",
         "customdata": [],
         "domain": {
          "x": [
           0,
           1
          ],
          "y": [
           0,
           1
          ]
         },
         "hovertemplate": "labels=%{label}<br>count=%{value}<br>parent=%{parent}<br>id=%{id}<br>Quality=%{color}<extra></extra>",
         "ids": [],
         "labels": [],
         "marker": {
          "coloraxis": "coloraxis",
          "colors": []
         },
         "name": "",
         "parents": [],
         "type": "sunburst",
         "values": []
        }
       ],
       "layout": {
        "coloraxis": {
         "cmax": 1,
         "cmin": 0,
         "colorbar": {
          "title": {
           "text": "Quality"
          }
         },
         "colorscale": [
          [
           0,
           "#440154"
          ],
          [
           0.1111111111111111,
           "#482878"
          ],
          [
           0.2222222222222222,
           "#3e4989"
          ],
          [
           0.3333333333333333,
           "#31688e"
          ],
          [
           0.4444444444444444,
           "#26828e"
          ],
          [
           0.5555555555555556,
           "#1f9e89"
          ],
          [
           0.6666666666666666,
           "#35b779"
          ],
          [
           0.7777777777777778,
           "#6ece58"
          ],
          [
           0.8888888888888888,
           "#b5de2b"
          ],
          [
           1,
           "#fde725"
          ]
         ]
        },
        "legend": {
         "tracegroupgap": 0
        },
        "template": {
         "data": {
          "bar": [
           {
            "error_x": {
             "color": "#2a3f5f"
            },
            "error_y": {
             "color": "#2a3f5f"
            },
            "marker": {
             "line": {
              "color": "#E5ECF6",
              "width": 0.5
             },
             "pattern": {
              "fillmode": "overlay",
              "size": 10,
              "solidity": 0.2
             }
            },
            "type": "bar"
           }
          ],
          "barpolar": [
           {
            "marker": {
             "line": {
              "color": "#E5ECF6",
              "width": 0.5
             },
             "pattern": {
              "fillmode": "overlay",
              "size": 10,
              "solidity": 0.2
             }
            },
            "type": "barpolar"
           }
          ],
          "carpet": [
           {
            "aaxis": {
             "endlinecolor": "#2a3f5f",
             "gridcolor": "white",
             "linecolor": "white",
             "minorgridcolor": "white",
             "startlinecolor": "#2a3f5f"
            },
            "baxis": {
             "endlinecolor": "#2a3f5f",
             "gridcolor": "white",
             "linecolor": "white",
             "minorgridcolor": "white",
             "startlinecolor": "#2a3f5f"
            },
            "type": "carpet"
           }
          ],
          "choropleth": [
           {
            "colorbar": {
             "outlinewidth": 0,
             "ticks": ""
            },
            "type": "choropleth"
           }
          ],
          "contour": [
           {
            "colorbar": {
             "outlinewidth": 0,
             "ticks": ""
            },
            "colorscale": [
             [
              0,
              "#0d0887"
             ],
             [
              0.1111111111111111,
              "#46039f"
             ],
             [
              0.2222222222222222,
              "#7201a8"
             ],
             [
              0.3333333333333333,
              "#9c179e"
             ],
             [
              0.4444444444444444,
              "#bd3786"
             ],
             [
              0.5555555555555556,
              "#d8576b"
             ],
             [
              0.6666666666666666,
              "#ed7953"
             ],
             [
              0.7777777777777778,
              "#fb9f3a"
             ],
             [
              0.8888888888888888,
              "#fdca26"
             ],
             [
              1,
              "#f0f921"
             ]
            ],
            "type": "contour"
           }
          ],
          "contourcarpet": [
           {
            "colorbar": {
             "outlinewidth": 0,
             "ticks": ""
            },
            "type": "contourcarpet"
           }
          ],
          "heatmap": [
           {
            "colorbar": {
             "outlinewidth": 0,
             "ticks": ""
            },
            "colorscale": [
             [
              0,
              "#0d0887"
             ],
             [
              0.1111111111111111,
              "#46039f"
             ],
             [
              0.2222222222222222,
              "#7201a8"
             ],
             [
              0.3333333333333333,
              "#9c179e"
             ],
             [
              0.4444444444444444,
              "#bd3786"
             ],
             [
              0.5555555555555556,
              "#d8576b"
             ],
             [
              0.6666666666666666,
              "#ed7953"
             ],
             [
              0.7777777777777778,
              "#fb9f3a"
             ],
             [
              0.8888888888888888,
              "#fdca26"
             ],
             [
              1,
              "#f0f921"
             ]
            ],
            "type": "heatmap"
           }
          ],
          "heatmapgl": [
           {
            "colorbar": {
             "outlinewidth": 0,
             "ticks": ""
            },
            "colorscale": [
             [
              0,
              "#0d0887"
             ],
             [
              0.1111111111111111,
              "#46039f"
             ],
             [
              0.2222222222222222,
              "#7201a8"
             ],
             [
              0.3333333333333333,
              "#9c179e"
             ],
             [
              0.4444444444444444,
              "#bd3786"
             ],
             [
              0.5555555555555556,
              "#d8576b"
             ],
             [
              0.6666666666666666,
              "#ed7953"
             ],
             [
              0.7777777777777778,
              "#fb9f3a"
             ],
             [
              0.8888888888888888,
              "#fdca26"
             ],
             [
              1,
              "#f0f921"
             ]
            ],
            "type": "heatmapgl"
           }
          ],
          "histogram": [
           {
            "marker": {
             "pattern": {
              "fillmode": "overlay",
              "size": 10,
              "solidity": 0.2
             }
            },
            "type": "histogram"
           }
          ],
          "histogram2d": [
           {
            "colorbar": {
             "outlinewidth": 0,
             "ticks": ""
            },
            "colorscale": [
             [
              0,
              "#0d0887"
             ],
             [
              0.1111111111111111,
              "#46039f"
             ],
             [
              0.2222222222222222,
              "#7201a8"
             ],
             [
              0.3333333333333333,
              "#9c179e"
             ],
             [
              0.4444444444444444,
              "#bd3786"
             ],
             [
              0.5555555555555556,
              "#d8576b"
             ],
             [
              0.6666666666666666,
              "#ed7953"
             ],
             [
              0.7777777777777778,
              "#fb9f3a"
             ],
             [
              0.8888888888888888,
              "#fdca26"
             ],
             [
              1,
              "#f0f921"
             ]
            ],
            "type": "histogram2d"
           }
          ],
          "histogram2dcontour": [
           {
            "colorbar": {
             "outlinewidth": 0,
             "ticks": ""
            },
            "colorscale": [
             [
              0,
              "#0d0887"
             ],
             [
              0.1111111111111111,
              "#46039f"
             ],
             [
              0.2222222222222222,
              "#7201a8"
             ],
             [
              0.3333333333333333,
              "#9c179e"
             ],
             [
              0.4444444444444444,
              "#bd3786"
             ],
             [
              0.5555555555555556,
              "#d8576b"
             ],
             [
              0.6666666666666666,
              "#ed7953"
             ],
             [
              0.7777777777777778,
              "#fb9f3a"
             ],
             [
              0.8888888888888888,
              "#fdca26"
             ],
             [
              1,
              "#f0f921"
             ]
            ],
            "type": "histogram2dcontour"
           }
          ],
          "mesh3d": [
           {
            "colorbar": {
             "outlinewidth": 0,
             "ticks": ""
            },
            "type": "mesh3d"
           }
          ],
          "parcoords": [
           {
            "line": {
             "colorbar": {
              "outlinewidth": 0,
              "ticks": ""
             }
            },
            "type": "parcoords"
           }
          ],
          "pie": [
           {
            "automargin": true,
            "type": "pie"
           }
          ],
          "scatter": [
           {
            "fillpattern": {
             "fillmode": "overlay",
             "size": 10,
             "solidity": 0.2
            },
            "type": "scatter"
           }
          ],
          "scatter3d": [
           {
            "line": {
             "colorbar": {
              "outlinewidth": 0,
              "ticks": ""
             }
            },
            "marker": {
             "colorbar": {
              "outlinewidth": 0,
              "ticks": ""
             }
            },
            "type": "scatter3d"
           }
          ],
          "scattercarpet": [
           {
            "marker": {
             "colorbar": {
              "outlinewidth": 0,
              "ticks": ""
             }
            },
            "type": "scattercarpet"
           }
          ],
          "scattergeo": [
           {
            "marker": {
             "colorbar": {
              "outlinewidth": 0,
              "ticks": ""
             }
            },
            "type": "scattergeo"
           }
          ],
          "scattergl": [
           {
            "marker": {
             "colorbar": {
              "outlinewidth": 0,
              "ticks": ""
             }
            },
            "type": "scattergl"
           }
          ],
          "scattermapbox": [
           {
            "marker": {
             "colorbar": {
              "outlinewidth": 0,
              "ticks": ""
             }
            },
            "type": "scattermapbox"
           }
          ],
          "scatterpolar": [
           {
            "marker": {
             "colorbar": {
              "outlinewidth": 0,
              "ticks": ""
             }
            },
            "type": "scatterpolar"
           }
          ],
          "scatterpolargl": [
           {
            "marker": {
             "colorbar": {
              "outlinewidth": 0,
              "ticks": ""
             }
            },
            "type": "scatterpolargl"
           }
          ],
          "scatterternary": [
           {
            "marker": {
             "colorbar": {
              "outlinewidth": 0,
              "ticks": ""
             }
            },
            "type": "scatterternary"
           }
          ],
          "surface": [
           {
            "colorbar": {
             "outlinewidth": 0,
             "ticks": ""
            },
            "colorscale": [
             [
              0,
              "#0d0887"
             ],
             [
              0.1111111111111111,
              "#46039f"
             ],
             [
              0.2222222222222222,
              "#7201a8"
             ],
             [
              0.3333333333333333,
              "#9c179e"
             ],
             [
              0.4444444444444444,
              "#bd3786"
             ],
             [
              0.5555555555555556,
              "#d8576b"
             ],
             [
              0.6666666666666666,
              "#ed7953"
             ],
             [
              0.7777777777777778,
              "#fb9f3a"
             ],
             [
              0.8888888888888888,
              "#fdca26"
             ],
             [
              1,
              "#f0f921"
             ]
            ],
            "type": "surface"
           }
          ],
          "table": [
           {
            "cells": {
             "fill": {
              "color": "#EBF0F8"
             },
             "line": {
              "color": "white"
             }
            },
            "header": {
             "fill": {
              "color": "#C8D4E3"
             },
             "line": {
              "color": "white"
             }
            },
            "type": "table"
           }
          ]
         },
         "layout": {
          "annotationdefaults": {
           "arrowcolor": "#2a3f5f",
           "arrowhead": 0,
           "arrowwidth": 1
          },
          "autotypenumbers": "strict",
          "coloraxis": {
           "colorbar": {
            "outlinewidth": 0,
            "ticks": ""
           }
          },
          "colorscale": {
           "diverging": [
            [
             0,
             "#8e0152"
            ],
            [
             0.1,
             "#c51b7d"
            ],
            [
             0.2,
             "#de77ae"
            ],
            [
             0.3,
             "#f1b6da"
            ],
            [
             0.4,
             "#fde0ef"
            ],
            [
             0.5,
             "#f7f7f7"
            ],
            [
             0.6,
             "#e6f5d0"
            ],
            [
             0.7,
             "#b8e186"
            ],
            [
             0.8,
             "#7fbc41"
            ],
            [
             0.9,
             "#4d9221"
            ],
            [
             1,
             "#276419"
            ]
           ],
           "sequential": [
            [
             0,
             "#0d0887"
            ],
            [
             0.1111111111111111,
             "#46039f"
            ],
            [
             0.2222222222222222,
             "#7201a8"
            ],
            [
             0.3333333333333333,
             "#9c179e"
            ],
            [
             0.4444444444444444,
             "#bd3786"
            ],
            [
             0.5555555555555556,
             "#d8576b"
            ],
            [
             0.6666666666666666,
             "#ed7953"
            ],
            [
             0.7777777777777778,
             "#fb9f3a"
            ],
            [
             0.8888888888888888,
             "#fdca26"
            ],
            [
             1,
             "#f0f921"
            ]
           ],
           "sequentialminus": [
            [
             0,
             "#0d0887"
            ],
            [
             0.1111111111111111,
             "#46039f"
            ],
            [
             0.2222222222222222,
             "#7201a8"
            ],
            [
             0.3333333333333333,
             "#9c179e"
            ],
            [
             0.4444444444444444,
             "#bd3786"
            ],
            [
             0.5555555555555556,
             "#d8576b"
            ],
            [
             0.6666666666666666,
             "#ed7953"
            ],
            [
             0.7777777777777778,
             "#fb9f3a"
            ],
            [
             0.8888888888888888,
             "#fdca26"
            ],
            [
             1,
             "#f0f921"
            ]
           ]
          },
          "colorway": [
           "#636efa",
           "#EF553B",
           "#00cc96",
           "#ab63fa",
           "#FFA15A",
           "#19d3f3",
           "#FF6692",
           "#B6E880",
           "#FF97FF",
           "#FECB52"
          ],
          "font": {
           "color": "#2a3f5f"
          },
          "geo": {
           "bgcolor": "white",
           "lakecolor": "white",
           "landcolor": "#E5ECF6",
           "showlakes": true,
           "showland": true,
           "subunitcolor": "white"
          },
          "hoverlabel": {
           "align": "left"
          },
          "hovermode": "closest",
          "mapbox": {
           "style": "light"
          },
          "paper_bgcolor": "white",
          "plot_bgcolor": "#E5ECF6",
          "polar": {
           "angularaxis": {
            "gridcolor": "white",
            "linecolor": "white",
            "ticks": ""
           },
           "bgcolor": "#E5ECF6",
           "radialaxis": {
            "gridcolor": "white",
            "linecolor": "white",
            "ticks": ""
           }
          },
          "scene": {
           "xaxis": {
            "backgroundcolor": "#E5ECF6",
            "gridcolor": "white",
            "gridwidth": 2,
            "linecolor": "white",
            "showbackground": true,
            "ticks": "",
            "zerolinecolor": "white"
           },
           "yaxis": {
            "backgroundcolor": "#E5ECF6",
            "gridcolor": "white",
            "gridwidth": 2,
            "linecolor": "white",
            "showbackground": true,
            "ticks": "",
            "zerolinecolor": "white"
           },
           "zaxis": {
            "backgroundcolor": "#E5ECF6",
            "gridcolor": "white",
            "gridwidth": 2,
            "linecolor": "white",
            "showbackground": true,
            "ticks": "",
            "zerolinecolor": "white"
           }
          },
          "shapedefaults": {
           "line": {
            "color": "#2a3f5f"
           }
          },
          "ternary": {
           "aaxis": {
            "gridcolor": "white",
            "linecolor": "white",
            "ticks": ""
           },
           "baxis": {
            "gridcolor": "white",
            "linecolor": "white",
            "ticks": ""
           },
           "bgcolor": "#E5ECF6",
           "caxis": {
            "gridcolor": "white",
            "linecolor": "white",
            "ticks": ""
           }
          },
          "title": {
           "x": 0.05
          },
          "xaxis": {
           "automargin": true,
           "gridcolor": "white",
           "linecolor": "white",
           "ticks": "",
           "title": {
            "standoff": 15
           },
           "zerolinecolor": "white",
           "zerolinewidth": 2
          },
          "yaxis": {
           "automargin": true,
           "gridcolor": "white",
           "linecolor": "white",
           "ticks": "",
           "title": {
            "standoff": 15
           },
           "zerolinecolor": "white",
           "zerolinewidth": 2
          }
         }
        },
        "title": {
         "text": "UTKface, Model QMagFace_SR"
        }
       }
      },
      "text/html": [
       "<div>                            <div id=\"a4773a85-307a-4980-9589-7ae42aec736e\" class=\"plotly-graph-div\" style=\"height:525px; width:100%;\"></div>            <script type=\"text/javascript\">                require([\"plotly\"], function(Plotly) {                    window.PLOTLYENV=window.PLOTLYENV || {};                                    if (document.getElementById(\"a4773a85-307a-4980-9589-7ae42aec736e\")) {                    Plotly.newPlot(                        \"a4773a85-307a-4980-9589-7ae42aec736e\",                        [{\"branchvalues\":\"total\",\"customdata\":[],\"domain\":{\"x\":[0.0,1.0],\"y\":[0.0,1.0]},\"hovertemplate\":\"labels=%{label}<br>count=%{value}<br>parent=%{parent}<br>id=%{id}<br>Quality=%{color}<extra></extra>\",\"ids\":[],\"labels\":[],\"marker\":{\"coloraxis\":\"coloraxis\",\"colors\":[]},\"name\":\"\",\"parents\":[],\"values\":[],\"type\":\"sunburst\"}],                        {\"template\":{\"data\":{\"histogram2dcontour\":[{\"type\":\"histogram2dcontour\",\"colorbar\":{\"outlinewidth\":0,\"ticks\":\"\"},\"colorscale\":[[0.0,\"#0d0887\"],[0.1111111111111111,\"#46039f\"],[0.2222222222222222,\"#7201a8\"],[0.3333333333333333,\"#9c179e\"],[0.4444444444444444,\"#bd3786\"],[0.5555555555555556,\"#d8576b\"],[0.6666666666666666,\"#ed7953\"],[0.7777777777777778,\"#fb9f3a\"],[0.8888888888888888,\"#fdca26\"],[1.0,\"#f0f921\"]]}],\"choropleth\":[{\"type\":\"choropleth\",\"colorbar\":{\"outlinewidth\":0,\"ticks\":\"\"}}],\"histogram2d\":[{\"type\":\"histogram2d\",\"colorbar\":{\"outlinewidth\":0,\"ticks\":\"\"},\"colorscale\":[[0.0,\"#0d0887\"],[0.1111111111111111,\"#46039f\"],[0.2222222222222222,\"#7201a8\"],[0.3333333333333333,\"#9c179e\"],[0.4444444444444444,\"#bd3786\"],[0.5555555555555556,\"#d8576b\"],[0.6666666666666666,\"#ed7953\"],[0.7777777777777778,\"#fb9f3a\"],[0.8888888888888888,\"#fdca26\"],[1.0,\"#f0f921\"]]}],\"heatmap\":[{\"type\":\"heatmap\",\"colorbar\":{\"outlinewidth\":0,\"ticks\":\"\"},\"colorscale\":[[0.0,\"#0d0887\"],[0.1111111111111111,\"#46039f\"],[0.2222222222222222,\"#7201a8\"],[0.3333333333333333,\"#9c179e\"],[0.4444444444444444,\"#bd3786\"],[0.5555555555555556,\"#d8576b\"],[0.6666666666666666,\"#ed7953\"],[0.7777777777777778,\"#fb9f3a\"],[0.8888888888888888,\"#fdca26\"],[1.0,\"#f0f921\"]]}],\"heatmapgl\":[{\"type\":\"heatmapgl\",\"colorbar\":{\"outlinewidth\":0,\"ticks\":\"\"},\"colorscale\":[[0.0,\"#0d0887\"],[0.1111111111111111,\"#46039f\"],[0.2222222222222222,\"#7201a8\"],[0.3333333333333333,\"#9c179e\"],[0.4444444444444444,\"#bd3786\"],[0.5555555555555556,\"#d8576b\"],[0.6666666666666666,\"#ed7953\"],[0.7777777777777778,\"#fb9f3a\"],[0.8888888888888888,\"#fdca26\"],[1.0,\"#f0f921\"]]}],\"contourcarpet\":[{\"type\":\"contourcarpet\",\"colorbar\":{\"outlinewidth\":0,\"ticks\":\"\"}}],\"contour\":[{\"type\":\"contour\",\"colorbar\":{\"outlinewidth\":0,\"ticks\":\"\"},\"colorscale\":[[0.0,\"#0d0887\"],[0.1111111111111111,\"#46039f\"],[0.2222222222222222,\"#7201a8\"],[0.3333333333333333,\"#9c179e\"],[0.4444444444444444,\"#bd3786\"],[0.5555555555555556,\"#d8576b\"],[0.6666666666666666,\"#ed7953\"],[0.7777777777777778,\"#fb9f3a\"],[0.8888888888888888,\"#fdca26\"],[1.0,\"#f0f921\"]]}],\"surface\":[{\"type\":\"surface\",\"colorbar\":{\"outlinewidth\":0,\"ticks\":\"\"},\"colorscale\":[[0.0,\"#0d0887\"],[0.1111111111111111,\"#46039f\"],[0.2222222222222222,\"#7201a8\"],[0.3333333333333333,\"#9c179e\"],[0.4444444444444444,\"#bd3786\"],[0.5555555555555556,\"#d8576b\"],[0.6666666666666666,\"#ed7953\"],[0.7777777777777778,\"#fb9f3a\"],[0.8888888888888888,\"#fdca26\"],[1.0,\"#f0f921\"]]}],\"mesh3d\":[{\"type\":\"mesh3d\",\"colorbar\":{\"outlinewidth\":0,\"ticks\":\"\"}}],\"scatter\":[{\"fillpattern\":{\"fillmode\":\"overlay\",\"size\":10,\"solidity\":0.2},\"type\":\"scatter\"}],\"parcoords\":[{\"type\":\"parcoords\",\"line\":{\"colorbar\":{\"outlinewidth\":0,\"ticks\":\"\"}}}],\"scatterpolargl\":[{\"type\":\"scatterpolargl\",\"marker\":{\"colorbar\":{\"outlinewidth\":0,\"ticks\":\"\"}}}],\"bar\":[{\"error_x\":{\"color\":\"#2a3f5f\"},\"error_y\":{\"color\":\"#2a3f5f\"},\"marker\":{\"line\":{\"color\":\"#E5ECF6\",\"width\":0.5},\"pattern\":{\"fillmode\":\"overlay\",\"size\":10,\"solidity\":0.2}},\"type\":\"bar\"}],\"scattergeo\":[{\"type\":\"scattergeo\",\"marker\":{\"colorbar\":{\"outlinewidth\":0,\"ticks\":\"\"}}}],\"scatterpolar\":[{\"type\":\"scatterpolar\",\"marker\":{\"colorbar\":{\"outlinewidth\":0,\"ticks\":\"\"}}}],\"histogram\":[{\"marker\":{\"pattern\":{\"fillmode\":\"overlay\",\"size\":10,\"solidity\":0.2}},\"type\":\"histogram\"}],\"scattergl\":[{\"type\":\"scattergl\",\"marker\":{\"colorbar\":{\"outlinewidth\":0,\"ticks\":\"\"}}}],\"scatter3d\":[{\"type\":\"scatter3d\",\"line\":{\"colorbar\":{\"outlinewidth\":0,\"ticks\":\"\"}},\"marker\":{\"colorbar\":{\"outlinewidth\":0,\"ticks\":\"\"}}}],\"scattermapbox\":[{\"type\":\"scattermapbox\",\"marker\":{\"colorbar\":{\"outlinewidth\":0,\"ticks\":\"\"}}}],\"scatterternary\":[{\"type\":\"scatterternary\",\"marker\":{\"colorbar\":{\"outlinewidth\":0,\"ticks\":\"\"}}}],\"scattercarpet\":[{\"type\":\"scattercarpet\",\"marker\":{\"colorbar\":{\"outlinewidth\":0,\"ticks\":\"\"}}}],\"carpet\":[{\"aaxis\":{\"endlinecolor\":\"#2a3f5f\",\"gridcolor\":\"white\",\"linecolor\":\"white\",\"minorgridcolor\":\"white\",\"startlinecolor\":\"#2a3f5f\"},\"baxis\":{\"endlinecolor\":\"#2a3f5f\",\"gridcolor\":\"white\",\"linecolor\":\"white\",\"minorgridcolor\":\"white\",\"startlinecolor\":\"#2a3f5f\"},\"type\":\"carpet\"}],\"table\":[{\"cells\":{\"fill\":{\"color\":\"#EBF0F8\"},\"line\":{\"color\":\"white\"}},\"header\":{\"fill\":{\"color\":\"#C8D4E3\"},\"line\":{\"color\":\"white\"}},\"type\":\"table\"}],\"barpolar\":[{\"marker\":{\"line\":{\"color\":\"#E5ECF6\",\"width\":0.5},\"pattern\":{\"fillmode\":\"overlay\",\"size\":10,\"solidity\":0.2}},\"type\":\"barpolar\"}],\"pie\":[{\"automargin\":true,\"type\":\"pie\"}]},\"layout\":{\"autotypenumbers\":\"strict\",\"colorway\":[\"#636efa\",\"#EF553B\",\"#00cc96\",\"#ab63fa\",\"#FFA15A\",\"#19d3f3\",\"#FF6692\",\"#B6E880\",\"#FF97FF\",\"#FECB52\"],\"font\":{\"color\":\"#2a3f5f\"},\"hovermode\":\"closest\",\"hoverlabel\":{\"align\":\"left\"},\"paper_bgcolor\":\"white\",\"plot_bgcolor\":\"#E5ECF6\",\"polar\":{\"bgcolor\":\"#E5ECF6\",\"angularaxis\":{\"gridcolor\":\"white\",\"linecolor\":\"white\",\"ticks\":\"\"},\"radialaxis\":{\"gridcolor\":\"white\",\"linecolor\":\"white\",\"ticks\":\"\"}},\"ternary\":{\"bgcolor\":\"#E5ECF6\",\"aaxis\":{\"gridcolor\":\"white\",\"linecolor\":\"white\",\"ticks\":\"\"},\"baxis\":{\"gridcolor\":\"white\",\"linecolor\":\"white\",\"ticks\":\"\"},\"caxis\":{\"gridcolor\":\"white\",\"linecolor\":\"white\",\"ticks\":\"\"}},\"coloraxis\":{\"colorbar\":{\"outlinewidth\":0,\"ticks\":\"\"}},\"colorscale\":{\"sequential\":[[0.0,\"#0d0887\"],[0.1111111111111111,\"#46039f\"],[0.2222222222222222,\"#7201a8\"],[0.3333333333333333,\"#9c179e\"],[0.4444444444444444,\"#bd3786\"],[0.5555555555555556,\"#d8576b\"],[0.6666666666666666,\"#ed7953\"],[0.7777777777777778,\"#fb9f3a\"],[0.8888888888888888,\"#fdca26\"],[1.0,\"#f0f921\"]],\"sequentialminus\":[[0.0,\"#0d0887\"],[0.1111111111111111,\"#46039f\"],[0.2222222222222222,\"#7201a8\"],[0.3333333333333333,\"#9c179e\"],[0.4444444444444444,\"#bd3786\"],[0.5555555555555556,\"#d8576b\"],[0.6666666666666666,\"#ed7953\"],[0.7777777777777778,\"#fb9f3a\"],[0.8888888888888888,\"#fdca26\"],[1.0,\"#f0f921\"]],\"diverging\":[[0,\"#8e0152\"],[0.1,\"#c51b7d\"],[0.2,\"#de77ae\"],[0.3,\"#f1b6da\"],[0.4,\"#fde0ef\"],[0.5,\"#f7f7f7\"],[0.6,\"#e6f5d0\"],[0.7,\"#b8e186\"],[0.8,\"#7fbc41\"],[0.9,\"#4d9221\"],[1,\"#276419\"]]},\"xaxis\":{\"gridcolor\":\"white\",\"linecolor\":\"white\",\"ticks\":\"\",\"title\":{\"standoff\":15},\"zerolinecolor\":\"white\",\"automargin\":true,\"zerolinewidth\":2},\"yaxis\":{\"gridcolor\":\"white\",\"linecolor\":\"white\",\"ticks\":\"\",\"title\":{\"standoff\":15},\"zerolinecolor\":\"white\",\"automargin\":true,\"zerolinewidth\":2},\"scene\":{\"xaxis\":{\"backgroundcolor\":\"#E5ECF6\",\"gridcolor\":\"white\",\"linecolor\":\"white\",\"showbackground\":true,\"ticks\":\"\",\"zerolinecolor\":\"white\",\"gridwidth\":2},\"yaxis\":{\"backgroundcolor\":\"#E5ECF6\",\"gridcolor\":\"white\",\"linecolor\":\"white\",\"showbackground\":true,\"ticks\":\"\",\"zerolinecolor\":\"white\",\"gridwidth\":2},\"zaxis\":{\"backgroundcolor\":\"#E5ECF6\",\"gridcolor\":\"white\",\"linecolor\":\"white\",\"showbackground\":true,\"ticks\":\"\",\"zerolinecolor\":\"white\",\"gridwidth\":2}},\"shapedefaults\":{\"line\":{\"color\":\"#2a3f5f\"}},\"annotationdefaults\":{\"arrowcolor\":\"#2a3f5f\",\"arrowhead\":0,\"arrowwidth\":1},\"geo\":{\"bgcolor\":\"white\",\"landcolor\":\"#E5ECF6\",\"subunitcolor\":\"white\",\"showland\":true,\"showlakes\":true,\"lakecolor\":\"white\"},\"title\":{\"x\":0.05},\"mapbox\":{\"style\":\"light\"}}},\"coloraxis\":{\"colorbar\":{\"title\":{\"text\":\"Quality\"}},\"colorscale\":[[0.0,\"#440154\"],[0.1111111111111111,\"#482878\"],[0.2222222222222222,\"#3e4989\"],[0.3333333333333333,\"#31688e\"],[0.4444444444444444,\"#26828e\"],[0.5555555555555556,\"#1f9e89\"],[0.6666666666666666,\"#35b779\"],[0.7777777777777778,\"#6ece58\"],[0.8888888888888888,\"#b5de2b\"],[1.0,\"#fde725\"]],\"cmin\":0,\"cmax\":1},\"legend\":{\"tracegroupgap\":0},\"title\":{\"text\":\"UTKface, Model QMagFace_SR\"}},                        {\"responsive\": true}                    ).then(function(){\n",
       "                            \n",
       "var gd = document.getElementById('a4773a85-307a-4980-9589-7ae42aec736e');\n",
       "var x = new MutationObserver(function (mutations, observer) {{\n",
       "        var display = window.getComputedStyle(gd).display;\n",
       "        if (!display || display === 'none') {{\n",
       "            console.log([gd, 'removed!']);\n",
       "            Plotly.purge(gd);\n",
       "            observer.disconnect();\n",
       "        }}\n",
       "}});\n",
       "\n",
       "// Listen for the removal of the full notebook cells\n",
       "var notebookContainer = gd.closest('#notebook-container');\n",
       "if (notebookContainer) {{\n",
       "    x.observe(notebookContainer, {childList: true});\n",
       "}}\n",
       "\n",
       "// Listen for the clearing of the current output cell\n",
       "var outputEl = gd.closest('.output');\n",
       "if (outputEl) {{\n",
       "    x.observe(outputEl, {childList: true});\n",
       "}}\n",
       "\n",
       "                        })                };                });            </script>        </div>"
      ]
     },
     "metadata": {},
     "output_type": "display_data"
    },
    {
     "data": {
      "application/vnd.plotly.v1+json": {
       "config": {
        "plotlyServerURL": "https://plot.ly"
       },
       "data": [
        {
         "branchvalues": "total",
         "customdata": [
          [
           0.4791129029685571
          ],
          [
           0.2615402567368098
          ],
          [
           0.604672795912845
          ],
          [
           0.5131546323648305
          ],
          [
           0.6365541974431466
          ],
          [
           0.61976313748047
          ],
          [
           0.4973365921584557
          ],
          [
           0.48357903067454877
          ],
          [
           0.5547859654818542
          ],
          [
           0.4742442624187966
          ],
          [
           0.6141939486733552
          ],
          [
           0.5003733557275118
          ],
          [
           0.5015067958222407
          ],
          [
           0.6180842037755174
          ],
          [
           0.585831086940937
          ],
          [
           0.514962334585154
          ],
          [
           0.5627470830323467
          ],
          [
           0.625197575174777
          ],
          [
           0.4678481543722029
          ],
          [
           0.5410976759130826
          ],
          [
           0.5603756977504739
          ],
          [
           0.5195783428963704
          ],
          [
           0.5933094954280783
          ],
          [
           0.4868880786873589
          ],
          [
           0.35777545638950825
          ],
          [
           0.6897999087852702
          ],
          [
           0.5515546585040636
          ],
          [
           0.5164789219455957
          ],
          [
           0.6326044528176271
          ],
          [
           0.5954801121753459
          ],
          [
           0.3831116383630817
          ],
          [
           0.5523695695285595
          ],
          [
           0.3703428906296073
          ],
          [
           0.5974299618376492
          ],
          [
           0.6526248415595817
          ],
          [
           0.4559488848371287
          ],
          [
           0.5719252003764508
          ],
          [
           0.6506231136607749
          ],
          [
           0.5435428982466426
          ],
          [
           0.5796261712961422
          ],
          [
           0.5071196790937624
          ],
          [
           0.5672478951122878
          ],
          [
           0.5903654109492242
          ],
          [
           0.43028115260016114
          ],
          [
           0.4626087266356224
          ],
          [
           0.5453070516860271
          ],
          [
           0.4306097695628652
          ],
          [
           0.6005986083196156
          ],
          [
           0.35784172461352537
          ],
          [
           0.5171340268442115
          ],
          [
           0.593795950796916
          ],
          [
           0.4276717102518074
          ],
          [
           0.6570866104050506
          ],
          [
           0.6272069510500871
          ],
          [
           0.7558625615157148
          ],
          [
           0.6838833139746944
          ],
          [
           0.6101657598222695
          ],
          [
           0.6835872935361854
          ],
          [
           0.8448267026204193
          ],
          [
           0.6054896756016136
          ],
          [
           0.6814030164952033
          ],
          [
           0.6995317319492232
          ],
          [
           0.23475154057656103
          ],
          [
           0.5104544312957207
          ],
          [
           0.6283874312932574
          ],
          [
           0.6527032496679619
          ],
          [
           0.4435931587729718
          ],
          [
           0.7017126270924466
          ],
          [
           0.6718643195758709
          ],
          [
           0.7130269603102164
          ],
          [
           0.5751895683364967
          ],
          [
           0.544221615863098
          ],
          [
           0.6127735813473967
          ],
          [
           0.5296913334350503
          ],
          [
           0.6938553789239817
          ],
          [
           0.5758589775299001
          ],
          [
           0.5428201500631278
          ],
          [
           0.6351658714039933
          ],
          [
           0.3529917811847468
          ],
          [
           0.7056757519513314
          ],
          [
           0.6190390926949204
          ],
          [
           0.5044576537717296
          ],
          [
           0.8168661934292715
          ],
          [
           0.6661445234957816
          ],
          [
           0.678859448779745
          ],
          [
           0.6717613456077461
          ],
          [
           0.5451825627368614
          ],
          [
           0.6290201177100945
          ],
          [
           0.7513122457169392
          ],
          [
           0.8357938341008702
          ],
          [
           0.7266326194290824
          ],
          [
           0.6833725347069163
          ],
          [
           0.5987850871367679
          ],
          [
           0.6382738717437708
          ],
          [
           0.7072914680510509
          ],
          [
           0.663904236040216
          ],
          [
           0.6619290643384139
          ],
          [
           0.5088040940498204
          ],
          [
           0.5601242545478786
          ],
          [
           0.6660271640260375
          ],
          [
           0.5979476797602311
          ],
          [
           0.6795038668014014
          ],
          [
           0.6316810303624253
          ],
          [
           0.5367761298428604
          ],
          [
           0.432070742938089
          ],
          [
           0.6078893133714112
          ],
          [
           0.7443383285176102
          ],
          [
           0.6179542243972439
          ],
          [
           0.559925056520429
          ],
          [
           0.7708086809358974
          ],
          [
           0.6994201598034736
          ],
          [
           0.6801857280538638
          ],
          [
           0.5595629137229965
          ],
          [
           0.5685469831543217
          ],
          [
           0.6329877512515955
          ],
          [
           0.6513226364909547
          ],
          [
           0.6815106461589298
          ],
          [
           0.6574531134579178
          ],
          [
           0.5797897018278984
          ],
          [
           0.5594670582104594
          ],
          [
           0.6223987001873603
          ],
          [
           0.5968822377627365
          ],
          [
           0.6590068014904706
          ],
          [
           0.5971239351816431
          ],
          [
           0.5442472118911712
          ],
          [
           0.5133210139173089
          ],
          [
           0.6309101276345811
          ],
          [
           0.6258761871252876
          ],
          [
           0.6545571357639206
          ],
          [
           0.556811017946608
          ],
          [
           0.5670644799569038
          ],
          [
           0.5503249757831423
          ],
          [
           0.6091085483067388
          ],
          [
           0.6033927207738349
          ],
          [
           0.6507269630775074
          ],
          [
           0.5609103874581636
          ],
          [
           0.5873151441934052
          ],
          [
           0.6318006679072079
          ],
          [
           0.6205016706474473
          ],
          [
           0.6370951666640425
          ],
          [
           0.6775009817584571
          ],
          [
           0.6255709659466212
          ],
          [
           0.5396499514714557
          ],
          [
           0.5328485265941459
          ],
          [
           0.6314501493133526
          ],
          [
           0.6336805510549713
          ],
          [
           0.6713262276253249
          ],
          [
           0.6481213731119179
          ],
          [
           0.5591994885031338
          ],
          [
           0.5463829155318541
          ],
          [
           0.603714592363535
          ],
          [
           0.5781520632868111
          ],
          [
           0.6543252058423402
          ],
          [
           0.5837767348824312
          ],
          [
           0.539122104948555
          ],
          [
           0.5291028916139837
          ],
          [
           0.6221497554523133
          ],
          [
           0.5928608681520589
          ],
          [
           0.6375394857986358
          ],
          [
           0.5660932091419053
          ],
          [
           0.5420711624161512
          ],
          [
           0.5489418591888184
          ],
          [
           0.5994710607351391
          ],
          [
           0.5947271492472903
          ],
          [
           0.6366719911057224
          ],
          [
           0.5501266523645939
          ],
          [
           0.5641335485267137
          ],
          [
           0.6446893881023329
          ],
          [
           0.6116934149167235
          ],
          [
           0.626194767196836
          ],
          [
           0.6704470431798759
          ],
          [
           0.619905878845051
          ],
          [
           0.5464579157675999
          ],
          [
           0.5455283030508693
          ],
          [
           0.6123050317173727
          ],
          [
           0.6035342724383791
          ],
          [
           0.651998926532008
          ],
          [
           0.5907828574789985
          ],
          [
           0.6292466248114046
          ],
          [
           0.5898191260458483
          ]
         ],
         "domain": {
          "x": [
           0,
           1
          ],
          "y": [
           0,
           1
          ]
         },
         "hovertemplate": "labels=%{label}<br>count=%{value}<br>parent=%{parent}<br>id=%{id}<br>Quality=%{color}<extra></extra>",
         "ids": [
          "Man/sideways/downwards/asian",
          "Woman/sideways/downwards/asian",
          "Man/slightly_turned/downwards/asian",
          "Woman/slightly_turned/downwards/asian",
          "Man/straight/downwards/asian",
          "Woman/straight/downwards/asian",
          "Man/sideways/slightly_downwards/asian",
          "Woman/sideways/slightly_downwards/asian",
          "Man/slightly_turned/slightly_downwards/asian",
          "Woman/slightly_turned/slightly_downwards/asian",
          "Man/straight/slightly_downwards/asian",
          "Woman/straight/slightly_downwards/asian",
          "Man/sideways/slightly_upwards/asian",
          "Woman/sideways/slightly_upwards/asian",
          "Man/slightly_turned/slightly_upwards/asian",
          "Woman/slightly_turned/slightly_upwards/asian",
          "Man/straight/slightly_upwards/asian",
          "Woman/straight/slightly_upwards/asian",
          "Man/sideways/straight/asian",
          "Woman/sideways/straight/asian",
          "Man/slightly_turned/straight/asian",
          "Woman/slightly_turned/straight/asian",
          "Man/straight/straight/asian",
          "Woman/straight/straight/asian",
          "Man/sideways/upwards/asian",
          "Woman/sideways/upwards/asian",
          "Man/slightly_turned/upwards/asian",
          "Woman/slightly_turned/upwards/asian",
          "Man/straight/upwards/asian",
          "Woman/straight/upwards/asian",
          "Man/sideways/downwards/black",
          "Man/slightly_turned/downwards/black",
          "Woman/slightly_turned/downwards/black",
          "Man/straight/downwards/black",
          "Woman/straight/downwards/black",
          "Man/sideways/slightly_downwards/black",
          "Man/slightly_turned/slightly_downwards/black",
          "Man/straight/slightly_downwards/black",
          "Woman/straight/slightly_downwards/black",
          "Man/sideways/slightly_upwards/black",
          "Woman/sideways/slightly_upwards/black",
          "Man/slightly_turned/slightly_upwards/black",
          "Man/straight/slightly_upwards/black",
          "Woman/straight/slightly_upwards/black",
          "Man/sideways/straight/black",
          "Man/slightly_turned/straight/black",
          "Woman/slightly_turned/straight/black",
          "Man/straight/straight/black",
          "Woman/straight/straight/black",
          "Man/slightly_turned/upwards/black",
          "Man/straight/upwards/black",
          "Man/sideways/downwards/indian",
          "Man/slightly_turned/downwards/indian",
          "Man/straight/downwards/indian",
          "Woman/straight/downwards/indian",
          "Man/sideways/slightly_downwards/indian",
          "Man/slightly_turned/slightly_downwards/indian",
          "Man/straight/slightly_downwards/indian",
          "Woman/straight/slightly_downwards/indian",
          "Woman/sideways/slightly_upwards/indian",
          "Man/slightly_turned/slightly_upwards/indian",
          "Man/straight/slightly_upwards/indian",
          "Man/sideways/straight/indian",
          "Man/slightly_turned/straight/indian",
          "Man/straight/straight/indian",
          "Man/straight/upwards/indian",
          "Man/sideways/downwards/latino hispanic",
          "Man/slightly_turned/downwards/latino hispanic",
          "Woman/slightly_turned/downwards/latino hispanic",
          "Man/straight/downwards/latino hispanic",
          "Woman/straight/downwards/latino hispanic",
          "Man/sideways/slightly_downwards/latino hispanic",
          "Man/slightly_turned/slightly_downwards/latino hispanic",
          "Woman/slightly_turned/slightly_downwards/latino hispanic",
          "Man/straight/slightly_downwards/latino hispanic",
          "Woman/straight/slightly_downwards/latino hispanic",
          "Man/sideways/slightly_upwards/latino hispanic",
          "Man/slightly_turned/slightly_upwards/latino hispanic",
          "Woman/slightly_turned/slightly_upwards/latino hispanic",
          "Man/straight/slightly_upwards/latino hispanic",
          "Woman/straight/slightly_upwards/latino hispanic",
          "Man/sideways/straight/latino hispanic",
          "Woman/sideways/straight/latino hispanic",
          "Man/slightly_turned/straight/latino hispanic",
          "Woman/slightly_turned/straight/latino hispanic",
          "Man/straight/straight/latino hispanic",
          "Woman/straight/straight/latino hispanic",
          "Man/sideways/upwards/latino hispanic",
          "Man/slightly_turned/upwards/latino hispanic",
          "Woman/slightly_turned/upwards/latino hispanic",
          "Man/straight/upwards/latino hispanic",
          "Woman/straight/upwards/latino hispanic",
          "Man/sideways/downwards/middle eastern",
          "Man/slightly_turned/downwards/middle eastern",
          "Woman/slightly_turned/downwards/middle eastern",
          "Man/straight/downwards/middle eastern",
          "Woman/straight/downwards/middle eastern",
          "Man/sideways/slightly_downwards/middle eastern",
          "Man/slightly_turned/slightly_downwards/middle eastern",
          "Man/straight/slightly_downwards/middle eastern",
          "Man/sideways/slightly_upwards/middle eastern",
          "Man/slightly_turned/slightly_upwards/middle eastern",
          "Man/straight/slightly_upwards/middle eastern",
          "Man/sideways/straight/middle eastern",
          "Woman/sideways/straight/middle eastern",
          "Man/slightly_turned/straight/middle eastern",
          "Woman/slightly_turned/straight/middle eastern",
          "Man/straight/straight/middle eastern",
          "Woman/straight/straight/middle eastern",
          "Man/sideways/upwards/middle eastern",
          "Man/slightly_turned/upwards/middle eastern",
          "Man/straight/upwards/middle eastern",
          "Man/sideways/downwards/white",
          "Woman/sideways/downwards/white",
          "Man/slightly_turned/downwards/white",
          "Woman/slightly_turned/downwards/white",
          "Man/straight/downwards/white",
          "Woman/straight/downwards/white",
          "Man/sideways/slightly_downwards/white",
          "Woman/sideways/slightly_downwards/white",
          "Man/slightly_turned/slightly_downwards/white",
          "Woman/slightly_turned/slightly_downwards/white",
          "Man/straight/slightly_downwards/white",
          "Woman/straight/slightly_downwards/white",
          "Man/sideways/slightly_upwards/white",
          "Woman/sideways/slightly_upwards/white",
          "Man/slightly_turned/slightly_upwards/white",
          "Woman/slightly_turned/slightly_upwards/white",
          "Man/straight/slightly_upwards/white",
          "Woman/straight/slightly_upwards/white",
          "Man/sideways/straight/white",
          "Woman/sideways/straight/white",
          "Man/slightly_turned/straight/white",
          "Woman/slightly_turned/straight/white",
          "Man/straight/straight/white",
          "Woman/straight/straight/white",
          "Man/sideways/upwards/white",
          "Woman/sideways/upwards/white",
          "Man/slightly_turned/upwards/white",
          "Woman/slightly_turned/upwards/white",
          "Man/straight/upwards/white",
          "Woman/straight/upwards/white",
          "Man/sideways/downwards",
          "Woman/sideways/downwards",
          "Man/slightly_turned/downwards",
          "Woman/slightly_turned/downwards",
          "Man/straight/downwards",
          "Woman/straight/downwards",
          "Man/sideways/slightly_downwards",
          "Woman/sideways/slightly_downwards",
          "Man/slightly_turned/slightly_downwards",
          "Woman/slightly_turned/slightly_downwards",
          "Man/straight/slightly_downwards",
          "Woman/straight/slightly_downwards",
          "Man/sideways/slightly_upwards",
          "Woman/sideways/slightly_upwards",
          "Man/slightly_turned/slightly_upwards",
          "Woman/slightly_turned/slightly_upwards",
          "Man/straight/slightly_upwards",
          "Woman/straight/slightly_upwards",
          "Man/sideways/straight",
          "Woman/sideways/straight",
          "Man/slightly_turned/straight",
          "Woman/slightly_turned/straight",
          "Man/straight/straight",
          "Woman/straight/straight",
          "Man/sideways/upwards",
          "Woman/sideways/upwards",
          "Man/slightly_turned/upwards",
          "Woman/slightly_turned/upwards",
          "Man/straight/upwards",
          "Woman/straight/upwards",
          "Man/sideways",
          "Woman/sideways",
          "Man/slightly_turned",
          "Woman/slightly_turned",
          "Man/straight",
          "Woman/straight",
          "Man",
          "Woman"
         ],
         "labels": [
          "asian",
          "asian",
          "asian",
          "asian",
          "asian",
          "asian",
          "asian",
          "asian",
          "asian",
          "asian",
          "asian",
          "asian",
          "asian",
          "asian",
          "asian",
          "asian",
          "asian",
          "asian",
          "asian",
          "asian",
          "asian",
          "asian",
          "asian",
          "asian",
          "asian",
          "asian",
          "asian",
          "asian",
          "asian",
          "asian",
          "black",
          "black",
          "black",
          "black",
          "black",
          "black",
          "black",
          "black",
          "black",
          "black",
          "black",
          "black",
          "black",
          "black",
          "black",
          "black",
          "black",
          "black",
          "black",
          "black",
          "black",
          "indian",
          "indian",
          "indian",
          "indian",
          "indian",
          "indian",
          "indian",
          "indian",
          "indian",
          "indian",
          "indian",
          "indian",
          "indian",
          "indian",
          "indian",
          "latino hispanic",
          "latino hispanic",
          "latino hispanic",
          "latino hispanic",
          "latino hispanic",
          "latino hispanic",
          "latino hispanic",
          "latino hispanic",
          "latino hispanic",
          "latino hispanic",
          "latino hispanic",
          "latino hispanic",
          "latino hispanic",
          "latino hispanic",
          "latino hispanic",
          "latino hispanic",
          "latino hispanic",
          "latino hispanic",
          "latino hispanic",
          "latino hispanic",
          "latino hispanic",
          "latino hispanic",
          "latino hispanic",
          "latino hispanic",
          "latino hispanic",
          "latino hispanic",
          "middle eastern",
          "middle eastern",
          "middle eastern",
          "middle eastern",
          "middle eastern",
          "middle eastern",
          "middle eastern",
          "middle eastern",
          "middle eastern",
          "middle eastern",
          "middle eastern",
          "middle eastern",
          "middle eastern",
          "middle eastern",
          "middle eastern",
          "middle eastern",
          "middle eastern",
          "middle eastern",
          "middle eastern",
          "middle eastern",
          "white",
          "white",
          "white",
          "white",
          "white",
          "white",
          "white",
          "white",
          "white",
          "white",
          "white",
          "white",
          "white",
          "white",
          "white",
          "white",
          "white",
          "white",
          "white",
          "white",
          "white",
          "white",
          "white",
          "white",
          "white",
          "white",
          "white",
          "white",
          "white",
          "white",
          "downwards",
          "downwards",
          "downwards",
          "downwards",
          "downwards",
          "downwards",
          "slightly_downwards",
          "slightly_downwards",
          "slightly_downwards",
          "slightly_downwards",
          "slightly_downwards",
          "slightly_downwards",
          "slightly_upwards",
          "slightly_upwards",
          "slightly_upwards",
          "slightly_upwards",
          "slightly_upwards",
          "slightly_upwards",
          "straight",
          "straight",
          "straight",
          "straight",
          "straight",
          "straight",
          "upwards",
          "upwards",
          "upwards",
          "upwards",
          "upwards",
          "upwards",
          "sideways",
          "sideways",
          "slightly_turned",
          "slightly_turned",
          "straight",
          "straight",
          "Man",
          "Woman"
         ],
         "marker": {
          "coloraxis": "coloraxis",
          "colors": [
           0.4791129029685571,
           0.2615402567368098,
           0.604672795912845,
           0.5131546323648305,
           0.6365541974431466,
           0.61976313748047,
           0.4973365921584557,
           0.48357903067454877,
           0.5547859654818542,
           0.4742442624187966,
           0.6141939486733552,
           0.5003733557275118,
           0.5015067958222407,
           0.6180842037755174,
           0.585831086940937,
           0.514962334585154,
           0.5627470830323467,
           0.625197575174777,
           0.4678481543722029,
           0.5410976759130826,
           0.5603756977504739,
           0.5195783428963704,
           0.5933094954280783,
           0.4868880786873589,
           0.35777545638950825,
           0.6897999087852702,
           0.5515546585040636,
           0.5164789219455957,
           0.6326044528176271,
           0.5954801121753459,
           0.3831116383630817,
           0.5523695695285595,
           0.3703428906296073,
           0.5974299618376492,
           0.6526248415595817,
           0.4559488848371287,
           0.5719252003764508,
           0.6506231136607749,
           0.5435428982466426,
           0.5796261712961422,
           0.5071196790937624,
           0.5672478951122878,
           0.5903654109492242,
           0.43028115260016114,
           0.4626087266356224,
           0.5453070516860271,
           0.4306097695628652,
           0.6005986083196156,
           0.35784172461352537,
           0.5171340268442115,
           0.593795950796916,
           0.4276717102518074,
           0.6570866104050506,
           0.6272069510500871,
           0.7558625615157148,
           0.6838833139746944,
           0.6101657598222695,
           0.6835872935361854,
           0.8448267026204193,
           0.6054896756016136,
           0.6814030164952033,
           0.6995317319492232,
           0.23475154057656103,
           0.5104544312957207,
           0.6283874312932574,
           0.6527032496679619,
           0.4435931587729718,
           0.7017126270924466,
           0.6718643195758709,
           0.7130269603102164,
           0.5751895683364967,
           0.544221615863098,
           0.6127735813473967,
           0.5296913334350503,
           0.6938553789239817,
           0.5758589775299001,
           0.5428201500631278,
           0.6351658714039933,
           0.3529917811847468,
           0.7056757519513314,
           0.6190390926949204,
           0.5044576537717296,
           0.8168661934292715,
           0.6661445234957816,
           0.678859448779745,
           0.6717613456077461,
           0.5451825627368614,
           0.6290201177100945,
           0.7513122457169392,
           0.8357938341008702,
           0.7266326194290824,
           0.6833725347069163,
           0.5987850871367679,
           0.6382738717437708,
           0.7072914680510509,
           0.663904236040216,
           0.6619290643384139,
           0.5088040940498204,
           0.5601242545478786,
           0.6660271640260375,
           0.5979476797602311,
           0.6795038668014014,
           0.6316810303624253,
           0.5367761298428604,
           0.432070742938089,
           0.6078893133714112,
           0.7443383285176102,
           0.6179542243972439,
           0.559925056520429,
           0.7708086809358974,
           0.6994201598034736,
           0.6801857280538638,
           0.5595629137229965,
           0.5685469831543217,
           0.6329877512515955,
           0.6513226364909547,
           0.6815106461589298,
           0.6574531134579178,
           0.5797897018278984,
           0.5594670582104594,
           0.6223987001873603,
           0.5968822377627365,
           0.6590068014904706,
           0.5971239351816431,
           0.5442472118911712,
           0.5133210139173089,
           0.6309101276345811,
           0.6258761871252876,
           0.6545571357639206,
           0.556811017946608,
           0.5670644799569038,
           0.5503249757831423,
           0.6091085483067388,
           0.6033927207738349,
           0.6507269630775074,
           0.5609103874581636,
           0.5873151441934052,
           0.6318006679072079,
           0.6205016706474473,
           0.6370951666640425,
           0.6775009817584571,
           0.6255709659466212,
           0.5396499514714557,
           0.5328485265941459,
           0.6314501493133526,
           0.6336805510549713,
           0.6713262276253249,
           0.6481213731119179,
           0.5591994885031338,
           0.5463829155318541,
           0.603714592363535,
           0.5781520632868111,
           0.6543252058423402,
           0.5837767348824312,
           0.539122104948555,
           0.5291028916139837,
           0.6221497554523133,
           0.5928608681520589,
           0.6375394857986358,
           0.5660932091419053,
           0.5420711624161512,
           0.5489418591888184,
           0.5994710607351391,
           0.5947271492472903,
           0.6366719911057224,
           0.5501266523645939,
           0.5641335485267137,
           0.6446893881023329,
           0.6116934149167235,
           0.626194767196836,
           0.6704470431798759,
           0.619905878845051,
           0.5464579157675999,
           0.5455283030508693,
           0.6123050317173727,
           0.6035342724383791,
           0.651998926532008,
           0.5907828574789985,
           0.6292466248114046,
           0.5898191260458483
          ]
         },
         "name": "",
         "parents": [
          "Man/sideways/downwards",
          "Woman/sideways/downwards",
          "Man/slightly_turned/downwards",
          "Woman/slightly_turned/downwards",
          "Man/straight/downwards",
          "Woman/straight/downwards",
          "Man/sideways/slightly_downwards",
          "Woman/sideways/slightly_downwards",
          "Man/slightly_turned/slightly_downwards",
          "Woman/slightly_turned/slightly_downwards",
          "Man/straight/slightly_downwards",
          "Woman/straight/slightly_downwards",
          "Man/sideways/slightly_upwards",
          "Woman/sideways/slightly_upwards",
          "Man/slightly_turned/slightly_upwards",
          "Woman/slightly_turned/slightly_upwards",
          "Man/straight/slightly_upwards",
          "Woman/straight/slightly_upwards",
          "Man/sideways/straight",
          "Woman/sideways/straight",
          "Man/slightly_turned/straight",
          "Woman/slightly_turned/straight",
          "Man/straight/straight",
          "Woman/straight/straight",
          "Man/sideways/upwards",
          "Woman/sideways/upwards",
          "Man/slightly_turned/upwards",
          "Woman/slightly_turned/upwards",
          "Man/straight/upwards",
          "Woman/straight/upwards",
          "Man/sideways/downwards",
          "Man/slightly_turned/downwards",
          "Woman/slightly_turned/downwards",
          "Man/straight/downwards",
          "Woman/straight/downwards",
          "Man/sideways/slightly_downwards",
          "Man/slightly_turned/slightly_downwards",
          "Man/straight/slightly_downwards",
          "Woman/straight/slightly_downwards",
          "Man/sideways/slightly_upwards",
          "Woman/sideways/slightly_upwards",
          "Man/slightly_turned/slightly_upwards",
          "Man/straight/slightly_upwards",
          "Woman/straight/slightly_upwards",
          "Man/sideways/straight",
          "Man/slightly_turned/straight",
          "Woman/slightly_turned/straight",
          "Man/straight/straight",
          "Woman/straight/straight",
          "Man/slightly_turned/upwards",
          "Man/straight/upwards",
          "Man/sideways/downwards",
          "Man/slightly_turned/downwards",
          "Man/straight/downwards",
          "Woman/straight/downwards",
          "Man/sideways/slightly_downwards",
          "Man/slightly_turned/slightly_downwards",
          "Man/straight/slightly_downwards",
          "Woman/straight/slightly_downwards",
          "Woman/sideways/slightly_upwards",
          "Man/slightly_turned/slightly_upwards",
          "Man/straight/slightly_upwards",
          "Man/sideways/straight",
          "Man/slightly_turned/straight",
          "Man/straight/straight",
          "Man/straight/upwards",
          "Man/sideways/downwards",
          "Man/slightly_turned/downwards",
          "Woman/slightly_turned/downwards",
          "Man/straight/downwards",
          "Woman/straight/downwards",
          "Man/sideways/slightly_downwards",
          "Man/slightly_turned/slightly_downwards",
          "Woman/slightly_turned/slightly_downwards",
          "Man/straight/slightly_downwards",
          "Woman/straight/slightly_downwards",
          "Man/sideways/slightly_upwards",
          "Man/slightly_turned/slightly_upwards",
          "Woman/slightly_turned/slightly_upwards",
          "Man/straight/slightly_upwards",
          "Woman/straight/slightly_upwards",
          "Man/sideways/straight",
          "Woman/sideways/straight",
          "Man/slightly_turned/straight",
          "Woman/slightly_turned/straight",
          "Man/straight/straight",
          "Woman/straight/straight",
          "Man/sideways/upwards",
          "Man/slightly_turned/upwards",
          "Woman/slightly_turned/upwards",
          "Man/straight/upwards",
          "Woman/straight/upwards",
          "Man/sideways/downwards",
          "Man/slightly_turned/downwards",
          "Woman/slightly_turned/downwards",
          "Man/straight/downwards",
          "Woman/straight/downwards",
          "Man/sideways/slightly_downwards",
          "Man/slightly_turned/slightly_downwards",
          "Man/straight/slightly_downwards",
          "Man/sideways/slightly_upwards",
          "Man/slightly_turned/slightly_upwards",
          "Man/straight/slightly_upwards",
          "Man/sideways/straight",
          "Woman/sideways/straight",
          "Man/slightly_turned/straight",
          "Woman/slightly_turned/straight",
          "Man/straight/straight",
          "Woman/straight/straight",
          "Man/sideways/upwards",
          "Man/slightly_turned/upwards",
          "Man/straight/upwards",
          "Man/sideways/downwards",
          "Woman/sideways/downwards",
          "Man/slightly_turned/downwards",
          "Woman/slightly_turned/downwards",
          "Man/straight/downwards",
          "Woman/straight/downwards",
          "Man/sideways/slightly_downwards",
          "Woman/sideways/slightly_downwards",
          "Man/slightly_turned/slightly_downwards",
          "Woman/slightly_turned/slightly_downwards",
          "Man/straight/slightly_downwards",
          "Woman/straight/slightly_downwards",
          "Man/sideways/slightly_upwards",
          "Woman/sideways/slightly_upwards",
          "Man/slightly_turned/slightly_upwards",
          "Woman/slightly_turned/slightly_upwards",
          "Man/straight/slightly_upwards",
          "Woman/straight/slightly_upwards",
          "Man/sideways/straight",
          "Woman/sideways/straight",
          "Man/slightly_turned/straight",
          "Woman/slightly_turned/straight",
          "Man/straight/straight",
          "Woman/straight/straight",
          "Man/sideways/upwards",
          "Woman/sideways/upwards",
          "Man/slightly_turned/upwards",
          "Woman/slightly_turned/upwards",
          "Man/straight/upwards",
          "Woman/straight/upwards",
          "Man/sideways",
          "Woman/sideways",
          "Man/slightly_turned",
          "Woman/slightly_turned",
          "Man/straight",
          "Woman/straight",
          "Man/sideways",
          "Woman/sideways",
          "Man/slightly_turned",
          "Woman/slightly_turned",
          "Man/straight",
          "Woman/straight",
          "Man/sideways",
          "Woman/sideways",
          "Man/slightly_turned",
          "Woman/slightly_turned",
          "Man/straight",
          "Woman/straight",
          "Man/sideways",
          "Woman/sideways",
          "Man/slightly_turned",
          "Woman/slightly_turned",
          "Man/straight",
          "Woman/straight",
          "Man/sideways",
          "Woman/sideways",
          "Man/slightly_turned",
          "Woman/slightly_turned",
          "Man/straight",
          "Woman/straight",
          "Man",
          "Woman",
          "Man",
          "Woman",
          "Man",
          "Woman",
          "",
          ""
         ],
         "type": "sunburst",
         "values": [
          28,
          5,
          74,
          11,
          236,
          24,
          40,
          5,
          85,
          10,
          201,
          32,
          29,
          4,
          57,
          13,
          138,
          23,
          58,
          10,
          141,
          14,
          299,
          27,
          7,
          2,
          18,
          7,
          36,
          18,
          9,
          18,
          2,
          45,
          9,
          7,
          23,
          76,
          5,
          3,
          1,
          25,
          61,
          6,
          14,
          34,
          3,
          101,
          5,
          11,
          24,
          2,
          5,
          11,
          2,
          5,
          6,
          7,
          2,
          1,
          1,
          3,
          1,
          4,
          17,
          4,
          11,
          30,
          4,
          64,
          22,
          23,
          35,
          6,
          73,
          17,
          17,
          24,
          5,
          52,
          9,
          19,
          1,
          31,
          7,
          83,
          14,
          3,
          6,
          2,
          22,
          3,
          27,
          85,
          2,
          147,
          3,
          14,
          52,
          112,
          6,
          12,
          48,
          30,
          2,
          51,
          1,
          110,
          1,
          1,
          3,
          23,
          140,
          38,
          383,
          88,
          1025,
          213,
          176,
          24,
          364,
          71,
          843,
          186,
          108,
          26,
          272,
          67,
          573,
          110,
          264,
          32,
          541,
          93,
          1131,
          253,
          45,
          7,
          116,
          32,
          257,
          44,
          217,
          43,
          595,
          107,
          1528,
          273,
          265,
          29,
          565,
          87,
          1312,
          242,
          163,
          32,
          391,
          85,
          875,
          148,
          386,
          45,
          802,
          118,
          1741,
          300,
          56,
          9,
          154,
          41,
          366,
          65,
          1087,
          158,
          2507,
          438,
          5822,
          1028,
          9416,
          1624
         ]
        }
       ],
       "layout": {
        "coloraxis": {
         "cmax": 1,
         "cmin": 0,
         "colorbar": {
          "title": {
           "text": "Quality"
          }
         },
         "colorscale": [
          [
           0,
           "#440154"
          ],
          [
           0.1111111111111111,
           "#482878"
          ],
          [
           0.2222222222222222,
           "#3e4989"
          ],
          [
           0.3333333333333333,
           "#31688e"
          ],
          [
           0.4444444444444444,
           "#26828e"
          ],
          [
           0.5555555555555556,
           "#1f9e89"
          ],
          [
           0.6666666666666666,
           "#35b779"
          ],
          [
           0.7777777777777778,
           "#6ece58"
          ],
          [
           0.8888888888888888,
           "#b5de2b"
          ],
          [
           1,
           "#fde725"
          ]
         ]
        },
        "legend": {
         "tracegroupgap": 0
        },
        "template": {
         "data": {
          "bar": [
           {
            "error_x": {
             "color": "#2a3f5f"
            },
            "error_y": {
             "color": "#2a3f5f"
            },
            "marker": {
             "line": {
              "color": "#E5ECF6",
              "width": 0.5
             },
             "pattern": {
              "fillmode": "overlay",
              "size": 10,
              "solidity": 0.2
             }
            },
            "type": "bar"
           }
          ],
          "barpolar": [
           {
            "marker": {
             "line": {
              "color": "#E5ECF6",
              "width": 0.5
             },
             "pattern": {
              "fillmode": "overlay",
              "size": 10,
              "solidity": 0.2
             }
            },
            "type": "barpolar"
           }
          ],
          "carpet": [
           {
            "aaxis": {
             "endlinecolor": "#2a3f5f",
             "gridcolor": "white",
             "linecolor": "white",
             "minorgridcolor": "white",
             "startlinecolor": "#2a3f5f"
            },
            "baxis": {
             "endlinecolor": "#2a3f5f",
             "gridcolor": "white",
             "linecolor": "white",
             "minorgridcolor": "white",
             "startlinecolor": "#2a3f5f"
            },
            "type": "carpet"
           }
          ],
          "choropleth": [
           {
            "colorbar": {
             "outlinewidth": 0,
             "ticks": ""
            },
            "type": "choropleth"
           }
          ],
          "contour": [
           {
            "colorbar": {
             "outlinewidth": 0,
             "ticks": ""
            },
            "colorscale": [
             [
              0,
              "#0d0887"
             ],
             [
              0.1111111111111111,
              "#46039f"
             ],
             [
              0.2222222222222222,
              "#7201a8"
             ],
             [
              0.3333333333333333,
              "#9c179e"
             ],
             [
              0.4444444444444444,
              "#bd3786"
             ],
             [
              0.5555555555555556,
              "#d8576b"
             ],
             [
              0.6666666666666666,
              "#ed7953"
             ],
             [
              0.7777777777777778,
              "#fb9f3a"
             ],
             [
              0.8888888888888888,
              "#fdca26"
             ],
             [
              1,
              "#f0f921"
             ]
            ],
            "type": "contour"
           }
          ],
          "contourcarpet": [
           {
            "colorbar": {
             "outlinewidth": 0,
             "ticks": ""
            },
            "type": "contourcarpet"
           }
          ],
          "heatmap": [
           {
            "colorbar": {
             "outlinewidth": 0,
             "ticks": ""
            },
            "colorscale": [
             [
              0,
              "#0d0887"
             ],
             [
              0.1111111111111111,
              "#46039f"
             ],
             [
              0.2222222222222222,
              "#7201a8"
             ],
             [
              0.3333333333333333,
              "#9c179e"
             ],
             [
              0.4444444444444444,
              "#bd3786"
             ],
             [
              0.5555555555555556,
              "#d8576b"
             ],
             [
              0.6666666666666666,
              "#ed7953"
             ],
             [
              0.7777777777777778,
              "#fb9f3a"
             ],
             [
              0.8888888888888888,
              "#fdca26"
             ],
             [
              1,
              "#f0f921"
             ]
            ],
            "type": "heatmap"
           }
          ],
          "heatmapgl": [
           {
            "colorbar": {
             "outlinewidth": 0,
             "ticks": ""
            },
            "colorscale": [
             [
              0,
              "#0d0887"
             ],
             [
              0.1111111111111111,
              "#46039f"
             ],
             [
              0.2222222222222222,
              "#7201a8"
             ],
             [
              0.3333333333333333,
              "#9c179e"
             ],
             [
              0.4444444444444444,
              "#bd3786"
             ],
             [
              0.5555555555555556,
              "#d8576b"
             ],
             [
              0.6666666666666666,
              "#ed7953"
             ],
             [
              0.7777777777777778,
              "#fb9f3a"
             ],
             [
              0.8888888888888888,
              "#fdca26"
             ],
             [
              1,
              "#f0f921"
             ]
            ],
            "type": "heatmapgl"
           }
          ],
          "histogram": [
           {
            "marker": {
             "pattern": {
              "fillmode": "overlay",
              "size": 10,
              "solidity": 0.2
             }
            },
            "type": "histogram"
           }
          ],
          "histogram2d": [
           {
            "colorbar": {
             "outlinewidth": 0,
             "ticks": ""
            },
            "colorscale": [
             [
              0,
              "#0d0887"
             ],
             [
              0.1111111111111111,
              "#46039f"
             ],
             [
              0.2222222222222222,
              "#7201a8"
             ],
             [
              0.3333333333333333,
              "#9c179e"
             ],
             [
              0.4444444444444444,
              "#bd3786"
             ],
             [
              0.5555555555555556,
              "#d8576b"
             ],
             [
              0.6666666666666666,
              "#ed7953"
             ],
             [
              0.7777777777777778,
              "#fb9f3a"
             ],
             [
              0.8888888888888888,
              "#fdca26"
             ],
             [
              1,
              "#f0f921"
             ]
            ],
            "type": "histogram2d"
           }
          ],
          "histogram2dcontour": [
           {
            "colorbar": {
             "outlinewidth": 0,
             "ticks": ""
            },
            "colorscale": [
             [
              0,
              "#0d0887"
             ],
             [
              0.1111111111111111,
              "#46039f"
             ],
             [
              0.2222222222222222,
              "#7201a8"
             ],
             [
              0.3333333333333333,
              "#9c179e"
             ],
             [
              0.4444444444444444,
              "#bd3786"
             ],
             [
              0.5555555555555556,
              "#d8576b"
             ],
             [
              0.6666666666666666,
              "#ed7953"
             ],
             [
              0.7777777777777778,
              "#fb9f3a"
             ],
             [
              0.8888888888888888,
              "#fdca26"
             ],
             [
              1,
              "#f0f921"
             ]
            ],
            "type": "histogram2dcontour"
           }
          ],
          "mesh3d": [
           {
            "colorbar": {
             "outlinewidth": 0,
             "ticks": ""
            },
            "type": "mesh3d"
           }
          ],
          "parcoords": [
           {
            "line": {
             "colorbar": {
              "outlinewidth": 0,
              "ticks": ""
             }
            },
            "type": "parcoords"
           }
          ],
          "pie": [
           {
            "automargin": true,
            "type": "pie"
           }
          ],
          "scatter": [
           {
            "fillpattern": {
             "fillmode": "overlay",
             "size": 10,
             "solidity": 0.2
            },
            "type": "scatter"
           }
          ],
          "scatter3d": [
           {
            "line": {
             "colorbar": {
              "outlinewidth": 0,
              "ticks": ""
             }
            },
            "marker": {
             "colorbar": {
              "outlinewidth": 0,
              "ticks": ""
             }
            },
            "type": "scatter3d"
           }
          ],
          "scattercarpet": [
           {
            "marker": {
             "colorbar": {
              "outlinewidth": 0,
              "ticks": ""
             }
            },
            "type": "scattercarpet"
           }
          ],
          "scattergeo": [
           {
            "marker": {
             "colorbar": {
              "outlinewidth": 0,
              "ticks": ""
             }
            },
            "type": "scattergeo"
           }
          ],
          "scattergl": [
           {
            "marker": {
             "colorbar": {
              "outlinewidth": 0,
              "ticks": ""
             }
            },
            "type": "scattergl"
           }
          ],
          "scattermapbox": [
           {
            "marker": {
             "colorbar": {
              "outlinewidth": 0,
              "ticks": ""
             }
            },
            "type": "scattermapbox"
           }
          ],
          "scatterpolar": [
           {
            "marker": {
             "colorbar": {
              "outlinewidth": 0,
              "ticks": ""
             }
            },
            "type": "scatterpolar"
           }
          ],
          "scatterpolargl": [
           {
            "marker": {
             "colorbar": {
              "outlinewidth": 0,
              "ticks": ""
             }
            },
            "type": "scatterpolargl"
           }
          ],
          "scatterternary": [
           {
            "marker": {
             "colorbar": {
              "outlinewidth": 0,
              "ticks": ""
             }
            },
            "type": "scatterternary"
           }
          ],
          "surface": [
           {
            "colorbar": {
             "outlinewidth": 0,
             "ticks": ""
            },
            "colorscale": [
             [
              0,
              "#0d0887"
             ],
             [
              0.1111111111111111,
              "#46039f"
             ],
             [
              0.2222222222222222,
              "#7201a8"
             ],
             [
              0.3333333333333333,
              "#9c179e"
             ],
             [
              0.4444444444444444,
              "#bd3786"
             ],
             [
              0.5555555555555556,
              "#d8576b"
             ],
             [
              0.6666666666666666,
              "#ed7953"
             ],
             [
              0.7777777777777778,
              "#fb9f3a"
             ],
             [
              0.8888888888888888,
              "#fdca26"
             ],
             [
              1,
              "#f0f921"
             ]
            ],
            "type": "surface"
           }
          ],
          "table": [
           {
            "cells": {
             "fill": {
              "color": "#EBF0F8"
             },
             "line": {
              "color": "white"
             }
            },
            "header": {
             "fill": {
              "color": "#C8D4E3"
             },
             "line": {
              "color": "white"
             }
            },
            "type": "table"
           }
          ]
         },
         "layout": {
          "annotationdefaults": {
           "arrowcolor": "#2a3f5f",
           "arrowhead": 0,
           "arrowwidth": 1
          },
          "autotypenumbers": "strict",
          "coloraxis": {
           "colorbar": {
            "outlinewidth": 0,
            "ticks": ""
           }
          },
          "colorscale": {
           "diverging": [
            [
             0,
             "#8e0152"
            ],
            [
             0.1,
             "#c51b7d"
            ],
            [
             0.2,
             "#de77ae"
            ],
            [
             0.3,
             "#f1b6da"
            ],
            [
             0.4,
             "#fde0ef"
            ],
            [
             0.5,
             "#f7f7f7"
            ],
            [
             0.6,
             "#e6f5d0"
            ],
            [
             0.7,
             "#b8e186"
            ],
            [
             0.8,
             "#7fbc41"
            ],
            [
             0.9,
             "#4d9221"
            ],
            [
             1,
             "#276419"
            ]
           ],
           "sequential": [
            [
             0,
             "#0d0887"
            ],
            [
             0.1111111111111111,
             "#46039f"
            ],
            [
             0.2222222222222222,
             "#7201a8"
            ],
            [
             0.3333333333333333,
             "#9c179e"
            ],
            [
             0.4444444444444444,
             "#bd3786"
            ],
            [
             0.5555555555555556,
             "#d8576b"
            ],
            [
             0.6666666666666666,
             "#ed7953"
            ],
            [
             0.7777777777777778,
             "#fb9f3a"
            ],
            [
             0.8888888888888888,
             "#fdca26"
            ],
            [
             1,
             "#f0f921"
            ]
           ],
           "sequentialminus": [
            [
             0,
             "#0d0887"
            ],
            [
             0.1111111111111111,
             "#46039f"
            ],
            [
             0.2222222222222222,
             "#7201a8"
            ],
            [
             0.3333333333333333,
             "#9c179e"
            ],
            [
             0.4444444444444444,
             "#bd3786"
            ],
            [
             0.5555555555555556,
             "#d8576b"
            ],
            [
             0.6666666666666666,
             "#ed7953"
            ],
            [
             0.7777777777777778,
             "#fb9f3a"
            ],
            [
             0.8888888888888888,
             "#fdca26"
            ],
            [
             1,
             "#f0f921"
            ]
           ]
          },
          "colorway": [
           "#636efa",
           "#EF553B",
           "#00cc96",
           "#ab63fa",
           "#FFA15A",
           "#19d3f3",
           "#FF6692",
           "#B6E880",
           "#FF97FF",
           "#FECB52"
          ],
          "font": {
           "color": "#2a3f5f"
          },
          "geo": {
           "bgcolor": "white",
           "lakecolor": "white",
           "landcolor": "#E5ECF6",
           "showlakes": true,
           "showland": true,
           "subunitcolor": "white"
          },
          "hoverlabel": {
           "align": "left"
          },
          "hovermode": "closest",
          "mapbox": {
           "style": "light"
          },
          "paper_bgcolor": "white",
          "plot_bgcolor": "#E5ECF6",
          "polar": {
           "angularaxis": {
            "gridcolor": "white",
            "linecolor": "white",
            "ticks": ""
           },
           "bgcolor": "#E5ECF6",
           "radialaxis": {
            "gridcolor": "white",
            "linecolor": "white",
            "ticks": ""
           }
          },
          "scene": {
           "xaxis": {
            "backgroundcolor": "#E5ECF6",
            "gridcolor": "white",
            "gridwidth": 2,
            "linecolor": "white",
            "showbackground": true,
            "ticks": "",
            "zerolinecolor": "white"
           },
           "yaxis": {
            "backgroundcolor": "#E5ECF6",
            "gridcolor": "white",
            "gridwidth": 2,
            "linecolor": "white",
            "showbackground": true,
            "ticks": "",
            "zerolinecolor": "white"
           },
           "zaxis": {
            "backgroundcolor": "#E5ECF6",
            "gridcolor": "white",
            "gridwidth": 2,
            "linecolor": "white",
            "showbackground": true,
            "ticks": "",
            "zerolinecolor": "white"
           }
          },
          "shapedefaults": {
           "line": {
            "color": "#2a3f5f"
           }
          },
          "ternary": {
           "aaxis": {
            "gridcolor": "white",
            "linecolor": "white",
            "ticks": ""
           },
           "baxis": {
            "gridcolor": "white",
            "linecolor": "white",
            "ticks": ""
           },
           "bgcolor": "#E5ECF6",
           "caxis": {
            "gridcolor": "white",
            "linecolor": "white",
            "ticks": ""
           }
          },
          "title": {
           "x": 0.05
          },
          "xaxis": {
           "automargin": true,
           "gridcolor": "white",
           "linecolor": "white",
           "ticks": "",
           "title": {
            "standoff": 15
           },
           "zerolinecolor": "white",
           "zerolinewidth": 2
          },
          "yaxis": {
           "automargin": true,
           "gridcolor": "white",
           "linecolor": "white",
           "ticks": "",
           "title": {
            "standoff": 15
           },
           "zerolinecolor": "white",
           "zerolinewidth": 2
          }
         }
        },
        "title": {
         "text": "XQLFW, Model QMagFace"
        }
       }
      },
      "text/html": [
       "<div>                            <div id=\"2de2e680-ea85-4809-b76e-0100bcbad774\" class=\"plotly-graph-div\" style=\"height:525px; width:100%;\"></div>            <script type=\"text/javascript\">                require([\"plotly\"], function(Plotly) {                    window.PLOTLYENV=window.PLOTLYENV || {};                                    if (document.getElementById(\"2de2e680-ea85-4809-b76e-0100bcbad774\")) {                    Plotly.newPlot(                        \"2de2e680-ea85-4809-b76e-0100bcbad774\",                        [{\"branchvalues\":\"total\",\"customdata\":[[0.4791129029685571],[0.2615402567368098],[0.604672795912845],[0.5131546323648305],[0.6365541974431466],[0.61976313748047],[0.4973365921584557],[0.48357903067454877],[0.5547859654818542],[0.4742442624187966],[0.6141939486733552],[0.5003733557275118],[0.5015067958222407],[0.6180842037755174],[0.585831086940937],[0.514962334585154],[0.5627470830323467],[0.625197575174777],[0.4678481543722029],[0.5410976759130826],[0.5603756977504739],[0.5195783428963704],[0.5933094954280783],[0.4868880786873589],[0.35777545638950825],[0.6897999087852702],[0.5515546585040636],[0.5164789219455957],[0.6326044528176271],[0.5954801121753459],[0.3831116383630817],[0.5523695695285595],[0.3703428906296073],[0.5974299618376492],[0.6526248415595817],[0.4559488848371287],[0.5719252003764508],[0.6506231136607749],[0.5435428982466426],[0.5796261712961422],[0.5071196790937624],[0.5672478951122878],[0.5903654109492242],[0.43028115260016114],[0.4626087266356224],[0.5453070516860271],[0.4306097695628652],[0.6005986083196156],[0.35784172461352537],[0.5171340268442115],[0.593795950796916],[0.4276717102518074],[0.6570866104050506],[0.6272069510500871],[0.7558625615157148],[0.6838833139746944],[0.6101657598222695],[0.6835872935361854],[0.8448267026204193],[0.6054896756016136],[0.6814030164952033],[0.6995317319492232],[0.23475154057656103],[0.5104544312957207],[0.6283874312932574],[0.6527032496679619],[0.4435931587729718],[0.7017126270924466],[0.6718643195758709],[0.7130269603102164],[0.5751895683364967],[0.544221615863098],[0.6127735813473967],[0.5296913334350503],[0.6938553789239817],[0.5758589775299001],[0.5428201500631278],[0.6351658714039933],[0.3529917811847468],[0.7056757519513314],[0.6190390926949204],[0.5044576537717296],[0.8168661934292715],[0.6661445234957816],[0.678859448779745],[0.6717613456077461],[0.5451825627368614],[0.6290201177100945],[0.7513122457169392],[0.8357938341008702],[0.7266326194290824],[0.6833725347069163],[0.5987850871367679],[0.6382738717437708],[0.7072914680510509],[0.663904236040216],[0.6619290643384139],[0.5088040940498204],[0.5601242545478786],[0.6660271640260375],[0.5979476797602311],[0.6795038668014014],[0.6316810303624253],[0.5367761298428604],[0.432070742938089],[0.6078893133714112],[0.7443383285176102],[0.6179542243972439],[0.559925056520429],[0.7708086809358974],[0.6994201598034736],[0.6801857280538638],[0.5595629137229965],[0.5685469831543217],[0.6329877512515955],[0.6513226364909547],[0.6815106461589298],[0.6574531134579178],[0.5797897018278984],[0.5594670582104594],[0.6223987001873603],[0.5968822377627365],[0.6590068014904706],[0.5971239351816431],[0.5442472118911712],[0.5133210139173089],[0.6309101276345811],[0.6258761871252876],[0.6545571357639206],[0.556811017946608],[0.5670644799569038],[0.5503249757831423],[0.6091085483067388],[0.6033927207738349],[0.6507269630775074],[0.5609103874581636],[0.5873151441934052],[0.6318006679072079],[0.6205016706474473],[0.6370951666640425],[0.6775009817584571],[0.6255709659466212],[0.5396499514714557],[0.5328485265941459],[0.6314501493133526],[0.6336805510549713],[0.6713262276253249],[0.6481213731119179],[0.5591994885031338],[0.5463829155318541],[0.603714592363535],[0.5781520632868111],[0.6543252058423402],[0.5837767348824312],[0.539122104948555],[0.5291028916139837],[0.6221497554523133],[0.5928608681520589],[0.6375394857986358],[0.5660932091419053],[0.5420711624161512],[0.5489418591888184],[0.5994710607351391],[0.5947271492472903],[0.6366719911057224],[0.5501266523645939],[0.5641335485267137],[0.6446893881023329],[0.6116934149167235],[0.626194767196836],[0.6704470431798759],[0.619905878845051],[0.5464579157675999],[0.5455283030508693],[0.6123050317173727],[0.6035342724383791],[0.651998926532008],[0.5907828574789985],[0.6292466248114046],[0.5898191260458483]],\"domain\":{\"x\":[0.0,1.0],\"y\":[0.0,1.0]},\"hovertemplate\":\"labels=%{label}<br>count=%{value}<br>parent=%{parent}<br>id=%{id}<br>Quality=%{color}<extra></extra>\",\"ids\":[\"Man/sideways/downwards/asian\",\"Woman/sideways/downwards/asian\",\"Man/slightly_turned/downwards/asian\",\"Woman/slightly_turned/downwards/asian\",\"Man/straight/downwards/asian\",\"Woman/straight/downwards/asian\",\"Man/sideways/slightly_downwards/asian\",\"Woman/sideways/slightly_downwards/asian\",\"Man/slightly_turned/slightly_downwards/asian\",\"Woman/slightly_turned/slightly_downwards/asian\",\"Man/straight/slightly_downwards/asian\",\"Woman/straight/slightly_downwards/asian\",\"Man/sideways/slightly_upwards/asian\",\"Woman/sideways/slightly_upwards/asian\",\"Man/slightly_turned/slightly_upwards/asian\",\"Woman/slightly_turned/slightly_upwards/asian\",\"Man/straight/slightly_upwards/asian\",\"Woman/straight/slightly_upwards/asian\",\"Man/sideways/straight/asian\",\"Woman/sideways/straight/asian\",\"Man/slightly_turned/straight/asian\",\"Woman/slightly_turned/straight/asian\",\"Man/straight/straight/asian\",\"Woman/straight/straight/asian\",\"Man/sideways/upwards/asian\",\"Woman/sideways/upwards/asian\",\"Man/slightly_turned/upwards/asian\",\"Woman/slightly_turned/upwards/asian\",\"Man/straight/upwards/asian\",\"Woman/straight/upwards/asian\",\"Man/sideways/downwards/black\",\"Man/slightly_turned/downwards/black\",\"Woman/slightly_turned/downwards/black\",\"Man/straight/downwards/black\",\"Woman/straight/downwards/black\",\"Man/sideways/slightly_downwards/black\",\"Man/slightly_turned/slightly_downwards/black\",\"Man/straight/slightly_downwards/black\",\"Woman/straight/slightly_downwards/black\",\"Man/sideways/slightly_upwards/black\",\"Woman/sideways/slightly_upwards/black\",\"Man/slightly_turned/slightly_upwards/black\",\"Man/straight/slightly_upwards/black\",\"Woman/straight/slightly_upwards/black\",\"Man/sideways/straight/black\",\"Man/slightly_turned/straight/black\",\"Woman/slightly_turned/straight/black\",\"Man/straight/straight/black\",\"Woman/straight/straight/black\",\"Man/slightly_turned/upwards/black\",\"Man/straight/upwards/black\",\"Man/sideways/downwards/indian\",\"Man/slightly_turned/downwards/indian\",\"Man/straight/downwards/indian\",\"Woman/straight/downwards/indian\",\"Man/sideways/slightly_downwards/indian\",\"Man/slightly_turned/slightly_downwards/indian\",\"Man/straight/slightly_downwards/indian\",\"Woman/straight/slightly_downwards/indian\",\"Woman/sideways/slightly_upwards/indian\",\"Man/slightly_turned/slightly_upwards/indian\",\"Man/straight/slightly_upwards/indian\",\"Man/sideways/straight/indian\",\"Man/slightly_turned/straight/indian\",\"Man/straight/straight/indian\",\"Man/straight/upwards/indian\",\"Man/sideways/downwards/latino hispanic\",\"Man/slightly_turned/downwards/latino hispanic\",\"Woman/slightly_turned/downwards/latino hispanic\",\"Man/straight/downwards/latino hispanic\",\"Woman/straight/downwards/latino hispanic\",\"Man/sideways/slightly_downwards/latino hispanic\",\"Man/slightly_turned/slightly_downwards/latino hispanic\",\"Woman/slightly_turned/slightly_downwards/latino hispanic\",\"Man/straight/slightly_downwards/latino hispanic\",\"Woman/straight/slightly_downwards/latino hispanic\",\"Man/sideways/slightly_upwards/latino hispanic\",\"Man/slightly_turned/slightly_upwards/latino hispanic\",\"Woman/slightly_turned/slightly_upwards/latino hispanic\",\"Man/straight/slightly_upwards/latino hispanic\",\"Woman/straight/slightly_upwards/latino hispanic\",\"Man/sideways/straight/latino hispanic\",\"Woman/sideways/straight/latino hispanic\",\"Man/slightly_turned/straight/latino hispanic\",\"Woman/slightly_turned/straight/latino hispanic\",\"Man/straight/straight/latino hispanic\",\"Woman/straight/straight/latino hispanic\",\"Man/sideways/upwards/latino hispanic\",\"Man/slightly_turned/upwards/latino hispanic\",\"Woman/slightly_turned/upwards/latino hispanic\",\"Man/straight/upwards/latino hispanic\",\"Woman/straight/upwards/latino hispanic\",\"Man/sideways/downwards/middle eastern\",\"Man/slightly_turned/downwards/middle eastern\",\"Woman/slightly_turned/downwards/middle eastern\",\"Man/straight/downwards/middle eastern\",\"Woman/straight/downwards/middle eastern\",\"Man/sideways/slightly_downwards/middle eastern\",\"Man/slightly_turned/slightly_downwards/middle eastern\",\"Man/straight/slightly_downwards/middle eastern\",\"Man/sideways/slightly_upwards/middle eastern\",\"Man/slightly_turned/slightly_upwards/middle eastern\",\"Man/straight/slightly_upwards/middle eastern\",\"Man/sideways/straight/middle eastern\",\"Woman/sideways/straight/middle eastern\",\"Man/slightly_turned/straight/middle eastern\",\"Woman/slightly_turned/straight/middle eastern\",\"Man/straight/straight/middle eastern\",\"Woman/straight/straight/middle eastern\",\"Man/sideways/upwards/middle eastern\",\"Man/slightly_turned/upwards/middle eastern\",\"Man/straight/upwards/middle eastern\",\"Man/sideways/downwards/white\",\"Woman/sideways/downwards/white\",\"Man/slightly_turned/downwards/white\",\"Woman/slightly_turned/downwards/white\",\"Man/straight/downwards/white\",\"Woman/straight/downwards/white\",\"Man/sideways/slightly_downwards/white\",\"Woman/sideways/slightly_downwards/white\",\"Man/slightly_turned/slightly_downwards/white\",\"Woman/slightly_turned/slightly_downwards/white\",\"Man/straight/slightly_downwards/white\",\"Woman/straight/slightly_downwards/white\",\"Man/sideways/slightly_upwards/white\",\"Woman/sideways/slightly_upwards/white\",\"Man/slightly_turned/slightly_upwards/white\",\"Woman/slightly_turned/slightly_upwards/white\",\"Man/straight/slightly_upwards/white\",\"Woman/straight/slightly_upwards/white\",\"Man/sideways/straight/white\",\"Woman/sideways/straight/white\",\"Man/slightly_turned/straight/white\",\"Woman/slightly_turned/straight/white\",\"Man/straight/straight/white\",\"Woman/straight/straight/white\",\"Man/sideways/upwards/white\",\"Woman/sideways/upwards/white\",\"Man/slightly_turned/upwards/white\",\"Woman/slightly_turned/upwards/white\",\"Man/straight/upwards/white\",\"Woman/straight/upwards/white\",\"Man/sideways/downwards\",\"Woman/sideways/downwards\",\"Man/slightly_turned/downwards\",\"Woman/slightly_turned/downwards\",\"Man/straight/downwards\",\"Woman/straight/downwards\",\"Man/sideways/slightly_downwards\",\"Woman/sideways/slightly_downwards\",\"Man/slightly_turned/slightly_downwards\",\"Woman/slightly_turned/slightly_downwards\",\"Man/straight/slightly_downwards\",\"Woman/straight/slightly_downwards\",\"Man/sideways/slightly_upwards\",\"Woman/sideways/slightly_upwards\",\"Man/slightly_turned/slightly_upwards\",\"Woman/slightly_turned/slightly_upwards\",\"Man/straight/slightly_upwards\",\"Woman/straight/slightly_upwards\",\"Man/sideways/straight\",\"Woman/sideways/straight\",\"Man/slightly_turned/straight\",\"Woman/slightly_turned/straight\",\"Man/straight/straight\",\"Woman/straight/straight\",\"Man/sideways/upwards\",\"Woman/sideways/upwards\",\"Man/slightly_turned/upwards\",\"Woman/slightly_turned/upwards\",\"Man/straight/upwards\",\"Woman/straight/upwards\",\"Man/sideways\",\"Woman/sideways\",\"Man/slightly_turned\",\"Woman/slightly_turned\",\"Man/straight\",\"Woman/straight\",\"Man\",\"Woman\"],\"labels\":[\"asian\",\"asian\",\"asian\",\"asian\",\"asian\",\"asian\",\"asian\",\"asian\",\"asian\",\"asian\",\"asian\",\"asian\",\"asian\",\"asian\",\"asian\",\"asian\",\"asian\",\"asian\",\"asian\",\"asian\",\"asian\",\"asian\",\"asian\",\"asian\",\"asian\",\"asian\",\"asian\",\"asian\",\"asian\",\"asian\",\"black\",\"black\",\"black\",\"black\",\"black\",\"black\",\"black\",\"black\",\"black\",\"black\",\"black\",\"black\",\"black\",\"black\",\"black\",\"black\",\"black\",\"black\",\"black\",\"black\",\"black\",\"indian\",\"indian\",\"indian\",\"indian\",\"indian\",\"indian\",\"indian\",\"indian\",\"indian\",\"indian\",\"indian\",\"indian\",\"indian\",\"indian\",\"indian\",\"latino hispanic\",\"latino hispanic\",\"latino hispanic\",\"latino hispanic\",\"latino hispanic\",\"latino hispanic\",\"latino hispanic\",\"latino hispanic\",\"latino hispanic\",\"latino hispanic\",\"latino hispanic\",\"latino hispanic\",\"latino hispanic\",\"latino hispanic\",\"latino hispanic\",\"latino hispanic\",\"latino hispanic\",\"latino hispanic\",\"latino hispanic\",\"latino hispanic\",\"latino hispanic\",\"latino hispanic\",\"latino hispanic\",\"latino hispanic\",\"latino hispanic\",\"latino hispanic\",\"middle eastern\",\"middle eastern\",\"middle eastern\",\"middle eastern\",\"middle eastern\",\"middle eastern\",\"middle eastern\",\"middle eastern\",\"middle eastern\",\"middle eastern\",\"middle eastern\",\"middle eastern\",\"middle eastern\",\"middle eastern\",\"middle eastern\",\"middle eastern\",\"middle eastern\",\"middle eastern\",\"middle eastern\",\"middle eastern\",\"white\",\"white\",\"white\",\"white\",\"white\",\"white\",\"white\",\"white\",\"white\",\"white\",\"white\",\"white\",\"white\",\"white\",\"white\",\"white\",\"white\",\"white\",\"white\",\"white\",\"white\",\"white\",\"white\",\"white\",\"white\",\"white\",\"white\",\"white\",\"white\",\"white\",\"downwards\",\"downwards\",\"downwards\",\"downwards\",\"downwards\",\"downwards\",\"slightly_downwards\",\"slightly_downwards\",\"slightly_downwards\",\"slightly_downwards\",\"slightly_downwards\",\"slightly_downwards\",\"slightly_upwards\",\"slightly_upwards\",\"slightly_upwards\",\"slightly_upwards\",\"slightly_upwards\",\"slightly_upwards\",\"straight\",\"straight\",\"straight\",\"straight\",\"straight\",\"straight\",\"upwards\",\"upwards\",\"upwards\",\"upwards\",\"upwards\",\"upwards\",\"sideways\",\"sideways\",\"slightly_turned\",\"slightly_turned\",\"straight\",\"straight\",\"Man\",\"Woman\"],\"marker\":{\"coloraxis\":\"coloraxis\",\"colors\":[0.4791129029685571,0.2615402567368098,0.604672795912845,0.5131546323648305,0.6365541974431466,0.61976313748047,0.4973365921584557,0.48357903067454877,0.5547859654818542,0.4742442624187966,0.6141939486733552,0.5003733557275118,0.5015067958222407,0.6180842037755174,0.585831086940937,0.514962334585154,0.5627470830323467,0.625197575174777,0.4678481543722029,0.5410976759130826,0.5603756977504739,0.5195783428963704,0.5933094954280783,0.4868880786873589,0.35777545638950825,0.6897999087852702,0.5515546585040636,0.5164789219455957,0.6326044528176271,0.5954801121753459,0.3831116383630817,0.5523695695285595,0.3703428906296073,0.5974299618376492,0.6526248415595817,0.4559488848371287,0.5719252003764508,0.6506231136607749,0.5435428982466426,0.5796261712961422,0.5071196790937624,0.5672478951122878,0.5903654109492242,0.43028115260016114,0.4626087266356224,0.5453070516860271,0.4306097695628652,0.6005986083196156,0.35784172461352537,0.5171340268442115,0.593795950796916,0.4276717102518074,0.6570866104050506,0.6272069510500871,0.7558625615157148,0.6838833139746944,0.6101657598222695,0.6835872935361854,0.8448267026204193,0.6054896756016136,0.6814030164952033,0.6995317319492232,0.23475154057656103,0.5104544312957207,0.6283874312932574,0.6527032496679619,0.4435931587729718,0.7017126270924466,0.6718643195758709,0.7130269603102164,0.5751895683364967,0.544221615863098,0.6127735813473967,0.5296913334350503,0.6938553789239817,0.5758589775299001,0.5428201500631278,0.6351658714039933,0.3529917811847468,0.7056757519513314,0.6190390926949204,0.5044576537717296,0.8168661934292715,0.6661445234957816,0.678859448779745,0.6717613456077461,0.5451825627368614,0.6290201177100945,0.7513122457169392,0.8357938341008702,0.7266326194290824,0.6833725347069163,0.5987850871367679,0.6382738717437708,0.7072914680510509,0.663904236040216,0.6619290643384139,0.5088040940498204,0.5601242545478786,0.6660271640260375,0.5979476797602311,0.6795038668014014,0.6316810303624253,0.5367761298428604,0.432070742938089,0.6078893133714112,0.7443383285176102,0.6179542243972439,0.559925056520429,0.7708086809358974,0.6994201598034736,0.6801857280538638,0.5595629137229965,0.5685469831543217,0.6329877512515955,0.6513226364909547,0.6815106461589298,0.6574531134579178,0.5797897018278984,0.5594670582104594,0.6223987001873603,0.5968822377627365,0.6590068014904706,0.5971239351816431,0.5442472118911712,0.5133210139173089,0.6309101276345811,0.6258761871252876,0.6545571357639206,0.556811017946608,0.5670644799569038,0.5503249757831423,0.6091085483067388,0.6033927207738349,0.6507269630775074,0.5609103874581636,0.5873151441934052,0.6318006679072079,0.6205016706474473,0.6370951666640425,0.6775009817584571,0.6255709659466212,0.5396499514714557,0.5328485265941459,0.6314501493133526,0.6336805510549713,0.6713262276253249,0.6481213731119179,0.5591994885031338,0.5463829155318541,0.603714592363535,0.5781520632868111,0.6543252058423402,0.5837767348824312,0.539122104948555,0.5291028916139837,0.6221497554523133,0.5928608681520589,0.6375394857986358,0.5660932091419053,0.5420711624161512,0.5489418591888184,0.5994710607351391,0.5947271492472903,0.6366719911057224,0.5501266523645939,0.5641335485267137,0.6446893881023329,0.6116934149167235,0.626194767196836,0.6704470431798759,0.619905878845051,0.5464579157675999,0.5455283030508693,0.6123050317173727,0.6035342724383791,0.651998926532008,0.5907828574789985,0.6292466248114046,0.5898191260458483]},\"name\":\"\",\"parents\":[\"Man/sideways/downwards\",\"Woman/sideways/downwards\",\"Man/slightly_turned/downwards\",\"Woman/slightly_turned/downwards\",\"Man/straight/downwards\",\"Woman/straight/downwards\",\"Man/sideways/slightly_downwards\",\"Woman/sideways/slightly_downwards\",\"Man/slightly_turned/slightly_downwards\",\"Woman/slightly_turned/slightly_downwards\",\"Man/straight/slightly_downwards\",\"Woman/straight/slightly_downwards\",\"Man/sideways/slightly_upwards\",\"Woman/sideways/slightly_upwards\",\"Man/slightly_turned/slightly_upwards\",\"Woman/slightly_turned/slightly_upwards\",\"Man/straight/slightly_upwards\",\"Woman/straight/slightly_upwards\",\"Man/sideways/straight\",\"Woman/sideways/straight\",\"Man/slightly_turned/straight\",\"Woman/slightly_turned/straight\",\"Man/straight/straight\",\"Woman/straight/straight\",\"Man/sideways/upwards\",\"Woman/sideways/upwards\",\"Man/slightly_turned/upwards\",\"Woman/slightly_turned/upwards\",\"Man/straight/upwards\",\"Woman/straight/upwards\",\"Man/sideways/downwards\",\"Man/slightly_turned/downwards\",\"Woman/slightly_turned/downwards\",\"Man/straight/downwards\",\"Woman/straight/downwards\",\"Man/sideways/slightly_downwards\",\"Man/slightly_turned/slightly_downwards\",\"Man/straight/slightly_downwards\",\"Woman/straight/slightly_downwards\",\"Man/sideways/slightly_upwards\",\"Woman/sideways/slightly_upwards\",\"Man/slightly_turned/slightly_upwards\",\"Man/straight/slightly_upwards\",\"Woman/straight/slightly_upwards\",\"Man/sideways/straight\",\"Man/slightly_turned/straight\",\"Woman/slightly_turned/straight\",\"Man/straight/straight\",\"Woman/straight/straight\",\"Man/slightly_turned/upwards\",\"Man/straight/upwards\",\"Man/sideways/downwards\",\"Man/slightly_turned/downwards\",\"Man/straight/downwards\",\"Woman/straight/downwards\",\"Man/sideways/slightly_downwards\",\"Man/slightly_turned/slightly_downwards\",\"Man/straight/slightly_downwards\",\"Woman/straight/slightly_downwards\",\"Woman/sideways/slightly_upwards\",\"Man/slightly_turned/slightly_upwards\",\"Man/straight/slightly_upwards\",\"Man/sideways/straight\",\"Man/slightly_turned/straight\",\"Man/straight/straight\",\"Man/straight/upwards\",\"Man/sideways/downwards\",\"Man/slightly_turned/downwards\",\"Woman/slightly_turned/downwards\",\"Man/straight/downwards\",\"Woman/straight/downwards\",\"Man/sideways/slightly_downwards\",\"Man/slightly_turned/slightly_downwards\",\"Woman/slightly_turned/slightly_downwards\",\"Man/straight/slightly_downwards\",\"Woman/straight/slightly_downwards\",\"Man/sideways/slightly_upwards\",\"Man/slightly_turned/slightly_upwards\",\"Woman/slightly_turned/slightly_upwards\",\"Man/straight/slightly_upwards\",\"Woman/straight/slightly_upwards\",\"Man/sideways/straight\",\"Woman/sideways/straight\",\"Man/slightly_turned/straight\",\"Woman/slightly_turned/straight\",\"Man/straight/straight\",\"Woman/straight/straight\",\"Man/sideways/upwards\",\"Man/slightly_turned/upwards\",\"Woman/slightly_turned/upwards\",\"Man/straight/upwards\",\"Woman/straight/upwards\",\"Man/sideways/downwards\",\"Man/slightly_turned/downwards\",\"Woman/slightly_turned/downwards\",\"Man/straight/downwards\",\"Woman/straight/downwards\",\"Man/sideways/slightly_downwards\",\"Man/slightly_turned/slightly_downwards\",\"Man/straight/slightly_downwards\",\"Man/sideways/slightly_upwards\",\"Man/slightly_turned/slightly_upwards\",\"Man/straight/slightly_upwards\",\"Man/sideways/straight\",\"Woman/sideways/straight\",\"Man/slightly_turned/straight\",\"Woman/slightly_turned/straight\",\"Man/straight/straight\",\"Woman/straight/straight\",\"Man/sideways/upwards\",\"Man/slightly_turned/upwards\",\"Man/straight/upwards\",\"Man/sideways/downwards\",\"Woman/sideways/downwards\",\"Man/slightly_turned/downwards\",\"Woman/slightly_turned/downwards\",\"Man/straight/downwards\",\"Woman/straight/downwards\",\"Man/sideways/slightly_downwards\",\"Woman/sideways/slightly_downwards\",\"Man/slightly_turned/slightly_downwards\",\"Woman/slightly_turned/slightly_downwards\",\"Man/straight/slightly_downwards\",\"Woman/straight/slightly_downwards\",\"Man/sideways/slightly_upwards\",\"Woman/sideways/slightly_upwards\",\"Man/slightly_turned/slightly_upwards\",\"Woman/slightly_turned/slightly_upwards\",\"Man/straight/slightly_upwards\",\"Woman/straight/slightly_upwards\",\"Man/sideways/straight\",\"Woman/sideways/straight\",\"Man/slightly_turned/straight\",\"Woman/slightly_turned/straight\",\"Man/straight/straight\",\"Woman/straight/straight\",\"Man/sideways/upwards\",\"Woman/sideways/upwards\",\"Man/slightly_turned/upwards\",\"Woman/slightly_turned/upwards\",\"Man/straight/upwards\",\"Woman/straight/upwards\",\"Man/sideways\",\"Woman/sideways\",\"Man/slightly_turned\",\"Woman/slightly_turned\",\"Man/straight\",\"Woman/straight\",\"Man/sideways\",\"Woman/sideways\",\"Man/slightly_turned\",\"Woman/slightly_turned\",\"Man/straight\",\"Woman/straight\",\"Man/sideways\",\"Woman/sideways\",\"Man/slightly_turned\",\"Woman/slightly_turned\",\"Man/straight\",\"Woman/straight\",\"Man/sideways\",\"Woman/sideways\",\"Man/slightly_turned\",\"Woman/slightly_turned\",\"Man/straight\",\"Woman/straight\",\"Man/sideways\",\"Woman/sideways\",\"Man/slightly_turned\",\"Woman/slightly_turned\",\"Man/straight\",\"Woman/straight\",\"Man\",\"Woman\",\"Man\",\"Woman\",\"Man\",\"Woman\",\"\",\"\"],\"values\":[28,5,74,11,236,24,40,5,85,10,201,32,29,4,57,13,138,23,58,10,141,14,299,27,7,2,18,7,36,18,9,18,2,45,9,7,23,76,5,3,1,25,61,6,14,34,3,101,5,11,24,2,5,11,2,5,6,7,2,1,1,3,1,4,17,4,11,30,4,64,22,23,35,6,73,17,17,24,5,52,9,19,1,31,7,83,14,3,6,2,22,3,27,85,2,147,3,14,52,112,6,12,48,30,2,51,1,110,1,1,3,23,140,38,383,88,1025,213,176,24,364,71,843,186,108,26,272,67,573,110,264,32,541,93,1131,253,45,7,116,32,257,44,217,43,595,107,1528,273,265,29,565,87,1312,242,163,32,391,85,875,148,386,45,802,118,1741,300,56,9,154,41,366,65,1087,158,2507,438,5822,1028,9416,1624],\"type\":\"sunburst\"}],                        {\"template\":{\"data\":{\"histogram2dcontour\":[{\"type\":\"histogram2dcontour\",\"colorbar\":{\"outlinewidth\":0,\"ticks\":\"\"},\"colorscale\":[[0.0,\"#0d0887\"],[0.1111111111111111,\"#46039f\"],[0.2222222222222222,\"#7201a8\"],[0.3333333333333333,\"#9c179e\"],[0.4444444444444444,\"#bd3786\"],[0.5555555555555556,\"#d8576b\"],[0.6666666666666666,\"#ed7953\"],[0.7777777777777778,\"#fb9f3a\"],[0.8888888888888888,\"#fdca26\"],[1.0,\"#f0f921\"]]}],\"choropleth\":[{\"type\":\"choropleth\",\"colorbar\":{\"outlinewidth\":0,\"ticks\":\"\"}}],\"histogram2d\":[{\"type\":\"histogram2d\",\"colorbar\":{\"outlinewidth\":0,\"ticks\":\"\"},\"colorscale\":[[0.0,\"#0d0887\"],[0.1111111111111111,\"#46039f\"],[0.2222222222222222,\"#7201a8\"],[0.3333333333333333,\"#9c179e\"],[0.4444444444444444,\"#bd3786\"],[0.5555555555555556,\"#d8576b\"],[0.6666666666666666,\"#ed7953\"],[0.7777777777777778,\"#fb9f3a\"],[0.8888888888888888,\"#fdca26\"],[1.0,\"#f0f921\"]]}],\"heatmap\":[{\"type\":\"heatmap\",\"colorbar\":{\"outlinewidth\":0,\"ticks\":\"\"},\"colorscale\":[[0.0,\"#0d0887\"],[0.1111111111111111,\"#46039f\"],[0.2222222222222222,\"#7201a8\"],[0.3333333333333333,\"#9c179e\"],[0.4444444444444444,\"#bd3786\"],[0.5555555555555556,\"#d8576b\"],[0.6666666666666666,\"#ed7953\"],[0.7777777777777778,\"#fb9f3a\"],[0.8888888888888888,\"#fdca26\"],[1.0,\"#f0f921\"]]}],\"heatmapgl\":[{\"type\":\"heatmapgl\",\"colorbar\":{\"outlinewidth\":0,\"ticks\":\"\"},\"colorscale\":[[0.0,\"#0d0887\"],[0.1111111111111111,\"#46039f\"],[0.2222222222222222,\"#7201a8\"],[0.3333333333333333,\"#9c179e\"],[0.4444444444444444,\"#bd3786\"],[0.5555555555555556,\"#d8576b\"],[0.6666666666666666,\"#ed7953\"],[0.7777777777777778,\"#fb9f3a\"],[0.8888888888888888,\"#fdca26\"],[1.0,\"#f0f921\"]]}],\"contourcarpet\":[{\"type\":\"contourcarpet\",\"colorbar\":{\"outlinewidth\":0,\"ticks\":\"\"}}],\"contour\":[{\"type\":\"contour\",\"colorbar\":{\"outlinewidth\":0,\"ticks\":\"\"},\"colorscale\":[[0.0,\"#0d0887\"],[0.1111111111111111,\"#46039f\"],[0.2222222222222222,\"#7201a8\"],[0.3333333333333333,\"#9c179e\"],[0.4444444444444444,\"#bd3786\"],[0.5555555555555556,\"#d8576b\"],[0.6666666666666666,\"#ed7953\"],[0.7777777777777778,\"#fb9f3a\"],[0.8888888888888888,\"#fdca26\"],[1.0,\"#f0f921\"]]}],\"surface\":[{\"type\":\"surface\",\"colorbar\":{\"outlinewidth\":0,\"ticks\":\"\"},\"colorscale\":[[0.0,\"#0d0887\"],[0.1111111111111111,\"#46039f\"],[0.2222222222222222,\"#7201a8\"],[0.3333333333333333,\"#9c179e\"],[0.4444444444444444,\"#bd3786\"],[0.5555555555555556,\"#d8576b\"],[0.6666666666666666,\"#ed7953\"],[0.7777777777777778,\"#fb9f3a\"],[0.8888888888888888,\"#fdca26\"],[1.0,\"#f0f921\"]]}],\"mesh3d\":[{\"type\":\"mesh3d\",\"colorbar\":{\"outlinewidth\":0,\"ticks\":\"\"}}],\"scatter\":[{\"fillpattern\":{\"fillmode\":\"overlay\",\"size\":10,\"solidity\":0.2},\"type\":\"scatter\"}],\"parcoords\":[{\"type\":\"parcoords\",\"line\":{\"colorbar\":{\"outlinewidth\":0,\"ticks\":\"\"}}}],\"scatterpolargl\":[{\"type\":\"scatterpolargl\",\"marker\":{\"colorbar\":{\"outlinewidth\":0,\"ticks\":\"\"}}}],\"bar\":[{\"error_x\":{\"color\":\"#2a3f5f\"},\"error_y\":{\"color\":\"#2a3f5f\"},\"marker\":{\"line\":{\"color\":\"#E5ECF6\",\"width\":0.5},\"pattern\":{\"fillmode\":\"overlay\",\"size\":10,\"solidity\":0.2}},\"type\":\"bar\"}],\"scattergeo\":[{\"type\":\"scattergeo\",\"marker\":{\"colorbar\":{\"outlinewidth\":0,\"ticks\":\"\"}}}],\"scatterpolar\":[{\"type\":\"scatterpolar\",\"marker\":{\"colorbar\":{\"outlinewidth\":0,\"ticks\":\"\"}}}],\"histogram\":[{\"marker\":{\"pattern\":{\"fillmode\":\"overlay\",\"size\":10,\"solidity\":0.2}},\"type\":\"histogram\"}],\"scattergl\":[{\"type\":\"scattergl\",\"marker\":{\"colorbar\":{\"outlinewidth\":0,\"ticks\":\"\"}}}],\"scatter3d\":[{\"type\":\"scatter3d\",\"line\":{\"colorbar\":{\"outlinewidth\":0,\"ticks\":\"\"}},\"marker\":{\"colorbar\":{\"outlinewidth\":0,\"ticks\":\"\"}}}],\"scattermapbox\":[{\"type\":\"scattermapbox\",\"marker\":{\"colorbar\":{\"outlinewidth\":0,\"ticks\":\"\"}}}],\"scatterternary\":[{\"type\":\"scatterternary\",\"marker\":{\"colorbar\":{\"outlinewidth\":0,\"ticks\":\"\"}}}],\"scattercarpet\":[{\"type\":\"scattercarpet\",\"marker\":{\"colorbar\":{\"outlinewidth\":0,\"ticks\":\"\"}}}],\"carpet\":[{\"aaxis\":{\"endlinecolor\":\"#2a3f5f\",\"gridcolor\":\"white\",\"linecolor\":\"white\",\"minorgridcolor\":\"white\",\"startlinecolor\":\"#2a3f5f\"},\"baxis\":{\"endlinecolor\":\"#2a3f5f\",\"gridcolor\":\"white\",\"linecolor\":\"white\",\"minorgridcolor\":\"white\",\"startlinecolor\":\"#2a3f5f\"},\"type\":\"carpet\"}],\"table\":[{\"cells\":{\"fill\":{\"color\":\"#EBF0F8\"},\"line\":{\"color\":\"white\"}},\"header\":{\"fill\":{\"color\":\"#C8D4E3\"},\"line\":{\"color\":\"white\"}},\"type\":\"table\"}],\"barpolar\":[{\"marker\":{\"line\":{\"color\":\"#E5ECF6\",\"width\":0.5},\"pattern\":{\"fillmode\":\"overlay\",\"size\":10,\"solidity\":0.2}},\"type\":\"barpolar\"}],\"pie\":[{\"automargin\":true,\"type\":\"pie\"}]},\"layout\":{\"autotypenumbers\":\"strict\",\"colorway\":[\"#636efa\",\"#EF553B\",\"#00cc96\",\"#ab63fa\",\"#FFA15A\",\"#19d3f3\",\"#FF6692\",\"#B6E880\",\"#FF97FF\",\"#FECB52\"],\"font\":{\"color\":\"#2a3f5f\"},\"hovermode\":\"closest\",\"hoverlabel\":{\"align\":\"left\"},\"paper_bgcolor\":\"white\",\"plot_bgcolor\":\"#E5ECF6\",\"polar\":{\"bgcolor\":\"#E5ECF6\",\"angularaxis\":{\"gridcolor\":\"white\",\"linecolor\":\"white\",\"ticks\":\"\"},\"radialaxis\":{\"gridcolor\":\"white\",\"linecolor\":\"white\",\"ticks\":\"\"}},\"ternary\":{\"bgcolor\":\"#E5ECF6\",\"aaxis\":{\"gridcolor\":\"white\",\"linecolor\":\"white\",\"ticks\":\"\"},\"baxis\":{\"gridcolor\":\"white\",\"linecolor\":\"white\",\"ticks\":\"\"},\"caxis\":{\"gridcolor\":\"white\",\"linecolor\":\"white\",\"ticks\":\"\"}},\"coloraxis\":{\"colorbar\":{\"outlinewidth\":0,\"ticks\":\"\"}},\"colorscale\":{\"sequential\":[[0.0,\"#0d0887\"],[0.1111111111111111,\"#46039f\"],[0.2222222222222222,\"#7201a8\"],[0.3333333333333333,\"#9c179e\"],[0.4444444444444444,\"#bd3786\"],[0.5555555555555556,\"#d8576b\"],[0.6666666666666666,\"#ed7953\"],[0.7777777777777778,\"#fb9f3a\"],[0.8888888888888888,\"#fdca26\"],[1.0,\"#f0f921\"]],\"sequentialminus\":[[0.0,\"#0d0887\"],[0.1111111111111111,\"#46039f\"],[0.2222222222222222,\"#7201a8\"],[0.3333333333333333,\"#9c179e\"],[0.4444444444444444,\"#bd3786\"],[0.5555555555555556,\"#d8576b\"],[0.6666666666666666,\"#ed7953\"],[0.7777777777777778,\"#fb9f3a\"],[0.8888888888888888,\"#fdca26\"],[1.0,\"#f0f921\"]],\"diverging\":[[0,\"#8e0152\"],[0.1,\"#c51b7d\"],[0.2,\"#de77ae\"],[0.3,\"#f1b6da\"],[0.4,\"#fde0ef\"],[0.5,\"#f7f7f7\"],[0.6,\"#e6f5d0\"],[0.7,\"#b8e186\"],[0.8,\"#7fbc41\"],[0.9,\"#4d9221\"],[1,\"#276419\"]]},\"xaxis\":{\"gridcolor\":\"white\",\"linecolor\":\"white\",\"ticks\":\"\",\"title\":{\"standoff\":15},\"zerolinecolor\":\"white\",\"automargin\":true,\"zerolinewidth\":2},\"yaxis\":{\"gridcolor\":\"white\",\"linecolor\":\"white\",\"ticks\":\"\",\"title\":{\"standoff\":15},\"zerolinecolor\":\"white\",\"automargin\":true,\"zerolinewidth\":2},\"scene\":{\"xaxis\":{\"backgroundcolor\":\"#E5ECF6\",\"gridcolor\":\"white\",\"linecolor\":\"white\",\"showbackground\":true,\"ticks\":\"\",\"zerolinecolor\":\"white\",\"gridwidth\":2},\"yaxis\":{\"backgroundcolor\":\"#E5ECF6\",\"gridcolor\":\"white\",\"linecolor\":\"white\",\"showbackground\":true,\"ticks\":\"\",\"zerolinecolor\":\"white\",\"gridwidth\":2},\"zaxis\":{\"backgroundcolor\":\"#E5ECF6\",\"gridcolor\":\"white\",\"linecolor\":\"white\",\"showbackground\":true,\"ticks\":\"\",\"zerolinecolor\":\"white\",\"gridwidth\":2}},\"shapedefaults\":{\"line\":{\"color\":\"#2a3f5f\"}},\"annotationdefaults\":{\"arrowcolor\":\"#2a3f5f\",\"arrowhead\":0,\"arrowwidth\":1},\"geo\":{\"bgcolor\":\"white\",\"landcolor\":\"#E5ECF6\",\"subunitcolor\":\"white\",\"showland\":true,\"showlakes\":true,\"lakecolor\":\"white\"},\"title\":{\"x\":0.05},\"mapbox\":{\"style\":\"light\"}}},\"coloraxis\":{\"colorbar\":{\"title\":{\"text\":\"Quality\"}},\"colorscale\":[[0.0,\"#440154\"],[0.1111111111111111,\"#482878\"],[0.2222222222222222,\"#3e4989\"],[0.3333333333333333,\"#31688e\"],[0.4444444444444444,\"#26828e\"],[0.5555555555555556,\"#1f9e89\"],[0.6666666666666666,\"#35b779\"],[0.7777777777777778,\"#6ece58\"],[0.8888888888888888,\"#b5de2b\"],[1.0,\"#fde725\"]],\"cmin\":0,\"cmax\":1},\"legend\":{\"tracegroupgap\":0},\"title\":{\"text\":\"XQLFW, Model QMagFace\"}},                        {\"responsive\": true}                    ).then(function(){\n",
       "                            \n",
       "var gd = document.getElementById('2de2e680-ea85-4809-b76e-0100bcbad774');\n",
       "var x = new MutationObserver(function (mutations, observer) {{\n",
       "        var display = window.getComputedStyle(gd).display;\n",
       "        if (!display || display === 'none') {{\n",
       "            console.log([gd, 'removed!']);\n",
       "            Plotly.purge(gd);\n",
       "            observer.disconnect();\n",
       "        }}\n",
       "}});\n",
       "\n",
       "// Listen for the removal of the full notebook cells\n",
       "var notebookContainer = gd.closest('#notebook-container');\n",
       "if (notebookContainer) {{\n",
       "    x.observe(notebookContainer, {childList: true});\n",
       "}}\n",
       "\n",
       "// Listen for the clearing of the current output cell\n",
       "var outputEl = gd.closest('.output');\n",
       "if (outputEl) {{\n",
       "    x.observe(outputEl, {childList: true});\n",
       "}}\n",
       "\n",
       "                        })                };                });            </script>        </div>"
      ]
     },
     "metadata": {},
     "output_type": "display_data"
    },
    {
     "data": {
      "application/vnd.plotly.v1+json": {
       "config": {
        "plotlyServerURL": "https://plot.ly"
       },
       "data": [
        {
         "branchvalues": "total",
         "customdata": [
          [
           0.5907928660197748
          ],
          [
           0.35845760334565363
          ],
          [
           0.6304672448585957
          ],
          [
           0.5583888927564747
          ],
          [
           0.6557967256044179
          ],
          [
           0.6487152466848808
          ],
          [
           0.6173031166440289
          ],
          [
           0.6433832518330822
          ],
          [
           0.6153919275963409
          ],
          [
           0.5688591294243103
          ],
          [
           0.6615008440696243
          ],
          [
           0.5567751644532781
          ],
          [
           0.6002246794927855
          ],
          [
           0.7051790765843928
          ],
          [
           0.6525377312953343
          ],
          [
           0.6371641079206779
          ],
          [
           0.6147001208050552
          ],
          [
           0.6711594666581506
          ],
          [
           0.5677202027070046
          ],
          [
           0.6149971753438224
          ],
          [
           0.6185459830697762
          ],
          [
           0.5617487578032765
          ],
          [
           0.6525377265871876
          ],
          [
           0.5803516938982182
          ],
          [
           0.5313097389401434
          ],
          [
           0.699745028634872
          ],
          [
           0.6389807306464989
          ],
          [
           0.5512606821474362
          ],
          [
           0.6634141843714725
          ],
          [
           0.6473648018879947
          ],
          [
           0.5279220591282816
          ],
          [
           0.6117688920236997
          ],
          [
           0.4597165830715385
          ],
          [
           0.6287024305483891
          ],
          [
           0.6241136987262913
          ],
          [
           0.5274595901916308
          ],
          [
           0.5996786294944585
          ],
          [
           0.6661372797144858
          ],
          [
           0.6504367537095963
          ],
          [
           0.6005672039837539
          ],
          [
           0.5399882180948329
          ],
          [
           0.5901824102212008
          ],
          [
           0.585495999331354
          ],
          [
           0.518067782788698
          ],
          [
           0.5259149752314446
          ],
          [
           0.5848786503916968
          ],
          [
           0.559983189132271
          ],
          [
           0.6220221732299811
          ],
          [
           0.558762926297512
          ],
          [
           0.5884085158335579
          ],
          [
           0.604368886650002
          ],
          [
           0.3443117446146792
          ],
          [
           0.7174266657903285
          ],
          [
           0.653485330105426
          ],
          [
           0.7132456053244117
          ],
          [
           0.6940624442365897
          ],
          [
           0.6428774483332728
          ],
          [
           0.7121393569123977
          ],
          [
           0.8187199934464895
          ],
          [
           0.6459302756846343
          ],
          [
           0.6120798605063871
          ],
          [
           0.734504931608968
          ],
          [
           0.5246126889701165
          ],
          [
           0.6565792736472099
          ],
          [
           0.6640762687839155
          ],
          [
           0.666480978103765
          ],
          [
           0.626775723700518
          ],
          [
           0.7135570886521895
          ],
          [
           0.7185649828548847
          ],
          [
           0.7390966082590069
          ],
          [
           0.659227846082213
          ],
          [
           0.6238819300334486
          ],
          [
           0.6639266883593317
          ],
          [
           0.643608963557398
          ],
          [
           0.718724594222977
          ],
          [
           0.6591829240223659
          ],
          [
           0.6587764991703949
          ],
          [
           0.6412404523988418
          ],
          [
           0.47647958385126304
          ],
          [
           0.7228406434468334
          ],
          [
           0.6964130413912399
          ],
          [
           0.617992028843722
          ],
          [
           0.8224587704282765
          ],
          [
           0.7033736987878328
          ],
          [
           0.6837918392341553
          ],
          [
           0.7014236845534599
          ],
          [
           0.617989663243718
          ],
          [
           0.6450649206904796
          ],
          [
           0.736859691034012
          ],
          [
           0.7965064916651445
          ],
          [
           0.7380093767670196
          ],
          [
           0.7133341889292723
          ],
          [
           0.6648225359069669
          ],
          [
           0.7074943465681934
          ],
          [
           0.72036797767707
          ],
          [
           0.7026689832152516
          ],
          [
           0.7407987301057134
          ],
          [
           0.6246818800264486
          ],
          [
           0.662040280346237
          ],
          [
           0.7264694074961786
          ],
          [
           0.684456335668886
          ],
          [
           0.7683162346936562
          ],
          [
           0.7145058391328876
          ],
          [
           0.6024834570027975
          ],
          [
           0.7303068310233773
          ],
          [
           0.6741447901537585
          ],
          [
           0.7190192635622309
          ],
          [
           0.6747594505168569
          ],
          [
           0.6543845415109806
          ],
          [
           0.6895789564208138
          ],
          [
           0.8064462899444217
          ],
          [
           0.733242307303455
          ],
          [
           0.6383606710039286
          ],
          [
           0.6445668973734452
          ],
          [
           0.6987655794937827
          ],
          [
           0.7215879645328983
          ],
          [
           0.7159936722101202
          ],
          [
           0.7112272121527882
          ],
          [
           0.6700346625910464
          ],
          [
           0.6648798187141017
          ],
          [
           0.6885684634539884
          ],
          [
           0.6690101322587954
          ],
          [
           0.711517762457516
          ],
          [
           0.6763189285799247
          ],
          [
           0.6514822197356359
          ],
          [
           0.6243131858799108
          ],
          [
           0.7038143088409027
          ],
          [
           0.6750203335242136
          ],
          [
           0.7032344670325044
          ],
          [
           0.6336664008051559
          ],
          [
           0.6590062742204211
          ],
          [
           0.6398762355358925
          ],
          [
           0.6852937241531143
          ],
          [
           0.6825409508482447
          ],
          [
           0.70062548349225
          ],
          [
           0.6582216662773431
          ],
          [
           0.6421337995297232
          ],
          [
           0.6453242190708671
          ],
          [
           0.677665318289095
          ],
          [
           0.6601607738199994
          ],
          [
           0.7099590766071443
          ],
          [
           0.6742100672526665
          ],
          [
           0.6276375928142
          ],
          [
           0.611298374812074
          ],
          [
           0.6897890732250339
          ],
          [
           0.6997798855339534
          ],
          [
           0.7033612648724291
          ],
          [
           0.6990091040743307
          ],
          [
           0.6523606994167898
          ],
          [
           0.6611735140794432
          ],
          [
           0.6694878520033519
          ],
          [
           0.6557467179995629
          ],
          [
           0.702907028341629
          ],
          [
           0.6599498324057523
          ],
          [
           0.6434002180895751
          ],
          [
           0.632461801031085
          ],
          [
           0.686977873346527
          ],
          [
           0.6575516902158522
          ],
          [
           0.6829539780255726
          ],
          [
           0.6386222695334997
          ],
          [
           0.6337025978018717
          ],
          [
           0.642424082734707
          ],
          [
           0.6691484395858408
          ],
          [
           0.6654771418960235
          ],
          [
           0.685853787202556
          ],
          [
           0.6476654392061011
          ],
          [
           0.6292850512484071
          ],
          [
           0.6574177323073127
          ],
          [
           0.6715832517102498
          ],
          [
           0.6482190858683493
          ],
          [
           0.7011310105854592
          ],
          [
           0.6685817224598315
          ],
          [
           0.6382671059394339
          ],
          [
           0.6362309048863631
          ],
          [
           0.6770539899244131
          ],
          [
           0.6687707560519989
          ],
          [
           0.694816241510751
          ],
          [
           0.6642129226334258
          ],
          [
           0.6835589268237321
          ],
          [
           0.6627198020874279
          ]
         ],
         "domain": {
          "x": [
           0,
           1
          ],
          "y": [
           0,
           1
          ]
         },
         "hovertemplate": "labels=%{label}<br>count=%{value}<br>parent=%{parent}<br>id=%{id}<br>Quality=%{color}<extra></extra>",
         "ids": [
          "Man/sideways/downwards/asian",
          "Woman/sideways/downwards/asian",
          "Man/slightly_turned/downwards/asian",
          "Woman/slightly_turned/downwards/asian",
          "Man/straight/downwards/asian",
          "Woman/straight/downwards/asian",
          "Man/sideways/slightly_downwards/asian",
          "Woman/sideways/slightly_downwards/asian",
          "Man/slightly_turned/slightly_downwards/asian",
          "Woman/slightly_turned/slightly_downwards/asian",
          "Man/straight/slightly_downwards/asian",
          "Woman/straight/slightly_downwards/asian",
          "Man/sideways/slightly_upwards/asian",
          "Woman/sideways/slightly_upwards/asian",
          "Man/slightly_turned/slightly_upwards/asian",
          "Woman/slightly_turned/slightly_upwards/asian",
          "Man/straight/slightly_upwards/asian",
          "Woman/straight/slightly_upwards/asian",
          "Man/sideways/straight/asian",
          "Woman/sideways/straight/asian",
          "Man/slightly_turned/straight/asian",
          "Woman/slightly_turned/straight/asian",
          "Man/straight/straight/asian",
          "Woman/straight/straight/asian",
          "Man/sideways/upwards/asian",
          "Woman/sideways/upwards/asian",
          "Man/slightly_turned/upwards/asian",
          "Woman/slightly_turned/upwards/asian",
          "Man/straight/upwards/asian",
          "Woman/straight/upwards/asian",
          "Man/sideways/downwards/black",
          "Man/slightly_turned/downwards/black",
          "Woman/slightly_turned/downwards/black",
          "Man/straight/downwards/black",
          "Woman/straight/downwards/black",
          "Man/sideways/slightly_downwards/black",
          "Man/slightly_turned/slightly_downwards/black",
          "Man/straight/slightly_downwards/black",
          "Woman/straight/slightly_downwards/black",
          "Man/sideways/slightly_upwards/black",
          "Woman/sideways/slightly_upwards/black",
          "Man/slightly_turned/slightly_upwards/black",
          "Man/straight/slightly_upwards/black",
          "Woman/straight/slightly_upwards/black",
          "Man/sideways/straight/black",
          "Man/slightly_turned/straight/black",
          "Woman/slightly_turned/straight/black",
          "Man/straight/straight/black",
          "Woman/straight/straight/black",
          "Man/slightly_turned/upwards/black",
          "Man/straight/upwards/black",
          "Man/sideways/downwards/indian",
          "Man/slightly_turned/downwards/indian",
          "Man/straight/downwards/indian",
          "Woman/straight/downwards/indian",
          "Man/sideways/slightly_downwards/indian",
          "Man/slightly_turned/slightly_downwards/indian",
          "Man/straight/slightly_downwards/indian",
          "Woman/straight/slightly_downwards/indian",
          "Woman/sideways/slightly_upwards/indian",
          "Man/slightly_turned/slightly_upwards/indian",
          "Man/straight/slightly_upwards/indian",
          "Man/sideways/straight/indian",
          "Man/slightly_turned/straight/indian",
          "Man/straight/straight/indian",
          "Man/straight/upwards/indian",
          "Man/sideways/downwards/latino hispanic",
          "Man/slightly_turned/downwards/latino hispanic",
          "Woman/slightly_turned/downwards/latino hispanic",
          "Man/straight/downwards/latino hispanic",
          "Woman/straight/downwards/latino hispanic",
          "Man/sideways/slightly_downwards/latino hispanic",
          "Man/slightly_turned/slightly_downwards/latino hispanic",
          "Woman/slightly_turned/slightly_downwards/latino hispanic",
          "Man/straight/slightly_downwards/latino hispanic",
          "Woman/straight/slightly_downwards/latino hispanic",
          "Man/sideways/slightly_upwards/latino hispanic",
          "Man/slightly_turned/slightly_upwards/latino hispanic",
          "Woman/slightly_turned/slightly_upwards/latino hispanic",
          "Man/straight/slightly_upwards/latino hispanic",
          "Woman/straight/slightly_upwards/latino hispanic",
          "Man/sideways/straight/latino hispanic",
          "Woman/sideways/straight/latino hispanic",
          "Man/slightly_turned/straight/latino hispanic",
          "Woman/slightly_turned/straight/latino hispanic",
          "Man/straight/straight/latino hispanic",
          "Woman/straight/straight/latino hispanic",
          "Man/sideways/upwards/latino hispanic",
          "Man/slightly_turned/upwards/latino hispanic",
          "Woman/slightly_turned/upwards/latino hispanic",
          "Man/straight/upwards/latino hispanic",
          "Woman/straight/upwards/latino hispanic",
          "Man/sideways/downwards/middle eastern",
          "Man/slightly_turned/downwards/middle eastern",
          "Woman/slightly_turned/downwards/middle eastern",
          "Man/straight/downwards/middle eastern",
          "Woman/straight/downwards/middle eastern",
          "Man/sideways/slightly_downwards/middle eastern",
          "Man/slightly_turned/slightly_downwards/middle eastern",
          "Man/straight/slightly_downwards/middle eastern",
          "Man/sideways/slightly_upwards/middle eastern",
          "Man/slightly_turned/slightly_upwards/middle eastern",
          "Man/straight/slightly_upwards/middle eastern",
          "Man/sideways/straight/middle eastern",
          "Woman/sideways/straight/middle eastern",
          "Man/slightly_turned/straight/middle eastern",
          "Woman/slightly_turned/straight/middle eastern",
          "Man/straight/straight/middle eastern",
          "Woman/straight/straight/middle eastern",
          "Man/sideways/upwards/middle eastern",
          "Man/slightly_turned/upwards/middle eastern",
          "Man/straight/upwards/middle eastern",
          "Man/sideways/downwards/white",
          "Woman/sideways/downwards/white",
          "Man/slightly_turned/downwards/white",
          "Woman/slightly_turned/downwards/white",
          "Man/straight/downwards/white",
          "Woman/straight/downwards/white",
          "Man/sideways/slightly_downwards/white",
          "Woman/sideways/slightly_downwards/white",
          "Man/slightly_turned/slightly_downwards/white",
          "Woman/slightly_turned/slightly_downwards/white",
          "Man/straight/slightly_downwards/white",
          "Woman/straight/slightly_downwards/white",
          "Man/sideways/slightly_upwards/white",
          "Woman/sideways/slightly_upwards/white",
          "Man/slightly_turned/slightly_upwards/white",
          "Woman/slightly_turned/slightly_upwards/white",
          "Man/straight/slightly_upwards/white",
          "Woman/straight/slightly_upwards/white",
          "Man/sideways/straight/white",
          "Woman/sideways/straight/white",
          "Man/slightly_turned/straight/white",
          "Woman/slightly_turned/straight/white",
          "Man/straight/straight/white",
          "Woman/straight/straight/white",
          "Man/sideways/upwards/white",
          "Woman/sideways/upwards/white",
          "Man/slightly_turned/upwards/white",
          "Woman/slightly_turned/upwards/white",
          "Man/straight/upwards/white",
          "Woman/straight/upwards/white",
          "Man/sideways/downwards",
          "Woman/sideways/downwards",
          "Man/slightly_turned/downwards",
          "Woman/slightly_turned/downwards",
          "Man/straight/downwards",
          "Woman/straight/downwards",
          "Man/sideways/slightly_downwards",
          "Woman/sideways/slightly_downwards",
          "Man/slightly_turned/slightly_downwards",
          "Woman/slightly_turned/slightly_downwards",
          "Man/straight/slightly_downwards",
          "Woman/straight/slightly_downwards",
          "Man/sideways/slightly_upwards",
          "Woman/sideways/slightly_upwards",
          "Man/slightly_turned/slightly_upwards",
          "Woman/slightly_turned/slightly_upwards",
          "Man/straight/slightly_upwards",
          "Woman/straight/slightly_upwards",
          "Man/sideways/straight",
          "Woman/sideways/straight",
          "Man/slightly_turned/straight",
          "Woman/slightly_turned/straight",
          "Man/straight/straight",
          "Woman/straight/straight",
          "Man/sideways/upwards",
          "Woman/sideways/upwards",
          "Man/slightly_turned/upwards",
          "Woman/slightly_turned/upwards",
          "Man/straight/upwards",
          "Woman/straight/upwards",
          "Man/sideways",
          "Woman/sideways",
          "Man/slightly_turned",
          "Woman/slightly_turned",
          "Man/straight",
          "Woman/straight",
          "Man",
          "Woman"
         ],
         "labels": [
          "asian",
          "asian",
          "asian",
          "asian",
          "asian",
          "asian",
          "asian",
          "asian",
          "asian",
          "asian",
          "asian",
          "asian",
          "asian",
          "asian",
          "asian",
          "asian",
          "asian",
          "asian",
          "asian",
          "asian",
          "asian",
          "asian",
          "asian",
          "asian",
          "asian",
          "asian",
          "asian",
          "asian",
          "asian",
          "asian",
          "black",
          "black",
          "black",
          "black",
          "black",
          "black",
          "black",
          "black",
          "black",
          "black",
          "black",
          "black",
          "black",
          "black",
          "black",
          "black",
          "black",
          "black",
          "black",
          "black",
          "black",
          "indian",
          "indian",
          "indian",
          "indian",
          "indian",
          "indian",
          "indian",
          "indian",
          "indian",
          "indian",
          "indian",
          "indian",
          "indian",
          "indian",
          "indian",
          "latino hispanic",
          "latino hispanic",
          "latino hispanic",
          "latino hispanic",
          "latino hispanic",
          "latino hispanic",
          "latino hispanic",
          "latino hispanic",
          "latino hispanic",
          "latino hispanic",
          "latino hispanic",
          "latino hispanic",
          "latino hispanic",
          "latino hispanic",
          "latino hispanic",
          "latino hispanic",
          "latino hispanic",
          "latino hispanic",
          "latino hispanic",
          "latino hispanic",
          "latino hispanic",
          "latino hispanic",
          "latino hispanic",
          "latino hispanic",
          "latino hispanic",
          "latino hispanic",
          "middle eastern",
          "middle eastern",
          "middle eastern",
          "middle eastern",
          "middle eastern",
          "middle eastern",
          "middle eastern",
          "middle eastern",
          "middle eastern",
          "middle eastern",
          "middle eastern",
          "middle eastern",
          "middle eastern",
          "middle eastern",
          "middle eastern",
          "middle eastern",
          "middle eastern",
          "middle eastern",
          "middle eastern",
          "middle eastern",
          "white",
          "white",
          "white",
          "white",
          "white",
          "white",
          "white",
          "white",
          "white",
          "white",
          "white",
          "white",
          "white",
          "white",
          "white",
          "white",
          "white",
          "white",
          "white",
          "white",
          "white",
          "white",
          "white",
          "white",
          "white",
          "white",
          "white",
          "white",
          "white",
          "white",
          "downwards",
          "downwards",
          "downwards",
          "downwards",
          "downwards",
          "downwards",
          "slightly_downwards",
          "slightly_downwards",
          "slightly_downwards",
          "slightly_downwards",
          "slightly_downwards",
          "slightly_downwards",
          "slightly_upwards",
          "slightly_upwards",
          "slightly_upwards",
          "slightly_upwards",
          "slightly_upwards",
          "slightly_upwards",
          "straight",
          "straight",
          "straight",
          "straight",
          "straight",
          "straight",
          "upwards",
          "upwards",
          "upwards",
          "upwards",
          "upwards",
          "upwards",
          "sideways",
          "sideways",
          "slightly_turned",
          "slightly_turned",
          "straight",
          "straight",
          "Man",
          "Woman"
         ],
         "marker": {
          "coloraxis": "coloraxis",
          "colors": [
           0.5907928660197748,
           0.35845760334565363,
           0.6304672448585957,
           0.5583888927564747,
           0.6557967256044179,
           0.6487152466848808,
           0.6173031166440289,
           0.6433832518330822,
           0.6153919275963409,
           0.5688591294243103,
           0.6615008440696243,
           0.5567751644532781,
           0.6002246794927855,
           0.7051790765843928,
           0.6525377312953343,
           0.6371641079206779,
           0.6147001208050552,
           0.6711594666581506,
           0.5677202027070046,
           0.6149971753438224,
           0.6185459830697762,
           0.5617487578032765,
           0.6525377265871876,
           0.5803516938982182,
           0.5313097389401434,
           0.699745028634872,
           0.6389807306464989,
           0.5512606821474362,
           0.6634141843714725,
           0.6473648018879947,
           0.5279220591282816,
           0.6117688920236997,
           0.4597165830715385,
           0.6287024305483891,
           0.6241136987262913,
           0.5274595901916308,
           0.5996786294944585,
           0.6661372797144858,
           0.6504367537095963,
           0.6005672039837539,
           0.5399882180948329,
           0.5901824102212008,
           0.585495999331354,
           0.518067782788698,
           0.5259149752314446,
           0.5848786503916968,
           0.559983189132271,
           0.6220221732299811,
           0.558762926297512,
           0.5884085158335579,
           0.604368886650002,
           0.3443117446146792,
           0.7174266657903285,
           0.653485330105426,
           0.7132456053244117,
           0.6940624442365897,
           0.6428774483332728,
           0.7121393569123977,
           0.8187199934464895,
           0.6459302756846343,
           0.6120798605063871,
           0.734504931608968,
           0.5246126889701165,
           0.6565792736472099,
           0.6640762687839155,
           0.666480978103765,
           0.626775723700518,
           0.7135570886521895,
           0.7185649828548847,
           0.7390966082590069,
           0.659227846082213,
           0.6238819300334486,
           0.6639266883593317,
           0.643608963557398,
           0.718724594222977,
           0.6591829240223659,
           0.6587764991703949,
           0.6412404523988418,
           0.47647958385126304,
           0.7228406434468334,
           0.6964130413912399,
           0.617992028843722,
           0.8224587704282765,
           0.7033736987878328,
           0.6837918392341553,
           0.7014236845534599,
           0.617989663243718,
           0.6450649206904796,
           0.736859691034012,
           0.7965064916651445,
           0.7380093767670196,
           0.7133341889292723,
           0.6648225359069669,
           0.7074943465681934,
           0.72036797767707,
           0.7026689832152516,
           0.7407987301057134,
           0.6246818800264486,
           0.662040280346237,
           0.7264694074961786,
           0.684456335668886,
           0.7683162346936562,
           0.7145058391328876,
           0.6024834570027975,
           0.7303068310233773,
           0.6741447901537585,
           0.7190192635622309,
           0.6747594505168569,
           0.6543845415109806,
           0.6895789564208138,
           0.8064462899444217,
           0.733242307303455,
           0.6383606710039286,
           0.6445668973734452,
           0.6987655794937827,
           0.7215879645328983,
           0.7159936722101202,
           0.7112272121527882,
           0.6700346625910464,
           0.6648798187141017,
           0.6885684634539884,
           0.6690101322587954,
           0.711517762457516,
           0.6763189285799247,
           0.6514822197356359,
           0.6243131858799108,
           0.7038143088409027,
           0.6750203335242136,
           0.7032344670325044,
           0.6336664008051559,
           0.6590062742204211,
           0.6398762355358925,
           0.6852937241531143,
           0.6825409508482447,
           0.70062548349225,
           0.6582216662773431,
           0.6421337995297232,
           0.6453242190708671,
           0.677665318289095,
           0.6601607738199994,
           0.7099590766071443,
           0.6742100672526665,
           0.6276375928142,
           0.611298374812074,
           0.6897890732250339,
           0.6997798855339534,
           0.7033612648724291,
           0.6990091040743307,
           0.6523606994167898,
           0.6611735140794432,
           0.6694878520033519,
           0.6557467179995629,
           0.702907028341629,
           0.6599498324057523,
           0.6434002180895751,
           0.632461801031085,
           0.686977873346527,
           0.6575516902158522,
           0.6829539780255726,
           0.6386222695334997,
           0.6337025978018717,
           0.642424082734707,
           0.6691484395858408,
           0.6654771418960235,
           0.685853787202556,
           0.6476654392061011,
           0.6292850512484071,
           0.6574177323073127,
           0.6715832517102498,
           0.6482190858683493,
           0.7011310105854592,
           0.6685817224598315,
           0.6382671059394339,
           0.6362309048863631,
           0.6770539899244131,
           0.6687707560519989,
           0.694816241510751,
           0.6642129226334258,
           0.6835589268237321,
           0.6627198020874279
          ]
         },
         "name": "",
         "parents": [
          "Man/sideways/downwards",
          "Woman/sideways/downwards",
          "Man/slightly_turned/downwards",
          "Woman/slightly_turned/downwards",
          "Man/straight/downwards",
          "Woman/straight/downwards",
          "Man/sideways/slightly_downwards",
          "Woman/sideways/slightly_downwards",
          "Man/slightly_turned/slightly_downwards",
          "Woman/slightly_turned/slightly_downwards",
          "Man/straight/slightly_downwards",
          "Woman/straight/slightly_downwards",
          "Man/sideways/slightly_upwards",
          "Woman/sideways/slightly_upwards",
          "Man/slightly_turned/slightly_upwards",
          "Woman/slightly_turned/slightly_upwards",
          "Man/straight/slightly_upwards",
          "Woman/straight/slightly_upwards",
          "Man/sideways/straight",
          "Woman/sideways/straight",
          "Man/slightly_turned/straight",
          "Woman/slightly_turned/straight",
          "Man/straight/straight",
          "Woman/straight/straight",
          "Man/sideways/upwards",
          "Woman/sideways/upwards",
          "Man/slightly_turned/upwards",
          "Woman/slightly_turned/upwards",
          "Man/straight/upwards",
          "Woman/straight/upwards",
          "Man/sideways/downwards",
          "Man/slightly_turned/downwards",
          "Woman/slightly_turned/downwards",
          "Man/straight/downwards",
          "Woman/straight/downwards",
          "Man/sideways/slightly_downwards",
          "Man/slightly_turned/slightly_downwards",
          "Man/straight/slightly_downwards",
          "Woman/straight/slightly_downwards",
          "Man/sideways/slightly_upwards",
          "Woman/sideways/slightly_upwards",
          "Man/slightly_turned/slightly_upwards",
          "Man/straight/slightly_upwards",
          "Woman/straight/slightly_upwards",
          "Man/sideways/straight",
          "Man/slightly_turned/straight",
          "Woman/slightly_turned/straight",
          "Man/straight/straight",
          "Woman/straight/straight",
          "Man/slightly_turned/upwards",
          "Man/straight/upwards",
          "Man/sideways/downwards",
          "Man/slightly_turned/downwards",
          "Man/straight/downwards",
          "Woman/straight/downwards",
          "Man/sideways/slightly_downwards",
          "Man/slightly_turned/slightly_downwards",
          "Man/straight/slightly_downwards",
          "Woman/straight/slightly_downwards",
          "Woman/sideways/slightly_upwards",
          "Man/slightly_turned/slightly_upwards",
          "Man/straight/slightly_upwards",
          "Man/sideways/straight",
          "Man/slightly_turned/straight",
          "Man/straight/straight",
          "Man/straight/upwards",
          "Man/sideways/downwards",
          "Man/slightly_turned/downwards",
          "Woman/slightly_turned/downwards",
          "Man/straight/downwards",
          "Woman/straight/downwards",
          "Man/sideways/slightly_downwards",
          "Man/slightly_turned/slightly_downwards",
          "Woman/slightly_turned/slightly_downwards",
          "Man/straight/slightly_downwards",
          "Woman/straight/slightly_downwards",
          "Man/sideways/slightly_upwards",
          "Man/slightly_turned/slightly_upwards",
          "Woman/slightly_turned/slightly_upwards",
          "Man/straight/slightly_upwards",
          "Woman/straight/slightly_upwards",
          "Man/sideways/straight",
          "Woman/sideways/straight",
          "Man/slightly_turned/straight",
          "Woman/slightly_turned/straight",
          "Man/straight/straight",
          "Woman/straight/straight",
          "Man/sideways/upwards",
          "Man/slightly_turned/upwards",
          "Woman/slightly_turned/upwards",
          "Man/straight/upwards",
          "Woman/straight/upwards",
          "Man/sideways/downwards",
          "Man/slightly_turned/downwards",
          "Woman/slightly_turned/downwards",
          "Man/straight/downwards",
          "Woman/straight/downwards",
          "Man/sideways/slightly_downwards",
          "Man/slightly_turned/slightly_downwards",
          "Man/straight/slightly_downwards",
          "Man/sideways/slightly_upwards",
          "Man/slightly_turned/slightly_upwards",
          "Man/straight/slightly_upwards",
          "Man/sideways/straight",
          "Woman/sideways/straight",
          "Man/slightly_turned/straight",
          "Woman/slightly_turned/straight",
          "Man/straight/straight",
          "Woman/straight/straight",
          "Man/sideways/upwards",
          "Man/slightly_turned/upwards",
          "Man/straight/upwards",
          "Man/sideways/downwards",
          "Woman/sideways/downwards",
          "Man/slightly_turned/downwards",
          "Woman/slightly_turned/downwards",
          "Man/straight/downwards",
          "Woman/straight/downwards",
          "Man/sideways/slightly_downwards",
          "Woman/sideways/slightly_downwards",
          "Man/slightly_turned/slightly_downwards",
          "Woman/slightly_turned/slightly_downwards",
          "Man/straight/slightly_downwards",
          "Woman/straight/slightly_downwards",
          "Man/sideways/slightly_upwards",
          "Woman/sideways/slightly_upwards",
          "Man/slightly_turned/slightly_upwards",
          "Woman/slightly_turned/slightly_upwards",
          "Man/straight/slightly_upwards",
          "Woman/straight/slightly_upwards",
          "Man/sideways/straight",
          "Woman/sideways/straight",
          "Man/slightly_turned/straight",
          "Woman/slightly_turned/straight",
          "Man/straight/straight",
          "Woman/straight/straight",
          "Man/sideways/upwards",
          "Woman/sideways/upwards",
          "Man/slightly_turned/upwards",
          "Woman/slightly_turned/upwards",
          "Man/straight/upwards",
          "Woman/straight/upwards",
          "Man/sideways",
          "Woman/sideways",
          "Man/slightly_turned",
          "Woman/slightly_turned",
          "Man/straight",
          "Woman/straight",
          "Man/sideways",
          "Woman/sideways",
          "Man/slightly_turned",
          "Woman/slightly_turned",
          "Man/straight",
          "Woman/straight",
          "Man/sideways",
          "Woman/sideways",
          "Man/slightly_turned",
          "Woman/slightly_turned",
          "Man/straight",
          "Woman/straight",
          "Man/sideways",
          "Woman/sideways",
          "Man/slightly_turned",
          "Woman/slightly_turned",
          "Man/straight",
          "Woman/straight",
          "Man/sideways",
          "Woman/sideways",
          "Man/slightly_turned",
          "Woman/slightly_turned",
          "Man/straight",
          "Woman/straight",
          "Man",
          "Woman",
          "Man",
          "Woman",
          "Man",
          "Woman",
          "",
          ""
         ],
         "type": "sunburst",
         "values": [
          28,
          5,
          74,
          11,
          236,
          24,
          40,
          5,
          85,
          10,
          201,
          32,
          29,
          4,
          57,
          13,
          138,
          23,
          58,
          10,
          141,
          14,
          299,
          27,
          7,
          2,
          18,
          7,
          36,
          18,
          9,
          18,
          2,
          45,
          9,
          7,
          23,
          76,
          5,
          3,
          1,
          25,
          61,
          6,
          14,
          34,
          3,
          101,
          5,
          11,
          24,
          2,
          5,
          11,
          2,
          5,
          6,
          7,
          2,
          1,
          1,
          3,
          1,
          4,
          17,
          4,
          11,
          30,
          4,
          64,
          22,
          23,
          35,
          6,
          73,
          17,
          17,
          24,
          5,
          52,
          9,
          19,
          1,
          31,
          7,
          83,
          14,
          3,
          6,
          2,
          22,
          3,
          27,
          85,
          2,
          147,
          3,
          14,
          52,
          112,
          6,
          12,
          48,
          30,
          2,
          51,
          1,
          110,
          1,
          1,
          3,
          23,
          140,
          38,
          383,
          88,
          1025,
          213,
          176,
          24,
          364,
          71,
          843,
          186,
          108,
          26,
          272,
          67,
          573,
          110,
          264,
          32,
          541,
          93,
          1131,
          253,
          45,
          7,
          116,
          32,
          257,
          44,
          217,
          43,
          595,
          107,
          1528,
          273,
          265,
          29,
          565,
          87,
          1312,
          242,
          163,
          32,
          391,
          85,
          875,
          148,
          386,
          45,
          802,
          118,
          1741,
          300,
          56,
          9,
          154,
          41,
          366,
          65,
          1087,
          158,
          2507,
          438,
          5822,
          1028,
          9416,
          1624
         ]
        }
       ],
       "layout": {
        "coloraxis": {
         "cmax": 1,
         "cmin": 0,
         "colorbar": {
          "title": {
           "text": "Quality"
          }
         },
         "colorscale": [
          [
           0,
           "#440154"
          ],
          [
           0.1111111111111111,
           "#482878"
          ],
          [
           0.2222222222222222,
           "#3e4989"
          ],
          [
           0.3333333333333333,
           "#31688e"
          ],
          [
           0.4444444444444444,
           "#26828e"
          ],
          [
           0.5555555555555556,
           "#1f9e89"
          ],
          [
           0.6666666666666666,
           "#35b779"
          ],
          [
           0.7777777777777778,
           "#6ece58"
          ],
          [
           0.8888888888888888,
           "#b5de2b"
          ],
          [
           1,
           "#fde725"
          ]
         ]
        },
        "legend": {
         "tracegroupgap": 0
        },
        "template": {
         "data": {
          "bar": [
           {
            "error_x": {
             "color": "#2a3f5f"
            },
            "error_y": {
             "color": "#2a3f5f"
            },
            "marker": {
             "line": {
              "color": "#E5ECF6",
              "width": 0.5
             },
             "pattern": {
              "fillmode": "overlay",
              "size": 10,
              "solidity": 0.2
             }
            },
            "type": "bar"
           }
          ],
          "barpolar": [
           {
            "marker": {
             "line": {
              "color": "#E5ECF6",
              "width": 0.5
             },
             "pattern": {
              "fillmode": "overlay",
              "size": 10,
              "solidity": 0.2
             }
            },
            "type": "barpolar"
           }
          ],
          "carpet": [
           {
            "aaxis": {
             "endlinecolor": "#2a3f5f",
             "gridcolor": "white",
             "linecolor": "white",
             "minorgridcolor": "white",
             "startlinecolor": "#2a3f5f"
            },
            "baxis": {
             "endlinecolor": "#2a3f5f",
             "gridcolor": "white",
             "linecolor": "white",
             "minorgridcolor": "white",
             "startlinecolor": "#2a3f5f"
            },
            "type": "carpet"
           }
          ],
          "choropleth": [
           {
            "colorbar": {
             "outlinewidth": 0,
             "ticks": ""
            },
            "type": "choropleth"
           }
          ],
          "contour": [
           {
            "colorbar": {
             "outlinewidth": 0,
             "ticks": ""
            },
            "colorscale": [
             [
              0,
              "#0d0887"
             ],
             [
              0.1111111111111111,
              "#46039f"
             ],
             [
              0.2222222222222222,
              "#7201a8"
             ],
             [
              0.3333333333333333,
              "#9c179e"
             ],
             [
              0.4444444444444444,
              "#bd3786"
             ],
             [
              0.5555555555555556,
              "#d8576b"
             ],
             [
              0.6666666666666666,
              "#ed7953"
             ],
             [
              0.7777777777777778,
              "#fb9f3a"
             ],
             [
              0.8888888888888888,
              "#fdca26"
             ],
             [
              1,
              "#f0f921"
             ]
            ],
            "type": "contour"
           }
          ],
          "contourcarpet": [
           {
            "colorbar": {
             "outlinewidth": 0,
             "ticks": ""
            },
            "type": "contourcarpet"
           }
          ],
          "heatmap": [
           {
            "colorbar": {
             "outlinewidth": 0,
             "ticks": ""
            },
            "colorscale": [
             [
              0,
              "#0d0887"
             ],
             [
              0.1111111111111111,
              "#46039f"
             ],
             [
              0.2222222222222222,
              "#7201a8"
             ],
             [
              0.3333333333333333,
              "#9c179e"
             ],
             [
              0.4444444444444444,
              "#bd3786"
             ],
             [
              0.5555555555555556,
              "#d8576b"
             ],
             [
              0.6666666666666666,
              "#ed7953"
             ],
             [
              0.7777777777777778,
              "#fb9f3a"
             ],
             [
              0.8888888888888888,
              "#fdca26"
             ],
             [
              1,
              "#f0f921"
             ]
            ],
            "type": "heatmap"
           }
          ],
          "heatmapgl": [
           {
            "colorbar": {
             "outlinewidth": 0,
             "ticks": ""
            },
            "colorscale": [
             [
              0,
              "#0d0887"
             ],
             [
              0.1111111111111111,
              "#46039f"
             ],
             [
              0.2222222222222222,
              "#7201a8"
             ],
             [
              0.3333333333333333,
              "#9c179e"
             ],
             [
              0.4444444444444444,
              "#bd3786"
             ],
             [
              0.5555555555555556,
              "#d8576b"
             ],
             [
              0.6666666666666666,
              "#ed7953"
             ],
             [
              0.7777777777777778,
              "#fb9f3a"
             ],
             [
              0.8888888888888888,
              "#fdca26"
             ],
             [
              1,
              "#f0f921"
             ]
            ],
            "type": "heatmapgl"
           }
          ],
          "histogram": [
           {
            "marker": {
             "pattern": {
              "fillmode": "overlay",
              "size": 10,
              "solidity": 0.2
             }
            },
            "type": "histogram"
           }
          ],
          "histogram2d": [
           {
            "colorbar": {
             "outlinewidth": 0,
             "ticks": ""
            },
            "colorscale": [
             [
              0,
              "#0d0887"
             ],
             [
              0.1111111111111111,
              "#46039f"
             ],
             [
              0.2222222222222222,
              "#7201a8"
             ],
             [
              0.3333333333333333,
              "#9c179e"
             ],
             [
              0.4444444444444444,
              "#bd3786"
             ],
             [
              0.5555555555555556,
              "#d8576b"
             ],
             [
              0.6666666666666666,
              "#ed7953"
             ],
             [
              0.7777777777777778,
              "#fb9f3a"
             ],
             [
              0.8888888888888888,
              "#fdca26"
             ],
             [
              1,
              "#f0f921"
             ]
            ],
            "type": "histogram2d"
           }
          ],
          "histogram2dcontour": [
           {
            "colorbar": {
             "outlinewidth": 0,
             "ticks": ""
            },
            "colorscale": [
             [
              0,
              "#0d0887"
             ],
             [
              0.1111111111111111,
              "#46039f"
             ],
             [
              0.2222222222222222,
              "#7201a8"
             ],
             [
              0.3333333333333333,
              "#9c179e"
             ],
             [
              0.4444444444444444,
              "#bd3786"
             ],
             [
              0.5555555555555556,
              "#d8576b"
             ],
             [
              0.6666666666666666,
              "#ed7953"
             ],
             [
              0.7777777777777778,
              "#fb9f3a"
             ],
             [
              0.8888888888888888,
              "#fdca26"
             ],
             [
              1,
              "#f0f921"
             ]
            ],
            "type": "histogram2dcontour"
           }
          ],
          "mesh3d": [
           {
            "colorbar": {
             "outlinewidth": 0,
             "ticks": ""
            },
            "type": "mesh3d"
           }
          ],
          "parcoords": [
           {
            "line": {
             "colorbar": {
              "outlinewidth": 0,
              "ticks": ""
             }
            },
            "type": "parcoords"
           }
          ],
          "pie": [
           {
            "automargin": true,
            "type": "pie"
           }
          ],
          "scatter": [
           {
            "fillpattern": {
             "fillmode": "overlay",
             "size": 10,
             "solidity": 0.2
            },
            "type": "scatter"
           }
          ],
          "scatter3d": [
           {
            "line": {
             "colorbar": {
              "outlinewidth": 0,
              "ticks": ""
             }
            },
            "marker": {
             "colorbar": {
              "outlinewidth": 0,
              "ticks": ""
             }
            },
            "type": "scatter3d"
           }
          ],
          "scattercarpet": [
           {
            "marker": {
             "colorbar": {
              "outlinewidth": 0,
              "ticks": ""
             }
            },
            "type": "scattercarpet"
           }
          ],
          "scattergeo": [
           {
            "marker": {
             "colorbar": {
              "outlinewidth": 0,
              "ticks": ""
             }
            },
            "type": "scattergeo"
           }
          ],
          "scattergl": [
           {
            "marker": {
             "colorbar": {
              "outlinewidth": 0,
              "ticks": ""
             }
            },
            "type": "scattergl"
           }
          ],
          "scattermapbox": [
           {
            "marker": {
             "colorbar": {
              "outlinewidth": 0,
              "ticks": ""
             }
            },
            "type": "scattermapbox"
           }
          ],
          "scatterpolar": [
           {
            "marker": {
             "colorbar": {
              "outlinewidth": 0,
              "ticks": ""
             }
            },
            "type": "scatterpolar"
           }
          ],
          "scatterpolargl": [
           {
            "marker": {
             "colorbar": {
              "outlinewidth": 0,
              "ticks": ""
             }
            },
            "type": "scatterpolargl"
           }
          ],
          "scatterternary": [
           {
            "marker": {
             "colorbar": {
              "outlinewidth": 0,
              "ticks": ""
             }
            },
            "type": "scatterternary"
           }
          ],
          "surface": [
           {
            "colorbar": {
             "outlinewidth": 0,
             "ticks": ""
            },
            "colorscale": [
             [
              0,
              "#0d0887"
             ],
             [
              0.1111111111111111,
              "#46039f"
             ],
             [
              0.2222222222222222,
              "#7201a8"
             ],
             [
              0.3333333333333333,
              "#9c179e"
             ],
             [
              0.4444444444444444,
              "#bd3786"
             ],
             [
              0.5555555555555556,
              "#d8576b"
             ],
             [
              0.6666666666666666,
              "#ed7953"
             ],
             [
              0.7777777777777778,
              "#fb9f3a"
             ],
             [
              0.8888888888888888,
              "#fdca26"
             ],
             [
              1,
              "#f0f921"
             ]
            ],
            "type": "surface"
           }
          ],
          "table": [
           {
            "cells": {
             "fill": {
              "color": "#EBF0F8"
             },
             "line": {
              "color": "white"
             }
            },
            "header": {
             "fill": {
              "color": "#C8D4E3"
             },
             "line": {
              "color": "white"
             }
            },
            "type": "table"
           }
          ]
         },
         "layout": {
          "annotationdefaults": {
           "arrowcolor": "#2a3f5f",
           "arrowhead": 0,
           "arrowwidth": 1
          },
          "autotypenumbers": "strict",
          "coloraxis": {
           "colorbar": {
            "outlinewidth": 0,
            "ticks": ""
           }
          },
          "colorscale": {
           "diverging": [
            [
             0,
             "#8e0152"
            ],
            [
             0.1,
             "#c51b7d"
            ],
            [
             0.2,
             "#de77ae"
            ],
            [
             0.3,
             "#f1b6da"
            ],
            [
             0.4,
             "#fde0ef"
            ],
            [
             0.5,
             "#f7f7f7"
            ],
            [
             0.6,
             "#e6f5d0"
            ],
            [
             0.7,
             "#b8e186"
            ],
            [
             0.8,
             "#7fbc41"
            ],
            [
             0.9,
             "#4d9221"
            ],
            [
             1,
             "#276419"
            ]
           ],
           "sequential": [
            [
             0,
             "#0d0887"
            ],
            [
             0.1111111111111111,
             "#46039f"
            ],
            [
             0.2222222222222222,
             "#7201a8"
            ],
            [
             0.3333333333333333,
             "#9c179e"
            ],
            [
             0.4444444444444444,
             "#bd3786"
            ],
            [
             0.5555555555555556,
             "#d8576b"
            ],
            [
             0.6666666666666666,
             "#ed7953"
            ],
            [
             0.7777777777777778,
             "#fb9f3a"
            ],
            [
             0.8888888888888888,
             "#fdca26"
            ],
            [
             1,
             "#f0f921"
            ]
           ],
           "sequentialminus": [
            [
             0,
             "#0d0887"
            ],
            [
             0.1111111111111111,
             "#46039f"
            ],
            [
             0.2222222222222222,
             "#7201a8"
            ],
            [
             0.3333333333333333,
             "#9c179e"
            ],
            [
             0.4444444444444444,
             "#bd3786"
            ],
            [
             0.5555555555555556,
             "#d8576b"
            ],
            [
             0.6666666666666666,
             "#ed7953"
            ],
            [
             0.7777777777777778,
             "#fb9f3a"
            ],
            [
             0.8888888888888888,
             "#fdca26"
            ],
            [
             1,
             "#f0f921"
            ]
           ]
          },
          "colorway": [
           "#636efa",
           "#EF553B",
           "#00cc96",
           "#ab63fa",
           "#FFA15A",
           "#19d3f3",
           "#FF6692",
           "#B6E880",
           "#FF97FF",
           "#FECB52"
          ],
          "font": {
           "color": "#2a3f5f"
          },
          "geo": {
           "bgcolor": "white",
           "lakecolor": "white",
           "landcolor": "#E5ECF6",
           "showlakes": true,
           "showland": true,
           "subunitcolor": "white"
          },
          "hoverlabel": {
           "align": "left"
          },
          "hovermode": "closest",
          "mapbox": {
           "style": "light"
          },
          "paper_bgcolor": "white",
          "plot_bgcolor": "#E5ECF6",
          "polar": {
           "angularaxis": {
            "gridcolor": "white",
            "linecolor": "white",
            "ticks": ""
           },
           "bgcolor": "#E5ECF6",
           "radialaxis": {
            "gridcolor": "white",
            "linecolor": "white",
            "ticks": ""
           }
          },
          "scene": {
           "xaxis": {
            "backgroundcolor": "#E5ECF6",
            "gridcolor": "white",
            "gridwidth": 2,
            "linecolor": "white",
            "showbackground": true,
            "ticks": "",
            "zerolinecolor": "white"
           },
           "yaxis": {
            "backgroundcolor": "#E5ECF6",
            "gridcolor": "white",
            "gridwidth": 2,
            "linecolor": "white",
            "showbackground": true,
            "ticks": "",
            "zerolinecolor": "white"
           },
           "zaxis": {
            "backgroundcolor": "#E5ECF6",
            "gridcolor": "white",
            "gridwidth": 2,
            "linecolor": "white",
            "showbackground": true,
            "ticks": "",
            "zerolinecolor": "white"
           }
          },
          "shapedefaults": {
           "line": {
            "color": "#2a3f5f"
           }
          },
          "ternary": {
           "aaxis": {
            "gridcolor": "white",
            "linecolor": "white",
            "ticks": ""
           },
           "baxis": {
            "gridcolor": "white",
            "linecolor": "white",
            "ticks": ""
           },
           "bgcolor": "#E5ECF6",
           "caxis": {
            "gridcolor": "white",
            "linecolor": "white",
            "ticks": ""
           }
          },
          "title": {
           "x": 0.05
          },
          "xaxis": {
           "automargin": true,
           "gridcolor": "white",
           "linecolor": "white",
           "ticks": "",
           "title": {
            "standoff": 15
           },
           "zerolinecolor": "white",
           "zerolinewidth": 2
          },
          "yaxis": {
           "automargin": true,
           "gridcolor": "white",
           "linecolor": "white",
           "ticks": "",
           "title": {
            "standoff": 15
           },
           "zerolinecolor": "white",
           "zerolinewidth": 2
          }
         }
        },
        "title": {
         "text": "XQLFW, Model QMagFace_SR"
        }
       }
      },
      "text/html": [
       "<div>                            <div id=\"8c81f22d-732b-461b-9451-bbd9731090ab\" class=\"plotly-graph-div\" style=\"height:525px; width:100%;\"></div>            <script type=\"text/javascript\">                require([\"plotly\"], function(Plotly) {                    window.PLOTLYENV=window.PLOTLYENV || {};                                    if (document.getElementById(\"8c81f22d-732b-461b-9451-bbd9731090ab\")) {                    Plotly.newPlot(                        \"8c81f22d-732b-461b-9451-bbd9731090ab\",                        [{\"branchvalues\":\"total\",\"customdata\":[[0.5907928660197748],[0.35845760334565363],[0.6304672448585957],[0.5583888927564747],[0.6557967256044179],[0.6487152466848808],[0.6173031166440289],[0.6433832518330822],[0.6153919275963409],[0.5688591294243103],[0.6615008440696243],[0.5567751644532781],[0.6002246794927855],[0.7051790765843928],[0.6525377312953343],[0.6371641079206779],[0.6147001208050552],[0.6711594666581506],[0.5677202027070046],[0.6149971753438224],[0.6185459830697762],[0.5617487578032765],[0.6525377265871876],[0.5803516938982182],[0.5313097389401434],[0.699745028634872],[0.6389807306464989],[0.5512606821474362],[0.6634141843714725],[0.6473648018879947],[0.5279220591282816],[0.6117688920236997],[0.4597165830715385],[0.6287024305483891],[0.6241136987262913],[0.5274595901916308],[0.5996786294944585],[0.6661372797144858],[0.6504367537095963],[0.6005672039837539],[0.5399882180948329],[0.5901824102212008],[0.585495999331354],[0.518067782788698],[0.5259149752314446],[0.5848786503916968],[0.559983189132271],[0.6220221732299811],[0.558762926297512],[0.5884085158335579],[0.604368886650002],[0.3443117446146792],[0.7174266657903285],[0.653485330105426],[0.7132456053244117],[0.6940624442365897],[0.6428774483332728],[0.7121393569123977],[0.8187199934464895],[0.6459302756846343],[0.6120798605063871],[0.734504931608968],[0.5246126889701165],[0.6565792736472099],[0.6640762687839155],[0.666480978103765],[0.626775723700518],[0.7135570886521895],[0.7185649828548847],[0.7390966082590069],[0.659227846082213],[0.6238819300334486],[0.6639266883593317],[0.643608963557398],[0.718724594222977],[0.6591829240223659],[0.6587764991703949],[0.6412404523988418],[0.47647958385126304],[0.7228406434468334],[0.6964130413912399],[0.617992028843722],[0.8224587704282765],[0.7033736987878328],[0.6837918392341553],[0.7014236845534599],[0.617989663243718],[0.6450649206904796],[0.736859691034012],[0.7965064916651445],[0.7380093767670196],[0.7133341889292723],[0.6648225359069669],[0.7074943465681934],[0.72036797767707],[0.7026689832152516],[0.7407987301057134],[0.6246818800264486],[0.662040280346237],[0.7264694074961786],[0.684456335668886],[0.7683162346936562],[0.7145058391328876],[0.6024834570027975],[0.7303068310233773],[0.6741447901537585],[0.7190192635622309],[0.6747594505168569],[0.6543845415109806],[0.6895789564208138],[0.8064462899444217],[0.733242307303455],[0.6383606710039286],[0.6445668973734452],[0.6987655794937827],[0.7215879645328983],[0.7159936722101202],[0.7112272121527882],[0.6700346625910464],[0.6648798187141017],[0.6885684634539884],[0.6690101322587954],[0.711517762457516],[0.6763189285799247],[0.6514822197356359],[0.6243131858799108],[0.7038143088409027],[0.6750203335242136],[0.7032344670325044],[0.6336664008051559],[0.6590062742204211],[0.6398762355358925],[0.6852937241531143],[0.6825409508482447],[0.70062548349225],[0.6582216662773431],[0.6421337995297232],[0.6453242190708671],[0.677665318289095],[0.6601607738199994],[0.7099590766071443],[0.6742100672526665],[0.6276375928142],[0.611298374812074],[0.6897890732250339],[0.6997798855339534],[0.7033612648724291],[0.6990091040743307],[0.6523606994167898],[0.6611735140794432],[0.6694878520033519],[0.6557467179995629],[0.702907028341629],[0.6599498324057523],[0.6434002180895751],[0.632461801031085],[0.686977873346527],[0.6575516902158522],[0.6829539780255726],[0.6386222695334997],[0.6337025978018717],[0.642424082734707],[0.6691484395858408],[0.6654771418960235],[0.685853787202556],[0.6476654392061011],[0.6292850512484071],[0.6574177323073127],[0.6715832517102498],[0.6482190858683493],[0.7011310105854592],[0.6685817224598315],[0.6382671059394339],[0.6362309048863631],[0.6770539899244131],[0.6687707560519989],[0.694816241510751],[0.6642129226334258],[0.6835589268237321],[0.6627198020874279]],\"domain\":{\"x\":[0.0,1.0],\"y\":[0.0,1.0]},\"hovertemplate\":\"labels=%{label}<br>count=%{value}<br>parent=%{parent}<br>id=%{id}<br>Quality=%{color}<extra></extra>\",\"ids\":[\"Man/sideways/downwards/asian\",\"Woman/sideways/downwards/asian\",\"Man/slightly_turned/downwards/asian\",\"Woman/slightly_turned/downwards/asian\",\"Man/straight/downwards/asian\",\"Woman/straight/downwards/asian\",\"Man/sideways/slightly_downwards/asian\",\"Woman/sideways/slightly_downwards/asian\",\"Man/slightly_turned/slightly_downwards/asian\",\"Woman/slightly_turned/slightly_downwards/asian\",\"Man/straight/slightly_downwards/asian\",\"Woman/straight/slightly_downwards/asian\",\"Man/sideways/slightly_upwards/asian\",\"Woman/sideways/slightly_upwards/asian\",\"Man/slightly_turned/slightly_upwards/asian\",\"Woman/slightly_turned/slightly_upwards/asian\",\"Man/straight/slightly_upwards/asian\",\"Woman/straight/slightly_upwards/asian\",\"Man/sideways/straight/asian\",\"Woman/sideways/straight/asian\",\"Man/slightly_turned/straight/asian\",\"Woman/slightly_turned/straight/asian\",\"Man/straight/straight/asian\",\"Woman/straight/straight/asian\",\"Man/sideways/upwards/asian\",\"Woman/sideways/upwards/asian\",\"Man/slightly_turned/upwards/asian\",\"Woman/slightly_turned/upwards/asian\",\"Man/straight/upwards/asian\",\"Woman/straight/upwards/asian\",\"Man/sideways/downwards/black\",\"Man/slightly_turned/downwards/black\",\"Woman/slightly_turned/downwards/black\",\"Man/straight/downwards/black\",\"Woman/straight/downwards/black\",\"Man/sideways/slightly_downwards/black\",\"Man/slightly_turned/slightly_downwards/black\",\"Man/straight/slightly_downwards/black\",\"Woman/straight/slightly_downwards/black\",\"Man/sideways/slightly_upwards/black\",\"Woman/sideways/slightly_upwards/black\",\"Man/slightly_turned/slightly_upwards/black\",\"Man/straight/slightly_upwards/black\",\"Woman/straight/slightly_upwards/black\",\"Man/sideways/straight/black\",\"Man/slightly_turned/straight/black\",\"Woman/slightly_turned/straight/black\",\"Man/straight/straight/black\",\"Woman/straight/straight/black\",\"Man/slightly_turned/upwards/black\",\"Man/straight/upwards/black\",\"Man/sideways/downwards/indian\",\"Man/slightly_turned/downwards/indian\",\"Man/straight/downwards/indian\",\"Woman/straight/downwards/indian\",\"Man/sideways/slightly_downwards/indian\",\"Man/slightly_turned/slightly_downwards/indian\",\"Man/straight/slightly_downwards/indian\",\"Woman/straight/slightly_downwards/indian\",\"Woman/sideways/slightly_upwards/indian\",\"Man/slightly_turned/slightly_upwards/indian\",\"Man/straight/slightly_upwards/indian\",\"Man/sideways/straight/indian\",\"Man/slightly_turned/straight/indian\",\"Man/straight/straight/indian\",\"Man/straight/upwards/indian\",\"Man/sideways/downwards/latino hispanic\",\"Man/slightly_turned/downwards/latino hispanic\",\"Woman/slightly_turned/downwards/latino hispanic\",\"Man/straight/downwards/latino hispanic\",\"Woman/straight/downwards/latino hispanic\",\"Man/sideways/slightly_downwards/latino hispanic\",\"Man/slightly_turned/slightly_downwards/latino hispanic\",\"Woman/slightly_turned/slightly_downwards/latino hispanic\",\"Man/straight/slightly_downwards/latino hispanic\",\"Woman/straight/slightly_downwards/latino hispanic\",\"Man/sideways/slightly_upwards/latino hispanic\",\"Man/slightly_turned/slightly_upwards/latino hispanic\",\"Woman/slightly_turned/slightly_upwards/latino hispanic\",\"Man/straight/slightly_upwards/latino hispanic\",\"Woman/straight/slightly_upwards/latino hispanic\",\"Man/sideways/straight/latino hispanic\",\"Woman/sideways/straight/latino hispanic\",\"Man/slightly_turned/straight/latino hispanic\",\"Woman/slightly_turned/straight/latino hispanic\",\"Man/straight/straight/latino hispanic\",\"Woman/straight/straight/latino hispanic\",\"Man/sideways/upwards/latino hispanic\",\"Man/slightly_turned/upwards/latino hispanic\",\"Woman/slightly_turned/upwards/latino hispanic\",\"Man/straight/upwards/latino hispanic\",\"Woman/straight/upwards/latino hispanic\",\"Man/sideways/downwards/middle eastern\",\"Man/slightly_turned/downwards/middle eastern\",\"Woman/slightly_turned/downwards/middle eastern\",\"Man/straight/downwards/middle eastern\",\"Woman/straight/downwards/middle eastern\",\"Man/sideways/slightly_downwards/middle eastern\",\"Man/slightly_turned/slightly_downwards/middle eastern\",\"Man/straight/slightly_downwards/middle eastern\",\"Man/sideways/slightly_upwards/middle eastern\",\"Man/slightly_turned/slightly_upwards/middle eastern\",\"Man/straight/slightly_upwards/middle eastern\",\"Man/sideways/straight/middle eastern\",\"Woman/sideways/straight/middle eastern\",\"Man/slightly_turned/straight/middle eastern\",\"Woman/slightly_turned/straight/middle eastern\",\"Man/straight/straight/middle eastern\",\"Woman/straight/straight/middle eastern\",\"Man/sideways/upwards/middle eastern\",\"Man/slightly_turned/upwards/middle eastern\",\"Man/straight/upwards/middle eastern\",\"Man/sideways/downwards/white\",\"Woman/sideways/downwards/white\",\"Man/slightly_turned/downwards/white\",\"Woman/slightly_turned/downwards/white\",\"Man/straight/downwards/white\",\"Woman/straight/downwards/white\",\"Man/sideways/slightly_downwards/white\",\"Woman/sideways/slightly_downwards/white\",\"Man/slightly_turned/slightly_downwards/white\",\"Woman/slightly_turned/slightly_downwards/white\",\"Man/straight/slightly_downwards/white\",\"Woman/straight/slightly_downwards/white\",\"Man/sideways/slightly_upwards/white\",\"Woman/sideways/slightly_upwards/white\",\"Man/slightly_turned/slightly_upwards/white\",\"Woman/slightly_turned/slightly_upwards/white\",\"Man/straight/slightly_upwards/white\",\"Woman/straight/slightly_upwards/white\",\"Man/sideways/straight/white\",\"Woman/sideways/straight/white\",\"Man/slightly_turned/straight/white\",\"Woman/slightly_turned/straight/white\",\"Man/straight/straight/white\",\"Woman/straight/straight/white\",\"Man/sideways/upwards/white\",\"Woman/sideways/upwards/white\",\"Man/slightly_turned/upwards/white\",\"Woman/slightly_turned/upwards/white\",\"Man/straight/upwards/white\",\"Woman/straight/upwards/white\",\"Man/sideways/downwards\",\"Woman/sideways/downwards\",\"Man/slightly_turned/downwards\",\"Woman/slightly_turned/downwards\",\"Man/straight/downwards\",\"Woman/straight/downwards\",\"Man/sideways/slightly_downwards\",\"Woman/sideways/slightly_downwards\",\"Man/slightly_turned/slightly_downwards\",\"Woman/slightly_turned/slightly_downwards\",\"Man/straight/slightly_downwards\",\"Woman/straight/slightly_downwards\",\"Man/sideways/slightly_upwards\",\"Woman/sideways/slightly_upwards\",\"Man/slightly_turned/slightly_upwards\",\"Woman/slightly_turned/slightly_upwards\",\"Man/straight/slightly_upwards\",\"Woman/straight/slightly_upwards\",\"Man/sideways/straight\",\"Woman/sideways/straight\",\"Man/slightly_turned/straight\",\"Woman/slightly_turned/straight\",\"Man/straight/straight\",\"Woman/straight/straight\",\"Man/sideways/upwards\",\"Woman/sideways/upwards\",\"Man/slightly_turned/upwards\",\"Woman/slightly_turned/upwards\",\"Man/straight/upwards\",\"Woman/straight/upwards\",\"Man/sideways\",\"Woman/sideways\",\"Man/slightly_turned\",\"Woman/slightly_turned\",\"Man/straight\",\"Woman/straight\",\"Man\",\"Woman\"],\"labels\":[\"asian\",\"asian\",\"asian\",\"asian\",\"asian\",\"asian\",\"asian\",\"asian\",\"asian\",\"asian\",\"asian\",\"asian\",\"asian\",\"asian\",\"asian\",\"asian\",\"asian\",\"asian\",\"asian\",\"asian\",\"asian\",\"asian\",\"asian\",\"asian\",\"asian\",\"asian\",\"asian\",\"asian\",\"asian\",\"asian\",\"black\",\"black\",\"black\",\"black\",\"black\",\"black\",\"black\",\"black\",\"black\",\"black\",\"black\",\"black\",\"black\",\"black\",\"black\",\"black\",\"black\",\"black\",\"black\",\"black\",\"black\",\"indian\",\"indian\",\"indian\",\"indian\",\"indian\",\"indian\",\"indian\",\"indian\",\"indian\",\"indian\",\"indian\",\"indian\",\"indian\",\"indian\",\"indian\",\"latino hispanic\",\"latino hispanic\",\"latino hispanic\",\"latino hispanic\",\"latino hispanic\",\"latino hispanic\",\"latino hispanic\",\"latino hispanic\",\"latino hispanic\",\"latino hispanic\",\"latino hispanic\",\"latino hispanic\",\"latino hispanic\",\"latino hispanic\",\"latino hispanic\",\"latino hispanic\",\"latino hispanic\",\"latino hispanic\",\"latino hispanic\",\"latino hispanic\",\"latino hispanic\",\"latino hispanic\",\"latino hispanic\",\"latino hispanic\",\"latino hispanic\",\"latino hispanic\",\"middle eastern\",\"middle eastern\",\"middle eastern\",\"middle eastern\",\"middle eastern\",\"middle eastern\",\"middle eastern\",\"middle eastern\",\"middle eastern\",\"middle eastern\",\"middle eastern\",\"middle eastern\",\"middle eastern\",\"middle eastern\",\"middle eastern\",\"middle eastern\",\"middle eastern\",\"middle eastern\",\"middle eastern\",\"middle eastern\",\"white\",\"white\",\"white\",\"white\",\"white\",\"white\",\"white\",\"white\",\"white\",\"white\",\"white\",\"white\",\"white\",\"white\",\"white\",\"white\",\"white\",\"white\",\"white\",\"white\",\"white\",\"white\",\"white\",\"white\",\"white\",\"white\",\"white\",\"white\",\"white\",\"white\",\"downwards\",\"downwards\",\"downwards\",\"downwards\",\"downwards\",\"downwards\",\"slightly_downwards\",\"slightly_downwards\",\"slightly_downwards\",\"slightly_downwards\",\"slightly_downwards\",\"slightly_downwards\",\"slightly_upwards\",\"slightly_upwards\",\"slightly_upwards\",\"slightly_upwards\",\"slightly_upwards\",\"slightly_upwards\",\"straight\",\"straight\",\"straight\",\"straight\",\"straight\",\"straight\",\"upwards\",\"upwards\",\"upwards\",\"upwards\",\"upwards\",\"upwards\",\"sideways\",\"sideways\",\"slightly_turned\",\"slightly_turned\",\"straight\",\"straight\",\"Man\",\"Woman\"],\"marker\":{\"coloraxis\":\"coloraxis\",\"colors\":[0.5907928660197748,0.35845760334565363,0.6304672448585957,0.5583888927564747,0.6557967256044179,0.6487152466848808,0.6173031166440289,0.6433832518330822,0.6153919275963409,0.5688591294243103,0.6615008440696243,0.5567751644532781,0.6002246794927855,0.7051790765843928,0.6525377312953343,0.6371641079206779,0.6147001208050552,0.6711594666581506,0.5677202027070046,0.6149971753438224,0.6185459830697762,0.5617487578032765,0.6525377265871876,0.5803516938982182,0.5313097389401434,0.699745028634872,0.6389807306464989,0.5512606821474362,0.6634141843714725,0.6473648018879947,0.5279220591282816,0.6117688920236997,0.4597165830715385,0.6287024305483891,0.6241136987262913,0.5274595901916308,0.5996786294944585,0.6661372797144858,0.6504367537095963,0.6005672039837539,0.5399882180948329,0.5901824102212008,0.585495999331354,0.518067782788698,0.5259149752314446,0.5848786503916968,0.559983189132271,0.6220221732299811,0.558762926297512,0.5884085158335579,0.604368886650002,0.3443117446146792,0.7174266657903285,0.653485330105426,0.7132456053244117,0.6940624442365897,0.6428774483332728,0.7121393569123977,0.8187199934464895,0.6459302756846343,0.6120798605063871,0.734504931608968,0.5246126889701165,0.6565792736472099,0.6640762687839155,0.666480978103765,0.626775723700518,0.7135570886521895,0.7185649828548847,0.7390966082590069,0.659227846082213,0.6238819300334486,0.6639266883593317,0.643608963557398,0.718724594222977,0.6591829240223659,0.6587764991703949,0.6412404523988418,0.47647958385126304,0.7228406434468334,0.6964130413912399,0.617992028843722,0.8224587704282765,0.7033736987878328,0.6837918392341553,0.7014236845534599,0.617989663243718,0.6450649206904796,0.736859691034012,0.7965064916651445,0.7380093767670196,0.7133341889292723,0.6648225359069669,0.7074943465681934,0.72036797767707,0.7026689832152516,0.7407987301057134,0.6246818800264486,0.662040280346237,0.7264694074961786,0.684456335668886,0.7683162346936562,0.7145058391328876,0.6024834570027975,0.7303068310233773,0.6741447901537585,0.7190192635622309,0.6747594505168569,0.6543845415109806,0.6895789564208138,0.8064462899444217,0.733242307303455,0.6383606710039286,0.6445668973734452,0.6987655794937827,0.7215879645328983,0.7159936722101202,0.7112272121527882,0.6700346625910464,0.6648798187141017,0.6885684634539884,0.6690101322587954,0.711517762457516,0.6763189285799247,0.6514822197356359,0.6243131858799108,0.7038143088409027,0.6750203335242136,0.7032344670325044,0.6336664008051559,0.6590062742204211,0.6398762355358925,0.6852937241531143,0.6825409508482447,0.70062548349225,0.6582216662773431,0.6421337995297232,0.6453242190708671,0.677665318289095,0.6601607738199994,0.7099590766071443,0.6742100672526665,0.6276375928142,0.611298374812074,0.6897890732250339,0.6997798855339534,0.7033612648724291,0.6990091040743307,0.6523606994167898,0.6611735140794432,0.6694878520033519,0.6557467179995629,0.702907028341629,0.6599498324057523,0.6434002180895751,0.632461801031085,0.686977873346527,0.6575516902158522,0.6829539780255726,0.6386222695334997,0.6337025978018717,0.642424082734707,0.6691484395858408,0.6654771418960235,0.685853787202556,0.6476654392061011,0.6292850512484071,0.6574177323073127,0.6715832517102498,0.6482190858683493,0.7011310105854592,0.6685817224598315,0.6382671059394339,0.6362309048863631,0.6770539899244131,0.6687707560519989,0.694816241510751,0.6642129226334258,0.6835589268237321,0.6627198020874279]},\"name\":\"\",\"parents\":[\"Man/sideways/downwards\",\"Woman/sideways/downwards\",\"Man/slightly_turned/downwards\",\"Woman/slightly_turned/downwards\",\"Man/straight/downwards\",\"Woman/straight/downwards\",\"Man/sideways/slightly_downwards\",\"Woman/sideways/slightly_downwards\",\"Man/slightly_turned/slightly_downwards\",\"Woman/slightly_turned/slightly_downwards\",\"Man/straight/slightly_downwards\",\"Woman/straight/slightly_downwards\",\"Man/sideways/slightly_upwards\",\"Woman/sideways/slightly_upwards\",\"Man/slightly_turned/slightly_upwards\",\"Woman/slightly_turned/slightly_upwards\",\"Man/straight/slightly_upwards\",\"Woman/straight/slightly_upwards\",\"Man/sideways/straight\",\"Woman/sideways/straight\",\"Man/slightly_turned/straight\",\"Woman/slightly_turned/straight\",\"Man/straight/straight\",\"Woman/straight/straight\",\"Man/sideways/upwards\",\"Woman/sideways/upwards\",\"Man/slightly_turned/upwards\",\"Woman/slightly_turned/upwards\",\"Man/straight/upwards\",\"Woman/straight/upwards\",\"Man/sideways/downwards\",\"Man/slightly_turned/downwards\",\"Woman/slightly_turned/downwards\",\"Man/straight/downwards\",\"Woman/straight/downwards\",\"Man/sideways/slightly_downwards\",\"Man/slightly_turned/slightly_downwards\",\"Man/straight/slightly_downwards\",\"Woman/straight/slightly_downwards\",\"Man/sideways/slightly_upwards\",\"Woman/sideways/slightly_upwards\",\"Man/slightly_turned/slightly_upwards\",\"Man/straight/slightly_upwards\",\"Woman/straight/slightly_upwards\",\"Man/sideways/straight\",\"Man/slightly_turned/straight\",\"Woman/slightly_turned/straight\",\"Man/straight/straight\",\"Woman/straight/straight\",\"Man/slightly_turned/upwards\",\"Man/straight/upwards\",\"Man/sideways/downwards\",\"Man/slightly_turned/downwards\",\"Man/straight/downwards\",\"Woman/straight/downwards\",\"Man/sideways/slightly_downwards\",\"Man/slightly_turned/slightly_downwards\",\"Man/straight/slightly_downwards\",\"Woman/straight/slightly_downwards\",\"Woman/sideways/slightly_upwards\",\"Man/slightly_turned/slightly_upwards\",\"Man/straight/slightly_upwards\",\"Man/sideways/straight\",\"Man/slightly_turned/straight\",\"Man/straight/straight\",\"Man/straight/upwards\",\"Man/sideways/downwards\",\"Man/slightly_turned/downwards\",\"Woman/slightly_turned/downwards\",\"Man/straight/downwards\",\"Woman/straight/downwards\",\"Man/sideways/slightly_downwards\",\"Man/slightly_turned/slightly_downwards\",\"Woman/slightly_turned/slightly_downwards\",\"Man/straight/slightly_downwards\",\"Woman/straight/slightly_downwards\",\"Man/sideways/slightly_upwards\",\"Man/slightly_turned/slightly_upwards\",\"Woman/slightly_turned/slightly_upwards\",\"Man/straight/slightly_upwards\",\"Woman/straight/slightly_upwards\",\"Man/sideways/straight\",\"Woman/sideways/straight\",\"Man/slightly_turned/straight\",\"Woman/slightly_turned/straight\",\"Man/straight/straight\",\"Woman/straight/straight\",\"Man/sideways/upwards\",\"Man/slightly_turned/upwards\",\"Woman/slightly_turned/upwards\",\"Man/straight/upwards\",\"Woman/straight/upwards\",\"Man/sideways/downwards\",\"Man/slightly_turned/downwards\",\"Woman/slightly_turned/downwards\",\"Man/straight/downwards\",\"Woman/straight/downwards\",\"Man/sideways/slightly_downwards\",\"Man/slightly_turned/slightly_downwards\",\"Man/straight/slightly_downwards\",\"Man/sideways/slightly_upwards\",\"Man/slightly_turned/slightly_upwards\",\"Man/straight/slightly_upwards\",\"Man/sideways/straight\",\"Woman/sideways/straight\",\"Man/slightly_turned/straight\",\"Woman/slightly_turned/straight\",\"Man/straight/straight\",\"Woman/straight/straight\",\"Man/sideways/upwards\",\"Man/slightly_turned/upwards\",\"Man/straight/upwards\",\"Man/sideways/downwards\",\"Woman/sideways/downwards\",\"Man/slightly_turned/downwards\",\"Woman/slightly_turned/downwards\",\"Man/straight/downwards\",\"Woman/straight/downwards\",\"Man/sideways/slightly_downwards\",\"Woman/sideways/slightly_downwards\",\"Man/slightly_turned/slightly_downwards\",\"Woman/slightly_turned/slightly_downwards\",\"Man/straight/slightly_downwards\",\"Woman/straight/slightly_downwards\",\"Man/sideways/slightly_upwards\",\"Woman/sideways/slightly_upwards\",\"Man/slightly_turned/slightly_upwards\",\"Woman/slightly_turned/slightly_upwards\",\"Man/straight/slightly_upwards\",\"Woman/straight/slightly_upwards\",\"Man/sideways/straight\",\"Woman/sideways/straight\",\"Man/slightly_turned/straight\",\"Woman/slightly_turned/straight\",\"Man/straight/straight\",\"Woman/straight/straight\",\"Man/sideways/upwards\",\"Woman/sideways/upwards\",\"Man/slightly_turned/upwards\",\"Woman/slightly_turned/upwards\",\"Man/straight/upwards\",\"Woman/straight/upwards\",\"Man/sideways\",\"Woman/sideways\",\"Man/slightly_turned\",\"Woman/slightly_turned\",\"Man/straight\",\"Woman/straight\",\"Man/sideways\",\"Woman/sideways\",\"Man/slightly_turned\",\"Woman/slightly_turned\",\"Man/straight\",\"Woman/straight\",\"Man/sideways\",\"Woman/sideways\",\"Man/slightly_turned\",\"Woman/slightly_turned\",\"Man/straight\",\"Woman/straight\",\"Man/sideways\",\"Woman/sideways\",\"Man/slightly_turned\",\"Woman/slightly_turned\",\"Man/straight\",\"Woman/straight\",\"Man/sideways\",\"Woman/sideways\",\"Man/slightly_turned\",\"Woman/slightly_turned\",\"Man/straight\",\"Woman/straight\",\"Man\",\"Woman\",\"Man\",\"Woman\",\"Man\",\"Woman\",\"\",\"\"],\"values\":[28,5,74,11,236,24,40,5,85,10,201,32,29,4,57,13,138,23,58,10,141,14,299,27,7,2,18,7,36,18,9,18,2,45,9,7,23,76,5,3,1,25,61,6,14,34,3,101,5,11,24,2,5,11,2,5,6,7,2,1,1,3,1,4,17,4,11,30,4,64,22,23,35,6,73,17,17,24,5,52,9,19,1,31,7,83,14,3,6,2,22,3,27,85,2,147,3,14,52,112,6,12,48,30,2,51,1,110,1,1,3,23,140,38,383,88,1025,213,176,24,364,71,843,186,108,26,272,67,573,110,264,32,541,93,1131,253,45,7,116,32,257,44,217,43,595,107,1528,273,265,29,565,87,1312,242,163,32,391,85,875,148,386,45,802,118,1741,300,56,9,154,41,366,65,1087,158,2507,438,5822,1028,9416,1624],\"type\":\"sunburst\"}],                        {\"template\":{\"data\":{\"histogram2dcontour\":[{\"type\":\"histogram2dcontour\",\"colorbar\":{\"outlinewidth\":0,\"ticks\":\"\"},\"colorscale\":[[0.0,\"#0d0887\"],[0.1111111111111111,\"#46039f\"],[0.2222222222222222,\"#7201a8\"],[0.3333333333333333,\"#9c179e\"],[0.4444444444444444,\"#bd3786\"],[0.5555555555555556,\"#d8576b\"],[0.6666666666666666,\"#ed7953\"],[0.7777777777777778,\"#fb9f3a\"],[0.8888888888888888,\"#fdca26\"],[1.0,\"#f0f921\"]]}],\"choropleth\":[{\"type\":\"choropleth\",\"colorbar\":{\"outlinewidth\":0,\"ticks\":\"\"}}],\"histogram2d\":[{\"type\":\"histogram2d\",\"colorbar\":{\"outlinewidth\":0,\"ticks\":\"\"},\"colorscale\":[[0.0,\"#0d0887\"],[0.1111111111111111,\"#46039f\"],[0.2222222222222222,\"#7201a8\"],[0.3333333333333333,\"#9c179e\"],[0.4444444444444444,\"#bd3786\"],[0.5555555555555556,\"#d8576b\"],[0.6666666666666666,\"#ed7953\"],[0.7777777777777778,\"#fb9f3a\"],[0.8888888888888888,\"#fdca26\"],[1.0,\"#f0f921\"]]}],\"heatmap\":[{\"type\":\"heatmap\",\"colorbar\":{\"outlinewidth\":0,\"ticks\":\"\"},\"colorscale\":[[0.0,\"#0d0887\"],[0.1111111111111111,\"#46039f\"],[0.2222222222222222,\"#7201a8\"],[0.3333333333333333,\"#9c179e\"],[0.4444444444444444,\"#bd3786\"],[0.5555555555555556,\"#d8576b\"],[0.6666666666666666,\"#ed7953\"],[0.7777777777777778,\"#fb9f3a\"],[0.8888888888888888,\"#fdca26\"],[1.0,\"#f0f921\"]]}],\"heatmapgl\":[{\"type\":\"heatmapgl\",\"colorbar\":{\"outlinewidth\":0,\"ticks\":\"\"},\"colorscale\":[[0.0,\"#0d0887\"],[0.1111111111111111,\"#46039f\"],[0.2222222222222222,\"#7201a8\"],[0.3333333333333333,\"#9c179e\"],[0.4444444444444444,\"#bd3786\"],[0.5555555555555556,\"#d8576b\"],[0.6666666666666666,\"#ed7953\"],[0.7777777777777778,\"#fb9f3a\"],[0.8888888888888888,\"#fdca26\"],[1.0,\"#f0f921\"]]}],\"contourcarpet\":[{\"type\":\"contourcarpet\",\"colorbar\":{\"outlinewidth\":0,\"ticks\":\"\"}}],\"contour\":[{\"type\":\"contour\",\"colorbar\":{\"outlinewidth\":0,\"ticks\":\"\"},\"colorscale\":[[0.0,\"#0d0887\"],[0.1111111111111111,\"#46039f\"],[0.2222222222222222,\"#7201a8\"],[0.3333333333333333,\"#9c179e\"],[0.4444444444444444,\"#bd3786\"],[0.5555555555555556,\"#d8576b\"],[0.6666666666666666,\"#ed7953\"],[0.7777777777777778,\"#fb9f3a\"],[0.8888888888888888,\"#fdca26\"],[1.0,\"#f0f921\"]]}],\"surface\":[{\"type\":\"surface\",\"colorbar\":{\"outlinewidth\":0,\"ticks\":\"\"},\"colorscale\":[[0.0,\"#0d0887\"],[0.1111111111111111,\"#46039f\"],[0.2222222222222222,\"#7201a8\"],[0.3333333333333333,\"#9c179e\"],[0.4444444444444444,\"#bd3786\"],[0.5555555555555556,\"#d8576b\"],[0.6666666666666666,\"#ed7953\"],[0.7777777777777778,\"#fb9f3a\"],[0.8888888888888888,\"#fdca26\"],[1.0,\"#f0f921\"]]}],\"mesh3d\":[{\"type\":\"mesh3d\",\"colorbar\":{\"outlinewidth\":0,\"ticks\":\"\"}}],\"scatter\":[{\"fillpattern\":{\"fillmode\":\"overlay\",\"size\":10,\"solidity\":0.2},\"type\":\"scatter\"}],\"parcoords\":[{\"type\":\"parcoords\",\"line\":{\"colorbar\":{\"outlinewidth\":0,\"ticks\":\"\"}}}],\"scatterpolargl\":[{\"type\":\"scatterpolargl\",\"marker\":{\"colorbar\":{\"outlinewidth\":0,\"ticks\":\"\"}}}],\"bar\":[{\"error_x\":{\"color\":\"#2a3f5f\"},\"error_y\":{\"color\":\"#2a3f5f\"},\"marker\":{\"line\":{\"color\":\"#E5ECF6\",\"width\":0.5},\"pattern\":{\"fillmode\":\"overlay\",\"size\":10,\"solidity\":0.2}},\"type\":\"bar\"}],\"scattergeo\":[{\"type\":\"scattergeo\",\"marker\":{\"colorbar\":{\"outlinewidth\":0,\"ticks\":\"\"}}}],\"scatterpolar\":[{\"type\":\"scatterpolar\",\"marker\":{\"colorbar\":{\"outlinewidth\":0,\"ticks\":\"\"}}}],\"histogram\":[{\"marker\":{\"pattern\":{\"fillmode\":\"overlay\",\"size\":10,\"solidity\":0.2}},\"type\":\"histogram\"}],\"scattergl\":[{\"type\":\"scattergl\",\"marker\":{\"colorbar\":{\"outlinewidth\":0,\"ticks\":\"\"}}}],\"scatter3d\":[{\"type\":\"scatter3d\",\"line\":{\"colorbar\":{\"outlinewidth\":0,\"ticks\":\"\"}},\"marker\":{\"colorbar\":{\"outlinewidth\":0,\"ticks\":\"\"}}}],\"scattermapbox\":[{\"type\":\"scattermapbox\",\"marker\":{\"colorbar\":{\"outlinewidth\":0,\"ticks\":\"\"}}}],\"scatterternary\":[{\"type\":\"scatterternary\",\"marker\":{\"colorbar\":{\"outlinewidth\":0,\"ticks\":\"\"}}}],\"scattercarpet\":[{\"type\":\"scattercarpet\",\"marker\":{\"colorbar\":{\"outlinewidth\":0,\"ticks\":\"\"}}}],\"carpet\":[{\"aaxis\":{\"endlinecolor\":\"#2a3f5f\",\"gridcolor\":\"white\",\"linecolor\":\"white\",\"minorgridcolor\":\"white\",\"startlinecolor\":\"#2a3f5f\"},\"baxis\":{\"endlinecolor\":\"#2a3f5f\",\"gridcolor\":\"white\",\"linecolor\":\"white\",\"minorgridcolor\":\"white\",\"startlinecolor\":\"#2a3f5f\"},\"type\":\"carpet\"}],\"table\":[{\"cells\":{\"fill\":{\"color\":\"#EBF0F8\"},\"line\":{\"color\":\"white\"}},\"header\":{\"fill\":{\"color\":\"#C8D4E3\"},\"line\":{\"color\":\"white\"}},\"type\":\"table\"}],\"barpolar\":[{\"marker\":{\"line\":{\"color\":\"#E5ECF6\",\"width\":0.5},\"pattern\":{\"fillmode\":\"overlay\",\"size\":10,\"solidity\":0.2}},\"type\":\"barpolar\"}],\"pie\":[{\"automargin\":true,\"type\":\"pie\"}]},\"layout\":{\"autotypenumbers\":\"strict\",\"colorway\":[\"#636efa\",\"#EF553B\",\"#00cc96\",\"#ab63fa\",\"#FFA15A\",\"#19d3f3\",\"#FF6692\",\"#B6E880\",\"#FF97FF\",\"#FECB52\"],\"font\":{\"color\":\"#2a3f5f\"},\"hovermode\":\"closest\",\"hoverlabel\":{\"align\":\"left\"},\"paper_bgcolor\":\"white\",\"plot_bgcolor\":\"#E5ECF6\",\"polar\":{\"bgcolor\":\"#E5ECF6\",\"angularaxis\":{\"gridcolor\":\"white\",\"linecolor\":\"white\",\"ticks\":\"\"},\"radialaxis\":{\"gridcolor\":\"white\",\"linecolor\":\"white\",\"ticks\":\"\"}},\"ternary\":{\"bgcolor\":\"#E5ECF6\",\"aaxis\":{\"gridcolor\":\"white\",\"linecolor\":\"white\",\"ticks\":\"\"},\"baxis\":{\"gridcolor\":\"white\",\"linecolor\":\"white\",\"ticks\":\"\"},\"caxis\":{\"gridcolor\":\"white\",\"linecolor\":\"white\",\"ticks\":\"\"}},\"coloraxis\":{\"colorbar\":{\"outlinewidth\":0,\"ticks\":\"\"}},\"colorscale\":{\"sequential\":[[0.0,\"#0d0887\"],[0.1111111111111111,\"#46039f\"],[0.2222222222222222,\"#7201a8\"],[0.3333333333333333,\"#9c179e\"],[0.4444444444444444,\"#bd3786\"],[0.5555555555555556,\"#d8576b\"],[0.6666666666666666,\"#ed7953\"],[0.7777777777777778,\"#fb9f3a\"],[0.8888888888888888,\"#fdca26\"],[1.0,\"#f0f921\"]],\"sequentialminus\":[[0.0,\"#0d0887\"],[0.1111111111111111,\"#46039f\"],[0.2222222222222222,\"#7201a8\"],[0.3333333333333333,\"#9c179e\"],[0.4444444444444444,\"#bd3786\"],[0.5555555555555556,\"#d8576b\"],[0.6666666666666666,\"#ed7953\"],[0.7777777777777778,\"#fb9f3a\"],[0.8888888888888888,\"#fdca26\"],[1.0,\"#f0f921\"]],\"diverging\":[[0,\"#8e0152\"],[0.1,\"#c51b7d\"],[0.2,\"#de77ae\"],[0.3,\"#f1b6da\"],[0.4,\"#fde0ef\"],[0.5,\"#f7f7f7\"],[0.6,\"#e6f5d0\"],[0.7,\"#b8e186\"],[0.8,\"#7fbc41\"],[0.9,\"#4d9221\"],[1,\"#276419\"]]},\"xaxis\":{\"gridcolor\":\"white\",\"linecolor\":\"white\",\"ticks\":\"\",\"title\":{\"standoff\":15},\"zerolinecolor\":\"white\",\"automargin\":true,\"zerolinewidth\":2},\"yaxis\":{\"gridcolor\":\"white\",\"linecolor\":\"white\",\"ticks\":\"\",\"title\":{\"standoff\":15},\"zerolinecolor\":\"white\",\"automargin\":true,\"zerolinewidth\":2},\"scene\":{\"xaxis\":{\"backgroundcolor\":\"#E5ECF6\",\"gridcolor\":\"white\",\"linecolor\":\"white\",\"showbackground\":true,\"ticks\":\"\",\"zerolinecolor\":\"white\",\"gridwidth\":2},\"yaxis\":{\"backgroundcolor\":\"#E5ECF6\",\"gridcolor\":\"white\",\"linecolor\":\"white\",\"showbackground\":true,\"ticks\":\"\",\"zerolinecolor\":\"white\",\"gridwidth\":2},\"zaxis\":{\"backgroundcolor\":\"#E5ECF6\",\"gridcolor\":\"white\",\"linecolor\":\"white\",\"showbackground\":true,\"ticks\":\"\",\"zerolinecolor\":\"white\",\"gridwidth\":2}},\"shapedefaults\":{\"line\":{\"color\":\"#2a3f5f\"}},\"annotationdefaults\":{\"arrowcolor\":\"#2a3f5f\",\"arrowhead\":0,\"arrowwidth\":1},\"geo\":{\"bgcolor\":\"white\",\"landcolor\":\"#E5ECF6\",\"subunitcolor\":\"white\",\"showland\":true,\"showlakes\":true,\"lakecolor\":\"white\"},\"title\":{\"x\":0.05},\"mapbox\":{\"style\":\"light\"}}},\"coloraxis\":{\"colorbar\":{\"title\":{\"text\":\"Quality\"}},\"colorscale\":[[0.0,\"#440154\"],[0.1111111111111111,\"#482878\"],[0.2222222222222222,\"#3e4989\"],[0.3333333333333333,\"#31688e\"],[0.4444444444444444,\"#26828e\"],[0.5555555555555556,\"#1f9e89\"],[0.6666666666666666,\"#35b779\"],[0.7777777777777778,\"#6ece58\"],[0.8888888888888888,\"#b5de2b\"],[1.0,\"#fde725\"]],\"cmin\":0,\"cmax\":1},\"legend\":{\"tracegroupgap\":0},\"title\":{\"text\":\"XQLFW, Model QMagFace_SR\"}},                        {\"responsive\": true}                    ).then(function(){\n",
       "                            \n",
       "var gd = document.getElementById('8c81f22d-732b-461b-9451-bbd9731090ab');\n",
       "var x = new MutationObserver(function (mutations, observer) {{\n",
       "        var display = window.getComputedStyle(gd).display;\n",
       "        if (!display || display === 'none') {{\n",
       "            console.log([gd, 'removed!']);\n",
       "            Plotly.purge(gd);\n",
       "            observer.disconnect();\n",
       "        }}\n",
       "}});\n",
       "\n",
       "// Listen for the removal of the full notebook cells\n",
       "var notebookContainer = gd.closest('#notebook-container');\n",
       "if (notebookContainer) {{\n",
       "    x.observe(notebookContainer, {childList: true});\n",
       "}}\n",
       "\n",
       "// Listen for the clearing of the current output cell\n",
       "var outputEl = gd.closest('.output');\n",
       "if (outputEl) {{\n",
       "    x.observe(outputEl, {childList: true});\n",
       "}}\n",
       "\n",
       "                        })                };                });            </script>        </div>"
      ]
     },
     "metadata": {},
     "output_type": "display_data"
    }
   ],
   "source": [
    "#for source in dict.keys():\n",
    "for source in np.unique(df_plot.source):\n",
    "    for model in np.unique(df_plot.E_Model):\n",
    "        plot_sun(source,model)"
   ]
  },
  {
   "cell_type": "code",
   "execution_count": null,
   "metadata": {},
   "outputs": [],
   "source": [
    "df = dict['ForenFace']"
   ]
  },
  {
   "cell_type": "code",
   "execution_count": null,
   "metadata": {},
   "outputs": [],
   "source": [
    "df"
   ]
  },
  {
   "cell_type": "code",
   "execution_count": null,
   "metadata": {},
   "outputs": [],
   "source": [
    "source = 'XQLFW'\n",
    "df_plot = dict[source]\n",
    "df_plot.dropna(inplace=True)"
   ]
  },
  {
   "cell_type": "code",
   "execution_count": null,
   "metadata": {},
   "outputs": [],
   "source": [
    "fig = px.sunburst(df_plot, path=['gender','yaw','race','emotion'],   color=\"Quality\",\n",
    "                  color_continuous_scale=\"Viridis\",title=source) #values=\"gender\"#\"Q_model\", \"Detector\",\n",
    "#fig.update_layout(title=source)\n",
    "\n",
    "img_data = pio.to_image(fig,format='png',scale=3)\n",
    "\n",
    "pio.write_image(fig,source+\".png\",format='png', scale=6)\n",
    "fig.show()\n"
   ]
  },
  {
   "cell_type": "code",
   "execution_count": null,
   "metadata": {},
   "outputs": [],
   "source": [
    "type(img_data)"
   ]
  },
  {
   "cell_type": "code",
   "execution_count": null,
   "metadata": {},
   "outputs": [],
   "source": [
    "\n",
    "# Ajustar el tamaño de la figura\n",
    "plt.figure(figsize=(10, 6))\n",
    "\n",
    "# Crear el stripplot\n",
    "sns.swarmplot(x='yaw', hue='emotion', y= 'Quality',  data=df_plot)#,jitter=True,dodge=True,\n",
    "#sns.scatterplot(x='yaw2', hue='emotion2', y= 'Quality',  data=df2)#,dodge=True,\n",
    "# Mostrar el gráfico\n",
    "plt.show()\n"
   ]
  },
  {
   "cell_type": "code",
   "execution_count": null,
   "metadata": {},
   "outputs": [],
   "source": [
    "sns.swarmplot(x='race', hue='gender', y= 'Quality',  data=df_plot)#,jitter=True,dodge=True,"
   ]
  },
  {
   "cell_type": "code",
   "execution_count": null,
   "metadata": {},
   "outputs": [],
   "source": [
    "import plotly.express as px\n",
    "\n",
    "fig = px.treemap(df_plot, path=['Q_group', 'Q_model', 'Detector', 'gender'], title=\"Mosaic Plot\")\n",
    "fig.show()"
   ]
  },
  {
   "cell_type": "code",
   "execution_count": null,
   "metadata": {},
   "outputs": [],
   "source": [
    "\n",
    "\n",
    "# # Tabla de contingencia para Quality_group y Detector\n",
    "# contingency_table_detector = pd.crosstab(df_plot['Q_group'], df_plot['Detector'])\n",
    "\n",
    "# # Tabla de contingencia para Quality_group y Quality_model\n",
    "# contingency_table_quality_model = pd.crosstab(df_plot['Q_group'], df_plot['Q_model'])\n",
    "\n",
    "# # Tabla de contingencia para Quality_group y yaw\n",
    "# contingency_table_yaw = pd.crosstab(df_plot['Q_group'], df_plot['yaw'])\n",
    "\n",
    "# # Tabla de contingencia para Quality_group y gender\n",
    "# contingency_table_gender = pd.crosstab(df_plot['Q_group'], df_plot['gender'])\n",
    "\n",
    "\n",
    "# # Tabla de contingencia para Quality_group y emotion\n",
    "# contingency_table_emotion = pd.crosstab(df_plot['Q_group'], df_plot['emotion'])\n",
    "\n",
    "# # Tabla de contingencia para Quality_group y race\n",
    "# contingency_table_race = pd.crosstab(df_plot['Q_group'], df_plot['race'])\n"
   ]
  },
  {
   "cell_type": "code",
   "execution_count": null,
   "metadata": {},
   "outputs": [],
   "source": [
    "\n",
    "# def norm_table (df):\n",
    "#     for col in df.columns:\n",
    "#         df[col] = df[col]/sum(df[col])\n",
    "\n"
   ]
  },
  {
   "cell_type": "code",
   "execution_count": null,
   "metadata": {},
   "outputs": [],
   "source": [
    "# norm_table(contingency_table_quality_model)\n"
   ]
  },
  {
   "cell_type": "code",
   "execution_count": null,
   "metadata": {},
   "outputs": [],
   "source": [
    "# norm_table(contingency_table_detector)\n",
    "# contingency_table_detector"
   ]
  },
  {
   "cell_type": "code",
   "execution_count": null,
   "metadata": {},
   "outputs": [],
   "source": [
    "# norm_table(contingency_table_gender)\n",
    "# contingency_table_gender"
   ]
  },
  {
   "cell_type": "code",
   "execution_count": null,
   "metadata": {},
   "outputs": [],
   "source": [
    "# norm_table(contingency_table_yaw)\n",
    "# contingency_table_yaw"
   ]
  },
  {
   "cell_type": "code",
   "execution_count": null,
   "metadata": {},
   "outputs": [],
   "source": [
    "# norm_table(contingency_table_race)\n",
    "# contingency_table_race"
   ]
  },
  {
   "cell_type": "code",
   "execution_count": null,
   "metadata": {},
   "outputs": [],
   "source": [
    "# norm_table(contingency_table_emotion)\n",
    "# contingency_table_emotion"
   ]
  },
  {
   "cell_type": "code",
   "execution_count": null,
   "metadata": {},
   "outputs": [],
   "source": [
    "# contingency_table_emotion.plot(kind='bar', subplots=False)\n",
    "# plt.legend(loc='best')\n"
   ]
  },
  {
   "cell_type": "code",
   "execution_count": null,
   "metadata": {},
   "outputs": [],
   "source": [
    "# contingency_table_race.plot(kind='bar', subplots=False)\n",
    "# plt.legend(loc='best')\n"
   ]
  },
  {
   "cell_type": "code",
   "execution_count": null,
   "metadata": {},
   "outputs": [],
   "source": [
    "# contingency_table_yaw.plot(kind='bar', subplots=False)\n",
    "# plt.legend(loc='best')\n"
   ]
  },
  {
   "cell_type": "code",
   "execution_count": null,
   "metadata": {},
   "outputs": [],
   "source": [
    "import matplotlib.pyplot as plt\n",
    "\n",
    "def plot_stacked_bar(contingency_table, title, xlabel, ylabel):\n",
    "    ax = contingency_table.plot(kind='bar', stacked=True, figsize=(10, 7))\n",
    "    plt.title(title)\n",
    "    plt.xlabel(xlabel)\n",
    "    plt.ylabel(ylabel)\n",
    "    plt.legend(loc='best')\n",
    "    plt.show()\n",
    "\n",
    "# plot_stacked_bar(contingency_table_detector, 'Quality_group vs Detector', 'Quality_group', 'Frequency')\n",
    "# plot_stacked_bar(contingency_table_quality_model, 'Quality_group vs Quality_model', 'Quality_group', 'Frequency')\n",
    "# plot_stacked_bar(contingency_table_yaw, 'Quality_group vs yaw', 'Quality_group', 'Frequency')\n",
    "# plot_stacked_bar(contingency_table_gender, 'Quality_group vs gender', 'Quality_group', 'Frequency')\n"
   ]
  },
  {
   "cell_type": "code",
   "execution_count": null,
   "metadata": {},
   "outputs": [],
   "source": [
    "df_plot.head()\n"
   ]
  },
  {
   "cell_type": "code",
   "execution_count": null,
   "metadata": {},
   "outputs": [],
   "source": [
    "import plotly.io as pio\n",
    "\n",
    "#fig = ...  # tu figura de plotly aquí\n",
    "#pio.write_image(fig, 'figure.png', format='png', scale=2) "
   ]
  },
  {
   "cell_type": "code",
   "execution_count": null,
   "metadata": {},
   "outputs": [],
   "source": []
  },
  {
   "cell_type": "code",
   "execution_count": null,
   "metadata": {},
   "outputs": [],
   "source": [
    "# Crear un gráfico sunburst con Plotly\n",
    "fig1 = px.sunburst(df_plot1, path=['race','gender'],   color=\"Quality\",\n",
    "                  color_continuous_scale=\"Viridis\") #values=\"gender\"#\"Q_model\", \"Detector\",\n",
    "fig2 = px.sunburst(df_plot1, path=['yaw','emotion'],   color=\"Quality\",\n",
    "                  color_continuous_scale=\"Viridis\") #values=\"gender\"#\"Q_model\", \"Detector\",\n",
    "fig3 = px.sunburst(df_plot1, path=['Detector','yaw','emotion'],   color=\"Quality\",\n",
    "                  color_continuous_scale=\"Viridis\") #values=\"gender\"#\"Q_model\", \"Detector\",\n",
    "fig4 = px.sunburst(df_plot1, path=['gender','race','yaw','emotion'],   color=\"Quality\",\n",
    "                  color_continuous_scale=\"Viridis\") #values=\"gender\"#\"Q_model\", \"Detector\",\n",
    "fig5 = px.sunburst(df_plot1, path=['Detector','gender','yaw','race','emotion'],   color=\"Quality\",\n",
    "                  color_continuous_scale=\"Viridis\") #values=\"gender\"#\"Q_model\", \"Detector\",\n",
    "\n",
    "fig1.show()\n",
    "fig2.show()\n",
    "fig3.show()\n",
    "fig4.show()\n",
    "fig5.show()"
   ]
  },
  {
   "cell_type": "code",
   "execution_count": null,
   "metadata": {},
   "outputs": [],
   "source": [
    "# Crear un gráfico sunburst con Plotly\n",
    "fig1 = px.sunburst(df_plot1, path=['race','gender'],   color=\"Quality\",\n",
    "                  color_continuous_scale=\"Viridis\") #values=\"gender\"#\"Q_model\", \"Detector\",\n",
    "fig2 = px.sunburst(df_plot1, path=['yaw','emotion'],   color=\"Quality\",\n",
    "                  color_continuous_scale=\"Viridis\") #values=\"gender\"#\"Q_model\", \"Detector\",\n",
    "fig3 = px.sunburst(df_plot1, path=['Detector','yaw','emotion'],   color=\"Quality\",\n",
    "                  color_continuous_scale=\"Viridis\") #values=\"gender\"#\"Q_model\", \"Detector\",\n",
    "fig4 = px.sunburst(df_plot1, path=['gender','race','yaw','emotion'],   color=\"Quality\",\n",
    "                  color_continuous_scale=\"Viridis\") #values=\"gender\"#\"Q_model\", \"Detector\",\n",
    "fig5 = px.sunburst(df_plot1, path=['Detector','gender','yaw','race','emotion'],   color=\"Quality\",\n",
    "                  color_continuous_scale=\"Viridis\") #values=\"gender\"#\"Q_model\", \"Detector\",\n",
    "\n",
    "fig1.show()\n",
    "fig2.show()\n",
    "fig3.show()\n",
    "fig4.show()\n",
    "fig5.show()"
   ]
  },
  {
   "cell_type": "code",
   "execution_count": null,
   "metadata": {},
   "outputs": [],
   "source": [
    "tabla1 =df_plot1.groupby(['Q_model','Detector',\"gender\",'race','yaw','emotion']).agg({\"Quality\":[\"count\",\"mean\"]})"
   ]
  },
  {
   "cell_type": "code",
   "execution_count": null,
   "metadata": {},
   "outputs": [],
   "source": [
    "type(tabla)"
   ]
  },
  {
   "cell_type": "code",
   "execution_count": null,
   "metadata": {},
   "outputs": [],
   "source": [
    "tabla1.to_excel(\"tabla_serfiq.xlsx\")"
   ]
  },
  {
   "cell_type": "code",
   "execution_count": null,
   "metadata": {},
   "outputs": [],
   "source": [
    "df.angle_yaw"
   ]
  },
  {
   "cell_type": "code",
   "execution_count": null,
   "metadata": {},
   "outputs": [],
   "source": [
    "df_plot.yaw.value_counts()"
   ]
  }
 ],
 "metadata": {
  "kernelspec": {
   "display_name": "lr-video",
   "language": "python",
   "name": "python3"
  },
  "language_info": {
   "codemirror_mode": {
    "name": "ipython",
    "version": 3
   },
   "file_extension": ".py",
   "mimetype": "text/x-python",
   "name": "python",
   "nbconvert_exporter": "python",
   "pygments_lexer": "ipython3",
   "version": "3.8.15"
  },
  "orig_nbformat": 4
 },
 "nbformat": 4,
 "nbformat_minor": 2
}
