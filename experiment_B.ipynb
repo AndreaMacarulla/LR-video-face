{
 "cells": [
  {
   "attachments": {},
   "cell_type": "markdown",
   "metadata": {},
   "source": [
    "# Imports\n",
    "Import python libraries"
   ]
  },
  {
   "cell_type": "code",
   "execution_count": 1,
   "metadata": {},
   "outputs": [],
   "source": [
    "import os\n",
    "import pandas as pd\n",
    "import numpy as np\n",
    "\n",
    "from tqdm import tqdm\n",
    "from itertools import combinations, product"
   ]
  },
  {
   "attachments": {},
   "cell_type": "markdown",
   "metadata": {},
   "source": [
    "# Input and output directories\n",
    "Where the sql database is and which folder the results are saved."
   ]
  },
  {
   "cell_type": "code",
   "execution_count": 5,
   "metadata": {},
   "outputs": [],
   "source": [
    "home = os.path.expanduser(\"~\")\n",
    "\n",
    "# SQL database path and name\n",
    "input_dir = os.path.join(home, 'video_resources', 'sql_database')\n",
    "\n",
    "# path to images\n",
    "image_dir = os.path.join(home, 'video_resources','image_datasets')\n",
    "\n",
    "# Where results are saved\n",
    "output_dir = os.path.join(home, 'video_resources', 'experiment')"
   ]
  },
  {
   "attachments": {},
   "cell_type": "markdown",
   "metadata": {},
   "source": [
    "# Images to show"
   ]
  },
  {
   "cell_type": "code",
   "execution_count": null,
   "metadata": {},
   "outputs": [],
   "source": [
    "dif1 ='xqlfw/Donatella_Versace/Donatella_Versace_0003.jpg'\n",
    "dif2 = 'xqlfw/Mona_Ayoub/Mona_Ayoub_0001.jpg'\n",
    "\n",
    "same1='xqlfw/George_W_Bush/George_W_Bush_0223.jpg'\n",
    "same2='xqlfw/George_W_Bush/George_W_Bush_0183.jpg'\n",
    "\t\n"
   ]
  },
  {
   "attachments": {},
   "cell_type": "markdown",
   "metadata": {},
   "source": [
    "# Get images"
   ]
  },
  {
   "cell_type": "code",
   "execution_count": 12,
   "metadata": {},
   "outputs": [],
   "source": [
    "imagenes = pd.read_pickle(os.path.join(output_dir,'imagenes.pkl'))"
   ]
  },
  {
   "attachments": {},
   "cell_type": "markdown",
   "metadata": {},
   "source": [
    "Defino la funcion de distancia o similitud"
   ]
  },
  {
   "cell_type": "code",
   "execution_count": null,
   "metadata": {},
   "outputs": [],
   "source": [
    "#hago la funcion coseno por hacer una\n",
    "def similitud(a,b):\n",
    "    a1 = np.array(a)\n",
    "    b1 = np.array(b)\n",
    "\n",
    "    return( np.dot(a1,b1)/(np.linalg.norm(a1)*np.linalg.norm(b1)))\n"
   ]
  },
  {
   "attachments": {},
   "cell_type": "markdown",
   "metadata": {},
   "source": [
    "Buscar dentro de la misma identidad"
   ]
  },
  {
   "cell_type": "code",
   "execution_count": null,
   "metadata": {},
   "outputs": [],
   "source": [
    "combinaciones = combinations(imagenes.iterrows(), 2)\n",
    "\n",
    "same = [(a,b)for a,b in combinaciones if a['identity'] == b['identity']]\n",
    "different = [(a,b)for a,b in combinaciones if a['identity'] != b['identity']]\n"
   ]
  },
  {
   "cell_type": "code",
   "execution_count": null,
   "metadata": {},
   "outputs": [],
   "source": [
    "df_resultado = pd.DataFrame(columns=['path1', 'path2', 'resultado'])"
   ]
  },
  {
   "cell_type": "code",
   "execution_count": null,
   "metadata": {},
   "outputs": [],
   "source": [
    "#identities = set(df1.identity)\n",
    "identities = []"
   ]
  },
  {
   "cell_type": "code",
   "execution_count": null,
   "metadata": {},
   "outputs": [],
   "source": [
    "\n",
    "for identity in tqdm(identities) :\n",
    "    dfx = df1.loc[(df1.identity == identity)]\n",
    "    if len(dfx) > 1:\n",
    "        combinaciones = list(combinations(dfx.iterrows(), 2))\n",
    "\n",
    "        # Iterar sobre las combinaciones\n",
    "        for comb in tqdm(combinaciones):\n",
    "            index1, row1 = comb[0]\n",
    "            index2, row2 = comb[1]\n",
    "    \n",
    "            path1 = row1['path']\n",
    "            path2 = row2['path']\n",
    "    \n",
    "            # Realizar la operación deseada (ejemplo: suma de los embeddings)\n",
    "            resultado = similitud(row1['embeddings'] , row2['embeddings'])\n",
    "    \n",
    "            # Agregar los resultados al DataFrame de resultado\n",
    "            df_resultado = df_resultado.append({\n",
    "            'path1': path1,\n",
    "            'path2': path2,\n",
    "            'resultado': resultado\n",
    "            }, ignore_index=True)\n",
    "        \n",
    "        \n"
   ]
  },
  {
   "cell_type": "code",
   "execution_count": null,
   "metadata": {},
   "outputs": [],
   "source": [
    "if len(df_resultado):\n",
    "    df_resultado.to_pickle(os.path.join(output_dir,'misma_identidad.pkl'))\n",
    "    df_resultado.to_excel(os.path.join(output_dir,'misma_identidad.xlsx'))"
   ]
  },
  {
   "attachments": {},
   "cell_type": "markdown",
   "metadata": {},
   "source": [
    "Buscar en diferentes identidades"
   ]
  },
  {
   "cell_type": "code",
   "execution_count": null,
   "metadata": {},
   "outputs": [],
   "source": [
    "identities = list(set(df1.identity))\n",
    "#identities = []"
   ]
  },
  {
   "cell_type": "code",
   "execution_count": null,
   "metadata": {},
   "outputs": [],
   "source": [
    "df_resultado = pd.DataFrame(columns=['path1', 'path2', 'resultado'])"
   ]
  },
  {
   "cell_type": "code",
   "execution_count": null,
   "metadata": {},
   "outputs": [],
   "source": [
    "for i,identity in enumerate(identities):\n",
    "    print(i)\n",
    "    dfx = df1.loc[(df1.identity == identity)]\n",
    "    dfy = df1.loc[(df1.identity > identity)]\n",
    "    \n",
    "    combinaciones = list(product(dfx.iterrows(), dfy.iterrows()))\n",
    "\n",
    "        # Iterar sobre las combinaciones\n",
    "    df_parcial = pd.DataFrame(columns=['path1', 'path2', 'resultado'])\n",
    "    for comb in tqdm(combinaciones):\n",
    "        \n",
    "        index1, row1 = comb[0]\n",
    "        index2, row2 = comb[1]\n",
    "    \n",
    "        path1 = row1['path']\n",
    "        path2 = row2['path']\n",
    "    \n",
    "        # Realizar la operación deseada (ejemplo: suma de los embeddings)\n",
    "        resultado = similitud(row1['embeddings'] , row2['embeddings'])\n",
    "    \n",
    "            # Agregar los resultados al DataFrame de resultado\n",
    "        df_parcial = df_parcial.append({\n",
    "        'path1': path1,\n",
    "        'path2': path2,\n",
    "        'resultado': resultado\n",
    "        }, ignore_index=True)\n",
    "\n",
    "        if len(df_parcial)>1000:\n",
    "            df_ordenado = df_parcial.sort_values(by='resultado', ascending=False)\n",
    "            df_parcial = df_ordenado.head(10)\n",
    "\n",
    "    #para cada identidad solo cogemos las 10 imágenes que más se le parecen     \n",
    "    df_ordenado = df_parcial.sort_values(by='resultado', ascending=False)\n",
    "    df_resultado = df_resultado.append(df_ordenado.head(10), ignore_index=True)\n",
    "    df_resultado.to_pickle(os.path.join(output_dir,'diferente_identidad.pkl'))\n",
    "        "
   ]
  },
  {
   "cell_type": "code",
   "execution_count": 23,
   "metadata": {},
   "outputs": [],
   "source": [
    "df_resultado.to_excel(os.path.join(output_dir,'diferente_identidad_0.xlsx'))"
   ]
  },
  {
   "cell_type": "code",
   "execution_count": null,
   "metadata": {},
   "outputs": [],
   "source": [
    "df_resultado = pd.read_pickle(os.path.join(output_dir,'diferente_identidad.pkl'))"
   ]
  },
  {
   "cell_type": "code",
   "execution_count": null,
   "metadata": {},
   "outputs": [],
   "source": [
    "if len(df_resultado):\n",
    "    df_resultado.to_pickle(os.path.join(output_dir,'diferente_identidad.pkl'))\n",
    "    df_resultado.to_excel(os.path.join(output_dir,'diferente_identidad.xlsx'))"
   ]
  },
  {
   "cell_type": "code",
   "execution_count": null,
   "metadata": {},
   "outputs": [],
   "source": [
    "len(identities)"
   ]
  }
 ],
 "metadata": {
  "kernelspec": {
   "display_name": "lr-video",
   "language": "python",
   "name": "python3"
  },
  "language_info": {
   "codemirror_mode": {
    "name": "ipython",
    "version": 3
   },
   "file_extension": ".py",
   "mimetype": "text/x-python",
   "name": "python",
   "nbconvert_exporter": "python",
   "pygments_lexer": "ipython3",
   "version": "3.8.15"
  },
  "orig_nbformat": 4,
  "vscode": {
   "interpreter": {
    "hash": "ae0b102d19e51505dfa7f9c4c891943d4814851bfb0fb9ee13b9b1dd2d5eef8a"
   }
  }
 },
 "nbformat": 4,
 "nbformat_minor": 2
}
