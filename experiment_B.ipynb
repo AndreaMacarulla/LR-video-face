{
 "cells": [
  {
   "attachments": {},
   "cell_type": "markdown",
   "metadata": {},
   "source": [
    "# Imports\n",
    "Import python libraries"
   ]
  },
  {
   "cell_type": "code",
   "execution_count": 9,
   "metadata": {},
   "outputs": [],
   "source": [
    "import os\n",
    "import pandas as pd\n",
    "import numpy as np\n",
    "import random\n",
    "\n",
    "from tqdm import tqdm\n",
    "from itertools import combinations, product"
   ]
  },
  {
   "attachments": {},
   "cell_type": "markdown",
   "metadata": {},
   "source": [
    "# Input and output directories\n",
    "Where the sql database is and which folder the results are saved."
   ]
  },
  {
   "cell_type": "code",
   "execution_count": 10,
   "metadata": {},
   "outputs": [],
   "source": [
    "home = os.path.expanduser(\"~\")\n",
    "\n",
    "# SQL database path and name\n",
    "input_dir = os.path.join(home, 'video_resources', 'sql_database')\n",
    "\n",
    "# path to images\n",
    "image_dir = os.path.join(home, 'video_resources','image_datasets')\n",
    "\n",
    "# Where results are saved\n",
    "output_dir = os.path.join(home, 'video_resources', 'experiment')"
   ]
  },
  {
   "attachments": {},
   "cell_type": "markdown",
   "metadata": {},
   "source": [
    "# Images to show"
   ]
  },
  {
   "cell_type": "code",
   "execution_count": 11,
   "metadata": {},
   "outputs": [],
   "source": [
    "dif1 ='xqlfw/Donatella_Versace/Donatella_Versace_0003.jpg'\n",
    "dif2 = 'xqlfw/Mona_Ayoub/Mona_Ayoub_0001.jpg'\n",
    "\n",
    "same1='xqlfw/George_W_Bush/George_W_Bush_0223.jpg'\n",
    "same2='xqlfw/George_W_Bush/George_W_Bush_0183.jpg'\n",
    "\t\n"
   ]
  },
  {
   "attachments": {},
   "cell_type": "markdown",
   "metadata": {},
   "source": [
    "# Get images and datafram with same identity pairs"
   ]
  },
  {
   "cell_type": "code",
   "execution_count": 12,
   "metadata": {},
   "outputs": [],
   "source": [
    "imagenes = pd.read_pickle(os.path.join(output_dir,'imagenes.pkl'))\n",
    "pd_misma = pd.read_pickle(os.path.join(output_dir,'misma_identidad.pkl'))\n",
    "imagenes_aleatorio = imagenes.sample(frac=1).reset_index(drop=True)\n",
    "pd_dif = pd.DataFrame(columns = pd_misma.columns)"
   ]
  },
  {
   "cell_type": "code",
   "execution_count": 13,
   "metadata": {},
   "outputs": [],
   "source": [
    "n = len(imagenes)\n",
    "m = len(pd_misma)\n",
    "ntotal = int(n*(n-1)/2)\n",
    "\n",
    "aleatoria = random.sample(range(ntotal),2*m)"
   ]
  },
  {
   "attachments": {},
   "cell_type": "markdown",
   "metadata": {},
   "source": [
    "# generador de diferentes"
   ]
  },
  {
   "cell_type": "code",
   "execution_count": 14,
   "metadata": {},
   "outputs": [],
   "source": [
    "diferentes = ((a[1],b[1]) for a,b in combinations(imagenes_aleatorio.iterrows(), 2) if a[1].identity != b[1].identity)"
   ]
  },
  {
   "attachments": {},
   "cell_type": "markdown",
   "metadata": {},
   "source": [
    "Defino la funcion de distancia o similitud"
   ]
  },
  {
   "cell_type": "code",
   "execution_count": 15,
   "metadata": {},
   "outputs": [],
   "source": [
    "#hago la funcion coseno por hacer una\n",
    "def similitud(a,b):\n",
    "    a1 = np.array(a)\n",
    "    b1 = np.array(b)\n",
    "\n",
    "    return( np.dot(a1,b1)/(np.linalg.norm(a1)*np.linalg.norm(b1)))\n"
   ]
  },
  {
   "attachments": {},
   "cell_type": "markdown",
   "metadata": {},
   "source": [
    "obtener diferentes"
   ]
  },
  {
   "cell_type": "code",
   "execution_count": 16,
   "metadata": {},
   "outputs": [
    {
     "name": "stderr",
     "output_type": "stream",
     "text": [
      "100%|██████████| 240295/240295 [08:46<00:00, 456.35it/s]\n"
     ]
    }
   ],
   "source": [
    "#n = len(aleatoria)\n",
    "for indice in tqdm(range (m)):\n",
    "    dif = next(diferentes)\n",
    "    data2 = {'path1': [dif[0].path],\n",
    "            'path2': [dif[1].path],\n",
    "            'resultado': [similitud(dif[0].embeddings,dif[1].embeddings)]} \n",
    "    df2 = pd.DataFrame(data2)           \n",
    "    \n",
    "    pd_dif = pd.concat([pd_dif,df2], ignore_index=True)\n",
    "\n",
    "pd_dif.to_pickle(os.path.join(output_dir,'diferentes.pkl'))            "
   ]
  },
  {
   "cell_type": "code",
   "execution_count": 17,
   "metadata": {},
   "outputs": [],
   "source": [
    "pd_dif.to_pickle(os.path.join(output_dir,'diferentes.pkl'))\n",
    "pd_dif.to_excel(os.path.join(output_dir,'diferentes.xlsx'))"
   ]
  },
  {
   "cell_type": "code",
   "execution_count": null,
   "metadata": {},
   "outputs": [],
   "source": [
    "#same = [(a[1],b[1]) for a,b in combinaciones if a[1].identity == b[1].identity]"
   ]
  }
 ],
 "metadata": {
  "kernelspec": {
   "display_name": "lr-video",
   "language": "python",
   "name": "python3"
  },
  "language_info": {
   "codemirror_mode": {
    "name": "ipython",
    "version": 3
   },
   "file_extension": ".py",
   "mimetype": "text/x-python",
   "name": "python",
   "nbconvert_exporter": "python",
   "pygments_lexer": "ipython3",
   "version": "3.8.15"
  },
  "orig_nbformat": 4,
  "vscode": {
   "interpreter": {
    "hash": "ae0b102d19e51505dfa7f9c4c891943d4814851bfb0fb9ee13b9b1dd2d5eef8a"
   }
  }
 },
 "nbformat": 4,
 "nbformat_minor": 2
}
