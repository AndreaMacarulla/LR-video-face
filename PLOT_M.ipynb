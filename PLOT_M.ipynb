{
 "cells": [
  {
   "cell_type": "code",
   "execution_count": 1,
   "metadata": {},
   "outputs": [],
   "source": [
    "import os\n",
    "import fnmatch\n",
    "\n",
    "import numpy as np\n",
    "import pandas as pd\n",
    "\n",
    "from matplotlib import pyplot as plt\n",
    "from lr_video_face.plots import *\n",
    "\n",
    "from lir import Xy_to_Xn, metrics"
   ]
  },
  {
   "cell_type": "code",
   "execution_count": 2,
   "metadata": {},
   "outputs": [],
   "source": [
    "\n",
    "home = os.path.expanduser(\"~\")\n",
    "\n",
    "# SQL database path and name\n",
    "input_dir = os.path.join(home, 'video_resources', 'sql_database')\n",
    "#db_name = 'colab_main_dataset'\n",
    "# Where results are saved\n",
    "output_dir = os.path.join(home, 'video_resources', 'exp_output_SCFACELFW_nofiltros')\n",
    "\n",
    "#Traducción de nombres\n",
    "dic_emb = {'Facenet512': 'FaceNet', 'QMagFace':'QMagFace', 'ArcFace':'ArcFace'}\n",
    "dic_qua = {'tface' : 'SDD-FIQA','ser_fiq': 'SER-FIQ'}"
   ]
  },
  {
   "cell_type": "code",
   "execution_count": 3,
   "metadata": {},
   "outputs": [],
   "source": [
    "\n",
    "files = []\n",
    "for root, dir, filenames in os.walk(output_dir):\n",
    "    for filename in fnmatch.filter(filenames, 'dat*.pd'):\n",
    "        files.append(os.path.join(root, filename))\n",
    "   "
   ]
  },
  {
   "cell_type": "code",
   "execution_count": 4,
   "metadata": {},
   "outputs": [],
   "source": [
    "def generate_plot(file):\n",
    "\n",
    "    df0 = pd.read_pickle(file)\n",
    "\n",
    "    if len(pd.unique(df0.Detector)) == 1 and len(pd.unique(df0.Calibrator)) == 1:\n",
    "\n",
    "        cols = list(pd.unique(df0['Embedding Model']))\n",
    "        rows = list(pd.unique(df0['Quality Model']))\n",
    "\n",
    "        #generamos la gráfica con subplots\n",
    "        fig,ax = plt.subplots(nrows = len(rows), ncols = len(cols), squeeze= False, figsize= (25,10))\n",
    "        \n",
    "        for index, df1 in df0.iterrows():\n",
    "\n",
    "            col = cols.index(df1['Embedding Model'])\n",
    "            row = rows.index(df1['Quality Model'])\n",
    "\n",
    "            ax1 = ax[row][col]\n",
    "            #ax1.ylabel = df1['Embedding Model']\n",
    "            #ax1.set_title ( f\"Quality Model: {dic_qua [df1['Quality Model']]}\")\n",
    "            ax1.set_title ( f\"Embedding Model: {dic_emb [df1['Embedding Model']]}\",fontsize = 14)\n",
    "\n",
    "            subplot_new(ax1,df1.Results, df1.Cllr)\n",
    "            #ax1.set(ylabel= f\"Embedding Model: {dic_emb[df1['Embedding Model']]}\\n Cllr\")\n",
    "            \n",
    "            #ax1.set(ylabel= f\"Quality Model: {dic_qua[df1['Quality Model']]}\\n Cllr\")\n",
    "            ax1.set_ylabel(f\"Quality Model: {dic_qua[df1['Quality Model']]}\\n Cllr\",fontsize = 14)\n",
    "            ax1.set_xlabel('% of discarded pairs',fontsize=14)\n",
    "        plt.suptitle('$C_{llr}$ Values',fontsize=18)\n",
    "\n",
    "        #leyenda global\n",
    "        plt.legend(bbox_to_anchor=(1.05, 1), loc='upper left', fontsize=14, borderaxespad=0.)\n",
    "        fig.tight_layout()\n",
    "        #savefig = os.path.join(self.experiments.output_dir, f\"cllr_summary_ESX{self.experiments.embedding_model_as_scorer}\")\n",
    "        savefig = os.path.join(os.path.dirname(file), os.path.splitext(file)[0]+'_v4')\n",
    "        plt.savefig(savefig, dpi=600)\n",
    "        plt.close() "
   ]
  },
  {
   "cell_type": "code",
   "execution_count": 5,
   "metadata": {},
   "outputs": [],
   "source": [
    "def generate_latex(file):\n",
    "    df0 = pd.read_pickle(file)\n",
    "\n",
    "\n",
    "    \n",
    "    \n",
    "\n",
    "    if len(pd.unique(df0.Detector)) == 1 and len(pd.unique(df0.Calibrator)) == 1:\n",
    "        df_latex = pd.DataFrame()\n",
    "\n",
    "        for index, df1 in df0.iterrows():    \n",
    "\n",
    "            emb_model = df1['Embedding Model']\n",
    "            qua_model = df1['Quality Model']\n",
    "            # the results are only received for 2015\n",
    "            lrs_predicted = df1.Results[\"lrs_predicted\"]\n",
    "            y_test = df1.Results[\"y_test\"]\n",
    "            dropouts = df1.Results[\"quality_drops\"]\n",
    "            common_attributes = df1.Results['common_attributes']\n",
    "    \n",
    "            cllr_participants = np.mean(df1.Cllr)\n",
    "\n",
    "            # imagen promedio (17 comparisons)\n",
    "            lr_avg = df1.Results[\"lrs_predicted_2015\"]\n",
    "            y_avg = df1.Results[\"y_test_2015\"]    \n",
    "    \n",
    "            cllr_avg = metrics.cllr(np.asarray(lr_avg), np.asarray(y_avg)) \n",
    "            df_latex = df_latex.append({'Embedding_model': 'Participants',\n",
    "                                            'Quality_model': dic_qua[qua_model],\n",
    "                                             'Cllr': cllr_participants},ignore_index = True)\n",
    "            df_latex = df_latex.append({'Embedding_model': 'Average Image',\n",
    "                                            'Quality_model': dic_qua[qua_model],\n",
    "                                             'Cllr': cllr_avg},ignore_index = True)\n",
    "\n",
    "            #get cllr per dropout\n",
    "\n",
    "            \n",
    "            for d in set(dropouts):\n",
    "                lr_d = [lr for lr,dropout in zip(lrs_predicted,dropouts) if dropout== d ]\n",
    "                y_d = [y for y,dropout in zip(y_test,dropouts) if dropout== d ]\n",
    "                cllr_d = metrics.cllr(np.asarray(lr_d), np.asarray(y_d))\n",
    "\n",
    "            #solo cambio en el momento de plotear\n",
    "                df_latex = df_latex.append({'Embedding_model': dic_emb[emb_model],\n",
    "                                            'Quality_model': dic_qua[qua_model],\n",
    "                                             'Cllr': cllr_d,\n",
    "                                             'Dropout': 100*(1-d)},ignore_index = True)\n",
    "\n",
    "            df_latex.sort_values(by= 'Dropout', inplace = True)\n",
    "            #df_latex.dropna(inplace= True)\n",
    "\n",
    "            \n",
    "\n",
    "            # get cllr per common attributes\n",
    "            # filter results when dropout = 1 \n",
    "            lrs = [lr for lr,drop in zip(lrs_predicted,dropouts) if drop== 1] \n",
    "            ys = [y for y,drop in zip(y_test,dropouts) if drop== 1]\n",
    "            comatt = [ca for ca,drop in zip(common_attributes,dropouts) if drop== 1]\n",
    "\n",
    "\n",
    "            #df_plot2 = pd.DataFrame()\n",
    "            for c in set(comatt):\n",
    "                lr_c = [lr for lr,com in zip(lrs,comatt) if com== c ]\n",
    "                y_c = [y for y,comm in zip(ys,comatt) if comm== c ]\n",
    "                cllr_c = metrics.cllr(np.asarray(lr_c), np.asarray(y_c))\n",
    "                df_latex = df_latex.append({'Embedding_model': dic_emb[emb_model],\n",
    "                                            'Quality_model': dic_qua[qua_model],\n",
    "                                             'Cllr': cllr_c,\n",
    "                                             'Common Attributes': c},ignore_index = True)\n",
    "        \n",
    "            df_latex.sort_values(by= 'Common Attributes', inplace = True)\n",
    "            #df_latex.dropna(inplace= True)   \n",
    "\n",
    "#----\n",
    "        latex_table = df_latex.to_latex(index=False)\n",
    "        savelatex = os.path.join(os.path.dirname(file), os.path.splitext(file)[0]+'.tex')\n",
    "\n",
    "        with open (savelatex,'w') as f:\n",
    "            f.write(latex_table)"
   ]
  },
  {
   "cell_type": "code",
   "execution_count": 6,
   "metadata": {},
   "outputs": [
    {
     "ename": "TypeError",
     "evalue": "writerow() takes exactly one argument (2 given)",
     "output_type": "error",
     "traceback": [
      "\u001b[0;31m---------------------------------------------------------------------------\u001b[0m",
      "\u001b[0;31mTypeError\u001b[0m                                 Traceback (most recent call last)",
      "\u001b[1;32m/home/jmacarulla/lr-video-face/PLOT_M.ipynb Cell 6\u001b[0m in \u001b[0;36m2\n\u001b[1;32m      <a href='vscode-notebook-cell://wsl%2Bubuntu/home/jmacarulla/lr-video-face/PLOT_M.ipynb#W5sdnNjb2RlLXJlbW90ZQ%3D%3D?line=0'>1</a>\u001b[0m \u001b[39mfor\u001b[39;00m file \u001b[39min\u001b[39;00m files:\n\u001b[0;32m----> <a href='vscode-notebook-cell://wsl%2Bubuntu/home/jmacarulla/lr-video-face/PLOT_M.ipynb#W5sdnNjb2RlLXJlbW90ZQ%3D%3D?line=1'>2</a>\u001b[0m     generate_plot(file)\n\u001b[1;32m      <a href='vscode-notebook-cell://wsl%2Bubuntu/home/jmacarulla/lr-video-face/PLOT_M.ipynb#W5sdnNjb2RlLXJlbW90ZQ%3D%3D?line=2'>3</a>\u001b[0m     generate_latex(file)\n",
      "\u001b[1;32m/home/jmacarulla/lr-video-face/PLOT_M.ipynb Cell 6\u001b[0m in \u001b[0;36m2\n\u001b[1;32m     <a href='vscode-notebook-cell://wsl%2Bubuntu/home/jmacarulla/lr-video-face/PLOT_M.ipynb#W5sdnNjb2RlLXJlbW90ZQ%3D%3D?line=18'>19</a>\u001b[0m \u001b[39m#ax1.ylabel = df1['Embedding Model']\u001b[39;00m\n\u001b[1;32m     <a href='vscode-notebook-cell://wsl%2Bubuntu/home/jmacarulla/lr-video-face/PLOT_M.ipynb#W5sdnNjb2RlLXJlbW90ZQ%3D%3D?line=19'>20</a>\u001b[0m \u001b[39m#ax1.set_title ( f\"Quality Model: {dic_qua [df1['Quality Model']]}\")\u001b[39;00m\n\u001b[1;32m     <a href='vscode-notebook-cell://wsl%2Bubuntu/home/jmacarulla/lr-video-face/PLOT_M.ipynb#W5sdnNjb2RlLXJlbW90ZQ%3D%3D?line=20'>21</a>\u001b[0m ax1\u001b[39m.\u001b[39mset_title ( \u001b[39mf\u001b[39m\u001b[39m\"\u001b[39m\u001b[39mEmbedding Model: \u001b[39m\u001b[39m{\u001b[39;00mdic_emb [df1[\u001b[39m'\u001b[39m\u001b[39mEmbedding Model\u001b[39m\u001b[39m'\u001b[39m]]\u001b[39m}\u001b[39;00m\u001b[39m\"\u001b[39m,fontsize \u001b[39m=\u001b[39m \u001b[39m14\u001b[39m)\n\u001b[0;32m---> <a href='vscode-notebook-cell://wsl%2Bubuntu/home/jmacarulla/lr-video-face/PLOT_M.ipynb#W5sdnNjb2RlLXJlbW90ZQ%3D%3D?line=22'>23</a>\u001b[0m subplot_new(ax1,df1\u001b[39m.\u001b[39;49mResults, df1\u001b[39m.\u001b[39;49mCllr)\n\u001b[1;32m     <a href='vscode-notebook-cell://wsl%2Bubuntu/home/jmacarulla/lr-video-face/PLOT_M.ipynb#W5sdnNjb2RlLXJlbW90ZQ%3D%3D?line=23'>24</a>\u001b[0m \u001b[39m#ax1.set(ylabel= f\"Embedding Model: {dic_emb[df1['Embedding Model']]}\\n Cllr\")\u001b[39;00m\n\u001b[1;32m     <a href='vscode-notebook-cell://wsl%2Bubuntu/home/jmacarulla/lr-video-face/PLOT_M.ipynb#W5sdnNjb2RlLXJlbW90ZQ%3D%3D?line=24'>25</a>\u001b[0m \n\u001b[1;32m     <a href='vscode-notebook-cell://wsl%2Bubuntu/home/jmacarulla/lr-video-face/PLOT_M.ipynb#W5sdnNjb2RlLXJlbW90ZQ%3D%3D?line=25'>26</a>\u001b[0m \u001b[39m#ax1.set(ylabel= f\"Quality Model: {dic_qua[df1['Quality Model']]}\\n Cllr\")\u001b[39;00m\n\u001b[1;32m     <a href='vscode-notebook-cell://wsl%2Bubuntu/home/jmacarulla/lr-video-face/PLOT_M.ipynb#W5sdnNjb2RlLXJlbW90ZQ%3D%3D?line=26'>27</a>\u001b[0m ax1\u001b[39m.\u001b[39mset_ylabel(\u001b[39mf\u001b[39m\u001b[39m\"\u001b[39m\u001b[39mQuality Model: \u001b[39m\u001b[39m{\u001b[39;00mdic_qua[df1[\u001b[39m'\u001b[39m\u001b[39mQuality Model\u001b[39m\u001b[39m'\u001b[39m]]\u001b[39m}\u001b[39;00m\u001b[39m\\n\u001b[39;00m\u001b[39m Cllr\u001b[39m\u001b[39m\"\u001b[39m,fontsize \u001b[39m=\u001b[39m \u001b[39m14\u001b[39m)\n",
      "File \u001b[0;32m~/lr-video-face/lr_video_face/plots.py:436\u001b[0m, in \u001b[0;36msubplot_new\u001b[0;34m(ax1, results, cllr_expert)\u001b[0m\n\u001b[1;32m    432\u001b[0m cllr_d \u001b[39m=\u001b[39m metrics\u001b[39m.\u001b[39mcllr(np\u001b[39m.\u001b[39masarray(lr_d), np\u001b[39m.\u001b[39masarray(y_d))\n\u001b[1;32m    434\u001b[0m cllr_d1,cllr_d2 \u001b[39m=\u001b[39m cllr_new(np\u001b[39m.\u001b[39masarray(lr_d), np\u001b[39m.\u001b[39masarray(y_d))\n\u001b[0;32m--> 436\u001b[0m spamwriter\u001b[39m.\u001b[39;49mwriterow(cllr_d1,np\u001b[39m.\u001b[39;49mpercentile(cllr_d2,[\u001b[39m25\u001b[39;49m,\u001b[39m50\u001b[39;49m,\u001b[39m75\u001b[39;49m]))\n\u001b[1;32m    437\u001b[0m \u001b[39mprint\u001b[39m(cllr_d1,np\u001b[39m.\u001b[39mpercentile(cllr_d2,[\u001b[39m25\u001b[39m,\u001b[39m50\u001b[39m,\u001b[39m75\u001b[39m]))\n\u001b[1;32m    439\u001b[0m \u001b[39m#solo cambio en el momento de plotear\u001b[39;00m\n",
      "\u001b[0;31mTypeError\u001b[0m: writerow() takes exactly one argument (2 given)"
     ]
    },
    {
     "data": {
      "image/png": "[encoded data removed]",
      "text/plain": [
       "<Figure size 2500x1000 with 6 Axes>"
      ]
     },
     "metadata": {},
     "output_type": "display_data"
    }
   ],
   "source": [
    "for file in files:\n",
    "    generate_plot(file)\n",
    "    generate_latex(file)\n"
   ]
  }
 ],
 "metadata": {
  "kernelspec": {
   "display_name": "lr-video",
   "language": "python",
   "name": "python3"
  },
  "language_info": {
   "codemirror_mode": {
    "name": "ipython",
    "version": 3
   },
   "file_extension": ".py",
   "mimetype": "text/x-python",
   "name": "python",
   "nbconvert_exporter": "python",
   "pygments_lexer": "ipython3",
   "version": "3.8.15"
  },
  "orig_nbformat": 4,
  "vscode": {
   "interpreter": {
    "hash": "ae0b102d19e51505dfa7f9c4c891943d4814851bfb0fb9ee13b9b1dd2d5eef8a"
   }
  }
 },
 "nbformat": 4,
 "nbformat_minor": 2
}
