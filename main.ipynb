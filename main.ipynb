{
 "cells": [
  {
   "attachments": {},
   "cell_type": "markdown",
   "metadata": {},
   "source": [
    "# Imports\n",
    "Import python libraries"
   ]
  },
  {
   "cell_type": "code",
   "execution_count": 39,
   "metadata": {},
   "outputs": [],
   "source": [
    "import os"
   ]
  },
  {
   "cell_type": "markdown",
   "metadata": {},
   "source": [
    "# Set dataset parameters\n",
    "Choose the attributes to load the dataset."
   ]
  },
  {
   "cell_type": "code",
   "execution_count": 40,
   "metadata": {},
   "outputs": [],
   "source": [
    "\n",
    "\n",
    "detectors = ['mtcnn_serfiq']  # ,'dlib', 'opencv', 'mediapipe','mtcnn','mtcnn_serfiq'\n",
    "embedding_models = ['Facenet512','QMagFace','ArcFace']  # 'QMagFace', \"ArcFace\",\"Dlib\", 'VGG-Face','FaceVACs', 'Facenet512','ArcFace_normalized'\n",
    "quality_models = ['ser_fiq','tface'] #  'ser_fiq','tface'\n"
   ]
  },
  {
   "cell_type": "markdown",
   "metadata": {},
   "source": [
    "# Set LR parameters\n",
    "Calibration, image filters, face filters, quality filters..."
   ]
  },
  {
   "cell_type": "markdown",
   "metadata": {},
   "source": [
    "## Calibration"
   ]
  },
  {
   "cell_type": "code",
   "execution_count": 41,
   "metadata": {},
   "outputs": [],
   "source": [
    "calibrators = ['logit']  # 'KDE', , 'isotonic','logit'\n",
    "calibration_db = ['ForenFace'] # \"SCFace\",'ForenFace','ENFSI','ForenFace','LFW','SCFace','UTKface','XQLFW',\n",
    "\n",
    "image_filters = ['roll']   # 'yaw','pitch','roll', E.g. 'pose','gender','emotion'\n",
    "face_image_filters = []  # 'confusion_score'\n",
    "quality_filters = [] # 'quality_group'\n",
    "\n",
    "#all the filters in one dictionary\n",
    "filters = {'image': image_filters, 'face_image': face_image_filters,'quality_image': quality_filters}\n",
    "\n",
    "n_calibration_pairs = 10000\n",
    "\n"
   ]
  },
  {
   "cell_type": "markdown",
   "metadata": {},
   "source": [
    "## Validation"
   ]
  },
  {
   "cell_type": "code",
   "execution_count": 42,
   "metadata": {},
   "outputs": [],
   "source": [
    "enfsi_years = [2015]"
   ]
  },
  {
   "attachments": {},
   "cell_type": "markdown",
   "metadata": {},
   "source": [
    "# Video parameters"
   ]
  },
  {
   "cell_type": "code",
   "execution_count": 43,
   "metadata": {},
   "outputs": [],
   "source": [
    "import numpy as np\n",
    "#quality_dropout = [0.01, 0.02, 0.05, 0.10, 0.20, 0.5, 1]\n",
    "quality_dropout = list(np.linspace(0.1,1.0,10))"
   ]
  },
  {
   "cell_type": "markdown",
   "metadata": {},
   "source": [
    "## Other parameters\n",
    "Rest of the configuration"
   ]
  },
  {
   "cell_type": "code",
   "execution_count": 44,
   "metadata": {},
   "outputs": [],
   "source": [
    "metrics = 'euclidean_l2'\n",
    "embedding_model_as_scorer = True"
   ]
  },
  {
   "cell_type": "markdown",
   "metadata": {},
   "source": [
    "# Scenarios\n",
    "Different filters to do computations"
   ]
  },
  {
   "cell_type": "code",
   "execution_count": 45,
   "metadata": {},
   "outputs": [],
   "source": [
    "scenario0 = []\n",
    "scenario1 = ['gender', 'age']\n",
    "scenario2 = ['yaw', 'pitch']\n",
    "scenario3 = ['glasses', 'beard']\n",
    "scenario4 = ['low_quality']\n",
    "scenario5 = ['headgear']\n",
    "scenario6 = ['terhorst_quality_rounded']"
   ]
  },
  {
   "attachments": {},
   "cell_type": "markdown",
   "metadata": {},
   "source": [
    "# Input and output directories\n",
    "Where the sql database is and which folder the results are saved."
   ]
  },
  {
   "cell_type": "code",
   "execution_count": 46,
   "metadata": {},
   "outputs": [],
   "source": [
    "home = os.path.expanduser(\"~\")\n",
    "\n",
    "# SQL database path and name\n",
    "input_dir = os.path.join(home, 'video_resources', 'sql_database')\n",
    "db_name = 'colab_main_dataset'\n",
    "\n",
    "# Where results are saved\n",
    "output_dir = os.path.join(home, 'video_resources', 'output_3')"
   ]
  },
  {
   "cell_type": "markdown",
   "metadata": {},
   "source": [
    "# Preprocess data\n",
    "Connect to sql database."
   ]
  },
  {
   "cell_type": "code",
   "execution_count": 47,
   "metadata": {},
   "outputs": [],
   "source": [
    "from sql_face.alchemy import get_session\n",
    "from sql_face.tables import *"
   ]
  },
  {
   "cell_type": "code",
   "execution_count": 48,
   "metadata": {},
   "outputs": [],
   "source": [
    "session = get_session(input_dir, db_name)"
   ]
  },
  {
   "attachments": {},
   "cell_type": "markdown",
   "metadata": {},
   "source": [
    "# Experiments\n",
    "\n",
    "All parameters are specified in ExperimentalSetup, that creates a different experiment with all the posible combinations of detectors, embedding_models, calibrators, etc."
   ]
  },
  {
   "cell_type": "code",
   "execution_count": 49,
   "metadata": {},
   "outputs": [],
   "source": [
    "from lr_video_face.experiments import ExperimentalSetup"
   ]
  },
  {
   "cell_type": "code",
   "execution_count": 50,
   "metadata": {},
   "outputs": [],
   "source": [
    "experimental_setup = ExperimentalSetup(detectors, \n",
    "                                        embedding_models, \n",
    "                                        quality_models,\n",
    "                                        calibrators, \n",
    "                                        calibration_db, \n",
    "                                        enfsi_years,\n",
    "                                        filters,\n",
    "                                        metrics, \n",
    "                                        n_calibration_pairs,\n",
    "                                        embedding_model_as_scorer,\n",
    "                                        output_dir,\n",
    "                                        session,\n",
    "                                        quality_dropout)"
   ]
  },
  {
   "attachments": {},
   "cell_type": "markdown",
   "metadata": {},
   "source": [
    "# Results"
   ]
  },
  {
   "cell_type": "code",
   "execution_count": 51,
   "metadata": {},
   "outputs": [
    {
     "data": {
      "text/plain": [
       "' from sql_face.tables import Image, Quality\\nquery = session.query(Image).filter(Image.image_quality == Quality.MEDIUM).all()\\n\\na = len(query)\\nprint (a) '"
      ]
     },
     "execution_count": 51,
     "metadata": {},
     "output_type": "execute_result"
    }
   ],
   "source": [
    "\"\"\" from sql_face.tables import Image, Quality\n",
    "query = session.query(Image).filter(Image.image_quality == Quality.MEDIUM).all()\n",
    "\n",
    "a = len(query)\n",
    "print (a) \"\"\"\n"
   ]
  },
  {
   "cell_type": "code",
   "execution_count": 52,
   "metadata": {},
   "outputs": [
    {
     "data": {
      "text/plain": [
       "'for exp in experimental_setup:\\n    exp.perform()\\n    break  '"
      ]
     },
     "execution_count": 52,
     "metadata": {},
     "output_type": "execute_result"
    }
   ],
   "source": [
    "'''for exp in experimental_setup:\n",
    "    exp.perform()\n",
    "    break  '''"
   ]
  },
  {
   "cell_type": "code",
   "execution_count": 53,
   "metadata": {},
   "outputs": [],
   "source": [
    "from lr_video_face.evaluators import GlobalEvaluator  "
   ]
  },
  {
   "cell_type": "code",
   "execution_count": 54,
   "metadata": {},
   "outputs": [
    {
     "name": "stderr",
     "output_type": "stream",
     "text": [
      "100%|██████████| 6/6 [05:40<00:00, 56.69s/it]\n"
     ]
    }
   ],
   "source": [
    "global_results = GlobalEvaluator(experimental_setup)    "
   ]
  },
  {
   "attachments": {},
   "cell_type": "markdown",
   "metadata": {},
   "source": [
    "## Individual plots"
   ]
  },
  {
   "cell_type": "code",
   "execution_count": 55,
   "metadata": {},
   "outputs": [],
   "source": [
    "global_results.make_experiment_plots()"
   ]
  },
  {
   "attachments": {},
   "cell_type": "markdown",
   "metadata": {},
   "source": [
    "## General plot"
   ]
  },
  {
   "cell_type": "code",
   "execution_count": 56,
   "metadata": {},
   "outputs": [],
   "source": [
    "# import pickle\n",
    "# with open('data2.db','wb') as outp:\n",
    "#     pickle.dump(global_results,outp,-1)"
   ]
  },
  {
   "cell_type": "code",
   "execution_count": 57,
   "metadata": {},
   "outputs": [
    {
     "name": "stdout",
     "output_type": "stream",
     "text": [
      "0.7464577308658773 [0.22098116 0.44689484 0.94679573]\n",
      "0.8893585694545896 [0.32713992 0.63820658 1.15104175]\n",
      "0.8213780092409189 [0.27047181 0.56390878 1.04556149]\n",
      "1.0035942997287028 [0.40065865 0.77156587 1.35836176]\n",
      "0.9507670741658851 [0.3725784  0.72073686 1.2641242 ]\n",
      "1.0577047494893814 [0.41605722 0.8223408  1.48217711]\n",
      "1.120024385466074 [0.42527955 0.86256999 1.63488047]\n",
      "1.1695374433722718 [0.4343456  0.91173092 1.78086573]\n",
      "1.2075554941589037 [0.44503396 0.96037959 1.87492617]\n",
      "1.244801425788463 [0.45318185 1.01601481 1.98477709]\n",
      "1.0152976893742889 [0.23900159 0.55471404 1.41620847]\n",
      "1.1079577381702541 [0.27940019 0.70390593 1.6083688 ]\n",
      "1.0612708924492065 [0.25525495 0.60688619 1.48215494]\n",
      "1.2432589391550537 [0.32381712 0.87875335 1.89711364]\n",
      "1.1868894383049906 [0.29924016 0.80766925 1.74532315]\n",
      "1.2715311775588152 [0.33843686 0.93304568 2.00774067]\n",
      "1.289054039031904 [0.34380806 0.94241792 2.07278139]\n",
      "1.3219057585223024 [0.35338589 0.97542655 2.16613136]\n",
      "1.3452779789694562 [0.36732129 1.01140604 2.23386957]\n",
      "1.3556073579931982 [0.37359814 1.02546244 2.26636848]\n",
      "0.29713364773476314 [0.02183231 0.08625477 0.28824928]\n",
      "0.41215552553777557 [0.05539393 0.1794224  0.48967938]\n",
      "0.36065306450528345 [0.03813617 0.1314984  0.38253618]\n",
      "0.5953408685188359 [0.08264585 0.27472709 0.77353597]\n",
      "0.4880738847288444 [0.06859232 0.22540451 0.62166887]\n",
      "0.7225341487540886 [0.10268616 0.33864774 1.0371531 ]\n",
      "0.8269509220982203 [0.12108191 0.40787791 1.29248598]\n",
      "0.9452338648960883 [0.13724654 0.47624373 1.58450342]\n",
      "1.0378324044355514 [0.14836654 0.53967919 1.85983199]\n",
      "1.1221849380142903 [0.15840202 0.59461368 2.14851562]\n",
      "0.5771047055395683 [0.03140591 0.15050345 0.59553463]\n",
      "0.7661837437545971 [0.04823377 0.24676011 0.94620667]\n",
      "0.6533586092694977 [0.03918234 0.19193741 0.70542064]\n",
      "0.9462055988097537 [0.07358942 0.33737656 1.47845269]\n",
      "0.86097740464422 [0.06335199 0.28667987 1.2216885 ]\n",
      "1.0277457159227363 [0.08481999 0.38796646 1.70891918]\n",
      "1.0606410598202825 [0.09016781 0.40893091 1.82325969]\n",
      "1.1099047102269144 [0.10147186 0.45991776 2.04009239]\n",
      "1.1540846955037196 [0.10841884 0.50152913 2.2068145 ]\n",
      "1.2004414701176689 [0.11436544 0.54010062 2.32675311]\n",
      "0.8456099239715003 [0.66280267 0.83492378 1.05986274]\n",
      "0.9106905404254051 [0.70362795 0.91277774 1.20299838]\n",
      "0.8858641735946569 [0.69184245 0.87500437 1.14039232]\n",
      "0.9510735134597688 [0.70448708 0.9906229  1.30502281]\n",
      "0.928875695951001 [0.70321809 0.94810232 1.26255829]\n",
      "0.9791644943677673 [0.7089205  1.04900239 1.33670169]\n",
      "1.0259260716481988 [0.71350938 1.09944633 1.35360489]\n",
      "1.0450072613419288 [0.7152137  1.12629013 1.3670031 ]\n",
      "1.0551463565065904 [0.7129943  1.14655864 1.3774975 ]\n",
      "1.065634528848772 [0.71277302 1.16456161 1.38711231]\n",
      "0.9523801935517819 [0.77507188 0.94506196 1.2284125 ]\n",
      "0.9720888001678841 [0.73954425 0.9958266  1.32093614]\n",
      "0.962948381319493 [0.75079485 0.9753499  1.27890936]\n",
      "1.0077331319581742 [0.73014302 1.09258022 1.36516961]\n",
      "0.9982163962994053 [0.73502947 1.04462174 1.35035695]\n",
      "1.0132380780900199 [0.72380143 1.12768359 1.37347158]\n",
      "1.0161806905864728 [0.71990349 1.14946448 1.37622248]\n",
      "1.0392095646782897 [0.71944861 1.17159151 1.38315425]\n",
      "1.051430293540694 [0.72064155 1.188172   1.38692244]\n",
      "1.055088818477982 [0.71933511 1.19850867 1.38940559]\n"
     ]
    }
   ],
   "source": [
    "global_results.make_global_plot()"
   ]
  }
 ],
 "metadata": {
  "kernelspec": {
   "display_name": "lr-video",
   "language": "python",
   "name": "python3"
  },
  "language_info": {
   "codemirror_mode": {
    "name": "ipython",
    "version": 3
   },
   "file_extension": ".py",
   "mimetype": "text/x-python",
   "name": "python",
   "nbconvert_exporter": "python",
   "pygments_lexer": "ipython3",
   "version": "3.8.15"
  },
  "orig_nbformat": 4,
  "vscode": {
   "interpreter": {
    "hash": "ae0b102d19e51505dfa7f9c4c891943d4814851bfb0fb9ee13b9b1dd2d5eef8a"
   }
  }
 },
 "nbformat": 4,
 "nbformat_minor": 2
}
