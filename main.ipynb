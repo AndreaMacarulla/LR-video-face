{
 "cells": [
  {
   "attachments": {},
   "cell_type": "markdown",
   "metadata": {},
   "source": [
    "# Imports\n",
    "Import python libraries"
   ]
  },
  {
   "cell_type": "code",
   "execution_count": 13,
   "metadata": {},
   "outputs": [],
   "source": [
    "import os"
   ]
  },
  {
   "cell_type": "markdown",
   "metadata": {},
   "source": [
    "# Set dataset parameters\n",
    "Choose the attributes to load the dataset."
   ]
  },
  {
   "cell_type": "code",
   "execution_count": 14,
   "metadata": {},
   "outputs": [],
   "source": [
    "\n",
    "\n",
    "detectors = ['mtcnn_serfiq']  # ,'dlib', 'opencv', 'mediapipe','mtcnn','mtcnn_serfiq'\n",
    "embedding_models = ['Facenet512','QMagFace','ArcFace']  # 'QMagFace', \"ArcFace\",\"Dlib\", 'VGG-Face','FaceVACs', 'Facenet512','ArcFace_normalized'\n",
    "quality_models = ['ser_fiq','tface'] #  'ser_fiq','tface'\n"
   ]
  },
  {
   "cell_type": "markdown",
   "metadata": {},
   "source": [
    "# Set LR parameters\n",
    "Calibration, image filters, face filters, quality filters..."
   ]
  },
  {
   "cell_type": "markdown",
   "metadata": {},
   "source": [
    "## Calibration"
   ]
  },
  {
   "cell_type": "code",
   "execution_count": 15,
   "metadata": {},
   "outputs": [],
   "source": [
    "calibrators = ['logit']  # 'KDE', , 'isotonic','logit'\n",
    "calibration_db = [\"SCFace\",'LFW'] # \"SCFace\",'ForenFace','ENFSI','ForenFace','LFW','SCFace','UTKface','XQLFW',\n",
    "image_filters = ['gender']   # 'yaw','pitch','roll', E.g. 'pose','gender','emotion'\n",
    "face_image_filters = ['confusion_score']  # 'confusion_score'\n",
    "quality_filters = ['quality_group'] # 'quality_group'\n",
    "\n",
    "#all the filters in one dictionary\n",
    "filters = {'image': image_filters, 'face_image': face_image_filters,'quality_image': quality_filters}\n",
    "\n",
    "n_calibration_pairs = 10000\n",
    "\n"
   ]
  },
  {
   "cell_type": "markdown",
   "metadata": {},
   "source": [
    "## Validation"
   ]
  },
  {
   "cell_type": "code",
   "execution_count": 16,
   "metadata": {},
   "outputs": [],
   "source": [
    "enfsi_years = [2015]"
   ]
  },
  {
   "attachments": {},
   "cell_type": "markdown",
   "metadata": {},
   "source": [
    "# Video parameters"
   ]
  },
  {
   "cell_type": "code",
   "execution_count": 17,
   "metadata": {},
   "outputs": [],
   "source": [
    "import numpy as np\n",
    "#quality_dropout = [0.01, 0.02, 0.05, 0.10, 0.20, 0.5, 1]\n",
    "quality_dropout = list(np.linspace(0.1,1.0,10))"
   ]
  },
  {
   "cell_type": "markdown",
   "metadata": {},
   "source": [
    "## Other parameters\n",
    "Rest of the configuration"
   ]
  },
  {
   "cell_type": "code",
   "execution_count": 18,
   "metadata": {},
   "outputs": [],
   "source": [
    "metrics = 'euclidean_l2'\n",
    "embedding_model_as_scorer = True"
   ]
  },
  {
   "cell_type": "markdown",
   "metadata": {},
   "source": [
    "# Scenarios\n",
    "Different filters to do computations"
   ]
  },
  {
   "cell_type": "code",
   "execution_count": 19,
   "metadata": {},
   "outputs": [],
   "source": [
    "scenario0 = []\n",
    "scenario1 = ['gender', 'age']\n",
    "scenario2 = ['yaw', 'pitch']\n",
    "scenario3 = ['glasses', 'beard']\n",
    "scenario4 = ['low_quality']\n",
    "scenario5 = ['headgear']\n",
    "scenario6 = ['terhorst_quality_rounded']"
   ]
  },
  {
   "attachments": {},
   "cell_type": "markdown",
   "metadata": {},
   "source": [
    "# Input and output directories\n",
    "Where the sql database is and which folder the results are saved."
   ]
  },
  {
   "cell_type": "code",
   "execution_count": 20,
   "metadata": {},
   "outputs": [],
   "source": [
    "home = os.path.expanduser(\"~\")\n",
    "\n",
    "# SQL database path and name\n",
    "input_dir = os.path.join(home, 'video_resources', 'sql_database')\n",
    "db_name = 'colab_main_dataset'\n",
    "\n",
    "# Where results are saved\n",
    "output_dir = os.path.join(home, 'video_resources', 'output_2')"
   ]
  },
  {
   "cell_type": "markdown",
   "metadata": {},
   "source": [
    "# Preprocess data\n",
    "Connect to sql database."
   ]
  },
  {
   "cell_type": "code",
   "execution_count": 21,
   "metadata": {},
   "outputs": [],
   "source": [
    "from sql_face.alchemy import get_session\n",
    "from sql_face.tables import *"
   ]
  },
  {
   "cell_type": "code",
   "execution_count": 22,
   "metadata": {},
   "outputs": [],
   "source": [
    "session = get_session(input_dir, db_name)"
   ]
  },
  {
   "attachments": {},
   "cell_type": "markdown",
   "metadata": {},
   "source": [
    "# Experiments\n",
    "\n",
    "All parameters are specified in ExperimentalSetup, that creates a different experiment with all the posible combinations of detectors, embedding_models, calibrators, etc."
   ]
  },
  {
   "cell_type": "code",
   "execution_count": 23,
   "metadata": {},
   "outputs": [],
   "source": [
    "from lr_video_face.experiments import ExperimentalSetup"
   ]
  },
  {
   "cell_type": "code",
   "execution_count": 24,
   "metadata": {},
   "outputs": [
    {
     "ename": "KeyError",
     "evalue": "0",
     "output_type": "error",
     "traceback": [
      "\u001b[0;31m---------------------------------------------------------------------------\u001b[0m",
      "\u001b[0;31mKeyError\u001b[0m                                  Traceback (most recent call last)",
      "\u001b[1;32m/home/jmacarulla/lr-video-face/main.ipynb Cell 23\u001b[0m in \u001b[0;36m1\n\u001b[0;32m----> <a href='vscode-notebook-cell://wsl%2Bubuntu/home/jmacarulla/lr-video-face/main.ipynb#X31sdnNjb2RlLXJlbW90ZQ%3D%3D?line=0'>1</a>\u001b[0m experimental_setup \u001b[39m=\u001b[39m ExperimentalSetup(detectors, \n\u001b[1;32m      <a href='vscode-notebook-cell://wsl%2Bubuntu/home/jmacarulla/lr-video-face/main.ipynb#X31sdnNjb2RlLXJlbW90ZQ%3D%3D?line=1'>2</a>\u001b[0m                                         embedding_models, \n\u001b[1;32m      <a href='vscode-notebook-cell://wsl%2Bubuntu/home/jmacarulla/lr-video-face/main.ipynb#X31sdnNjb2RlLXJlbW90ZQ%3D%3D?line=2'>3</a>\u001b[0m                                         quality_models,\n\u001b[1;32m      <a href='vscode-notebook-cell://wsl%2Bubuntu/home/jmacarulla/lr-video-face/main.ipynb#X31sdnNjb2RlLXJlbW90ZQ%3D%3D?line=3'>4</a>\u001b[0m                                         calibrators, \n\u001b[1;32m      <a href='vscode-notebook-cell://wsl%2Bubuntu/home/jmacarulla/lr-video-face/main.ipynb#X31sdnNjb2RlLXJlbW90ZQ%3D%3D?line=4'>5</a>\u001b[0m                                         calibration_db, \n\u001b[1;32m      <a href='vscode-notebook-cell://wsl%2Bubuntu/home/jmacarulla/lr-video-face/main.ipynb#X31sdnNjb2RlLXJlbW90ZQ%3D%3D?line=5'>6</a>\u001b[0m                                         enfsi_years,\n\u001b[1;32m      <a href='vscode-notebook-cell://wsl%2Bubuntu/home/jmacarulla/lr-video-face/main.ipynb#X31sdnNjb2RlLXJlbW90ZQ%3D%3D?line=6'>7</a>\u001b[0m                                         filters,\n\u001b[1;32m      <a href='vscode-notebook-cell://wsl%2Bubuntu/home/jmacarulla/lr-video-face/main.ipynb#X31sdnNjb2RlLXJlbW90ZQ%3D%3D?line=7'>8</a>\u001b[0m                                         metrics, \n\u001b[1;32m      <a href='vscode-notebook-cell://wsl%2Bubuntu/home/jmacarulla/lr-video-face/main.ipynb#X31sdnNjb2RlLXJlbW90ZQ%3D%3D?line=8'>9</a>\u001b[0m                                         n_calibration_pairs,\n\u001b[1;32m     <a href='vscode-notebook-cell://wsl%2Bubuntu/home/jmacarulla/lr-video-face/main.ipynb#X31sdnNjb2RlLXJlbW90ZQ%3D%3D?line=9'>10</a>\u001b[0m                                         embedding_model_as_scorer,\n\u001b[1;32m     <a href='vscode-notebook-cell://wsl%2Bubuntu/home/jmacarulla/lr-video-face/main.ipynb#X31sdnNjb2RlLXJlbW90ZQ%3D%3D?line=10'>11</a>\u001b[0m                                         output_dir,\n\u001b[1;32m     <a href='vscode-notebook-cell://wsl%2Bubuntu/home/jmacarulla/lr-video-face/main.ipynb#X31sdnNjb2RlLXJlbW90ZQ%3D%3D?line=11'>12</a>\u001b[0m                                         session,\n\u001b[1;32m     <a href='vscode-notebook-cell://wsl%2Bubuntu/home/jmacarulla/lr-video-face/main.ipynb#X31sdnNjb2RlLXJlbW90ZQ%3D%3D?line=12'>13</a>\u001b[0m                                         quality_dropout)\n",
      "File \u001b[0;32m~/lr-video-face/lr_video_face/experiments.py:231\u001b[0m, in \u001b[0;36mExperimentalSetup.__init__\u001b[0;34m(self, detectors, embeddingModels, qualityModels, calibrator_names, calibration_db, enfsi_years, filters, metrics, n_calibration_pairs, embedding_model_as_scorer, results_folder, session, quality_dropout, name)\u001b[0m\n\u001b[1;32m    229\u001b[0m \u001b[39mself\u001b[39m\u001b[39m.\u001b[39mquality_dropout \u001b[39m=\u001b[39m quality_dropout\n\u001b[1;32m    230\u001b[0m \u001b[39mself\u001b[39m\u001b[39m.\u001b[39mname \u001b[39m=\u001b[39m name\n\u001b[0;32m--> 231\u001b[0m \u001b[39mself\u001b[39m\u001b[39m.\u001b[39moutput_dir\u001b[39m=\u001b[39m \u001b[39mself\u001b[39;49m\u001b[39m.\u001b[39;49m_make_output_dir(results_folder)\n\u001b[1;32m    232\u001b[0m \u001b[39mself\u001b[39m\u001b[39m.\u001b[39mexperiments \u001b[39m=\u001b[39m \u001b[39mself\u001b[39m\u001b[39m.\u001b[39mprepare_experiments()\n\u001b[1;32m    233\u001b[0m \u001b[39mself\u001b[39m\u001b[39m.\u001b[39mcllr_expert_per_year \u001b[39m=\u001b[39m \u001b[39mself\u001b[39m\u001b[39m.\u001b[39m_get_cllr_expert_per_year()\n",
      "File \u001b[0;32m~/lr-video-face/lr_video_face/experiments.py:267\u001b[0m, in \u001b[0;36mExperimentalSetup._make_output_dir\u001b[0;34m(self, results_folder)\u001b[0m\n\u001b[1;32m    266\u001b[0m \u001b[39mdef\u001b[39;00m \u001b[39m_make_output_dir\u001b[39m(\u001b[39mself\u001b[39m, results_folder):\n\u001b[0;32m--> 267\u001b[0m     directory \u001b[39m=\u001b[39m \u001b[39mself\u001b[39;49m\u001b[39m.\u001b[39;49m_get_directory()\n\u001b[1;32m    268\u001b[0m     output_dir \u001b[39m=\u001b[39m os\u001b[39m.\u001b[39mpath\u001b[39m.\u001b[39mjoin(results_folder, directory)\n\u001b[1;32m    269\u001b[0m     \u001b[39mif\u001b[39;00m \u001b[39mnot\u001b[39;00m os\u001b[39m.\u001b[39mpath\u001b[39m.\u001b[39mexists(results_folder):\n",
      "File \u001b[0;32m~/lr-video-face/lr_video_face/experiments.py:260\u001b[0m, in \u001b[0;36mExperimentalSetup._get_directory\u001b[0;34m(self)\u001b[0m\n\u001b[1;32m    257\u001b[0m \u001b[39mdef\u001b[39;00m \u001b[39m_get_directory\u001b[39m(\u001b[39mself\u001b[39m):\n\u001b[1;32m    258\u001b[0m     \u001b[39m#filters = self.image_filters + self.face_image_filters # + self.quality_filters\u001b[39;00m\n\u001b[0;32m--> 260\u001b[0m     filterlist \u001b[39m=\u001b[39m \u001b[39mlist\u001b[39m(chain\u001b[39m.\u001b[39mfrom_iterable(\u001b[39mself\u001b[39;49m\u001b[39m.\u001b[39;49mfilters[\u001b[39m0\u001b[39;49m]\u001b[39m.\u001b[39mvalues()))\n\u001b[1;32m    262\u001b[0m     subfolder \u001b[39m=\u001b[39m \u001b[39mf\u001b[39m\u001b[39m'\u001b[39m\u001b[39m[\u001b[39m\u001b[39m{\u001b[39;00m\u001b[39m\"\u001b[39m\u001b[39m,\u001b[39m\u001b[39m\"\u001b[39m\u001b[39m.\u001b[39mjoin(filterlist)\u001b[39m}\u001b[39;00m\u001b[39m]\u001b[39m\u001b[39m'\u001b[39m\n\u001b[1;32m    263\u001b[0m     folder \u001b[39m=\u001b[39m \u001b[39mf\u001b[39m\u001b[39m'\u001b[39m\u001b[39mC_(\u001b[39m\u001b[39m{\u001b[39;00m\u001b[39mself\u001b[39m\u001b[39m.\u001b[39mn_calibration_pairs\u001b[39m}\u001b[39;00m\u001b[39m)_[\u001b[39m\u001b[39m{\u001b[39;00m\u001b[39m\"\u001b[39m\u001b[39m,\u001b[39m\u001b[39m\"\u001b[39m\u001b[39m.\u001b[39mjoin(\u001b[39mself\u001b[39m\u001b[39m.\u001b[39mcalibration_db)\u001b[39m}\u001b[39;00m\u001b[39m]_T_[\u001b[39m\u001b[39m{\u001b[39;00m\u001b[39m\"\u001b[39m\u001b[39m,\u001b[39m\u001b[39m\"\u001b[39m\u001b[39m.\u001b[39mjoin([\u001b[39mstr\u001b[39m(year) \u001b[39mfor\u001b[39;00m year \u001b[39min\u001b[39;00m \u001b[39mself\u001b[39m\u001b[39m.\u001b[39menfsi_years])\u001b[39m}\u001b[39;00m\u001b[39m]\u001b[39m\u001b[39m'\u001b[39m\n",
      "\u001b[0;31mKeyError\u001b[0m: 0"
     ]
    }
   ],
   "source": [
    "experimental_setup = ExperimentalSetup(detectors, \n",
    "                                        embedding_models, \n",
    "                                        quality_models,\n",
    "                                        calibrators, \n",
    "                                        calibration_db, \n",
    "                                        enfsi_years,\n",
    "                                        filters,\n",
    "                                        metrics, \n",
    "                                        n_calibration_pairs,\n",
    "                                        embedding_model_as_scorer,\n",
    "                                        output_dir,\n",
    "                                        session,\n",
    "                                        quality_dropout)"
   ]
  },
  {
   "attachments": {},
   "cell_type": "markdown",
   "metadata": {},
   "source": [
    "# Results"
   ]
  },
  {
   "cell_type": "code",
   "execution_count": null,
   "metadata": {},
   "outputs": [],
   "source": [
    "\"\"\" from sql_face.tables import Image, Quality\n",
    "query = session.query(Image).filter(Image.image_quality == Quality.MEDIUM).all()\n",
    "\n",
    "a = len(query)\n",
    "print (a) \"\"\"\n"
   ]
  },
  {
   "cell_type": "code",
   "execution_count": null,
   "metadata": {},
   "outputs": [],
   "source": [
    "for exp in experimental_setup:\n",
    "    exp.perform()\n",
    "    break  "
   ]
  },
  {
   "cell_type": "code",
   "execution_count": null,
   "metadata": {},
   "outputs": [],
   "source": [
    "from lr_video_face.evaluators import GlobalEvaluator  "
   ]
  },
  {
   "cell_type": "code",
   "execution_count": null,
   "metadata": {},
   "outputs": [],
   "source": [
    "global_results = GlobalEvaluator(experimental_setup)    "
   ]
  },
  {
   "attachments": {},
   "cell_type": "markdown",
   "metadata": {},
   "source": [
    "## Individual plots"
   ]
  },
  {
   "cell_type": "code",
   "execution_count": null,
   "metadata": {},
   "outputs": [],
   "source": [
    "global_results.make_experiment_plots()"
   ]
  },
  {
   "attachments": {},
   "cell_type": "markdown",
   "metadata": {},
   "source": [
    "## General plot"
   ]
  },
  {
   "cell_type": "code",
   "execution_count": null,
   "metadata": {},
   "outputs": [],
   "source": [
    "# import pickle\n",
    "# with open('data2.db','wb') as outp:\n",
    "#     pickle.dump(global_results,outp,-1)"
   ]
  },
  {
   "cell_type": "code",
   "execution_count": null,
   "metadata": {},
   "outputs": [],
   "source": [
    "global_results.make_global_plot()"
   ]
  }
 ],
 "metadata": {
  "kernelspec": {
   "display_name": "lr-video",
   "language": "python",
   "name": "python3"
  },
  "language_info": {
   "codemirror_mode": {
    "name": "ipython",
    "version": 3
   },
   "file_extension": ".py",
   "mimetype": "text/x-python",
   "name": "python",
   "nbconvert_exporter": "python",
   "pygments_lexer": "ipython3",
   "version": "3.8.15"
  },
  "orig_nbformat": 4,
  "vscode": {
   "interpreter": {
    "hash": "ae0b102d19e51505dfa7f9c4c891943d4814851bfb0fb9ee13b9b1dd2d5eef8a"
   }
  }
 },
 "nbformat": 4,
 "nbformat_minor": 2
}
