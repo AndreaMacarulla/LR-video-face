{
 "cells": [
  {
   "attachments": {},
   "cell_type": "markdown",
   "metadata": {},
   "source": [
    "# Imports\n",
    "Import python libraries"
   ]
  },
  {
   "cell_type": "code",
   "execution_count": 15,
   "metadata": {},
   "outputs": [],
   "source": [
    "import os"
   ]
  },
  {
   "cell_type": "markdown",
   "metadata": {},
   "source": [
    "# Set dataset parameters\n",
    "Choose the attributes to load the dataset."
   ]
  },
  {
   "cell_type": "code",
   "execution_count": 16,
   "metadata": {},
   "outputs": [],
   "source": [
    "\n",
    "\n",
    "detectors = ['mtcnn_serfiq']  # ,'dlib', 'opencv', 'mediapipe','mtcnn','mtcnn_serfiq'\n",
    "embedding_models = ['Facenet512','QMagFace','ArcFace']  # 'QMagFace', \"ArcFace\",\"Dlib\", 'VGG-Face','FaceVACs', 'Facenet512','ArcFace_normalized'\n",
    "quality_models = ['ser_fiq','tface'] #  'ser_fiq','tface'\n"
   ]
  },
  {
   "cell_type": "markdown",
   "metadata": {},
   "source": [
    "# Set LR parameters\n",
    "Calibration, image filters, face filters, quality filters..."
   ]
  },
  {
   "cell_type": "markdown",
   "metadata": {},
   "source": [
    "## Calibration"
   ]
  },
  {
   "cell_type": "code",
   "execution_count": 17,
   "metadata": {},
   "outputs": [],
   "source": [
    "calibrators = ['logit']  # 'KDE', , 'isotonic','logit'\n",
    "calibration_db = [\"SCFace\",'LFW'] # \"SCFace\",'ForenFace','ENFSI','ForenFace','LFW','SCFace','UTKface','XQLFW',\n",
    "image_filters = ['gender']   # 'yaw','pitch','roll', E.g. 'pose','gender','emotion'\n",
    "face_image_filters = ['confusion_score']  # 'confusion_score'\n",
    "quality_filters = ['quality_group'] # 'quality_group'\n",
    "\n",
    "#all the filters in one dictionary\n",
    "filters = {'image': image_filters, 'face_image': face_image_filters,'quality_image': quality_filters}\n",
    "\n",
    "n_calibration_pairs = 10000\n",
    "\n"
   ]
  },
  {
   "cell_type": "markdown",
   "metadata": {},
   "source": [
    "## Validation"
   ]
  },
  {
   "cell_type": "code",
   "execution_count": 18,
   "metadata": {},
   "outputs": [],
   "source": [
    "enfsi_years = [2015]"
   ]
  },
  {
   "attachments": {},
   "cell_type": "markdown",
   "metadata": {},
   "source": [
    "# Video parameters"
   ]
  },
  {
   "cell_type": "code",
   "execution_count": 19,
   "metadata": {},
   "outputs": [],
   "source": [
    "import numpy as np\n",
    "#quality_dropout = [0.01, 0.02, 0.05, 0.10, 0.20, 0.5, 1]\n",
    "quality_dropout = list(np.linspace(0.1,1.0,10))"
   ]
  },
  {
   "cell_type": "markdown",
   "metadata": {},
   "source": [
    "## Other parameters\n",
    "Rest of the configuration"
   ]
  },
  {
   "cell_type": "code",
   "execution_count": 20,
   "metadata": {},
   "outputs": [],
   "source": [
    "metrics = 'euclidean_l2'\n",
    "embedding_model_as_scorer = True"
   ]
  },
  {
   "cell_type": "markdown",
   "metadata": {},
   "source": [
    "# Scenarios\n",
    "Different filters to do computations"
   ]
  },
  {
   "cell_type": "code",
   "execution_count": 21,
   "metadata": {},
   "outputs": [],
   "source": [
    "scenario0 = []\n",
    "scenario1 = ['gender', 'age']\n",
    "scenario2 = ['yaw', 'pitch']\n",
    "scenario3 = ['glasses', 'beard']\n",
    "scenario4 = ['low_quality']\n",
    "scenario5 = ['headgear']\n",
    "scenario6 = ['terhorst_quality_rounded']"
   ]
  },
  {
   "attachments": {},
   "cell_type": "markdown",
   "metadata": {},
   "source": [
    "# Input and output directories\n",
    "Where the sql database is and which folder the results are saved."
   ]
  },
  {
   "cell_type": "code",
   "execution_count": 22,
   "metadata": {},
   "outputs": [],
   "source": [
    "home = os.path.expanduser(\"~\")\n",
    "\n",
    "# SQL database path and name\n",
    "input_dir = os.path.join(home, 'video_resources', 'sql_database')\n",
    "db_name = 'colab_main_dataset'\n",
    "\n",
    "# Where results are saved\n",
    "output_dir = os.path.join(home, 'video_resources', 'output_2')"
   ]
  },
  {
   "cell_type": "markdown",
   "metadata": {},
   "source": [
    "# Preprocess data\n",
    "Connect to sql database."
   ]
  },
  {
   "cell_type": "code",
   "execution_count": 23,
   "metadata": {},
   "outputs": [],
   "source": [
    "from sql_face.alchemy import get_session\n",
    "from sql_face.tables import *"
   ]
  },
  {
   "cell_type": "code",
   "execution_count": 24,
   "metadata": {},
   "outputs": [],
   "source": [
    "session = get_session(input_dir, db_name)"
   ]
  },
  {
   "attachments": {},
   "cell_type": "markdown",
   "metadata": {},
   "source": [
    "# Experiments\n",
    "\n",
    "All parameters are specified in ExperimentalSetup, that creates a different experiment with all the posible combinations of detectors, embedding_models, calibrators, etc."
   ]
  },
  {
   "cell_type": "code",
   "execution_count": 25,
   "metadata": {},
   "outputs": [],
   "source": [
    "from lr_video_face.experiments import ExperimentalSetup"
   ]
  },
  {
   "cell_type": "code",
   "execution_count": 26,
   "metadata": {},
   "outputs": [],
   "source": [
    "experimental_setup = ExperimentalSetup(detectors, \n",
    "                                        embedding_models, \n",
    "                                        quality_models,\n",
    "                                        calibrators, \n",
    "                                        calibration_db, \n",
    "                                        enfsi_years,\n",
    "                                        filters,\n",
    "                                        metrics, \n",
    "                                        n_calibration_pairs,\n",
    "                                        embedding_model_as_scorer,\n",
    "                                        output_dir,\n",
    "                                        session,\n",
    "                                        quality_dropout)"
   ]
  },
  {
   "attachments": {},
   "cell_type": "markdown",
   "metadata": {},
   "source": [
    "# Results"
   ]
  },
  {
   "cell_type": "code",
   "execution_count": 27,
   "metadata": {},
   "outputs": [
    {
     "data": {
      "text/plain": [
       "' from sql_face.tables import Image, Quality\\nquery = session.query(Image).filter(Image.image_quality == Quality.MEDIUM).all()\\n\\na = len(query)\\nprint (a) '"
      ]
     },
     "execution_count": 27,
     "metadata": {},
     "output_type": "execute_result"
    }
   ],
   "source": [
    "\"\"\" from sql_face.tables import Image, Quality\n",
    "query = session.query(Image).filter(Image.image_quality == Quality.MEDIUM).all()\n",
    "\n",
    "a = len(query)\n",
    "print (a) \"\"\"\n"
   ]
  },
  {
   "cell_type": "code",
   "execution_count": 28,
   "metadata": {},
   "outputs": [
    {
     "data": {
      "text/plain": [
       "'for exp in experimental_setup:\\n    exp.perform()\\n    break  '"
      ]
     },
     "execution_count": 28,
     "metadata": {},
     "output_type": "execute_result"
    }
   ],
   "source": [
    "'''for exp in experimental_setup:\n",
    "    exp.perform()\n",
    "    break  '''"
   ]
  },
  {
   "cell_type": "code",
   "execution_count": 29,
   "metadata": {},
   "outputs": [],
   "source": [
    "from lr_video_face.evaluators import GlobalEvaluator  "
   ]
  },
  {
   "cell_type": "code",
   "execution_count": 30,
   "metadata": {},
   "outputs": [
    {
     "name": "stderr",
     "output_type": "stream",
     "text": [
      "100%|██████████| 6/6 [13:38<00:00, 136.38s/it]\n"
     ]
    }
   ],
   "source": [
    "global_results = GlobalEvaluator(experimental_setup)    "
   ]
  },
  {
   "attachments": {},
   "cell_type": "markdown",
   "metadata": {},
   "source": [
    "## Individual plots"
   ]
  },
  {
   "cell_type": "code",
   "execution_count": 32,
   "metadata": {},
   "outputs": [
    {
     "ename": "ZeroDivisionError",
     "evalue": "division by zero",
     "output_type": "error",
     "traceback": [
      "\u001b[0;31m---------------------------------------------------------------------------\u001b[0m",
      "\u001b[0;31mZeroDivisionError\u001b[0m                         Traceback (most recent call last)",
      "\u001b[1;32m/home/jmacarulla/lr-video-face/main.ipynb Cell 30\u001b[0m in \u001b[0;36m1\n\u001b[0;32m----> <a href='vscode-notebook-cell://wsl%2Bubuntu/home/jmacarulla/lr-video-face/main.ipynb#X41sdnNjb2RlLXJlbW90ZQ%3D%3D?line=0'>1</a>\u001b[0m global_results\u001b[39m.\u001b[39;49mmake_experiment_plots()\n",
      "File \u001b[0;32m~/lr-video-face/lr_video_face/evaluators.py:173\u001b[0m, in \u001b[0;36mGlobalEvaluator.make_experiment_plots\u001b[0;34m(self)\u001b[0m\n\u001b[1;32m    171\u001b[0m \u001b[39mdef\u001b[39;00m \u001b[39mmake_experiment_plots\u001b[39m(\u001b[39mself\u001b[39m):\n\u001b[1;32m    172\u001b[0m     \u001b[39mfor\u001b[39;00m evaluator \u001b[39min\u001b[39;00m \u001b[39mself\u001b[39m\u001b[39m.\u001b[39mexperiment_evaluators:\n\u001b[0;32m--> 173\u001b[0m         evaluator\u001b[39m.\u001b[39;49mmake_plots()\n",
      "File \u001b[0;32m~/lr-video-face/lr_video_face/evaluators.py:56\u001b[0m, in \u001b[0;36mExperimentEvaluator.make_plots\u001b[0;34m(self)\u001b[0m\n\u001b[1;32m     54\u001b[0m plot_lr_distributions(\u001b[39mself\u001b[39m\u001b[39m.\u001b[39mdrop_zero_results, \u001b[39mself\u001b[39m\u001b[39m.\u001b[39mexperiment_directory, \u001b[39mself\u001b[39m\u001b[39m.\u001b[39msave_plots)\n\u001b[1;32m     55\u001b[0m plot_ROC_curve(\u001b[39mself\u001b[39m\u001b[39m.\u001b[39mdrop_zero_results, \u001b[39mself\u001b[39m\u001b[39m.\u001b[39mexperiment_directory, \u001b[39mself\u001b[39m\u001b[39m.\u001b[39msave_plots)\n\u001b[0;32m---> 56\u001b[0m plot_tippett(\u001b[39mself\u001b[39;49m\u001b[39m.\u001b[39;49mdrop_zero_results, \u001b[39mself\u001b[39;49m\u001b[39m.\u001b[39;49mexperiment_directory, \u001b[39mself\u001b[39;49m\u001b[39m.\u001b[39;49msave_plots)\n\u001b[1;32m     57\u001b[0m plot_ece(\u001b[39mself\u001b[39m\u001b[39m.\u001b[39mdrop_zero_results, \u001b[39mself\u001b[39m\u001b[39m.\u001b[39mexperiment_directory, \u001b[39mself\u001b[39m\u001b[39m.\u001b[39msave_plots)\n\u001b[1;32m     58\u001b[0m plot_cllr(\u001b[39mself\u001b[39m\u001b[39m.\u001b[39mdrop_zero_results, \u001b[39mself\u001b[39m\u001b[39m.\u001b[39mexperiment_directory, \u001b[39mself\u001b[39m\u001b[39m.\u001b[39mexperiment\u001b[39m.\u001b[39menfsi_years, \n\u001b[1;32m     59\u001b[0m     \u001b[39mself\u001b[39m\u001b[39m.\u001b[39mcllr_expert_per_year, \u001b[39mself\u001b[39m\u001b[39m.\u001b[39mcllr_auto_per_year, \u001b[39mself\u001b[39m\u001b[39m.\u001b[39mexperiment\u001b[39m.\u001b[39membeddingModel, \u001b[39mself\u001b[39m\u001b[39m.\u001b[39msave_plots)\n",
      "File \u001b[0;32m~/lr-video-face/lr_video_face/plots.py:80\u001b[0m, in \u001b[0;36mplot_tippett\u001b[0;34m(results, experiment_directory, save_plots, show)\u001b[0m\n\u001b[1;32m     77\u001b[0m lr_0, lr_1 \u001b[39m=\u001b[39m Xy_to_Xn(predicted_log_lrs, np\u001b[39m.\u001b[39marray(results[\u001b[39m\"\u001b[39m\u001b[39my_test\u001b[39m\u001b[39m\"\u001b[39m]))\n\u001b[1;32m     79\u001b[0m perc0 \u001b[39m=\u001b[39m (\u001b[39msum\u001b[39m(i \u001b[39m>\u001b[39m xplot \u001b[39mfor\u001b[39;00m i \u001b[39min\u001b[39;00m lr_0) \u001b[39m/\u001b[39m \u001b[39mlen\u001b[39m(lr_0)) \u001b[39m*\u001b[39m \u001b[39m100\u001b[39m\n\u001b[0;32m---> 80\u001b[0m perc1 \u001b[39m=\u001b[39m (\u001b[39msum\u001b[39;49m(i \u001b[39m>\u001b[39;49m xplot \u001b[39mfor\u001b[39;49;00m i \u001b[39min\u001b[39;49;00m lr_1) \u001b[39m/\u001b[39;49m \u001b[39mlen\u001b[39;49m(lr_1)) \u001b[39m*\u001b[39m \u001b[39m100\u001b[39m\n\u001b[1;32m     82\u001b[0m plt\u001b[39m.\u001b[39mfigure(figsize\u001b[39m=\u001b[39m(\u001b[39m10\u001b[39m, \u001b[39m10\u001b[39m), dpi\u001b[39m=\u001b[39m\u001b[39m600\u001b[39m)\n\u001b[1;32m     83\u001b[0m plt\u001b[39m.\u001b[39mplot(xplot, perc1, color\u001b[39m=\u001b[39m\u001b[39m'\u001b[39m\u001b[39mb\u001b[39m\u001b[39m'\u001b[39m, label\u001b[39m=\u001b[39m\u001b[39mr\u001b[39m\u001b[39m'\u001b[39m\u001b[39mLRs given $\u001b[39m\u001b[39m\\\u001b[39m\u001b[39mmathregular\u001b[39m\u001b[39m{H_1}\u001b[39;00m\u001b[39m$\u001b[39m\u001b[39m'\u001b[39m)\n",
      "\u001b[0;31mZeroDivisionError\u001b[0m: division by zero"
     ]
    }
   ],
   "source": [
    "global_results.make_experiment_plots()"
   ]
  },
  {
   "attachments": {},
   "cell_type": "markdown",
   "metadata": {},
   "source": [
    "## General plot"
   ]
  },
  {
   "cell_type": "code",
   "execution_count": null,
   "metadata": {},
   "outputs": [],
   "source": [
    "# import pickle\n",
    "# with open('data2.db','wb') as outp:\n",
    "#     pickle.dump(global_results,outp,-1)"
   ]
  },
  {
   "cell_type": "code",
   "execution_count": null,
   "metadata": {},
   "outputs": [],
   "source": [
    "global_results.make_global_plot()"
   ]
  }
 ],
 "metadata": {
  "kernelspec": {
   "display_name": "lr-video",
   "language": "python",
   "name": "python3"
  },
  "language_info": {
   "codemirror_mode": {
    "name": "ipython",
    "version": 3
   },
   "file_extension": ".py",
   "mimetype": "text/x-python",
   "name": "python",
   "nbconvert_exporter": "python",
   "pygments_lexer": "ipython3",
   "version": "3.8.15"
  },
  "orig_nbformat": 4,
  "vscode": {
   "interpreter": {
    "hash": "ae0b102d19e51505dfa7f9c4c891943d4814851bfb0fb9ee13b9b1dd2d5eef8a"
   }
  }
 },
 "nbformat": 4,
 "nbformat_minor": 2
}
