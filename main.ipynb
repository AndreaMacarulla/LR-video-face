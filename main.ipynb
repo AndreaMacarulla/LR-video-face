{
 "cells": [
  {
   "attachments": {},
   "cell_type": "markdown",
   "metadata": {},
   "source": [
    "# Imports\n",
    "Import python libraries"
   ]
  },
  {
   "cell_type": "code",
   "execution_count": 74,
   "metadata": {},
   "outputs": [],
   "source": [
    "import os"
   ]
  },
  {
   "cell_type": "markdown",
   "metadata": {},
   "source": [
    "# Set dataset parameters\n",
    "Choose the attributes to load the dataset."
   ]
  },
  {
   "cell_type": "code",
   "execution_count": 75,
   "metadata": {},
   "outputs": [],
   "source": [
    "\n",
    "\n",
    "detectors = ['mtcnn_serfiq']  # ,'dlib', 'opencv', 'mediapipe','mtcnn','mtcnn_serfiq'\n",
    "embedding_models = ['Facenet512','QMagFace','ArcFace']  # 'QMagFace', \"ArcFace\",\"Dlib\", 'VGG-Face','FaceVACs', 'Facenet512','ArcFace_normalized'\n",
    "quality_models = ['ser_fiq','tface'] #  'ser_fiq','tface'\n"
   ]
  },
  {
   "cell_type": "markdown",
   "metadata": {},
   "source": [
    "# Set LR parameters\n",
    "Calibration, image filters, face filters, quality filters..."
   ]
  },
  {
   "cell_type": "markdown",
   "metadata": {},
   "source": [
    "## Calibration"
   ]
  },
  {
   "cell_type": "code",
   "execution_count": 76,
   "metadata": {},
   "outputs": [],
   "source": [
    "calibrators = ['logit']  # 'KDE', , 'isotonic','logit'\n",
    "calibration_db = ['XQLFW','SCFace'] # \"SCFace\",'ForenFace','ENFSI','ForenFace','LFW','SCFace','UTKface','XQLFW',\n",
    "\n",
    "image_filters = ['yaw', 'gender', 'race','emotion']   # 'yaw','pitch','roll', E.g. 'pose','gender','emotion','race'\n",
    "face_image_filters = []  # 'confusion_score'\n",
    "quality_filters = ['quality_group'] # 'quality_group'\n",
    "\n",
    "#all the filters in one dictionary\n",
    "filters = {'image': image_filters, 'face_image': face_image_filters,'quality_image': quality_filters}\n",
    "\n",
    "n_calibration_pairs = 10000\n",
    "\n"
   ]
  },
  {
   "cell_type": "markdown",
   "metadata": {},
   "source": [
    "## Validation"
   ]
  },
  {
   "cell_type": "code",
   "execution_count": 77,
   "metadata": {},
   "outputs": [],
   "source": [
    "enfsi_years = [2015]"
   ]
  },
  {
   "attachments": {},
   "cell_type": "markdown",
   "metadata": {},
   "source": [
    "# Video parameters"
   ]
  },
  {
   "cell_type": "code",
   "execution_count": 78,
   "metadata": {},
   "outputs": [],
   "source": [
    "import numpy as np\n",
    "#quality_dropout = [0.01, 0.02, 0.05, 0.10, 0.20, 0.5, 1]\n",
    "quality_dropout = list(np.linspace(0.1,1.0,10))"
   ]
  },
  {
   "cell_type": "markdown",
   "metadata": {},
   "source": [
    "## Other parameters\n",
    "Rest of the configuration"
   ]
  },
  {
   "cell_type": "code",
   "execution_count": 79,
   "metadata": {},
   "outputs": [],
   "source": [
    "metrics = 'euclidean_l2'\n",
    "embedding_model_as_scorer = True"
   ]
  },
  {
   "cell_type": "markdown",
   "metadata": {},
   "source": [
    "# Scenarios\n",
    "Different filters to do computations"
   ]
  },
  {
   "cell_type": "code",
   "execution_count": 80,
   "metadata": {},
   "outputs": [],
   "source": [
    "scenario0 = []\n",
    "scenario1 = ['gender', 'age']\n",
    "scenario2 = ['yaw', 'pitch']\n",
    "scenario3 = ['glasses', 'beard']\n",
    "scenario4 = ['low_quality']\n",
    "scenario5 = ['headgear']\n",
    "scenario6 = ['terhorst_quality_rounded']"
   ]
  },
  {
   "attachments": {},
   "cell_type": "markdown",
   "metadata": {},
   "source": [
    "# Input and output directories\n",
    "Where the sql database is and which folder the results are saved."
   ]
  },
  {
   "cell_type": "code",
   "execution_count": 81,
   "metadata": {},
   "outputs": [],
   "source": [
    "home = os.path.expanduser(\"~\")\n",
    "\n",
    "# SQL database path and name\n",
    "input_dir = os.path.join(home, 'video_resources', 'sql_database')\n",
    "db_name = 'colab_main_dataset_21'\n",
    "\n",
    "# Where results are saved\n",
    "output_dir = os.path.join(home, 'video_resources', 'output_4')"
   ]
  },
  {
   "cell_type": "markdown",
   "metadata": {},
   "source": [
    "# Preprocess data\n",
    "Connect to sql database."
   ]
  },
  {
   "cell_type": "code",
   "execution_count": 82,
   "metadata": {},
   "outputs": [],
   "source": [
    "from sql_face.alchemy import get_session\n",
    "from sql_face.tables import *"
   ]
  },
  {
   "cell_type": "code",
   "execution_count": 83,
   "metadata": {},
   "outputs": [],
   "source": [
    "session = get_session(input_dir, db_name)"
   ]
  },
  {
   "attachments": {},
   "cell_type": "markdown",
   "metadata": {},
   "source": [
    "# Experiments\n",
    "\n",
    "All parameters are specified in ExperimentalSetup, that creates a different experiment with all the posible combinations of detectors, embedding_models, calibrators, etc."
   ]
  },
  {
   "cell_type": "code",
   "execution_count": 84,
   "metadata": {},
   "outputs": [],
   "source": [
    "from lr_video_face.experiments import ExperimentalSetup"
   ]
  },
  {
   "cell_type": "code",
   "execution_count": 85,
   "metadata": {},
   "outputs": [],
   "source": [
    "experimental_setup = ExperimentalSetup(detectors, \n",
    "                                        embedding_models, \n",
    "                                        quality_models,\n",
    "                                        calibrators, \n",
    "                                        calibration_db, \n",
    "                                        enfsi_years,\n",
    "                                        filters,\n",
    "                                        metrics, \n",
    "                                        n_calibration_pairs,\n",
    "                                        embedding_model_as_scorer,\n",
    "                                        output_dir,\n",
    "                                        session,\n",
    "                                        quality_dropout)"
   ]
  },
  {
   "attachments": {},
   "cell_type": "markdown",
   "metadata": {},
   "source": [
    "# Results"
   ]
  },
  {
   "cell_type": "code",
   "execution_count": 86,
   "metadata": {},
   "outputs": [
    {
     "data": {
      "text/plain": [
       "' from sql_face.tables import Image, Quality\\nquery = session.query(Image).filter(Image.image_quality == Quality.MEDIUM).all()\\n\\na = len(query)\\nprint (a) '"
      ]
     },
     "execution_count": 86,
     "metadata": {},
     "output_type": "execute_result"
    }
   ],
   "source": [
    "\"\"\" from sql_face.tables import Image, Quality\n",
    "query = session.query(Image).filter(Image.image_quality == Quality.MEDIUM).all()\n",
    "\n",
    "a = len(query)\n",
    "print (a) \"\"\"\n"
   ]
  },
  {
   "cell_type": "code",
   "execution_count": 87,
   "metadata": {},
   "outputs": [
    {
     "data": {
      "text/plain": [
       "'for exp in experimental_setup:\\n    exp.perform()\\n    break  '"
      ]
     },
     "execution_count": 87,
     "metadata": {},
     "output_type": "execute_result"
    }
   ],
   "source": [
    "'''for exp in experimental_setup:\n",
    "    exp.perform()\n",
    "    break  '''"
   ]
  },
  {
   "cell_type": "code",
   "execution_count": 88,
   "metadata": {},
   "outputs": [],
   "source": [
    "from lr_video_face.evaluators import GlobalEvaluator  "
   ]
  },
  {
   "cell_type": "code",
   "execution_count": 89,
   "metadata": {},
   "outputs": [
    {
     "name": "stderr",
     "output_type": "stream",
     "text": [
      "100%|██████████| 6/6 [5:03:05<00:00, 3030.93s/it]  \n"
     ]
    }
   ],
   "source": [
    "global_results = GlobalEvaluator(experimental_setup)    "
   ]
  },
  {
   "attachments": {},
   "cell_type": "markdown",
   "metadata": {},
   "source": [
    "## Individual plots"
   ]
  },
  {
   "cell_type": "code",
   "execution_count": 90,
   "metadata": {},
   "outputs": [],
   "source": [
    "global_results.make_experiment_plots()"
   ]
  },
  {
   "attachments": {},
   "cell_type": "markdown",
   "metadata": {},
   "source": [
    "## General plot"
   ]
  },
  {
   "cell_type": "code",
   "execution_count": 91,
   "metadata": {},
   "outputs": [],
   "source": [
    "# import pickle\n",
    "# with open('data2.db','wb') as outp:\n",
    "#     pickle.dump(global_results,outp,-1)"
   ]
  },
  {
   "cell_type": "code",
   "execution_count": 92,
   "metadata": {},
   "outputs": [
    {
     "name": "stdout",
     "output_type": "stream",
     "text": [
      "0.8793014426510015 [0.56944606 0.74328775 1.03880779]\n",
      "0.9509596470603046 [0.66570092 0.8431151  1.10550507]\n",
      "0.9229906198696665 [0.62612818 0.80629529 1.05562532]\n",
      "0.9836008886212108 [0.72368151 0.90955169 1.15264851]\n",
      "0.9713533997258792 [0.70005336 0.89007084 1.13298209]\n",
      "0.9954726318606639 [0.73585838 0.92691471 1.17480747]\n",
      "0.9995032631403549 [0.73782005 0.92837317 1.19014535]\n",
      "1.0025809662440945 [0.74015867 0.93364202 1.19758264]\n",
      "1.0040807864277554 [0.7443216  0.93961168 1.20282373]\n",
      "1.0051835952708437 [0.74486121 0.94519827 1.20882284]\n",
      "1.006756374214114 [0.6321742  0.85421677 1.23175799]\n",
      "1.0196037960476776 [0.66629272 0.92250194 1.28021145]\n",
      "1.0144316544838554 [0.63723226 0.86227637 1.25357834]\n",
      "1.0707748662395726 [0.717759   1.02844544 1.41814028]\n",
      "1.043176410123658 [0.69600214 0.98990054 1.32962977]\n",
      "1.076342181489483 [0.73226076 1.05483204 1.47323633]\n",
      "1.0777940840561802 [0.73987712 1.05631335 1.49165484]\n",
      "1.0824720837678883 [0.74786408 1.07750495 1.52593725]\n",
      "1.09229037665922 [0.75822197 1.09162505 1.55203029]\n",
      "1.0985339162699637 [0.76267723 1.09551188 1.56419131]\n",
      "0.7987783946562415 [0.66509725 0.7764801  0.87537613]\n",
      "0.839922578696371 [0.73379946 0.82963303 0.91286819]\n",
      "0.8223052398401552 [0.70135501 0.80253481 0.8957005 ]\n",
      "0.8717546627512652 [0.7730602  0.86358528 0.95618666]\n",
      "0.8569138603742075 [0.75483516 0.85105386 0.93401058]\n",
      "0.8848116689671315 [0.78635032 0.87776069 0.97584059]\n",
      "0.8915921868353012 [0.79350408 0.88665709 0.98489429]\n",
      "0.8974770800549924 [0.79837898 0.89126029 0.99407278]\n",
      "0.89950376856662 [0.80011051 0.89395702 0.99806984]\n",
      "0.9016183950355001 [0.80155748 0.89519187 1.00260447]\n",
      "0.7071268916756964 [0.47823969 0.67451489 0.88469457]\n",
      "0.7644695010502369 [0.50624553 0.70010495 1.03513115]\n",
      "0.7322164781789339 [0.50015066 0.68279137 0.95022164]\n",
      "0.8421652883651904 [0.54175033 0.78838788 1.33280013]\n",
      "0.8035511130878756 [0.52844312 0.74024822 1.17037233]\n",
      "0.87244925383633 [0.55515732 0.83175436 1.40786438]\n",
      "0.8832437117005133 [0.55667484 0.84746983 1.43517808]\n",
      "0.903091401509149 [0.56640126 0.88888375 1.48280389]\n",
      "0.9178211339007747 [0.57235013 0.92409341 1.51330475]\n",
      "0.9298592815497848 [0.57446893 0.94497118 1.53628316]\n",
      "1.5207177968032786 [0.18228077 2.5989525  3.0180207 ]\n",
      "1.6197409314220108 [0.16580913 2.85827504 3.25396453]\n",
      "1.5809980092147222 [0.17397552 2.7318348  3.18465345]\n",
      "1.6627213999657235 [0.15844806 2.98040173 3.3511544 ]\n",
      "1.6484613842096978 [0.15873632 2.95311933 3.3218976 ]\n",
      "1.6739358006169085 [0.15789675 3.02529469 3.36300272]\n",
      "1.68529435910353 [0.1578204  3.02841606 3.36585069]\n",
      "1.6892473507259225 [0.15763728 3.03136658 3.37025353]\n",
      "1.6920930124855145 [0.15657022 3.04069234 3.37406018]\n",
      "1.6947154247726153 [0.15598148 3.04755154 3.3770887 ]\n",
      "1.0029607229188626 [0.87624561 1.13764828 1.15736335]\n",
      "1.0027129478538954 [0.86832907 1.14468954 1.16327441]\n",
      "1.0028333606390465 [0.87680714 1.14384936 1.16143739]\n",
      "1.0046194535296034 [0.8700756  1.15326111 1.16565699]\n",
      "1.0036489767977659 [0.8701099  1.14990466 1.16500597]\n",
      "1.0050715395635088 [0.8666663  1.15452497 1.16597398]\n",
      "1.0052860248206876 [0.86265607 1.1551963  1.1659966 ]\n",
      "1.005603836966791 [0.8624556  1.15636892 1.16633965]\n",
      "1.0060999705381006 [0.86302291 1.15701564 1.16655451]\n",
      "1.0062245043971838 [0.86186183 1.15752288 1.16664349]\n"
     ]
    }
   ],
   "source": [
    "global_results.make_global_plot()"
   ]
  }
 ],
 "metadata": {
  "kernelspec": {
   "display_name": "lr-video",
   "language": "python",
   "name": "python3"
  },
  "language_info": {
   "codemirror_mode": {
    "name": "ipython",
    "version": 3
   },
   "file_extension": ".py",
   "mimetype": "text/x-python",
   "name": "python",
   "nbconvert_exporter": "python",
   "pygments_lexer": "ipython3",
   "version": "3.8.15"
  },
  "orig_nbformat": 4,
  "vscode": {
   "interpreter": {
    "hash": "ae0b102d19e51505dfa7f9c4c891943d4814851bfb0fb9ee13b9b1dd2d5eef8a"
   }
  }
 },
 "nbformat": 4,
 "nbformat_minor": 2
}
