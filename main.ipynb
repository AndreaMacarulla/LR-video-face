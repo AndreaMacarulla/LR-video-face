{
 "cells": [
  {
   "attachments": {},
   "cell_type": "markdown",
   "metadata": {},
   "source": [
    "# Imports\n",
    "Import python libraries"
   ]
  },
  {
   "cell_type": "code",
   "execution_count": 1,
   "metadata": {},
   "outputs": [],
   "source": [
    "import os"
   ]
  },
  {
   "cell_type": "markdown",
   "metadata": {},
   "source": [
    "# Set dataset parameters\n",
    "Choose the attributes to load the dataset."
   ]
  },
  {
   "cell_type": "code",
   "execution_count": 2,
   "metadata": {},
   "outputs": [],
   "source": [
    "detectors = ['mtcnn']  # 'dlib', 'opencv',\n",
    "embedding_models = ['ArcFace']  # \"Dlib\", 'VGG-Face','FaceVACs', 'Facenet512'\n",
    "# TODO:add quality models to experiments\n",
    "# quality_models = ['ser_fiq', 'tface']\n"
   ]
  },
  {
   "cell_type": "markdown",
   "metadata": {},
   "source": [
    "# Set LR parameters\n",
    "Calibration, image filters, face filters, quality filters..."
   ]
  },
  {
   "cell_type": "markdown",
   "metadata": {},
   "source": [
    "## Calibration"
   ]
  },
  {
   "cell_type": "code",
   "execution_count": 3,
   "metadata": {},
   "outputs": [],
   "source": [
    "calibrators = ['logit', 'KDE']  # 'KDE', , 'isotonic'\n",
    "calibration_db = [\"LFW\", \"SCFace\"] # which datasets using to calibrate\n",
    "filters = []  # todo: change name to image filters. E.g. 'pose'\n",
    "face_image_filters = []  # 'confusion_score','quality'\n",
    "\n",
    "n_calibration_pairs = 100"
   ]
  },
  {
   "cell_type": "markdown",
   "metadata": {},
   "source": [
    "## Validation"
   ]
  },
  {
   "cell_type": "code",
   "execution_count": 4,
   "metadata": {},
   "outputs": [],
   "source": [
    "enfsi_years = [2011, 2012]"
   ]
  },
  {
   "cell_type": "markdown",
   "metadata": {},
   "source": [
    "## Other parameters\n",
    "Rest of the configuration"
   ]
  },
  {
   "cell_type": "code",
   "execution_count": 5,
   "metadata": {},
   "outputs": [],
   "source": [
    "metrics = \"cosine\"\n",
    "embedding_model_as_scorer = True"
   ]
  },
  {
   "cell_type": "markdown",
   "metadata": {},
   "source": [
    "# Scenarios\n",
    "Different filters to do computations"
   ]
  },
  {
   "cell_type": "code",
   "execution_count": 6,
   "metadata": {},
   "outputs": [],
   "source": [
    "scenario0 = []\n",
    "scenario1 = ['gender', 'age']\n",
    "scenario2 = ['yaw', 'pitch']\n",
    "scenario3 = ['glasses', 'beard']\n",
    "scenario4 = ['low_quality']\n",
    "scenario5 = ['headgear']\n",
    "scenario6 = ['terhorst_quality_rounded']"
   ]
  },
  {
   "attachments": {},
   "cell_type": "markdown",
   "metadata": {},
   "source": [
    "# Input and output directories\n",
    "Where the sql database is and which folder the results are saved."
   ]
  },
  {
   "cell_type": "code",
   "execution_count": 7,
   "metadata": {},
   "outputs": [],
   "source": [
    "home = os.path.expanduser(\"~\")\n",
    "\n",
    "# SQL database path and name\n",
    "input_dir = os.path.join(home, 'video_resources', 'sql_database')\n",
    "db_name = 'colab_main_dataset'\n",
    "\n",
    "# Where results are saved\n",
    "output_dir = os.path.join(home, 'video_resources', 'exp_output')"
   ]
  },
  {
   "cell_type": "markdown",
   "metadata": {},
   "source": [
    "# Preprocess data\n",
    "Connect to sql database."
   ]
  },
  {
   "cell_type": "code",
   "execution_count": 8,
   "metadata": {},
   "outputs": [
    {
     "name": "stderr",
     "output_type": "stream",
     "text": [
      "2022-12-12 23:21:10.408001: I tensorflow/core/platform/cpu_feature_guard.cc:193] This TensorFlow binary is optimized with oneAPI Deep Neural Network Library (oneDNN) to use the following CPU instructions in performance-critical operations:  AVX2 FMA\n",
      "To enable them in other operations, rebuild TensorFlow with the appropriate compiler flags.\n",
      "2022-12-12 23:21:11.199712: W tensorflow/compiler/xla/stream_executor/platform/default/dso_loader.cc:64] Could not load dynamic library 'libnvinfer.so.7'; dlerror: libnvinfer.so.7: cannot open shared object file: No such file or directory; LD_LIBRARY_PATH: /home/andrea/anaconda3/envs/lr-video/lib/python3.8/site-packages/cv2/../../lib64:/home/andrea/Documents/cuda_software/cuda/lib64:/usr/local/cuda-11.2/lib64\n",
      "2022-12-12 23:21:11.199771: W tensorflow/compiler/xla/stream_executor/platform/default/dso_loader.cc:64] Could not load dynamic library 'libnvinfer_plugin.so.7'; dlerror: libnvinfer_plugin.so.7: cannot open shared object file: No such file or directory; LD_LIBRARY_PATH: /home/andrea/anaconda3/envs/lr-video/lib/python3.8/site-packages/cv2/../../lib64:/home/andrea/Documents/cuda_software/cuda/lib64:/usr/local/cuda-11.2/lib64\n",
      "2022-12-12 23:21:11.199779: W tensorflow/compiler/tf2tensorrt/utils/py_utils.cc:38] TF-TRT Warning: Cannot dlopen some TensorRT libraries. If you would like to use Nvidia GPU with TensorRT, please make sure the missing libraries mentioned above are installed properly.\n"
     ]
    }
   ],
   "source": [
    "from sql_face.alchemy import get_session\n",
    "from sql_face.tables import *"
   ]
  },
  {
   "cell_type": "code",
   "execution_count": 9,
   "metadata": {},
   "outputs": [],
   "source": [
    "session = get_session(input_dir, db_name)"
   ]
  },
  {
   "attachments": {},
   "cell_type": "markdown",
   "metadata": {},
   "source": [
    "# Start experiments\n",
    "\n",
    "All parameters are specified in ExperimentalSetup, that creates a different experiment with all the posible combinations of detectors, embedding_models, calibrators, etc."
   ]
  },
  {
   "cell_type": "code",
   "execution_count": 10,
   "metadata": {},
   "outputs": [],
   "source": [
    "from lr_video_face.experiments import ExperimentalSetup"
   ]
  },
  {
   "cell_type": "code",
   "execution_count": 11,
   "metadata": {},
   "outputs": [],
   "source": [
    "experimental_setup = ExperimentalSetup(detectors, \n",
    "                                        embedding_models, \n",
    "                                        calibrators, \n",
    "                                        calibration_db, \n",
    "                                        enfsi_years,\n",
    "                                        filters, \n",
    "                                        face_image_filters, \n",
    "                                        metrics, \n",
    "                                        n_calibration_pairs,\n",
    "                                        embedding_model_as_scorer,\n",
    "                                        output_dir,\n",
    "                                        session)"
   ]
  },
  {
   "cell_type": "code",
   "execution_count": 12,
   "metadata": {},
   "outputs": [
    {
     "ename": "AttributeError",
     "evalue": "'EnfsiImage' object has no attribute 'get_category'",
     "output_type": "error",
     "traceback": [
      "\u001b[0;31m---------------------------------------------------------------------------\u001b[0m",
      "\u001b[0;31mAttributeError\u001b[0m                            Traceback (most recent call last)",
      "Cell \u001b[0;32mIn [12], line 1\u001b[0m\n\u001b[0;32m----> 1\u001b[0m experimental_setup\u001b[39m.\u001b[39;49mexperiments[\u001b[39m0\u001b[39;49m]\u001b[39m.\u001b[39;49mperform()\n",
      "File \u001b[0;32m~/PycharmProjects/lr-video-face/lr_video_face/experiments.py:95\u001b[0m, in \u001b[0;36mExperiment.perform\u001b[0;34m(self)\u001b[0m\n\u001b[1;32m     92\u001b[0m \u001b[39mself\u001b[39m\u001b[39m.\u001b[39mcreate_output_dir()\n\u001b[1;32m     94\u001b[0m \u001b[39m# Get test pairs per category.\u001b[39;00m\n\u001b[0;32m---> 95\u001b[0m test_pairs_per_category \u001b[39m=\u001b[39m get_test_pairs_per_category(\u001b[39mself\u001b[39;49m\u001b[39m.\u001b[39;49msession, \n\u001b[1;32m     96\u001b[0m                                                     \u001b[39mself\u001b[39;49m\u001b[39m.\u001b[39;49mfilters, \n\u001b[1;32m     97\u001b[0m                                                     \u001b[39mself\u001b[39;49m\u001b[39m.\u001b[39;49mface_image_filters, \n\u001b[1;32m     98\u001b[0m                                                     \u001b[39mself\u001b[39;49m\u001b[39m.\u001b[39;49mdetector, \n\u001b[1;32m     99\u001b[0m                                                     \u001b[39mself\u001b[39;49m\u001b[39m.\u001b[39;49membeddingModel,\n\u001b[1;32m    100\u001b[0m                                                     \u001b[39mself\u001b[39;49m\u001b[39m.\u001b[39;49menfsi_years)\n\u001b[1;32m    101\u001b[0m \u001b[39m# Get calibration pair per category.\u001b[39;00m\n\u001b[1;32m    102\u001b[0m calibration_pairs_per_category \u001b[39m=\u001b[39m get_calibration_pairs_per_category(test_pairs_per_category\u001b[39m.\u001b[39mkeys(),\n\u001b[1;32m    103\u001b[0m                                                                     \u001b[39mself\u001b[39m\u001b[39m.\u001b[39mfilters, \n\u001b[1;32m    104\u001b[0m                                                                     \u001b[39mself\u001b[39m\u001b[39m.\u001b[39mface_image_filters,\n\u001b[0;32m   (...)\u001b[0m\n\u001b[1;32m    108\u001b[0m                                                                     \u001b[39mself\u001b[39m\u001b[39m.\u001b[39mn_calibration_pairs,\n\u001b[1;32m    109\u001b[0m                                                                     \u001b[39mself\u001b[39m\u001b[39m.\u001b[39msession)\n",
      "File \u001b[0;32m~/PycharmProjects/lr-video-face/lr_video_face/pairing.py:88\u001b[0m, in \u001b[0;36mget_test_pairs_per_category\u001b[0;34m(session, filters, face_image_filters, detector, embeddingModel, enfsi_years)\u001b[0m\n\u001b[1;32m     73\u001b[0m \u001b[39mdef\u001b[39;00m \u001b[39mget_test_pairs_per_category\u001b[39m(session,\n\u001b[1;32m     74\u001b[0m                                 filters,\n\u001b[1;32m     75\u001b[0m                                 face_image_filters,\n\u001b[1;32m     76\u001b[0m                                 detector,\n\u001b[1;32m     77\u001b[0m                                 embeddingModel,\n\u001b[1;32m     78\u001b[0m                                 enfsi_years):\n\u001b[1;32m     80\u001b[0m         valid_test_pairs \u001b[39m=\u001b[39m get_valid_test_pairs(session,\n\u001b[1;32m     81\u001b[0m                                                 filters,\n\u001b[1;32m     82\u001b[0m                                                 face_image_filters,\n\u001b[1;32m     83\u001b[0m                                                 detector,\n\u001b[1;32m     84\u001b[0m                                                 embeddingModel,\n\u001b[1;32m     85\u001b[0m                                                 enfsi_years)\n\u001b[0;32m---> 88\u001b[0m         test_categories \u001b[39m=\u001b[39m [\n\u001b[1;32m     89\u001b[0m             row[\u001b[39m0\u001b[39m]\u001b[39m.\u001b[39mget_category(filters, face_image_filters, detector, embeddingModel)\n\u001b[1;32m     90\u001b[0m             \u001b[39mfor\u001b[39;00m row \u001b[39min\u001b[39;00m valid_test_pairs]\n\u001b[1;32m     92\u001b[0m         test_pairs_per_category \u001b[39m=\u001b[39m defaultdict(\u001b[39mlist\u001b[39m)\n\u001b[1;32m     93\u001b[0m         \u001b[39m# for face_pair, category in zip(valid_test_pairs, test_categories):\u001b[39;00m\n\u001b[1;32m     94\u001b[0m         \u001b[39m#    test_pairs_per_category[category].append(face_pair)\u001b[39;00m\n",
      "File \u001b[0;32m~/PycharmProjects/lr-video-face/lr_video_face/pairing.py:89\u001b[0m, in \u001b[0;36m<listcomp>\u001b[0;34m(.0)\u001b[0m\n\u001b[1;32m     73\u001b[0m \u001b[39mdef\u001b[39;00m \u001b[39mget_test_pairs_per_category\u001b[39m(session,\n\u001b[1;32m     74\u001b[0m                                 filters,\n\u001b[1;32m     75\u001b[0m                                 face_image_filters,\n\u001b[1;32m     76\u001b[0m                                 detector,\n\u001b[1;32m     77\u001b[0m                                 embeddingModel,\n\u001b[1;32m     78\u001b[0m                                 enfsi_years):\n\u001b[1;32m     80\u001b[0m         valid_test_pairs \u001b[39m=\u001b[39m get_valid_test_pairs(session,\n\u001b[1;32m     81\u001b[0m                                                 filters,\n\u001b[1;32m     82\u001b[0m                                                 face_image_filters,\n\u001b[1;32m     83\u001b[0m                                                 detector,\n\u001b[1;32m     84\u001b[0m                                                 embeddingModel,\n\u001b[1;32m     85\u001b[0m                                                 enfsi_years)\n\u001b[1;32m     88\u001b[0m         test_categories \u001b[39m=\u001b[39m [\n\u001b[0;32m---> 89\u001b[0m             row[\u001b[39m0\u001b[39;49m]\u001b[39m.\u001b[39;49mget_category(filters, face_image_filters, detector, embeddingModel)\n\u001b[1;32m     90\u001b[0m             \u001b[39mfor\u001b[39;00m row \u001b[39min\u001b[39;00m valid_test_pairs]\n\u001b[1;32m     92\u001b[0m         test_pairs_per_category \u001b[39m=\u001b[39m defaultdict(\u001b[39mlist\u001b[39m)\n\u001b[1;32m     93\u001b[0m         \u001b[39m# for face_pair, category in zip(valid_test_pairs, test_categories):\u001b[39;00m\n\u001b[1;32m     94\u001b[0m         \u001b[39m#    test_pairs_per_category[category].append(face_pair)\u001b[39;00m\n",
      "File \u001b[0;32m~/anaconda3/envs/lr-video/lib/python3.8/site-packages/sql_face/tables.py:249\u001b[0m, in \u001b[0;36mPair.get_category\u001b[0;34m(self, im_category_list, fi_cat_list, detector, embedding_model)\u001b[0m\n\u001b[1;32m    248\u001b[0m \u001b[39mdef\u001b[39;00m \u001b[39mget_category\u001b[39m(\u001b[39mself\u001b[39m, im_category_list, fi_cat_list, detector, embedding_model):\n\u001b[0;32m--> 249\u001b[0m     \u001b[39mreturn\u001b[39;00m \u001b[39mtuple\u001b[39m((\u001b[39mself\u001b[39;49m\u001b[39m.\u001b[39;49mfirst\u001b[39m.\u001b[39;49mget_category(im_category_list, fi_cat_list, detector, embedding_model),\n\u001b[1;32m    250\u001b[0m                   \u001b[39mself\u001b[39m\u001b[39m.\u001b[39msecond\u001b[39m.\u001b[39mget_category(im_category_list, fi_cat_list, detector, embedding_model)))\n",
      "\u001b[0;31mAttributeError\u001b[0m: 'EnfsiImage' object has no attribute 'get_category'"
     ]
    }
   ],
   "source": [
    "\n",
    "experimental_setup.experiments[0].perform()"
   ]
  }
 ],
 "metadata": {
  "kernelspec": {
   "display_name": "Python 3.7.15 ('lr-video')",
   "language": "python",
   "name": "python3"
  },
  "language_info": {
   "codemirror_mode": {
    "name": "ipython",
    "version": 3
   },
   "file_extension": ".py",
   "mimetype": "text/x-python",
   "name": "python",
   "nbconvert_exporter": "python",
   "pygments_lexer": "ipython3",
   "version": "3.8.15"
  },
  "orig_nbformat": 4,
  "vscode": {
   "interpreter": {
    "hash": "c08d8fec19e509e399d6ec1cb9b529f9385c45181b63bf2f2d9547e2a9a7b9b5"
   }
  }
 },
 "nbformat": 4,
 "nbformat_minor": 2
}
