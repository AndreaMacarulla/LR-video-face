{
 "cells": [
  {
   "attachments": {},
   "cell_type": "markdown",
   "metadata": {},
   "source": [
    "# Imports\n",
    "Import python libraries"
   ]
  },
  {
   "cell_type": "code",
   "execution_count": 1,
   "metadata": {},
   "outputs": [],
   "source": [
    "import os"
   ]
  },
  {
   "cell_type": "markdown",
   "metadata": {},
   "source": [
    "# Set dataset parameters\n",
    "Choose the attributes to load the dataset."
   ]
  },
  {
   "cell_type": "code",
   "execution_count": 2,
   "metadata": {},
   "outputs": [],
   "source": [
    "\n",
    "detectors = ['mtcnn']  # 'dlib', 'opencv',\n",
    "embedding_models = ['ArcFace']  # \"Dlib\", 'VGG-Face','FaceVACs', 'Facenet512'\n",
    "# TODO:add quality models to experiments\n",
    "quality_models = ['ser_fiq', 'tface']\n"
   ]
  },
  {
   "cell_type": "markdown",
   "metadata": {},
   "source": [
    "# Set LR parameters\n",
    "Calibration, image filters, face filters, quality filters..."
   ]
  },
  {
   "cell_type": "markdown",
   "metadata": {},
   "source": [
    "## Calibration"
   ]
  },
  {
   "cell_type": "code",
   "execution_count": 3,
   "metadata": {},
   "outputs": [],
   "source": [
    "calibrators = ['logit', 'KDE']  # 'KDE', , 'isotonic'\n",
    "calibration_db = [\"LFW\", \"SCFace\"] # which datasets using to calibrate\n",
    "image_filters = ['gender']  # todo: change name to image filters. E.g. 'pose','gender'\n",
    "face_image_filters = []  # 'confusion_score','quality'\n",
    "quality_filters = ['ser_fiq'] # 'ser_fiq', 'tface'\n",
    "\n",
    "n_calibration_pairs = 100"
   ]
  },
  {
   "cell_type": "markdown",
   "metadata": {},
   "source": [
    "## Validation"
   ]
  },
  {
   "cell_type": "code",
   "execution_count": 4,
   "metadata": {},
   "outputs": [],
   "source": [
    "enfsi_years = [2012,2017]"
   ]
  },
  {
   "cell_type": "markdown",
   "metadata": {},
   "source": [
    "## Other parameters\n",
    "Rest of the configuration"
   ]
  },
  {
   "cell_type": "code",
   "execution_count": 5,
   "metadata": {},
   "outputs": [],
   "source": [
    "metrics = \"cosine\"\n",
    "embedding_model_as_scorer = True"
   ]
  },
  {
   "cell_type": "markdown",
   "metadata": {},
   "source": [
    "# Scenarios\n",
    "Different filters to do computations"
   ]
  },
  {
   "cell_type": "code",
   "execution_count": 6,
   "metadata": {},
   "outputs": [],
   "source": [
    "scenario0 = []\n",
    "scenario1 = ['gender', 'age']\n",
    "scenario2 = ['yaw', 'pitch']\n",
    "scenario3 = ['glasses', 'beard']\n",
    "scenario4 = ['low_quality']\n",
    "scenario5 = ['headgear']\n",
    "scenario6 = ['terhorst_quality_rounded']"
   ]
  },
  {
   "attachments": {},
   "cell_type": "markdown",
   "metadata": {},
   "source": [
    "# Input and output directories\n",
    "Where the sql database is and which folder the results are saved."
   ]
  },
  {
   "cell_type": "code",
   "execution_count": 7,
   "metadata": {},
   "outputs": [],
   "source": [
    "home = os.path.expanduser(\"~\")\n",
    "\n",
    "# SQL database path and name\n",
    "input_dir = os.path.join(home, 'video_resources', 'sql_database')\n",
    "db_name = 'colab_main_dataset'\n",
    "\n",
    "# Where results are saved\n",
    "output_dir = os.path.join(home, 'video_resources', 'exp_output')"
   ]
  },
  {
   "cell_type": "markdown",
   "metadata": {},
   "source": [
    "# Preprocess data\n",
    "Connect to sql database."
   ]
  },
  {
   "cell_type": "code",
   "execution_count": 8,
   "metadata": {},
   "outputs": [
    {
     "name": "stderr",
     "output_type": "stream",
     "text": [
      "2022-12-18 15:44:18.126800: I tensorflow/core/platform/cpu_feature_guard.cc:193] This TensorFlow binary is optimized with oneAPI Deep Neural Network Library (oneDNN) to use the following CPU instructions in performance-critical operations:  SSE4.1 SSE4.2 AVX AVX2 FMA\n",
      "To enable them in other operations, rebuild TensorFlow with the appropriate compiler flags.\n"
     ]
    }
   ],
   "source": [
    "from sql_face.alchemy import get_session\n",
    "from sql_face.tables import *"
   ]
  },
  {
   "cell_type": "code",
   "execution_count": 9,
   "metadata": {},
   "outputs": [],
   "source": [
    "session = get_session(input_dir, db_name)"
   ]
  },
  {
   "attachments": {},
   "cell_type": "markdown",
   "metadata": {},
   "source": [
    "# Experiments\n",
    "\n",
    "All parameters are specified in ExperimentalSetup, that creates a different experiment with all the posible combinations of detectors, embedding_models, calibrators, etc."
   ]
  },
  {
   "cell_type": "code",
   "execution_count": 10,
   "metadata": {},
   "outputs": [],
   "source": [
    "from lr_video_face.experiments import ExperimentalSetup"
   ]
  },
  {
   "cell_type": "code",
   "execution_count": 11,
   "metadata": {},
   "outputs": [],
   "source": [
    "experimental_setup = ExperimentalSetup(detectors, \n",
    "                                        embedding_models, \n",
    "                                        quality_models,\n",
    "                                        calibrators, \n",
    "                                        calibration_db, \n",
    "                                        enfsi_years,\n",
    "                                        image_filters, \n",
    "                                        face_image_filters, \n",
    "                                        quality_filters,\n",
    "                                        metrics, \n",
    "                                        n_calibration_pairs,\n",
    "                                        embedding_model_as_scorer,\n",
    "                                        output_dir,\n",
    "                                        session)"
   ]
  },
  {
   "attachments": {},
   "cell_type": "markdown",
   "metadata": {},
   "source": [
    "# Results"
   ]
  },
  {
   "cell_type": "code",
   "execution_count": 12,
   "metadata": {},
   "outputs": [
    {
     "ename": "AttributeError",
     "evalue": "'str' object has no attribute 'filter'",
     "output_type": "error",
     "traceback": [
      "\u001b[0;31m---------------------------------------------------------------------------\u001b[0m",
      "\u001b[0;31mAttributeError\u001b[0m                            Traceback (most recent call last)",
      "Cell \u001b[0;32mIn [12], line 2\u001b[0m\n\u001b[1;32m      1\u001b[0m \u001b[39mfor\u001b[39;00m exp \u001b[39min\u001b[39;00m experimental_setup:\n\u001b[0;32m----> 2\u001b[0m     exp\u001b[39m.\u001b[39;49mperform()\n",
      "File \u001b[0;32m~/lr-video-face/lr_video_face/experiments.py:108\u001b[0m, in \u001b[0;36mExperiment.perform\u001b[0;34m(self)\u001b[0m\n\u001b[1;32m    100\u001b[0m test_pairs_per_category \u001b[39m=\u001b[39m get_test_pairs_per_category(\u001b[39mself\u001b[39m\u001b[39m.\u001b[39msession, \n\u001b[1;32m    101\u001b[0m                                                     \u001b[39mself\u001b[39m\u001b[39m.\u001b[39mimage_filters, \n\u001b[1;32m    102\u001b[0m                                                     \u001b[39mself\u001b[39m\u001b[39m.\u001b[39mface_image_filters, \n\u001b[0;32m   (...)\u001b[0m\n\u001b[1;32m    105\u001b[0m                                                     \u001b[39mself\u001b[39m\u001b[39m.\u001b[39membeddingModel,\n\u001b[1;32m    106\u001b[0m                                                     \u001b[39mself\u001b[39m\u001b[39m.\u001b[39menfsi_years)\n\u001b[1;32m    107\u001b[0m \u001b[39m# Get calibration pair per category.\u001b[39;00m\n\u001b[0;32m--> 108\u001b[0m calibration_pairs_per_category \u001b[39m=\u001b[39m get_calibration_pairs_per_category(test_pairs_per_category\u001b[39m.\u001b[39;49mkeys(),\n\u001b[1;32m    109\u001b[0m                                                                     \u001b[39mself\u001b[39;49m\u001b[39m.\u001b[39;49mimage_filters, \n\u001b[1;32m    110\u001b[0m                                                                     \u001b[39mself\u001b[39;49m\u001b[39m.\u001b[39;49mface_image_filters,\n\u001b[1;32m    111\u001b[0m                                                                     \u001b[39mself\u001b[39;49m\u001b[39m.\u001b[39;49mquality_filters,\n\u001b[1;32m    112\u001b[0m                                                                     \u001b[39mself\u001b[39;49m\u001b[39m.\u001b[39;49mdetector,\n\u001b[1;32m    113\u001b[0m                                                                     \u001b[39mself\u001b[39;49m\u001b[39m.\u001b[39;49membeddingModel,\n\u001b[1;32m    114\u001b[0m                                                                     \u001b[39mself\u001b[39;49m\u001b[39m.\u001b[39;49mqualityModel,\n\u001b[1;32m    115\u001b[0m                                                                     \u001b[39mself\u001b[39;49m\u001b[39m.\u001b[39;49mcalibration_db,\n\u001b[1;32m    116\u001b[0m                                                                     \u001b[39mself\u001b[39;49m\u001b[39m.\u001b[39;49mn_calibration_pairs,\n\u001b[1;32m    117\u001b[0m                                                                     \u001b[39mself\u001b[39;49m\u001b[39m.\u001b[39;49msession)\n\u001b[1;32m    119\u001b[0m \u001b[39m# Generate lr_system per category.\u001b[39;00m\n\u001b[1;32m    120\u001b[0m lr_systems, test_pairs_per_category \u001b[39m=\u001b[39m generate_lr_systems(\u001b[39mself\u001b[39m\u001b[39m.\u001b[39membeddingModel,\n\u001b[1;32m    121\u001b[0m                                                                 \u001b[39mself\u001b[39m\u001b[39m.\u001b[39membedding_model_as_scorer,\n\u001b[1;32m    122\u001b[0m                                                                 \u001b[39mself\u001b[39m\u001b[39m.\u001b[39mmetrics,\n\u001b[0;32m   (...)\u001b[0m\n\u001b[1;32m    126\u001b[0m                                                                 test_pairs_per_category, \n\u001b[1;32m    127\u001b[0m                                                                 \u001b[39mself\u001b[39m\u001b[39m.\u001b[39msession)\n",
      "File \u001b[0;32m~/lr-video-face/lr_video_face/calibration.py:111\u001b[0m, in \u001b[0;36mget_calibration_pairs_per_category\u001b[0;34m(categories, image_filters, face_image_filters, quality_filters, detector, embeddingModel, qualityModel, calibration_db, n_calibration_pairs, session)\u001b[0m\n\u001b[1;32m    107\u001b[0m emb_facevacs \u001b[39m=\u001b[39m (embeddingModel \u001b[39m==\u001b[39m \u001b[39m'\u001b[39m\u001b[39mFaceVACs\u001b[39m\u001b[39m'\u001b[39m)\n\u001b[1;32m    109\u001b[0m \u001b[39mfor\u001b[39;00m pair_category \u001b[39min\u001b[39;00m categories:\n\u001b[0;32m--> 111\u001b[0m     first_image_category \u001b[39m=\u001b[39m get_filtered_images(image_filters, \n\u001b[1;32m    112\u001b[0m                                                 face_image_filters,\n\u001b[1;32m    113\u001b[0m                                                 quality_filters,\n\u001b[1;32m    114\u001b[0m                                                 pair_category[\u001b[39m0\u001b[39;49m],\n\u001b[1;32m    115\u001b[0m                                                 detector,\n\u001b[1;32m    116\u001b[0m                                                 embeddingModel,\n\u001b[1;32m    117\u001b[0m                                                 qualityModel,\n\u001b[1;32m    118\u001b[0m                                                 calibration_db,\n\u001b[1;32m    119\u001b[0m                                                 session\n\u001b[1;32m    120\u001b[0m                                                 )\n\u001b[1;32m    124\u001b[0m     \u001b[39mif\u001b[39;00m pair_category[\u001b[39m0\u001b[39m] \u001b[39m==\u001b[39m pair_category[\u001b[39m1\u001b[39m]:\n\u001b[1;32m    126\u001b[0m         \u001b[39mif\u001b[39;00m emb_facevacs:\n\u001b[1;32m    127\u001b[0m             \u001b[39m#todo: implement facevacs.\u001b[39;00m\n",
      "File \u001b[0;32m~/lr-video-face/lr_video_face/calibration.py:81\u001b[0m, in \u001b[0;36mget_filtered_images\u001b[0;34m(image_filters, face_image_filters, quality_filters, filter_values, detector, embeddingModel, qualityModel, calibration_db, session)\u001b[0m\n\u001b[1;32m     70\u001b[0m query \u001b[39m=\u001b[39m session\u001b[39m.\u001b[39mquery(FaceImage, Image\u001b[39m.\u001b[39midentity, Image\u001b[39m.\u001b[39mimage_id, QualityImage\u001b[39m.\u001b[39mquality)\n\u001b[1;32m     71\u001b[0m join_query \u001b[39m=\u001b[39m query \\\n\u001b[1;32m     72\u001b[0m     \u001b[39m.\u001b[39mjoin(QualityImage, QualityImage\u001b[39m.\u001b[39mfaceImage_id \u001b[39m==\u001b[39m FaceImage\u001b[39m.\u001b[39mfaceImage_id) \\\n\u001b[1;32m     73\u001b[0m     \u001b[39m.\u001b[39mjoin(CroppedImage, CroppedImage\u001b[39m.\u001b[39mcroppedImage_id \u001b[39m==\u001b[39m FaceImage\u001b[39m.\u001b[39mcroppedImage_id) \\\n\u001b[0;32m   (...)\u001b[0m\n\u001b[1;32m     76\u001b[0m     \u001b[39m.\u001b[39mjoin(EmbeddingModel)\\\n\u001b[1;32m     77\u001b[0m     \u001b[39m.\u001b[39mjoin(QualityModel)\n\u001b[1;32m     79\u001b[0m filter_query \u001b[39m=\u001b[39m join_query \\\n\u001b[1;32m     80\u001b[0m     \u001b[39m.\u001b[39mfilter(EmbeddingModel\u001b[39m.\u001b[39mname \u001b[39m==\u001b[39m embeddingModel,\n\u001b[0;32m---> 81\u001b[0m             Detector\u001b[39m.\u001b[39mname \u001b[39m==\u001b[39m detector), QualityModel\u001b[39m.\u001b[39mname \u001b[39m==\u001b[39m qualityModel \\\n\u001b[1;32m     82\u001b[0m     \u001b[39m.\u001b[39;49mfilter(Image\u001b[39m.\u001b[39msource\u001b[39m.\u001b[39min_(calibration_db))\n\u001b[1;32m     83\u001b[0m \u001b[39mfor\u001b[39;00m cal_filter, value \u001b[39min\u001b[39;00m \u001b[39mzip\u001b[39m(face_image_filters, fi_filter_values):\n\u001b[1;32m     84\u001b[0m     filter_query \u001b[39m=\u001b[39m filter_query\u001b[39m.\u001b[39mfilter(FaceImage\u001b[39m.\u001b[39m\u001b[39m__dict__\u001b[39m[cal_filter] \u001b[39m==\u001b[39m value)\n",
      "\u001b[0;31mAttributeError\u001b[0m: 'str' object has no attribute 'filter'"
     ]
    }
   ],
   "source": [
    "for exp in experimental_setup:\n",
    "    exp.perform()"
   ]
  },
  {
   "cell_type": "code",
   "execution_count": null,
   "metadata": {},
   "outputs": [],
   "source": [
    "from lr_video_face.evaluators import GlobalEvaluator"
   ]
  },
  {
   "cell_type": "code",
   "execution_count": null,
   "metadata": {},
   "outputs": [],
   "source": [
    "global_results = GlobalEvaluator(experimental_setup)   "
   ]
  },
  {
   "attachments": {},
   "cell_type": "markdown",
   "metadata": {},
   "source": [
    "## Individual plots"
   ]
  },
  {
   "cell_type": "code",
   "execution_count": null,
   "metadata": {},
   "outputs": [],
   "source": [
    "global_results.make_experiment_plots()"
   ]
  },
  {
   "attachments": {},
   "cell_type": "markdown",
   "metadata": {},
   "source": [
    "## General plot"
   ]
  },
  {
   "cell_type": "code",
   "execution_count": null,
   "metadata": {},
   "outputs": [],
   "source": [
    "global_results.make_global_plot()"
   ]
  }
 ],
 "metadata": {
  "kernelspec": {
   "display_name": "lr-video",
   "language": "python",
   "name": "python3"
  },
  "language_info": {
   "codemirror_mode": {
    "name": "ipython",
    "version": 3
   },
   "file_extension": ".py",
   "mimetype": "text/x-python",
   "name": "python",
   "nbconvert_exporter": "python",
   "pygments_lexer": "ipython3",
   "version": "3.8.15"
  },
  "orig_nbformat": 4,
  "vscode": {
   "interpreter": {
    "hash": "ae0b102d19e51505dfa7f9c4c891943d4814851bfb0fb9ee13b9b1dd2d5eef8a"
   }
  }
 },
 "nbformat": 4,
 "nbformat_minor": 2
}
