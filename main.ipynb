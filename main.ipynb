{
 "cells": [
  {
   "attachments": {},
   "cell_type": "markdown",
   "metadata": {},
   "source": [
    "# Imports\n",
    "Import python libraries"
   ]
  },
  {
   "cell_type": "code",
   "execution_count": 433,
   "metadata": {},
   "outputs": [],
   "source": [
    "import os"
   ]
  },
  {
   "cell_type": "markdown",
   "metadata": {},
   "source": [
    "# Set dataset parameters\n",
    "Choose the attributes to load the dataset."
   ]
  },
  {
   "cell_type": "code",
   "execution_count": 434,
   "metadata": {},
   "outputs": [],
   "source": [
    "\n",
    "\n",
    "detectors = ['mtcnn_serfiq']  # ,'dlib', 'opencv', 'mediapipe','mtcnn','mtcnn_serfiq'\n",
    "embedding_models = ['Facenet512','QMagFace','ArcFace']  # 'QMagFace', \"ArcFace\",\"Dlib\", 'VGG-Face','FaceVACs', 'Facenet512','ArcFace_normalized'\n",
    "quality_models = ['ser_fiq','tface'] #  'ser_fiq','tface'\n"
   ]
  },
  {
   "cell_type": "markdown",
   "metadata": {},
   "source": [
    "# Set LR parameters\n",
    "Calibration, image filters, face filters, quality filters..."
   ]
  },
  {
   "cell_type": "markdown",
   "metadata": {},
   "source": [
    "## Calibration"
   ]
  },
  {
   "cell_type": "code",
   "execution_count": 435,
   "metadata": {},
   "outputs": [],
   "source": [
    "calibrators = ['logit']  # 'KDE', , 'isotonic','logit'\n",
    "\n",
    "calibration_db0 = ['XQLFW','SCFace'] # \"SCFace\",'ForenFace','ENFSI','ForenFace','LFW','SCFace','UTKface','XQLFW',\n",
    "image_filters0 = ['yaw', 'gender', 'race','emotion']   # 'yaw','pitch','roll', E.g. 'pose','gender','emotion','race'\n",
    "\n",
    "calibration_db = ['XQLFW'] # \"SCFace\",'ForenFace','ENFSI','ForenFace','LFW','SCFace','UTKface','XQLFW','UTKface','ENFSI',\n",
    "#'XQLFW',\"SCFace\",'ForenFace','LFW',\n",
    "\n",
    "image_filters = []   # 'yaw','pitch','roll', E.g. 'pose','gender','emotion','race'\n",
    "#'yaw', 'gender', 'race','emotion'\n",
    "\n",
    "face_image_filters = []  # 'confusion_score'\n",
    "quality_filters = [] # 'quality_group'\n",
    "\n",
    "#all the filters in one dictionary\n",
    "filters = {'image': image_filters, 'face_image': face_image_filters,'quality_image': quality_filters}\n",
    "\n",
    "n_calibration_pairs = 10000\n",
    "\n"
   ]
  },
  {
   "cell_type": "markdown",
   "metadata": {},
   "source": [
    "## Validation"
   ]
  },
  {
   "cell_type": "code",
   "execution_count": 436,
   "metadata": {},
   "outputs": [],
   "source": [
    "enfsi_years = [2015]"
   ]
  },
  {
   "attachments": {},
   "cell_type": "markdown",
   "metadata": {},
   "source": [
    "# Video parameters"
   ]
  },
  {
   "cell_type": "code",
   "execution_count": 437,
   "metadata": {},
   "outputs": [],
   "source": [
    "import numpy as np\n",
    "#quality_dropout = [0.01, 0.02, 0.05, 0.10, 0.20, 0.5, 1]\n",
    "quality_dropout = list(np.linspace(0.1,1.0,10))"
   ]
  },
  {
   "cell_type": "markdown",
   "metadata": {},
   "source": [
    "## Other parameters\n",
    "Rest of the configuration"
   ]
  },
  {
   "cell_type": "code",
   "execution_count": 438,
   "metadata": {},
   "outputs": [],
   "source": [
    "metrics = 'euclidean_l2'\n",
    "embedding_model_as_scorer = True"
   ]
  },
  {
   "cell_type": "markdown",
   "metadata": {},
   "source": [
    "# Scenarios\n",
    "Different filters to do computations"
   ]
  },
  {
   "cell_type": "code",
   "execution_count": 439,
   "metadata": {},
   "outputs": [],
   "source": [
    "scenario0 = []\n",
    "scenario1 = ['gender', 'age']\n",
    "scenario2 = ['yaw', 'pitch']\n",
    "scenario3 = ['glasses', 'beard']\n",
    "scenario4 = ['low_quality']\n",
    "scenario5 = ['headgear']\n",
    "scenario6 = ['terhorst_quality_rounded']"
   ]
  },
  {
   "attachments": {},
   "cell_type": "markdown",
   "metadata": {},
   "source": [
    "# Input and output directories\n",
    "Where the sql database is and which folder the results are saved."
   ]
  },
  {
   "cell_type": "code",
   "execution_count": 440,
   "metadata": {},
   "outputs": [],
   "source": [
    "home = os.path.expanduser(\"~\")\n",
    "\n",
    "# SQL database path and name\n",
    "input_dir = os.path.join(home, 'video_resources', 'sql_database')\n",
    "db_name = 'colab_main_dataset_21'\n",
    "\n",
    "# Where results are saved\n",
    "output_dir = os.path.join(home, 'video_resources', 'output_6')"
   ]
  },
  {
   "cell_type": "markdown",
   "metadata": {},
   "source": [
    "# Preprocess data\n",
    "Connect to sql database."
   ]
  },
  {
   "cell_type": "code",
   "execution_count": 441,
   "metadata": {},
   "outputs": [],
   "source": [
    "from sql_face.alchemy import get_session\n",
    "from sql_face.tables import *"
   ]
  },
  {
   "cell_type": "code",
   "execution_count": 442,
   "metadata": {},
   "outputs": [],
   "source": [
    "session = get_session(input_dir, db_name)"
   ]
  },
  {
   "attachments": {},
   "cell_type": "markdown",
   "metadata": {},
   "source": [
    "# Experiments\n",
    "\n",
    "All parameters are specified in ExperimentalSetup, that creates a different experiment with all the posible combinations of detectors, embedding_models, calibrators, etc."
   ]
  },
  {
   "cell_type": "code",
   "execution_count": 443,
   "metadata": {},
   "outputs": [],
   "source": [
    "from lr_video_face.experiments import ExperimentalSetup"
   ]
  },
  {
   "cell_type": "code",
   "execution_count": 444,
   "metadata": {},
   "outputs": [],
   "source": [
    "experimental_setup = ExperimentalSetup(detectors, \n",
    "                                        embedding_models, \n",
    "                                        quality_models,\n",
    "                                        calibrators, \n",
    "                                        calibration_db, \n",
    "                                        enfsi_years,\n",
    "                                        filters,\n",
    "                                        metrics, \n",
    "                                        n_calibration_pairs,\n",
    "                                        embedding_model_as_scorer,\n",
    "                                        output_dir,\n",
    "                                        session,\n",
    "                                        quality_dropout)"
   ]
  },
  {
   "attachments": {},
   "cell_type": "markdown",
   "metadata": {},
   "source": [
    "# Results"
   ]
  },
  {
   "cell_type": "code",
   "execution_count": 445,
   "metadata": {},
   "outputs": [
    {
     "data": {
      "text/plain": [
       "'for exp in experimental_setup:\\n    exp.perform()\\n    break  '"
      ]
     },
     "execution_count": 445,
     "metadata": {},
     "output_type": "execute_result"
    }
   ],
   "source": [
    "'''for exp in experimental_setup:\n",
    "    exp.perform()\n",
    "    break  '''"
   ]
  },
  {
   "cell_type": "code",
   "execution_count": 446,
   "metadata": {},
   "outputs": [],
   "source": [
    "from lr_video_face.evaluators import GlobalEvaluator  "
   ]
  },
  {
   "cell_type": "code",
   "execution_count": 447,
   "metadata": {},
   "outputs": [
    {
     "name": "stderr",
     "output_type": "stream",
     "text": [
      "100%|██████████| 6/6 [02:45<00:00, 27.62s/it]\n"
     ]
    }
   ],
   "source": [
    "global_results = GlobalEvaluator(experimental_setup)    "
   ]
  },
  {
   "attachments": {},
   "cell_type": "markdown",
   "metadata": {},
   "source": [
    "## Individual plots"
   ]
  },
  {
   "cell_type": "code",
   "execution_count": 448,
   "metadata": {},
   "outputs": [],
   "source": [
    "global_results.make_experiment_plots()"
   ]
  },
  {
   "attachments": {},
   "cell_type": "markdown",
   "metadata": {},
   "source": [
    "## General plot"
   ]
  },
  {
   "cell_type": "code",
   "execution_count": 449,
   "metadata": {},
   "outputs": [],
   "source": [
    "# import pickle\n",
    "# with open('data2.db','wb') as outp:\n",
    "#     pickle.dump(global_results,outp,-1)"
   ]
  },
  {
   "cell_type": "code",
   "execution_count": 450,
   "metadata": {},
   "outputs": [
    {
     "name": "stdout",
     "output_type": "stream",
     "text": [
      "0.756033893290136 [0.28951688 0.5145045  0.95496388]\n",
      "0.8819349774672205 [0.39890569 0.6893949  1.12547969]\n",
      "0.8229548895941351 [0.34150088 0.62275689 1.03805473]\n",
      "0.9784751287075095 [0.47074885 0.80615878 1.29463957]\n",
      "0.9345901595904342 [0.44340379 0.76187075 1.21822699]\n",
      "1.0223687329176823 [0.48528871 0.84950933 1.39554036]\n",
      "1.072668145027673 [0.49410052 0.88394555 1.51827296]\n",
      "1.1127319002223754 [0.50265675 0.92570793 1.63561285]\n",
      "1.1435765864997236 [0.51254749 0.96673878 1.71048166]\n",
      "1.17353978082501 [0.52030499 1.01314655 1.79860085]\n",
      "0.9503294487600575 [0.38110658 0.67813815 1.28408444]\n",
      "1.0131625057802465 [0.42761478 0.78619231 1.39654444]\n",
      "0.9809867099531238 [0.40225841 0.71326384 1.31399089]\n",
      "1.1024099210157456 [0.46918946 0.91479603 1.57767368]\n",
      "1.0650250670624901 [0.4458092  0.86315034 1.48338553]\n",
      "1.1207492667079197 [0.48468746 0.95120223 1.64707625]\n",
      "1.130994243664058 [0.49043739 0.95828698 1.68324932]\n",
      "1.1514531851750545 [0.49824042 0.98192637 1.73739969]\n",
      "1.1667664809954692 [0.51267979 1.00470394 1.77982087]\n",
      "1.17353978082501 [0.52030499 1.01314655 1.79860085]\n",
      "0.29494905631316165 [0.02840075 0.09894241 0.29588656]\n",
      "0.4135609956640865 [0.06627454 0.19861129 0.51094229]\n",
      "0.3597350000034167 [0.0470574  0.14492993 0.39892915]\n",
      "0.5984527974516796 [0.0957968  0.29268913 0.79309747]\n",
      "0.4910552026399031 [0.07983926 0.24403326 0.64453659]\n",
      "0.7241703563716151 [0.11457297 0.35456197 1.0534236 ]\n",
      "0.8269543753068517 [0.13298579 0.42024422 1.31244876]\n",
      "0.9424234379848566 [0.14900756 0.48972405 1.597311  ]\n",
      "1.0329433695522332 [0.1595693  0.54969712 1.87356893]\n",
      "1.1155726160694548 [0.16842089 0.60304198 2.1574195 ]\n",
      "0.560227774048125 [0.06738592 0.22143949 0.65082168]\n",
      "0.7345720039818229 [0.09220871 0.31805681 0.97176513]\n",
      "0.6327913495174771 [0.07896774 0.27129364 0.75036005]\n",
      "0.8944108728527009 [0.12129389 0.40827386 1.42840939]\n",
      "0.8187283694353377 [0.11031164 0.36312408 1.17704798]\n",
      "0.9655000146182064 [0.13730482 0.45592858 1.63736482]\n",
      "0.994396655240865 [0.14176292 0.47977112 1.74135751]\n",
      "1.0380070459447055 [0.15449608 0.52778445 1.91175683]\n",
      "1.0764424248286484 [0.16163353 0.56736665 2.05536012]\n",
      "1.1155726160694548 [0.16842089 0.60304198 2.1574195 ]\n",
      "1.0210881353545598 [0.93986278 0.97785331 1.07786345]\n",
      "1.0149562565798316 [0.92275811 0.96066154 1.08501575]\n",
      "1.0170420609486486 [0.92901531 0.9673344  1.08148205]\n",
      "1.0115567478646454 [0.91466086 0.95053853 1.08767642]\n",
      "1.0135167773130087 [0.9178492  0.95406971 1.08741526]\n",
      "1.009233554467906 [0.91236875 0.94321336 1.08859009]\n",
      "1.0058137952264048 [0.91121158 0.93644199 1.08810565]\n",
      "1.0043737007531732 [0.91027417 0.93238291 1.0882018 ]\n",
      "1.0036920148941946 [0.90949054 0.93038109 1.08925989]\n",
      "1.0029334420057192 [0.9088905  0.92869933 1.0898073 ]\n",
      "1.0112030822970293 [0.92347194 0.96319288 1.07235431]\n",
      "1.0099338428487779 [0.9151677  0.95434929 1.08194127]\n",
      "1.010571591118178 [0.91945205 0.95786608 1.07807074]\n",
      "1.0067407229011154 [0.91118374 0.94339409 1.08503355]\n",
      "1.0075069867781428 [0.9126469  0.9483476  1.08272873]\n",
      "1.0063629092033723 [0.91040861 0.93868667 1.08716836]\n",
      "1.0062194622856642 [0.91011806 0.93540287 1.08898734]\n",
      "1.004312035076569 [0.90944905 0.93145048 1.08937607]\n",
      "1.0032076655363973 [0.90915196 0.9297505  1.08935189]\n",
      "1.0029334420057192 [0.9088905  0.92869933 1.0898073 ]\n"
     ]
    }
   ],
   "source": [
    "global_results.make_global_plot()"
   ]
  }
 ],
 "metadata": {
  "kernelspec": {
   "display_name": "lr-video",
   "language": "python",
   "name": "python3"
  },
  "language_info": {
   "codemirror_mode": {
    "name": "ipython",
    "version": 3
   },
   "file_extension": ".py",
   "mimetype": "text/x-python",
   "name": "python",
   "nbconvert_exporter": "python",
   "pygments_lexer": "ipython3",
   "version": "3.8.15"
  },
  "orig_nbformat": 4,
  "vscode": {
   "interpreter": {
    "hash": "ae0b102d19e51505dfa7f9c4c891943d4814851bfb0fb9ee13b9b1dd2d5eef8a"
   }
  }
 },
 "nbformat": 4,
 "nbformat_minor": 2
}
