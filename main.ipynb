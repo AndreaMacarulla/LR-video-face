{
 "cells": [
  {
   "cell_type": "markdown",
   "metadata": {},
   "source": [
    "# Set dataset parameters\n",
    "Choose the attributes to load the dataset."
   ]
  },
  {
   "cell_type": "code",
   "execution_count": 2,
   "metadata": {},
   "outputs": [],
   "source": [
    "detectors = ['mtcnn','dlib']  # 'dlib', 'opencv',\n",
    "embedding_models = ['ArcFace']  # \"Dlib\", 'VGG-Face','FaceVACs', 'Facenet512'\n",
    "quality_models = ['ser_fiq', 'tface']\n"
   ]
  },
  {
   "cell_type": "markdown",
   "metadata": {},
   "source": [
    "# Set LR parameters\n",
    "Calibration, image filters, face filters, quality filters..."
   ]
  },
  {
   "cell_type": "markdown",
   "metadata": {},
   "source": [
    "## Calibration"
   ]
  },
  {
   "cell_type": "code",
   "execution_count": null,
   "metadata": {},
   "outputs": [],
   "source": [
    "calibrators = ['logit', 'KDE']  # 'KDE', , 'isotonic'\n",
    "calibration_db = [\"LFW\", \"SCFace\", \"ForenFace\"]\n",
    "filters = ['pose']  # todo: change to image filters.\n",
    "face_image_filters = ['quality']  # 'confusion_score'\n",
    "\n",
    "n_calibration_pairs = 1200"
   ]
  },
  {
   "cell_type": "markdown",
   "metadata": {},
   "source": [
    "## Validation"
   ]
  },
  {
   "cell_type": "code",
   "execution_count": null,
   "metadata": {},
   "outputs": [],
   "source": [
    "years = [2011, 2012]"
   ]
  },
  {
   "cell_type": "markdown",
   "metadata": {},
   "source": [
    "## Other parameters\n",
    "Rest of the configuration"
   ]
  },
  {
   "cell_type": "code",
   "execution_count": null,
   "metadata": {},
   "outputs": [],
   "source": [
    "metrics = \"cosine\"\n",
    "embedding_model_as_scorer = True"
   ]
  },
  {
   "cell_type": "markdown",
   "metadata": {},
   "source": [
    "# Scenarios\n",
    "Different filters to do computations"
   ]
  },
  {
   "cell_type": "code",
   "execution_count": null,
   "metadata": {},
   "outputs": [],
   "source": [
    "scenario0 = []\n",
    "scenario1 = ['gender', 'age']\n",
    "scenario2 = ['yaw', 'pitch']\n",
    "scenario3 = ['glasses', 'beard']\n",
    "scenario4 = ['low_quality']\n",
    "scenario5 = ['headgear']\n",
    "scenario6 = ['terhorst_quality_rounded']"
   ]
  },
  {
   "cell_type": "markdown",
   "metadata": {},
   "source": [
    "# Preprocess data\n",
    "Connect to sql database."
   ]
  }
 ],
 "metadata": {
  "kernelspec": {
   "display_name": "Python 3.7.15 ('lr-video')",
   "language": "python",
   "name": "python3"
  },
  "language_info": {
   "codemirror_mode": {
    "name": "ipython",
    "version": 3
   },
   "file_extension": ".py",
   "mimetype": "text/x-python",
   "name": "python",
   "nbconvert_exporter": "python",
   "pygments_lexer": "ipython3",
   "version": "3.7.15 (default, Nov 24 2022, 21:12:53) \n[GCC 11.2.0]"
  },
  "orig_nbformat": 4,
  "vscode": {
   "interpreter": {
    "hash": "c08d8fec19e509e399d6ec1cb9b529f9385c45181b63bf2f2d9547e2a9a7b9b5"
   }
  }
 },
 "nbformat": 4,
 "nbformat_minor": 2
}
