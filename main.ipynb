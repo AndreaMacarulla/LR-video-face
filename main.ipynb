{
 "cells": [
  {
   "attachments": {},
   "cell_type": "markdown",
   "metadata": {},
   "source": [
    "# Imports\n",
    "Import python libraries"
   ]
  },
  {
   "cell_type": "code",
   "execution_count": 1,
   "metadata": {},
   "outputs": [],
   "source": [
    "import os"
   ]
  },
  {
   "cell_type": "markdown",
   "metadata": {},
   "source": [
    "# Set dataset parameters\n",
    "Choose the attributes to load the dataset."
   ]
  },
  {
   "cell_type": "code",
   "execution_count": 2,
   "metadata": {},
   "outputs": [],
   "source": [
    "\n",
    "\n",
    "detectors = ['mtcnn_serfiq']  # ,'dlib', 'opencv', 'mediapipe','mtcnn','mtcnn_serfiq'\n",
    "#embedding_models = ['QMagFace_SR','QMagFace']  # 'QMagFace', 'QMagFace_SR',\"ArcFace\",\"Dlib\", 'VGG-Face','FaceVACs', 'Facenet512','ArcFace_normalized'\n",
    "#quality_models = ['ser_fiq'] #  'ser_fiq','tface'\n",
    "\n",
    "\n",
    "embedding_models = ['Facenet512','QMagFace','ArcFace'] \n",
    "quality_models = ['ser_fiq','tface']"
   ]
  },
  {
   "cell_type": "markdown",
   "metadata": {},
   "source": [
    "# Set LR parameters\n",
    "Calibration, image filters, face filters, quality filters..."
   ]
  },
  {
   "cell_type": "markdown",
   "metadata": {},
   "source": [
    "## Calibration"
   ]
  },
  {
   "cell_type": "code",
   "execution_count": 3,
   "metadata": {},
   "outputs": [],
   "source": [
    "calibrators = ['logit']  # 'KDE', , 'isotonic','logit'\n",
    "\n",
    "#calibration_db0 = ['XQLFW','SCFace'] # \"SCFace\",'ForenFace','ENFSI','ForenFace','LFW','SCFace','UTKface','XQLFW',\n",
    "#image_filters0 = ['yaw', 'gender', 'race','emotion']   # 'yaw','pitch','roll', E.g. 'pose','gender','emotion','race'\n",
    "\n",
    "calibration_db = ['ChokePoint'] # \"SCFace\",'ForenFace','ENFSI','ForenFace','LFW','SCFace','UTKface','XQLFW','UTKface','ENFSI','ChokePoint'\n",
    "#'XQLFW','UTKface',\"SCFace\",'ForenFace',\n",
    "\n",
    "image_filters = []   # 'yaw','pitch','roll', E.g. 'pose','gender','emotion','race'\n",
    "# gender, yaw, pitch, race\n",
    "\n",
    "face_image_filters = []  # 'confusion_score'\n",
    "quality_filters = ['quality_group'] # 'quality_group'\n",
    " \n",
    "#all the filters in one dictionary\n",
    "filters = {'image': image_filters, 'face_image': face_image_filters,'quality_image': quality_filters}\n",
    "\n",
    "n_calibration_pairs = 10000\n",
    "\n"
   ]
  },
  {
   "cell_type": "markdown",
   "metadata": {},
   "source": [
    "## Validation"
   ]
  },
  {
   "cell_type": "code",
   "execution_count": 4,
   "metadata": {},
   "outputs": [],
   "source": [
    "enfsi_years = [2015]"
   ]
  },
  {
   "attachments": {},
   "cell_type": "markdown",
   "metadata": {},
   "source": [
    "# Video parameters"
   ]
  },
  {
   "cell_type": "code",
   "execution_count": 5,
   "metadata": {},
   "outputs": [],
   "source": [
    "import numpy as np\n",
    "#quality_dropout = [0.01, 0.02, 0.05, 0.10, 0.20, 0.5, 1]\n",
    "quality_dropout = list(np.linspace(0.1,1.0,10))"
   ]
  },
  {
   "cell_type": "markdown",
   "metadata": {},
   "source": [
    "## Other parameters\n",
    "Rest of the configuration"
   ]
  },
  {
   "cell_type": "code",
   "execution_count": 6,
   "metadata": {},
   "outputs": [],
   "source": [
    "metrics = 'euclidean_l2'\n",
    "embedding_model_as_scorer = True"
   ]
  },
  {
   "cell_type": "markdown",
   "metadata": {},
   "source": [
    "# Scenarios\n",
    "Different filters to do computations"
   ]
  },
  {
   "cell_type": "code",
   "execution_count": 7,
   "metadata": {},
   "outputs": [],
   "source": [
    "scenario0 = []\n",
    "scenario1 = ['gender', 'age']\n",
    "scenario2 = ['yaw', 'pitch']\n",
    "scenario3 = ['glasses', 'beard']\n",
    "scenario4 = ['low_quality']\n",
    "scenario5 = ['headgear']\n",
    "scenario6 = ['terhorst_quality_rounded']"
   ]
  },
  {
   "attachments": {},
   "cell_type": "markdown",
   "metadata": {},
   "source": [
    "# Input and output directories\n",
    "Where the sql database is and which folder the results are saved."
   ]
  },
  {
   "cell_type": "code",
   "execution_count": 8,
   "metadata": {},
   "outputs": [],
   "source": [
    "home = os.path.expanduser(\"~\")\n",
    "\n",
    "# SQL database path and name\n",
    "input_dir = os.path.join(home, 'video_resources', 'sql_database')\n",
    "db_name = 'colab_main_dataset_25'\n",
    "\n",
    "# Where results are saved\n",
    "output_dir = os.path.join(home, 'video_resources', 'Chokepoint_25')"
   ]
  },
  {
   "cell_type": "markdown",
   "metadata": {},
   "source": [
    "# Preprocess data\n",
    "Connect to sql database."
   ]
  },
  {
   "cell_type": "code",
   "execution_count": 9,
   "metadata": {},
   "outputs": [
    {
     "name": "stderr",
     "output_type": "stream",
     "text": [
      "2023-06-21 19:36:51.919965: I tensorflow/core/platform/cpu_feature_guard.cc:193] This TensorFlow binary is optimized with oneAPI Deep Neural Network Library (oneDNN) to use the following CPU instructions in performance-critical operations:  SSE4.1 SSE4.2 AVX AVX2 FMA\n",
      "To enable them in other operations, rebuild TensorFlow with the appropriate compiler flags.\n"
     ]
    }
   ],
   "source": [
    "from sql_face.alchemy import get_session\n",
    "from sql_face.tables import *"
   ]
  },
  {
   "cell_type": "code",
   "execution_count": 10,
   "metadata": {},
   "outputs": [
    {
     "name": "stderr",
     "output_type": "stream",
     "text": [
      "INFO: Created TensorFlow Lite XNNPACK delegate for CPU.\n"
     ]
    }
   ],
   "source": [
    "session = get_session(input_dir, db_name)"
   ]
  },
  {
   "attachments": {},
   "cell_type": "markdown",
   "metadata": {},
   "source": [
    "# Experiments\n",
    "\n",
    "All parameters are specified in ExperimentalSetup, that creates a different experiment with all the posible combinations of detectors, embedding_models, calibrators, etc."
   ]
  },
  {
   "cell_type": "code",
   "execution_count": 11,
   "metadata": {},
   "outputs": [],
   "source": [
    "from lr_video_face.experiments import ExperimentalSetup"
   ]
  },
  {
   "cell_type": "code",
   "execution_count": 12,
   "metadata": {},
   "outputs": [],
   "source": [
    "experimental_setup = ExperimentalSetup(detectors, \n",
    "                                        embedding_models, \n",
    "                                        quality_models,\n",
    "                                        calibrators, \n",
    "                                        calibration_db, \n",
    "                                        enfsi_years,\n",
    "                                        filters,\n",
    "                                        metrics, \n",
    "                                        n_calibration_pairs,\n",
    "                                        embedding_model_as_scorer,\n",
    "                                        output_dir,\n",
    "                                        session,\n",
    "                                        quality_dropout)"
   ]
  },
  {
   "attachments": {},
   "cell_type": "markdown",
   "metadata": {},
   "source": [
    "# Results"
   ]
  },
  {
   "cell_type": "code",
   "execution_count": 13,
   "metadata": {},
   "outputs": [],
   "source": [
    "for exp in experimental_setup:\n",
    "    exp.perform()\n",
    "    break "
   ]
  },
  {
   "cell_type": "code",
   "execution_count": 14,
   "metadata": {},
   "outputs": [],
   "source": [
    "from lr_video_face.evaluators import GlobalEvaluator  "
   ]
  },
  {
   "cell_type": "code",
   "execution_count": 15,
   "metadata": {},
   "outputs": [
    {
     "name": "stderr",
     "output_type": "stream",
     "text": [
      "  0%|          | 0/6 [03:50<?, ?it/s]\n"
     ]
    },
    {
     "ename": "TypeError",
     "evalue": "cannot unpack non-iterable NoneType object",
     "output_type": "error",
     "traceback": [
      "\u001b[0;31m---------------------------------------------------------------------------\u001b[0m",
      "\u001b[0;31mTypeError\u001b[0m                                 Traceback (most recent call last)",
      "\u001b[1;32m/home/jmacarulla/lr-video-face/main.ipynb Cell 27\u001b[0m in \u001b[0;36m1\n\u001b[0;32m----> <a href='vscode-notebook-cell://wsl%2Bubuntu/home/jmacarulla/lr-video-face/main.ipynb#X35sdnNjb2RlLXJlbW90ZQ%3D%3D?line=0'>1</a>\u001b[0m global_results \u001b[39m=\u001b[39m GlobalEvaluator(experimental_setup)\n",
      "File \u001b[0;32m~/lr-video-face/lr_video_face/evaluators.py:160\u001b[0m, in \u001b[0;36mGlobalEvaluator.__init__\u001b[0;34m(self, experiments, save_plots)\u001b[0m\n\u001b[1;32m    158\u001b[0m \u001b[39mself\u001b[39m\u001b[39m.\u001b[39mexperiments \u001b[39m=\u001b[39m experiments\n\u001b[1;32m    159\u001b[0m \u001b[39mself\u001b[39m\u001b[39m.\u001b[39msave_plots \u001b[39m=\u001b[39m save_plots\n\u001b[0;32m--> 160\u001b[0m \u001b[39mself\u001b[39m\u001b[39m.\u001b[39mexperiment_evaluators \u001b[39m=\u001b[39m \u001b[39mself\u001b[39;49m\u001b[39m.\u001b[39;49mget_experiment_evaluators(\u001b[39mself\u001b[39;49m\u001b[39m.\u001b[39;49mexperiments)\n",
      "File \u001b[0;32m~/lr-video-face/lr_video_face/evaluators.py:167\u001b[0m, in \u001b[0;36mGlobalEvaluator.get_experiment_evaluators\u001b[0;34m(experiments)\u001b[0m\n\u001b[1;32m    165\u001b[0m evaluators \u001b[39m=\u001b[39m []\n\u001b[1;32m    166\u001b[0m \u001b[39mfor\u001b[39;00m experiment \u001b[39min\u001b[39;00m tqdm(experiments):\n\u001b[0;32m--> 167\u001b[0m     results \u001b[39m=\u001b[39m experiment\u001b[39m.\u001b[39;49mperform()\n\u001b[1;32m    168\u001b[0m     evaluation \u001b[39m=\u001b[39m ExperimentEvaluator(experiment\u001b[39m=\u001b[39mexperiment, results\u001b[39m=\u001b[39mresults, cllr_expert_per_year\u001b[39m=\u001b[39mexperiments\u001b[39m.\u001b[39mcllr_expert_per_year)\n\u001b[1;32m    169\u001b[0m     evaluators\u001b[39m.\u001b[39mappend(evaluation)\n",
      "File \u001b[0;32m~/lr-video-face/lr_video_face/experiments.py:136\u001b[0m, in \u001b[0;36mExperiment.perform\u001b[0;34m(self)\u001b[0m\n\u001b[1;32m    121\u001b[0m calibration_pairs_per_category \u001b[39m=\u001b[39m get_calibration_pairs_per_category(test_pairs_per_category\u001b[39m.\u001b[39mkeys(),\n\u001b[1;32m    122\u001b[0m                                                                     \u001b[39m#new\u001b[39;00m\n\u001b[1;32m    123\u001b[0m                                                                     \u001b[39m#self.image_filters, \u001b[39;00m\n\u001b[0;32m   (...)\u001b[0m\n\u001b[1;32m    132\u001b[0m                                                                     \u001b[39mself\u001b[39m\u001b[39m.\u001b[39mn_calibration_pairs,\n\u001b[1;32m    133\u001b[0m                                                                     \u001b[39mself\u001b[39m\u001b[39m.\u001b[39msession)\n\u001b[1;32m    135\u001b[0m \u001b[39m# Generate lr_system per category.\u001b[39;00m\n\u001b[0;32m--> 136\u001b[0m lr_systems, test_pairs_per_category \u001b[39m=\u001b[39m generate_lr_systems(\u001b[39mself\u001b[39m\u001b[39m.\u001b[39membeddingModel,\n\u001b[1;32m    137\u001b[0m                                                                 \u001b[39mself\u001b[39m\u001b[39m.\u001b[39membedding_model_as_scorer,\n\u001b[1;32m    138\u001b[0m                                                                 \u001b[39mself\u001b[39m\u001b[39m.\u001b[39mmetrics,\n\u001b[1;32m    139\u001b[0m                                                                 \u001b[39mself\u001b[39m\u001b[39m.\u001b[39mscorer,\n\u001b[1;32m    140\u001b[0m                                                                 \u001b[39mself\u001b[39m\u001b[39m.\u001b[39mcalibrator,\n\u001b[1;32m    141\u001b[0m                                                                 calibration_pairs_per_category, \n\u001b[1;32m    142\u001b[0m                                                                 test_pairs_per_category,\n\u001b[1;32m    143\u001b[0m                                                                 \u001b[39mself\u001b[39m\u001b[39m.\u001b[39msession)\n\u001b[1;32m    145\u001b[0m \u001b[39m# Predict LR\u001b[39;00m\n\u001b[1;32m    146\u001b[0m results \u001b[39m=\u001b[39m predict_lr(\u001b[39mself\u001b[39m\u001b[39m.\u001b[39menfsi_years,\n\u001b[1;32m    147\u001b[0m                         \u001b[39mself\u001b[39m\u001b[39m.\u001b[39membeddingModel,\n\u001b[1;32m    148\u001b[0m                         \u001b[39mself\u001b[39m\u001b[39m.\u001b[39membedding_model_as_scorer,\n\u001b[0;32m   (...)\u001b[0m\n\u001b[1;32m    152\u001b[0m                         df_pairs_2015, \n\u001b[1;32m    153\u001b[0m                         \u001b[39mself\u001b[39m\u001b[39m.\u001b[39msession)\n",
      "\u001b[0;31mTypeError\u001b[0m: cannot unpack non-iterable NoneType object"
     ]
    }
   ],
   "source": [
    "global_results = GlobalEvaluator(experimental_setup)    "
   ]
  },
  {
   "attachments": {},
   "cell_type": "markdown",
   "metadata": {},
   "source": [
    "## Individual plots"
   ]
  },
  {
   "cell_type": "code",
   "execution_count": null,
   "metadata": {},
   "outputs": [],
   "source": [
    "global_results.make_experiment_plots()"
   ]
  },
  {
   "attachments": {},
   "cell_type": "markdown",
   "metadata": {},
   "source": [
    "## General plot"
   ]
  },
  {
   "cell_type": "code",
   "execution_count": null,
   "metadata": {},
   "outputs": [],
   "source": [
    "# import pickle\n",
    "# with open('data2.db','wb') as outp:\n",
    "#     pickle.dump(global_results,outp,-1)"
   ]
  },
  {
   "cell_type": "code",
   "execution_count": null,
   "metadata": {},
   "outputs": [],
   "source": [
    "global_results.make_global_plot()"
   ]
  }
 ],
 "metadata": {
  "kernelspec": {
   "display_name": "lr-video",
   "language": "python",
   "name": "python3"
  },
  "language_info": {
   "codemirror_mode": {
    "name": "ipython",
    "version": 3
   },
   "file_extension": ".py",
   "mimetype": "text/x-python",
   "name": "python",
   "nbconvert_exporter": "python",
   "pygments_lexer": "ipython3",
   "version": "3.8.15"
  },
  "orig_nbformat": 4,
  "vscode": {
   "interpreter": {
    "hash": "ae0b102d19e51505dfa7f9c4c891943d4814851bfb0fb9ee13b9b1dd2d5eef8a"
   }
  }
 },
 "nbformat": 4,
 "nbformat_minor": 2
}
