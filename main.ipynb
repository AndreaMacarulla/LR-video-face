{
 "cells": [
  {
   "attachments": {},
   "cell_type": "markdown",
   "metadata": {},
   "source": [
    "# Imports\n",
    "Import python libraries"
   ]
  },
  {
   "cell_type": "code",
   "execution_count": 12,
   "metadata": {},
   "outputs": [],
   "source": [
    "import os"
   ]
  },
  {
   "cell_type": "markdown",
   "metadata": {},
   "source": [
    "# Set dataset parameters\n",
    "Choose the attributes to load the dataset."
   ]
  },
  {
   "cell_type": "code",
   "execution_count": 13,
   "metadata": {},
   "outputs": [],
   "source": [
    "\n",
    "detectors = ['mtcnn']  # 'dlib', 'opencv',\n",
    "embedding_models = ['ArcFace']  # \"Dlib\", 'VGG-Face','FaceVACs', 'Facenet512'\n",
    "# TODO:add quality models to experiments\n",
    "quality_models = ['ser_fiq', 'tface']\n"
   ]
  },
  {
   "cell_type": "markdown",
   "metadata": {},
   "source": [
    "# Set LR parameters\n",
    "Calibration, image filters, face filters, quality filters..."
   ]
  },
  {
   "cell_type": "markdown",
   "metadata": {},
   "source": [
    "## Calibration"
   ]
  },
  {
   "cell_type": "code",
   "execution_count": 14,
   "metadata": {},
   "outputs": [],
   "source": [
    "calibrators = ['logit', 'KDE']  # 'KDE', , 'isotonic'\n",
    "calibration_db = [\"LFW\", \"SCFace\"] # which datasets using to calibrate\n",
    "image_filters = ['gender']  # todo: change name to image filters. E.g. 'pose','gender'\n",
    "face_image_filters = []  # 'confusion_score','quality'\n",
    "quality_filters = ['ser_fiq'] # 'ser_fiq', 'tface'\n",
    "\n",
    "n_calibration_pairs = 100"
   ]
  },
  {
   "cell_type": "markdown",
   "metadata": {},
   "source": [
    "## Validation"
   ]
  },
  {
   "cell_type": "code",
   "execution_count": 15,
   "metadata": {},
   "outputs": [],
   "source": [
    "enfsi_years = [2012,2017]"
   ]
  },
  {
   "cell_type": "markdown",
   "metadata": {},
   "source": [
    "## Other parameters\n",
    "Rest of the configuration"
   ]
  },
  {
   "cell_type": "code",
   "execution_count": 16,
   "metadata": {},
   "outputs": [],
   "source": [
    "metrics = \"cosine\"\n",
    "embedding_model_as_scorer = True"
   ]
  },
  {
   "cell_type": "markdown",
   "metadata": {},
   "source": [
    "# Scenarios\n",
    "Different filters to do computations"
   ]
  },
  {
   "cell_type": "code",
   "execution_count": 17,
   "metadata": {},
   "outputs": [],
   "source": [
    "scenario0 = []\n",
    "scenario1 = ['gender', 'age']\n",
    "scenario2 = ['yaw', 'pitch']\n",
    "scenario3 = ['glasses', 'beard']\n",
    "scenario4 = ['low_quality']\n",
    "scenario5 = ['headgear']\n",
    "scenario6 = ['terhorst_quality_rounded']"
   ]
  },
  {
   "attachments": {},
   "cell_type": "markdown",
   "metadata": {},
   "source": [
    "# Input and output directories\n",
    "Where the sql database is and which folder the results are saved."
   ]
  },
  {
   "cell_type": "code",
   "execution_count": 18,
   "metadata": {},
   "outputs": [],
   "source": [
    "home = os.path.expanduser(\"~\")\n",
    "\n",
    "# SQL database path and name\n",
    "input_dir = os.path.join(home, 'video_resources', 'sql_database')\n",
    "db_name = 'colab_main_dataset'\n",
    "\n",
    "# Where results are saved\n",
    "output_dir = os.path.join(home, 'video_resources', 'exp_output')"
   ]
  },
  {
   "cell_type": "markdown",
   "metadata": {},
   "source": [
    "# Preprocess data\n",
    "Connect to sql database."
   ]
  },
  {
   "cell_type": "code",
   "execution_count": 19,
   "metadata": {},
   "outputs": [],
   "source": [
    "from sql_face.alchemy import get_session\n",
    "from sql_face.tables import *"
   ]
  },
  {
   "cell_type": "code",
   "execution_count": 20,
   "metadata": {},
   "outputs": [],
   "source": [
    "session = get_session(input_dir, db_name)"
   ]
  },
  {
   "attachments": {},
   "cell_type": "markdown",
   "metadata": {},
   "source": [
    "# Experiments\n",
    "\n",
    "All parameters are specified in ExperimentalSetup, that creates a different experiment with all the posible combinations of detectors, embedding_models, calibrators, etc."
   ]
  },
  {
   "cell_type": "code",
   "execution_count": 21,
   "metadata": {},
   "outputs": [],
   "source": [
    "from lr_video_face.experiments import ExperimentalSetup"
   ]
  },
  {
   "cell_type": "code",
   "execution_count": 22,
   "metadata": {},
   "outputs": [],
   "source": [
    "experimental_setup = ExperimentalSetup(detectors, \n",
    "                                        embedding_models, \n",
    "                                        calibrators, \n",
    "                                        calibration_db, \n",
    "                                        enfsi_years,\n",
    "                                        image_filters, \n",
    "                                        face_image_filters, \n",
    "                                        quality_filters,\n",
    "                                        metrics, \n",
    "                                        n_calibration_pairs,\n",
    "                                        embedding_model_as_scorer,\n",
    "                                        output_dir,\n",
    "                                        session)"
   ]
  },
  {
   "attachments": {},
   "cell_type": "markdown",
   "metadata": {},
   "source": [
    "# Results"
   ]
  },
  {
   "cell_type": "code",
   "execution_count": 27,
   "metadata": {},
   "outputs": [],
   "source": [
    "#for exp in experimental_setup:\n",
    "#    exp.perform()"
   ]
  },
  {
   "cell_type": "code",
   "execution_count": 25,
   "metadata": {},
   "outputs": [],
   "source": [
    "from lr_video_face.evaluators import GlobalEvaluator"
   ]
  },
  {
   "cell_type": "code",
   "execution_count": 26,
   "metadata": {},
   "outputs": [
    {
     "name": "stderr",
     "output_type": "stream",
     "text": [
      "  0%|          | 0/2 [00:00<?, ?it/s]\n"
     ]
    },
    {
     "ename": "TypeError",
     "evalue": "get_test_pairs_per_category() takes 6 positional arguments but 7 were given",
     "output_type": "error",
     "traceback": [
      "\u001b[0;31m---------------------------------------------------------------------------\u001b[0m",
      "\u001b[0;31mTypeError\u001b[0m                                 Traceback (most recent call last)",
      "Cell \u001b[0;32mIn[26], line 1\u001b[0m\n\u001b[0;32m----> 1\u001b[0m global_results \u001b[39m=\u001b[39m GlobalEvaluator(experimental_setup)\n",
      "File \u001b[0;32m~/PycharmProjects/lr-video-face/lr_video_face/evaluators.py:483\u001b[0m, in \u001b[0;36mGlobalEvaluator.__init__\u001b[0;34m(self, experiments, save_plots)\u001b[0m\n\u001b[1;32m    481\u001b[0m \u001b[39mself\u001b[39m\u001b[39m.\u001b[39mexperiments \u001b[39m=\u001b[39m experiments\n\u001b[1;32m    482\u001b[0m \u001b[39mself\u001b[39m\u001b[39m.\u001b[39msave_plots \u001b[39m=\u001b[39m save_plots\n\u001b[0;32m--> 483\u001b[0m \u001b[39mself\u001b[39m\u001b[39m.\u001b[39mexperiment_evaluators \u001b[39m=\u001b[39m \u001b[39mself\u001b[39;49m\u001b[39m.\u001b[39;49mget_experiment_evaluators(\u001b[39mself\u001b[39;49m\u001b[39m.\u001b[39;49mexperiments)\n",
      "File \u001b[0;32m~/PycharmProjects/lr-video-face/lr_video_face/evaluators.py:541\u001b[0m, in \u001b[0;36mGlobalEvaluator.get_experiment_evaluators\u001b[0;34m(experiments)\u001b[0m\n\u001b[1;32m    539\u001b[0m evaluators \u001b[39m=\u001b[39m []\n\u001b[1;32m    540\u001b[0m \u001b[39mfor\u001b[39;00m experiment \u001b[39min\u001b[39;00m tqdm(experiments):\n\u001b[0;32m--> 541\u001b[0m     results \u001b[39m=\u001b[39m experiment\u001b[39m.\u001b[39;49mperform()\n\u001b[1;32m    542\u001b[0m     evaluation \u001b[39m=\u001b[39m ExperimentEvaluator(experiment\u001b[39m=\u001b[39mexperiment, results\u001b[39m=\u001b[39mresults, cllr_expert_per_year\u001b[39m=\u001b[39mexperiments\u001b[39m.\u001b[39mcllr_expert_per_year)\n\u001b[1;32m    543\u001b[0m     evaluators\u001b[39m.\u001b[39mappend(evaluation)\n",
      "File \u001b[0;32m~/PycharmProjects/lr-video-face/lr_video_face/experiments.py:98\u001b[0m, in \u001b[0;36mExperiment.perform\u001b[0;34m(self)\u001b[0m\n\u001b[1;32m     95\u001b[0m \u001b[39mself\u001b[39m\u001b[39m.\u001b[39mcreate_output_dir()\n\u001b[1;32m     97\u001b[0m \u001b[39m# Get test pairs per category.\u001b[39;00m\n\u001b[0;32m---> 98\u001b[0m test_pairs_per_category \u001b[39m=\u001b[39m get_test_pairs_per_category(\u001b[39mself\u001b[39;49m\u001b[39m.\u001b[39;49msession, \n\u001b[1;32m     99\u001b[0m                                                     \u001b[39mself\u001b[39;49m\u001b[39m.\u001b[39;49mimage_filters, \n\u001b[1;32m    100\u001b[0m                                                     \u001b[39mself\u001b[39;49m\u001b[39m.\u001b[39;49mface_image_filters, \n\u001b[1;32m    101\u001b[0m                                                     \u001b[39mself\u001b[39;49m\u001b[39m.\u001b[39;49mquality_filters,\n\u001b[1;32m    102\u001b[0m                                                     \u001b[39mself\u001b[39;49m\u001b[39m.\u001b[39;49mdetector, \n\u001b[1;32m    103\u001b[0m                                                     \u001b[39mself\u001b[39;49m\u001b[39m.\u001b[39;49membeddingModel,\n\u001b[1;32m    104\u001b[0m                                                     \u001b[39mself\u001b[39;49m\u001b[39m.\u001b[39;49menfsi_years)\n\u001b[1;32m    105\u001b[0m \u001b[39m# Get calibration pair per category.\u001b[39;00m\n\u001b[1;32m    106\u001b[0m calibration_pairs_per_category \u001b[39m=\u001b[39m get_calibration_pairs_per_category(test_pairs_per_category\u001b[39m.\u001b[39mkeys(),\n\u001b[1;32m    107\u001b[0m                                                                     \u001b[39mself\u001b[39m\u001b[39m.\u001b[39mimage_filters, \n\u001b[1;32m    108\u001b[0m                                                                     \u001b[39mself\u001b[39m\u001b[39m.\u001b[39mface_image_filters,\n\u001b[0;32m   (...)\u001b[0m\n\u001b[1;32m    113\u001b[0m                                                                     \u001b[39mself\u001b[39m\u001b[39m.\u001b[39mn_calibration_pairs,\n\u001b[1;32m    114\u001b[0m                                                                     \u001b[39mself\u001b[39m\u001b[39m.\u001b[39msession)\n",
      "\u001b[0;31mTypeError\u001b[0m: get_test_pairs_per_category() takes 6 positional arguments but 7 were given"
     ]
    }
   ],
   "source": [
    "global_results = GlobalEvaluator(experimental_setup)   "
   ]
  },
  {
   "attachments": {},
   "cell_type": "markdown",
   "metadata": {},
   "source": [
    "## Individual plots"
   ]
  },
  {
   "cell_type": "code",
   "execution_count": 30,
   "metadata": {},
   "outputs": [],
   "source": [
    "global_results.make_experiment_plots()"
   ]
  },
  {
   "attachments": {},
   "cell_type": "markdown",
   "metadata": {},
   "source": [
    "## General plot"
   ]
  },
  {
   "cell_type": "code",
   "execution_count": null,
   "metadata": {},
   "outputs": [],
   "source": [
    "global_results.make_global_plot()"
   ]
  }
 ],
 "metadata": {
  "kernelspec": {
   "display_name": "lr-video",
   "language": "python",
   "name": "python3"
  },
  "language_info": {
   "codemirror_mode": {
    "name": "ipython",
    "version": 3
   },
   "file_extension": ".py",
   "mimetype": "text/x-python",
   "name": "python",
   "nbconvert_exporter": "python",
   "pygments_lexer": "ipython3",
   "version": "3.8.15"
  },
  "orig_nbformat": 4,
  "vscode": {
   "interpreter": {
    "hash": "c08d8fec19e509e399d6ec1cb9b529f9385c45181b63bf2f2d9547e2a9a7b9b5"
   }
  }
 },
 "nbformat": 4,
 "nbformat_minor": 2
}
