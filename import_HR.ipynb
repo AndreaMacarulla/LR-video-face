{
 "cells": [
  {
   "cell_type": "code",
   "execution_count": 1,
   "metadata": {},
   "outputs": [],
   "source": [
    "import os\n",
    "\n",
    "home = os.path.expanduser(\"~\")\n",
    "\n",
    "db_name=  'colab_main_dataset_25' #'test_new_creators_4'\n",
    "input_dir = os.path.join(home, 'video_resources', 'HR_data')\n",
    "output_dir = os.path.join(home, 'video_resources', 'sql_database')"
   ]
  },
  {
   "cell_type": "code",
   "execution_count": 2,
   "metadata": {},
   "outputs": [
    {
     "name": "stderr",
     "output_type": "stream",
     "text": [
      "2023-06-28 00:17:31.411829: I tensorflow/core/platform/cpu_feature_guard.cc:193] This TensorFlow binary is optimized with oneAPI Deep Neural Network Library (oneDNN) to use the following CPU instructions in performance-critical operations:  SSE4.1 SSE4.2 AVX AVX2 FMA\n",
      "To enable them in other operations, rebuild TensorFlow with the appropriate compiler flags.\n",
      "INFO: Created TensorFlow Lite XNNPACK delegate for CPU.\n"
     ]
    }
   ],
   "source": [
    "from sql_face.alchemy import get_session\n",
    "session = get_session(output_dir, db_name)"
   ]
  },
  {
   "cell_type": "code",
   "execution_count": 3,
   "metadata": {},
   "outputs": [],
   "source": [
    "import pandas as pd\n",
    "import numpy as np\n",
    "from tqdm import tqdm\n",
    "from sql_face.tables import  QualityImage, FaceImage, CroppedImage, Image, QualityModel, QualityGroup,Detector, EmbeddingModel,EnfsiImage,EnfsiVideoFrame"
   ]
  },
  {
   "attachments": {},
   "cell_type": "markdown",
   "metadata": {},
   "source": [
    "Ficheros a importar"
   ]
  },
  {
   "cell_type": "code",
   "execution_count": 4,
   "metadata": {},
   "outputs": [],
   "source": [
    "database = 'enfsi'\n",
    "\n",
    "emb_file = os.path.join(input_dir,f'embeddings_{database}_hr.npy')\n",
    "filenames_file = os.path.join(input_dir,f'filenames_{database}_hr.npy')\n",
    "quality_file = os.path.join(input_dir,f'results_{database}_hr.csv')\n",
    "\n",
    "emb = np.load(emb_file) \n",
    "filename = np.load(filenames_file)\n",
    "df_quality = pd.read_csv(quality_file)\n"
   ]
  },
  {
   "cell_type": "code",
   "execution_count": 5,
   "metadata": {},
   "outputs": [
    {
     "data": {
      "text/html": [
       "<div>\n",
       "<style scoped>\n",
       "    .dataframe tbody tr th:only-of-type {\n",
       "        vertical-align: middle;\n",
       "    }\n",
       "\n",
       "    .dataframe tbody tr th {\n",
       "        vertical-align: top;\n",
       "    }\n",
       "\n",
       "    .dataframe thead th {\n",
       "        text-align: right;\n",
       "    }\n",
       "</style>\n",
       "<table border=\"1\" class=\"dataframe\">\n",
       "  <thead>\n",
       "    <tr style=\"text-align: right;\">\n",
       "      <th></th>\n",
       "      <th>Path</th>\n",
       "      <th>Quality</th>\n",
       "    </tr>\n",
       "  </thead>\n",
       "  <tbody>\n",
       "    <tr>\n",
       "      <th>0</th>\n",
       "      <td>/content/CodeFormer/align_hr_enfsi/28052.png</td>\n",
       "      <td>0.784107</td>\n",
       "    </tr>\n",
       "    <tr>\n",
       "      <th>1</th>\n",
       "      <td>/content/CodeFormer/align_hr_enfsi/29371.png</td>\n",
       "      <td>0.626369</td>\n",
       "    </tr>\n",
       "    <tr>\n",
       "      <th>2</th>\n",
       "      <td>/content/CodeFormer/align_hr_enfsi/26453.png</td>\n",
       "      <td>0.468202</td>\n",
       "    </tr>\n",
       "    <tr>\n",
       "      <th>3</th>\n",
       "      <td>/content/CodeFormer/align_hr_enfsi/29537.png</td>\n",
       "      <td>0.862583</td>\n",
       "    </tr>\n",
       "    <tr>\n",
       "      <th>4</th>\n",
       "      <td>/content/CodeFormer/align_hr_enfsi/30206.png</td>\n",
       "      <td>0.819336</td>\n",
       "    </tr>\n",
       "    <tr>\n",
       "      <th>...</th>\n",
       "      <td>...</td>\n",
       "      <td>...</td>\n",
       "    </tr>\n",
       "    <tr>\n",
       "      <th>2471</th>\n",
       "      <td>/content/CodeFormer/align_hr_enfsi/28719.png</td>\n",
       "      <td>0.000782</td>\n",
       "    </tr>\n",
       "    <tr>\n",
       "      <th>2472</th>\n",
       "      <td>/content/CodeFormer/align_hr_enfsi/30022.png</td>\n",
       "      <td>0.028895</td>\n",
       "    </tr>\n",
       "    <tr>\n",
       "      <th>2473</th>\n",
       "      <td>/content/CodeFormer/align_hr_enfsi/26889.png</td>\n",
       "      <td>0.000379</td>\n",
       "    </tr>\n",
       "    <tr>\n",
       "      <th>2474</th>\n",
       "      <td>/content/CodeFormer/align_hr_enfsi/27171.png</td>\n",
       "      <td>0.051150</td>\n",
       "    </tr>\n",
       "    <tr>\n",
       "      <th>2475</th>\n",
       "      <td>/content/CodeFormer/align_hr_enfsi/29880.png</td>\n",
       "      <td>0.409552</td>\n",
       "    </tr>\n",
       "  </tbody>\n",
       "</table>\n",
       "<p>2476 rows × 2 columns</p>\n",
       "</div>"
      ],
      "text/plain": [
       "                                              Path   Quality\n",
       "0     /content/CodeFormer/align_hr_enfsi/28052.png  0.784107\n",
       "1     /content/CodeFormer/align_hr_enfsi/29371.png  0.626369\n",
       "2     /content/CodeFormer/align_hr_enfsi/26453.png  0.468202\n",
       "3     /content/CodeFormer/align_hr_enfsi/29537.png  0.862583\n",
       "4     /content/CodeFormer/align_hr_enfsi/30206.png  0.819336\n",
       "...                                            ...       ...\n",
       "2471  /content/CodeFormer/align_hr_enfsi/28719.png  0.000782\n",
       "2472  /content/CodeFormer/align_hr_enfsi/30022.png  0.028895\n",
       "2473  /content/CodeFormer/align_hr_enfsi/26889.png  0.000379\n",
       "2474  /content/CodeFormer/align_hr_enfsi/27171.png  0.051150\n",
       "2475  /content/CodeFormer/align_hr_enfsi/29880.png  0.409552\n",
       "\n",
       "[2476 rows x 2 columns]"
      ]
     },
     "execution_count": 5,
     "metadata": {},
     "output_type": "execute_result"
    }
   ],
   "source": [
    "df_quality"
   ]
  },
  {
   "cell_type": "code",
   "execution_count": 6,
   "metadata": {},
   "outputs": [
    {
     "name": "stdout",
     "output_type": "stream",
     "text": [
      "(2476,) (2476, 512) (2476, 2)\n"
     ]
    }
   ],
   "source": [
    "print(filename.shape,emb.shape, df_quality.shape)\n"
   ]
  },
  {
   "cell_type": "code",
   "execution_count": 7,
   "metadata": {},
   "outputs": [
    {
     "data": {
      "text/html": [
       "<div>\n",
       "<style scoped>\n",
       "    .dataframe tbody tr th:only-of-type {\n",
       "        vertical-align: middle;\n",
       "    }\n",
       "\n",
       "    .dataframe tbody tr th {\n",
       "        vertical-align: top;\n",
       "    }\n",
       "\n",
       "    .dataframe thead th {\n",
       "        text-align: right;\n",
       "    }\n",
       "</style>\n",
       "<table border=\"1\" class=\"dataframe\">\n",
       "  <thead>\n",
       "    <tr style=\"text-align: right;\">\n",
       "      <th></th>\n",
       "      <th>Path</th>\n",
       "      <th>embedding</th>\n",
       "    </tr>\n",
       "  </thead>\n",
       "  <tbody>\n",
       "    <tr>\n",
       "      <th>0</th>\n",
       "      <td>/content/CodeFormer/align_hr_enfsi2015/28052.png</td>\n",
       "      <td>[0.14251266419887543, 1.6241755485534668, -1.0...</td>\n",
       "    </tr>\n",
       "    <tr>\n",
       "      <th>1</th>\n",
       "      <td>/content/CodeFormer/align_hr_enfsi2015/29371.png</td>\n",
       "      <td>[-0.9632573127746582, -0.06028220057487488, 1....</td>\n",
       "    </tr>\n",
       "    <tr>\n",
       "      <th>2</th>\n",
       "      <td>/content/CodeFormer/align_hr_enfsi2015/26453.png</td>\n",
       "      <td>[0.4431183338165283, -0.1789988875389099, 0.47...</td>\n",
       "    </tr>\n",
       "    <tr>\n",
       "      <th>3</th>\n",
       "      <td>/content/CodeFormer/align_hr_enfsi2015/29537.png</td>\n",
       "      <td>[-2.2235913276672363, 0.5421461462974548, -1.4...</td>\n",
       "    </tr>\n",
       "    <tr>\n",
       "      <th>4</th>\n",
       "      <td>/content/CodeFormer/align_hr_enfsi2015/30206.png</td>\n",
       "      <td>[0.2170746922492981, 0.5398297905921936, 0.714...</td>\n",
       "    </tr>\n",
       "    <tr>\n",
       "      <th>...</th>\n",
       "      <td>...</td>\n",
       "      <td>...</td>\n",
       "    </tr>\n",
       "    <tr>\n",
       "      <th>2471</th>\n",
       "      <td>/content/CodeFormer/align_hr_enfsi2015/28719.png</td>\n",
       "      <td>[-0.04542823135852814, -0.5117424726486206, 0....</td>\n",
       "    </tr>\n",
       "    <tr>\n",
       "      <th>2472</th>\n",
       "      <td>/content/CodeFormer/align_hr_enfsi2015/30022.png</td>\n",
       "      <td>[-0.6927948594093323, 0.07162030786275864, 1.3...</td>\n",
       "    </tr>\n",
       "    <tr>\n",
       "      <th>2473</th>\n",
       "      <td>/content/CodeFormer/align_hr_enfsi2015/26889.png</td>\n",
       "      <td>[0.8128702044487, 1.0840398073196411, -0.05720...</td>\n",
       "    </tr>\n",
       "    <tr>\n",
       "      <th>2474</th>\n",
       "      <td>/content/CodeFormer/align_hr_enfsi2015/27171.png</td>\n",
       "      <td>[1.7465705871582031, -0.6921619176864624, 1.02...</td>\n",
       "    </tr>\n",
       "    <tr>\n",
       "      <th>2475</th>\n",
       "      <td>/content/CodeFormer/align_hr_enfsi2015/29880.png</td>\n",
       "      <td>[0.5468122959136963, 1.841721534729004, 0.4402...</td>\n",
       "    </tr>\n",
       "  </tbody>\n",
       "</table>\n",
       "<p>2476 rows × 2 columns</p>\n",
       "</div>"
      ],
      "text/plain": [
       "                                                  Path  \\\n",
       "0     /content/CodeFormer/align_hr_enfsi2015/28052.png   \n",
       "1     /content/CodeFormer/align_hr_enfsi2015/29371.png   \n",
       "2     /content/CodeFormer/align_hr_enfsi2015/26453.png   \n",
       "3     /content/CodeFormer/align_hr_enfsi2015/29537.png   \n",
       "4     /content/CodeFormer/align_hr_enfsi2015/30206.png   \n",
       "...                                                ...   \n",
       "2471  /content/CodeFormer/align_hr_enfsi2015/28719.png   \n",
       "2472  /content/CodeFormer/align_hr_enfsi2015/30022.png   \n",
       "2473  /content/CodeFormer/align_hr_enfsi2015/26889.png   \n",
       "2474  /content/CodeFormer/align_hr_enfsi2015/27171.png   \n",
       "2475  /content/CodeFormer/align_hr_enfsi2015/29880.png   \n",
       "\n",
       "                                              embedding  \n",
       "0     [0.14251266419887543, 1.6241755485534668, -1.0...  \n",
       "1     [-0.9632573127746582, -0.06028220057487488, 1....  \n",
       "2     [0.4431183338165283, -0.1789988875389099, 0.47...  \n",
       "3     [-2.2235913276672363, 0.5421461462974548, -1.4...  \n",
       "4     [0.2170746922492981, 0.5398297905921936, 0.714...  \n",
       "...                                                 ...  \n",
       "2471  [-0.04542823135852814, -0.5117424726486206, 0....  \n",
       "2472  [-0.6927948594093323, 0.07162030786275864, 1.3...  \n",
       "2473  [0.8128702044487, 1.0840398073196411, -0.05720...  \n",
       "2474  [1.7465705871582031, -0.6921619176864624, 1.02...  \n",
       "2475  [0.5468122959136963, 1.841721534729004, 0.4402...  \n",
       "\n",
       "[2476 rows x 2 columns]"
      ]
     },
     "execution_count": 7,
     "metadata": {},
     "output_type": "execute_result"
    }
   ],
   "source": [
    "df = pd.DataFrame({'Path': filename, 'embedding': emb.tolist()})\n",
    "df"
   ]
  },
  {
   "cell_type": "code",
   "execution_count": 8,
   "metadata": {},
   "outputs": [],
   "source": [
    "df['CI_id'] = df.Path.apply(lambda x: int(os.path.basename(x).split(\".\")[0]))\n",
    "df_quality['CI_id'] = df_quality.Path.apply(lambda x: int(os.path.basename(x).split(\".\")[0]))"
   ]
  },
  {
   "cell_type": "code",
   "execution_count": 9,
   "metadata": {},
   "outputs": [],
   "source": [
    "results_data = df.merge(df_quality, on='CI_id')"
   ]
  },
  {
   "cell_type": "code",
   "execution_count": 10,
   "metadata": {},
   "outputs": [
    {
     "data": {
      "text/plain": [
       "(2476, 5)"
      ]
     },
     "execution_count": 10,
     "metadata": {},
     "output_type": "execute_result"
    }
   ],
   "source": [
    "results_data.shape"
   ]
  },
  {
   "cell_type": "code",
   "execution_count": 11,
   "metadata": {},
   "outputs": [
    {
     "data": {
      "text/html": [
       "<div>\n",
       "<style scoped>\n",
       "    .dataframe tbody tr th:only-of-type {\n",
       "        vertical-align: middle;\n",
       "    }\n",
       "\n",
       "    .dataframe tbody tr th {\n",
       "        vertical-align: top;\n",
       "    }\n",
       "\n",
       "    .dataframe thead th {\n",
       "        text-align: right;\n",
       "    }\n",
       "</style>\n",
       "<table border=\"1\" class=\"dataframe\">\n",
       "  <thead>\n",
       "    <tr style=\"text-align: right;\">\n",
       "      <th></th>\n",
       "      <th>Path_x</th>\n",
       "      <th>embedding</th>\n",
       "      <th>CI_id</th>\n",
       "      <th>Path_y</th>\n",
       "      <th>Quality</th>\n",
       "    </tr>\n",
       "  </thead>\n",
       "  <tbody>\n",
       "    <tr>\n",
       "      <th>0</th>\n",
       "      <td>/content/CodeFormer/align_hr_enfsi2015/28052.png</td>\n",
       "      <td>[0.14251266419887543, 1.6241755485534668, -1.0...</td>\n",
       "      <td>28052</td>\n",
       "      <td>/content/CodeFormer/align_hr_enfsi/28052.png</td>\n",
       "      <td>0.784107</td>\n",
       "    </tr>\n",
       "    <tr>\n",
       "      <th>1</th>\n",
       "      <td>/content/CodeFormer/align_hr_enfsi2015/29371.png</td>\n",
       "      <td>[-0.9632573127746582, -0.06028220057487488, 1....</td>\n",
       "      <td>29371</td>\n",
       "      <td>/content/CodeFormer/align_hr_enfsi/29371.png</td>\n",
       "      <td>0.626369</td>\n",
       "    </tr>\n",
       "    <tr>\n",
       "      <th>2</th>\n",
       "      <td>/content/CodeFormer/align_hr_enfsi2015/26453.png</td>\n",
       "      <td>[0.4431183338165283, -0.1789988875389099, 0.47...</td>\n",
       "      <td>26453</td>\n",
       "      <td>/content/CodeFormer/align_hr_enfsi/26453.png</td>\n",
       "      <td>0.468202</td>\n",
       "    </tr>\n",
       "    <tr>\n",
       "      <th>3</th>\n",
       "      <td>/content/CodeFormer/align_hr_enfsi2015/29537.png</td>\n",
       "      <td>[-2.2235913276672363, 0.5421461462974548, -1.4...</td>\n",
       "      <td>29537</td>\n",
       "      <td>/content/CodeFormer/align_hr_enfsi/29537.png</td>\n",
       "      <td>0.862583</td>\n",
       "    </tr>\n",
       "    <tr>\n",
       "      <th>4</th>\n",
       "      <td>/content/CodeFormer/align_hr_enfsi2015/30206.png</td>\n",
       "      <td>[0.2170746922492981, 0.5398297905921936, 0.714...</td>\n",
       "      <td>30206</td>\n",
       "      <td>/content/CodeFormer/align_hr_enfsi/30206.png</td>\n",
       "      <td>0.819336</td>\n",
       "    </tr>\n",
       "    <tr>\n",
       "      <th>...</th>\n",
       "      <td>...</td>\n",
       "      <td>...</td>\n",
       "      <td>...</td>\n",
       "      <td>...</td>\n",
       "      <td>...</td>\n",
       "    </tr>\n",
       "    <tr>\n",
       "      <th>2471</th>\n",
       "      <td>/content/CodeFormer/align_hr_enfsi2015/28719.png</td>\n",
       "      <td>[-0.04542823135852814, -0.5117424726486206, 0....</td>\n",
       "      <td>28719</td>\n",
       "      <td>/content/CodeFormer/align_hr_enfsi/28719.png</td>\n",
       "      <td>0.000782</td>\n",
       "    </tr>\n",
       "    <tr>\n",
       "      <th>2472</th>\n",
       "      <td>/content/CodeFormer/align_hr_enfsi2015/30022.png</td>\n",
       "      <td>[-0.6927948594093323, 0.07162030786275864, 1.3...</td>\n",
       "      <td>30022</td>\n",
       "      <td>/content/CodeFormer/align_hr_enfsi/30022.png</td>\n",
       "      <td>0.028895</td>\n",
       "    </tr>\n",
       "    <tr>\n",
       "      <th>2473</th>\n",
       "      <td>/content/CodeFormer/align_hr_enfsi2015/26889.png</td>\n",
       "      <td>[0.8128702044487, 1.0840398073196411, -0.05720...</td>\n",
       "      <td>26889</td>\n",
       "      <td>/content/CodeFormer/align_hr_enfsi/26889.png</td>\n",
       "      <td>0.000379</td>\n",
       "    </tr>\n",
       "    <tr>\n",
       "      <th>2474</th>\n",
       "      <td>/content/CodeFormer/align_hr_enfsi2015/27171.png</td>\n",
       "      <td>[1.7465705871582031, -0.6921619176864624, 1.02...</td>\n",
       "      <td>27171</td>\n",
       "      <td>/content/CodeFormer/align_hr_enfsi/27171.png</td>\n",
       "      <td>0.051150</td>\n",
       "    </tr>\n",
       "    <tr>\n",
       "      <th>2475</th>\n",
       "      <td>/content/CodeFormer/align_hr_enfsi2015/29880.png</td>\n",
       "      <td>[0.5468122959136963, 1.841721534729004, 0.4402...</td>\n",
       "      <td>29880</td>\n",
       "      <td>/content/CodeFormer/align_hr_enfsi/29880.png</td>\n",
       "      <td>0.409552</td>\n",
       "    </tr>\n",
       "  </tbody>\n",
       "</table>\n",
       "<p>2476 rows × 5 columns</p>\n",
       "</div>"
      ],
      "text/plain": [
       "                                                Path_x  \\\n",
       "0     /content/CodeFormer/align_hr_enfsi2015/28052.png   \n",
       "1     /content/CodeFormer/align_hr_enfsi2015/29371.png   \n",
       "2     /content/CodeFormer/align_hr_enfsi2015/26453.png   \n",
       "3     /content/CodeFormer/align_hr_enfsi2015/29537.png   \n",
       "4     /content/CodeFormer/align_hr_enfsi2015/30206.png   \n",
       "...                                                ...   \n",
       "2471  /content/CodeFormer/align_hr_enfsi2015/28719.png   \n",
       "2472  /content/CodeFormer/align_hr_enfsi2015/30022.png   \n",
       "2473  /content/CodeFormer/align_hr_enfsi2015/26889.png   \n",
       "2474  /content/CodeFormer/align_hr_enfsi2015/27171.png   \n",
       "2475  /content/CodeFormer/align_hr_enfsi2015/29880.png   \n",
       "\n",
       "                                              embedding  CI_id  \\\n",
       "0     [0.14251266419887543, 1.6241755485534668, -1.0...  28052   \n",
       "1     [-0.9632573127746582, -0.06028220057487488, 1....  29371   \n",
       "2     [0.4431183338165283, -0.1789988875389099, 0.47...  26453   \n",
       "3     [-2.2235913276672363, 0.5421461462974548, -1.4...  29537   \n",
       "4     [0.2170746922492981, 0.5398297905921936, 0.714...  30206   \n",
       "...                                                 ...    ...   \n",
       "2471  [-0.04542823135852814, -0.5117424726486206, 0....  28719   \n",
       "2472  [-0.6927948594093323, 0.07162030786275864, 1.3...  30022   \n",
       "2473  [0.8128702044487, 1.0840398073196411, -0.05720...  26889   \n",
       "2474  [1.7465705871582031, -0.6921619176864624, 1.02...  27171   \n",
       "2475  [0.5468122959136963, 1.841721534729004, 0.4402...  29880   \n",
       "\n",
       "                                            Path_y   Quality  \n",
       "0     /content/CodeFormer/align_hr_enfsi/28052.png  0.784107  \n",
       "1     /content/CodeFormer/align_hr_enfsi/29371.png  0.626369  \n",
       "2     /content/CodeFormer/align_hr_enfsi/26453.png  0.468202  \n",
       "3     /content/CodeFormer/align_hr_enfsi/29537.png  0.862583  \n",
       "4     /content/CodeFormer/align_hr_enfsi/30206.png  0.819336  \n",
       "...                                            ...       ...  \n",
       "2471  /content/CodeFormer/align_hr_enfsi/28719.png  0.000782  \n",
       "2472  /content/CodeFormer/align_hr_enfsi/30022.png  0.028895  \n",
       "2473  /content/CodeFormer/align_hr_enfsi/26889.png  0.000379  \n",
       "2474  /content/CodeFormer/align_hr_enfsi/27171.png  0.051150  \n",
       "2475  /content/CodeFormer/align_hr_enfsi/29880.png  0.409552  \n",
       "\n",
       "[2476 rows x 5 columns]"
      ]
     },
     "execution_count": 11,
     "metadata": {},
     "output_type": "execute_result"
    }
   ],
   "source": [
    "results_data"
   ]
  },
  {
   "cell_type": "code",
   "execution_count": 12,
   "metadata": {},
   "outputs": [],
   "source": [
    "results_data.drop(['Path_x','Path_y'] , axis=1, inplace = True)"
   ]
  },
  {
   "cell_type": "code",
   "execution_count": 13,
   "metadata": {},
   "outputs": [
    {
     "data": {
      "text/html": [
       "<div>\n",
       "<style scoped>\n",
       "    .dataframe tbody tr th:only-of-type {\n",
       "        vertical-align: middle;\n",
       "    }\n",
       "\n",
       "    .dataframe tbody tr th {\n",
       "        vertical-align: top;\n",
       "    }\n",
       "\n",
       "    .dataframe thead th {\n",
       "        text-align: right;\n",
       "    }\n",
       "</style>\n",
       "<table border=\"1\" class=\"dataframe\">\n",
       "  <thead>\n",
       "    <tr style=\"text-align: right;\">\n",
       "      <th></th>\n",
       "      <th>embedding</th>\n",
       "      <th>CI_id</th>\n",
       "      <th>Quality</th>\n",
       "    </tr>\n",
       "  </thead>\n",
       "  <tbody>\n",
       "    <tr>\n",
       "      <th>0</th>\n",
       "      <td>[0.14251266419887543, 1.6241755485534668, -1.0...</td>\n",
       "      <td>28052</td>\n",
       "      <td>0.784107</td>\n",
       "    </tr>\n",
       "    <tr>\n",
       "      <th>1</th>\n",
       "      <td>[-0.9632573127746582, -0.06028220057487488, 1....</td>\n",
       "      <td>29371</td>\n",
       "      <td>0.626369</td>\n",
       "    </tr>\n",
       "    <tr>\n",
       "      <th>2</th>\n",
       "      <td>[0.4431183338165283, -0.1789988875389099, 0.47...</td>\n",
       "      <td>26453</td>\n",
       "      <td>0.468202</td>\n",
       "    </tr>\n",
       "    <tr>\n",
       "      <th>3</th>\n",
       "      <td>[-2.2235913276672363, 0.5421461462974548, -1.4...</td>\n",
       "      <td>29537</td>\n",
       "      <td>0.862583</td>\n",
       "    </tr>\n",
       "    <tr>\n",
       "      <th>4</th>\n",
       "      <td>[0.2170746922492981, 0.5398297905921936, 0.714...</td>\n",
       "      <td>30206</td>\n",
       "      <td>0.819336</td>\n",
       "    </tr>\n",
       "    <tr>\n",
       "      <th>...</th>\n",
       "      <td>...</td>\n",
       "      <td>...</td>\n",
       "      <td>...</td>\n",
       "    </tr>\n",
       "    <tr>\n",
       "      <th>2471</th>\n",
       "      <td>[-0.04542823135852814, -0.5117424726486206, 0....</td>\n",
       "      <td>28719</td>\n",
       "      <td>0.000782</td>\n",
       "    </tr>\n",
       "    <tr>\n",
       "      <th>2472</th>\n",
       "      <td>[-0.6927948594093323, 0.07162030786275864, 1.3...</td>\n",
       "      <td>30022</td>\n",
       "      <td>0.028895</td>\n",
       "    </tr>\n",
       "    <tr>\n",
       "      <th>2473</th>\n",
       "      <td>[0.8128702044487, 1.0840398073196411, -0.05720...</td>\n",
       "      <td>26889</td>\n",
       "      <td>0.000379</td>\n",
       "    </tr>\n",
       "    <tr>\n",
       "      <th>2474</th>\n",
       "      <td>[1.7465705871582031, -0.6921619176864624, 1.02...</td>\n",
       "      <td>27171</td>\n",
       "      <td>0.051150</td>\n",
       "    </tr>\n",
       "    <tr>\n",
       "      <th>2475</th>\n",
       "      <td>[0.5468122959136963, 1.841721534729004, 0.4402...</td>\n",
       "      <td>29880</td>\n",
       "      <td>0.409552</td>\n",
       "    </tr>\n",
       "  </tbody>\n",
       "</table>\n",
       "<p>2476 rows × 3 columns</p>\n",
       "</div>"
      ],
      "text/plain": [
       "                                              embedding  CI_id   Quality\n",
       "0     [0.14251266419887543, 1.6241755485534668, -1.0...  28052  0.784107\n",
       "1     [-0.9632573127746582, -0.06028220057487488, 1....  29371  0.626369\n",
       "2     [0.4431183338165283, -0.1789988875389099, 0.47...  26453  0.468202\n",
       "3     [-2.2235913276672363, 0.5421461462974548, -1.4...  29537  0.862583\n",
       "4     [0.2170746922492981, 0.5398297905921936, 0.714...  30206  0.819336\n",
       "...                                                 ...    ...       ...\n",
       "2471  [-0.04542823135852814, -0.5117424726486206, 0....  28719  0.000782\n",
       "2472  [-0.6927948594093323, 0.07162030786275864, 1.3...  30022  0.028895\n",
       "2473  [0.8128702044487, 1.0840398073196411, -0.05720...  26889  0.000379\n",
       "2474  [1.7465705871582031, -0.6921619176864624, 1.02...  27171  0.051150\n",
       "2475  [0.5468122959136963, 1.841721534729004, 0.4402...  29880  0.409552\n",
       "\n",
       "[2476 rows x 3 columns]"
      ]
     },
     "execution_count": 13,
     "metadata": {},
     "output_type": "execute_result"
    }
   ],
   "source": [
    "results_data"
   ]
  },
  {
   "attachments": {},
   "cell_type": "markdown",
   "metadata": {},
   "source": [
    "# Datos para la base de datos\n",
    "Revisar estos datos si cambiamos de database. o hacer las queries para obtenerlos. "
   ]
  },
  {
   "cell_type": "code",
   "execution_count": 14,
   "metadata": {},
   "outputs": [],
   "source": [
    "detector_id = 2 # mtcnn-serfiq\n",
    "embeddingModel_id = 6 #El nuevo\n",
    "qualityModel_id = 1 #ser_fiq"
   ]
  },
  {
   "attachments": {},
   "cell_type": "markdown",
   "metadata": {},
   "source": [
    "# Creamos/Actualizamos FaceImage"
   ]
  },
  {
   "cell_type": "code",
   "execution_count": 15,
   "metadata": {},
   "outputs": [
    {
     "name": "stderr",
     "output_type": "stream",
     "text": [
      "0it [00:00, ?it/s]"
     ]
    },
    {
     "name": "stderr",
     "output_type": "stream",
     "text": [
      "2476it [00:12, 194.29it/s]\n"
     ]
    }
   ],
   "source": [
    "#buscamos la faceimage y la creamos si no existe\n",
    "limit = 300\n",
    "i = limit\n",
    "for  index, dato in tqdm(results_data.iterrows()):\n",
    "    #cI = session.query(CroppedImage).join(Image).filter(Image.path == dato.Path,CroppedImage.detector_id==detector_id).one_or_none()\n",
    "    cI = session.query(CroppedImage).filter(CroppedImage.croppedImage_id == dato.CI_id,CroppedImage.detector_id==detector_id).one_or_none()\n",
    "\n",
    "    if cI:\n",
    "        FI = session.query(FaceImage).filter(FaceImage.croppedImages == cI,FaceImage.embeddingModel_id == embeddingModel_id).one_or_none()\n",
    "        if FI:\n",
    "            FI.embeddings=dato.embedding\n",
    "\n",
    "        else:\n",
    "            new_face_image = FaceImage(croppedImage_id=cI.croppedImage_id,\n",
    "            embeddingModel_id=embeddingModel_id,\n",
    "            embeddings=dato.embedding,\n",
    "            confusion_score=None)\n",
    "            session.add(new_face_image)\n",
    "        i-=1\n",
    "        #session.commit()        \n",
    "\n",
    "    else:\n",
    "        print (f'{dato.Path} no encontrado')\n",
    "\n",
    "    if not i:\n",
    "        i=limit\n",
    "        session.commit()\n",
    "\n",
    "session.commit()\n",
    "session.close()\n",
    "\n"
   ]
  },
  {
   "attachments": {},
   "cell_type": "markdown",
   "metadata": {},
   "source": [
    "# Creamos / actualizamos QualityImage"
   ]
  },
  {
   "cell_type": "code",
   "execution_count": 16,
   "metadata": {},
   "outputs": [
    {
     "name": "stderr",
     "output_type": "stream",
     "text": [
      "0it [00:00, ?it/s]"
     ]
    },
    {
     "name": "stderr",
     "output_type": "stream",
     "text": [
      "2476it [00:13, 178.05it/s]\n"
     ]
    }
   ],
   "source": [
    "#buscamos la qualityimage y la creamos si no existe\n",
    "limit = 100\n",
    "i = limit\n",
    "for  index, dato in tqdm(results_data.iterrows()):\n",
    "    FI = session.query(FaceImage).filter(FaceImage.embeddingModel_id == embeddingModel_id) \\\n",
    "                .join(CroppedImage).filter(CroppedImage.croppedImage_id == dato.CI_id).one_or_none()\n",
    "#                .join(Image).filter(Image.path == dato.Path)\n",
    "\n",
    "    if FI:\n",
    "        QI = session.query(QualityImage).filter(QualityImage.faceImages == FI, QualityImage.qualityModel_id == qualityModel_id).one_or_none()\n",
    "        if QI:\n",
    "            QI.quality=dato.Quality\n",
    "\n",
    "        else:\n",
    "            new_quality_image = QualityImage(faceImage_id = FI.faceImage_id,\n",
    "            qualityModel_id = qualityModel_id,\n",
    "            quality=dato.Quality)\n",
    "            session.add(new_quality_image)\n",
    "        i-=1\n",
    "        #session.commit()        \n",
    "\n",
    "    else:\n",
    "        print (dato.Path + 'no encontrado')\n",
    "\n",
    "    if not i:\n",
    "        i=limit\n",
    "        session.commit()\n",
    "\n",
    "session.commit()\n",
    "session.close()\n",
    "\n",
    "\n",
    "\n"
   ]
  }
 ],
 "metadata": {
  "kernelspec": {
   "display_name": "lr-video",
   "language": "python",
   "name": "python3"
  },
  "language_info": {
   "codemirror_mode": {
    "name": "ipython",
    "version": 3
   },
   "file_extension": ".py",
   "mimetype": "text/x-python",
   "name": "python",
   "nbconvert_exporter": "python",
   "pygments_lexer": "ipython3",
   "version": "3.8.15"
  },
  "orig_nbformat": 4
 },
 "nbformat": 4,
 "nbformat_minor": 2
}
