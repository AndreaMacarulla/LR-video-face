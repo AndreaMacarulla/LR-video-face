{
 "cells": [
  {
   "attachments": {},
   "cell_type": "markdown",
   "metadata": {},
   "source": [
    "# Pairing\n",
    "\n",
    "> Functions to do the test pairings and video pairings."
   ]
  },
  {
   "cell_type": "code",
   "execution_count": null,
   "metadata": {},
   "outputs": [],
   "source": [
    "#| default_exp pairing"
   ]
  },
  {
   "cell_type": "code",
   "execution_count": null,
   "metadata": {},
   "outputs": [],
   "source": [
    "#| hide\n",
    "from nbdev.showdoc import *"
   ]
  },
  {
   "attachments": {},
   "cell_type": "markdown",
   "metadata": {},
   "source": [
    "## Test pairs"
   ]
  },
  {
   "cell_type": "code",
   "execution_count": null,
   "metadata": {},
   "outputs": [],
   "source": [
    "# #| export\n",
    "\n",
    "# def get_valid_test_pairs(session) -> Tuple[EnfsiPair, FaceImage, FaceImage]:\n",
    "\n",
    "#     first_cropped_image = aliased(CroppedImage)\n",
    "#     second_cropped_image = aliased(CroppedImage)\n",
    "#     first_detector = aliased(Detector)\n",
    "#     second_detector = aliased(Detector)\n",
    "#     first_face_image = aliased(FaceImage)\n",
    "#     second_face_image = aliased(FaceImage)\n",
    "#     first_emb = aliased(EmbeddingModel)\n",
    "#     second_emb = aliased(EmbeddingModel)\n",
    "\n",
    "#     # Det&Emb\n",
    "#     det_id = session.query(Detector.detector_id).filter(Detector.name == self.detector).one()[0]\n",
    "#     emb_id = \\\n",
    "#     session.query(EmbeddingModel.embeddingModel_id).filter(EmbeddingModel.name == self.embeddingModel).one()[0]\n",
    "\n",
    "#     query_face_img_id = session.query(CroppedImage.image_id, FaceImage) \\\n",
    "#         .filter(CroppedImage.detector_id == det_id, CroppedImage.face_detected == True) \\\n",
    "#         .filter(FaceImage.croppedImage_id == CroppedImage.croppedImage_id) \\\n",
    "#         .filter(FaceImage.embeddingModel_id == emb_id).all()\n",
    "\n",
    "#     face_image_dict = defaultdict(FaceImage)\n",
    "#     for row in query_face_img_id:\n",
    "#         face_image_dict[row[0]] = row[1]\n",
    "\n",
    "#     query_pair_id = session.query(EnfsiPair).filter(EnfsiPair.second.has(EnfsiImage.year.in_(self.enfsi_years)))\n",
    "\n",
    "#     query_1 = query_pair_id \\\n",
    "#         .join(first_cropped_image, EnfsiPair.first_id == first_cropped_image.image_id) \\\n",
    "#         .filter(first_cropped_image.detector_id == det_id,\n",
    "#                 first_cropped_image.face_detected == True)\n",
    "\n",
    "#     query_2 = query_pair_id \\\n",
    "#         .join(second_cropped_image, EnfsiPair.second_id == second_cropped_image.image_id) \\\n",
    "#         .filter(second_cropped_image.detector_id == det_id,\n",
    "#                 second_cropped_image.face_detected == True)\n",
    "\n",
    "#     query = (query_1.intersect(query_2).all())\n",
    "\n",
    "#     valid_test_pairs = [(pair, face_image_dict[pair.first.image_id], face_image_dict[pair.second.image_id])\n",
    "#                         for pair in query]\n",
    "    \n",
    "#     return valid_test_pairs"
   ]
  },
  {
   "cell_type": "code",
   "execution_count": null,
   "metadata": {},
   "outputs": [],
   "source": [
    "#| export\n",
    "\n",
    "def get_test_pairs_per_category(session):\n",
    "        \n",
    "        valid_test_pairs = get_valid_test_pairs(session)\n",
    "        \n",
    "\n",
    "        test_categories = [\n",
    "            row[0].get_category(self.filters, self.face_image_filters, self.detector, self.embeddingModel)\n",
    "            for row in valid_test_pairs]\n",
    "\n",
    "        test_pairs_per_category = defaultdict(list)\n",
    "        # for face_pair, category in zip(valid_test_pairs, test_categories):\n",
    "        #    test_pairs_per_category[category].append(face_pair)\n",
    "\n",
    "        for row_enfsi_pair, category in zip(valid_test_pairs, test_categories):\n",
    "            test_pairs_per_category[category].append(row_enfsi_pair)\n",
    "        return test_pairs_per_category"
   ]
  },
  {
   "cell_type": "code",
   "execution_count": null,
   "metadata": {},
   "outputs": [],
   "source": [
    "#| hide\n",
    "import nbdev; nbdev.nbdev_export()"
   ]
  }
 ],
 "metadata": {
  "kernelspec": {
   "display_name": "lr-video",
   "language": "python",
   "name": "python3"
  }
 },
 "nbformat": 4,
 "nbformat_minor": 4
}
