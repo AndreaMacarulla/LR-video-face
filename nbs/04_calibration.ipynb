{
 "cells": [
  {
   "attachments": {},
   "cell_type": "markdown",
   "metadata": {},
   "source": [
    "# calibration\n",
    "\n",
    "> Funtions related to calibration of LR."
   ]
  },
  {
   "cell_type": "code",
   "execution_count": null,
   "metadata": {},
   "outputs": [],
   "source": [
    "#| default_exp calibration"
   ]
  },
  {
   "cell_type": "code",
   "execution_count": null,
   "metadata": {},
   "outputs": [],
   "source": [
    "#| hide\n",
    "from nbdev.showdoc import *"
   ]
  },
  {
   "cell_type": "code",
   "execution_count": null,
   "metadata": {},
   "outputs": [],
   "source": [
    "#| export\n",
    "\n",
    "def get_filtered_images(filters, \n",
    "                        face_image_filters,\n",
    "                        filter_values: tuple,\n",
    "                        detector,\n",
    "                        embeddingModel,\n",
    "                        calibration_db,\n",
    "                        session):\n",
    "\n",
    "\n",
    "    im_filter_values = filter_values[:len(filters)]\n",
    "    fi_filter_values = filter_values[len(filters):]\n",
    "    assert len(fi_filter_values) == len(face_image_filters)\n",
    "\n",
    "    query = session.query(FaceImage, Image.identity, Image.image_id)\n",
    "    join_query = query \\\n",
    "        .join(CroppedImage, CroppedImage.croppedImage_id == FaceImage.croppedImage_id) \\\n",
    "        .join(Image, Image.image_id == CroppedImage.image_id) \\\n",
    "        .join(Detector) \\\n",
    "        .join(EmbeddingModel)\n",
    "    filter_query = join_query \\\n",
    "        .filter(EmbeddingModel.name == embeddingModel,\n",
    "                Detector.name == detector) \\\n",
    "        .filter(Image.source.in_(calibration_db))\n",
    "    for cal_filter, value in zip(face_image_filters, fi_filter_values):\n",
    "        filter_query = filter_query.filter(FaceImage.__dict__[cal_filter] == value)\n",
    "    for cal_filter, value in zip(filters, im_filter_values):\n",
    "        filter_query = filter_query.filter(Image.__dict__[cal_filter] == value)\n",
    "    return filter_query.all()"
   ]
  },
  {
   "cell_type": "code",
   "execution_count": null,
   "metadata": {},
   "outputs": [],
   "source": [
    "#| export\n",
    "\n",
    "def get_calibration_pairs_per_category(self, categories, session):\n",
    "        cal_face_pairs = {}\n",
    "        emb_facevacs = (self.embeddingModel == 'FaceVACs')\n",
    "\n",
    "        for pair_category in categories:\n",
    "\n",
    "            first_image_category = self.get_filtered_images(filter_values=pair_category[0], session=session)\n",
    "            if pair_category[0] == pair_category[1]:\n",
    "                if emb_facevacs:\n",
    "                    all_calibration_pairs = get_calibration_facepairs_facevacs(\n",
    "                        first_list_of_face_images=first_image_category,\n",
    "                        second_list_of_face_images=first_image_category,\n",
    "                        number_of_pairs=self.n_calibration_pairs,\n",
    "                        session=session\n",
    "                    )\n",
    "                else:\n",
    "                    all_calibration_pairs = make_cal_face_pairs(first_list_of_face_images=first_image_category,\n",
    "                                                                number_of_pairs=self.n_calibration_pairs)\n",
    "\n",
    "            else:\n",
    "                second_image_category = self.get_filtered_images(filter_values=pair_category[1],\n",
    "                                                                 session=session)\n",
    "                if emb_facevacs:\n",
    "                    all_calibration_pairs = get_calibration_facepairs_facevacs(\n",
    "                        first_list_of_face_images=first_image_category,\n",
    "                        second_list_of_face_images=second_image_category,\n",
    "                        number_of_pairs=self.n_calibration_pairs,\n",
    "                        session=session\n",
    "                    )\n",
    "                else:\n",
    "                    all_calibration_pairs = make_cal_face_pairs(first_list_of_face_images=first_image_category,\n",
    "                                                                second_list_of_face_images=second_image_category,\n",
    "                                                                number_of_pairs=self.n_calibration_pairs)\n",
    "            cal_face_pairs[pair_category] = all_calibration_pairs\n",
    "        return cal_face_pairs"
   ]
  },
  {
   "cell_type": "code",
   "execution_count": null,
   "metadata": {},
   "outputs": [],
   "source": [
    "#| hide\n",
    "import nbdev; nbdev.nbdev_export()"
   ]
  }
 ],
 "metadata": {
  "kernelspec": {
   "display_name": "lr-video",
   "language": "python",
   "name": "python3"
  }
 },
 "nbformat": 4,
 "nbformat_minor": 4
}
