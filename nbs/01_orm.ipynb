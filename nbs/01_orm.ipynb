{
 "cells": [
  {
   "attachments": {},
   "cell_type": "markdown",
   "metadata": {},
   "source": [
    "# orm\n",
    "\n",
    "> Extra classes to use together with the SQL tables."
   ]
  },
  {
   "cell_type": "code",
   "execution_count": null,
   "metadata": {},
   "outputs": [],
   "source": [
    "#| default_exp orm"
   ]
  },
  {
   "cell_type": "code",
   "execution_count": null,
   "metadata": {},
   "outputs": [],
   "source": [
    "#| hide\n",
    "from nbdev.showdoc import *"
   ]
  },
  {
   "cell_type": "code",
   "execution_count": null,
   "metadata": {},
   "outputs": [],
   "source": [
    "#|exporti\n",
    "\n",
    "from typing import List\n",
    "\n",
    "from sql_face.tables import FaceImage"
   ]
  },
  {
   "cell_type": "code",
   "execution_count": null,
   "metadata": {},
   "outputs": [],
   "source": [
    "#|export\n",
    "\n",
    "class FacePair:\n",
    "    def __init__(self,\n",
    "    first:FaceImage,\n",
    "    second:FaceImage,\n",
    "    same_identity:bool\n",
    "    ):\n",
    "        self.first = first\n",
    "        self.second = second\n",
    "        self.same_identity = same_identity\n",
    "        self.norm_distance = compute_norm_distance()\n",
    "\n",
    "    def distance(self, metric):\n",
    "        img1_representation = np.asarray(self.first.embeddings)\n",
    "        img2_representation = np.asarray(self.second.embeddings)\n",
    "\n",
    "        if metric == 'cosine':\n",
    "            distance = dst.findCosineDistance(img1_representation, img2_representation)\n",
    "        elif metric == 'euclidean':\n",
    "            distance = dst.findEuclideanDistance(img1_representation, img2_representation)\n",
    "        elif metric == 'euclidean_l2':\n",
    "            distance = dst.findEuclideanDistance(dst.l2_normalize(img1_representation),\n",
    "                                                 dst.l2_normalize(img2_representation))\n",
    "        else:\n",
    "            raise ValueError(f\"Invalid distance_metric passed {self.metric}.\")\n",
    "\n",
    "        distance = np.float64(distance)\n",
    "        return distance\n",
    "\n",
    "    \n",
    "    def compute_norm_distance(self):\n",
    "\n",
    "        emb1 = np.asarray(self.first.embeddings)\n",
    "        emb2 = np.asarray(self.second.embeddings)\n",
    "        norm_emb_1 = emb1 / np.linalg.norm(emb1)\n",
    "        norm_emb_2 = emb2 / np.linalg.norm(emb2)\n",
    "\n",
    "        return np.linalg.norm(norm_emb_1 - norm_emb_2) / 2"
   ]
  },
  {
   "cell_type": "code",
   "execution_count": null,
   "metadata": {},
   "outputs": [],
   "source": [
    "#| export\n",
    "\n",
    "class ScorerModel:\n",
    "    def __init__(self,\n",
    "    embeddingModel:str,\n",
    "    metric:str\n",
    "    ):\n",
    "        self.embeddingModel=embeddingModel\n",
    "        self.metric=metric\n",
    "\n",
    "    def predict_proba(self, pairs: List[FacePair]):\n",
    "        distances = [pair.norm_distance for pair in pairs]\n",
    "        distances = np.reshape(np.asarray(distances), (-1, 1))\n",
    "        # norm_dist = (distances - np.min(distances)) / (np.max(distances) - np.min(distances))\n",
    "        p = np.concatenate((distances, 1 - distances), axis=1)\n",
    "\n",
    "        return p"
   ]
  },
  {
   "cell_type": "code",
   "execution_count": null,
   "metadata": {},
   "outputs": [],
   "source": [
    "#| hide\n",
    "import nbdev; nbdev.nbdev_export()"
   ]
  }
 ],
 "metadata": {
  "kernelspec": {
   "display_name": "lr-video",
   "language": "python",
   "name": "python3"
  }
 },
 "nbformat": 4,
 "nbformat_minor": 4
}
