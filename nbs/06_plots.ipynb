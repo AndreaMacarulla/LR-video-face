{
 "cells": [
  {
   "attachments": {},
   "cell_type": "markdown",
   "metadata": {},
   "source": [
    "# plots\n",
    "\n",
    "> Plot generators"
   ]
  },
  {
   "cell_type": "code",
   "execution_count": null,
   "metadata": {},
   "outputs": [],
   "source": [
    "#| default_exp plots"
   ]
  },
  {
   "cell_type": "code",
   "execution_count": null,
   "metadata": {},
   "outputs": [],
   "source": [
    "#| hide\n",
    "from nbdev.showdoc import *"
   ]
  },
  {
   "cell_type": "code",
   "execution_count": null,
   "metadata": {},
   "outputs": [],
   "source": [
    "#|exporti\n",
    "\n",
    "from typing import Dict, List, Optional\n",
    "from sklearn.metrics import roc_curve\n",
    "from lir import Xy_to_Xn\n",
    "\n",
    "import numpy as np \n",
    "from matplotlib import pyplot as plt \n"
   ]
  },
  {
   "cell_type": "code",
   "execution_count": null,
   "metadata": {},
   "outputs": [],
   "source": [
    "#| export\n",
    "\n",
    "def plot_lr_distributions(results:Dict, experiment_directory, save_plots:bool = True, show: Optional[bool] = False):\n",
    "    \"\"\"\n",
    "    Plots the 10log LRs generated for the two hypotheses by the fitted system.\n",
    "    \"\"\"\n",
    "    predicted_log_lrs = np.log10(results[\"lrs_predicted\"])\n",
    "    plt.figure(figsize=(10, 10), dpi=100)\n",
    "    points0, points1 = Xy_to_Xn(predicted_log_lrs, np.array(results['y_test']))\n",
    "    plt.hist(points0, bins=20, alpha=.25, density=True)\n",
    "    plt.hist(points1, bins=20, alpha=.25, density=True)\n",
    "    plt.xlabel(r'$log_{10}$ LR')\n",
    "    if save_plots:\n",
    "        savefig = os.path.join(experiment_directory, \"lr_distributions\")\n",
    "        plt.savefig(savefig, dpi=600)\n",
    "        plt.close()\n",
    "    if show:\n",
    "        plt.show()"
   ]
  },
  {
   "cell_type": "code",
   "execution_count": null,
   "metadata": {},
   "outputs": [],
   "source": [
    "#| export\n",
    "\n",
    "def plot_ROC_curve(results:Dict, experiment_directory, save_plots:bool = True, show: Optional[bool] = False):\n",
    "\n",
    "    norm_distances = np.asarray(results[\"test_norm_distances\"])\n",
    "    fpr, tpr, thresholds = roc_curve(results['y_test'], 1 - norm_distances)\n",
    "    plt.figure(figsize=(10, 10), dpi=100)\n",
    "    plt.plot(fpr, fpr, linestyle='--', label='No Skill')\n",
    "    plt.plot(fpr, tpr, color='r', label=r'ROC curve')\n",
    "    plt.xlabel('False positive rate (1 - specificity)')\n",
    "    plt.ylabel('True positive rate (sensitivity)')\n",
    "    plt.title('ROC curve')\n",
    "    plt.legend()\n",
    "    if save_plots:\n",
    "        savefig = os.path.join(experiment_directory, \"ROC_curve\")\n",
    "        plt.savefig(savefig, dpi=600)\n",
    "        plt.close()\n",
    "    if show:\n",
    "        plt.show()"
   ]
  },
  {
   "cell_type": "code",
   "execution_count": null,
   "metadata": {},
   "outputs": [],
   "source": [
    "#| export\n",
    "\n",
    "def plot_tippett(results:Dict, experiment_directory, save_plots:bool = True, show: Optional[bool] = False):\n",
    "        \n",
    "    \"\"\"\n",
    "    Plots the 10log LRs in a Tippett plot.\n",
    "    \"\"\"\n",
    "\n",
    "    predicted_log_lrs = np.log10(results[\"lrs_predicted\"])\n",
    "\n",
    "    xplot = np.linspace(\n",
    "        start=np.min(predicted_log_lrs),\n",
    "        stop=np.max(predicted_log_lrs),\n",
    "        num=100\n",
    "    )\n",
    "\n",
    "    lr_0, lr_1 = Xy_to_Xn(predicted_log_lrs, np.array(results[\"y_test\"]))\n",
    "\n",
    "    perc0 = (sum(i > xplot for i in lr_0) / len(lr_0)) * 100\n",
    "    perc1 = (sum(i > xplot for i in lr_1) / len(lr_1)) * 100\n",
    "\n",
    "    plt.figure(figsize=(10, 10), dpi=600)\n",
    "    plt.plot(xplot, perc1, color='b', label=r'LRs given $\\mathregular{H_1}$')\n",
    "    plt.plot(xplot, perc0, color='r', label=r'LRs given $\\mathregular{H_2}$')\n",
    "    plt.axvline(x=0, color='k', linestyle='--')\n",
    "    plt.xlabel('Log likelihood ratio')\n",
    "    plt.ylabel('Cumulative proportion')\n",
    "    plt.title('Tippett plot')\n",
    "    plt.legend()\n",
    "\n",
    "    if save_plots:\n",
    "        savefig = os.path.join(experiment_directory, \"tippet_plot\")\n",
    "        plt.savefig(savefig, dpi=600)\n",
    "        plt.close()\n",
    "    if show:\n",
    "        plt.show()"
   ]
  },
  {
   "cell_type": "code",
   "execution_count": null,
   "metadata": {},
   "outputs": [],
   "source": [
    "#| export \n",
    "\n",
    "def plot_cllr(results:Dict, experiment_directory, enfsi_years: List[int], cllr_expert_per_year:Dict, embeddingModel, save_plots:bool = True, show: Optional[bool] = False):\n",
    "    \n",
    "    \"\"\"\n",
    "    Plots cllr value for ENFSI tests. It computes both cllr of automated systems with the cllrs from experts.\n",
    "    If there is no ENFSI data, this graph does not show.\n",
    "\n",
    "    # todo: save table with cllr results.\n",
    "    \"\"\"\n",
    "\n",
    "    cllr_auto_df = pd.DataFrame(columns=['Year', 'Expert', 'Cllr'])\n",
    "    cllr_exp_df = pd.DataFrame(columns=['Year', 'Expert', 'Cllr'])\n",
    "    years = enfsi_years\n",
    "\n",
    "    for year in years:\n",
    "        for cllr_exp in cllr_expert_per_year[year]:\n",
    "            cllr_exp_df = cllr_exp_df.append({'Year': str(year), 'LR Estimator': \"Participant\", 'Cllr': cllr_exp},\n",
    "                                                ignore_index=True)\n",
    "\n",
    "        cllr_auto = cllr_auto_per_year[year]\n",
    "        cllr_auto_df = cllr_auto_df.append(\n",
    "            {'Year': str(year), 'LR Estimator': embeddingModel, 'Cllr': cllr_auto},\n",
    "            ignore_index=True)\n",
    "\n",
    "    cllr_df = cllr_exp_df.append(cllr_auto_df)\n",
    "    sns.set_style(\"whitegrid\")\n",
    "    sc_plot = sns.catplot(data=cllr_df, x=\"Year\", y=\"Cllr\", hue=\"LR Estimator\",\n",
    "                            palette=sns.color_palette(['orange', 'blue']))\n",
    "\n",
    "    # sc_plot.set_title(\"Cllrs for Automated system and ENFSI participants\")\n",
    "    # sc_plot.set(xticks=[map(str, years)])\n",
    "\n",
    "    if save_plots:\n",
    "        savefig = os.path.join(experiment_directory, \"cllr_experts\")\n",
    "        plt.savefig(savefig, dpi=600)\n",
    "        plt.close()\n",
    "    if show:\n",
    "        plt.show()"
   ]
  },
  {
   "cell_type": "code",
   "execution_count": null,
   "metadata": {},
   "outputs": [],
   "source": [
    "#|export\n",
    "\n",
    "def plot_ece(results:Dict, experiment_directory, save_plots:bool = True) -> object:\n",
    "        savefig = os.path.join(experiment_directory, \"ECE_plot\")\n",
    "        plot(np.asarray(results[\"lrs_predicted\"]), np.asarray(results[\"y_test\"]), path=savefig, kw_figure={'figsize': (10, 10), 'dpi': 600})"
   ]
  },
  {
   "cell_type": "code",
   "execution_count": null,
   "metadata": {},
   "outputs": [],
   "source": [
    "#| hide\n",
    "import nbdev; nbdev.nbdev_export()"
   ]
  }
 ],
 "metadata": {
  "kernelspec": {
   "display_name": "lr-video",
   "language": "python",
   "name": "python3"
  }
 },
 "nbformat": 4,
 "nbformat_minor": 4
}
